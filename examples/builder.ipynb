{
 "cells": [
  {
   "cell_type": "code",
   "execution_count": 1,
   "metadata": {},
   "outputs": [],
   "source": [
    "import polars as pl\n",
    "import sys\n",
    "sys.path.append('../src')\n",
    "from eda.eda_builder import TransformationBuilder, ImputationStartegy, ScalingStrategy"
   ]
  },
  {
   "cell_type": "code",
   "execution_count": 2,
   "metadata": {},
   "outputs": [
    {
     "data": {
      "text/html": [
       "<div><style>\n",
       ".dataframe > thead > tr > th,\n",
       ".dataframe > tbody > tr > td {\n",
       "  text-align: right;\n",
       "}\n",
       "</style>\n",
       "<small>shape: (5, 18)</small><table border=\"1\" class=\"dataframe\"><thead><tr><th>Daily Time Spent on Site</th><th>Age</th><th>Area Income</th><th>Daily Internet Usage</th><th>Ad Topic Line</th><th>City</th><th>Male</th><th>Country</th><th>Timestamp</th><th>Clicked on Ad</th><th>One_Hot_Test</th><th>Age Band</th><th>Daily Internet Usage Band</th><th>Area Income Band</th><th>Test_Constant</th><th>Test_Str_Constant</th><th>Test_BadColumn</th><th>Test_Binary</th></tr><tr><td>f64</td><td>i64</td><td>f64</td><td>f64</td><td>str</td><td>str</td><td>i64</td><td>str</td><td>str</td><td>i64</td><td>str</td><td>i64</td><td>f64</td><td>f64</td><td>i32</td><td>str</td><td>i32</td><td>str</td></tr></thead><tbody><tr><td>68.95</td><td>35</td><td>61833.9</td><td>256.09</td><td>&quot;Cloned 5thgene…</td><td>&quot;Wrightburgh&quot;</td><td>0</td><td>&quot;Tunisia&quot;</td><td>&quot;3/27/2016 0:53…</td><td>0</td><td>&quot;A&quot;</td><td>30</td><td>12.0</td><td>12.0</td><td>1</td><td>&quot;SSS&quot;</td><td>0</td><td>&quot;A&quot;</td></tr><tr><td>80.23</td><td>31</td><td>68441.85</td><td>193.77</td><td>&quot;Monitored nati…</td><td>&quot;West Jodi&quot;</td><td>1</td><td>&quot;Nauru&quot;</td><td>&quot;4/4/2016 1:39&quot;</td><td>0</td><td>&quot;B&quot;</td><td>30</td><td>9.0</td><td>13.0</td><td>1</td><td>&quot;SSS&quot;</td><td>null</td><td>&quot;B&quot;</td></tr><tr><td>69.47</td><td>26</td><td>59785.94</td><td>236.5</td><td>&quot;Organic bottom…</td><td>&quot;Davidton&quot;</td><td>0</td><td>&quot;San Marino&quot;</td><td>&quot;3/13/2016 20:3…</td><td>0</td><td>&quot;A&quot;</td><td>20</td><td>11.0</td><td>11.0</td><td>1</td><td>&quot;SSS&quot;</td><td>0</td><td>&quot;A&quot;</td></tr><tr><td>74.15</td><td>29</td><td>54806.18</td><td>245.89</td><td>&quot;Triple-buffere…</td><td>&quot;West Terrifurt…</td><td>1</td><td>&quot;Italy&quot;</td><td>&quot;1/10/2016 2:31…</td><td>0</td><td>&quot;B&quot;</td><td>20</td><td>12.0</td><td>10.0</td><td>1</td><td>&quot;SSS&quot;</td><td>null</td><td>&quot;B&quot;</td></tr><tr><td>68.37</td><td>35</td><td>73889.99</td><td>225.58</td><td>&quot;Robust logisti…</td><td>&quot;South Manuel&quot;</td><td>0</td><td>&quot;Iceland&quot;</td><td>&quot;6/3/2016 3:36&quot;</td><td>0</td><td>&quot;A&quot;</td><td>30</td><td>11.0</td><td>14.0</td><td>1</td><td>&quot;SSS&quot;</td><td>0</td><td>&quot;A&quot;</td></tr></tbody></table></div>"
      ],
      "text/plain": [
       "shape: (5, 18)\n",
       "┌────────────┬─────┬───────────┬────────────┬───┬────────────┬────────────┬────────────┬───────────┐\n",
       "│ Daily Time ┆ Age ┆ Area      ┆ Daily      ┆ … ┆ Test_Const ┆ Test_Str_C ┆ Test_BadCo ┆ Test_Bina │\n",
       "│ Spent on   ┆ --- ┆ Income    ┆ Internet   ┆   ┆ ant        ┆ onstant    ┆ lumn       ┆ ry        │\n",
       "│ Site       ┆ i64 ┆ ---       ┆ Usage      ┆   ┆ ---        ┆ ---        ┆ ---        ┆ ---       │\n",
       "│ ---        ┆     ┆ f64       ┆ ---        ┆   ┆ i32        ┆ str        ┆ i32        ┆ str       │\n",
       "│ f64        ┆     ┆           ┆ f64        ┆   ┆            ┆            ┆            ┆           │\n",
       "╞════════════╪═════╪═══════════╪════════════╪═══╪════════════╪════════════╪════════════╪═══════════╡\n",
       "│ 68.95      ┆ 35  ┆ 61833.9   ┆ 256.09     ┆ … ┆ 1          ┆ SSS        ┆ 0          ┆ A         │\n",
       "│ 80.23      ┆ 31  ┆ 68441.85  ┆ 193.77     ┆ … ┆ 1          ┆ SSS        ┆ null       ┆ B         │\n",
       "│ 69.47      ┆ 26  ┆ 59785.94  ┆ 236.5      ┆ … ┆ 1          ┆ SSS        ┆ 0          ┆ A         │\n",
       "│ 74.15      ┆ 29  ┆ 54806.18  ┆ 245.89     ┆ … ┆ 1          ┆ SSS        ┆ null       ┆ B         │\n",
       "│ 68.37      ┆ 35  ┆ 73889.99  ┆ 225.58     ┆ … ┆ 1          ┆ SSS        ┆ 0          ┆ A         │\n",
       "└────────────┴─────┴───────────┴────────────┴───┴────────────┴────────────┴────────────┴───────────┘"
      ]
     },
     "execution_count": 2,
     "metadata": {},
     "output_type": "execute_result"
    }
   ],
   "source": [
    "df = pl.read_csv(\"../data/advertising.csv\").with_columns([\n",
    "    ((pl.col(\"Age\") // 10) * 10).alias(\"Age Band\"),\n",
    "    (pl.col(\"Daily Internet Usage\") // 20).alias(\"Daily Internet Usage Band\"),\n",
    "    (pl.col(\"Area Income\") // 5000).alias(\"Area Income Band\"),\n",
    "    pl.lit(1).alias(\"Test_Constant\"),\n",
    "    pl.lit(\"SSS\").alias(\"Test_Str_Constant\"),\n",
    "    pl.when(pl.col(\"Male\") == 0).then(0).otherwise(None).alias(\"Test_BadColumn\"),\n",
    "    pl.when(pl.col(\"Male\") == 0).then(\"A\").otherwise(\"B\").alias(\"Test_Binary\"),\n",
    "])\n",
    "target = \"Clicked on Ad\"\n",
    "df.head() "
   ]
  },
  {
   "cell_type": "code",
   "execution_count": 3,
   "metadata": {},
   "outputs": [],
   "source": [
    "builder = TransformationBuilder(target=\"Clicked on Ad\")\n",
    "builder = builder.set_var_removal(threshold=0.5)\\\n",
    "    .set_const_removal()\\\n",
    "    .set_binary_encoding()\\\n",
    "    .set_impute(cols=[\"Daily Internet Usage\", \"Daily Internet Usage Band\", \"Area Income Band\"])\\\n",
    "    .set_impute(cols=[\"Area Income\"], strategy=ImputationStartegy.MEAN)\\\n",
    "    .set_scaling(cols=[\"Area Income\", \"Daily Internet Usage\"])\\\n",
    "    .set_one_hot_encoding(cols=[\"One_Hot_Test\"])\\\n",
    "    .set_ordinal_auto_encoding(cols=[\"City\", \"Country\"])\\\n",
    "    .set_col_removal(cols=[\"Ad Topic Line\", \"Timestamp\"])\\\n",
    "    "
   ]
  },
  {
   "cell_type": "code",
   "execution_count": 4,
   "metadata": {},
   "outputs": [
    {
     "name": "stderr",
     "output_type": "stream",
     "text": [
      "INFO:eda.eda_builder:Starting to build. Total steps: 9.\n",
      "INFO:eda.eda_builder:|1/9|: Step: var_removal\n",
      "INFO:eda.eda_prescreen:The following columns are dropped because they have lower than 0.5 variance. ['Male', 'Test_Constant', 'Test_BadColumn'].\n",
      "Removed a total of 3 columns.\n",
      "INFO:eda.eda_builder:|2/9|: Step: constant_removal\n",
      "INFO:eda.eda_prescreen:The following columns are dropped because they are constants. ['Test_Str_Constant'].\n",
      "Removed a total of 1 columns.\n",
      "INFO:eda.eda_builder:|3/9|: Step: binary_encode\n",
      "INFO:eda.eda_transformations:Transforming Clicked on Ad into a binary column with [0, 1] ...\n",
      "INFO:eda.eda_transformations:Transforming Test_Binary into a binary column with [0, 1] ...\n",
      "INFO:eda.eda_builder:|4/9|: Step: impute\n",
      "INFO:eda.eda_builder:|5/9|: Step: impute\n",
      "INFO:eda.eda_builder:|6/9|: Step: scale\n",
      "INFO:eda.eda_builder:|7/9|: Step: one_hot_encode\n",
      "INFO:eda.eda_builder:|8/9|: Step: ordinal_auto_encode\n",
      "INFO:eda.eda_builder:|9/9|: Step: remove_if_exists\n",
      "INFO:eda.eda_prescreen:The following columns are dropped. ['Ad Topic Line', 'Timestamp'].\n",
      "Removed a total of 2 columns.\n",
      "INFO:eda.eda_builder:Build success. A blueprint has been built and can be viewed by calling .blueprint(), and can be saved as a json by calling .write()\n"
     ]
    },
    {
     "data": {
      "text/html": [
       "<div><style>\n",
       ".dataframe > thead > tr > th,\n",
       ".dataframe > tbody > tr > td {\n",
       "  text-align: right;\n",
       "}\n",
       "</style>\n",
       "<small>shape: (1_000, 14)</small><table border=\"1\" class=\"dataframe\"><thead><tr><th>Daily Time Spent on Site</th><th>Age</th><th>Area Income</th><th>Daily Internet Usage</th><th>City</th><th>Country</th><th>Clicked on Ad</th><th>One_Hot_Test_A</th><th>One_Hot_Test_B</th><th>One_Hot_Test_C</th><th>Age Band</th><th>Daily Internet Usage Band</th><th>Area Income Band</th><th>Test_Binary</th></tr><tr><td>f64</td><td>i64</td><td>f64</td><td>f64</td><td>u32</td><td>u32</td><td>u8</td><td>u8</td><td>u8</td><td>u8</td><td>i64</td><td>f64</td><td>f64</td><td>u8</td></tr></thead><tbody><tr><td>68.95</td><td>35</td><td>0.511893</td><td>1.74127</td><td>961</td><td>215</td><td>0</td><td>1</td><td>0</td><td>0</td><td>30</td><td>12.0</td><td>12.0</td><td>0</td></tr><tr><td>80.23</td><td>31</td><td>1.005471</td><td>0.313948</td><td>903</td><td>147</td><td>0</td><td>0</td><td>1</td><td>0</td><td>30</td><td>9.0</td><td>13.0</td><td>1</td></tr><tr><td>69.47</td><td>26</td><td>0.358921</td><td>1.292598</td><td>111</td><td>184</td><td>0</td><td>1</td><td>0</td><td>0</td><td>20</td><td>11.0</td><td>11.0</td><td>0</td></tr><tr><td>74.15</td><td>29</td><td>-0.01304</td><td>1.507658</td><td>939</td><td>103</td><td>0</td><td>0</td><td>1</td><td>0</td><td>20</td><td>12.0</td><td>10.0</td><td>1</td></tr><tr><td>68.37</td><td>35</td><td>1.412418</td><td>1.042496</td><td>805</td><td>96</td><td>0</td><td>1</td><td>0</td><td>0</td><td>30</td><td>11.0</td><td>14.0</td><td>0</td></tr><tr><td>59.99</td><td>23</td><td>0.3571</td><td>1.069064</td><td>282</td><td>158</td><td>0</td><td>0</td><td>1</td><td>0</td><td>20</td><td>11.0</td><td>11.0</td><td>1</td></tr><tr><td>88.91</td><td>33</td><td>-1.0869e-15</td><td>0.648105</td><td>46</td><td>145</td><td>0</td><td>1</td><td>0</td><td>0</td><td>30</td><td>10.0</td><td>11.0</td><td>0</td></tr><tr><td>66.0</td><td>48</td><td>-2.269777</td><td>-1.106273</td><td>671</td><td>12</td><td>1</td><td>1</td><td>0</td><td>0</td><td>40</td><td>6.0</td><td>4.0</td><td>1</td></tr><tr><td>74.53</td><td>30</td><td>1.036854</td><td>0.94928</td><td>884</td><td>82</td><td>0</td><td>1</td><td>0</td><td>0</td><td>30</td><td>11.0</td><td>13.0</td><td>1</td></tr><tr><td>69.88</td><td>20</td><td>0.049415</td><td>0.086062</td><td>712</td><td>78</td><td>0</td><td>1</td><td>0</td><td>0</td><td>20</td><td>9.0</td><td>11.0</td><td>1</td></tr><tr><td>47.64</td><td>49</td><td>-0.698264</td><td>-1.32935</td><td>878</td><td>171</td><td>1</td><td>0</td><td>0</td><td>1</td><td>40</td><td>6.0</td><td>9.0</td><td>0</td></tr><tr><td>83.07</td><td>37</td><td>-1.0869e-15</td><td>1.163653</td><td>180</td><td>34</td><td>0</td><td>1</td><td>0</td><td>0</td><td>30</td><td>11.0</td><td>11.0</td><td>1</td></tr><tr><td>&hellip;</td><td>&hellip;</td><td>&hellip;</td><td>&hellip;</td><td>&hellip;</td><td>&hellip;</td><td>&hellip;</td><td>&hellip;</td><td>&hellip;</td><td>&hellip;</td><td>&hellip;</td><td>&hellip;</td><td>&hellip;</td><td>&hellip;</td></tr><tr><td>89.71</td><td>48</td><td>-0.259891</td><td>0.557408</td><td>758</td><td>16</td><td>0</td><td>1</td><td>0</td><td>0</td><td>40</td><td>10.0</td><td>10.0</td><td>1</td></tr><tr><td>70.96</td><td>31</td><td>0.015469</td><td>1.74837</td><td>787</td><td>181</td><td>0</td><td>0</td><td>1</td><td>0</td><td>30</td><td>12.0</td><td>11.0</td><td>0</td></tr><tr><td>35.79</td><td>44</td><td>-1.581112</td><td>-0.330774</td><td>580</td><td>213</td><td>1</td><td>1</td><td>0</td><td>0</td><td>40</td><td>8.0</td><td>6.0</td><td>1</td></tr><tr><td>38.96</td><td>38</td><td>-1.380621</td><td>-0.902207</td><td>444</td><td>46</td><td>1</td><td>1</td><td>0</td><td>0</td><td>30</td><td>7.0</td><td>7.0</td><td>1</td></tr><tr><td>69.17</td><td>40</td><td>0.837555</td><td>-1.292705</td><td>520</td><td>141</td><td>1</td><td>0</td><td>1</td><td>0</td><td>40</td><td>6.0</td><td>13.0</td><td>0</td></tr><tr><td>64.2</td><td>27</td><td>0.838089</td><td>1.089447</td><td>191</td><td>101</td><td>0</td><td>1</td><td>0</td><td>0</td><td>20</td><td>11.0</td><td>13.0</td><td>1</td></tr><tr><td>43.7</td><td>28</td><td>0.608478</td><td>-0.16152</td><td>547</td><td>135</td><td>1</td><td>1</td><td>0</td><td>0</td><td>20</td><td>8.0</td><td>12.0</td><td>0</td></tr><tr><td>72.97</td><td>30</td><td>1.225277</td><td>0.653143</td><td>126</td><td>116</td><td>1</td><td>1</td><td>0</td><td>0</td><td>30</td><td>10.0</td><td>14.0</td><td>1</td></tr><tr><td>51.3</td><td>45</td><td>0.956197</td><td>-1.045351</td><td>488</td><td>26</td><td>1</td><td>0</td><td>1</td><td>0</td><td>40</td><td>6.0</td><td>13.0</td><td>1</td></tr><tr><td>51.63</td><td>51</td><td>-0.938541</td><td>-1.36714</td><td>798</td><td>140</td><td>1</td><td>0</td><td>0</td><td>1</td><td>50</td><td>6.0</td><td>8.0</td><td>1</td></tr><tr><td>55.55</td><td>19</td><td>-0.975509</td><td>0.180652</td><td>935</td><td>85</td><td>0</td><td>1</td><td>0</td><td>0</td><td>10</td><td>9.0</td><td>8.0</td><td>0</td></tr><tr><td>45.01</td><td>26</td><td>-1.875205</td><td>-0.039218</td><td>744</td><td>28</td><td>1</td><td>0</td><td>1</td><td>0</td><td>20</td><td>8.0</td><td>5.0</td><td>0</td></tr></tbody></table></div>"
      ],
      "text/plain": [
       "shape: (1_000, 14)\n",
       "┌────────────┬─────┬───────────┬────────────┬───┬──────────┬────────────┬────────────┬─────────────┐\n",
       "│ Daily Time ┆ Age ┆ Area      ┆ Daily      ┆ … ┆ Age Band ┆ Daily      ┆ Area       ┆ Test_Binary │\n",
       "│ Spent on   ┆ --- ┆ Income    ┆ Internet   ┆   ┆ ---      ┆ Internet   ┆ Income     ┆ ---         │\n",
       "│ Site       ┆ i64 ┆ ---       ┆ Usage      ┆   ┆ i64      ┆ Usage Band ┆ Band       ┆ u8          │\n",
       "│ ---        ┆     ┆ f64       ┆ ---        ┆   ┆          ┆ ---        ┆ ---        ┆             │\n",
       "│ f64        ┆     ┆           ┆ f64        ┆   ┆          ┆ f64        ┆ f64        ┆             │\n",
       "╞════════════╪═════╪═══════════╪════════════╪═══╪══════════╪════════════╪════════════╪═════════════╡\n",
       "│ 68.95      ┆ 35  ┆ 0.511893  ┆ 1.74127    ┆ … ┆ 30       ┆ 12.0       ┆ 12.0       ┆ 0           │\n",
       "│ 80.23      ┆ 31  ┆ 1.005471  ┆ 0.313948   ┆ … ┆ 30       ┆ 9.0        ┆ 13.0       ┆ 1           │\n",
       "│ 69.47      ┆ 26  ┆ 0.358921  ┆ 1.292598   ┆ … ┆ 20       ┆ 11.0       ┆ 11.0       ┆ 0           │\n",
       "│ 74.15      ┆ 29  ┆ -0.01304  ┆ 1.507658   ┆ … ┆ 20       ┆ 12.0       ┆ 10.0       ┆ 1           │\n",
       "│ …          ┆ …   ┆ …         ┆ …          ┆ … ┆ …        ┆ …          ┆ …          ┆ …           │\n",
       "│ 51.3       ┆ 45  ┆ 0.956197  ┆ -1.045351  ┆ … ┆ 40       ┆ 6.0        ┆ 13.0       ┆ 1           │\n",
       "│ 51.63      ┆ 51  ┆ -0.938541 ┆ -1.36714   ┆ … ┆ 50       ┆ 6.0        ┆ 8.0        ┆ 1           │\n",
       "│ 55.55      ┆ 19  ┆ -0.975509 ┆ 0.180652   ┆ … ┆ 10       ┆ 9.0        ┆ 8.0        ┆ 0           │\n",
       "│ 45.01      ┆ 26  ┆ -1.875205 ┆ -0.039218  ┆ … ┆ 20       ┆ 8.0        ┆ 5.0        ┆ 0           │\n",
       "└────────────┴─────┴───────────┴────────────┴───┴──────────┴────────────┴────────────┴─────────────┘"
      ]
     },
     "execution_count": 4,
     "metadata": {},
     "output_type": "execute_result"
    }
   ],
   "source": [
    "builder.build(df)"
   ]
  },
  {
   "cell_type": "code",
   "execution_count": 5,
   "metadata": {},
   "outputs": [
    {
     "name": "stderr",
     "output_type": "stream",
     "text": [
      "INFO:eda.eda_builder:No name is specified, using project name as default.\n"
     ]
    }
   ],
   "source": [
    "builder.write()"
   ]
  },
  {
   "cell_type": "code",
   "execution_count": 6,
   "metadata": {},
   "outputs": [
    {
     "data": {
      "text/plain": [
       "\"--- Step 1: ---\\nFunction: var_removal | Module: eda.eda_prescreen | Arguments:\\n{'threshold': 0.5, 'target': 'Clicked on Ad'}\\nBrief description: Remove columns with less than 0.5 variance. (Not recommended.)\\n--- Step 2: ---\\nFunction: constant_removal | Module: eda.eda_prescreen | Arguments:\\n{'include_null': True}\\nBrief description: Remove columns that are constants.\\n--- Step 3: ---\\nFunction: binary_encode | Module: None | Arguments:\\nNone\\nBrief description: \\nThis step is a transformation step.\\n--- Step 4: ---\\nFunction: impute | Module: None | Arguments:\\nNone\\nBrief description: \\nThis step is a transformation step.\\n--- Step 5: ---\\nFunction: impute | Module: None | Arguments:\\nNone\\nBrief description: \\nThis step is a transformation step.\\n--- Step 6: ---\\nFunction: scale | Module: None | Arguments:\\nNone\\nBrief description: \\nThis step is a transformation step.\\n--- Step 7: ---\\nFunction: one_hot_encode | Module: None | Arguments:\\nNone\\nBrief description: \\nThis step is a transformation step.\\n--- Step 8: ---\\nFunction: ordinal_auto_encode | Module: None | Arguments:\\nNone\\nBrief description: \\nThis step is a transformation step.\\n--- Step 9: ---\\nFunction: remove_if_exists | Module: eda.eda_prescreen | Arguments:\\n{'to_drop': ['Ad Topic Line', 'Timestamp']}\\nBrief description: Remove given if they exist in dataframe.\\n\""
      ]
     },
     "execution_count": 6,
     "metadata": {},
     "output_type": "execute_result"
    }
   ],
   "source": [
    "builder.blueprint()"
   ]
  },
  {
   "cell_type": "code",
   "execution_count": 7,
   "metadata": {},
   "outputs": [
    {
     "name": "stdout",
     "output_type": "stream",
     "text": [
      "--- Step 1: ---\n",
      "Function: var_removal | Module: eda.eda_prescreen | Arguments:\n",
      "{'threshold': 0.5, 'target': 'Clicked on Ad'}\n",
      "Brief description: Remove columns with less than 0.5 variance. (Not recommended.)\n",
      "--- Step 2: ---\n",
      "Function: constant_removal | Module: eda.eda_prescreen | Arguments:\n",
      "{'include_null': True}\n",
      "Brief description: Remove columns that are constants.\n",
      "--- Step 3: ---\n",
      "Function: binary_encode | Module: None | Arguments:\n",
      "None\n",
      "Brief description: \n",
      "This step is a transformation step.\n",
      "--- Step 4: ---\n",
      "Function: impute | Module: None | Arguments:\n",
      "None\n",
      "Brief description: \n",
      "This step is a transformation step.\n",
      "--- Step 5: ---\n",
      "Function: impute | Module: None | Arguments:\n",
      "None\n",
      "Brief description: \n",
      "This step is a transformation step.\n",
      "--- Step 6: ---\n",
      "Function: scale | Module: None | Arguments:\n",
      "None\n",
      "Brief description: \n",
      "This step is a transformation step.\n",
      "--- Step 7: ---\n",
      "Function: one_hot_encode | Module: None | Arguments:\n",
      "None\n",
      "Brief description: \n",
      "This step is a transformation step.\n",
      "--- Step 8: ---\n",
      "Function: ordinal_auto_encode | Module: None | Arguments:\n",
      "None\n",
      "Brief description: \n",
      "This step is a transformation step.\n",
      "--- Step 9: ---\n",
      "Function: remove_if_exists | Module: eda.eda_prescreen | Arguments:\n",
      "{'to_drop': ['Ad Topic Line', 'Timestamp']}\n",
      "Brief description: Remove given if they exist in dataframe.\n",
      "\n"
     ]
    }
   ],
   "source": [
    "print(builder.blueprint())"
   ]
  },
  {
   "cell_type": "code",
   "execution_count": null,
   "metadata": {},
   "outputs": [],
   "source": []
  }
 ],
 "metadata": {
  "kernelspec": {
   "display_name": "my_py11",
   "language": "python",
   "name": "python3"
  },
  "language_info": {
   "codemirror_mode": {
    "name": "ipython",
    "version": 3
   },
   "file_extension": ".py",
   "mimetype": "text/x-python",
   "name": "python",
   "nbconvert_exporter": "python",
   "pygments_lexer": "ipython3",
   "version": "3.11.3"
  },
  "orig_nbformat": 4
 },
 "nbformat": 4,
 "nbformat_minor": 2
}
