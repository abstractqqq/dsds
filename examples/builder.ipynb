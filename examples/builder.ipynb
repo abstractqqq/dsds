{
 "cells": [
  {
   "cell_type": "code",
   "execution_count": 1,
   "metadata": {},
   "outputs": [],
   "source": [
    "import polars as pl\n",
    "import sys\n",
    "sys.path.append('../src')\n",
    "from dsds.builder import PipeBuilder, ImputationStartegy, ScalingStrategy\n",
    "from dsds.transform import EncoderRecord, EncodingStrategy"
   ]
  },
  {
   "cell_type": "code",
   "execution_count": 2,
   "metadata": {},
   "outputs": [
    {
     "data": {
      "text/html": [
       "<div><style>\n",
       ".dataframe > thead > tr > th,\n",
       ".dataframe > tbody > tr > td {\n",
       "  text-align: right;\n",
       "}\n",
       "</style>\n",
       "<small>shape: (5, 18)</small><table border=\"1\" class=\"dataframe\"><thead><tr><th>Daily Time Spent on Site</th><th>Age</th><th>Area Income</th><th>Daily Internet Usage</th><th>Ad Topic Line</th><th>City</th><th>Male</th><th>Country</th><th>Timestamp</th><th>Clicked on Ad</th><th>One_Hot_Test</th><th>Age Band</th><th>Daily Internet Usage Band</th><th>Area Income Band</th><th>Test_Constant</th><th>Test_Str_Constant</th><th>Test_BadColumn</th><th>Test_Binary</th></tr><tr><td>f64</td><td>i64</td><td>f64</td><td>f64</td><td>str</td><td>str</td><td>i64</td><td>str</td><td>str</td><td>i64</td><td>str</td><td>i64</td><td>f64</td><td>f64</td><td>i32</td><td>str</td><td>i32</td><td>str</td></tr></thead><tbody><tr><td>68.95</td><td>35</td><td>61833.9</td><td>256.09</td><td>&quot;Cloned 5thgene…</td><td>&quot;Wrightburgh&quot;</td><td>0</td><td>&quot;Tunisia&quot;</td><td>&quot;3/27/2016 0:53…</td><td>0</td><td>&quot;A&quot;</td><td>30</td><td>12.0</td><td>12.0</td><td>1</td><td>&quot;SSS&quot;</td><td>0</td><td>&quot;A&quot;</td></tr><tr><td>80.23</td><td>31</td><td>68441.85</td><td>193.77</td><td>&quot;Monitored nati…</td><td>&quot;West Jodi&quot;</td><td>1</td><td>&quot;Nauru&quot;</td><td>&quot;4/4/2016 1:39&quot;</td><td>0</td><td>&quot;B&quot;</td><td>30</td><td>9.0</td><td>13.0</td><td>1</td><td>&quot;SSS&quot;</td><td>null</td><td>&quot;B&quot;</td></tr><tr><td>69.47</td><td>26</td><td>59785.94</td><td>236.5</td><td>&quot;Organic bottom…</td><td>&quot;Davidton&quot;</td><td>0</td><td>&quot;San Marino&quot;</td><td>&quot;3/13/2016 20:3…</td><td>0</td><td>&quot;A&quot;</td><td>20</td><td>11.0</td><td>11.0</td><td>1</td><td>&quot;SSS&quot;</td><td>0</td><td>&quot;A&quot;</td></tr><tr><td>74.15</td><td>29</td><td>54806.18</td><td>245.89</td><td>&quot;Triple-buffere…</td><td>&quot;West Terrifurt…</td><td>1</td><td>&quot;Italy&quot;</td><td>&quot;1/10/2016 2:31…</td><td>0</td><td>&quot;B&quot;</td><td>20</td><td>12.0</td><td>10.0</td><td>1</td><td>&quot;SSS&quot;</td><td>null</td><td>&quot;B&quot;</td></tr><tr><td>68.37</td><td>35</td><td>73889.99</td><td>225.58</td><td>&quot;Robust logisti…</td><td>&quot;South Manuel&quot;</td><td>0</td><td>&quot;Iceland&quot;</td><td>&quot;6/3/2016 3:36&quot;</td><td>0</td><td>&quot;A&quot;</td><td>30</td><td>11.0</td><td>14.0</td><td>1</td><td>&quot;SSS&quot;</td><td>0</td><td>&quot;A&quot;</td></tr></tbody></table></div>"
      ],
      "text/plain": [
       "shape: (5, 18)\n",
       "┌────────────┬─────┬───────────┬────────────┬───┬────────────┬────────────┬────────────┬───────────┐\n",
       "│ Daily Time ┆ Age ┆ Area      ┆ Daily      ┆ … ┆ Test_Const ┆ Test_Str_C ┆ Test_BadCo ┆ Test_Bina │\n",
       "│ Spent on   ┆ --- ┆ Income    ┆ Internet   ┆   ┆ ant        ┆ onstant    ┆ lumn       ┆ ry        │\n",
       "│ Site       ┆ i64 ┆ ---       ┆ Usage      ┆   ┆ ---        ┆ ---        ┆ ---        ┆ ---       │\n",
       "│ ---        ┆     ┆ f64       ┆ ---        ┆   ┆ i32        ┆ str        ┆ i32        ┆ str       │\n",
       "│ f64        ┆     ┆           ┆ f64        ┆   ┆            ┆            ┆            ┆           │\n",
       "╞════════════╪═════╪═══════════╪════════════╪═══╪════════════╪════════════╪════════════╪═══════════╡\n",
       "│ 68.95      ┆ 35  ┆ 61833.9   ┆ 256.09     ┆ … ┆ 1          ┆ SSS        ┆ 0          ┆ A         │\n",
       "│ 80.23      ┆ 31  ┆ 68441.85  ┆ 193.77     ┆ … ┆ 1          ┆ SSS        ┆ null       ┆ B         │\n",
       "│ 69.47      ┆ 26  ┆ 59785.94  ┆ 236.5      ┆ … ┆ 1          ┆ SSS        ┆ 0          ┆ A         │\n",
       "│ 74.15      ┆ 29  ┆ 54806.18  ┆ 245.89     ┆ … ┆ 1          ┆ SSS        ┆ null       ┆ B         │\n",
       "│ 68.37      ┆ 35  ┆ 73889.99  ┆ 225.58     ┆ … ┆ 1          ┆ SSS        ┆ 0          ┆ A         │\n",
       "└────────────┴─────┴───────────┴────────────┴───┴────────────┴────────────┴────────────┴───────────┘"
      ]
     },
     "execution_count": 2,
     "metadata": {},
     "output_type": "execute_result"
    }
   ],
   "source": [
    "df = pl.read_csv(\"../data/advertising.csv\").with_columns([\n",
    "    ((pl.col(\"Age\") // 10) * 10).alias(\"Age Band\"),\n",
    "    (pl.col(\"Daily Internet Usage\") // 20).alias(\"Daily Internet Usage Band\"),\n",
    "    (pl.col(\"Area Income\") // 5000).alias(\"Area Income Band\"),\n",
    "    pl.lit(1).alias(\"Test_Constant\"),\n",
    "    pl.lit(\"SSS\").alias(\"Test_Str_Constant\"),\n",
    "    pl.when(pl.col(\"Male\") == 0).then(0).otherwise(None).alias(\"Test_BadColumn\"),\n",
    "    pl.when(pl.col(\"Male\") == 0).then(\"A\").otherwise(\"B\").alias(\"Test_Binary\"),\n",
    "])\n",
    "target = \"Clicked on Ad\"\n",
    "df.head() "
   ]
  },
  {
   "cell_type": "code",
   "execution_count": 3,
   "metadata": {},
   "outputs": [],
   "source": [
    "builder = PipeBuilder()\n",
    "builder = builder.set_data_and_target(df = df, target=\"Clicked on Ad\")\\\n",
    "    .set_var_removal(threshold=0.5)\\\n",
    "    .set_const_removal()\\\n",
    "    .set_binary_encoding()\\\n",
    "    .set_impute(cols=[\"Daily Internet Usage\", \"Daily Internet Usage Band\", \"Area Income Band\"])\\\n",
    "    .set_impute(cols=[\"Area Income\"], strategy=ImputationStartegy.MEAN)\\\n",
    "    .set_scaling(cols=[\"Area Income\", \"Daily Internet Usage\"])\\\n",
    "    .set_one_hot_encoding(cols=[\"One_Hot_Test\"])\\\n",
    "    .set_ordinal_auto_encoding(cols=[\"City\", \"Country\"])\\\n",
    "    .set_col_removal(cols=[\"Ad Topic Line\", \"Timestamp\"])\\\n",
    "    .set_percentile_encoding(cols=[\"Daily Internet Usage\"])\n",
    "    "
   ]
  },
  {
   "cell_type": "code",
   "execution_count": 4,
   "metadata": {},
   "outputs": [
    {
     "name": "stdout",
     "output_type": "stream",
     "text": [
      "Project name: my_project\n",
      "Total steps: 10 | Ready to build: True | Target variable: Clicked on Ad\n",
      "--- Step 1: ---\n",
      "Function: var_removal | Module: dsds.prescreen | Arguments:\n",
      "{'threshold': 0.5, 'target': 'Clicked on Ad'}\n",
      "Brief description: Remove columns with less than 0.5 variance. (Not recommended.)\n",
      "--- Step 2: ---\n",
      "Function: constant_removal | Module: dsds.prescreen | Arguments:\n",
      "{'include_null': True}\n",
      "Brief description: Remove columns that are constants.\n",
      "--- Step 3: ---\n",
      "Function: binary_encode | Module: dsds.transform | Arguments:\n",
      "{'cols': None}\n",
      "Brief description: Automatically detect binary columns and turn them into [0,1] values by their order.\n",
      "This step is will fit and transform the data.\n",
      "--- Step 4: ---\n",
      "Function: impute | Module: dsds.transform | Arguments:\n",
      "{'cols': ['Daily Internet Usage', 'Daily Internet Usage Band', 'Area Income Band'], 'strategy': <ImputationStartegy.MEDIAN: 'MEDIAN'>, 'const': 1}\n",
      "Brief description: Impute using specified the ImputationStartegy.MEDIAN imputation method.\n",
      "This step is will fit and transform the data.\n",
      "--- Step 5: ---\n",
      "Function: impute | Module: dsds.transform | Arguments:\n",
      "{'cols': ['Area Income'], 'strategy': <ImputationStartegy.MEAN: 'MEAN'>, 'const': 1}\n",
      "Brief description: Impute using specified the ImputationStartegy.MEAN imputation method.\n",
      "This step is will fit and transform the data.\n",
      "--- Step 6: ---\n",
      "Function: scale | Module: dsds.transform | Arguments:\n",
      "{'cols': ['Area Income', 'Daily Internet Usage'], 'strategy': <ScalingStrategy.NORMALIZE: 'NORMALIZE'>, 'const': 1}\n",
      "Brief description: Scale using specified the ScalingStrategy.NORMALIZE scaling method.\n",
      "This step is will fit and transform the data.\n",
      "--- Step 7: ---\n",
      "Function: one_hot_encode | Module: dsds.transform | Arguments:\n",
      "{'cols': ['One_Hot_Test'], 'separator': '_'}\n",
      "Brief description: Encode string values of given columns into numbers with inferred ordering.\n",
      "This step is will fit and transform the data.\n",
      "--- Step 8: ---\n",
      "Function: ordinal_auto_encode | Module: dsds.transform | Arguments:\n",
      "{'cols': ['City', 'Country'], 'default': None}\n",
      "Brief description: Encode string values of given columns into numbers with inferred ordering.\n",
      "This step is will fit and transform the data.\n",
      "--- Step 9: ---\n",
      "Function: remove_if_exists | Module: dsds.prescreen | Arguments:\n",
      "{'to_drop': ['Ad Topic Line', 'Timestamp']}\n",
      "Brief description: Remove given if they exist in dataframe.\n",
      "--- Step 10: ---\n",
      "Function: percentile_encode | Module: dsds.transform | Arguments:\n",
      "{'cols': ['Daily Internet Usage']}\n",
      "Brief description: Encode a continuous column by percentiles.\n",
      "This step is will fit and transform the data.\n",
      "\n"
     ]
    }
   ],
   "source": [
    "print(builder)"
   ]
  },
  {
   "cell_type": "code",
   "execution_count": 5,
   "metadata": {},
   "outputs": [
    {
     "name": "stderr",
     "output_type": "stream",
     "text": [
      "INFO:dsds.builder:Starting to build. Total steps: 10.\n",
      "INFO:dsds.builder:|1/10|: Executed Step: var_removal | is_fit: False\n",
      "INFO:dsds.prescreen:The following columns are dropped because they have lower than 0.5 variance. ['Male', 'Test_Constant', 'Test_BadColumn'].\n",
      "Removed a total of 3 columns.\n",
      "INFO:dsds.builder:|1/10|: Finished in 0.00s | Success: True\n",
      "INFO:dsds.builder:|2/10|: Executed Step: constant_removal | is_fit: False\n",
      "INFO:dsds.prescreen:The following columns are dropped because they are constants. ['Test_Str_Constant'].\n",
      "Removed a total of 1 columns.\n",
      "INFO:dsds.builder:|2/10|: Finished in 0.00s | Success: True\n",
      "INFO:dsds.builder:|3/10|: Executed Step: binary_encode | is_fit: True\n",
      "INFO:dsds.transform:Transforming Test_Binary into a binary column with [0, 1] ...\n",
      "INFO:dsds.builder:|3/10|: Finished in 0.00s | Success: True\n",
      "INFO:dsds.builder:|4/10|: Executed Step: impute | is_fit: True\n",
      "INFO:dsds.builder:|4/10|: Finished in 0.00s | Success: True\n",
      "INFO:dsds.builder:|5/10|: Executed Step: impute | is_fit: True\n",
      "INFO:dsds.builder:|5/10|: Finished in 0.00s | Success: True\n",
      "INFO:dsds.builder:|6/10|: Executed Step: scale | is_fit: True\n",
      "INFO:dsds.builder:|6/10|: Finished in 0.00s | Success: True\n",
      "INFO:dsds.builder:|7/10|: Executed Step: one_hot_encode | is_fit: True\n",
      "INFO:dsds.builder:|7/10|: Finished in 0.00s | Success: True\n",
      "INFO:dsds.builder:|8/10|: Executed Step: ordinal_auto_encode | is_fit: True\n",
      "INFO:dsds.builder:|8/10|: Finished in 0.00s | Success: True\n",
      "INFO:dsds.builder:|9/10|: Executed Step: remove_if_exists | is_fit: False\n",
      "INFO:dsds.prescreen:The following columns are dropped. ['Timestamp', 'Ad Topic Line'].\n",
      "Removed a total of 2 columns.\n",
      "INFO:dsds.builder:|9/10|: Finished in 0.00s | Success: True\n",
      "INFO:dsds.builder:|10/10|: Executed Step: percentile_encode | is_fit: True\n",
      "INFO:dsds.builder:|10/10|: Finished in 0.01s | Success: True\n",
      "INFO:dsds.builder:Build success. A blueprint has been built and can be viewed by calling .blueprint(), and can be saved as a json by calling .write()\n"
     ]
    },
    {
     "data": {
      "text/html": [
       "<div><style>\n",
       ".dataframe > thead > tr > th,\n",
       ".dataframe > tbody > tr > td {\n",
       "  text-align: right;\n",
       "}\n",
       "</style>\n",
       "<small>shape: (5, 14)</small><table border=\"1\" class=\"dataframe\"><thead><tr><th>Daily Time Spent on Site</th><th>Age</th><th>Area Income</th><th>Daily Internet Usage</th><th>City</th><th>Country</th><th>Clicked on Ad</th><th>One_Hot_Test_A</th><th>One_Hot_Test_B</th><th>One_Hot_Test_C</th><th>Age Band</th><th>Daily Internet Usage Band</th><th>Area Income Band</th><th>Test_Binary</th></tr><tr><td>f64</td><td>i64</td><td>f64</td><td>u8</td><td>u32</td><td>u32</td><td>i64</td><td>u8</td><td>u8</td><td>u8</td><td>i64</td><td>f64</td><td>f64</td><td>u8</td></tr></thead><tbody><tr><td>68.95</td><td>35</td><td>0.511893</td><td>99</td><td>961</td><td>215</td><td>0</td><td>1</td><td>0</td><td>0</td><td>30</td><td>12.0</td><td>12.0</td><td>0</td></tr><tr><td>80.23</td><td>31</td><td>1.005471</td><td>57</td><td>903</td><td>147</td><td>0</td><td>0</td><td>1</td><td>0</td><td>30</td><td>9.0</td><td>13.0</td><td>1</td></tr><tr><td>69.47</td><td>26</td><td>0.358921</td><td>91</td><td>111</td><td>184</td><td>0</td><td>1</td><td>0</td><td>0</td><td>20</td><td>11.0</td><td>11.0</td><td>0</td></tr><tr><td>74.15</td><td>29</td><td>-0.01304</td><td>95</td><td>939</td><td>103</td><td>0</td><td>0</td><td>1</td><td>0</td><td>20</td><td>12.0</td><td>10.0</td><td>1</td></tr><tr><td>68.37</td><td>35</td><td>1.412418</td><td>82</td><td>805</td><td>96</td><td>0</td><td>1</td><td>0</td><td>0</td><td>30</td><td>11.0</td><td>14.0</td><td>0</td></tr></tbody></table></div>"
      ],
      "text/plain": [
       "shape: (5, 14)\n",
       "┌────────────┬─────┬───────────┬────────────┬───┬──────────┬────────────┬────────────┬─────────────┐\n",
       "│ Daily Time ┆ Age ┆ Area      ┆ Daily      ┆ … ┆ Age Band ┆ Daily      ┆ Area       ┆ Test_Binary │\n",
       "│ Spent on   ┆ --- ┆ Income    ┆ Internet   ┆   ┆ ---      ┆ Internet   ┆ Income     ┆ ---         │\n",
       "│ Site       ┆ i64 ┆ ---       ┆ Usage      ┆   ┆ i64      ┆ Usage Band ┆ Band       ┆ u8          │\n",
       "│ ---        ┆     ┆ f64       ┆ ---        ┆   ┆          ┆ ---        ┆ ---        ┆             │\n",
       "│ f64        ┆     ┆           ┆ u8         ┆   ┆          ┆ f64        ┆ f64        ┆             │\n",
       "╞════════════╪═════╪═══════════╪════════════╪═══╪══════════╪════════════╪════════════╪═════════════╡\n",
       "│ 68.95      ┆ 35  ┆ 0.511893  ┆ 99         ┆ … ┆ 30       ┆ 12.0       ┆ 12.0       ┆ 0           │\n",
       "│ 80.23      ┆ 31  ┆ 1.005471  ┆ 57         ┆ … ┆ 30       ┆ 9.0        ┆ 13.0       ┆ 1           │\n",
       "│ 69.47      ┆ 26  ┆ 0.358921  ┆ 91         ┆ … ┆ 20       ┆ 11.0       ┆ 11.0       ┆ 0           │\n",
       "│ 74.15      ┆ 29  ┆ -0.01304  ┆ 95         ┆ … ┆ 20       ┆ 12.0       ┆ 10.0       ┆ 1           │\n",
       "│ 68.37      ┆ 35  ┆ 1.412418  ┆ 82         ┆ … ┆ 30       ┆ 11.0       ┆ 14.0       ┆ 0           │\n",
       "└────────────┴─────┴───────────┴────────────┴───┴──────────┴────────────┴────────────┴─────────────┘"
      ]
     },
     "execution_count": 5,
     "metadata": {},
     "output_type": "execute_result"
    }
   ],
   "source": [
    "result1 = builder.build()\n",
    "result1.head()"
   ]
  },
  {
   "cell_type": "code",
   "execution_count": 6,
   "metadata": {},
   "outputs": [
    {
     "name": "stderr",
     "output_type": "stream",
     "text": [
      "INFO:dsds.builder:No name is specified, using project name (my_project.json) as default.\n",
      "INFO:dsds.builder:Successfully saved to ./blueprints/my_project.json.\n"
     ]
    }
   ],
   "source": [
    "builder.write()"
   ]
  },
  {
   "cell_type": "code",
   "execution_count": 7,
   "metadata": {},
   "outputs": [
    {
     "name": "stdout",
     "output_type": "stream",
     "text": [
      "--- Step 1: ---\n",
      "Function: var_removal | Module: dsds.prescreen | Arguments:\n",
      "{'threshold': 0.5, 'target': 'Clicked on Ad'}\n",
      "Brief description: Remove columns with less than 0.5 variance. (Not recommended.)\n",
      "--- Step 2: ---\n",
      "Function: constant_removal | Module: dsds.prescreen | Arguments:\n",
      "{'include_null': True}\n",
      "Brief description: Remove columns that are constants.\n",
      "--- Step 3: ---\n",
      "Function: binary_encode | Module: N/A | Arguments:\n",
      "None\n",
      "Brief description: Automatically detect binary columns and turn them into [0,1] values by their order.\n",
      "This step is will fit and transform the data.\n",
      "--- Step 4: ---\n",
      "Function: impute | Module: N/A | Arguments:\n",
      "None\n",
      "Brief description: Impute using specified the ImputationStartegy.MEDIAN imputation method.\n",
      "This step is will fit and transform the data.\n",
      "--- Step 5: ---\n",
      "Function: impute | Module: N/A | Arguments:\n",
      "None\n",
      "Brief description: Impute using specified the ImputationStartegy.MEAN imputation method.\n",
      "This step is will fit and transform the data.\n",
      "--- Step 6: ---\n",
      "Function: scale | Module: N/A | Arguments:\n",
      "None\n",
      "Brief description: Scale using specified the ScalingStrategy.NORMALIZE scaling method.\n",
      "This step is will fit and transform the data.\n",
      "--- Step 7: ---\n",
      "Function: one_hot_encode | Module: N/A | Arguments:\n",
      "None\n",
      "Brief description: Encode string values of given columns into numbers with inferred ordering.\n",
      "This step is will fit and transform the data.\n",
      "--- Step 8: ---\n",
      "Function: ordinal_auto_encode | Module: N/A | Arguments:\n",
      "None\n",
      "Brief description: Encode string values of given columns into numbers with inferred ordering.\n",
      "This step is will fit and transform the data.\n",
      "--- Step 9: ---\n",
      "Function: remove_if_exists | Module: dsds.prescreen | Arguments:\n",
      "{'to_drop': ['Ad Topic Line', 'Timestamp']}\n",
      "Brief description: Remove given if they exist in dataframe.\n",
      "--- Step 10: ---\n",
      "Function: percentile_encode | Module: N/A | Arguments:\n",
      "None\n",
      "Brief description: Encode a continuous column by percentiles.\n",
      "This step is will fit and transform the data.\n",
      "\n"
     ]
    }
   ],
   "source": [
    "builder.blueprint()"
   ]
  },
  {
   "cell_type": "code",
   "execution_count": 8,
   "metadata": {},
   "outputs": [],
   "source": [
    "builder.clear()"
   ]
  },
  {
   "cell_type": "code",
   "execution_count": 9,
   "metadata": {},
   "outputs": [
    {
     "name": "stdout",
     "output_type": "stream",
     "text": [
      "No step has been set.\n"
     ]
    }
   ],
   "source": [
    "builder.blueprint()"
   ]
  },
  {
   "cell_type": "code",
   "execution_count": 10,
   "metadata": {},
   "outputs": [
    {
     "name": "stderr",
     "output_type": "stream",
     "text": [
      "INFO:dsds.builder:Reading from a blueprint. The builder will reset itself.\n",
      "INFO:dsds.builder:Successfully read from a blueprint.\n"
     ]
    }
   ],
   "source": [
    "builder.from_blueprint(\"./blueprints/my_project.json\")"
   ]
  },
  {
   "cell_type": "code",
   "execution_count": 11,
   "metadata": {},
   "outputs": [
    {
     "name": "stdout",
     "output_type": "stream",
     "text": [
      "--- Step 1: ---\n",
      "Function: var_removal | Module: dsds.prescreen | Arguments:\n",
      "{'threshold': 0.5, 'target': 'Clicked on Ad'}\n",
      "Brief description: Remove columns with less than 0.5 variance. (Not recommended.)\n",
      "--- Step 2: ---\n",
      "Function: constant_removal | Module: dsds.prescreen | Arguments:\n",
      "{'include_null': True}\n",
      "Brief description: Remove columns that are constants.\n",
      "--- Step 3: ---\n",
      "Function: binary_encode | Module: N/A | Arguments:\n",
      "None\n",
      "Brief description: Automatically detect binary columns and turn them into [0,1] values by their order.\n",
      "This step is will fit and transform the data.\n",
      "--- Step 4: ---\n",
      "Function: impute | Module: N/A | Arguments:\n",
      "None\n",
      "Brief description: Impute using specified the ImputationStartegy.MEDIAN imputation method.\n",
      "This step is will fit and transform the data.\n",
      "--- Step 5: ---\n",
      "Function: impute | Module: N/A | Arguments:\n",
      "None\n",
      "Brief description: Impute using specified the ImputationStartegy.MEAN imputation method.\n",
      "This step is will fit and transform the data.\n",
      "--- Step 6: ---\n",
      "Function: scale | Module: N/A | Arguments:\n",
      "None\n",
      "Brief description: Scale using specified the ScalingStrategy.NORMALIZE scaling method.\n",
      "This step is will fit and transform the data.\n",
      "--- Step 7: ---\n",
      "Function: one_hot_encode | Module: N/A | Arguments:\n",
      "None\n",
      "Brief description: Encode string values of given columns into numbers with inferred ordering.\n",
      "This step is will fit and transform the data.\n",
      "--- Step 8: ---\n",
      "Function: ordinal_auto_encode | Module: N/A | Arguments:\n",
      "None\n",
      "Brief description: Encode string values of given columns into numbers with inferred ordering.\n",
      "This step is will fit and transform the data.\n",
      "--- Step 9: ---\n",
      "Function: remove_if_exists | Module: dsds.prescreen | Arguments:\n",
      "{'to_drop': ['Ad Topic Line', 'Timestamp']}\n",
      "Brief description: Remove given if they exist in dataframe.\n",
      "--- Step 10: ---\n",
      "Function: percentile_encode | Module: N/A | Arguments:\n",
      "None\n",
      "Brief description: Encode a continuous column by percentiles.\n",
      "This step is will fit and transform the data.\n",
      "\n"
     ]
    }
   ],
   "source": [
    "builder.blueprint()"
   ]
  },
  {
   "cell_type": "code",
   "execution_count": 12,
   "metadata": {},
   "outputs": [],
   "source": [
    "df2 = pl.read_csv(\"../data/advertising.csv\").with_columns([\n",
    "    ((pl.col(\"Age\") // 10) * 10).alias(\"Age Band\"),\n",
    "    (pl.col(\"Daily Internet Usage\") // 20).alias(\"Daily Internet Usage Band\"),\n",
    "    (pl.col(\"Area Income\") // 5000).alias(\"Area Income Band\"),\n",
    "    pl.lit(1).alias(\"Test_Constant\"),\n",
    "    pl.lit(\"SSS\").alias(\"Test_Str_Constant\"),\n",
    "    pl.when(pl.col(\"Male\") == 0).then(0).otherwise(None).alias(\"Test_BadColumn\"),\n",
    "    pl.when(pl.col(\"Male\") == 0).then(\"A\").otherwise(\"B\").alias(\"Test_Binary\"),\n",
    "])\n"
   ]
  },
  {
   "cell_type": "code",
   "execution_count": 13,
   "metadata": {},
   "outputs": [
    {
     "name": "stderr",
     "output_type": "stream",
     "text": [
      "INFO:dsds.builder:|1/10|: Performing Step: var_removal | is_fit: False\n",
      "INFO:dsds.prescreen:The following columns are dropped because they have lower than 0.5 variance. ['Male', 'Test_Constant', 'Test_BadColumn'].\n",
      "Removed a total of 3 columns.\n",
      "INFO:dsds.builder:|1/10|: Finished in 0.00s | Success: True\n",
      "INFO:dsds.builder:|2/10|: Performing Step: constant_removal | is_fit: False\n",
      "INFO:dsds.prescreen:The following columns are dropped because they are constants. ['Test_Str_Constant'].\n",
      "Removed a total of 1 columns.\n",
      "INFO:dsds.builder:|2/10|: Finished in 0.00s | Success: True\n",
      "INFO:dsds.builder:|3/10|: Performing Step: binary_encode | is_fit: True\n",
      "INFO:dsds.builder:|3/10|: Finished in 0.00s | Success: True\n",
      "INFO:dsds.builder:|4/10|: Performing Step: impute | is_fit: True\n",
      "INFO:dsds.builder:|4/10|: Finished in 0.00s | Success: True\n",
      "INFO:dsds.builder:|5/10|: Performing Step: impute | is_fit: True\n",
      "INFO:dsds.builder:|5/10|: Finished in 0.00s | Success: True\n",
      "INFO:dsds.builder:|6/10|: Performing Step: scale | is_fit: True\n",
      "INFO:dsds.builder:|6/10|: Finished in 0.00s | Success: True\n",
      "INFO:dsds.builder:|7/10|: Performing Step: one_hot_encode | is_fit: True\n",
      "INFO:dsds.builder:|7/10|: Finished in 0.00s | Success: True\n",
      "INFO:dsds.builder:|8/10|: Performing Step: ordinal_auto_encode | is_fit: True\n",
      "INFO:dsds.builder:|8/10|: Finished in 0.00s | Success: True\n",
      "INFO:dsds.builder:|9/10|: Performing Step: remove_if_exists | is_fit: False\n",
      "INFO:dsds.prescreen:The following columns are dropped. ['Timestamp', 'Ad Topic Line'].\n",
      "Removed a total of 2 columns.\n",
      "INFO:dsds.builder:|9/10|: Finished in 0.00s | Success: True\n",
      "INFO:dsds.builder:|10/10|: Performing Step: percentile_encode | is_fit: True\n",
      "INFO:dsds.builder:|10/10|: Finished in 0.02s | Success: True\n"
     ]
    },
    {
     "data": {
      "text/html": [
       "<div><style>\n",
       ".dataframe > thead > tr > th,\n",
       ".dataframe > tbody > tr > td {\n",
       "  text-align: right;\n",
       "}\n",
       "</style>\n",
       "<small>shape: (5, 14)</small><table border=\"1\" class=\"dataframe\"><thead><tr><th>Daily Time Spent on Site</th><th>Age</th><th>Area Income</th><th>Daily Internet Usage</th><th>City</th><th>Country</th><th>Clicked on Ad</th><th>One_Hot_Test_A</th><th>One_Hot_Test_B</th><th>One_Hot_Test_C</th><th>Age Band</th><th>Daily Internet Usage Band</th><th>Area Income Band</th><th>Test_Binary</th></tr><tr><td>f64</td><td>i64</td><td>f64</td><td>u8</td><td>i64</td><td>i64</td><td>i64</td><td>u8</td><td>u8</td><td>u8</td><td>i64</td><td>f64</td><td>f64</td><td>i64</td></tr></thead><tbody><tr><td>68.95</td><td>35</td><td>0.511893</td><td>99</td><td>961</td><td>215</td><td>0</td><td>1</td><td>0</td><td>0</td><td>30</td><td>12.0</td><td>12.0</td><td>0</td></tr><tr><td>80.23</td><td>31</td><td>1.005471</td><td>57</td><td>903</td><td>147</td><td>0</td><td>0</td><td>1</td><td>0</td><td>30</td><td>9.0</td><td>13.0</td><td>1</td></tr><tr><td>69.47</td><td>26</td><td>0.358921</td><td>91</td><td>111</td><td>184</td><td>0</td><td>1</td><td>0</td><td>0</td><td>20</td><td>11.0</td><td>11.0</td><td>0</td></tr><tr><td>74.15</td><td>29</td><td>-0.01304</td><td>95</td><td>939</td><td>103</td><td>0</td><td>0</td><td>1</td><td>0</td><td>20</td><td>12.0</td><td>10.0</td><td>1</td></tr><tr><td>68.37</td><td>35</td><td>1.412418</td><td>82</td><td>805</td><td>96</td><td>0</td><td>1</td><td>0</td><td>0</td><td>30</td><td>11.0</td><td>14.0</td><td>0</td></tr></tbody></table></div>"
      ],
      "text/plain": [
       "shape: (5, 14)\n",
       "┌────────────┬─────┬───────────┬────────────┬───┬──────────┬────────────┬────────────┬─────────────┐\n",
       "│ Daily Time ┆ Age ┆ Area      ┆ Daily      ┆ … ┆ Age Band ┆ Daily      ┆ Area       ┆ Test_Binary │\n",
       "│ Spent on   ┆ --- ┆ Income    ┆ Internet   ┆   ┆ ---      ┆ Internet   ┆ Income     ┆ ---         │\n",
       "│ Site       ┆ i64 ┆ ---       ┆ Usage      ┆   ┆ i64      ┆ Usage Band ┆ Band       ┆ i64         │\n",
       "│ ---        ┆     ┆ f64       ┆ ---        ┆   ┆          ┆ ---        ┆ ---        ┆             │\n",
       "│ f64        ┆     ┆           ┆ u8         ┆   ┆          ┆ f64        ┆ f64        ┆             │\n",
       "╞════════════╪═════╪═══════════╪════════════╪═══╪══════════╪════════════╪════════════╪═════════════╡\n",
       "│ 68.95      ┆ 35  ┆ 0.511893  ┆ 99         ┆ … ┆ 30       ┆ 12.0       ┆ 12.0       ┆ 0           │\n",
       "│ 80.23      ┆ 31  ┆ 1.005471  ┆ 57         ┆ … ┆ 30       ┆ 9.0        ┆ 13.0       ┆ 1           │\n",
       "│ 69.47      ┆ 26  ┆ 0.358921  ┆ 91         ┆ … ┆ 20       ┆ 11.0       ┆ 11.0       ┆ 0           │\n",
       "│ 74.15      ┆ 29  ┆ -0.01304  ┆ 95         ┆ … ┆ 20       ┆ 12.0       ┆ 10.0       ┆ 1           │\n",
       "│ 68.37      ┆ 35  ┆ 1.412418  ┆ 82         ┆ … ┆ 30       ┆ 11.0       ┆ 14.0       ┆ 0           │\n",
       "└────────────┴─────┴───────────┴────────────┴───┴──────────┴────────────┴────────────┴─────────────┘"
      ]
     },
     "execution_count": 13,
     "metadata": {},
     "output_type": "execute_result"
    }
   ],
   "source": [
    "result2 = builder.apply(df2)\n",
    "result2.head()"
   ]
  },
  {
   "cell_type": "code",
   "execution_count": 14,
   "metadata": {},
   "outputs": [
    {
     "data": {
      "text/html": [
       "<div><style>\n",
       ".dataframe > thead > tr > th,\n",
       ".dataframe > tbody > tr > td {\n",
       "  text-align: right;\n",
       "}\n",
       "</style>\n",
       "<small>shape: (1, 14)</small><table border=\"1\" class=\"dataframe\"><thead><tr><th>Daily Time Spent on Site</th><th>Age</th><th>Area Income</th><th>Daily Internet Usage</th><th>City</th><th>Country</th><th>Clicked on Ad</th><th>One_Hot_Test_A</th><th>One_Hot_Test_B</th><th>One_Hot_Test_C</th><th>Age Band</th><th>Daily Internet Usage Band</th><th>Area Income Band</th><th>Test_Binary</th></tr><tr><td>u32</td><td>u32</td><td>u32</td><td>u32</td><td>u32</td><td>u32</td><td>u32</td><td>u32</td><td>u32</td><td>u32</td><td>u32</td><td>u32</td><td>u32</td><td>u32</td></tr></thead><tbody><tr><td>1000</td><td>1000</td><td>1000</td><td>1000</td><td>1000</td><td>1000</td><td>1000</td><td>1000</td><td>1000</td><td>1000</td><td>1000</td><td>1000</td><td>1000</td><td>1000</td></tr></tbody></table></div>"
      ],
      "text/plain": [
       "shape: (1, 14)\n",
       "┌────────────┬──────┬───────────┬────────────┬───┬──────────┬────────────┬────────────┬───────────┐\n",
       "│ Daily Time ┆ Age  ┆ Area      ┆ Daily      ┆ … ┆ Age Band ┆ Daily      ┆ Area       ┆ Test_Bina │\n",
       "│ Spent on   ┆ ---  ┆ Income    ┆ Internet   ┆   ┆ ---      ┆ Internet   ┆ Income     ┆ ry        │\n",
       "│ Site       ┆ u32  ┆ ---       ┆ Usage      ┆   ┆ u32      ┆ Usage Band ┆ Band       ┆ ---       │\n",
       "│ ---        ┆      ┆ u32       ┆ ---        ┆   ┆          ┆ ---        ┆ ---        ┆ u32       │\n",
       "│ u32        ┆      ┆           ┆ u32        ┆   ┆          ┆ u32        ┆ u32        ┆           │\n",
       "╞════════════╪══════╪═══════════╪════════════╪═══╪══════════╪════════════╪════════════╪═══════════╡\n",
       "│ 1000       ┆ 1000 ┆ 1000      ┆ 1000       ┆ … ┆ 1000     ┆ 1000       ┆ 1000       ┆ 1000      │\n",
       "└────────────┴──────┴───────────┴────────────┴───┴──────────┴────────────┴────────────┴───────────┘"
      ]
     },
     "execution_count": 14,
     "metadata": {},
     "output_type": "execute_result"
    }
   ],
   "source": [
    "# Perfectly reproduces the result.\n",
    "(result1 == result2).sum()"
   ]
  },
  {
   "cell_type": "code",
   "execution_count": 15,
   "metadata": {},
   "outputs": [
    {
     "name": "stdout",
     "output_type": "stream",
     "text": [
      "--- Step 1: ---\n",
      "Function: var_removal | Module: dsds.prescreen | Arguments:\n",
      "{'threshold': 0.5, 'target': 'Clicked on Ad'}\n",
      "Brief description: Remove columns with less than 0.5 variance. (Not recommended.)\n",
      "--- Step 2: ---\n",
      "Function: constant_removal | Module: dsds.prescreen | Arguments:\n",
      "{'include_null': True}\n",
      "Brief description: Remove columns that are constants.\n",
      "--- Step 3: ---\n",
      "Function: binary_encode | Module: N/A | Arguments:\n",
      "None\n",
      "Brief description: Automatically detect binary columns and turn them into [0,1] values by their order.\n",
      "This step is will fit and transform the data.\n",
      "--- Step 4: ---\n",
      "Function: impute | Module: N/A | Arguments:\n",
      "None\n",
      "Brief description: Impute using specified the ImputationStartegy.MEDIAN imputation method.\n",
      "This step is will fit and transform the data.\n",
      "--- Step 5: ---\n",
      "Function: impute | Module: N/A | Arguments:\n",
      "None\n",
      "Brief description: Impute using specified the ImputationStartegy.MEAN imputation method.\n",
      "This step is will fit and transform the data.\n",
      "--- Step 6: ---\n",
      "Function: scale | Module: N/A | Arguments:\n",
      "None\n",
      "Brief description: Scale using specified the ScalingStrategy.NORMALIZE scaling method.\n",
      "This step is will fit and transform the data.\n",
      "--- Step 7: ---\n",
      "Function: one_hot_encode | Module: N/A | Arguments:\n",
      "None\n",
      "Brief description: Encode string values of given columns into numbers with inferred ordering.\n",
      "This step is will fit and transform the data.\n",
      "--- Step 8: ---\n",
      "Function: ordinal_auto_encode | Module: N/A | Arguments:\n",
      "None\n",
      "Brief description: Encode string values of given columns into numbers with inferred ordering.\n",
      "This step is will fit and transform the data.\n",
      "--- Step 9: ---\n",
      "Function: remove_if_exists | Module: dsds.prescreen | Arguments:\n",
      "{'to_drop': ['Ad Topic Line', 'Timestamp']}\n",
      "Brief description: Remove given if they exist in dataframe.\n",
      "--- Step 10: ---\n",
      "Function: percentile_encode | Module: N/A | Arguments:\n",
      "None\n",
      "Brief description: Encode a continuous column by percentiles.\n",
      "This step is will fit and transform the data.\n",
      "\n"
     ]
    }
   ],
   "source": [
    "builder.blueprint()"
   ]
  },
  {
   "cell_type": "code",
   "execution_count": null,
   "metadata": {},
   "outputs": [],
   "source": []
  },
  {
   "cell_type": "code",
   "execution_count": null,
   "metadata": {},
   "outputs": [],
   "source": []
  }
 ],
 "metadata": {
  "kernelspec": {
   "display_name": "my_py11",
   "language": "python",
   "name": "python3"
  },
  "language_info": {
   "codemirror_mode": {
    "name": "ipython",
    "version": 3
   },
   "file_extension": ".py",
   "mimetype": "text/x-python",
   "name": "python",
   "nbconvert_exporter": "python",
   "pygments_lexer": "ipython3",
   "version": "3.11.3"
  },
  "orig_nbformat": 4
 },
 "nbformat": 4,
 "nbformat_minor": 2
}
