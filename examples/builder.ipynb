{
 "cells": [
  {
   "cell_type": "code",
   "execution_count": 1,
   "metadata": {},
   "outputs": [],
   "source": [
    "from dsds.prescreen import (\n",
    "    remove_if_exists\n",
    "    , regex_removal\n",
    "    , var_removal\n",
    "    , null_removal\n",
    "    , unique_removal\n",
    "    , constant_removal\n",
    "    , date_removal\n",
    "    , non_numeric_removal\n",
    "    , get_unique_count\n",
    "    , get_string_cols\n",
    ")\n",
    "\n",
    "from dsds.transform import (\n",
    "    scale\n",
    "    , impute\n",
    "    , binary_encode\n",
    "    , one_hot_encode\n",
    "    , smooth_target_encode\n",
    "    , ordinal_encode\n",
    "    , ordinal_auto_encode\n",
    ")\n",
    "\n",
    "from dsds.fs import (\n",
    "    mutual_info_selector\n",
    ")\n",
    "\n",
    "import polars as pl"
   ]
  },
  {
   "cell_type": "code",
   "execution_count": 2,
   "metadata": {},
   "outputs": [],
   "source": [
    "df = pl.scan_csv(\"../data/advertising.csv\")"
   ]
  },
  {
   "cell_type": "code",
   "execution_count": 3,
   "metadata": {},
   "outputs": [
    {
     "data": {
      "text/html": [
       "<div><style>\n",
       ".dataframe > thead > tr > th,\n",
       ".dataframe > tbody > tr > td {\n",
       "  text-align: right;\n",
       "}\n",
       "</style>\n",
       "<small>shape: (10, 18)</small><table border=\"1\" class=\"dataframe\"><thead><tr><th>Daily Time Spent on Site</th><th>Age</th><th>Area Income</th><th>Daily Internet Usage</th><th>Ad Topic Line</th><th>City</th><th>Male</th><th>Country</th><th>Timestamp</th><th>Clicked on Ad</th><th>One_Hot_Test</th><th>Age Band</th><th>Daily Internet Usage Band</th><th>Area Income Band</th><th>Test_Constant</th><th>Test_Str_Constant</th><th>Test_BadColumn</th><th>Test_Binary</th></tr><tr><td>f64</td><td>i64</td><td>f64</td><td>f64</td><td>str</td><td>str</td><td>i64</td><td>str</td><td>str</td><td>i64</td><td>str</td><td>i64</td><td>f64</td><td>f64</td><td>i64</td><td>str</td><td>i64</td><td>str</td></tr></thead><tbody><tr><td>68.95</td><td>35</td><td>61833.9</td><td>256.09</td><td>&quot;Cloned 5thgene…</td><td>&quot;Wrightburgh&quot;</td><td>0</td><td>&quot;Tunisia&quot;</td><td>&quot;3/27/2016 0:53…</td><td>0</td><td>&quot;A&quot;</td><td>30</td><td>12.0</td><td>12.0</td><td>1</td><td>&quot;SSS&quot;</td><td>0</td><td>&quot;A&quot;</td></tr><tr><td>80.23</td><td>31</td><td>68441.85</td><td>193.77</td><td>&quot;Monitored nati…</td><td>&quot;West Jodi&quot;</td><td>1</td><td>&quot;Nauru&quot;</td><td>&quot;4/4/2016 1:39&quot;</td><td>0</td><td>&quot;B&quot;</td><td>30</td><td>9.0</td><td>13.0</td><td>1</td><td>&quot;SSS&quot;</td><td>null</td><td>&quot;B&quot;</td></tr><tr><td>69.47</td><td>26</td><td>59785.94</td><td>236.5</td><td>&quot;Organic bottom…</td><td>&quot;Davidton&quot;</td><td>0</td><td>&quot;San Marino&quot;</td><td>&quot;3/13/2016 20:3…</td><td>0</td><td>&quot;A&quot;</td><td>20</td><td>11.0</td><td>11.0</td><td>1</td><td>&quot;SSS&quot;</td><td>0</td><td>&quot;A&quot;</td></tr><tr><td>74.15</td><td>29</td><td>54806.18</td><td>245.89</td><td>&quot;Triple-buffere…</td><td>&quot;West Terrifurt…</td><td>1</td><td>&quot;Italy&quot;</td><td>&quot;1/10/2016 2:31…</td><td>0</td><td>&quot;B&quot;</td><td>20</td><td>12.0</td><td>10.0</td><td>1</td><td>&quot;SSS&quot;</td><td>null</td><td>&quot;B&quot;</td></tr><tr><td>68.37</td><td>35</td><td>73889.99</td><td>225.58</td><td>&quot;Robust logisti…</td><td>&quot;South Manuel&quot;</td><td>0</td><td>&quot;Iceland&quot;</td><td>&quot;6/3/2016 3:36&quot;</td><td>0</td><td>&quot;A&quot;</td><td>30</td><td>11.0</td><td>14.0</td><td>1</td><td>&quot;SSS&quot;</td><td>0</td><td>&quot;A&quot;</td></tr><tr><td>59.99</td><td>23</td><td>59761.56</td><td>226.74</td><td>&quot;Sharable clien…</td><td>&quot;Jamieberg&quot;</td><td>1</td><td>&quot;Norway&quot;</td><td>&quot;5/19/2016 14:3…</td><td>0</td><td>&quot;B&quot;</td><td>20</td><td>11.0</td><td>11.0</td><td>1</td><td>&quot;SSS&quot;</td><td>null</td><td>&quot;B&quot;</td></tr><tr><td>88.91</td><td>33</td><td>null</td><td>208.36</td><td>&quot;Enhanced dedic…</td><td>&quot;Brandonstad&quot;</td><td>0</td><td>&quot;Myanmar&quot;</td><td>&quot;1/28/2016 20:5…</td><td>0</td><td>&quot;A&quot;</td><td>30</td><td>10.0</td><td>null</td><td>1</td><td>&quot;SSS&quot;</td><td>0</td><td>&quot;A&quot;</td></tr><tr><td>66.0</td><td>48</td><td>24593.33</td><td>131.76</td><td>&quot;Reactive local…</td><td>&quot;Port Jefferybu…</td><td>1</td><td>&quot;Australia&quot;</td><td>&quot;3/7/2016 1:40&quot;</td><td>1</td><td>&quot;A&quot;</td><td>40</td><td>6.0</td><td>4.0</td><td>1</td><td>&quot;SSS&quot;</td><td>null</td><td>&quot;B&quot;</td></tr><tr><td>74.53</td><td>30</td><td>68862.0</td><td>221.51</td><td>&quot;Configurable c…</td><td>&quot;West Colin&quot;</td><td>1</td><td>&quot;Grenada&quot;</td><td>&quot;4/18/2016 9:33…</td><td>0</td><td>&quot;A&quot;</td><td>30</td><td>11.0</td><td>13.0</td><td>1</td><td>&quot;SSS&quot;</td><td>null</td><td>&quot;B&quot;</td></tr><tr><td>69.88</td><td>20</td><td>55642.32</td><td>183.82</td><td>&quot;Mandatory homo…</td><td>&quot;Ramirezton&quot;</td><td>1</td><td>&quot;Ghana&quot;</td><td>&quot;7/11/2016 1:42…</td><td>0</td><td>&quot;A&quot;</td><td>20</td><td>9.0</td><td>11.0</td><td>1</td><td>&quot;SSS&quot;</td><td>null</td><td>&quot;B&quot;</td></tr></tbody></table></div>"
      ],
      "text/plain": [
       "shape: (10, 18)\n",
       "┌────────────┬─────┬───────────┬────────────┬───┬────────────┬────────────┬────────────┬───────────┐\n",
       "│ Daily Time ┆ Age ┆ Area      ┆ Daily      ┆ … ┆ Test_Const ┆ Test_Str_C ┆ Test_BadCo ┆ Test_Bina │\n",
       "│ Spent on   ┆ --- ┆ Income    ┆ Internet   ┆   ┆ ant        ┆ onstant    ┆ lumn       ┆ ry        │\n",
       "│ Site       ┆ i64 ┆ ---       ┆ Usage      ┆   ┆ ---        ┆ ---        ┆ ---        ┆ ---       │\n",
       "│ ---        ┆     ┆ f64       ┆ ---        ┆   ┆ i64        ┆ str        ┆ i64        ┆ str       │\n",
       "│ f64        ┆     ┆           ┆ f64        ┆   ┆            ┆            ┆            ┆           │\n",
       "╞════════════╪═════╪═══════════╪════════════╪═══╪════════════╪════════════╪════════════╪═══════════╡\n",
       "│ 68.95      ┆ 35  ┆ 61833.9   ┆ 256.09     ┆ … ┆ 1          ┆ SSS        ┆ 0          ┆ A         │\n",
       "│ 80.23      ┆ 31  ┆ 68441.85  ┆ 193.77     ┆ … ┆ 1          ┆ SSS        ┆ null       ┆ B         │\n",
       "│ 69.47      ┆ 26  ┆ 59785.94  ┆ 236.5      ┆ … ┆ 1          ┆ SSS        ┆ 0          ┆ A         │\n",
       "│ 74.15      ┆ 29  ┆ 54806.18  ┆ 245.89     ┆ … ┆ 1          ┆ SSS        ┆ null       ┆ B         │\n",
       "│ …          ┆ …   ┆ …         ┆ …          ┆ … ┆ …          ┆ …          ┆ …          ┆ …         │\n",
       "│ 88.91      ┆ 33  ┆ null      ┆ 208.36     ┆ … ┆ 1          ┆ SSS        ┆ 0          ┆ A         │\n",
       "│ 66.0       ┆ 48  ┆ 24593.33  ┆ 131.76     ┆ … ┆ 1          ┆ SSS        ┆ null       ┆ B         │\n",
       "│ 74.53      ┆ 30  ┆ 68862.0   ┆ 221.51     ┆ … ┆ 1          ┆ SSS        ┆ null       ┆ B         │\n",
       "│ 69.88      ┆ 20  ┆ 55642.32  ┆ 183.82     ┆ … ┆ 1          ┆ SSS        ┆ null       ┆ B         │\n",
       "└────────────┴─────┴───────────┴────────────┴───┴────────────┴────────────┴────────────┴───────────┘"
      ]
     },
     "execution_count": 3,
     "metadata": {},
     "output_type": "execute_result"
    }
   ],
   "source": [
    "df.limit(10).collect()"
   ]
  },
  {
   "cell_type": "code",
   "execution_count": 4,
   "metadata": {},
   "outputs": [
    {
     "name": "stderr",
     "output_type": "stream",
     "text": [
      "INFO:dsds.prescreen:The following columns are dropped because they have lower than 0.5 variance. ['Male', 'Test_Constant', 'Test_BadColumn'].\n",
      "Removed a total of 3 columns.\n",
      "INFO:dsds.prescreen:The following columns are dropped because they are constants. ['Test_Str_Constant'].\n",
      "Removed a total of 1 columns.\n",
      "INFO:dsds.prescreen:The following columns are dropped. ['Timestamp', 'Ad Topic Line'].\n",
      "Removed a total of 2 columns.\n",
      "Mutual Info: 100%|██████████| 13/13 [00:00<00:00, 156.59it/s]"
     ]
    },
    {
     "name": "stdout",
     "output_type": "stream",
     "text": [
      "Selected 12 features. There are 1 columns the algorithm cannot process. They are also returned.\n"
     ]
    },
    {
     "name": "stderr",
     "output_type": "stream",
     "text": [
      "\n"
     ]
    }
   ],
   "source": [
    "blueprint = df.collect().lazy().pipe(var_removal, threshold = 0.5, target = \"Clicked on Ad\")\\\n",
    "    .pipe(constant_removal)\\\n",
    "    .pipe(binary_encode)\\\n",
    "    .pipe(ordinal_auto_encode, cols = [\"City\", \"Country\"])\\\n",
    "    .pipe(impute, cols=[\"Daily Internet Usage\", \"Daily Internet Usage Band\", \"Area Income Band\"], strategy=\"median\")\\\n",
    "    .pipe(impute, cols=[\"Area Income\"], strategy = \"mean\")\\\n",
    "    .pipe(scale, cols=[\"Area Income\", \"Daily Internet Usage\"])\\\n",
    "    .pipe(one_hot_encode, cols= [\"One_Hot_Test\"])\\\n",
    "    .pipe(remove_if_exists, cols = [\"Ad Topic Line\", \"Timestamp\"])\\\n",
    "    .pipe(mutual_info_selector, target = \"Clicked on Ad\", top_k = 12)\n",
    "\n"
   ]
  },
  {
   "cell_type": "code",
   "execution_count": 5,
   "metadata": {},
   "outputs": [
    {
     "data": {
      "text/html": [
       "<div><style>\n",
       ".dataframe > thead > tr > th,\n",
       ".dataframe > tbody > tr > td {\n",
       "  text-align: right;\n",
       "}\n",
       "</style>\n",
       "<small>shape: (1_000, 13)</small><table border=\"1\" class=\"dataframe\"><thead><tr><th>Daily Internet Usage</th><th>Daily Internet Usage Band</th><th>Daily Time Spent on Site</th><th>Age Band</th><th>Area Income</th><th>Area Income Band</th><th>Age</th><th>One_Hot_Test_B</th><th>Country</th><th>Test_Binary</th><th>One_Hot_Test_C</th><th>One_Hot_Test_A</th><th>Clicked on Ad</th></tr><tr><td>f64</td><td>f64</td><td>f64</td><td>i64</td><td>f64</td><td>f64</td><td>i64</td><td>i32</td><td>i64</td><td>u8</td><td>i32</td><td>i32</td><td>i64</td></tr></thead><tbody><tr><td>1.74127</td><td>12.0</td><td>68.95</td><td>30</td><td>0.511893</td><td>12.0</td><td>35</td><td>0</td><td>215</td><td>0</td><td>0</td><td>1</td><td>0</td></tr><tr><td>0.313948</td><td>9.0</td><td>80.23</td><td>30</td><td>1.005471</td><td>13.0</td><td>31</td><td>1</td><td>147</td><td>1</td><td>0</td><td>0</td><td>0</td></tr><tr><td>1.292598</td><td>11.0</td><td>69.47</td><td>20</td><td>0.358921</td><td>11.0</td><td>26</td><td>0</td><td>184</td><td>0</td><td>0</td><td>1</td><td>0</td></tr><tr><td>1.507658</td><td>12.0</td><td>74.15</td><td>20</td><td>-0.01304</td><td>10.0</td><td>29</td><td>1</td><td>103</td><td>1</td><td>0</td><td>0</td><td>0</td></tr><tr><td>1.042496</td><td>11.0</td><td>68.37</td><td>30</td><td>1.412418</td><td>14.0</td><td>35</td><td>0</td><td>96</td><td>0</td><td>0</td><td>1</td><td>0</td></tr><tr><td>1.069064</td><td>11.0</td><td>59.99</td><td>20</td><td>0.3571</td><td>11.0</td><td>23</td><td>1</td><td>158</td><td>1</td><td>0</td><td>0</td><td>0</td></tr><tr><td>0.648105</td><td>10.0</td><td>88.91</td><td>30</td><td>-1.0869e-15</td><td>11.0</td><td>33</td><td>0</td><td>145</td><td>0</td><td>0</td><td>1</td><td>0</td></tr><tr><td>-1.106273</td><td>6.0</td><td>66.0</td><td>40</td><td>-2.269777</td><td>4.0</td><td>48</td><td>0</td><td>12</td><td>1</td><td>0</td><td>1</td><td>1</td></tr><tr><td>0.94928</td><td>11.0</td><td>74.53</td><td>30</td><td>1.036854</td><td>13.0</td><td>30</td><td>0</td><td>82</td><td>1</td><td>0</td><td>1</td><td>0</td></tr><tr><td>0.086062</td><td>9.0</td><td>69.88</td><td>20</td><td>0.049415</td><td>11.0</td><td>20</td><td>0</td><td>78</td><td>1</td><td>0</td><td>1</td><td>0</td></tr><tr><td>-1.32935</td><td>6.0</td><td>47.64</td><td>40</td><td>-0.698264</td><td>9.0</td><td>49</td><td>0</td><td>171</td><td>0</td><td>1</td><td>0</td><td>1</td></tr><tr><td>1.163653</td><td>11.0</td><td>83.07</td><td>30</td><td>-1.0869e-15</td><td>11.0</td><td>37</td><td>0</td><td>34</td><td>1</td><td>0</td><td>1</td><td>0</td></tr><tr><td>&hellip;</td><td>&hellip;</td><td>&hellip;</td><td>&hellip;</td><td>&hellip;</td><td>&hellip;</td><td>&hellip;</td><td>&hellip;</td><td>&hellip;</td><td>&hellip;</td><td>&hellip;</td><td>&hellip;</td><td>&hellip;</td></tr><tr><td>0.557408</td><td>10.0</td><td>89.71</td><td>40</td><td>-0.259891</td><td>10.0</td><td>48</td><td>0</td><td>16</td><td>1</td><td>0</td><td>1</td><td>0</td></tr><tr><td>1.74837</td><td>12.0</td><td>70.96</td><td>30</td><td>0.015469</td><td>11.0</td><td>31</td><td>1</td><td>181</td><td>0</td><td>0</td><td>0</td><td>0</td></tr><tr><td>-0.330774</td><td>8.0</td><td>35.79</td><td>40</td><td>-1.581112</td><td>6.0</td><td>44</td><td>0</td><td>213</td><td>1</td><td>0</td><td>1</td><td>1</td></tr><tr><td>-0.902207</td><td>7.0</td><td>38.96</td><td>30</td><td>-1.380621</td><td>7.0</td><td>38</td><td>0</td><td>46</td><td>1</td><td>0</td><td>1</td><td>1</td></tr><tr><td>-1.292705</td><td>6.0</td><td>69.17</td><td>40</td><td>0.837555</td><td>13.0</td><td>40</td><td>1</td><td>141</td><td>0</td><td>0</td><td>0</td><td>1</td></tr><tr><td>1.089447</td><td>11.0</td><td>64.2</td><td>20</td><td>0.838089</td><td>13.0</td><td>27</td><td>0</td><td>101</td><td>1</td><td>0</td><td>1</td><td>0</td></tr><tr><td>-0.16152</td><td>8.0</td><td>43.7</td><td>20</td><td>0.608478</td><td>12.0</td><td>28</td><td>0</td><td>135</td><td>0</td><td>0</td><td>1</td><td>1</td></tr><tr><td>0.653143</td><td>10.0</td><td>72.97</td><td>30</td><td>1.225277</td><td>14.0</td><td>30</td><td>0</td><td>116</td><td>1</td><td>0</td><td>1</td><td>1</td></tr><tr><td>-1.045351</td><td>6.0</td><td>51.3</td><td>40</td><td>0.956197</td><td>13.0</td><td>45</td><td>1</td><td>26</td><td>1</td><td>0</td><td>0</td><td>1</td></tr><tr><td>-1.36714</td><td>6.0</td><td>51.63</td><td>50</td><td>-0.938541</td><td>8.0</td><td>51</td><td>0</td><td>140</td><td>1</td><td>1</td><td>0</td><td>1</td></tr><tr><td>0.180652</td><td>9.0</td><td>55.55</td><td>10</td><td>-0.975509</td><td>8.0</td><td>19</td><td>0</td><td>85</td><td>0</td><td>0</td><td>1</td><td>0</td></tr><tr><td>-0.039218</td><td>8.0</td><td>45.01</td><td>20</td><td>-1.875205</td><td>5.0</td><td>26</td><td>1</td><td>28</td><td>0</td><td>0</td><td>0</td><td>1</td></tr></tbody></table></div>"
      ],
      "text/plain": [
       "shape: (1_000, 13)\n",
       "┌────────────┬────────────┬────────────┬──────────┬───┬───────────┬────────────┬────────────┬────────────┐\n",
       "│ Daily      ┆ Daily      ┆ Daily Time ┆ Age Band ┆ … ┆ Test_Bina ┆ One_Hot_Te ┆ One_Hot_Te ┆ Clicked on │\n",
       "│ Internet   ┆ Internet   ┆ Spent on   ┆ ---      ┆   ┆ ry        ┆ st_C       ┆ st_A       ┆ Ad         │\n",
       "│ Usage      ┆ Usage Band ┆ Site       ┆ i64      ┆   ┆ ---       ┆ ---        ┆ ---        ┆ ---        │\n",
       "│ ---        ┆ ---        ┆ ---        ┆          ┆   ┆ u8        ┆ i32        ┆ i32        ┆ i64        │\n",
       "│ f64        ┆ f64        ┆ f64        ┆          ┆   ┆           ┆            ┆            ┆            │\n",
       "╞════════════╪════════════╪════════════╪══════════╪═══╪═══════════╪════════════╪════════════╪════════════╡\n",
       "│ 1.74127    ┆ 12.0       ┆ 68.95      ┆ 30       ┆ … ┆ 0         ┆ 0          ┆ 1          ┆ 0          │\n",
       "│ 0.313948   ┆ 9.0        ┆ 80.23      ┆ 30       ┆ … ┆ 1         ┆ 0          ┆ 0          ┆ 0          │\n",
       "│ 1.292598   ┆ 11.0       ┆ 69.47      ┆ 20       ┆ … ┆ 0         ┆ 0          ┆ 1          ┆ 0          │\n",
       "│ 1.507658   ┆ 12.0       ┆ 74.15      ┆ 20       ┆ … ┆ 1         ┆ 0          ┆ 0          ┆ 0          │\n",
       "│ …          ┆ …          ┆ …          ┆ …        ┆ … ┆ …         ┆ …          ┆ …          ┆ …          │\n",
       "│ -1.045351  ┆ 6.0        ┆ 51.3       ┆ 40       ┆ … ┆ 1         ┆ 0          ┆ 0          ┆ 1          │\n",
       "│ -1.36714   ┆ 6.0        ┆ 51.63      ┆ 50       ┆ … ┆ 1         ┆ 1          ┆ 0          ┆ 1          │\n",
       "│ 0.180652   ┆ 9.0        ┆ 55.55      ┆ 10       ┆ … ┆ 0         ┆ 0          ┆ 1          ┆ 0          │\n",
       "│ -0.039218  ┆ 8.0        ┆ 45.01      ┆ 20       ┆ … ┆ 0         ┆ 0          ┆ 0          ┆ 1          │\n",
       "└────────────┴────────────┴────────────┴──────────┴───┴───────────┴────────────┴────────────┴────────────┘"
      ]
     },
     "execution_count": 5,
     "metadata": {},
     "output_type": "execute_result"
    }
   ],
   "source": [
    "blueprint.collect()"
   ]
  },
  {
   "cell_type": "code",
   "execution_count": 6,
   "metadata": {},
   "outputs": [],
   "source": [
    "blueprint.write_json(\"pipe.json\")"
   ]
  },
  {
   "cell_type": "code",
   "execution_count": 7,
   "metadata": {},
   "outputs": [],
   "source": [
    "f = open(\"pipe.json\", \"r\")\n",
    "json_str = f.read()\n",
    "f.close()\n",
    "\n",
    "new_lf = pl.scan_csv(\"../data/advertising.csv\").from_json(json_str)"
   ]
  },
  {
   "cell_type": "code",
   "execution_count": 8,
   "metadata": {},
   "outputs": [
    {
     "data": {
      "text/html": [
       "<div><style>\n",
       ".dataframe > thead > tr > th,\n",
       ".dataframe > tbody > tr > td {\n",
       "  text-align: right;\n",
       "}\n",
       "</style>\n",
       "<small>shape: (1_000, 13)</small><table border=\"1\" class=\"dataframe\"><thead><tr><th>Daily Internet Usage</th><th>Daily Internet Usage Band</th><th>Daily Time Spent on Site</th><th>Age Band</th><th>Area Income</th><th>Area Income Band</th><th>Age</th><th>One_Hot_Test_B</th><th>Country</th><th>Test_Binary</th><th>One_Hot_Test_C</th><th>One_Hot_Test_A</th><th>Clicked on Ad</th></tr><tr><td>bool</td><td>bool</td><td>bool</td><td>bool</td><td>bool</td><td>bool</td><td>bool</td><td>bool</td><td>bool</td><td>bool</td><td>bool</td><td>bool</td><td>bool</td></tr></thead><tbody><tr><td>false</td><td>true</td><td>true</td><td>true</td><td>true</td><td>true</td><td>true</td><td>true</td><td>true</td><td>true</td><td>true</td><td>true</td><td>true</td></tr><tr><td>false</td><td>true</td><td>true</td><td>true</td><td>true</td><td>true</td><td>true</td><td>true</td><td>true</td><td>true</td><td>true</td><td>true</td><td>true</td></tr><tr><td>false</td><td>true</td><td>true</td><td>true</td><td>false</td><td>true</td><td>true</td><td>true</td><td>true</td><td>true</td><td>true</td><td>true</td><td>true</td></tr><tr><td>false</td><td>true</td><td>true</td><td>true</td><td>false</td><td>true</td><td>true</td><td>true</td><td>true</td><td>true</td><td>true</td><td>true</td><td>true</td></tr><tr><td>false</td><td>true</td><td>true</td><td>true</td><td>false</td><td>true</td><td>true</td><td>true</td><td>true</td><td>true</td><td>true</td><td>true</td><td>true</td></tr><tr><td>false</td><td>true</td><td>true</td><td>true</td><td>false</td><td>true</td><td>true</td><td>true</td><td>true</td><td>true</td><td>true</td><td>true</td><td>true</td></tr><tr><td>false</td><td>true</td><td>true</td><td>true</td><td>true</td><td>true</td><td>true</td><td>true</td><td>true</td><td>true</td><td>true</td><td>true</td><td>true</td></tr><tr><td>false</td><td>true</td><td>true</td><td>true</td><td>false</td><td>true</td><td>true</td><td>true</td><td>true</td><td>true</td><td>true</td><td>true</td><td>true</td></tr><tr><td>false</td><td>true</td><td>true</td><td>true</td><td>false</td><td>true</td><td>true</td><td>true</td><td>true</td><td>true</td><td>true</td><td>true</td><td>true</td></tr><tr><td>false</td><td>true</td><td>true</td><td>true</td><td>false</td><td>true</td><td>true</td><td>true</td><td>true</td><td>true</td><td>true</td><td>true</td><td>true</td></tr><tr><td>false</td><td>true</td><td>true</td><td>true</td><td>true</td><td>true</td><td>true</td><td>true</td><td>true</td><td>true</td><td>true</td><td>true</td><td>true</td></tr><tr><td>false</td><td>true</td><td>true</td><td>true</td><td>true</td><td>true</td><td>true</td><td>true</td><td>true</td><td>true</td><td>true</td><td>true</td><td>true</td></tr><tr><td>&hellip;</td><td>&hellip;</td><td>&hellip;</td><td>&hellip;</td><td>&hellip;</td><td>&hellip;</td><td>&hellip;</td><td>&hellip;</td><td>&hellip;</td><td>&hellip;</td><td>&hellip;</td><td>&hellip;</td><td>&hellip;</td></tr><tr><td>false</td><td>true</td><td>true</td><td>true</td><td>false</td><td>true</td><td>true</td><td>true</td><td>true</td><td>true</td><td>true</td><td>true</td><td>true</td></tr><tr><td>false</td><td>true</td><td>true</td><td>true</td><td>false</td><td>true</td><td>true</td><td>true</td><td>true</td><td>true</td><td>true</td><td>true</td><td>true</td></tr><tr><td>false</td><td>true</td><td>true</td><td>true</td><td>false</td><td>true</td><td>true</td><td>true</td><td>true</td><td>true</td><td>true</td><td>true</td><td>true</td></tr><tr><td>false</td><td>true</td><td>true</td><td>true</td><td>false</td><td>true</td><td>true</td><td>true</td><td>true</td><td>true</td><td>true</td><td>true</td><td>true</td></tr><tr><td>false</td><td>true</td><td>true</td><td>true</td><td>false</td><td>true</td><td>true</td><td>true</td><td>true</td><td>true</td><td>true</td><td>true</td><td>true</td></tr><tr><td>false</td><td>true</td><td>true</td><td>true</td><td>false</td><td>true</td><td>true</td><td>true</td><td>true</td><td>true</td><td>true</td><td>true</td><td>true</td></tr><tr><td>false</td><td>true</td><td>true</td><td>true</td><td>false</td><td>true</td><td>true</td><td>true</td><td>true</td><td>true</td><td>true</td><td>true</td><td>true</td></tr><tr><td>false</td><td>true</td><td>true</td><td>true</td><td>true</td><td>true</td><td>true</td><td>true</td><td>true</td><td>true</td><td>true</td><td>true</td><td>true</td></tr><tr><td>false</td><td>true</td><td>true</td><td>true</td><td>false</td><td>true</td><td>true</td><td>true</td><td>true</td><td>true</td><td>true</td><td>true</td><td>true</td></tr><tr><td>false</td><td>true</td><td>true</td><td>true</td><td>false</td><td>true</td><td>true</td><td>true</td><td>true</td><td>true</td><td>true</td><td>true</td><td>true</td></tr><tr><td>false</td><td>true</td><td>true</td><td>true</td><td>false</td><td>true</td><td>true</td><td>true</td><td>true</td><td>true</td><td>true</td><td>true</td><td>true</td></tr><tr><td>false</td><td>true</td><td>true</td><td>true</td><td>false</td><td>true</td><td>true</td><td>true</td><td>true</td><td>true</td><td>true</td><td>true</td><td>true</td></tr></tbody></table></div>"
      ],
      "text/plain": [
       "shape: (1_000, 13)\n",
       "┌────────────┬────────────┬────────────┬──────────┬───┬───────────┬────────────┬────────────┬────────────┐\n",
       "│ Daily      ┆ Daily      ┆ Daily Time ┆ Age Band ┆ … ┆ Test_Bina ┆ One_Hot_Te ┆ One_Hot_Te ┆ Clicked on │\n",
       "│ Internet   ┆ Internet   ┆ Spent on   ┆ ---      ┆   ┆ ry        ┆ st_C       ┆ st_A       ┆ Ad         │\n",
       "│ Usage      ┆ Usage Band ┆ Site       ┆ bool     ┆   ┆ ---       ┆ ---        ┆ ---        ┆ ---        │\n",
       "│ ---        ┆ ---        ┆ ---        ┆          ┆   ┆ bool      ┆ bool       ┆ bool       ┆ bool       │\n",
       "│ bool       ┆ bool       ┆ bool       ┆          ┆   ┆           ┆            ┆            ┆            │\n",
       "╞════════════╪════════════╪════════════╪══════════╪═══╪═══════════╪════════════╪════════════╪════════════╡\n",
       "│ false      ┆ true       ┆ true       ┆ true     ┆ … ┆ true      ┆ true       ┆ true       ┆ true       │\n",
       "│ false      ┆ true       ┆ true       ┆ true     ┆ … ┆ true      ┆ true       ┆ true       ┆ true       │\n",
       "│ false      ┆ true       ┆ true       ┆ true     ┆ … ┆ true      ┆ true       ┆ true       ┆ true       │\n",
       "│ false      ┆ true       ┆ true       ┆ true     ┆ … ┆ true      ┆ true       ┆ true       ┆ true       │\n",
       "│ …          ┆ …          ┆ …          ┆ …        ┆ … ┆ …         ┆ …          ┆ …          ┆ …          │\n",
       "│ false      ┆ true       ┆ true       ┆ true     ┆ … ┆ true      ┆ true       ┆ true       ┆ true       │\n",
       "│ false      ┆ true       ┆ true       ┆ true     ┆ … ┆ true      ┆ true       ┆ true       ┆ true       │\n",
       "│ false      ┆ true       ┆ true       ┆ true     ┆ … ┆ true      ┆ true       ┆ true       ┆ true       │\n",
       "│ false      ┆ true       ┆ true       ┆ true     ┆ … ┆ true      ┆ true       ┆ true       ┆ true       │\n",
       "└────────────┴────────────┴────────────┴──────────┴───┴───────────┴────────────┴────────────┴────────────┘"
      ]
     },
     "execution_count": 8,
     "metadata": {},
     "output_type": "execute_result"
    }
   ],
   "source": [
    "new_lf.collect() == blueprint.collect()"
   ]
  },
  {
   "cell_type": "code",
   "execution_count": 13,
   "metadata": {},
   "outputs": [
    {
     "data": {
      "text/plain": [
       "[1.7412697431103392,\n",
       " 0.3139482114806544,\n",
       " 1.2925979073493394,\n",
       " 1.5076580675226823,\n",
       " 1.042495995837848,\n",
       " 1.0690635981595813,\n",
       " 0.6481045199928033,\n",
       " -1.1062733574596026,\n",
       " 0.9492803566572823,\n",
       " 0.08606231225543946,\n",
       " -1.3293496045403654,\n",
       " 1.1636534236671328,\n",
       " -1.5331872430433209,\n",
       " 0.7825457489829544,\n",
       " -0.8360167131523129,\n",
       " -0.9028937810656426,\n",
       " -1.1600956552665629,\n",
       " 0.07690107007553121,\n",
       " -1.4124878773230316,\n",
       " -1.0203867120229642]"
      ]
     },
     "execution_count": 13,
     "metadata": {},
     "output_type": "execute_result"
    }
   ],
   "source": [
    "new_lf.collect()[\"Daily Internet Usage\"].to_list()[:20]"
   ]
  },
  {
   "cell_type": "code",
   "execution_count": 14,
   "metadata": {},
   "outputs": [
    {
     "data": {
      "text/plain": [
       "[1.7412697431103386,\n",
       " 0.31394821148065377,\n",
       " 1.2925979073493388,\n",
       " 1.5076580675226816,\n",
       " 1.0424959958378472,\n",
       " 1.0690635981595806,\n",
       " 0.6481045199928026,\n",
       " -1.1062733574596033,\n",
       " 0.9492803566572816,\n",
       " 0.08606231225543881,\n",
       " -1.329349604540366,\n",
       " 1.163653423667132,\n",
       " -1.5331872430433215,\n",
       " 0.7825457489829538,\n",
       " -0.8360167131523135,\n",
       " -0.9028937810656432,\n",
       " -1.1600956552665636,\n",
       " 0.07690107007553057,\n",
       " -1.4124878773230323,\n",
       " -1.0203867120229648]"
      ]
     },
     "execution_count": 14,
     "metadata": {},
     "output_type": "execute_result"
    }
   ],
   "source": [
    "blueprint.collect()[\"Daily Internet Usage\"].to_list()[:20]"
   ]
  },
  {
   "cell_type": "code",
   "execution_count": 11,
   "metadata": {},
   "outputs": [],
   "source": [
    "# Ok some small precision issues.. FFFFFFFFFFFFFFFFFFFF"
   ]
  }
 ],
 "metadata": {
  "kernelspec": {
   "display_name": "my_py11",
   "language": "python",
   "name": "python3"
  },
  "language_info": {
   "codemirror_mode": {
    "name": "ipython",
    "version": 3
   },
   "file_extension": ".py",
   "mimetype": "text/x-python",
   "name": "python",
   "nbconvert_exporter": "python",
   "pygments_lexer": "ipython3",
   "version": "3.11.3"
  },
  "orig_nbformat": 4
 },
 "nbformat": 4,
 "nbformat_minor": 2
}
