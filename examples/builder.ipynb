{
 "cells": [
  {
   "cell_type": "code",
   "execution_count": 1,
   "metadata": {},
   "outputs": [],
   "source": [
    "import polars as pl\n",
    "import sys\n",
    "sys.path.append('../src')\n",
    "from dsds.builder import PipeBuilder, ImputationStartegy, ScalingStrategy\n",
    "from dsds.transform import EncoderRecord, EncodingStrategy\n",
    "from dsds.fs import mutual_info_selector"
   ]
  },
  {
   "cell_type": "code",
   "execution_count": 2,
   "metadata": {},
   "outputs": [
    {
     "data": {
      "text/html": [
       "<div><style>\n",
       ".dataframe > thead > tr > th,\n",
       ".dataframe > tbody > tr > td {\n",
       "  text-align: right;\n",
       "}\n",
       "</style>\n",
       "<small>shape: (5, 18)</small><table border=\"1\" class=\"dataframe\"><thead><tr><th>Daily Time Spent on Site</th><th>Age</th><th>Area Income</th><th>Daily Internet Usage</th><th>Ad Topic Line</th><th>City</th><th>Male</th><th>Country</th><th>Timestamp</th><th>Clicked on Ad</th><th>One_Hot_Test</th><th>Age Band</th><th>Daily Internet Usage Band</th><th>Area Income Band</th><th>Test_Constant</th><th>Test_Str_Constant</th><th>Test_BadColumn</th><th>Test_Binary</th></tr><tr><td>f64</td><td>i64</td><td>f64</td><td>f64</td><td>str</td><td>str</td><td>i64</td><td>str</td><td>str</td><td>i64</td><td>str</td><td>i64</td><td>f64</td><td>f64</td><td>i32</td><td>str</td><td>i32</td><td>str</td></tr></thead><tbody><tr><td>68.95</td><td>35</td><td>61833.9</td><td>256.09</td><td>&quot;Cloned 5thgene…</td><td>&quot;Wrightburgh&quot;</td><td>0</td><td>&quot;Tunisia&quot;</td><td>&quot;3/27/2016 0:53…</td><td>0</td><td>&quot;A&quot;</td><td>30</td><td>12.0</td><td>12.0</td><td>1</td><td>&quot;SSS&quot;</td><td>0</td><td>&quot;A&quot;</td></tr><tr><td>80.23</td><td>31</td><td>68441.85</td><td>193.77</td><td>&quot;Monitored nati…</td><td>&quot;West Jodi&quot;</td><td>1</td><td>&quot;Nauru&quot;</td><td>&quot;4/4/2016 1:39&quot;</td><td>0</td><td>&quot;B&quot;</td><td>30</td><td>9.0</td><td>13.0</td><td>1</td><td>&quot;SSS&quot;</td><td>null</td><td>&quot;B&quot;</td></tr><tr><td>69.47</td><td>26</td><td>59785.94</td><td>236.5</td><td>&quot;Organic bottom…</td><td>&quot;Davidton&quot;</td><td>0</td><td>&quot;San Marino&quot;</td><td>&quot;3/13/2016 20:3…</td><td>0</td><td>&quot;A&quot;</td><td>20</td><td>11.0</td><td>11.0</td><td>1</td><td>&quot;SSS&quot;</td><td>0</td><td>&quot;A&quot;</td></tr><tr><td>74.15</td><td>29</td><td>54806.18</td><td>245.89</td><td>&quot;Triple-buffere…</td><td>&quot;West Terrifurt…</td><td>1</td><td>&quot;Italy&quot;</td><td>&quot;1/10/2016 2:31…</td><td>0</td><td>&quot;B&quot;</td><td>20</td><td>12.0</td><td>10.0</td><td>1</td><td>&quot;SSS&quot;</td><td>null</td><td>&quot;B&quot;</td></tr><tr><td>68.37</td><td>35</td><td>73889.99</td><td>225.58</td><td>&quot;Robust logisti…</td><td>&quot;South Manuel&quot;</td><td>0</td><td>&quot;Iceland&quot;</td><td>&quot;6/3/2016 3:36&quot;</td><td>0</td><td>&quot;A&quot;</td><td>30</td><td>11.0</td><td>14.0</td><td>1</td><td>&quot;SSS&quot;</td><td>0</td><td>&quot;A&quot;</td></tr></tbody></table></div>"
      ],
      "text/plain": [
       "shape: (5, 18)\n",
       "┌────────────┬─────┬───────────┬────────────┬───┬────────────┬────────────┬────────────┬───────────┐\n",
       "│ Daily Time ┆ Age ┆ Area      ┆ Daily      ┆ … ┆ Test_Const ┆ Test_Str_C ┆ Test_BadCo ┆ Test_Bina │\n",
       "│ Spent on   ┆ --- ┆ Income    ┆ Internet   ┆   ┆ ant        ┆ onstant    ┆ lumn       ┆ ry        │\n",
       "│ Site       ┆ i64 ┆ ---       ┆ Usage      ┆   ┆ ---        ┆ ---        ┆ ---        ┆ ---       │\n",
       "│ ---        ┆     ┆ f64       ┆ ---        ┆   ┆ i32        ┆ str        ┆ i32        ┆ str       │\n",
       "│ f64        ┆     ┆           ┆ f64        ┆   ┆            ┆            ┆            ┆           │\n",
       "╞════════════╪═════╪═══════════╪════════════╪═══╪════════════╪════════════╪════════════╪═══════════╡\n",
       "│ 68.95      ┆ 35  ┆ 61833.9   ┆ 256.09     ┆ … ┆ 1          ┆ SSS        ┆ 0          ┆ A         │\n",
       "│ 80.23      ┆ 31  ┆ 68441.85  ┆ 193.77     ┆ … ┆ 1          ┆ SSS        ┆ null       ┆ B         │\n",
       "│ 69.47      ┆ 26  ┆ 59785.94  ┆ 236.5      ┆ … ┆ 1          ┆ SSS        ┆ 0          ┆ A         │\n",
       "│ 74.15      ┆ 29  ┆ 54806.18  ┆ 245.89     ┆ … ┆ 1          ┆ SSS        ┆ null       ┆ B         │\n",
       "│ 68.37      ┆ 35  ┆ 73889.99  ┆ 225.58     ┆ … ┆ 1          ┆ SSS        ┆ 0          ┆ A         │\n",
       "└────────────┴─────┴───────────┴────────────┴───┴────────────┴────────────┴────────────┴───────────┘"
      ]
     },
     "execution_count": 2,
     "metadata": {},
     "output_type": "execute_result"
    }
   ],
   "source": [
    "df = pl.read_csv(\"../data/advertising.csv\").with_columns([\n",
    "    ((pl.col(\"Age\") // 10) * 10).alias(\"Age Band\"),\n",
    "    (pl.col(\"Daily Internet Usage\") // 20).alias(\"Daily Internet Usage Band\"),\n",
    "    (pl.col(\"Area Income\") // 5000).alias(\"Area Income Band\"),\n",
    "    pl.lit(1).alias(\"Test_Constant\"),\n",
    "    pl.lit(\"SSS\").alias(\"Test_Str_Constant\"),\n",
    "    pl.when(pl.col(\"Male\") == 0).then(0).otherwise(None).alias(\"Test_BadColumn\"),\n",
    "    pl.when(pl.col(\"Male\") == 0).then(\"A\").otherwise(\"B\").alias(\"Test_Binary\"),\n",
    "])\n",
    "target = \"Clicked on Ad\"\n",
    "df.head() "
   ]
  },
  {
   "cell_type": "code",
   "execution_count": 3,
   "metadata": {},
   "outputs": [],
   "source": [
    "# This is an example of an automative feature selection Pipeline.\n",
    "# You may add more selectors to create a feature sieve.\n",
    "\n",
    "builder = PipeBuilder()\n",
    "builder = builder.set_data_and_target(df = df, target=\"Clicked on Ad\")\\\n",
    "    .set_var_removal(threshold=0.5)\\\n",
    "    .set_const_removal()\\\n",
    "    .set_binary_encoding()\\\n",
    "    .set_impute(cols=[\"Daily Internet Usage\", \"Daily Internet Usage Band\", \"Area Income Band\"])\\\n",
    "    .set_impute(cols=[\"Area Income\"], strategy=ImputationStartegy.MEAN)\\\n",
    "    .set_scaling(cols=[\"Area Income\", \"Daily Internet Usage\"])\\\n",
    "    .set_one_hot_encoding(cols=[\"One_Hot_Test\"])\\\n",
    "    .set_ordinal_auto_encoding(cols=[\"City\", \"Country\"])\\\n",
    "    .set_col_removal(cols=[\"Ad Topic Line\", \"Timestamp\"])\\\n",
    "    .set_percentile_encoding(cols=[\"Daily Internet Usage\"])\\\n",
    "    .add_selector(\n",
    "        mutual_info_selector\n",
    "        , desc = \"Use Mutual Info to select top 5 features\"\n",
    "        , args = {\"top_k\":5}\n",
    "    ) \n",
    "    # This will select top 3 numerical features by mutual information, together with \n",
    "    # other features that cannot be processed by mutual information.\n",
    "    # There is no need to provide target for the selector here because it is provided at the beginning."
   ]
  },
  {
   "cell_type": "code",
   "execution_count": 4,
   "metadata": {},
   "outputs": [
    {
     "name": "stdout",
     "output_type": "stream",
     "text": [
      "Step at index 2:\n",
      "Function: binary_encode | Module: dsds.transform | Arguments:\n",
      "{'cols': None}\n",
      "Brief description: Automatically detect binary columns and turn them into [0,1] values by their order.\n",
      "This step is will fit and transform the data.\n",
      "Step at index 6:\n",
      "Function: one_hot_encode | Module: dsds.transform | Arguments:\n",
      "{'cols': ['One_Hot_Test'], 'separator': '_'}\n",
      "Brief description: Encode string values of given columns into numbers with inferred ordering.\n",
      "This step is will fit and transform the data.\n",
      "Step at index 7:\n",
      "Function: ordinal_auto_encode | Module: dsds.transform | Arguments:\n",
      "{'cols': ['City', 'Country'], 'default': None}\n",
      "Brief description: Encode string values of given columns into numbers with inferred ordering.\n",
      "This step is will fit and transform the data.\n",
      "Step at index 9:\n",
      "Function: percentile_encode | Module: dsds.transform | Arguments:\n",
      "{'cols': ['Daily Internet Usage']}\n",
      "Brief description: Encode a continuous column by percentiles.\n",
      "This step is will fit and transform the data.\n"
     ]
    }
   ],
   "source": [
    "builder.find(\"encode\")"
   ]
  },
  {
   "cell_type": "code",
   "execution_count": 5,
   "metadata": {},
   "outputs": [
    {
     "name": "stdout",
     "output_type": "stream",
     "text": [
      "Project name: my_project\n",
      "Total steps: 11 | Target variable: Clicked on Ad\n",
      "--- Step 1: ---\n",
      "Function: var_removal | Module: dsds.prescreen | Arguments:\n",
      "{'threshold': 0.5, 'target': 'Clicked on Ad'}\n",
      "Brief description: Remove columns with less than 0.5 variance. (Not recommended.)\n",
      "--- Step 2: ---\n",
      "Function: constant_removal | Module: dsds.prescreen | Arguments:\n",
      "{'include_null': True}\n",
      "Brief description: Remove columns that are constants.\n",
      "--- Step 3: ---\n",
      "Function: binary_encode | Module: dsds.transform | Arguments:\n",
      "{'cols': None}\n",
      "Brief description: Automatically detect binary columns and turn them into [0,1] values by their order.\n",
      "This step is will fit and transform the data.\n",
      "--- Step 4: ---\n",
      "Function: impute | Module: dsds.transform | Arguments:\n",
      "{'cols': ['Daily Internet Usage', 'Daily Internet Usage Band', 'Area Income Band'], 'strategy': <ImputationStartegy.MEDIAN: 'MEDIAN'>, 'const': 1}\n",
      "Brief description: Impute using specified the ImputationStartegy.MEDIAN imputation method.\n",
      "This step is will fit and transform the data.\n",
      "--- Step 5: ---\n",
      "Function: impute | Module: dsds.transform | Arguments:\n",
      "{'cols': ['Area Income'], 'strategy': <ImputationStartegy.MEAN: 'MEAN'>, 'const': 1}\n",
      "Brief description: Impute using specified the ImputationStartegy.MEAN imputation method.\n",
      "This step is will fit and transform the data.\n",
      "--- Step 6: ---\n",
      "Function: scale | Module: dsds.transform | Arguments:\n",
      "{'cols': ['Area Income', 'Daily Internet Usage'], 'strategy': <ScalingStrategy.NORMALIZE: 'NORMALIZE'>, 'const': 1}\n",
      "Brief description: Scale using specified the ScalingStrategy.NORMALIZE scaling method.\n",
      "This step is will fit and transform the data.\n",
      "--- Step 7: ---\n",
      "Function: one_hot_encode | Module: dsds.transform | Arguments:\n",
      "{'cols': ['One_Hot_Test'], 'separator': '_'}\n",
      "Brief description: Encode string values of given columns into numbers with inferred ordering.\n",
      "This step is will fit and transform the data.\n",
      "--- Step 8: ---\n",
      "Function: ordinal_auto_encode | Module: dsds.transform | Arguments:\n",
      "{'cols': ['City', 'Country'], 'default': None}\n",
      "Brief description: Encode string values of given columns into numbers with inferred ordering.\n",
      "This step is will fit and transform the data.\n",
      "--- Step 9: ---\n",
      "Function: remove_if_exists | Module: dsds.prescreen | Arguments:\n",
      "{'to_drop': ['Ad Topic Line', 'Timestamp']}\n",
      "Brief description: Remove given if they exist in dataframe.\n",
      "--- Step 10: ---\n",
      "Function: percentile_encode | Module: dsds.transform | Arguments:\n",
      "{'cols': ['Daily Internet Usage']}\n",
      "Brief description: Encode a continuous column by percentiles.\n",
      "This step is will fit and transform the data.\n",
      "--- Step 11: ---\n",
      "Function: mutual_info_selector | Module: dsds.fs | Arguments:\n",
      "{'top_k': 5, 'target': 'Clicked on Ad'}\n",
      "Brief description: Use Mutual Info to select top 5 features\n",
      "\n"
     ]
    }
   ],
   "source": [
    "print(builder)"
   ]
  },
  {
   "cell_type": "code",
   "execution_count": 6,
   "metadata": {},
   "outputs": [
    {
     "name": "stderr",
     "output_type": "stream",
     "text": [
      "INFO:dsds.builder:Starting to build. Total steps: 11.\n",
      "INFO:dsds.builder:|1/11|: Step: var_removal | is_fit: False | is_selector: False\n",
      "INFO:dsds.prescreen:The following columns are dropped because they have lower than 0.5 variance. ['Male', 'Test_Constant', 'Test_BadColumn'].\n",
      "Removed a total of 3 columns.\n",
      "INFO:dsds.builder:|1/11|: Finished in 0.00s | Success: True\n",
      "INFO:dsds.builder:|2/11|: Step: constant_removal | is_fit: False | is_selector: False\n",
      "INFO:dsds.prescreen:The following columns are dropped because they are constants. ['Test_Str_Constant'].\n",
      "Removed a total of 1 columns.\n",
      "INFO:dsds.builder:|2/11|: Finished in 0.00s | Success: True\n",
      "INFO:dsds.builder:|3/11|: Step: binary_encode | is_fit: True | is_selector: False\n",
      "INFO:dsds.transform:Transforming Test_Binary into a binary column with [0, 1] ...\n",
      "INFO:dsds.builder:|3/11|: Finished in 0.00s | Success: True\n",
      "INFO:dsds.builder:|4/11|: Step: impute | is_fit: True | is_selector: False\n",
      "INFO:dsds.builder:|4/11|: Finished in 0.00s | Success: True\n",
      "INFO:dsds.builder:|5/11|: Step: impute | is_fit: True | is_selector: False\n",
      "INFO:dsds.builder:|5/11|: Finished in 0.00s | Success: True\n",
      "INFO:dsds.builder:|6/11|: Step: scale | is_fit: True | is_selector: False\n",
      "INFO:dsds.builder:|6/11|: Finished in 0.00s | Success: True\n",
      "INFO:dsds.builder:|7/11|: Step: one_hot_encode | is_fit: True | is_selector: False\n",
      "INFO:dsds.builder:|7/11|: Finished in 0.00s | Success: True\n",
      "INFO:dsds.builder:|8/11|: Step: ordinal_auto_encode | is_fit: True | is_selector: False\n",
      "INFO:dsds.builder:|8/11|: Finished in 0.00s | Success: True\n",
      "INFO:dsds.builder:|9/11|: Step: remove_if_exists | is_fit: False | is_selector: False\n",
      "INFO:dsds.prescreen:The following columns are dropped. ['Timestamp', 'Ad Topic Line'].\n",
      "Removed a total of 2 columns.\n",
      "INFO:dsds.builder:|9/11|: Finished in 0.00s | Success: True\n",
      "INFO:dsds.builder:|10/11|: Step: percentile_encode | is_fit: True | is_selector: False\n",
      "INFO:dsds.builder:|10/11|: Finished in 0.01s | Success: True\n",
      "INFO:dsds.builder:|11/11|: Step: mutual_info_selector | is_fit: False | is_selector: True\n",
      "Mutual Info: 100%|██████████| 13/13 [00:00<00:00, 162.00it/s]\n",
      "INFO:dsds.builder:The following features are kept: ['Daily Internet Usage Band', 'Daily Internet Usage', 'Daily Time Spent on Site', 'Area Income', 'Area Income Band'] + ... Only showing top 10.\n",
      "INFO:dsds.builder:|11/11|: Finished in 0.09s | Success: True\n",
      "INFO:dsds.builder:Build success. A blueprint has been built and can be viewed by calling .blueprint(), and can be saved as a json by calling .write()\n"
     ]
    },
    {
     "name": "stdout",
     "output_type": "stream",
     "text": [
      "Selected 5 features. There are 0 features the algorithm cannot process. They are also returned.\n"
     ]
    },
    {
     "data": {
      "text/html": [
       "<div><style>\n",
       ".dataframe > thead > tr > th,\n",
       ".dataframe > tbody > tr > td {\n",
       "  text-align: right;\n",
       "}\n",
       "</style>\n",
       "<small>shape: (5, 6)</small><table border=\"1\" class=\"dataframe\"><thead><tr><th>Daily Internet Usage Band</th><th>Daily Internet Usage</th><th>Daily Time Spent on Site</th><th>Area Income</th><th>Area Income Band</th><th>Clicked on Ad</th></tr><tr><td>f64</td><td>u8</td><td>f64</td><td>f64</td><td>f64</td><td>i64</td></tr></thead><tbody><tr><td>12.0</td><td>99</td><td>68.95</td><td>0.511893</td><td>12.0</td><td>0</td></tr><tr><td>9.0</td><td>57</td><td>80.23</td><td>1.005471</td><td>13.0</td><td>0</td></tr><tr><td>11.0</td><td>91</td><td>69.47</td><td>0.358921</td><td>11.0</td><td>0</td></tr><tr><td>12.0</td><td>95</td><td>74.15</td><td>-0.01304</td><td>10.0</td><td>0</td></tr><tr><td>11.0</td><td>82</td><td>68.37</td><td>1.412418</td><td>14.0</td><td>0</td></tr></tbody></table></div>"
      ],
      "text/plain": [
       "shape: (5, 6)\n",
       "┌──────────────────┬─────────────────┬─────────────────┬─────────────┬─────────────┬───────────────┐\n",
       "│ Daily Internet   ┆ Daily Internet  ┆ Daily Time      ┆ Area Income ┆ Area Income ┆ Clicked on Ad │\n",
       "│ Usage Band       ┆ Usage           ┆ Spent on Site   ┆ ---         ┆ Band        ┆ ---           │\n",
       "│ ---              ┆ ---             ┆ ---             ┆ f64         ┆ ---         ┆ i64           │\n",
       "│ f64              ┆ u8              ┆ f64             ┆             ┆ f64         ┆               │\n",
       "╞══════════════════╪═════════════════╪═════════════════╪═════════════╪═════════════╪═══════════════╡\n",
       "│ 12.0             ┆ 99              ┆ 68.95           ┆ 0.511893    ┆ 12.0        ┆ 0             │\n",
       "│ 9.0              ┆ 57              ┆ 80.23           ┆ 1.005471    ┆ 13.0        ┆ 0             │\n",
       "│ 11.0             ┆ 91              ┆ 69.47           ┆ 0.358921    ┆ 11.0        ┆ 0             │\n",
       "│ 12.0             ┆ 95              ┆ 74.15           ┆ -0.01304    ┆ 10.0        ┆ 0             │\n",
       "│ 11.0             ┆ 82              ┆ 68.37           ┆ 1.412418    ┆ 14.0        ┆ 0             │\n",
       "└──────────────────┴─────────────────┴─────────────────┴─────────────┴─────────────┴───────────────┘"
      ]
     },
     "execution_count": 6,
     "metadata": {},
     "output_type": "execute_result"
    }
   ],
   "source": [
    "result1 = builder.build()\n",
    "result1.head()"
   ]
  },
  {
   "cell_type": "code",
   "execution_count": 7,
   "metadata": {},
   "outputs": [
    {
     "name": "stderr",
     "output_type": "stream",
     "text": [
      "INFO:dsds.builder:No name is specified, using project name (my_project.json) as default.\n",
      "INFO:dsds.builder:Successfully saved to ./blueprints/my_project.json.\n"
     ]
    }
   ],
   "source": [
    "builder.write()"
   ]
  },
  {
   "cell_type": "code",
   "execution_count": 8,
   "metadata": {},
   "outputs": [
    {
     "name": "stdout",
     "output_type": "stream",
     "text": [
      "--- Step 1: ---\n",
      "Function: var_removal | Module: dsds.prescreen | Arguments:\n",
      "{'threshold': 0.5, 'target': 'Clicked on Ad'}\n",
      "Brief description: Remove columns with less than 0.5 variance. (Not recommended.)\n",
      "--- Step 2: ---\n",
      "Function: constant_removal | Module: dsds.prescreen | Arguments:\n",
      "{'include_null': True}\n",
      "Brief description: Remove columns that are constants.\n",
      "--- Step 3: ---\n",
      "Function: binary_encode | Module: N/A | Arguments:\n",
      "None\n",
      "Brief description: Automatically detect binary columns and turn them into [0,1] values by their order.\n",
      "This step is will fit and transform the data.\n",
      "--- Step 4: ---\n",
      "Function: impute | Module: N/A | Arguments:\n",
      "None\n",
      "Brief description: Impute using specified the ImputationStartegy.MEDIAN imputation method.\n",
      "This step is will fit and transform the data.\n",
      "--- Step 5: ---\n",
      "Function: impute | Module: N/A | Arguments:\n",
      "None\n",
      "Brief description: Impute using specified the ImputationStartegy.MEAN imputation method.\n",
      "This step is will fit and transform the data.\n",
      "--- Step 6: ---\n",
      "Function: scale | Module: N/A | Arguments:\n",
      "None\n",
      "Brief description: Scale using specified the ScalingStrategy.NORMALIZE scaling method.\n",
      "This step is will fit and transform the data.\n",
      "--- Step 7: ---\n",
      "Function: one_hot_encode | Module: N/A | Arguments:\n",
      "None\n",
      "Brief description: Encode string values of given columns into numbers with inferred ordering.\n",
      "This step is will fit and transform the data.\n",
      "--- Step 8: ---\n",
      "Function: ordinal_auto_encode | Module: N/A | Arguments:\n",
      "None\n",
      "Brief description: Encode string values of given columns into numbers with inferred ordering.\n",
      "This step is will fit and transform the data.\n",
      "--- Step 9: ---\n",
      "Function: remove_if_exists | Module: dsds.prescreen | Arguments:\n",
      "{'to_drop': ['Ad Topic Line', 'Timestamp']}\n",
      "Brief description: Remove given if they exist in dataframe.\n",
      "--- Step 10: ---\n",
      "Function: percentile_encode | Module: N/A | Arguments:\n",
      "None\n",
      "Brief description: Encode a continuous column by percentiles.\n",
      "This step is will fit and transform the data.\n",
      "--- Step 11: ---\n",
      "Function: _select_cols | Module: dsds.builder | Arguments:\n",
      "{'cols': ['Daily Internet Usage Band', 'Daily Internet Usage', 'Daily Time Spent on Site', 'Area Income', 'Area Income Band'], 'target': 'Clicked on Ad'}\n",
      "Brief description: Use Mutual Info to select top 5 features\n",
      "\n"
     ]
    }
   ],
   "source": [
    "builder.blueprint()"
   ]
  },
  {
   "cell_type": "code",
   "execution_count": 9,
   "metadata": {},
   "outputs": [],
   "source": [
    "builder.clear()"
   ]
  },
  {
   "cell_type": "code",
   "execution_count": 10,
   "metadata": {},
   "outputs": [
    {
     "name": "stdout",
     "output_type": "stream",
     "text": [
      "No step has been set.\n"
     ]
    }
   ],
   "source": [
    "builder.blueprint()"
   ]
  },
  {
   "cell_type": "code",
   "execution_count": 11,
   "metadata": {},
   "outputs": [
    {
     "name": "stderr",
     "output_type": "stream",
     "text": [
      "INFO:dsds.builder:Reading from a blueprint. The builder will reset itself.\n",
      "INFO:dsds.builder:Successfully read from a blueprint.\n"
     ]
    },
    {
     "data": {
      "text/plain": [
       "<dsds.builder.PipeBuilder at 0x1f76dfb6290>"
      ]
     },
     "execution_count": 11,
     "metadata": {},
     "output_type": "execute_result"
    }
   ],
   "source": [
    "# Reinitialize an empty builder from a blueprint.\n",
    "builder.from_blueprint(\"./blueprints/my_project.json\")"
   ]
  },
  {
   "cell_type": "code",
   "execution_count": 12,
   "metadata": {},
   "outputs": [
    {
     "name": "stdout",
     "output_type": "stream",
     "text": [
      "--- Step 1: ---\n",
      "Function: var_removal | Module: dsds.prescreen | Arguments:\n",
      "{'threshold': 0.5, 'target': 'Clicked on Ad'}\n",
      "Brief description: Remove columns with less than 0.5 variance. (Not recommended.)\n",
      "--- Step 2: ---\n",
      "Function: constant_removal | Module: dsds.prescreen | Arguments:\n",
      "{'include_null': True}\n",
      "Brief description: Remove columns that are constants.\n",
      "--- Step 3: ---\n",
      "Function: binary_encode | Module: N/A | Arguments:\n",
      "None\n",
      "Brief description: Automatically detect binary columns and turn them into [0,1] values by their order.\n",
      "This step is will fit and transform the data.\n",
      "--- Step 4: ---\n",
      "Function: impute | Module: N/A | Arguments:\n",
      "None\n",
      "Brief description: Impute using specified the ImputationStartegy.MEDIAN imputation method.\n",
      "This step is will fit and transform the data.\n",
      "--- Step 5: ---\n",
      "Function: impute | Module: N/A | Arguments:\n",
      "None\n",
      "Brief description: Impute using specified the ImputationStartegy.MEAN imputation method.\n",
      "This step is will fit and transform the data.\n",
      "--- Step 6: ---\n",
      "Function: scale | Module: N/A | Arguments:\n",
      "None\n",
      "Brief description: Scale using specified the ScalingStrategy.NORMALIZE scaling method.\n",
      "This step is will fit and transform the data.\n",
      "--- Step 7: ---\n",
      "Function: one_hot_encode | Module: N/A | Arguments:\n",
      "None\n",
      "Brief description: Encode string values of given columns into numbers with inferred ordering.\n",
      "This step is will fit and transform the data.\n",
      "--- Step 8: ---\n",
      "Function: ordinal_auto_encode | Module: N/A | Arguments:\n",
      "None\n",
      "Brief description: Encode string values of given columns into numbers with inferred ordering.\n",
      "This step is will fit and transform the data.\n",
      "--- Step 9: ---\n",
      "Function: remove_if_exists | Module: dsds.prescreen | Arguments:\n",
      "{'to_drop': ['Ad Topic Line', 'Timestamp']}\n",
      "Brief description: Remove given if they exist in dataframe.\n",
      "--- Step 10: ---\n",
      "Function: percentile_encode | Module: N/A | Arguments:\n",
      "None\n",
      "Brief description: Encode a continuous column by percentiles.\n",
      "This step is will fit and transform the data.\n",
      "--- Step 11: ---\n",
      "Function: _select_cols | Module: dsds.builder | Arguments:\n",
      "{'cols': ['Daily Internet Usage Band', 'Daily Internet Usage', 'Daily Time Spent on Site', 'Area Income', 'Area Income Band'], 'target': 'Clicked on Ad'}\n",
      "Brief description: Use Mutual Info to select top 5 features\n",
      "\n"
     ]
    }
   ],
   "source": [
    "builder.blueprint()"
   ]
  },
  {
   "cell_type": "code",
   "execution_count": 13,
   "metadata": {},
   "outputs": [],
   "source": [
    "df2 = pl.read_csv(\"../data/advertising.csv\").with_columns([\n",
    "    ((pl.col(\"Age\") // 10) * 10).alias(\"Age Band\"),\n",
    "    (pl.col(\"Daily Internet Usage\") // 20).alias(\"Daily Internet Usage Band\"),\n",
    "    (pl.col(\"Area Income\") // 5000).alias(\"Area Income Band\"),\n",
    "    pl.lit(1).alias(\"Test_Constant\"),\n",
    "    pl.lit(\"SSS\").alias(\"Test_Str_Constant\"),\n",
    "    pl.when(pl.col(\"Male\") == 0).then(0).otherwise(None).alias(\"Test_BadColumn\"),\n",
    "    pl.when(pl.col(\"Male\") == 0).then(\"A\").otherwise(\"B\").alias(\"Test_Binary\"),\n",
    "])\n"
   ]
  },
  {
   "cell_type": "code",
   "execution_count": 14,
   "metadata": {},
   "outputs": [
    {
     "name": "stderr",
     "output_type": "stream",
     "text": [
      "INFO:dsds.builder:|1/11|: Performing Step: var_removal | is_fit: False\n",
      "INFO:dsds.prescreen:The following columns are dropped because they have lower than 0.5 variance. ['Male', 'Test_Constant', 'Test_BadColumn'].\n",
      "Removed a total of 3 columns.\n",
      "INFO:dsds.builder:|1/11|: Finished in 0.00s | Success: True\n",
      "INFO:dsds.builder:|2/11|: Performing Step: constant_removal | is_fit: False\n",
      "INFO:dsds.prescreen:The following columns are dropped because they are constants. ['Test_Str_Constant'].\n",
      "Removed a total of 1 columns.\n",
      "INFO:dsds.builder:|2/11|: Finished in 0.00s | Success: True\n",
      "INFO:dsds.builder:|3/11|: Performing Step: binary_encode | is_fit: True\n",
      "INFO:dsds.builder:|3/11|: Finished in 0.00s | Success: True\n",
      "INFO:dsds.builder:|4/11|: Performing Step: impute | is_fit: True\n",
      "INFO:dsds.builder:|4/11|: Finished in 0.00s | Success: True\n",
      "INFO:dsds.builder:|5/11|: Performing Step: impute | is_fit: True\n",
      "INFO:dsds.builder:|5/11|: Finished in 0.00s | Success: True\n",
      "INFO:dsds.builder:|6/11|: Performing Step: scale | is_fit: True\n",
      "INFO:dsds.builder:|6/11|: Finished in 0.00s | Success: True\n",
      "INFO:dsds.builder:|7/11|: Performing Step: one_hot_encode | is_fit: True\n",
      "INFO:dsds.builder:|7/11|: Finished in 0.00s | Success: True\n",
      "INFO:dsds.builder:|8/11|: Performing Step: ordinal_auto_encode | is_fit: True\n",
      "INFO:dsds.builder:|8/11|: Finished in 0.00s | Success: True\n",
      "INFO:dsds.builder:|9/11|: Performing Step: remove_if_exists | is_fit: False\n",
      "INFO:dsds.prescreen:The following columns are dropped. ['Timestamp', 'Ad Topic Line'].\n",
      "Removed a total of 2 columns.\n",
      "INFO:dsds.builder:|9/11|: Finished in 0.00s | Success: True\n",
      "INFO:dsds.builder:|10/11|: Performing Step: percentile_encode | is_fit: True\n",
      "INFO:dsds.builder:|10/11|: Finished in 0.01s | Success: True\n",
      "INFO:dsds.builder:|11/11|: Performing Step: _select_cols | is_fit: False\n",
      "INFO:dsds.builder:|11/11|: Finished in 0.00s | Success: True\n"
     ]
    },
    {
     "data": {
      "text/html": [
       "<div><style>\n",
       ".dataframe > thead > tr > th,\n",
       ".dataframe > tbody > tr > td {\n",
       "  text-align: right;\n",
       "}\n",
       "</style>\n",
       "<small>shape: (5, 6)</small><table border=\"1\" class=\"dataframe\"><thead><tr><th>Daily Internet Usage Band</th><th>Daily Internet Usage</th><th>Daily Time Spent on Site</th><th>Area Income</th><th>Area Income Band</th><th>Clicked on Ad</th></tr><tr><td>f64</td><td>u8</td><td>f64</td><td>f64</td><td>f64</td><td>i64</td></tr></thead><tbody><tr><td>12.0</td><td>99</td><td>68.95</td><td>0.511893</td><td>12.0</td><td>0</td></tr><tr><td>9.0</td><td>57</td><td>80.23</td><td>1.005471</td><td>13.0</td><td>0</td></tr><tr><td>11.0</td><td>91</td><td>69.47</td><td>0.358921</td><td>11.0</td><td>0</td></tr><tr><td>12.0</td><td>95</td><td>74.15</td><td>-0.01304</td><td>10.0</td><td>0</td></tr><tr><td>11.0</td><td>82</td><td>68.37</td><td>1.412418</td><td>14.0</td><td>0</td></tr></tbody></table></div>"
      ],
      "text/plain": [
       "shape: (5, 6)\n",
       "┌──────────────────┬─────────────────┬─────────────────┬─────────────┬─────────────┬───────────────┐\n",
       "│ Daily Internet   ┆ Daily Internet  ┆ Daily Time      ┆ Area Income ┆ Area Income ┆ Clicked on Ad │\n",
       "│ Usage Band       ┆ Usage           ┆ Spent on Site   ┆ ---         ┆ Band        ┆ ---           │\n",
       "│ ---              ┆ ---             ┆ ---             ┆ f64         ┆ ---         ┆ i64           │\n",
       "│ f64              ┆ u8              ┆ f64             ┆             ┆ f64         ┆               │\n",
       "╞══════════════════╪═════════════════╪═════════════════╪═════════════╪═════════════╪═══════════════╡\n",
       "│ 12.0             ┆ 99              ┆ 68.95           ┆ 0.511893    ┆ 12.0        ┆ 0             │\n",
       "│ 9.0              ┆ 57              ┆ 80.23           ┆ 1.005471    ┆ 13.0        ┆ 0             │\n",
       "│ 11.0             ┆ 91              ┆ 69.47           ┆ 0.358921    ┆ 11.0        ┆ 0             │\n",
       "│ 12.0             ┆ 95              ┆ 74.15           ┆ -0.01304    ┆ 10.0        ┆ 0             │\n",
       "│ 11.0             ┆ 82              ┆ 68.37           ┆ 1.412418    ┆ 14.0        ┆ 0             │\n",
       "└──────────────────┴─────────────────┴─────────────────┴─────────────┴─────────────┴───────────────┘"
      ]
     },
     "execution_count": 14,
     "metadata": {},
     "output_type": "execute_result"
    }
   ],
   "source": [
    "result2 = builder.apply(df2)\n",
    "result2.head()"
   ]
  },
  {
   "cell_type": "code",
   "execution_count": 15,
   "metadata": {},
   "outputs": [
    {
     "data": {
      "text/html": [
       "<div><style>\n",
       ".dataframe > thead > tr > th,\n",
       ".dataframe > tbody > tr > td {\n",
       "  text-align: right;\n",
       "}\n",
       "</style>\n",
       "<small>shape: (1, 6)</small><table border=\"1\" class=\"dataframe\"><thead><tr><th>Daily Internet Usage Band</th><th>Daily Internet Usage</th><th>Daily Time Spent on Site</th><th>Area Income</th><th>Area Income Band</th><th>Clicked on Ad</th></tr><tr><td>u32</td><td>u32</td><td>u32</td><td>u32</td><td>u32</td><td>u32</td></tr></thead><tbody><tr><td>1000</td><td>1000</td><td>1000</td><td>1000</td><td>1000</td><td>1000</td></tr></tbody></table></div>"
      ],
      "text/plain": [
       "shape: (1, 6)\n",
       "┌──────────────────┬─────────────────┬─────────────────┬─────────────┬─────────────┬───────────────┐\n",
       "│ Daily Internet   ┆ Daily Internet  ┆ Daily Time      ┆ Area Income ┆ Area Income ┆ Clicked on Ad │\n",
       "│ Usage Band       ┆ Usage           ┆ Spent on Site   ┆ ---         ┆ Band        ┆ ---           │\n",
       "│ ---              ┆ ---             ┆ ---             ┆ u32         ┆ ---         ┆ u32           │\n",
       "│ u32              ┆ u32             ┆ u32             ┆             ┆ u32         ┆               │\n",
       "╞══════════════════╪═════════════════╪═════════════════╪═════════════╪═════════════╪═══════════════╡\n",
       "│ 1000             ┆ 1000            ┆ 1000            ┆ 1000        ┆ 1000        ┆ 1000          │\n",
       "└──────────────────┴─────────────────┴─────────────────┴─────────────┴─────────────┴───────────────┘"
      ]
     },
     "execution_count": 15,
     "metadata": {},
     "output_type": "execute_result"
    }
   ],
   "source": [
    "# Perfectly reproduces the result.\n",
    "(result1 == result2).sum()"
   ]
  },
  {
   "cell_type": "code",
   "execution_count": 16,
   "metadata": {},
   "outputs": [
    {
     "name": "stdout",
     "output_type": "stream",
     "text": [
      "--- Step 1: ---\n",
      "Function: var_removal | Module: dsds.prescreen | Arguments:\n",
      "{'threshold': 0.5, 'target': 'Clicked on Ad'}\n",
      "Brief description: Remove columns with less than 0.5 variance. (Not recommended.)\n",
      "--- Step 2: ---\n",
      "Function: constant_removal | Module: dsds.prescreen | Arguments:\n",
      "{'include_null': True}\n",
      "Brief description: Remove columns that are constants.\n",
      "--- Step 3: ---\n",
      "Function: binary_encode | Module: N/A | Arguments:\n",
      "None\n",
      "Brief description: Automatically detect binary columns and turn them into [0,1] values by their order.\n",
      "This step is will fit and transform the data.\n",
      "--- Step 4: ---\n",
      "Function: impute | Module: N/A | Arguments:\n",
      "None\n",
      "Brief description: Impute using specified the ImputationStartegy.MEDIAN imputation method.\n",
      "This step is will fit and transform the data.\n",
      "--- Step 5: ---\n",
      "Function: impute | Module: N/A | Arguments:\n",
      "None\n",
      "Brief description: Impute using specified the ImputationStartegy.MEAN imputation method.\n",
      "This step is will fit and transform the data.\n",
      "--- Step 6: ---\n",
      "Function: scale | Module: N/A | Arguments:\n",
      "None\n",
      "Brief description: Scale using specified the ScalingStrategy.NORMALIZE scaling method.\n",
      "This step is will fit and transform the data.\n",
      "--- Step 7: ---\n",
      "Function: one_hot_encode | Module: N/A | Arguments:\n",
      "None\n",
      "Brief description: Encode string values of given columns into numbers with inferred ordering.\n",
      "This step is will fit and transform the data.\n",
      "--- Step 8: ---\n",
      "Function: ordinal_auto_encode | Module: N/A | Arguments:\n",
      "None\n",
      "Brief description: Encode string values of given columns into numbers with inferred ordering.\n",
      "This step is will fit and transform the data.\n",
      "--- Step 9: ---\n",
      "Function: remove_if_exists | Module: dsds.prescreen | Arguments:\n",
      "{'to_drop': ['Ad Topic Line', 'Timestamp']}\n",
      "Brief description: Remove given if they exist in dataframe.\n",
      "--- Step 10: ---\n",
      "Function: percentile_encode | Module: N/A | Arguments:\n",
      "None\n",
      "Brief description: Encode a continuous column by percentiles.\n",
      "This step is will fit and transform the data.\n",
      "--- Step 11: ---\n",
      "Function: _select_cols | Module: dsds.builder | Arguments:\n",
      "{'cols': ['Daily Internet Usage Band', 'Daily Internet Usage', 'Daily Time Spent on Site', 'Area Income', 'Area Income Band', 'Clicked on Ad'], 'target': 'Clicked on Ad'}\n",
      "Brief description: Use Mutual Info to select top 5 features\n",
      "\n"
     ]
    }
   ],
   "source": [
    "builder.blueprint()"
   ]
  },
  {
   "cell_type": "code",
   "execution_count": null,
   "metadata": {},
   "outputs": [],
   "source": []
  },
  {
   "attachments": {},
   "cell_type": "markdown",
   "metadata": {},
   "source": [
    "# How to use the builder with Sklearn"
   ]
  },
  {
   "cell_type": "code",
   "execution_count": 17,
   "metadata": {},
   "outputs": [],
   "source": [
    "from sklearn.pipeline import make_pipeline, Pipeline\n",
    "from sklearn.preprocessing import FunctionTransformer\n",
    "import pandas as pd"
   ]
  },
  {
   "cell_type": "code",
   "execution_count": 18,
   "metadata": {},
   "outputs": [],
   "source": [
    "# For this to work, builder must be built (fitted)\n",
    "# This does not work with Pickling at this moment. Need to find a workaround or user\n",
    "# will have to reinstance the builder outside the Sklearn pipeline.\n",
    "pipe = Pipeline([('dsds_sklearn_pipe', FunctionTransformer(builder.apply))])"
   ]
  },
  {
   "cell_type": "code",
   "execution_count": 19,
   "metadata": {},
   "outputs": [
    {
     "data": {
      "text/html": [
       "<style>#sk-container-id-1 {color: black;background-color: white;}#sk-container-id-1 pre{padding: 0;}#sk-container-id-1 div.sk-toggleable {background-color: white;}#sk-container-id-1 label.sk-toggleable__label {cursor: pointer;display: block;width: 100%;margin-bottom: 0;padding: 0.3em;box-sizing: border-box;text-align: center;}#sk-container-id-1 label.sk-toggleable__label-arrow:before {content: \"▸\";float: left;margin-right: 0.25em;color: #696969;}#sk-container-id-1 label.sk-toggleable__label-arrow:hover:before {color: black;}#sk-container-id-1 div.sk-estimator:hover label.sk-toggleable__label-arrow:before {color: black;}#sk-container-id-1 div.sk-toggleable__content {max-height: 0;max-width: 0;overflow: hidden;text-align: left;background-color: #f0f8ff;}#sk-container-id-1 div.sk-toggleable__content pre {margin: 0.2em;color: black;border-radius: 0.25em;background-color: #f0f8ff;}#sk-container-id-1 input.sk-toggleable__control:checked~div.sk-toggleable__content {max-height: 200px;max-width: 100%;overflow: auto;}#sk-container-id-1 input.sk-toggleable__control:checked~label.sk-toggleable__label-arrow:before {content: \"▾\";}#sk-container-id-1 div.sk-estimator input.sk-toggleable__control:checked~label.sk-toggleable__label {background-color: #d4ebff;}#sk-container-id-1 div.sk-label input.sk-toggleable__control:checked~label.sk-toggleable__label {background-color: #d4ebff;}#sk-container-id-1 input.sk-hidden--visually {border: 0;clip: rect(1px 1px 1px 1px);clip: rect(1px, 1px, 1px, 1px);height: 1px;margin: -1px;overflow: hidden;padding: 0;position: absolute;width: 1px;}#sk-container-id-1 div.sk-estimator {font-family: monospace;background-color: #f0f8ff;border: 1px dotted black;border-radius: 0.25em;box-sizing: border-box;margin-bottom: 0.5em;}#sk-container-id-1 div.sk-estimator:hover {background-color: #d4ebff;}#sk-container-id-1 div.sk-parallel-item::after {content: \"\";width: 100%;border-bottom: 1px solid gray;flex-grow: 1;}#sk-container-id-1 div.sk-label:hover label.sk-toggleable__label {background-color: #d4ebff;}#sk-container-id-1 div.sk-serial::before {content: \"\";position: absolute;border-left: 1px solid gray;box-sizing: border-box;top: 0;bottom: 0;left: 50%;z-index: 0;}#sk-container-id-1 div.sk-serial {display: flex;flex-direction: column;align-items: center;background-color: white;padding-right: 0.2em;padding-left: 0.2em;position: relative;}#sk-container-id-1 div.sk-item {position: relative;z-index: 1;}#sk-container-id-1 div.sk-parallel {display: flex;align-items: stretch;justify-content: center;background-color: white;position: relative;}#sk-container-id-1 div.sk-item::before, #sk-container-id-1 div.sk-parallel-item::before {content: \"\";position: absolute;border-left: 1px solid gray;box-sizing: border-box;top: 0;bottom: 0;left: 50%;z-index: -1;}#sk-container-id-1 div.sk-parallel-item {display: flex;flex-direction: column;z-index: 1;position: relative;background-color: white;}#sk-container-id-1 div.sk-parallel-item:first-child::after {align-self: flex-end;width: 50%;}#sk-container-id-1 div.sk-parallel-item:last-child::after {align-self: flex-start;width: 50%;}#sk-container-id-1 div.sk-parallel-item:only-child::after {width: 0;}#sk-container-id-1 div.sk-dashed-wrapped {border: 1px dashed gray;margin: 0 0.4em 0.5em 0.4em;box-sizing: border-box;padding-bottom: 0.4em;background-color: white;}#sk-container-id-1 div.sk-label label {font-family: monospace;font-weight: bold;display: inline-block;line-height: 1.2em;}#sk-container-id-1 div.sk-label-container {text-align: center;}#sk-container-id-1 div.sk-container {/* jupyter's `normalize.less` sets `[hidden] { display: none; }` but bootstrap.min.css set `[hidden] { display: none !important; }` so we also need the `!important` here to be able to override the default hidden behavior on the sphinx rendered scikit-learn.org. See: https://github.com/scikit-learn/scikit-learn/issues/21755 */display: inline-block !important;position: relative;}#sk-container-id-1 div.sk-text-repr-fallback {display: none;}</style><div id=\"sk-container-id-1\" class=\"sk-top-container\"><div class=\"sk-text-repr-fallback\"><pre>Pipeline(steps=[(&#x27;dsds_sklearn_pipe&#x27;,\n",
       "                 FunctionTransformer(func=&lt;bound method PipeBuilder.apply of &lt;dsds.builder.PipeBuilder object at 0x000001F76DFB6290&gt;&gt;))])</pre><b>In a Jupyter environment, please rerun this cell to show the HTML representation or trust the notebook. <br />On GitHub, the HTML representation is unable to render, please try loading this page with nbviewer.org.</b></div><div class=\"sk-container\" hidden><div class=\"sk-item sk-dashed-wrapped\"><div class=\"sk-label-container\"><div class=\"sk-label sk-toggleable\"><input class=\"sk-toggleable__control sk-hidden--visually\" id=\"sk-estimator-id-1\" type=\"checkbox\" ><label for=\"sk-estimator-id-1\" class=\"sk-toggleable__label sk-toggleable__label-arrow\">Pipeline</label><div class=\"sk-toggleable__content\"><pre>Pipeline(steps=[(&#x27;dsds_sklearn_pipe&#x27;,\n",
       "                 FunctionTransformer(func=&lt;bound method PipeBuilder.apply of &lt;dsds.builder.PipeBuilder object at 0x000001F76DFB6290&gt;&gt;))])</pre></div></div></div><div class=\"sk-serial\"><div class=\"sk-item\"><div class=\"sk-estimator sk-toggleable\"><input class=\"sk-toggleable__control sk-hidden--visually\" id=\"sk-estimator-id-2\" type=\"checkbox\" ><label for=\"sk-estimator-id-2\" class=\"sk-toggleable__label sk-toggleable__label-arrow\">FunctionTransformer</label><div class=\"sk-toggleable__content\"><pre>FunctionTransformer(func=&lt;bound method PipeBuilder.apply of &lt;dsds.builder.PipeBuilder object at 0x000001F76DFB6290&gt;&gt;)</pre></div></div></div></div></div></div></div>"
      ],
      "text/plain": [
       "Pipeline(steps=[('dsds_sklearn_pipe',\n",
       "                 FunctionTransformer(func=<bound method PipeBuilder.apply of <dsds.builder.PipeBuilder object at 0x000001F76DFB6290>>))])"
      ]
     },
     "execution_count": 19,
     "metadata": {},
     "output_type": "execute_result"
    }
   ],
   "source": [
    "pipe"
   ]
  },
  {
   "cell_type": "code",
   "execution_count": 20,
   "metadata": {},
   "outputs": [],
   "source": [
    "data = pl.read_csv(\"../data/advertising.csv\").with_columns([\n",
    "    ((pl.col(\"Age\") // 10) * 10).alias(\"Age Band\"),\n",
    "    (pl.col(\"Daily Internet Usage\") // 20).alias(\"Daily Internet Usage Band\"),\n",
    "    (pl.col(\"Area Income\") // 5000).alias(\"Area Income Band\"),\n",
    "    pl.lit(1).alias(\"Test_Constant\"),\n",
    "    pl.lit(\"SSS\").alias(\"Test_Str_Constant\"),\n",
    "    pl.when(pl.col(\"Male\") == 0).then(0).otherwise(None).alias(\"Test_BadColumn\"),\n",
    "    pl.when(pl.col(\"Male\") == 0).then(\"A\").otherwise(\"B\").alias(\"Test_Binary\"),\n",
    "])\n",
    "# Turn incoming data to Pandas\n",
    "data = data.to_pandas()\n"
   ]
  },
  {
   "cell_type": "code",
   "execution_count": 21,
   "metadata": {},
   "outputs": [
    {
     "name": "stderr",
     "output_type": "stream",
     "text": [
      "WARNING:dsds.builder:Found input to be a Pandas dataframe. Turning it into a Polars dataframe.\n",
      "INFO:dsds.builder:|1/11|: Performing Step: var_removal | is_fit: False\n",
      "INFO:dsds.prescreen:The following columns are dropped because they have lower than 0.5 variance. ['Male', 'Test_Constant', 'Test_BadColumn'].\n",
      "Removed a total of 3 columns.\n",
      "INFO:dsds.builder:|1/11|: Finished in 0.00s | Success: True\n",
      "INFO:dsds.builder:|2/11|: Performing Step: constant_removal | is_fit: False\n",
      "INFO:dsds.prescreen:The following columns are dropped because they are constants. ['Test_Str_Constant'].\n",
      "Removed a total of 1 columns.\n",
      "INFO:dsds.builder:|2/11|: Finished in 0.00s | Success: True\n",
      "INFO:dsds.builder:|3/11|: Performing Step: binary_encode | is_fit: True\n",
      "INFO:dsds.builder:|3/11|: Finished in 0.00s | Success: True\n",
      "INFO:dsds.builder:|4/11|: Performing Step: impute | is_fit: True\n",
      "INFO:dsds.builder:|4/11|: Finished in 0.00s | Success: True\n",
      "INFO:dsds.builder:|5/11|: Performing Step: impute | is_fit: True\n",
      "INFO:dsds.builder:|5/11|: Finished in 0.00s | Success: True\n",
      "INFO:dsds.builder:|6/11|: Performing Step: scale | is_fit: True\n",
      "INFO:dsds.builder:|6/11|: Finished in 0.00s | Success: True\n",
      "INFO:dsds.builder:|7/11|: Performing Step: one_hot_encode | is_fit: True\n",
      "INFO:dsds.builder:|7/11|: Finished in 0.00s | Success: True\n",
      "INFO:dsds.builder:|8/11|: Performing Step: ordinal_auto_encode | is_fit: True\n",
      "INFO:dsds.builder:|8/11|: Finished in 0.00s | Success: True\n",
      "INFO:dsds.builder:|9/11|: Performing Step: remove_if_exists | is_fit: False\n",
      "INFO:dsds.prescreen:The following columns are dropped. ['Timestamp', 'Ad Topic Line'].\n",
      "Removed a total of 2 columns.\n",
      "INFO:dsds.builder:|9/11|: Finished in 0.00s | Success: True\n",
      "INFO:dsds.builder:|10/11|: Performing Step: percentile_encode | is_fit: True\n",
      "INFO:dsds.builder:|10/11|: Finished in 0.01s | Success: True\n",
      "INFO:dsds.builder:|11/11|: Performing Step: _select_cols | is_fit: False\n",
      "INFO:dsds.builder:|11/11|: Finished in 0.00s | Success: True\n"
     ]
    }
   ],
   "source": [
    "output = pipe.fit_transform(data)"
   ]
  },
  {
   "cell_type": "code",
   "execution_count": 22,
   "metadata": {},
   "outputs": [
    {
     "data": {
      "text/html": [
       "<div><style>\n",
       ".dataframe > thead > tr > th,\n",
       ".dataframe > tbody > tr > td {\n",
       "  text-align: right;\n",
       "}\n",
       "</style>\n",
       "<small>shape: (1, 6)</small><table border=\"1\" class=\"dataframe\"><thead><tr><th>Daily Internet Usage Band</th><th>Daily Internet Usage</th><th>Daily Time Spent on Site</th><th>Area Income</th><th>Area Income Band</th><th>Clicked on Ad</th></tr><tr><td>u32</td><td>u32</td><td>u32</td><td>u32</td><td>u32</td><td>u32</td></tr></thead><tbody><tr><td>1000</td><td>1000</td><td>1000</td><td>1000</td><td>1000</td><td>1000</td></tr></tbody></table></div>"
      ],
      "text/plain": [
       "shape: (1, 6)\n",
       "┌──────────────────┬─────────────────┬─────────────────┬─────────────┬─────────────┬───────────────┐\n",
       "│ Daily Internet   ┆ Daily Internet  ┆ Daily Time      ┆ Area Income ┆ Area Income ┆ Clicked on Ad │\n",
       "│ Usage Band       ┆ Usage           ┆ Spent on Site   ┆ ---         ┆ Band        ┆ ---           │\n",
       "│ ---              ┆ ---             ┆ ---             ┆ u32         ┆ ---         ┆ u32           │\n",
       "│ u32              ┆ u32             ┆ u32             ┆             ┆ u32         ┆               │\n",
       "╞══════════════════╪═════════════════╪═════════════════╪═════════════╪═════════════╪═══════════════╡\n",
       "│ 1000             ┆ 1000            ┆ 1000            ┆ 1000        ┆ 1000        ┆ 1000          │\n",
       "└──────────────────┴─────────────────┴─────────────────┴─────────────┴─────────────┴───────────────┘"
      ]
     },
     "execution_count": 22,
     "metadata": {},
     "output_type": "execute_result"
    }
   ],
   "source": [
    "(result1 == output).sum() # Exact outputs"
   ]
  },
  {
   "cell_type": "code",
   "execution_count": null,
   "metadata": {},
   "outputs": [],
   "source": []
  }
 ],
 "metadata": {
  "kernelspec": {
   "display_name": "my_py11",
   "language": "python",
   "name": "python3"
  },
  "language_info": {
   "codemirror_mode": {
    "name": "ipython",
    "version": 3
   },
   "file_extension": ".py",
   "mimetype": "text/x-python",
   "name": "python",
   "nbconvert_exporter": "python",
   "pygments_lexer": "ipython3",
   "version": "3.11.3"
  },
  "orig_nbformat": 4
 },
 "nbformat": 4,
 "nbformat_minor": 2
}
