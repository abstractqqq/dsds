{
 "cells": [
  {
   "cell_type": "code",
   "execution_count": null,
   "metadata": {},
   "outputs": [],
   "source": [
    "from dsds.prescreen import (\n",
    "    remove_if_exists\n",
    "    , regex_removal\n",
    "    , var_removal\n",
    "    , null_removal\n",
    "    , unique_removal\n",
    "    , constant_removal\n",
    "    , date_removal\n",
    "    , non_numeric_removal\n",
    "    , get_unique_count\n",
    "    , get_string_cols\n",
    ")\n",
    "\n",
    "from dsds.transform import (\n",
    "    scale\n",
    "    , impute\n",
    "    , binary_encode\n",
    "    , one_hot_encode\n",
    "    , smooth_target_encode\n",
    "    , ordinal_encode\n",
    "    , ordinal_auto_encode\n",
    ")\n",
    "\n",
    "from dsds.fs import (\n",
    "    mutual_info_selector\n",
    ")\n",
    "\n",
    "import polars as pl"
   ]
  },
  {
   "cell_type": "code",
   "execution_count": null,
   "metadata": {},
   "outputs": [],
   "source": [
    "df = pl.scan_csv(\"../data/advertising.csv\")"
   ]
  },
  {
   "cell_type": "code",
   "execution_count": null,
   "metadata": {},
   "outputs": [],
   "source": [
    "df.limit(10).collect()"
   ]
  },
  {
   "cell_type": "code",
   "execution_count": null,
   "metadata": {},
   "outputs": [],
   "source": [
    "blueprint = df.pipe(var_removal, threshold = 0.5, target = \"Clicked on Ad\")\\\n",
    "    .pipe(constant_removal)\\\n",
    "    .pipe(binary_encode)\\\n",
    "    .pipe(ordinal_auto_encode, cols = [\"City\", \"Country\"])\\\n",
    "    .pipe(impute, cols=[\"Daily Internet Usage\", \"Daily Internet Usage Band\", \"Area Income Band\"], strategy=\"median\")\\\n",
    "    .pipe(impute, cols=[\"Area Income\"], strategy = \"mean\")\\\n",
    "    .pipe(scale, cols=[\"Area Income\", \"Daily Internet Usage\"])\\\n",
    "    .pipe(one_hot_encode, cols= [\"One_Hot_Test\"])\\\n",
    "    .pipe(remove_if_exists, cols = [\"Ad Topic Line\", \"Timestamp\"])\\\n",
    "    .pipe(mutual_info_selector, target = \"Clicked on Ad\", top_k = 12)\n",
    "\n"
   ]
  },
  {
   "cell_type": "code",
   "execution_count": null,
   "metadata": {},
   "outputs": [],
   "source": [
    "blueprint.collect()"
   ]
  },
  {
   "cell_type": "code",
   "execution_count": null,
   "metadata": {},
   "outputs": [],
   "source": [
    "blueprint.write_json(\"pipe.json\")"
   ]
  },
  {
   "cell_type": "code",
   "execution_count": null,
   "metadata": {},
   "outputs": [],
   "source": [
    "f = open(\"pipe.json\", \"r\")\n",
    "json_str = f.read()\n",
    "f.close()\n",
    "\n",
    "new_lf = pl.scan_csv(\"../data/advertising.csv\").from_json(json_str)"
   ]
  },
  {
   "cell_type": "code",
   "execution_count": null,
   "metadata": {},
   "outputs": [],
   "source": [
    "new_lf.collect() == blueprint.collect()"
   ]
  },
  {
   "cell_type": "code",
   "execution_count": null,
   "metadata": {},
   "outputs": [],
   "source": [
    "new_lf.collect()[\"Daily Internet Usage\"].to_list()"
   ]
  },
  {
   "cell_type": "code",
   "execution_count": null,
   "metadata": {},
   "outputs": [],
   "source": [
    "blueprint.collect()[\"Daily Internet Usage\"].to_list()"
   ]
  },
  {
   "cell_type": "code",
   "execution_count": null,
   "metadata": {},
   "outputs": [],
   "source": [
    "# Ok some small precision issues.. FFFFFFFFFFFFFFFFFFFF"
   ]
  }
 ],
 "metadata": {
  "kernelspec": {
   "display_name": "my_py11",
   "language": "python",
   "name": "python3"
  },
  "language_info": {
   "codemirror_mode": {
    "name": "ipython",
    "version": 3
   },
   "file_extension": ".py",
   "mimetype": "text/x-python",
   "name": "python",
   "nbconvert_exporter": "python",
   "pygments_lexer": "ipython3",
   "version": "3.11.3"
  },
  "orig_nbformat": 4
 },
 "nbformat": 4,
 "nbformat_minor": 2
}
