{
 "cells": [
  {
   "cell_type": "code",
   "execution_count": 1,
   "metadata": {},
   "outputs": [],
   "source": [
    "import polars as pl\n",
    "from typing import *\n",
    "import sys\n",
    "sys.path.append('../src')"
   ]
  },
  {
   "attachments": {},
   "cell_type": "markdown",
   "metadata": {},
   "source": [
    "# Testing text_data.py"
   ]
  },
  {
   "cell_type": "code",
   "execution_count": 2,
   "metadata": {},
   "outputs": [],
   "source": [
    "from eda.eda_text import transform_text_data"
   ]
  },
  {
   "cell_type": "code",
   "execution_count": 3,
   "metadata": {},
   "outputs": [],
   "source": [
    "line1 = \"She told me that she likes hiking.\"\n",
    "line2 = \"He told me that he doesn't like me.\"\n",
    "line3 = \"Hello World!\""
   ]
  },
  {
   "cell_type": "code",
   "execution_count": 4,
   "metadata": {},
   "outputs": [
    {
     "data": {
      "text/html": [
       "<div><style>\n",
       ".dataframe > thead > tr > th,\n",
       ".dataframe > tbody > tr > td {\n",
       "  text-align: right;\n",
       "}\n",
       "</style>\n",
       "<small>shape: (3, 3)</small><table border=\"1\" class=\"dataframe\"><thead><tr><th>text_col</th><th>category</th><th>Whatever Value</th></tr><tr><td>str</td><td>str</td><td>i32</td></tr></thead><tbody><tr><td>&quot;She told me th…</td><td>&quot;A&quot;</td><td>1</td></tr><tr><td>&quot;He told me tha…</td><td>&quot;B&quot;</td><td>1</td></tr><tr><td>&quot;Hello World!&quot;</td><td>&quot;C&quot;</td><td>1</td></tr></tbody></table></div>"
      ],
      "text/plain": [
       "shape: (3, 3)\n",
       "┌───────────────────────────────────┬──────────┬────────────────┐\n",
       "│ text_col                          ┆ category ┆ Whatever Value │\n",
       "│ ---                               ┆ ---      ┆ ---            │\n",
       "│ str                               ┆ str      ┆ i32            │\n",
       "╞═══════════════════════════════════╪══════════╪════════════════╡\n",
       "│ She told me that she likes hikin… ┆ A        ┆ 1              │\n",
       "│ He told me that he doesn't like … ┆ B        ┆ 1              │\n",
       "│ Hello World!                      ┆ C        ┆ 1              │\n",
       "└───────────────────────────────────┴──────────┴────────────────┘"
      ]
     },
     "execution_count": 4,
     "metadata": {},
     "output_type": "execute_result"
    }
   ],
   "source": [
    "df = pl.from_records([[line1, line2, line3], [\"A\", \"B\", \"C\"]], schema=[\"text_col\", \"category\"]).with_columns([\n",
    "    pl.lit(1).alias(\"Whatever Value\")\n",
    "])\n",
    "df "
   ]
  },
  {
   "cell_type": "code",
   "execution_count": 5,
   "metadata": {},
   "outputs": [
    {
     "name": "stdout",
     "output_type": "stream",
     "text": [
      "Perfoming stemming...\n",
      "Performing Count vectorization for text_col...\n"
     ]
    }
   ],
   "source": [
    "df_transformed, reverse_memo = transform_text_data(df, text_cols=[\"text_col\"], min_df=0, max_df=1)"
   ]
  },
  {
   "cell_type": "code",
   "execution_count": 6,
   "metadata": {},
   "outputs": [
    {
     "data": {
      "text/html": [
       "<div><style>\n",
       ".dataframe > thead > tr > th,\n",
       ".dataframe > tbody > tr > td {\n",
       "  text-align: right;\n",
       "}\n",
       "</style>\n",
       "<small>shape: (3, 6)</small><table border=\"1\" class=\"dataframe\"><thead><tr><th>category</th><th>Whatever Value</th><th>text_col::word::doesnt</th><th>text_col::word::hello</th><th>text_col::word::hike</th><th>text_col::word::world</th></tr><tr><td>str</td><td>i32</td><td>i64</td><td>i64</td><td>i64</td><td>i64</td></tr></thead><tbody><tr><td>&quot;A&quot;</td><td>1</td><td>0</td><td>0</td><td>1</td><td>0</td></tr><tr><td>&quot;B&quot;</td><td>1</td><td>1</td><td>0</td><td>0</td><td>0</td></tr><tr><td>&quot;C&quot;</td><td>1</td><td>0</td><td>1</td><td>0</td><td>1</td></tr></tbody></table></div>"
      ],
      "text/plain": [
       "shape: (3, 6)\n",
       "┌──────────┬────────────────┬─────────────────┬─────────────────┬─────────────────┬────────────────┐\n",
       "│ category ┆ Whatever Value ┆ text_col::word: ┆ text_col::word: ┆ text_col::word: ┆ text_col::word │\n",
       "│ ---      ┆ ---            ┆ :doesnt         ┆ :hello          ┆ :hike           ┆ ::world        │\n",
       "│ str      ┆ i32            ┆ ---             ┆ ---             ┆ ---             ┆ ---            │\n",
       "│          ┆                ┆ i64             ┆ i64             ┆ i64             ┆ i64            │\n",
       "╞══════════╪════════════════╪═════════════════╪═════════════════╪═════════════════╪════════════════╡\n",
       "│ A        ┆ 1              ┆ 0               ┆ 0               ┆ 1               ┆ 0              │\n",
       "│ B        ┆ 1              ┆ 1               ┆ 0               ┆ 0               ┆ 0              │\n",
       "│ C        ┆ 1              ┆ 0               ┆ 1               ┆ 0               ┆ 1              │\n",
       "└──────────┴────────────────┴─────────────────┴─────────────────┴─────────────────┴────────────────┘"
      ]
     },
     "execution_count": 6,
     "metadata": {},
     "output_type": "execute_result"
    }
   ],
   "source": [
    "df_transformed"
   ]
  },
  {
   "cell_type": "code",
   "execution_count": 7,
   "metadata": {},
   "outputs": [
    {
     "data": {
      "text/plain": [
       "{'she': ['she'],\n",
       " 'told': ['told'],\n",
       " 'me': ['me'],\n",
       " 'that': ['that'],\n",
       " 'like': ['likes', 'like'],\n",
       " 'hike': ['hiking'],\n",
       " 'he': ['he'],\n",
       " 'doesnt': ['doesnt'],\n",
       " 'hello': ['hello'],\n",
       " 'world': ['world']}"
      ]
     },
     "execution_count": 7,
     "metadata": {},
     "output_type": "execute_result"
    }
   ],
   "source": [
    "reverse_memo"
   ]
  },
  {
   "cell_type": "code",
   "execution_count": null,
   "metadata": {},
   "outputs": [],
   "source": []
  },
  {
   "attachments": {},
   "cell_type": "markdown",
   "metadata": {},
   "source": [
    "# Test Other EDA Methods (eda.py) "
   ]
  },
  {
   "cell_type": "code",
   "execution_count": 8,
   "metadata": {},
   "outputs": [],
   "source": [
    "import polars as pl\n",
    "from eda.eda_misc import get_numpy\n",
    "from eda.eda_prescreen import *\n",
    "from eda.eda_transformations import *\n",
    "from eda.eda_selection import naive_sample_ig, f_classification, mrmr"
   ]
  },
  {
   "cell_type": "code",
   "execution_count": 9,
   "metadata": {},
   "outputs": [
    {
     "data": {
      "text/html": [
       "<div><style>\n",
       ".dataframe > thead > tr > th,\n",
       ".dataframe > tbody > tr > td {\n",
       "  text-align: right;\n",
       "}\n",
       "</style>\n",
       "<small>shape: (5, 18)</small><table border=\"1\" class=\"dataframe\"><thead><tr><th>Daily Time Spent on Site</th><th>Age</th><th>Area Income</th><th>Daily Internet Usage</th><th>Ad Topic Line</th><th>City</th><th>Male</th><th>Country</th><th>Timestamp</th><th>Clicked on Ad</th><th>One_Hot_Test</th><th>Age Band</th><th>Daily Internet Usage Band</th><th>Area Income Band</th><th>Test_Constant</th><th>Test_Str_Constant</th><th>Test_BadColumn</th><th>Test_Binary</th></tr><tr><td>f64</td><td>i64</td><td>f64</td><td>f64</td><td>str</td><td>str</td><td>i64</td><td>str</td><td>str</td><td>i64</td><td>str</td><td>i64</td><td>f64</td><td>f64</td><td>i32</td><td>str</td><td>i32</td><td>str</td></tr></thead><tbody><tr><td>68.95</td><td>35</td><td>61833.9</td><td>256.09</td><td>&quot;Cloned 5thgene…</td><td>&quot;Wrightburgh&quot;</td><td>0</td><td>&quot;Tunisia&quot;</td><td>&quot;3/27/2016 0:53…</td><td>0</td><td>&quot;A&quot;</td><td>30</td><td>12.0</td><td>12.0</td><td>1</td><td>&quot;SSS&quot;</td><td>0</td><td>&quot;A&quot;</td></tr><tr><td>80.23</td><td>31</td><td>68441.85</td><td>193.77</td><td>&quot;Monitored nati…</td><td>&quot;West Jodi&quot;</td><td>1</td><td>&quot;Nauru&quot;</td><td>&quot;4/4/2016 1:39&quot;</td><td>0</td><td>&quot;B&quot;</td><td>30</td><td>9.0</td><td>13.0</td><td>1</td><td>&quot;SSS&quot;</td><td>null</td><td>&quot;B&quot;</td></tr><tr><td>69.47</td><td>26</td><td>59785.94</td><td>236.5</td><td>&quot;Organic bottom…</td><td>&quot;Davidton&quot;</td><td>0</td><td>&quot;San Marino&quot;</td><td>&quot;3/13/2016 20:3…</td><td>0</td><td>&quot;A&quot;</td><td>20</td><td>11.0</td><td>11.0</td><td>1</td><td>&quot;SSS&quot;</td><td>0</td><td>&quot;A&quot;</td></tr><tr><td>74.15</td><td>29</td><td>54806.18</td><td>245.89</td><td>&quot;Triple-buffere…</td><td>&quot;West Terrifurt…</td><td>1</td><td>&quot;Italy&quot;</td><td>&quot;1/10/2016 2:31…</td><td>0</td><td>&quot;B&quot;</td><td>20</td><td>12.0</td><td>10.0</td><td>1</td><td>&quot;SSS&quot;</td><td>null</td><td>&quot;B&quot;</td></tr><tr><td>68.37</td><td>35</td><td>73889.99</td><td>225.58</td><td>&quot;Robust logisti…</td><td>&quot;South Manuel&quot;</td><td>0</td><td>&quot;Iceland&quot;</td><td>&quot;6/3/2016 3:36&quot;</td><td>0</td><td>&quot;A&quot;</td><td>30</td><td>11.0</td><td>14.0</td><td>1</td><td>&quot;SSS&quot;</td><td>0</td><td>&quot;A&quot;</td></tr></tbody></table></div>"
      ],
      "text/plain": [
       "shape: (5, 18)\n",
       "┌────────────┬─────┬───────────┬────────────┬───┬────────────┬────────────┬────────────┬───────────┐\n",
       "│ Daily Time ┆ Age ┆ Area      ┆ Daily      ┆ … ┆ Test_Const ┆ Test_Str_C ┆ Test_BadCo ┆ Test_Bina │\n",
       "│ Spent on   ┆ --- ┆ Income    ┆ Internet   ┆   ┆ ant        ┆ onstant    ┆ lumn       ┆ ry        │\n",
       "│ Site       ┆ i64 ┆ ---       ┆ Usage      ┆   ┆ ---        ┆ ---        ┆ ---        ┆ ---       │\n",
       "│ ---        ┆     ┆ f64       ┆ ---        ┆   ┆ i32        ┆ str        ┆ i32        ┆ str       │\n",
       "│ f64        ┆     ┆           ┆ f64        ┆   ┆            ┆            ┆            ┆           │\n",
       "╞════════════╪═════╪═══════════╪════════════╪═══╪════════════╪════════════╪════════════╪═══════════╡\n",
       "│ 68.95      ┆ 35  ┆ 61833.9   ┆ 256.09     ┆ … ┆ 1          ┆ SSS        ┆ 0          ┆ A         │\n",
       "│ 80.23      ┆ 31  ┆ 68441.85  ┆ 193.77     ┆ … ┆ 1          ┆ SSS        ┆ null       ┆ B         │\n",
       "│ 69.47      ┆ 26  ┆ 59785.94  ┆ 236.5      ┆ … ┆ 1          ┆ SSS        ┆ 0          ┆ A         │\n",
       "│ 74.15      ┆ 29  ┆ 54806.18  ┆ 245.89     ┆ … ┆ 1          ┆ SSS        ┆ null       ┆ B         │\n",
       "│ 68.37      ┆ 35  ┆ 73889.99  ┆ 225.58     ┆ … ┆ 1          ┆ SSS        ┆ 0          ┆ A         │\n",
       "└────────────┴─────┴───────────┴────────────┴───┴────────────┴────────────┴────────────┴───────────┘"
      ]
     },
     "execution_count": 9,
     "metadata": {},
     "output_type": "execute_result"
    }
   ],
   "source": [
    "df = pl.read_csv(\"../data/advertising.csv\").with_columns([\n",
    "    ((pl.col(\"Age\") // 10) * 10).alias(\"Age Band\"),\n",
    "    (pl.col(\"Daily Internet Usage\") // 20).alias(\"Daily Internet Usage Band\"),\n",
    "    (pl.col(\"Area Income\") // 5000).alias(\"Area Income Band\"),\n",
    "    pl.lit(1).alias(\"Test_Constant\"),\n",
    "    pl.lit(\"SSS\").alias(\"Test_Str_Constant\"),\n",
    "    pl.when(pl.col(\"Male\") == 0).then(0).otherwise(None).alias(\"Test_BadColumn\"),\n",
    "    pl.when(pl.col(\"Male\") == 0).then(\"A\").otherwise(\"B\").alias(\"Test_Binary\"),\n",
    "])\n",
    "target = \"Clicked on Ad\"\n",
    "df.head() "
   ]
  },
  {
   "cell_type": "code",
   "execution_count": 10,
   "metadata": {},
   "outputs": [
    {
     "data": {
      "text/html": [
       "<div><style>\n",
       ".dataframe > thead > tr > th,\n",
       ".dataframe > tbody > tr > td {\n",
       "  text-align: right;\n",
       "}\n",
       "</style>\n",
       "<small>shape: (18, 17)</small><table border=\"1\" class=\"dataframe\"><thead><tr><th>column</th><th>is_binary</th><th>count</th><th>null_count</th><th>null_pct</th><th>n_unique</th><th>unique_pct</th><th>mean</th><th>std</th><th>min</th><th>max</th><th>25%</th><th>median</th><th>75%</th><th>skew</th><th>kurtosis</th><th>dtype</th></tr><tr><td>str</td><td>i32</td><td>f64</td><td>f64</td><td>f64</td><td>u32</td><td>f64</td><td>f64</td><td>f64</td><td>str</td><td>str</td><td>f64</td><td>f64</td><td>f64</td><td>f64</td><td>f64</td><td>str</td></tr></thead><tbody><tr><td>&quot;Daily Time Spe…</td><td>0</td><td>1000.0</td><td>0.0</td><td>0.0</td><td>900</td><td>0.9</td><td>65.0002</td><td>15.853615</td><td>&quot;32.6&quot;</td><td>&quot;91.43&quot;</td><td>51.38</td><td>68.215</td><td>78.57</td><td>-0.371203</td><td>-1.096058</td><td>&quot;numeric&quot;</td></tr><tr><td>&quot;Age&quot;</td><td>0</td><td>1000.0</td><td>0.0</td><td>0.0</td><td>43</td><td>0.043</td><td>36.009</td><td>8.785562</td><td>&quot;19.0&quot;</td><td>&quot;61.0&quot;</td><td>29.0</td><td>35.0</td><td>42.0</td><td>0.478423</td><td>-0.404518</td><td>&quot;numeric&quot;</td></tr><tr><td>&quot;Area Income&quot;</td><td>0</td><td>1000.0</td><td>7.0</td><td>0.007</td><td>994</td><td>0.994</td><td>54980.756103</td><td>13434.996236</td><td>&quot;13996.5&quot;</td><td>&quot;79484.8&quot;</td><td>47051.02</td><td>57009.76</td><td>65461.92</td><td>-0.648682</td><td>-0.110118</td><td>&quot;numeric&quot;</td></tr><tr><td>&quot;Daily Internet…</td><td>0</td><td>1000.0</td><td>11.0</td><td>0.011</td><td>957</td><td>0.957</td><td>180.024985</td><td>43.903142</td><td>&quot;104.78&quot;</td><td>&quot;269.96&quot;</td><td>138.71</td><td>183.42</td><td>218.79</td><td>-0.04022</td><td>-1.277134</td><td>&quot;numeric&quot;</td></tr><tr><td>&quot;Ad Topic Line&quot;</td><td>0</td><td>1000.0</td><td>0.0</td><td>0.0</td><td>1000</td><td>1.0</td><td>null</td><td>null</td><td>&quot;Adaptive 24hou…</td><td>&quot;Visionary reci…</td><td>null</td><td>null</td><td>null</td><td>null</td><td>null</td><td>&quot;string&quot;</td></tr><tr><td>&quot;City&quot;</td><td>0</td><td>1000.0</td><td>0.0</td><td>0.0</td><td>969</td><td>0.969</td><td>null</td><td>null</td><td>&quot;Adamsbury&quot;</td><td>&quot;Zacharyton&quot;</td><td>null</td><td>null</td><td>null</td><td>null</td><td>null</td><td>&quot;string&quot;</td></tr><tr><td>&quot;Male&quot;</td><td>1</td><td>1000.0</td><td>0.0</td><td>0.0</td><td>2</td><td>0.002</td><td>0.481</td><td>0.499889</td><td>&quot;0.0&quot;</td><td>&quot;1.0&quot;</td><td>0.0</td><td>0.0</td><td>1.0</td><td>0.076055</td><td>-1.994216</td><td>&quot;numeric&quot;</td></tr><tr><td>&quot;Country&quot;</td><td>0</td><td>1000.0</td><td>0.0</td><td>0.0</td><td>237</td><td>0.237</td><td>null</td><td>null</td><td>&quot;Afghanistan&quot;</td><td>&quot;Zimbabwe&quot;</td><td>null</td><td>null</td><td>null</td><td>null</td><td>null</td><td>&quot;string&quot;</td></tr><tr><td>&quot;Timestamp&quot;</td><td>0</td><td>1000.0</td><td>0.0</td><td>0.0</td><td>997</td><td>0.997</td><td>null</td><td>null</td><td>&quot;1/1/2016 15:14…</td><td>&quot;7/9/2016 16:23…</td><td>null</td><td>null</td><td>null</td><td>null</td><td>null</td><td>&quot;string&quot;</td></tr><tr><td>&quot;Clicked on Ad&quot;</td><td>1</td><td>1000.0</td><td>0.0</td><td>0.0</td><td>2</td><td>0.002</td><td>0.5</td><td>0.50025</td><td>&quot;0.0&quot;</td><td>&quot;1.0&quot;</td><td>0.0</td><td>0.5</td><td>1.0</td><td>0.0</td><td>-2.0</td><td>&quot;numeric&quot;</td></tr><tr><td>&quot;One_Hot_Test&quot;</td><td>0</td><td>1000.0</td><td>0.0</td><td>0.0</td><td>3</td><td>0.003</td><td>null</td><td>null</td><td>&quot;A&quot;</td><td>&quot;C&quot;</td><td>null</td><td>null</td><td>null</td><td>null</td><td>null</td><td>&quot;string&quot;</td></tr><tr><td>&quot;Age Band&quot;</td><td>0</td><td>1000.0</td><td>0.0</td><td>0.0</td><td>6</td><td>0.006</td><td>31.52</td><td>9.411598</td><td>&quot;10.0&quot;</td><td>&quot;60.0&quot;</td><td>20.0</td><td>30.0</td><td>40.0</td><td>0.421637</td><td>-0.385315</td><td>&quot;numeric&quot;</td></tr><tr><td>&quot;Daily Internet…</td><td>0</td><td>1000.0</td><td>11.0</td><td>0.011</td><td>10</td><td>0.01</td><td>8.496461</td><td>2.195698</td><td>&quot;5.0&quot;</td><td>&quot;13.0&quot;</td><td>6.0</td><td>9.0</td><td>10.0</td><td>-0.044608</td><td>-1.251112</td><td>&quot;numeric&quot;</td></tr><tr><td>&quot;Area Income Ba…</td><td>0</td><td>1000.0</td><td>7.0</td><td>0.007</td><td>15</td><td>0.015</td><td>10.510574</td><td>2.713121</td><td>&quot;2.0&quot;</td><td>&quot;15.0&quot;</td><td>9.0</td><td>11.0</td><td>13.0</td><td>-0.654392</td><td>-0.085426</td><td>&quot;numeric&quot;</td></tr><tr><td>&quot;Test_Constant&quot;</td><td>0</td><td>1000.0</td><td>0.0</td><td>0.0</td><td>1</td><td>0.001</td><td>1.0</td><td>0.0</td><td>&quot;1.0&quot;</td><td>&quot;1.0&quot;</td><td>1.0</td><td>1.0</td><td>1.0</td><td>NaN</td><td>NaN</td><td>&quot;numeric&quot;</td></tr><tr><td>&quot;Test_Str_Const…</td><td>0</td><td>1000.0</td><td>0.0</td><td>0.0</td><td>1</td><td>0.001</td><td>null</td><td>null</td><td>&quot;SSS&quot;</td><td>&quot;SSS&quot;</td><td>null</td><td>null</td><td>null</td><td>null</td><td>null</td><td>&quot;string&quot;</td></tr><tr><td>&quot;Test_BadColumn…</td><td>1</td><td>1000.0</td><td>481.0</td><td>0.481</td><td>2</td><td>0.002</td><td>0.0</td><td>0.0</td><td>&quot;0.0&quot;</td><td>&quot;0.0&quot;</td><td>0.0</td><td>0.0</td><td>0.0</td><td>NaN</td><td>NaN</td><td>&quot;numeric&quot;</td></tr><tr><td>&quot;Test_Binary&quot;</td><td>1</td><td>1000.0</td><td>0.0</td><td>0.0</td><td>2</td><td>0.002</td><td>null</td><td>null</td><td>&quot;A&quot;</td><td>&quot;B&quot;</td><td>null</td><td>null</td><td>null</td><td>null</td><td>null</td><td>&quot;string&quot;</td></tr></tbody></table></div>"
      ],
      "text/plain": [
       "shape: (18, 17)\n",
       "┌───────────────┬───────────┬────────┬────────────┬───┬──────────┬───────────┬───────────┬─────────┐\n",
       "│ column        ┆ is_binary ┆ count  ┆ null_count ┆ … ┆ 75%      ┆ skew      ┆ kurtosis  ┆ dtype   │\n",
       "│ ---           ┆ ---       ┆ ---    ┆ ---        ┆   ┆ ---      ┆ ---       ┆ ---       ┆ ---     │\n",
       "│ str           ┆ i32       ┆ f64    ┆ f64        ┆   ┆ f64      ┆ f64       ┆ f64       ┆ str     │\n",
       "╞═══════════════╪═══════════╪════════╪════════════╪═══╪══════════╪═══════════╪═══════════╪═════════╡\n",
       "│ Daily Time    ┆ 0         ┆ 1000.0 ┆ 0.0        ┆ … ┆ 78.57    ┆ -0.371203 ┆ -1.096058 ┆ numeric │\n",
       "│ Spent on Site ┆           ┆        ┆            ┆   ┆          ┆           ┆           ┆         │\n",
       "│ Age           ┆ 0         ┆ 1000.0 ┆ 0.0        ┆ … ┆ 42.0     ┆ 0.478423  ┆ -0.404518 ┆ numeric │\n",
       "│ Area Income   ┆ 0         ┆ 1000.0 ┆ 7.0        ┆ … ┆ 65461.92 ┆ -0.648682 ┆ -0.110118 ┆ numeric │\n",
       "│ Daily         ┆ 0         ┆ 1000.0 ┆ 11.0       ┆ … ┆ 218.79   ┆ -0.04022  ┆ -1.277134 ┆ numeric │\n",
       "│ Internet      ┆           ┆        ┆            ┆   ┆          ┆           ┆           ┆         │\n",
       "│ Usage         ┆           ┆        ┆            ┆   ┆          ┆           ┆           ┆         │\n",
       "│ …             ┆ …         ┆ …      ┆ …          ┆ … ┆ …        ┆ …         ┆ …         ┆ …       │\n",
       "│ Test_Constant ┆ 0         ┆ 1000.0 ┆ 0.0        ┆ … ┆ 1.0      ┆ NaN       ┆ NaN       ┆ numeric │\n",
       "│ Test_Str_Cons ┆ 0         ┆ 1000.0 ┆ 0.0        ┆ … ┆ null     ┆ null      ┆ null      ┆ string  │\n",
       "│ tant          ┆           ┆        ┆            ┆   ┆          ┆           ┆           ┆         │\n",
       "│ Test_BadColum ┆ 1         ┆ 1000.0 ┆ 481.0      ┆ … ┆ 0.0      ┆ NaN       ┆ NaN       ┆ numeric │\n",
       "│ n             ┆           ┆        ┆            ┆   ┆          ┆           ┆           ┆         │\n",
       "│ Test_Binary   ┆ 1         ┆ 1000.0 ┆ 0.0        ┆ … ┆ null     ┆ null      ┆ null      ┆ string  │\n",
       "└───────────────┴───────────┴────────┴────────────┴───┴──────────┴───────────┴───────────┴─────────┘"
      ]
     },
     "execution_count": 10,
     "metadata": {},
     "output_type": "execute_result"
    }
   ],
   "source": [
    "describe(df)"
   ]
  },
  {
   "cell_type": "code",
   "execution_count": 11,
   "metadata": {},
   "outputs": [
    {
     "name": "stdout",
     "output_type": "stream",
     "text": [
      "The following numeric columns are dropped because they have lower than 0.5 variance. ['Male', 'Test_Constant', 'Test_BadColumn']\n",
      "Removed a total of 3 columns.\n"
     ]
    }
   ],
   "source": [
    "df = var_removal(df, threshold=0.5, target=target)"
   ]
  },
  {
   "cell_type": "code",
   "execution_count": 12,
   "metadata": {},
   "outputs": [
    {
     "name": "stdout",
     "output_type": "stream",
     "text": [
      "The following columns are dropped because they are constants. ['Test_Str_Constant'].\n",
      "Removed a total of 1 columns.\n"
     ]
    }
   ],
   "source": [
    "df = constant_removal(df)"
   ]
  },
  {
   "cell_type": "code",
   "execution_count": 13,
   "metadata": {},
   "outputs": [
    {
     "name": "stdout",
     "output_type": "stream",
     "text": [
      "Transforming Test_Binary into a binary column with [0, 1] ...\n"
     ]
    }
   ],
   "source": [
    "# One way to interactive with TransformationResult objects\n",
    "bin_result = binary_encode(df, exclude = [target])"
   ]
  },
  {
   "cell_type": "code",
   "execution_count": 14,
   "metadata": {},
   "outputs": [
    {
     "data": {
      "text/html": [
       "<div><style>\n",
       ".dataframe > thead > tr > th,\n",
       ".dataframe > tbody > tr > td {\n",
       "  text-align: right;\n",
       "}\n",
       "</style>\n",
       "<small>shape: (5, 14)</small><table border=\"1\" class=\"dataframe\"><thead><tr><th>Daily Time Spent on Site</th><th>Age</th><th>Area Income</th><th>Daily Internet Usage</th><th>Ad Topic Line</th><th>City</th><th>Country</th><th>Timestamp</th><th>Clicked on Ad</th><th>One_Hot_Test</th><th>Age Band</th><th>Daily Internet Usage Band</th><th>Area Income Band</th><th>Test_Binary</th></tr><tr><td>f64</td><td>i64</td><td>f64</td><td>f64</td><td>str</td><td>str</td><td>str</td><td>str</td><td>i64</td><td>str</td><td>i64</td><td>f64</td><td>f64</td><td>u8</td></tr></thead><tbody><tr><td>68.95</td><td>35</td><td>61833.9</td><td>256.09</td><td>&quot;Cloned 5thgene…</td><td>&quot;Wrightburgh&quot;</td><td>&quot;Tunisia&quot;</td><td>&quot;3/27/2016 0:53…</td><td>0</td><td>&quot;A&quot;</td><td>30</td><td>12.0</td><td>12.0</td><td>0</td></tr><tr><td>80.23</td><td>31</td><td>68441.85</td><td>193.77</td><td>&quot;Monitored nati…</td><td>&quot;West Jodi&quot;</td><td>&quot;Nauru&quot;</td><td>&quot;4/4/2016 1:39&quot;</td><td>0</td><td>&quot;B&quot;</td><td>30</td><td>9.0</td><td>13.0</td><td>1</td></tr><tr><td>69.47</td><td>26</td><td>59785.94</td><td>236.5</td><td>&quot;Organic bottom…</td><td>&quot;Davidton&quot;</td><td>&quot;San Marino&quot;</td><td>&quot;3/13/2016 20:3…</td><td>0</td><td>&quot;A&quot;</td><td>20</td><td>11.0</td><td>11.0</td><td>0</td></tr><tr><td>74.15</td><td>29</td><td>54806.18</td><td>245.89</td><td>&quot;Triple-buffere…</td><td>&quot;West Terrifurt…</td><td>&quot;Italy&quot;</td><td>&quot;1/10/2016 2:31…</td><td>0</td><td>&quot;B&quot;</td><td>20</td><td>12.0</td><td>10.0</td><td>1</td></tr><tr><td>68.37</td><td>35</td><td>73889.99</td><td>225.58</td><td>&quot;Robust logisti…</td><td>&quot;South Manuel&quot;</td><td>&quot;Iceland&quot;</td><td>&quot;6/3/2016 3:36&quot;</td><td>0</td><td>&quot;A&quot;</td><td>30</td><td>11.0</td><td>14.0</td><td>0</td></tr></tbody></table></div>"
      ],
      "text/plain": [
       "shape: (5, 14)\n",
       "┌────────────┬─────┬───────────┬────────────┬───┬──────────┬────────────┬────────────┬─────────────┐\n",
       "│ Daily Time ┆ Age ┆ Area      ┆ Daily      ┆ … ┆ Age Band ┆ Daily      ┆ Area       ┆ Test_Binary │\n",
       "│ Spent on   ┆ --- ┆ Income    ┆ Internet   ┆   ┆ ---      ┆ Internet   ┆ Income     ┆ ---         │\n",
       "│ Site       ┆ i64 ┆ ---       ┆ Usage      ┆   ┆ i64      ┆ Usage Band ┆ Band       ┆ u8          │\n",
       "│ ---        ┆     ┆ f64       ┆ ---        ┆   ┆          ┆ ---        ┆ ---        ┆             │\n",
       "│ f64        ┆     ┆           ┆ f64        ┆   ┆          ┆ f64        ┆ f64        ┆             │\n",
       "╞════════════╪═════╪═══════════╪════════════╪═══╪══════════╪════════════╪════════════╪═════════════╡\n",
       "│ 68.95      ┆ 35  ┆ 61833.9   ┆ 256.09     ┆ … ┆ 30       ┆ 12.0       ┆ 12.0       ┆ 0           │\n",
       "│ 80.23      ┆ 31  ┆ 68441.85  ┆ 193.77     ┆ … ┆ 30       ┆ 9.0        ┆ 13.0       ┆ 1           │\n",
       "│ 69.47      ┆ 26  ┆ 59785.94  ┆ 236.5      ┆ … ┆ 20       ┆ 11.0       ┆ 11.0       ┆ 0           │\n",
       "│ 74.15      ┆ 29  ┆ 54806.18  ┆ 245.89     ┆ … ┆ 20       ┆ 12.0       ┆ 10.0       ┆ 1           │\n",
       "│ 68.37      ┆ 35  ┆ 73889.99  ┆ 225.58     ┆ … ┆ 30       ┆ 11.0       ┆ 14.0       ┆ 0           │\n",
       "└────────────┴─────┴───────────┴────────────┴───┴──────────┴────────────┴────────────┴─────────────┘"
      ]
     },
     "execution_count": 14,
     "metadata": {},
     "output_type": "execute_result"
    }
   ],
   "source": [
    "bin_result.transformed.head() "
   ]
  },
  {
   "cell_type": "code",
   "execution_count": 15,
   "metadata": {},
   "outputs": [
    {
     "data": {
      "text/plain": [
       "EncoderRecord(features=['Test_Binary'], strategy=<EncodingStrategy.BINARY: 'BINARY'>, mappings=[{'A': 0, 'B': 1, 'orig_dtype': 'string'}])"
      ]
     },
     "execution_count": 15,
     "metadata": {},
     "output_type": "execute_result"
    }
   ],
   "source": [
    "df = bin_result.transformed\n",
    "bin_result.mapping "
   ]
  },
  {
   "cell_type": "code",
   "execution_count": 16,
   "metadata": {},
   "outputs": [
    {
     "name": "stdout",
     "output_type": "stream",
     "text": [
      "{\"features\":[\"Test_Binary\"],\"strategy\":\"BINARY\",\"mappings\":[{\"A\":0,\"B\":1,\"orig_dtype\":\"string\"}]}\n"
     ]
    }
   ],
   "source": [
    "print(bin_result.mapping)"
   ]
  },
  {
   "cell_type": "code",
   "execution_count": 17,
   "metadata": {},
   "outputs": [
    {
     "data": {
      "text/html": [
       "<div><style>\n",
       ".dataframe > thead > tr > th,\n",
       ".dataframe > tbody > tr > td {\n",
       "  text-align: right;\n",
       "}\n",
       "</style>\n",
       "<small>shape: (1, 3)</small><table border=\"1\" class=\"dataframe\"><thead><tr><th>feature</th><th>encoding_strategy</th><th>maps</th></tr><tr><td>str</td><td>object</td><td>str</td></tr></thead><tbody><tr><td>&quot;Test_Binary&quot;</td><td>EncodingStrategy.BINARY</td><td>&quot;{&quot;A&quot;:0,&quot;B&quot;:1,&quot;…</td></tr></tbody></table></div>"
      ],
      "text/plain": [
       "shape: (1, 3)\n",
       "┌─────────────┬─────────────────────────┬───────────────────────────────────┐\n",
       "│ feature     ┆ encoding_strategy       ┆ maps                              │\n",
       "│ ---         ┆ ---                     ┆ ---                               │\n",
       "│ str         ┆ object                  ┆ str                               │\n",
       "╞═════════════╪═════════════════════════╪═══════════════════════════════════╡\n",
       "│ Test_Binary ┆ EncodingStrategy.BINARY ┆ {\"A\":0,\"B\":1,\"orig_dtype\":\"strin… │\n",
       "└─────────────┴─────────────────────────┴───────────────────────────────────┘"
      ]
     },
     "execution_count": 17,
     "metadata": {},
     "output_type": "execute_result"
    }
   ],
   "source": [
    "bin_result.materialize()"
   ]
  },
  {
   "cell_type": "code",
   "execution_count": 18,
   "metadata": {},
   "outputs": [
    {
     "data": {
      "text/html": [
       "<div><style>\n",
       ".dataframe > thead > tr > th,\n",
       ".dataframe > tbody > tr > td {\n",
       "  text-align: right;\n",
       "}\n",
       "</style>\n",
       "<small>shape: (1_000, 14)</small><table border=\"1\" class=\"dataframe\"><thead><tr><th>Daily Time Spent on Site</th><th>Age</th><th>Area Income</th><th>Daily Internet Usage</th><th>Ad Topic Line</th><th>City</th><th>Country</th><th>Timestamp</th><th>Clicked on Ad</th><th>One_Hot_Test</th><th>Age Band</th><th>Daily Internet Usage Band</th><th>Area Income Band</th><th>Test_Binary</th></tr><tr><td>f64</td><td>i64</td><td>f64</td><td>f64</td><td>str</td><td>str</td><td>str</td><td>str</td><td>i64</td><td>str</td><td>i64</td><td>f64</td><td>f64</td><td>u8</td></tr></thead><tbody><tr><td>68.95</td><td>35</td><td>61833.9</td><td>256.09</td><td>&quot;Cloned 5thgene…</td><td>&quot;Wrightburgh&quot;</td><td>&quot;Tunisia&quot;</td><td>&quot;3/27/2016 0:53…</td><td>0</td><td>&quot;A&quot;</td><td>30</td><td>12.0</td><td>12.0</td><td>0</td></tr><tr><td>80.23</td><td>31</td><td>68441.85</td><td>193.77</td><td>&quot;Monitored nati…</td><td>&quot;West Jodi&quot;</td><td>&quot;Nauru&quot;</td><td>&quot;4/4/2016 1:39&quot;</td><td>0</td><td>&quot;B&quot;</td><td>30</td><td>9.0</td><td>13.0</td><td>1</td></tr><tr><td>69.47</td><td>26</td><td>59785.94</td><td>236.5</td><td>&quot;Organic bottom…</td><td>&quot;Davidton&quot;</td><td>&quot;San Marino&quot;</td><td>&quot;3/13/2016 20:3…</td><td>0</td><td>&quot;A&quot;</td><td>20</td><td>11.0</td><td>11.0</td><td>0</td></tr><tr><td>74.15</td><td>29</td><td>54806.18</td><td>245.89</td><td>&quot;Triple-buffere…</td><td>&quot;West Terrifurt…</td><td>&quot;Italy&quot;</td><td>&quot;1/10/2016 2:31…</td><td>0</td><td>&quot;B&quot;</td><td>20</td><td>12.0</td><td>10.0</td><td>1</td></tr><tr><td>68.37</td><td>35</td><td>73889.99</td><td>225.58</td><td>&quot;Robust logisti…</td><td>&quot;South Manuel&quot;</td><td>&quot;Iceland&quot;</td><td>&quot;6/3/2016 3:36&quot;</td><td>0</td><td>&quot;A&quot;</td><td>30</td><td>11.0</td><td>14.0</td><td>0</td></tr><tr><td>59.99</td><td>23</td><td>59761.56</td><td>226.74</td><td>&quot;Sharable clien…</td><td>&quot;Jamieberg&quot;</td><td>&quot;Norway&quot;</td><td>&quot;5/19/2016 14:3…</td><td>0</td><td>&quot;B&quot;</td><td>20</td><td>11.0</td><td>11.0</td><td>1</td></tr><tr><td>88.91</td><td>33</td><td>54980.756103</td><td>208.36</td><td>&quot;Enhanced dedic…</td><td>&quot;Brandonstad&quot;</td><td>&quot;Myanmar&quot;</td><td>&quot;1/28/2016 20:5…</td><td>0</td><td>&quot;A&quot;</td><td>30</td><td>10.0</td><td>11.0</td><td>0</td></tr><tr><td>66.0</td><td>48</td><td>24593.33</td><td>131.76</td><td>&quot;Reactive local…</td><td>&quot;Port Jefferybu…</td><td>&quot;Australia&quot;</td><td>&quot;3/7/2016 1:40&quot;</td><td>1</td><td>&quot;A&quot;</td><td>40</td><td>6.0</td><td>4.0</td><td>1</td></tr><tr><td>74.53</td><td>30</td><td>68862.0</td><td>221.51</td><td>&quot;Configurable c…</td><td>&quot;West Colin&quot;</td><td>&quot;Grenada&quot;</td><td>&quot;4/18/2016 9:33…</td><td>0</td><td>&quot;A&quot;</td><td>30</td><td>11.0</td><td>13.0</td><td>1</td></tr><tr><td>69.88</td><td>20</td><td>55642.32</td><td>183.82</td><td>&quot;Mandatory homo…</td><td>&quot;Ramirezton&quot;</td><td>&quot;Ghana&quot;</td><td>&quot;7/11/2016 1:42…</td><td>0</td><td>&quot;A&quot;</td><td>20</td><td>9.0</td><td>11.0</td><td>1</td></tr><tr><td>47.64</td><td>49</td><td>45632.51</td><td>122.02</td><td>&quot;Centralized ne…</td><td>&quot;West Brandonto…</td><td>&quot;Qatar&quot;</td><td>&quot;3/16/2016 20:1…</td><td>1</td><td>&quot;C&quot;</td><td>40</td><td>6.0</td><td>9.0</td><td>0</td></tr><tr><td>83.07</td><td>37</td><td>54980.756103</td><td>230.87</td><td>&quot;Team-oriented …</td><td>&quot;East Theresash…</td><td>&quot;Burundi&quot;</td><td>&quot;5/8/2016 8:10&quot;</td><td>0</td><td>&quot;A&quot;</td><td>30</td><td>11.0</td><td>11.0</td><td>1</td></tr><tr><td>&hellip;</td><td>&hellip;</td><td>&hellip;</td><td>&hellip;</td><td>&hellip;</td><td>&hellip;</td><td>&hellip;</td><td>&hellip;</td><td>&hellip;</td><td>&hellip;</td><td>&hellip;</td><td>&hellip;</td><td>&hellip;</td><td>&hellip;</td></tr><tr><td>89.71</td><td>48</td><td>51501.38</td><td>204.4</td><td>&quot;Versatile loca…</td><td>&quot;Sarafurt&quot;</td><td>&quot;Bahrain&quot;</td><td>&quot;2/17/2016 7:00…</td><td>0</td><td>&quot;A&quot;</td><td>40</td><td>10.0</td><td>10.0</td><td>1</td></tr><tr><td>70.96</td><td>31</td><td>55187.85</td><td>256.4</td><td>&quot;Ameliorated us…</td><td>&quot;South Denise&quot;</td><td>&quot;Saint Pierre a…</td><td>&quot;6/26/2016 7:01…</td><td>0</td><td>&quot;B&quot;</td><td>30</td><td>12.0</td><td>11.0</td><td>0</td></tr><tr><td>35.79</td><td>44</td><td>33813.08</td><td>165.62</td><td>&quot;Enterprise-wid…</td><td>&quot;North Katie&quot;</td><td>&quot;Tonga&quot;</td><td>&quot;4/20/2016 13:3…</td><td>1</td><td>&quot;A&quot;</td><td>40</td><td>8.0</td><td>6.0</td><td>1</td></tr><tr><td>38.96</td><td>38</td><td>36497.22</td><td>140.67</td><td>&quot;Versatile miss…</td><td>&quot;Mauricefurt&quot;</td><td>&quot;Comoros&quot;</td><td>&quot;7/21/2016 16:0…</td><td>1</td><td>&quot;A&quot;</td><td>30</td><td>7.0</td><td>7.0</td><td>1</td></tr><tr><td>69.17</td><td>40</td><td>66193.81</td><td>123.62</td><td>&quot;Extended leadi…</td><td>&quot;New Patrick&quot;</td><td>&quot;Montenegro&quot;</td><td>&quot;3/6/2016 11:36…</td><td>1</td><td>&quot;B&quot;</td><td>40</td><td>6.0</td><td>13.0</td><td>0</td></tr><tr><td>64.2</td><td>27</td><td>66200.96</td><td>227.63</td><td>&quot;Phased zero to…</td><td>&quot;Edwardsmouth&quot;</td><td>&quot;Isle of Man&quot;</td><td>&quot;2/11/2016 23:4…</td><td>0</td><td>&quot;A&quot;</td><td>20</td><td>11.0</td><td>13.0</td><td>1</td></tr><tr><td>43.7</td><td>28</td><td>63126.96</td><td>173.01</td><td>&quot;Front-line bif…</td><td>&quot;Nicholasland&quot;</td><td>&quot;Mayotte&quot;</td><td>&quot;4/4/2016 3:57&quot;</td><td>1</td><td>&quot;A&quot;</td><td>20</td><td>8.0</td><td>12.0</td><td>0</td></tr><tr><td>72.97</td><td>30</td><td>71384.57</td><td>208.58</td><td>&quot;Fundamental mo…</td><td>&quot;Duffystad&quot;</td><td>&quot;Lebanon&quot;</td><td>&quot;2/11/2016 21:4…</td><td>1</td><td>&quot;A&quot;</td><td>30</td><td>10.0</td><td>14.0</td><td>1</td></tr><tr><td>51.3</td><td>45</td><td>67782.17</td><td>134.42</td><td>&quot;Grass-roots co…</td><td>&quot;New Darlene&quot;</td><td>&quot;Bosnia and Her…</td><td>&quot;4/22/2016 2:07…</td><td>1</td><td>&quot;B&quot;</td><td>40</td><td>6.0</td><td>13.0</td><td>1</td></tr><tr><td>51.63</td><td>51</td><td>42415.72</td><td>120.37</td><td>&quot;Expanded intan…</td><td>&quot;South Jessica&quot;</td><td>&quot;Mongolia&quot;</td><td>&quot;2/1/2016 17:24…</td><td>1</td><td>&quot;C&quot;</td><td>50</td><td>6.0</td><td>8.0</td><td>1</td></tr><tr><td>55.55</td><td>19</td><td>41920.79</td><td>187.95</td><td>&quot;Proactive band…</td><td>&quot;West Steven&quot;</td><td>&quot;Guatemala&quot;</td><td>&quot;3/24/2016 2:35…</td><td>0</td><td>&quot;A&quot;</td><td>10</td><td>9.0</td><td>8.0</td><td>0</td></tr><tr><td>45.01</td><td>26</td><td>29875.8</td><td>178.35</td><td>&quot;Virtual 5thgen…</td><td>&quot;Ronniemouth&quot;</td><td>&quot;Brazil&quot;</td><td>&quot;6/3/2016 21:43…</td><td>1</td><td>&quot;B&quot;</td><td>20</td><td>8.0</td><td>5.0</td><td>0</td></tr></tbody></table></div>"
      ],
      "text/plain": [
       "shape: (1_000, 14)\n",
       "┌────────────┬─────┬───────────┬────────────┬───┬──────────┬────────────┬────────────┬─────────────┐\n",
       "│ Daily Time ┆ Age ┆ Area      ┆ Daily      ┆ … ┆ Age Band ┆ Daily      ┆ Area       ┆ Test_Binary │\n",
       "│ Spent on   ┆ --- ┆ Income    ┆ Internet   ┆   ┆ ---      ┆ Internet   ┆ Income     ┆ ---         │\n",
       "│ Site       ┆ i64 ┆ ---       ┆ Usage      ┆   ┆ i64      ┆ Usage Band ┆ Band       ┆ u8          │\n",
       "│ ---        ┆     ┆ f64       ┆ ---        ┆   ┆          ┆ ---        ┆ ---        ┆             │\n",
       "│ f64        ┆     ┆           ┆ f64        ┆   ┆          ┆ f64        ┆ f64        ┆             │\n",
       "╞════════════╪═════╪═══════════╪════════════╪═══╪══════════╪════════════╪════════════╪═════════════╡\n",
       "│ 68.95      ┆ 35  ┆ 61833.9   ┆ 256.09     ┆ … ┆ 30       ┆ 12.0       ┆ 12.0       ┆ 0           │\n",
       "│ 80.23      ┆ 31  ┆ 68441.85  ┆ 193.77     ┆ … ┆ 30       ┆ 9.0        ┆ 13.0       ┆ 1           │\n",
       "│ 69.47      ┆ 26  ┆ 59785.94  ┆ 236.5      ┆ … ┆ 20       ┆ 11.0       ┆ 11.0       ┆ 0           │\n",
       "│ 74.15      ┆ 29  ┆ 54806.18  ┆ 245.89     ┆ … ┆ 20       ┆ 12.0       ┆ 10.0       ┆ 1           │\n",
       "│ …          ┆ …   ┆ …         ┆ …          ┆ … ┆ …        ┆ …          ┆ …          ┆ …           │\n",
       "│ 51.3       ┆ 45  ┆ 67782.17  ┆ 134.42     ┆ … ┆ 40       ┆ 6.0        ┆ 13.0       ┆ 1           │\n",
       "│ 51.63      ┆ 51  ┆ 42415.72  ┆ 120.37     ┆ … ┆ 50       ┆ 6.0        ┆ 8.0        ┆ 1           │\n",
       "│ 55.55      ┆ 19  ┆ 41920.79  ┆ 187.95     ┆ … ┆ 10       ┆ 9.0        ┆ 8.0        ┆ 0           │\n",
       "│ 45.01      ┆ 26  ┆ 29875.8   ┆ 178.35     ┆ … ┆ 20       ┆ 8.0        ┆ 5.0        ┆ 0           │\n",
       "└────────────┴─────┴───────────┴────────────┴───┴──────────┴────────────┴────────────┴─────────────┘"
      ]
     },
     "execution_count": 18,
     "metadata": {},
     "output_type": "execute_result"
    }
   ],
   "source": [
    "# Second way (imo, better) to interactive with TransformationResult objects\n",
    "df, mapping1 = impute(df, [\"Area Income\"], ImputationStartegy.MEAN)\n",
    "df, mapping2 = impute(df, [\"Daily Internet Usage\", \"Daily Internet Usage Band\", \"Area Income Band\"], ImputationStartegy.MEDIAN)\n",
    "df "
   ]
  },
  {
   "cell_type": "code",
   "execution_count": 19,
   "metadata": {},
   "outputs": [
    {
     "data": {
      "text/plain": [
       "ImputationRecord(features=['Area Income'], strategy=<ImputationStartegy.MEAN: 'MEAN'>, values=array([54980.75610272]))"
      ]
     },
     "execution_count": 19,
     "metadata": {},
     "output_type": "execute_result"
    }
   ],
   "source": [
    "mapping1"
   ]
  },
  {
   "cell_type": "code",
   "execution_count": 20,
   "metadata": {},
   "outputs": [
    {
     "data": {
      "text/html": [
       "<div><style>\n",
       ".dataframe > thead > tr > th,\n",
       ".dataframe > tbody > tr > td {\n",
       "  text-align: right;\n",
       "}\n",
       "</style>\n",
       "<small>shape: (1, 3)</small><table border=\"1\" class=\"dataframe\"><thead><tr><th>feature</th><th>imputation_strategy</th><th>value_used</th></tr><tr><td>str</td><td>object</td><td>f64</td></tr></thead><tbody><tr><td>&quot;Area Income&quot;</td><td>ImputationStartegy.MEAN</td><td>54980.756103</td></tr></tbody></table></div>"
      ],
      "text/plain": [
       "shape: (1, 3)\n",
       "┌─────────────┬─────────────────────────┬──────────────┐\n",
       "│ feature     ┆ imputation_strategy     ┆ value_used   │\n",
       "│ ---         ┆ ---                     ┆ ---          │\n",
       "│ str         ┆ object                  ┆ f64          │\n",
       "╞═════════════╪═════════════════════════╪══════════════╡\n",
       "│ Area Income ┆ ImputationStartegy.MEAN ┆ 54980.756103 │\n",
       "└─────────────┴─────────────────────────┴──────────────┘"
      ]
     },
     "execution_count": 20,
     "metadata": {},
     "output_type": "execute_result"
    }
   ],
   "source": [
    "mapping1.materialize() "
   ]
  },
  {
   "cell_type": "code",
   "execution_count": 21,
   "metadata": {},
   "outputs": [
    {
     "data": {
      "text/plain": [
       "ImputationRecord(features=['Daily Internet Usage', 'Daily Internet Usage Band', 'Area Income Band'], strategy=<ImputationStartegy.MEDIAN: 'MEDIAN'>, values=array([183.42,   9.  ,  11.  ]))"
      ]
     },
     "execution_count": 21,
     "metadata": {},
     "output_type": "execute_result"
    }
   ],
   "source": [
    "mapping2 "
   ]
  },
  {
   "cell_type": "code",
   "execution_count": 22,
   "metadata": {},
   "outputs": [
    {
     "data": {
      "text/html": [
       "<div><style>\n",
       ".dataframe > thead > tr > th,\n",
       ".dataframe > tbody > tr > td {\n",
       "  text-align: right;\n",
       "}\n",
       "</style>\n",
       "<small>shape: (3, 3)</small><table border=\"1\" class=\"dataframe\"><thead><tr><th>feature</th><th>imputation_strategy</th><th>value_used</th></tr><tr><td>str</td><td>object</td><td>f64</td></tr></thead><tbody><tr><td>&quot;Daily Internet…</td><td>ImputationStartegy.MEDIAN</td><td>183.42</td></tr><tr><td>&quot;Daily Internet…</td><td>ImputationStartegy.MEDIAN</td><td>9.0</td></tr><tr><td>&quot;Area Income Ba…</td><td>ImputationStartegy.MEDIAN</td><td>11.0</td></tr></tbody></table></div>"
      ],
      "text/plain": [
       "shape: (3, 3)\n",
       "┌───────────────────────────┬───────────────────────────┬────────────┐\n",
       "│ feature                   ┆ imputation_strategy       ┆ value_used │\n",
       "│ ---                       ┆ ---                       ┆ ---        │\n",
       "│ str                       ┆ object                    ┆ f64        │\n",
       "╞═══════════════════════════╪═══════════════════════════╪════════════╡\n",
       "│ Daily Internet Usage      ┆ ImputationStartegy.MEDIAN ┆ 183.42     │\n",
       "│ Daily Internet Usage Band ┆ ImputationStartegy.MEDIAN ┆ 9.0        │\n",
       "│ Area Income Band          ┆ ImputationStartegy.MEDIAN ┆ 11.0       │\n",
       "└───────────────────────────┴───────────────────────────┴────────────┘"
      ]
     },
     "execution_count": 22,
     "metadata": {},
     "output_type": "execute_result"
    }
   ],
   "source": [
    "mapping2.materialize()"
   ]
  },
  {
   "cell_type": "code",
   "execution_count": 23,
   "metadata": {},
   "outputs": [
    {
     "data": {
      "text/html": [
       "<div><style>\n",
       ".dataframe > thead > tr > th,\n",
       ".dataframe > tbody > tr > td {\n",
       "  text-align: right;\n",
       "}\n",
       "</style>\n",
       "<small>shape: (1_000, 14)</small><table border=\"1\" class=\"dataframe\"><thead><tr><th>Daily Time Spent on Site</th><th>Age</th><th>Area Income</th><th>Daily Internet Usage</th><th>Ad Topic Line</th><th>City</th><th>Country</th><th>Timestamp</th><th>Clicked on Ad</th><th>One_Hot_Test</th><th>Age Band</th><th>Daily Internet Usage Band</th><th>Area Income Band</th><th>Test_Binary</th></tr><tr><td>f64</td><td>i64</td><td>f64</td><td>f64</td><td>str</td><td>str</td><td>str</td><td>str</td><td>i64</td><td>str</td><td>i64</td><td>f64</td><td>f64</td><td>u8</td></tr></thead><tbody><tr><td>68.95</td><td>35</td><td>0.511893</td><td>1.74127</td><td>&quot;Cloned 5thgene…</td><td>&quot;Wrightburgh&quot;</td><td>&quot;Tunisia&quot;</td><td>&quot;3/27/2016 0:53…</td><td>0</td><td>&quot;A&quot;</td><td>30</td><td>12.0</td><td>12.0</td><td>0</td></tr><tr><td>80.23</td><td>31</td><td>1.005471</td><td>0.313948</td><td>&quot;Monitored nati…</td><td>&quot;West Jodi&quot;</td><td>&quot;Nauru&quot;</td><td>&quot;4/4/2016 1:39&quot;</td><td>0</td><td>&quot;B&quot;</td><td>30</td><td>9.0</td><td>13.0</td><td>1</td></tr><tr><td>69.47</td><td>26</td><td>0.358921</td><td>1.292598</td><td>&quot;Organic bottom…</td><td>&quot;Davidton&quot;</td><td>&quot;San Marino&quot;</td><td>&quot;3/13/2016 20:3…</td><td>0</td><td>&quot;A&quot;</td><td>20</td><td>11.0</td><td>11.0</td><td>0</td></tr><tr><td>74.15</td><td>29</td><td>-0.01304</td><td>1.507658</td><td>&quot;Triple-buffere…</td><td>&quot;West Terrifurt…</td><td>&quot;Italy&quot;</td><td>&quot;1/10/2016 2:31…</td><td>0</td><td>&quot;B&quot;</td><td>20</td><td>12.0</td><td>10.0</td><td>1</td></tr><tr><td>68.37</td><td>35</td><td>1.412418</td><td>1.042496</td><td>&quot;Robust logisti…</td><td>&quot;South Manuel&quot;</td><td>&quot;Iceland&quot;</td><td>&quot;6/3/2016 3:36&quot;</td><td>0</td><td>&quot;A&quot;</td><td>30</td><td>11.0</td><td>14.0</td><td>0</td></tr><tr><td>59.99</td><td>23</td><td>0.3571</td><td>1.069064</td><td>&quot;Sharable clien…</td><td>&quot;Jamieberg&quot;</td><td>&quot;Norway&quot;</td><td>&quot;5/19/2016 14:3…</td><td>0</td><td>&quot;B&quot;</td><td>20</td><td>11.0</td><td>11.0</td><td>1</td></tr><tr><td>88.91</td><td>33</td><td>-1.0869e-15</td><td>0.648105</td><td>&quot;Enhanced dedic…</td><td>&quot;Brandonstad&quot;</td><td>&quot;Myanmar&quot;</td><td>&quot;1/28/2016 20:5…</td><td>0</td><td>&quot;A&quot;</td><td>30</td><td>10.0</td><td>11.0</td><td>0</td></tr><tr><td>66.0</td><td>48</td><td>-2.269777</td><td>-1.106273</td><td>&quot;Reactive local…</td><td>&quot;Port Jefferybu…</td><td>&quot;Australia&quot;</td><td>&quot;3/7/2016 1:40&quot;</td><td>1</td><td>&quot;A&quot;</td><td>40</td><td>6.0</td><td>4.0</td><td>1</td></tr><tr><td>74.53</td><td>30</td><td>1.036854</td><td>0.94928</td><td>&quot;Configurable c…</td><td>&quot;West Colin&quot;</td><td>&quot;Grenada&quot;</td><td>&quot;4/18/2016 9:33…</td><td>0</td><td>&quot;A&quot;</td><td>30</td><td>11.0</td><td>13.0</td><td>1</td></tr><tr><td>69.88</td><td>20</td><td>0.049415</td><td>0.086062</td><td>&quot;Mandatory homo…</td><td>&quot;Ramirezton&quot;</td><td>&quot;Ghana&quot;</td><td>&quot;7/11/2016 1:42…</td><td>0</td><td>&quot;A&quot;</td><td>20</td><td>9.0</td><td>11.0</td><td>1</td></tr><tr><td>47.64</td><td>49</td><td>-0.698264</td><td>-1.32935</td><td>&quot;Centralized ne…</td><td>&quot;West Brandonto…</td><td>&quot;Qatar&quot;</td><td>&quot;3/16/2016 20:1…</td><td>1</td><td>&quot;C&quot;</td><td>40</td><td>6.0</td><td>9.0</td><td>0</td></tr><tr><td>83.07</td><td>37</td><td>-1.0869e-15</td><td>1.163653</td><td>&quot;Team-oriented …</td><td>&quot;East Theresash…</td><td>&quot;Burundi&quot;</td><td>&quot;5/8/2016 8:10&quot;</td><td>0</td><td>&quot;A&quot;</td><td>30</td><td>11.0</td><td>11.0</td><td>1</td></tr><tr><td>&hellip;</td><td>&hellip;</td><td>&hellip;</td><td>&hellip;</td><td>&hellip;</td><td>&hellip;</td><td>&hellip;</td><td>&hellip;</td><td>&hellip;</td><td>&hellip;</td><td>&hellip;</td><td>&hellip;</td><td>&hellip;</td><td>&hellip;</td></tr><tr><td>89.71</td><td>48</td><td>-0.259891</td><td>0.557408</td><td>&quot;Versatile loca…</td><td>&quot;Sarafurt&quot;</td><td>&quot;Bahrain&quot;</td><td>&quot;2/17/2016 7:00…</td><td>0</td><td>&quot;A&quot;</td><td>40</td><td>10.0</td><td>10.0</td><td>1</td></tr><tr><td>70.96</td><td>31</td><td>0.015469</td><td>1.74837</td><td>&quot;Ameliorated us…</td><td>&quot;South Denise&quot;</td><td>&quot;Saint Pierre a…</td><td>&quot;6/26/2016 7:01…</td><td>0</td><td>&quot;B&quot;</td><td>30</td><td>12.0</td><td>11.0</td><td>0</td></tr><tr><td>35.79</td><td>44</td><td>-1.581112</td><td>-0.330774</td><td>&quot;Enterprise-wid…</td><td>&quot;North Katie&quot;</td><td>&quot;Tonga&quot;</td><td>&quot;4/20/2016 13:3…</td><td>1</td><td>&quot;A&quot;</td><td>40</td><td>8.0</td><td>6.0</td><td>1</td></tr><tr><td>38.96</td><td>38</td><td>-1.380621</td><td>-0.902207</td><td>&quot;Versatile miss…</td><td>&quot;Mauricefurt&quot;</td><td>&quot;Comoros&quot;</td><td>&quot;7/21/2016 16:0…</td><td>1</td><td>&quot;A&quot;</td><td>30</td><td>7.0</td><td>7.0</td><td>1</td></tr><tr><td>69.17</td><td>40</td><td>0.837555</td><td>-1.292705</td><td>&quot;Extended leadi…</td><td>&quot;New Patrick&quot;</td><td>&quot;Montenegro&quot;</td><td>&quot;3/6/2016 11:36…</td><td>1</td><td>&quot;B&quot;</td><td>40</td><td>6.0</td><td>13.0</td><td>0</td></tr><tr><td>64.2</td><td>27</td><td>0.838089</td><td>1.089447</td><td>&quot;Phased zero to…</td><td>&quot;Edwardsmouth&quot;</td><td>&quot;Isle of Man&quot;</td><td>&quot;2/11/2016 23:4…</td><td>0</td><td>&quot;A&quot;</td><td>20</td><td>11.0</td><td>13.0</td><td>1</td></tr><tr><td>43.7</td><td>28</td><td>0.608478</td><td>-0.16152</td><td>&quot;Front-line bif…</td><td>&quot;Nicholasland&quot;</td><td>&quot;Mayotte&quot;</td><td>&quot;4/4/2016 3:57&quot;</td><td>1</td><td>&quot;A&quot;</td><td>20</td><td>8.0</td><td>12.0</td><td>0</td></tr><tr><td>72.97</td><td>30</td><td>1.225277</td><td>0.653143</td><td>&quot;Fundamental mo…</td><td>&quot;Duffystad&quot;</td><td>&quot;Lebanon&quot;</td><td>&quot;2/11/2016 21:4…</td><td>1</td><td>&quot;A&quot;</td><td>30</td><td>10.0</td><td>14.0</td><td>1</td></tr><tr><td>51.3</td><td>45</td><td>0.956197</td><td>-1.045351</td><td>&quot;Grass-roots co…</td><td>&quot;New Darlene&quot;</td><td>&quot;Bosnia and Her…</td><td>&quot;4/22/2016 2:07…</td><td>1</td><td>&quot;B&quot;</td><td>40</td><td>6.0</td><td>13.0</td><td>1</td></tr><tr><td>51.63</td><td>51</td><td>-0.938541</td><td>-1.36714</td><td>&quot;Expanded intan…</td><td>&quot;South Jessica&quot;</td><td>&quot;Mongolia&quot;</td><td>&quot;2/1/2016 17:24…</td><td>1</td><td>&quot;C&quot;</td><td>50</td><td>6.0</td><td>8.0</td><td>1</td></tr><tr><td>55.55</td><td>19</td><td>-0.975509</td><td>0.180652</td><td>&quot;Proactive band…</td><td>&quot;West Steven&quot;</td><td>&quot;Guatemala&quot;</td><td>&quot;3/24/2016 2:35…</td><td>0</td><td>&quot;A&quot;</td><td>10</td><td>9.0</td><td>8.0</td><td>0</td></tr><tr><td>45.01</td><td>26</td><td>-1.875205</td><td>-0.039218</td><td>&quot;Virtual 5thgen…</td><td>&quot;Ronniemouth&quot;</td><td>&quot;Brazil&quot;</td><td>&quot;6/3/2016 21:43…</td><td>1</td><td>&quot;B&quot;</td><td>20</td><td>8.0</td><td>5.0</td><td>0</td></tr></tbody></table></div>"
      ],
      "text/plain": [
       "shape: (1_000, 14)\n",
       "┌────────────┬─────┬───────────┬────────────┬───┬──────────┬────────────┬────────────┬─────────────┐\n",
       "│ Daily Time ┆ Age ┆ Area      ┆ Daily      ┆ … ┆ Age Band ┆ Daily      ┆ Area       ┆ Test_Binary │\n",
       "│ Spent on   ┆ --- ┆ Income    ┆ Internet   ┆   ┆ ---      ┆ Internet   ┆ Income     ┆ ---         │\n",
       "│ Site       ┆ i64 ┆ ---       ┆ Usage      ┆   ┆ i64      ┆ Usage Band ┆ Band       ┆ u8          │\n",
       "│ ---        ┆     ┆ f64       ┆ ---        ┆   ┆          ┆ ---        ┆ ---        ┆             │\n",
       "│ f64        ┆     ┆           ┆ f64        ┆   ┆          ┆ f64        ┆ f64        ┆             │\n",
       "╞════════════╪═════╪═══════════╪════════════╪═══╪══════════╪════════════╪════════════╪═════════════╡\n",
       "│ 68.95      ┆ 35  ┆ 0.511893  ┆ 1.74127    ┆ … ┆ 30       ┆ 12.0       ┆ 12.0       ┆ 0           │\n",
       "│ 80.23      ┆ 31  ┆ 1.005471  ┆ 0.313948   ┆ … ┆ 30       ┆ 9.0        ┆ 13.0       ┆ 1           │\n",
       "│ 69.47      ┆ 26  ┆ 0.358921  ┆ 1.292598   ┆ … ┆ 20       ┆ 11.0       ┆ 11.0       ┆ 0           │\n",
       "│ 74.15      ┆ 29  ┆ -0.01304  ┆ 1.507658   ┆ … ┆ 20       ┆ 12.0       ┆ 10.0       ┆ 1           │\n",
       "│ …          ┆ …   ┆ …         ┆ …          ┆ … ┆ …        ┆ …          ┆ …          ┆ …           │\n",
       "│ 51.3       ┆ 45  ┆ 0.956197  ┆ -1.045351  ┆ … ┆ 40       ┆ 6.0        ┆ 13.0       ┆ 1           │\n",
       "│ 51.63      ┆ 51  ┆ -0.938541 ┆ -1.36714   ┆ … ┆ 50       ┆ 6.0        ┆ 8.0        ┆ 1           │\n",
       "│ 55.55      ┆ 19  ┆ -0.975509 ┆ 0.180652   ┆ … ┆ 10       ┆ 9.0        ┆ 8.0        ┆ 0           │\n",
       "│ 45.01      ┆ 26  ┆ -1.875205 ┆ -0.039218  ┆ … ┆ 20       ┆ 8.0        ┆ 5.0        ┆ 0           │\n",
       "└────────────┴─────┴───────────┴────────────┴───┴──────────┴────────────┴────────────┴─────────────┘"
      ]
     },
     "execution_count": 23,
     "metadata": {},
     "output_type": "execute_result"
    }
   ],
   "source": [
    "df, mapping = scale(df, [\"Area Income\", \"Daily Internet Usage\"], ScalingStrategy.NORMALIZE)\n",
    "df "
   ]
  },
  {
   "cell_type": "code",
   "execution_count": 24,
   "metadata": {},
   "outputs": [
    {
     "name": "stdout",
     "output_type": "stream",
     "text": [
      "{\"features\":[\"Area Income\",\"Daily Internet Usage\"],\"strategy\":\"NORMALIZE\",\"values\":[{\"mean\":54980.75610271904,\"std\":13387.843935572519},{\"mean\":180.06232999999997,\"std\":43.662201276291505}]}\n"
     ]
    }
   ],
   "source": [
    "print(mapping)"
   ]
  },
  {
   "cell_type": "code",
   "execution_count": 25,
   "metadata": {},
   "outputs": [
    {
     "data": {
      "text/html": [
       "<div><style>\n",
       ".dataframe > thead > tr > th,\n",
       ".dataframe > tbody > tr > td {\n",
       "  text-align: right;\n",
       "}\n",
       "</style>\n",
       "<small>shape: (2, 3)</small><table border=\"1\" class=\"dataframe\"><thead><tr><th>feature</th><th>scaling_strategy</th><th>scaling_meta_data</th></tr><tr><td>str</td><td>object</td><td>str</td></tr></thead><tbody><tr><td>&quot;Area Income&quot;</td><td>ScalingStrategy.NORMALIZE</td><td>&quot;{&quot;mean&quot;:54980.…</td></tr><tr><td>&quot;Daily Internet…</td><td>ScalingStrategy.NORMALIZE</td><td>&quot;{&quot;mean&quot;:180.06…</td></tr></tbody></table></div>"
      ],
      "text/plain": [
       "shape: (2, 3)\n",
       "┌──────────────────────┬───────────────────────────┬───────────────────────────────────┐\n",
       "│ feature              ┆ scaling_strategy          ┆ scaling_meta_data                 │\n",
       "│ ---                  ┆ ---                       ┆ ---                               │\n",
       "│ str                  ┆ object                    ┆ str                               │\n",
       "╞══════════════════════╪═══════════════════════════╪═══════════════════════════════════╡\n",
       "│ Area Income          ┆ ScalingStrategy.NORMALIZE ┆ {\"mean\":54980.75610271904,\"std\":… │\n",
       "│ Daily Internet Usage ┆ ScalingStrategy.NORMALIZE ┆ {\"mean\":180.06232999999997,\"std\"… │\n",
       "└──────────────────────┴───────────────────────────┴───────────────────────────────────┘"
      ]
     },
     "execution_count": 25,
     "metadata": {},
     "output_type": "execute_result"
    }
   ],
   "source": [
    "mapping.materialize()"
   ]
  },
  {
   "cell_type": "code",
   "execution_count": 26,
   "metadata": {},
   "outputs": [],
   "source": [
    "# Some of these are numerical columns, but we can still treat them as \"discrete\" columns\n",
    "# and feed them into the information gain algorithm.\n",
    "discrete = [\"Age Band\", \"Country\", \"Area Income Band\", \"Daily Internet Usage Band\", \"Test_Binary\", \"One_Hot_Test\"]\n",
    "target = \"Clicked on Ad\""
   ]
  },
  {
   "cell_type": "code",
   "execution_count": 27,
   "metadata": {},
   "outputs": [
    {
     "name": "stderr",
     "output_type": "stream",
     "text": [
      "100%|██████████| 6/6 [00:00<00:00, 59.99it/s]\n"
     ]
    },
    {
     "data": {
      "text/html": [
       "<div><style>\n",
       ".dataframe > thead > tr > th,\n",
       ".dataframe > tbody > tr > td {\n",
       "  text-align: right;\n",
       "}\n",
       "</style>\n",
       "<small>shape: (6, 6)</small><table border=\"1\" class=\"dataframe\"><thead><tr><th>feature</th><th>target_entropy</th><th>conditional_entropy</th><th>unique_pct</th><th>information_gain</th><th>weighted_information_gain</th></tr><tr><td>str</td><td>f64</td><td>f64</td><td>f64</td><td>f64</td><td>f64</td></tr></thead><tbody><tr><td>&quot;Daily Internet…</td><td>0.693147</td><td>0.272341</td><td>0.009</td><td>0.420806</td><td>0.417019</td></tr><tr><td>&quot;Area Income Ba…</td><td>0.693147</td><td>0.553505</td><td>0.014</td><td>0.139642</td><td>0.137687</td></tr><tr><td>&quot;Country&quot;</td><td>0.693147</td><td>0.558555</td><td>0.237</td><td>0.134592</td><td>0.102694</td></tr><tr><td>&quot;Age Band&quot;</td><td>0.693147</td><td>0.569156</td><td>0.006</td><td>0.123991</td><td>0.123247</td></tr><tr><td>&quot;One_Hot_Test&quot;</td><td>0.693147</td><td>0.692173</td><td>0.003</td><td>0.000975</td><td>0.000972</td></tr><tr><td>&quot;Test_Binary&quot;</td><td>0.693147</td><td>0.692424</td><td>0.002</td><td>0.000723</td><td>0.000722</td></tr></tbody></table></div>"
      ],
      "text/plain": [
       "shape: (6, 6)\n",
       "┌─────────────────┬────────────────┬────────────────┬────────────┬────────────────┬────────────────┐\n",
       "│ feature         ┆ target_entropy ┆ conditional_en ┆ unique_pct ┆ information_ga ┆ weighted_infor │\n",
       "│ ---             ┆ ---            ┆ tropy          ┆ ---        ┆ in             ┆ mation_gain    │\n",
       "│ str             ┆ f64            ┆ ---            ┆ f64        ┆ ---            ┆ ---            │\n",
       "│                 ┆                ┆ f64            ┆            ┆ f64            ┆ f64            │\n",
       "╞═════════════════╪════════════════╪════════════════╪════════════╪════════════════╪════════════════╡\n",
       "│ Daily Internet  ┆ 0.693147       ┆ 0.272341       ┆ 0.009      ┆ 0.420806       ┆ 0.417019       │\n",
       "│ Usage Band      ┆                ┆                ┆            ┆                ┆                │\n",
       "│ Area Income     ┆ 0.693147       ┆ 0.553505       ┆ 0.014      ┆ 0.139642       ┆ 0.137687       │\n",
       "│ Band            ┆                ┆                ┆            ┆                ┆                │\n",
       "│ Country         ┆ 0.693147       ┆ 0.558555       ┆ 0.237      ┆ 0.134592       ┆ 0.102694       │\n",
       "│ Age Band        ┆ 0.693147       ┆ 0.569156       ┆ 0.006      ┆ 0.123991       ┆ 0.123247       │\n",
       "│ One_Hot_Test    ┆ 0.693147       ┆ 0.692173       ┆ 0.003      ┆ 0.000975       ┆ 0.000972       │\n",
       "│ Test_Binary     ┆ 0.693147       ┆ 0.692424       ┆ 0.002      ┆ 0.000723       ┆ 0.000722       │\n",
       "└─────────────────┴────────────────┴────────────────┴────────────┴────────────────┴────────────────┘"
      ]
     },
     "execution_count": 27,
     "metadata": {},
     "output_type": "execute_result"
    }
   ],
   "source": [
    "naive_sample_ig(df, target, discrete_cols=discrete)"
   ]
  },
  {
   "cell_type": "code",
   "execution_count": 28,
   "metadata": {},
   "outputs": [
    {
     "name": "stderr",
     "output_type": "stream",
     "text": [
      "100%|██████████| 5/5 [00:00<00:00, 44.43it/s]\n"
     ]
    },
    {
     "data": {
      "text/html": [
       "<div><style>\n",
       ".dataframe > thead > tr > th,\n",
       ".dataframe > tbody > tr > td {\n",
       "  text-align: right;\n",
       "}\n",
       "</style>\n",
       "<small>shape: (5, 6)</small><table border=\"1\" class=\"dataframe\"><thead><tr><th>feature</th><th>target_entropy</th><th>conditional_entropy</th><th>unique_pct</th><th>information_gain</th><th>weighted_information_gain</th></tr><tr><td>str</td><td>f64</td><td>f64</td><td>f64</td><td>f64</td><td>f64</td></tr></thead><tbody><tr><td>&quot;Ad Topic Line&quot;</td><td>0.693147</td><td>0.0</td><td>1.0</td><td>0.693147</td><td>0.0</td></tr><tr><td>&quot;Timestamp&quot;</td><td>0.693147</td><td>0.001386</td><td>0.997</td><td>0.691761</td><td>0.002075</td></tr><tr><td>&quot;City&quot;</td><td>0.693147</td><td>0.017682</td><td>0.969</td><td>0.675465</td><td>0.020939</td></tr><tr><td>&quot;Country&quot;</td><td>0.693147</td><td>0.558555</td><td>0.237</td><td>0.134592</td><td>0.102694</td></tr><tr><td>&quot;One_Hot_Test&quot;</td><td>0.693147</td><td>0.692173</td><td>0.003</td><td>0.000975</td><td>0.000972</td></tr></tbody></table></div>"
      ],
      "text/plain": [
       "shape: (5, 6)\n",
       "┌───────────────┬────────────────┬─────────────────┬────────────┬─────────────────┬────────────────┐\n",
       "│ feature       ┆ target_entropy ┆ conditional_ent ┆ unique_pct ┆ information_gai ┆ weighted_infor │\n",
       "│ ---           ┆ ---            ┆ ropy            ┆ ---        ┆ n               ┆ mation_gain    │\n",
       "│ str           ┆ f64            ┆ ---             ┆ f64        ┆ ---             ┆ ---            │\n",
       "│               ┆                ┆ f64             ┆            ┆ f64             ┆ f64            │\n",
       "╞═══════════════╪════════════════╪═════════════════╪════════════╪═════════════════╪════════════════╡\n",
       "│ Ad Topic Line ┆ 0.693147       ┆ 0.0             ┆ 1.0        ┆ 0.693147        ┆ 0.0            │\n",
       "│ Timestamp     ┆ 0.693147       ┆ 0.001386        ┆ 0.997      ┆ 0.691761        ┆ 0.002075       │\n",
       "│ City          ┆ 0.693147       ┆ 0.017682        ┆ 0.969      ┆ 0.675465        ┆ 0.020939       │\n",
       "│ Country       ┆ 0.693147       ┆ 0.558555        ┆ 0.237      ┆ 0.134592        ┆ 0.102694       │\n",
       "│ One_Hot_Test  ┆ 0.693147       ┆ 0.692173        ┆ 0.003      ┆ 0.000975        ┆ 0.000972       │\n",
       "└───────────────┴────────────────┴─────────────────┴────────────┴─────────────────┴────────────────┘"
      ]
     },
     "execution_count": 28,
     "metadata": {},
     "output_type": "execute_result"
    }
   ],
   "source": [
    "# If nothing is given, automatically infers string columns as discrete columns.\n",
    "naive_sample_ig(df, target)"
   ]
  },
  {
   "cell_type": "code",
   "execution_count": 29,
   "metadata": {},
   "outputs": [],
   "source": [
    "# df[\"Ad Topic Line\"].unique() # has 1000 uniques. \n",
    "# There is no randomness at all because we can say that there are two distinct subsets that perfects differentiates 0s from 1s"
   ]
  },
  {
   "cell_type": "code",
   "execution_count": 30,
   "metadata": {},
   "outputs": [
    {
     "data": {
      "text/html": [
       "<div><style>\n",
       ".dataframe > thead > tr > th,\n",
       ".dataframe > tbody > tr > td {\n",
       "  text-align: right;\n",
       "}\n",
       "</style>\n",
       "<small>shape: (8, 3)</small><table border=\"1\" class=\"dataframe\"><thead><tr><th>feature</th><th>f_value</th><th>p_value</th></tr><tr><td>str</td><td>f64</td><td>f64</td></tr></thead><tbody><tr><td>&quot;Daily Time Spe…</td><td>1268.525161</td><td>5.8774e-180</td></tr><tr><td>&quot;Age&quot;</td><td>319.643165</td><td>3.1298e-62</td></tr><tr><td>&quot;Area Income&quot;</td><td>288.179499</td><td>5.6266e-57</td></tr><tr><td>&quot;Daily Internet…</td><td>1567.672992</td><td>7.6499e-207</td></tr><tr><td>&quot;Age Band&quot;</td><td>269.875798</td><td>7.3704e-54</td></tr><tr><td>&quot;Daily Internet…</td><td>1528.282249</td><td>1.7330e-203</td></tr><tr><td>&quot;Area Income Ba…</td><td>285.144765</td><td>1.8363e-56</td></tr><tr><td>&quot;Test_Binary&quot;</td><td>1.445286</td><td>0.229571</td></tr></tbody></table></div>"
      ],
      "text/plain": [
       "shape: (8, 3)\n",
       "┌───────────────────────────┬─────────────┬─────────────┐\n",
       "│ feature                   ┆ f_value     ┆ p_value     │\n",
       "│ ---                       ┆ ---         ┆ ---         │\n",
       "│ str                       ┆ f64         ┆ f64         │\n",
       "╞═══════════════════════════╪═════════════╪═════════════╡\n",
       "│ Daily Time Spent on Site  ┆ 1268.525161 ┆ 5.8774e-180 │\n",
       "│ Age                       ┆ 319.643165  ┆ 3.1298e-62  │\n",
       "│ Area Income               ┆ 288.179499  ┆ 5.6266e-57  │\n",
       "│ Daily Internet Usage      ┆ 1567.672992 ┆ 7.6499e-207 │\n",
       "│ Age Band                  ┆ 269.875798  ┆ 7.3704e-54  │\n",
       "│ Daily Internet Usage Band ┆ 1528.282249 ┆ 1.7330e-203 │\n",
       "│ Area Income Band          ┆ 285.144765  ┆ 1.8363e-56  │\n",
       "│ Test_Binary               ┆ 1.445286    ┆ 0.229571    │\n",
       "└───────────────────────────┴─────────────┴─────────────┘"
      ]
     },
     "execution_count": 30,
     "metadata": {},
     "output_type": "execute_result"
    }
   ],
   "source": [
    "f_classification(df, target=target)"
   ]
  },
  {
   "cell_type": "code",
   "execution_count": 31,
   "metadata": {},
   "outputs": [
    {
     "data": {
      "text/plain": [
       "['Daily Time Spent on Site',\n",
       " 'Age',\n",
       " 'Area Income',\n",
       " 'Daily Internet Usage',\n",
       " 'Age Band',\n",
       " 'Daily Internet Usage Band',\n",
       " 'Area Income Band',\n",
       " 'Test_Binary']"
      ]
     },
     "execution_count": 31,
     "metadata": {},
     "output_type": "execute_result"
    }
   ],
   "source": [
    "nums = get_numeric_cols(df, exclude=[target])\n",
    "nums  "
   ]
  },
  {
   "cell_type": "code",
   "execution_count": 32,
   "metadata": {},
   "outputs": [
    {
     "data": {
      "text/html": [
       "<div><style>\n",
       ".dataframe > thead > tr > th,\n",
       ".dataframe > tbody > tr > td {\n",
       "  text-align: right;\n",
       "}\n",
       "</style>\n",
       "<small>shape: (8, 3)</small><table border=\"1\" class=\"dataframe\"><thead><tr><th>feature</th><th>f_value</th><th>p_value</th></tr><tr><td>str</td><td>f64</td><td>f64</td></tr></thead><tbody><tr><td>&quot;Daily Time Spe…</td><td>1268.525161</td><td>5.8774e-180</td></tr><tr><td>&quot;Age&quot;</td><td>319.643165</td><td>3.1298e-62</td></tr><tr><td>&quot;Area Income&quot;</td><td>288.179499</td><td>5.6266e-57</td></tr><tr><td>&quot;Daily Internet…</td><td>1567.672992</td><td>7.6499e-207</td></tr><tr><td>&quot;Age Band&quot;</td><td>269.875798</td><td>7.3704e-54</td></tr><tr><td>&quot;Daily Internet…</td><td>1528.282249</td><td>1.7330e-203</td></tr><tr><td>&quot;Area Income Ba…</td><td>285.144765</td><td>1.8363e-56</td></tr><tr><td>&quot;Test_Binary&quot;</td><td>1.445286</td><td>0.229571</td></tr></tbody></table></div>"
      ],
      "text/plain": [
       "shape: (8, 3)\n",
       "┌───────────────────────────┬─────────────┬─────────────┐\n",
       "│ feature                   ┆ f_value     ┆ p_value     │\n",
       "│ ---                       ┆ ---         ┆ ---         │\n",
       "│ str                       ┆ f64         ┆ f64         │\n",
       "╞═══════════════════════════╪═════════════╪═════════════╡\n",
       "│ Daily Time Spent on Site  ┆ 1268.525161 ┆ 5.8774e-180 │\n",
       "│ Age                       ┆ 319.643165  ┆ 3.1298e-62  │\n",
       "│ Area Income               ┆ 288.179499  ┆ 5.6266e-57  │\n",
       "│ Daily Internet Usage      ┆ 1567.672992 ┆ 7.6499e-207 │\n",
       "│ Age Band                  ┆ 269.875798  ┆ 7.3704e-54  │\n",
       "│ Daily Internet Usage Band ┆ 1528.282249 ┆ 1.7330e-203 │\n",
       "│ Area Income Band          ┆ 285.144765  ┆ 1.8363e-56  │\n",
       "│ Test_Binary               ┆ 1.445286    ┆ 0.229571    │\n",
       "└───────────────────────────┴─────────────┴─────────────┘"
      ]
     },
     "execution_count": 32,
     "metadata": {},
     "output_type": "execute_result"
    }
   ],
   "source": [
    "from sklearn.feature_selection import f_classif\n",
    " \n",
    "f, pv = f_classif(df.select(nums), df[target])\n",
    "pl.from_records([nums, f, pv], schema=[\"feature\", \"f_value\", \"p_value\"])"
   ]
  },
  {
   "cell_type": "code",
   "execution_count": 33,
   "metadata": {},
   "outputs": [
    {
     "data": {
      "text/html": [
       "<div><style>\n",
       ".dataframe > thead > tr > th,\n",
       ".dataframe > tbody > tr > td {\n",
       "  text-align: right;\n",
       "}\n",
       "</style>\n",
       "<small>shape: (8, 3)</small><table border=\"1\" class=\"dataframe\"><thead><tr><th>feature</th><th>f_value</th><th>p_value</th></tr><tr><td>str</td><td>f64</td><td>f64</td></tr></thead><tbody><tr><td>&quot;Daily Time Spe…</td><td>1268.525161</td><td>5.8774e-180</td></tr><tr><td>&quot;Age&quot;</td><td>319.643165</td><td>3.1298e-62</td></tr><tr><td>&quot;Area Income&quot;</td><td>288.179499</td><td>5.6266e-57</td></tr><tr><td>&quot;Daily Internet…</td><td>1567.672992</td><td>7.6499e-207</td></tr><tr><td>&quot;Age Band&quot;</td><td>269.875798</td><td>7.3704e-54</td></tr><tr><td>&quot;Daily Internet…</td><td>1528.282249</td><td>1.7330e-203</td></tr><tr><td>&quot;Area Income Ba…</td><td>285.144765</td><td>1.8363e-56</td></tr><tr><td>&quot;Test_Binary&quot;</td><td>1.445286</td><td>0.229571</td></tr></tbody></table></div>"
      ],
      "text/plain": [
       "shape: (8, 3)\n",
       "┌───────────────────────────┬─────────────┬─────────────┐\n",
       "│ feature                   ┆ f_value     ┆ p_value     │\n",
       "│ ---                       ┆ ---         ┆ ---         │\n",
       "│ str                       ┆ f64         ┆ f64         │\n",
       "╞═══════════════════════════╪═════════════╪═════════════╡\n",
       "│ Daily Time Spent on Site  ┆ 1268.525161 ┆ 5.8774e-180 │\n",
       "│ Age                       ┆ 319.643165  ┆ 3.1298e-62  │\n",
       "│ Area Income               ┆ 288.179499  ┆ 5.6266e-57  │\n",
       "│ Daily Internet Usage      ┆ 1567.672992 ┆ 7.6499e-207 │\n",
       "│ Age Band                  ┆ 269.875798  ┆ 7.3704e-54  │\n",
       "│ Daily Internet Usage Band ┆ 1528.282249 ┆ 1.7330e-203 │\n",
       "│ Area Income Band          ┆ 285.144765  ┆ 1.8363e-56  │\n",
       "│ Test_Binary               ┆ 1.445286    ┆ 0.229571    │\n",
       "└───────────────────────────┴─────────────┴─────────────┘"
      ]
     },
     "execution_count": 33,
     "metadata": {},
     "output_type": "execute_result"
    }
   ],
   "source": [
    "from sklearn.feature_selection import f_regression\n",
    "\n",
    "result = f_regression(df[nums].to_numpy(), df[target].to_numpy())\n",
    "pl.from_records([nums, result[0], result[1]], schema=[\"feature\", \"f_value\", \"p_value\"])"
   ]
  },
  {
   "cell_type": "code",
   "execution_count": 34,
   "metadata": {},
   "outputs": [
    {
     "data": {
      "text/plain": [
       "(500000, 14)"
      ]
     },
     "execution_count": 34,
     "metadata": {},
     "output_type": "execute_result"
    }
   ],
   "source": [
    "df_test = pl.concat([df.clone()] * 500)\n",
    "df_test.shape"
   ]
  },
  {
   "cell_type": "code",
   "execution_count": 35,
   "metadata": {},
   "outputs": [
    {
     "name": "stdout",
     "output_type": "stream",
     "text": [
      "6.22 ms ± 67.5 µs per loop (mean ± std. dev. of 7 runs, 100 loops each)\n"
     ]
    }
   ],
   "source": [
    "%%timeit \n",
    "f_classification(df_test, target=\"Clicked on Ad\", num_cols=nums)"
   ]
  },
  {
   "cell_type": "code",
   "execution_count": 36,
   "metadata": {},
   "outputs": [
    {
     "name": "stdout",
     "output_type": "stream",
     "text": [
      "66.6 ms ± 669 µs per loop (mean ± std. dev. of 7 runs, 10 loops each)\n"
     ]
    }
   ],
   "source": [
    "%%timeit \n",
    "f, pv = f_classif(df_test[nums].to_numpy(), df_test[target].to_numpy())\n",
    "pl.from_records([nums, f, pv], schema=[\"feature\", \"f_value\", \"p_value\"])"
   ]
  },
  {
   "cell_type": "code",
   "execution_count": 37,
   "metadata": {},
   "outputs": [
    {
     "name": "stdout",
     "output_type": "stream",
     "text": [
      "21.4 ms ± 632 µs per loop (mean ± std. dev. of 7 runs, 10 loops each)\n"
     ]
    }
   ],
   "source": [
    "%%timeit\n",
    "result = f_regression(df_test[nums].to_numpy(), df_test[target].to_numpy())\n",
    "pl.from_records([nums, result[0], result[1]], schema=[\"feature\", \"f_value\", \"p_value\"])"
   ]
  },
  {
   "cell_type": "code",
   "execution_count": 38,
   "metadata": {},
   "outputs": [],
   "source": [
    "del df_test "
   ]
  },
  {
   "cell_type": "code",
   "execution_count": 39,
   "metadata": {},
   "outputs": [
    {
     "name": "stdout",
     "output_type": "stream",
     "text": [
      "Top 5 feature importance is (by MRMR_STRATEGY.F_SCORE):\n",
      "shape: (5, 2)\n",
      "┌───────────────────────────┬───────────────────────┐\n",
      "│ feature                   ┆ MRMR_STRATEGY.F_SCORE │\n",
      "│ ---                       ┆ ---                   │\n",
      "│ str                       ┆ f64                   │\n",
      "╞═══════════════════════════╪═══════════════════════╡\n",
      "│ Daily Internet Usage      ┆ 1567.672992           │\n",
      "│ Daily Internet Usage Band ┆ 1528.282249           │\n",
      "│ Daily Time Spent on Site  ┆ 1268.525161           │\n",
      "│ Age                       ┆ 319.643165            │\n",
      "│ Area Income               ┆ 288.179499            │\n",
      "└───────────────────────────┴───────────────────────┘\n",
      "Found 8 total features to select from. Proceeding to select top 5 features.\n"
     ]
    },
    {
     "name": "stderr",
     "output_type": "stream",
     "text": [
      "100%|██████████| 5/5 [00:00<00:00, 4999.17it/s]\n"
     ]
    },
    {
     "data": {
      "text/html": [
       "<div><style>\n",
       ".dataframe > thead > tr > th,\n",
       ".dataframe > tbody > tr > td {\n",
       "  text-align: right;\n",
       "}\n",
       "</style>\n",
       "<small>shape: (5, 2)</small><table border=\"1\" class=\"dataframe\"><thead><tr><th>mrmr_rank</th><th>feature</th></tr><tr><td>i64</td><td>str</td></tr></thead><tbody><tr><td>1</td><td>&quot;Daily Internet…</td></tr><tr><td>2</td><td>&quot;Daily Time Spe…</td></tr><tr><td>3</td><td>&quot;Daily Internet…</td></tr><tr><td>4</td><td>&quot;Age&quot;</td></tr><tr><td>5</td><td>&quot;Area Income&quot;</td></tr></tbody></table></div>"
      ],
      "text/plain": [
       "shape: (5, 2)\n",
       "┌───────────┬───────────────────────────┐\n",
       "│ mrmr_rank ┆ feature                   │\n",
       "│ ---       ┆ ---                       │\n",
       "│ i64       ┆ str                       │\n",
       "╞═══════════╪═══════════════════════════╡\n",
       "│ 1         ┆ Daily Internet Usage      │\n",
       "│ 2         ┆ Daily Time Spent on Site  │\n",
       "│ 3         ┆ Daily Internet Usage Band │\n",
       "│ 4         ┆ Age                       │\n",
       "│ 5         ┆ Area Income               │\n",
       "└───────────┴───────────────────────────┘"
      ]
     },
     "execution_count": 39,
     "metadata": {},
     "output_type": "execute_result"
    }
   ],
   "source": [
    "# MRMR Method \n",
    "mrmr(df, target, 5)"
   ]
  },
  {
   "cell_type": "code",
   "execution_count": 40,
   "metadata": {},
   "outputs": [],
   "source": [
    "df, mapping = percentile_encode(df, num_cols=nums, exclude=[target])"
   ]
  },
  {
   "cell_type": "code",
   "execution_count": 41,
   "metadata": {},
   "outputs": [
    {
     "data": {
      "text/html": [
       "<div><style>\n",
       ".dataframe > thead > tr > th,\n",
       ".dataframe > tbody > tr > td {\n",
       "  text-align: right;\n",
       "}\n",
       "</style>\n",
       "<small>shape: (5, 14)</small><table border=\"1\" class=\"dataframe\"><thead><tr><th>Daily Time Spent on Site</th><th>Age</th><th>Area Income</th><th>Daily Internet Usage</th><th>Ad Topic Line</th><th>City</th><th>Country</th><th>Timestamp</th><th>Clicked on Ad</th><th>One_Hot_Test</th><th>Age Band</th><th>Daily Internet Usage Band</th><th>Area Income Band</th><th>Test_Binary</th></tr><tr><td>u8</td><td>u8</td><td>u8</td><td>u8</td><td>str</td><td>str</td><td>str</td><td>str</td><td>i64</td><td>str</td><td>u8</td><td>u8</td><td>u8</td><td>u8</td></tr></thead><tbody><tr><td>52</td><td>53</td><td>65</td><td>99</td><td>&quot;Cloned 5thgene…</td><td>&quot;Wrightburgh&quot;</td><td>&quot;Tunisia&quot;</td><td>&quot;3/27/2016 0:53…</td><td>0</td><td>&quot;A&quot;</td><td>68</td><td>100</td><td>75</td><td>52</td></tr><tr><td>81</td><td>37</td><td>86</td><td>57</td><td>&quot;Monitored nati…</td><td>&quot;West Jodi&quot;</td><td>&quot;Nauru&quot;</td><td>&quot;4/4/2016 1:39&quot;</td><td>0</td><td>&quot;B&quot;</td><td>68</td><td>62</td><td>89</td><td>100</td></tr><tr><td>53</td><td>14</td><td>58</td><td>91</td><td>&quot;Organic bottom…</td><td>&quot;Davidton&quot;</td><td>&quot;San Marino&quot;</td><td>&quot;3/13/2016 20:3…</td><td>0</td><td>&quot;A&quot;</td><td>27</td><td>93</td><td>59</td><td>52</td></tr><tr><td>63</td><td>27</td><td>44</td><td>95</td><td>&quot;Triple-buffere…</td><td>&quot;West Terrifurt…</td><td>&quot;Italy&quot;</td><td>&quot;1/10/2016 2:31…</td><td>0</td><td>&quot;B&quot;</td><td>27</td><td>100</td><td>44</td><td>100</td></tr><tr><td>51</td><td>53</td><td>96</td><td>82</td><td>&quot;Robust logisti…</td><td>&quot;South Manuel&quot;</td><td>&quot;Iceland&quot;</td><td>&quot;6/3/2016 3:36&quot;</td><td>0</td><td>&quot;A&quot;</td><td>68</td><td>93</td><td>97</td><td>52</td></tr></tbody></table></div>"
      ],
      "text/plain": [
       "shape: (5, 14)\n",
       "┌────────────┬─────┬───────────┬────────────┬───┬──────────┬────────────┬────────────┬─────────────┐\n",
       "│ Daily Time ┆ Age ┆ Area      ┆ Daily      ┆ … ┆ Age Band ┆ Daily      ┆ Area       ┆ Test_Binary │\n",
       "│ Spent on   ┆ --- ┆ Income    ┆ Internet   ┆   ┆ ---      ┆ Internet   ┆ Income     ┆ ---         │\n",
       "│ Site       ┆ u8  ┆ ---       ┆ Usage      ┆   ┆ u8       ┆ Usage Band ┆ Band       ┆ u8          │\n",
       "│ ---        ┆     ┆ u8        ┆ ---        ┆   ┆          ┆ ---        ┆ ---        ┆             │\n",
       "│ u8         ┆     ┆           ┆ u8         ┆   ┆          ┆ u8         ┆ u8         ┆             │\n",
       "╞════════════╪═════╪═══════════╪════════════╪═══╪══════════╪════════════╪════════════╪═════════════╡\n",
       "│ 52         ┆ 53  ┆ 65        ┆ 99         ┆ … ┆ 68       ┆ 100        ┆ 75         ┆ 52          │\n",
       "│ 81         ┆ 37  ┆ 86        ┆ 57         ┆ … ┆ 68       ┆ 62         ┆ 89         ┆ 100         │\n",
       "│ 53         ┆ 14  ┆ 58        ┆ 91         ┆ … ┆ 27       ┆ 93         ┆ 59         ┆ 52          │\n",
       "│ 63         ┆ 27  ┆ 44        ┆ 95         ┆ … ┆ 27       ┆ 100        ┆ 44         ┆ 100         │\n",
       "│ 51         ┆ 53  ┆ 96        ┆ 82         ┆ … ┆ 68       ┆ 93         ┆ 97         ┆ 52          │\n",
       "└────────────┴─────┴───────────┴────────────┴───┴──────────┴────────────┴────────────┴─────────────┘"
      ]
     },
     "execution_count": 41,
     "metadata": {},
     "output_type": "execute_result"
    }
   ],
   "source": [
    "df.head() "
   ]
  },
  {
   "cell_type": "code",
   "execution_count": 42,
   "metadata": {},
   "outputs": [
    {
     "data": {
      "text/html": [
       "<div><style>\n",
       ".dataframe > thead > tr > th,\n",
       ".dataframe > tbody > tr > td {\n",
       "  text-align: right;\n",
       "}\n",
       "</style>\n",
       "<small>shape: (8, 3)</small><table border=\"1\" class=\"dataframe\"><thead><tr><th>feature</th><th>encoding_strategy</th><th>maps</th></tr><tr><td>str</td><td>object</td><td>str</td></tr></thead><tbody><tr><td>&quot;Daily Time Spe…</td><td>EncodingStrategy.PERCENTILE</td><td>&quot;{&quot;34.3&quot;:1,&quot;35.…</td></tr><tr><td>&quot;Age&quot;</td><td>EncodingStrategy.PERCENTILE</td><td>&quot;{&quot;19&quot;:1,&quot;21&quot;:2…</td></tr><tr><td>&quot;Area Income&quot;</td><td>EncodingStrategy.PERCENTILE</td><td>&quot;{&quot;-2.613492976…</td></tr><tr><td>&quot;Daily Internet…</td><td>EncodingStrategy.PERCENTILE</td><td>&quot;{&quot;-1.697631540…</td></tr><tr><td>&quot;Age Band&quot;</td><td>EncodingStrategy.PERCENTILE</td><td>&quot;{&quot;10&quot;:1,&quot;20&quot;:2…</td></tr><tr><td>&quot;Daily Internet…</td><td>EncodingStrategy.PERCENTILE</td><td>&quot;{&quot;5.0&quot;:10,&quot;6.0…</td></tr><tr><td>&quot;Area Income Ba…</td><td>EncodingStrategy.PERCENTILE</td><td>&quot;{&quot;3.0&quot;:1,&quot;4.0&quot;…</td></tr><tr><td>&quot;Test_Binary&quot;</td><td>EncodingStrategy.PERCENTILE</td><td>&quot;{&quot;0&quot;:52,&quot;1&quot;:10…</td></tr></tbody></table></div>"
      ],
      "text/plain": [
       "shape: (8, 3)\n",
       "┌───────────────────────────┬─────────────────────────────┬───────────────────────────────────┐\n",
       "│ feature                   ┆ encoding_strategy           ┆ maps                              │\n",
       "│ ---                       ┆ ---                         ┆ ---                               │\n",
       "│ str                       ┆ object                      ┆ str                               │\n",
       "╞═══════════════════════════╪═════════════════════════════╪═══════════════════════════════════╡\n",
       "│ Daily Time Spent on Site  ┆ EncodingStrategy.PERCENTILE ┆ {\"34.3\":1,\"35.33\":2,\"35.79\":3,\"3… │\n",
       "│ Age                       ┆ EncodingStrategy.PERCENTILE ┆ {\"19\":1,\"21\":2,\"22\":4,\"23\":5,\"24… │\n",
       "│ Area Income               ┆ EncodingStrategy.PERCENTILE ┆ {\"-2.6134929769946385\":1,\"-2.318… │\n",
       "│ Daily Internet Usage      ┆ EncodingStrategy.PERCENTILE ┆ {\"-1.6976315401726725\":1,\"-1.646… │\n",
       "│ Age Band                  ┆ EncodingStrategy.PERCENTILE ┆ {\"10\":1,\"20\":27,\"30\":68,\"40\":91,… │\n",
       "│ Daily Internet Usage Band ┆ EncodingStrategy.PERCENTILE ┆ {\"5.0\":10,\"6.0\":26,\"7.0\":37,\"8.0… │\n",
       "│ Area Income Band          ┆ EncodingStrategy.PERCENTILE ┆ {\"3.0\":1,\"4.0\":3,\"5.0\":6,\"6.0\":1… │\n",
       "│ Test_Binary               ┆ EncodingStrategy.PERCENTILE ┆ {\"0\":52,\"1\":100}                  │\n",
       "└───────────────────────────┴─────────────────────────────┴───────────────────────────────────┘"
      ]
     },
     "execution_count": 42,
     "metadata": {},
     "output_type": "execute_result"
    }
   ],
   "source": [
    "# Percentile mapping's table represents the following:\n",
    "# E.g. Take age. If age <= 19, it will be mapped to 1, and if\n",
    "# age is between 19 and <=21, it will be mapped to 2, ...\n",
    "mapping.materialize()"
   ]
  },
  {
   "cell_type": "code",
   "execution_count": 43,
   "metadata": {},
   "outputs": [],
   "source": [
    "df, mapping = one_hot_encode(df, one_hot_columns=[\"One_Hot_Test\"])"
   ]
  },
  {
   "cell_type": "code",
   "execution_count": 44,
   "metadata": {},
   "outputs": [
    {
     "data": {
      "text/html": [
       "<div><style>\n",
       ".dataframe > thead > tr > th,\n",
       ".dataframe > tbody > tr > td {\n",
       "  text-align: right;\n",
       "}\n",
       "</style>\n",
       "<small>shape: (5, 16)</small><table border=\"1\" class=\"dataframe\"><thead><tr><th>Daily Time Spent on Site</th><th>Age</th><th>Area Income</th><th>Daily Internet Usage</th><th>Ad Topic Line</th><th>City</th><th>Country</th><th>Timestamp</th><th>Clicked on Ad</th><th>One_Hot_Test_A</th><th>One_Hot_Test_B</th><th>One_Hot_Test_C</th><th>Age Band</th><th>Daily Internet Usage Band</th><th>Area Income Band</th><th>Test_Binary</th></tr><tr><td>u8</td><td>u8</td><td>u8</td><td>u8</td><td>str</td><td>str</td><td>str</td><td>str</td><td>i64</td><td>u8</td><td>u8</td><td>u8</td><td>u8</td><td>u8</td><td>u8</td><td>u8</td></tr></thead><tbody><tr><td>52</td><td>53</td><td>65</td><td>99</td><td>&quot;Cloned 5thgene…</td><td>&quot;Wrightburgh&quot;</td><td>&quot;Tunisia&quot;</td><td>&quot;3/27/2016 0:53…</td><td>0</td><td>1</td><td>0</td><td>0</td><td>68</td><td>100</td><td>75</td><td>52</td></tr><tr><td>81</td><td>37</td><td>86</td><td>57</td><td>&quot;Monitored nati…</td><td>&quot;West Jodi&quot;</td><td>&quot;Nauru&quot;</td><td>&quot;4/4/2016 1:39&quot;</td><td>0</td><td>0</td><td>1</td><td>0</td><td>68</td><td>62</td><td>89</td><td>100</td></tr><tr><td>53</td><td>14</td><td>58</td><td>91</td><td>&quot;Organic bottom…</td><td>&quot;Davidton&quot;</td><td>&quot;San Marino&quot;</td><td>&quot;3/13/2016 20:3…</td><td>0</td><td>1</td><td>0</td><td>0</td><td>27</td><td>93</td><td>59</td><td>52</td></tr><tr><td>63</td><td>27</td><td>44</td><td>95</td><td>&quot;Triple-buffere…</td><td>&quot;West Terrifurt…</td><td>&quot;Italy&quot;</td><td>&quot;1/10/2016 2:31…</td><td>0</td><td>0</td><td>1</td><td>0</td><td>27</td><td>100</td><td>44</td><td>100</td></tr><tr><td>51</td><td>53</td><td>96</td><td>82</td><td>&quot;Robust logisti…</td><td>&quot;South Manuel&quot;</td><td>&quot;Iceland&quot;</td><td>&quot;6/3/2016 3:36&quot;</td><td>0</td><td>1</td><td>0</td><td>0</td><td>68</td><td>93</td><td>97</td><td>52</td></tr></tbody></table></div>"
      ],
      "text/plain": [
       "shape: (5, 16)\n",
       "┌────────────┬─────┬───────────┬────────────┬───┬──────────┬────────────┬────────────┬─────────────┐\n",
       "│ Daily Time ┆ Age ┆ Area      ┆ Daily      ┆ … ┆ Age Band ┆ Daily      ┆ Area       ┆ Test_Binary │\n",
       "│ Spent on   ┆ --- ┆ Income    ┆ Internet   ┆   ┆ ---      ┆ Internet   ┆ Income     ┆ ---         │\n",
       "│ Site       ┆ u8  ┆ ---       ┆ Usage      ┆   ┆ u8       ┆ Usage Band ┆ Band       ┆ u8          │\n",
       "│ ---        ┆     ┆ u8        ┆ ---        ┆   ┆          ┆ ---        ┆ ---        ┆             │\n",
       "│ u8         ┆     ┆           ┆ u8         ┆   ┆          ┆ u8         ┆ u8         ┆             │\n",
       "╞════════════╪═════╪═══════════╪════════════╪═══╪══════════╪════════════╪════════════╪═════════════╡\n",
       "│ 52         ┆ 53  ┆ 65        ┆ 99         ┆ … ┆ 68       ┆ 100        ┆ 75         ┆ 52          │\n",
       "│ 81         ┆ 37  ┆ 86        ┆ 57         ┆ … ┆ 68       ┆ 62         ┆ 89         ┆ 100         │\n",
       "│ 53         ┆ 14  ┆ 58        ┆ 91         ┆ … ┆ 27       ┆ 93         ┆ 59         ┆ 52          │\n",
       "│ 63         ┆ 27  ┆ 44        ┆ 95         ┆ … ┆ 27       ┆ 100        ┆ 44         ┆ 100         │\n",
       "│ 51         ┆ 53  ┆ 96        ┆ 82         ┆ … ┆ 68       ┆ 93         ┆ 97         ┆ 52          │\n",
       "└────────────┴─────┴───────────┴────────────┴───┴──────────┴────────────┴────────────┴─────────────┘"
      ]
     },
     "execution_count": 44,
     "metadata": {},
     "output_type": "execute_result"
    }
   ],
   "source": [
    "df.head()"
   ]
  },
  {
   "cell_type": "code",
   "execution_count": 45,
   "metadata": {},
   "outputs": [
    {
     "data": {
      "text/plain": [
       "'{\"A\":\"One_Hot_Test_A\",\"B\":\"One_Hot_Test_B\",\"C\":\"One_Hot_Test_C\"}'"
      ]
     },
     "execution_count": 45,
     "metadata": {},
     "output_type": "execute_result"
    }
   ],
   "source": [
    "mapping.materialize()[\"maps\"][0]"
   ]
  },
  {
   "cell_type": "code",
   "execution_count": 46,
   "metadata": {},
   "outputs": [],
   "source": [
    "df, mapping = ordinal_auto_encode(df, ordinal_cols=[\"City\", \"Country\"])"
   ]
  },
  {
   "cell_type": "code",
   "execution_count": 47,
   "metadata": {},
   "outputs": [
    {
     "data": {
      "text/html": [
       "<div><style>\n",
       ".dataframe > thead > tr > th,\n",
       ".dataframe > tbody > tr > td {\n",
       "  text-align: right;\n",
       "}\n",
       "</style>\n",
       "<small>shape: (5, 16)</small><table border=\"1\" class=\"dataframe\"><thead><tr><th>Daily Time Spent on Site</th><th>Age</th><th>Area Income</th><th>Daily Internet Usage</th><th>Ad Topic Line</th><th>City</th><th>Country</th><th>Timestamp</th><th>Clicked on Ad</th><th>One_Hot_Test_A</th><th>One_Hot_Test_B</th><th>One_Hot_Test_C</th><th>Age Band</th><th>Daily Internet Usage Band</th><th>Area Income Band</th><th>Test_Binary</th></tr><tr><td>u8</td><td>u8</td><td>u8</td><td>u8</td><td>str</td><td>u32</td><td>u32</td><td>str</td><td>i64</td><td>u8</td><td>u8</td><td>u8</td><td>u8</td><td>u8</td><td>u8</td><td>u8</td></tr></thead><tbody><tr><td>52</td><td>53</td><td>65</td><td>99</td><td>&quot;Cloned 5thgene…</td><td>961</td><td>215</td><td>&quot;3/27/2016 0:53…</td><td>0</td><td>1</td><td>0</td><td>0</td><td>68</td><td>100</td><td>75</td><td>52</td></tr><tr><td>81</td><td>37</td><td>86</td><td>57</td><td>&quot;Monitored nati…</td><td>903</td><td>147</td><td>&quot;4/4/2016 1:39&quot;</td><td>0</td><td>0</td><td>1</td><td>0</td><td>68</td><td>62</td><td>89</td><td>100</td></tr><tr><td>53</td><td>14</td><td>58</td><td>91</td><td>&quot;Organic bottom…</td><td>111</td><td>184</td><td>&quot;3/13/2016 20:3…</td><td>0</td><td>1</td><td>0</td><td>0</td><td>27</td><td>93</td><td>59</td><td>52</td></tr><tr><td>63</td><td>27</td><td>44</td><td>95</td><td>&quot;Triple-buffere…</td><td>939</td><td>103</td><td>&quot;1/10/2016 2:31…</td><td>0</td><td>0</td><td>1</td><td>0</td><td>27</td><td>100</td><td>44</td><td>100</td></tr><tr><td>51</td><td>53</td><td>96</td><td>82</td><td>&quot;Robust logisti…</td><td>805</td><td>96</td><td>&quot;6/3/2016 3:36&quot;</td><td>0</td><td>1</td><td>0</td><td>0</td><td>68</td><td>93</td><td>97</td><td>52</td></tr></tbody></table></div>"
      ],
      "text/plain": [
       "shape: (5, 16)\n",
       "┌────────────┬─────┬───────────┬────────────┬───┬──────────┬────────────┬────────────┬─────────────┐\n",
       "│ Daily Time ┆ Age ┆ Area      ┆ Daily      ┆ … ┆ Age Band ┆ Daily      ┆ Area       ┆ Test_Binary │\n",
       "│ Spent on   ┆ --- ┆ Income    ┆ Internet   ┆   ┆ ---      ┆ Internet   ┆ Income     ┆ ---         │\n",
       "│ Site       ┆ u8  ┆ ---       ┆ Usage      ┆   ┆ u8       ┆ Usage Band ┆ Band       ┆ u8          │\n",
       "│ ---        ┆     ┆ u8        ┆ ---        ┆   ┆          ┆ ---        ┆ ---        ┆             │\n",
       "│ u8         ┆     ┆           ┆ u8         ┆   ┆          ┆ u8         ┆ u8         ┆             │\n",
       "╞════════════╪═════╪═══════════╪════════════╪═══╪══════════╪════════════╪════════════╪═════════════╡\n",
       "│ 52         ┆ 53  ┆ 65        ┆ 99         ┆ … ┆ 68       ┆ 100        ┆ 75         ┆ 52          │\n",
       "│ 81         ┆ 37  ┆ 86        ┆ 57         ┆ … ┆ 68       ┆ 62         ┆ 89         ┆ 100         │\n",
       "│ 53         ┆ 14  ┆ 58        ┆ 91         ┆ … ┆ 27       ┆ 93         ┆ 59         ┆ 52          │\n",
       "│ 63         ┆ 27  ┆ 44        ┆ 95         ┆ … ┆ 27       ┆ 100        ┆ 44         ┆ 100         │\n",
       "│ 51         ┆ 53  ┆ 96        ┆ 82         ┆ … ┆ 68       ┆ 93         ┆ 97         ┆ 52          │\n",
       "└────────────┴─────┴───────────┴────────────┴───┴──────────┴────────────┴────────────┴─────────────┘"
      ]
     },
     "execution_count": 47,
     "metadata": {},
     "output_type": "execute_result"
    }
   ],
   "source": [
    "df.head()"
   ]
  },
  {
   "cell_type": "code",
   "execution_count": 48,
   "metadata": {},
   "outputs": [
    {
     "name": "stdout",
     "output_type": "stream",
     "text": [
      "{\"features\":[\"City\",\"Country\"],\"strategy\":\"ORDINAL_AUTO\",\"mappings\":[{\"Adamsbury\":0,\"Adamside\":1,\"Adamsstad\":2,\"Alanview\":3,\"Alexanderfurt\":4,\"Alexanderview\":5,\"Alexandrafort\":6,\"Alexisland\":7,\"Aliciatown\":8,\"Alvaradoport\":9,\"Alvarezland\":10,\"Amandafort\":11,\"Amandahaven\":12,\"Amandaland\":13,\"Amyfurt\":14,\"Amyhaven\":15,\"Andersonchester\":16,\"Andersonfurt\":17,\"Andersonton\":18,\"Andrewborough\":19,\"Andrewmouth\":20,\"Angelhaven\":21,\"Anthonyfurt\":22,\"Ashleychester\":23,\"Ashleymouth\":24,\"Austinborough\":25,\"Austinland\":26,\"Bakerhaven\":27,\"Barbershire\":28,\"Beckton\":29,\"Benjaminchester\":30,\"Bernardton\":31,\"Bethburgh\":32,\"Birdshire\":33,\"Blairborough\":34,\"Blairville\":35,\"Blevinstown\":36,\"Bowenview\":37,\"Boyerberg\":38,\"Bradleyborough\":39,\"Bradleyburgh\":40,\"Bradleyside\":41,\"Bradshawborough\":42,\"Bradyfurt\":43,\"Brandiland\":44,\"Brandonbury\":45,\"Brandonstad\":46,\"Brandymouth\":47,\"Brendaburgh\":48,\"Brendachester\":49,\"Brianabury\":50,\"Brianfurt\":51,\"Brianland\":52,\"Brittanyborough\":53,\"Brownbury\":54,\"Brownport\":55,\"Brownton\":56,\"Browntown\":57,\"Brownview\":58,\"Bruceburgh\":59,\"Burgessside\":60,\"Butlerfort\":61,\"Calebberg\":62,\"Cameronberg\":63,\"Campbellstad\":64,\"Cannonbury\":65,\"Carsonshire\":66,\"Carterburgh\":67,\"Carterland\":68,\"Carterport\":69,\"Carterton\":70,\"Cassandratown\":71,\"Catherinefort\":72,\"Cervantesshire\":73,\"Chapmanland\":74,\"Chapmanmouth\":75,\"Charlenetown\":76,\"Charlesbury\":77,\"Charlesport\":78,\"Charlottefort\":79,\"Chaseshire\":80,\"Chrismouth\":81,\"Christinehaven\":82,\"Christinetown\":83,\"Christopherchester\":84,\"Christopherport\":85,\"Christopherville\":86,\"Clarkborough\":87,\"Claytonside\":88,\"Clineshire\":89,\"Codyburgh\":90,\"Coffeytown\":91,\"Colebury\":92,\"Colemanshire\":93,\"Collinsburgh\":94,\"Combsstad\":95,\"Contrerasshire\":96,\"Costaburgh\":97,\"Courtneyfort\":98,\"Coxhaven\":99,\"Cranemouth\":100,\"Crawfordfurt\":101,\"Cunninghamhaven\":102,\"Curtisport\":103,\"Curtisview\":104,\"Cynthiaside\":105,\"Daisymouth\":106,\"Danielview\":107,\"Davidmouth\":108,\"Davidside\":109,\"Davidstad\":110,\"Davidton\":111,\"Davidview\":112,\"Daviesborough\":113,\"Davieshaven\":114,\"Davilachester\":115,\"Davisfurt\":116,\"Dayton\":117,\"Deannaville\":118,\"Debraburgh\":119,\"Derrickhaven\":120,\"Destinyfurt\":121,\"Dianashire\":122,\"Dianaville\":123,\"Donaldshire\":124,\"Douglasview\":125,\"Duffystad\":126,\"Dustinborough\":127,\"Dustinchester\":128,\"Dustinmouth\":129,\"East Aaron\":130,\"East Anthony\":131,\"East Barbara\":132,\"East Benjaminville\":133,\"East Breannafurt\":134,\"East Brettton\":135,\"East Brianberg\":136,\"East Brittanyville\":137,\"East Carlos\":138,\"East Christopher\":139,\"East Christopherbury\":140,\"East Connie\":141,\"East Dana\":142,\"East Deborahhaven\":143,\"East Debraborough\":144,\"East Donna\":145,\"East Donnatown\":146,\"East Eric\":147,\"East Ericport\":148,\"East Georgeside\":149,\"East Graceland\":150,\"East Heatherside\":151,\"East Heidi\":152,\"East Henry\":153,\"East Jason\":154,\"East Jennifer\":155,\"East Jessefort\":156,\"East John\":157,\"East Johnport\":158,\"East Kevinbury\":159,\"East Lindsey\":160,\"East Maureen\":161,\"East Michaelland\":162,\"East Michaelmouth\":163,\"East Michaeltown\":164,\"East Michele\":165,\"East Michelleberg\":166,\"East Mike\":167,\"East Paul\":168,\"East Rachaelfurt\":169,\"East Rachelview\":170,\"East Ronald\":171,\"East Samanthashire\":172,\"East Sharon\":173,\"East Shawn\":174,\"East Shawnchester\":175,\"East Sheriville\":176,\"East Stephen\":177,\"East Susanland\":178,\"East Tammie\":179,\"East Theresashire\":180,\"East Tiffanyport\":181,\"East Timothy\":182,\"East Timothyport\":183,\"East Toddfort\":184,\"East Troyhaven\":185,\"East Tylershire\":186,\"East Valerie\":187,\"East Vincentstad\":188,\"East Yvonnechester\":189,\"Edwardmouth\":190,\"Edwardsmouth\":191,\"Edwardsport\":192,\"Elizabethbury\":193,\"Elizabethmouth\":194,\"Elizabethport\":195,\"Elizabethstad\":196,\"Emilyfurt\":197,\"Ericksonmouth\":198,\"Erikville\":199,\"Erinmouth\":200,\"Erinton\":201,\"Estesfurt\":202,\"Estradafurt\":203,\"Estradashire\":204,\"Evansfurt\":205,\"Evansville\":206,\"Faithview\":207,\"Florestown\":208,\"Fosterside\":209,\"Frankbury\":210,\"Frankchester\":211,\"Frankport\":212,\"Fraziershire\":213,\"Garciamouth\":214,\"Garciaside\":215,\"Garciatown\":216,\"Garciaview\":217,\"Garnerberg\":218,\"Garrettborough\":219,\"Garychester\":220,\"Gilbertville\":221,\"Gomezport\":222,\"Gonzalezburgh\":223,\"Grahamberg\":224,\"Gravesport\":225,\"Greenechester\":226,\"Greentown\":227,\"Greerport\":228,\"Greerton\":229,\"Greghaven\":230,\"Guzmanland\":231,\"Haleberg\":232,\"Haleview\":233,\"Hallfort\":234,\"Hamiltonfort\":235,\"Hammondport\":236,\"Hannahside\":237,\"Hannaport\":238,\"Hansenland\":239,\"Hansenmouth\":240,\"Harmonhaven\":241,\"Harperborough\":242,\"Harrishaven\":243,\"Harrisonmouth\":244,\"Hartmanchester\":245,\"Hartport\":246,\"Harveyport\":247,\"Hatfieldshire\":248,\"Hawkinsbury\":249,\"Hayesmouth\":250,\"Heatherberg\":251,\"Helenborough\":252,\"Hendrixmouth\":253,\"Henryfort\":254,\"Henryland\":255,\"Hernandezchester\":256,\"Hernandezfort\":257,\"Hernandezside\":258,\"Hernandezville\":259,\"Hessstad\":260,\"Hintonport\":261,\"Hobbsbury\":262,\"Holderville\":263,\"Hollandberg\":264,\"Hollyfurt\":265,\"Hubbardmouth\":266,\"Huffmanchester\":267,\"Hughesport\":268,\"Hurleyborough\":269,\"Ianmouth\":270,\"Ingramberg\":271,\"Isaacborough\":272,\"Jacksonburgh\":273,\"Jacksonmouth\":274,\"Jacksonstad\":275,\"Jacobstad\":276,\"Jacquelineshire\":277,\"Jamesberg\":278,\"Jamesfurt\":279,\"Jamesmouth\":280,\"Jamesville\":281,\"Jamieberg\":282,\"Jamiefort\":283,\"Janiceview\":284,\"Jasminefort\":285,\"Jayville\":286,\"Jeffreyburgh\":287,\"Jeffreymouth\":288,\"Jeffreyshire\":289,\"Jenniferhaven\":290,\"Jenniferstad\":291,\"Jensenborough\":292,\"Jensenton\":293,\"Jeremybury\":294,\"Jeremyshire\":295,\"Jessicahaven\":296,\"Jessicashire\":297,\"Jessicastad\":298,\"Joanntown\":299,\"Joechester\":300,\"Johnport\":301,\"Johnsonfort\":302,\"Johnsontown\":303,\"Johnsonview\":304,\"Johnsport\":305,\"Johnstad\":306,\"Johnstonmouth\":307,\"Johnstonshire\":308,\"Jonathanland\":309,\"Jonathantown\":310,\"Jonesland\":311,\"Jonesmouth\":312,\"Jonesshire\":313,\"Joneston\":314,\"Jordanmouth\":315,\"Jordanshire\":316,\"Jordantown\":317,\"Josephberg\":318,\"Josephmouth\":319,\"Josephstad\":320,\"Joshuaburgh\":321,\"Joshuamouth\":322,\"Juanport\":323,\"Juliaport\":324,\"Julietown\":325,\"Karenmouth\":326,\"Karenton\":327,\"Katieport\":328,\"Kaylashire\":329,\"Keithtown\":330,\"Kellytown\":331,\"Kennedyfurt\":332,\"Kennethview\":333,\"Kentmouth\":334,\"Kevinberg\":335,\"Kevinchester\":336,\"Kimberlyhaven\":337,\"Kimberlymouth\":338,\"Kimberlytown\":339,\"Kingchester\":340,\"Kingshire\":341,\"Klineside\":342,\"Knappburgh\":343,\"Kristineberg\":344,\"Kristinfurt\":345,\"Kristintown\":346,\"Kyleborough\":347,\"Kylieview\":348,\"Lake Adrian\":349,\"Lake Allenville\":350,\"Lake Amanda\":351,\"Lake Amy\":352,\"Lake Angela\":353,\"Lake Annashire\":354,\"Lake Beckyburgh\":355,\"Lake Brandonview\":356,\"Lake Brian\":357,\"Lake Cassandraport\":358,\"Lake Charlottestad\":359,\"Lake Christopherfurt\":360,\"Lake Conniefurt\":361,\"Lake Courtney\":362,\"Lake Craigview\":363,\"Lake Cynthia\":364,\"Lake Danielle\":365,\"Lake David\":366,\"Lake Deannaborough\":367,\"Lake Deborahburgh\":368,\"Lake Dustin\":369,\"Lake Edward\":370,\"Lake Elizabethside\":371,\"Lake Evantown\":372,\"Lake Faith\":373,\"Lake Gerald\":374,\"Lake Hailey\":375,\"Lake Ian\":376,\"Lake Jacob\":377,\"Lake Jacqueline\":378,\"Lake James\":379,\"Lake Jasonchester\":380,\"Lake Jennifer\":381,\"Lake Jenniferton\":382,\"Lake Jessica\":383,\"Lake Jessicaville\":384,\"Lake Jesus\":385,\"Lake Jillville\":386,\"Lake John\":387,\"Lake Johnbury\":388,\"Lake Jonathanview\":389,\"Lake Jose\":390,\"Lake Joseph\":391,\"Lake Josetown\":392,\"Lake Joshuafurt\":393,\"Lake Kevin\":394,\"Lake Kurtmouth\":395,\"Lake Lisa\":396,\"Lake Matthew\":397,\"Lake Matthewland\":398,\"Lake Melindamouth\":399,\"Lake Michael\":400,\"Lake Michaelport\":401,\"Lake Michelle\":402,\"Lake Michellebury\":403,\"Lake Nicole\":404,\"Lake Patrick\":405,\"Lake Rhondaburgh\":406,\"Lake Stephenborough\":407,\"Lake Susan\":408,\"Lake Timothy\":409,\"Lake Tracy\":410,\"Lake Vanessa\":411,\"Lake Zacharyfurt\":412,\"Lauraburgh\":413,\"Laurieside\":414,\"Lawrenceborough\":415,\"Lawsonshire\":416,\"Leahside\":417,\"Leonchester\":418,\"Lesliebury\":419,\"Lesliefort\":420,\"Lewismouth\":421,\"Lindaside\":422,\"Lindsaymouth\":423,\"Lisaberg\":424,\"Lisafort\":425,\"Lisamouth\":426,\"Lopezberg\":427,\"Lopezmouth\":428,\"Loriville\":429,\"Lovemouth\":430,\"Luischester\":431,\"Luisfurt\":432,\"Lukeport\":433,\"Mackenziemouth\":434,\"Marcushaven\":435,\"Mariahview\":436,\"Mariebury\":437,\"Mariemouth\":438,\"Markhaven\":439,\"Masonhaven\":440,\"Masseyshire\":441,\"Mataberg\":442,\"Matthewtown\":443,\"Mauricefurt\":444,\"Mauriceshire\":445,\"Mcdonaldfort\":446,\"Mclaughlinbury\":447,\"Meaganfort\":448,\"Meghanchester\":449,\"Melanieton\":450,\"Melissachester\":451,\"Melissafurt\":452,\"Melissastad\":453,\"Meyerchester\":454,\"Meyersstad\":455,\"Mezaton\":456,\"Michaelland\":457,\"Michaelmouth\":458,\"Michaelshire\":459,\"Micheletown\":460,\"Michellefort\":461,\"Michelleside\":462,\"Millerbury\":463,\"Millerchester\":464,\"Millerfort\":465,\"Millerland\":466,\"Millerside\":467,\"Millertown\":468,\"Millerview\":469,\"Mollyport\":470,\"Monicaview\":471,\"Morganfort\":472,\"Morganport\":473,\"Morrismouth\":474,\"Mosleyburgh\":475,\"Mullenside\":476,\"Munozberg\":477,\"Murphymouth\":478,\"Nelsonfurt\":479,\"New Amanda\":480,\"New Angelview\":481,\"New Brandy\":482,\"New Brendafurt\":483,\"New Charleschester\":484,\"New Christinatown\":485,\"New Cynthia\":486,\"New Daniellefort\":487,\"New Darlene\":488,\"New Dawnland\":489,\"New Debbiestad\":490,\"New Denisebury\":491,\"New Frankshire\":492,\"New Gabriel\":493,\"New Henry\":494,\"New Hollyberg\":495,\"New James\":496,\"New Jamestown\":497,\"New Jasmine\":498,\"New Jay\":499,\"New Jeffreychester\":500,\"New Jessicaport\":501,\"New Johnberg\":502,\"New Joshuaport\":503,\"New Juan\":504,\"New Julianberg\":505,\"New Julie\":506,\"New Karenberg\":507,\"New Kayla\":508,\"New Keithburgh\":509,\"New Lindaberg\":510,\"New Lucasburgh\":511,\"New Marcusbury\":512,\"New Maria\":513,\"New Matthew\":514,\"New Michael\":515,\"New Michaeltown\":516,\"New Nancy\":517,\"New Nathan\":518,\"New Patriciashire\":519,\"New Patrick\":520,\"New Paul\":521,\"New Rachel\":522,\"New Rebecca\":523,\"New Sabrina\":524,\"New Sean\":525,\"New Shane\":526,\"New Sharon\":527,\"New Sheila\":528,\"New Sonialand\":529,\"New Steve\":530,\"New Tammy\":531,\"New Taylorburgh\":532,\"New Teresa\":533,\"New Theresa\":534,\"New Thomas\":535,\"New Timothy\":536,\"New Tina\":537,\"New Tinamouth\":538,\"New Traceystad\":539,\"New Travis\":540,\"New Travistown\":541,\"New Tyler\":542,\"New Wanda\":543,\"New Williammouth\":544,\"New Williamville\":545,\"Newmanberg\":546,\"Nicholasland\":547,\"Nicholasport\":548,\"North Aaronburgh\":549,\"North Aaronchester\":550,\"North Alexandra\":551,\"North Anaport\":552,\"North Andrew\":553,\"North Andrewstad\":554,\"North Angelastad\":555,\"North Angelatown\":556,\"North Anna\":557,\"North April\":558,\"North Brandon\":559,\"North Brittanyburgh\":560,\"North Cassie\":561,\"North Charlesbury\":562,\"North Christopher\":563,\"North Daniel\":564,\"North Debra\":565,\"North Debrashire\":566,\"North Derekville\":567,\"North Destiny\":568,\"North Elizabeth\":569,\"North Frankstad\":570,\"North Garyhaven\":571,\"North Isabellaville\":572,\"North Jenniferburgh\":573,\"North Jeremyport\":574,\"North Jessicaville\":575,\"North Johnside\":576,\"North Johntown\":577,\"North Jonathan\":578,\"North Joshua\":579,\"North Katie\":580,\"North Kennethside\":581,\"North Kevinside\":582,\"North Kimberly\":583,\"North Kristine\":584,\"North Lauraland\":585,\"North Laurenview\":586,\"North Leonmouth\":587,\"North Lisachester\":588,\"North Loriburgh\":589,\"North Mark\":590,\"North Maryland\":591,\"North Mercedes\":592,\"North Michael\":593,\"North Monicaville\":594,\"North Randy\":595,\"North Raymond\":596,\"North Regina\":597,\"North Ricardotown\":598,\"North Richardburgh\":599,\"North Ronaldshire\":600,\"North Russellborough\":601,\"North Samantha\":602,\"North Sarashire\":603,\"North Shannon\":604,\"North Stephanieberg\":605,\"North Tara\":606,\"North Tiffany\":607,\"North Tracyport\":608,\"North Tylerland\":609,\"North Virginia\":610,\"North Wesleychester\":611,\"Novaktown\":612,\"Odomville\":613,\"Olsonside\":614,\"Olsonstad\":615,\"Palmerside\":616,\"Pamelamouth\":617,\"Parkerhaven\":618,\"Patriciahaven\":619,\"Patrickmouth\":620,\"Pattymouth\":621,\"Paulhaven\":622,\"Paulport\":623,\"Paulshire\":624,\"Pearsonfort\":625,\"Penatown\":626,\"Perezland\":627,\"Perryburgh\":628,\"Petersonfurt\":629,\"Phelpschester\":630,\"Philipberg\":631,\"Phillipsbury\":632,\"Port Aliciabury\":633,\"Port Angelamouth\":634,\"Port Anthony\":635,\"Port Aprilville\":636,\"Port Beth\":637,\"Port Blake\":638,\"Port Brenda\":639,\"Port Brian\":640,\"Port Brianfort\":641,\"Port Brittanyville\":642,\"Port Brookeland\":643,\"Port Calvintown\":644,\"Port Cassie\":645,\"Port Chasemouth\":646,\"Port Christina\":647,\"Port Christinemouth\":648,\"Port Christopher\":649,\"Port Christopherborough\":650,\"Port Crystal\":651,\"Port Daniel\":652,\"Port Danielleberg\":653,\"Port Davidland\":654,\"Port Dennis\":655,\"Port Derekberg\":656,\"Port Destiny\":657,\"Port Douglasborough\":658,\"Port Elijah\":659,\"Port Eric\":660,\"Port Erikhaven\":661,\"Port Erinberg\":662,\"Port Eugeneport\":663,\"Port Georgebury\":664,\"Port Gregory\":665,\"Port Jacqueline\":666,\"Port Jacquelinestad\":667,\"Port James\":668,\"Port Jasmine\":669,\"Port Jason\":670,\"Port Jefferybury\":671,\"Port Jeffrey\":672,\"Port Jennifer\":673,\"Port Jessica\":674,\"Port Jessicamouth\":675,\"Port Jodi\":676,\"Port Joshuafort\":677,\"Port Juan\":678,\"Port Julie\":679,\"Port Karenfurt\":680,\"Port Katelynview\":681,\"Port Kathleenfort\":682,\"Port Kevinborough\":683,\"Port Lawrence\":684,\"Port Maria\":685,\"Port Mathew\":686,\"Port Melissaberg\":687,\"Port Melissastad\":688,\"Port Michaelmouth\":689,\"Port Michealburgh\":690,\"Port Mitchell\":691,\"Port Patrickton\":692,\"Port Paultown\":693,\"Port Rachel\":694,\"Port Raymondfort\":695,\"Port Robin\":696,\"Port Sarahhaven\":697,\"Port Sarahshire\":698,\"Port Sherrystad\":699,\"Port Stacey\":700,\"Port Stacy\":701,\"Port Susan\":702,\"Port Whitneyhaven\":703,\"Portermouth\":704,\"Pottermouth\":705,\"Princebury\":706,\"Pruittmouth\":707,\"Rachelhaven\":708,\"Ramirezhaven\":709,\"Ramirezland\":710,\"Ramirezside\":711,\"Ramirezton\":712,\"Ramosstad\":713,\"Randolphport\":714,\"Randyshire\":715,\"Rebeccamouth\":716,\"Reginamouth\":717,\"Reneechester\":718,\"Reyesfurt\":719,\"Reyesland\":720,\"Rhondaborough\":721,\"Richardshire\":722,\"Richardsland\":723,\"Richardsonland\":724,\"Richardsonmouth\":725,\"Richardsonshire\":726,\"Richardsontown\":727,\"Rickymouth\":728,\"Riggsstad\":729,\"Rivasland\":730,\"Robertbury\":731,\"Robertfurt\":732,\"Robertmouth\":733,\"Robertside\":734,\"Robertsonburgh\":735,\"Robertstown\":736,\"Roberttown\":737,\"Robinsonland\":738,\"Robinsontown\":739,\"Rochabury\":740,\"Rogerburgh\":741,\"Rogerland\":742,\"Ronaldport\":743,\"Ronniemouth\":744,\"Russellville\":745,\"Ryanhaven\":746,\"Sabrinaview\":747,\"Salazarbury\":748,\"Samanthaland\":749,\"Samuelborough\":750,\"Sanchezland\":751,\"Sanchezmouth\":752,\"Sandersland\":753,\"Sanderstown\":754,\"Sandraland\":755,\"Sandrashire\":756,\"Sandraville\":757,\"Sarafurt\":758,\"Sarahland\":759,\"Sarahton\":760,\"Sellerstown\":761,\"Shaneland\":762,\"Sharpberg\":763,\"Shawnside\":764,\"Shawstad\":765,\"Shelbyport\":766,\"Sherrishire\":767,\"Shirleyfort\":768,\"Silvaton\":769,\"Smithburgh\":770,\"Smithside\":771,\"Smithtown\":772,\"South Aaron\":773,\"South Adam\":774,\"South Adamhaven\":775,\"South Alexisborough\":776,\"South Blakestad\":777,\"South Brian\":778,\"South Cathyfurt\":779,\"South Christopher\":780,\"South Corey\":781,\"South Cynthiashire\":782,\"South Daniel\":783,\"South Daniellefort\":784,\"South Davidhaven\":785,\"South Davidmouth\":786,\"South Denise\":787,\"South Denisefurt\":788,\"South Dianeshire\":789,\"South George\":790,\"South Henry\":791,\"South Jackieberg\":792,\"South Jade\":793,\"South Jaimeview\":794,\"South Jasminebury\":795,\"South Jeanneport\":796,\"South Jennifer\":797,\"South Jessica\":798,\"South John\":799,\"South Johnnymouth\":800,\"South Kyle\":801,\"South Lauraton\":802,\"South Lauratown\":803,\"South Lisa\":804,\"South Manuel\":805,\"South Margaret\":806,\"South Mark\":807,\"South Meghan\":808,\"South Meredithmouth\":809,\"South Pamela\":810,\"South Patrickfort\":811,\"South Peter\":812,\"South Rebecca\":813,\"South Renee\":814,\"South Robert\":815,\"South Ronald\":816,\"South Stephanieport\":817,\"South Tiffanyton\":818,\"South Tomside\":819,\"South Troy\":820,\"South Vincentchester\":821,\"South Walter\":822,\"Staceyfort\":823,\"Stephenborough\":824,\"Stewartbury\":825,\"Suzannetown\":826,\"Sylviaview\":827,\"Tammymouth\":828,\"Tammyshire\":829,\"Taylorberg\":830,\"Taylorhaven\":831,\"Taylormouth\":832,\"Taylorport\":833,\"Teresahaven\":834,\"Thomasstad\":835,\"Thomasview\":836,\"Timothyfurt\":837,\"Timothymouth\":838,\"Timothyport\":839,\"Timothytown\":840,\"Tinachester\":841,\"Tinaton\":842,\"Townsendfurt\":843,\"Tracyhaven\":844,\"Tranland\":845,\"Troyville\":846,\"Turnerchester\":847,\"Turnerview\":848,\"Turnerville\":849,\"Tylerport\":850,\"Valerieland\":851,\"Vanessastad\":852,\"Vanessaview\":853,\"Villanuevastad\":854,\"Villanuevaton\":855,\"Wademouth\":856,\"Wadestad\":857,\"Wagnerchester\":858,\"Wallacechester\":859,\"Walshhaven\":860,\"Waltertown\":861,\"Watsonfort\":862,\"Welchshire\":863,\"Wendyton\":864,\"Wendyville\":865,\"West Alice\":866,\"West Alyssa\":867,\"West Amanda\":868,\"West Andrew\":869,\"West Angela\":870,\"West Angelabury\":871,\"West Annefort\":872,\"West Aprilport\":873,\"West Arielstad\":874,\"West Barbara\":875,\"West Benjamin\":876,\"West Brad\":877,\"West Brandonton\":878,\"West Brenda\":879,\"West Carmenfurt\":880,\"West Casey\":881,\"West Chloeborough\":882,\"West Christopher\":883,\"West Colin\":884,\"West Connor\":885,\"West Courtney\":886,\"West Daleborough\":887,\"West Dannyberg\":888,\"West David\":889,\"West Dennis\":890,\"West Derekmouth\":891,\"West Dylanberg\":892,\"West Eduardotown\":893,\"West Ericaport\":894,\"West Ericfurt\":895,\"West Gabriellamouth\":896,\"West Gregburgh\":897,\"West Guybury\":898,\"West James\":899,\"West Jane\":900,\"West Jeremyside\":901,\"West Jessicahaven\":902,\"West Jodi\":903,\"West Joseph\":904,\"West Julia\":905,\"West Justin\":906,\"West Katiefurt\":907,\"West Kevinfurt\":908,\"West Lacey\":909,\"West Leahton\":910,\"West Lindseybury\":911,\"West Lisa\":912,\"West Lucas\":913,\"West Mariafort\":914,\"West Melaniefurt\":915,\"West Melissashire\":916,\"West Michaelhaven\":917,\"West Michaelport\":918,\"West Michaelshire\":919,\"West Michaelstad\":920,\"West Pamela\":921,\"West Randy\":922,\"West Raymondmouth\":923,\"West Rhondamouth\":924,\"West Ricardo\":925,\"West Richard\":926,\"West Robertside\":927,\"West Roytown\":928,\"West Russell\":929,\"West Ryan\":930,\"West Samantha\":931,\"West Shannon\":932,\"West Sharon\":933,\"West Shaun\":934,\"West Steven\":935,\"West Sydney\":936,\"West Tanner\":937,\"West Tanya\":938,\"West Terrifurt\":939,\"West Thomas\":940,\"West Tinashire\":941,\"West Travismouth\":942,\"West Wendyland\":943,\"West William\":944,\"West Zacharyborough\":945,\"Westshire\":946,\"Whiteport\":947,\"Whitneyfort\":948,\"Wilcoxport\":949,\"Williammouth\":950,\"Williamport\":951,\"Williamsborough\":952,\"Williamsfort\":953,\"Williamsmouth\":954,\"Williamsport\":955,\"Williamsside\":956,\"Williamstad\":957,\"Wilsonburgh\":958,\"Wintersfort\":959,\"Wongland\":960,\"Wrightburgh\":961,\"Wrightview\":962,\"Yangside\":963,\"Youngburgh\":964,\"Youngfort\":965,\"Yuton\":966,\"Zacharystad\":967,\"Zacharyton\":968},{\"Afghanistan\":0,\"Albania\":1,\"Algeria\":2,\"American Samoa\":3,\"Andorra\":4,\"Angola\":5,\"Anguilla\":6,\"Antarctica (the territory South of 60 deg S)\":7,\"Antigua and Barbuda\":8,\"Argentina\":9,\"Armenia\":10,\"Aruba\":11,\"Australia\":12,\"Austria\":13,\"Azerbaijan\":14,\"Bahamas\":15,\"Bahrain\":16,\"Bangladesh\":17,\"Barbados\":18,\"Belarus\":19,\"Belgium\":20,\"Belize\":21,\"Benin\":22,\"Bermuda\":23,\"Bhutan\":24,\"Bolivia\":25,\"Bosnia and Herzegovina\":26,\"Bouvet Island (Bouvetoya)\":27,\"Brazil\":28,\"British Indian Ocean Territory (Chagos Archipelago)\":29,\"British Virgin Islands\":30,\"Brunei Darussalam\":31,\"Bulgaria\":32,\"Burkina Faso\":33,\"Burundi\":34,\"Cambodia\":35,\"Cameroon\":36,\"Canada\":37,\"Cape Verde\":38,\"Cayman Islands\":39,\"Central African Republic\":40,\"Chad\":41,\"Chile\":42,\"China\":43,\"Christmas Island\":44,\"Colombia\":45,\"Comoros\":46,\"Congo\":47,\"Cook Islands\":48,\"Costa Rica\":49,\"Cote d'Ivoire\":50,\"Croatia\":51,\"Cuba\":52,\"Cyprus\":53,\"Czech Republic\":54,\"Denmark\":55,\"Djibouti\":56,\"Dominica\":57,\"Dominican Republic\":58,\"Ecuador\":59,\"Egypt\":60,\"El Salvador\":61,\"Equatorial Guinea\":62,\"Eritrea\":63,\"Estonia\":64,\"Ethiopia\":65,\"Falkland Islands (Malvinas)\":66,\"Faroe Islands\":67,\"Fiji\":68,\"Finland\":69,\"France\":70,\"French Guiana\":71,\"French Polynesia\":72,\"French Southern Territories\":73,\"Gabon\":74,\"Gambia\":75,\"Georgia\":76,\"Germany\":77,\"Ghana\":78,\"Gibraltar\":79,\"Greece\":80,\"Greenland\":81,\"Grenada\":82,\"Guadeloupe\":83,\"Guam\":84,\"Guatemala\":85,\"Guernsey\":86,\"Guinea\":87,\"Guinea-Bissau\":88,\"Guyana\":89,\"Haiti\":90,\"Heard Island and McDonald Islands\":91,\"Holy See (Vatican City State)\":92,\"Honduras\":93,\"Hong Kong\":94,\"Hungary\":95,\"Iceland\":96,\"India\":97,\"Indonesia\":98,\"Iran\":99,\"Ireland\":100,\"Isle of Man\":101,\"Israel\":102,\"Italy\":103,\"Jamaica\":104,\"Japan\":105,\"Jersey\":106,\"Jordan\":107,\"Kazakhstan\":108,\"Kenya\":109,\"Kiribati\":110,\"Korea\":111,\"Kuwait\":112,\"Kyrgyz Republic\":113,\"Lao People's Democratic Republic\":114,\"Latvia\":115,\"Lebanon\":116,\"Lesotho\":117,\"Liberia\":118,\"Libyan Arab Jamahiriya\":119,\"Liechtenstein\":120,\"Lithuania\":121,\"Luxembourg\":122,\"Macao\":123,\"Macedonia\":124,\"Madagascar\":125,\"Malawi\":126,\"Malaysia\":127,\"Maldives\":128,\"Mali\":129,\"Malta\":130,\"Marshall Islands\":131,\"Martinique\":132,\"Mauritania\":133,\"Mauritius\":134,\"Mayotte\":135,\"Mexico\":136,\"Micronesia\":137,\"Moldova\":138,\"Monaco\":139,\"Mongolia\":140,\"Montenegro\":141,\"Montserrat\":142,\"Morocco\":143,\"Mozambique\":144,\"Myanmar\":145,\"Namibia\":146,\"Nauru\":147,\"Nepal\":148,\"Netherlands\":149,\"Netherlands Antilles\":150,\"New Caledonia\":151,\"New Zealand\":152,\"Nicaragua\":153,\"Niger\":154,\"Niue\":155,\"Norfolk Island\":156,\"Northern Mariana Islands\":157,\"Norway\":158,\"Pakistan\":159,\"Palau\":160,\"Palestinian Territory\":161,\"Panama\":162,\"Papua New Guinea\":163,\"Paraguay\":164,\"Peru\":165,\"Philippines\":166,\"Pitcairn Islands\":167,\"Poland\":168,\"Portugal\":169,\"Puerto Rico\":170,\"Qatar\":171,\"Reunion\":172,\"Romania\":173,\"Russian Federation\":174,\"Rwanda\":175,\"Saint Barthelemy\":176,\"Saint Helena\":177,\"Saint Kitts and Nevis\":178,\"Saint Lucia\":179,\"Saint Martin\":180,\"Saint Pierre and Miquelon\":181,\"Saint Vincent and the Grenadines\":182,\"Samoa\":183,\"San Marino\":184,\"Sao Tome and Principe\":185,\"Saudi Arabia\":186,\"Senegal\":187,\"Serbia\":188,\"Seychelles\":189,\"Sierra Leone\":190,\"Singapore\":191,\"Slovakia (Slovak Republic)\":192,\"Slovenia\":193,\"Somalia\":194,\"South Africa\":195,\"South Georgia and the South Sandwich Islands\":196,\"Spain\":197,\"Sri Lanka\":198,\"Sudan\":199,\"Suriname\":200,\"Svalbard & Jan Mayen Islands\":201,\"Swaziland\":202,\"Sweden\":203,\"Switzerland\":204,\"Syrian Arab Republic\":205,\"Taiwan\":206,\"Tajikistan\":207,\"Tanzania\":208,\"Thailand\":209,\"Timor-Leste\":210,\"Togo\":211,\"Tokelau\":212,\"Tonga\":213,\"Trinidad and Tobago\":214,\"Tunisia\":215,\"Turkey\":216,\"Turkmenistan\":217,\"Turks and Caicos Islands\":218,\"Tuvalu\":219,\"Uganda\":220,\"Ukraine\":221,\"United Arab Emirates\":222,\"United Kingdom\":223,\"United States Minor Outlying Islands\":224,\"United States Virgin Islands\":225,\"United States of America\":226,\"Uruguay\":227,\"Uzbekistan\":228,\"Vanuatu\":229,\"Venezuela\":230,\"Vietnam\":231,\"Wallis and Futuna\":232,\"Western Sahara\":233,\"Yemen\":234,\"Zambia\":235,\"Zimbabwe\":236}]}\n"
     ]
    }
   ],
   "source": [
    "print(mapping)"
   ]
  },
  {
   "cell_type": "code",
   "execution_count": 49,
   "metadata": {},
   "outputs": [
    {
     "data": {
      "text/html": [
       "<div><style>\n",
       ".dataframe > thead > tr > th,\n",
       ".dataframe > tbody > tr > td {\n",
       "  text-align: right;\n",
       "}\n",
       "</style>\n",
       "<small>shape: (5, 14)</small><table border=\"1\" class=\"dataframe\"><thead><tr><th>Daily Time Spent on Site</th><th>Age</th><th>Area Income</th><th>Daily Internet Usage</th><th>City</th><th>Country</th><th>Clicked on Ad</th><th>One_Hot_Test_A</th><th>One_Hot_Test_B</th><th>One_Hot_Test_C</th><th>Age Band</th><th>Daily Internet Usage Band</th><th>Area Income Band</th><th>Test_Binary</th></tr><tr><td>u8</td><td>u8</td><td>u8</td><td>u8</td><td>u32</td><td>u32</td><td>i64</td><td>u8</td><td>u8</td><td>u8</td><td>u8</td><td>u8</td><td>u8</td><td>u8</td></tr></thead><tbody><tr><td>52</td><td>53</td><td>65</td><td>99</td><td>961</td><td>215</td><td>0</td><td>1</td><td>0</td><td>0</td><td>68</td><td>100</td><td>75</td><td>52</td></tr><tr><td>81</td><td>37</td><td>86</td><td>57</td><td>903</td><td>147</td><td>0</td><td>0</td><td>1</td><td>0</td><td>68</td><td>62</td><td>89</td><td>100</td></tr><tr><td>53</td><td>14</td><td>58</td><td>91</td><td>111</td><td>184</td><td>0</td><td>1</td><td>0</td><td>0</td><td>27</td><td>93</td><td>59</td><td>52</td></tr><tr><td>63</td><td>27</td><td>44</td><td>95</td><td>939</td><td>103</td><td>0</td><td>0</td><td>1</td><td>0</td><td>27</td><td>100</td><td>44</td><td>100</td></tr><tr><td>51</td><td>53</td><td>96</td><td>82</td><td>805</td><td>96</td><td>0</td><td>1</td><td>0</td><td>0</td><td>68</td><td>93</td><td>97</td><td>52</td></tr></tbody></table></div>"
      ],
      "text/plain": [
       "shape: (5, 14)\n",
       "┌────────────┬─────┬───────────┬────────────┬───┬──────────┬────────────┬────────────┬─────────────┐\n",
       "│ Daily Time ┆ Age ┆ Area      ┆ Daily      ┆ … ┆ Age Band ┆ Daily      ┆ Area       ┆ Test_Binary │\n",
       "│ Spent on   ┆ --- ┆ Income    ┆ Internet   ┆   ┆ ---      ┆ Internet   ┆ Income     ┆ ---         │\n",
       "│ Site       ┆ u8  ┆ ---       ┆ Usage      ┆   ┆ u8       ┆ Usage Band ┆ Band       ┆ u8          │\n",
       "│ ---        ┆     ┆ u8        ┆ ---        ┆   ┆          ┆ ---        ┆ ---        ┆             │\n",
       "│ u8         ┆     ┆           ┆ u8         ┆   ┆          ┆ u8         ┆ u8         ┆             │\n",
       "╞════════════╪═════╪═══════════╪════════════╪═══╪══════════╪════════════╪════════════╪═════════════╡\n",
       "│ 52         ┆ 53  ┆ 65        ┆ 99         ┆ … ┆ 68       ┆ 100        ┆ 75         ┆ 52          │\n",
       "│ 81         ┆ 37  ┆ 86        ┆ 57         ┆ … ┆ 68       ┆ 62         ┆ 89         ┆ 100         │\n",
       "│ 53         ┆ 14  ┆ 58        ┆ 91         ┆ … ┆ 27       ┆ 93         ┆ 59         ┆ 52          │\n",
       "│ 63         ┆ 27  ┆ 44        ┆ 95         ┆ … ┆ 27       ┆ 100        ┆ 44         ┆ 100         │\n",
       "│ 51         ┆ 53  ┆ 96        ┆ 82         ┆ … ┆ 68       ┆ 93         ┆ 97         ┆ 52          │\n",
       "└────────────┴─────┴───────────┴────────────┴───┴──────────┴────────────┴────────────┴─────────────┘"
      ]
     },
     "execution_count": 49,
     "metadata": {},
     "output_type": "execute_result"
    }
   ],
   "source": [
    "final_df = df.drop([\"Ad Topic Line\", \"Timestamp\"])\n",
    "final_df.head() "
   ]
  },
  {
   "cell_type": "code",
   "execution_count": 50,
   "metadata": {},
   "outputs": [],
   "source": [
    "np_data = get_numpy(final_df, target)\n",
    "X, y, features = np_data.X, np_data.y, np_data.features"
   ]
  },
  {
   "cell_type": "code",
   "execution_count": 51,
   "metadata": {},
   "outputs": [
    {
     "data": {
      "text/plain": [
       "(1000, 13)"
      ]
     },
     "execution_count": 51,
     "metadata": {},
     "output_type": "execute_result"
    }
   ],
   "source": [
    "X.shape "
   ]
  },
  {
   "cell_type": "code",
   "execution_count": 52,
   "metadata": {},
   "outputs": [
    {
     "data": {
      "text/plain": [
       "(1000,)"
      ]
     },
     "execution_count": 52,
     "metadata": {},
     "output_type": "execute_result"
    }
   ],
   "source": [
    "y.shape "
   ]
  },
  {
   "cell_type": "code",
   "execution_count": 53,
   "metadata": {},
   "outputs": [
    {
     "data": {
      "text/plain": [
       "['Daily Time Spent on Site',\n",
       " 'Age',\n",
       " 'Area Income',\n",
       " 'Daily Internet Usage',\n",
       " 'City',\n",
       " 'Country',\n",
       " 'One_Hot_Test_A',\n",
       " 'One_Hot_Test_B',\n",
       " 'One_Hot_Test_C',\n",
       " 'Age Band',\n",
       " 'Daily Internet Usage Band',\n",
       " 'Area Income Band',\n",
       " 'Test_Binary']"
      ]
     },
     "execution_count": 53,
     "metadata": {},
     "output_type": "execute_result"
    }
   ],
   "source": [
    "features"
   ]
  },
  {
   "cell_type": "code",
   "execution_count": null,
   "metadata": {},
   "outputs": [],
   "source": []
  },
  {
   "cell_type": "code",
   "execution_count": null,
   "metadata": {},
   "outputs": [],
   "source": []
  }
 ],
 "metadata": {
  "kernelspec": {
   "display_name": "nodus",
   "language": "python",
   "name": "python3"
  },
  "language_info": {
   "codemirror_mode": {
    "name": "ipython",
    "version": 3
   },
   "file_extension": ".py",
   "mimetype": "text/x-python",
   "name": "python",
   "nbconvert_exporter": "python",
   "pygments_lexer": "ipython3",
   "version": "3.11.3"
  },
  "orig_nbformat": 4,
  "vscode": {
   "interpreter": {
    "hash": "74f1072b57173f378ab32b3582e04f0f79e785f166fd2fbdd636602a68526af8"
   }
  }
 },
 "nbformat": 4,
 "nbformat_minor": 2
}
