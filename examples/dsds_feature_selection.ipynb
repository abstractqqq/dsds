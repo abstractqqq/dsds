{
 "cells": [
  {
   "cell_type": "code",
   "execution_count": 1,
   "metadata": {},
   "outputs": [],
   "source": [
    "import polars as pl\n",
    "import pandas as pd\n",
    "import numpy as np\n",
    "from sklearn.datasets import make_classification\n",
    "import dsds.fs as fs"
   ]
  },
  {
   "cell_type": "code",
   "execution_count": 2,
   "metadata": {},
   "outputs": [],
   "source": [
    "orig_x, orig_y = make_classification(n_samples = 10_000, n_features = 500, n_informative = 60, n_redundant = 440)\n",
    "# This is a Polars dataframe. This is dsds package's favored dataframe. dsds relies on Polars heavily.\n",
    "# You must turn other dataframe formats into Polars for dsds to work.\n",
    "df = pl.from_numpy(orig_x).insert_at_idx(0, pl.Series(\"target\", orig_y)) \n",
    "# Turn it into Pandas.\n",
    "df_pd = df.to_pandas()\n",
    "target = \"target\"\n",
    "features = df.columns\n",
    "features.remove(target)"
   ]
  },
  {
   "cell_type": "code",
   "execution_count": 3,
   "metadata": {},
   "outputs": [
    {
     "name": "stderr",
     "output_type": "stream",
     "text": [
      "INFO:dsds.fs:Running lgbm to determine feature relevance...\n",
      "c:\\Users\\qtren\\Desktop\\MY\\PythonProjects\\dsds\\.venv\\Lib\\site-packages\\tqdm\\auto.py:21: TqdmWarning: IProgress not found. Please update jupyter and ipywidgets. See https://ipywidgets.readthedocs.io/en/stable/user_install.html\n",
      "  from .autonotebook import tqdm as notebook_tqdm\n",
      "[I 2023-10-20 23:37:29,161] A new study created in memory with name: no-name-708c78e4-d418-4f84-86ea-e27940a1dc8b\n",
      "c:\\Users\\qtren\\Desktop\\MY\\PythonProjects\\dsds\\.venv\\Lib\\site-packages\\lightgbm\\engine.py:172: UserWarning: Found `num_iterations` in params. Will use it instead of argument\n",
      "  _log_warning(f\"Found `{alias}` in params. Will use it instead of argument\")\n",
      "[I 2023-10-20 23:37:33,397] Trial 1 finished with value: 0.3953450255482715 and parameters: {'max_depth': 2, 'num_iterations': 96, 'lambda_l1': 0.007803892710811089, 'lambda_l2': 1.1557216581786632e-05, 'num_leaves': 243, 'feature_fraction': 0.9072374278648352, 'bagging_fraction': 0.6750668298315728, 'bagging_freq': 3, 'min_child_samples': 57}. Best is trial 1 with value: 0.3953450255482715.\n",
      "[I 2023-10-20 23:37:33,874] Trial 3 finished with value: 0.37208456988288874 and parameters: {'max_depth': 4, 'num_iterations': 85, 'lambda_l1': 0.027679527229476256, 'lambda_l2': 0.010502806072540817, 'num_leaves': 5, 'feature_fraction': 0.5484625734994388, 'bagging_fraction': 0.5879998769630729, 'bagging_freq': 4, 'min_child_samples': 63}. Best is trial 3 with value: 0.37208456988288874.\n",
      "[I 2023-10-20 23:37:36,240] Trial 0 finished with value: 0.2515304030727986 and parameters: {'max_depth': 9, 'num_iterations': 51, 'lambda_l1': 1.4493978727623725e-05, 'lambda_l2': 0.031125134494154997, 'num_leaves': 33, 'feature_fraction': 0.5389740227774447, 'bagging_fraction': 0.4771454775290727, 'bagging_freq': 5, 'min_child_samples': 71}. Best is trial 0 with value: 0.2515304030727986.\n",
      "[I 2023-10-20 23:37:36,960] Trial 8 finished with value: 0.2493039423120325 and parameters: {'max_depth': 6, 'num_iterations': 63, 'lambda_l1': 2.9976856377434657, 'lambda_l2': 3.85766818095591e-06, 'num_leaves': 168, 'feature_fraction': 0.6959898169442902, 'bagging_fraction': 0.616974765397634, 'bagging_freq': 4, 'min_child_samples': 66}. Best is trial 8 with value: 0.2493039423120325.\n",
      "[I 2023-10-20 23:37:39,736] Trial 2 finished with value: 0.20274914196035057 and parameters: {'max_depth': 8, 'num_iterations': 78, 'lambda_l1': 1.3956170420355393e-07, 'lambda_l2': 2.783067350319346, 'num_leaves': 43, 'feature_fraction': 0.6551310992224746, 'bagging_fraction': 0.7114336608907104, 'bagging_freq': 3, 'min_child_samples': 83}. Best is trial 2 with value: 0.20274914196035057.\n",
      "[I 2023-10-20 23:37:43,297] Trial 13 finished with value: 0.21106715604962892 and parameters: {'max_depth': 4, 'num_iterations': 139, 'lambda_l1': 0.0005436536997592413, 'lambda_l2': 0.0001267105485547186, 'num_leaves': 108, 'feature_fraction': 0.6003657751784823, 'bagging_fraction': 0.5902876085708186, 'bagging_freq': 7, 'min_child_samples': 7}. Best is trial 2 with value: 0.20274914196035057.\n",
      "[I 2023-10-20 23:37:44,403] Trial 12 finished with value: 0.18902864817193138 and parameters: {'max_depth': 6, 'num_iterations': 108, 'lambda_l1': 2.804034017738503e-05, 'lambda_l2': 0.00021451887777901, 'num_leaves': 32, 'feature_fraction': 0.41040747749159817, 'bagging_fraction': 0.974419744054135, 'bagging_freq': 3, 'min_child_samples': 48}. Best is trial 12 with value: 0.18902864817193138.\n",
      "[I 2023-10-20 23:37:44,717] Trial 16 pruned. Trial was pruned at iteration 10.\n",
      "[I 2023-10-20 23:37:45,247] Trial 10 finished with value: 0.20827156821342402 and parameters: {'max_depth': 12, 'num_iterations': 105, 'lambda_l1': 6.394626466051561, 'lambda_l2': 7.267236395226116, 'num_leaves': 45, 'feature_fraction': 0.5358981320697834, 'bagging_fraction': 0.7279637754846136, 'bagging_freq': 7, 'min_child_samples': 77}. Best is trial 12 with value: 0.18902864817193138.\n",
      "[I 2023-10-20 23:37:46,115] Trial 19 pruned. Trial was pruned at iteration 10.\n",
      "[I 2023-10-20 23:37:48,145] Trial 11 finished with value: 0.18422874245585927 and parameters: {'max_depth': 13, 'num_iterations': 63, 'lambda_l1': 4.6478413730774717e-07, 'lambda_l2': 5.247957051138463e-06, 'num_leaves': 165, 'feature_fraction': 0.7586832250378286, 'bagging_fraction': 0.5000714353620273, 'bagging_freq': 5, 'min_child_samples': 39}. Best is trial 11 with value: 0.18422874245585927.\n",
      "[I 2023-10-20 23:37:49,983] Trial 15 finished with value: 0.18530803567094353 and parameters: {'max_depth': 9, 'num_iterations': 81, 'lambda_l1': 0.00025500234070030184, 'lambda_l2': 2.0935024315735417e-06, 'num_leaves': 132, 'feature_fraction': 0.6595166863826636, 'bagging_fraction': 0.5458180692866155, 'bagging_freq': 2, 'min_child_samples': 71}. Best is trial 11 with value: 0.18422874245585927.\n",
      "[I 2023-10-20 23:37:57,005] Trial 14 finished with value: 0.11136974132856156 and parameters: {'max_depth': 15, 'num_iterations': 177, 'lambda_l1': 0.4289193808296573, 'lambda_l2': 0.02337539813300277, 'num_leaves': 30, 'feature_fraction': 0.4461105771779131, 'bagging_fraction': 0.7390429160521778, 'bagging_freq': 4, 'min_child_samples': 58}. Best is trial 14 with value: 0.11136974132856156.\n",
      "[I 2023-10-20 23:37:57,828] Trial 17 finished with value: 0.1501173343709098 and parameters: {'max_depth': 7, 'num_iterations': 129, 'lambda_l1': 0.021915559009045047, 'lambda_l2': 0.03280899056423166, 'num_leaves': 200, 'feature_fraction': 0.7152538378660716, 'bagging_fraction': 0.7427479035635915, 'bagging_freq': 1, 'min_child_samples': 78}. Best is trial 14 with value: 0.11136974132856156.\n",
      "[I 2023-10-20 23:37:58,921] Trial 5 finished with value: 0.0985913275047931 and parameters: {'max_depth': 10, 'num_iterations': 168, 'lambda_l1': 0.0065301592178774745, 'lambda_l2': 3.730793551504083e-08, 'num_leaves': 126, 'feature_fraction': 0.981454455286399, 'bagging_fraction': 0.7372596160901321, 'bagging_freq': 1, 'min_child_samples': 64}. Best is trial 5 with value: 0.0985913275047931.\n",
      "[I 2023-10-20 23:38:00,483] Trial 9 pruned. Trial was pruned at iteration 139.\n",
      "[I 2023-10-20 23:38:01,145] Trial 18 pruned. Trial was pruned at iteration 129.\n",
      "[I 2023-10-20 23:38:02,262] Trial 7 pruned. Trial was pruned at iteration 139.\n",
      "[I 2023-10-20 23:38:03,914] Trial 4 finished with value: 0.13113172400247017 and parameters: {'max_depth': 15, 'num_iterations': 95, 'lambda_l1': 0.20611551598144517, 'lambda_l2': 0.002784239773870054, 'num_leaves': 215, 'feature_fraction': 0.7559208243615836, 'bagging_fraction': 0.8086725102381347, 'bagging_freq': 5, 'min_child_samples': 33}. Best is trial 5 with value: 0.0985913275047931.\n",
      "[I 2023-10-20 23:38:08,496] Trial 6 finished with value: 0.10508054128357583 and parameters: {'max_depth': 15, 'num_iterations': 138, 'lambda_l1': 2.7304112258257386e-07, 'lambda_l2': 3.637878974768013e-06, 'num_leaves': 174, 'feature_fraction': 0.6956740766101093, 'bagging_fraction': 0.8987970681359227, 'bagging_freq': 1, 'min_child_samples': 57}. Best is trial 5 with value: 0.0985913275047931.\n",
      "[I 2023-10-20 23:38:15,857] Trial 22 finished with value: 0.12261037620046628 and parameters: {'max_depth': 12, 'num_iterations': 124, 'lambda_l1': 1.2244774685774195e-08, 'lambda_l2': 4.2876545677767334e-08, 'num_leaves': 155, 'feature_fraction': 0.7832963690534197, 'bagging_fraction': 0.4091578276554776, 'bagging_freq': 1, 'min_child_samples': 34}. Best is trial 5 with value: 0.0985913275047931.\n",
      "[I 2023-10-20 23:38:16,015] Trial 24 pruned. Trial was pruned at iteration 121.\n",
      "[I 2023-10-20 23:38:26,729] Trial 26 finished with value: 0.09163075599916559 and parameters: {'max_depth': 16, 'num_iterations': 194, 'lambda_l1': 0.14040535233539092, 'lambda_l2': 3.102097013830383e-08, 'num_leaves': 86, 'feature_fraction': 0.9839214535525003, 'bagging_fraction': 0.8105623385618879, 'bagging_freq': 1, 'min_child_samples': 98}. Best is trial 26 with value: 0.09163075599916559.\n",
      "[I 2023-10-20 23:38:27,253] Trial 23 pruned. Trial was pruned at iteration 149.\n",
      "[I 2023-10-20 23:38:30,479] Trial 28 pruned. Trial was pruned at iteration 142.\n",
      "[I 2023-10-20 23:38:31,339] Trial 29 pruned. Trial was pruned at iteration 144.\n",
      "[I 2023-10-20 23:38:32,851] Trial 27 pruned. Trial was pruned at iteration 164.\n",
      "[I 2023-10-20 23:38:33,176] Trial 20 pruned. Trial was pruned at iteration 177.\n",
      "[I 2023-10-20 23:38:33,737] Trial 25 finished with value: 0.09311971572869912 and parameters: {'max_depth': 11, 'num_iterations': 185, 'lambda_l1': 3.2710993719501717e-08, 'lambda_l2': 1.3270154826216866e-07, 'num_leaves': 87, 'feature_fraction': 0.9696392945352462, 'bagging_fraction': 0.808216252875102, 'bagging_freq': 1, 'min_child_samples': 31}. Best is trial 26 with value: 0.09163075599916559.\n",
      "[I 2023-10-20 23:38:35,010] Trial 21 pruned. Trial was pruned at iteration 177.\n",
      "INFO:dsds.fs:LightGBM tuning is not deterministic by default. Results may vary.\n",
      "INFO:dsds.fs:Recommended hyperparameters: {'max_depth': 16, 'num_iterations': 194, 'lambda_l1': 0.14040535233539092, 'lambda_l2': 3.102097013830383e-08, 'num_leaves': 86, 'feature_fraction': 0.9839214535525003, 'bagging_fraction': 0.8105623385618879, 'bagging_freq': 1, 'min_child_samples': 98, 'verbosity': -1}\n"
     ]
    },
    {
     "name": "stdout",
     "output_type": "stream",
     "text": [
      "Best params: {'max_depth': 16, 'num_iterations': 194, 'lambda_l1': 0.14040535233539092, 'lambda_l2': 3.102097013830383e-08, 'num_leaves': 86, 'feature_fraction': 0.9839214535525003, 'bagging_fraction': 0.8105623385618879, 'bagging_freq': 1, 'min_child_samples': 98}.\n",
      "Found at trial: 26.\n",
      "Time took: 26s.\n"
     ]
    },
    {
     "name": "stderr",
     "output_type": "stream",
     "text": [
      "INFO:dsds.fs:Found 500 total features to select from. Proceeding to select top 50 features.\n",
      "MRMR: 100%|██████████| 50/50 [00:01<00:00, 38.69it/s]"
     ]
    },
    {
     "name": "stdout",
     "output_type": "stream",
     "text": [
      "Output is sorted in order of selection (max relevance min redundancy).\n"
     ]
    },
    {
     "name": "stderr",
     "output_type": "stream",
     "text": [
      "\n"
     ]
    }
   ],
   "source": [
    "# Model Based Feature Importance.\n",
    "# LGBM hyperparameters is automatically suggested by Optuna with 30-trial tuning.\n",
    "# More user control on this tuning process will be added in the future.\n",
    "\n",
    "f1 = fs.mrmr(\n",
    "    df,\n",
    "    \"target\",\n",
    "    50,\n",
    "    relevance=\"lgbm\",\n",
    "    mrmr_strategy=\"accum_corr\"\n",
    ")"
   ]
  },
  {
   "cell_type": "code",
   "execution_count": 4,
   "metadata": {},
   "outputs": [
    {
     "name": "stderr",
     "output_type": "stream",
     "text": [
      "INFO:dsds.fs:Running f to determine feature relevance...\n",
      "INFO:dsds.fs:Found 500 total features to select from. Proceeding to select top 50 features.\n",
      "MRMR: 100%|██████████| 50/50 [00:01<00:00, 40.35it/s]"
     ]
    },
    {
     "name": "stdout",
     "output_type": "stream",
     "text": [
      "Output is sorted in order of selection (max relevance min redundancy).\n"
     ]
    },
    {
     "name": "stderr",
     "output_type": "stream",
     "text": [
      "\n"
     ]
    }
   ],
   "source": [
    "f2 = fs.mrmr(\n",
    "    df,\n",
    "    \"target\",\n",
    "    50,\n",
    "    relevance=\"f\",\n",
    "    mrmr_strategy= \"accum_corr\"\n",
    ")"
   ]
  },
  {
   "cell_type": "code",
   "execution_count": 5,
   "metadata": {},
   "outputs": [
    {
     "data": {
      "text/plain": [
       "0.26582278481012656"
      ]
     },
     "execution_count": 5,
     "metadata": {},
     "output_type": "execute_result"
    }
   ],
   "source": [
    "import dsds.metrics as me\n",
    "\n",
    "\n",
    "me.jaccard_similarity(f1, f2)"
   ]
  },
  {
   "cell_type": "code",
   "execution_count": null,
   "metadata": {},
   "outputs": [],
   "source": []
  }
 ],
 "metadata": {
  "kernelspec": {
   "display_name": ".venv",
   "language": "python",
   "name": "python3"
  },
  "language_info": {
   "codemirror_mode": {
    "name": "ipython",
    "version": 3
   },
   "file_extension": ".py",
   "mimetype": "text/x-python",
   "name": "python",
   "nbconvert_exporter": "python",
   "pygments_lexer": "ipython3",
   "version": "3.11.3"
  }
 },
 "nbformat": 4,
 "nbformat_minor": 2
}
