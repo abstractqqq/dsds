{
 "cells": [
  {
   "cell_type": "code",
   "execution_count": 1,
   "metadata": {},
   "outputs": [],
   "source": [
    "import polars as pl\n",
    "import pandas as pd\n",
    "import numpy as np\n",
    "from sklearn.datasets import make_classification\n",
    "from time import perf_counter\n",
    "import dsds.fs as fs"
   ]
  },
  {
   "cell_type": "code",
   "execution_count": 2,
   "metadata": {},
   "outputs": [],
   "source": [
    "orig_x, orig_y = make_classification(n_samples = 10_000, n_features = 500, n_informative = 60, n_redundant = 440)\n",
    "# This is a Polars dataframe. This is dsds package's favored dataframe. dsds relies on Polars heavily.\n",
    "# You must turn other dataframe formats into Polars for dsds to work.\n",
    "df = pl.from_numpy(orig_x).insert_at_idx(0, pl.Series(\"target\", orig_y)) \n",
    "# Turn it into Pandas.\n",
    "df_pd = df.to_pandas()\n",
    "target = \"target\"\n",
    "features = df.columns\n",
    "features.remove(target)"
   ]
  },
  {
   "cell_type": "code",
   "execution_count": 3,
   "metadata": {},
   "outputs": [
    {
     "name": "stderr",
     "output_type": "stream",
     "text": [
      "INFO:dsds.fs:Running lgbm to determine feature relevance...\n",
      "c:\\Users\\qtren\\Desktop\\MY\\PythonProjects\\dsds\\.venv\\Lib\\site-packages\\tqdm\\auto.py:21: TqdmWarning: IProgress not found. Please update jupyter and ipywidgets. See https://ipywidgets.readthedocs.io/en/stable/user_install.html\n",
      "  from .autonotebook import tqdm as notebook_tqdm\n",
      "[I 2023-10-20 18:12:17,586] A new study created in memory with name: no-name-2b8de4b1-3ef2-462c-9531-9c87709eebe3\n",
      "c:\\Users\\qtren\\Desktop\\MY\\PythonProjects\\dsds\\.venv\\Lib\\site-packages\\lightgbm\\engine.py:172: UserWarning: Found `num_iterations` in params. Will use it instead of argument\n",
      "  _log_warning(f\"Found `{alias}` in params. Will use it instead of argument\")\n",
      "[I 2023-10-20 18:12:22,600] Trial 2 finished with value: 0.30813068239193947 and parameters: {'max_depth': 3, 'num_iterations': 70, 'lambda_l1': 4.3003037659047855e-06, 'lambda_l2': 5.132396374292552e-05, 'num_leaves': 28, 'feature_fraction': 0.5833776465828601, 'bagging_fraction': 0.8886136516425738, 'bagging_freq': 3, 'min_child_samples': 40}. Best is trial 2 with value: 0.30813068239193947.\n",
      "[I 2023-10-20 18:12:22,604] Trial 0 finished with value: 0.2680084801253281 and parameters: {'max_depth': 3, 'num_iterations': 112, 'lambda_l1': 6.591353066809201, 'lambda_l2': 0.0005345753502586614, 'num_leaves': 118, 'feature_fraction': 0.7315192463335448, 'bagging_fraction': 0.8476437866032045, 'bagging_freq': 6, 'min_child_samples': 67}. Best is trial 0 with value: 0.2680084801253281.\n",
      "[I 2023-10-20 18:12:23,289] Trial 9 finished with value: 0.27976718748031293 and parameters: {'max_depth': 4, 'num_iterations': 54, 'lambda_l1': 2.0510749409856933e-08, 'lambda_l2': 0.052016183880133626, 'num_leaves': 232, 'feature_fraction': 0.8624180328603418, 'bagging_fraction': 0.5840115872650702, 'bagging_freq': 3, 'min_child_samples': 61}. Best is trial 0 with value: 0.2680084801253281.\n",
      "[I 2023-10-20 18:12:23,685] Trial 8 finished with value: 0.30552946487092636 and parameters: {'max_depth': 2, 'num_iterations': 141, 'lambda_l1': 4.464910501714861, 'lambda_l2': 7.321154920960217e-05, 'num_leaves': 233, 'feature_fraction': 0.8688213303384502, 'bagging_fraction': 0.7566816968354408, 'bagging_freq': 5, 'min_child_samples': 63}. Best is trial 0 with value: 0.2680084801253281.\n",
      "[I 2023-10-20 18:12:24,736] Trial 6 finished with value: 0.22627859746124834 and parameters: {'max_depth': 4, 'num_iterations': 94, 'lambda_l1': 0.0007426800732776039, 'lambda_l2': 2.2933165955194412, 'num_leaves': 125, 'feature_fraction': 0.9942978271106354, 'bagging_fraction': 0.8490675911398382, 'bagging_freq': 5, 'min_child_samples': 86}. Best is trial 6 with value: 0.22627859746124834.\n",
      "[I 2023-10-20 18:12:28,859] Trial 1 finished with value: 0.21661537612090434 and parameters: {'max_depth': 12, 'num_iterations': 51, 'lambda_l1': 1.8037134388724538e-05, 'lambda_l2': 0.6829846641604539, 'num_leaves': 190, 'feature_fraction': 0.8431267132591103, 'bagging_fraction': 0.6927086318321978, 'bagging_freq': 1, 'min_child_samples': 85}. Best is trial 1 with value: 0.21661537612090434.\n",
      "[I 2023-10-20 18:12:29,082] Trial 12 finished with value: 0.2357426351845752 and parameters: {'max_depth': 14, 'num_iterations': 58, 'lambda_l1': 2.0779472971812045e-06, 'lambda_l2': 0.0042808176449201174, 'num_leaves': 64, 'feature_fraction': 0.6298394704402884, 'bagging_fraction': 0.4178823808253388, 'bagging_freq': 4, 'min_child_samples': 95}. Best is trial 1 with value: 0.21661537612090434.\n",
      "[I 2023-10-20 18:12:30,505] Trial 10 finished with value: 0.1443078217412722 and parameters: {'max_depth': 13, 'num_iterations': 196, 'lambda_l1': 3.5066012437330835e-08, 'lambda_l2': 0.00011875609800226426, 'num_leaves': 13, 'feature_fraction': 0.9014446582640734, 'bagging_fraction': 0.8375384549345511, 'bagging_freq': 5, 'min_child_samples': 97}. Best is trial 10 with value: 0.1443078217412722.\n",
      "[I 2023-10-20 18:12:35,034] Trial 13 finished with value: 0.15689794395783344 and parameters: {'max_depth': 6, 'num_iterations': 109, 'lambda_l1': 6.487395818647525e-05, 'lambda_l2': 1.785313146907837e-05, 'num_leaves': 31, 'feature_fraction': 0.9001745915303523, 'bagging_fraction': 0.6343274918047229, 'bagging_freq': 3, 'min_child_samples': 26}. Best is trial 10 with value: 0.1443078217412722.\n",
      "[I 2023-10-20 18:12:38,343] Trial 5 finished with value: 0.13128193045983458 and parameters: {'max_depth': 13, 'num_iterations': 151, 'lambda_l1': 1.2324017457645325e-06, 'lambda_l2': 1.1491189706852492, 'num_leaves': 247, 'feature_fraction': 0.9817905635383921, 'bagging_fraction': 0.43441683506426854, 'bagging_freq': 6, 'min_child_samples': 66}. Best is trial 5 with value: 0.13128193045983458.\n",
      "[I 2023-10-20 18:12:40,294] Trial 7 pruned. Trial was pruned at iteration 141.\n",
      "[I 2023-10-20 18:12:40,561] Trial 14 finished with value: 0.16104412314276165 and parameters: {'max_depth': 15, 'num_iterations': 72, 'lambda_l1': 0.0026310579094245574, 'lambda_l2': 1.2080048801959063e-06, 'num_leaves': 150, 'feature_fraction': 0.9810036149197116, 'bagging_fraction': 0.7491817039848416, 'bagging_freq': 7, 'min_child_samples': 61}. Best is trial 5 with value: 0.13128193045983458.\n",
      "[I 2023-10-20 18:12:40,854] Trial 4 finished with value: 0.11922394960738103 and parameters: {'max_depth': 15, 'num_iterations': 160, 'lambda_l1': 1.3959505574507426e-06, 'lambda_l2': 0.14794713050891042, 'num_leaves': 118, 'feature_fraction': 0.5672649727334674, 'bagging_fraction': 0.6758966816933256, 'bagging_freq': 2, 'min_child_samples': 98}. Best is trial 4 with value: 0.11922394960738103.\n",
      "[I 2023-10-20 18:12:41,643] Trial 17 pruned. Trial was pruned at iteration 141.\n",
      "[I 2023-10-20 18:12:43,012] Trial 24 pruned. Trial was pruned at iteration 10.\n",
      "[I 2023-10-20 18:12:44,168] Trial 3 finished with value: 0.12267610408654003 and parameters: {'max_depth': 8, 'num_iterations': 178, 'lambda_l1': 0.7846049204708782, 'lambda_l2': 8.535467901156938e-06, 'num_leaves': 118, 'feature_fraction': 0.5601606531576431, 'bagging_fraction': 0.8464065788125741, 'bagging_freq': 3, 'min_child_samples': 75}. Best is trial 4 with value: 0.11922394960738103.\n",
      "[I 2023-10-20 18:12:45,331] Trial 15 finished with value: 0.11618707644117562 and parameters: {'max_depth': 9, 'num_iterations': 195, 'lambda_l1': 0.0011142288581461467, 'lambda_l2': 3.973676859709337e-07, 'num_leaves': 29, 'feature_fraction': 0.9489841954213407, 'bagging_fraction': 0.793102434893451, 'bagging_freq': 7, 'min_child_samples': 80}. Best is trial 15 with value: 0.11618707644117562.\n",
      "[I 2023-10-20 18:12:46,391] Trial 11 finished with value: 0.13579963259399883 and parameters: {'max_depth': 15, 'num_iterations': 116, 'lambda_l1': 0.07611715071338812, 'lambda_l2': 0.2201320057091362, 'num_leaves': 160, 'feature_fraction': 0.42795040514146776, 'bagging_fraction': 0.8536342584988199, 'bagging_freq': 3, 'min_child_samples': 70}. Best is trial 15 with value: 0.11618707644117562.\n",
      "[I 2023-10-20 18:12:46,556] Trial 23 pruned. Trial was pruned at iteration 44.\n",
      "[I 2023-10-20 18:12:50,345] Trial 16 finished with value: 0.13544573330942541 and parameters: {'max_depth': 12, 'num_iterations': 109, 'lambda_l1': 1.4147281705809963e-06, 'lambda_l2': 0.6038076054535869, 'num_leaves': 186, 'feature_fraction': 0.5791433979614512, 'bagging_fraction': 0.8573957341130082, 'bagging_freq': 2, 'min_child_samples': 67}. Best is trial 15 with value: 0.11618707644117562.\n",
      "[I 2023-10-20 18:12:51,514] Trial 18 finished with value: 0.1418370033106268 and parameters: {'max_depth': 12, 'num_iterations': 92, 'lambda_l1': 1.9441159548386336e-06, 'lambda_l2': 0.1493303772029965, 'num_leaves': 177, 'feature_fraction': 0.660113829885576, 'bagging_fraction': 0.9923790222050379, 'bagging_freq': 6, 'min_child_samples': 64}. Best is trial 15 with value: 0.11618707644117562.\n",
      "[I 2023-10-20 18:12:58,490] Trial 26 pruned. Trial was pruned at iteration 112.\n",
      "[I 2023-10-20 18:13:07,333] Trial 19 pruned. Trial was pruned at iteration 157.\n",
      "[I 2023-10-20 18:13:09,610] Trial 29 finished with value: 0.11197056156371706 and parameters: {'max_depth': 10, 'num_iterations': 193, 'lambda_l1': 0.005095001606614021, 'lambda_l2': 1.5221116707488195e-08, 'num_leaves': 50, 'feature_fraction': 0.7403037087921709, 'bagging_fraction': 0.6492516524927894, 'bagging_freq': 2, 'min_child_samples': 43}. Best is trial 29 with value: 0.11197056156371706.\n",
      "[I 2023-10-20 18:13:10,009] Trial 22 pruned. Trial was pruned at iteration 141.\n",
      "[I 2023-10-20 18:13:10,513] Trial 27 pruned. Trial was pruned at iteration 141.\n",
      "[I 2023-10-20 18:13:11,003] Trial 28 finished with value: 0.109165681259967 and parameters: {'max_depth': 10, 'num_iterations': 197, 'lambda_l1': 0.00015708897675919718, 'lambda_l2': 4.749416557527707e-08, 'num_leaves': 56, 'feature_fraction': 0.7199045301990853, 'bagging_fraction': 0.6767599703172633, 'bagging_freq': 2, 'min_child_samples': 48}. Best is trial 28 with value: 0.109165681259967.\n",
      "[I 2023-10-20 18:13:11,530] Trial 21 pruned. Trial was pruned at iteration 153.\n",
      "[I 2023-10-20 18:13:12,257] Trial 25 finished with value: 0.11941655620779866 and parameters: {'max_depth': 16, 'num_iterations': 140, 'lambda_l1': 3.278336847268017e-07, 'lambda_l2': 0.2900468074120671, 'num_leaves': 91, 'feature_fraction': 0.7494103273093398, 'bagging_fraction': 0.5323300297235926, 'bagging_freq': 2, 'min_child_samples': 5}. Best is trial 28 with value: 0.109165681259967.\n",
      "[I 2023-10-20 18:13:13,451] Trial 20 finished with value: 0.12262076833055044 and parameters: {'max_depth': 16, 'num_iterations': 137, 'lambda_l1': 0.0015300970072567408, 'lambda_l2': 1.5344475586729032e-07, 'num_leaves': 170, 'feature_fraction': 0.4205336301907324, 'bagging_fraction': 0.42029862721391453, 'bagging_freq': 7, 'min_child_samples': 7}. Best is trial 28 with value: 0.109165681259967.\n",
      "INFO:dsds.fs:LightGBM tuning is not deterministic by default. Results may vary.\n",
      "INFO:dsds.fs:Recommended hyperparameters: {'max_depth': 10, 'num_iterations': 197, 'lambda_l1': 0.00015708897675919718, 'lambda_l2': 4.749416557527707e-08, 'num_leaves': 56, 'feature_fraction': 0.7199045301990853, 'bagging_fraction': 0.6767599703172633, 'bagging_freq': 2, 'min_child_samples': 48, 'verbosity': -1}\n"
     ]
    },
    {
     "name": "stdout",
     "output_type": "stream",
     "text": [
      "Best params: {'max_depth': 10, 'num_iterations': 197, 'lambda_l1': 0.00015708897675919718, 'lambda_l2': 4.749416557527707e-08, 'num_leaves': 56, 'feature_fraction': 0.7199045301990853, 'bagging_fraction': 0.6767599703172633, 'bagging_freq': 2, 'min_child_samples': 48}.\n",
      "Found at trial: 28.\n",
      "Time took: 0:00:24.446533\n"
     ]
    },
    {
     "name": "stderr",
     "output_type": "stream",
     "text": [
      "INFO:dsds.fs:Found 500 total features to select from. Proceeding to select top 50 features.\n",
      "MRMR: 100%|██████████| 50/50 [00:01<00:00, 40.09it/s]"
     ]
    },
    {
     "name": "stdout",
     "output_type": "stream",
     "text": [
      "Output is sorted in order of selection (max relevance min redundancy).\n"
     ]
    },
    {
     "name": "stderr",
     "output_type": "stream",
     "text": [
      "\n"
     ]
    }
   ],
   "source": [
    "# Model Based Feature Importance.\n",
    "# LGBM hyperparameters is automatically suggested by Optuna with 30-trial tuning.\n",
    "# More user control on this tuning process will be added in the future.\n",
    "\n",
    "f1 = fs.mrmr(\n",
    "    df,\n",
    "    \"target\",\n",
    "    50,\n",
    "    relevance=\"lgbm\",\n",
    "    mrmr_strategy=\"accum_corr\"\n",
    ")"
   ]
  },
  {
   "cell_type": "code",
   "execution_count": 6,
   "metadata": {},
   "outputs": [
    {
     "name": "stderr",
     "output_type": "stream",
     "text": [
      "INFO:dsds.fs:Running f to determine feature relevance...\n",
      "INFO:dsds.fs:Found 500 total features to select from. Proceeding to select top 50 features.\n",
      "MRMR: 100%|██████████| 50/50 [00:01<00:00, 40.91it/s]"
     ]
    },
    {
     "name": "stdout",
     "output_type": "stream",
     "text": [
      "Output is sorted in order of selection (max relevance min redundancy).\n"
     ]
    },
    {
     "name": "stderr",
     "output_type": "stream",
     "text": [
      "\n"
     ]
    }
   ],
   "source": [
    "f2 = fs.mrmr(\n",
    "    df,\n",
    "    \"target\",\n",
    "    50,\n",
    "    relevance=\"f\",\n",
    ")"
   ]
  },
  {
   "cell_type": "code",
   "execution_count": 7,
   "metadata": {},
   "outputs": [
    {
     "data": {
      "text/plain": [
       "0.19047619047619047"
      ]
     },
     "execution_count": 7,
     "metadata": {},
     "output_type": "execute_result"
    }
   ],
   "source": [
    "import dsds.metrics as me\n",
    "\n",
    "\n",
    "me.jaccard_similarity(f1, f2)"
   ]
  },
  {
   "cell_type": "code",
   "execution_count": null,
   "metadata": {},
   "outputs": [],
   "source": []
  }
 ],
 "metadata": {
  "kernelspec": {
   "display_name": ".venv",
   "language": "python",
   "name": "python3"
  },
  "language_info": {
   "codemirror_mode": {
    "name": "ipython",
    "version": 3
   },
   "file_extension": ".py",
   "mimetype": "text/x-python",
   "name": "python",
   "nbconvert_exporter": "python",
   "pygments_lexer": "ipython3",
   "version": "3.11.3"
  }
 },
 "nbformat": 4,
 "nbformat_minor": 2
}
