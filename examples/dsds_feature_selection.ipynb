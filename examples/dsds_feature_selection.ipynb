{
 "cells": [
  {
   "cell_type": "code",
   "execution_count": 1,
   "metadata": {},
   "outputs": [],
   "source": [
    "import polars as pl\n",
    "import pandas as pd\n",
    "import numpy as np\n",
    "from sklearn.datasets import make_classification\n",
    "from time import perf_counter\n",
    "import dsds.fs as fs"
   ]
  },
  {
   "cell_type": "code",
   "execution_count": 2,
   "metadata": {},
   "outputs": [],
   "source": [
    "orig_x, orig_y = make_classification(n_samples = 50_000, n_features = 500, n_informative = 60, n_redundant = 440)\n",
    "# This is a Polars dataframe. This is dsds package's favored dataframe. dsds relies on Polars heavily.\n",
    "# You must turn other dataframe formats into Polars for dsds to work.\n",
    "df = pl.from_numpy(orig_x).insert_at_idx(0, pl.Series(\"target\", orig_y)) \n",
    "# Turn it into Pandas.\n",
    "df_pd = df.to_pandas()\n",
    "target = \"target\"\n",
    "features = df.columns\n",
    "features.remove(target)"
   ]
  },
  {
   "cell_type": "code",
   "execution_count": 5,
   "metadata": {},
   "outputs": [
    {
     "name": "stderr",
     "output_type": "stream",
     "text": [
      "INFO:dsds.fs:Running lgbm to determine feature relevance...\n",
      "[I 2023-10-16 02:30:58,446] A new study created in memory with name: no-name-6413e073-a1a9-493f-a9f4-19e7a259d42e\n",
      "c:\\Users\\qtren\\Desktop\\MY\\PythonProjects\\dsds\\.venv\\Lib\\site-packages\\lightgbm\\engine.py:172: UserWarning: Found `num_iterations` in params. Will use it instead of argument\n",
      "  _log_warning(f\"Found `{alias}` in params. Will use it instead of argument\")\n",
      "[I 2023-10-16 02:31:12,680] Trial 0 finished with value: 0.13441584666706316 and parameters: {'max_depth': 5, 'num_iterations': 163, 'lambda_l1': 0.0001983796110978997, 'lambda_l2': 3.041083014918056e-08, 'num_leaves': 18, 'feature_fraction': 0.9005068136092236, 'bagging_fraction': 0.4840227048354576, 'bagging_freq': 3, 'min_child_samples': 62}. Best is trial 0 with value: 0.13441584666706316.\n",
      "[I 2023-10-16 02:31:12,865] Trial 3 finished with value: 0.13064693964665283 and parameters: {'max_depth': 6, 'num_iterations': 110, 'lambda_l1': 0.01660000124836358, 'lambda_l2': 4.6769465250198944e-06, 'num_leaves': 222, 'feature_fraction': 0.7241699886794994, 'bagging_fraction': 0.7888439559555096, 'bagging_freq': 4, 'min_child_samples': 9}. Best is trial 3 with value: 0.13064693964665283.\n",
      "[I 2023-10-16 02:31:18,977] Trial 1 finished with value: 0.2268475440729983 and parameters: {'max_depth': 3, 'num_iterations': 182, 'lambda_l1': 0.10941656303164647, 'lambda_l2': 9.404365379766543e-07, 'num_leaves': 162, 'feature_fraction': 0.5276688364385906, 'bagging_fraction': 0.9715379026949479, 'bagging_freq': 2, 'min_child_samples': 61}. Best is trial 3 with value: 0.13064693964665283.\n",
      "[I 2023-10-16 02:31:29,881] Trial 10 finished with value: 0.2562911808472755 and parameters: {'max_depth': 4, 'num_iterations': 80, 'lambda_l1': 0.02974865055853519, 'lambda_l2': 7.035415125399957, 'num_leaves': 118, 'feature_fraction': 0.4476392965918049, 'bagging_fraction': 0.6682153136833763, 'bagging_freq': 5, 'min_child_samples': 85}. Best is trial 3 with value: 0.13064693964665283.\n",
      "[I 2023-10-16 02:31:30,280] Trial 11 finished with value: 0.38333621530300344 and parameters: {'max_depth': 2, 'num_iterations': 92, 'lambda_l1': 0.03982153481200912, 'lambda_l2': 4.472124712811197e-06, 'num_leaves': 142, 'feature_fraction': 0.40917791163959555, 'bagging_fraction': 0.9849988670289456, 'bagging_freq': 2, 'min_child_samples': 70}. Best is trial 3 with value: 0.13064693964665283.\n",
      "[I 2023-10-16 02:31:30,443] Trial 12 pruned. Trial was pruned at iteration 45.\n",
      "[I 2023-10-16 02:31:31,171] Trial 8 pruned. Trial was pruned at iteration 92.\n",
      "[I 2023-10-16 02:31:39,350] Trial 2 finished with value: 0.11228880176518367 and parameters: {'max_depth': 8, 'num_iterations': 85, 'lambda_l1': 0.018667817031436912, 'lambda_l2': 1.558468495108748e-07, 'num_leaves': 121, 'feature_fraction': 0.9017994402463789, 'bagging_fraction': 0.6013948438756158, 'bagging_freq': 5, 'min_child_samples': 31}. Best is trial 2 with value: 0.11228880176518367.\n",
      "[I 2023-10-16 02:31:39,499] Trial 16 pruned. Trial was pruned at iteration 33.\n",
      "[I 2023-10-16 02:31:44,684] Trial 18 pruned. Trial was pruned at iteration 10.\n",
      "[I 2023-10-16 02:31:46,835] Trial 4 finished with value: 0.15613134270602827 and parameters: {'max_depth': 6, 'num_iterations': 81, 'lambda_l1': 4.177761640237534e-06, 'lambda_l2': 8.03456277743827e-08, 'num_leaves': 116, 'feature_fraction': 0.8562881966948483, 'bagging_fraction': 0.6203662680663281, 'bagging_freq': 1, 'min_child_samples': 12}. Best is trial 2 with value: 0.11228880176518367.\n",
      "[I 2023-10-16 02:31:47,900] Trial 6 finished with value: 0.13837477046171479 and parameters: {'max_depth': 5, 'num_iterations': 153, 'lambda_l1': 5.362202758520507, 'lambda_l2': 0.006636845821583553, 'num_leaves': 179, 'feature_fraction': 0.46121944318151387, 'bagging_fraction': 0.6748225811942993, 'bagging_freq': 3, 'min_child_samples': 25}. Best is trial 2 with value: 0.11228880176518367.\n",
      "[I 2023-10-16 02:31:49,816] Trial 7 pruned. Trial was pruned at iteration 152.\n",
      "[I 2023-10-16 02:31:50,000] Trial 14 finished with value: 0.20452781042357776 and parameters: {'max_depth': 6, 'num_iterations': 58, 'lambda_l1': 0.002962564973323484, 'lambda_l2': 6.503288087655013, 'num_leaves': 54, 'feature_fraction': 0.5629137391349711, 'bagging_fraction': 0.7769340134296545, 'bagging_freq': 5, 'min_child_samples': 59}. Best is trial 2 with value: 0.11228880176518367.\n",
      "[I 2023-10-16 02:32:00,763] Trial 17 finished with value: 0.1286077208405331 and parameters: {'max_depth': 7, 'num_iterations': 108, 'lambda_l1': 0.1662687349597169, 'lambda_l2': 3.757183692222826e-06, 'num_leaves': 38, 'feature_fraction': 0.6784446159348794, 'bagging_fraction': 0.810701441275913, 'bagging_freq': 3, 'min_child_samples': 77}. Best is trial 2 with value: 0.11228880176518367.\n",
      "[I 2023-10-16 02:32:09,180] Trial 19 finished with value: 0.13109216432867551 and parameters: {'max_depth': 5, 'num_iterations': 164, 'lambda_l1': 5.416729145012286e-05, 'lambda_l2': 8.015145992846621, 'num_leaves': 108, 'feature_fraction': 0.6430565939051933, 'bagging_fraction': 0.8186113671131494, 'bagging_freq': 2, 'min_child_samples': 17}. Best is trial 2 with value: 0.11228880176518367.\n",
      "[I 2023-10-16 02:32:09,659] Trial 15 finished with value: 0.11750621948997662 and parameters: {'max_depth': 9, 'num_iterations': 90, 'lambda_l1': 6.562402557729844e-07, 'lambda_l2': 0.022241952649059836, 'num_leaves': 69, 'feature_fraction': 0.42680958203440744, 'bagging_fraction': 0.7665108363133006, 'bagging_freq': 3, 'min_child_samples': 48}. Best is trial 2 with value: 0.11228880176518367.\n",
      "[I 2023-10-16 02:32:12,748] Trial 9 finished with value: 0.09353115528804426 and parameters: {'max_depth': 6, 'num_iterations': 182, 'lambda_l1': 2.119417083944231e-05, 'lambda_l2': 0.0005081788697188506, 'num_leaves': 172, 'feature_fraction': 0.8541114606937279, 'bagging_fraction': 0.866616896633573, 'bagging_freq': 6, 'min_child_samples': 24}. Best is trial 9 with value: 0.09353115528804426.\n",
      "[I 2023-10-16 02:32:14,722] Trial 5 finished with value: 0.07421287322617831 and parameters: {'max_depth': 10, 'num_iterations': 189, 'lambda_l1': 1.761052450245378e-05, 'lambda_l2': 2.5850398113252432e-08, 'num_leaves': 44, 'feature_fraction': 0.46761982207385555, 'bagging_fraction': 0.946657044698849, 'bagging_freq': 4, 'min_child_samples': 47}. Best is trial 5 with value: 0.07421287322617831.\n",
      "[I 2023-10-16 02:32:18,671] Trial 20 finished with value: 0.15381631376383667 and parameters: {'max_depth': 14, 'num_iterations': 60, 'lambda_l1': 6.054018554806963, 'lambda_l2': 0.0002340164447799065, 'num_leaves': 88, 'feature_fraction': 0.9342272967306695, 'bagging_fraction': 0.5999510919627736, 'bagging_freq': 7, 'min_child_samples': 26}. Best is trial 5 with value: 0.07421287322617831.\n",
      "[I 2023-10-16 02:32:56,124] Trial 25 finished with value: 0.08610558464921651 and parameters: {'max_depth': 9, 'num_iterations': 131, 'lambda_l1': 4.878423368181815, 'lambda_l2': 8.129948333563204e-05, 'num_leaves': 80, 'feature_fraction': 0.9866972991444578, 'bagging_fraction': 0.860748307887352, 'bagging_freq': 7, 'min_child_samples': 32}. Best is trial 5 with value: 0.07421287322617831.\n",
      "[I 2023-10-16 02:32:59,117] Trial 22 finished with value: 0.09471071460455799 and parameters: {'max_depth': 9, 'num_iterations': 115, 'lambda_l1': 7.481973652103527, 'lambda_l2': 2.2276971586712825e-05, 'num_leaves': 251, 'feature_fraction': 0.9841814321350879, 'bagging_fraction': 0.8123632866553632, 'bagging_freq': 7, 'min_child_samples': 33}. Best is trial 5 with value: 0.07421287322617831.\n",
      "[I 2023-10-16 02:33:01,576] Trial 26 finished with value: 0.08079548139472015 and parameters: {'max_depth': 9, 'num_iterations': 132, 'lambda_l1': 1.6032256681859565, 'lambda_l2': 0.0001186748184471291, 'num_leaves': 74, 'feature_fraction': 0.9815634377618593, 'bagging_fraction': 0.5781798783083313, 'bagging_freq': 7, 'min_child_samples': 36}. Best is trial 5 with value: 0.07421287322617831.\n",
      "[I 2023-10-16 02:33:07,755] Trial 13 finished with value: 0.056804927116138174 and parameters: {'max_depth': 13, 'num_iterations': 194, 'lambda_l1': 9.297739299900537e-08, 'lambda_l2': 0.000298387954914091, 'num_leaves': 125, 'feature_fraction': 0.8035751518124656, 'bagging_fraction': 0.44616390164319486, 'bagging_freq': 1, 'min_child_samples': 85}. Best is trial 13 with value: 0.056804927116138174.\n",
      "[I 2023-10-16 02:33:10,641] Trial 27 finished with value: 0.07201578949800215 and parameters: {'max_depth': 12, 'num_iterations': 131, 'lambda_l1': 8.343745507437673e-06, 'lambda_l2': 0.00023057198562839937, 'num_leaves': 86, 'feature_fraction': 0.9888903450032906, 'bagging_fraction': 0.5612548064855638, 'bagging_freq': 7, 'min_child_samples': 40}. Best is trial 13 with value: 0.056804927116138174.\n",
      "[I 2023-10-16 02:33:11,516] Trial 24 finished with value: 0.0805705583712148 and parameters: {'max_depth': 9, 'num_iterations': 119, 'lambda_l1': 1.8776492053027372, 'lambda_l2': 3.6794970519510705e-05, 'num_leaves': 249, 'feature_fraction': 0.973001611698953, 'bagging_fraction': 0.7792990962339902, 'bagging_freq': 7, 'min_child_samples': 36}. Best is trial 13 with value: 0.056804927116138174.\n",
      "[I 2023-10-16 02:33:14,506] Trial 23 finished with value: 0.07462169621067792 and parameters: {'max_depth': 9, 'num_iterations': 119, 'lambda_l1': 4.638692379739086e-05, 'lambda_l2': 3.3606882280257326e-05, 'num_leaves': 250, 'feature_fraction': 0.9724050715106719, 'bagging_fraction': 0.77721395126564, 'bagging_freq': 7, 'min_child_samples': 33}. Best is trial 13 with value: 0.056804927116138174.\n",
      "[I 2023-10-16 02:33:14,694] Trial 21 finished with value: 0.07809638394108741 and parameters: {'max_depth': 9, 'num_iterations': 119, 'lambda_l1': 1.507386474895989, 'lambda_l2': 2.3299323468712676e-05, 'num_leaves': 252, 'feature_fraction': 0.9628098986607866, 'bagging_fraction': 0.7880397994688845, 'bagging_freq': 7, 'min_child_samples': 16}. Best is trial 13 with value: 0.056804927116138174.\n",
      "[I 2023-10-16 02:33:27,177] Trial 28 finished with value: 0.06299030874148025 and parameters: {'max_depth': 13, 'num_iterations': 133, 'lambda_l1': 2.181301326045042e-05, 'lambda_l2': 0.00014524233168942906, 'num_leaves': 189, 'feature_fraction': 0.9830379515835661, 'bagging_fraction': 0.8881272579410446, 'bagging_freq': 7, 'min_child_samples': 32}. Best is trial 13 with value: 0.056804927116138174.\n",
      "[I 2023-10-16 02:33:29,929] Trial 29 finished with value: 0.06193769844419407 and parameters: {'max_depth': 12, 'num_iterations': 139, 'lambda_l1': 1.7898191777930976e-05, 'lambda_l2': 0.00021014770705853124, 'num_leaves': 255, 'feature_fraction': 0.7741016204257163, 'bagging_fraction': 0.8836630517299169, 'bagging_freq': 7, 'min_child_samples': 41}. Best is trial 13 with value: 0.056804927116138174.\n",
      "INFO:dsds.fs:LightGBM tuning is not deterministic by default. Results may vary.\n",
      "INFO:dsds.fs:Recommended hyperparameters: {'max_depth': 13, 'num_iterations': 194, 'lambda_l1': 9.297739299900537e-08, 'lambda_l2': 0.000298387954914091, 'num_leaves': 125, 'feature_fraction': 0.8035751518124656, 'bagging_fraction': 0.44616390164319486, 'bagging_freq': 1, 'min_child_samples': 85}\n"
     ]
    },
    {
     "name": "stdout",
     "output_type": "stream",
     "text": [
      "Best trial: FrozenTrial(number=13, state=1, values=[0.056804927116138174], datetime_start=datetime.datetime(2023, 10, 16, 2, 31, 19, 162552), datetime_complete=datetime.datetime(2023, 10, 16, 2, 33, 7, 755552), params={'max_depth': 13, 'num_iterations': 194, 'lambda_l1': 9.297739299900537e-08, 'lambda_l2': 0.000298387954914091, 'num_leaves': 125, 'feature_fraction': 0.8035751518124656, 'bagging_fraction': 0.44616390164319486, 'bagging_freq': 1, 'min_child_samples': 85}, user_attrs={}, system_attrs={}, intermediate_values={0: 0.653016007274746, 1: 0.6175564153723667, 2: 0.5846464014793729, 3: 0.5556292379692533, 4: 0.5298899579881154, 5: 0.5063739419653597, 6: 0.4857057164488975, 7: 0.46613448509237926, 8: 0.4466016349521028, 9: 0.4283005407534769, 10: 0.41184150465710206, 11: 0.3966881033942841, 12: 0.38263593485960706, 13: 0.369578828719885, 14: 0.3571040371091509, 15: 0.34510605921818627, 16: 0.3341457347279029, 17: 0.3232401052516767, 18: 0.31356291461771085, 19: 0.30394293892532875, 20: 0.2950429133062728, 21: 0.2872542768257892, 22: 0.2787673639218952, 23: 0.27130416591338585, 24: 0.2640186267501713, 25: 0.2569243357082165, 26: 0.2504832599467509, 27: 0.24382019736465618, 28: 0.23773801445315457, 29: 0.23210432765488181, 30: 0.22657787099081164, 31: 0.2210883158280035, 32: 0.21607833806056082, 33: 0.21152334551033666, 34: 0.20622218747796417, 35: 0.20200144771945072, 36: 0.19746286478850372, 37: 0.19358964445064464, 38: 0.18982410066560562, 39: 0.18605227728169887, 40: 0.18203782358221032, 41: 0.17826068798035935, 42: 0.17484236149481894, 43: 0.17163393976592742, 44: 0.1686454130684825, 45: 0.1651762060839128, 46: 0.16259312695113168, 47: 0.1595866399941233, 48: 0.15729815638535763, 49: 0.15443663743268032, 50: 0.15149825308611994, 51: 0.14929038791845983, 52: 0.14693812534407108, 53: 0.14461929609657176, 54: 0.14254570555628912, 55: 0.14041513098586222, 56: 0.13806929145324018, 57: 0.13577321030214895, 58: 0.13381670129392464, 59: 0.1319210520419721, 60: 0.12976904920654614, 61: 0.12805628503979902, 62: 0.12606769024312553, 63: 0.12405994981803345, 64: 0.12227430747624478, 65: 0.12059211742191071, 66: 0.11867800680203158, 67: 0.11706486823857447, 68: 0.11549814047112757, 69: 0.11413350823842418, 70: 0.11268475038163539, 71: 0.11133480588442128, 72: 0.10999781786245308, 73: 0.1085030609218808, 74: 0.10732464725028519, 75: 0.10587677175406948, 76: 0.1046461204732211, 77: 0.10384364329942888, 78: 0.10269705168130447, 79: 0.10153584924553798, 80: 0.10080053400465537, 81: 0.09985714779083442, 82: 0.09896458247943034, 83: 0.09787661540231717, 84: 0.09705809000239582, 85: 0.09640766713121093, 86: 0.09545960168400132, 87: 0.09443617635519984, 88: 0.09344539428441113, 89: 0.09243190434080836, 90: 0.09145720305672474, 91: 0.09048572317793425, 92: 0.0896652191795352, 93: 0.08872470606864875, 94: 0.08790318826810775, 95: 0.08703588382242707, 96: 0.08618470704886849, 97: 0.08553338356529691, 98: 0.0848229730566618, 99: 0.08400064018668643, 100: 0.08327838786533051, 101: 0.08254038587786659, 102: 0.08194133568395971, 103: 0.08123035473939691, 104: 0.08068231178008295, 105: 0.08006266825850117, 106: 0.07953797676951123, 107: 0.0790774582887863, 108: 0.07858950350818156, 109: 0.07791910284900938, 110: 0.07731401726468372, 111: 0.07684818787052365, 112: 0.07637396572577466, 113: 0.07607274065110692, 114: 0.07560730889032588, 115: 0.07493994048866323, 116: 0.07441553387370521, 117: 0.07393056658343998, 118: 0.0734217177880235, 119: 0.07299229246198068, 120: 0.0726756425789832, 121: 0.07241037098751621, 122: 0.07210818793996626, 123: 0.07182990647221661, 124: 0.07154928842346019, 125: 0.071154862421268, 126: 0.07093410595439117, 127: 0.07061135946514159, 128: 0.07019713083763587, 129: 0.06989140080856028, 130: 0.06953318772747182, 131: 0.06926711370607236, 132: 0.0689583976218235, 133: 0.06853482931774593, 134: 0.06822655105150392, 135: 0.06792666477182527, 136: 0.06769628675338712, 137: 0.06740767562352441, 138: 0.06701786687317209, 139: 0.06685892230974468, 140: 0.06664988977056689, 141: 0.06635875184514461, 142: 0.06608024464380048, 143: 0.06580730847126764, 144: 0.06563105263392452, 145: 0.06524554291887366, 146: 0.06500359702587993, 147: 0.06482556182984756, 148: 0.06456568552052826, 149: 0.06445280027871382, 150: 0.06416525615858105, 151: 0.06382230657954109, 152: 0.06371857544175091, 153: 0.06353213712482451, 154: 0.06329079927739577, 155: 0.06314433543030172, 156: 0.06288502572645029, 157: 0.06264666858928644, 158: 0.06236071867503487, 159: 0.0621216597248537, 160: 0.06189471413783118, 161: 0.06175990018717482, 162: 0.06165558329383628, 163: 0.061391646422038405, 164: 0.06116004148744269, 165: 0.061055354515789875, 166: 0.060848293835023534, 167: 0.06063612895023149, 168: 0.06045926631100317, 169: 0.0602496180027938, 170: 0.06002275343375809, 171: 0.05985320663756272, 172: 0.05961842071147869, 173: 0.059500799176925176, 174: 0.05921829510642032, 175: 0.059154897963000004, 176: 0.05907737734138219, 177: 0.058791393570397046, 178: 0.05863831230021967, 179: 0.058564814198825, 180: 0.058458204110879375, 181: 0.05830484761782653, 182: 0.05825228886611472, 183: 0.05803580348485192, 184: 0.057894737495738244, 185: 0.05785792463479407, 186: 0.05782154402036141, 187: 0.057755883674119615, 188: 0.057641404051229736, 189: 0.05752668827961121, 190: 0.057357225217565436, 191: 0.0572349684121376, 192: 0.057011085194169975, 193: 0.05680492711613818}, distributions={'max_depth': IntDistribution(high=16, log=False, low=2, step=1), 'num_iterations': IntDistribution(high=200, log=False, low=50, step=1), 'lambda_l1': FloatDistribution(high=10.0, log=True, low=1e-08, step=None), 'lambda_l2': FloatDistribution(high=10.0, log=True, low=1e-08, step=None), 'num_leaves': IntDistribution(high=256, log=False, low=2, step=1), 'feature_fraction': FloatDistribution(high=1.0, log=False, low=0.4, step=None), 'bagging_fraction': FloatDistribution(high=1.0, log=False, low=0.4, step=None), 'bagging_freq': IntDistribution(high=7, log=False, low=1, step=1), 'min_child_samples': IntDistribution(high=100, log=False, low=5, step=1)}, trial_id=13, value=None), Value: 0.056804927116138174\n",
      "[LightGBM] [Info] Auto-choosing col-wise multi-threading, the overhead of testing was 0.093300 seconds.\n",
      "You can set `force_col_wise=true` to remove the overhead.\n",
      "[LightGBM] [Info] Total Bins 127500\n",
      "[LightGBM] [Info] Number of data points in the train set: 50000, number of used features: 500\n",
      "[LightGBM] [Info] Start training from score 0.500660\n",
      "[LightGBM] [Warning] No further splits with positive gain, best gain: -inf\n",
      "[LightGBM] [Warning] No further splits with positive gain, best gain: -inf\n",
      "[LightGBM] [Warning] No further splits with positive gain, best gain: -inf\n",
      "[LightGBM] [Warning] No further splits with positive gain, best gain: -inf\n",
      "[LightGBM] [Warning] No further splits with positive gain, best gain: -inf\n",
      "[LightGBM] [Warning] No further splits with positive gain, best gain: -inf\n",
      "[LightGBM] [Warning] No further splits with positive gain, best gain: -inf\n",
      "[LightGBM] [Warning] No further splits with positive gain, best gain: -inf\n",
      "[LightGBM] [Warning] No further splits with positive gain, best gain: -inf\n",
      "[LightGBM] [Warning] No further splits with positive gain, best gain: -inf\n",
      "[LightGBM] [Warning] No further splits with positive gain, best gain: -inf\n",
      "[LightGBM] [Warning] No further splits with positive gain, best gain: -inf\n",
      "[LightGBM] [Warning] No further splits with positive gain, best gain: -inf\n",
      "[LightGBM] [Warning] No further splits with positive gain, best gain: -inf\n",
      "[LightGBM] [Warning] No further splits with positive gain, best gain: -inf\n",
      "[LightGBM] [Warning] No further splits with positive gain, best gain: -inf\n",
      "[LightGBM] [Warning] No further splits with positive gain, best gain: -inf\n",
      "[LightGBM] [Warning] No further splits with positive gain, best gain: -inf\n",
      "[LightGBM] [Warning] No further splits with positive gain, best gain: -inf\n",
      "[LightGBM] [Warning] No further splits with positive gain, best gain: -inf\n",
      "[LightGBM] [Warning] No further splits with positive gain, best gain: -inf\n",
      "[LightGBM] [Warning] No further splits with positive gain, best gain: -inf\n"
     ]
    },
    {
     "name": "stderr",
     "output_type": "stream",
     "text": [
      "INFO:dsds.fs:Found 500 total features to select from. Proceeding to select top 50 features.\n",
      "MRMR, lgbm: 100%|██████████| 50/50 [00:01<00:00, 38.50it/s]"
     ]
    },
    {
     "name": "stdout",
     "output_type": "stream",
     "text": [
      "Output is sorted in order of selection (max relevance min redundancy).\n"
     ]
    },
    {
     "name": "stderr",
     "output_type": "stream",
     "text": [
      "\n"
     ]
    }
   ],
   "source": [
    "# Model Based Feature Importance.\n",
    "# LGBM hyperparameters is automatically suggested by Optuna with 30-trial tuning.\n",
    "# More user control on this tuning process will be added in the future.\n",
    "\n",
    "f1 = fs.mrmr(\n",
    "    df,\n",
    "    \"target\",\n",
    "    50,\n",
    "    strategy=\"lgbm\"\n",
    ")"
   ]
  },
  {
   "cell_type": "code",
   "execution_count": 6,
   "metadata": {},
   "outputs": [
    {
     "name": "stderr",
     "output_type": "stream",
     "text": [
      "INFO:dsds.fs:Running f to determine feature relevance...\n",
      "INFO:dsds.fs:Found 500 total features to select from. Proceeding to select top 50 features.\n",
      "MRMR, f: 100%|██████████| 50/50 [00:01<00:00, 39.78it/s]"
     ]
    },
    {
     "name": "stdout",
     "output_type": "stream",
     "text": [
      "Output is sorted in order of selection (max relevance min redundancy).\n"
     ]
    },
    {
     "name": "stderr",
     "output_type": "stream",
     "text": [
      "\n"
     ]
    }
   ],
   "source": [
    "f2 = fs.mrmr(\n",
    "    df,\n",
    "    \"target\",\n",
    "    50,\n",
    "    strategy=\"f\"\n",
    ")"
   ]
  },
  {
   "cell_type": "code",
   "execution_count": 7,
   "metadata": {},
   "outputs": [
    {
     "data": {
      "text/plain": [
       "0.12359550561797752"
      ]
     },
     "execution_count": 7,
     "metadata": {},
     "output_type": "execute_result"
    }
   ],
   "source": [
    "import dsds.metrics as me\n",
    "\n",
    "\n",
    "me.jaccard_similarity(f1, f2, expected_dtype=\"str\")"
   ]
  },
  {
   "cell_type": "code",
   "execution_count": null,
   "metadata": {},
   "outputs": [],
   "source": []
  }
 ],
 "metadata": {
  "kernelspec": {
   "display_name": ".venv",
   "language": "python",
   "name": "python3"
  },
  "language_info": {
   "codemirror_mode": {
    "name": "ipython",
    "version": 3
   },
   "file_extension": ".py",
   "mimetype": "text/x-python",
   "name": "python",
   "nbconvert_exporter": "python",
   "pygments_lexer": "ipython3",
   "version": "3.11.3"
  }
 },
 "nbformat": 4,
 "nbformat_minor": 2
}
