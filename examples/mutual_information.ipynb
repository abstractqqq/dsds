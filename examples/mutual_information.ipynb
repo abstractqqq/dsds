{
 "cells": [
  {
   "cell_type": "code",
   "execution_count": 1,
   "metadata": {},
   "outputs": [],
   "source": [
    "import polars as pl\n",
    "import numpy as np\n",
    "from scipy.special import psi\n",
    "from sklearn.datasets import make_classification\n",
    "from typing import Any\n",
    "from time import perf_counter"
   ]
  },
  {
   "cell_type": "code",
   "execution_count": 2,
   "metadata": {},
   "outputs": [],
   "source": [
    "orig_x, orig_y = make_classification(n_samples = 500_000, n_features = 50, n_informative = 25, n_redundant = 25)\n",
    "df = pl.from_numpy(orig_x).insert_at_idx(0, pl.Series(\"target\", orig_y))\n",
    "target = \"target\"\n",
    "features = df.columns\n",
    "features.remove(target)"
   ]
  },
  {
   "cell_type": "code",
   "execution_count": 3,
   "metadata": {},
   "outputs": [
    {
     "data": {
      "text/html": [
       "<div><style>\n",
       ".dataframe > thead > tr > th,\n",
       ".dataframe > tbody > tr > td {\n",
       "  text-align: right;\n",
       "}\n",
       "</style>\n",
       "<small>shape: (5, 51)</small><table border=\"1\" class=\"dataframe\"><thead><tr><th>target</th><th>column_0</th><th>column_1</th><th>column_2</th><th>column_3</th><th>column_4</th><th>column_5</th><th>column_6</th><th>column_7</th><th>column_8</th><th>column_9</th><th>column_10</th><th>column_11</th><th>column_12</th><th>column_13</th><th>column_14</th><th>column_15</th><th>column_16</th><th>column_17</th><th>column_18</th><th>column_19</th><th>column_20</th><th>column_21</th><th>column_22</th><th>column_23</th><th>column_24</th><th>column_25</th><th>column_26</th><th>column_27</th><th>column_28</th><th>column_29</th><th>column_30</th><th>column_31</th><th>column_32</th><th>column_33</th><th>column_34</th><th>column_35</th><th>column_36</th><th>column_37</th><th>column_38</th><th>column_39</th><th>column_40</th><th>column_41</th><th>column_42</th><th>column_43</th><th>column_44</th><th>column_45</th><th>column_46</th><th>column_47</th><th>column_48</th><th>column_49</th></tr><tr><td>i32</td><td>f64</td><td>f64</td><td>f64</td><td>f64</td><td>f64</td><td>f64</td><td>f64</td><td>f64</td><td>f64</td><td>f64</td><td>f64</td><td>f64</td><td>f64</td><td>f64</td><td>f64</td><td>f64</td><td>f64</td><td>f64</td><td>f64</td><td>f64</td><td>f64</td><td>f64</td><td>f64</td><td>f64</td><td>f64</td><td>f64</td><td>f64</td><td>f64</td><td>f64</td><td>f64</td><td>f64</td><td>f64</td><td>f64</td><td>f64</td><td>f64</td><td>f64</td><td>f64</td><td>f64</td><td>f64</td><td>f64</td><td>f64</td><td>f64</td><td>f64</td><td>f64</td><td>f64</td><td>f64</td><td>f64</td><td>f64</td><td>f64</td><td>f64</td></tr></thead><tbody><tr><td>0</td><td>10.173785</td><td>-1.11858</td><td>2.155507</td><td>0.705208</td><td>6.955368</td><td>-2.769479</td><td>1.916058</td><td>-0.70979</td><td>-1.153821</td><td>2.300933</td><td>6.982348</td><td>2.688324</td><td>-3.18071</td><td>-2.992516</td><td>2.365757</td><td>-1.400715</td><td>-11.352503</td><td>13.143104</td><td>1.959231</td><td>-3.06955</td><td>-3.204233</td><td>5.837659</td><td>1.898966</td><td>-4.553542</td><td>-2.586111</td><td>1.231594</td><td>-0.810111</td><td>-4.464101</td><td>-1.488461</td><td>1.246076</td><td>2.656636</td><td>-1.438644</td><td>-1.713019</td><td>-2.916709</td><td>0.690035</td><td>-6.329929</td><td>-2.570733</td><td>1.344588</td><td>-5.684562</td><td>2.441975</td><td>3.53397</td><td>4.15454</td><td>3.807935</td><td>-7.83511</td><td>-0.1737</td><td>0.029458</td><td>13.156869</td><td>-1.861721</td><td>1.201845</td><td>2.842081</td></tr><tr><td>1</td><td>12.517522</td><td>2.62133</td><td>-4.715827</td><td>-2.918456</td><td>1.478878</td><td>3.147028</td><td>4.472198</td><td>-0.305051</td><td>1.162969</td><td>1.964562</td><td>10.099554</td><td>9.664954</td><td>3.252484</td><td>3.562439</td><td>-0.325829</td><td>1.287543</td><td>6.643386</td><td>-0.593751</td><td>-3.085627</td><td>5.535441</td><td>1.607828</td><td>3.434669</td><td>2.060355</td><td>-0.432489</td><td>-1.704382</td><td>4.483131</td><td>-1.032465</td><td>-0.586128</td><td>1.005275</td><td>-2.744743</td><td>2.841304</td><td>-6.977464</td><td>5.082543</td><td>0.745597</td><td>1.154642</td><td>-13.225422</td><td>-1.947237</td><td>-6.261176</td><td>-7.226839</td><td>-1.475961</td><td>-3.422894</td><td>-0.927674</td><td>10.434821</td><td>-13.423115</td><td>-0.984904</td><td>-2.188109</td><td>12.963371</td><td>-4.743332</td><td>1.539239</td><td>3.107079</td></tr><tr><td>1</td><td>-0.498966</td><td>-1.398276</td><td>-1.507174</td><td>3.046764</td><td>-0.821387</td><td>2.052285</td><td>-3.418228</td><td>-5.098557</td><td>3.863358</td><td>2.564739</td><td>-6.316938</td><td>-13.855033</td><td>21.36269</td><td>-1.248535</td><td>1.495847</td><td>4.409152</td><td>-13.877812</td><td>6.433902</td><td>4.711542</td><td>1.888253</td><td>-0.567898</td><td>-2.427339</td><td>-4.35135</td><td>-0.939048</td><td>1.784105</td><td>9.99086</td><td>0.520372</td><td>-1.255366</td><td>-0.726969</td><td>3.970325</td><td>-12.786957</td><td>-9.946054</td><td>0.19274</td><td>-4.839901</td><td>3.633465</td><td>-0.970085</td><td>0.174188</td><td>5.665581</td><td>0.429374</td><td>0.793187</td><td>5.14469</td><td>2.383533</td><td>-18.51138</td><td>-4.672322</td><td>-0.551774</td><td>3.287602</td><td>-4.612326</td><td>12.16957</td><td>0.62844</td><td>0.852981</td></tr><tr><td>0</td><td>-2.883206</td><td>-3.544955</td><td>-14.273722</td><td>-5.700572</td><td>10.087774</td><td>-2.629106</td><td>-3.659399</td><td>3.702356</td><td>-2.403011</td><td>2.572887</td><td>-3.544185</td><td>10.276686</td><td>-1.927202</td><td>-5.888428</td><td>2.641902</td><td>0.024858</td><td>-2.438679</td><td>-8.565123</td><td>9.605598</td><td>-11.864494</td><td>4.54011</td><td>-2.344376</td><td>-5.273097</td><td>4.230643</td><td>-1.16345</td><td>10.409231</td><td>8.348659</td><td>0.705584</td><td>0.606112</td><td>1.915426</td><td>-5.307459</td><td>15.684028</td><td>-2.805902</td><td>2.769533</td><td>0.219508</td><td>15.556003</td><td>-5.997866</td><td>-0.057441</td><td>2.885738</td><td>3.376325</td><td>1.664669</td><td>5.846563</td><td>3.016313</td><td>-1.543464</td><td>2.336222</td><td>-4.04703</td><td>0.274011</td><td>-8.022961</td><td>-0.022842</td><td>-2.444585</td></tr><tr><td>0</td><td>7.253515</td><td>3.33296</td><td>-19.528059</td><td>0.638773</td><td>-0.653934</td><td>0.518281</td><td>-1.538442</td><td>-1.678042</td><td>2.463945</td><td>4.623361</td><td>-5.145615</td><td>-5.243384</td><td>0.61639</td><td>0.394251</td><td>0.754972</td><td>1.540715</td><td>0.387187</td><td>11.243432</td><td>5.114622</td><td>8.131682</td><td>-3.819916</td><td>2.008766</td><td>7.637746</td><td>-3.567222</td><td>-0.571466</td><td>5.523208</td><td>-2.618538</td><td>-4.292979</td><td>-3.791118</td><td>-0.979461</td><td>6.105241</td><td>-2.656769</td><td>-1.887843</td><td>0.335487</td><td>-1.460903</td><td>-3.211794</td><td>-1.238782</td><td>-9.253201</td><td>-5.382416</td><td>-2.76306</td><td>0.728382</td><td>1.567115</td><td>-9.062302</td><td>-11.44736</td><td>-1.262877</td><td>-2.525246</td><td>2.986035</td><td>-5.638249</td><td>5.659785</td><td>-0.81967</td></tr></tbody></table></div>"
      ],
      "text/plain": [
       "shape: (5, 51)\n",
       "┌────────┬───────────┬───────────┬────────────┬───┬───────────┬───────────┬───────────┬───────────┐\n",
       "│ target ┆ column_0  ┆ column_1  ┆ column_2   ┆ … ┆ column_46 ┆ column_47 ┆ column_48 ┆ column_49 │\n",
       "│ ---    ┆ ---       ┆ ---       ┆ ---        ┆   ┆ ---       ┆ ---       ┆ ---       ┆ ---       │\n",
       "│ i32    ┆ f64       ┆ f64       ┆ f64        ┆   ┆ f64       ┆ f64       ┆ f64       ┆ f64       │\n",
       "╞════════╪═══════════╪═══════════╪════════════╪═══╪═══════════╪═══════════╪═══════════╪═══════════╡\n",
       "│ 0      ┆ 10.173785 ┆ -1.11858  ┆ 2.155507   ┆ … ┆ 13.156869 ┆ -1.861721 ┆ 1.201845  ┆ 2.842081  │\n",
       "│ 1      ┆ 12.517522 ┆ 2.62133   ┆ -4.715827  ┆ … ┆ 12.963371 ┆ -4.743332 ┆ 1.539239  ┆ 3.107079  │\n",
       "│ 1      ┆ -0.498966 ┆ -1.398276 ┆ -1.507174  ┆ … ┆ -4.612326 ┆ 12.16957  ┆ 0.62844   ┆ 0.852981  │\n",
       "│ 0      ┆ -2.883206 ┆ -3.544955 ┆ -14.273722 ┆ … ┆ 0.274011  ┆ -8.022961 ┆ -0.022842 ┆ -2.444585 │\n",
       "│ 0      ┆ 7.253515  ┆ 3.33296   ┆ -19.528059 ┆ … ┆ 2.986035  ┆ -5.638249 ┆ 5.659785  ┆ -0.81967  │\n",
       "└────────┴───────────┴───────────┴────────────┴───┴───────────┴───────────┴───────────┴───────────┘"
      ]
     },
     "execution_count": 3,
     "metadata": {},
     "output_type": "execute_result"
    }
   ],
   "source": [
    "df.head() "
   ]
  },
  {
   "cell_type": "code",
   "execution_count": 4,
   "metadata": {},
   "outputs": [],
   "source": [
    "from scipy.spatial import KDTree\n",
    "\n",
    "def estimate_mi_optimized(df:pl.DataFrame, cols:list[str], target:str, k=3, random_state:int=42):\n",
    "\n",
    "    n = len(df)\n",
    "    rng = np.random.default_rng(random_state)\n",
    "\n",
    "    target_col = df.get_column(target).to_numpy().ravel()\n",
    "    unique_targets = np.unique(target_col)\n",
    "    # parts = {t:df.filter((pl.col(target) == t)) for t in df[target].unique()}\n",
    "    # To do: If any part size < k, abort. This gets rid of \"points with unique labels\" issue too.\n",
    "    all_masks = {}\n",
    "    for t in unique_targets:\n",
    "        all_masks[t] = target_col == t\n",
    "        if len(df.filter(pl.col(target) == t)) <= k:\n",
    "            raise ValueError(f\"The target class {t} must have more than {k} values in the dataset.\")        \n",
    "\n",
    "    estimates = []\n",
    "    psi_n_and_k = psi(n) + psi(k)\n",
    "    for col in cols:\n",
    "        c = df.get_column(col).to_numpy().reshape(-1,1)\n",
    "        c = c + (1e-10 * np.mean(c) * rng.standard_normal(size=c.shape))\n",
    "        radius = np.empty(n)\n",
    "        label_counts = np.empty(n)\n",
    "        for t in unique_targets:\n",
    "            mask = all_masks[t]\n",
    "            c_masked = c[mask]\n",
    "            kd1 = KDTree(data=c_masked)\n",
    "            # dd = distances from the points the the k nearest points. +1 because this starts from 0. It is 1 off from sklearn's kdtree.\n",
    "            dd, _ = kd1.query(c_masked, k = k + 1, workers=-1)\n",
    "            radius[mask] = np.nextafter(dd[:, -1], 0)\n",
    "            label_counts[mask] = np.sum(mask)\n",
    "\n",
    "        kd2 = KDTree(data=c) \n",
    "        m_all = kd2.query_ball_point(c, r = radius, return_length=True, workers=-1)\n",
    "        estimates.append(\n",
    "            max(0, psi_n_and_k - np.mean(psi(label_counts) + psi(m_all)))\n",
    "        )\n",
    "\n",
    "    output = pl.from_records([cols, estimates], schema=[\"feature\", \"estimated_mi\"])\n",
    "    return output\n",
    "        "
   ]
  },
  {
   "cell_type": "code",
   "execution_count": 5,
   "metadata": {},
   "outputs": [
    {
     "name": "stdout",
     "output_type": "stream",
     "text": [
      "shape: (50, 2)\n",
      "┌───────────┬──────────────┐\n",
      "│ feature   ┆ estimated_mi │\n",
      "│ ---       ┆ ---          │\n",
      "│ str       ┆ f64          │\n",
      "╞═══════════╪══════════════╡\n",
      "│ column_4  ┆ 0.112849     │\n",
      "│ column_37 ┆ 0.072472     │\n",
      "│ column_43 ┆ 0.069499     │\n",
      "│ column_6  ┆ 0.062726     │\n",
      "│ …         ┆ …            │\n",
      "│ column_22 ┆ 0.001065     │\n",
      "│ column_44 ┆ 0.00042      │\n",
      "│ column_14 ┆ 0.000098     │\n",
      "│ column_32 ┆ 0.000064     │\n",
      "└───────────┴──────────────┘\n",
      "Spent 23.70s.\n"
     ]
    }
   ],
   "source": [
    "start = perf_counter()\n",
    "print(estimate_mi_optimized(df, target=target, cols=features).sort(\"estimated_mi\",  descending=True))\n",
    "end = perf_counter()\n",
    "print(f\"Spent {end-start:.2f}s.\")\n"
   ]
  },
  {
   "cell_type": "code",
   "execution_count": 6,
   "metadata": {},
   "outputs": [],
   "source": [
    "from sklearn.feature_selection import mutual_info_classif\n",
    "\n",
    "def estimate_mi_sklearn(df:pl.DataFrame, cols:list[str], target:str, k=3, random_state:int=42):\n",
    "    mi_estimates = mutual_info_classif(df[cols], df[target]\n",
    "                        , n_neighbors=k, random_state=random_state, discrete_features=False)\n",
    "\n",
    "    return pl.from_records([cols, mi_estimates], schema=[\"feature\", \"estimated_mi\"]).sort(\"estimated_mi\", descending=True)"
   ]
  },
  {
   "cell_type": "code",
   "execution_count": 7,
   "metadata": {},
   "outputs": [
    {
     "name": "stdout",
     "output_type": "stream",
     "text": [
      "shape: (50, 2)\n",
      "┌───────────┬──────────────┐\n",
      "│ feature   ┆ estimated_mi │\n",
      "│ ---       ┆ ---          │\n",
      "│ str       ┆ f64          │\n",
      "╞═══════════╪══════════════╡\n",
      "│ column_4  ┆ 0.11285      │\n",
      "│ column_37 ┆ 0.07247      │\n",
      "│ column_43 ┆ 0.069498     │\n",
      "│ column_6  ┆ 0.062725     │\n",
      "│ …         ┆ …            │\n",
      "│ column_22 ┆ 0.001064     │\n",
      "│ column_44 ┆ 0.00042      │\n",
      "│ column_14 ┆ 0.000098     │\n",
      "│ column_32 ┆ 0.000062     │\n",
      "└───────────┴──────────────┘\n",
      "Spent 147.96s.\n"
     ]
    }
   ],
   "source": [
    "start = perf_counter()\n",
    "print(estimate_mi_sklearn(df, target=target, cols=features).sort(\"estimated_mi\",  descending=True))\n",
    "end = perf_counter()\n",
    "print(f\"Spent {end-start:.2f}s.\")"
   ]
  },
  {
   "cell_type": "code",
   "execution_count": 8,
   "metadata": {},
   "outputs": [],
   "source": [
    "# Slim down before running timeit."
   ]
  },
  {
   "cell_type": "code",
   "execution_count": 9,
   "metadata": {},
   "outputs": [
    {
     "name": "stdout",
     "output_type": "stream",
     "text": [
      "4.14 s ± 64.4 ms per loop (mean ± std. dev. of 7 runs, 1 loop each)\n"
     ]
    }
   ],
   "source": [
    "%%timeit \n",
    "estimate_mi_optimized(df.limit(100_000), target=target, cols=features).sort(\"estimated_mi\",  descending=True)"
   ]
  },
  {
   "cell_type": "code",
   "execution_count": 10,
   "metadata": {},
   "outputs": [
    {
     "name": "stdout",
     "output_type": "stream",
     "text": [
      "22.5 s ± 51.3 ms per loop (mean ± std. dev. of 7 runs, 1 loop each)\n"
     ]
    }
   ],
   "source": [
    "%%timeit\n",
    "estimate_mi_sklearn(df.limit(100_000), target=target, cols=features).sort(\"estimated_mi\",  descending=True)"
   ]
  },
  {
   "cell_type": "code",
   "execution_count": 11,
   "metadata": {},
   "outputs": [],
   "source": [
    "import sys\n",
    "sys.path.append('../src')\n",
    "from eda.eda_selection import mutual_info"
   ]
  },
  {
   "cell_type": "code",
   "execution_count": 12,
   "metadata": {},
   "outputs": [
    {
     "name": "stderr",
     "output_type": "stream",
     "text": [
      "100%|██████████| 50/50 [00:21<00:00,  2.31it/s]\n"
     ]
    },
    {
     "data": {
      "text/html": [
       "<div><style>\n",
       ".dataframe > thead > tr > th,\n",
       ".dataframe > tbody > tr > td {\n",
       "  text-align: right;\n",
       "}\n",
       "</style>\n",
       "<small>shape: (50, 2)</small><table border=\"1\" class=\"dataframe\"><thead><tr><th>feature</th><th>estimated_mi</th></tr><tr><td>str</td><td>f64</td></tr></thead><tbody><tr><td>&quot;column_4&quot;</td><td>0.112849</td></tr><tr><td>&quot;column_37&quot;</td><td>0.072472</td></tr><tr><td>&quot;column_43&quot;</td><td>0.069499</td></tr><tr><td>&quot;column_6&quot;</td><td>0.062726</td></tr><tr><td>&quot;column_39&quot;</td><td>0.060033</td></tr><tr><td>&quot;column_1&quot;</td><td>0.05916</td></tr><tr><td>&quot;column_5&quot;</td><td>0.056377</td></tr><tr><td>&quot;column_24&quot;</td><td>0.053618</td></tr><tr><td>&quot;column_3&quot;</td><td>0.045689</td></tr><tr><td>&quot;column_2&quot;</td><td>0.037669</td></tr><tr><td>&quot;column_12&quot;</td><td>0.034927</td></tr><tr><td>&quot;column_25&quot;</td><td>0.034404</td></tr><tr><td>&hellip;</td><td>&hellip;</td></tr><tr><td>&quot;column_10&quot;</td><td>0.007499</td></tr><tr><td>&quot;column_0&quot;</td><td>0.004329</td></tr><tr><td>&quot;column_7&quot;</td><td>0.002121</td></tr><tr><td>&quot;column_16&quot;</td><td>0.001677</td></tr><tr><td>&quot;column_28&quot;</td><td>0.001639</td></tr><tr><td>&quot;column_46&quot;</td><td>0.001534</td></tr><tr><td>&quot;column_15&quot;</td><td>0.001345</td></tr><tr><td>&quot;column_38&quot;</td><td>0.001253</td></tr><tr><td>&quot;column_22&quot;</td><td>0.001065</td></tr><tr><td>&quot;column_44&quot;</td><td>0.00042</td></tr><tr><td>&quot;column_14&quot;</td><td>0.000098</td></tr><tr><td>&quot;column_32&quot;</td><td>0.000064</td></tr></tbody></table></div>"
      ],
      "text/plain": [
       "shape: (50, 2)\n",
       "┌───────────┬──────────────┐\n",
       "│ feature   ┆ estimated_mi │\n",
       "│ ---       ┆ ---          │\n",
       "│ str       ┆ f64          │\n",
       "╞═══════════╪══════════════╡\n",
       "│ column_4  ┆ 0.112849     │\n",
       "│ column_37 ┆ 0.072472     │\n",
       "│ column_43 ┆ 0.069499     │\n",
       "│ column_6  ┆ 0.062726     │\n",
       "│ …         ┆ …            │\n",
       "│ column_22 ┆ 0.001065     │\n",
       "│ column_44 ┆ 0.00042      │\n",
       "│ column_14 ┆ 0.000098     │\n",
       "│ column_32 ┆ 0.000064     │\n",
       "└───────────┴──────────────┘"
      ]
     },
     "execution_count": 12,
     "metadata": {},
     "output_type": "execute_result"
    }
   ],
   "source": [
    "mutual_info(df, conti_cols=features, target=target)"
   ]
  },
  {
   "cell_type": "code",
   "execution_count": null,
   "metadata": {},
   "outputs": [],
   "source": []
  }
 ],
 "metadata": {
  "kernelspec": {
   "display_name": "my_py11",
   "language": "python",
   "name": "python3"
  },
  "language_info": {
   "codemirror_mode": {
    "name": "ipython",
    "version": 3
   },
   "file_extension": ".py",
   "mimetype": "text/x-python",
   "name": "python",
   "nbconvert_exporter": "python",
   "pygments_lexer": "ipython3",
   "version": "3.11.3"
  },
  "orig_nbformat": 4
 },
 "nbformat": 4,
 "nbformat_minor": 2
}
