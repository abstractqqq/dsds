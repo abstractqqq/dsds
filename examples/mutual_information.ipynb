{
 "cells": [
  {
   "cell_type": "code",
   "execution_count": 1,
   "metadata": {},
   "outputs": [],
   "source": [
    "import polars as pl \n",
    "import numpy as np\n",
    "from scipy.special import psi\n",
    "from sklearn.datasets import make_classification\n",
    "from typing import Any\n",
    "from time import perf_counter"
   ]
  },
  {
   "cell_type": "code",
   "execution_count": 2,
   "metadata": {},
   "outputs": [],
   "source": [
    "orig_x, orig_y = make_classification(n_samples = 500_000, n_features = 50, n_informative = 25, n_redundant = 25)\n",
    "df = pl.from_numpy(orig_x).insert_at_idx(0, pl.Series(\"target\", orig_y))\n",
    "target = \"target\"\n",
    "features = df.columns\n",
    "features.remove(target)"
   ]
  },
  {
   "cell_type": "code",
   "execution_count": 3,
   "metadata": {},
   "outputs": [
    {
     "data": {
      "text/html": [
       "<div><style>\n",
       ".dataframe > thead > tr > th,\n",
       ".dataframe > tbody > tr > td {\n",
       "  text-align: right;\n",
       "}\n",
       "</style>\n",
       "<small>shape: (5, 51)</small><table border=\"1\" class=\"dataframe\"><thead><tr><th>target</th><th>column_0</th><th>column_1</th><th>column_2</th><th>column_3</th><th>column_4</th><th>column_5</th><th>column_6</th><th>column_7</th><th>column_8</th><th>column_9</th><th>column_10</th><th>column_11</th><th>column_12</th><th>column_13</th><th>column_14</th><th>column_15</th><th>column_16</th><th>column_17</th><th>column_18</th><th>column_19</th><th>column_20</th><th>column_21</th><th>column_22</th><th>column_23</th><th>column_24</th><th>column_25</th><th>column_26</th><th>column_27</th><th>column_28</th><th>column_29</th><th>column_30</th><th>column_31</th><th>column_32</th><th>column_33</th><th>column_34</th><th>column_35</th><th>column_36</th><th>column_37</th><th>column_38</th><th>column_39</th><th>column_40</th><th>column_41</th><th>column_42</th><th>column_43</th><th>column_44</th><th>column_45</th><th>column_46</th><th>column_47</th><th>column_48</th><th>column_49</th></tr><tr><td>i32</td><td>f64</td><td>f64</td><td>f64</td><td>f64</td><td>f64</td><td>f64</td><td>f64</td><td>f64</td><td>f64</td><td>f64</td><td>f64</td><td>f64</td><td>f64</td><td>f64</td><td>f64</td><td>f64</td><td>f64</td><td>f64</td><td>f64</td><td>f64</td><td>f64</td><td>f64</td><td>f64</td><td>f64</td><td>f64</td><td>f64</td><td>f64</td><td>f64</td><td>f64</td><td>f64</td><td>f64</td><td>f64</td><td>f64</td><td>f64</td><td>f64</td><td>f64</td><td>f64</td><td>f64</td><td>f64</td><td>f64</td><td>f64</td><td>f64</td><td>f64</td><td>f64</td><td>f64</td><td>f64</td><td>f64</td><td>f64</td><td>f64</td><td>f64</td></tr></thead><tbody><tr><td>1</td><td>-11.968307</td><td>-5.590815</td><td>-1.746167</td><td>-1.012551</td><td>-5.140348</td><td>2.990342</td><td>0.266907</td><td>-9.858675</td><td>-4.652851</td><td>4.427344</td><td>2.894079</td><td>-2.131139</td><td>0.904102</td><td>-3.314921</td><td>-8.481504</td><td>2.610291</td><td>-8.301959</td><td>-5.405958</td><td>2.51331</td><td>-0.216056</td><td>-3.729986</td><td>7.927808</td><td>11.630288</td><td>-2.852285</td><td>8.109333</td><td>2.95304</td><td>-14.814188</td><td>4.362106</td><td>1.533787</td><td>-2.188023</td><td>5.383688</td><td>16.247816</td><td>16.74379</td><td>1.442346</td><td>-2.15984</td><td>6.128398</td><td>-9.206509</td><td>6.773962</td><td>1.074484</td><td>0.464216</td><td>-3.444563</td><td>8.649643</td><td>-35.455566</td><td>-12.341535</td><td>-4.165749</td><td>-3.844133</td><td>0.911746</td><td>8.286309</td><td>3.158895</td><td>-0.71184</td></tr><tr><td>0</td><td>-13.450774</td><td>-8.133396</td><td>-5.444318</td><td>0.140959</td><td>-4.843051</td><td>3.518212</td><td>3.553526</td><td>5.748577</td><td>-4.574156</td><td>-1.704198</td><td>-10.37389</td><td>-3.877364</td><td>1.900696</td><td>-5.072693</td><td>-3.559298</td><td>3.205881</td><td>1.755133</td><td>23.380757</td><td>1.540192</td><td>3.676254</td><td>-4.330686</td><td>3.831776</td><td>-4.226898</td><td>1.709885</td><td>1.642697</td><td>-4.734284</td><td>-4.821917</td><td>0.321153</td><td>0.944158</td><td>4.861723</td><td>5.822973</td><td>-4.011873</td><td>-4.792765</td><td>22.615943</td><td>-6.096436</td><td>1.561845</td><td>15.879205</td><td>-7.638073</td><td>4.007871</td><td>-10.37521</td><td>1.068146</td><td>8.171845</td><td>-8.655302</td><td>0.625733</td><td>0.469663</td><td>-2.537352</td><td>-5.181116</td><td>0.072743</td><td>3.33454</td><td>-1.984165</td></tr><tr><td>1</td><td>6.840603</td><td>15.042843</td><td>6.707545</td><td>-4.691243</td><td>2.414062</td><td>-1.603739</td><td>-2.351174</td><td>10.198456</td><td>5.336584</td><td>0.001217</td><td>0.343879</td><td>-0.083142</td><td>15.840742</td><td>-2.787194</td><td>-10.74107</td><td>6.020713</td><td>2.563522</td><td>-4.430095</td><td>2.114337</td><td>-1.506611</td><td>-1.512303</td><td>-6.431443</td><td>-7.22339</td><td>-1.541967</td><td>-2.777161</td><td>-11.276563</td><td>11.316407</td><td>-3.708968</td><td>-1.925514</td><td>1.081416</td><td>3.122988</td><td>-18.788071</td><td>0.918066</td><td>-4.407322</td><td>0.269026</td><td>2.440958</td><td>-0.507801</td><td>-11.192894</td><td>3.73611</td><td>8.995161</td><td>1.538787</td><td>11.68157</td><td>8.942071</td><td>-11.359194</td><td>2.312416</td><td>-0.542254</td><td>-0.127693</td><td>-1.41095</td><td>-3.234347</td><td>0.219932</td></tr><tr><td>0</td><td>3.820183</td><td>6.052279</td><td>-1.659343</td><td>-1.789607</td><td>-2.135955</td><td>4.518278</td><td>3.303078</td><td>15.753852</td><td>-10.791777</td><td>-0.816614</td><td>7.556424</td><td>21.469352</td><td>-1.881295</td><td>2.579593</td><td>-14.077286</td><td>0.850466</td><td>-6.78561</td><td>-5.837398</td><td>-4.664091</td><td>0.196875</td><td>-0.679874</td><td>-1.613173</td><td>-1.037819</td><td>-6.589579</td><td>-4.371202</td><td>0.892782</td><td>5.719641</td><td>-0.761811</td><td>-6.072487</td><td>3.587019</td><td>-4.956998</td><td>18.627286</td><td>1.026229</td><td>3.294992</td><td>-5.049486</td><td>4.227393</td><td>-11.677407</td><td>-12.580899</td><td>0.197161</td><td>-4.009421</td><td>-0.391283</td><td>4.428396</td><td>-1.321422</td><td>24.754975</td><td>-0.848659</td><td>1.660904</td><td>1.295858</td><td>4.784324</td><td>4.216042</td><td>3.772742</td></tr><tr><td>0</td><td>-10.805693</td><td>-7.630871</td><td>-1.788277</td><td>-4.364055</td><td>-1.565975</td><td>-1.139612</td><td>-3.093969</td><td>-3.042105</td><td>2.926529</td><td>1.584595</td><td>5.686045</td><td>-7.661655</td><td>-9.165909</td><td>1.357721</td><td>-1.576992</td><td>-3.467461</td><td>4.138005</td><td>-2.485949</td><td>-7.824919</td><td>1.392517</td><td>1.071709</td><td>3.392844</td><td>5.63585</td><td>4.365423</td><td>-1.829961</td><td>-0.324683</td><td>-13.948674</td><td>2.605558</td><td>-0.424199</td><td>0.522443</td><td>11.558255</td><td>11.903976</td><td>-0.520687</td><td>2.167889</td><td>-3.635129</td><td>-12.448553</td><td>2.557372</td><td>7.113387</td><td>0.700795</td><td>-14.884599</td><td>-3.540622</td><td>-26.062519</td><td>-9.760506</td><td>14.184144</td><td>5.198959</td><td>6.480604</td><td>0.774962</td><td>-2.943167</td><td>1.140789</td><td>-0.383678</td></tr></tbody></table></div>"
      ],
      "text/plain": [
       "shape: (5, 51)\n",
       "┌────────┬────────────┬───────────┬───────────┬───┬───────────┬───────────┬───────────┬───────────┐\n",
       "│ target ┆ column_0   ┆ column_1  ┆ column_2  ┆ … ┆ column_46 ┆ column_47 ┆ column_48 ┆ column_49 │\n",
       "│ ---    ┆ ---        ┆ ---       ┆ ---       ┆   ┆ ---       ┆ ---       ┆ ---       ┆ ---       │\n",
       "│ i32    ┆ f64        ┆ f64       ┆ f64       ┆   ┆ f64       ┆ f64       ┆ f64       ┆ f64       │\n",
       "╞════════╪════════════╪═══════════╪═══════════╪═══╪═══════════╪═══════════╪═══════════╪═══════════╡\n",
       "│ 1      ┆ -11.968307 ┆ -5.590815 ┆ -1.746167 ┆ … ┆ 0.911746  ┆ 8.286309  ┆ 3.158895  ┆ -0.71184  │\n",
       "│ 0      ┆ -13.450774 ┆ -8.133396 ┆ -5.444318 ┆ … ┆ -5.181116 ┆ 0.072743  ┆ 3.33454   ┆ -1.984165 │\n",
       "│ 1      ┆ 6.840603   ┆ 15.042843 ┆ 6.707545  ┆ … ┆ -0.127693 ┆ -1.41095  ┆ -3.234347 ┆ 0.219932  │\n",
       "│ 0      ┆ 3.820183   ┆ 6.052279  ┆ -1.659343 ┆ … ┆ 1.295858  ┆ 4.784324  ┆ 4.216042  ┆ 3.772742  │\n",
       "│ 0      ┆ -10.805693 ┆ -7.630871 ┆ -1.788277 ┆ … ┆ 0.774962  ┆ -2.943167 ┆ 1.140789  ┆ -0.383678 │\n",
       "└────────┴────────────┴───────────┴───────────┴───┴───────────┴───────────┴───────────┴───────────┘"
      ]
     },
     "execution_count": 3,
     "metadata": {},
     "output_type": "execute_result"
    }
   ],
   "source": [
    "df.head() "
   ]
  },
  {
   "cell_type": "code",
   "execution_count": 4,
   "metadata": {},
   "outputs": [],
   "source": [
    "from scipy.spatial import KDTree\n",
    "\n",
    "def estimate_mi_optimized(df:pl.DataFrame, cols:list[str], target:str, k=3, random_state:int=42):\n",
    "\n",
    "    n = len(df)\n",
    "    rng = np.random.default_rng(random_state)\n",
    "\n",
    "    target_col = df.get_column(target).to_numpy().ravel()\n",
    "    unique_targets = np.unique(target_col)\n",
    "    # parts = {t:df.filter((pl.col(target) == t)) for t in df[target].unique()}\n",
    "    # To do: If any part size < k, abort. This gets rid of \"points with unique labels\" issue too.\n",
    "    all_masks = {}\n",
    "    for t in unique_targets:\n",
    "        all_masks[t] = target_col == t\n",
    "        if len(df.filter(pl.col(target) == t)) <= k:\n",
    "            raise ValueError(f\"The target class {t} must have more than {k} values in the dataset.\")        \n",
    "\n",
    "    estimates = []\n",
    "    psi_n_and_k = psi(n) + psi(k)\n",
    "    for col in cols:\n",
    "        c = df.get_column(col).to_numpy().reshape(-1,1)\n",
    "        c = c + (1e-10 * np.mean(c) * rng.standard_normal(size=c.shape))\n",
    "        radius = np.empty(n)\n",
    "        label_counts = np.empty(n)\n",
    "        for t in unique_targets:\n",
    "            mask = all_masks[t]\n",
    "            c_masked = c[mask]\n",
    "            kd1 = KDTree(data=c_masked)\n",
    "            # dd = distances from the points the the k nearest points. +1 because this starts from 0. It is 1 off from sklearn's kdtree.\n",
    "            dd, _ = kd1.query(c_masked, k = k + 1, workers=-1)\n",
    "            radius[mask] = np.nextafter(dd[:, -1], 0)\n",
    "            label_counts[mask] = np.sum(mask)\n",
    "\n",
    "        kd2 = KDTree(data=c) \n",
    "        m_all = kd2.query_ball_point(c, r = radius, return_length=True, workers=-1)\n",
    "        estimates.append(\n",
    "            max(0, psi_n_and_k - np.mean(psi(label_counts) + psi(m_all)))\n",
    "        )\n",
    "\n",
    "    output = pl.from_records([cols, estimates], schema=[\"feature\", \"estimated_mi\"])\n",
    "    return output\n",
    "        "
   ]
  },
  {
   "cell_type": "code",
   "execution_count": 5,
   "metadata": {},
   "outputs": [
    {
     "name": "stdout",
     "output_type": "stream",
     "text": [
      "shape: (50, 2)\n",
      "┌───────────┬──────────────┐\n",
      "│ feature   ┆ estimated_mi │\n",
      "│ ---       ┆ ---          │\n",
      "│ str       ┆ f64          │\n",
      "╞═══════════╪══════════════╡\n",
      "│ column_6  ┆ 0.064877     │\n",
      "│ column_28 ┆ 0.05626      │\n",
      "│ column_19 ┆ 0.053086     │\n",
      "│ column_33 ┆ 0.038917     │\n",
      "│ …         ┆ …            │\n",
      "│ column_4  ┆ 0.000093     │\n",
      "│ column_31 ┆ 0.000032     │\n",
      "│ column_38 ┆ 0.0          │\n",
      "│ column_44 ┆ 0.0          │\n",
      "└───────────┴──────────────┘\n",
      "Spent 22.86s.\n"
     ]
    }
   ],
   "source": [
    "start = perf_counter()\n",
    "print(estimate_mi_optimized(df, target=target, cols=features).sort(\"estimated_mi\",  descending=True))\n",
    "end = perf_counter()\n",
    "print(f\"Spent {end-start:.2f}s.\")\n"
   ]
  },
  {
   "cell_type": "code",
   "execution_count": 6,
   "metadata": {},
   "outputs": [],
   "source": [
    "from sklearn.feature_selection import mutual_info_classif\n",
    "\n",
    "def estimate_mi_sklearn(df:pl.DataFrame, cols:list[str], target:str, k=3, random_state:int=42):\n",
    "    mi_estimates = mutual_info_classif(df[cols], df[target]\n",
    "                        , n_neighbors=k, random_state=random_state, discrete_features=False)\n",
    "\n",
    "    return pl.from_records([cols, mi_estimates], schema=[\"feature\", \"estimated_mi\"]).sort(\"estimated_mi\", descending=True)"
   ]
  },
  {
   "cell_type": "code",
   "execution_count": 7,
   "metadata": {},
   "outputs": [
    {
     "name": "stdout",
     "output_type": "stream",
     "text": [
      "Spent 146.33s.\n"
     ]
    }
   ],
   "source": [
    "start = perf_counter()\n",
    "estimate_mi_sklearn(df, target=target, cols=features).sort(\"estimated_mi\",  descending=True)\n",
    "end = perf_counter()\n",
    "print(f\"Spent {end-start:.2f}s.\")"
   ]
  },
  {
   "cell_type": "code",
   "execution_count": null,
   "metadata": {},
   "outputs": [],
   "source": [
    "# Slim down before running timeit."
   ]
  },
  {
   "cell_type": "code",
   "execution_count": 8,
   "metadata": {},
   "outputs": [
    {
     "name": "stdout",
     "output_type": "stream",
     "text": [
      "4.1 s ± 38 ms per loop (mean ± std. dev. of 7 runs, 1 loop each)\n"
     ]
    }
   ],
   "source": [
    "%%timeit \n",
    "estimate_mi_optimized(df.limit(100_000), target=target, cols=features).sort(\"estimated_mi\",  descending=True)"
   ]
  },
  {
   "cell_type": "code",
   "execution_count": 9,
   "metadata": {},
   "outputs": [
    {
     "name": "stdout",
     "output_type": "stream",
     "text": [
      "22.5 s ± 36.9 ms per loop (mean ± std. dev. of 7 runs, 1 loop each)\n"
     ]
    }
   ],
   "source": [
    "%%timeit\n",
    "estimate_mi_sklearn(df.limit(100_000), target=target, cols=features).sort(\"estimated_mi\",  descending=True)"
   ]
  },
  {
   "cell_type": "code",
   "execution_count": 10,
   "metadata": {},
   "outputs": [],
   "source": [
    "import sys\n",
    "sys.path.append('../src')\n",
    "from eda.eda_selection import mutual_info"
   ]
  },
  {
   "cell_type": "code",
   "execution_count": 11,
   "metadata": {},
   "outputs": [
    {
     "name": "stderr",
     "output_type": "stream",
     "text": [
      "100%|██████████| 50/50 [00:22<00:00,  2.26it/s]\n"
     ]
    },
    {
     "data": {
      "text/html": [
       "<div><style>\n",
       ".dataframe > thead > tr > th,\n",
       ".dataframe > tbody > tr > td {\n",
       "  text-align: right;\n",
       "}\n",
       "</style>\n",
       "<small>shape: (50, 2)</small><table border=\"1\" class=\"dataframe\"><thead><tr><th>feature</th><th>estimated_mi</th></tr><tr><td>str</td><td>f64</td></tr></thead><tbody><tr><td>&quot;column_6&quot;</td><td>0.064877</td></tr><tr><td>&quot;column_28&quot;</td><td>0.05626</td></tr><tr><td>&quot;column_19&quot;</td><td>0.053086</td></tr><tr><td>&quot;column_33&quot;</td><td>0.038917</td></tr><tr><td>&quot;column_11&quot;</td><td>0.037282</td></tr><tr><td>&quot;column_37&quot;</td><td>0.031609</td></tr><tr><td>&quot;column_40&quot;</td><td>0.027376</td></tr><tr><td>&quot;column_24&quot;</td><td>0.023433</td></tr><tr><td>&quot;column_48&quot;</td><td>0.023096</td></tr><tr><td>&quot;column_26&quot;</td><td>0.021332</td></tr><tr><td>&quot;column_34&quot;</td><td>0.020008</td></tr><tr><td>&quot;column_1&quot;</td><td>0.019498</td></tr><tr><td>&hellip;</td><td>&hellip;</td></tr><tr><td>&quot;column_15&quot;</td><td>0.001064</td></tr><tr><td>&quot;column_14&quot;</td><td>0.000981</td></tr><tr><td>&quot;column_20&quot;</td><td>0.000881</td></tr><tr><td>&quot;column_29&quot;</td><td>0.000874</td></tr><tr><td>&quot;column_23&quot;</td><td>0.000698</td></tr><tr><td>&quot;column_42&quot;</td><td>0.000663</td></tr><tr><td>&quot;column_49&quot;</td><td>0.000511</td></tr><tr><td>&quot;column_16&quot;</td><td>0.000352</td></tr><tr><td>&quot;column_4&quot;</td><td>0.000093</td></tr><tr><td>&quot;column_31&quot;</td><td>0.000032</td></tr><tr><td>&quot;column_38&quot;</td><td>0.0</td></tr><tr><td>&quot;column_44&quot;</td><td>0.0</td></tr></tbody></table></div>"
      ],
      "text/plain": [
       "shape: (50, 2)\n",
       "┌───────────┬──────────────┐\n",
       "│ feature   ┆ estimated_mi │\n",
       "│ ---       ┆ ---          │\n",
       "│ str       ┆ f64          │\n",
       "╞═══════════╪══════════════╡\n",
       "│ column_6  ┆ 0.064877     │\n",
       "│ column_28 ┆ 0.05626      │\n",
       "│ column_19 ┆ 0.053086     │\n",
       "│ column_33 ┆ 0.038917     │\n",
       "│ …         ┆ …            │\n",
       "│ column_4  ┆ 0.000093     │\n",
       "│ column_31 ┆ 0.000032     │\n",
       "│ column_38 ┆ 0.0          │\n",
       "│ column_44 ┆ 0.0          │\n",
       "└───────────┴──────────────┘"
      ]
     },
     "execution_count": 11,
     "metadata": {},
     "output_type": "execute_result"
    }
   ],
   "source": [
    "mutual_info(df, conti_cols=features, target=target)"
   ]
  },
  {
   "cell_type": "code",
   "execution_count": null,
   "metadata": {},
   "outputs": [],
   "source": []
  }
 ],
 "metadata": {
  "kernelspec": {
   "display_name": "my_py11",
   "language": "python",
   "name": "python3"
  },
  "language_info": {
   "codemirror_mode": {
    "name": "ipython",
    "version": 3
   },
   "file_extension": ".py",
   "mimetype": "text/x-python",
   "name": "python",
   "nbconvert_exporter": "python",
   "pygments_lexer": "ipython3",
   "version": "3.11.3"
  },
  "orig_nbformat": 4
 },
 "nbformat": 4,
 "nbformat_minor": 2
}
