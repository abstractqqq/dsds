{
 "cells": [
  {
   "cell_type": "code",
   "execution_count": 1,
   "metadata": {},
   "outputs": [],
   "source": [
    "import polars as pl\n",
    "import numpy as np\n",
    "from scipy.special import psi\n",
    "from sklearn.datasets import make_classification\n",
    "from typing import Any\n",
    "from time import perf_counter"
   ]
  },
  {
   "cell_type": "code",
   "execution_count": 2,
   "metadata": {},
   "outputs": [],
   "source": [
    "orig_x, orig_y = make_classification(n_samples = 300_000, n_features = 50, n_informative = 25, n_redundant = 25)\n",
    "df = pl.from_numpy(orig_x).insert_at_idx(0, pl.Series(\"target\", orig_y))\n",
    "target = \"target\"\n",
    "features = df.columns\n",
    "features.remove(target)"
   ]
  },
  {
   "cell_type": "code",
   "execution_count": 3,
   "metadata": {},
   "outputs": [
    {
     "data": {
      "text/html": [
       "<div><style>\n",
       ".dataframe > thead > tr > th,\n",
       ".dataframe > tbody > tr > td {\n",
       "  text-align: right;\n",
       "}\n",
       "</style>\n",
       "<small>shape: (5, 51)</small><table border=\"1\" class=\"dataframe\"><thead><tr><th>target</th><th>column_0</th><th>column_1</th><th>column_2</th><th>column_3</th><th>column_4</th><th>column_5</th><th>column_6</th><th>column_7</th><th>column_8</th><th>column_9</th><th>column_10</th><th>column_11</th><th>column_12</th><th>column_13</th><th>column_14</th><th>column_15</th><th>column_16</th><th>column_17</th><th>column_18</th><th>column_19</th><th>column_20</th><th>column_21</th><th>column_22</th><th>column_23</th><th>column_24</th><th>column_25</th><th>column_26</th><th>column_27</th><th>column_28</th><th>column_29</th><th>column_30</th><th>column_31</th><th>column_32</th><th>column_33</th><th>column_34</th><th>column_35</th><th>column_36</th><th>column_37</th><th>column_38</th><th>column_39</th><th>column_40</th><th>column_41</th><th>column_42</th><th>column_43</th><th>column_44</th><th>column_45</th><th>column_46</th><th>column_47</th><th>column_48</th><th>column_49</th></tr><tr><td>i32</td><td>f64</td><td>f64</td><td>f64</td><td>f64</td><td>f64</td><td>f64</td><td>f64</td><td>f64</td><td>f64</td><td>f64</td><td>f64</td><td>f64</td><td>f64</td><td>f64</td><td>f64</td><td>f64</td><td>f64</td><td>f64</td><td>f64</td><td>f64</td><td>f64</td><td>f64</td><td>f64</td><td>f64</td><td>f64</td><td>f64</td><td>f64</td><td>f64</td><td>f64</td><td>f64</td><td>f64</td><td>f64</td><td>f64</td><td>f64</td><td>f64</td><td>f64</td><td>f64</td><td>f64</td><td>f64</td><td>f64</td><td>f64</td><td>f64</td><td>f64</td><td>f64</td><td>f64</td><td>f64</td><td>f64</td><td>f64</td><td>f64</td><td>f64</td></tr></thead><tbody><tr><td>0</td><td>11.50356</td><td>0.429806</td><td>1.474147</td><td>-1.356332</td><td>-1.848187</td><td>-3.697524</td><td>-3.918588</td><td>-1.526723</td><td>12.501827</td><td>-2.248826</td><td>-12.666978</td><td>1.177657</td><td>0.724407</td><td>0.244796</td><td>1.946044</td><td>11.968625</td><td>-0.509509</td><td>0.422647</td><td>-5.059723</td><td>1.196536</td><td>3.75947</td><td>-1.091892</td><td>0.911092</td><td>-4.681064</td><td>-12.38997</td><td>1.215335</td><td>4.350664</td><td>-6.29382</td><td>2.347619</td><td>-2.081105</td><td>16.346095</td><td>-3.482772</td><td>12.401306</td><td>-5.909624</td><td>5.591609</td><td>-0.032605</td><td>6.804842</td><td>-2.77217</td><td>1.36524</td><td>1.455955</td><td>-0.312545</td><td>-5.70997</td><td>-5.777117</td><td>-2.990212</td><td>-3.775008</td><td>1.420761</td><td>1.175697</td><td>-6.862175</td><td>1.97027</td><td>-5.992461</td></tr><tr><td>0</td><td>-3.105294</td><td>-0.341285</td><td>-10.083761</td><td>4.818264</td><td>-2.149998</td><td>-1.83556</td><td>-2.719747</td><td>-3.38598</td><td>-5.466626</td><td>-2.270568</td><td>-17.551761</td><td>-4.684044</td><td>-6.126515</td><td>0.565376</td><td>2.941526</td><td>11.604482</td><td>5.174033</td><td>2.292629</td><td>-0.757084</td><td>-2.819696</td><td>1.579771</td><td>-3.148015</td><td>-5.968023</td><td>-9.117488</td><td>-1.946583</td><td>1.191429</td><td>-1.527178</td><td>-0.650567</td><td>-5.890211</td><td>1.160781</td><td>2.471245</td><td>-17.056095</td><td>-13.597424</td><td>-4.658944</td><td>1.722993</td><td>1.900577</td><td>-12.831776</td><td>1.190638</td><td>1.403039</td><td>-2.198171</td><td>-10.029456</td><td>-7.30485</td><td>2.632855</td><td>5.923424</td><td>1.519941</td><td>1.437473</td><td>-6.648569</td><td>-8.862297</td><td>-1.66265</td><td>19.476192</td></tr><tr><td>1</td><td>-3.009683</td><td>-0.173725</td><td>-5.305688</td><td>-3.39294</td><td>-1.795725</td><td>-3.259409</td><td>0.678384</td><td>-4.396279</td><td>-2.811006</td><td>-3.422661</td><td>3.121645</td><td>-0.677429</td><td>-1.869744</td><td>-0.968596</td><td>-4.689661</td><td>2.426552</td><td>0.338202</td><td>2.304795</td><td>3.681587</td><td>0.875571</td><td>-3.472632</td><td>-0.761902</td><td>6.772799</td><td>3.431409</td><td>-4.7374</td><td>0.065603</td><td>-1.793211</td><td>0.064225</td><td>6.614304</td><td>-9.888175</td><td>1.146906</td><td>-9.402501</td><td>-4.477763</td><td>-1.21895</td><td>-7.361408</td><td>0.224716</td><td>-2.121848</td><td>-11.945049</td><td>-0.046274</td><td>2.472539</td><td>-4.987473</td><td>6.968973</td><td>-5.760278</td><td>1.917678</td><td>1.474294</td><td>0.002177</td><td>5.822436</td><td>1.99796</td><td>-0.938701</td><td>5.247786</td></tr><tr><td>0</td><td>20.6105</td><td>5.974194</td><td>14.807029</td><td>5.768045</td><td>-0.341809</td><td>0.548961</td><td>2.556123</td><td>3.651809</td><td>21.635004</td><td>2.399569</td><td>-2.064209</td><td>-0.887618</td><td>-2.401863</td><td>0.509854</td><td>-0.071829</td><td>17.227576</td><td>-2.89244</td><td>-5.433666</td><td>-13.93419</td><td>4.081027</td><td>0.320225</td><td>1.197226</td><td>13.054601</td><td>22.727735</td><td>-3.386939</td><td>-3.993787</td><td>2.821235</td><td>4.727874</td><td>-2.834722</td><td>12.113593</td><td>-5.170227</td><td>0.694064</td><td>16.517866</td><td>4.36337</td><td>11.002745</td><td>-3.866952</td><td>0.935343</td><td>-0.628372</td><td>1.24749</td><td>-5.866572</td><td>4.820419</td><td>-0.890116</td><td>-1.971506</td><td>0.485948</td><td>-1.348603</td><td>-1.62773</td><td>-11.201212</td><td>15.09782</td><td>9.227846</td><td>1.606904</td></tr><tr><td>1</td><td>-3.151563</td><td>-3.118631</td><td>-8.501699</td><td>-0.102278</td><td>0.916365</td><td>0.660685</td><td>-1.048504</td><td>3.52123</td><td>-1.614859</td><td>2.445598</td><td>1.103768</td><td>-5.421418</td><td>0.531163</td><td>-2.502882</td><td>2.615444</td><td>-5.664028</td><td>-3.346394</td><td>2.015558</td><td>-5.676821</td><td>-4.999961</td><td>1.98995</td><td>3.001614</td><td>3.92288</td><td>-8.450276</td><td>17.000902</td><td>-3.969472</td><td>-4.935979</td><td>-1.077858</td><td>-11.900195</td><td>2.367959</td><td>1.022803</td><td>9.414992</td><td>-8.369752</td><td>-17.271874</td><td>1.510305</td><td>1.935489</td><td>-7.967335</td><td>-2.527683</td><td>0.658442</td><td>1.020268</td><td>4.077512</td><td>-17.679637</td><td>0.664338</td><td>0.413705</td><td>2.144528</td><td>5.518291</td><td>-6.258479</td><td>-8.626793</td><td>-0.24963</td><td>0.672597</td></tr></tbody></table></div>"
      ],
      "text/plain": [
       "shape: (5, 51)\n",
       "┌────────┬───────────┬───────────┬────────────┬───┬────────────┬───────────┬───────────┬───────────┐\n",
       "│ target ┆ column_0  ┆ column_1  ┆ column_2   ┆ … ┆ column_46  ┆ column_47 ┆ column_48 ┆ column_49 │\n",
       "│ ---    ┆ ---       ┆ ---       ┆ ---        ┆   ┆ ---        ┆ ---       ┆ ---       ┆ ---       │\n",
       "│ i32    ┆ f64       ┆ f64       ┆ f64        ┆   ┆ f64        ┆ f64       ┆ f64       ┆ f64       │\n",
       "╞════════╪═══════════╪═══════════╪════════════╪═══╪════════════╪═══════════╪═══════════╪═══════════╡\n",
       "│ 0      ┆ 11.50356  ┆ 0.429806  ┆ 1.474147   ┆ … ┆ 1.175697   ┆ -6.862175 ┆ 1.97027   ┆ -5.992461 │\n",
       "│ 0      ┆ -3.105294 ┆ -0.341285 ┆ -10.083761 ┆ … ┆ -6.648569  ┆ -8.862297 ┆ -1.66265  ┆ 19.476192 │\n",
       "│ 1      ┆ -3.009683 ┆ -0.173725 ┆ -5.305688  ┆ … ┆ 5.822436   ┆ 1.99796   ┆ -0.938701 ┆ 5.247786  │\n",
       "│ 0      ┆ 20.6105   ┆ 5.974194  ┆ 14.807029  ┆ … ┆ -11.201212 ┆ 15.09782  ┆ 9.227846  ┆ 1.606904  │\n",
       "│ 1      ┆ -3.151563 ┆ -3.118631 ┆ -8.501699  ┆ … ┆ -6.258479  ┆ -8.626793 ┆ -0.24963  ┆ 0.672597  │\n",
       "└────────┴───────────┴───────────┴────────────┴───┴────────────┴───────────┴───────────┴───────────┘"
      ]
     },
     "execution_count": 3,
     "metadata": {},
     "output_type": "execute_result"
    }
   ],
   "source": [
    "df.head() "
   ]
  },
  {
   "cell_type": "code",
   "execution_count": 4,
   "metadata": {},
   "outputs": [],
   "source": [
    "from scipy.spatial import KDTree\n",
    "\n",
    "def estimate_mi_optimized(df:pl.DataFrame, cols:list[str], target:str, k=3, random_state:int=42):\n",
    "\n",
    "    n = len(df)\n",
    "    rng = np.random.default_rng(random_state)\n",
    "\n",
    "    target_col = df.get_column(target).to_numpy().ravel()\n",
    "    unique_targets = np.unique(target_col)\n",
    "    # parts = {t:df.filter((pl.col(target) == t)) for t in df[target].unique()}\n",
    "    # To do: If any part size < k, abort. This gets rid of \"points with unique labels\" issue too.\n",
    "    all_masks = {}\n",
    "    for t in unique_targets:\n",
    "        all_masks[t] = target_col == t\n",
    "        if len(df.filter(pl.col(target) == t)) <= k:\n",
    "            raise ValueError(f\"The target class {t} must have more than {k} values in the dataset.\")        \n",
    "\n",
    "    estimates = []\n",
    "    psi_n_and_k = psi(n) + psi(k)\n",
    "    for col in cols:\n",
    "        c = df.get_column(col).to_numpy().reshape(-1,1)\n",
    "        c = c + (1e-10 * np.mean(c) * rng.standard_normal(size=c.shape))\n",
    "        radius = np.empty(n)\n",
    "        label_counts = np.empty(n)\n",
    "        for t in unique_targets:\n",
    "            mask = all_masks[t]\n",
    "            c_masked = c[mask]\n",
    "            kd1 = KDTree(data=c_masked)\n",
    "            # dd = distances from the points the the k nearest points. +1 because this starts from 0. It is 1 off from sklearn's kdtree.\n",
    "            dd, _ = kd1.query(c_masked, k = k + 1, workers=-1)\n",
    "            radius[mask] = np.nextafter(dd[:, -1], 0)\n",
    "            label_counts[mask] = np.sum(mask)\n",
    "\n",
    "        kd2 = KDTree(data=c) \n",
    "        m_all = kd2.query_ball_point(c, r = radius, return_length=True, workers=-1)\n",
    "        estimates.append(\n",
    "            max(0, psi_n_and_k - np.mean(psi(label_counts) + psi(m_all)))\n",
    "        )\n",
    "\n",
    "    output = pl.from_records([cols, estimates], schema=[\"feature\", \"estimated_mi\"])\n",
    "    return output\n",
    "        "
   ]
  },
  {
   "cell_type": "code",
   "execution_count": 5,
   "metadata": {},
   "outputs": [
    {
     "name": "stdout",
     "output_type": "stream",
     "text": [
      "Spent 12.68s.\n"
     ]
    },
    {
     "data": {
      "text/html": [
       "<div><style>\n",
       ".dataframe > thead > tr > th,\n",
       ".dataframe > tbody > tr > td {\n",
       "  text-align: right;\n",
       "}\n",
       "</style>\n",
       "<small>shape: (50, 2)</small><table border=\"1\" class=\"dataframe\"><thead><tr><th>feature</th><th>estimated_mi</th></tr><tr><td>str</td><td>f64</td></tr></thead><tbody><tr><td>&quot;column_16&quot;</td><td>0.061014</td></tr><tr><td>&quot;column_17&quot;</td><td>0.060518</td></tr><tr><td>&quot;column_10&quot;</td><td>0.039148</td></tr><tr><td>&quot;column_0&quot;</td><td>0.036392</td></tr><tr><td>&quot;column_24&quot;</td><td>0.033618</td></tr><tr><td>&quot;column_21&quot;</td><td>0.029324</td></tr><tr><td>&quot;column_41&quot;</td><td>0.027905</td></tr><tr><td>&quot;column_7&quot;</td><td>0.023051</td></tr><tr><td>&quot;column_32&quot;</td><td>0.022909</td></tr><tr><td>&quot;column_25&quot;</td><td>0.022426</td></tr><tr><td>&quot;column_40&quot;</td><td>0.02186</td></tr><tr><td>&quot;column_37&quot;</td><td>0.017615</td></tr><tr><td>&hellip;</td><td>&hellip;</td></tr><tr><td>&quot;column_4&quot;</td><td>0.004402</td></tr><tr><td>&quot;column_31&quot;</td><td>0.004278</td></tr><tr><td>&quot;column_33&quot;</td><td>0.004105</td></tr><tr><td>&quot;column_36&quot;</td><td>0.004061</td></tr><tr><td>&quot;column_47&quot;</td><td>0.003094</td></tr><tr><td>&quot;column_45&quot;</td><td>0.001689</td></tr><tr><td>&quot;column_9&quot;</td><td>0.001504</td></tr><tr><td>&quot;column_28&quot;</td><td>0.001313</td></tr><tr><td>&quot;column_14&quot;</td><td>0.001259</td></tr><tr><td>&quot;column_46&quot;</td><td>0.00114</td></tr><tr><td>&quot;column_30&quot;</td><td>0.001114</td></tr><tr><td>&quot;column_35&quot;</td><td>0.0</td></tr></tbody></table></div>"
      ],
      "text/plain": [
       "shape: (50, 2)\n",
       "┌───────────┬──────────────┐\n",
       "│ feature   ┆ estimated_mi │\n",
       "│ ---       ┆ ---          │\n",
       "│ str       ┆ f64          │\n",
       "╞═══════════╪══════════════╡\n",
       "│ column_16 ┆ 0.061014     │\n",
       "│ column_17 ┆ 0.060518     │\n",
       "│ column_10 ┆ 0.039148     │\n",
       "│ column_0  ┆ 0.036392     │\n",
       "│ …         ┆ …            │\n",
       "│ column_14 ┆ 0.001259     │\n",
       "│ column_46 ┆ 0.00114      │\n",
       "│ column_30 ┆ 0.001114     │\n",
       "│ column_35 ┆ 0.0          │\n",
       "└───────────┴──────────────┘"
      ]
     },
     "execution_count": 5,
     "metadata": {},
     "output_type": "execute_result"
    }
   ],
   "source": [
    "start = perf_counter()\n",
    "output = estimate_mi_optimized(df, target=target, cols=features).sort(\"estimated_mi\",  descending=True)\n",
    "end = perf_counter()\n",
    "print(f\"Spent {end-start:.2f}s.\")\n",
    "output\n"
   ]
  },
  {
   "cell_type": "code",
   "execution_count": 6,
   "metadata": {},
   "outputs": [],
   "source": [
    "from sklearn.feature_selection import mutual_info_classif\n",
    "\n",
    "def estimate_mi_sklearn(df:pl.DataFrame, cols:list[str], target:str, k=3, random_state:int=42):\n",
    "    mi_estimates = mutual_info_classif(df[cols], df[target]\n",
    "                        , n_neighbors=k, random_state=random_state, discrete_features=False)\n",
    "\n",
    "    return pl.from_records([cols, mi_estimates], schema=[\"feature\", \"estimated_mi\"]).sort(\"estimated_mi\", descending=True)"
   ]
  },
  {
   "cell_type": "code",
   "execution_count": 7,
   "metadata": {},
   "outputs": [
    {
     "name": "stdout",
     "output_type": "stream",
     "text": [
      "Spent 76.31s.\n"
     ]
    },
    {
     "data": {
      "text/html": [
       "<div><style>\n",
       ".dataframe > thead > tr > th,\n",
       ".dataframe > tbody > tr > td {\n",
       "  text-align: right;\n",
       "}\n",
       "</style>\n",
       "<small>shape: (50, 2)</small><table border=\"1\" class=\"dataframe\"><thead><tr><th>feature</th><th>estimated_mi</th></tr><tr><td>str</td><td>f64</td></tr></thead><tbody><tr><td>&quot;column_16&quot;</td><td>0.061012</td></tr><tr><td>&quot;column_17&quot;</td><td>0.060519</td></tr><tr><td>&quot;column_10&quot;</td><td>0.039149</td></tr><tr><td>&quot;column_0&quot;</td><td>0.036394</td></tr><tr><td>&quot;column_24&quot;</td><td>0.03362</td></tr><tr><td>&quot;column_21&quot;</td><td>0.029326</td></tr><tr><td>&quot;column_41&quot;</td><td>0.027905</td></tr><tr><td>&quot;column_7&quot;</td><td>0.02305</td></tr><tr><td>&quot;column_32&quot;</td><td>0.022908</td></tr><tr><td>&quot;column_25&quot;</td><td>0.022426</td></tr><tr><td>&quot;column_40&quot;</td><td>0.02186</td></tr><tr><td>&quot;column_37&quot;</td><td>0.017617</td></tr><tr><td>&hellip;</td><td>&hellip;</td></tr><tr><td>&quot;column_4&quot;</td><td>0.004401</td></tr><tr><td>&quot;column_31&quot;</td><td>0.004278</td></tr><tr><td>&quot;column_33&quot;</td><td>0.004107</td></tr><tr><td>&quot;column_36&quot;</td><td>0.004061</td></tr><tr><td>&quot;column_47&quot;</td><td>0.003093</td></tr><tr><td>&quot;column_45&quot;</td><td>0.001689</td></tr><tr><td>&quot;column_9&quot;</td><td>0.001508</td></tr><tr><td>&quot;column_28&quot;</td><td>0.001314</td></tr><tr><td>&quot;column_14&quot;</td><td>0.001259</td></tr><tr><td>&quot;column_46&quot;</td><td>0.00114</td></tr><tr><td>&quot;column_30&quot;</td><td>0.001114</td></tr><tr><td>&quot;column_35&quot;</td><td>0.0</td></tr></tbody></table></div>"
      ],
      "text/plain": [
       "shape: (50, 2)\n",
       "┌───────────┬──────────────┐\n",
       "│ feature   ┆ estimated_mi │\n",
       "│ ---       ┆ ---          │\n",
       "│ str       ┆ f64          │\n",
       "╞═══════════╪══════════════╡\n",
       "│ column_16 ┆ 0.061012     │\n",
       "│ column_17 ┆ 0.060519     │\n",
       "│ column_10 ┆ 0.039149     │\n",
       "│ column_0  ┆ 0.036394     │\n",
       "│ …         ┆ …            │\n",
       "│ column_14 ┆ 0.001259     │\n",
       "│ column_46 ┆ 0.00114      │\n",
       "│ column_30 ┆ 0.001114     │\n",
       "│ column_35 ┆ 0.0          │\n",
       "└───────────┴──────────────┘"
      ]
     },
     "execution_count": 7,
     "metadata": {},
     "output_type": "execute_result"
    }
   ],
   "source": [
    "start = perf_counter()\n",
    "output = estimate_mi_sklearn(df, target=target, cols=features).sort(\"estimated_mi\",  descending=True)\n",
    "end = perf_counter()\n",
    "print(f\"Spent {end-start:.2f}s.\")\n",
    "output"
   ]
  },
  {
   "cell_type": "code",
   "execution_count": 8,
   "metadata": {},
   "outputs": [],
   "source": [
    "import sys\n",
    "sys.path.append('../src')\n",
    "from dsds.fs import mutual_info"
   ]
  },
  {
   "cell_type": "code",
   "execution_count": 9,
   "metadata": {},
   "outputs": [
    {
     "name": "stderr",
     "output_type": "stream",
     "text": [
      "Mutual Info: 100%|██████████| 50/50 [00:11<00:00,  4.29it/s]\n"
     ]
    },
    {
     "data": {
      "text/html": [
       "<div><style>\n",
       ".dataframe > thead > tr > th,\n",
       ".dataframe > tbody > tr > td {\n",
       "  text-align: right;\n",
       "}\n",
       "</style>\n",
       "<small>shape: (50, 2)</small><table border=\"1\" class=\"dataframe\"><thead><tr><th>feature</th><th>estimated_mi</th></tr><tr><td>str</td><td>f64</td></tr></thead><tbody><tr><td>&quot;column_0&quot;</td><td>0.036392</td></tr><tr><td>&quot;column_1&quot;</td><td>0.013259</td></tr><tr><td>&quot;column_2&quot;</td><td>0.008562</td></tr><tr><td>&quot;column_3&quot;</td><td>0.016895</td></tr><tr><td>&quot;column_4&quot;</td><td>0.004402</td></tr><tr><td>&quot;column_5&quot;</td><td>0.007083</td></tr><tr><td>&quot;column_6&quot;</td><td>0.013809</td></tr><tr><td>&quot;column_7&quot;</td><td>0.023051</td></tr><tr><td>&quot;column_8&quot;</td><td>0.016186</td></tr><tr><td>&quot;column_9&quot;</td><td>0.001504</td></tr><tr><td>&quot;column_10&quot;</td><td>0.039148</td></tr><tr><td>&quot;column_11&quot;</td><td>0.014152</td></tr><tr><td>&hellip;</td><td>&hellip;</td></tr><tr><td>&quot;column_38&quot;</td><td>0.016927</td></tr><tr><td>&quot;column_39&quot;</td><td>0.01625</td></tr><tr><td>&quot;column_40&quot;</td><td>0.02186</td></tr><tr><td>&quot;column_41&quot;</td><td>0.027905</td></tr><tr><td>&quot;column_42&quot;</td><td>0.013113</td></tr><tr><td>&quot;column_43&quot;</td><td>0.014974</td></tr><tr><td>&quot;column_44&quot;</td><td>0.010308</td></tr><tr><td>&quot;column_45&quot;</td><td>0.001689</td></tr><tr><td>&quot;column_46&quot;</td><td>0.00114</td></tr><tr><td>&quot;column_47&quot;</td><td>0.003094</td></tr><tr><td>&quot;column_48&quot;</td><td>0.013637</td></tr><tr><td>&quot;column_49&quot;</td><td>0.006765</td></tr></tbody></table></div>"
      ],
      "text/plain": [
       "shape: (50, 2)\n",
       "┌───────────┬──────────────┐\n",
       "│ feature   ┆ estimated_mi │\n",
       "│ ---       ┆ ---          │\n",
       "│ str       ┆ f64          │\n",
       "╞═══════════╪══════════════╡\n",
       "│ column_0  ┆ 0.036392     │\n",
       "│ column_1  ┆ 0.013259     │\n",
       "│ column_2  ┆ 0.008562     │\n",
       "│ column_3  ┆ 0.016895     │\n",
       "│ …         ┆ …            │\n",
       "│ column_46 ┆ 0.00114      │\n",
       "│ column_47 ┆ 0.003094     │\n",
       "│ column_48 ┆ 0.013637     │\n",
       "│ column_49 ┆ 0.006765     │\n",
       "└───────────┴──────────────┘"
      ]
     },
     "execution_count": 9,
     "metadata": {},
     "output_type": "execute_result"
    }
   ],
   "source": [
    "mutual_info(df, conti_cols=features, target=target)"
   ]
  },
  {
   "cell_type": "code",
   "execution_count": null,
   "metadata": {},
   "outputs": [],
   "source": []
  },
  {
   "cell_type": "code",
   "execution_count": null,
   "metadata": {},
   "outputs": [],
   "source": []
  },
  {
   "cell_type": "code",
   "execution_count": null,
   "metadata": {},
   "outputs": [],
   "source": []
  }
 ],
 "metadata": {
  "kernelspec": {
   "display_name": "my_py11",
   "language": "python",
   "name": "python3"
  },
  "language_info": {
   "codemirror_mode": {
    "name": "ipython",
    "version": 3
   },
   "file_extension": ".py",
   "mimetype": "text/x-python",
   "name": "python",
   "nbconvert_exporter": "python",
   "pygments_lexer": "ipython3",
   "version": "3.11.3"
  },
  "orig_nbformat": 4
 },
 "nbformat": 4,
 "nbformat_minor": 2
}
