{
 "cells": [
  {
   "cell_type": "code",
   "execution_count": 1,
   "metadata": {},
   "outputs": [],
   "source": [
    "import polars as pl\n",
    "import dsds.fs as fs\n",
    "from sklearn.datasets import make_classification"
   ]
  },
  {
   "cell_type": "code",
   "execution_count": 2,
   "metadata": {},
   "outputs": [],
   "source": [
    "orig_x, orig_y = make_classification(n_samples = 10_000, n_features = 500, n_informative = 60, n_redundant = 440)\n",
    "df = pl.from_numpy(orig_x).insert_at_idx(0, pl.Series(\"target\", orig_y)) \n",
    "target = \"target\"\n",
    "features = df.columns\n",
    "features.remove(target)"
   ]
  },
  {
   "cell_type": "markdown",
   "metadata": {},
   "source": [
    "# Correlation Among Features"
   ]
  },
  {
   "cell_type": "code",
   "execution_count": 3,
   "metadata": {},
   "outputs": [],
   "source": [
    "import dsds.prescreen as ps"
   ]
  },
  {
   "cell_type": "code",
   "execution_count": 4,
   "metadata": {},
   "outputs": [
    {
     "data": {
      "text/html": [
       "<div><style>\n",
       ".dataframe > thead > tr > th,\n",
       ".dataframe > tbody > tr > td {\n",
       "  text-align: right;\n",
       "  white-space: pre-wrap;\n",
       "}\n",
       "</style>\n",
       "<small>shape: (5, 3)</small><table border=\"1\" class=\"dataframe\"><thead><tr><th>features</th><th>corr &gt; 0.50</th><th>corr &lt; -0.50</th></tr><tr><td>str</td><td>list[str]</td><td>list[str]</td></tr></thead><tbody><tr><td>&quot;column_241&quot;</td><td>[&quot;column_357&quot;]</td><td>[]</td></tr><tr><td>&quot;column_38&quot;</td><td>[&quot;column_361&quot;]</td><td>[]</td></tr><tr><td>&quot;column_31&quot;</td><td>[]</td><td>[&quot;column_426&quot;]</td></tr><tr><td>&quot;column_260&quot;</td><td>[&quot;column_162&quot;]</td><td>[]</td></tr><tr><td>&quot;column_462&quot;</td><td>[]</td><td>[&quot;column_355&quot;]</td></tr></tbody></table></div>"
      ],
      "text/plain": [
       "shape: (5, 3)\n",
       "┌────────────┬────────────────┬────────────────┐\n",
       "│ features   ┆ corr > 0.50    ┆ corr < -0.50   │\n",
       "│ ---        ┆ ---            ┆ ---            │\n",
       "│ str        ┆ list[str]      ┆ list[str]      │\n",
       "╞════════════╪════════════════╪════════════════╡\n",
       "│ column_241 ┆ [\"column_357\"] ┆ []             │\n",
       "│ column_38  ┆ [\"column_361\"] ┆ []             │\n",
       "│ column_31  ┆ []             ┆ [\"column_426\"] │\n",
       "│ column_260 ┆ [\"column_162\"] ┆ []             │\n",
       "│ column_462 ┆ []             ┆ [\"column_355\"] │\n",
       "└────────────┴────────────────┴────────────────┘"
      ]
     },
     "execution_count": 4,
     "metadata": {},
     "output_type": "execute_result"
    }
   ],
   "source": [
    "ps.infer_highly_correlated(df, threshold=0.5).head()"
   ]
  },
  {
   "cell_type": "code",
   "execution_count": 5,
   "metadata": {},
   "outputs": [
    {
     "data": {
      "text/html": [
       "<div><style>\n",
       ".dataframe > thead > tr > th,\n",
       ".dataframe > tbody > tr > td {\n",
       "  text-align: right;\n",
       "  white-space: pre-wrap;\n",
       "}\n",
       "</style>\n",
       "<small>shape: (5, 2)</small><table border=\"1\" class=\"dataframe\"><thead><tr><th>features</th><th>target</th></tr><tr><td>str</td><td>f64</td></tr></thead><tbody><tr><td>&quot;column_84&quot;</td><td>0.235109</td></tr><tr><td>&quot;column_446&quot;</td><td>0.231165</td></tr><tr><td>&quot;column_475&quot;</td><td>0.226831</td></tr><tr><td>&quot;column_144&quot;</td><td>0.219128</td></tr><tr><td>&quot;column_296&quot;</td><td>0.21785</td></tr></tbody></table></div>"
      ],
      "text/plain": [
       "shape: (5, 2)\n",
       "┌────────────┬──────────┐\n",
       "│ features   ┆ target   │\n",
       "│ ---        ┆ ---      │\n",
       "│ str        ┆ f64      │\n",
       "╞════════════╪══════════╡\n",
       "│ column_84  ┆ 0.235109 │\n",
       "│ column_446 ┆ 0.231165 │\n",
       "│ column_475 ┆ 0.226831 │\n",
       "│ column_144 ┆ 0.219128 │\n",
       "│ column_296 ┆ 0.21785  │\n",
       "└────────────┴──────────┘"
      ]
     },
     "execution_count": 5,
     "metadata": {},
     "output_type": "execute_result"
    }
   ],
   "source": [
    "ps.corr_report(df, features, [\"target\"]).sort(\"target\", descending=True).head()"
   ]
  },
  {
   "cell_type": "markdown",
   "metadata": {},
   "source": [
    "# MRMR w/ Feature Relevance from LGBM\n",
    "\n",
    "1. Good first option for models with less columns."
   ]
  },
  {
   "cell_type": "code",
   "execution_count": 6,
   "metadata": {},
   "outputs": [
    {
     "name": "stderr",
     "output_type": "stream",
     "text": [
      "INFO:dsds.fs:Running lgbm to determine feature relevance...\n",
      "c:\\Users\\qtren\\Desktop\\MY\\PythonProjects\\dsds\\.venv\\Lib\\site-packages\\tqdm\\auto.py:21: TqdmWarning: IProgress not found. Please update jupyter and ipywidgets. See https://ipywidgets.readthedocs.io/en/stable/user_install.html\n",
      "  from .autonotebook import tqdm as notebook_tqdm\n",
      "[I 2023-10-21 15:52:59,297] A new study created in memory with name: no-name-d7991179-fb99-4f59-87f1-9b9ed4a1a836\n",
      "c:\\Users\\qtren\\Desktop\\MY\\PythonProjects\\dsds\\.venv\\Lib\\site-packages\\lightgbm\\engine.py:172: UserWarning: Found `num_iterations` in params. Will use it instead of argument\n",
      "  _log_warning(f\"Found `{alias}` in params. Will use it instead of argument\")\n",
      "[I 2023-10-21 15:53:04,265] Trial 2 finished with value: 0.3915189573229743 and parameters: {'max_depth': 2, 'num_iterations': 95, 'lambda_l1': 2.5330921736559406, 'lambda_l2': 0.0667369300771651, 'num_leaves': 246, 'feature_fraction': 0.7667114801160662, 'bagging_fraction': 0.6861971205162487, 'bagging_freq': 2, 'min_child_samples': 29}. Best is trial 2 with value: 0.3915189573229743.\n",
      "[I 2023-10-21 15:53:06,336] Trial 1 finished with value: 0.2549140038621587 and parameters: {'max_depth': 4, 'num_iterations': 89, 'lambda_l1': 1.9924060584270356e-08, 'lambda_l2': 1.7043535867973099, 'num_leaves': 104, 'feature_fraction': 0.7800630956450376, 'bagging_fraction': 0.6203489992275716, 'bagging_freq': 4, 'min_child_samples': 70}. Best is trial 1 with value: 0.2549140038621587.\n",
      "[I 2023-10-21 15:53:08,484] Trial 11 finished with value: 0.2717693269841354 and parameters: {'max_depth': 3, 'num_iterations': 132, 'lambda_l1': 2.331303015692768e-07, 'lambda_l2': 8.369299030343301e-07, 'num_leaves': 132, 'feature_fraction': 0.5300646320766556, 'bagging_fraction': 0.5865840045496118, 'bagging_freq': 1, 'min_child_samples': 31}. Best is trial 1 with value: 0.2549140038621587.\n",
      "[I 2023-10-21 15:53:10,701] Trial 12 finished with value: 0.2382893927713645 and parameters: {'max_depth': 4, 'num_iterations': 114, 'lambda_l1': 0.10609772663136097, 'lambda_l2': 4.5678167037822394e-08, 'num_leaves': 165, 'feature_fraction': 0.5568442171841868, 'bagging_fraction': 0.41339268076045965, 'bagging_freq': 3, 'min_child_samples': 88}. Best is trial 12 with value: 0.2382893927713645.\n",
      "[I 2023-10-21 15:53:12,464] Trial 9 finished with value: 0.13933458986063227 and parameters: {'max_depth': 10, 'num_iterations': 153, 'lambda_l1': 0.0004219442413569858, 'lambda_l2': 0.000851183719143055, 'num_leaves': 224, 'feature_fraction': 0.40596064297221063, 'bagging_fraction': 0.41619746183549594, 'bagging_freq': 7, 'min_child_samples': 98}. Best is trial 9 with value: 0.13933458986063227.\n",
      "[I 2023-10-21 15:53:12,598] Trial 5 pruned. Trial was pruned at iteration 147.\n",
      "[I 2023-10-21 15:53:14,328] Trial 4 finished with value: 0.151420303307949 and parameters: {'max_depth': 6, 'num_iterations': 131, 'lambda_l1': 0.013117610022848353, 'lambda_l2': 0.00019335801960642946, 'num_leaves': 122, 'feature_fraction': 0.5817543844737181, 'bagging_fraction': 0.5439086050339434, 'bagging_freq': 2, 'min_child_samples': 34}. Best is trial 9 with value: 0.13933458986063227.\n",
      "[I 2023-10-21 15:53:15,544] Trial 17 pruned. Trial was pruned at iteration 10.\n",
      "[I 2023-10-21 15:53:19,904] Trial 3 finished with value: 0.1349507036331595 and parameters: {'max_depth': 16, 'num_iterations': 100, 'lambda_l1': 0.00020074159799583053, 'lambda_l2': 5.973268041647355e-06, 'num_leaves': 118, 'feature_fraction': 0.7977372810674865, 'bagging_fraction': 0.6267029573892351, 'bagging_freq': 4, 'min_child_samples': 70}. Best is trial 3 with value: 0.1349507036331595.\n",
      "[I 2023-10-21 15:53:20,275] Trial 15 finished with value: 0.2553783952840961 and parameters: {'max_depth': 5, 'num_iterations': 60, 'lambda_l1': 4.639917272938203e-05, 'lambda_l2': 1.8166000980861041e-06, 'num_leaves': 167, 'feature_fraction': 0.9723552192174777, 'bagging_fraction': 0.44878600162006843, 'bagging_freq': 4, 'min_child_samples': 27}. Best is trial 3 with value: 0.1349507036331595.\n",
      "[I 2023-10-21 15:53:20,570] Trial 7 finished with value: 0.1932809962675283 and parameters: {'max_depth': 12, 'num_iterations': 67, 'lambda_l1': 5.198971023753481e-05, 'lambda_l2': 4.349009962561023, 'num_leaves': 99, 'feature_fraction': 0.47583841669278526, 'bagging_fraction': 0.6964088643699049, 'bagging_freq': 3, 'min_child_samples': 33}. Best is trial 3 with value: 0.1349507036331595.\n",
      "[I 2023-10-21 15:53:24,375] Trial 6 finished with value: 0.1596767761056049 and parameters: {'max_depth': 14, 'num_iterations': 60, 'lambda_l1': 0.0013833505879434543, 'lambda_l2': 7.106706316642804e-05, 'num_leaves': 110, 'feature_fraction': 0.7102306440502151, 'bagging_fraction': 0.7328437180302172, 'bagging_freq': 3, 'min_child_samples': 25}. Best is trial 3 with value: 0.1349507036331595.\n",
      "[I 2023-10-21 15:53:27,900] Trial 0 finished with value: 0.13150693011675418 and parameters: {'max_depth': 8, 'num_iterations': 175, 'lambda_l1': 3.6066500783396567, 'lambda_l2': 0.0024999401420934876, 'num_leaves': 124, 'feature_fraction': 0.5975064324233464, 'bagging_fraction': 0.6434030969406115, 'bagging_freq': 4, 'min_child_samples': 44}. Best is trial 0 with value: 0.13150693011675418.\n",
      "[I 2023-10-21 15:53:28,935] Trial 13 finished with value: 0.1176746002720347 and parameters: {'max_depth': 10, 'num_iterations': 137, 'lambda_l1': 0.006138310984464094, 'lambda_l2': 2.310832395025616e-08, 'num_leaves': 155, 'feature_fraction': 0.8706722101548414, 'bagging_fraction': 0.42366238893018676, 'bagging_freq': 3, 'min_child_samples': 55}. Best is trial 13 with value: 0.1176746002720347.\n",
      "[I 2023-10-21 15:53:34,093] Trial 14 finished with value: 0.1106592746794414 and parameters: {'max_depth': 14, 'num_iterations': 180, 'lambda_l1': 0.7676306563425398, 'lambda_l2': 1.8710057328901303e-07, 'num_leaves': 249, 'feature_fraction': 0.8357818653807771, 'bagging_fraction': 0.5264527964614583, 'bagging_freq': 1, 'min_child_samples': 83}. Best is trial 14 with value: 0.1106592746794414.\n",
      "[I 2023-10-21 15:53:36,069] Trial 18 finished with value: 0.1490954545383067 and parameters: {'max_depth': 10, 'num_iterations': 87, 'lambda_l1': 0.0016204944831893081, 'lambda_l2': 0.5445276220416146, 'num_leaves': 152, 'feature_fraction': 0.9260250279024183, 'bagging_fraction': 0.4985392728851603, 'bagging_freq': 7, 'min_child_samples': 27}. Best is trial 14 with value: 0.1106592746794414.\n",
      "[I 2023-10-21 15:53:37,474] Trial 10 finished with value: 0.09950396892756437 and parameters: {'max_depth': 15, 'num_iterations': 165, 'lambda_l1': 0.00045899233706944215, 'lambda_l2': 2.700749887572202e-06, 'num_leaves': 199, 'feature_fraction': 0.9458938205876221, 'bagging_fraction': 0.7458611228429407, 'bagging_freq': 2, 'min_child_samples': 64}. Best is trial 10 with value: 0.09950396892756437.\n",
      "[I 2023-10-21 15:53:39,713] Trial 23 pruned. Trial was pruned at iteration 66.\n",
      "[I 2023-10-21 15:53:48,493] Trial 19 finished with value: 0.11451829100867932 and parameters: {'max_depth': 9, 'num_iterations': 148, 'lambda_l1': 2.052301625533989e-07, 'lambda_l2': 0.0018374191200966426, 'num_leaves': 49, 'feature_fraction': 0.8485890585673017, 'bagging_fraction': 0.9078314920655667, 'bagging_freq': 2, 'min_child_samples': 21}. Best is trial 10 with value: 0.09950396892756437.\n",
      "[I 2023-10-21 15:53:49,953] Trial 16 finished with value: 0.10814223854191965 and parameters: {'max_depth': 7, 'num_iterations': 174, 'lambda_l1': 1.8410388866433385e-08, 'lambda_l2': 0.00014895404345079708, 'num_leaves': 66, 'feature_fraction': 0.824419147390995, 'bagging_fraction': 0.6254765246563957, 'bagging_freq': 3, 'min_child_samples': 10}. Best is trial 10 with value: 0.09950396892756437.\n",
      "[I 2023-10-21 15:53:50,123] Trial 24 pruned. Trial was pruned at iteration 121.\n",
      "[I 2023-10-21 15:53:55,868] Trial 20 finished with value: 0.10119162761633518 and parameters: {'max_depth': 14, 'num_iterations': 161, 'lambda_l1': 0.00043265573277090694, 'lambda_l2': 6.379671135182225e-05, 'num_leaves': 63, 'feature_fraction': 0.9654877747275448, 'bagging_fraction': 0.8139796626032756, 'bagging_freq': 6, 'min_child_samples': 58}. Best is trial 10 with value: 0.09950396892756437.\n",
      "[I 2023-10-21 15:53:56,933] Trial 21 finished with value: 0.10116111126751035 and parameters: {'max_depth': 16, 'num_iterations': 167, 'lambda_l1': 0.0010029915938198056, 'lambda_l2': 0.00029977138648546044, 'num_leaves': 239, 'feature_fraction': 0.41671785089736574, 'bagging_fraction': 0.8019077104224946, 'bagging_freq': 7, 'min_child_samples': 68}. Best is trial 10 with value: 0.09950396892756437.\n",
      "[I 2023-10-21 15:54:00,099] Trial 8 finished with value: 0.1089643877759374 and parameters: {'max_depth': 15, 'num_iterations': 191, 'lambda_l1': 6.900567128533004e-05, 'lambda_l2': 2.6657205237650134e-07, 'num_leaves': 93, 'feature_fraction': 0.712166514422732, 'bagging_fraction': 0.9928875477724459, 'bagging_freq': 4, 'min_child_samples': 52}. Best is trial 10 with value: 0.09950396892756437.\n",
      "[I 2023-10-21 15:54:00,360] Trial 22 finished with value: 0.09958065278583618 and parameters: {'max_depth': 16, 'num_iterations': 162, 'lambda_l1': 0.00044455775701915005, 'lambda_l2': 0.0017210604494081448, 'num_leaves': 254, 'feature_fraction': 0.634832855130675, 'bagging_fraction': 0.829890398917273, 'bagging_freq': 7, 'min_child_samples': 67}. Best is trial 10 with value: 0.09950396892756437.\n",
      "[I 2023-10-21 15:54:02,868] Trial 25 finished with value: 0.10394559302231356 and parameters: {'max_depth': 13, 'num_iterations': 160, 'lambda_l1': 0.20230182610610098, 'lambda_l2': 2.219976389805129e-08, 'num_leaves': 199, 'feature_fraction': 0.9010685719379333, 'bagging_fraction': 0.8060100188661059, 'bagging_freq': 1, 'min_child_samples': 62}. Best is trial 10 with value: 0.09950396892756437.\n",
      "[I 2023-10-21 15:54:03,887] Trial 27 finished with value: 0.1002102041186218 and parameters: {'max_depth': 16, 'num_iterations': 167, 'lambda_l1': 0.09013211711041781, 'lambda_l2': 1.1926118057583546e-07, 'num_leaves': 230, 'feature_fraction': 0.9998187243712316, 'bagging_fraction': 0.8227878482167769, 'bagging_freq': 1, 'min_child_samples': 76}. Best is trial 10 with value: 0.09950396892756437.\n",
      "[I 2023-10-21 15:54:04,496] Trial 28 pruned. Trial was pruned at iteration 148.\n",
      "[I 2023-10-21 15:54:04,609] Trial 29 pruned. Trial was pruned at iteration 132.\n",
      "[I 2023-10-21 15:54:07,471] Trial 26 pruned. Trial was pruned at iteration 132.\n",
      "INFO:dsds.fs:LightGBM tuning is not deterministic by default. Results may vary.\n",
      "INFO:dsds.fs:Recommended hyperparameters: {'max_depth': 15, 'num_iterations': 165, 'lambda_l1': 0.00045899233706944215, 'lambda_l2': 2.700749887572202e-06, 'num_leaves': 199, 'feature_fraction': 0.9458938205876221, 'bagging_fraction': 0.7458611228429407, 'bagging_freq': 2, 'min_child_samples': 64, 'verbosity': -1}\n"
     ]
    },
    {
     "name": "stdout",
     "output_type": "stream",
     "text": [
      "Best params: {'max_depth': 15, 'num_iterations': 165, 'lambda_l1': 0.00045899233706944215, 'lambda_l2': 2.700749887572202e-06, 'num_leaves': 199, 'feature_fraction': 0.9458938205876221, 'bagging_fraction': 0.7458611228429407, 'bagging_freq': 2, 'min_child_samples': 64}.\n",
      "Found at trial: 10.\n",
      "Time took: 38s.\n"
     ]
    },
    {
     "name": "stderr",
     "output_type": "stream",
     "text": [
      "INFO:dsds.fs:Found 500 total features to select from. Proceeding to select top 50 features.\n",
      "MRMR: 100%|██████████| 50/50 [00:01<00:00, 38.23it/s]\n"
     ]
    }
   ],
   "source": [
    "# LGBM Based Feature Importance.\n",
    "# LGBM hyperparameters is automatically suggested by Optuna with 30-trial tuning.\n",
    "# More user control on this tuning process will be added in the future.\n",
    "\n",
    "f1 = fs.mrmr(\n",
    "    df,\n",
    "    \"target\",\n",
    "    50,\n",
    "    relevance=\"lgbm\",\n",
    "    mrmr_strategy=\"accum_corr\"\n",
    ")"
   ]
  },
  {
   "cell_type": "markdown",
   "metadata": {},
   "source": [
    "# MRMR w/ Feature Relevance From F-score\n",
    "\n",
    "1. Super fast. But may suffer from univariate feature selection problem."
   ]
  },
  {
   "cell_type": "code",
   "execution_count": 7,
   "metadata": {},
   "outputs": [
    {
     "name": "stderr",
     "output_type": "stream",
     "text": [
      "INFO:dsds.fs:Running f to determine feature relevance...\n",
      "INFO:dsds.fs:Found 500 total features to select from. Proceeding to select top 50 features.\n",
      "MRMR: 100%|██████████| 50/50 [00:01<00:00, 38.17it/s]\n"
     ]
    }
   ],
   "source": [
    "f2 = fs.mrmr(\n",
    "    df,\n",
    "    \"target\",\n",
    "    50,\n",
    "    relevance=\"f\",\n",
    "    mrmr_strategy= \"accum_corr\"\n",
    ")"
   ]
  },
  {
   "cell_type": "code",
   "execution_count": null,
   "metadata": {},
   "outputs": [],
   "source": []
  },
  {
   "cell_type": "markdown",
   "metadata": {},
   "source": [
    "# MRMR w/ Custom Score\n",
    "\n",
    "1. Use fs.mrmr_engine"
   ]
  },
  {
   "cell_type": "code",
   "execution_count": 8,
   "metadata": {},
   "outputs": [],
   "source": [
    "# random feature importance\n",
    "relevance = {\n",
    "    features[i] : i\n",
    "    for i in range(len(features)) \n",
    "}"
   ]
  },
  {
   "cell_type": "code",
   "execution_count": 9,
   "metadata": {},
   "outputs": [
    {
     "name": "stderr",
     "output_type": "stream",
     "text": [
      "INFO:dsds.fs:Found 500 total features to select from. Proceeding to select top 50 features.\n",
      "INFO:dsds.fs:Round 2: The top 20 features, relative score, and the accumulated correlation are the following:\n",
      "[('column_311', 586358.0420327485, 0.0005303926572267093), ('column_331', 179138.3996991347, 0.0018477333757358492), ('column_338', 167615.6924406437, 0.002016517636734359), ('column_330', 147210.92843257933, 0.0022416813990215113), ('column_387', 137475.34808832582, 0.0028150501554021047), ('column_317', 114249.5471788471, 0.0027746280648602117), ('column_470', 113132.33715116352, 0.004154426681488974), ('column_437', 112718.9968886523, 0.0038768975244845697), ('column_454', 86460.96192119618, 0.005250924693780216), ('column_378', 73179.52435753861, 0.005165379295896725), ('column_277', 66129.1779979393, 0.004188771256292219), ('column_293', 61694.10812286465, 0.004749237956669809), ('column_307', 58418.22062354865, 0.005255209705518605), ('column_333', 58193.15877925877, 0.0057223221248936225), ('column_332', 57422.42987411568, 0.005781712838133583), ('column_220', 54379.79409792438, 0.004045620320000387), ('column_273', 54173.82246292284, 0.005039334268628436), ('column_496', 53912.0731180091, 0.009200165590262068), ('column_494', 52554.5573239528, 0.009399755704437254), ('column_276', 45331.803673987066, 0.006088440733241289)]\n",
      "INFO:dsds.fs:The selected feature is column_311\n",
      "INFO:dsds.fs:Round 3: The top 20 features, relative score, and the accumulated correlation are the following:\n",
      "[('column_276', 62639.58612793508, 0.008812318760736945), ('column_372', 47255.04334472678, 0.015744351234057718), ('column_452', 42930.95791224695, 0.021057065669203602), ('column_323', 37222.39718359093, 0.017355142303537123), ('column_454', 28849.168362576398, 0.03147404419386564), ('column_253', 28413.214099460947, 0.017808615323445572), ('column_331', 25393.471662313666, 0.026069692588842477), ('column_393', 22769.616352386518, 0.03451968570026513), ('column_497', 22410.8809303378, 0.0443534550511316), ('column_486', 22188.42299486465, 0.04380662835862478), ('column_433', 20659.62737770211, 0.041917503358975), ('column_324', 19643.715937352288, 0.03298764867434455), ('column_443', 19029.248450032363, 0.04655990499711476), ('column_336', 18823.270233854102, 0.0357004915538742), ('column_300', 14645.41898595113, 0.04096844211664824), ('column_312', 14530.589959990739, 0.042943886085709745), ('column_470', 14424.825141840558, 0.0651654346417997), ('column_496', 14235.377334325482, 0.06968554304549485), ('column_403', 14025.869086930745, 0.05746524475627881), ('column_437', 13263.34243141404, 0.06589590855544401)]\n",
      "INFO:dsds.fs:The selected feature is column_276\n",
      "INFO:dsds.fs:Round 4: The top 20 features, relative score, and the accumulated correlation are the following:\n",
      "[('column_336', 28178.087563044137, 0.03577247738139627), ('column_454', 22384.538165465456, 0.06084557072083238), ('column_496', 20906.431244219413, 0.07117427085559756), ('column_253', 20434.747844685968, 0.037142616379158166), ('column_452', 19605.38896837574, 0.06916465682916473), ('column_324', 15562.044416141847, 0.0624596597984122), ('column_490', 14102.20015467674, 0.10423905375591347), ('column_497', 12793.895444991364, 0.11653995504423996), ('column_228', 12214.235135914101, 0.0560002318924418), ('column_331', 10529.2950183449, 0.09430830822670687), ('column_486', 10136.116789862848, 0.14384206794639037), ('column_377', 9795.368136137793, 0.11546273547672309), ('column_472', 9346.972698501211, 0.15149289996610943), ('column_464', 9145.86377811772, 0.1521999489354392), ('column_299', 8704.947769257835, 0.10304484573334509), ('column_389', 8342.967055050553, 0.13987829417275924), ('column_466', 8082.351443247685, 0.17296946437140448), ('column_491', 8075.574291015187, 0.18240188832623916), ('column_409', 8032.1694311542515, 0.1527607218095841), ('column_443', 7978.1550901181745, 0.16657986526811358)]\n",
      "INFO:dsds.fs:The selected feature is column_336\n",
      "INFO:dsds.fs:Round 5: The top 20 features, relative score, and the accumulated correlation are the following:\n",
      "[('column_496', 19452.31865310592, 0.10199298270713955), ('column_490', 13317.668143970968, 0.1471729118650032), ('column_454', 12757.015390108032, 0.14235304610576482), ('column_452', 10929.812258510181, 0.1654191268100011), ('column_253', 10465.691597733283, 0.09669690631999747), ('column_291', 9093.645786534267, 0.12800146688401187), ('column_472', 9074.658435684705, 0.2080519077804327), ('column_389', 9027.228961869998, 0.17236740162151304), ('column_466', 8494.650713326106, 0.21943221244822028), ('column_396', 8154.131902321866, 0.1942573432677684), ('column_497', 7896.445422008027, 0.2517588476530572), ('column_464', 7756.273189396649, 0.23929017901758254), ('column_380', 7579.636894549011, 0.20053731084309945), ('column_107', 7370.589313829174, 0.058068626778181615), ('column_429', 7222.9507283681005, 0.2375760356858616), ('column_333', 6976.629761197202, 0.1909231313102426), ('column_441', 6935.0318426093245, 0.2543607643099574), ('column_470', 6890.268242920084, 0.2728485936569661), ('column_342', 6854.748112230793, 0.19956969645012987), ('column_455', 6851.045756160695, 0.26565287472549626)]\n",
      "INFO:dsds.fs:The selected feature is column_496\n",
      "INFO:dsds.fs:Round 6: The top 20 features, relative score, and the accumulated correlation are the following:\n",
      "[('column_380', 9425.811191538092, 0.2015741628376454), ('column_253', 9235.909075789734, 0.13696540206485672), ('column_490', 8945.53461229868, 0.27387966244428164), ('column_466', 8425.937971383451, 0.2765270772124422), ('column_452', 8361.818689435784, 0.27027613058092914), ('column_409', 8254.160438285575, 0.2477538467164512), ('column_464', 7601.235237444774, 0.30521355115696824), ('column_396', 7553.728473167032, 0.2621222098508726), ('column_472', 7456.890086401046, 0.3164858235343815), ('column_342', 7211.6309321061235, 0.23711695954754058), ('column_331', 7194.680585042642, 0.230031059813921), ('column_446', 7169.198141170389, 0.3110529177864161), ('column_418', 6979.978546527178, 0.2994278544079279), ('column_416', 6800.343857944838, 0.305866886064877), ('column_471', 6771.215508600786, 0.3477957535111212), ('column_470', 6475.016134969698, 0.36293345854511877), ('column_443', 6474.110225591414, 0.34213195679683667), ('column_300', 6389.820242361164, 0.2347483877646174), ('column_329', 6306.016148878777, 0.2608620024375428), ('column_494', 6237.152883672256, 0.3960140221135216)]\n",
      "INFO:dsds.fs:The selected feature is column_380\n",
      "INFO:dsds.fs:Round 7: The top 20 features, relative score, and the accumulated correlation are the following:\n",
      "[('column_452', 9643.809019992064, 0.2812166846500069), ('column_331', 8598.874726961358, 0.2309604527407514), ('column_490', 8452.153322738954, 0.347840353545229), ('column_472', 8049.739543606663, 0.3518126250742183), ('column_342', 7742.745509520303, 0.26502227116685), ('column_464', 7541.556272297641, 0.3691545749285797), ('column_446', 7135.7308038302845, 0.3750141469131079), ('column_300', 7052.51654872276, 0.25522804343167227), ('column_470', 6922.450843738569, 0.40737017331812764), ('column_329', 6918.813905601174, 0.28530901783641477), ('column_471', 6819.004170289341, 0.414430014915226), ('column_494', 6538.765472766555, 0.4532965759889734), ('column_425', 6441.451749147184, 0.3958734923905325), ('column_454', 6351.951525764165, 0.4288445824800736), ('column_409', 6265.350319469168, 0.39167801876526437), ('column_396', 6201.865034750863, 0.38311056217550327), ('column_408', 6062.804516700507, 0.4037735330665499), ('column_433', 6020.537045096978, 0.43152296556596503), ('column_377', 5905.25752960737, 0.38304849342453595), ('column_475', 5873.530634943629, 0.48522774071261027)]\n",
      "INFO:dsds.fs:The selected feature is column_452\n",
      "INFO:dsds.fs:Round 8: The top 20 features, relative score, and the accumulated correlation are the following:\n",
      "[('column_331', 8506.641947858445, 0.2723753996232681), ('column_472', 8378.153389559333, 0.3943589770172232), ('column_471', 7694.8325055988025, 0.42846936533070534), ('column_464', 7074.199613518173, 0.4591332132886607), ('column_446', 7021.294166650956, 0.4446473721082026), ('column_494', 6999.641205727268, 0.4940253219222986), ('column_396', 6934.818670005971, 0.3997220593509207), ('column_454', 6764.62791322511, 0.4697967191642406), ('column_377', 6735.52790325369, 0.3918029941981525), ('column_300', 6437.2645090960605, 0.32622552592527976), ('column_470', 6363.167562027141, 0.5170380895881816), ('column_409', 6317.461149418695, 0.45318838252981436), ('column_475', 6254.767411731482, 0.531594507217584), ('column_425', 6232.204434427227, 0.477359180255039), ('column_333', 6147.929047606616, 0.37915206599650925), ('column_342', 6119.580262266287, 0.3912033011089916), ('column_329', 5969.6331057185525, 0.3857858530357357), ('column_405', 5943.208196675392, 0.47701509120711744), ('column_443', 5936.6624316722255, 0.5223473686925665), ('column_469', 5911.000284587537, 0.555405150048827)]\n",
      "INFO:dsds.fs:The selected feature is column_331\n",
      "INFO:dsds.fs:Round 9: The top 20 features, relative score, and the accumulated correlation are the following:\n",
      "[('column_471', 8374.044411888393, 0.44996178843411405), ('column_472', 8307.74788761547, 0.45451547773000683), ('column_396', 7432.893339898465, 0.42621356921600545), ('column_494', 6990.810643279215, 0.5653135525562191), ('column_469', 6730.904746615397, 0.5574287768500475), ('column_329', 6626.39548889295, 0.3971993528626103), ('column_475', 6511.942184142054, 0.5835432644432559), ('column_342', 6479.975107713534, 0.42222384415383973), ('column_405', 6284.121484114454, 0.5155851948741527), ('column_333', 6187.3835032725065, 0.4305535609019565), ('column_443', 6076.485918725369, 0.5832318296136866), ('column_493', 6054.101961797799, 0.6514591305014638), ('column_407', 6042.465468629925, 0.5388528932277488), ('column_408', 6034.855939404333, 0.5408579811637013), ('column_425', 5826.294610494472, 0.5835612902024955), ('column_416', 5752.244980476171, 0.5785567219921339), ('column_430', 5702.251448785237, 0.6032704855084619), ('column_426', 5606.39659868866, 0.607877081117867), ('column_462', 5576.42801344391, 0.6627898703416439), ('column_377', 5534.376680837934, 0.5449574855362684)]\n",
      "INFO:dsds.fs:The selected feature is column_471\n",
      "INFO:dsds.fs:Round 10: The top 20 features, relative score, and the accumulated correlation are the following:\n",
      "[('column_472', 9145.582356546822, 0.46448655037905695), ('column_494', 7809.5196369642445, 0.5693051822235089), ('column_396', 7553.211085098834, 0.47185229696958286), ('column_329', 7445.903055855598, 0.39766835235269604), ('column_469', 7238.562102540648, 0.5831268614133296), ('column_462', 6266.9247007417825, 0.6634833189407621), ('column_425', 6227.233265294054, 0.614237469040656), ('column_408', 6163.178750451651, 0.595796446716868), ('column_405', 6116.770327332567, 0.5959027076286402), ('column_430', 6093.12415109356, 0.6351421543421915), ('column_377', 6062.712418221111, 0.5596504940268231), ('column_407', 5937.083781974333, 0.616969565280734), ('column_342', 5931.387735149926, 0.5189342085595755), ('column_443', 5784.78490941372, 0.6892218228394039), ('column_441', 5724.602573412705, 0.6933232393168374), ('column_493', 5705.692143959605, 0.7776444799422415), ('column_475', 5676.960412594188, 0.753043827911152), ('column_333', 5650.2291047988, 0.5304209695593787), ('column_476', 5567.663429272274, 0.7694430625020636), ('column_495', 5506.395190656859, 0.809059256691048)]\n",
      "INFO:dsds.fs:The selected feature is column_472\n",
      "INFO:dsds.fs:Round 11: The top 20 features, relative score, and the accumulated correlation are the following:\n",
      "[('column_396', 8280.963922014244, 0.4782051989711819), ('column_469', 7986.5438280663675, 0.5872377465103703), ('column_494', 7895.15643557035, 0.6257000783092314), ('column_329', 6926.51053420973, 0.47498664497091786), ('column_377', 6190.058454771828, 0.6090410983265854), ('column_342', 6060.490548560463, 0.5643107554738034), ('column_462', 6023.315943150697, 0.7670193699956164), ('column_454', 5929.864578779151, 0.7656161350205238), ('column_405', 5867.514370561232, 0.690241172705064), ('column_430', 5780.557557029141, 0.7438728803541126), ('column_407', 5777.057352005874, 0.7045109217388745), ('column_408', 5770.00749231033, 0.7071048010660995), ('column_493', 5698.61856874125, 0.8651219485091757), ('column_460', 5691.706689167513, 0.8081934384909091), ('column_456', 5690.776852466107, 0.8012965748294835), ('column_466', 5580.23512719355, 0.8350902594213157), ('column_409', 5565.975023054099, 0.7348218385924019), ('column_450', 5540.171990270408, 0.8122491518138522), ('column_441', 5512.190706659455, 0.8000448886269732), ('column_443', 5507.031714176014, 0.8044260919355966)]\n",
      "INFO:dsds.fs:The selected feature is column_396\n",
      "INFO:dsds.fs:Round 12: The top 20 features, relative score, and the accumulated correlation are the following:\n",
      "[('column_494', 8503.569611950128, 0.6390257560029332), ('column_329', 6704.880643965995, 0.5397560660914809), ('column_469', 6624.238048337092, 0.7788065528978211), ('column_462', 6319.156877622033, 0.8042212115348546), ('column_377', 6267.022833316912, 0.6617177103542067), ('column_405', 6184.815232948926, 0.7203125448706172), ('column_408', 6078.93744038076, 0.7382869200441863), ('column_460', 6052.864304366062, 0.8359678567963456), ('column_342', 6026.068664672865, 0.6242876092757277), ('column_454', 5915.827063187317, 0.8441761306844799), ('column_475', 5881.398332303014, 0.8883941717231071), ('column_466', 5820.371429685039, 0.8806998078948005), ('column_443', 5793.588928134029, 0.84110213210613), ('column_456', 5681.026231898091, 0.8829390668601262), ('column_425', 5622.677841340402, 0.8314543589226014), ('column_449', 5619.834895981214, 0.8788514416200939), ('column_430', 5613.005175021248, 0.842685843414013), ('column_434', 5611.059792574764, 0.8508196626807536), ('column_407', 5601.150432270098, 0.79930008203431), ('column_476', 5596.084978510918, 0.9356541260732009)]\n",
      "INFO:dsds.fs:The selected feature is column_494\n",
      "INFO:dsds.fs:Round 13: The top 20 features, relative score, and the accumulated correlation are the following:\n",
      "[('column_405', 6585.100566819716, 0.73802973100943), ('column_377', 6434.954877754243, 0.7030352327161689), ('column_454', 6285.316540451698, 0.8667821206676214), ('column_462', 6247.226225627903, 0.8874338466017017), ('column_342', 6230.885883859197, 0.6586543352737706), ('column_443', 6070.477095899992, 0.8757137068502299), ('column_425', 6051.591804640591, 0.8427534712584424), ('column_456', 6046.249055666708, 0.9050239164183113), ('column_408', 6002.707236259781, 0.8156319819206512), ('column_434', 5908.871236313154, 0.8813866120476737), ('column_469', 5843.597273076282, 0.9631053847482572), ('column_407', 5680.391982686754, 0.8597998192529539), ('column_371', 5631.637456276749, 0.7905338428769092), ('column_466', 5610.640783443388, 0.9966776016924136), ('column_329', 5576.003056092929, 0.7080340452263559), ('column_418', 5538.836751450663, 0.9056053148138501), ('column_335', 5521.965002235563, 0.7280017164854371), ('column_480', 5521.504615805343, 1.0431939119478344), ('column_450', 5420.7414806470215, 0.996173682009911), ('column_409', 5383.0440516115905, 0.9117517807662431)]\n",
      "INFO:dsds.fs:The selected feature is column_405\n",
      "INFO:dsds.fs:Round 14: The top 20 features, relative score, and the accumulated correlation are the following:\n",
      "[('column_377', 6806.7508658841125, 0.7200204762251748), ('column_454', 6675.938759861521, 0.8840704224977679), ('column_462', 6575.567291247815, 0.9133812694752713), ('column_443', 6400.72872867521, 0.8997413019864019), ('column_408', 6110.054701650013, 0.8680773346542481), ('column_371', 6054.303173215909, 0.7966234696235293), ('column_434', 6011.641886757543, 0.9385123242999902), ('column_329', 5971.56275618052, 0.7162279246874428), ('column_409', 5656.626948434409, 0.9399594579012484), ('column_456', 5637.89020152774, 1.051457156507526), ('column_450', 5634.1198762409085, 1.0383165655863054), ('column_476', 5611.709101226944, 1.1026943642975107), ('column_425', 5546.925366490038, 0.9960472937634076), ('column_449', 5519.861875140188, 1.0574539965009102), ('column_480', 5516.820207527509, 1.131086344174446), ('column_466', 5484.938758995589, 1.1044790591443816), ('column_407', 5468.325844403466, 0.9675721876404001), ('column_446', 5439.600662841257, 1.0658870677046246), ('column_460', 5439.539805020502, 1.0993577056795636), ('column_418', 5398.069058457224, 1.0066562582200542)]\n",
      "INFO:dsds.fs:The selected feature is column_377\n",
      "INFO:dsds.fs:Round 15: The top 20 features, relative score, and the accumulated correlation are the following:\n",
      "[('column_454', 7054.302588322561, 0.9010104004500026), ('column_462', 6673.92255556586, 0.9691451985168562), ('column_371', 6478.788137352971, 0.8016931391928653), ('column_408', 6251.629566980275, 0.9136817750958119), ('column_329', 6164.188271218206, 0.7472192277945678), ('column_434', 6107.419908512642, 0.9948554530418241), ('column_476', 5862.8182239799, 1.1366547188420637), ('column_443', 5860.970801556628, 1.0581864694416832), ('column_456', 5857.554582595874, 1.0898746072240308), ('column_460', 5789.943574998152, 1.1122733609717528), ('column_425', 5622.05279004549, 1.0583322893259166), ('column_450', 5555.629919397086, 1.1339848210558443), ('column_342', 5509.856335698058, 0.8689881746968264), ('column_466', 5485.579711902416, 1.1893000088658736), ('column_484', 5472.531893806322, 1.2381837386217724), ('column_479', 5425.980437826665, 1.23590567213435), ('column_455', 5390.5877208712955, 1.181689331450189), ('column_475', 5325.108330393587, 1.2488008858044186), ('column_440', 5308.8106385506735, 1.1603352274930085), ('column_493', 5237.201373578895, 1.3178794374453178)]\n",
      "INFO:dsds.fs:The selected feature is column_454\n",
      "INFO:dsds.fs:Round 16: The top 20 features, relative score, and the accumulated correlation are the following:\n",
      "[('column_462', 7016.7092751129485, 0.9876424586350626), ('column_408', 6261.06615558661, 0.9774693076097368), ('column_371', 6172.7597852635245, 0.9015416432185724), ('column_456', 5961.683099206291, 1.1473270024887172), ('column_425', 5899.869619786324, 1.0805323525489847), ('column_466', 5825.134093046222, 1.1999723763173695), ('column_476', 5812.547872978072, 1.2283769796018567), ('column_450', 5780.363647159253, 1.1677466007380475), ('column_479', 5726.125656819545, 1.2547751185730625), ('column_460', 5708.73744198312, 1.2086735587550608), ('column_329', 5700.303841130751, 0.8657433248367091), ('column_443', 5650.436528720225, 1.1760153337223724), ('column_430', 5565.090570765375, 1.1590107866138326), ('column_480', 5468.662790378679, 1.316592424142033), ('column_475', 5467.413406428469, 1.30317564638931), ('column_434', 5452.407057725896, 1.1939680825509031), ('column_406', 5350.171440756244, 1.1382812807843745), ('column_440', 5312.314843443262, 1.2423962424113597), ('column_482', 5284.729650635792, 1.368092689307234), ('column_393', 5248.422658375506, 1.1231946022092327)]\n",
      "INFO:dsds.fs:The selected feature is column_462\n",
      "INFO:dsds.fs:Round 17: The top 20 features, relative score, and the accumulated correlation are the following:\n",
      "[('column_408', 6536.804283077378, 0.9986531212047803), ('column_371', 6359.959408274521, 0.933339290228341), ('column_425', 6271.281605150167, 1.0843078700876123), ('column_456', 6242.301070085367, 1.1687997611913041), ('column_466', 5980.121818608773, 1.2467973439602236), ('column_460', 5960.767885898366, 1.2347402450298148), ('column_476', 5785.314491794879, 1.3164366450262162), ('column_329', 5784.895471438315, 0.9099559406025355), ('column_475', 5729.667969701079, 1.3264293917534802), ('column_479', 5696.141898785651, 1.3454720995686347), ('column_430', 5611.175816999892, 1.2261244745096056), ('column_440', 5561.975636083674, 1.2657372956342254), ('column_409', 5548.939360460777, 1.1793244753456082), ('column_485', 5501.441384316753, 1.4105394310156314), ('column_493', 5458.205334677753, 1.4451636602758366), ('column_469', 5362.136530219188, 1.3994421734153903), ('column_480', 5348.7226979643865, 1.435856826700485), ('column_443', 5309.564099414377, 1.3349495113509935), ('column_458', 5245.558471966346, 1.3969913859816403), ('column_429', 5221.807381544666, 1.3144873984167444)]\n",
      "INFO:dsds.fs:The selected feature is column_408\n",
      "INFO:dsds.fs:Round 18: The top 20 features, relative score, and the accumulated correlation are the following:\n",
      "[('column_371', 6158.955781243909, 1.024037227090822), ('column_460', 6098.04442926437, 1.2823783248400105), ('column_456', 6011.674776686824, 1.28949091359069), ('column_466', 5812.576438986692, 1.362906807876929), ('column_493', 5759.5256099987155, 1.4551545678432827), ('column_440', 5753.509783868597, 1.3000760024727949), ('column_475', 5742.471318602408, 1.406188999819903), ('column_476', 5724.189045163894, 1.4136500273058874), ('column_485', 5549.523907585929, 1.4857130336405049), ('column_480', 5547.548000890298, 1.470920125195932), ('column_425', 5541.472764603359, 1.3038050184330632), ('column_409', 5539.7453454157385, 1.2551118447626408), ('column_434', 5452.581146262165, 1.3531206234423017), ('column_407', 5411.663777422475, 1.2785347140127497), ('column_477', 5365.1943218316255, 1.5114084436799422), ('column_342', 5356.602386295771, 1.0853895026583318), ('column_464', 5349.349111633674, 1.4745719218148077), ('column_329', 5348.645968629437, 1.0456852131929713), ('column_458', 5343.791640781299, 1.4570178860606986), ('column_469', 5336.241411831706, 1.4941228075480204)]\n",
      "INFO:dsds.fs:The selected feature is column_371\n",
      "INFO:dsds.fs:Round 19: The top 20 features, relative score, and the accumulated correlation are the following:\n",
      "[('column_460', 6306.830856464758, 1.3128622264401881), ('column_475', 6017.458451556267, 1.4208656476537453), ('column_456', 5911.284044344375, 1.3885308062387918), ('column_440', 5798.912781460935, 1.3657732575872084), ('column_409', 5689.0889086664265, 1.2940560638426934), ('column_466', 5636.904007384929, 1.488050885558961), ('column_407', 5620.674339301125, 1.3034023246596627), ('column_493', 5605.988818328659, 1.5829500000047536), ('column_464', 5574.926016851044, 1.4981364729782667), ('column_425', 5560.246558434414, 1.3758382689694957), ('column_485', 5553.446203138548, 1.5719968611681538), ('column_482', 5486.132264128164, 1.5814420036369208), ('column_477', 5453.812638186554, 1.5743115082249926), ('column_455', 5430.788077190085, 1.5080684209348756), ('column_429', 5379.915689066445, 1.4353384785738095), ('column_469', 5368.129362530564, 1.5726148588975877), ('column_480', 5367.718349887101, 1.6096224572181073), ('column_486', 5336.161490497425, 1.6393806700899773), ('column_479', 5310.7655910962985, 1.6234947395259005), ('column_342', 5303.094621677085, 1.1608316349545327)]\n",
      "INFO:dsds.fs:The selected feature is column_460\n",
      "INFO:dsds.fs:Round 20: The top 20 features, relative score, and the accumulated correlation are the following:\n",
      "[('column_456', 6160.904465827451, 1.4062870229617117), ('column_440', 5993.53776365216, 1.3948356262471995), ('column_485', 5858.783664987254, 1.5728520674128779), ('column_475', 5819.650817946255, 1.5507803272610963), ('column_482', 5674.747793536013, 1.6138162140759253), ('column_429', 5669.43400586702, 1.437709653479506), ('column_469', 5666.328977683741, 1.5726231277949207), ('column_409', 5661.346835661311, 1.3726415684426543), ('column_455', 5590.78094918558, 1.546295603167807), ('column_342', 5519.557040625536, 1.1772683844324539), ('column_477', 5518.747572533065, 1.6422204278932346), ('column_407', 5514.602212642347, 1.4022770277558603), ('column_434', 5504.457282685835, 1.4980586779985805), ('column_466', 5490.220901658787, 1.6126855655889727), ('column_493', 5483.421196104606, 1.7082401050377578), ('column_425', 5480.1295200448485, 1.4735053196213355), ('column_479', 5465.287158445849, 1.6652372942445772), ('column_458', 5448.871668558314, 1.5970278856470872), ('column_329', 5438.733928378592, 1.1493483745147213), ('column_357', 5406.63057264108, 1.2545706441131188)]\n",
      "INFO:dsds.fs:The selected feature is column_456\n",
      "INFO:dsds.fs:Round 21: The top 20 features, relative score, and the accumulated correlation are the following:\n",
      "[('column_440', 6246.852336782501, 1.408709462873669), ('column_482', 5945.146509570615, 1.6214907377776706), ('column_429', 5823.429855011523, 1.473358521287284), ('column_475', 5806.542176336006, 1.6360855930257976), ('column_409', 5760.056411281998, 1.4201249807168819), ('column_493', 5716.050401877164, 1.7249672950332895), ('column_342', 5711.364080823811, 1.1976123222411335), ('column_469', 5638.363800783505, 1.6636031890486667), ('column_479', 5605.7682008052825, 1.7089540018125988), ('column_357', 5594.327426627309, 1.2762928329893164), ('column_439', 5592.973656649244, 1.5698268111028628), ('column_425', 5558.391433052485, 1.529219397801943), ('column_434', 5549.069732644612, 1.5642261528876533), ('column_485', 5545.9168533520915, 1.749034516111989), ('column_455', 5508.44999001306, 1.6520073734895475), ('column_466', 5473.310340002234, 1.7028086150868975), ('column_480', 5438.911584579195, 1.7650590289459074), ('column_486', 5366.024186161329, 1.8113969789900175), ('column_458', 5325.666559114933, 1.7199724951466528), ('column_407', 5320.319683932388, 1.5299832498004164)]\n",
      "INFO:dsds.fs:The selected feature is column_440\n",
      "INFO:dsds.fs:Round 22: The top 20 features, relative score, and the accumulated correlation are the following:\n",
      "[('column_482', 6047.892312146494, 1.6736409111767963), ('column_342', 5970.263891740393, 1.2029619008861556), ('column_475', 5934.376818913356, 1.680884160946578), ('column_409', 5757.517357997892, 1.491788815550653), ('column_425', 5690.324442005624, 1.568451867896354), ('column_455', 5666.915558677848, 1.686102413396342), ('column_469', 5666.2648788185925, 1.7381820671351145), ('column_493', 5590.09795491301, 1.8520247916051247), ('column_480', 5573.809351970918, 1.8084579797182474), ('column_477', 5548.7507759898, 1.8052712050692423), ('column_483', 5537.208838232471, 1.8317893177454618), ('column_406', 5503.148208646558, 1.5492949992885767), ('column_357', 5481.410839428398, 1.3677135722199922), ('column_464', 5477.739422973813, 1.7788359846277746), ('column_479', 5477.153408396045, 1.8365379331132745), ('column_476', 5473.212835704985, 1.8263495866249189), ('column_473', 5471.956810426516, 1.8152555555762444), ('column_486', 5453.088370479257, 1.8715999643891748), ('column_484', 5437.292316701168, 1.8693127770196012), ('column_429', 5430.044304834094, 1.6591024850349274)]\n",
      "INFO:dsds.fs:The selected feature is column_482\n",
      "INFO:dsds.fs:Round 23: The top 20 features, relative score, and the accumulated correlation are the following:\n",
      "[('column_475', 5931.9424264128365, 1.7616489252272334), ('column_469', 5912.018423714802, 1.7452584313018276), ('column_493', 5827.845082639463, 1.8610652558883374), ('column_479', 5725.422152140258, 1.840562969852052), ('column_464', 5713.046434538584, 1.78678750767487), ('column_342', 5698.756897576452, 1.3202879391468307), ('column_476', 5696.15994790601, 1.8384315215463107), ('column_455', 5665.129812475242, 1.7669498019192558), ('column_477', 5664.162643279039, 1.8527010364809935), ('column_429', 5644.032865810871, 1.6722085473972614), ('column_473', 5626.9967577688185, 1.8492990929189945), ('column_409', 5617.889216316611, 1.6016691774316565), ('column_483', 5616.6969786361915, 1.8918592262351555), ('column_425', 5601.099323185445, 1.6693151577041643), ('column_486', 5557.563672974779, 1.9238645977180369), ('column_434', 5504.908594944143, 1.734452050442607), ('column_489', 5504.02046345925, 1.9545712214228668), ('column_480', 5463.8305618299155, 1.9327100063775229), ('column_406', 5460.191633535669, 1.6358400216470446), ('column_485', 5418.319156311679, 1.9692453862875088)]\n",
      "INFO:dsds.fs:The selected feature is column_475\n",
      "INFO:dsds.fs:Round 24: The top 20 features, relative score, and the accumulated correlation are the following:\n",
      "[('column_479', 5952.095587292408, 1.850944736761461), ('column_464', 5861.216614699224, 1.8207823906790805), ('column_493', 5849.898619076567, 1.938324189589103), ('column_455', 5842.102715175706, 1.7913070875689416), ('column_483', 5837.629211022821, 1.9029985630165729), ('column_429', 5812.0701768407225, 1.6976739268078527), ('column_469', 5801.406595284143, 1.8593766568212189), ('column_434', 5729.15381785113, 1.7423166347703354), ('column_486', 5716.35276327004, 1.9554426507446026), ('column_477', 5692.650090520624, 1.9272219134404311), ('column_480', 5663.150685382899, 1.9494448608784563), ('column_342', 5634.523972801531, 1.3960363001329037), ('column_357', 5611.053078706343, 1.463361669338029), ('column_406', 5595.085181091914, 1.6689647606361615), ('column_409', 5576.572461020769, 1.686878466253819), ('column_476', 5555.13884005112, 1.9707878264117795), ('column_473', 5553.771061879754, 1.9588491997215753), ('column_485', 5516.658079257091, 2.022057528260335), ('column_425', 5497.256705878909, 1.7781596390698584), ('column_449', 5452.30156876163, 1.894062510989382)]\n",
      "INFO:dsds.fs:The selected feature is column_479\n",
      "INFO:dsds.fs:Round 25: The top 20 features, relative score, and the accumulated correlation are the following:\n",
      "[('column_483', 5998.697147167224, 1.9324196097271074), ('column_429', 5995.451213397046, 1.7173019400096572), ('column_469', 5968.716505701039, 1.885832572086276), ('column_493', 5928.503822352969, 1.9957817949595227), ('column_455', 5875.0777717861465, 1.85869879926374), ('column_464', 5858.5492990228195, 1.9008118617107883), ('column_357', 5850.238374819717, 1.464555707144845), ('column_480', 5816.209086449553, 1.9806715729733626), ('column_486', 5768.155405227917, 2.0221369190969503), ('column_473', 5727.192140284814, 1.9821231280421936), ('column_425', 5701.303795669089, 1.7890644606148298), ('column_406', 5695.494532484774, 1.71082597734476), ('column_477', 5639.552665648165, 2.0299482385779366), ('column_485', 5580.468761954257, 2.085846278606122), ('column_443', 5571.720388450785, 1.908207745320153), ('column_434', 5569.739203058797, 1.8701055148649917), ('column_423', 5565.252828879838, 1.8241758842146572), ('column_409', 5525.471985460399, 1.776499822246787), ('column_458', 5497.545763945129, 1.9994376530868496), ('column_449', 5491.841691061542, 1.9621832904504317)]\n",
      "INFO:dsds.fs:The selected feature is column_483\n",
      "INFO:dsds.fs:Round 26: The top 20 features, relative score, and the accumulated correlation are the following:\n",
      "[('column_429', 6192.756086980932, 1.7318621707945563), ('column_493', 6093.384205520125, 2.0226855199503952), ('column_464', 6090.8309118704965, 1.9045020569184763), ('column_357', 6053.302010002313, 1.474401902507519), ('column_480', 6019.042979511873, 1.9936724228164864), ('column_469', 6002.358136664466, 1.9533989363912945), ('column_425', 5923.78118717155, 1.7936179045588885), ('column_473', 5922.890189609556, 1.9964915136776356), ('column_486', 5855.177457044936, 2.0750865518825816), ('column_455', 5812.626462575223, 1.9569466700188447), ('column_423', 5734.112374524844, 1.8442261520687926), ('column_406', 5676.5541901003235, 1.7880565674333175), ('column_458', 5665.407081193026, 2.0210374710776917), ('column_439', 5597.7405516299195, 1.9606124826211102), ('column_443', 5587.437228748423, 1.9821251759244876), ('column_449', 5576.610211841168, 2.0128715426739436), ('column_477', 5571.989564470162, 2.1401691194900763), ('column_485', 5571.088488759572, 2.1764149006902036), ('column_434', 5536.215589411396, 1.9598225222210972), ('column_409', 5535.784279014026, 1.8470734198878802)]\n",
      "INFO:dsds.fs:The selected feature is column_429\n",
      "INFO:dsds.fs:Round 27: The top 20 features, relative score, and the accumulated correlation are the following:\n",
      "[('column_493', 6284.80439347895, 2.0395225049963095), ('column_480', 6210.078903412977, 2.009636301584052), ('column_464', 6199.678898856968, 1.9459072311348633), ('column_469', 6181.476656294579, 1.9726678070656283), ('column_357', 6080.266183147125, 1.526577903073919), ('column_486', 5997.710648841255, 2.106803868979783), ('column_473', 5993.3133583640565, 2.0519534462247573), ('column_425', 5970.981401270818, 1.8506170522735512), ('column_406', 5902.963968179724, 1.7882541816116007), ('column_485', 5781.773573106983, 2.1809916698663963), ('column_409', 5706.936834889256, 1.8633463638478058), ('column_455', 5702.459323340376, 2.0745435134590746), ('column_458', 5668.069036382116, 2.100891842277345), ('column_423', 5650.547200818598, 1.9463601681633087), ('column_434', 5602.517798656556, 2.014094449232419), ('column_443', 5595.081835229167, 2.0585936612182256), ('column_477', 5595.000407566286, 2.2166218224449823), ('column_426', 5580.3266130773645, 1.9848300588792875), ('column_433', 5563.205620636045, 2.0236534055544877), ('column_439', 5549.80909821864, 2.0566473184931042)]\n",
      "INFO:dsds.fs:The selected feature is column_493\n",
      "INFO:dsds.fs:Round 28: The top 20 features, relative score, and the accumulated correlation are the following:\n",
      "[('column_480', 6390.514202302056, 2.0280058207728286), ('column_469', 6128.473634880024, 2.066256747508697), ('column_464', 6117.994584789913, 2.0477298281934), ('column_486', 6111.970315001035, 2.1469345110845452), ('column_406', 6091.224201223643, 1.7996382398464146), ('column_473', 6054.381250740512, 2.1093815323304885), ('column_425', 5942.814755406262, 1.930903195251212), ('column_458', 5866.624979745258, 2.1078558869356874), ('column_357', 5816.3880100424285, 1.6572140619500533), ('column_485', 5765.130558205244, 2.2714143015135178), ('column_423', 5748.224728622769, 1.986874302796506), ('column_434', 5745.500702430707, 2.039508931752902), ('column_443', 5736.161975177558, 2.0851921636382587), ('column_455', 5718.3578755872995, 2.148344029401671), ('column_484', 5701.163678182078, 2.292163624421142), ('column_477', 5686.233616006905, 2.26494387493072), ('column_495', 5650.387884175133, 2.3653243412599942), ('column_449', 5649.40985567051, 2.145887855495512), ('column_394', 5648.018041477978, 1.8834925671052283), ('column_481', 5643.99700386477, 2.301028861480092)]\n",
      "INFO:dsds.fs:The selected feature is column_480\n",
      "INFO:dsds.fs:Round 29: The top 20 features, relative score, and the accumulated correlation are the following:\n",
      "[('column_469', 6268.253429277688, 2.0950014462821813), ('column_486', 6148.54891238222, 2.2132051308229177), ('column_473', 6133.758013984558, 2.1591983201496645), ('column_406', 6125.960396995481, 1.8557090257350526), ('column_425', 6098.028114971803, 1.9514504977081473), ('column_464', 6019.97566167098, 2.158148260086782), ('column_485', 5978.107037965591, 2.271622089359813), ('column_423', 5958.202831872969, 1.9878477343271013), ('column_458', 5936.946097785571, 2.160033085828965), ('column_357', 5851.887894333514, 1.7081666943208709), ('column_455', 5841.087654218715, 2.1811006364197527), ('column_434', 5829.503191610209, 2.084568718907144), ('column_443', 5811.788726652904, 2.134282676711073), ('column_495', 5807.964233880691, 2.3863783318684804), ('column_481', 5801.816197603358, 2.321342066224612), ('column_448', 5800.589868506924, 2.162538687333334), ('column_439', 5796.390145622445, 2.1206302010714677), ('column_433', 5753.995397590442, 2.107057646427225), ('column_484', 5749.541010664126, 2.3570577155400825), ('column_426', 5740.604757720403, 2.0778298634753276)]\n",
      "INFO:dsds.fs:The selected feature is column_469\n",
      "INFO:dsds.fs:Round 30: The top 20 features, relative score, and the accumulated correlation are the following:\n",
      "[('column_425', 6292.065402241446, 1.958816256997173), ('column_406', 6240.290470800798, 1.8867711455247493), ('column_464', 6160.973701696953, 2.1840703517844484), ('column_486', 6127.268042599524, 2.3002094737837764), ('column_485', 6085.932498404078, 2.3110673678500846), ('column_423', 6081.793947311675, 2.0170035529438417), ('column_458', 6075.911172891264, 2.186009574870014), ('column_473', 6055.335822465231, 2.2652748587634193), ('column_357', 6045.300489558049, 1.7125699570902342), ('column_434', 5976.506024248026, 2.105912710358824), ('column_439', 5962.116570274133, 2.1353155125268946), ('column_455', 5957.4970387887415, 2.214856325414601), ('column_426', 5926.103863523036, 2.0846749035302286), ('column_433', 5913.465934247516, 2.123458584123537), ('column_488', 5897.655168838106, 2.3995977375510202), ('column_495', 5874.08983144084, 2.4437828517986593), ('column_487', 5870.475331056426, 2.4057677110549216), ('column_448', 5864.273268427625, 2.215449281660695), ('column_491', 5823.701736125644, 2.4450084577086932), ('column_484', 5797.228024456186, 2.4211571359256063)]\n",
      "INFO:dsds.fs:The selected feature is column_425\n",
      "INFO:dsds.fs:Round 31: The top 20 features, relative score, and the accumulated correlation are the following:\n",
      "[('column_406', 6327.588036590528, 1.924904075544543), ('column_485', 6234.636074584131, 2.3337368574428825), ('column_464', 6218.423748421249, 2.2385093977447337), ('column_473', 6123.196769775232, 2.31741695286413), ('column_434', 6118.193941751666, 2.1280789925845855), ('column_433', 6091.643252542401, 2.132429536903447), ('column_458', 6081.723053915911, 2.2592281625111266), ('column_455', 6057.911422897707, 2.253251830062371), ('column_426', 6041.059200285402, 2.115523052546187), ('column_357', 6036.252249594364, 1.7742797280746032), ('column_495', 6029.506325150161, 2.4628882033107695), ('column_487', 5997.734398583433, 2.435919803893057), ('column_423', 5946.853516393589, 2.133901560719075), ('column_486', 5905.042178737232, 2.4690763518166556), ('column_412', 5885.714212780129, 2.100000026022624), ('column_439', 5851.496160059575, 2.2507064244345183), ('column_491', 5849.100739086675, 2.5183358360656407), ('column_488', 5817.506307783715, 2.516542178976575), ('column_498', 5803.651888951027, 2.57424123394491), ('column_481', 5793.942525671761, 2.490532126624255)]\n",
      "INFO:dsds.fs:The selected feature is column_406\n",
      "INFO:dsds.fs:Round 32: The top 20 features, relative score, and the accumulated correlation are the following:\n",
      "[('column_485', 6380.382036352409, 2.3564419676341726), ('column_464', 6344.091675108989, 2.2673064540406234), ('column_473', 6287.453587308363, 2.332104690140095), ('column_433', 6278.366827655638, 2.137976382786826), ('column_455', 6223.179917285738, 2.266526146997843), ('column_426', 6183.375937137688, 2.1357265245161714), ('column_458', 6168.299638561637, 2.301768855591908), ('column_495', 6090.536560547019, 2.519482454042078), ('column_486', 6034.09615021265, 2.4968113906287446), ('column_434', 6015.0522831316275, 2.236722037766797), ('column_412', 6009.938420458758, 2.1251465666473623), ('column_439', 5981.598184215889, 2.2751444648875165), ('column_498', 5972.559579358985, 2.5848214312257913), ('column_487', 5967.402362350503, 2.5299115231863527), ('column_423', 5964.210903240258, 2.1986144039399953), ('column_418', 5958.86918340255, 2.174573665099475), ('column_481', 5934.328524719498, 2.5126684405637634), ('column_448', 5924.767645341225, 2.344058169255032), ('column_497', 5908.38424592239, 2.6076503082264804), ('column_357', 5886.111255165967, 1.8801887222717726)]\n",
      "INFO:dsds.fs:The selected feature is column_485\n",
      "INFO:dsds.fs:Round 33: The top 20 features, relative score, and the accumulated correlation are the following:\n",
      "[('column_464', 6538.506462400926, 2.2708549858262046), ('column_433', 6369.081989038878, 2.175509755384846), ('column_473', 6365.499624625755, 2.377818064970805), ('column_426', 6285.209249418663, 2.1689015367723616), ('column_455', 6282.426684839146, 2.3175757920321503), ('column_458', 6276.031696831266, 2.3352335851649273), ('column_412', 6168.5642933208355, 2.137288252677418), ('column_498', 6162.880141397177, 2.585803980342732), ('column_439', 6141.024245360658, 2.287566281897161), ('column_418', 6133.9695285738935, 2.180643372564948), ('column_487', 6122.984751317545, 2.545163940943448), ('column_495', 6114.612007662335, 2.5905159608084043), ('column_423', 6114.5596606923, 2.2137325909201175), ('column_486', 6076.859304969236, 2.5592167301426), ('column_434', 6053.357232758205, 2.2942640696709633), ('column_481', 6021.354444649397, 2.5562355017445286), ('column_484', 5974.562026446101, 2.5923239111826337), ('column_448', 5956.326269931242, 2.4068527058987805), ('column_497', 5953.596262658156, 2.671326589569444), ('column_477', 5931.025259690151, 2.5735853974085794)]\n",
      "INFO:dsds.fs:The selected feature is column_464\n",
      "INFO:dsds.fs:Round 34: The top 20 features, relative score, and the accumulated correlation are the following:\n",
      "[('column_433', 6563.230570523559, 2.177129059608848), ('column_473', 6473.085775237111, 2.411369251387409), ('column_455', 6405.395837439279, 2.3441174255364414), ('column_426', 6353.672213148291, 2.21257873059746), ('column_458', 6317.456701098737, 2.39241845494111), ('column_418', 6296.101040617529, 2.1908797065059598), ('column_498', 6289.420323452585, 2.6129594071999525), ('column_412', 6281.651582781543, 2.1643989356664752), ('column_487', 6261.513608597573, 2.566631808950027), ('column_423', 6231.682067226203, 2.2400051622359674), ('column_495', 6231.260243358082, 2.6214600838428344), ('column_486', 6214.077804982054, 2.5809139349915684), ('column_484', 6139.7088729196685, 2.601426277791034), ('column_434', 6128.512373855135, 2.3369455956553384), ('column_481', 6101.070244322174, 2.60167468400677), ('column_497', 6086.253877372272, 2.6947610682124714), ('column_491', 6057.492192290422, 2.6748693164841573), ('column_357', 6041.238572529956, 1.9500967986216011), ('column_443', 6035.368974907718, 2.422221418570938), ('column_488', 6017.703778782894, 2.676103808362781)]\n",
      "INFO:dsds.fs:The selected feature is column_433\n",
      "INFO:dsds.fs:Round 35: The top 20 features, relative score, and the accumulated correlation are the following:\n",
      "[('column_455', 6562.971351110133, 2.3571640301893493), ('column_458', 6453.567022847099, 2.4129291514090685), ('column_498', 6437.3144681147805, 2.6302893984544884), ('column_423', 6414.520377632651, 2.2421006019639202), ('column_495', 6395.858217444272, 2.631390413580043), ('column_486', 6395.267742781407, 2.583785490240232), ('column_412', 6379.957482458815, 2.1956259173378316), ('column_418', 6344.433774083687, 2.24007381999233), ('column_473', 6339.724111721388, 2.5367034458591524), ('column_487', 6338.19499265871, 2.6124156828842438), ('column_484', 6309.700334660952, 2.608047787880287), ('column_426', 6287.2055606679705, 2.3037261721821576), ('column_434', 6286.450841269916, 2.3472704030592824), ('column_497', 6253.112953200103, 2.702334041695545), ('column_491', 6226.686906961746, 2.681040535591291), ('column_357', 6215.452678617799, 1.9528746541272461), ('column_488', 6174.331640438405, 2.6872544214067995), ('column_481', 6164.21163656693, 2.6530562161405813), ('column_477', 6143.095375610034, 2.640037148762237), ('column_476', 6099.345215562519, 2.6533995745488252)]\n",
      "INFO:dsds.fs:The selected feature is column_455\n",
      "INFO:dsds.fs:Round 36: The top 20 features, relative score, and the accumulated correlation are the following:\n",
      "[('column_458', 6618.225427717272, 2.4220994245475547), ('column_423', 6577.431412394344, 2.2508786594265104), ('column_486', 6575.334367497892, 2.5869406861012307), ('column_418', 6496.281255395997, 2.252057665737287), ('column_495', 6491.03932565033, 2.669064094487554), ('column_498', 6477.1605984755515, 2.6909939525202264), ('column_487', 6462.808643136455, 2.637398218203768), ('column_473', 6439.335860778186, 2.570917305437668), ('column_484', 6437.172817581893, 2.6315900598057063), ('column_426', 6425.737912794472, 2.3203560746404346), ('column_412', 6417.501030878794, 2.246980550624916), ('column_491', 6406.71694826857, 2.6823410709043864), ('column_497', 6369.254141715346, 2.7310890118313345), ('column_434', 6321.719449941708, 2.402827287778496), ('column_488', 6306.42209023927, 2.70835027462489), ('column_481', 6279.384664712896, 2.680995176900781), ('column_461', 6248.396208461511, 2.582262625751894), ('column_357', 6243.735837582435, 2.001205740446259), ('column_477', 6213.103056667922, 2.6870631064268076), ('column_439', 6174.685185451542, 2.4883859724868533)]\n",
      "INFO:dsds.fs:The selected feature is column_458\n",
      "INFO:dsds.fs:Round 37: The top 20 features, relative score, and the accumulated correlation are the following:\n",
      "[('column_423', 6763.24323735344, 2.2515824827792157), ('column_498', 6632.792001653735, 2.7029341483239735), ('column_486', 6627.729855349021, 2.6398179138034057), ('column_418', 6624.262450241531, 2.2716491251718636), ('column_495', 6593.124956784411, 2.702815450458434), ('column_487', 6582.884851284403, 2.6632700398183764), ('column_473', 6552.711416134948, 2.5986189408664355), ('column_484', 6549.249256449068, 2.6604576063191563), ('column_426', 6539.079507509981, 2.345284222708557), ('column_497', 6510.71938235989, 2.7480834220065593), ('column_481', 6432.205475029086, 2.6920781786626145), ('column_412', 6406.1586311131905, 2.315272045866067), ('column_434', 6377.519396880329, 2.4498553477771847), ('column_491', 6372.464309329259, 2.7738091799309754), ('column_477', 6358.486386530144, 2.7006427247178304), ('column_357', 6357.824727767915, 2.0214460999323647), ('column_488', 6332.568877048451, 2.774229596408002), ('column_461', 6317.733863395513, 2.6268912807733176), ('column_448', 6255.41528211696, 2.5782460912078657), ('column_489', 6230.196698635673, 2.825592971062219)]\n",
      "INFO:dsds.fs:The selected feature is column_423\n",
      "INFO:dsds.fs:Round 38: The top 20 features, relative score, and the accumulated correlation are the following:\n",
      "[('column_498', 6747.060025352153, 2.7309672554807722), ('column_418', 6739.66318259082, 2.2947734302138607), ('column_495', 6709.277586817005, 2.7298020931474007), ('column_484', 6707.998101486349, 2.6696489368462957), ('column_487', 6689.073153268651, 2.6937962236509434), ('column_497', 6685.636090912392, 2.7505236225758205), ('column_486', 6682.239152522202, 2.6910141330713553), ('column_426', 6672.293116799831, 2.3623062902188234), ('column_473', 6650.55248932243, 2.6315106945021696), ('column_491', 6540.474669766523, 2.777627147457252), ('column_481', 6536.737436072416, 2.722612032998114), ('column_434', 6516.732278587342, 2.4641184129603304), ('column_412', 6499.622080916084, 2.345367132153543), ('column_477', 6486.841038620465, 2.7207387840897908), ('column_357', 6469.505112998895, 2.041732678046692), ('column_461', 6442.913608095803, 2.6474047360447504), ('column_448', 6416.016865052195, 2.5835343560720445), ('column_488', 6353.233555840257, 2.8420173508971485), ('column_489', 6331.682925782887, 2.857534120403364), ('column_437', 6326.113060780445, 2.555913851783934)]\n",
      "INFO:dsds.fs:The selected feature is column_498\n",
      "INFO:dsds.fs:Round 39: The top 20 features, relative score, and the accumulated correlation are the following:\n",
      "[('column_484', 6872.497344571917, 2.676174187906598), ('column_418', 6828.775263996674, 2.3260393534613963), ('column_487', 6814.282387494803, 2.715766525021211), ('column_473', 6806.544947341094, 2.6406936469318927), ('column_497', 6797.8429893339435, 2.7782342177706667), ('column_495', 6782.128831843913, 2.773465451095828), ('column_486', 6775.537042674109, 2.7256879984101174), ('column_426', 6752.032036062197, 2.3975004729747824), ('column_481', 6702.94677058339, 2.7268603832891807), ('column_412', 6639.471289998399, 2.3580190825712233), ('column_491', 6622.025992051003, 2.8175667118185324), ('column_434', 6591.068033437324, 2.5021741417830907), ('column_448', 6577.939116577389, 2.5880446289168257), ('column_357', 6576.801809605307, 2.0627046994463307), ('column_477', 6570.6465524657715, 2.7586326330698525), ('column_461', 6524.783387861808, 2.6848400871957074), ('column_492', 6465.967935447621, 2.8914464449328774), ('column_437', 6451.310676195419, 2.574050581887832), ('column_489', 6430.900254438139, 2.8894865827185012), ('column_476', 6390.70556139011, 2.8303604079774702)]\n",
      "INFO:dsds.fs:The selected feature is column_484\n",
      "INFO:dsds.fs:Round 40: The top 20 features, relative score, and the accumulated correlation are the following:\n",
      "[('column_473', 6972.237241077478, 2.6457791612881536), ('column_486', 6938.038596731451, 2.731896015817689), ('column_418', 6921.144075121458, 2.355390932923748), ('column_495', 6912.832999700085, 2.7926321959227938), ('column_487', 6902.711856198125, 2.7515272831424493), ('column_497', 6896.0126403010245, 2.8107547087027807), ('column_426', 6871.103887736852, 2.4179520891325343), ('column_481', 6839.377882980551, 2.7427933243286398), ('column_491', 6786.983217961953, 2.8214302857448654), ('column_448', 6714.906994756273, 2.601972002537642), ('column_434', 6688.538342442581, 2.530597738013237), ('column_461', 6674.351841584827, 2.693744715101936), ('column_477', 6654.980246630406, 2.795350145392121), ('column_357', 6642.96795849957, 2.095900520216381), ('column_412', 6641.675481892541, 2.4192690600145723), ('column_489', 6587.026063408038, 2.89523676032533), ('column_492', 6575.2566689555515, 2.9182130776117554), ('column_443', 6545.510108396899, 2.6395192603608115), ('column_437', 6542.131677108404, 2.6051141800821926), ('column_476', 6539.612490313001, 2.8387003094600005)]\n",
      "INFO:dsds.fs:The selected feature is column_473\n",
      "INFO:dsds.fs:Round 41: The top 20 features, relative score, and the accumulated correlation are the following:\n",
      "[('column_486', 7062.728283805355, 2.75247740233408), ('column_418', 7043.377293676494, 2.373861189434098), ('column_497', 7033.629170265917, 2.8264213990753233), ('column_481', 7002.640598178034, 2.747534980590881), ('column_487', 6990.512295827156, 2.7866341085800235), ('column_495', 6986.743941322242, 2.833938121432406), ('column_426', 6982.552939896522, 2.4403681786124096), ('column_491', 6942.713543392763, 2.828865093921523), ('column_448', 6862.889462882619, 2.6111450718999434), ('column_434', 6831.5154826299195, 2.5411638228940885), ('column_357', 6806.4512922248605, 2.0980095775183636), ('column_461', 6769.7574958168425, 2.723878958942682), ('column_489', 6748.665396266934, 2.898350837014343), ('column_477', 6730.09964905698, 2.835024887435877), ('column_412', 6706.330380528053, 2.4573796793325253), ('column_437', 6671.143249711023, 2.6202405413430734), ('column_443', 6638.4902706213015, 2.669281610371566), ('column_492', 6638.37267080708, 2.964581980542431), ('column_476', 6634.37092707806, 2.869902845240172), ('column_488', 6622.281649516935, 2.947624554963453)]\n",
      "INFO:dsds.fs:The selected feature is column_486\n",
      "INFO:dsds.fs:Round 42: The top 20 features, relative score, and the accumulated correlation are the following:\n",
      "[('column_418', 7212.611053403565, 2.3761159271041983), ('column_487', 7147.894569668251, 2.7934099762367803), ('column_426', 7144.980547270778, 2.444513303352746), ('column_495', 7120.669253738623, 2.8501534444033263), ('column_481', 7093.774468091727, 2.7800432743818373), ('column_491', 7062.7762512375, 2.8502955897084745), ('column_497', 7017.504606864692, 2.9037387421259018), ('column_434', 7001.815688728339, 2.5413408165892073), ('column_448', 6983.36889961527, 2.6302491339118483), ('column_357', 6964.980057309584, 2.101513554893644), ('column_461', 6895.901361179235, 2.7409034744035012), ('column_489', 6886.275317720697, 2.9114432802893018), ('column_412', 6844.538369406779, 2.4679531457523325), ('column_492', 6797.908341965879, 2.967383345766984), ('column_443', 6794.787671021396, 2.673078377042167), ('column_476', 6787.221103317922, 2.8754036008138346), ('column_437', 6784.030930540277, 2.641055175521303), ('column_457', 6719.094947806881, 2.788619619985542), ('column_477', 6716.1282502675, 2.911945584008324), ('column_488', 6708.728903857428, 2.982383143921)]\n",
      "INFO:dsds.fs:The selected feature is column_418\n",
      "INFO:dsds.fs:Round 43: The top 20 features, relative score, and the accumulated correlation are the following:\n",
      "[('column_487', 7253.637410483676, 2.8198266390373816), ('column_426', 7227.630660868812, 2.4755000413716846), ('column_481', 7220.348192828912, 2.7979260086188327), ('column_495', 7217.179197219547, 2.880626825506764), ('column_491', 7201.63962285459, 2.8635145716755317), ('column_497', 7166.989454323636, 2.912519982488229), ('column_448', 7139.203609250823, 2.6355880893519608), ('column_434', 7107.966028667065, 2.5644466963523516), ('column_357', 7082.19459993869, 2.11714035648354), ('column_461', 7052.457861915993, 2.745425832964819), ('column_489', 7042.238683298171, 2.9164021447766673), ('column_492', 6959.903585455524, 2.9690066458941535), ('column_443', 6958.808080922534, 2.6737337463017647), ('column_476', 6950.105081632001, 2.876503270840553), ('column_412', 6901.8057695705775, 2.507169946203316), ('column_437', 6892.82278616947, 2.6627697489666375), ('column_457', 6821.900167283156, 2.8135855889612165), ('column_477', 6810.72519073253, 2.9415369786554604), ('column_488', 6810.179632622597, 3.009612243092478), ('column_466', 6776.684858938699, 2.88813784430064)]\n",
      "INFO:dsds.fs:The selected feature is column_487\n",
      "INFO:dsds.fs:Round 44: The top 20 features, relative score, and the accumulated correlation are the following:\n",
      "[('column_481', 7352.622094959816, 2.8130100708124366), ('column_497', 7335.226494298302, 2.9134751349003), ('column_495', 7330.502906163662, 2.9036207027628436), ('column_491', 7328.526886612116, 2.880933689220627), ('column_426', 7281.96993859901, 2.515528099464282), ('column_434', 7273.601568993703, 2.565716560493686), ('column_357', 7244.283322144531, 2.1190501968738062), ('column_448', 7225.079219495466, 2.666268343192675), ('column_489', 7186.5519023163015, 2.9258816030011245), ('column_461', 7175.273723338064, 2.7626820612465766), ('column_443', 7117.221664889712, 2.676465747016351), ('column_476', 7112.234542803576, 2.8778578485871624), ('column_492', 7036.509979465359, 3.006604134967411), ('column_412', 6968.776937094829, 2.542196451388429), ('column_437', 6963.792039990427, 2.698386151121456), ('column_457', 6959.54217019312, 2.8236052773935136), ('column_466', 6910.053583575914, 2.8998327954543077), ('column_488', 6906.977357674548, 3.038087272239868), ('column_477', 6884.832947033932, 2.979157251569391), ('column_394', 6875.236787514344, 2.464206037349467)]\n",
      "INFO:dsds.fs:The selected feature is column_481\n",
      "INFO:dsds.fs:Round 45: The top 20 features, relative score, and the accumulated correlation are the following:\n",
      "[('column_495', 7483.322801800215, 2.9104718020129408), ('column_491', 7450.65205192835, 2.8996119869010033), ('column_426', 7438.959902898956, 2.5197070887148456), ('column_497', 7415.7083764353565, 2.94887539934677), ('column_434', 7371.002099354413, 2.590692519497792), ('column_448', 7334.057546185213, 2.687734569283975), ('column_461', 7324.343004498149, 2.769395150874672), ('column_489', 7306.1265819582495, 2.9449257083954192), ('column_357', 7280.611324897017, 2.1575111345780003), ('column_443', 7259.590532946362, 2.6849999199733126), ('column_476', 7216.699692699924, 2.9021576193874288), ('column_492', 7193.099493718807, 3.0095510313604823), ('column_412', 7127.090259934947, 2.5435345055059626), ('column_457', 7084.566463316973, 2.8382823570244966), ('column_437', 7074.376044250292, 2.7179782188179806), ('column_466', 7058.762188704856, 2.904758575492126), ('column_488', 7050.921925300519, 3.045275529566275), ('column_477', 7036.49735486729, 2.982734014030741), ('column_394', 6974.779217256995, 2.4855267041438784), ('column_463', 6962.202298532043, 2.9260856157965085)]\n",
      "INFO:dsds.fs:The selected feature is column_495\n",
      "INFO:dsds.fs:Round 46: The top 20 features, relative score, and the accumulated correlation are the following:\n",
      "[('column_426', 7581.261287061135, 2.5286029954827245), ('column_491', 7563.286340166512, 2.9213491339947817), ('column_497', 7528.414505099399, 2.9707450333467937), ('column_434', 7481.940198520161, 2.6102854983875443), ('column_489', 7454.765642979861, 2.951803055099669), ('column_461', 7446.366223870819, 2.785922606585981), ('column_357', 7424.140436889422, 2.163886868326933), ('column_443', 7391.39706594022, 2.6970544028626304), ('column_448', 7372.474331679701, 2.7344957870347533), ('column_476', 7357.673679196039, 2.911246262601378), ('column_492', 7296.9894287495445, 3.0341280080207054), ('column_412', 7235.813487573371, 2.5622550984544024), ('column_437', 7232.966794713155, 2.7188013657651355), ('column_457', 7228.949018657039, 2.844811873333763), ('column_466', 7214.575105677217, 2.906616078263363), ('column_488', 7207.281776911581, 3.0469184749163727), ('column_477', 7189.141957643595, 2.9857526985091893), ('column_394', 7109.438175572316, 2.4938679487950846), ('column_463', 7090.728981566903, 2.938343864807522), ('column_449', 7074.528185865443, 2.856020849612076)]\n",
      "INFO:dsds.fs:The selected feature is column_426\n",
      "INFO:dsds.fs:Round 47: The top 20 features, relative score, and the accumulated correlation are the following:\n",
      "[('column_491', 7728.79217505298, 2.922319489053304), ('column_497', 7689.89054051581, 2.9729942031745096), ('column_434', 7643.052925612981, 2.6120452382447508), ('column_489', 7587.727388297939, 2.9645240068444), ('column_357', 7571.164661570355, 2.1690189995938973), ('column_461', 7549.1942936376745, 2.809041491735355), ('column_443', 7530.093495965508, 2.7062080983347916), ('column_448', 7518.571109732608, 2.7409463446217117), ('column_476', 7514.449492450052, 2.9138528407169995), ('column_492', 7414.788185108748, 3.0522786942791233), ('column_412', 7378.039030847411, 2.568704220831867), ('column_488', 7355.481762893009, 3.051873517414705), ('column_466', 7353.833621205777, 2.914942206223756), ('column_437', 7351.3999393311415, 2.734445162267822), ('column_457', 7348.976490189167, 2.8605343925190434), ('column_477', 7311.1247120818425, 3.001179827194059), ('column_394', 7252.403156896971, 2.4990337144680432), ('column_449', 7217.451432811655, 2.861674954417249), ('column_463', 7216.726022036343, 2.95119974555863), ('column_441', 7170.89575640889, 2.828935280765958)]\n",
      "INFO:dsds.fs:The selected feature is column_491\n",
      "INFO:dsds.fs:Round 48: The top 20 features, relative score, and the accumulated correlation are the following:\n",
      "[('column_497', 7844.020681480447, 2.977937074433022), ('column_434', 7768.203390651955, 2.6258323803089914), ('column_489', 7733.142731268233, 2.9720129058358653), ('column_357', 7729.93307732598, 2.1706526864013123), ('column_461', 7681.87244390826, 2.8205362895841852), ('column_476', 7675.3991583255865, 2.914766976741901), ('column_448', 7674.963966762532, 2.743465648983611), ('column_443', 7630.845232168923, 2.7285312919499516), ('column_492', 7560.69695156514, 3.058448202346359), ('column_412', 7520.680755285831, 2.574766916730273), ('column_488', 7511.56280656487, 3.053425843681245), ('column_457', 7493.602837367121, 2.866311501444164), ('column_466', 7476.520901110775, 2.929437406741691), ('column_437', 7475.644058005503, 2.747455582506665), ('column_477', 7464.223559731726, 3.0035274024945964), ('column_394', 7391.764110198304, 2.5052206379869455), ('column_463', 7356.068136903553, 2.9582379601448374), ('column_449', 7339.014964481844, 2.875454008764231), ('column_441', 7298.2625552586505, 2.8399910037582137), ('column_430', 7297.2191685030075, 2.7695481707925724)]\n",
      "INFO:dsds.fs:The selected feature is column_497\n",
      "INFO:dsds.fs:Round 49: The top 20 features, relative score, and the accumulated correlation are the following:\n",
      "[('column_434', 7924.974481873337, 2.628651997258627), ('column_489', 7897.044635425394, 2.972251150095674), ('column_357', 7868.656176793602, 2.1777543223375084), ('column_461', 7827.923550189383, 2.826803284181876), ('column_476', 7822.560055836021, 2.920782945342075), ('column_448', 7810.400773541976, 2.753251801475489), ('column_443', 7783.587736539483, 2.73190214072846), ('column_492', 7709.106803616837, 3.0633899103486564), ('column_412', 7672.330560151476, 2.577574029814685), ('column_488', 7665.326223350213, 3.055838631974399), ('column_457', 7652.421393452308, 2.8665436562039366), ('column_437', 7629.585765166702, 2.7492973597291606), ('column_466', 7618.793945461068, 2.935897749712189), ('column_477', 7602.24935540856, 3.0117402007750274), ('column_394', 7528.0902142042905, 2.5121909357988446), ('column_463', 7503.403698020673, 2.9618558316224517), ('column_449', 7482.838912232117, 2.8801902931211276), ('column_441', 7450.569555169932, 2.8411250768488667), ('column_430', 7445.2785833616745, 2.7722266895593686), ('column_373', 7404.754896637684, 2.417905825367665)]\n",
      "INFO:dsds.fs:The selected feature is column_434\n",
      "INFO:dsds.fs:Round 50: The top 20 features, relative score, and the accumulated correlation are the following:\n",
      "[('column_489', 8052.416232750815, 2.9756285948738888), ('column_357', 8022.245583234707, 2.180561517158955), ('column_476', 7974.780111557623, 2.9247201394552795), ('column_461', 7971.729790056088, 2.8336384442153886), ('column_448', 7968.247770989069, 2.754934413551146), ('column_443', 7941.54449109041, 2.7333474016739445), ('column_492', 7866.363847128056, 3.0646942435546802), ('column_412', 7826.6501992280455, 2.579392139179949), ('column_488', 7823.44968996014, 3.0564521978950476), ('column_457', 7810.053924908728, 2.867201714008869), ('column_437', 7778.756578493701, 2.7527535775064025), ('column_466', 7774.53284597686, 2.937025343177509), ('column_477', 7757.768574808631, 3.012850895797258), ('column_394', 7679.007003412518, 2.5141271510001872), ('column_463', 7651.725604007597, 2.9649521133007783), ('column_449', 7636.400682471036, 2.881069356470799), ('column_441', 7601.658773188318, 2.8426690337925633), ('column_430', 7594.405001330871, 2.7744108980634583), ('column_373', 7545.937447329366, 2.422098000092558), ('column_450', 7545.396580825102, 2.922311605997626)]\n",
      "INFO:dsds.fs:The selected feature is column_489\n"
     ]
    },
    {
     "data": {
      "text/plain": [
       "['column_499',\n",
       " 'column_311',\n",
       " 'column_276',\n",
       " 'column_336',\n",
       " 'column_496',\n",
       " 'column_380',\n",
       " 'column_452',\n",
       " 'column_331',\n",
       " 'column_471',\n",
       " 'column_472',\n",
       " 'column_396',\n",
       " 'column_494',\n",
       " 'column_405',\n",
       " 'column_377',\n",
       " 'column_454',\n",
       " 'column_462',\n",
       " 'column_408',\n",
       " 'column_371',\n",
       " 'column_460',\n",
       " 'column_456',\n",
       " 'column_440',\n",
       " 'column_482',\n",
       " 'column_475',\n",
       " 'column_479',\n",
       " 'column_483',\n",
       " 'column_429',\n",
       " 'column_493',\n",
       " 'column_480',\n",
       " 'column_469',\n",
       " 'column_425',\n",
       " 'column_406',\n",
       " 'column_485',\n",
       " 'column_464',\n",
       " 'column_433',\n",
       " 'column_455',\n",
       " 'column_458',\n",
       " 'column_423',\n",
       " 'column_498',\n",
       " 'column_484',\n",
       " 'column_473',\n",
       " 'column_486',\n",
       " 'column_418',\n",
       " 'column_487',\n",
       " 'column_481',\n",
       " 'column_495',\n",
       " 'column_426',\n",
       " 'column_491',\n",
       " 'column_497',\n",
       " 'column_434',\n",
       " 'column_489']"
      ]
     },
     "execution_count": 9,
     "metadata": {},
     "output_type": "execute_result"
    }
   ],
   "source": [
    "# Expect to see 499 at top, then features in the 400s which are less correlated with the top features, etc.\n",
    "fs.mrmr_engine(\n",
    "    df,\n",
    "    50,\n",
    "    relevance=relevance,\n",
    "    strategy=\"weighted_accum_corr\",\n",
    "    verbose = True \n",
    ")"
   ]
  },
  {
   "cell_type": "code",
   "execution_count": 11,
   "metadata": {},
   "outputs": [
    {
     "data": {
      "text/plain": [
       "0.19047619047619047"
      ]
     },
     "execution_count": 11,
     "metadata": {},
     "output_type": "execute_result"
    }
   ],
   "source": [
    "import dsds.metrics as me\n",
    "\n",
    "me.jaccard_similarity(f1, f2, parallel=False)"
   ]
  },
  {
   "cell_type": "code",
   "execution_count": null,
   "metadata": {},
   "outputs": [],
   "source": []
  }
 ],
 "metadata": {
  "kernelspec": {
   "display_name": ".venv",
   "language": "python",
   "name": "python3"
  },
  "language_info": {
   "codemirror_mode": {
    "name": "ipython",
    "version": 3
   },
   "file_extension": ".py",
   "mimetype": "text/x-python",
   "name": "python",
   "nbconvert_exporter": "python",
   "pygments_lexer": "ipython3",
   "version": "3.11.3"
  }
 },
 "nbformat": 4,
 "nbformat_minor": 2
}
