{
 "cells": [
  {
   "cell_type": "code",
   "execution_count": 1,
   "metadata": {},
   "outputs": [],
   "source": [
    "import polars as pl\n",
    "import pandas as pd\n",
    "import numpy as np\n",
    "from sklearn.datasets import make_classification\n",
    "from time import perf_counter\n"
   ]
  },
  {
   "cell_type": "code",
   "execution_count": 2,
   "metadata": {},
   "outputs": [],
   "source": [
    "orig_x, orig_y = make_classification(n_samples = 100_000, n_features = 10, n_informative = 5, n_redundant = 5)\n",
    "# This is a Polars dataframe. This is dsds package's favored dataframe. dsds relies on Polars heavily.\n",
    "# You must turn other dataframe formats into Polars for dsds to work.\n",
    "df = pl.from_numpy(orig_x).insert_at_idx(0, pl.Series(\"target\", orig_y)) \n",
    "# Turn it into Pandas.\n",
    "df_pd = df.to_pandas()\n",
    "target = \"target\"\n",
    "features = df.columns\n",
    "features.remove(target)"
   ]
  },
  {
   "cell_type": "code",
   "execution_count": 3,
   "metadata": {},
   "outputs": [
    {
     "data": {
      "text/html": [
       "<div><style>\n",
       ".dataframe > thead > tr > th,\n",
       ".dataframe > tbody > tr > td {\n",
       "  text-align: right;\n",
       "}\n",
       "</style>\n",
       "<small>shape: (5, 11)</small><table border=\"1\" class=\"dataframe\"><thead><tr><th>target</th><th>column_0</th><th>column_1</th><th>column_2</th><th>column_3</th><th>column_4</th><th>column_5</th><th>column_6</th><th>column_7</th><th>column_8</th><th>column_9</th></tr><tr><td>i32</td><td>f64</td><td>f64</td><td>f64</td><td>f64</td><td>f64</td><td>f64</td><td>f64</td><td>f64</td><td>f64</td><td>f64</td></tr></thead><tbody><tr><td>0</td><td>-1.915925</td><td>-4.003424</td><td>-1.320002</td><td>0.946308</td><td>2.492093</td><td>-2.156989</td><td>-1.736505</td><td>-4.783813</td><td>2.565997</td><td>-5.554686</td></tr><tr><td>1</td><td>4.529332</td><td>-0.092049</td><td>2.554487</td><td>-1.177019</td><td>-2.501587</td><td>1.37687</td><td>-2.787249</td><td>0.094123</td><td>3.026037</td><td>1.029492</td></tr><tr><td>1</td><td>0.61663</td><td>1.247445</td><td>0.826013</td><td>1.086297</td><td>1.907177</td><td>-0.86425</td><td>0.341153</td><td>-1.756902</td><td>0.42313</td><td>-0.433211</td></tr><tr><td>0</td><td>3.971382</td><td>0.54888</td><td>0.32097</td><td>1.947411</td><td>-3.258481</td><td>-0.690176</td><td>-1.487264</td><td>2.274612</td><td>1.568011</td><td>0.470549</td></tr><tr><td>0</td><td>2.568516</td><td>-0.770287</td><td>1.58601</td><td>0.021154</td><td>-1.176578</td><td>-1.006707</td><td>-2.02971</td><td>-0.823046</td><td>1.851651</td><td>0.017566</td></tr></tbody></table></div>"
      ],
      "text/plain": [
       "shape: (5, 11)\n",
       "┌────────┬───────────┬───────────┬───────────┬───┬───────────┬───────────┬──────────┬───────────┐\n",
       "│ target ┆ column_0  ┆ column_1  ┆ column_2  ┆ … ┆ column_6  ┆ column_7  ┆ column_8 ┆ column_9  │\n",
       "│ ---    ┆ ---       ┆ ---       ┆ ---       ┆   ┆ ---       ┆ ---       ┆ ---      ┆ ---       │\n",
       "│ i32    ┆ f64       ┆ f64       ┆ f64       ┆   ┆ f64       ┆ f64       ┆ f64      ┆ f64       │\n",
       "╞════════╪═══════════╪═══════════╪═══════════╪═══╪═══════════╪═══════════╪══════════╪═══════════╡\n",
       "│ 0      ┆ -1.915925 ┆ -4.003424 ┆ -1.320002 ┆ … ┆ -1.736505 ┆ -4.783813 ┆ 2.565997 ┆ -5.554686 │\n",
       "│ 1      ┆ 4.529332  ┆ -0.092049 ┆ 2.554487  ┆ … ┆ -2.787249 ┆ 0.094123  ┆ 3.026037 ┆ 1.029492  │\n",
       "│ 1      ┆ 0.61663   ┆ 1.247445  ┆ 0.826013  ┆ … ┆ 0.341153  ┆ -1.756902 ┆ 0.42313  ┆ -0.433211 │\n",
       "│ 0      ┆ 3.971382  ┆ 0.54888   ┆ 0.32097   ┆ … ┆ -1.487264 ┆ 2.274612  ┆ 1.568011 ┆ 0.470549  │\n",
       "│ 0      ┆ 2.568516  ┆ -0.770287 ┆ 1.58601   ┆ … ┆ -2.02971  ┆ -0.823046 ┆ 1.851651 ┆ 0.017566  │\n",
       "└────────┴───────────┴───────────┴───────────┴───┴───────────┴───────────┴──────────┴───────────┘"
      ]
     },
     "execution_count": 3,
     "metadata": {},
     "output_type": "execute_result"
    }
   ],
   "source": [
    "df.head()"
   ]
  },
  {
   "attachments": {},
   "cell_type": "markdown",
   "metadata": {},
   "source": [
    "## Comparisons\n",
    "\n",
    "This notebook compares results and performance between the dsds package, sklearn and some other packages for feature selection and some other transformations common in the data science pipeline.\n",
    "\n",
    "### Methods Compared:\n",
    "1. Scaling and Imputation\n",
    "2. Fscore\n",
    "3. Mutual Information Score\n",
    "4. MRMR feature selection strategies\n",
    "5. Power Transform\n",
    "\n",
    "You may restart the kernel after each section. But remember to rerun the cells above. If you are concerned about memory usage when running this notebook, go to the end and run the gc cell."
   ]
  },
  {
   "attachments": {},
   "cell_type": "markdown",
   "metadata": {},
   "source": [
    "# Scaling and Imputation"
   ]
  },
  {
   "cell_type": "code",
   "execution_count": 4,
   "metadata": {},
   "outputs": [],
   "source": [
    "import dsds.transform as t"
   ]
  },
  {
   "cell_type": "code",
   "execution_count": 5,
   "metadata": {},
   "outputs": [],
   "source": [
    "features = df.columns\n",
    "features.remove(\"target\")"
   ]
  },
  {
   "cell_type": "code",
   "execution_count": 6,
   "metadata": {},
   "outputs": [
    {
     "data": {
      "text/html": [
       "<div><style>\n",
       ".dataframe > thead > tr > th,\n",
       ".dataframe > tbody > tr > td {\n",
       "  text-align: right;\n",
       "}\n",
       "</style>\n",
       "<small>shape: (5, 11)</small><table border=\"1\" class=\"dataframe\"><thead><tr><th>target</th><th>column_0</th><th>column_1</th><th>column_2</th><th>column_3</th><th>column_4</th><th>column_5</th><th>column_6</th><th>column_7</th><th>column_8</th><th>column_9</th></tr><tr><td>i32</td><td>f64</td><td>f64</td><td>f64</td><td>f64</td><td>f64</td><td>f64</td><td>f64</td><td>f64</td><td>f64</td><td>f64</td></tr></thead><tbody><tr><td>0</td><td>-1.346559</td><td>-2.309483</td><td>-0.829968</td><td>0.434469</td><td>1.456466</td><td>-1.396473</td><td>-0.987196</td><td>-2.121938</td><td>1.377123</td><td>-2.8757</td></tr><tr><td>1</td><td>2.220117</td><td>0.270753</td><td>1.605781</td><td>-0.873723</td><td>-1.463483</td><td>0.89528</td><td>-1.937195</td><td>0.37219</td><td>1.782193</td><td>1.21585</td></tr><tr><td>1</td><td>0.054906</td><td>1.154383</td><td>0.519153</td><td>0.520717</td><td>1.114449</td><td>-0.558115</td><td>0.891258</td><td>-0.574254</td><td>-0.509698</td><td>0.306895</td></tr><tr><td>0</td><td>1.911359</td><td>0.693557</td><td>0.201651</td><td>1.051253</td><td>-1.90606</td><td>-0.445226</td><td>-0.761852</td><td>1.487091</td><td>0.498385</td><td>0.86851</td></tr><tr><td>0</td><td>1.135041</td><td>-0.176664</td><td>0.996935</td><td>-0.135523</td><td>-0.688712</td><td>-0.6505</td><td>-1.252289</td><td>-0.096766</td><td>0.748132</td><td>0.587017</td></tr></tbody></table></div>"
      ],
      "text/plain": [
       "shape: (5, 11)\n",
       "┌────────┬───────────┬───────────┬───────────┬───┬───────────┬───────────┬───────────┬──────────┐\n",
       "│ target ┆ column_0  ┆ column_1  ┆ column_2  ┆ … ┆ column_6  ┆ column_7  ┆ column_8  ┆ column_9 │\n",
       "│ ---    ┆ ---       ┆ ---       ┆ ---       ┆   ┆ ---       ┆ ---       ┆ ---       ┆ ---      │\n",
       "│ i32    ┆ f64       ┆ f64       ┆ f64       ┆   ┆ f64       ┆ f64       ┆ f64       ┆ f64      │\n",
       "╞════════╪═══════════╪═══════════╪═══════════╪═══╪═══════════╪═══════════╪═══════════╪══════════╡\n",
       "│ 0      ┆ -1.346559 ┆ -2.309483 ┆ -0.829968 ┆ … ┆ -0.987196 ┆ -2.121938 ┆ 1.377123  ┆ -2.8757  │\n",
       "│ 1      ┆ 2.220117  ┆ 0.270753  ┆ 1.605781  ┆ … ┆ -1.937195 ┆ 0.37219   ┆ 1.782193  ┆ 1.21585  │\n",
       "│ 1      ┆ 0.054906  ┆ 1.154383  ┆ 0.519153  ┆ … ┆ 0.891258  ┆ -0.574254 ┆ -0.509698 ┆ 0.306895 │\n",
       "│ 0      ┆ 1.911359  ┆ 0.693557  ┆ 0.201651  ┆ … ┆ -0.761852 ┆ 1.487091  ┆ 0.498385  ┆ 0.86851  │\n",
       "│ 0      ┆ 1.135041  ┆ -0.176664 ┆ 0.996935  ┆ … ┆ -1.252289 ┆ -0.096766 ┆ 0.748132  ┆ 0.587017 │\n",
       "└────────┴───────────┴───────────┴───────────┴───┴───────────┴───────────┴───────────┴──────────┘"
      ]
     },
     "execution_count": 6,
     "metadata": {},
     "output_type": "execute_result"
    }
   ],
   "source": [
    "scaled = t.scale(df, cols=features, strategy=\"standard\")\n",
    "scaled.head()"
   ]
  },
  {
   "cell_type": "code",
   "execution_count": 7,
   "metadata": {},
   "outputs": [],
   "source": [
    "from sklearn.preprocessing import StandardScaler"
   ]
  },
  {
   "cell_type": "code",
   "execution_count": 8,
   "metadata": {},
   "outputs": [
    {
     "data": {
      "text/html": [
       "<div>\n",
       "<style scoped>\n",
       "    .dataframe tbody tr th:only-of-type {\n",
       "        vertical-align: middle;\n",
       "    }\n",
       "\n",
       "    .dataframe tbody tr th {\n",
       "        vertical-align: top;\n",
       "    }\n",
       "\n",
       "    .dataframe thead th {\n",
       "        text-align: right;\n",
       "    }\n",
       "</style>\n",
       "<table border=\"1\" class=\"dataframe\">\n",
       "  <thead>\n",
       "    <tr style=\"text-align: right;\">\n",
       "      <th></th>\n",
       "      <th>column_0</th>\n",
       "      <th>column_1</th>\n",
       "      <th>column_2</th>\n",
       "      <th>column_3</th>\n",
       "      <th>column_4</th>\n",
       "      <th>column_5</th>\n",
       "      <th>column_6</th>\n",
       "      <th>column_7</th>\n",
       "      <th>column_8</th>\n",
       "      <th>column_9</th>\n",
       "      <th>target</th>\n",
       "    </tr>\n",
       "  </thead>\n",
       "  <tbody>\n",
       "    <tr>\n",
       "      <th>0</th>\n",
       "      <td>-1.346566</td>\n",
       "      <td>-2.309494</td>\n",
       "      <td>-0.829972</td>\n",
       "      <td>0.434471</td>\n",
       "      <td>1.456473</td>\n",
       "      <td>-1.396480</td>\n",
       "      <td>-0.987201</td>\n",
       "      <td>-2.121949</td>\n",
       "      <td>1.377130</td>\n",
       "      <td>-2.875714</td>\n",
       "      <td>0</td>\n",
       "    </tr>\n",
       "    <tr>\n",
       "      <th>1</th>\n",
       "      <td>2.220128</td>\n",
       "      <td>0.270754</td>\n",
       "      <td>1.605789</td>\n",
       "      <td>-0.873727</td>\n",
       "      <td>-1.463490</td>\n",
       "      <td>0.895285</td>\n",
       "      <td>-1.937205</td>\n",
       "      <td>0.372191</td>\n",
       "      <td>1.782202</td>\n",
       "      <td>1.215856</td>\n",
       "      <td>1</td>\n",
       "    </tr>\n",
       "    <tr>\n",
       "      <th>2</th>\n",
       "      <td>0.054906</td>\n",
       "      <td>1.154389</td>\n",
       "      <td>0.519155</td>\n",
       "      <td>0.520719</td>\n",
       "      <td>1.114454</td>\n",
       "      <td>-0.558118</td>\n",
       "      <td>0.891262</td>\n",
       "      <td>-0.574257</td>\n",
       "      <td>-0.509700</td>\n",
       "      <td>0.306896</td>\n",
       "      <td>1</td>\n",
       "    </tr>\n",
       "    <tr>\n",
       "      <th>3</th>\n",
       "      <td>1.911368</td>\n",
       "      <td>0.693560</td>\n",
       "      <td>0.201652</td>\n",
       "      <td>1.051258</td>\n",
       "      <td>-1.906070</td>\n",
       "      <td>-0.445228</td>\n",
       "      <td>-0.761856</td>\n",
       "      <td>1.487098</td>\n",
       "      <td>0.498387</td>\n",
       "      <td>0.868515</td>\n",
       "      <td>0</td>\n",
       "    </tr>\n",
       "    <tr>\n",
       "      <th>4</th>\n",
       "      <td>1.135046</td>\n",
       "      <td>-0.176665</td>\n",
       "      <td>0.996940</td>\n",
       "      <td>-0.135524</td>\n",
       "      <td>-0.688715</td>\n",
       "      <td>-0.650503</td>\n",
       "      <td>-1.252295</td>\n",
       "      <td>-0.096767</td>\n",
       "      <td>0.748136</td>\n",
       "      <td>0.587020</td>\n",
       "      <td>0</td>\n",
       "    </tr>\n",
       "  </tbody>\n",
       "</table>\n",
       "</div>"
      ],
      "text/plain": [
       "   column_0  column_1  column_2  column_3  column_4  column_5  column_6   \n",
       "0 -1.346566 -2.309494 -0.829972  0.434471  1.456473 -1.396480 -0.987201  \\\n",
       "1  2.220128  0.270754  1.605789 -0.873727 -1.463490  0.895285 -1.937205   \n",
       "2  0.054906  1.154389  0.519155  0.520719  1.114454 -0.558118  0.891262   \n",
       "3  1.911368  0.693560  0.201652  1.051258 -1.906070 -0.445228 -0.761856   \n",
       "4  1.135046 -0.176665  0.996940 -0.135524 -0.688715 -0.650503 -1.252295   \n",
       "\n",
       "   column_7  column_8  column_9  target  \n",
       "0 -2.121949  1.377130 -2.875714       0  \n",
       "1  0.372191  1.782202  1.215856       1  \n",
       "2 -0.574257 -0.509700  0.306896       1  \n",
       "3  1.487098  0.498387  0.868515       0  \n",
       "4 -0.096767  0.748136  0.587020       0  "
      ]
     },
     "execution_count": 8,
     "metadata": {},
     "output_type": "execute_result"
    }
   ],
   "source": [
    "# The difference in result is caused by using ddof = 1 for sample variance in dsds\n",
    "# and using ddof = 0 in sklearn.\n",
    "\n",
    "# Long and convoluted code just to do some scaling...\n",
    "std = StandardScaler()\n",
    "scaled2 = std.fit_transform(df_pd[features], df_pd[target])\n",
    "# scaled2[:5, :] # scaled2 is a numpy matrix\n",
    "scaled2 = pd.DataFrame(scaled2, columns=features)\n",
    "scaled2[target] = df_pd[target]\n",
    "scaled2.head()"
   ]
  },
  {
   "cell_type": "code",
   "execution_count": 9,
   "metadata": {},
   "outputs": [
    {
     "name": "stdout",
     "output_type": "stream",
     "text": [
      "2.76 ms ± 25.5 µs per loop (mean ± std. dev. of 7 runs, 100 loops each)\n"
     ]
    }
   ],
   "source": [
    "%%timeit\n",
    "scaled = t.scale(df, cols=features, strategy=\"standard\")"
   ]
  },
  {
   "cell_type": "code",
   "execution_count": 10,
   "metadata": {},
   "outputs": [
    {
     "name": "stdout",
     "output_type": "stream",
     "text": [
      "13.1 ms ± 96.1 µs per loop (mean ± std. dev. of 7 runs, 100 loops each)\n"
     ]
    }
   ],
   "source": [
    "%%timeit\n",
    "std = StandardScaler()\n",
    "scaled2 = std.fit_transform(df_pd[features], df_pd[target])\n",
    "scaled2 = pd.DataFrame(scaled2, columns=features)\n",
    "scaled2[target] = df_pd[target]\n"
   ]
  },
  {
   "cell_type": "code",
   "execution_count": 11,
   "metadata": {},
   "outputs": [
    {
     "data": {
      "text/html": [
       "<div><style>\n",
       ".dataframe > thead > tr > th,\n",
       ".dataframe > tbody > tr > td {\n",
       "  text-align: right;\n",
       "}\n",
       "</style>\n",
       "<small>shape: (5, 11)</small><table border=\"1\" class=\"dataframe\"><thead><tr><th>target</th><th>column_0</th><th>column_1</th><th>column_2</th><th>column_3</th><th>column_4</th><th>column_5</th><th>column_6</th><th>column_7</th><th>column_8</th><th>column_9</th></tr><tr><td>i32</td><td>f64</td><td>f64</td><td>f64</td><td>f64</td><td>f64</td><td>f64</td><td>f64</td><td>f64</td><td>f64</td><td>f64</td></tr></thead><tbody><tr><td>0</td><td>-1.915925</td><td>-4.003424</td><td>-1.320002</td><td>0.946308</td><td>2.492093</td><td>-2.156989</td><td>-1.736505</td><td>-4.783813</td><td>2.565997</td><td>-5.554686</td></tr><tr><td>1</td><td>4.529332</td><td>-0.092049</td><td>2.554487</td><td>-1.177019</td><td>-2.501587</td><td>1.37687</td><td>-2.787249</td><td>0.094123</td><td>3.026037</td><td>1.029492</td></tr><tr><td>1</td><td>0.61663</td><td>1.247445</td><td>0.826013</td><td>1.086297</td><td>1.907177</td><td>-0.86425</td><td>0.341153</td><td>-1.756902</td><td>0.42313</td><td>-0.433211</td></tr><tr><td>0</td><td>3.971382</td><td>0.54888</td><td>0.32097</td><td>1.947411</td><td>-3.258481</td><td>-0.690176</td><td>-1.487264</td><td>2.274612</td><td>1.568011</td><td>0.470549</td></tr><tr><td>0</td><td>2.568516</td><td>-0.770287</td><td>1.58601</td><td>0.021154</td><td>-1.176578</td><td>-1.006707</td><td>-2.02971</td><td>-0.823046</td><td>1.851651</td><td>0.017566</td></tr></tbody></table></div>"
      ],
      "text/plain": [
       "shape: (5, 11)\n",
       "┌────────┬───────────┬───────────┬───────────┬───┬───────────┬───────────┬──────────┬───────────┐\n",
       "│ target ┆ column_0  ┆ column_1  ┆ column_2  ┆ … ┆ column_6  ┆ column_7  ┆ column_8 ┆ column_9  │\n",
       "│ ---    ┆ ---       ┆ ---       ┆ ---       ┆   ┆ ---       ┆ ---       ┆ ---      ┆ ---       │\n",
       "│ i32    ┆ f64       ┆ f64       ┆ f64       ┆   ┆ f64       ┆ f64       ┆ f64      ┆ f64       │\n",
       "╞════════╪═══════════╪═══════════╪═══════════╪═══╪═══════════╪═══════════╪══════════╪═══════════╡\n",
       "│ 0      ┆ -1.915925 ┆ -4.003424 ┆ -1.320002 ┆ … ┆ -1.736505 ┆ -4.783813 ┆ 2.565997 ┆ -5.554686 │\n",
       "│ 1      ┆ 4.529332  ┆ -0.092049 ┆ 2.554487  ┆ … ┆ -2.787249 ┆ 0.094123  ┆ 3.026037 ┆ 1.029492  │\n",
       "│ 1      ┆ 0.61663   ┆ 1.247445  ┆ 0.826013  ┆ … ┆ 0.341153  ┆ -1.756902 ┆ 0.42313  ┆ -0.433211 │\n",
       "│ 0      ┆ 3.971382  ┆ 0.54888   ┆ 0.32097   ┆ … ┆ -1.487264 ┆ 2.274612  ┆ 1.568011 ┆ 0.470549  │\n",
       "│ 0      ┆ 2.568516  ┆ -0.770287 ┆ 1.58601   ┆ … ┆ -2.02971  ┆ -0.823046 ┆ 1.851651 ┆ 0.017566  │\n",
       "└────────┴───────────┴───────────┴───────────┴───┴───────────┴───────────┴──────────┴───────────┘"
      ]
     },
     "execution_count": 11,
     "metadata": {},
     "output_type": "execute_result"
    }
   ],
   "source": [
    "t.impute(df, cols=features, strategy=\"median\").head() "
   ]
  },
  {
   "cell_type": "code",
   "execution_count": 12,
   "metadata": {},
   "outputs": [
    {
     "data": {
      "text/html": [
       "<div>\n",
       "<style scoped>\n",
       "    .dataframe tbody tr th:only-of-type {\n",
       "        vertical-align: middle;\n",
       "    }\n",
       "\n",
       "    .dataframe tbody tr th {\n",
       "        vertical-align: top;\n",
       "    }\n",
       "\n",
       "    .dataframe thead th {\n",
       "        text-align: right;\n",
       "    }\n",
       "</style>\n",
       "<table border=\"1\" class=\"dataframe\">\n",
       "  <thead>\n",
       "    <tr style=\"text-align: right;\">\n",
       "      <th></th>\n",
       "      <th>target</th>\n",
       "      <th>column_0</th>\n",
       "      <th>column_1</th>\n",
       "      <th>column_2</th>\n",
       "      <th>column_3</th>\n",
       "      <th>column_4</th>\n",
       "      <th>column_5</th>\n",
       "      <th>column_6</th>\n",
       "      <th>column_7</th>\n",
       "      <th>column_8</th>\n",
       "      <th>column_9</th>\n",
       "    </tr>\n",
       "  </thead>\n",
       "  <tbody>\n",
       "    <tr>\n",
       "      <th>0</th>\n",
       "      <td>0.0</td>\n",
       "      <td>-1.915925</td>\n",
       "      <td>-4.003424</td>\n",
       "      <td>-1.320002</td>\n",
       "      <td>0.946308</td>\n",
       "      <td>2.492093</td>\n",
       "      <td>-2.156989</td>\n",
       "      <td>-1.736505</td>\n",
       "      <td>-4.783813</td>\n",
       "      <td>2.565997</td>\n",
       "      <td>-5.554686</td>\n",
       "    </tr>\n",
       "    <tr>\n",
       "      <th>1</th>\n",
       "      <td>1.0</td>\n",
       "      <td>4.529332</td>\n",
       "      <td>-0.092049</td>\n",
       "      <td>2.554487</td>\n",
       "      <td>-1.177019</td>\n",
       "      <td>-2.501587</td>\n",
       "      <td>1.376870</td>\n",
       "      <td>-2.787249</td>\n",
       "      <td>0.094123</td>\n",
       "      <td>3.026037</td>\n",
       "      <td>1.029492</td>\n",
       "    </tr>\n",
       "    <tr>\n",
       "      <th>2</th>\n",
       "      <td>1.0</td>\n",
       "      <td>0.616630</td>\n",
       "      <td>1.247445</td>\n",
       "      <td>0.826013</td>\n",
       "      <td>1.086297</td>\n",
       "      <td>1.907177</td>\n",
       "      <td>-0.864250</td>\n",
       "      <td>0.341153</td>\n",
       "      <td>-1.756902</td>\n",
       "      <td>0.423130</td>\n",
       "      <td>-0.433211</td>\n",
       "    </tr>\n",
       "    <tr>\n",
       "      <th>3</th>\n",
       "      <td>0.0</td>\n",
       "      <td>3.971382</td>\n",
       "      <td>0.548880</td>\n",
       "      <td>0.320970</td>\n",
       "      <td>1.947411</td>\n",
       "      <td>-3.258481</td>\n",
       "      <td>-0.690176</td>\n",
       "      <td>-1.487264</td>\n",
       "      <td>2.274612</td>\n",
       "      <td>1.568011</td>\n",
       "      <td>0.470549</td>\n",
       "    </tr>\n",
       "    <tr>\n",
       "      <th>4</th>\n",
       "      <td>0.0</td>\n",
       "      <td>2.568516</td>\n",
       "      <td>-0.770287</td>\n",
       "      <td>1.586010</td>\n",
       "      <td>0.021154</td>\n",
       "      <td>-1.176578</td>\n",
       "      <td>-1.006707</td>\n",
       "      <td>-2.029710</td>\n",
       "      <td>-0.823046</td>\n",
       "      <td>1.851651</td>\n",
       "      <td>0.017566</td>\n",
       "    </tr>\n",
       "  </tbody>\n",
       "</table>\n",
       "</div>"
      ],
      "text/plain": [
       "   target  column_0  column_1  column_2  column_3  column_4  column_5   \n",
       "0     0.0 -1.915925 -4.003424 -1.320002  0.946308  2.492093 -2.156989  \\\n",
       "1     1.0  4.529332 -0.092049  2.554487 -1.177019 -2.501587  1.376870   \n",
       "2     1.0  0.616630  1.247445  0.826013  1.086297  1.907177 -0.864250   \n",
       "3     0.0  3.971382  0.548880  0.320970  1.947411 -3.258481 -0.690176   \n",
       "4     0.0  2.568516 -0.770287  1.586010  0.021154 -1.176578 -1.006707   \n",
       "\n",
       "   column_6  column_7  column_8  column_9  \n",
       "0 -1.736505 -4.783813  2.565997 -5.554686  \n",
       "1 -2.787249  0.094123  3.026037  1.029492  \n",
       "2  0.341153 -1.756902  0.423130 -0.433211  \n",
       "3 -1.487264  2.274612  1.568011  0.470549  \n",
       "4 -2.029710 -0.823046  1.851651  0.017566  "
      ]
     },
     "execution_count": 12,
     "metadata": {},
     "output_type": "execute_result"
    }
   ],
   "source": [
    "from sklearn.impute import SimpleImputer \n",
    "\n",
    "imputer = SimpleImputer(strategy = \"median\")\n",
    "imputed = pd.DataFrame(imputer.fit_transform(df_pd, df_pd[target]), columns=df.columns)\n",
    "imputed.head()"
   ]
  },
  {
   "cell_type": "code",
   "execution_count": 13,
   "metadata": {},
   "outputs": [
    {
     "name": "stdout",
     "output_type": "stream",
     "text": [
      "1.27 ms ± 8.01 µs per loop (mean ± std. dev. of 7 runs, 1,000 loops each)\n"
     ]
    }
   ],
   "source": [
    "%%timeit\n",
    "t.impute(df, cols=features, strategy=\"median\")"
   ]
  },
  {
   "cell_type": "code",
   "execution_count": 14,
   "metadata": {},
   "outputs": [
    {
     "name": "stdout",
     "output_type": "stream",
     "text": [
      "119 ms ± 1.1 ms per loop (mean ± std. dev. of 7 runs, 10 loops each)\n"
     ]
    }
   ],
   "source": [
    "%%timeit\n",
    "imputer = SimpleImputer(strategy = \"median\")\n",
    "imputed = pd.DataFrame(imputer.fit_transform(df_pd, df_pd[target]), columns=df.columns)"
   ]
  },
  {
   "attachments": {},
   "cell_type": "markdown",
   "metadata": {},
   "source": [
    "# Fscore"
   ]
  },
  {
   "cell_type": "code",
   "execution_count": 15,
   "metadata": {},
   "outputs": [],
   "source": [
    "import dsds.fs as fs # fs = feature_selection\n",
    "from sklearn.feature_selection import mutual_info_classif, f_classif, f_regression"
   ]
  },
  {
   "cell_type": "code",
   "execution_count": 16,
   "metadata": {},
   "outputs": [
    {
     "data": {
      "text/plain": [
       "array([2.22045228e+02, 1.18428679e+04, 1.77695826e+00, 4.39617346e+03,\n",
       "       1.41954302e-01, 7.02406170e+04, 5.31111372e+03, 3.20924452e+03,\n",
       "       1.54537682e+00, 3.03490700e+03])"
      ]
     },
     "execution_count": 16,
     "metadata": {},
     "output_type": "execute_result"
    }
   ],
   "source": [
    "fs._f_score(df, target=target, num_list = features)"
   ]
  },
  {
   "cell_type": "code",
   "execution_count": 17,
   "metadata": {},
   "outputs": [
    {
     "name": "stdout",
     "output_type": "stream",
     "text": [
      "Spent 0.00s in computing Fscore.\n"
     ]
    },
    {
     "data": {
      "text/html": [
       "<div><style>\n",
       ".dataframe > thead > tr > th,\n",
       ".dataframe > tbody > tr > td {\n",
       "  text-align: right;\n",
       "}\n",
       "</style>\n",
       "<small>shape: (10, 3)</small><table border=\"1\" class=\"dataframe\"><thead><tr><th>feature</th><th>f_value</th><th>p_value</th></tr><tr><td>str</td><td>f64</td><td>f64</td></tr></thead><tbody><tr><td>&quot;column_0&quot;</td><td>222.045228</td><td>3.6661e-50</td></tr><tr><td>&quot;column_1&quot;</td><td>11842.867863</td><td>0.0</td></tr><tr><td>&quot;column_2&quot;</td><td>1.776958</td><td>0.182526</td></tr><tr><td>&quot;column_3&quot;</td><td>4396.173462</td><td>0.0</td></tr><tr><td>&quot;column_4&quot;</td><td>0.141954</td><td>0.706347</td></tr><tr><td>&quot;column_5&quot;</td><td>70240.617017</td><td>0.0</td></tr><tr><td>&quot;column_6&quot;</td><td>5311.113716</td><td>0.0</td></tr><tr><td>&quot;column_7&quot;</td><td>3209.244521</td><td>0.0</td></tr><tr><td>&quot;column_8&quot;</td><td>1.545377</td><td>0.213822</td></tr><tr><td>&quot;column_9&quot;</td><td>3034.907</td><td>0.0</td></tr></tbody></table></div>"
      ],
      "text/plain": [
       "shape: (10, 3)\n",
       "┌──────────┬──────────────┬────────────┐\n",
       "│ feature  ┆ f_value      ┆ p_value    │\n",
       "│ ---      ┆ ---          ┆ ---        │\n",
       "│ str      ┆ f64          ┆ f64        │\n",
       "╞══════════╪══════════════╪════════════╡\n",
       "│ column_0 ┆ 222.045228   ┆ 3.6661e-50 │\n",
       "│ column_1 ┆ 11842.867863 ┆ 0.0        │\n",
       "│ column_2 ┆ 1.776958     ┆ 0.182526   │\n",
       "│ column_3 ┆ 4396.173462  ┆ 0.0        │\n",
       "│ …        ┆ …            ┆ …          │\n",
       "│ column_6 ┆ 5311.113716  ┆ 0.0        │\n",
       "│ column_7 ┆ 3209.244521  ┆ 0.0        │\n",
       "│ column_8 ┆ 1.545377     ┆ 0.213822   │\n",
       "│ column_9 ┆ 3034.907     ┆ 0.0        │\n",
       "└──────────┴──────────────┴────────────┘"
      ]
     },
     "execution_count": 17,
     "metadata": {},
     "output_type": "execute_result"
    }
   ],
   "source": [
    "# The more core, the bigger the difference. Data here is not big enough to show the difference\n",
    "start = perf_counter()\n",
    "res = fs.f_classif(df, target=target)\n",
    "end = perf_counter()\n",
    "print(f\"Spent {end - start:.2f}s in computing Fscore.\")\n",
    "res.head(10)"
   ]
  },
  {
   "cell_type": "code",
   "execution_count": 18,
   "metadata": {},
   "outputs": [
    {
     "name": "stdout",
     "output_type": "stream",
     "text": [
      "Spent 0.02s in computing Fscore.\n"
     ]
    },
    {
     "data": {
      "text/html": [
       "<div>\n",
       "<style scoped>\n",
       "    .dataframe tbody tr th:only-of-type {\n",
       "        vertical-align: middle;\n",
       "    }\n",
       "\n",
       "    .dataframe tbody tr th {\n",
       "        vertical-align: top;\n",
       "    }\n",
       "\n",
       "    .dataframe thead th {\n",
       "        text-align: right;\n",
       "    }\n",
       "</style>\n",
       "<table border=\"1\" class=\"dataframe\">\n",
       "  <thead>\n",
       "    <tr style=\"text-align: right;\">\n",
       "      <th></th>\n",
       "      <th>feature</th>\n",
       "      <th>f_value</th>\n",
       "      <th>p_value</th>\n",
       "    </tr>\n",
       "  </thead>\n",
       "  <tbody>\n",
       "    <tr>\n",
       "      <th>0</th>\n",
       "      <td>column_0</td>\n",
       "      <td>222.045228</td>\n",
       "      <td>3.666150e-50</td>\n",
       "    </tr>\n",
       "    <tr>\n",
       "      <th>1</th>\n",
       "      <td>column_1</td>\n",
       "      <td>11842.867863</td>\n",
       "      <td>0.000000e+00</td>\n",
       "    </tr>\n",
       "    <tr>\n",
       "      <th>2</th>\n",
       "      <td>column_2</td>\n",
       "      <td>1.776958</td>\n",
       "      <td>1.825263e-01</td>\n",
       "    </tr>\n",
       "    <tr>\n",
       "      <th>3</th>\n",
       "      <td>column_3</td>\n",
       "      <td>4396.173462</td>\n",
       "      <td>0.000000e+00</td>\n",
       "    </tr>\n",
       "    <tr>\n",
       "      <th>4</th>\n",
       "      <td>column_4</td>\n",
       "      <td>0.141954</td>\n",
       "      <td>7.063466e-01</td>\n",
       "    </tr>\n",
       "    <tr>\n",
       "      <th>5</th>\n",
       "      <td>column_5</td>\n",
       "      <td>70240.617017</td>\n",
       "      <td>0.000000e+00</td>\n",
       "    </tr>\n",
       "    <tr>\n",
       "      <th>6</th>\n",
       "      <td>column_6</td>\n",
       "      <td>5311.113716</td>\n",
       "      <td>0.000000e+00</td>\n",
       "    </tr>\n",
       "    <tr>\n",
       "      <th>7</th>\n",
       "      <td>column_7</td>\n",
       "      <td>3209.244521</td>\n",
       "      <td>0.000000e+00</td>\n",
       "    </tr>\n",
       "    <tr>\n",
       "      <th>8</th>\n",
       "      <td>column_8</td>\n",
       "      <td>1.545377</td>\n",
       "      <td>2.138222e-01</td>\n",
       "    </tr>\n",
       "    <tr>\n",
       "      <th>9</th>\n",
       "      <td>column_9</td>\n",
       "      <td>3034.907000</td>\n",
       "      <td>0.000000e+00</td>\n",
       "    </tr>\n",
       "  </tbody>\n",
       "</table>\n",
       "</div>"
      ],
      "text/plain": [
       "    feature       f_value       p_value\n",
       "0  column_0    222.045228  3.666150e-50\n",
       "1  column_1  11842.867863  0.000000e+00\n",
       "2  column_2      1.776958  1.825263e-01\n",
       "3  column_3   4396.173462  0.000000e+00\n",
       "4  column_4      0.141954  7.063466e-01\n",
       "5  column_5  70240.617017  0.000000e+00\n",
       "6  column_6   5311.113716  0.000000e+00\n",
       "7  column_7   3209.244521  0.000000e+00\n",
       "8  column_8      1.545377  2.138222e-01\n",
       "9  column_9   3034.907000  0.000000e+00"
      ]
     },
     "execution_count": 18,
     "metadata": {},
     "output_type": "execute_result"
    }
   ],
   "source": [
    "start = perf_counter()\n",
    "f, pv = f_classif(df_pd[features], df_pd[target])\n",
    "res = pd.DataFrame({\"feature\":features, \"f_value\":f, \"p_value\":pv})\n",
    "end = perf_counter()\n",
    "print(f\"Spent {end - start:.2f}s in computing Fscore.\")\n",
    "res.head(10)"
   ]
  },
  {
   "cell_type": "code",
   "execution_count": 19,
   "metadata": {},
   "outputs": [
    {
     "name": "stdout",
     "output_type": "stream",
     "text": [
      "Spent  0.01s in computing Fscore.\n"
     ]
    },
    {
     "data": {
      "text/html": [
       "<div>\n",
       "<style scoped>\n",
       "    .dataframe tbody tr th:only-of-type {\n",
       "        vertical-align: middle;\n",
       "    }\n",
       "\n",
       "    .dataframe tbody tr th {\n",
       "        vertical-align: top;\n",
       "    }\n",
       "\n",
       "    .dataframe thead th {\n",
       "        text-align: right;\n",
       "    }\n",
       "</style>\n",
       "<table border=\"1\" class=\"dataframe\">\n",
       "  <thead>\n",
       "    <tr style=\"text-align: right;\">\n",
       "      <th></th>\n",
       "      <th>feature</th>\n",
       "      <th>f_value</th>\n",
       "      <th>p_value</th>\n",
       "    </tr>\n",
       "  </thead>\n",
       "  <tbody>\n",
       "    <tr>\n",
       "      <th>0</th>\n",
       "      <td>column_0</td>\n",
       "      <td>222.045228</td>\n",
       "      <td>3.666150e-50</td>\n",
       "    </tr>\n",
       "    <tr>\n",
       "      <th>1</th>\n",
       "      <td>column_1</td>\n",
       "      <td>11842.867863</td>\n",
       "      <td>0.000000e+00</td>\n",
       "    </tr>\n",
       "    <tr>\n",
       "      <th>2</th>\n",
       "      <td>column_2</td>\n",
       "      <td>1.776958</td>\n",
       "      <td>1.825263e-01</td>\n",
       "    </tr>\n",
       "    <tr>\n",
       "      <th>3</th>\n",
       "      <td>column_3</td>\n",
       "      <td>4396.173462</td>\n",
       "      <td>0.000000e+00</td>\n",
       "    </tr>\n",
       "    <tr>\n",
       "      <th>4</th>\n",
       "      <td>column_4</td>\n",
       "      <td>0.141954</td>\n",
       "      <td>7.063466e-01</td>\n",
       "    </tr>\n",
       "    <tr>\n",
       "      <th>5</th>\n",
       "      <td>column_5</td>\n",
       "      <td>70240.617017</td>\n",
       "      <td>0.000000e+00</td>\n",
       "    </tr>\n",
       "    <tr>\n",
       "      <th>6</th>\n",
       "      <td>column_6</td>\n",
       "      <td>5311.113716</td>\n",
       "      <td>0.000000e+00</td>\n",
       "    </tr>\n",
       "    <tr>\n",
       "      <th>7</th>\n",
       "      <td>column_7</td>\n",
       "      <td>3209.244521</td>\n",
       "      <td>0.000000e+00</td>\n",
       "    </tr>\n",
       "    <tr>\n",
       "      <th>8</th>\n",
       "      <td>column_8</td>\n",
       "      <td>1.545377</td>\n",
       "      <td>2.138222e-01</td>\n",
       "    </tr>\n",
       "    <tr>\n",
       "      <th>9</th>\n",
       "      <td>column_9</td>\n",
       "      <td>3034.907000</td>\n",
       "      <td>0.000000e+00</td>\n",
       "    </tr>\n",
       "  </tbody>\n",
       "</table>\n",
       "</div>"
      ],
      "text/plain": [
       "    feature       f_value       p_value\n",
       "0  column_0    222.045228  3.666150e-50\n",
       "1  column_1  11842.867863  0.000000e+00\n",
       "2  column_2      1.776958  1.825263e-01\n",
       "3  column_3   4396.173462  0.000000e+00\n",
       "4  column_4      0.141954  7.063466e-01\n",
       "5  column_5  70240.617017  0.000000e+00\n",
       "6  column_6   5311.113716  0.000000e+00\n",
       "7  column_7   3209.244521  0.000000e+00\n",
       "8  column_8      1.545377  2.138222e-01\n",
       "9  column_9   3034.907000  0.000000e+00"
      ]
     },
     "execution_count": 19,
     "metadata": {},
     "output_type": "execute_result"
    }
   ],
   "source": [
    "start = perf_counter()\n",
    "f, pv = f_regression(df_pd[features], df_pd[target])\n",
    "res = pd.DataFrame({\"feature\":features, \"f_value\":f, \"p_value\":pv})\n",
    "end = perf_counter()\n",
    "print(f\"Spent {end - start: .2f}s in computing Fscore.\")\n",
    "res.head(10)"
   ]
  },
  {
   "attachments": {},
   "cell_type": "markdown",
   "metadata": {},
   "source": [
    "# Mutual Information Score"
   ]
  },
  {
   "cell_type": "code",
   "execution_count": 20,
   "metadata": {},
   "outputs": [
    {
     "name": "stderr",
     "output_type": "stream",
     "text": [
      "Mutual Info: 100%|██████████| 10/10 [00:00<00:00, 13.10it/s]\n"
     ]
    },
    {
     "data": {
      "text/html": [
       "<div><style>\n",
       ".dataframe > thead > tr > th,\n",
       ".dataframe > tbody > tr > td {\n",
       "  text-align: right;\n",
       "}\n",
       "</style>\n",
       "<small>shape: (10, 2)</small><table border=\"1\" class=\"dataframe\"><thead><tr><th>feature</th><th>estimated_mi</th></tr><tr><td>str</td><td>f64</td></tr></thead><tbody><tr><td>&quot;column_5&quot;</td><td>0.26089</td></tr><tr><td>&quot;column_1&quot;</td><td>0.099094</td></tr><tr><td>&quot;column_7&quot;</td><td>0.06397</td></tr><tr><td>&quot;column_9&quot;</td><td>0.055507</td></tr><tr><td>&quot;column_6&quot;</td><td>0.029568</td></tr><tr><td>&quot;column_3&quot;</td><td>0.0295</td></tr><tr><td>&quot;column_4&quot;</td><td>0.014645</td></tr><tr><td>&quot;column_2&quot;</td><td>0.013376</td></tr><tr><td>&quot;column_0&quot;</td><td>0.008127</td></tr><tr><td>&quot;column_8&quot;</td><td>0.000046</td></tr></tbody></table></div>"
      ],
      "text/plain": [
       "shape: (10, 2)\n",
       "┌──────────┬──────────────┐\n",
       "│ feature  ┆ estimated_mi │\n",
       "│ ---      ┆ ---          │\n",
       "│ str      ┆ f64          │\n",
       "╞══════════╪══════════════╡\n",
       "│ column_5 ┆ 0.26089      │\n",
       "│ column_1 ┆ 0.099094     │\n",
       "│ column_7 ┆ 0.06397      │\n",
       "│ column_9 ┆ 0.055507     │\n",
       "│ …        ┆ …            │\n",
       "│ column_4 ┆ 0.014645     │\n",
       "│ column_2 ┆ 0.013376     │\n",
       "│ column_0 ┆ 0.008127     │\n",
       "│ column_8 ┆ 0.000046     │\n",
       "└──────────┴──────────────┘"
      ]
     },
     "execution_count": 20,
     "metadata": {},
     "output_type": "execute_result"
    }
   ],
   "source": [
    "# Vastly faster than sklearn. Finished in 0.7s in this run\n",
    "fs.mutual_info(df, target=target, conti_cols=features).sort(by=\"estimated_mi\", descending=True).limit(10)"
   ]
  },
  {
   "cell_type": "code",
   "execution_count": 21,
   "metadata": {},
   "outputs": [],
   "source": [
    "def estimate_mi_sklearn(df:pd.DataFrame, cols:list[str], target:str, k=3, random_state:int=42):\n",
    "    mi_estimates = mutual_info_classif(df[cols], df[target]\n",
    "                        , n_neighbors=k, random_state=random_state, discrete_features=False)\n",
    "\n",
    "    return pl.from_records([cols, mi_estimates], schema=[\"feature\", \"estimated_mi\"]).sort(\"estimated_mi\", descending=True)"
   ]
  },
  {
   "cell_type": "code",
   "execution_count": 22,
   "metadata": {},
   "outputs": [
    {
     "data": {
      "text/html": [
       "<div><style>\n",
       ".dataframe > thead > tr > th,\n",
       ".dataframe > tbody > tr > td {\n",
       "  text-align: right;\n",
       "}\n",
       "</style>\n",
       "<small>shape: (10, 2)</small><table border=\"1\" class=\"dataframe\"><thead><tr><th>feature</th><th>estimated_mi</th></tr><tr><td>str</td><td>f64</td></tr></thead><tbody><tr><td>&quot;column_5&quot;</td><td>0.260888</td></tr><tr><td>&quot;column_1&quot;</td><td>0.099094</td></tr><tr><td>&quot;column_7&quot;</td><td>0.06397</td></tr><tr><td>&quot;column_9&quot;</td><td>0.055507</td></tr><tr><td>&quot;column_6&quot;</td><td>0.029568</td></tr><tr><td>&quot;column_3&quot;</td><td>0.0295</td></tr><tr><td>&quot;column_4&quot;</td><td>0.014645</td></tr><tr><td>&quot;column_2&quot;</td><td>0.013376</td></tr><tr><td>&quot;column_0&quot;</td><td>0.008127</td></tr><tr><td>&quot;column_8&quot;</td><td>0.000044</td></tr></tbody></table></div>"
      ],
      "text/plain": [
       "shape: (10, 2)\n",
       "┌──────────┬──────────────┐\n",
       "│ feature  ┆ estimated_mi │\n",
       "│ ---      ┆ ---          │\n",
       "│ str      ┆ f64          │\n",
       "╞══════════╪══════════════╡\n",
       "│ column_5 ┆ 0.260888     │\n",
       "│ column_1 ┆ 0.099094     │\n",
       "│ column_7 ┆ 0.06397      │\n",
       "│ column_9 ┆ 0.055507     │\n",
       "│ …        ┆ …            │\n",
       "│ column_4 ┆ 0.014645     │\n",
       "│ column_2 ┆ 0.013376     │\n",
       "│ column_0 ┆ 0.008127     │\n",
       "│ column_8 ┆ 0.000044     │\n",
       "└──────────┴──────────────┘"
      ]
     },
     "execution_count": 22,
     "metadata": {},
     "output_type": "execute_result"
    }
   ],
   "source": [
    "# The reason sklearn's impl is slow is that it did not turn on multithreading for KDtrees.\n",
    "# Sklearn also did not provide an option to turn it on, despite the fact that sklearn's KDtrees\n",
    "# does have this functionality. Finished in 4.4s in this run\n",
    "estimate_mi_sklearn(df_pd, cols=features, target=target).limit(10)"
   ]
  },
  {
   "attachments": {},
   "cell_type": "markdown",
   "metadata": {},
   "source": [
    "# MRMR Feature selection Strategy"
   ]
  },
  {
   "cell_type": "code",
   "execution_count": 23,
   "metadata": {},
   "outputs": [],
   "source": [
    "from mrmr import mrmr_classif # This is currently the most starred MRMR Python package on github"
   ]
  },
  {
   "cell_type": "code",
   "execution_count": 24,
   "metadata": {},
   "outputs": [],
   "source": [
    "# Need to wrap it so that we get apples to apples comparison\n",
    "def mrmr_package(df:pd.DataFrame, target:str, k:int) -> list[str]:\n",
    "    features = list(df.columns)\n",
    "    features.remove(target)\n",
    "    X = df[features]\n",
    "    y = df[target]\n",
    "    start = perf_counter()\n",
    "    output = mrmr_classif(X, y, K = k)\n",
    "    end = perf_counter()\n",
    "    print(f\"Spent {end - start:.2f}s to compute mrmr.\")\n",
    "    return output"
   ]
  },
  {
   "cell_type": "code",
   "execution_count": 25,
   "metadata": {},
   "outputs": [
    {
     "name": "stderr",
     "output_type": "stream",
     "text": [
      "100%|██████████| 10/10 [00:05<00:00,  1.67it/s]"
     ]
    },
    {
     "name": "stdout",
     "output_type": "stream",
     "text": [
      "Spent 8.78s to compute mrmr.\n"
     ]
    },
    {
     "name": "stderr",
     "output_type": "stream",
     "text": [
      "\n"
     ]
    },
    {
     "data": {
      "text/plain": [
       "['column_5',\n",
       " 'column_1',\n",
       " 'column_3',\n",
       " 'column_6',\n",
       " 'column_7',\n",
       " 'column_9',\n",
       " 'column_0',\n",
       " 'column_2',\n",
       " 'column_8',\n",
       " 'column_4']"
      ]
     },
     "execution_count": 25,
     "metadata": {},
     "output_type": "execute_result"
    }
   ],
   "source": [
    "mrmr_package(df_pd, \"target\", 50)"
   ]
  },
  {
   "cell_type": "code",
   "execution_count": 26,
   "metadata": {},
   "outputs": [
    {
     "name": "stderr",
     "output_type": "stream",
     "text": [
      "INFO:dsds.fs:Running fscore to determine feature relevance...\n"
     ]
    },
    {
     "name": "stdout",
     "output_type": "stream",
     "text": [
      "Found 10 total features to select from. Proceeding to select top 10 features.\n"
     ]
    },
    {
     "name": "stderr",
     "output_type": "stream",
     "text": [
      "MRMR, fscore: 100%|██████████| 10/10 [00:00<00:00, 1999.86it/s]"
     ]
    },
    {
     "name": "stdout",
     "output_type": "stream",
     "text": [
      "Output is sorted in order of selection (max relevance min redundancy).\n",
      "Spent 0.02s in computing.\n"
     ]
    },
    {
     "name": "stderr",
     "output_type": "stream",
     "text": [
      "\n"
     ]
    },
    {
     "data": {
      "text/plain": [
       "['column_5',\n",
       " 'column_1',\n",
       " 'column_3',\n",
       " 'column_6',\n",
       " 'column_7',\n",
       " 'column_9',\n",
       " 'column_0',\n",
       " 'column_2',\n",
       " 'column_8',\n",
       " 'column_4']"
      ]
     },
     "execution_count": 26,
     "metadata": {},
     "output_type": "execute_result"
    }
   ],
   "source": [
    "start = perf_counter()\n",
    "res = fs.mrmr(df, target=\"target\", k = 50, low_memory=False)\n",
    "end = perf_counter()\n",
    "print(f\"Spent {end - start:.2f}s in computing.\")\n",
    "res"
   ]
  },
  {
   "cell_type": "code",
   "execution_count": 27,
   "metadata": {},
   "outputs": [
    {
     "name": "stderr",
     "output_type": "stream",
     "text": [
      "INFO:dsds.fs:Running fscore to determine feature relevance...\n"
     ]
    },
    {
     "name": "stdout",
     "output_type": "stream",
     "text": [
      "Found 10 total features to select from. Proceeding to select top 10 features.\n"
     ]
    },
    {
     "name": "stderr",
     "output_type": "stream",
     "text": [
      "MRMR, fscore: 100%|██████████| 10/10 [00:00<00:00, 624.85it/s]"
     ]
    },
    {
     "name": "stdout",
     "output_type": "stream",
     "text": [
      "Output is sorted in order of selection (max relevance min redundancy).\n",
      "Spent 0.02s in computing.\n"
     ]
    },
    {
     "name": "stderr",
     "output_type": "stream",
     "text": [
      "\n"
     ]
    },
    {
     "data": {
      "text/plain": [
       "['column_5',\n",
       " 'column_1',\n",
       " 'column_3',\n",
       " 'column_6',\n",
       " 'column_7',\n",
       " 'column_9',\n",
       " 'column_0',\n",
       " 'column_2',\n",
       " 'column_8',\n",
       " 'column_4']"
      ]
     },
     "execution_count": 27,
     "metadata": {},
     "output_type": "execute_result"
    }
   ],
   "source": [
    "start = perf_counter()\n",
    "res = fs.mrmr(df, target=\"target\", k = 50, low_memory=True)\n",
    "end = perf_counter()\n",
    "print(f\"Spent {end - start:.2f}s in computing.\")\n",
    "res"
   ]
  },
  {
   "attachments": {},
   "cell_type": "markdown",
   "metadata": {},
   "source": [
    "# Power Transform"
   ]
  },
  {
   "cell_type": "code",
   "execution_count": 28,
   "metadata": {},
   "outputs": [
    {
     "name": "stdout",
     "output_type": "stream",
     "text": [
      "Spent 0.24s in computing.\n"
     ]
    },
    {
     "data": {
      "text/html": [
       "<div><style>\n",
       ".dataframe > thead > tr > th,\n",
       ".dataframe > tbody > tr > td {\n",
       "  text-align: right;\n",
       "}\n",
       "</style>\n",
       "<small>shape: (5, 11)</small><table border=\"1\" class=\"dataframe\"><thead><tr><th>target</th><th>column_0</th><th>column_1</th><th>column_2</th><th>column_3</th><th>column_4</th><th>column_5</th><th>column_6</th><th>column_7</th><th>column_8</th><th>column_9</th></tr><tr><td>i32</td><td>f64</td><td>f64</td><td>f64</td><td>f64</td><td>f64</td><td>f64</td><td>f64</td><td>f64</td><td>f64</td><td>f64</td></tr></thead><tbody><tr><td>0</td><td>-1.907149</td><td>-3.82021</td><td>-1.28803</td><td>0.985707</td><td>2.612754</td><td>-2.207456</td><td>-1.862715</td><td>-4.865948</td><td>2.613976</td><td>-3.344589</td></tr><tr><td>1</td><td>4.56549</td><td>-0.091858</td><td>2.657185</td><td>-1.12199</td><td>-2.386905</td><td>1.354094</td><td>-3.071196</td><td>0.094058</td><td>3.089043</td><td>1.22814</td></tr><tr><td>1</td><td>0.617799</td><td>1.274414</td><td>0.840205</td><td>1.136894</td><td>1.983762</td><td>-0.874359</td><td>0.334994</td><td>-1.772729</td><td>0.425041</td><td>-0.399006</td></tr><tr><td>0</td><td>4.000742</td><td>0.554909</td><td>0.323381</td><td>2.089364</td><td>-3.08234</td><td>-0.696871</td><td>-1.583403</td><td>2.250382</td><td>1.588767</td><td>0.51525</td></tr><tr><td>0</td><td>2.582966</td><td>-0.759197</td><td>1.631511</td><td>0.021178</td><td>-1.144841</td><td>-1.020029</td><td>-2.195168</td><td>-0.827176</td><td>1.879302</td><td>0.017633</td></tr></tbody></table></div>"
      ],
      "text/plain": [
       "shape: (5, 11)\n",
       "┌────────┬───────────┬───────────┬──────────┬───┬───────────┬───────────┬──────────┬───────────┐\n",
       "│ target ┆ column_0  ┆ column_1  ┆ column_2 ┆ … ┆ column_6  ┆ column_7  ┆ column_8 ┆ column_9  │\n",
       "│ ---    ┆ ---       ┆ ---       ┆ ---      ┆   ┆ ---       ┆ ---       ┆ ---      ┆ ---       │\n",
       "│ i32    ┆ f64       ┆ f64       ┆ f64      ┆   ┆ f64       ┆ f64       ┆ f64      ┆ f64       │\n",
       "╞════════╪═══════════╪═══════════╪══════════╪═══╪═══════════╪═══════════╪══════════╪═══════════╡\n",
       "│ 0      ┆ -1.907149 ┆ -3.82021  ┆ -1.28803 ┆ … ┆ -1.862715 ┆ -4.865948 ┆ 2.613976 ┆ -3.344589 │\n",
       "│ 1      ┆ 4.56549   ┆ -0.091858 ┆ 2.657185 ┆ … ┆ -3.071196 ┆ 0.094058  ┆ 3.089043 ┆ 1.22814   │\n",
       "│ 1      ┆ 0.617799  ┆ 1.274414  ┆ 0.840205 ┆ … ┆ 0.334994  ┆ -1.772729 ┆ 0.425041 ┆ -0.399006 │\n",
       "│ 0      ┆ 4.000742  ┆ 0.554909  ┆ 0.323381 ┆ … ┆ -1.583403 ┆ 2.250382  ┆ 1.588767 ┆ 0.51525   │\n",
       "│ 0      ┆ 2.582966  ┆ -0.759197 ┆ 1.631511 ┆ … ┆ -2.195168 ┆ -0.827176 ┆ 1.879302 ┆ 0.017633  │\n",
       "└────────┴───────────┴───────────┴──────────┴───┴───────────┴───────────┴──────────┴───────────┘"
      ]
     },
     "execution_count": 28,
     "metadata": {},
     "output_type": "execute_result"
    }
   ],
   "source": [
    "# Eager transform.\n",
    "start = perf_counter()\n",
    "res_eager = t.power_transform(df, cols=features, strategy=\"yeo_johnson\")\n",
    "end = perf_counter()\n",
    "print(f\"Spent {end - start:.2f}s in computing.\")\n",
    "res_eager.head() "
   ]
  },
  {
   "cell_type": "code",
   "execution_count": 29,
   "metadata": {},
   "outputs": [],
   "source": [
    "from sklearn.preprocessing import power_transform"
   ]
  },
  {
   "cell_type": "code",
   "execution_count": 30,
   "metadata": {},
   "outputs": [
    {
     "name": "stdout",
     "output_type": "stream",
     "text": [
      "Spent 0.73s in computing.\n"
     ]
    },
    {
     "data": {
      "text/html": [
       "<div>\n",
       "<style scoped>\n",
       "    .dataframe tbody tr th:only-of-type {\n",
       "        vertical-align: middle;\n",
       "    }\n",
       "\n",
       "    .dataframe tbody tr th {\n",
       "        vertical-align: top;\n",
       "    }\n",
       "\n",
       "    .dataframe thead th {\n",
       "        text-align: right;\n",
       "    }\n",
       "</style>\n",
       "<table border=\"1\" class=\"dataframe\">\n",
       "  <thead>\n",
       "    <tr style=\"text-align: right;\">\n",
       "      <th></th>\n",
       "      <th>target</th>\n",
       "      <th>column_0</th>\n",
       "      <th>column_1</th>\n",
       "      <th>column_2</th>\n",
       "      <th>column_3</th>\n",
       "      <th>column_4</th>\n",
       "      <th>column_5</th>\n",
       "      <th>column_6</th>\n",
       "      <th>column_7</th>\n",
       "      <th>column_8</th>\n",
       "      <th>column_9</th>\n",
       "    </tr>\n",
       "  </thead>\n",
       "  <tbody>\n",
       "    <tr>\n",
       "      <th>0</th>\n",
       "      <td>0</td>\n",
       "      <td>-1.907149</td>\n",
       "      <td>-3.820210</td>\n",
       "      <td>-1.288030</td>\n",
       "      <td>0.985707</td>\n",
       "      <td>2.612754</td>\n",
       "      <td>-2.207456</td>\n",
       "      <td>-1.862715</td>\n",
       "      <td>-4.865948</td>\n",
       "      <td>2.613976</td>\n",
       "      <td>-3.344589</td>\n",
       "    </tr>\n",
       "    <tr>\n",
       "      <th>1</th>\n",
       "      <td>1</td>\n",
       "      <td>4.565490</td>\n",
       "      <td>-0.091858</td>\n",
       "      <td>2.657185</td>\n",
       "      <td>-1.121990</td>\n",
       "      <td>-2.386905</td>\n",
       "      <td>1.354094</td>\n",
       "      <td>-3.071196</td>\n",
       "      <td>0.094058</td>\n",
       "      <td>3.089043</td>\n",
       "      <td>1.228140</td>\n",
       "    </tr>\n",
       "    <tr>\n",
       "      <th>2</th>\n",
       "      <td>1</td>\n",
       "      <td>0.617799</td>\n",
       "      <td>1.274414</td>\n",
       "      <td>0.840205</td>\n",
       "      <td>1.136894</td>\n",
       "      <td>1.983762</td>\n",
       "      <td>-0.874359</td>\n",
       "      <td>0.334994</td>\n",
       "      <td>-1.772729</td>\n",
       "      <td>0.425041</td>\n",
       "      <td>-0.399006</td>\n",
       "    </tr>\n",
       "    <tr>\n",
       "      <th>3</th>\n",
       "      <td>0</td>\n",
       "      <td>4.000742</td>\n",
       "      <td>0.554909</td>\n",
       "      <td>0.323381</td>\n",
       "      <td>2.089364</td>\n",
       "      <td>-3.082340</td>\n",
       "      <td>-0.696871</td>\n",
       "      <td>-1.583403</td>\n",
       "      <td>2.250382</td>\n",
       "      <td>1.588767</td>\n",
       "      <td>0.515250</td>\n",
       "    </tr>\n",
       "    <tr>\n",
       "      <th>4</th>\n",
       "      <td>0</td>\n",
       "      <td>2.582966</td>\n",
       "      <td>-0.759197</td>\n",
       "      <td>1.631511</td>\n",
       "      <td>0.021178</td>\n",
       "      <td>-1.144841</td>\n",
       "      <td>-1.020029</td>\n",
       "      <td>-2.195168</td>\n",
       "      <td>-0.827176</td>\n",
       "      <td>1.879302</td>\n",
       "      <td>0.017633</td>\n",
       "    </tr>\n",
       "  </tbody>\n",
       "</table>\n",
       "</div>"
      ],
      "text/plain": [
       "   target  column_0  column_1  column_2  column_3  column_4  column_5   \n",
       "0       0 -1.907149 -3.820210 -1.288030  0.985707  2.612754 -2.207456  \\\n",
       "1       1  4.565490 -0.091858  2.657185 -1.121990 -2.386905  1.354094   \n",
       "2       1  0.617799  1.274414  0.840205  1.136894  1.983762 -0.874359   \n",
       "3       0  4.000742  0.554909  0.323381  2.089364 -3.082340 -0.696871   \n",
       "4       0  2.582966 -0.759197  1.631511  0.021178 -1.144841 -1.020029   \n",
       "\n",
       "   column_6  column_7  column_8  column_9  \n",
       "0 -1.862715 -4.865948  2.613976 -3.344589  \n",
       "1 -3.071196  0.094058  3.089043  1.228140  \n",
       "2  0.334994 -1.772729  0.425041 -0.399006  \n",
       "3 -1.583403  2.250382  1.588767  0.515250  \n",
       "4 -2.195168 -0.827176  1.879302  0.017633  "
      ]
     },
     "execution_count": 30,
     "metadata": {},
     "output_type": "execute_result"
    }
   ],
   "source": [
    "# Sklearn with Pandas\n",
    "\n",
    "start = perf_counter()\n",
    "transformed = power_transform(df_pd[features], method = \"yeo-johnson\", standardize=False)\n",
    "end = perf_counter()\n",
    "df_pd[features] = transformed\n",
    "print(f\"Spent {end - start:.2f}s in computing.\")\n",
    "df_pd.head()\n"
   ]
  },
  {
   "attachments": {},
   "cell_type": "markdown",
   "metadata": {},
   "source": [
    "# GC"
   ]
  },
  {
   "cell_type": "code",
   "execution_count": 31,
   "metadata": {},
   "outputs": [
    {
     "data": {
      "text/plain": [
       "20"
      ]
     },
     "execution_count": 31,
     "metadata": {},
     "output_type": "execute_result"
    }
   ],
   "source": [
    "import gc \n",
    "gc.collect()"
   ]
  },
  {
   "cell_type": "code",
   "execution_count": null,
   "metadata": {},
   "outputs": [],
   "source": []
  }
 ],
 "metadata": {
  "kernelspec": {
   "display_name": "my_py11",
   "language": "python",
   "name": "python3"
  },
  "language_info": {
   "codemirror_mode": {
    "name": "ipython",
    "version": 3
   },
   "file_extension": ".py",
   "mimetype": "text/x-python",
   "name": "python",
   "nbconvert_exporter": "python",
   "pygments_lexer": "ipython3",
   "version": "3.11.3"
  },
  "orig_nbformat": 4
 },
 "nbformat": 4,
 "nbformat_minor": 2
}
