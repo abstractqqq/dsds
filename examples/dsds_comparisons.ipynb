{
 "cells": [
  {
   "cell_type": "code",
   "execution_count": 1,
   "metadata": {},
   "outputs": [],
   "source": [
    "import polars as pl\n",
    "import pandas as pd\n",
    "import numpy as np\n",
    "from sklearn.datasets import make_classification\n",
    "from time import perf_counter\n",
    "\n",
    "import dsds.transform as t\n",
    "import dsds.fs as fs\n",
    "\n",
    "from sklearn.preprocessing import power_transform\n",
    "from sklearn.feature_selection import mutual_info_classif, f_classif, f_regression"
   ]
  },
  {
   "cell_type": "code",
   "execution_count": 2,
   "metadata": {},
   "outputs": [],
   "source": [
    "orig_x, orig_y = make_classification(n_samples = 100_000, n_features = 100, n_informative = 60, n_redundant = 40)\n",
    "# This is a Polars dataframe. This is dsds package's favored dataframe. dsds relies on Polars heavily.\n",
    "# You must turn other dataframe formats into Polars for dsds to work.\n",
    "df = pl.from_numpy(orig_x).insert_at_idx(0, pl.Series(\"target\", orig_y)) \n",
    "# Turn it into Pandas.\n",
    "df_pd = df.to_pandas()\n",
    "target = \"target\"\n",
    "features = df.columns\n",
    "features.remove(target)"
   ]
  },
  {
   "cell_type": "code",
   "execution_count": 3,
   "metadata": {},
   "outputs": [
    {
     "data": {
      "text/html": [
       "<div><style>\n",
       ".dataframe > thead > tr > th,\n",
       ".dataframe > tbody > tr > td {\n",
       "  text-align: right;\n",
       "}\n",
       "</style>\n",
       "<small>shape: (5, 101)</small><table border=\"1\" class=\"dataframe\"><thead><tr><th>target</th><th>column_0</th><th>column_1</th><th>column_2</th><th>column_3</th><th>column_4</th><th>column_5</th><th>column_6</th><th>column_7</th><th>column_8</th><th>column_9</th><th>column_10</th><th>column_11</th><th>column_12</th><th>column_13</th><th>column_14</th><th>column_15</th><th>column_16</th><th>column_17</th><th>column_18</th><th>column_19</th><th>column_20</th><th>column_21</th><th>column_22</th><th>column_23</th><th>column_24</th><th>column_25</th><th>column_26</th><th>column_27</th><th>column_28</th><th>column_29</th><th>column_30</th><th>column_31</th><th>column_32</th><th>column_33</th><th>column_34</th><th>column_35</th><th>&hellip;</th><th>column_63</th><th>column_64</th><th>column_65</th><th>column_66</th><th>column_67</th><th>column_68</th><th>column_69</th><th>column_70</th><th>column_71</th><th>column_72</th><th>column_73</th><th>column_74</th><th>column_75</th><th>column_76</th><th>column_77</th><th>column_78</th><th>column_79</th><th>column_80</th><th>column_81</th><th>column_82</th><th>column_83</th><th>column_84</th><th>column_85</th><th>column_86</th><th>column_87</th><th>column_88</th><th>column_89</th><th>column_90</th><th>column_91</th><th>column_92</th><th>column_93</th><th>column_94</th><th>column_95</th><th>column_96</th><th>column_97</th><th>column_98</th><th>column_99</th></tr><tr><td>i32</td><td>f64</td><td>f64</td><td>f64</td><td>f64</td><td>f64</td><td>f64</td><td>f64</td><td>f64</td><td>f64</td><td>f64</td><td>f64</td><td>f64</td><td>f64</td><td>f64</td><td>f64</td><td>f64</td><td>f64</td><td>f64</td><td>f64</td><td>f64</td><td>f64</td><td>f64</td><td>f64</td><td>f64</td><td>f64</td><td>f64</td><td>f64</td><td>f64</td><td>f64</td><td>f64</td><td>f64</td><td>f64</td><td>f64</td><td>f64</td><td>f64</td><td>f64</td><td>&hellip;</td><td>f64</td><td>f64</td><td>f64</td><td>f64</td><td>f64</td><td>f64</td><td>f64</td><td>f64</td><td>f64</td><td>f64</td><td>f64</td><td>f64</td><td>f64</td><td>f64</td><td>f64</td><td>f64</td><td>f64</td><td>f64</td><td>f64</td><td>f64</td><td>f64</td><td>f64</td><td>f64</td><td>f64</td><td>f64</td><td>f64</td><td>f64</td><td>f64</td><td>f64</td><td>f64</td><td>f64</td><td>f64</td><td>f64</td><td>f64</td><td>f64</td><td>f64</td><td>f64</td></tr></thead><tbody><tr><td>0</td><td>3.058149</td><td>-1.435563</td><td>-8.457014</td><td>1.640523</td><td>0.57398</td><td>1.582525</td><td>2.308277</td><td>13.221124</td><td>-7.143688</td><td>-36.438022</td><td>3.814431</td><td>-4.75125</td><td>-3.189714</td><td>9.806908</td><td>-0.183783</td><td>16.859076</td><td>10.27535</td><td>5.147062</td><td>-3.443349</td><td>-8.584539</td><td>-15.966414</td><td>2.123187</td><td>8.214296</td><td>-0.93946</td><td>-0.778414</td><td>-2.010766</td><td>17.859377</td><td>-7.816131</td><td>21.152876</td><td>-1.586448</td><td>-0.618222</td><td>18.445602</td><td>2.247117</td><td>2.515964</td><td>-0.349371</td><td>1.054176</td><td>&hellip;</td><td>9.948941</td><td>-0.895045</td><td>2.468667</td><td>-22.502332</td><td>-3.958227</td><td>-7.982236</td><td>-0.953012</td><td>0.585046</td><td>-2.062462</td><td>2.423506</td><td>-20.285802</td><td>-1.004726</td><td>4.286519</td><td>5.889308</td><td>-4.124951</td><td>-26.749275</td><td>-1.134209</td><td>2.119505</td><td>-0.629102</td><td>-2.66286</td><td>-14.224477</td><td>3.415301</td><td>0.999277</td><td>-4.772086</td><td>-0.554316</td><td>6.196093</td><td>3.530679</td><td>-5.114195</td><td>-1.358051</td><td>-0.178766</td><td>4.458194</td><td>-5.733936</td><td>-10.36318</td><td>2.492106</td><td>-5.063588</td><td>21.50818</td><td>13.968265</td></tr><tr><td>1</td><td>-4.240389</td><td>17.997809</td><td>1.144189</td><td>17.376292</td><td>-5.606116</td><td>-9.674666</td><td>-16.030109</td><td>21.391422</td><td>3.341636</td><td>22.684675</td><td>4.153427</td><td>-7.615007</td><td>3.25067</td><td>8.886227</td><td>0.943289</td><td>10.528976</td><td>26.067408</td><td>4.718593</td><td>1.777174</td><td>-0.285101</td><td>-40.637885</td><td>2.089022</td><td>-1.185221</td><td>5.081185</td><td>5.727927</td><td>-2.918525</td><td>31.685489</td><td>-17.507925</td><td>-10.800831</td><td>-1.276797</td><td>1.287781</td><td>-51.359098</td><td>-10.006753</td><td>-1.504763</td><td>3.232843</td><td>-0.070627</td><td>&hellip;</td><td>16.886958</td><td>-1.857979</td><td>-1.662503</td><td>25.22916</td><td>8.487965</td><td>9.040261</td><td>1.146433</td><td>-8.901604</td><td>16.067657</td><td>5.47278</td><td>-16.519791</td><td>-3.156294</td><td>3.752677</td><td>-80.718244</td><td>-4.705964</td><td>-17.946756</td><td>-2.540582</td><td>2.676143</td><td>4.549622</td><td>2.3248</td><td>16.10472</td><td>1.457568</td><td>1.097254</td><td>-21.770353</td><td>-15.844483</td><td>-2.146103</td><td>14.178725</td><td>7.550425</td><td>-8.874459</td><td>0.571526</td><td>-9.847451</td><td>-30.101083</td><td>-24.127427</td><td>-2.776225</td><td>4.185251</td><td>23.653563</td><td>-23.288075</td></tr><tr><td>1</td><td>11.928344</td><td>31.479023</td><td>1.063552</td><td>-4.621436</td><td>-2.458862</td><td>-4.94459</td><td>9.4182</td><td>38.8289</td><td>-1.867021</td><td>-19.590649</td><td>-1.670916</td><td>1.379978</td><td>-1.617054</td><td>6.212348</td><td>-0.463167</td><td>37.659407</td><td>0.428669</td><td>0.488047</td><td>2.197062</td><td>-9.2984</td><td>21.759085</td><td>2.382145</td><td>-12.093664</td><td>-4.374372</td><td>9.963876</td><td>-3.07839</td><td>15.341387</td><td>21.865564</td><td>2.285397</td><td>-0.898613</td><td>1.068417</td><td>12.952227</td><td>0.80591</td><td>-0.970488</td><td>6.370502</td><td>0.752032</td><td>&hellip;</td><td>-0.703537</td><td>-7.694953</td><td>9.216952</td><td>-49.822867</td><td>2.346322</td><td>-23.016954</td><td>-5.112293</td><td>-9.83143</td><td>-17.114596</td><td>1.437586</td><td>0.699386</td><td>4.955116</td><td>-4.640043</td><td>-5.489474</td><td>-3.709112</td><td>-12.71997</td><td>2.66036</td><td>0.142703</td><td>2.989991</td><td>0.153306</td><td>-33.791032</td><td>2.388159</td><td>-4.039793</td><td>50.727605</td><td>-1.268173</td><td>0.327628</td><td>-2.068343</td><td>-0.796484</td><td>5.927812</td><td>-6.620684</td><td>4.260836</td><td>-23.02917</td><td>18.811763</td><td>1.882932</td><td>-1.907203</td><td>14.100935</td><td>13.38047</td></tr><tr><td>1</td><td>3.2263</td><td>-2.524616</td><td>-9.169814</td><td>33.727827</td><td>-5.986883</td><td>-5.091103</td><td>4.748894</td><td>-10.473185</td><td>-4.315662</td><td>1.213426</td><td>-4.524933</td><td>-0.619277</td><td>1.078335</td><td>15.082621</td><td>2.203932</td><td>9.175053</td><td>11.092248</td><td>6.635371</td><td>0.144578</td><td>36.47562</td><td>-6.812973</td><td>6.588839</td><td>34.483382</td><td>11.026605</td><td>1.075992</td><td>-4.785699</td><td>-47.605731</td><td>9.607173</td><td>23.320423</td><td>-5.63941</td><td>-2.410583</td><td>-26.765943</td><td>7.83919</td><td>-1.134767</td><td>7.205256</td><td>-9.532363</td><td>&hellip;</td><td>22.456352</td><td>10.660007</td><td>-4.736875</td><td>32.500524</td><td>4.54275</td><td>-25.384756</td><td>0.470849</td><td>-5.784234</td><td>-0.300482</td><td>-2.93609</td><td>15.81511</td><td>-3.377828</td><td>11.791298</td><td>21.519033</td><td>-2.531647</td><td>37.564108</td><td>2.317877</td><td>5.941745</td><td>-1.701458</td><td>8.774312</td><td>26.370616</td><td>-6.752921</td><td>-0.654093</td><td>16.489194</td><td>0.179207</td><td>1.069075</td><td>3.809768</td><td>-0.855404</td><td>4.269719</td><td>6.164437</td><td>-2.741119</td><td>48.028981</td><td>-23.109113</td><td>-4.120229</td><td>3.220088</td><td>39.625175</td><td>24.358839</td></tr><tr><td>1</td><td>-1.883331</td><td>20.368442</td><td>0.325983</td><td>1.881899</td><td>4.485705</td><td>-1.143816</td><td>-5.998849</td><td>10.686322</td><td>-4.513072</td><td>4.224386</td><td>2.002327</td><td>-8.457721</td><td>-1.654616</td><td>-0.894476</td><td>4.904948</td><td>6.726767</td><td>4.121435</td><td>7.714635</td><td>1.931092</td><td>19.226398</td><td>-27.909791</td><td>-4.085695</td><td>-33.870052</td><td>7.34991</td><td>-6.217889</td><td>-4.865694</td><td>-17.562657</td><td>-11.730161</td><td>-43.220128</td><td>-0.367724</td><td>-0.097747</td><td>9.728219</td><td>1.980422</td><td>-2.704432</td><td>-4.034455</td><td>-2.369673</td><td>&hellip;</td><td>13.717115</td><td>2.552251</td><td>6.701296</td><td>41.113482</td><td>-2.038886</td><td>24.178089</td><td>15.558793</td><td>-1.3573</td><td>-18.650577</td><td>0.825356</td><td>5.81441</td><td>-8.715076</td><td>-0.387299</td><td>32.865845</td><td>4.709092</td><td>36.759459</td><td>-2.989242</td><td>-3.130665</td><td>2.681262</td><td>8.410199</td><td>-7.290202</td><td>-8.211789</td><td>7.004927</td><td>-27.218368</td><td>-3.911182</td><td>-3.216404</td><td>-0.848781</td><td>-2.337753</td><td>6.646828</td><td>-1.57616</td><td>-9.512528</td><td>32.406773</td><td>11.030082</td><td>1.934685</td><td>5.62706</td><td>37.392597</td><td>-5.139406</td></tr></tbody></table></div>"
      ],
      "text/plain": [
       "shape: (5, 101)\n",
       "┌────────┬───────────┬───────────┬───────────┬───┬───────────┬───────────┬───────────┬────────────┐\n",
       "│ target ┆ column_0  ┆ column_1  ┆ column_2  ┆ … ┆ column_96 ┆ column_97 ┆ column_98 ┆ column_99  │\n",
       "│ ---    ┆ ---       ┆ ---       ┆ ---       ┆   ┆ ---       ┆ ---       ┆ ---       ┆ ---        │\n",
       "│ i32    ┆ f64       ┆ f64       ┆ f64       ┆   ┆ f64       ┆ f64       ┆ f64       ┆ f64        │\n",
       "╞════════╪═══════════╪═══════════╪═══════════╪═══╪═══════════╪═══════════╪═══════════╪════════════╡\n",
       "│ 0      ┆ 3.058149  ┆ -1.435563 ┆ -8.457014 ┆ … ┆ 2.492106  ┆ -5.063588 ┆ 21.50818  ┆ 13.968265  │\n",
       "│ 1      ┆ -4.240389 ┆ 17.997809 ┆ 1.144189  ┆ … ┆ -2.776225 ┆ 4.185251  ┆ 23.653563 ┆ -23.288075 │\n",
       "│ 1      ┆ 11.928344 ┆ 31.479023 ┆ 1.063552  ┆ … ┆ 1.882932  ┆ -1.907203 ┆ 14.100935 ┆ 13.38047   │\n",
       "│ 1      ┆ 3.2263    ┆ -2.524616 ┆ -9.169814 ┆ … ┆ -4.120229 ┆ 3.220088  ┆ 39.625175 ┆ 24.358839  │\n",
       "│ 1      ┆ -1.883331 ┆ 20.368442 ┆ 0.325983  ┆ … ┆ 1.934685  ┆ 5.62706   ┆ 37.392597 ┆ -5.139406  │\n",
       "└────────┴───────────┴───────────┴───────────┴───┴───────────┴───────────┴───────────┴────────────┘"
      ]
     },
     "execution_count": 3,
     "metadata": {},
     "output_type": "execute_result"
    }
   ],
   "source": [
    "df.head()"
   ]
  },
  {
   "attachments": {},
   "cell_type": "markdown",
   "metadata": {},
   "source": [
    "## Comparisons\n",
    "\n",
    "This notebook compares results and performance between the dsds package, sklearn and some other packages for feature selection and some other transformations common in the data science pipeline.\n",
    "\n",
    "### Methods Compared:\n",
    "1. Fscore\n",
    "2. Mutual Information Score\n",
    "3. MRMR feature selection strategies\n",
    "4. Power Transform\n",
    "\n",
    "You may restart the kernel after each section. But remember to rerun the cells above. If you are concerned about memory usage when running this notebook, go to the end and run the gc cell."
   ]
  },
  {
   "attachments": {},
   "cell_type": "markdown",
   "metadata": {},
   "source": [
    "# Fscore"
   ]
  },
  {
   "cell_type": "code",
   "execution_count": 4,
   "metadata": {},
   "outputs": [
    {
     "name": "stdout",
     "output_type": "stream",
     "text": [
      "Spent 0.03s in computing Fscore.\n"
     ]
    },
    {
     "data": {
      "text/html": [
       "<div><style>\n",
       ".dataframe > thead > tr > th,\n",
       ".dataframe > tbody > tr > td {\n",
       "  text-align: right;\n",
       "}\n",
       "</style>\n",
       "<small>shape: (10, 3)</small><table border=\"1\" class=\"dataframe\"><thead><tr><th>feature</th><th>f_value</th><th>p_value</th></tr><tr><td>str</td><td>f64</td><td>f64</td></tr></thead><tbody><tr><td>&quot;column_0&quot;</td><td>0.015285</td><td>0.901607</td></tr><tr><td>&quot;column_1&quot;</td><td>220.520101</td><td>7.8729e-50</td></tr><tr><td>&quot;column_2&quot;</td><td>1059.895965</td><td>2.8111e-231</td></tr><tr><td>&quot;column_3&quot;</td><td>36.568048</td><td>1.4795e-9</td></tr><tr><td>&quot;column_4&quot;</td><td>1224.560847</td><td>1.1620e-266</td></tr><tr><td>&quot;column_5&quot;</td><td>0.63521</td><td>0.425453</td></tr><tr><td>&quot;column_6&quot;</td><td>1083.866996</td><td>1.9680e-236</td></tr><tr><td>&quot;column_7&quot;</td><td>81.838032</td><td>1.5026e-19</td></tr><tr><td>&quot;column_8&quot;</td><td>1325.118046</td><td>3.0723e-288</td></tr><tr><td>&quot;column_9&quot;</td><td>288.011404</td><td>1.6610e-64</td></tr></tbody></table></div>"
      ],
      "text/plain": [
       "shape: (10, 3)\n",
       "┌──────────┬─────────────┬─────────────┐\n",
       "│ feature  ┆ f_value     ┆ p_value     │\n",
       "│ ---      ┆ ---         ┆ ---         │\n",
       "│ str      ┆ f64         ┆ f64         │\n",
       "╞══════════╪═════════════╪═════════════╡\n",
       "│ column_0 ┆ 0.015285    ┆ 0.901607    │\n",
       "│ column_1 ┆ 220.520101  ┆ 7.8729e-50  │\n",
       "│ column_2 ┆ 1059.895965 ┆ 2.8111e-231 │\n",
       "│ column_3 ┆ 36.568048   ┆ 1.4795e-9   │\n",
       "│ …        ┆ …           ┆ …           │\n",
       "│ column_6 ┆ 1083.866996 ┆ 1.9680e-236 │\n",
       "│ column_7 ┆ 81.838032   ┆ 1.5026e-19  │\n",
       "│ column_8 ┆ 1325.118046 ┆ 3.0723e-288 │\n",
       "│ column_9 ┆ 288.011404  ┆ 1.6610e-64  │\n",
       "└──────────┴─────────────┴─────────────┘"
      ]
     },
     "execution_count": 4,
     "metadata": {},
     "output_type": "execute_result"
    }
   ],
   "source": [
    "start = perf_counter()\n",
    "res = fs.f_classif(df, target=target)\n",
    "end = perf_counter()\n",
    "print(f\"Spent {end - start:.2f}s in computing Fscore.\")\n",
    "res.head(10)"
   ]
  },
  {
   "cell_type": "code",
   "execution_count": 5,
   "metadata": {},
   "outputs": [
    {
     "name": "stdout",
     "output_type": "stream",
     "text": [
      "Spent 0.14s in computing Fscore.\n"
     ]
    },
    {
     "data": {
      "text/html": [
       "<div>\n",
       "<style scoped>\n",
       "    .dataframe tbody tr th:only-of-type {\n",
       "        vertical-align: middle;\n",
       "    }\n",
       "\n",
       "    .dataframe tbody tr th {\n",
       "        vertical-align: top;\n",
       "    }\n",
       "\n",
       "    .dataframe thead th {\n",
       "        text-align: right;\n",
       "    }\n",
       "</style>\n",
       "<table border=\"1\" class=\"dataframe\">\n",
       "  <thead>\n",
       "    <tr style=\"text-align: right;\">\n",
       "      <th></th>\n",
       "      <th>feature</th>\n",
       "      <th>f_value</th>\n",
       "      <th>p_value</th>\n",
       "    </tr>\n",
       "  </thead>\n",
       "  <tbody>\n",
       "    <tr>\n",
       "      <th>0</th>\n",
       "      <td>column_0</td>\n",
       "      <td>0.015285</td>\n",
       "      <td>9.016068e-01</td>\n",
       "    </tr>\n",
       "    <tr>\n",
       "      <th>1</th>\n",
       "      <td>column_1</td>\n",
       "      <td>220.520101</td>\n",
       "      <td>7.872924e-50</td>\n",
       "    </tr>\n",
       "    <tr>\n",
       "      <th>2</th>\n",
       "      <td>column_2</td>\n",
       "      <td>1059.895965</td>\n",
       "      <td>2.811065e-231</td>\n",
       "    </tr>\n",
       "    <tr>\n",
       "      <th>3</th>\n",
       "      <td>column_3</td>\n",
       "      <td>36.568048</td>\n",
       "      <td>1.479489e-09</td>\n",
       "    </tr>\n",
       "    <tr>\n",
       "      <th>4</th>\n",
       "      <td>column_4</td>\n",
       "      <td>1224.560847</td>\n",
       "      <td>1.161997e-266</td>\n",
       "    </tr>\n",
       "    <tr>\n",
       "      <th>5</th>\n",
       "      <td>column_5</td>\n",
       "      <td>0.635210</td>\n",
       "      <td>4.254527e-01</td>\n",
       "    </tr>\n",
       "    <tr>\n",
       "      <th>6</th>\n",
       "      <td>column_6</td>\n",
       "      <td>1083.866996</td>\n",
       "      <td>1.968046e-236</td>\n",
       "    </tr>\n",
       "    <tr>\n",
       "      <th>7</th>\n",
       "      <td>column_7</td>\n",
       "      <td>81.838032</td>\n",
       "      <td>1.502625e-19</td>\n",
       "    </tr>\n",
       "    <tr>\n",
       "      <th>8</th>\n",
       "      <td>column_8</td>\n",
       "      <td>1325.118046</td>\n",
       "      <td>3.072287e-288</td>\n",
       "    </tr>\n",
       "    <tr>\n",
       "      <th>9</th>\n",
       "      <td>column_9</td>\n",
       "      <td>288.011404</td>\n",
       "      <td>1.661015e-64</td>\n",
       "    </tr>\n",
       "  </tbody>\n",
       "</table>\n",
       "</div>"
      ],
      "text/plain": [
       "    feature      f_value        p_value\n",
       "0  column_0     0.015285   9.016068e-01\n",
       "1  column_1   220.520101   7.872924e-50\n",
       "2  column_2  1059.895965  2.811065e-231\n",
       "3  column_3    36.568048   1.479489e-09\n",
       "4  column_4  1224.560847  1.161997e-266\n",
       "5  column_5     0.635210   4.254527e-01\n",
       "6  column_6  1083.866996  1.968046e-236\n",
       "7  column_7    81.838032   1.502625e-19\n",
       "8  column_8  1325.118046  3.072287e-288\n",
       "9  column_9   288.011404   1.661015e-64"
      ]
     },
     "execution_count": 5,
     "metadata": {},
     "output_type": "execute_result"
    }
   ],
   "source": [
    "start = perf_counter()\n",
    "f, pv = f_classif(df_pd[features], df_pd[target])\n",
    "res = pd.DataFrame({\"feature\":features, \"f_value\":f, \"p_value\":pv})\n",
    "end = perf_counter()\n",
    "print(f\"Spent {end - start:.2f}s in computing Fscore.\")\n",
    "res.head(10)"
   ]
  },
  {
   "cell_type": "code",
   "execution_count": 6,
   "metadata": {},
   "outputs": [
    {
     "name": "stdout",
     "output_type": "stream",
     "text": [
      "Spent  0.05s in computing Fscore.\n"
     ]
    },
    {
     "data": {
      "text/html": [
       "<div>\n",
       "<style scoped>\n",
       "    .dataframe tbody tr th:only-of-type {\n",
       "        vertical-align: middle;\n",
       "    }\n",
       "\n",
       "    .dataframe tbody tr th {\n",
       "        vertical-align: top;\n",
       "    }\n",
       "\n",
       "    .dataframe thead th {\n",
       "        text-align: right;\n",
       "    }\n",
       "</style>\n",
       "<table border=\"1\" class=\"dataframe\">\n",
       "  <thead>\n",
       "    <tr style=\"text-align: right;\">\n",
       "      <th></th>\n",
       "      <th>feature</th>\n",
       "      <th>f_value</th>\n",
       "      <th>p_value</th>\n",
       "    </tr>\n",
       "  </thead>\n",
       "  <tbody>\n",
       "    <tr>\n",
       "      <th>0</th>\n",
       "      <td>column_0</td>\n",
       "      <td>0.015285</td>\n",
       "      <td>9.016068e-01</td>\n",
       "    </tr>\n",
       "    <tr>\n",
       "      <th>1</th>\n",
       "      <td>column_1</td>\n",
       "      <td>220.520101</td>\n",
       "      <td>7.872924e-50</td>\n",
       "    </tr>\n",
       "    <tr>\n",
       "      <th>2</th>\n",
       "      <td>column_2</td>\n",
       "      <td>1059.895965</td>\n",
       "      <td>2.811065e-231</td>\n",
       "    </tr>\n",
       "    <tr>\n",
       "      <th>3</th>\n",
       "      <td>column_3</td>\n",
       "      <td>36.568048</td>\n",
       "      <td>1.479489e-09</td>\n",
       "    </tr>\n",
       "    <tr>\n",
       "      <th>4</th>\n",
       "      <td>column_4</td>\n",
       "      <td>1224.560847</td>\n",
       "      <td>1.161997e-266</td>\n",
       "    </tr>\n",
       "    <tr>\n",
       "      <th>5</th>\n",
       "      <td>column_5</td>\n",
       "      <td>0.635210</td>\n",
       "      <td>4.254527e-01</td>\n",
       "    </tr>\n",
       "    <tr>\n",
       "      <th>6</th>\n",
       "      <td>column_6</td>\n",
       "      <td>1083.866996</td>\n",
       "      <td>1.968046e-236</td>\n",
       "    </tr>\n",
       "    <tr>\n",
       "      <th>7</th>\n",
       "      <td>column_7</td>\n",
       "      <td>81.838032</td>\n",
       "      <td>1.502625e-19</td>\n",
       "    </tr>\n",
       "    <tr>\n",
       "      <th>8</th>\n",
       "      <td>column_8</td>\n",
       "      <td>1325.118046</td>\n",
       "      <td>3.072287e-288</td>\n",
       "    </tr>\n",
       "    <tr>\n",
       "      <th>9</th>\n",
       "      <td>column_9</td>\n",
       "      <td>288.011404</td>\n",
       "      <td>1.661015e-64</td>\n",
       "    </tr>\n",
       "  </tbody>\n",
       "</table>\n",
       "</div>"
      ],
      "text/plain": [
       "    feature      f_value        p_value\n",
       "0  column_0     0.015285   9.016068e-01\n",
       "1  column_1   220.520101   7.872924e-50\n",
       "2  column_2  1059.895965  2.811065e-231\n",
       "3  column_3    36.568048   1.479489e-09\n",
       "4  column_4  1224.560847  1.161997e-266\n",
       "5  column_5     0.635210   4.254527e-01\n",
       "6  column_6  1083.866996  1.968046e-236\n",
       "7  column_7    81.838032   1.502625e-19\n",
       "8  column_8  1325.118046  3.072287e-288\n",
       "9  column_9   288.011404   1.661015e-64"
      ]
     },
     "execution_count": 6,
     "metadata": {},
     "output_type": "execute_result"
    }
   ],
   "source": [
    "start = perf_counter()\n",
    "f, pv = f_regression(df_pd[features], df_pd[target])\n",
    "res = pd.DataFrame({\"feature\":features, \"f_value\":f, \"p_value\":pv})\n",
    "end = perf_counter()\n",
    "print(f\"Spent {end - start: .2f}s in computing Fscore.\")\n",
    "res.head(10)"
   ]
  },
  {
   "attachments": {},
   "cell_type": "markdown",
   "metadata": {},
   "source": [
    "# Mutual Information Score"
   ]
  },
  {
   "cell_type": "code",
   "execution_count": 7,
   "metadata": {},
   "outputs": [
    {
     "name": "stderr",
     "output_type": "stream",
     "text": [
      "Mutual Info: 100%|██████████| 100/100 [00:07<00:00, 13.23it/s]\n"
     ]
    },
    {
     "data": {
      "text/html": [
       "<div><style>\n",
       ".dataframe > thead > tr > th,\n",
       ".dataframe > tbody > tr > td {\n",
       "  text-align: right;\n",
       "}\n",
       "</style>\n",
       "<small>shape: (10, 2)</small><table border=\"1\" class=\"dataframe\"><thead><tr><th>feature</th><th>estimated_mi</th></tr><tr><td>str</td><td>f64</td></tr></thead><tbody><tr><td>&quot;column_88&quot;</td><td>0.027004</td></tr><tr><td>&quot;column_38&quot;</td><td>0.026539</td></tr><tr><td>&quot;column_61&quot;</td><td>0.023837</td></tr><tr><td>&quot;column_87&quot;</td><td>0.023037</td></tr><tr><td>&quot;column_70&quot;</td><td>0.023024</td></tr><tr><td>&quot;column_13&quot;</td><td>0.014162</td></tr><tr><td>&quot;column_58&quot;</td><td>0.013852</td></tr><tr><td>&quot;column_46&quot;</td><td>0.012389</td></tr><tr><td>&quot;column_83&quot;</td><td>0.010688</td></tr><tr><td>&quot;column_18&quot;</td><td>0.008883</td></tr></tbody></table></div>"
      ],
      "text/plain": [
       "shape: (10, 2)\n",
       "┌───────────┬──────────────┐\n",
       "│ feature   ┆ estimated_mi │\n",
       "│ ---       ┆ ---          │\n",
       "│ str       ┆ f64          │\n",
       "╞═══════════╪══════════════╡\n",
       "│ column_88 ┆ 0.027004     │\n",
       "│ column_38 ┆ 0.026539     │\n",
       "│ column_61 ┆ 0.023837     │\n",
       "│ column_87 ┆ 0.023037     │\n",
       "│ …         ┆ …            │\n",
       "│ column_58 ┆ 0.013852     │\n",
       "│ column_46 ┆ 0.012389     │\n",
       "│ column_83 ┆ 0.010688     │\n",
       "│ column_18 ┆ 0.008883     │\n",
       "└───────────┴──────────────┘"
      ]
     },
     "execution_count": 7,
     "metadata": {},
     "output_type": "execute_result"
    }
   ],
   "source": [
    "# Took 16s\n",
    "fs.mutual_info(df, target=target, conti_cols=features).sort(by=\"estimated_mi\", descending=True).limit(10)"
   ]
  },
  {
   "cell_type": "code",
   "execution_count": 8,
   "metadata": {},
   "outputs": [],
   "source": [
    "def estimate_mi_sklearn(df:pd.DataFrame, cols:list[str], target:str, k=3, random_state:int=42):\n",
    "    mi_estimates = mutual_info_classif(df[cols], df[target]\n",
    "                        , n_neighbors=k, random_state=random_state, discrete_features=False)\n",
    "\n",
    "    return pl.from_records([cols, mi_estimates], schema=[\"feature\", \"estimated_mi\"]).sort(\"estimated_mi\", descending=True)"
   ]
  },
  {
   "cell_type": "code",
   "execution_count": 9,
   "metadata": {},
   "outputs": [
    {
     "data": {
      "text/html": [
       "<div><style>\n",
       ".dataframe > thead > tr > th,\n",
       ".dataframe > tbody > tr > td {\n",
       "  text-align: right;\n",
       "}\n",
       "</style>\n",
       "<small>shape: (10, 2)</small><table border=\"1\" class=\"dataframe\"><thead><tr><th>feature</th><th>estimated_mi</th></tr><tr><td>str</td><td>f64</td></tr></thead><tbody><tr><td>&quot;column_88&quot;</td><td>0.027004</td></tr><tr><td>&quot;column_38&quot;</td><td>0.026539</td></tr><tr><td>&quot;column_61&quot;</td><td>0.023837</td></tr><tr><td>&quot;column_87&quot;</td><td>0.023035</td></tr><tr><td>&quot;column_70&quot;</td><td>0.023024</td></tr><tr><td>&quot;column_13&quot;</td><td>0.014162</td></tr><tr><td>&quot;column_58&quot;</td><td>0.013852</td></tr><tr><td>&quot;column_46&quot;</td><td>0.012389</td></tr><tr><td>&quot;column_83&quot;</td><td>0.010688</td></tr><tr><td>&quot;column_18&quot;</td><td>0.008883</td></tr></tbody></table></div>"
      ],
      "text/plain": [
       "shape: (10, 2)\n",
       "┌───────────┬──────────────┐\n",
       "│ feature   ┆ estimated_mi │\n",
       "│ ---       ┆ ---          │\n",
       "│ str       ┆ f64          │\n",
       "╞═══════════╪══════════════╡\n",
       "│ column_88 ┆ 0.027004     │\n",
       "│ column_38 ┆ 0.026539     │\n",
       "│ column_61 ┆ 0.023837     │\n",
       "│ column_87 ┆ 0.023035     │\n",
       "│ …         ┆ …            │\n",
       "│ column_58 ┆ 0.013852     │\n",
       "│ column_46 ┆ 0.012389     │\n",
       "│ column_83 ┆ 0.010688     │\n",
       "│ column_18 ┆ 0.008883     │\n",
       "└───────────┴──────────────┘"
      ]
     },
     "execution_count": 9,
     "metadata": {},
     "output_type": "execute_result"
    }
   ],
   "source": [
    "# Took 1m38s seconds by using sklearn. The reason is that sklearn's implementation did not turn on multithreading for KDtrees.\n",
    "# Sklearn also did not provide an option to turn it on, despite the fact that sklearn's KDtrees\n",
    "# does have this functionality.\n",
    "estimate_mi_sklearn(df_pd, cols=features, target=target).limit(10)"
   ]
  },
  {
   "attachments": {},
   "cell_type": "markdown",
   "metadata": {},
   "source": [
    "# MRMR Feature selection Strategy"
   ]
  },
  {
   "cell_type": "code",
   "execution_count": 10,
   "metadata": {},
   "outputs": [],
   "source": [
    "from mrmr import mrmr_classif # This is currently the most starred MRMR Python package on github"
   ]
  },
  {
   "cell_type": "code",
   "execution_count": 11,
   "metadata": {},
   "outputs": [],
   "source": [
    "# Need to wrap it so that we get apples to apples comparison\n",
    "def mrmr_package(df:pd.DataFrame, target:str, k:int) -> list[str]:\n",
    "    features = list(df.columns)\n",
    "    features.remove(target)\n",
    "    X = df[features]\n",
    "    y = df[target]\n",
    "    start = perf_counter()\n",
    "    output = mrmr_classif(X, y, K = k)\n",
    "    end = perf_counter()\n",
    "    print(f\"Spent {end - start:.2f}s to compute mrmr.\")\n",
    "    return output"
   ]
  },
  {
   "cell_type": "code",
   "execution_count": 12,
   "metadata": {},
   "outputs": [
    {
     "name": "stderr",
     "output_type": "stream",
     "text": [
      "100%|██████████| 50/50 [00:11<00:00,  4.44it/s]"
     ]
    },
    {
     "name": "stdout",
     "output_type": "stream",
     "text": [
      "Spent 15.02s to compute mrmr.\n"
     ]
    },
    {
     "name": "stderr",
     "output_type": "stream",
     "text": [
      "\n"
     ]
    },
    {
     "data": {
      "text/plain": [
       "['column_38',\n",
       " 'column_87',\n",
       " 'column_50',\n",
       " 'column_82',\n",
       " 'column_88',\n",
       " 'column_61',\n",
       " 'column_70',\n",
       " 'column_81',\n",
       " 'column_64',\n",
       " 'column_56',\n",
       " 'column_18',\n",
       " 'column_97',\n",
       " 'column_91',\n",
       " 'column_60',\n",
       " 'column_46',\n",
       " 'column_13',\n",
       " 'column_65',\n",
       " 'column_23',\n",
       " 'column_55',\n",
       " 'column_54',\n",
       " 'column_4',\n",
       " 'column_39',\n",
       " 'column_58',\n",
       " 'column_8',\n",
       " 'column_41',\n",
       " 'column_33',\n",
       " 'column_69',\n",
       " 'column_37',\n",
       " 'column_83',\n",
       " 'column_6',\n",
       " 'column_59',\n",
       " 'column_2',\n",
       " 'column_96',\n",
       " 'column_52',\n",
       " 'column_44',\n",
       " 'column_63',\n",
       " 'column_15',\n",
       " 'column_71',\n",
       " 'column_68',\n",
       " 'column_19',\n",
       " 'column_73',\n",
       " 'column_10',\n",
       " 'column_76',\n",
       " 'column_57',\n",
       " 'column_9',\n",
       " 'column_1',\n",
       " 'column_36',\n",
       " 'column_16',\n",
       " 'column_26',\n",
       " 'column_28']"
      ]
     },
     "execution_count": 12,
     "metadata": {},
     "output_type": "execute_result"
    }
   ],
   "source": [
    "mrmr_package(df_pd, \"target\", 50)"
   ]
  },
  {
   "cell_type": "code",
   "execution_count": 13,
   "metadata": {},
   "outputs": [
    {
     "name": "stdout",
     "output_type": "stream",
     "text": [
      "Running fscore to determine feature relevance...\n",
      "Found 100 total features to select from. Proceeding to select top 50 features.\n"
     ]
    },
    {
     "name": "stderr",
     "output_type": "stream",
     "text": [
      "MRMR, fscore: 100%|██████████| 50/50 [00:00<00:00, 210.92it/s]"
     ]
    },
    {
     "name": "stdout",
     "output_type": "stream",
     "text": [
      "Output is sorted in order of selection (relevance).\n",
      "Spent 0.28s in computing.\n"
     ]
    },
    {
     "name": "stderr",
     "output_type": "stream",
     "text": [
      "\n"
     ]
    },
    {
     "data": {
      "text/plain": [
       "['column_38',\n",
       " 'column_87',\n",
       " 'column_50',\n",
       " 'column_82',\n",
       " 'column_88',\n",
       " 'column_61',\n",
       " 'column_70',\n",
       " 'column_81',\n",
       " 'column_64',\n",
       " 'column_56',\n",
       " 'column_18',\n",
       " 'column_97',\n",
       " 'column_91',\n",
       " 'column_60',\n",
       " 'column_46',\n",
       " 'column_13',\n",
       " 'column_65',\n",
       " 'column_23',\n",
       " 'column_55',\n",
       " 'column_54',\n",
       " 'column_4',\n",
       " 'column_39',\n",
       " 'column_58',\n",
       " 'column_8',\n",
       " 'column_41',\n",
       " 'column_33',\n",
       " 'column_69',\n",
       " 'column_37',\n",
       " 'column_83',\n",
       " 'column_6',\n",
       " 'column_59',\n",
       " 'column_2',\n",
       " 'column_96',\n",
       " 'column_52',\n",
       " 'column_44',\n",
       " 'column_63',\n",
       " 'column_15',\n",
       " 'column_71',\n",
       " 'column_68',\n",
       " 'column_19',\n",
       " 'column_73',\n",
       " 'column_10',\n",
       " 'column_76',\n",
       " 'column_57',\n",
       " 'column_9',\n",
       " 'column_1',\n",
       " 'column_36',\n",
       " 'column_16',\n",
       " 'column_26',\n",
       " 'column_28']"
      ]
     },
     "execution_count": 13,
     "metadata": {},
     "output_type": "execute_result"
    }
   ],
   "source": [
    "start = perf_counter()\n",
    "res = fs.mrmr(df, target=\"target\", k = 50, low_memory=False)\n",
    "end = perf_counter()\n",
    "print(f\"Spent {end - start:.2f}s in computing.\")\n",
    "res"
   ]
  },
  {
   "cell_type": "code",
   "execution_count": 14,
   "metadata": {},
   "outputs": [
    {
     "name": "stdout",
     "output_type": "stream",
     "text": [
      "Running fscore to determine feature relevance...\n",
      "Found 100 total features to select from. Proceeding to select top 50 features.\n"
     ]
    },
    {
     "name": "stderr",
     "output_type": "stream",
     "text": [
      "MRMR, fscore: 100%|██████████| 50/50 [00:01<00:00, 43.24it/s]"
     ]
    },
    {
     "name": "stdout",
     "output_type": "stream",
     "text": [
      "Output is sorted in order of selection (relevance).\n",
      "Spent 1.18s in computing.\n"
     ]
    },
    {
     "name": "stderr",
     "output_type": "stream",
     "text": [
      "\n"
     ]
    },
    {
     "data": {
      "text/plain": [
       "['column_38',\n",
       " 'column_87',\n",
       " 'column_50',\n",
       " 'column_82',\n",
       " 'column_88',\n",
       " 'column_61',\n",
       " 'column_70',\n",
       " 'column_81',\n",
       " 'column_64',\n",
       " 'column_56',\n",
       " 'column_18',\n",
       " 'column_97',\n",
       " 'column_91',\n",
       " 'column_60',\n",
       " 'column_46',\n",
       " 'column_13',\n",
       " 'column_65',\n",
       " 'column_23',\n",
       " 'column_55',\n",
       " 'column_54',\n",
       " 'column_4',\n",
       " 'column_39',\n",
       " 'column_58',\n",
       " 'column_8',\n",
       " 'column_41',\n",
       " 'column_33',\n",
       " 'column_69',\n",
       " 'column_37',\n",
       " 'column_83',\n",
       " 'column_6',\n",
       " 'column_59',\n",
       " 'column_2',\n",
       " 'column_96',\n",
       " 'column_52',\n",
       " 'column_44',\n",
       " 'column_63',\n",
       " 'column_15',\n",
       " 'column_71',\n",
       " 'column_68',\n",
       " 'column_19',\n",
       " 'column_73',\n",
       " 'column_10',\n",
       " 'column_76',\n",
       " 'column_57',\n",
       " 'column_9',\n",
       " 'column_1',\n",
       " 'column_36',\n",
       " 'column_16',\n",
       " 'column_26',\n",
       " 'column_28']"
      ]
     },
     "execution_count": 14,
     "metadata": {},
     "output_type": "execute_result"
    }
   ],
   "source": [
    "start = perf_counter()\n",
    "res = fs.mrmr(df, target=\"target\", k = 50, low_memory=True)\n",
    "end = perf_counter()\n",
    "print(f\"Spent {end - start:.2f}s in computing.\")\n",
    "res"
   ]
  },
  {
   "attachments": {},
   "cell_type": "markdown",
   "metadata": {},
   "source": [
    "# Power Transform"
   ]
  },
  {
   "cell_type": "code",
   "execution_count": 15,
   "metadata": {},
   "outputs": [
    {
     "name": "stderr",
     "output_type": "stream",
     "text": [
      "Inferring best paramters: 100%|██████████| 100/100 [00:01<00:00, 55.68it/s]\n"
     ]
    },
    {
     "name": "stdout",
     "output_type": "stream",
     "text": [
      "Spent 2.01s in computing.\n"
     ]
    },
    {
     "data": {
      "text/html": [
       "<div><style>\n",
       ".dataframe > thead > tr > th,\n",
       ".dataframe > tbody > tr > td {\n",
       "  text-align: right;\n",
       "}\n",
       "</style>\n",
       "<small>shape: (5, 101)</small><table border=\"1\" class=\"dataframe\"><thead><tr><th>target</th><th>column_0</th><th>column_1</th><th>column_2</th><th>column_3</th><th>column_4</th><th>column_5</th><th>column_6</th><th>column_7</th><th>column_8</th><th>column_9</th><th>column_10</th><th>column_11</th><th>column_12</th><th>column_13</th><th>column_14</th><th>column_15</th><th>column_16</th><th>column_17</th><th>column_18</th><th>column_19</th><th>column_20</th><th>column_21</th><th>column_22</th><th>column_23</th><th>column_24</th><th>column_25</th><th>column_26</th><th>column_27</th><th>column_28</th><th>column_29</th><th>column_30</th><th>column_31</th><th>column_32</th><th>column_33</th><th>column_34</th><th>column_35</th><th>&hellip;</th><th>column_63</th><th>column_64</th><th>column_65</th><th>column_66</th><th>column_67</th><th>column_68</th><th>column_69</th><th>column_70</th><th>column_71</th><th>column_72</th><th>column_73</th><th>column_74</th><th>column_75</th><th>column_76</th><th>column_77</th><th>column_78</th><th>column_79</th><th>column_80</th><th>column_81</th><th>column_82</th><th>column_83</th><th>column_84</th><th>column_85</th><th>column_86</th><th>column_87</th><th>column_88</th><th>column_89</th><th>column_90</th><th>column_91</th><th>column_92</th><th>column_93</th><th>column_94</th><th>column_95</th><th>column_96</th><th>column_97</th><th>column_98</th><th>column_99</th></tr><tr><td>i32</td><td>f64</td><td>f64</td><td>f64</td><td>f64</td><td>f64</td><td>f64</td><td>f64</td><td>f64</td><td>f64</td><td>f64</td><td>f64</td><td>f64</td><td>f64</td><td>f64</td><td>f64</td><td>f64</td><td>f64</td><td>f64</td><td>f64</td><td>f64</td><td>f64</td><td>f64</td><td>f64</td><td>f64</td><td>f64</td><td>f64</td><td>f64</td><td>f64</td><td>f64</td><td>f64</td><td>f64</td><td>f64</td><td>f64</td><td>f64</td><td>f64</td><td>f64</td><td>&hellip;</td><td>f64</td><td>f64</td><td>f64</td><td>f64</td><td>f64</td><td>f64</td><td>f64</td><td>f64</td><td>f64</td><td>f64</td><td>f64</td><td>f64</td><td>f64</td><td>f64</td><td>f64</td><td>f64</td><td>f64</td><td>f64</td><td>f64</td><td>f64</td><td>f64</td><td>f64</td><td>f64</td><td>f64</td><td>f64</td><td>f64</td><td>f64</td><td>f64</td><td>f64</td><td>f64</td><td>f64</td><td>f64</td><td>f64</td><td>f64</td><td>f64</td><td>f64</td><td>f64</td></tr></thead><tbody><tr><td>0</td><td>3.106381</td><td>-1.436369</td><td>-8.433941</td><td>1.63969</td><td>0.573507</td><td>1.588182</td><td>2.315861</td><td>13.228537</td><td>-7.081721</td><td>-37.137027</td><td>3.807188</td><td>-4.783764</td><td>-3.186472</td><td>9.80708</td><td>-0.183808</td><td>16.715579</td><td>10.341157</td><td>5.073999</td><td>-3.466679</td><td>-8.566278</td><td>-15.896711</td><td>2.125785</td><td>8.228512</td><td>-0.944099</td><td>-0.780662</td><td>-2.015953</td><td>18.034748</td><td>-7.686919</td><td>21.144807</td><td>-1.590185</td><td>-0.618149</td><td>18.355608</td><td>2.246408</td><td>2.499876</td><td>-0.348516</td><td>1.055028</td><td>&hellip;</td><td>9.982846</td><td>-0.891643</td><td>2.497802</td><td>-22.412686</td><td>-3.989805</td><td>-8.020299</td><td>-0.953677</td><td>0.584614</td><td>-2.048009</td><td>2.401046</td><td>-20.623881</td><td>-1.00331</td><td>4.25745</td><td>5.885079</td><td>-4.126242</td><td>-25.787959</td><td>-1.137396</td><td>2.121766</td><td>-0.629173</td><td>-2.63275</td><td>-13.815664</td><td>3.415407</td><td>0.996592</td><td>-4.774213</td><td>-0.555119</td><td>6.149123</td><td>3.510069</td><td>-5.123808</td><td>-1.348525</td><td>-0.178819</td><td>4.424162</td><td>-5.714436</td><td>-10.320223</td><td>2.471547</td><td>-5.132027</td><td>21.204696</td><td>14.008619</td></tr><tr><td>1</td><td>-4.160517</td><td>17.956153</td><td>1.145077</td><td>17.343721</td><td>-5.629378</td><td>-9.57377</td><td>-15.882911</td><td>21.405992</td><td>3.360712</td><td>22.323281</td><td>4.145134</td><td>-7.682048</td><td>3.254017</td><td>8.886376</td><td>0.94275</td><td>10.455728</td><td>26.311878</td><td>4.654771</td><td>1.769461</td><td>-0.285049</td><td>-40.388959</td><td>2.091549</td><td>-1.184615</td><td>5.002912</td><td>5.663458</td><td>-2.928181</td><td>32.070434</td><td>-17.094739</td><td>-10.803946</td><td>-1.279355</td><td>1.288058</td><td>-51.718728</td><td>-10.014132</td><td>-1.511523</td><td>3.278013</td><td>-0.070622</td><td>&hellip;</td><td>16.959372</td><td>-1.845704</td><td>-1.647775</td><td>25.33447</td><td>8.387104</td><td>8.994727</td><td>1.14551</td><td>-8.942883</td><td>16.415835</td><td>5.390023</td><td>-16.773487</td><td>-3.14626</td><td>3.729144</td><td>-80.877809</td><td>-4.707554</td><td>-17.390472</td><td>-2.553351</td><td>2.679481</td><td>4.547482</td><td>2.349146</td><td>16.608687</td><td>1.457594</td><td>1.094082</td><td>-21.79001</td><td>-16.040002</td><td>-2.154727</td><td>14.010721</td><td>7.53304</td><td>-8.679236</td><td>0.571035</td><td>-9.962124</td><td>-29.890805</td><td>-23.985929</td><td>-2.801061</td><td>4.135259</td><td>23.307814</td><td>-23.205955</td></tr><tr><td>1</td><td>12.320436</td><td>31.389485</td><td>1.064331</td><td>-4.626028</td><td>-2.465068</td><td>-4.907982</td><td>9.487293</td><td>38.861515</td><td>-1.859812</td><td>-19.890947</td><td>-1.672759</td><td>1.375816</td><td>-1.616016</td><td>6.212435</td><td>-0.463312</td><td>37.230481</td><td>0.42898</td><td>0.486783</td><td>2.186011</td><td>-9.277851</td><td>21.866928</td><td>2.385296</td><td>-12.068666</td><td>-4.437371</td><td>9.816181</td><td>-3.088926</td><td>15.482983</td><td>22.443878</td><td>2.285121</td><td>-0.899979</td><td>1.068616</td><td>12.897608</td><td>0.805792</td><td>-0.973598</td><td>6.502208</td><td>0.752494</td><td>&hellip;</td><td>-0.703113</td><td>-7.576241</td><td>9.447909</td><td>-49.563216</td><td>2.332979</td><td>-23.190149</td><td>-5.123462</td><td>-9.879218</td><td>-16.743198</td><td>1.428355</td><td>0.697879</td><td>4.975785</td><td>-4.673247</td><td>-5.493272</td><td>-3.710202</td><td>-12.377554</td><td>2.646663</td><td>0.142719</td><td>2.9889</td><td>0.153468</td><td>-32.45197</td><td>2.388218</td><td>-4.068567</td><td>50.666636</td><td>-1.271787</td><td>0.327342</td><td>-2.076923</td><td>-0.796896</td><td>6.036633</td><td>-6.652067</td><td>4.229147</td><td>-22.883009</td><td>18.912765</td><td>1.870096</td><td>-1.921104</td><td>13.932734</td><td>13.418422</td></tr><tr><td>1</td><td>3.278936</td><td>-2.526723</td><td>-9.143806</td><td>33.647163</td><td>-6.01262</td><td>-5.052795</td><td>4.773311</td><td>-10.467894</td><td>-4.287159</td><td>1.209631</td><td>-4.53445</td><td>-0.620261</td><td>1.078845</td><td>15.08294</td><td>2.201566</td><td>9.115179</td><td>11.165818</td><td>6.527572</td><td>0.144505</td><td>36.614765</td><td>-6.792857</td><td>6.604777</td><td>34.590417</td><td>10.776886</td><td>1.071974</td><td>-4.807025</td><td>-46.954516</td><td>9.786177</td><td>23.311196</td><td>-5.669174</td><td>-2.409771</td><td>-26.917004</td><td>7.834052</td><td>-1.138882</td><td>7.364087</td><td>-9.501773</td><td>&hellip;</td><td>22.563958</td><td>10.855851</td><td>-4.654882</td><td>32.648852</td><td>4.503865</td><td>-25.58279</td><td>0.470668</td><td>-5.805776</td><td>-0.300045</td><td>-2.967299</td><td>15.580503</td><td>-3.366628</td><td>11.657679</td><td>21.49129</td><td>-2.532232</td><td>39.146454</td><td>2.306983</td><td>5.953631</td><td>-1.701882</td><td>8.972562</td><td>27.370729</td><td>-6.752613</td><td>-0.655337</td><td>16.475853</td><td>0.179115</td><td>1.066514</td><td>3.786487</td><td>-0.855874</td><td>4.334901</td><td>6.13644</td><td>-2.756788</td><td>48.423225</td><td>-22.975723</td><td>-4.167299</td><td>3.187222</td><td>38.933739</td><td>24.446514</td></tr><tr><td>1</td><td>-1.862192</td><td>20.318968</td><td>0.32607</td><td>1.880845</td><td>4.469342</td><td>-1.140627</td><td>-5.964012</td><td>10.691774</td><td>-4.482491</td><td>4.193736</td><td>1.99982</td><td>-8.53615</td><td>-1.653536</td><td>-0.894473</td><td>4.896304</td><td>6.689107</td><td>4.137804</td><td>7.579428</td><td>1.922206</td><td>19.284645</td><td>-27.759143</td><td>-4.078125</td><td>-33.765903</td><td>7.21249</td><td>-6.291992</td><td>-4.887581</td><td>-17.39319</td><td>-11.495915</td><td>-43.241268</td><td>-0.367983</td><td>-0.097745</td><td>9.692145</td><td>1.979848</td><td>-2.722708</td><td>-3.971117</td><td>-2.366215</td><td>&hellip;</td><td>13.771066</td><td>2.573385</td><td>6.844422</td><td>41.316322</td><td>-2.049492</td><td>23.994352</td><td>15.500976</td><td>-1.359283</td><td>-18.231939</td><td>0.821918</td><td>5.760405</td><td>-8.6666</td><td>-0.387731</td><td>32.81653</td><td>4.707501</td><td>38.296686</td><td>-3.005938</td><td>-3.126355</td><td>2.680349</td><td>8.596323</td><td>-7.135791</td><td>-8.211375</td><td>6.938075</td><td>-27.245043</td><td>-3.935171</td><td>-3.233257</td><td>-0.850576</td><td>-2.340471</td><td>6.776495</td><td>-1.579208</td><td>-9.62151</td><td>32.640783</td><td>11.077348</td><td>1.921243</td><td>5.547765</td><td>36.752247</td><td>-5.130302</td></tr></tbody></table></div>"
      ],
      "text/plain": [
       "shape: (5, 101)\n",
       "┌────────┬───────────┬───────────┬───────────┬───┬───────────┬───────────┬───────────┬────────────┐\n",
       "│ target ┆ column_0  ┆ column_1  ┆ column_2  ┆ … ┆ column_96 ┆ column_97 ┆ column_98 ┆ column_99  │\n",
       "│ ---    ┆ ---       ┆ ---       ┆ ---       ┆   ┆ ---       ┆ ---       ┆ ---       ┆ ---        │\n",
       "│ i32    ┆ f64       ┆ f64       ┆ f64       ┆   ┆ f64       ┆ f64       ┆ f64       ┆ f64        │\n",
       "╞════════╪═══════════╪═══════════╪═══════════╪═══╪═══════════╪═══════════╪═══════════╪════════════╡\n",
       "│ 0      ┆ 3.106381  ┆ -1.436369 ┆ -8.433941 ┆ … ┆ 2.471547  ┆ -5.132027 ┆ 21.204696 ┆ 14.008619  │\n",
       "│ 1      ┆ -4.160517 ┆ 17.956153 ┆ 1.145077  ┆ … ┆ -2.801061 ┆ 4.135259  ┆ 23.307814 ┆ -23.205955 │\n",
       "│ 1      ┆ 12.320436 ┆ 31.389485 ┆ 1.064331  ┆ … ┆ 1.870096  ┆ -1.921104 ┆ 13.932734 ┆ 13.418422  │\n",
       "│ 1      ┆ 3.278936  ┆ -2.526723 ┆ -9.143806 ┆ … ┆ -4.167299 ┆ 3.187222  ┆ 38.933739 ┆ 24.446514  │\n",
       "│ 1      ┆ -1.862192 ┆ 20.318968 ┆ 0.32607   ┆ … ┆ 1.921243  ┆ 5.547765  ┆ 36.752247 ┆ -5.130302  │\n",
       "└────────┴───────────┴───────────┴───────────┴───┴───────────┴───────────┴───────────┴────────────┘"
      ]
     },
     "execution_count": 15,
     "metadata": {},
     "output_type": "execute_result"
    }
   ],
   "source": [
    "# Eager transform.\n",
    "start = perf_counter()\n",
    "res_eager = t.power_transform(df, target = target, strategy=\"yeo_johnson\")\n",
    "end = perf_counter()\n",
    "print(f\"Spent {end - start:.2f}s in computing.\")\n",
    "res_eager.head() "
   ]
  },
  {
   "cell_type": "code",
   "execution_count": 17,
   "metadata": {},
   "outputs": [
    {
     "name": "stdout",
     "output_type": "stream",
     "text": [
      "Spent 7.84s in computing.\n"
     ]
    },
    {
     "data": {
      "text/html": [
       "<div>\n",
       "<style scoped>\n",
       "    .dataframe tbody tr th:only-of-type {\n",
       "        vertical-align: middle;\n",
       "    }\n",
       "\n",
       "    .dataframe tbody tr th {\n",
       "        vertical-align: top;\n",
       "    }\n",
       "\n",
       "    .dataframe thead th {\n",
       "        text-align: right;\n",
       "    }\n",
       "</style>\n",
       "<table border=\"1\" class=\"dataframe\">\n",
       "  <thead>\n",
       "    <tr style=\"text-align: right;\">\n",
       "      <th></th>\n",
       "      <th>target</th>\n",
       "      <th>column_0</th>\n",
       "      <th>column_1</th>\n",
       "      <th>column_2</th>\n",
       "      <th>column_3</th>\n",
       "      <th>column_4</th>\n",
       "      <th>column_5</th>\n",
       "      <th>column_6</th>\n",
       "      <th>column_7</th>\n",
       "      <th>column_8</th>\n",
       "      <th>...</th>\n",
       "      <th>column_90</th>\n",
       "      <th>column_91</th>\n",
       "      <th>column_92</th>\n",
       "      <th>column_93</th>\n",
       "      <th>column_94</th>\n",
       "      <th>column_95</th>\n",
       "      <th>column_96</th>\n",
       "      <th>column_97</th>\n",
       "      <th>column_98</th>\n",
       "      <th>column_99</th>\n",
       "    </tr>\n",
       "  </thead>\n",
       "  <tbody>\n",
       "    <tr>\n",
       "      <th>0</th>\n",
       "      <td>0</td>\n",
       "      <td>3.106381</td>\n",
       "      <td>-1.436369</td>\n",
       "      <td>-8.433941</td>\n",
       "      <td>1.639690</td>\n",
       "      <td>0.573507</td>\n",
       "      <td>1.588182</td>\n",
       "      <td>2.315861</td>\n",
       "      <td>13.228537</td>\n",
       "      <td>-7.081721</td>\n",
       "      <td>...</td>\n",
       "      <td>-5.123808</td>\n",
       "      <td>-1.348525</td>\n",
       "      <td>-0.178819</td>\n",
       "      <td>4.424162</td>\n",
       "      <td>-5.714436</td>\n",
       "      <td>-10.320223</td>\n",
       "      <td>2.471547</td>\n",
       "      <td>-5.132027</td>\n",
       "      <td>21.204696</td>\n",
       "      <td>14.008619</td>\n",
       "    </tr>\n",
       "    <tr>\n",
       "      <th>1</th>\n",
       "      <td>1</td>\n",
       "      <td>-4.160517</td>\n",
       "      <td>17.956153</td>\n",
       "      <td>1.145077</td>\n",
       "      <td>17.343721</td>\n",
       "      <td>-5.629378</td>\n",
       "      <td>-9.573770</td>\n",
       "      <td>-15.882911</td>\n",
       "      <td>21.405992</td>\n",
       "      <td>3.360712</td>\n",
       "      <td>...</td>\n",
       "      <td>7.533040</td>\n",
       "      <td>-8.679236</td>\n",
       "      <td>0.571035</td>\n",
       "      <td>-9.962124</td>\n",
       "      <td>-29.890805</td>\n",
       "      <td>-23.985929</td>\n",
       "      <td>-2.801061</td>\n",
       "      <td>4.135258</td>\n",
       "      <td>23.307814</td>\n",
       "      <td>-23.205955</td>\n",
       "    </tr>\n",
       "    <tr>\n",
       "      <th>2</th>\n",
       "      <td>1</td>\n",
       "      <td>12.320436</td>\n",
       "      <td>31.389485</td>\n",
       "      <td>1.064331</td>\n",
       "      <td>-4.626028</td>\n",
       "      <td>-2.465068</td>\n",
       "      <td>-4.907982</td>\n",
       "      <td>9.487293</td>\n",
       "      <td>38.861515</td>\n",
       "      <td>-1.859812</td>\n",
       "      <td>...</td>\n",
       "      <td>-0.796896</td>\n",
       "      <td>6.036633</td>\n",
       "      <td>-6.652067</td>\n",
       "      <td>4.229147</td>\n",
       "      <td>-22.883009</td>\n",
       "      <td>18.912765</td>\n",
       "      <td>1.870096</td>\n",
       "      <td>-1.921104</td>\n",
       "      <td>13.932734</td>\n",
       "      <td>13.418422</td>\n",
       "    </tr>\n",
       "    <tr>\n",
       "      <th>3</th>\n",
       "      <td>1</td>\n",
       "      <td>3.278936</td>\n",
       "      <td>-2.526723</td>\n",
       "      <td>-9.143806</td>\n",
       "      <td>33.647163</td>\n",
       "      <td>-6.012620</td>\n",
       "      <td>-5.052795</td>\n",
       "      <td>4.773311</td>\n",
       "      <td>-10.467894</td>\n",
       "      <td>-4.287159</td>\n",
       "      <td>...</td>\n",
       "      <td>-0.855874</td>\n",
       "      <td>4.334901</td>\n",
       "      <td>6.136440</td>\n",
       "      <td>-2.756788</td>\n",
       "      <td>48.423225</td>\n",
       "      <td>-22.975723</td>\n",
       "      <td>-4.167299</td>\n",
       "      <td>3.187222</td>\n",
       "      <td>38.933739</td>\n",
       "      <td>24.446514</td>\n",
       "    </tr>\n",
       "    <tr>\n",
       "      <th>4</th>\n",
       "      <td>1</td>\n",
       "      <td>-1.862192</td>\n",
       "      <td>20.318968</td>\n",
       "      <td>0.326070</td>\n",
       "      <td>1.880845</td>\n",
       "      <td>4.469342</td>\n",
       "      <td>-1.140627</td>\n",
       "      <td>-5.964012</td>\n",
       "      <td>10.691774</td>\n",
       "      <td>-4.482491</td>\n",
       "      <td>...</td>\n",
       "      <td>-2.340471</td>\n",
       "      <td>6.776495</td>\n",
       "      <td>-1.579208</td>\n",
       "      <td>-9.621510</td>\n",
       "      <td>32.640783</td>\n",
       "      <td>11.077348</td>\n",
       "      <td>1.921243</td>\n",
       "      <td>5.547765</td>\n",
       "      <td>36.752247</td>\n",
       "      <td>-5.130302</td>\n",
       "    </tr>\n",
       "  </tbody>\n",
       "</table>\n",
       "<p>5 rows × 101 columns</p>\n",
       "</div>"
      ],
      "text/plain": [
       "   target   column_0   column_1  column_2   column_3  column_4  column_5   \n",
       "0       0   3.106381  -1.436369 -8.433941   1.639690  0.573507  1.588182  \\\n",
       "1       1  -4.160517  17.956153  1.145077  17.343721 -5.629378 -9.573770   \n",
       "2       1  12.320436  31.389485  1.064331  -4.626028 -2.465068 -4.907982   \n",
       "3       1   3.278936  -2.526723 -9.143806  33.647163 -6.012620 -5.052795   \n",
       "4       1  -1.862192  20.318968  0.326070   1.880845  4.469342 -1.140627   \n",
       "\n",
       "    column_6   column_7  column_8  ...  column_90  column_91  column_92   \n",
       "0   2.315861  13.228537 -7.081721  ...  -5.123808  -1.348525  -0.178819  \\\n",
       "1 -15.882911  21.405992  3.360712  ...   7.533040  -8.679236   0.571035   \n",
       "2   9.487293  38.861515 -1.859812  ...  -0.796896   6.036633  -6.652067   \n",
       "3   4.773311 -10.467894 -4.287159  ...  -0.855874   4.334901   6.136440   \n",
       "4  -5.964012  10.691774 -4.482491  ...  -2.340471   6.776495  -1.579208   \n",
       "\n",
       "   column_93  column_94  column_95  column_96  column_97  column_98  column_99  \n",
       "0   4.424162  -5.714436 -10.320223   2.471547  -5.132027  21.204696  14.008619  \n",
       "1  -9.962124 -29.890805 -23.985929  -2.801061   4.135258  23.307814 -23.205955  \n",
       "2   4.229147 -22.883009  18.912765   1.870096  -1.921104  13.932734  13.418422  \n",
       "3  -2.756788  48.423225 -22.975723  -4.167299   3.187222  38.933739  24.446514  \n",
       "4  -9.621510  32.640783  11.077348   1.921243   5.547765  36.752247  -5.130302  \n",
       "\n",
       "[5 rows x 101 columns]"
      ]
     },
     "execution_count": 17,
     "metadata": {},
     "output_type": "execute_result"
    }
   ],
   "source": [
    "# Sklearn with Pandas\n",
    "\n",
    "# In this case, the benefits of using dsds are:\n",
    "# 1. Much better performance.\n",
    "# 2. Users need to do extra steps to put data back in dataframe format.\n",
    "# 3. Dsds can save the plan using LazyFrame.blueprint.preserve_as_pickle()... But in Pandas,\n",
    "# you have to use the PowerTransformer class, which makes code longer and uglier (and less organized)\n",
    "\n",
    "start = perf_counter()\n",
    "transformed = power_transform(df_pd[features], method = \"yeo-johnson\", standardize=False)\n",
    "end = perf_counter()\n",
    "df_pd[features] = transformed\n",
    "print(f\"Spent {end - start:.2f}s in computing.\")\n",
    "df_pd.head()\n"
   ]
  },
  {
   "attachments": {},
   "cell_type": "markdown",
   "metadata": {},
   "source": [
    "# GC"
   ]
  },
  {
   "cell_type": "code",
   "execution_count": 18,
   "metadata": {},
   "outputs": [
    {
     "data": {
      "text/plain": [
       "1039"
      ]
     },
     "execution_count": 18,
     "metadata": {},
     "output_type": "execute_result"
    }
   ],
   "source": [
    "import gc \n",
    "gc.collect()"
   ]
  },
  {
   "cell_type": "code",
   "execution_count": null,
   "metadata": {},
   "outputs": [],
   "source": []
  }
 ],
 "metadata": {
  "kernelspec": {
   "display_name": "my_py11",
   "language": "python",
   "name": "python3"
  },
  "language_info": {
   "codemirror_mode": {
    "name": "ipython",
    "version": 3
   },
   "file_extension": ".py",
   "mimetype": "text/x-python",
   "name": "python",
   "nbconvert_exporter": "python",
   "pygments_lexer": "ipython3",
   "version": "3.11.3"
  },
  "orig_nbformat": 4
 },
 "nbformat": 4,
 "nbformat_minor": 2
}
