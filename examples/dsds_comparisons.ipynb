{
 "cells": [
  {
   "cell_type": "code",
   "execution_count": 1,
   "metadata": {},
   "outputs": [],
   "source": [
    "import polars as pl\n",
    "import pandas as pd\n",
    "import numpy as np\n",
    "from sklearn.datasets import make_classification\n",
    "from time import perf_counter\n",
    "\n",
    "import dsds.transform as t\n",
    "import dsds.fs as fs\n",
    "\n",
    "from sklearn.preprocessing import power_transform\n",
    "from sklearn.feature_selection import mutual_info_classif, f_classif, f_regression"
   ]
  },
  {
   "cell_type": "code",
   "execution_count": 2,
   "metadata": {},
   "outputs": [],
   "source": [
    "orig_x, orig_y = make_classification(n_samples = 200_000, n_features = 100, n_informative = 60, n_redundant = 40)\n",
    "# This is a Polars dataframe. This is dsds package's favored dataframe. dsds relies on Polars heavily.\n",
    "# You must turn other dataframe formats into Polars for dsds to work.\n",
    "df = pl.from_numpy(orig_x).insert_at_idx(0, pl.Series(\"target\", orig_y)) \n",
    "# Turn it into Pandas.\n",
    "df_pd = df.to_pandas()\n",
    "target = \"target\"\n",
    "features = df.columns\n",
    "features.remove(target)"
   ]
  },
  {
   "cell_type": "code",
   "execution_count": 3,
   "metadata": {},
   "outputs": [
    {
     "data": {
      "text/html": [
       "<div><style>\n",
       ".dataframe > thead > tr > th,\n",
       ".dataframe > tbody > tr > td {\n",
       "  text-align: right;\n",
       "}\n",
       "</style>\n",
       "<small>shape: (5, 101)</small><table border=\"1\" class=\"dataframe\"><thead><tr><th>target</th><th>column_0</th><th>column_1</th><th>column_2</th><th>column_3</th><th>column_4</th><th>column_5</th><th>column_6</th><th>column_7</th><th>column_8</th><th>column_9</th><th>column_10</th><th>column_11</th><th>column_12</th><th>column_13</th><th>column_14</th><th>column_15</th><th>column_16</th><th>column_17</th><th>column_18</th><th>column_19</th><th>column_20</th><th>column_21</th><th>column_22</th><th>column_23</th><th>column_24</th><th>column_25</th><th>column_26</th><th>column_27</th><th>column_28</th><th>column_29</th><th>column_30</th><th>column_31</th><th>column_32</th><th>column_33</th><th>column_34</th><th>column_35</th><th>&hellip;</th><th>column_63</th><th>column_64</th><th>column_65</th><th>column_66</th><th>column_67</th><th>column_68</th><th>column_69</th><th>column_70</th><th>column_71</th><th>column_72</th><th>column_73</th><th>column_74</th><th>column_75</th><th>column_76</th><th>column_77</th><th>column_78</th><th>column_79</th><th>column_80</th><th>column_81</th><th>column_82</th><th>column_83</th><th>column_84</th><th>column_85</th><th>column_86</th><th>column_87</th><th>column_88</th><th>column_89</th><th>column_90</th><th>column_91</th><th>column_92</th><th>column_93</th><th>column_94</th><th>column_95</th><th>column_96</th><th>column_97</th><th>column_98</th><th>column_99</th></tr><tr><td>i32</td><td>f64</td><td>f64</td><td>f64</td><td>f64</td><td>f64</td><td>f64</td><td>f64</td><td>f64</td><td>f64</td><td>f64</td><td>f64</td><td>f64</td><td>f64</td><td>f64</td><td>f64</td><td>f64</td><td>f64</td><td>f64</td><td>f64</td><td>f64</td><td>f64</td><td>f64</td><td>f64</td><td>f64</td><td>f64</td><td>f64</td><td>f64</td><td>f64</td><td>f64</td><td>f64</td><td>f64</td><td>f64</td><td>f64</td><td>f64</td><td>f64</td><td>f64</td><td>&hellip;</td><td>f64</td><td>f64</td><td>f64</td><td>f64</td><td>f64</td><td>f64</td><td>f64</td><td>f64</td><td>f64</td><td>f64</td><td>f64</td><td>f64</td><td>f64</td><td>f64</td><td>f64</td><td>f64</td><td>f64</td><td>f64</td><td>f64</td><td>f64</td><td>f64</td><td>f64</td><td>f64</td><td>f64</td><td>f64</td><td>f64</td><td>f64</td><td>f64</td><td>f64</td><td>f64</td><td>f64</td><td>f64</td><td>f64</td><td>f64</td><td>f64</td><td>f64</td><td>f64</td></tr></thead><tbody><tr><td>0</td><td>18.838365</td><td>-3.138532</td><td>-3.873528</td><td>17.070415</td><td>-13.560525</td><td>1.96571</td><td>-1.965082</td><td>5.783469</td><td>0.428268</td><td>-38.797151</td><td>8.298764</td><td>-12.576353</td><td>-1.861633</td><td>2.773823</td><td>-12.238886</td><td>-3.199177</td><td>6.614998</td><td>-2.187336</td><td>-0.391769</td><td>4.380679</td><td>-5.816873</td><td>28.007828</td><td>3.035804</td><td>1.063445</td><td>-3.112358</td><td>5.286622</td><td>1.060309</td><td>-10.994367</td><td>-24.714711</td><td>-3.657667</td><td>-0.994755</td><td>-9.641785</td><td>15.143455</td><td>-18.485327</td><td>7.833723</td><td>2.493201</td><td>&hellip;</td><td>-3.325263</td><td>-0.152426</td><td>9.123051</td><td>-5.145718</td><td>-9.061036</td><td>-21.139731</td><td>-3.164577</td><td>-1.871301</td><td>0.452645</td><td>9.04986</td><td>-17.856703</td><td>-1.658015</td><td>8.837662</td><td>2.566032</td><td>3.868969</td><td>13.603604</td><td>0.686215</td><td>-7.504418</td><td>4.868321</td><td>-1.68073</td><td>-1.107347</td><td>-1.622617</td><td>18.155519</td><td>-3.224936</td><td>0.548054</td><td>5.286467</td><td>-3.436789</td><td>-7.166324</td><td>2.650144</td><td>28.521399</td><td>-11.887173</td><td>5.832383</td><td>-23.413854</td><td>25.778616</td><td>1.579484</td><td>1.506464</td><td>23.302198</td></tr><tr><td>1</td><td>-45.019365</td><td>51.049535</td><td>-5.147741</td><td>45.127501</td><td>-14.515643</td><td>-5.018504</td><td>2.552445</td><td>3.455494</td><td>6.597109</td><td>35.936024</td><td>-5.255318</td><td>3.898475</td><td>3.778818</td><td>-2.044775</td><td>13.88813</td><td>1.409741</td><td>-4.689749</td><td>-0.443432</td><td>0.775308</td><td>16.732096</td><td>-5.367917</td><td>-34.597867</td><td>8.835069</td><td>-40.865362</td><td>3.531179</td><td>-5.986495</td><td>-6.15206</td><td>-10.979903</td><td>-23.250239</td><td>22.385368</td><td>0.39762</td><td>2.274617</td><td>-38.234934</td><td>13.165706</td><td>0.289677</td><td>6.131736</td><td>&hellip;</td><td>-4.440772</td><td>0.629373</td><td>-11.66193</td><td>7.177214</td><td>-46.468968</td><td>12.112405</td><td>6.161381</td><td>-9.49249</td><td>3.453204</td><td>2.911913</td><td>9.461024</td><td>3.836779</td><td>19.58101</td><td>-3.433667</td><td>-13.186078</td><td>29.013865</td><td>11.677664</td><td>2.87304</td><td>-4.061476</td><td>9.920809</td><td>5.670573</td><td>8.196527</td><td>-1.907671</td><td>7.275023</td><td>6.795811</td><td>-2.733096</td><td>-0.667286</td><td>-6.087519</td><td>5.769974</td><td>31.460689</td><td>1.997312</td><td>2.772209</td><td>0.487488</td><td>16.414308</td><td>0.792826</td><td>5.118932</td><td>-18.372568</td></tr><tr><td>0</td><td>23.582107</td><td>25.078874</td><td>-0.480541</td><td>-0.057588</td><td>-7.837307</td><td>-0.81084</td><td>0.710464</td><td>-1.435622</td><td>-1.325621</td><td>19.4166</td><td>1.417901</td><td>-15.392447</td><td>4.042859</td><td>-9.797768</td><td>28.419735</td><td>0.848428</td><td>-0.671895</td><td>-3.812379</td><td>8.478334</td><td>13.05808</td><td>-3.858833</td><td>23.997921</td><td>-1.425522</td><td>8.852922</td><td>-1.811088</td><td>-8.484258</td><td>-6.416268</td><td>23.650012</td><td>1.426985</td><td>-8.229819</td><td>0.861158</td><td>0.723967</td><td>-23.681811</td><td>-7.145042</td><td>-0.735262</td><td>6.576272</td><td>&hellip;</td><td>7.102614</td><td>6.448761</td><td>25.71455</td><td>-7.870966</td><td>-15.81299</td><td>39.278648</td><td>-1.173909</td><td>9.445686</td><td>4.722315</td><td>-4.889691</td><td>16.844918</td><td>5.412903</td><td>-6.761988</td><td>-3.286036</td><td>-2.14258</td><td>-14.286601</td><td>-3.950656</td><td>-0.007495</td><td>1.311505</td><td>2.704642</td><td>-6.610374</td><td>-2.103818</td><td>-7.4272</td><td>4.691626</td><td>-4.130149</td><td>9.108433</td><td>-2.747037</td><td>-1.559376</td><td>-14.807781</td><td>-28.097378</td><td>26.485988</td><td>21.976693</td><td>-2.948409</td><td>-4.954285</td><td>2.116492</td><td>-0.93181</td><td>0.811181</td></tr><tr><td>1</td><td>-59.681149</td><td>16.955993</td><td>-0.227823</td><td>-13.398623</td><td>-6.723666</td><td>6.927926</td><td>6.086259</td><td>-3.254116</td><td>5.810667</td><td>-34.192574</td><td>3.077547</td><td>-4.362404</td><td>5.866433</td><td>-5.79779</td><td>-15.128465</td><td>0.846538</td><td>-0.889667</td><td>-2.156517</td><td>-2.040406</td><td>1.668983</td><td>-5.844555</td><td>14.665437</td><td>3.177793</td><td>-35.094297</td><td>2.141413</td><td>1.121693</td><td>-13.229613</td><td>18.304359</td><td>-17.588345</td><td>5.401783</td><td>-4.320785</td><td>7.983602</td><td>-5.019301</td><td>14.836687</td><td>4.114632</td><td>6.019827</td><td>&hellip;</td><td>20.08193</td><td>-11.832234</td><td>-1.727852</td><td>49.206854</td><td>-58.781845</td><td>26.109764</td><td>2.754116</td><td>1.413501</td><td>-5.400721</td><td>4.008118</td><td>-26.994811</td><td>5.608762</td><td>-9.708903</td><td>3.631791</td><td>5.440808</td><td>-28.211472</td><td>2.043276</td><td>1.720479</td><td>3.652225</td><td>-2.108952</td><td>6.956553</td><td>1.076652</td><td>35.674569</td><td>-3.19722</td><td>-2.479417</td><td>3.830718</td><td>4.413153</td><td>1.873871</td><td>-41.679222</td><td>13.992926</td><td>2.354622</td><td>-11.589698</td><td>13.91484</td><td>-4.375771</td><td>-0.103554</td><td>-2.034978</td><td>18.760649</td></tr><tr><td>1</td><td>-26.752178</td><td>-14.823673</td><td>-0.355871</td><td>-6.058942</td><td>-38.216031</td><td>0.760833</td><td>10.535521</td><td>-7.500467</td><td>-1.620028</td><td>-70.126303</td><td>-8.996078</td><td>-26.302375</td><td>-11.072607</td><td>35.506896</td><td>20.252614</td><td>-0.85581</td><td>-0.982696</td><td>-10.047983</td><td>1.251426</td><td>-15.212685</td><td>-3.57067</td><td>40.745096</td><td>0.033728</td><td>7.397032</td><td>2.719542</td><td>-2.422532</td><td>-0.674162</td><td>51.938194</td><td>-19.535448</td><td>-23.760412</td><td>-1.745403</td><td>-0.753588</td><td>39.37732</td><td>-41.151453</td><td>3.23232</td><td>4.158587</td><td>&hellip;</td><td>21.46679</td><td>4.483461</td><td>-2.951204</td><td>-7.274999</td><td>-44.286316</td><td>22.447618</td><td>-2.10971</td><td>8.682409</td><td>-1.703019</td><td>11.21678</td><td>-10.080616</td><td>1.818147</td><td>-61.050372</td><td>3.176458</td><td>12.476702</td><td>-7.042586</td><td>-3.082341</td><td>1.745389</td><td>0.074305</td><td>-4.105928</td><td>-8.133663</td><td>-3.637516</td><td>-32.713748</td><td>7.162834</td><td>-0.263649</td><td>-1.765139</td><td>-1.317074</td><td>7.802202</td><td>-43.856181</td><td>-13.925033</td><td>-37.779514</td><td>-2.896245</td><td>18.148361</td><td>-18.995295</td><td>8.781042</td><td>-10.460217</td><td>-0.257095</td></tr></tbody></table></div>"
      ],
      "text/plain": [
       "shape: (5, 101)\n",
       "┌────────┬────────────┬────────────┬───────────┬───┬───────────┬───────────┬───────────┬───────────┐\n",
       "│ target ┆ column_0   ┆ column_1   ┆ column_2  ┆ … ┆ column_96 ┆ column_97 ┆ column_98 ┆ column_99 │\n",
       "│ ---    ┆ ---        ┆ ---        ┆ ---       ┆   ┆ ---       ┆ ---       ┆ ---       ┆ ---       │\n",
       "│ i32    ┆ f64        ┆ f64        ┆ f64       ┆   ┆ f64       ┆ f64       ┆ f64       ┆ f64       │\n",
       "╞════════╪════════════╪════════════╪═══════════╪═══╪═══════════╪═══════════╪═══════════╪═══════════╡\n",
       "│ 0      ┆ 18.838365  ┆ -3.138532  ┆ -3.873528 ┆ … ┆ 25.778616 ┆ 1.579484  ┆ 1.506464  ┆ 23.302198 │\n",
       "│ 1      ┆ -45.019365 ┆ 51.049535  ┆ -5.147741 ┆ … ┆ 16.414308 ┆ 0.792826  ┆ 5.118932  ┆ -18.37256 │\n",
       "│        ┆            ┆            ┆           ┆   ┆           ┆           ┆           ┆ 8         │\n",
       "│ 0      ┆ 23.582107  ┆ 25.078874  ┆ -0.480541 ┆ … ┆ -4.954285 ┆ 2.116492  ┆ -0.93181  ┆ 0.811181  │\n",
       "│ 1      ┆ -59.681149 ┆ 16.955993  ┆ -0.227823 ┆ … ┆ -4.375771 ┆ -0.103554 ┆ -2.034978 ┆ 18.760649 │\n",
       "│ 1      ┆ -26.752178 ┆ -14.823673 ┆ -0.355871 ┆ … ┆ -18.99529 ┆ 8.781042  ┆ -10.46021 ┆ -0.257095 │\n",
       "│        ┆            ┆            ┆           ┆   ┆ 5         ┆           ┆ 7         ┆           │\n",
       "└────────┴────────────┴────────────┴───────────┴───┴───────────┴───────────┴───────────┴───────────┘"
      ]
     },
     "execution_count": 3,
     "metadata": {},
     "output_type": "execute_result"
    }
   ],
   "source": [
    "df.head()"
   ]
  },
  {
   "attachments": {},
   "cell_type": "markdown",
   "metadata": {},
   "source": [
    "## Comparisons\n",
    "\n",
    "This notebook compares results and performance between the dsds package, sklearn and some other packages for feature selection and some other transformations common in the data science pipeline.\n",
    "\n",
    "### Methods Compared:\n",
    "1. Fscore\n",
    "2. Mutual Information Score\n",
    "3. MRMR feature selection strategies\n",
    "4. Power Transform\n",
    "\n",
    "You may restart the kernel after each section. But remember to rerun the cells above. If you are concerned about memory usage when running this notebook, go to the end and run the gc cell."
   ]
  },
  {
   "attachments": {},
   "cell_type": "markdown",
   "metadata": {},
   "source": [
    "# Fscore"
   ]
  },
  {
   "cell_type": "code",
   "execution_count": 4,
   "metadata": {},
   "outputs": [
    {
     "name": "stdout",
     "output_type": "stream",
     "text": [
      "Spent 0.03s in computing Fscore.\n"
     ]
    },
    {
     "data": {
      "text/html": [
       "<div><style>\n",
       ".dataframe > thead > tr > th,\n",
       ".dataframe > tbody > tr > td {\n",
       "  text-align: right;\n",
       "}\n",
       "</style>\n",
       "<small>shape: (10, 3)</small><table border=\"1\" class=\"dataframe\"><thead><tr><th>feature</th><th>f_value</th><th>p_value</th></tr><tr><td>str</td><td>f64</td><td>f64</td></tr></thead><tbody><tr><td>&quot;column_0&quot;</td><td>4.810007</td><td>0.028296</td></tr><tr><td>&quot;column_1&quot;</td><td>3430.169704</td><td>0.0</td></tr><tr><td>&quot;column_2&quot;</td><td>0.032048</td><td>0.857922</td></tr><tr><td>&quot;column_3&quot;</td><td>923.478699</td><td>2.2411e-202</td></tr><tr><td>&quot;column_4&quot;</td><td>225.678368</td><td>5.5684e-51</td></tr><tr><td>&quot;column_5&quot;</td><td>2.239449</td><td>0.134531</td></tr><tr><td>&quot;column_6&quot;</td><td>2506.381939</td><td>0.0</td></tr><tr><td>&quot;column_7&quot;</td><td>2453.692294</td><td>0.0</td></tr><tr><td>&quot;column_8&quot;</td><td>9585.77082</td><td>0.0</td></tr><tr><td>&quot;column_9&quot;</td><td>425.186219</td><td>2.2755e-94</td></tr></tbody></table></div>"
      ],
      "text/plain": [
       "shape: (10, 3)\n",
       "┌──────────┬─────────────┬─────────────┐\n",
       "│ feature  ┆ f_value     ┆ p_value     │\n",
       "│ ---      ┆ ---         ┆ ---         │\n",
       "│ str      ┆ f64         ┆ f64         │\n",
       "╞══════════╪═════════════╪═════════════╡\n",
       "│ column_0 ┆ 4.810007    ┆ 0.028296    │\n",
       "│ column_1 ┆ 3430.169704 ┆ 0.0         │\n",
       "│ column_2 ┆ 0.032048    ┆ 0.857922    │\n",
       "│ column_3 ┆ 923.478699  ┆ 2.2411e-202 │\n",
       "│ …        ┆ …           ┆ …           │\n",
       "│ column_6 ┆ 2506.381939 ┆ 0.0         │\n",
       "│ column_7 ┆ 2453.692294 ┆ 0.0         │\n",
       "│ column_8 ┆ 9585.77082  ┆ 0.0         │\n",
       "│ column_9 ┆ 425.186219  ┆ 2.2755e-94  │\n",
       "└──────────┴─────────────┴─────────────┘"
      ]
     },
     "execution_count": 4,
     "metadata": {},
     "output_type": "execute_result"
    }
   ],
   "source": [
    "start = perf_counter()\n",
    "res = fs.f_classif(df, target=target)\n",
    "end = perf_counter()\n",
    "print(f\"Spent {end - start:.2f}s in computing Fscore.\")\n",
    "res.head(10)"
   ]
  },
  {
   "cell_type": "code",
   "execution_count": 5,
   "metadata": {},
   "outputs": [
    {
     "name": "stdout",
     "output_type": "stream",
     "text": [
      "Spent 0.33s in computing Fscore.\n"
     ]
    },
    {
     "data": {
      "text/html": [
       "<div>\n",
       "<style scoped>\n",
       "    .dataframe tbody tr th:only-of-type {\n",
       "        vertical-align: middle;\n",
       "    }\n",
       "\n",
       "    .dataframe tbody tr th {\n",
       "        vertical-align: top;\n",
       "    }\n",
       "\n",
       "    .dataframe thead th {\n",
       "        text-align: right;\n",
       "    }\n",
       "</style>\n",
       "<table border=\"1\" class=\"dataframe\">\n",
       "  <thead>\n",
       "    <tr style=\"text-align: right;\">\n",
       "      <th></th>\n",
       "      <th>feature</th>\n",
       "      <th>f_value</th>\n",
       "      <th>p_value</th>\n",
       "    </tr>\n",
       "  </thead>\n",
       "  <tbody>\n",
       "    <tr>\n",
       "      <th>0</th>\n",
       "      <td>column_0</td>\n",
       "      <td>4.810007</td>\n",
       "      <td>2.829608e-02</td>\n",
       "    </tr>\n",
       "    <tr>\n",
       "      <th>1</th>\n",
       "      <td>column_1</td>\n",
       "      <td>3430.169704</td>\n",
       "      <td>0.000000e+00</td>\n",
       "    </tr>\n",
       "    <tr>\n",
       "      <th>2</th>\n",
       "      <td>column_2</td>\n",
       "      <td>0.032048</td>\n",
       "      <td>8.579219e-01</td>\n",
       "    </tr>\n",
       "    <tr>\n",
       "      <th>3</th>\n",
       "      <td>column_3</td>\n",
       "      <td>923.478699</td>\n",
       "      <td>2.241069e-202</td>\n",
       "    </tr>\n",
       "    <tr>\n",
       "      <th>4</th>\n",
       "      <td>column_4</td>\n",
       "      <td>225.678368</td>\n",
       "      <td>5.568382e-51</td>\n",
       "    </tr>\n",
       "    <tr>\n",
       "      <th>5</th>\n",
       "      <td>column_5</td>\n",
       "      <td>2.239449</td>\n",
       "      <td>1.345305e-01</td>\n",
       "    </tr>\n",
       "    <tr>\n",
       "      <th>6</th>\n",
       "      <td>column_6</td>\n",
       "      <td>2506.381939</td>\n",
       "      <td>0.000000e+00</td>\n",
       "    </tr>\n",
       "    <tr>\n",
       "      <th>7</th>\n",
       "      <td>column_7</td>\n",
       "      <td>2453.692294</td>\n",
       "      <td>0.000000e+00</td>\n",
       "    </tr>\n",
       "    <tr>\n",
       "      <th>8</th>\n",
       "      <td>column_8</td>\n",
       "      <td>9585.770820</td>\n",
       "      <td>0.000000e+00</td>\n",
       "    </tr>\n",
       "    <tr>\n",
       "      <th>9</th>\n",
       "      <td>column_9</td>\n",
       "      <td>425.186219</td>\n",
       "      <td>2.275543e-94</td>\n",
       "    </tr>\n",
       "  </tbody>\n",
       "</table>\n",
       "</div>"
      ],
      "text/plain": [
       "    feature      f_value        p_value\n",
       "0  column_0     4.810007   2.829608e-02\n",
       "1  column_1  3430.169704   0.000000e+00\n",
       "2  column_2     0.032048   8.579219e-01\n",
       "3  column_3   923.478699  2.241069e-202\n",
       "4  column_4   225.678368   5.568382e-51\n",
       "5  column_5     2.239449   1.345305e-01\n",
       "6  column_6  2506.381939   0.000000e+00\n",
       "7  column_7  2453.692294   0.000000e+00\n",
       "8  column_8  9585.770820   0.000000e+00\n",
       "9  column_9   425.186219   2.275543e-94"
      ]
     },
     "execution_count": 5,
     "metadata": {},
     "output_type": "execute_result"
    }
   ],
   "source": [
    "start = perf_counter()\n",
    "f, pv = f_classif(df_pd[features], df_pd[target])\n",
    "res = pd.DataFrame({\"feature\":features, \"f_value\":f, \"p_value\":pv})\n",
    "end = perf_counter()\n",
    "print(f\"Spent {end - start:.2f}s in computing Fscore.\")\n",
    "res.head(10)"
   ]
  },
  {
   "cell_type": "code",
   "execution_count": 6,
   "metadata": {},
   "outputs": [
    {
     "name": "stdout",
     "output_type": "stream",
     "text": [
      "Spent  0.10s in computing Fscore.\n"
     ]
    },
    {
     "data": {
      "text/html": [
       "<div>\n",
       "<style scoped>\n",
       "    .dataframe tbody tr th:only-of-type {\n",
       "        vertical-align: middle;\n",
       "    }\n",
       "\n",
       "    .dataframe tbody tr th {\n",
       "        vertical-align: top;\n",
       "    }\n",
       "\n",
       "    .dataframe thead th {\n",
       "        text-align: right;\n",
       "    }\n",
       "</style>\n",
       "<table border=\"1\" class=\"dataframe\">\n",
       "  <thead>\n",
       "    <tr style=\"text-align: right;\">\n",
       "      <th></th>\n",
       "      <th>feature</th>\n",
       "      <th>f_value</th>\n",
       "      <th>p_value</th>\n",
       "    </tr>\n",
       "  </thead>\n",
       "  <tbody>\n",
       "    <tr>\n",
       "      <th>0</th>\n",
       "      <td>column_0</td>\n",
       "      <td>4.810007</td>\n",
       "      <td>2.829608e-02</td>\n",
       "    </tr>\n",
       "    <tr>\n",
       "      <th>1</th>\n",
       "      <td>column_1</td>\n",
       "      <td>3430.169704</td>\n",
       "      <td>0.000000e+00</td>\n",
       "    </tr>\n",
       "    <tr>\n",
       "      <th>2</th>\n",
       "      <td>column_2</td>\n",
       "      <td>0.032048</td>\n",
       "      <td>8.579219e-01</td>\n",
       "    </tr>\n",
       "    <tr>\n",
       "      <th>3</th>\n",
       "      <td>column_3</td>\n",
       "      <td>923.478699</td>\n",
       "      <td>2.241069e-202</td>\n",
       "    </tr>\n",
       "    <tr>\n",
       "      <th>4</th>\n",
       "      <td>column_4</td>\n",
       "      <td>225.678368</td>\n",
       "      <td>5.568382e-51</td>\n",
       "    </tr>\n",
       "    <tr>\n",
       "      <th>5</th>\n",
       "      <td>column_5</td>\n",
       "      <td>2.239449</td>\n",
       "      <td>1.345305e-01</td>\n",
       "    </tr>\n",
       "    <tr>\n",
       "      <th>6</th>\n",
       "      <td>column_6</td>\n",
       "      <td>2506.381939</td>\n",
       "      <td>0.000000e+00</td>\n",
       "    </tr>\n",
       "    <tr>\n",
       "      <th>7</th>\n",
       "      <td>column_7</td>\n",
       "      <td>2453.692294</td>\n",
       "      <td>0.000000e+00</td>\n",
       "    </tr>\n",
       "    <tr>\n",
       "      <th>8</th>\n",
       "      <td>column_8</td>\n",
       "      <td>9585.770820</td>\n",
       "      <td>0.000000e+00</td>\n",
       "    </tr>\n",
       "    <tr>\n",
       "      <th>9</th>\n",
       "      <td>column_9</td>\n",
       "      <td>425.186219</td>\n",
       "      <td>2.275543e-94</td>\n",
       "    </tr>\n",
       "  </tbody>\n",
       "</table>\n",
       "</div>"
      ],
      "text/plain": [
       "    feature      f_value        p_value\n",
       "0  column_0     4.810007   2.829608e-02\n",
       "1  column_1  3430.169704   0.000000e+00\n",
       "2  column_2     0.032048   8.579219e-01\n",
       "3  column_3   923.478699  2.241069e-202\n",
       "4  column_4   225.678368   5.568382e-51\n",
       "5  column_5     2.239449   1.345305e-01\n",
       "6  column_6  2506.381939   0.000000e+00\n",
       "7  column_7  2453.692294   0.000000e+00\n",
       "8  column_8  9585.770820   0.000000e+00\n",
       "9  column_9   425.186219   2.275543e-94"
      ]
     },
     "execution_count": 6,
     "metadata": {},
     "output_type": "execute_result"
    }
   ],
   "source": [
    "start = perf_counter()\n",
    "f, pv = f_regression(df_pd[features], df_pd[target])\n",
    "res = pd.DataFrame({\"feature\":features, \"f_value\":f, \"p_value\":pv})\n",
    "end = perf_counter()\n",
    "print(f\"Spent {end - start: .2f}s in computing Fscore.\")\n",
    "res.head(10)"
   ]
  },
  {
   "attachments": {},
   "cell_type": "markdown",
   "metadata": {},
   "source": [
    "# Mutual Information Score"
   ]
  },
  {
   "cell_type": "code",
   "execution_count": 7,
   "metadata": {},
   "outputs": [
    {
     "name": "stderr",
     "output_type": "stream",
     "text": [
      "Mutual Info: 100%|██████████| 100/100 [00:16<00:00,  6.12it/s]\n"
     ]
    },
    {
     "data": {
      "text/html": [
       "<div><style>\n",
       ".dataframe > thead > tr > th,\n",
       ".dataframe > tbody > tr > td {\n",
       "  text-align: right;\n",
       "}\n",
       "</style>\n",
       "<small>shape: (10, 2)</small><table border=\"1\" class=\"dataframe\"><thead><tr><th>feature</th><th>estimated_mi</th></tr><tr><td>str</td><td>f64</td></tr></thead><tbody><tr><td>&quot;column_94&quot;</td><td>0.030536</td></tr><tr><td>&quot;column_61&quot;</td><td>0.027874</td></tr><tr><td>&quot;column_36&quot;</td><td>0.025165</td></tr><tr><td>&quot;column_8&quot;</td><td>0.024947</td></tr><tr><td>&quot;column_39&quot;</td><td>0.024708</td></tr><tr><td>&quot;column_38&quot;</td><td>0.024587</td></tr><tr><td>&quot;column_40&quot;</td><td>0.024553</td></tr><tr><td>&quot;column_31&quot;</td><td>0.024136</td></tr><tr><td>&quot;column_46&quot;</td><td>0.023763</td></tr><tr><td>&quot;column_70&quot;</td><td>0.023636</td></tr></tbody></table></div>"
      ],
      "text/plain": [
       "shape: (10, 2)\n",
       "┌───────────┬──────────────┐\n",
       "│ feature   ┆ estimated_mi │\n",
       "│ ---       ┆ ---          │\n",
       "│ str       ┆ f64          │\n",
       "╞═══════════╪══════════════╡\n",
       "│ column_94 ┆ 0.030536     │\n",
       "│ column_61 ┆ 0.027874     │\n",
       "│ column_36 ┆ 0.025165     │\n",
       "│ column_8  ┆ 0.024947     │\n",
       "│ …         ┆ …            │\n",
       "│ column_40 ┆ 0.024553     │\n",
       "│ column_31 ┆ 0.024136     │\n",
       "│ column_46 ┆ 0.023763     │\n",
       "│ column_70 ┆ 0.023636     │\n",
       "└───────────┴──────────────┘"
      ]
     },
     "execution_count": 7,
     "metadata": {},
     "output_type": "execute_result"
    }
   ],
   "source": [
    "# Took 16s\n",
    "fs.mutual_info(df, target=target, conti_cols=features).sort(by=\"estimated_mi\", descending=True).limit(10)"
   ]
  },
  {
   "cell_type": "code",
   "execution_count": 8,
   "metadata": {},
   "outputs": [],
   "source": [
    "def estimate_mi_sklearn(df:pd.DataFrame, cols:list[str], target:str, k=3, random_state:int=42):\n",
    "    mi_estimates = mutual_info_classif(df[cols], df[target]\n",
    "                        , n_neighbors=k, random_state=random_state, discrete_features=False)\n",
    "\n",
    "    return pl.from_records([cols, mi_estimates], schema=[\"feature\", \"estimated_mi\"]).sort(\"estimated_mi\", descending=True)"
   ]
  },
  {
   "cell_type": "code",
   "execution_count": 9,
   "metadata": {},
   "outputs": [
    {
     "data": {
      "text/html": [
       "<div><style>\n",
       ".dataframe > thead > tr > th,\n",
       ".dataframe > tbody > tr > td {\n",
       "  text-align: right;\n",
       "}\n",
       "</style>\n",
       "<small>shape: (10, 2)</small><table border=\"1\" class=\"dataframe\"><thead><tr><th>feature</th><th>estimated_mi</th></tr><tr><td>str</td><td>f64</td></tr></thead><tbody><tr><td>&quot;column_94&quot;</td><td>0.030536</td></tr><tr><td>&quot;column_61&quot;</td><td>0.027874</td></tr><tr><td>&quot;column_36&quot;</td><td>0.025166</td></tr><tr><td>&quot;column_8&quot;</td><td>0.024944</td></tr><tr><td>&quot;column_39&quot;</td><td>0.024707</td></tr><tr><td>&quot;column_38&quot;</td><td>0.024583</td></tr><tr><td>&quot;column_40&quot;</td><td>0.024554</td></tr><tr><td>&quot;column_31&quot;</td><td>0.024136</td></tr><tr><td>&quot;column_46&quot;</td><td>0.023762</td></tr><tr><td>&quot;column_70&quot;</td><td>0.023637</td></tr></tbody></table></div>"
      ],
      "text/plain": [
       "shape: (10, 2)\n",
       "┌───────────┬──────────────┐\n",
       "│ feature   ┆ estimated_mi │\n",
       "│ ---       ┆ ---          │\n",
       "│ str       ┆ f64          │\n",
       "╞═══════════╪══════════════╡\n",
       "│ column_94 ┆ 0.030536     │\n",
       "│ column_61 ┆ 0.027874     │\n",
       "│ column_36 ┆ 0.025166     │\n",
       "│ column_8  ┆ 0.024944     │\n",
       "│ …         ┆ …            │\n",
       "│ column_40 ┆ 0.024554     │\n",
       "│ column_31 ┆ 0.024136     │\n",
       "│ column_46 ┆ 0.023762     │\n",
       "│ column_70 ┆ 0.023637     │\n",
       "└───────────┴──────────────┘"
      ]
     },
     "execution_count": 9,
     "metadata": {},
     "output_type": "execute_result"
    }
   ],
   "source": [
    "# Took 1m38s seconds by using sklearn. The reason is that sklearn's implementation did not turn on multithreading for KDtrees.\n",
    "# Sklearn also did not provide an option to turn it on, despite the fact that sklearn's KDtrees\n",
    "# does have this functionality.\n",
    "estimate_mi_sklearn(df_pd, cols=features, target=target).limit(10)"
   ]
  },
  {
   "attachments": {},
   "cell_type": "markdown",
   "metadata": {},
   "source": [
    "# MRMR Feature selection Strategy"
   ]
  },
  {
   "cell_type": "code",
   "execution_count": 10,
   "metadata": {},
   "outputs": [],
   "source": [
    "from mrmr import mrmr_classif # This is currently the most starred MRMR Python package on github"
   ]
  },
  {
   "cell_type": "code",
   "execution_count": 11,
   "metadata": {},
   "outputs": [],
   "source": [
    "# Need to wrap it so that we get apples to apples comparison\n",
    "def mrmr_package(df:pd.DataFrame, target:str, k:int) -> list[str]:\n",
    "    features = list(df.columns)\n",
    "    features.remove(target)\n",
    "    X = df[features]\n",
    "    y = df[target]\n",
    "    start = perf_counter()\n",
    "    output = mrmr_classif(X, y, K = k)\n",
    "    end = perf_counter()\n",
    "    print(f\"Spent {end - start:.2f}s to compute mrmr.\")\n",
    "    return output"
   ]
  },
  {
   "cell_type": "code",
   "execution_count": 12,
   "metadata": {},
   "outputs": [
    {
     "name": "stderr",
     "output_type": "stream",
     "text": [
      "100%|██████████| 50/50 [00:16<00:00,  3.02it/s]"
     ]
    },
    {
     "name": "stdout",
     "output_type": "stream",
     "text": [
      "Spent 20.32s to compute mrmr.\n"
     ]
    },
    {
     "name": "stderr",
     "output_type": "stream",
     "text": [
      "\n"
     ]
    },
    {
     "data": {
      "text/plain": [
       "['column_94',\n",
       " 'column_46',\n",
       " 'column_40',\n",
       " 'column_71',\n",
       " 'column_8',\n",
       " 'column_39',\n",
       " 'column_31',\n",
       " 'column_38',\n",
       " 'column_15',\n",
       " 'column_70',\n",
       " 'column_36',\n",
       " 'column_61',\n",
       " 'column_7',\n",
       " 'column_55',\n",
       " 'column_42',\n",
       " 'column_11',\n",
       " 'column_69',\n",
       " 'column_22',\n",
       " 'column_48',\n",
       " 'column_44',\n",
       " 'column_14',\n",
       " 'column_98',\n",
       " 'column_90',\n",
       " 'column_6',\n",
       " 'column_43',\n",
       " 'column_10',\n",
       " 'column_84',\n",
       " 'column_96',\n",
       " 'column_45',\n",
       " 'column_82',\n",
       " 'column_87',\n",
       " 'column_51',\n",
       " 'column_25',\n",
       " 'column_34',\n",
       " 'column_79',\n",
       " 'column_81',\n",
       " 'column_74',\n",
       " 'column_41',\n",
       " 'column_64',\n",
       " 'column_88',\n",
       " 'column_60',\n",
       " 'column_89',\n",
       " 'column_54',\n",
       " 'column_29',\n",
       " 'column_78',\n",
       " 'column_27',\n",
       " 'column_80',\n",
       " 'column_67',\n",
       " 'column_57',\n",
       " 'column_1']"
      ]
     },
     "execution_count": 12,
     "metadata": {},
     "output_type": "execute_result"
    }
   ],
   "source": [
    "mrmr_package(df_pd, \"target\", 50)"
   ]
  },
  {
   "cell_type": "code",
   "execution_count": 13,
   "metadata": {},
   "outputs": [
    {
     "name": "stdout",
     "output_type": "stream",
     "text": [
      "Running fscore to determine feature relevance...\n",
      "Found 100 total features to select from. Proceeding to select top 50 features.\n"
     ]
    },
    {
     "name": "stderr",
     "output_type": "stream",
     "text": [
      "MRMR, fscore: 100%|██████████| 50/50 [00:00<00:00, 115.18it/s]"
     ]
    },
    {
     "name": "stdout",
     "output_type": "stream",
     "text": [
      "Output is sorted in order of selection (relevance).\n",
      "Spent 0.54s in computing.\n"
     ]
    },
    {
     "name": "stderr",
     "output_type": "stream",
     "text": [
      "\n"
     ]
    },
    {
     "data": {
      "text/plain": [
       "['column_94',\n",
       " 'column_46',\n",
       " 'column_40',\n",
       " 'column_71',\n",
       " 'column_8',\n",
       " 'column_39',\n",
       " 'column_31',\n",
       " 'column_38',\n",
       " 'column_15',\n",
       " 'column_70',\n",
       " 'column_36',\n",
       " 'column_61',\n",
       " 'column_7',\n",
       " 'column_55',\n",
       " 'column_42',\n",
       " 'column_11',\n",
       " 'column_69',\n",
       " 'column_22',\n",
       " 'column_48',\n",
       " 'column_44',\n",
       " 'column_14',\n",
       " 'column_98',\n",
       " 'column_90',\n",
       " 'column_6',\n",
       " 'column_43',\n",
       " 'column_10',\n",
       " 'column_84',\n",
       " 'column_96',\n",
       " 'column_45',\n",
       " 'column_82',\n",
       " 'column_87',\n",
       " 'column_51',\n",
       " 'column_25',\n",
       " 'column_34',\n",
       " 'column_79',\n",
       " 'column_81',\n",
       " 'column_74',\n",
       " 'column_41',\n",
       " 'column_64',\n",
       " 'column_88',\n",
       " 'column_60',\n",
       " 'column_89',\n",
       " 'column_54',\n",
       " 'column_29',\n",
       " 'column_78',\n",
       " 'column_27',\n",
       " 'column_80',\n",
       " 'column_67',\n",
       " 'column_57',\n",
       " 'column_1']"
      ]
     },
     "execution_count": 13,
     "metadata": {},
     "output_type": "execute_result"
    }
   ],
   "source": [
    "start = perf_counter()\n",
    "res = fs.mrmr(df, target=\"target\", k = 50, low_memory=False)\n",
    "end = perf_counter()\n",
    "print(f\"Spent {end - start:.2f}s in computing.\")\n",
    "res"
   ]
  },
  {
   "cell_type": "code",
   "execution_count": 14,
   "metadata": {},
   "outputs": [
    {
     "name": "stdout",
     "output_type": "stream",
     "text": [
      "Running fscore to determine feature relevance...\n",
      "Found 100 total features to select from. Proceeding to select top 50 features.\n"
     ]
    },
    {
     "name": "stderr",
     "output_type": "stream",
     "text": [
      "MRMR, fscore: 100%|██████████| 50/50 [00:02<00:00, 24.99it/s]"
     ]
    },
    {
     "name": "stdout",
     "output_type": "stream",
     "text": [
      "Output is sorted in order of selection (relevance).\n",
      "Spent 2.03s in computing.\n"
     ]
    },
    {
     "name": "stderr",
     "output_type": "stream",
     "text": [
      "\n"
     ]
    },
    {
     "data": {
      "text/plain": [
       "['column_94',\n",
       " 'column_46',\n",
       " 'column_40',\n",
       " 'column_71',\n",
       " 'column_8',\n",
       " 'column_39',\n",
       " 'column_31',\n",
       " 'column_38',\n",
       " 'column_15',\n",
       " 'column_70',\n",
       " 'column_36',\n",
       " 'column_61',\n",
       " 'column_7',\n",
       " 'column_55',\n",
       " 'column_42',\n",
       " 'column_11',\n",
       " 'column_69',\n",
       " 'column_22',\n",
       " 'column_48',\n",
       " 'column_44',\n",
       " 'column_14',\n",
       " 'column_98',\n",
       " 'column_90',\n",
       " 'column_6',\n",
       " 'column_43',\n",
       " 'column_10',\n",
       " 'column_84',\n",
       " 'column_96',\n",
       " 'column_45',\n",
       " 'column_82',\n",
       " 'column_87',\n",
       " 'column_51',\n",
       " 'column_25',\n",
       " 'column_34',\n",
       " 'column_79',\n",
       " 'column_81',\n",
       " 'column_74',\n",
       " 'column_41',\n",
       " 'column_64',\n",
       " 'column_88',\n",
       " 'column_60',\n",
       " 'column_89',\n",
       " 'column_54',\n",
       " 'column_29',\n",
       " 'column_78',\n",
       " 'column_27',\n",
       " 'column_80',\n",
       " 'column_67',\n",
       " 'column_57',\n",
       " 'column_1']"
      ]
     },
     "execution_count": 14,
     "metadata": {},
     "output_type": "execute_result"
    }
   ],
   "source": [
    "start = perf_counter()\n",
    "res = fs.mrmr(df, target=\"target\", k = 50, low_memory=True)\n",
    "end = perf_counter()\n",
    "print(f\"Spent {end - start:.2f}s in computing.\")\n",
    "res"
   ]
  },
  {
   "attachments": {},
   "cell_type": "markdown",
   "metadata": {},
   "source": [
    "# Power Transform"
   ]
  },
  {
   "cell_type": "code",
   "execution_count": 15,
   "metadata": {},
   "outputs": [
    {
     "name": "stderr",
     "output_type": "stream",
     "text": [
      "Inferring best paramters: 100%|██████████| 100/100 [00:05<00:00, 18.64it/s]\n"
     ]
    },
    {
     "name": "stdout",
     "output_type": "stream",
     "text": [
      "Spent 5.64s in computing.\n"
     ]
    },
    {
     "data": {
      "text/html": [
       "<div><style>\n",
       ".dataframe > thead > tr > th,\n",
       ".dataframe > tbody > tr > td {\n",
       "  text-align: right;\n",
       "}\n",
       "</style>\n",
       "<small>shape: (5, 101)</small><table border=\"1\" class=\"dataframe\"><thead><tr><th>target</th><th>column_0</th><th>column_1</th><th>column_2</th><th>column_3</th><th>column_4</th><th>column_5</th><th>column_6</th><th>column_7</th><th>column_8</th><th>column_9</th><th>column_10</th><th>column_11</th><th>column_12</th><th>column_13</th><th>column_14</th><th>column_15</th><th>column_16</th><th>column_17</th><th>column_18</th><th>column_19</th><th>column_20</th><th>column_21</th><th>column_22</th><th>column_23</th><th>column_24</th><th>column_25</th><th>column_26</th><th>column_27</th><th>column_28</th><th>column_29</th><th>column_30</th><th>column_31</th><th>column_32</th><th>column_33</th><th>column_34</th><th>column_35</th><th>&hellip;</th><th>column_63</th><th>column_64</th><th>column_65</th><th>column_66</th><th>column_67</th><th>column_68</th><th>column_69</th><th>column_70</th><th>column_71</th><th>column_72</th><th>column_73</th><th>column_74</th><th>column_75</th><th>column_76</th><th>column_77</th><th>column_78</th><th>column_79</th><th>column_80</th><th>column_81</th><th>column_82</th><th>column_83</th><th>column_84</th><th>column_85</th><th>column_86</th><th>column_87</th><th>column_88</th><th>column_89</th><th>column_90</th><th>column_91</th><th>column_92</th><th>column_93</th><th>column_94</th><th>column_95</th><th>column_96</th><th>column_97</th><th>column_98</th><th>column_99</th></tr><tr><td>i32</td><td>f64</td><td>f64</td><td>f64</td><td>f64</td><td>f64</td><td>f64</td><td>f64</td><td>f64</td><td>f64</td><td>f64</td><td>f64</td><td>f64</td><td>f64</td><td>f64</td><td>f64</td><td>f64</td><td>f64</td><td>f64</td><td>f64</td><td>f64</td><td>f64</td><td>f64</td><td>f64</td><td>f64</td><td>f64</td><td>f64</td><td>f64</td><td>f64</td><td>f64</td><td>f64</td><td>f64</td><td>f64</td><td>f64</td><td>f64</td><td>f64</td><td>f64</td><td>&hellip;</td><td>f64</td><td>f64</td><td>f64</td><td>f64</td><td>f64</td><td>f64</td><td>f64</td><td>f64</td><td>f64</td><td>f64</td><td>f64</td><td>f64</td><td>f64</td><td>f64</td><td>f64</td><td>f64</td><td>f64</td><td>f64</td><td>f64</td><td>f64</td><td>f64</td><td>f64</td><td>f64</td><td>f64</td><td>f64</td><td>f64</td><td>f64</td><td>f64</td><td>f64</td><td>f64</td><td>f64</td><td>f64</td><td>f64</td><td>f64</td><td>f64</td><td>f64</td><td>f64</td></tr></thead><tbody><tr><td>0</td><td>18.876331</td><td>-3.145647</td><td>-3.877695</td><td>17.004304</td><td>-13.60708</td><td>1.967271</td><td>-1.94808</td><td>5.900669</td><td>0.429042</td><td>-39.549047</td><td>8.310745</td><td>-12.555044</td><td>-1.873156</td><td>2.774475</td><td>-12.311829</td><td>-3.203695</td><td>6.615674</td><td>-2.189387</td><td>-0.391803</td><td>4.36954</td><td>-5.806675</td><td>27.990488</td><td>3.047539</td><td>1.063183</td><td>-3.110399</td><td>5.265758</td><td>1.065951</td><td>-11.000945</td><td>-24.968882</td><td>-3.644689</td><td>-0.989882</td><td>-9.686514</td><td>15.245898</td><td>-18.431443</td><td>7.981127</td><td>2.521964</td><td>&hellip;</td><td>-3.347096</td><td>-0.152287</td><td>9.135027</td><td>-5.183596</td><td>-8.890677</td><td>-21.295491</td><td>-3.17327</td><td>-1.874043</td><td>0.452725</td><td>8.963499</td><td>-17.913387</td><td>-1.65984</td><td>8.805474</td><td>2.57389</td><td>3.86947</td><td>13.807792</td><td>0.68509</td><td>-7.547908</td><td>4.883575</td><td>-1.683127</td><td>-1.107991</td><td>-1.621245</td><td>18.307052</td><td>-3.224317</td><td>0.549559</td><td>5.248872</td><td>-3.461924</td><td>-7.08996</td><td>2.65206</td><td>28.07869</td><td>-11.887247</td><td>5.75152</td><td>-23.546565</td><td>26.188898</td><td>1.568098</td><td>1.520836</td><td>23.051457</td></tr><tr><td>1</td><td>-44.896488</td><td>50.650088</td><td>-5.154263</td><td>44.880737</td><td>-14.566939</td><td>-5.011335</td><td>2.579125</td><td>3.50744</td><td>6.681959</td><td>35.270707</td><td>-5.249341</td><td>3.902106</td><td>3.742043</td><td>-2.044384</td><td>13.801305</td><td>1.408608</td><td>-4.689351</td><td>-0.443549</td><td>0.775186</td><td>16.650558</td><td>-5.358907</td><td>-34.620919</td><td>8.896886</td><td>-40.935548</td><td>3.533584</td><td>-6.011885</td><td>-6.049286</td><td>-10.986469</td><td>-23.484007</td><td>22.576533</td><td>0.398519</td><td>2.269997</td><td>-37.874166</td><td>13.199174</td><td>0.290168</td><td>6.253061</td><td>&hellip;</td><td>-4.475446</td><td>0.631459</td><td>-11.644816</td><td>7.114774</td><td>-44.838029</td><td>12.04189</td><td>6.13663</td><td>-9.528482</td><td>3.456056</td><td>2.897073</td><td>9.438287</td><td>3.829442</td><td>19.480508</td><td>-3.421064</td><td>-13.182891</td><td>29.599359</td><td>11.55979</td><td>2.863453</td><td>-4.05005</td><td>9.88063</td><td>5.660878</td><td>8.215048</td><td>-1.902981</td><td>7.277232</td><td>6.904535</td><td>-2.746285</td><td>-0.668747</td><td>-6.027886</td><td>5.776601</td><td>30.955555</td><td>1.997308</td><td>2.747364</td><td>0.487238</td><td>16.633763</td><td>0.789478</td><td>5.227228</td><td>-18.555157</td></tr><tr><td>0</td><td>23.633882</td><td>24.923867</td><td>-0.48065</td><td>-0.057591</td><td>-7.858198</td><td>-0.810512</td><td>0.713293</td><td>-1.423901</td><td>-1.319546</td><td>19.127956</td><td>1.418591</td><td>-15.36403</td><td>4.001912</td><td>-9.793143</td><td>28.185514</td><td>0.847969</td><td>-0.671881</td><td>-3.817481</td><td>8.471914</td><td>13.000698</td><td>-3.853469</td><td>23.983869</td><td>-1.422262</td><td>8.844615</td><td>-1.810295</td><td>-8.527241</td><td>-6.306706</td><td>23.630666</td><td>1.423872</td><td>-8.184431</td><td>0.864937</td><td>0.723349</td><td>-23.49249</td><td>-7.131436</td><td>-0.732443</td><td>6.711307</td><td>&hellip;</td><td>7.031835</td><td>6.556405</td><td>25.766497</td><td>-7.943426</td><td>-15.433583</td><td>38.922034</td><td>-1.175517</td><td>9.410108</td><td>4.727006</td><td>-4.923937</td><td>16.792862</td><td>5.400306</td><td>-6.783631</td><td>-3.274297</td><td>-2.14239</td><td>-14.071316</td><td>-3.973658</td><td>-0.007495</td><td>1.313232</td><td>2.699308</td><td>-6.622657</td><td>-2.10168</td><td>-7.385954</td><td>4.692752</td><td>-4.080712</td><td>9.022945</td><td>-2.764472</td><td>-1.552883</td><td>-14.781209</td><td>-28.538678</td><td>26.485759</td><td>21.425387</td><td>-2.954412</td><td>-4.917412</td><td>2.097736</td><td>-0.925734</td><td>0.809952</td></tr><tr><td>1</td><td>-59.503724</td><td>16.865743</td><td>-0.227849</td><td>-13.445738</td><td>-6.74025</td><td>6.939705</td><td>6.193208</td><td>-3.207795</td><td>5.88053</td><td>-34.827854</td><td>3.080102</td><td>-4.35807</td><td>5.793286</td><td>-5.795685</td><td>-15.22721</td><td>0.846082</td><td>-0.889643</td><td>-2.15852</td><td>-2.041076</td><td>1.666715</td><td>-5.834282</td><td>14.658359</td><td>3.190435</td><td>-35.151636</td><td>2.142468</td><td>1.120113</td><td>-12.912158</td><td>18.290782</td><td>-17.747092</td><td>5.42588</td><td>-4.26282</td><td>7.94995</td><td>-4.999508</td><td>14.876368</td><td>4.169152</td><td>6.137769</td><td>&hellip;</td><td>19.765373</td><td>-11.573412</td><td>-1.727008</td><td>48.291595</td><td>-56.569391</td><td>25.903488</td><td>2.747213</td><td>1.411815</td><td>-5.394946</td><td>3.983277</td><td>-27.094971</td><td>5.595454</td><td>-9.746033</td><td>3.645646</td><td>5.441663</td><td>-27.659866</td><td>2.035532</td><td>1.716425</td><td>3.661901</td><td>-2.112483</td><td>6.943311</td><td>1.077321</td><td>36.055511</td><td>-3.196609</td><td>-2.457796</td><td>3.808054</td><td>4.376052</td><td>1.882825</td><td>-41.570025</td><td>13.827702</td><td>2.354616</td><td>-11.818994</td><td>13.85105</td><td>-4.345414</td><td>-0.103623</td><td>-2.011217</td><td>18.574721</td></tr><tr><td>1</td><td>-26.690837</td><td>-14.898773</td><td>-0.355933</td><td>-6.073511</td><td>-38.409587</td><td>0.761125</td><td>10.778861</td><td>-7.330786</td><td>-1.611417</td><td>-71.755696</td><td>-8.982598</td><td>-26.242684</td><td>-11.264606</td><td>35.534803</td><td>20.105205</td><td>-0.856276</td><td>-0.982667</td><td>-10.070439</td><td>1.251138</td><td>-15.284365</td><td>-3.565932</td><td>40.716471</td><td>0.03373</td><td>7.390677</td><td>2.721114</td><td>-2.428505</td><td>-0.671697</td><td>51.882913</td><td>-19.719247</td><td>-23.55491</td><td>-1.73234</td><td>-0.754253</td><td>39.756339</td><td>-40.992054</td><td>3.269298</td><td>4.224741</td><td>&hellip;</td><td>21.119741</td><td>4.544695</td><td>-2.949133</td><td>-7.339374</td><td>-42.75484</td><td>22.279811</td><td>-2.114149</td><td>8.650991</td><td>-1.702142</td><td>11.098608</td><td>-10.105639</td><td>1.816012</td><td>-61.513123</td><td>3.187616</td><td>12.479647</td><td>-6.966013</td><td>-3.097755</td><td>1.741233</td><td>0.074313</td><td>-4.11644</td><td>-8.150445</td><td>-3.632253</td><td>-32.37829</td><td>7.164992</td><td>-0.263275</td><td>-1.771458</td><td>-1.322053</td><td>7.890067</td><td>-43.739408</td><td>-14.091316</td><td>-37.779883</td><td>-2.923238</td><td>18.05561</td><td>-18.730161</td><td>8.604254</td><td>-10.151824</td><td>-0.257237</td></tr></tbody></table></div>"
      ],
      "text/plain": [
       "shape: (5, 101)\n",
       "┌────────┬────────────┬────────────┬───────────┬───┬───────────┬───────────┬───────────┬───────────┐\n",
       "│ target ┆ column_0   ┆ column_1   ┆ column_2  ┆ … ┆ column_96 ┆ column_97 ┆ column_98 ┆ column_99 │\n",
       "│ ---    ┆ ---        ┆ ---        ┆ ---       ┆   ┆ ---       ┆ ---       ┆ ---       ┆ ---       │\n",
       "│ i32    ┆ f64        ┆ f64        ┆ f64       ┆   ┆ f64       ┆ f64       ┆ f64       ┆ f64       │\n",
       "╞════════╪════════════╪════════════╪═══════════╪═══╪═══════════╪═══════════╪═══════════╪═══════════╡\n",
       "│ 0      ┆ 18.876331  ┆ -3.145647  ┆ -3.877695 ┆ … ┆ 26.188898 ┆ 1.568098  ┆ 1.520836  ┆ 23.051457 │\n",
       "│ 1      ┆ -44.896488 ┆ 50.650088  ┆ -5.154263 ┆ … ┆ 16.633763 ┆ 0.789478  ┆ 5.227228  ┆ -18.55515 │\n",
       "│        ┆            ┆            ┆           ┆   ┆           ┆           ┆           ┆ 7         │\n",
       "│ 0      ┆ 23.633882  ┆ 24.923867  ┆ -0.48065  ┆ … ┆ -4.917412 ┆ 2.097736  ┆ -0.925734 ┆ 0.809952  │\n",
       "│ 1      ┆ -59.503724 ┆ 16.865743  ┆ -0.227849 ┆ … ┆ -4.345414 ┆ -0.103623 ┆ -2.011217 ┆ 18.574721 │\n",
       "│ 1      ┆ -26.690837 ┆ -14.898773 ┆ -0.355933 ┆ … ┆ -18.73016 ┆ 8.604254  ┆ -10.15182 ┆ -0.257237 │\n",
       "│        ┆            ┆            ┆           ┆   ┆ 1         ┆           ┆ 4         ┆           │\n",
       "└────────┴────────────┴────────────┴───────────┴───┴───────────┴───────────┴───────────┴───────────┘"
      ]
     },
     "execution_count": 15,
     "metadata": {},
     "output_type": "execute_result"
    }
   ],
   "source": [
    "# Eager transform.\n",
    "start = perf_counter()\n",
    "res_eager = t.power_transform(df, target = target, strategy=\"yeo_johnson\")\n",
    "end = perf_counter()\n",
    "print(f\"Spent {end - start:.2f}s in computing.\")\n",
    "res_eager.head() "
   ]
  },
  {
   "cell_type": "code",
   "execution_count": 16,
   "metadata": {},
   "outputs": [
    {
     "name": "stdout",
     "output_type": "stream",
     "text": [
      "Spent 18.05s in computing.\n"
     ]
    },
    {
     "data": {
      "text/html": [
       "<div>\n",
       "<style scoped>\n",
       "    .dataframe tbody tr th:only-of-type {\n",
       "        vertical-align: middle;\n",
       "    }\n",
       "\n",
       "    .dataframe tbody tr th {\n",
       "        vertical-align: top;\n",
       "    }\n",
       "\n",
       "    .dataframe thead th {\n",
       "        text-align: right;\n",
       "    }\n",
       "</style>\n",
       "<table border=\"1\" class=\"dataframe\">\n",
       "  <thead>\n",
       "    <tr style=\"text-align: right;\">\n",
       "      <th></th>\n",
       "      <th>target</th>\n",
       "      <th>column_0</th>\n",
       "      <th>column_1</th>\n",
       "      <th>column_2</th>\n",
       "      <th>column_3</th>\n",
       "      <th>column_4</th>\n",
       "      <th>column_5</th>\n",
       "      <th>column_6</th>\n",
       "      <th>column_7</th>\n",
       "      <th>column_8</th>\n",
       "      <th>...</th>\n",
       "      <th>column_90</th>\n",
       "      <th>column_91</th>\n",
       "      <th>column_92</th>\n",
       "      <th>column_93</th>\n",
       "      <th>column_94</th>\n",
       "      <th>column_95</th>\n",
       "      <th>column_96</th>\n",
       "      <th>column_97</th>\n",
       "      <th>column_98</th>\n",
       "      <th>column_99</th>\n",
       "    </tr>\n",
       "  </thead>\n",
       "  <tbody>\n",
       "    <tr>\n",
       "      <th>0</th>\n",
       "      <td>0</td>\n",
       "      <td>18.876331</td>\n",
       "      <td>-3.145647</td>\n",
       "      <td>-3.877695</td>\n",
       "      <td>17.004304</td>\n",
       "      <td>-13.607080</td>\n",
       "      <td>1.967271</td>\n",
       "      <td>-1.948080</td>\n",
       "      <td>5.900669</td>\n",
       "      <td>0.429042</td>\n",
       "      <td>...</td>\n",
       "      <td>-7.089960</td>\n",
       "      <td>2.652060</td>\n",
       "      <td>28.078690</td>\n",
       "      <td>-11.887247</td>\n",
       "      <td>5.751520</td>\n",
       "      <td>-23.546565</td>\n",
       "      <td>26.188898</td>\n",
       "      <td>1.568098</td>\n",
       "      <td>1.520836</td>\n",
       "      <td>23.051457</td>\n",
       "    </tr>\n",
       "    <tr>\n",
       "      <th>1</th>\n",
       "      <td>1</td>\n",
       "      <td>-44.896488</td>\n",
       "      <td>50.650088</td>\n",
       "      <td>-5.154263</td>\n",
       "      <td>44.880737</td>\n",
       "      <td>-14.566939</td>\n",
       "      <td>-5.011335</td>\n",
       "      <td>2.579125</td>\n",
       "      <td>3.507440</td>\n",
       "      <td>6.681959</td>\n",
       "      <td>...</td>\n",
       "      <td>-6.027886</td>\n",
       "      <td>5.776601</td>\n",
       "      <td>30.955555</td>\n",
       "      <td>1.997308</td>\n",
       "      <td>2.747364</td>\n",
       "      <td>0.487238</td>\n",
       "      <td>16.633763</td>\n",
       "      <td>0.789478</td>\n",
       "      <td>5.227228</td>\n",
       "      <td>-18.555157</td>\n",
       "    </tr>\n",
       "    <tr>\n",
       "      <th>2</th>\n",
       "      <td>0</td>\n",
       "      <td>23.633882</td>\n",
       "      <td>24.923867</td>\n",
       "      <td>-0.480650</td>\n",
       "      <td>-0.057591</td>\n",
       "      <td>-7.858198</td>\n",
       "      <td>-0.810512</td>\n",
       "      <td>0.713293</td>\n",
       "      <td>-1.423901</td>\n",
       "      <td>-1.319546</td>\n",
       "      <td>...</td>\n",
       "      <td>-1.552883</td>\n",
       "      <td>-14.781209</td>\n",
       "      <td>-28.538678</td>\n",
       "      <td>26.485759</td>\n",
       "      <td>21.425387</td>\n",
       "      <td>-2.954412</td>\n",
       "      <td>-4.917412</td>\n",
       "      <td>2.097736</td>\n",
       "      <td>-0.925734</td>\n",
       "      <td>0.809952</td>\n",
       "    </tr>\n",
       "    <tr>\n",
       "      <th>3</th>\n",
       "      <td>1</td>\n",
       "      <td>-59.503724</td>\n",
       "      <td>16.865743</td>\n",
       "      <td>-0.227849</td>\n",
       "      <td>-13.445738</td>\n",
       "      <td>-6.740250</td>\n",
       "      <td>6.939705</td>\n",
       "      <td>6.193208</td>\n",
       "      <td>-3.207795</td>\n",
       "      <td>5.880530</td>\n",
       "      <td>...</td>\n",
       "      <td>1.882825</td>\n",
       "      <td>-41.570025</td>\n",
       "      <td>13.827702</td>\n",
       "      <td>2.354616</td>\n",
       "      <td>-11.818994</td>\n",
       "      <td>13.851050</td>\n",
       "      <td>-4.345414</td>\n",
       "      <td>-0.103623</td>\n",
       "      <td>-2.011217</td>\n",
       "      <td>18.574721</td>\n",
       "    </tr>\n",
       "    <tr>\n",
       "      <th>4</th>\n",
       "      <td>1</td>\n",
       "      <td>-26.690837</td>\n",
       "      <td>-14.898773</td>\n",
       "      <td>-0.355933</td>\n",
       "      <td>-6.073511</td>\n",
       "      <td>-38.409587</td>\n",
       "      <td>0.761125</td>\n",
       "      <td>10.778861</td>\n",
       "      <td>-7.330786</td>\n",
       "      <td>-1.611417</td>\n",
       "      <td>...</td>\n",
       "      <td>7.890067</td>\n",
       "      <td>-43.739408</td>\n",
       "      <td>-14.091316</td>\n",
       "      <td>-37.779883</td>\n",
       "      <td>-2.923238</td>\n",
       "      <td>18.055610</td>\n",
       "      <td>-18.730161</td>\n",
       "      <td>8.604254</td>\n",
       "      <td>-10.151824</td>\n",
       "      <td>-0.257237</td>\n",
       "    </tr>\n",
       "  </tbody>\n",
       "</table>\n",
       "<p>5 rows × 101 columns</p>\n",
       "</div>"
      ],
      "text/plain": [
       "   target   column_0   column_1  column_2   column_3   column_4  column_5   \n",
       "0       0  18.876331  -3.145647 -3.877695  17.004304 -13.607080  1.967271  \\\n",
       "1       1 -44.896488  50.650088 -5.154263  44.880737 -14.566939 -5.011335   \n",
       "2       0  23.633882  24.923867 -0.480650  -0.057591  -7.858198 -0.810512   \n",
       "3       1 -59.503724  16.865743 -0.227849 -13.445738  -6.740250  6.939705   \n",
       "4       1 -26.690837 -14.898773 -0.355933  -6.073511 -38.409587  0.761125   \n",
       "\n",
       "    column_6  column_7  column_8  ...  column_90  column_91  column_92   \n",
       "0  -1.948080  5.900669  0.429042  ...  -7.089960   2.652060  28.078690  \\\n",
       "1   2.579125  3.507440  6.681959  ...  -6.027886   5.776601  30.955555   \n",
       "2   0.713293 -1.423901 -1.319546  ...  -1.552883 -14.781209 -28.538678   \n",
       "3   6.193208 -3.207795  5.880530  ...   1.882825 -41.570025  13.827702   \n",
       "4  10.778861 -7.330786 -1.611417  ...   7.890067 -43.739408 -14.091316   \n",
       "\n",
       "   column_93  column_94  column_95  column_96  column_97  column_98  column_99  \n",
       "0 -11.887247   5.751520 -23.546565  26.188898   1.568098   1.520836  23.051457  \n",
       "1   1.997308   2.747364   0.487238  16.633763   0.789478   5.227228 -18.555157  \n",
       "2  26.485759  21.425387  -2.954412  -4.917412   2.097736  -0.925734   0.809952  \n",
       "3   2.354616 -11.818994  13.851050  -4.345414  -0.103623  -2.011217  18.574721  \n",
       "4 -37.779883  -2.923238  18.055610 -18.730161   8.604254 -10.151824  -0.257237  \n",
       "\n",
       "[5 rows x 101 columns]"
      ]
     },
     "execution_count": 16,
     "metadata": {},
     "output_type": "execute_result"
    }
   ],
   "source": [
    "# Sklearn with Pandas\n",
    "\n",
    "# In this case, the benefits of using dsds are:\n",
    "# 1. Much better performance.\n",
    "# 2. Users need to do extra steps to put data back in dataframe format.\n",
    "\n",
    "start = perf_counter()\n",
    "transformed = power_transform(df_pd[features], method = \"yeo-johnson\", standardize=False)\n",
    "end = perf_counter()\n",
    "df_pd[features] = transformed\n",
    "print(f\"Spent {end - start:.2f}s in computing.\")\n",
    "df_pd.head()\n"
   ]
  },
  {
   "cell_type": "code",
   "execution_count": null,
   "metadata": {},
   "outputs": [],
   "source": []
  },
  {
   "attachments": {},
   "cell_type": "markdown",
   "metadata": {},
   "source": [
    "# GC"
   ]
  },
  {
   "cell_type": "code",
   "execution_count": 17,
   "metadata": {},
   "outputs": [
    {
     "data": {
      "text/plain": [
       "304"
      ]
     },
     "execution_count": 17,
     "metadata": {},
     "output_type": "execute_result"
    }
   ],
   "source": [
    "import gc \n",
    "gc.collect()"
   ]
  },
  {
   "cell_type": "code",
   "execution_count": null,
   "metadata": {},
   "outputs": [],
   "source": []
  }
 ],
 "metadata": {
  "kernelspec": {
   "display_name": "my_py11",
   "language": "python",
   "name": "python3"
  },
  "language_info": {
   "codemirror_mode": {
    "name": "ipython",
    "version": 3
   },
   "file_extension": ".py",
   "mimetype": "text/x-python",
   "name": "python",
   "nbconvert_exporter": "python",
   "pygments_lexer": "ipython3",
   "version": "3.11.3"
  },
  "orig_nbformat": 4
 },
 "nbformat": 4,
 "nbformat_minor": 2
}
