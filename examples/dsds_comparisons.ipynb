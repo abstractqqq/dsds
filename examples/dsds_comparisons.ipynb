{
 "cells": [
  {
   "cell_type": "code",
   "execution_count": 1,
   "metadata": {},
   "outputs": [],
   "source": [
    "import polars as pl\n",
    "import pandas as pd\n",
    "import numpy as np\n",
    "from sklearn.datasets import make_classification\n",
    "from time import perf_counter\n"
   ]
  },
  {
   "cell_type": "code",
   "execution_count": 2,
   "metadata": {},
   "outputs": [],
   "source": [
    "orig_x, orig_y = make_classification(n_samples = 100_000, n_features = 10, n_informative = 5, n_redundant = 5)\n",
    "# This is a Polars dataframe. This is dsds package's favored dataframe. dsds relies on Polars heavily.\n",
    "# You must turn other dataframe formats into Polars for dsds to work.\n",
    "df = pl.from_numpy(orig_x).insert_at_idx(0, pl.Series(\"target\", orig_y)) \n",
    "# Turn it into Pandas.\n",
    "df_pd = df.to_pandas()\n",
    "target = \"target\"\n",
    "features = df.columns\n",
    "features.remove(target)"
   ]
  },
  {
   "cell_type": "code",
   "execution_count": 3,
   "metadata": {},
   "outputs": [
    {
     "data": {
      "text/html": [
       "<div><style>\n",
       ".dataframe > thead > tr > th,\n",
       ".dataframe > tbody > tr > td {\n",
       "  text-align: right;\n",
       "}\n",
       "</style>\n",
       "<small>shape: (5, 11)</small><table border=\"1\" class=\"dataframe\"><thead><tr><th>target</th><th>column_0</th><th>column_1</th><th>column_2</th><th>column_3</th><th>column_4</th><th>column_5</th><th>column_6</th><th>column_7</th><th>column_8</th><th>column_9</th></tr><tr><td>i32</td><td>f64</td><td>f64</td><td>f64</td><td>f64</td><td>f64</td><td>f64</td><td>f64</td><td>f64</td><td>f64</td><td>f64</td></tr></thead><tbody><tr><td>0</td><td>0.917932</td><td>3.395753</td><td>-3.033801</td><td>-3.373439</td><td>-3.231625</td><td>-5.664714</td><td>-5.296789</td><td>-1.977015</td><td>-0.617106</td><td>-2.291159</td></tr><tr><td>0</td><td>-0.615102</td><td>2.570032</td><td>-2.660985</td><td>-2.744959</td><td>-2.174712</td><td>-3.225323</td><td>-2.264492</td><td>-1.696224</td><td>0.969224</td><td>-1.841991</td></tr><tr><td>0</td><td>-0.090845</td><td>1.387114</td><td>-2.078553</td><td>-1.84527</td><td>-2.093092</td><td>-3.08458</td><td>-1.534529</td><td>-2.883363</td><td>1.714375</td><td>-1.383043</td></tr><tr><td>1</td><td>0.420971</td><td>-2.242455</td><td>5.224822</td><td>1.462509</td><td>2.609278</td><td>3.792593</td><td>2.093241</td><td>-1.697945</td><td>-0.881956</td><td>1.475591</td></tr><tr><td>1</td><td>-2.203745</td><td>2.020452</td><td>0.608961</td><td>-2.083744</td><td>0.390127</td><td>1.502105</td><td>0.511588</td><td>-0.176106</td><td>0.091584</td><td>-0.677401</td></tr></tbody></table></div>"
      ],
      "text/plain": [
       "shape: (5, 11)\n",
       "┌────────┬───────────┬───────────┬───────────┬───┬───────────┬───────────┬───────────┬───────────┐\n",
       "│ target ┆ column_0  ┆ column_1  ┆ column_2  ┆ … ┆ column_6  ┆ column_7  ┆ column_8  ┆ column_9  │\n",
       "│ ---    ┆ ---       ┆ ---       ┆ ---       ┆   ┆ ---       ┆ ---       ┆ ---       ┆ ---       │\n",
       "│ i32    ┆ f64       ┆ f64       ┆ f64       ┆   ┆ f64       ┆ f64       ┆ f64       ┆ f64       │\n",
       "╞════════╪═══════════╪═══════════╪═══════════╪═══╪═══════════╪═══════════╪═══════════╪═══════════╡\n",
       "│ 0      ┆ 0.917932  ┆ 3.395753  ┆ -3.033801 ┆ … ┆ -5.296789 ┆ -1.977015 ┆ -0.617106 ┆ -2.291159 │\n",
       "│ 0      ┆ -0.615102 ┆ 2.570032  ┆ -2.660985 ┆ … ┆ -2.264492 ┆ -1.696224 ┆ 0.969224  ┆ -1.841991 │\n",
       "│ 0      ┆ -0.090845 ┆ 1.387114  ┆ -2.078553 ┆ … ┆ -1.534529 ┆ -2.883363 ┆ 1.714375  ┆ -1.383043 │\n",
       "│ 1      ┆ 0.420971  ┆ -2.242455 ┆ 5.224822  ┆ … ┆ 2.093241  ┆ -1.697945 ┆ -0.881956 ┆ 1.475591  │\n",
       "│ 1      ┆ -2.203745 ┆ 2.020452  ┆ 0.608961  ┆ … ┆ 0.511588  ┆ -0.176106 ┆ 0.091584  ┆ -0.677401 │\n",
       "└────────┴───────────┴───────────┴───────────┴───┴───────────┴───────────┴───────────┴───────────┘"
      ]
     },
     "execution_count": 3,
     "metadata": {},
     "output_type": "execute_result"
    }
   ],
   "source": [
    "df.head()"
   ]
  },
  {
   "attachments": {},
   "cell_type": "markdown",
   "metadata": {},
   "source": [
    "## Comparisons\n",
    "\n",
    "This notebook compares results and performance between the dsds package, sklearn and some other packages for feature selection and some other transformations common in the data science pipeline.\n",
    "\n",
    "### Methods Compared:\n",
    "1. Scaling and Imputation\n",
    "2. Fscore\n",
    "3. Mutual Information Score\n",
    "4. MRMR feature selection strategies\n",
    "5. Power Transform\n",
    "\n",
    "You may restart the kernel after each section. But remember to rerun the cells above. If you are concerned about memory usage when running this notebook, go to the end and run the gc cell."
   ]
  },
  {
   "attachments": {},
   "cell_type": "markdown",
   "metadata": {},
   "source": [
    "# Scaling and Imputation"
   ]
  },
  {
   "cell_type": "code",
   "execution_count": 4,
   "metadata": {},
   "outputs": [],
   "source": [
    "import dsds.transform as t"
   ]
  },
  {
   "cell_type": "code",
   "execution_count": 5,
   "metadata": {},
   "outputs": [],
   "source": [
    "features = df.columns\n",
    "features.remove(\"target\")"
   ]
  },
  {
   "cell_type": "code",
   "execution_count": 6,
   "metadata": {},
   "outputs": [
    {
     "data": {
      "text/html": [
       "<div><style>\n",
       ".dataframe > thead > tr > th,\n",
       ".dataframe > tbody > tr > td {\n",
       "  text-align: right;\n",
       "}\n",
       "</style>\n",
       "<small>shape: (5, 11)</small><table border=\"1\" class=\"dataframe\"><thead><tr><th>target</th><th>column_0</th><th>column_1</th><th>column_2</th><th>column_3</th><th>column_4</th><th>column_5</th><th>column_6</th><th>column_7</th><th>column_8</th><th>column_9</th></tr><tr><td>i32</td><td>f64</td><td>f64</td><td>f64</td><td>f64</td><td>f64</td><td>f64</td><td>f64</td><td>f64</td><td>f64</td><td>f64</td></tr></thead><tbody><tr><td>0</td><td>0.880607</td><td>1.333267</td><td>-0.66621</td><td>-1.110481</td><td>-1.967191</td><td>-1.80741</td><td>-2.115968</td><td>-1.279214</td><td>-0.729238</td><td>-0.845485</td></tr><tr><td>0</td><td>-0.071313</td><td>0.952163</td><td>-0.534734</td><td>-0.818885</td><td>-1.3226</td><td>-0.928822</td><td>-0.898976</td><td>-1.097703</td><td>0.303606</td><td>-0.550253</td></tr><tr><td>0</td><td>0.254218</td><td>0.406198</td><td>-0.329335</td><td>-0.401456</td><td>-1.272822</td><td>-0.878131</td><td>-0.60601</td><td>-1.865102</td><td>0.788766</td><td>-0.248592</td></tr><tr><td>1</td><td>0.572025</td><td>-1.268996</td><td>2.246255</td><td>1.133256</td><td>1.595061</td><td>1.598799</td><td>0.849971</td><td>-1.098815</td><td>-0.901679</td><td>1.630351</td></tr><tr><td>1</td><td>-1.057764</td><td>0.698509</td><td>0.618437</td><td>-0.512101</td><td>0.241644</td><td>0.773841</td><td>0.215186</td><td>-0.115057</td><td>-0.267816</td><td>0.215217</td></tr></tbody></table></div>"
      ],
      "text/plain": [
       "shape: (5, 11)\n",
       "┌────────┬───────────┬───────────┬───────────┬───┬───────────┬───────────┬───────────┬───────────┐\n",
       "│ target ┆ column_0  ┆ column_1  ┆ column_2  ┆ … ┆ column_6  ┆ column_7  ┆ column_8  ┆ column_9  │\n",
       "│ ---    ┆ ---       ┆ ---       ┆ ---       ┆   ┆ ---       ┆ ---       ┆ ---       ┆ ---       │\n",
       "│ i32    ┆ f64       ┆ f64       ┆ f64       ┆   ┆ f64       ┆ f64       ┆ f64       ┆ f64       │\n",
       "╞════════╪═══════════╪═══════════╪═══════════╪═══╪═══════════╪═══════════╪═══════════╪═══════════╡\n",
       "│ 0      ┆ 0.880607  ┆ 1.333267  ┆ -0.66621  ┆ … ┆ -2.115968 ┆ -1.279214 ┆ -0.729238 ┆ -0.845485 │\n",
       "│ 0      ┆ -0.071313 ┆ 0.952163  ┆ -0.534734 ┆ … ┆ -0.898976 ┆ -1.097703 ┆ 0.303606  ┆ -0.550253 │\n",
       "│ 0      ┆ 0.254218  ┆ 0.406198  ┆ -0.329335 ┆ … ┆ -0.60601  ┆ -1.865102 ┆ 0.788766  ┆ -0.248592 │\n",
       "│ 1      ┆ 0.572025  ┆ -1.268996 ┆ 2.246255  ┆ … ┆ 0.849971  ┆ -1.098815 ┆ -0.901679 ┆ 1.630351  │\n",
       "│ 1      ┆ -1.057764 ┆ 0.698509  ┆ 0.618437  ┆ … ┆ 0.215186  ┆ -0.115057 ┆ -0.267816 ┆ 0.215217  │\n",
       "└────────┴───────────┴───────────┴───────────┴───┴───────────┴───────────┴───────────┴───────────┘"
      ]
     },
     "execution_count": 6,
     "metadata": {},
     "output_type": "execute_result"
    }
   ],
   "source": [
    "scaled = t.scale(df, cols=features, strategy=\"standard\")\n",
    "scaled.head()"
   ]
  },
  {
   "cell_type": "code",
   "execution_count": 7,
   "metadata": {},
   "outputs": [],
   "source": [
    "from sklearn.preprocessing import StandardScaler"
   ]
  },
  {
   "cell_type": "code",
   "execution_count": 8,
   "metadata": {},
   "outputs": [
    {
     "data": {
      "text/html": [
       "<div>\n",
       "<style scoped>\n",
       "    .dataframe tbody tr th:only-of-type {\n",
       "        vertical-align: middle;\n",
       "    }\n",
       "\n",
       "    .dataframe tbody tr th {\n",
       "        vertical-align: top;\n",
       "    }\n",
       "\n",
       "    .dataframe thead th {\n",
       "        text-align: right;\n",
       "    }\n",
       "</style>\n",
       "<table border=\"1\" class=\"dataframe\">\n",
       "  <thead>\n",
       "    <tr style=\"text-align: right;\">\n",
       "      <th></th>\n",
       "      <th>column_0</th>\n",
       "      <th>column_1</th>\n",
       "      <th>column_2</th>\n",
       "      <th>column_3</th>\n",
       "      <th>column_4</th>\n",
       "      <th>column_5</th>\n",
       "      <th>column_6</th>\n",
       "      <th>column_7</th>\n",
       "      <th>column_8</th>\n",
       "      <th>column_9</th>\n",
       "      <th>target</th>\n",
       "    </tr>\n",
       "  </thead>\n",
       "  <tbody>\n",
       "    <tr>\n",
       "      <th>0</th>\n",
       "      <td>0.880611</td>\n",
       "      <td>1.333273</td>\n",
       "      <td>-0.666214</td>\n",
       "      <td>-1.110487</td>\n",
       "      <td>-1.967200</td>\n",
       "      <td>-1.807419</td>\n",
       "      <td>-2.115978</td>\n",
       "      <td>-1.279220</td>\n",
       "      <td>-0.729241</td>\n",
       "      <td>-0.845489</td>\n",
       "      <td>0</td>\n",
       "    </tr>\n",
       "    <tr>\n",
       "      <th>1</th>\n",
       "      <td>-0.071314</td>\n",
       "      <td>0.952168</td>\n",
       "      <td>-0.534737</td>\n",
       "      <td>-0.818889</td>\n",
       "      <td>-1.322607</td>\n",
       "      <td>-0.928827</td>\n",
       "      <td>-0.898980</td>\n",
       "      <td>-1.097709</td>\n",
       "      <td>0.303607</td>\n",
       "      <td>-0.550255</td>\n",
       "      <td>0</td>\n",
       "    </tr>\n",
       "    <tr>\n",
       "      <th>2</th>\n",
       "      <td>0.254220</td>\n",
       "      <td>0.406200</td>\n",
       "      <td>-0.329336</td>\n",
       "      <td>-0.401458</td>\n",
       "      <td>-1.272828</td>\n",
       "      <td>-0.878136</td>\n",
       "      <td>-0.606013</td>\n",
       "      <td>-1.865111</td>\n",
       "      <td>0.788770</td>\n",
       "      <td>-0.248594</td>\n",
       "      <td>0</td>\n",
       "    </tr>\n",
       "    <tr>\n",
       "      <th>3</th>\n",
       "      <td>0.572028</td>\n",
       "      <td>-1.269002</td>\n",
       "      <td>2.246267</td>\n",
       "      <td>1.133261</td>\n",
       "      <td>1.595069</td>\n",
       "      <td>1.598807</td>\n",
       "      <td>0.849976</td>\n",
       "      <td>-1.098821</td>\n",
       "      <td>-0.901684</td>\n",
       "      <td>1.630359</td>\n",
       "      <td>1</td>\n",
       "    </tr>\n",
       "    <tr>\n",
       "      <th>4</th>\n",
       "      <td>-1.057769</td>\n",
       "      <td>0.698513</td>\n",
       "      <td>0.618440</td>\n",
       "      <td>-0.512103</td>\n",
       "      <td>0.241645</td>\n",
       "      <td>0.773845</td>\n",
       "      <td>0.215187</td>\n",
       "      <td>-0.115058</td>\n",
       "      <td>-0.267818</td>\n",
       "      <td>0.215218</td>\n",
       "      <td>1</td>\n",
       "    </tr>\n",
       "  </tbody>\n",
       "</table>\n",
       "</div>"
      ],
      "text/plain": [
       "   column_0  column_1  column_2  column_3  column_4  column_5  column_6   \n",
       "0  0.880611  1.333273 -0.666214 -1.110487 -1.967200 -1.807419 -2.115978  \\\n",
       "1 -0.071314  0.952168 -0.534737 -0.818889 -1.322607 -0.928827 -0.898980   \n",
       "2  0.254220  0.406200 -0.329336 -0.401458 -1.272828 -0.878136 -0.606013   \n",
       "3  0.572028 -1.269002  2.246267  1.133261  1.595069  1.598807  0.849976   \n",
       "4 -1.057769  0.698513  0.618440 -0.512103  0.241645  0.773845  0.215187   \n",
       "\n",
       "   column_7  column_8  column_9  target  \n",
       "0 -1.279220 -0.729241 -0.845489       0  \n",
       "1 -1.097709  0.303607 -0.550255       0  \n",
       "2 -1.865111  0.788770 -0.248594       0  \n",
       "3 -1.098821 -0.901684  1.630359       1  \n",
       "4 -0.115058 -0.267818  0.215218       1  "
      ]
     },
     "execution_count": 8,
     "metadata": {},
     "output_type": "execute_result"
    }
   ],
   "source": [
    "# The difference in result is caused by using ddof = 1 for sample variance in dsds\n",
    "# and using ddof = 0 in sklearn.\n",
    "\n",
    "# Long and convoluted code just to do some scaling...\n",
    "std = StandardScaler()\n",
    "scaled2 = std.fit_transform(df_pd[features], df_pd[target])\n",
    "# scaled2[:5, :] # scaled2 is a numpy matrix\n",
    "scaled2 = pd.DataFrame(scaled2, columns=features)\n",
    "scaled2[target] = df_pd[target]\n",
    "scaled2.head()"
   ]
  },
  {
   "cell_type": "code",
   "execution_count": 9,
   "metadata": {},
   "outputs": [
    {
     "name": "stdout",
     "output_type": "stream",
     "text": [
      "2.73 ms ± 134 µs per loop (mean ± std. dev. of 7 runs, 100 loops each)\n"
     ]
    }
   ],
   "source": [
    "%%timeit\n",
    "scaled = t.scale(df, cols=features, strategy=\"standard\")"
   ]
  },
  {
   "cell_type": "code",
   "execution_count": 10,
   "metadata": {},
   "outputs": [
    {
     "name": "stdout",
     "output_type": "stream",
     "text": [
      "13.7 ms ± 686 µs per loop (mean ± std. dev. of 7 runs, 100 loops each)\n"
     ]
    }
   ],
   "source": [
    "%%timeit\n",
    "std = StandardScaler()\n",
    "scaled2 = std.fit_transform(df_pd[features], df_pd[target])\n",
    "scaled2 = pd.DataFrame(scaled2, columns=features)\n",
    "scaled2[target] = df_pd[target]\n"
   ]
  },
  {
   "cell_type": "code",
   "execution_count": 11,
   "metadata": {},
   "outputs": [
    {
     "data": {
      "text/html": [
       "<div><style>\n",
       ".dataframe > thead > tr > th,\n",
       ".dataframe > tbody > tr > td {\n",
       "  text-align: right;\n",
       "}\n",
       "</style>\n",
       "<small>shape: (5, 11)</small><table border=\"1\" class=\"dataframe\"><thead><tr><th>target</th><th>column_0</th><th>column_1</th><th>column_2</th><th>column_3</th><th>column_4</th><th>column_5</th><th>column_6</th><th>column_7</th><th>column_8</th><th>column_9</th></tr><tr><td>i32</td><td>f64</td><td>f64</td><td>f64</td><td>f64</td><td>f64</td><td>f64</td><td>f64</td><td>f64</td><td>f64</td><td>f64</td></tr></thead><tbody><tr><td>0</td><td>0.917932</td><td>3.395753</td><td>-3.033801</td><td>-3.373439</td><td>-3.231625</td><td>-5.664714</td><td>-5.296789</td><td>-1.977015</td><td>-0.617106</td><td>-2.291159</td></tr><tr><td>0</td><td>-0.615102</td><td>2.570032</td><td>-2.660985</td><td>-2.744959</td><td>-2.174712</td><td>-3.225323</td><td>-2.264492</td><td>-1.696224</td><td>0.969224</td><td>-1.841991</td></tr><tr><td>0</td><td>-0.090845</td><td>1.387114</td><td>-2.078553</td><td>-1.84527</td><td>-2.093092</td><td>-3.08458</td><td>-1.534529</td><td>-2.883363</td><td>1.714375</td><td>-1.383043</td></tr><tr><td>1</td><td>0.420971</td><td>-2.242455</td><td>5.224822</td><td>1.462509</td><td>2.609278</td><td>3.792593</td><td>2.093241</td><td>-1.697945</td><td>-0.881956</td><td>1.475591</td></tr><tr><td>1</td><td>-2.203745</td><td>2.020452</td><td>0.608961</td><td>-2.083744</td><td>0.390127</td><td>1.502105</td><td>0.511588</td><td>-0.176106</td><td>0.091584</td><td>-0.677401</td></tr></tbody></table></div>"
      ],
      "text/plain": [
       "shape: (5, 11)\n",
       "┌────────┬───────────┬───────────┬───────────┬───┬───────────┬───────────┬───────────┬───────────┐\n",
       "│ target ┆ column_0  ┆ column_1  ┆ column_2  ┆ … ┆ column_6  ┆ column_7  ┆ column_8  ┆ column_9  │\n",
       "│ ---    ┆ ---       ┆ ---       ┆ ---       ┆   ┆ ---       ┆ ---       ┆ ---       ┆ ---       │\n",
       "│ i32    ┆ f64       ┆ f64       ┆ f64       ┆   ┆ f64       ┆ f64       ┆ f64       ┆ f64       │\n",
       "╞════════╪═══════════╪═══════════╪═══════════╪═══╪═══════════╪═══════════╪═══════════╪═══════════╡\n",
       "│ 0      ┆ 0.917932  ┆ 3.395753  ┆ -3.033801 ┆ … ┆ -5.296789 ┆ -1.977015 ┆ -0.617106 ┆ -2.291159 │\n",
       "│ 0      ┆ -0.615102 ┆ 2.570032  ┆ -2.660985 ┆ … ┆ -2.264492 ┆ -1.696224 ┆ 0.969224  ┆ -1.841991 │\n",
       "│ 0      ┆ -0.090845 ┆ 1.387114  ┆ -2.078553 ┆ … ┆ -1.534529 ┆ -2.883363 ┆ 1.714375  ┆ -1.383043 │\n",
       "│ 1      ┆ 0.420971  ┆ -2.242455 ┆ 5.224822  ┆ … ┆ 2.093241  ┆ -1.697945 ┆ -0.881956 ┆ 1.475591  │\n",
       "│ 1      ┆ -2.203745 ┆ 2.020452  ┆ 0.608961  ┆ … ┆ 0.511588  ┆ -0.176106 ┆ 0.091584  ┆ -0.677401 │\n",
       "└────────┴───────────┴───────────┴───────────┴───┴───────────┴───────────┴───────────┴───────────┘"
      ]
     },
     "execution_count": 11,
     "metadata": {},
     "output_type": "execute_result"
    }
   ],
   "source": [
    "t.impute(df, cols=features, strategy=\"median\").head() "
   ]
  },
  {
   "cell_type": "code",
   "execution_count": 12,
   "metadata": {},
   "outputs": [
    {
     "data": {
      "text/html": [
       "<div>\n",
       "<style scoped>\n",
       "    .dataframe tbody tr th:only-of-type {\n",
       "        vertical-align: middle;\n",
       "    }\n",
       "\n",
       "    .dataframe tbody tr th {\n",
       "        vertical-align: top;\n",
       "    }\n",
       "\n",
       "    .dataframe thead th {\n",
       "        text-align: right;\n",
       "    }\n",
       "</style>\n",
       "<table border=\"1\" class=\"dataframe\">\n",
       "  <thead>\n",
       "    <tr style=\"text-align: right;\">\n",
       "      <th></th>\n",
       "      <th>target</th>\n",
       "      <th>column_0</th>\n",
       "      <th>column_1</th>\n",
       "      <th>column_2</th>\n",
       "      <th>column_3</th>\n",
       "      <th>column_4</th>\n",
       "      <th>column_5</th>\n",
       "      <th>column_6</th>\n",
       "      <th>column_7</th>\n",
       "      <th>column_8</th>\n",
       "      <th>column_9</th>\n",
       "    </tr>\n",
       "  </thead>\n",
       "  <tbody>\n",
       "    <tr>\n",
       "      <th>0</th>\n",
       "      <td>0.0</td>\n",
       "      <td>0.917932</td>\n",
       "      <td>3.395753</td>\n",
       "      <td>-3.033801</td>\n",
       "      <td>-3.373439</td>\n",
       "      <td>-3.231625</td>\n",
       "      <td>-5.664714</td>\n",
       "      <td>-5.296789</td>\n",
       "      <td>-1.977015</td>\n",
       "      <td>-0.617106</td>\n",
       "      <td>-2.291159</td>\n",
       "    </tr>\n",
       "    <tr>\n",
       "      <th>1</th>\n",
       "      <td>0.0</td>\n",
       "      <td>-0.615102</td>\n",
       "      <td>2.570032</td>\n",
       "      <td>-2.660985</td>\n",
       "      <td>-2.744959</td>\n",
       "      <td>-2.174712</td>\n",
       "      <td>-3.225323</td>\n",
       "      <td>-2.264492</td>\n",
       "      <td>-1.696224</td>\n",
       "      <td>0.969224</td>\n",
       "      <td>-1.841991</td>\n",
       "    </tr>\n",
       "    <tr>\n",
       "      <th>2</th>\n",
       "      <td>0.0</td>\n",
       "      <td>-0.090845</td>\n",
       "      <td>1.387114</td>\n",
       "      <td>-2.078553</td>\n",
       "      <td>-1.845270</td>\n",
       "      <td>-2.093092</td>\n",
       "      <td>-3.084580</td>\n",
       "      <td>-1.534529</td>\n",
       "      <td>-2.883363</td>\n",
       "      <td>1.714375</td>\n",
       "      <td>-1.383043</td>\n",
       "    </tr>\n",
       "    <tr>\n",
       "      <th>3</th>\n",
       "      <td>1.0</td>\n",
       "      <td>0.420971</td>\n",
       "      <td>-2.242455</td>\n",
       "      <td>5.224822</td>\n",
       "      <td>1.462509</td>\n",
       "      <td>2.609278</td>\n",
       "      <td>3.792593</td>\n",
       "      <td>2.093241</td>\n",
       "      <td>-1.697945</td>\n",
       "      <td>-0.881956</td>\n",
       "      <td>1.475591</td>\n",
       "    </tr>\n",
       "    <tr>\n",
       "      <th>4</th>\n",
       "      <td>1.0</td>\n",
       "      <td>-2.203745</td>\n",
       "      <td>2.020452</td>\n",
       "      <td>0.608961</td>\n",
       "      <td>-2.083744</td>\n",
       "      <td>0.390127</td>\n",
       "      <td>1.502105</td>\n",
       "      <td>0.511588</td>\n",
       "      <td>-0.176106</td>\n",
       "      <td>0.091584</td>\n",
       "      <td>-0.677401</td>\n",
       "    </tr>\n",
       "  </tbody>\n",
       "</table>\n",
       "</div>"
      ],
      "text/plain": [
       "   target  column_0  column_1  column_2  column_3  column_4  column_5   \n",
       "0     0.0  0.917932  3.395753 -3.033801 -3.373439 -3.231625 -5.664714  \\\n",
       "1     0.0 -0.615102  2.570032 -2.660985 -2.744959 -2.174712 -3.225323   \n",
       "2     0.0 -0.090845  1.387114 -2.078553 -1.845270 -2.093092 -3.084580   \n",
       "3     1.0  0.420971 -2.242455  5.224822  1.462509  2.609278  3.792593   \n",
       "4     1.0 -2.203745  2.020452  0.608961 -2.083744  0.390127  1.502105   \n",
       "\n",
       "   column_6  column_7  column_8  column_9  \n",
       "0 -5.296789 -1.977015 -0.617106 -2.291159  \n",
       "1 -2.264492 -1.696224  0.969224 -1.841991  \n",
       "2 -1.534529 -2.883363  1.714375 -1.383043  \n",
       "3  2.093241 -1.697945 -0.881956  1.475591  \n",
       "4  0.511588 -0.176106  0.091584 -0.677401  "
      ]
     },
     "execution_count": 12,
     "metadata": {},
     "output_type": "execute_result"
    }
   ],
   "source": [
    "from sklearn.impute import SimpleImputer \n",
    "\n",
    "imputer = SimpleImputer(strategy = \"median\")\n",
    "imputed = pd.DataFrame(imputer.fit_transform(df_pd, df_pd[target]), columns=df.columns)\n",
    "imputed.head()"
   ]
  },
  {
   "cell_type": "code",
   "execution_count": 13,
   "metadata": {},
   "outputs": [
    {
     "name": "stdout",
     "output_type": "stream",
     "text": [
      "1.27 ms ± 20.2 µs per loop (mean ± std. dev. of 7 runs, 1,000 loops each)\n"
     ]
    }
   ],
   "source": [
    "%%timeit\n",
    "t.impute(df, cols=features, strategy=\"median\")"
   ]
  },
  {
   "cell_type": "code",
   "execution_count": 14,
   "metadata": {},
   "outputs": [
    {
     "name": "stdout",
     "output_type": "stream",
     "text": [
      "114 ms ± 388 µs per loop (mean ± std. dev. of 7 runs, 10 loops each)\n"
     ]
    }
   ],
   "source": [
    "%%timeit\n",
    "imputer = SimpleImputer(strategy = \"median\")\n",
    "imputed = pd.DataFrame(imputer.fit_transform(df_pd, df_pd[target]), columns=df.columns)"
   ]
  },
  {
   "attachments": {},
   "cell_type": "markdown",
   "metadata": {},
   "source": [
    "# Fscore"
   ]
  },
  {
   "cell_type": "code",
   "execution_count": 15,
   "metadata": {},
   "outputs": [],
   "source": [
    "import dsds.fs as fs # fs = feature_selection\n",
    "from sklearn.feature_selection import mutual_info_classif, f_classif, f_regression"
   ]
  },
  {
   "cell_type": "code",
   "execution_count": 16,
   "metadata": {},
   "outputs": [
    {
     "data": {
      "text/plain": [
       "array([1.02017433e+04, 1.24032529e+04, 4.39965363e+03, 1.41390263e+03,\n",
       "       5.75678286e+04, 2.57446403e+04, 5.20532620e+04, 3.44951164e-01,\n",
       "       1.15913839e+04, 3.24985962e+00])"
      ]
     },
     "execution_count": 16,
     "metadata": {},
     "output_type": "execute_result"
    }
   ],
   "source": [
    "fs._f_score(df, target=target, num_list = features)"
   ]
  },
  {
   "cell_type": "code",
   "execution_count": 17,
   "metadata": {},
   "outputs": [
    {
     "name": "stdout",
     "output_type": "stream",
     "text": [
      "Spent 0.00s in computing Fscore.\n"
     ]
    },
    {
     "data": {
      "text/html": [
       "<div><style>\n",
       ".dataframe > thead > tr > th,\n",
       ".dataframe > tbody > tr > td {\n",
       "  text-align: right;\n",
       "}\n",
       "</style>\n",
       "<small>shape: (10, 3)</small><table border=\"1\" class=\"dataframe\"><thead><tr><th>feature</th><th>f_value</th><th>p_value</th></tr><tr><td>str</td><td>f64</td><td>f64</td></tr></thead><tbody><tr><td>&quot;column_0&quot;</td><td>10201.74326</td><td>0.0</td></tr><tr><td>&quot;column_1&quot;</td><td>12403.252938</td><td>0.0</td></tr><tr><td>&quot;column_2&quot;</td><td>4399.653633</td><td>0.0</td></tr><tr><td>&quot;column_3&quot;</td><td>1413.902625</td><td>2.8493e-307</td></tr><tr><td>&quot;column_4&quot;</td><td>57567.828579</td><td>0.0</td></tr><tr><td>&quot;column_5&quot;</td><td>25744.640337</td><td>0.0</td></tr><tr><td>&quot;column_6&quot;</td><td>52053.261985</td><td>0.0</td></tr><tr><td>&quot;column_7&quot;</td><td>0.344951</td><td>0.556986</td></tr><tr><td>&quot;column_8&quot;</td><td>11591.383874</td><td>0.0</td></tr><tr><td>&quot;column_9&quot;</td><td>3.24986</td><td>0.071433</td></tr></tbody></table></div>"
      ],
      "text/plain": [
       "shape: (10, 3)\n",
       "┌──────────┬──────────────┬─────────────┐\n",
       "│ feature  ┆ f_value      ┆ p_value     │\n",
       "│ ---      ┆ ---          ┆ ---         │\n",
       "│ str      ┆ f64          ┆ f64         │\n",
       "╞══════════╪══════════════╪═════════════╡\n",
       "│ column_0 ┆ 10201.74326  ┆ 0.0         │\n",
       "│ column_1 ┆ 12403.252938 ┆ 0.0         │\n",
       "│ column_2 ┆ 4399.653633  ┆ 0.0         │\n",
       "│ column_3 ┆ 1413.902625  ┆ 2.8493e-307 │\n",
       "│ …        ┆ …            ┆ …           │\n",
       "│ column_6 ┆ 52053.261985 ┆ 0.0         │\n",
       "│ column_7 ┆ 0.344951     ┆ 0.556986    │\n",
       "│ column_8 ┆ 11591.383874 ┆ 0.0         │\n",
       "│ column_9 ┆ 3.24986      ┆ 0.071433    │\n",
       "└──────────┴──────────────┴─────────────┘"
      ]
     },
     "execution_count": 17,
     "metadata": {},
     "output_type": "execute_result"
    }
   ],
   "source": [
    "# The more core, the bigger the difference. Data here is not big enough to show the difference\n",
    "start = perf_counter()\n",
    "res = fs.f_classif(df, target=target)\n",
    "end = perf_counter()\n",
    "print(f\"Spent {end - start:.2f}s in computing Fscore.\")\n",
    "res.head(10)"
   ]
  },
  {
   "cell_type": "code",
   "execution_count": 18,
   "metadata": {},
   "outputs": [
    {
     "name": "stdout",
     "output_type": "stream",
     "text": [
      "Spent 0.02s in computing Fscore.\n"
     ]
    },
    {
     "data": {
      "text/html": [
       "<div>\n",
       "<style scoped>\n",
       "    .dataframe tbody tr th:only-of-type {\n",
       "        vertical-align: middle;\n",
       "    }\n",
       "\n",
       "    .dataframe tbody tr th {\n",
       "        vertical-align: top;\n",
       "    }\n",
       "\n",
       "    .dataframe thead th {\n",
       "        text-align: right;\n",
       "    }\n",
       "</style>\n",
       "<table border=\"1\" class=\"dataframe\">\n",
       "  <thead>\n",
       "    <tr style=\"text-align: right;\">\n",
       "      <th></th>\n",
       "      <th>feature</th>\n",
       "      <th>f_value</th>\n",
       "      <th>p_value</th>\n",
       "    </tr>\n",
       "  </thead>\n",
       "  <tbody>\n",
       "    <tr>\n",
       "      <th>0</th>\n",
       "      <td>column_0</td>\n",
       "      <td>10201.743260</td>\n",
       "      <td>0.000000e+00</td>\n",
       "    </tr>\n",
       "    <tr>\n",
       "      <th>1</th>\n",
       "      <td>column_1</td>\n",
       "      <td>12403.252938</td>\n",
       "      <td>0.000000e+00</td>\n",
       "    </tr>\n",
       "    <tr>\n",
       "      <th>2</th>\n",
       "      <td>column_2</td>\n",
       "      <td>4399.653633</td>\n",
       "      <td>0.000000e+00</td>\n",
       "    </tr>\n",
       "    <tr>\n",
       "      <th>3</th>\n",
       "      <td>column_3</td>\n",
       "      <td>1413.902625</td>\n",
       "      <td>2.849265e-307</td>\n",
       "    </tr>\n",
       "    <tr>\n",
       "      <th>4</th>\n",
       "      <td>column_4</td>\n",
       "      <td>57567.828579</td>\n",
       "      <td>0.000000e+00</td>\n",
       "    </tr>\n",
       "    <tr>\n",
       "      <th>5</th>\n",
       "      <td>column_5</td>\n",
       "      <td>25744.640337</td>\n",
       "      <td>0.000000e+00</td>\n",
       "    </tr>\n",
       "    <tr>\n",
       "      <th>6</th>\n",
       "      <td>column_6</td>\n",
       "      <td>52053.261985</td>\n",
       "      <td>0.000000e+00</td>\n",
       "    </tr>\n",
       "    <tr>\n",
       "      <th>7</th>\n",
       "      <td>column_7</td>\n",
       "      <td>0.344951</td>\n",
       "      <td>5.569865e-01</td>\n",
       "    </tr>\n",
       "    <tr>\n",
       "      <th>8</th>\n",
       "      <td>column_8</td>\n",
       "      <td>11591.383874</td>\n",
       "      <td>0.000000e+00</td>\n",
       "    </tr>\n",
       "    <tr>\n",
       "      <th>9</th>\n",
       "      <td>column_9</td>\n",
       "      <td>3.249860</td>\n",
       "      <td>7.143258e-02</td>\n",
       "    </tr>\n",
       "  </tbody>\n",
       "</table>\n",
       "</div>"
      ],
      "text/plain": [
       "    feature       f_value        p_value\n",
       "0  column_0  10201.743260   0.000000e+00\n",
       "1  column_1  12403.252938   0.000000e+00\n",
       "2  column_2   4399.653633   0.000000e+00\n",
       "3  column_3   1413.902625  2.849265e-307\n",
       "4  column_4  57567.828579   0.000000e+00\n",
       "5  column_5  25744.640337   0.000000e+00\n",
       "6  column_6  52053.261985   0.000000e+00\n",
       "7  column_7      0.344951   5.569865e-01\n",
       "8  column_8  11591.383874   0.000000e+00\n",
       "9  column_9      3.249860   7.143258e-02"
      ]
     },
     "execution_count": 18,
     "metadata": {},
     "output_type": "execute_result"
    }
   ],
   "source": [
    "start = perf_counter()\n",
    "f, pv = f_classif(df_pd[features], df_pd[target])\n",
    "res = pd.DataFrame({\"feature\":features, \"f_value\":f, \"p_value\":pv})\n",
    "end = perf_counter()\n",
    "print(f\"Spent {end - start:.2f}s in computing Fscore.\")\n",
    "res.head(10)"
   ]
  },
  {
   "cell_type": "code",
   "execution_count": 19,
   "metadata": {},
   "outputs": [
    {
     "name": "stdout",
     "output_type": "stream",
     "text": [
      "Spent  0.01s in computing Fscore.\n"
     ]
    },
    {
     "data": {
      "text/html": [
       "<div>\n",
       "<style scoped>\n",
       "    .dataframe tbody tr th:only-of-type {\n",
       "        vertical-align: middle;\n",
       "    }\n",
       "\n",
       "    .dataframe tbody tr th {\n",
       "        vertical-align: top;\n",
       "    }\n",
       "\n",
       "    .dataframe thead th {\n",
       "        text-align: right;\n",
       "    }\n",
       "</style>\n",
       "<table border=\"1\" class=\"dataframe\">\n",
       "  <thead>\n",
       "    <tr style=\"text-align: right;\">\n",
       "      <th></th>\n",
       "      <th>feature</th>\n",
       "      <th>f_value</th>\n",
       "      <th>p_value</th>\n",
       "    </tr>\n",
       "  </thead>\n",
       "  <tbody>\n",
       "    <tr>\n",
       "      <th>0</th>\n",
       "      <td>column_0</td>\n",
       "      <td>10201.743260</td>\n",
       "      <td>0.000000e+00</td>\n",
       "    </tr>\n",
       "    <tr>\n",
       "      <th>1</th>\n",
       "      <td>column_1</td>\n",
       "      <td>12403.252938</td>\n",
       "      <td>0.000000e+00</td>\n",
       "    </tr>\n",
       "    <tr>\n",
       "      <th>2</th>\n",
       "      <td>column_2</td>\n",
       "      <td>4399.653633</td>\n",
       "      <td>0.000000e+00</td>\n",
       "    </tr>\n",
       "    <tr>\n",
       "      <th>3</th>\n",
       "      <td>column_3</td>\n",
       "      <td>1413.902625</td>\n",
       "      <td>2.849265e-307</td>\n",
       "    </tr>\n",
       "    <tr>\n",
       "      <th>4</th>\n",
       "      <td>column_4</td>\n",
       "      <td>57567.828579</td>\n",
       "      <td>0.000000e+00</td>\n",
       "    </tr>\n",
       "    <tr>\n",
       "      <th>5</th>\n",
       "      <td>column_5</td>\n",
       "      <td>25744.640337</td>\n",
       "      <td>0.000000e+00</td>\n",
       "    </tr>\n",
       "    <tr>\n",
       "      <th>6</th>\n",
       "      <td>column_6</td>\n",
       "      <td>52053.261985</td>\n",
       "      <td>0.000000e+00</td>\n",
       "    </tr>\n",
       "    <tr>\n",
       "      <th>7</th>\n",
       "      <td>column_7</td>\n",
       "      <td>0.344951</td>\n",
       "      <td>5.569865e-01</td>\n",
       "    </tr>\n",
       "    <tr>\n",
       "      <th>8</th>\n",
       "      <td>column_8</td>\n",
       "      <td>11591.383874</td>\n",
       "      <td>0.000000e+00</td>\n",
       "    </tr>\n",
       "    <tr>\n",
       "      <th>9</th>\n",
       "      <td>column_9</td>\n",
       "      <td>3.249860</td>\n",
       "      <td>7.143258e-02</td>\n",
       "    </tr>\n",
       "  </tbody>\n",
       "</table>\n",
       "</div>"
      ],
      "text/plain": [
       "    feature       f_value        p_value\n",
       "0  column_0  10201.743260   0.000000e+00\n",
       "1  column_1  12403.252938   0.000000e+00\n",
       "2  column_2   4399.653633   0.000000e+00\n",
       "3  column_3   1413.902625  2.849265e-307\n",
       "4  column_4  57567.828579   0.000000e+00\n",
       "5  column_5  25744.640337   0.000000e+00\n",
       "6  column_6  52053.261985   0.000000e+00\n",
       "7  column_7      0.344951   5.569865e-01\n",
       "8  column_8  11591.383874   0.000000e+00\n",
       "9  column_9      3.249860   7.143258e-02"
      ]
     },
     "execution_count": 19,
     "metadata": {},
     "output_type": "execute_result"
    }
   ],
   "source": [
    "start = perf_counter()\n",
    "f, pv = f_regression(df_pd[features], df_pd[target])\n",
    "res = pd.DataFrame({\"feature\":features, \"f_value\":f, \"p_value\":pv})\n",
    "end = perf_counter()\n",
    "print(f\"Spent {end - start: .2f}s in computing Fscore.\")\n",
    "res.head(10)"
   ]
  },
  {
   "attachments": {},
   "cell_type": "markdown",
   "metadata": {},
   "source": [
    "# Mutual Information Score"
   ]
  },
  {
   "cell_type": "code",
   "execution_count": 20,
   "metadata": {},
   "outputs": [
    {
     "name": "stderr",
     "output_type": "stream",
     "text": [
      "Mutual Info: 100%|██████████| 10/10 [00:00<00:00, 13.22it/s]\n"
     ]
    },
    {
     "data": {
      "text/html": [
       "<div><style>\n",
       ".dataframe > thead > tr > th,\n",
       ".dataframe > tbody > tr > td {\n",
       "  text-align: right;\n",
       "}\n",
       "</style>\n",
       "<small>shape: (10, 2)</small><table border=\"1\" class=\"dataframe\"><thead><tr><th>feature</th><th>estimated_mi</th></tr><tr><td>str</td><td>f64</td></tr></thead><tbody><tr><td>&quot;column_6&quot;</td><td>0.262854</td></tr><tr><td>&quot;column_4&quot;</td><td>0.235594</td></tr><tr><td>&quot;column_5&quot;</td><td>0.134383</td></tr><tr><td>&quot;column_1&quot;</td><td>0.060619</td></tr><tr><td>&quot;column_8&quot;</td><td>0.057225</td></tr><tr><td>&quot;column_0&quot;</td><td>0.054333</td></tr><tr><td>&quot;column_2&quot;</td><td>0.025232</td></tr><tr><td>&quot;column_7&quot;</td><td>0.00989</td></tr><tr><td>&quot;column_3&quot;</td><td>0.007628</td></tr><tr><td>&quot;column_9&quot;</td><td>0.002848</td></tr></tbody></table></div>"
      ],
      "text/plain": [
       "shape: (10, 2)\n",
       "┌──────────┬──────────────┐\n",
       "│ feature  ┆ estimated_mi │\n",
       "│ ---      ┆ ---          │\n",
       "│ str      ┆ f64          │\n",
       "╞══════════╪══════════════╡\n",
       "│ column_6 ┆ 0.262854     │\n",
       "│ column_4 ┆ 0.235594     │\n",
       "│ column_5 ┆ 0.134383     │\n",
       "│ column_1 ┆ 0.060619     │\n",
       "│ …        ┆ …            │\n",
       "│ column_2 ┆ 0.025232     │\n",
       "│ column_7 ┆ 0.00989      │\n",
       "│ column_3 ┆ 0.007628     │\n",
       "│ column_9 ┆ 0.002848     │\n",
       "└──────────┴──────────────┘"
      ]
     },
     "execution_count": 20,
     "metadata": {},
     "output_type": "execute_result"
    }
   ],
   "source": [
    "# Vastly faster than sklearn. Finished in 0.7s in this run\n",
    "fs.mutual_info(df, target=target, conti_cols=features).sort(by=\"estimated_mi\", descending=True).limit(10)"
   ]
  },
  {
   "cell_type": "code",
   "execution_count": 21,
   "metadata": {},
   "outputs": [],
   "source": [
    "def estimate_mi_sklearn(df:pd.DataFrame, cols:list[str], target:str, k=3, random_state:int=42):\n",
    "    mi_estimates = mutual_info_classif(df[cols], df[target]\n",
    "                        , n_neighbors=k, random_state=random_state, discrete_features=False)\n",
    "\n",
    "    return pl.from_records([cols, mi_estimates], schema=[\"feature\", \"estimated_mi\"]).sort(\"estimated_mi\", descending=True)"
   ]
  },
  {
   "cell_type": "code",
   "execution_count": 22,
   "metadata": {},
   "outputs": [
    {
     "data": {
      "text/html": [
       "<div><style>\n",
       ".dataframe > thead > tr > th,\n",
       ".dataframe > tbody > tr > td {\n",
       "  text-align: right;\n",
       "}\n",
       "</style>\n",
       "<small>shape: (10, 2)</small><table border=\"1\" class=\"dataframe\"><thead><tr><th>feature</th><th>estimated_mi</th></tr><tr><td>str</td><td>f64</td></tr></thead><tbody><tr><td>&quot;column_6&quot;</td><td>0.262857</td></tr><tr><td>&quot;column_4&quot;</td><td>0.235594</td></tr><tr><td>&quot;column_5&quot;</td><td>0.134383</td></tr><tr><td>&quot;column_1&quot;</td><td>0.060619</td></tr><tr><td>&quot;column_8&quot;</td><td>0.057227</td></tr><tr><td>&quot;column_0&quot;</td><td>0.054333</td></tr><tr><td>&quot;column_2&quot;</td><td>0.025232</td></tr><tr><td>&quot;column_7&quot;</td><td>0.009889</td></tr><tr><td>&quot;column_3&quot;</td><td>0.007626</td></tr><tr><td>&quot;column_9&quot;</td><td>0.002848</td></tr></tbody></table></div>"
      ],
      "text/plain": [
       "shape: (10, 2)\n",
       "┌──────────┬──────────────┐\n",
       "│ feature  ┆ estimated_mi │\n",
       "│ ---      ┆ ---          │\n",
       "│ str      ┆ f64          │\n",
       "╞══════════╪══════════════╡\n",
       "│ column_6 ┆ 0.262857     │\n",
       "│ column_4 ┆ 0.235594     │\n",
       "│ column_5 ┆ 0.134383     │\n",
       "│ column_1 ┆ 0.060619     │\n",
       "│ …        ┆ …            │\n",
       "│ column_2 ┆ 0.025232     │\n",
       "│ column_7 ┆ 0.009889     │\n",
       "│ column_3 ┆ 0.007626     │\n",
       "│ column_9 ┆ 0.002848     │\n",
       "└──────────┴──────────────┘"
      ]
     },
     "execution_count": 22,
     "metadata": {},
     "output_type": "execute_result"
    }
   ],
   "source": [
    "# The reason sklearn's impl is slow is that it did not turn on multithreading for KDtrees.\n",
    "# Sklearn also did not provide an option to turn it on, despite the fact that sklearn's KDtrees\n",
    "# does have this functionality. Finished in 4.4s in this run\n",
    "estimate_mi_sklearn(df_pd, cols=features, target=target).limit(10)"
   ]
  },
  {
   "attachments": {},
   "cell_type": "markdown",
   "metadata": {},
   "source": [
    "# MRMR Feature selection Strategy"
   ]
  },
  {
   "cell_type": "code",
   "execution_count": 23,
   "metadata": {},
   "outputs": [],
   "source": [
    "from mrmr import mrmr_classif # This is currently the most starred MRMR Python package on github"
   ]
  },
  {
   "cell_type": "code",
   "execution_count": 24,
   "metadata": {},
   "outputs": [],
   "source": [
    "# Need to wrap it so that we get apples to apples comparison\n",
    "def mrmr_package(df:pd.DataFrame, target:str, k:int) -> list[str]:\n",
    "    features = list(df.columns)\n",
    "    features.remove(target)\n",
    "    X = df[features]\n",
    "    y = df[target]\n",
    "    start = perf_counter()\n",
    "    output = mrmr_classif(X, y, K = k)\n",
    "    end = perf_counter()\n",
    "    print(f\"Spent {end - start:.2f}s to compute mrmr.\")\n",
    "    return output"
   ]
  },
  {
   "cell_type": "code",
   "execution_count": 25,
   "metadata": {},
   "outputs": [
    {
     "name": "stderr",
     "output_type": "stream",
     "text": [
      "100%|██████████| 10/10 [00:05<00:00,  1.70it/s]"
     ]
    },
    {
     "name": "stdout",
     "output_type": "stream",
     "text": [
      "Spent 8.70s to compute mrmr.\n"
     ]
    },
    {
     "name": "stderr",
     "output_type": "stream",
     "text": [
      "\n"
     ]
    },
    {
     "data": {
      "text/plain": [
       "['column_4',\n",
       " 'column_8',\n",
       " 'column_6',\n",
       " 'column_5',\n",
       " 'column_0',\n",
       " 'column_1',\n",
       " 'column_2',\n",
       " 'column_3',\n",
       " 'column_9',\n",
       " 'column_7']"
      ]
     },
     "execution_count": 25,
     "metadata": {},
     "output_type": "execute_result"
    }
   ],
   "source": [
    "mrmr_package(df_pd, \"target\", 50)"
   ]
  },
  {
   "cell_type": "code",
   "execution_count": 26,
   "metadata": {},
   "outputs": [
    {
     "name": "stdout",
     "output_type": "stream",
     "text": [
      "Running fscore to determine feature relevance...\n",
      "Found 10 total features to select from. Proceeding to select top 10 features.\n"
     ]
    },
    {
     "name": "stderr",
     "output_type": "stream",
     "text": [
      "MRMR, fscore: 100%|██████████| 10/10 [00:00<00:00, 1999.48it/s]"
     ]
    },
    {
     "name": "stdout",
     "output_type": "stream",
     "text": [
      "Output is sorted in order of selection (max relevance min redundancy).\n",
      "Spent 0.02s in computing.\n"
     ]
    },
    {
     "name": "stderr",
     "output_type": "stream",
     "text": [
      "\n"
     ]
    },
    {
     "data": {
      "text/plain": [
       "['column_4',\n",
       " 'column_8',\n",
       " 'column_6',\n",
       " 'column_5',\n",
       " 'column_0',\n",
       " 'column_1',\n",
       " 'column_2',\n",
       " 'column_3',\n",
       " 'column_9',\n",
       " 'column_7']"
      ]
     },
     "execution_count": 26,
     "metadata": {},
     "output_type": "execute_result"
    }
   ],
   "source": [
    "start = perf_counter()\n",
    "res = fs.mrmr(df, target=\"target\", k = 50, low_memory=False)\n",
    "end = perf_counter()\n",
    "print(f\"Spent {end - start:.2f}s in computing.\")\n",
    "res"
   ]
  },
  {
   "cell_type": "code",
   "execution_count": 27,
   "metadata": {},
   "outputs": [
    {
     "name": "stdout",
     "output_type": "stream",
     "text": [
      "Running fscore to determine feature relevance...\n",
      "Found 10 total features to select from. Proceeding to select top 10 features.\n"
     ]
    },
    {
     "name": "stderr",
     "output_type": "stream",
     "text": [
      "MRMR, fscore: 100%|██████████| 10/10 [00:00<00:00, 526.17it/s]"
     ]
    },
    {
     "name": "stdout",
     "output_type": "stream",
     "text": [
      "Output is sorted in order of selection (max relevance min redundancy).\n",
      "Spent 0.03s in computing.\n"
     ]
    },
    {
     "name": "stderr",
     "output_type": "stream",
     "text": [
      "\n"
     ]
    },
    {
     "data": {
      "text/plain": [
       "['column_4',\n",
       " 'column_8',\n",
       " 'column_6',\n",
       " 'column_5',\n",
       " 'column_0',\n",
       " 'column_1',\n",
       " 'column_2',\n",
       " 'column_3',\n",
       " 'column_9',\n",
       " 'column_7']"
      ]
     },
     "execution_count": 27,
     "metadata": {},
     "output_type": "execute_result"
    }
   ],
   "source": [
    "start = perf_counter()\n",
    "res = fs.mrmr(df, target=\"target\", k = 50, low_memory=True)\n",
    "end = perf_counter()\n",
    "print(f\"Spent {end - start:.2f}s in computing.\")\n",
    "res"
   ]
  },
  {
   "attachments": {},
   "cell_type": "markdown",
   "metadata": {},
   "source": [
    "# Power Transform"
   ]
  },
  {
   "cell_type": "code",
   "execution_count": 28,
   "metadata": {},
   "outputs": [
    {
     "name": "stdout",
     "output_type": "stream",
     "text": [
      "Spent 0.23s in computing.\n"
     ]
    },
    {
     "data": {
      "text/html": [
       "<div><style>\n",
       ".dataframe > thead > tr > th,\n",
       ".dataframe > tbody > tr > td {\n",
       "  text-align: right;\n",
       "}\n",
       "</style>\n",
       "<small>shape: (5, 11)</small><table border=\"1\" class=\"dataframe\"><thead><tr><th>target</th><th>column_0</th><th>column_1</th><th>column_2</th><th>column_3</th><th>column_4</th><th>column_5</th><th>column_6</th><th>column_7</th><th>column_8</th><th>column_9</th></tr><tr><td>i32</td><td>f64</td><td>f64</td><td>f64</td><td>f64</td><td>f64</td><td>f64</td><td>f64</td><td>f64</td><td>f64</td><td>f64</td></tr></thead><tbody><tr><td>0</td><td>0.864847</td><td>3.435183</td><td>-3.153299</td><td>-3.436937</td><td>-2.897577</td><td>-4.785028</td><td>-4.0769</td><td>-2.049778</td><td>-0.605948</td><td>-2.308299</td></tr><tr><td>0</td><td>-0.642348</td><td>2.595</td><td>-2.757164</td><td>-2.790259</td><td>-1.998734</td><td>-2.855113</td><td>-1.936529</td><td>-1.752109</td><td>0.995407</td><td>-1.853833</td></tr><tr><td>0</td><td>-0.091515</td><td>1.395827</td><td>-2.142008</td><td>-1.868485</td><td>-1.927902</td><td>-2.739654</td><td>-1.362059</td><td>-3.020756</td><td>1.786407</td><td>-1.390254</td></tr><tr><td>1</td><td>0.408198</td><td>-2.222789</td><td>4.955917</td><td>1.447182</td><td>2.875639</td><td>4.35392</td><td>2.440398</td><td>-1.753928</td><td>-0.860575</td><td>1.467571</td></tr><tr><td>1</td><td>-2.47669</td><td>2.037121</td><td>0.601976</td><td>-2.112301</td><td>0.398657</td><td>1.617501</td><td>0.537919</td><td>-0.176931</td><td>0.091872</td><td>-0.679397</td></tr></tbody></table></div>"
      ],
      "text/plain": [
       "shape: (5, 11)\n",
       "┌────────┬───────────┬───────────┬───────────┬───┬───────────┬───────────┬───────────┬───────────┐\n",
       "│ target ┆ column_0  ┆ column_1  ┆ column_2  ┆ … ┆ column_6  ┆ column_7  ┆ column_8  ┆ column_9  │\n",
       "│ ---    ┆ ---       ┆ ---       ┆ ---       ┆   ┆ ---       ┆ ---       ┆ ---       ┆ ---       │\n",
       "│ i32    ┆ f64       ┆ f64       ┆ f64       ┆   ┆ f64       ┆ f64       ┆ f64       ┆ f64       │\n",
       "╞════════╪═══════════╪═══════════╪═══════════╪═══╪═══════════╪═══════════╪═══════════╪═══════════╡\n",
       "│ 0      ┆ 0.864847  ┆ 3.435183  ┆ -3.153299 ┆ … ┆ -4.0769   ┆ -2.049778 ┆ -0.605948 ┆ -2.308299 │\n",
       "│ 0      ┆ -0.642348 ┆ 2.595     ┆ -2.757164 ┆ … ┆ -1.936529 ┆ -1.752109 ┆ 0.995407  ┆ -1.853833 │\n",
       "│ 0      ┆ -0.091515 ┆ 1.395827  ┆ -2.142008 ┆ … ┆ -1.362059 ┆ -3.020756 ┆ 1.786407  ┆ -1.390254 │\n",
       "│ 1      ┆ 0.408198  ┆ -2.222789 ┆ 4.955917  ┆ … ┆ 2.440398  ┆ -1.753928 ┆ -0.860575 ┆ 1.467571  │\n",
       "│ 1      ┆ -2.47669  ┆ 2.037121  ┆ 0.601976  ┆ … ┆ 0.537919  ┆ -0.176931 ┆ 0.091872  ┆ -0.679397 │\n",
       "└────────┴───────────┴───────────┴───────────┴───┴───────────┴───────────┴───────────┴───────────┘"
      ]
     },
     "execution_count": 28,
     "metadata": {},
     "output_type": "execute_result"
    }
   ],
   "source": [
    "# Eager transform.\n",
    "start = perf_counter()\n",
    "res_eager = t.power_transform(df, cols=features, strategy=\"yeo_johnson\")\n",
    "end = perf_counter()\n",
    "print(f\"Spent {end - start:.2f}s in computing.\")\n",
    "res_eager.head() "
   ]
  },
  {
   "cell_type": "code",
   "execution_count": 29,
   "metadata": {},
   "outputs": [],
   "source": [
    "from sklearn.preprocessing import power_transform"
   ]
  },
  {
   "cell_type": "code",
   "execution_count": 30,
   "metadata": {},
   "outputs": [
    {
     "name": "stdout",
     "output_type": "stream",
     "text": [
      "Spent 0.69s in computing.\n"
     ]
    },
    {
     "data": {
      "text/html": [
       "<div>\n",
       "<style scoped>\n",
       "    .dataframe tbody tr th:only-of-type {\n",
       "        vertical-align: middle;\n",
       "    }\n",
       "\n",
       "    .dataframe tbody tr th {\n",
       "        vertical-align: top;\n",
       "    }\n",
       "\n",
       "    .dataframe thead th {\n",
       "        text-align: right;\n",
       "    }\n",
       "</style>\n",
       "<table border=\"1\" class=\"dataframe\">\n",
       "  <thead>\n",
       "    <tr style=\"text-align: right;\">\n",
       "      <th></th>\n",
       "      <th>target</th>\n",
       "      <th>column_0</th>\n",
       "      <th>column_1</th>\n",
       "      <th>column_2</th>\n",
       "      <th>column_3</th>\n",
       "      <th>column_4</th>\n",
       "      <th>column_5</th>\n",
       "      <th>column_6</th>\n",
       "      <th>column_7</th>\n",
       "      <th>column_8</th>\n",
       "      <th>column_9</th>\n",
       "    </tr>\n",
       "  </thead>\n",
       "  <tbody>\n",
       "    <tr>\n",
       "      <th>0</th>\n",
       "      <td>0</td>\n",
       "      <td>0.864847</td>\n",
       "      <td>3.435183</td>\n",
       "      <td>-3.153299</td>\n",
       "      <td>-3.436937</td>\n",
       "      <td>-2.897577</td>\n",
       "      <td>-4.785028</td>\n",
       "      <td>-4.076900</td>\n",
       "      <td>-2.049778</td>\n",
       "      <td>-0.605948</td>\n",
       "      <td>-2.308299</td>\n",
       "    </tr>\n",
       "    <tr>\n",
       "      <th>1</th>\n",
       "      <td>0</td>\n",
       "      <td>-0.642348</td>\n",
       "      <td>2.595000</td>\n",
       "      <td>-2.757164</td>\n",
       "      <td>-2.790259</td>\n",
       "      <td>-1.998734</td>\n",
       "      <td>-2.855113</td>\n",
       "      <td>-1.936529</td>\n",
       "      <td>-1.752109</td>\n",
       "      <td>0.995407</td>\n",
       "      <td>-1.853833</td>\n",
       "    </tr>\n",
       "    <tr>\n",
       "      <th>2</th>\n",
       "      <td>0</td>\n",
       "      <td>-0.091515</td>\n",
       "      <td>1.395827</td>\n",
       "      <td>-2.142008</td>\n",
       "      <td>-1.868485</td>\n",
       "      <td>-1.927902</td>\n",
       "      <td>-2.739654</td>\n",
       "      <td>-1.362059</td>\n",
       "      <td>-3.020756</td>\n",
       "      <td>1.786407</td>\n",
       "      <td>-1.390254</td>\n",
       "    </tr>\n",
       "    <tr>\n",
       "      <th>3</th>\n",
       "      <td>1</td>\n",
       "      <td>0.408198</td>\n",
       "      <td>-2.222789</td>\n",
       "      <td>4.955917</td>\n",
       "      <td>1.447182</td>\n",
       "      <td>2.875639</td>\n",
       "      <td>4.353920</td>\n",
       "      <td>2.440398</td>\n",
       "      <td>-1.753928</td>\n",
       "      <td>-0.860575</td>\n",
       "      <td>1.467571</td>\n",
       "    </tr>\n",
       "    <tr>\n",
       "      <th>4</th>\n",
       "      <td>1</td>\n",
       "      <td>-2.476690</td>\n",
       "      <td>2.037121</td>\n",
       "      <td>0.601976</td>\n",
       "      <td>-2.112301</td>\n",
       "      <td>0.398657</td>\n",
       "      <td>1.617501</td>\n",
       "      <td>0.537919</td>\n",
       "      <td>-0.176931</td>\n",
       "      <td>0.091872</td>\n",
       "      <td>-0.679397</td>\n",
       "    </tr>\n",
       "  </tbody>\n",
       "</table>\n",
       "</div>"
      ],
      "text/plain": [
       "   target  column_0  column_1  column_2  column_3  column_4  column_5   \n",
       "0       0  0.864847  3.435183 -3.153299 -3.436937 -2.897577 -4.785028  \\\n",
       "1       0 -0.642348  2.595000 -2.757164 -2.790259 -1.998734 -2.855113   \n",
       "2       0 -0.091515  1.395827 -2.142008 -1.868485 -1.927902 -2.739654   \n",
       "3       1  0.408198 -2.222789  4.955917  1.447182  2.875639  4.353920   \n",
       "4       1 -2.476690  2.037121  0.601976 -2.112301  0.398657  1.617501   \n",
       "\n",
       "   column_6  column_7  column_8  column_9  \n",
       "0 -4.076900 -2.049778 -0.605948 -2.308299  \n",
       "1 -1.936529 -1.752109  0.995407 -1.853833  \n",
       "2 -1.362059 -3.020756  1.786407 -1.390254  \n",
       "3  2.440398 -1.753928 -0.860575  1.467571  \n",
       "4  0.537919 -0.176931  0.091872 -0.679397  "
      ]
     },
     "execution_count": 30,
     "metadata": {},
     "output_type": "execute_result"
    }
   ],
   "source": [
    "# Sklearn with Pandas\n",
    "\n",
    "start = perf_counter()\n",
    "transformed = power_transform(df_pd[features], method = \"yeo-johnson\", standardize=False)\n",
    "end = perf_counter()\n",
    "df_pd[features] = transformed\n",
    "print(f\"Spent {end - start:.2f}s in computing.\")\n",
    "df_pd.head()\n"
   ]
  },
  {
   "attachments": {},
   "cell_type": "markdown",
   "metadata": {},
   "source": [
    "# GC"
   ]
  },
  {
   "cell_type": "code",
   "execution_count": 31,
   "metadata": {},
   "outputs": [
    {
     "data": {
      "text/plain": [
       "0"
      ]
     },
     "execution_count": 31,
     "metadata": {},
     "output_type": "execute_result"
    }
   ],
   "source": [
    "import gc \n",
    "gc.collect()"
   ]
  },
  {
   "cell_type": "code",
   "execution_count": null,
   "metadata": {},
   "outputs": [],
   "source": []
  }
 ],
 "metadata": {
  "kernelspec": {
   "display_name": "my_py11",
   "language": "python",
   "name": "python3"
  },
  "language_info": {
   "codemirror_mode": {
    "name": "ipython",
    "version": 3
   },
   "file_extension": ".py",
   "mimetype": "text/x-python",
   "name": "python",
   "nbconvert_exporter": "python",
   "pygments_lexer": "ipython3",
   "version": "3.11.3"
  },
  "orig_nbformat": 4
 },
 "nbformat": 4,
 "nbformat_minor": 2
}
