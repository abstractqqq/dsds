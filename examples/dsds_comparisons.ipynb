{
 "cells": [
  {
   "cell_type": "code",
   "execution_count": 1,
   "metadata": {},
   "outputs": [],
   "source": [
    "import polars as pl\n",
    "import pandas as pd\n",
    "import numpy as np\n",
    "from sklearn.datasets import make_classification\n",
    "from time import perf_counter\n"
   ]
  },
  {
   "cell_type": "code",
   "execution_count": 2,
   "metadata": {},
   "outputs": [],
   "source": [
    "orig_x, orig_y = make_classification(n_samples = 100_000, n_features = 10, n_informative = 5, n_redundant = 5)\n",
    "# This is a Polars dataframe. This is dsds package's favored dataframe. dsds relies on Polars heavily.\n",
    "# You must turn other dataframe formats into Polars for dsds to work.\n",
    "df = pl.from_numpy(orig_x).insert_at_idx(0, pl.Series(\"target\", orig_y)) \n",
    "# Turn it into Pandas.\n",
    "df_pd = df.to_pandas()\n",
    "target = \"target\"\n",
    "features = df.columns\n",
    "features.remove(target)"
   ]
  },
  {
   "cell_type": "code",
   "execution_count": 3,
   "metadata": {},
   "outputs": [
    {
     "data": {
      "text/html": [
       "<div><style>\n",
       ".dataframe > thead > tr > th,\n",
       ".dataframe > tbody > tr > td {\n",
       "  text-align: right;\n",
       "}\n",
       "</style>\n",
       "<small>shape: (5, 11)</small><table border=\"1\" class=\"dataframe\"><thead><tr><th>target</th><th>column_0</th><th>column_1</th><th>column_2</th><th>column_3</th><th>column_4</th><th>column_5</th><th>column_6</th><th>column_7</th><th>column_8</th><th>column_9</th></tr><tr><td>i32</td><td>f64</td><td>f64</td><td>f64</td><td>f64</td><td>f64</td><td>f64</td><td>f64</td><td>f64</td><td>f64</td><td>f64</td></tr></thead><tbody><tr><td>0</td><td>-1.425278</td><td>0.896281</td><td>0.65712</td><td>-1.287397</td><td>-0.140885</td><td>-0.304476</td><td>-0.875095</td><td>-0.726022</td><td>0.705475</td><td>1.131476</td></tr><tr><td>1</td><td>2.410247</td><td>-0.872861</td><td>2.331392</td><td>-0.842593</td><td>2.490535</td><td>-0.216106</td><td>-1.024068</td><td>-1.384413</td><td>2.948725</td><td>-1.236277</td></tr><tr><td>1</td><td>-3.664988</td><td>0.63686</td><td>-3.076659</td><td>0.591886</td><td>-0.717415</td><td>0.788134</td><td>-1.601459</td><td>0.948254</td><td>-1.223703</td><td>2.409829</td></tr><tr><td>0</td><td>0.735667</td><td>-1.961367</td><td>-0.442005</td><td>1.462097</td><td>1.005657</td><td>-0.133928</td><td>0.042314</td><td>-2.020835</td><td>-0.308752</td><td>0.927343</td></tr><tr><td>1</td><td>0.795572</td><td>-2.283703</td><td>-0.79205</td><td>1.310753</td><td>3.036701</td><td>-0.086737</td><td>-2.200954</td><td>-2.324223</td><td>2.238866</td><td>1.604933</td></tr></tbody></table></div>"
      ],
      "text/plain": [
       "shape: (5, 11)\n",
       "┌────────┬───────────┬───────────┬───────────┬───┬───────────┬───────────┬───────────┬───────────┐\n",
       "│ target ┆ column_0  ┆ column_1  ┆ column_2  ┆ … ┆ column_6  ┆ column_7  ┆ column_8  ┆ column_9  │\n",
       "│ ---    ┆ ---       ┆ ---       ┆ ---       ┆   ┆ ---       ┆ ---       ┆ ---       ┆ ---       │\n",
       "│ i32    ┆ f64       ┆ f64       ┆ f64       ┆   ┆ f64       ┆ f64       ┆ f64       ┆ f64       │\n",
       "╞════════╪═══════════╪═══════════╪═══════════╪═══╪═══════════╪═══════════╪═══════════╪═══════════╡\n",
       "│ 0      ┆ -1.425278 ┆ 0.896281  ┆ 0.65712   ┆ … ┆ -0.875095 ┆ -0.726022 ┆ 0.705475  ┆ 1.131476  │\n",
       "│ 1      ┆ 2.410247  ┆ -0.872861 ┆ 2.331392  ┆ … ┆ -1.024068 ┆ -1.384413 ┆ 2.948725  ┆ -1.236277 │\n",
       "│ 1      ┆ -3.664988 ┆ 0.63686   ┆ -3.076659 ┆ … ┆ -1.601459 ┆ 0.948254  ┆ -1.223703 ┆ 2.409829  │\n",
       "│ 0      ┆ 0.735667  ┆ -1.961367 ┆ -0.442005 ┆ … ┆ 0.042314  ┆ -2.020835 ┆ -0.308752 ┆ 0.927343  │\n",
       "│ 1      ┆ 0.795572  ┆ -2.283703 ┆ -0.79205  ┆ … ┆ -2.200954 ┆ -2.324223 ┆ 2.238866  ┆ 1.604933  │\n",
       "└────────┴───────────┴───────────┴───────────┴───┴───────────┴───────────┴───────────┴───────────┘"
      ]
     },
     "execution_count": 3,
     "metadata": {},
     "output_type": "execute_result"
    }
   ],
   "source": [
    "df.head()"
   ]
  },
  {
   "attachments": {},
   "cell_type": "markdown",
   "metadata": {},
   "source": [
    "## Comparisons\n",
    "\n",
    "This notebook compares results and performance between the dsds package, sklearn and some other packages for feature selection and some other transformations common in the data science pipeline.\n",
    "\n",
    "### Methods Compared:\n",
    "1. Scaling and Imputation\n",
    "2. Fscore\n",
    "3. Mutual Information Score\n",
    "4. MRMR feature selection strategies\n",
    "5. Power Transform\n",
    "\n",
    "You may restart the kernel after each section. But remember to rerun the cells above. If you are concerned about memory usage when running this notebook, go to the end and run the gc cell."
   ]
  },
  {
   "attachments": {},
   "cell_type": "markdown",
   "metadata": {},
   "source": [
    "# Scaling and Imputation"
   ]
  },
  {
   "cell_type": "code",
   "execution_count": 4,
   "metadata": {},
   "outputs": [],
   "source": [
    "import dsds.transform as t"
   ]
  },
  {
   "cell_type": "code",
   "execution_count": 5,
   "metadata": {},
   "outputs": [],
   "source": [
    "features = df.columns\n",
    "features.remove(\"target\")"
   ]
  },
  {
   "cell_type": "code",
   "execution_count": 6,
   "metadata": {},
   "outputs": [
    {
     "data": {
      "text/html": [
       "<div><style>\n",
       ".dataframe > thead > tr > th,\n",
       ".dataframe > tbody > tr > td {\n",
       "  text-align: right;\n",
       "}\n",
       "</style>\n",
       "<small>shape: (5, 11)</small><table border=\"1\" class=\"dataframe\"><thead><tr><th>target</th><th>column_0</th><th>column_1</th><th>column_2</th><th>column_3</th><th>column_4</th><th>column_5</th><th>column_6</th><th>column_7</th><th>column_8</th><th>column_9</th></tr><tr><td>i32</td><td>f64</td><td>f64</td><td>f64</td><td>f64</td><td>f64</td><td>f64</td><td>f64</td><td>f64</td><td>f64</td><td>f64</td></tr></thead><tbody><tr><td>0</td><td>-0.562045</td><td>0.703683</td><td>0.594768</td><td>-0.796847</td><td>-0.723448</td><td>-0.686735</td><td>0.115639</td><td>-0.472</td><td>0.145828</td><td>0.733403</td></tr><tr><td>1</td><td>1.360175</td><td>-0.36602</td><td>1.694854</td><td>-0.520007</td><td>1.203624</td><td>-0.613754</td><td>-0.019663</td><td>-0.898988</td><td>1.746528</td><td>-0.801566</td></tr><tr><td>1</td><td>-1.684503</td><td>0.546825</td><td>-1.858526</td><td>0.372794</td><td>-1.14566</td><td>0.215598</td><td>-0.544064</td><td>0.61382</td><td>-1.230761</td><td>1.562135</td></tr><tr><td>0</td><td>0.520939</td><td>-1.024181</td><td>-0.127417</td><td>0.914401</td><td>0.1162</td><td>-0.545888</td><td>0.948854</td><td>-1.311727</td><td>-0.577886</td><td>0.601067</td></tr><tr><td>1</td><td>0.550961</td><td>-1.21908</td><td>-0.357415</td><td>0.820207</td><td>1.603598</td><td>-0.506916</td><td>-1.088541</td><td>-1.508483</td><td>1.239999</td><td>1.040336</td></tr></tbody></table></div>"
      ],
      "text/plain": [
       "shape: (5, 11)\n",
       "┌────────┬───────────┬───────────┬───────────┬───┬───────────┬───────────┬───────────┬───────────┐\n",
       "│ target ┆ column_0  ┆ column_1  ┆ column_2  ┆ … ┆ column_6  ┆ column_7  ┆ column_8  ┆ column_9  │\n",
       "│ ---    ┆ ---       ┆ ---       ┆ ---       ┆   ┆ ---       ┆ ---       ┆ ---       ┆ ---       │\n",
       "│ i32    ┆ f64       ┆ f64       ┆ f64       ┆   ┆ f64       ┆ f64       ┆ f64       ┆ f64       │\n",
       "╞════════╪═══════════╪═══════════╪═══════════╪═══╪═══════════╪═══════════╪═══════════╪═══════════╡\n",
       "│ 0      ┆ -0.562045 ┆ 0.703683  ┆ 0.594768  ┆ … ┆ 0.115639  ┆ -0.472    ┆ 0.145828  ┆ 0.733403  │\n",
       "│ 1      ┆ 1.360175  ┆ -0.36602  ┆ 1.694854  ┆ … ┆ -0.019663 ┆ -0.898988 ┆ 1.746528  ┆ -0.801566 │\n",
       "│ 1      ┆ -1.684503 ┆ 0.546825  ┆ -1.858526 ┆ … ┆ -0.544064 ┆ 0.61382   ┆ -1.230761 ┆ 1.562135  │\n",
       "│ 0      ┆ 0.520939  ┆ -1.024181 ┆ -0.127417 ┆ … ┆ 0.948854  ┆ -1.311727 ┆ -0.577886 ┆ 0.601067  │\n",
       "│ 1      ┆ 0.550961  ┆ -1.21908  ┆ -0.357415 ┆ … ┆ -1.088541 ┆ -1.508483 ┆ 1.239999  ┆ 1.040336  │\n",
       "└────────┴───────────┴───────────┴───────────┴───┴───────────┴───────────┴───────────┴───────────┘"
      ]
     },
     "execution_count": 6,
     "metadata": {},
     "output_type": "execute_result"
    }
   ],
   "source": [
    "scaled = t.scale(df, cols=features, strategy=\"standard\")\n",
    "scaled.head()"
   ]
  },
  {
   "cell_type": "code",
   "execution_count": 7,
   "metadata": {},
   "outputs": [],
   "source": [
    "from sklearn.preprocessing import StandardScaler"
   ]
  },
  {
   "cell_type": "code",
   "execution_count": 8,
   "metadata": {},
   "outputs": [
    {
     "data": {
      "text/html": [
       "<div>\n",
       "<style scoped>\n",
       "    .dataframe tbody tr th:only-of-type {\n",
       "        vertical-align: middle;\n",
       "    }\n",
       "\n",
       "    .dataframe tbody tr th {\n",
       "        vertical-align: top;\n",
       "    }\n",
       "\n",
       "    .dataframe thead th {\n",
       "        text-align: right;\n",
       "    }\n",
       "</style>\n",
       "<table border=\"1\" class=\"dataframe\">\n",
       "  <thead>\n",
       "    <tr style=\"text-align: right;\">\n",
       "      <th></th>\n",
       "      <th>column_0</th>\n",
       "      <th>column_1</th>\n",
       "      <th>column_2</th>\n",
       "      <th>column_3</th>\n",
       "      <th>column_4</th>\n",
       "      <th>column_5</th>\n",
       "      <th>column_6</th>\n",
       "      <th>column_7</th>\n",
       "      <th>column_8</th>\n",
       "      <th>column_9</th>\n",
       "      <th>target</th>\n",
       "    </tr>\n",
       "  </thead>\n",
       "  <tbody>\n",
       "    <tr>\n",
       "      <th>0</th>\n",
       "      <td>-0.562048</td>\n",
       "      <td>0.703687</td>\n",
       "      <td>0.594771</td>\n",
       "      <td>-0.796851</td>\n",
       "      <td>-0.723452</td>\n",
       "      <td>-0.686739</td>\n",
       "      <td>0.115639</td>\n",
       "      <td>-0.472003</td>\n",
       "      <td>0.145829</td>\n",
       "      <td>0.733406</td>\n",
       "      <td>0</td>\n",
       "    </tr>\n",
       "    <tr>\n",
       "      <th>1</th>\n",
       "      <td>1.360182</td>\n",
       "      <td>-0.366022</td>\n",
       "      <td>1.694863</td>\n",
       "      <td>-0.520010</td>\n",
       "      <td>1.203630</td>\n",
       "      <td>-0.613757</td>\n",
       "      <td>-0.019663</td>\n",
       "      <td>-0.898992</td>\n",
       "      <td>1.746537</td>\n",
       "      <td>-0.801570</td>\n",
       "      <td>1</td>\n",
       "    </tr>\n",
       "    <tr>\n",
       "      <th>2</th>\n",
       "      <td>-1.684512</td>\n",
       "      <td>0.546828</td>\n",
       "      <td>-1.858536</td>\n",
       "      <td>0.372796</td>\n",
       "      <td>-1.145665</td>\n",
       "      <td>0.215599</td>\n",
       "      <td>-0.544067</td>\n",
       "      <td>0.613823</td>\n",
       "      <td>-1.230767</td>\n",
       "      <td>1.562143</td>\n",
       "      <td>1</td>\n",
       "    </tr>\n",
       "    <tr>\n",
       "      <th>3</th>\n",
       "      <td>0.520941</td>\n",
       "      <td>-1.024186</td>\n",
       "      <td>-0.127418</td>\n",
       "      <td>0.914406</td>\n",
       "      <td>0.116201</td>\n",
       "      <td>-0.545890</td>\n",
       "      <td>0.948858</td>\n",
       "      <td>-1.311733</td>\n",
       "      <td>-0.577889</td>\n",
       "      <td>0.601070</td>\n",
       "      <td>0</td>\n",
       "    </tr>\n",
       "    <tr>\n",
       "      <th>4</th>\n",
       "      <td>0.550964</td>\n",
       "      <td>-1.219086</td>\n",
       "      <td>-0.357417</td>\n",
       "      <td>0.820211</td>\n",
       "      <td>1.603606</td>\n",
       "      <td>-0.506918</td>\n",
       "      <td>-1.088546</td>\n",
       "      <td>-1.508490</td>\n",
       "      <td>1.240005</td>\n",
       "      <td>1.040341</td>\n",
       "      <td>1</td>\n",
       "    </tr>\n",
       "  </tbody>\n",
       "</table>\n",
       "</div>"
      ],
      "text/plain": [
       "   column_0  column_1  column_2  column_3  column_4  column_5  column_6   \n",
       "0 -0.562048  0.703687  0.594771 -0.796851 -0.723452 -0.686739  0.115639  \\\n",
       "1  1.360182 -0.366022  1.694863 -0.520010  1.203630 -0.613757 -0.019663   \n",
       "2 -1.684512  0.546828 -1.858536  0.372796 -1.145665  0.215599 -0.544067   \n",
       "3  0.520941 -1.024186 -0.127418  0.914406  0.116201 -0.545890  0.948858   \n",
       "4  0.550964 -1.219086 -0.357417  0.820211  1.603606 -0.506918 -1.088546   \n",
       "\n",
       "   column_7  column_8  column_9  target  \n",
       "0 -0.472003  0.145829  0.733406       0  \n",
       "1 -0.898992  1.746537 -0.801570       1  \n",
       "2  0.613823 -1.230767  1.562143       1  \n",
       "3 -1.311733 -0.577889  0.601070       0  \n",
       "4 -1.508490  1.240005  1.040341       1  "
      ]
     },
     "execution_count": 8,
     "metadata": {},
     "output_type": "execute_result"
    }
   ],
   "source": [
    "# The difference in result is caused by using ddof = 1 for sample variance in dsds\n",
    "# and using ddof = 0 in sklearn.\n",
    "\n",
    "# Long and convoluted code just to do some scaling...\n",
    "std = StandardScaler()\n",
    "scaled2 = std.fit_transform(df_pd[features], df_pd[target])\n",
    "# scaled2[:5, :] # scaled2 is a numpy matrix\n",
    "scaled2 = pd.DataFrame(scaled2, columns=features)\n",
    "scaled2[target] = df_pd[target]\n",
    "scaled2.head()"
   ]
  },
  {
   "cell_type": "code",
   "execution_count": 9,
   "metadata": {},
   "outputs": [
    {
     "name": "stdout",
     "output_type": "stream",
     "text": [
      "2.79 ms ± 89.9 µs per loop (mean ± std. dev. of 7 runs, 100 loops each)\n"
     ]
    }
   ],
   "source": [
    "%%timeit\n",
    "scaled = t.scale(df, cols=features, strategy=\"standard\")"
   ]
  },
  {
   "cell_type": "code",
   "execution_count": 10,
   "metadata": {},
   "outputs": [
    {
     "name": "stdout",
     "output_type": "stream",
     "text": [
      "13.4 ms ± 422 µs per loop (mean ± std. dev. of 7 runs, 100 loops each)\n"
     ]
    }
   ],
   "source": [
    "%%timeit\n",
    "std = StandardScaler()\n",
    "scaled2 = std.fit_transform(df_pd[features], df_pd[target])\n",
    "scaled2 = pd.DataFrame(scaled2, columns=features)\n",
    "scaled2[target] = df_pd[target]\n"
   ]
  },
  {
   "cell_type": "code",
   "execution_count": 11,
   "metadata": {},
   "outputs": [
    {
     "data": {
      "text/html": [
       "<div><style>\n",
       ".dataframe > thead > tr > th,\n",
       ".dataframe > tbody > tr > td {\n",
       "  text-align: right;\n",
       "}\n",
       "</style>\n",
       "<small>shape: (3, 11)</small><table border=\"1\" class=\"dataframe\"><thead><tr><th>target</th><th>column_0</th><th>column_1</th><th>column_2</th><th>column_3</th><th>column_4</th><th>column_5</th><th>column_6</th><th>column_7</th><th>column_8</th><th>column_9</th></tr><tr><td>i32</td><td>f64</td><td>f64</td><td>f64</td><td>f64</td><td>f64</td><td>f64</td><td>f64</td><td>f64</td><td>f64</td><td>f64</td></tr></thead><tbody><tr><td>0</td><td>-1.425278</td><td>0.896281</td><td>0.65712</td><td>-1.287397</td><td>-0.140885</td><td>-0.304476</td><td>-0.875095</td><td>-0.726022</td><td>0.705475</td><td>1.131476</td></tr><tr><td>1</td><td>2.410247</td><td>-0.872861</td><td>2.331392</td><td>-0.842593</td><td>2.490535</td><td>-0.216106</td><td>-1.024068</td><td>-1.384413</td><td>2.948725</td><td>-1.236277</td></tr><tr><td>1</td><td>-3.664988</td><td>0.63686</td><td>-3.076659</td><td>0.591886</td><td>-0.717415</td><td>0.788134</td><td>-1.601459</td><td>0.948254</td><td>-1.223703</td><td>2.409829</td></tr></tbody></table></div>"
      ],
      "text/plain": [
       "shape: (3, 11)\n",
       "┌────────┬───────────┬───────────┬───────────┬───┬───────────┬───────────┬───────────┬───────────┐\n",
       "│ target ┆ column_0  ┆ column_1  ┆ column_2  ┆ … ┆ column_6  ┆ column_7  ┆ column_8  ┆ column_9  │\n",
       "│ ---    ┆ ---       ┆ ---       ┆ ---       ┆   ┆ ---       ┆ ---       ┆ ---       ┆ ---       │\n",
       "│ i32    ┆ f64       ┆ f64       ┆ f64       ┆   ┆ f64       ┆ f64       ┆ f64       ┆ f64       │\n",
       "╞════════╪═══════════╪═══════════╪═══════════╪═══╪═══════════╪═══════════╪═══════════╪═══════════╡\n",
       "│ 0      ┆ -1.425278 ┆ 0.896281  ┆ 0.65712   ┆ … ┆ -0.875095 ┆ -0.726022 ┆ 0.705475  ┆ 1.131476  │\n",
       "│ 1      ┆ 2.410247  ┆ -0.872861 ┆ 2.331392  ┆ … ┆ -1.024068 ┆ -1.384413 ┆ 2.948725  ┆ -1.236277 │\n",
       "│ 1      ┆ -3.664988 ┆ 0.63686   ┆ -3.076659 ┆ … ┆ -1.601459 ┆ 0.948254  ┆ -1.223703 ┆ 2.409829  │\n",
       "└────────┴───────────┴───────────┴───────────┴───┴───────────┴───────────┴───────────┴───────────┘"
      ]
     },
     "execution_count": 11,
     "metadata": {},
     "output_type": "execute_result"
    }
   ],
   "source": [
    "import dsds.transform as t\n",
    "t.impute(df, cols=features, strategy=\"median\").head(3) "
   ]
  },
  {
   "cell_type": "code",
   "execution_count": 12,
   "metadata": {},
   "outputs": [
    {
     "data": {
      "text/html": [
       "<div>\n",
       "<style scoped>\n",
       "    .dataframe tbody tr th:only-of-type {\n",
       "        vertical-align: middle;\n",
       "    }\n",
       "\n",
       "    .dataframe tbody tr th {\n",
       "        vertical-align: top;\n",
       "    }\n",
       "\n",
       "    .dataframe thead th {\n",
       "        text-align: right;\n",
       "    }\n",
       "</style>\n",
       "<table border=\"1\" class=\"dataframe\">\n",
       "  <thead>\n",
       "    <tr style=\"text-align: right;\">\n",
       "      <th></th>\n",
       "      <th>target</th>\n",
       "      <th>column_0</th>\n",
       "      <th>column_1</th>\n",
       "      <th>column_2</th>\n",
       "      <th>column_3</th>\n",
       "      <th>column_4</th>\n",
       "      <th>column_5</th>\n",
       "      <th>column_6</th>\n",
       "      <th>column_7</th>\n",
       "      <th>column_8</th>\n",
       "      <th>column_9</th>\n",
       "    </tr>\n",
       "  </thead>\n",
       "  <tbody>\n",
       "    <tr>\n",
       "      <th>0</th>\n",
       "      <td>0.0</td>\n",
       "      <td>-1.425278</td>\n",
       "      <td>0.896281</td>\n",
       "      <td>0.657120</td>\n",
       "      <td>-1.287397</td>\n",
       "      <td>-0.140885</td>\n",
       "      <td>-0.304476</td>\n",
       "      <td>-0.875095</td>\n",
       "      <td>-0.726022</td>\n",
       "      <td>0.705475</td>\n",
       "      <td>1.131476</td>\n",
       "    </tr>\n",
       "    <tr>\n",
       "      <th>1</th>\n",
       "      <td>1.0</td>\n",
       "      <td>2.410247</td>\n",
       "      <td>-0.872861</td>\n",
       "      <td>2.331392</td>\n",
       "      <td>-0.842593</td>\n",
       "      <td>2.490535</td>\n",
       "      <td>-0.216106</td>\n",
       "      <td>-1.024068</td>\n",
       "      <td>-1.384413</td>\n",
       "      <td>2.948725</td>\n",
       "      <td>-1.236277</td>\n",
       "    </tr>\n",
       "    <tr>\n",
       "      <th>2</th>\n",
       "      <td>1.0</td>\n",
       "      <td>-3.664988</td>\n",
       "      <td>0.636860</td>\n",
       "      <td>-3.076659</td>\n",
       "      <td>0.591886</td>\n",
       "      <td>-0.717415</td>\n",
       "      <td>0.788134</td>\n",
       "      <td>-1.601459</td>\n",
       "      <td>0.948254</td>\n",
       "      <td>-1.223703</td>\n",
       "      <td>2.409829</td>\n",
       "    </tr>\n",
       "  </tbody>\n",
       "</table>\n",
       "</div>"
      ],
      "text/plain": [
       "   target  column_0  column_1  column_2  column_3  column_4  column_5   \n",
       "0     0.0 -1.425278  0.896281  0.657120 -1.287397 -0.140885 -0.304476  \\\n",
       "1     1.0  2.410247 -0.872861  2.331392 -0.842593  2.490535 -0.216106   \n",
       "2     1.0 -3.664988  0.636860 -3.076659  0.591886 -0.717415  0.788134   \n",
       "\n",
       "   column_6  column_7  column_8  column_9  \n",
       "0 -0.875095 -0.726022  0.705475  1.131476  \n",
       "1 -1.024068 -1.384413  2.948725 -1.236277  \n",
       "2 -1.601459  0.948254 -1.223703  2.409829  "
      ]
     },
     "execution_count": 12,
     "metadata": {},
     "output_type": "execute_result"
    }
   ],
   "source": [
    "from sklearn.impute import SimpleImputer \n",
    "imputer = SimpleImputer(strategy = \"median\")\n",
    "imputed = pd.DataFrame(imputer.fit_transform(df_pd, df_pd[target]), columns=df.columns)\n",
    "imputed.head(3)"
   ]
  },
  {
   "cell_type": "code",
   "execution_count": 13,
   "metadata": {},
   "outputs": [
    {
     "name": "stdout",
     "output_type": "stream",
     "text": [
      "1.31 ms ± 12 µs per loop (mean ± std. dev. of 7 runs, 1,000 loops each)\n"
     ]
    }
   ],
   "source": [
    "%%timeit\n",
    "t.impute(df, cols=features, strategy=\"median\")"
   ]
  },
  {
   "cell_type": "code",
   "execution_count": 14,
   "metadata": {},
   "outputs": [
    {
     "name": "stdout",
     "output_type": "stream",
     "text": [
      "122 ms ± 537 µs per loop (mean ± std. dev. of 7 runs, 10 loops each)\n"
     ]
    }
   ],
   "source": [
    "%%timeit\n",
    "imputer = SimpleImputer(strategy = \"median\")\n",
    "imputed = pd.DataFrame(imputer.fit_transform(df_pd, df_pd[target]), columns=df.columns)"
   ]
  },
  {
   "attachments": {},
   "cell_type": "markdown",
   "metadata": {},
   "source": [
    "# Fscore"
   ]
  },
  {
   "cell_type": "code",
   "execution_count": 15,
   "metadata": {},
   "outputs": [],
   "source": [
    "import dsds.fs as fs # fs = feature_selection\n",
    "from sklearn.feature_selection import mutual_info_classif, f_classif, f_regression"
   ]
  },
  {
   "cell_type": "code",
   "execution_count": 16,
   "metadata": {},
   "outputs": [
    {
     "data": {
      "text/plain": [
       "array([4.25789481e+03, 9.84678971e+00, 4.36102858e+02, 1.42781729e+00,\n",
       "       1.29641800e+03, 5.26671074e+03, 1.06998815e+00, 4.66347309e-01,\n",
       "       1.38482805e+04, 2.62524671e-01])"
      ]
     },
     "execution_count": 16,
     "metadata": {},
     "output_type": "execute_result"
    }
   ],
   "source": [
    "fs._f_score(df, target=target, num_list = features)"
   ]
  },
  {
   "cell_type": "code",
   "execution_count": 17,
   "metadata": {},
   "outputs": [
    {
     "name": "stdout",
     "output_type": "stream",
     "text": [
      "Spent 0.00s in computing Fscore.\n"
     ]
    },
    {
     "data": {
      "text/html": [
       "<div><style>\n",
       ".dataframe > thead > tr > th,\n",
       ".dataframe > tbody > tr > td {\n",
       "  text-align: right;\n",
       "}\n",
       "</style>\n",
       "<small>shape: (10, 3)</small><table border=\"1\" class=\"dataframe\"><thead><tr><th>feature</th><th>f_value</th><th>p_value</th></tr><tr><td>str</td><td>f64</td><td>f64</td></tr></thead><tbody><tr><td>&quot;column_0&quot;</td><td>4257.894809</td><td>0.0</td></tr><tr><td>&quot;column_1&quot;</td><td>9.84679</td><td>0.001702</td></tr><tr><td>&quot;column_2&quot;</td><td>436.102858</td><td>1.2288e-96</td></tr><tr><td>&quot;column_3&quot;</td><td>1.427817</td><td>0.232124</td></tr><tr><td>&quot;column_4&quot;</td><td>1296.417998</td><td>4.4020e-282</td></tr><tr><td>&quot;column_5&quot;</td><td>5266.710735</td><td>0.0</td></tr><tr><td>&quot;column_6&quot;</td><td>1.069988</td><td>0.300951</td></tr><tr><td>&quot;column_7&quot;</td><td>0.466347</td><td>0.494674</td></tr><tr><td>&quot;column_8&quot;</td><td>13848.280461</td><td>0.0</td></tr><tr><td>&quot;column_9&quot;</td><td>0.262525</td><td>0.608392</td></tr></tbody></table></div>"
      ],
      "text/plain": [
       "shape: (10, 3)\n",
       "┌──────────┬──────────────┬────────────┐\n",
       "│ feature  ┆ f_value      ┆ p_value    │\n",
       "│ ---      ┆ ---          ┆ ---        │\n",
       "│ str      ┆ f64          ┆ f64        │\n",
       "╞══════════╪══════════════╪════════════╡\n",
       "│ column_0 ┆ 4257.894809  ┆ 0.0        │\n",
       "│ column_1 ┆ 9.84679      ┆ 0.001702   │\n",
       "│ column_2 ┆ 436.102858   ┆ 1.2288e-96 │\n",
       "│ column_3 ┆ 1.427817     ┆ 0.232124   │\n",
       "│ …        ┆ …            ┆ …          │\n",
       "│ column_6 ┆ 1.069988     ┆ 0.300951   │\n",
       "│ column_7 ┆ 0.466347     ┆ 0.494674   │\n",
       "│ column_8 ┆ 13848.280461 ┆ 0.0        │\n",
       "│ column_9 ┆ 0.262525     ┆ 0.608392   │\n",
       "└──────────┴──────────────┴────────────┘"
      ]
     },
     "execution_count": 17,
     "metadata": {},
     "output_type": "execute_result"
    }
   ],
   "source": [
    "# The more core, the bigger the difference. Data here is not big enough to show the difference\n",
    "start = perf_counter()\n",
    "res = fs.f_classif(df, target=target)\n",
    "end = perf_counter()\n",
    "print(f\"Spent {end - start:.2f}s in computing Fscore.\")\n",
    "res.head(10)"
   ]
  },
  {
   "cell_type": "code",
   "execution_count": 18,
   "metadata": {},
   "outputs": [
    {
     "name": "stdout",
     "output_type": "stream",
     "text": [
      "Spent 0.02s in computing Fscore.\n"
     ]
    },
    {
     "data": {
      "text/html": [
       "<div>\n",
       "<style scoped>\n",
       "    .dataframe tbody tr th:only-of-type {\n",
       "        vertical-align: middle;\n",
       "    }\n",
       "\n",
       "    .dataframe tbody tr th {\n",
       "        vertical-align: top;\n",
       "    }\n",
       "\n",
       "    .dataframe thead th {\n",
       "        text-align: right;\n",
       "    }\n",
       "</style>\n",
       "<table border=\"1\" class=\"dataframe\">\n",
       "  <thead>\n",
       "    <tr style=\"text-align: right;\">\n",
       "      <th></th>\n",
       "      <th>feature</th>\n",
       "      <th>f_value</th>\n",
       "      <th>p_value</th>\n",
       "    </tr>\n",
       "  </thead>\n",
       "  <tbody>\n",
       "    <tr>\n",
       "      <th>0</th>\n",
       "      <td>column_0</td>\n",
       "      <td>4257.894809</td>\n",
       "      <td>0.000000e+00</td>\n",
       "    </tr>\n",
       "    <tr>\n",
       "      <th>1</th>\n",
       "      <td>column_1</td>\n",
       "      <td>9.846790</td>\n",
       "      <td>1.701778e-03</td>\n",
       "    </tr>\n",
       "    <tr>\n",
       "      <th>2</th>\n",
       "      <td>column_2</td>\n",
       "      <td>436.102858</td>\n",
       "      <td>1.228752e-96</td>\n",
       "    </tr>\n",
       "    <tr>\n",
       "      <th>3</th>\n",
       "      <td>column_3</td>\n",
       "      <td>1.427817</td>\n",
       "      <td>2.321238e-01</td>\n",
       "    </tr>\n",
       "    <tr>\n",
       "      <th>4</th>\n",
       "      <td>column_4</td>\n",
       "      <td>1296.417998</td>\n",
       "      <td>4.402006e-282</td>\n",
       "    </tr>\n",
       "    <tr>\n",
       "      <th>5</th>\n",
       "      <td>column_5</td>\n",
       "      <td>5266.710735</td>\n",
       "      <td>0.000000e+00</td>\n",
       "    </tr>\n",
       "    <tr>\n",
       "      <th>6</th>\n",
       "      <td>column_6</td>\n",
       "      <td>1.069988</td>\n",
       "      <td>3.009506e-01</td>\n",
       "    </tr>\n",
       "    <tr>\n",
       "      <th>7</th>\n",
       "      <td>column_7</td>\n",
       "      <td>0.466347</td>\n",
       "      <td>4.946740e-01</td>\n",
       "    </tr>\n",
       "    <tr>\n",
       "      <th>8</th>\n",
       "      <td>column_8</td>\n",
       "      <td>13848.280461</td>\n",
       "      <td>0.000000e+00</td>\n",
       "    </tr>\n",
       "    <tr>\n",
       "      <th>9</th>\n",
       "      <td>column_9</td>\n",
       "      <td>0.262525</td>\n",
       "      <td>6.083921e-01</td>\n",
       "    </tr>\n",
       "  </tbody>\n",
       "</table>\n",
       "</div>"
      ],
      "text/plain": [
       "    feature       f_value        p_value\n",
       "0  column_0   4257.894809   0.000000e+00\n",
       "1  column_1      9.846790   1.701778e-03\n",
       "2  column_2    436.102858   1.228752e-96\n",
       "3  column_3      1.427817   2.321238e-01\n",
       "4  column_4   1296.417998  4.402006e-282\n",
       "5  column_5   5266.710735   0.000000e+00\n",
       "6  column_6      1.069988   3.009506e-01\n",
       "7  column_7      0.466347   4.946740e-01\n",
       "8  column_8  13848.280461   0.000000e+00\n",
       "9  column_9      0.262525   6.083921e-01"
      ]
     },
     "execution_count": 18,
     "metadata": {},
     "output_type": "execute_result"
    }
   ],
   "source": [
    "start = perf_counter()\n",
    "f, pv = f_classif(df_pd[features], df_pd[target])\n",
    "res = pd.DataFrame({\"feature\":features, \"f_value\":f, \"p_value\":pv})\n",
    "end = perf_counter()\n",
    "print(f\"Spent {end - start:.2f}s in computing Fscore.\")\n",
    "res.head(10)"
   ]
  },
  {
   "cell_type": "code",
   "execution_count": 19,
   "metadata": {},
   "outputs": [
    {
     "name": "stdout",
     "output_type": "stream",
     "text": [
      "Spent  0.01s in computing Fscore.\n"
     ]
    },
    {
     "data": {
      "text/html": [
       "<div>\n",
       "<style scoped>\n",
       "    .dataframe tbody tr th:only-of-type {\n",
       "        vertical-align: middle;\n",
       "    }\n",
       "\n",
       "    .dataframe tbody tr th {\n",
       "        vertical-align: top;\n",
       "    }\n",
       "\n",
       "    .dataframe thead th {\n",
       "        text-align: right;\n",
       "    }\n",
       "</style>\n",
       "<table border=\"1\" class=\"dataframe\">\n",
       "  <thead>\n",
       "    <tr style=\"text-align: right;\">\n",
       "      <th></th>\n",
       "      <th>feature</th>\n",
       "      <th>f_value</th>\n",
       "      <th>p_value</th>\n",
       "    </tr>\n",
       "  </thead>\n",
       "  <tbody>\n",
       "    <tr>\n",
       "      <th>0</th>\n",
       "      <td>column_0</td>\n",
       "      <td>4257.894809</td>\n",
       "      <td>0.000000e+00</td>\n",
       "    </tr>\n",
       "    <tr>\n",
       "      <th>1</th>\n",
       "      <td>column_1</td>\n",
       "      <td>9.846790</td>\n",
       "      <td>1.701778e-03</td>\n",
       "    </tr>\n",
       "    <tr>\n",
       "      <th>2</th>\n",
       "      <td>column_2</td>\n",
       "      <td>436.102858</td>\n",
       "      <td>1.228752e-96</td>\n",
       "    </tr>\n",
       "    <tr>\n",
       "      <th>3</th>\n",
       "      <td>column_3</td>\n",
       "      <td>1.427817</td>\n",
       "      <td>2.321238e-01</td>\n",
       "    </tr>\n",
       "    <tr>\n",
       "      <th>4</th>\n",
       "      <td>column_4</td>\n",
       "      <td>1296.417998</td>\n",
       "      <td>4.402006e-282</td>\n",
       "    </tr>\n",
       "    <tr>\n",
       "      <th>5</th>\n",
       "      <td>column_5</td>\n",
       "      <td>5266.710735</td>\n",
       "      <td>0.000000e+00</td>\n",
       "    </tr>\n",
       "    <tr>\n",
       "      <th>6</th>\n",
       "      <td>column_6</td>\n",
       "      <td>1.069988</td>\n",
       "      <td>3.009506e-01</td>\n",
       "    </tr>\n",
       "    <tr>\n",
       "      <th>7</th>\n",
       "      <td>column_7</td>\n",
       "      <td>0.466347</td>\n",
       "      <td>4.946740e-01</td>\n",
       "    </tr>\n",
       "    <tr>\n",
       "      <th>8</th>\n",
       "      <td>column_8</td>\n",
       "      <td>13848.280461</td>\n",
       "      <td>0.000000e+00</td>\n",
       "    </tr>\n",
       "    <tr>\n",
       "      <th>9</th>\n",
       "      <td>column_9</td>\n",
       "      <td>0.262525</td>\n",
       "      <td>6.083921e-01</td>\n",
       "    </tr>\n",
       "  </tbody>\n",
       "</table>\n",
       "</div>"
      ],
      "text/plain": [
       "    feature       f_value        p_value\n",
       "0  column_0   4257.894809   0.000000e+00\n",
       "1  column_1      9.846790   1.701778e-03\n",
       "2  column_2    436.102858   1.228752e-96\n",
       "3  column_3      1.427817   2.321238e-01\n",
       "4  column_4   1296.417998  4.402006e-282\n",
       "5  column_5   5266.710735   0.000000e+00\n",
       "6  column_6      1.069988   3.009506e-01\n",
       "7  column_7      0.466347   4.946740e-01\n",
       "8  column_8  13848.280461   0.000000e+00\n",
       "9  column_9      0.262525   6.083921e-01"
      ]
     },
     "execution_count": 19,
     "metadata": {},
     "output_type": "execute_result"
    }
   ],
   "source": [
    "start = perf_counter()\n",
    "f, pv = f_regression(df_pd[features], df_pd[target])\n",
    "res = pd.DataFrame({\"feature\":features, \"f_value\":f, \"p_value\":pv})\n",
    "end = perf_counter()\n",
    "print(f\"Spent {end - start: .2f}s in computing Fscore.\")\n",
    "res.head(10)"
   ]
  },
  {
   "attachments": {},
   "cell_type": "markdown",
   "metadata": {},
   "source": [
    "# Mutual Information Score"
   ]
  },
  {
   "cell_type": "code",
   "execution_count": 20,
   "metadata": {},
   "outputs": [
    {
     "name": "stderr",
     "output_type": "stream",
     "text": [
      "Mutual Info: 100%|██████████| 10/10 [00:00<00:00, 13.15it/s]\n"
     ]
    },
    {
     "data": {
      "text/html": [
       "<div><style>\n",
       ".dataframe > thead > tr > th,\n",
       ".dataframe > tbody > tr > td {\n",
       "  text-align: right;\n",
       "}\n",
       "</style>\n",
       "<small>shape: (10, 2)</small><table border=\"1\" class=\"dataframe\"><thead><tr><th>feature</th><th>estimated_mi</th></tr><tr><td>str</td><td>f64</td></tr></thead><tbody><tr><td>&quot;column_8&quot;</td><td>0.086362</td></tr><tr><td>&quot;column_5&quot;</td><td>0.045589</td></tr><tr><td>&quot;column_2&quot;</td><td>0.04045</td></tr><tr><td>&quot;column_0&quot;</td><td>0.036647</td></tr><tr><td>&quot;column_1&quot;</td><td>0.03106</td></tr><tr><td>&quot;column_9&quot;</td><td>0.022108</td></tr><tr><td>&quot;column_4&quot;</td><td>0.011846</td></tr><tr><td>&quot;column_6&quot;</td><td>0.003619</td></tr><tr><td>&quot;column_3&quot;</td><td>0.000802</td></tr><tr><td>&quot;column_7&quot;</td><td>0.000765</td></tr></tbody></table></div>"
      ],
      "text/plain": [
       "shape: (10, 2)\n",
       "┌──────────┬──────────────┐\n",
       "│ feature  ┆ estimated_mi │\n",
       "│ ---      ┆ ---          │\n",
       "│ str      ┆ f64          │\n",
       "╞══════════╪══════════════╡\n",
       "│ column_8 ┆ 0.086362     │\n",
       "│ column_5 ┆ 0.045589     │\n",
       "│ column_2 ┆ 0.04045      │\n",
       "│ column_0 ┆ 0.036647     │\n",
       "│ …        ┆ …            │\n",
       "│ column_4 ┆ 0.011846     │\n",
       "│ column_6 ┆ 0.003619     │\n",
       "│ column_3 ┆ 0.000802     │\n",
       "│ column_7 ┆ 0.000765     │\n",
       "└──────────┴──────────────┘"
      ]
     },
     "execution_count": 20,
     "metadata": {},
     "output_type": "execute_result"
    }
   ],
   "source": [
    "# Vastly faster than sklearn. Finished in 0.7s in this run\n",
    "fs.mutual_info(df, target=target, conti_cols=features).sort(by=\"estimated_mi\", descending=True).limit(10)"
   ]
  },
  {
   "cell_type": "code",
   "execution_count": 21,
   "metadata": {},
   "outputs": [],
   "source": [
    "def estimate_mi_sklearn(df:pd.DataFrame, cols:list[str], target:str, k=3, random_state:int=42):\n",
    "    mi_estimates = mutual_info_classif(df[cols], df[target]\n",
    "                        , n_neighbors=k, random_state=random_state, discrete_features=False)\n",
    "\n",
    "    return pl.from_records([cols, mi_estimates], schema=[\"feature\", \"estimated_mi\"]).sort(\"estimated_mi\", descending=True)"
   ]
  },
  {
   "cell_type": "code",
   "execution_count": 22,
   "metadata": {},
   "outputs": [
    {
     "data": {
      "text/html": [
       "<div><style>\n",
       ".dataframe > thead > tr > th,\n",
       ".dataframe > tbody > tr > td {\n",
       "  text-align: right;\n",
       "}\n",
       "</style>\n",
       "<small>shape: (10, 2)</small><table border=\"1\" class=\"dataframe\"><thead><tr><th>feature</th><th>estimated_mi</th></tr><tr><td>str</td><td>f64</td></tr></thead><tbody><tr><td>&quot;column_8&quot;</td><td>0.086362</td></tr><tr><td>&quot;column_5&quot;</td><td>0.045589</td></tr><tr><td>&quot;column_2&quot;</td><td>0.040451</td></tr><tr><td>&quot;column_0&quot;</td><td>0.036647</td></tr><tr><td>&quot;column_1&quot;</td><td>0.03106</td></tr><tr><td>&quot;column_9&quot;</td><td>0.022108</td></tr><tr><td>&quot;column_4&quot;</td><td>0.011848</td></tr><tr><td>&quot;column_6&quot;</td><td>0.003617</td></tr><tr><td>&quot;column_3&quot;</td><td>0.000802</td></tr><tr><td>&quot;column_7&quot;</td><td>0.000765</td></tr></tbody></table></div>"
      ],
      "text/plain": [
       "shape: (10, 2)\n",
       "┌──────────┬──────────────┐\n",
       "│ feature  ┆ estimated_mi │\n",
       "│ ---      ┆ ---          │\n",
       "│ str      ┆ f64          │\n",
       "╞══════════╪══════════════╡\n",
       "│ column_8 ┆ 0.086362     │\n",
       "│ column_5 ┆ 0.045589     │\n",
       "│ column_2 ┆ 0.040451     │\n",
       "│ column_0 ┆ 0.036647     │\n",
       "│ …        ┆ …            │\n",
       "│ column_4 ┆ 0.011848     │\n",
       "│ column_6 ┆ 0.003617     │\n",
       "│ column_3 ┆ 0.000802     │\n",
       "│ column_7 ┆ 0.000765     │\n",
       "└──────────┴──────────────┘"
      ]
     },
     "execution_count": 22,
     "metadata": {},
     "output_type": "execute_result"
    }
   ],
   "source": [
    "# The reason sklearn's impl is slow is that it did not turn on multithreading for KDtrees.\n",
    "# Sklearn also did not provide an option to turn it on, despite the fact that sklearn's KDtrees\n",
    "# does have this functionality. Finished in 4.4s in this run\n",
    "estimate_mi_sklearn(df_pd, cols=features, target=target).limit(10)"
   ]
  },
  {
   "attachments": {},
   "cell_type": "markdown",
   "metadata": {},
   "source": [
    "# MRMR Feature selection Strategy"
   ]
  },
  {
   "cell_type": "code",
   "execution_count": 23,
   "metadata": {},
   "outputs": [],
   "source": [
    "from mrmr import mrmr_classif # This is currently the most starred MRMR Python package on github"
   ]
  },
  {
   "cell_type": "code",
   "execution_count": 24,
   "metadata": {},
   "outputs": [],
   "source": [
    "# Need to wrap it so that we get apples to apples comparison\n",
    "def mrmr_package(df:pd.DataFrame, target:str, k:int) -> list[str]:\n",
    "    features = list(df.columns)\n",
    "    features.remove(target)\n",
    "    X = df[features]\n",
    "    y = df[target]\n",
    "    start = perf_counter()\n",
    "    output = mrmr_classif(X, y, K = k)\n",
    "    end = perf_counter()\n",
    "    print(f\"Spent {end - start:.2f}s to compute mrmr.\")\n",
    "    return output"
   ]
  },
  {
   "cell_type": "code",
   "execution_count": 25,
   "metadata": {},
   "outputs": [
    {
     "name": "stderr",
     "output_type": "stream",
     "text": [
      "100%|██████████| 10/10 [00:05<00:00,  1.69it/s]"
     ]
    },
    {
     "name": "stdout",
     "output_type": "stream",
     "text": [
      "Spent 8.66s to compute mrmr.\n"
     ]
    },
    {
     "name": "stderr",
     "output_type": "stream",
     "text": [
      "\n"
     ]
    },
    {
     "data": {
      "text/plain": [
       "['column_8',\n",
       " 'column_5',\n",
       " 'column_0',\n",
       " 'column_4',\n",
       " 'column_2',\n",
       " 'column_1',\n",
       " 'column_6',\n",
       " 'column_3',\n",
       " 'column_7',\n",
       " 'column_9']"
      ]
     },
     "execution_count": 25,
     "metadata": {},
     "output_type": "execute_result"
    }
   ],
   "source": [
    "mrmr_package(df_pd, \"target\", 50)"
   ]
  },
  {
   "cell_type": "code",
   "execution_count": 26,
   "metadata": {},
   "outputs": [
    {
     "name": "stderr",
     "output_type": "stream",
     "text": [
      "INFO:dsds.fs:Running fscore to determine feature relevance...\n"
     ]
    },
    {
     "name": "stdout",
     "output_type": "stream",
     "text": [
      "Found 10 total features to select from. Proceeding to select top 10 features.\n"
     ]
    },
    {
     "name": "stderr",
     "output_type": "stream",
     "text": [
      "MRMR, fscore: 100%|██████████| 10/10 [00:00<00:00, 2499.59it/s]"
     ]
    },
    {
     "name": "stdout",
     "output_type": "stream",
     "text": [
      "Output is sorted in order of selection (max relevance min redundancy).\n",
      "Spent 0.02s in computing.\n"
     ]
    },
    {
     "name": "stderr",
     "output_type": "stream",
     "text": [
      "\n"
     ]
    },
    {
     "data": {
      "text/plain": [
       "['column_8',\n",
       " 'column_5',\n",
       " 'column_0',\n",
       " 'column_4',\n",
       " 'column_2',\n",
       " 'column_1',\n",
       " 'column_6',\n",
       " 'column_3',\n",
       " 'column_7',\n",
       " 'column_9']"
      ]
     },
     "execution_count": 26,
     "metadata": {},
     "output_type": "execute_result"
    }
   ],
   "source": [
    "start = perf_counter()\n",
    "res = fs.mrmr(df, target=\"target\", k = 50, low_memory=False)\n",
    "end = perf_counter()\n",
    "print(f\"Spent {end - start:.2f}s in computing.\")\n",
    "res"
   ]
  },
  {
   "cell_type": "code",
   "execution_count": 27,
   "metadata": {},
   "outputs": [
    {
     "name": "stderr",
     "output_type": "stream",
     "text": [
      "INFO:dsds.fs:Running fscore to determine feature relevance...\n"
     ]
    },
    {
     "name": "stdout",
     "output_type": "stream",
     "text": [
      "Found 10 total features to select from. Proceeding to select top 10 features.\n"
     ]
    },
    {
     "name": "stderr",
     "output_type": "stream",
     "text": [
      "MRMR, fscore: 100%|██████████| 10/10 [00:00<00:00, 526.22it/s]"
     ]
    },
    {
     "name": "stdout",
     "output_type": "stream",
     "text": [
      "Output is sorted in order of selection (max relevance min redundancy).\n",
      "Spent 0.03s in computing.\n"
     ]
    },
    {
     "name": "stderr",
     "output_type": "stream",
     "text": [
      "\n"
     ]
    },
    {
     "data": {
      "text/plain": [
       "['column_8',\n",
       " 'column_5',\n",
       " 'column_0',\n",
       " 'column_4',\n",
       " 'column_2',\n",
       " 'column_1',\n",
       " 'column_6',\n",
       " 'column_3',\n",
       " 'column_7',\n",
       " 'column_9']"
      ]
     },
     "execution_count": 27,
     "metadata": {},
     "output_type": "execute_result"
    }
   ],
   "source": [
    "start = perf_counter()\n",
    "res = fs.mrmr(df, target=\"target\", k = 50, low_memory=True)\n",
    "end = perf_counter()\n",
    "print(f\"Spent {end - start:.2f}s in computing.\")\n",
    "res"
   ]
  },
  {
   "attachments": {},
   "cell_type": "markdown",
   "metadata": {},
   "source": [
    "# Power Transform"
   ]
  },
  {
   "cell_type": "code",
   "execution_count": 28,
   "metadata": {},
   "outputs": [
    {
     "name": "stdout",
     "output_type": "stream",
     "text": [
      "Spent 0.21s in computing.\n"
     ]
    },
    {
     "data": {
      "text/html": [
       "<div><style>\n",
       ".dataframe > thead > tr > th,\n",
       ".dataframe > tbody > tr > td {\n",
       "  text-align: right;\n",
       "}\n",
       "</style>\n",
       "<small>shape: (5, 11)</small><table border=\"1\" class=\"dataframe\"><thead><tr><th>target</th><th>column_0</th><th>column_1</th><th>column_2</th><th>column_3</th><th>column_4</th><th>column_5</th><th>column_6</th><th>column_7</th><th>column_8</th><th>column_9</th></tr><tr><td>i32</td><td>f64</td><td>f64</td><td>f64</td><td>f64</td><td>f64</td><td>f64</td><td>f64</td><td>f64</td><td>f64</td><td>f64</td></tr></thead><tbody><tr><td>0</td><td>-1.468265</td><td>0.910684</td><td>0.659146</td><td>-1.324702</td><td>-0.141175</td><td>-0.311281</td><td>-0.882718</td><td>-0.726326</td><td>0.718409</td><td>1.203376</td></tr><tr><td>1</td><td>2.309445</td><td>-0.859402</td><td>2.35034</td><td>-0.859986</td><td>2.434057</td><td>-0.219607</td><td>-1.034194</td><td>-1.385379</td><td>3.108028</td><td>-1.158572</td></tr><tr><td>1</td><td>-3.877313</td><td>0.644551</td><td>-3.047023</td><td>0.582999</td><td>-0.723917</td><td>0.749535</td><td>-1.62376</td><td>0.947762</td><td>-1.189788</td><td>2.681555</td></tr><tr><td>0</td><td>0.722897</td><td>-1.905984</td><td>-0.441042</td><td>1.417185</td><td>0.993813</td><td>-0.135301</td><td>0.042292</td><td>-2.022687</td><td>-0.30606</td><td>0.977417</td></tr><tr><td>1</td><td>0.780848</td><td>-2.212239</td><td>-0.789209</td><td>1.273603</td><td>2.958544</td><td>-0.087321</td><td>-2.239381</td><td>-2.326567</td><td>2.339286</td><td>1.739123</td></tr></tbody></table></div>"
      ],
      "text/plain": [
       "shape: (5, 11)\n",
       "┌────────┬───────────┬───────────┬───────────┬───┬───────────┬───────────┬───────────┬───────────┐\n",
       "│ target ┆ column_0  ┆ column_1  ┆ column_2  ┆ … ┆ column_6  ┆ column_7  ┆ column_8  ┆ column_9  │\n",
       "│ ---    ┆ ---       ┆ ---       ┆ ---       ┆   ┆ ---       ┆ ---       ┆ ---       ┆ ---       │\n",
       "│ i32    ┆ f64       ┆ f64       ┆ f64       ┆   ┆ f64       ┆ f64       ┆ f64       ┆ f64       │\n",
       "╞════════╪═══════════╪═══════════╪═══════════╪═══╪═══════════╪═══════════╪═══════════╪═══════════╡\n",
       "│ 0      ┆ -1.468265 ┆ 0.910684  ┆ 0.659146  ┆ … ┆ -0.882718 ┆ -0.726326 ┆ 0.718409  ┆ 1.203376  │\n",
       "│ 1      ┆ 2.309445  ┆ -0.859402 ┆ 2.35034   ┆ … ┆ -1.034194 ┆ -1.385379 ┆ 3.108028  ┆ -1.158572 │\n",
       "│ 1      ┆ -3.877313 ┆ 0.644551  ┆ -3.047023 ┆ … ┆ -1.62376  ┆ 0.947762  ┆ -1.189788 ┆ 2.681555  │\n",
       "│ 0      ┆ 0.722897  ┆ -1.905984 ┆ -0.441042 ┆ … ┆ 0.042292  ┆ -2.022687 ┆ -0.30606  ┆ 0.977417  │\n",
       "│ 1      ┆ 0.780848  ┆ -2.212239 ┆ -0.789209 ┆ … ┆ -2.239381 ┆ -2.326567 ┆ 2.339286  ┆ 1.739123  │\n",
       "└────────┴───────────┴───────────┴───────────┴───┴───────────┴───────────┴───────────┴───────────┘"
      ]
     },
     "execution_count": 28,
     "metadata": {},
     "output_type": "execute_result"
    }
   ],
   "source": [
    "# Eager transform.\n",
    "start = perf_counter()\n",
    "res_eager = t.power_transform(df, cols=features, strategy=\"yeo_johnson\")\n",
    "end = perf_counter()\n",
    "print(f\"Spent {end - start:.2f}s in computing.\")\n",
    "res_eager.head() "
   ]
  },
  {
   "cell_type": "code",
   "execution_count": 29,
   "metadata": {},
   "outputs": [],
   "source": [
    "from sklearn.preprocessing import power_transform"
   ]
  },
  {
   "cell_type": "code",
   "execution_count": 30,
   "metadata": {},
   "outputs": [
    {
     "name": "stdout",
     "output_type": "stream",
     "text": [
      "Spent 0.70s in computing.\n"
     ]
    },
    {
     "data": {
      "text/html": [
       "<div>\n",
       "<style scoped>\n",
       "    .dataframe tbody tr th:only-of-type {\n",
       "        vertical-align: middle;\n",
       "    }\n",
       "\n",
       "    .dataframe tbody tr th {\n",
       "        vertical-align: top;\n",
       "    }\n",
       "\n",
       "    .dataframe thead th {\n",
       "        text-align: right;\n",
       "    }\n",
       "</style>\n",
       "<table border=\"1\" class=\"dataframe\">\n",
       "  <thead>\n",
       "    <tr style=\"text-align: right;\">\n",
       "      <th></th>\n",
       "      <th>target</th>\n",
       "      <th>column_0</th>\n",
       "      <th>column_1</th>\n",
       "      <th>column_2</th>\n",
       "      <th>column_3</th>\n",
       "      <th>column_4</th>\n",
       "      <th>column_5</th>\n",
       "      <th>column_6</th>\n",
       "      <th>column_7</th>\n",
       "      <th>column_8</th>\n",
       "      <th>column_9</th>\n",
       "    </tr>\n",
       "  </thead>\n",
       "  <tbody>\n",
       "    <tr>\n",
       "      <th>0</th>\n",
       "      <td>0</td>\n",
       "      <td>-1.468265</td>\n",
       "      <td>0.910684</td>\n",
       "      <td>0.659146</td>\n",
       "      <td>-1.324702</td>\n",
       "      <td>-0.141175</td>\n",
       "      <td>-0.311281</td>\n",
       "      <td>-0.882718</td>\n",
       "      <td>-0.726326</td>\n",
       "      <td>0.718409</td>\n",
       "      <td>1.203376</td>\n",
       "    </tr>\n",
       "    <tr>\n",
       "      <th>1</th>\n",
       "      <td>1</td>\n",
       "      <td>2.309445</td>\n",
       "      <td>-0.859402</td>\n",
       "      <td>2.350340</td>\n",
       "      <td>-0.859986</td>\n",
       "      <td>2.434057</td>\n",
       "      <td>-0.219607</td>\n",
       "      <td>-1.034194</td>\n",
       "      <td>-1.385379</td>\n",
       "      <td>3.108028</td>\n",
       "      <td>-1.158572</td>\n",
       "    </tr>\n",
       "    <tr>\n",
       "      <th>2</th>\n",
       "      <td>1</td>\n",
       "      <td>-3.877313</td>\n",
       "      <td>0.644551</td>\n",
       "      <td>-3.047023</td>\n",
       "      <td>0.582999</td>\n",
       "      <td>-0.723917</td>\n",
       "      <td>0.749535</td>\n",
       "      <td>-1.623760</td>\n",
       "      <td>0.947762</td>\n",
       "      <td>-1.189788</td>\n",
       "      <td>2.681555</td>\n",
       "    </tr>\n",
       "    <tr>\n",
       "      <th>3</th>\n",
       "      <td>0</td>\n",
       "      <td>0.722897</td>\n",
       "      <td>-1.905984</td>\n",
       "      <td>-0.441042</td>\n",
       "      <td>1.417185</td>\n",
       "      <td>0.993813</td>\n",
       "      <td>-0.135301</td>\n",
       "      <td>0.042292</td>\n",
       "      <td>-2.022687</td>\n",
       "      <td>-0.306060</td>\n",
       "      <td>0.977417</td>\n",
       "    </tr>\n",
       "    <tr>\n",
       "      <th>4</th>\n",
       "      <td>1</td>\n",
       "      <td>0.780848</td>\n",
       "      <td>-2.212239</td>\n",
       "      <td>-0.789209</td>\n",
       "      <td>1.273603</td>\n",
       "      <td>2.958544</td>\n",
       "      <td>-0.087321</td>\n",
       "      <td>-2.239381</td>\n",
       "      <td>-2.326567</td>\n",
       "      <td>2.339286</td>\n",
       "      <td>1.739123</td>\n",
       "    </tr>\n",
       "  </tbody>\n",
       "</table>\n",
       "</div>"
      ],
      "text/plain": [
       "   target  column_0  column_1  column_2  column_3  column_4  column_5   \n",
       "0       0 -1.468265  0.910684  0.659146 -1.324702 -0.141175 -0.311281  \\\n",
       "1       1  2.309445 -0.859402  2.350340 -0.859986  2.434057 -0.219607   \n",
       "2       1 -3.877313  0.644551 -3.047023  0.582999 -0.723917  0.749535   \n",
       "3       0  0.722897 -1.905984 -0.441042  1.417185  0.993813 -0.135301   \n",
       "4       1  0.780848 -2.212239 -0.789209  1.273603  2.958544 -0.087321   \n",
       "\n",
       "   column_6  column_7  column_8  column_9  \n",
       "0 -0.882718 -0.726326  0.718409  1.203376  \n",
       "1 -1.034194 -1.385379  3.108028 -1.158572  \n",
       "2 -1.623760  0.947762 -1.189788  2.681555  \n",
       "3  0.042292 -2.022687 -0.306060  0.977417  \n",
       "4 -2.239381 -2.326567  2.339286  1.739123  "
      ]
     },
     "execution_count": 30,
     "metadata": {},
     "output_type": "execute_result"
    }
   ],
   "source": [
    "# Sklearn with Pandas\n",
    "\n",
    "start = perf_counter()\n",
    "transformed = power_transform(df_pd[features], method = \"yeo-johnson\", standardize=False)\n",
    "end = perf_counter()\n",
    "df_pd[features] = transformed\n",
    "print(f\"Spent {end - start:.2f}s in computing.\")\n",
    "df_pd.head()\n"
   ]
  },
  {
   "attachments": {},
   "cell_type": "markdown",
   "metadata": {},
   "source": [
    "# GC"
   ]
  },
  {
   "cell_type": "code",
   "execution_count": 31,
   "metadata": {},
   "outputs": [
    {
     "data": {
      "text/plain": [
       "20"
      ]
     },
     "execution_count": 31,
     "metadata": {},
     "output_type": "execute_result"
    }
   ],
   "source": [
    "import gc \n",
    "gc.collect()"
   ]
  },
  {
   "cell_type": "code",
   "execution_count": null,
   "metadata": {},
   "outputs": [],
   "source": []
  }
 ],
 "metadata": {
  "kernelspec": {
   "display_name": "my_py11",
   "language": "python",
   "name": "python3"
  },
  "language_info": {
   "codemirror_mode": {
    "name": "ipython",
    "version": 3
   },
   "file_extension": ".py",
   "mimetype": "text/x-python",
   "name": "python",
   "nbconvert_exporter": "python",
   "pygments_lexer": "ipython3",
   "version": "3.11.3"
  },
  "orig_nbformat": 4
 },
 "nbformat": 4,
 "nbformat_minor": 2
}
