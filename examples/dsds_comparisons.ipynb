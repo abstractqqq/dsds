{
 "cells": [
  {
   "cell_type": "code",
   "execution_count": 1,
   "metadata": {},
   "outputs": [],
   "source": [
    "import polars as pl\n",
    "import pandas as pd\n",
    "import numpy as np\n",
    "from sklearn.datasets import make_classification\n",
    "from time import perf_counter\n"
   ]
  },
  {
   "cell_type": "code",
   "execution_count": 2,
   "metadata": {},
   "outputs": [],
   "source": [
    "orig_x, orig_y = make_classification(n_samples = 100_000, n_features = 10, n_informative = 5, n_redundant = 5)\n",
    "# This is a Polars dataframe. This is dsds package's favored dataframe. dsds relies on Polars heavily.\n",
    "# You must turn other dataframe formats into Polars for dsds to work.\n",
    "df = pl.from_numpy(orig_x).insert_at_idx(0, pl.Series(\"target\", orig_y)) \n",
    "# Turn it into Pandas.\n",
    "df_pd = df.to_pandas()\n",
    "target = \"target\"\n",
    "features = df.columns\n",
    "features.remove(target)"
   ]
  },
  {
   "cell_type": "code",
   "execution_count": 3,
   "metadata": {},
   "outputs": [
    {
     "data": {
      "text/html": [
       "<div><style>\n",
       ".dataframe > thead > tr > th,\n",
       ".dataframe > tbody > tr > td {\n",
       "  text-align: right;\n",
       "  white-space: pre-wrap;\n",
       "}\n",
       "</style>\n",
       "<small>shape: (5, 11)</small><table border=\"1\" class=\"dataframe\"><thead><tr><th>target</th><th>column_0</th><th>column_1</th><th>column_2</th><th>column_3</th><th>column_4</th><th>column_5</th><th>column_6</th><th>column_7</th><th>column_8</th><th>column_9</th></tr><tr><td>i32</td><td>f64</td><td>f64</td><td>f64</td><td>f64</td><td>f64</td><td>f64</td><td>f64</td><td>f64</td><td>f64</td><td>f64</td></tr></thead><tbody><tr><td>0</td><td>0.200232</td><td>-0.888892</td><td>1.524665</td><td>-0.506326</td><td>0.150994</td><td>2.090686</td><td>1.145647</td><td>1.40439</td><td>-1.409437</td><td>-2.024626</td></tr><tr><td>1</td><td>2.202776</td><td>0.607151</td><td>-0.711372</td><td>-1.522102</td><td>-0.259607</td><td>-2.307091</td><td>-1.1653</td><td>-1.870384</td><td>0.551632</td><td>-1.449511</td></tr><tr><td>1</td><td>-1.215223</td><td>0.63889</td><td>0.512399</td><td>1.136189</td><td>-1.202908</td><td>1.487095</td><td>1.307504</td><td>2.19001</td><td>0.35992</td><td>-1.782716</td></tr><tr><td>0</td><td>0.063379</td><td>0.545179</td><td>0.941311</td><td>1.653572</td><td>-2.221434</td><td>1.423115</td><td>0.581753</td><td>1.07439</td><td>2.010467</td><td>-3.5149</td></tr><tr><td>1</td><td>-5.28972</td><td>-0.669352</td><td>3.301669</td><td>4.930371</td><td>1.023188</td><td>6.495264</td><td>-0.939379</td><td>1.147088</td><td>3.183671</td><td>-2.34192</td></tr></tbody></table></div>"
      ],
      "text/plain": [
       "shape: (5, 11)\n",
       "┌────────┬───────────┬───────────┬───────────┬───┬───────────┬───────────┬───────────┬───────────┐\n",
       "│ target ┆ column_0  ┆ column_1  ┆ column_2  ┆ … ┆ column_6  ┆ column_7  ┆ column_8  ┆ column_9  │\n",
       "│ ---    ┆ ---       ┆ ---       ┆ ---       ┆   ┆ ---       ┆ ---       ┆ ---       ┆ ---       │\n",
       "│ i32    ┆ f64       ┆ f64       ┆ f64       ┆   ┆ f64       ┆ f64       ┆ f64       ┆ f64       │\n",
       "╞════════╪═══════════╪═══════════╪═══════════╪═══╪═══════════╪═══════════╪═══════════╪═══════════╡\n",
       "│ 0      ┆ 0.200232  ┆ -0.888892 ┆ 1.524665  ┆ … ┆ 1.145647  ┆ 1.40439   ┆ -1.409437 ┆ -2.024626 │\n",
       "│ 1      ┆ 2.202776  ┆ 0.607151  ┆ -0.711372 ┆ … ┆ -1.1653   ┆ -1.870384 ┆ 0.551632  ┆ -1.449511 │\n",
       "│ 1      ┆ -1.215223 ┆ 0.63889   ┆ 0.512399  ┆ … ┆ 1.307504  ┆ 2.19001   ┆ 0.35992   ┆ -1.782716 │\n",
       "│ 0      ┆ 0.063379  ┆ 0.545179  ┆ 0.941311  ┆ … ┆ 0.581753  ┆ 1.07439   ┆ 2.010467  ┆ -3.5149   │\n",
       "│ 1      ┆ -5.28972  ┆ -0.669352 ┆ 3.301669  ┆ … ┆ -0.939379 ┆ 1.147088  ┆ 3.183671  ┆ -2.34192  │\n",
       "└────────┴───────────┴───────────┴───────────┴───┴───────────┴───────────┴───────────┴───────────┘"
      ]
     },
     "execution_count": 3,
     "metadata": {},
     "output_type": "execute_result"
    }
   ],
   "source": [
    "df.head()"
   ]
  },
  {
   "attachments": {},
   "cell_type": "markdown",
   "metadata": {},
   "source": [
    "## Comparisons\n",
    "\n",
    "This notebook compares results and performance between the dsds package, sklearn and some other packages for feature selection and some other transformations common in the data science pipeline.\n",
    "\n",
    "### Methods Compared:\n",
    "1. Scaling and Imputation\n",
    "2. Fscore\n",
    "3. Mutual Information Score\n",
    "4. MRMR feature selection strategies\n",
    "5. Power Transform\n",
    "\n",
    "You may restart the kernel after each section. But remember to rerun the cells above. If you are concerned about memory usage when running this notebook, go to the end and run the gc cell."
   ]
  },
  {
   "attachments": {},
   "cell_type": "markdown",
   "metadata": {},
   "source": [
    "# Scaling and Imputation"
   ]
  },
  {
   "cell_type": "code",
   "execution_count": 4,
   "metadata": {},
   "outputs": [],
   "source": [
    "import dsds.transform as t"
   ]
  },
  {
   "cell_type": "code",
   "execution_count": 5,
   "metadata": {},
   "outputs": [],
   "source": [
    "features = df.columns\n",
    "features.remove(\"target\")"
   ]
  },
  {
   "cell_type": "code",
   "execution_count": 6,
   "metadata": {},
   "outputs": [
    {
     "data": {
      "text/html": [
       "<div><style>\n",
       ".dataframe > thead > tr > th,\n",
       ".dataframe > tbody > tr > td {\n",
       "  text-align: right;\n",
       "  white-space: pre-wrap;\n",
       "}\n",
       "</style>\n",
       "<small>shape: (5, 11)</small><table border=\"1\" class=\"dataframe\"><thead><tr><th>target</th><th>column_0</th><th>column_1</th><th>column_2</th><th>column_3</th><th>column_4</th><th>column_5</th><th>column_6</th><th>column_7</th><th>column_8</th><th>column_9</th></tr><tr><td>i32</td><td>f64</td><td>f64</td><td>f64</td><td>f64</td><td>f64</td><td>f64</td><td>f64</td><td>f64</td><td>f64</td><td>f64</td></tr></thead><tbody><tr><td>0</td><td>0.199798</td><td>-0.508845</td><td>0.943883</td><td>-0.570708</td><td>0.41983</td><td>0.769539</td><td>0.522875</td><td>0.562408</td><td>-0.73395</td><td>-1.254273</td></tr><tr><td>1</td><td>1.233661</td><td>0.350597</td><td>-0.524313</td><td>-1.146243</td><td>0.153935</td><td>-1.186411</td><td>-1.097783</td><td>-1.47176</td><td>0.161969</td><td>-0.897622</td></tr><tr><td>1</td><td>-0.530966</td><td>0.36883</td><td>0.279223</td><td>0.359933</td><td>-0.456925</td><td>0.501086</td><td>0.636384</td><td>1.050407</td><td>0.074385</td><td>-1.104255</td></tr><tr><td>0</td><td>0.129144</td><td>0.314995</td><td>0.560849</td><td>0.65308</td><td>-1.1165</td><td>0.472631</td><td>0.127418</td><td>0.357425</td><td>0.828441</td><td>-2.178449</td></tr><tr><td>1</td><td>-2.634527</td><td>-0.382724</td><td>2.110675</td><td>2.5097</td><td>0.984643</td><td>2.728514</td><td>-0.939346</td><td>0.402582</td><td>1.364422</td><td>-1.45104</td></tr></tbody></table></div>"
      ],
      "text/plain": [
       "shape: (5, 11)\n",
       "┌────────┬───────────┬───────────┬───────────┬───┬───────────┬──────────┬──────────┬───────────┐\n",
       "│ target ┆ column_0  ┆ column_1  ┆ column_2  ┆ … ┆ column_6  ┆ column_7 ┆ column_8 ┆ column_9  │\n",
       "│ ---    ┆ ---       ┆ ---       ┆ ---       ┆   ┆ ---       ┆ ---      ┆ ---      ┆ ---       │\n",
       "│ i32    ┆ f64       ┆ f64       ┆ f64       ┆   ┆ f64       ┆ f64      ┆ f64      ┆ f64       │\n",
       "╞════════╪═══════════╪═══════════╪═══════════╪═══╪═══════════╪══════════╪══════════╪═══════════╡\n",
       "│ 0      ┆ 0.199798  ┆ -0.508845 ┆ 0.943883  ┆ … ┆ 0.522875  ┆ 0.562408 ┆ -0.73395 ┆ -1.254273 │\n",
       "│ 1      ┆ 1.233661  ┆ 0.350597  ┆ -0.524313 ┆ … ┆ -1.097783 ┆ -1.47176 ┆ 0.161969 ┆ -0.897622 │\n",
       "│ 1      ┆ -0.530966 ┆ 0.36883   ┆ 0.279223  ┆ … ┆ 0.636384  ┆ 1.050407 ┆ 0.074385 ┆ -1.104255 │\n",
       "│ 0      ┆ 0.129144  ┆ 0.314995  ┆ 0.560849  ┆ … ┆ 0.127418  ┆ 0.357425 ┆ 0.828441 ┆ -2.178449 │\n",
       "│ 1      ┆ -2.634527 ┆ -0.382724 ┆ 2.110675  ┆ … ┆ -0.939346 ┆ 0.402582 ┆ 1.364422 ┆ -1.45104  │\n",
       "└────────┴───────────┴───────────┴───────────┴───┴───────────┴──────────┴──────────┴───────────┘"
      ]
     },
     "execution_count": 6,
     "metadata": {},
     "output_type": "execute_result"
    }
   ],
   "source": [
    "scaled = t.scale(df, cols=features, strategy=\"standard\")\n",
    "scaled.head()"
   ]
  },
  {
   "cell_type": "code",
   "execution_count": 7,
   "metadata": {},
   "outputs": [],
   "source": [
    "from sklearn.preprocessing import StandardScaler"
   ]
  },
  {
   "cell_type": "code",
   "execution_count": 8,
   "metadata": {},
   "outputs": [
    {
     "data": {
      "text/html": [
       "<div>\n",
       "<style scoped>\n",
       "    .dataframe tbody tr th:only-of-type {\n",
       "        vertical-align: middle;\n",
       "    }\n",
       "\n",
       "    .dataframe tbody tr th {\n",
       "        vertical-align: top;\n",
       "    }\n",
       "\n",
       "    .dataframe thead th {\n",
       "        text-align: right;\n",
       "    }\n",
       "</style>\n",
       "<table border=\"1\" class=\"dataframe\">\n",
       "  <thead>\n",
       "    <tr style=\"text-align: right;\">\n",
       "      <th></th>\n",
       "      <th>column_0</th>\n",
       "      <th>column_1</th>\n",
       "      <th>column_2</th>\n",
       "      <th>column_3</th>\n",
       "      <th>column_4</th>\n",
       "      <th>column_5</th>\n",
       "      <th>column_6</th>\n",
       "      <th>column_7</th>\n",
       "      <th>column_8</th>\n",
       "      <th>column_9</th>\n",
       "      <th>target</th>\n",
       "    </tr>\n",
       "  </thead>\n",
       "  <tbody>\n",
       "    <tr>\n",
       "      <th>0</th>\n",
       "      <td>0.199799</td>\n",
       "      <td>-0.508847</td>\n",
       "      <td>0.943888</td>\n",
       "      <td>-0.570711</td>\n",
       "      <td>0.419832</td>\n",
       "      <td>0.769543</td>\n",
       "      <td>0.522878</td>\n",
       "      <td>0.562411</td>\n",
       "      <td>-0.733953</td>\n",
       "      <td>-1.254279</td>\n",
       "      <td>0</td>\n",
       "    </tr>\n",
       "    <tr>\n",
       "      <th>1</th>\n",
       "      <td>1.233667</td>\n",
       "      <td>0.350599</td>\n",
       "      <td>-0.524315</td>\n",
       "      <td>-1.146248</td>\n",
       "      <td>0.153935</td>\n",
       "      <td>-1.186417</td>\n",
       "      <td>-1.097789</td>\n",
       "      <td>-1.471767</td>\n",
       "      <td>0.161970</td>\n",
       "      <td>-0.897627</td>\n",
       "      <td>1</td>\n",
       "    </tr>\n",
       "    <tr>\n",
       "      <th>2</th>\n",
       "      <td>-0.530968</td>\n",
       "      <td>0.368832</td>\n",
       "      <td>0.279224</td>\n",
       "      <td>0.359935</td>\n",
       "      <td>-0.456928</td>\n",
       "      <td>0.501089</td>\n",
       "      <td>0.636388</td>\n",
       "      <td>1.050412</td>\n",
       "      <td>0.074385</td>\n",
       "      <td>-1.104261</td>\n",
       "      <td>1</td>\n",
       "    </tr>\n",
       "    <tr>\n",
       "      <th>3</th>\n",
       "      <td>0.129145</td>\n",
       "      <td>0.314997</td>\n",
       "      <td>0.560852</td>\n",
       "      <td>0.653084</td>\n",
       "      <td>-1.116505</td>\n",
       "      <td>0.472633</td>\n",
       "      <td>0.127419</td>\n",
       "      <td>0.357427</td>\n",
       "      <td>0.828445</td>\n",
       "      <td>-2.178460</td>\n",
       "      <td>0</td>\n",
       "    </tr>\n",
       "    <tr>\n",
       "      <th>4</th>\n",
       "      <td>-2.634540</td>\n",
       "      <td>-0.382726</td>\n",
       "      <td>2.110686</td>\n",
       "      <td>2.509712</td>\n",
       "      <td>0.984648</td>\n",
       "      <td>2.728527</td>\n",
       "      <td>-0.939351</td>\n",
       "      <td>0.402584</td>\n",
       "      <td>1.364429</td>\n",
       "      <td>-1.451047</td>\n",
       "      <td>1</td>\n",
       "    </tr>\n",
       "  </tbody>\n",
       "</table>\n",
       "</div>"
      ],
      "text/plain": [
       "   column_0  column_1  column_2  column_3  column_4  column_5  column_6   \n",
       "0  0.199799 -0.508847  0.943888 -0.570711  0.419832  0.769543  0.522878  \\\n",
       "1  1.233667  0.350599 -0.524315 -1.146248  0.153935 -1.186417 -1.097789   \n",
       "2 -0.530968  0.368832  0.279224  0.359935 -0.456928  0.501089  0.636388   \n",
       "3  0.129145  0.314997  0.560852  0.653084 -1.116505  0.472633  0.127419   \n",
       "4 -2.634540 -0.382726  2.110686  2.509712  0.984648  2.728527 -0.939351   \n",
       "\n",
       "   column_7  column_8  column_9  target  \n",
       "0  0.562411 -0.733953 -1.254279       0  \n",
       "1 -1.471767  0.161970 -0.897627       1  \n",
       "2  1.050412  0.074385 -1.104261       1  \n",
       "3  0.357427  0.828445 -2.178460       0  \n",
       "4  0.402584  1.364429 -1.451047       1  "
      ]
     },
     "execution_count": 8,
     "metadata": {},
     "output_type": "execute_result"
    }
   ],
   "source": [
    "# The difference in result is caused by using ddof = 1 for sample variance in dsds\n",
    "# and using ddof = 0 in sklearn.\n",
    "\n",
    "# Long and convoluted code just to do some scaling...\n",
    "std = StandardScaler()\n",
    "scaled2 = std.fit_transform(df_pd[features], df_pd[target])\n",
    "# scaled2[:5, :] # scaled2 is a numpy matrix\n",
    "scaled2 = pd.DataFrame(scaled2, columns=features)\n",
    "scaled2[target] = df_pd[target]\n",
    "scaled2.head()"
   ]
  },
  {
   "cell_type": "code",
   "execution_count": 9,
   "metadata": {},
   "outputs": [
    {
     "name": "stdout",
     "output_type": "stream",
     "text": [
      "2.61 ms ± 42.6 µs per loop (mean ± std. dev. of 7 runs, 100 loops each)\n"
     ]
    }
   ],
   "source": [
    "%%timeit\n",
    "scaled = t.scale(df, cols=features, strategy=\"standard\")"
   ]
  },
  {
   "cell_type": "code",
   "execution_count": 10,
   "metadata": {},
   "outputs": [
    {
     "name": "stdout",
     "output_type": "stream",
     "text": [
      "15.9 ms ± 304 µs per loop (mean ± std. dev. of 7 runs, 100 loops each)\n"
     ]
    }
   ],
   "source": [
    "%%timeit\n",
    "std = StandardScaler()\n",
    "scaled2 = std.fit_transform(df_pd[features], df_pd[target])\n",
    "scaled2 = pd.DataFrame(scaled2, columns=features)\n",
    "scaled2[target] = df_pd[target]\n"
   ]
  },
  {
   "cell_type": "code",
   "execution_count": 11,
   "metadata": {},
   "outputs": [
    {
     "data": {
      "text/html": [
       "<div><style>\n",
       ".dataframe > thead > tr > th,\n",
       ".dataframe > tbody > tr > td {\n",
       "  text-align: right;\n",
       "  white-space: pre-wrap;\n",
       "}\n",
       "</style>\n",
       "<small>shape: (3, 11)</small><table border=\"1\" class=\"dataframe\"><thead><tr><th>target</th><th>column_0</th><th>column_1</th><th>column_2</th><th>column_3</th><th>column_4</th><th>column_5</th><th>column_6</th><th>column_7</th><th>column_8</th><th>column_9</th></tr><tr><td>i32</td><td>f64</td><td>f64</td><td>f64</td><td>f64</td><td>f64</td><td>f64</td><td>f64</td><td>f64</td><td>f64</td><td>f64</td></tr></thead><tbody><tr><td>0</td><td>0.200232</td><td>-0.888892</td><td>1.524665</td><td>-0.506326</td><td>0.150994</td><td>2.090686</td><td>1.145647</td><td>1.40439</td><td>-1.409437</td><td>-2.024626</td></tr><tr><td>1</td><td>2.202776</td><td>0.607151</td><td>-0.711372</td><td>-1.522102</td><td>-0.259607</td><td>-2.307091</td><td>-1.1653</td><td>-1.870384</td><td>0.551632</td><td>-1.449511</td></tr><tr><td>1</td><td>-1.215223</td><td>0.63889</td><td>0.512399</td><td>1.136189</td><td>-1.202908</td><td>1.487095</td><td>1.307504</td><td>2.19001</td><td>0.35992</td><td>-1.782716</td></tr></tbody></table></div>"
      ],
      "text/plain": [
       "shape: (3, 11)\n",
       "┌────────┬───────────┬───────────┬───────────┬───┬──────────┬───────────┬───────────┬───────────┐\n",
       "│ target ┆ column_0  ┆ column_1  ┆ column_2  ┆ … ┆ column_6 ┆ column_7  ┆ column_8  ┆ column_9  │\n",
       "│ ---    ┆ ---       ┆ ---       ┆ ---       ┆   ┆ ---      ┆ ---       ┆ ---       ┆ ---       │\n",
       "│ i32    ┆ f64       ┆ f64       ┆ f64       ┆   ┆ f64      ┆ f64       ┆ f64       ┆ f64       │\n",
       "╞════════╪═══════════╪═══════════╪═══════════╪═══╪══════════╪═══════════╪═══════════╪═══════════╡\n",
       "│ 0      ┆ 0.200232  ┆ -0.888892 ┆ 1.524665  ┆ … ┆ 1.145647 ┆ 1.40439   ┆ -1.409437 ┆ -2.024626 │\n",
       "│ 1      ┆ 2.202776  ┆ 0.607151  ┆ -0.711372 ┆ … ┆ -1.1653  ┆ -1.870384 ┆ 0.551632  ┆ -1.449511 │\n",
       "│ 1      ┆ -1.215223 ┆ 0.63889   ┆ 0.512399  ┆ … ┆ 1.307504 ┆ 2.19001   ┆ 0.35992   ┆ -1.782716 │\n",
       "└────────┴───────────┴───────────┴───────────┴───┴──────────┴───────────┴───────────┴───────────┘"
      ]
     },
     "execution_count": 11,
     "metadata": {},
     "output_type": "execute_result"
    }
   ],
   "source": [
    "import dsds.transform as t\n",
    "t.impute(df, cols=features, strategy=\"median\").head(3) "
   ]
  },
  {
   "cell_type": "code",
   "execution_count": 12,
   "metadata": {},
   "outputs": [
    {
     "data": {
      "text/html": [
       "<div>\n",
       "<style scoped>\n",
       "    .dataframe tbody tr th:only-of-type {\n",
       "        vertical-align: middle;\n",
       "    }\n",
       "\n",
       "    .dataframe tbody tr th {\n",
       "        vertical-align: top;\n",
       "    }\n",
       "\n",
       "    .dataframe thead th {\n",
       "        text-align: right;\n",
       "    }\n",
       "</style>\n",
       "<table border=\"1\" class=\"dataframe\">\n",
       "  <thead>\n",
       "    <tr style=\"text-align: right;\">\n",
       "      <th></th>\n",
       "      <th>target</th>\n",
       "      <th>column_0</th>\n",
       "      <th>column_1</th>\n",
       "      <th>column_2</th>\n",
       "      <th>column_3</th>\n",
       "      <th>column_4</th>\n",
       "      <th>column_5</th>\n",
       "      <th>column_6</th>\n",
       "      <th>column_7</th>\n",
       "      <th>column_8</th>\n",
       "      <th>column_9</th>\n",
       "    </tr>\n",
       "  </thead>\n",
       "  <tbody>\n",
       "    <tr>\n",
       "      <th>0</th>\n",
       "      <td>0.0</td>\n",
       "      <td>0.200232</td>\n",
       "      <td>-0.888892</td>\n",
       "      <td>1.524665</td>\n",
       "      <td>-0.506326</td>\n",
       "      <td>0.150994</td>\n",
       "      <td>2.090686</td>\n",
       "      <td>1.145647</td>\n",
       "      <td>1.404390</td>\n",
       "      <td>-1.409437</td>\n",
       "      <td>-2.024626</td>\n",
       "    </tr>\n",
       "    <tr>\n",
       "      <th>1</th>\n",
       "      <td>1.0</td>\n",
       "      <td>2.202776</td>\n",
       "      <td>0.607151</td>\n",
       "      <td>-0.711372</td>\n",
       "      <td>-1.522102</td>\n",
       "      <td>-0.259607</td>\n",
       "      <td>-2.307091</td>\n",
       "      <td>-1.165300</td>\n",
       "      <td>-1.870384</td>\n",
       "      <td>0.551632</td>\n",
       "      <td>-1.449511</td>\n",
       "    </tr>\n",
       "    <tr>\n",
       "      <th>2</th>\n",
       "      <td>1.0</td>\n",
       "      <td>-1.215223</td>\n",
       "      <td>0.638890</td>\n",
       "      <td>0.512399</td>\n",
       "      <td>1.136189</td>\n",
       "      <td>-1.202908</td>\n",
       "      <td>1.487095</td>\n",
       "      <td>1.307504</td>\n",
       "      <td>2.190010</td>\n",
       "      <td>0.359920</td>\n",
       "      <td>-1.782716</td>\n",
       "    </tr>\n",
       "  </tbody>\n",
       "</table>\n",
       "</div>"
      ],
      "text/plain": [
       "   target  column_0  column_1  column_2  column_3  column_4  column_5   \n",
       "0     0.0  0.200232 -0.888892  1.524665 -0.506326  0.150994  2.090686  \\\n",
       "1     1.0  2.202776  0.607151 -0.711372 -1.522102 -0.259607 -2.307091   \n",
       "2     1.0 -1.215223  0.638890  0.512399  1.136189 -1.202908  1.487095   \n",
       "\n",
       "   column_6  column_7  column_8  column_9  \n",
       "0  1.145647  1.404390 -1.409437 -2.024626  \n",
       "1 -1.165300 -1.870384  0.551632 -1.449511  \n",
       "2  1.307504  2.190010  0.359920 -1.782716  "
      ]
     },
     "execution_count": 12,
     "metadata": {},
     "output_type": "execute_result"
    }
   ],
   "source": [
    "from sklearn.impute import SimpleImputer \n",
    "imputer = SimpleImputer(strategy = \"median\")\n",
    "imputed = pd.DataFrame(imputer.fit_transform(df_pd, df_pd[target]), columns=df.columns)\n",
    "imputed.head(3)"
   ]
  },
  {
   "cell_type": "code",
   "execution_count": 13,
   "metadata": {},
   "outputs": [
    {
     "name": "stdout",
     "output_type": "stream",
     "text": [
      "125 ms ± 1.79 ms per loop (mean ± std. dev. of 7 runs, 10 loops each)\n"
     ]
    }
   ],
   "source": [
    "%%timeit\n",
    "imputer = SimpleImputer(strategy = \"median\")\n",
    "imputed = pd.DataFrame(imputer.fit_transform(df_pd, df_pd[target]), columns=df.columns)\n"
   ]
  },
  {
   "cell_type": "code",
   "execution_count": 14,
   "metadata": {},
   "outputs": [
    {
     "name": "stdout",
     "output_type": "stream",
     "text": [
      "1.19 ms ± 14.4 µs per loop (mean ± std. dev. of 7 runs, 1,000 loops each)\n"
     ]
    }
   ],
   "source": [
    "%%timeit\n",
    "t.impute(df, cols=features, strategy=\"median\")"
   ]
  },
  {
   "attachments": {},
   "cell_type": "markdown",
   "metadata": {},
   "source": [
    "# Fscore"
   ]
  },
  {
   "cell_type": "code",
   "execution_count": 15,
   "metadata": {},
   "outputs": [],
   "source": [
    "import dsds.fs as fs # fs = feature_selection\n",
    "from sklearn.feature_selection import mutual_info_classif, f_classif, f_regression"
   ]
  },
  {
   "cell_type": "code",
   "execution_count": 16,
   "metadata": {},
   "outputs": [
    {
     "data": {
      "text/plain": [
       "array([2.88060581e+03, 8.97413770e-03, 1.69476228e+02, 8.68852207e+03,\n",
       "       1.16376096e+04, 7.69397014e+02, 4.93347606e+03, 1.03827771e+04,\n",
       "       1.76492943e+04, 3.72855765e-01])"
      ]
     },
     "execution_count": 16,
     "metadata": {},
     "output_type": "execute_result"
    }
   ],
   "source": [
    "fs._f_score(df, target=target, num_list = features)"
   ]
  },
  {
   "cell_type": "code",
   "execution_count": 17,
   "metadata": {},
   "outputs": [
    {
     "name": "stdout",
     "output_type": "stream",
     "text": [
      "Spent 0.01s in computing Fscore.\n"
     ]
    },
    {
     "data": {
      "text/html": [
       "<div><style>\n",
       ".dataframe > thead > tr > th,\n",
       ".dataframe > tbody > tr > td {\n",
       "  text-align: right;\n",
       "  white-space: pre-wrap;\n",
       "}\n",
       "</style>\n",
       "<small>shape: (10, 3)</small><table border=\"1\" class=\"dataframe\"><thead><tr><th>feature</th><th>f_value</th><th>p_value</th></tr><tr><td>str</td><td>f64</td><td>f64</td></tr></thead><tbody><tr><td>&quot;column_0&quot;</td><td>2880.605809</td><td>0.0</td></tr><tr><td>&quot;column_1&quot;</td><td>0.008974</td><td>0.924528</td></tr><tr><td>&quot;column_2&quot;</td><td>169.476228</td><td>1.0353e-38</td></tr><tr><td>&quot;column_3&quot;</td><td>8688.522069</td><td>0.0</td></tr><tr><td>&quot;column_4&quot;</td><td>11637.609615</td><td>0.0</td></tr><tr><td>&quot;column_5&quot;</td><td>769.397014</td><td>1.0641e-168</td></tr><tr><td>&quot;column_6&quot;</td><td>4933.476058</td><td>0.0</td></tr><tr><td>&quot;column_7&quot;</td><td>10382.777147</td><td>0.0</td></tr><tr><td>&quot;column_8&quot;</td><td>17649.294275</td><td>0.0</td></tr><tr><td>&quot;column_9&quot;</td><td>0.372856</td><td>0.541453</td></tr></tbody></table></div>"
      ],
      "text/plain": [
       "shape: (10, 3)\n",
       "┌──────────┬──────────────┬────────────┐\n",
       "│ feature  ┆ f_value      ┆ p_value    │\n",
       "│ ---      ┆ ---          ┆ ---        │\n",
       "│ str      ┆ f64          ┆ f64        │\n",
       "╞══════════╪══════════════╪════════════╡\n",
       "│ column_0 ┆ 2880.605809  ┆ 0.0        │\n",
       "│ column_1 ┆ 0.008974     ┆ 0.924528   │\n",
       "│ column_2 ┆ 169.476228   ┆ 1.0353e-38 │\n",
       "│ column_3 ┆ 8688.522069  ┆ 0.0        │\n",
       "│ …        ┆ …            ┆ …          │\n",
       "│ column_6 ┆ 4933.476058  ┆ 0.0        │\n",
       "│ column_7 ┆ 10382.777147 ┆ 0.0        │\n",
       "│ column_8 ┆ 17649.294275 ┆ 0.0        │\n",
       "│ column_9 ┆ 0.372856     ┆ 0.541453   │\n",
       "└──────────┴──────────────┴────────────┘"
      ]
     },
     "execution_count": 17,
     "metadata": {},
     "output_type": "execute_result"
    }
   ],
   "source": [
    "# The more core, the bigger the difference. Data here is not big enough to show the difference\n",
    "start = perf_counter()\n",
    "res = fs.f_classif(df, target=target)\n",
    "end = perf_counter()\n",
    "print(f\"Spent {end - start:.2f}s in computing Fscore.\")\n",
    "res.head(10)"
   ]
  },
  {
   "cell_type": "code",
   "execution_count": 18,
   "metadata": {},
   "outputs": [
    {
     "name": "stdout",
     "output_type": "stream",
     "text": [
      "Spent 0.02s in computing Fscore.\n"
     ]
    },
    {
     "data": {
      "text/html": [
       "<div>\n",
       "<style scoped>\n",
       "    .dataframe tbody tr th:only-of-type {\n",
       "        vertical-align: middle;\n",
       "    }\n",
       "\n",
       "    .dataframe tbody tr th {\n",
       "        vertical-align: top;\n",
       "    }\n",
       "\n",
       "    .dataframe thead th {\n",
       "        text-align: right;\n",
       "    }\n",
       "</style>\n",
       "<table border=\"1\" class=\"dataframe\">\n",
       "  <thead>\n",
       "    <tr style=\"text-align: right;\">\n",
       "      <th></th>\n",
       "      <th>feature</th>\n",
       "      <th>f_value</th>\n",
       "      <th>p_value</th>\n",
       "    </tr>\n",
       "  </thead>\n",
       "  <tbody>\n",
       "    <tr>\n",
       "      <th>0</th>\n",
       "      <td>column_0</td>\n",
       "      <td>2880.605809</td>\n",
       "      <td>0.000000e+00</td>\n",
       "    </tr>\n",
       "    <tr>\n",
       "      <th>1</th>\n",
       "      <td>column_1</td>\n",
       "      <td>0.008974</td>\n",
       "      <td>9.245279e-01</td>\n",
       "    </tr>\n",
       "    <tr>\n",
       "      <th>2</th>\n",
       "      <td>column_2</td>\n",
       "      <td>169.476228</td>\n",
       "      <td>1.035336e-38</td>\n",
       "    </tr>\n",
       "    <tr>\n",
       "      <th>3</th>\n",
       "      <td>column_3</td>\n",
       "      <td>8688.522069</td>\n",
       "      <td>0.000000e+00</td>\n",
       "    </tr>\n",
       "    <tr>\n",
       "      <th>4</th>\n",
       "      <td>column_4</td>\n",
       "      <td>11637.609615</td>\n",
       "      <td>0.000000e+00</td>\n",
       "    </tr>\n",
       "    <tr>\n",
       "      <th>5</th>\n",
       "      <td>column_5</td>\n",
       "      <td>769.397014</td>\n",
       "      <td>1.064110e-168</td>\n",
       "    </tr>\n",
       "    <tr>\n",
       "      <th>6</th>\n",
       "      <td>column_6</td>\n",
       "      <td>4933.476058</td>\n",
       "      <td>0.000000e+00</td>\n",
       "    </tr>\n",
       "    <tr>\n",
       "      <th>7</th>\n",
       "      <td>column_7</td>\n",
       "      <td>10382.777147</td>\n",
       "      <td>0.000000e+00</td>\n",
       "    </tr>\n",
       "    <tr>\n",
       "      <th>8</th>\n",
       "      <td>column_8</td>\n",
       "      <td>17649.294275</td>\n",
       "      <td>0.000000e+00</td>\n",
       "    </tr>\n",
       "    <tr>\n",
       "      <th>9</th>\n",
       "      <td>column_9</td>\n",
       "      <td>0.372856</td>\n",
       "      <td>5.414531e-01</td>\n",
       "    </tr>\n",
       "  </tbody>\n",
       "</table>\n",
       "</div>"
      ],
      "text/plain": [
       "    feature       f_value        p_value\n",
       "0  column_0   2880.605809   0.000000e+00\n",
       "1  column_1      0.008974   9.245279e-01\n",
       "2  column_2    169.476228   1.035336e-38\n",
       "3  column_3   8688.522069   0.000000e+00\n",
       "4  column_4  11637.609615   0.000000e+00\n",
       "5  column_5    769.397014  1.064110e-168\n",
       "6  column_6   4933.476058   0.000000e+00\n",
       "7  column_7  10382.777147   0.000000e+00\n",
       "8  column_8  17649.294275   0.000000e+00\n",
       "9  column_9      0.372856   5.414531e-01"
      ]
     },
     "execution_count": 18,
     "metadata": {},
     "output_type": "execute_result"
    }
   ],
   "source": [
    "start = perf_counter()\n",
    "f, pv = f_classif(df_pd[features], df_pd[target])\n",
    "res = pd.DataFrame({\"feature\":features, \"f_value\":f, \"p_value\":pv})\n",
    "end = perf_counter()\n",
    "print(f\"Spent {end - start:.2f}s in computing Fscore.\")\n",
    "res.head(10)"
   ]
  },
  {
   "cell_type": "code",
   "execution_count": 19,
   "metadata": {},
   "outputs": [
    {
     "name": "stdout",
     "output_type": "stream",
     "text": [
      "Spent  0.01s in computing Fscore.\n"
     ]
    },
    {
     "data": {
      "text/html": [
       "<div>\n",
       "<style scoped>\n",
       "    .dataframe tbody tr th:only-of-type {\n",
       "        vertical-align: middle;\n",
       "    }\n",
       "\n",
       "    .dataframe tbody tr th {\n",
       "        vertical-align: top;\n",
       "    }\n",
       "\n",
       "    .dataframe thead th {\n",
       "        text-align: right;\n",
       "    }\n",
       "</style>\n",
       "<table border=\"1\" class=\"dataframe\">\n",
       "  <thead>\n",
       "    <tr style=\"text-align: right;\">\n",
       "      <th></th>\n",
       "      <th>feature</th>\n",
       "      <th>f_value</th>\n",
       "      <th>p_value</th>\n",
       "    </tr>\n",
       "  </thead>\n",
       "  <tbody>\n",
       "    <tr>\n",
       "      <th>0</th>\n",
       "      <td>column_0</td>\n",
       "      <td>2880.605809</td>\n",
       "      <td>0.000000e+00</td>\n",
       "    </tr>\n",
       "    <tr>\n",
       "      <th>1</th>\n",
       "      <td>column_1</td>\n",
       "      <td>0.008974</td>\n",
       "      <td>9.245279e-01</td>\n",
       "    </tr>\n",
       "    <tr>\n",
       "      <th>2</th>\n",
       "      <td>column_2</td>\n",
       "      <td>169.476228</td>\n",
       "      <td>1.035336e-38</td>\n",
       "    </tr>\n",
       "    <tr>\n",
       "      <th>3</th>\n",
       "      <td>column_3</td>\n",
       "      <td>8688.522069</td>\n",
       "      <td>0.000000e+00</td>\n",
       "    </tr>\n",
       "    <tr>\n",
       "      <th>4</th>\n",
       "      <td>column_4</td>\n",
       "      <td>11637.609615</td>\n",
       "      <td>0.000000e+00</td>\n",
       "    </tr>\n",
       "    <tr>\n",
       "      <th>5</th>\n",
       "      <td>column_5</td>\n",
       "      <td>769.397014</td>\n",
       "      <td>1.064110e-168</td>\n",
       "    </tr>\n",
       "    <tr>\n",
       "      <th>6</th>\n",
       "      <td>column_6</td>\n",
       "      <td>4933.476058</td>\n",
       "      <td>0.000000e+00</td>\n",
       "    </tr>\n",
       "    <tr>\n",
       "      <th>7</th>\n",
       "      <td>column_7</td>\n",
       "      <td>10382.777147</td>\n",
       "      <td>0.000000e+00</td>\n",
       "    </tr>\n",
       "    <tr>\n",
       "      <th>8</th>\n",
       "      <td>column_8</td>\n",
       "      <td>17649.294275</td>\n",
       "      <td>0.000000e+00</td>\n",
       "    </tr>\n",
       "    <tr>\n",
       "      <th>9</th>\n",
       "      <td>column_9</td>\n",
       "      <td>0.372856</td>\n",
       "      <td>5.414531e-01</td>\n",
       "    </tr>\n",
       "  </tbody>\n",
       "</table>\n",
       "</div>"
      ],
      "text/plain": [
       "    feature       f_value        p_value\n",
       "0  column_0   2880.605809   0.000000e+00\n",
       "1  column_1      0.008974   9.245279e-01\n",
       "2  column_2    169.476228   1.035336e-38\n",
       "3  column_3   8688.522069   0.000000e+00\n",
       "4  column_4  11637.609615   0.000000e+00\n",
       "5  column_5    769.397014  1.064110e-168\n",
       "6  column_6   4933.476058   0.000000e+00\n",
       "7  column_7  10382.777147   0.000000e+00\n",
       "8  column_8  17649.294275   0.000000e+00\n",
       "9  column_9      0.372856   5.414531e-01"
      ]
     },
     "execution_count": 19,
     "metadata": {},
     "output_type": "execute_result"
    }
   ],
   "source": [
    "start = perf_counter()\n",
    "f, pv = f_regression(df_pd[features], df_pd[target])\n",
    "res = pd.DataFrame({\"feature\":features, \"f_value\":f, \"p_value\":pv})\n",
    "end = perf_counter()\n",
    "print(f\"Spent {end - start: .2f}s in computing Fscore.\")\n",
    "res.head(10)"
   ]
  },
  {
   "attachments": {},
   "cell_type": "markdown",
   "metadata": {},
   "source": [
    "# Mutual Information Score"
   ]
  },
  {
   "cell_type": "code",
   "execution_count": 20,
   "metadata": {},
   "outputs": [
    {
     "name": "stderr",
     "output_type": "stream",
     "text": [
      "Mutual Info: 100%|██████████| 10/10 [00:00<00:00, 13.10it/s]\n"
     ]
    },
    {
     "data": {
      "text/html": [
       "<div><style>\n",
       ".dataframe > thead > tr > th,\n",
       ".dataframe > tbody > tr > td {\n",
       "  text-align: right;\n",
       "  white-space: pre-wrap;\n",
       "}\n",
       "</style>\n",
       "<small>shape: (10, 2)</small><table border=\"1\" class=\"dataframe\"><thead><tr><th>feature</th><th>estimated_mi</th></tr><tr><td>str</td><td>f64</td></tr></thead><tbody><tr><td>&quot;column_8&quot;</td><td>0.090184</td></tr><tr><td>&quot;column_7&quot;</td><td>0.064032</td></tr><tr><td>&quot;column_4&quot;</td><td>0.059749</td></tr><tr><td>&quot;column_0&quot;</td><td>0.057873</td></tr><tr><td>&quot;column_3&quot;</td><td>0.040985</td></tr><tr><td>&quot;column_6&quot;</td><td>0.033473</td></tr><tr><td>&quot;column_2&quot;</td><td>0.030144</td></tr><tr><td>&quot;column_5&quot;</td><td>0.0194</td></tr><tr><td>&quot;column_9&quot;</td><td>0.01073</td></tr><tr><td>&quot;column_1&quot;</td><td>0.0</td></tr></tbody></table></div>"
      ],
      "text/plain": [
       "shape: (10, 2)\n",
       "┌──────────┬──────────────┐\n",
       "│ feature  ┆ estimated_mi │\n",
       "│ ---      ┆ ---          │\n",
       "│ str      ┆ f64          │\n",
       "╞══════════╪══════════════╡\n",
       "│ column_8 ┆ 0.090184     │\n",
       "│ column_7 ┆ 0.064032     │\n",
       "│ column_4 ┆ 0.059749     │\n",
       "│ column_0 ┆ 0.057873     │\n",
       "│ …        ┆ …            │\n",
       "│ column_2 ┆ 0.030144     │\n",
       "│ column_5 ┆ 0.0194       │\n",
       "│ column_9 ┆ 0.01073      │\n",
       "│ column_1 ┆ 0.0          │\n",
       "└──────────┴──────────────┘"
      ]
     },
     "execution_count": 20,
     "metadata": {},
     "output_type": "execute_result"
    }
   ],
   "source": [
    "# Vastly faster than sklearn. Finished in 0.7s in this run\n",
    "fs.mutual_info(df, target=target, conti_cols=features).sort(by=\"estimated_mi\", descending=True).limit(10)"
   ]
  },
  {
   "cell_type": "code",
   "execution_count": 21,
   "metadata": {},
   "outputs": [],
   "source": [
    "# A wrapper for more apples to apples comparison\n",
    "def estimate_mi_sklearn(df:pd.DataFrame, cols:list[str], target:str, k=3, random_state:int=42):\n",
    "    mi_estimates = mutual_info_classif(df[cols], df[target]\n",
    "                        , n_neighbors=k, random_state=random_state, discrete_features=False)\n",
    "\n",
    "    return pl.from_records([cols, mi_estimates], schema=[\"feature\", \"estimated_mi\"]).sort(\"estimated_mi\", descending=True)"
   ]
  },
  {
   "cell_type": "code",
   "execution_count": 22,
   "metadata": {},
   "outputs": [
    {
     "data": {
      "text/html": [
       "<div><style>\n",
       ".dataframe > thead > tr > th,\n",
       ".dataframe > tbody > tr > td {\n",
       "  text-align: right;\n",
       "  white-space: pre-wrap;\n",
       "}\n",
       "</style>\n",
       "<small>shape: (10, 2)</small><table border=\"1\" class=\"dataframe\"><thead><tr><th>feature</th><th>estimated_mi</th></tr><tr><td>str</td><td>f64</td></tr></thead><tbody><tr><td>&quot;column_8&quot;</td><td>0.090184</td></tr><tr><td>&quot;column_7&quot;</td><td>0.064029</td></tr><tr><td>&quot;column_4&quot;</td><td>0.05975</td></tr><tr><td>&quot;column_0&quot;</td><td>0.057873</td></tr><tr><td>&quot;column_3&quot;</td><td>0.040985</td></tr><tr><td>&quot;column_6&quot;</td><td>0.033473</td></tr><tr><td>&quot;column_2&quot;</td><td>0.030144</td></tr><tr><td>&quot;column_5&quot;</td><td>0.019398</td></tr><tr><td>&quot;column_9&quot;</td><td>0.01073</td></tr><tr><td>&quot;column_1&quot;</td><td>0.0</td></tr></tbody></table></div>"
      ],
      "text/plain": [
       "shape: (10, 2)\n",
       "┌──────────┬──────────────┐\n",
       "│ feature  ┆ estimated_mi │\n",
       "│ ---      ┆ ---          │\n",
       "│ str      ┆ f64          │\n",
       "╞══════════╪══════════════╡\n",
       "│ column_8 ┆ 0.090184     │\n",
       "│ column_7 ┆ 0.064029     │\n",
       "│ column_4 ┆ 0.05975      │\n",
       "│ column_0 ┆ 0.057873     │\n",
       "│ …        ┆ …            │\n",
       "│ column_2 ┆ 0.030144     │\n",
       "│ column_5 ┆ 0.019398     │\n",
       "│ column_9 ┆ 0.01073      │\n",
       "│ column_1 ┆ 0.0          │\n",
       "└──────────┴──────────────┘"
      ]
     },
     "execution_count": 22,
     "metadata": {},
     "output_type": "execute_result"
    }
   ],
   "source": [
    "# The reason sklearn's impl is slow is that it did not turn on multithreading for KDtrees.\n",
    "# Sklearn also did not provide an option to turn it on, despite the fact that sklearn's KDtrees\n",
    "# does have this functionality. Finished in 4.4s in this run\n",
    "estimate_mi_sklearn(df_pd, cols=features, target=target).limit(10)"
   ]
  },
  {
   "attachments": {},
   "cell_type": "markdown",
   "metadata": {},
   "source": [
    "# MRMR Feature selection Strategy"
   ]
  },
  {
   "cell_type": "code",
   "execution_count": 23,
   "metadata": {},
   "outputs": [],
   "source": [
    "from mrmr import mrmr_classif # This is currently the most starred MRMR Python package on github"
   ]
  },
  {
   "cell_type": "code",
   "execution_count": 24,
   "metadata": {},
   "outputs": [],
   "source": [
    "# Need to wrap it so that we get apples to apples comparison\n",
    "def mrmr_package(df:pd.DataFrame, target:str, k:int) -> list[str]:\n",
    "    features = list(df.columns)\n",
    "    features.remove(target)\n",
    "    X = df[features]\n",
    "    y = df[target]\n",
    "    start = perf_counter()\n",
    "    output = mrmr_classif(X, y, K = k)\n",
    "    end = perf_counter()\n",
    "    print(f\"Spent {end - start:.2f}s to compute mrmr.\")\n",
    "    return output"
   ]
  },
  {
   "cell_type": "code",
   "execution_count": 25,
   "metadata": {},
   "outputs": [
    {
     "name": "stderr",
     "output_type": "stream",
     "text": [
      "100%|██████████| 10/10 [00:06<00:00,  1.63it/s]"
     ]
    },
    {
     "name": "stdout",
     "output_type": "stream",
     "text": [
      "Spent 8.98s to compute mrmr.\n"
     ]
    },
    {
     "name": "stderr",
     "output_type": "stream",
     "text": [
      "\n"
     ]
    },
    {
     "data": {
      "text/plain": [
       "['column_8',\n",
       " 'column_4',\n",
       " 'column_7',\n",
       " 'column_3',\n",
       " 'column_6',\n",
       " 'column_0',\n",
       " 'column_5',\n",
       " 'column_2',\n",
       " 'column_9',\n",
       " 'column_1']"
      ]
     },
     "execution_count": 25,
     "metadata": {},
     "output_type": "execute_result"
    }
   ],
   "source": [
    "mrmr_package(df_pd, \"target\", 50)"
   ]
  },
  {
   "cell_type": "code",
   "execution_count": 26,
   "metadata": {},
   "outputs": [
    {
     "name": "stderr",
     "output_type": "stream",
     "text": [
      "INFO:dsds.fs:Running fscore to determine feature relevance...\n"
     ]
    },
    {
     "name": "stdout",
     "output_type": "stream",
     "text": [
      "Found 10 total features to select from. Proceeding to select top 10 features.\n"
     ]
    },
    {
     "name": "stderr",
     "output_type": "stream",
     "text": [
      "MRMR, fscore: 100%|██████████| 10/10 [00:00<00:00, 1999.76it/s]"
     ]
    },
    {
     "name": "stdout",
     "output_type": "stream",
     "text": [
      "Output is sorted in order of selection (max relevance min redundancy).\n",
      "Spent 0.02s in computing.\n"
     ]
    },
    {
     "name": "stderr",
     "output_type": "stream",
     "text": [
      "\n"
     ]
    },
    {
     "data": {
      "text/plain": [
       "['column_8',\n",
       " 'column_4',\n",
       " 'column_7',\n",
       " 'column_3',\n",
       " 'column_6',\n",
       " 'column_0',\n",
       " 'column_5',\n",
       " 'column_2',\n",
       " 'column_9',\n",
       " 'column_1']"
      ]
     },
     "execution_count": 26,
     "metadata": {},
     "output_type": "execute_result"
    }
   ],
   "source": [
    "start = perf_counter()\n",
    "res = fs.mrmr(df, target=\"target\", k = 50, low_memory=False)\n",
    "end = perf_counter()\n",
    "print(f\"Spent {end - start:.2f}s in computing.\")\n",
    "res"
   ]
  },
  {
   "cell_type": "code",
   "execution_count": 27,
   "metadata": {},
   "outputs": [
    {
     "name": "stderr",
     "output_type": "stream",
     "text": [
      "INFO:dsds.fs:Running fscore to determine feature relevance...\n"
     ]
    },
    {
     "name": "stdout",
     "output_type": "stream",
     "text": [
      "Found 10 total features to select from. Proceeding to select top 10 features.\n"
     ]
    },
    {
     "name": "stderr",
     "output_type": "stream",
     "text": [
      "MRMR, fscore: 100%|██████████| 10/10 [00:00<00:00, 555.41it/s]"
     ]
    },
    {
     "name": "stdout",
     "output_type": "stream",
     "text": [
      "Output is sorted in order of selection (max relevance min redundancy).\n",
      "Spent 0.03s in computing.\n"
     ]
    },
    {
     "name": "stderr",
     "output_type": "stream",
     "text": [
      "\n"
     ]
    },
    {
     "data": {
      "text/plain": [
       "['column_8',\n",
       " 'column_4',\n",
       " 'column_7',\n",
       " 'column_3',\n",
       " 'column_6',\n",
       " 'column_0',\n",
       " 'column_5',\n",
       " 'column_2',\n",
       " 'column_9',\n",
       " 'column_1']"
      ]
     },
     "execution_count": 27,
     "metadata": {},
     "output_type": "execute_result"
    }
   ],
   "source": [
    "start = perf_counter()\n",
    "res = fs.mrmr(df, target=\"target\", k = 50, low_memory=True)\n",
    "end = perf_counter()\n",
    "print(f\"Spent {end - start:.2f}s in computing.\")\n",
    "res"
   ]
  },
  {
   "attachments": {},
   "cell_type": "markdown",
   "metadata": {},
   "source": [
    "# Power Transform"
   ]
  },
  {
   "cell_type": "code",
   "execution_count": 28,
   "metadata": {},
   "outputs": [
    {
     "name": "stdout",
     "output_type": "stream",
     "text": [
      "Spent 0.24s in computing.\n"
     ]
    },
    {
     "data": {
      "text/html": [
       "<div><style>\n",
       ".dataframe > thead > tr > th,\n",
       ".dataframe > tbody > tr > td {\n",
       "  text-align: right;\n",
       "  white-space: pre-wrap;\n",
       "}\n",
       "</style>\n",
       "<small>shape: (5, 11)</small><table border=\"1\" class=\"dataframe\"><thead><tr><th>target</th><th>column_0</th><th>column_1</th><th>column_2</th><th>column_3</th><th>column_4</th><th>column_5</th><th>column_6</th><th>column_7</th><th>column_8</th><th>column_9</th></tr><tr><td>i32</td><td>f64</td><td>f64</td><td>f64</td><td>f64</td><td>f64</td><td>f64</td><td>f64</td><td>f64</td><td>f64</td><td>f64</td></tr></thead><tbody><tr><td>0</td><td>0.203884</td><td>-0.937633</td><td>1.642856</td><td>-0.502813</td><td>0.149992</td><td>2.128988</td><td>1.177659</td><td>1.514831</td><td>-1.261529</td><td>-1.992616</td></tr><tr><td>1</td><td>2.520246</td><td>0.584287</td><td>-0.683235</td><td>-1.496533</td><td>-0.262508</td><td>-2.262912</td><td>-1.133432</td><td>-1.707013</td><td>0.58168</td><td>-1.43145</td></tr><tr><td>1</td><td>-1.11589</td><td>0.613791</td><td>0.528427</td><td>1.151781</td><td>-1.253924</td><td>1.508405</td><td>1.348006</td><td>2.430603</td><td>0.37322</td><td>-1.756923</td></tr><tr><td>0</td><td>0.063758</td><td>0.526424</td><td>0.990961</td><td>1.683729</td><td>-2.370455</td><td>1.442848</td><td>0.591017</td><td>1.142623</td><td>2.33023</td><td>-3.435586</td></tr><tr><td>1</td><td>-4.232702</td><td>-0.698183</td><td>3.746853</td><td>5.113499</td><td>0.986767</td><td>6.733468</td><td>-0.917648</td><td>1.223906</td><td>3.890545</td><td>-2.301063</td></tr></tbody></table></div>"
      ],
      "text/plain": [
       "shape: (5, 11)\n",
       "┌────────┬───────────┬───────────┬───────────┬───┬───────────┬───────────┬───────────┬───────────┐\n",
       "│ target ┆ column_0  ┆ column_1  ┆ column_2  ┆ … ┆ column_6  ┆ column_7  ┆ column_8  ┆ column_9  │\n",
       "│ ---    ┆ ---       ┆ ---       ┆ ---       ┆   ┆ ---       ┆ ---       ┆ ---       ┆ ---       │\n",
       "│ i32    ┆ f64       ┆ f64       ┆ f64       ┆   ┆ f64       ┆ f64       ┆ f64       ┆ f64       │\n",
       "╞════════╪═══════════╪═══════════╪═══════════╪═══╪═══════════╪═══════════╪═══════════╪═══════════╡\n",
       "│ 0      ┆ 0.203884  ┆ -0.937633 ┆ 1.642856  ┆ … ┆ 1.177659  ┆ 1.514831  ┆ -1.261529 ┆ -1.992616 │\n",
       "│ 1      ┆ 2.520246  ┆ 0.584287  ┆ -0.683235 ┆ … ┆ -1.133432 ┆ -1.707013 ┆ 0.58168   ┆ -1.43145  │\n",
       "│ 1      ┆ -1.11589  ┆ 0.613791  ┆ 0.528427  ┆ … ┆ 1.348006  ┆ 2.430603  ┆ 0.37322   ┆ -1.756923 │\n",
       "│ 0      ┆ 0.063758  ┆ 0.526424  ┆ 0.990961  ┆ … ┆ 0.591017  ┆ 1.142623  ┆ 2.33023   ┆ -3.435586 │\n",
       "│ 1      ┆ -4.232702 ┆ -0.698183 ┆ 3.746853  ┆ … ┆ -0.917648 ┆ 1.223906  ┆ 3.890545  ┆ -2.301063 │\n",
       "└────────┴───────────┴───────────┴───────────┴───┴───────────┴───────────┴───────────┴───────────┘"
      ]
     },
     "execution_count": 28,
     "metadata": {},
     "output_type": "execute_result"
    }
   ],
   "source": [
    "start = perf_counter()\n",
    "res_eager = t.power_transform(df, cols=features, strategy=\"yeo_johnson\")\n",
    "end = perf_counter()\n",
    "print(f\"Spent {end - start:.2f}s in computing.\")\n",
    "res_eager.head() "
   ]
  },
  {
   "cell_type": "code",
   "execution_count": 29,
   "metadata": {},
   "outputs": [],
   "source": [
    "from sklearn.preprocessing import power_transform"
   ]
  },
  {
   "cell_type": "code",
   "execution_count": 30,
   "metadata": {},
   "outputs": [
    {
     "name": "stdout",
     "output_type": "stream",
     "text": [
      "Spent 0.70s in computing.\n"
     ]
    },
    {
     "data": {
      "text/html": [
       "<div>\n",
       "<style scoped>\n",
       "    .dataframe tbody tr th:only-of-type {\n",
       "        vertical-align: middle;\n",
       "    }\n",
       "\n",
       "    .dataframe tbody tr th {\n",
       "        vertical-align: top;\n",
       "    }\n",
       "\n",
       "    .dataframe thead th {\n",
       "        text-align: right;\n",
       "    }\n",
       "</style>\n",
       "<table border=\"1\" class=\"dataframe\">\n",
       "  <thead>\n",
       "    <tr style=\"text-align: right;\">\n",
       "      <th></th>\n",
       "      <th>target</th>\n",
       "      <th>column_0</th>\n",
       "      <th>column_1</th>\n",
       "      <th>column_2</th>\n",
       "      <th>column_3</th>\n",
       "      <th>column_4</th>\n",
       "      <th>column_5</th>\n",
       "      <th>column_6</th>\n",
       "      <th>column_7</th>\n",
       "      <th>column_8</th>\n",
       "      <th>column_9</th>\n",
       "    </tr>\n",
       "  </thead>\n",
       "  <tbody>\n",
       "    <tr>\n",
       "      <th>0</th>\n",
       "      <td>0</td>\n",
       "      <td>0.203884</td>\n",
       "      <td>-0.937633</td>\n",
       "      <td>1.642856</td>\n",
       "      <td>-0.502813</td>\n",
       "      <td>0.149992</td>\n",
       "      <td>2.128988</td>\n",
       "      <td>1.177659</td>\n",
       "      <td>1.514831</td>\n",
       "      <td>-1.261529</td>\n",
       "      <td>-1.992616</td>\n",
       "    </tr>\n",
       "    <tr>\n",
       "      <th>1</th>\n",
       "      <td>1</td>\n",
       "      <td>2.520246</td>\n",
       "      <td>0.584287</td>\n",
       "      <td>-0.683235</td>\n",
       "      <td>-1.496533</td>\n",
       "      <td>-0.262508</td>\n",
       "      <td>-2.262912</td>\n",
       "      <td>-1.133432</td>\n",
       "      <td>-1.707013</td>\n",
       "      <td>0.581680</td>\n",
       "      <td>-1.431450</td>\n",
       "    </tr>\n",
       "    <tr>\n",
       "      <th>2</th>\n",
       "      <td>1</td>\n",
       "      <td>-1.115890</td>\n",
       "      <td>0.613791</td>\n",
       "      <td>0.528427</td>\n",
       "      <td>1.151781</td>\n",
       "      <td>-1.253924</td>\n",
       "      <td>1.508405</td>\n",
       "      <td>1.348006</td>\n",
       "      <td>2.430603</td>\n",
       "      <td>0.373220</td>\n",
       "      <td>-1.756923</td>\n",
       "    </tr>\n",
       "    <tr>\n",
       "      <th>3</th>\n",
       "      <td>0</td>\n",
       "      <td>0.063758</td>\n",
       "      <td>0.526424</td>\n",
       "      <td>0.990961</td>\n",
       "      <td>1.683729</td>\n",
       "      <td>-2.370455</td>\n",
       "      <td>1.442848</td>\n",
       "      <td>0.591017</td>\n",
       "      <td>1.142623</td>\n",
       "      <td>2.330230</td>\n",
       "      <td>-3.435586</td>\n",
       "    </tr>\n",
       "    <tr>\n",
       "      <th>4</th>\n",
       "      <td>1</td>\n",
       "      <td>-4.232702</td>\n",
       "      <td>-0.698183</td>\n",
       "      <td>3.746853</td>\n",
       "      <td>5.113499</td>\n",
       "      <td>0.986767</td>\n",
       "      <td>6.733468</td>\n",
       "      <td>-0.917648</td>\n",
       "      <td>1.223906</td>\n",
       "      <td>3.890545</td>\n",
       "      <td>-2.301063</td>\n",
       "    </tr>\n",
       "  </tbody>\n",
       "</table>\n",
       "</div>"
      ],
      "text/plain": [
       "   target  column_0  column_1  column_2  column_3  column_4  column_5   \n",
       "0       0  0.203884 -0.937633  1.642856 -0.502813  0.149992  2.128988  \\\n",
       "1       1  2.520246  0.584287 -0.683235 -1.496533 -0.262508 -2.262912   \n",
       "2       1 -1.115890  0.613791  0.528427  1.151781 -1.253924  1.508405   \n",
       "3       0  0.063758  0.526424  0.990961  1.683729 -2.370455  1.442848   \n",
       "4       1 -4.232702 -0.698183  3.746853  5.113499  0.986767  6.733468   \n",
       "\n",
       "   column_6  column_7  column_8  column_9  \n",
       "0  1.177659  1.514831 -1.261529 -1.992616  \n",
       "1 -1.133432 -1.707013  0.581680 -1.431450  \n",
       "2  1.348006  2.430603  0.373220 -1.756923  \n",
       "3  0.591017  1.142623  2.330230 -3.435586  \n",
       "4 -0.917648  1.223906  3.890545 -2.301063  "
      ]
     },
     "execution_count": 30,
     "metadata": {},
     "output_type": "execute_result"
    }
   ],
   "source": [
    "# Sklearn with Pandas\n",
    "\n",
    "start = perf_counter()\n",
    "transformed = power_transform(df_pd[features], method = \"yeo-johnson\", standardize=False)\n",
    "end = perf_counter()\n",
    "df_pd[features] = transformed\n",
    "print(f\"Spent {end - start:.2f}s in computing.\")\n",
    "df_pd.head()\n"
   ]
  },
  {
   "attachments": {},
   "cell_type": "markdown",
   "metadata": {},
   "source": [
    "# GC"
   ]
  },
  {
   "cell_type": "code",
   "execution_count": 31,
   "metadata": {},
   "outputs": [
    {
     "data": {
      "text/plain": [
       "225"
      ]
     },
     "execution_count": 31,
     "metadata": {},
     "output_type": "execute_result"
    }
   ],
   "source": [
    "import gc \n",
    "gc.collect()"
   ]
  },
  {
   "cell_type": "code",
   "execution_count": null,
   "metadata": {},
   "outputs": [],
   "source": []
  }
 ],
 "metadata": {
  "kernelspec": {
   "display_name": "my_py11",
   "language": "python",
   "name": "python3"
  },
  "language_info": {
   "codemirror_mode": {
    "name": "ipython",
    "version": 3
   },
   "file_extension": ".py",
   "mimetype": "text/x-python",
   "name": "python",
   "nbconvert_exporter": "python",
   "pygments_lexer": "ipython3",
   "version": "3.11.3"
  },
  "orig_nbformat": 4
 },
 "nbformat": 4,
 "nbformat_minor": 2
}
