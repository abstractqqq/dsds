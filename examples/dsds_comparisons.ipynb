{
 "cells": [
  {
   "cell_type": "code",
   "execution_count": 1,
   "metadata": {},
   "outputs": [],
   "source": [
    "import polars as pl\n",
    "import pandas as pd\n",
    "import numpy as np\n",
    "from sklearn.datasets import make_classification\n",
    "from time import perf_counter\n"
   ]
  },
  {
   "cell_type": "code",
   "execution_count": 2,
   "metadata": {},
   "outputs": [],
   "source": [
    "orig_x, orig_y = make_classification(n_samples = 100_000, n_features = 10, n_informative = 5, n_redundant = 5)\n",
    "# This is a Polars dataframe. This is dsds package's favored dataframe. dsds relies on Polars heavily.\n",
    "# You must turn other dataframe formats into Polars for dsds to work.\n",
    "df = pl.from_numpy(orig_x).insert_at_idx(0, pl.Series(\"target\", orig_y)) \n",
    "# Turn it into Pandas.\n",
    "df_pd = df.to_pandas()\n",
    "target = \"target\"\n",
    "features = df.columns\n",
    "features.remove(target)"
   ]
  },
  {
   "cell_type": "code",
   "execution_count": 3,
   "metadata": {},
   "outputs": [
    {
     "data": {
      "text/html": [
       "<div><style>\n",
       ".dataframe > thead > tr > th,\n",
       ".dataframe > tbody > tr > td {\n",
       "  text-align: right;\n",
       "}\n",
       "</style>\n",
       "<small>shape: (5, 11)</small><table border=\"1\" class=\"dataframe\"><thead><tr><th>target</th><th>column_0</th><th>column_1</th><th>column_2</th><th>column_3</th><th>column_4</th><th>column_5</th><th>column_6</th><th>column_7</th><th>column_8</th><th>column_9</th></tr><tr><td>i64</td><td>f64</td><td>f64</td><td>f64</td><td>f64</td><td>f64</td><td>f64</td><td>f64</td><td>f64</td><td>f64</td><td>f64</td></tr></thead><tbody><tr><td>1</td><td>-1.45995</td><td>-0.969715</td><td>-0.494001</td><td>-0.358022</td><td>0.438434</td><td>0.759413</td><td>2.563082</td><td>0.144977</td><td>-1.577424</td><td>1.743793</td></tr><tr><td>1</td><td>1.476236</td><td>0.935761</td><td>-1.121335</td><td>0.877504</td><td>-0.838653</td><td>-0.359677</td><td>0.870463</td><td>1.727277</td><td>1.318132</td><td>-1.939887</td></tr><tr><td>0</td><td>-1.752199</td><td>1.662673</td><td>2.001634</td><td>-3.115826</td><td>1.115382</td><td>0.232854</td><td>-4.867587</td><td>-0.219266</td><td>-0.571483</td><td>-1.412335</td></tr><tr><td>0</td><td>-2.474012</td><td>0.039799</td><td>1.474338</td><td>-2.908336</td><td>0.833263</td><td>0.10983</td><td>-1.9125</td><td>0.218773</td><td>-0.955522</td><td>0.248039</td></tr><tr><td>1</td><td>0.900821</td><td>-0.278962</td><td>0.537015</td><td>0.319047</td><td>0.184227</td><td>-0.218132</td><td>-0.698765</td><td>-1.101311</td><td>0.814358</td><td>1.652277</td></tr></tbody></table></div>"
      ],
      "text/plain": [
       "shape: (5, 11)\n",
       "┌────────┬───────────┬───────────┬───────────┬───┬───────────┬───────────┬───────────┬───────────┐\n",
       "│ target ┆ column_0  ┆ column_1  ┆ column_2  ┆ … ┆ column_6  ┆ column_7  ┆ column_8  ┆ column_9  │\n",
       "│ ---    ┆ ---       ┆ ---       ┆ ---       ┆   ┆ ---       ┆ ---       ┆ ---       ┆ ---       │\n",
       "│ i64    ┆ f64       ┆ f64       ┆ f64       ┆   ┆ f64       ┆ f64       ┆ f64       ┆ f64       │\n",
       "╞════════╪═══════════╪═══════════╪═══════════╪═══╪═══════════╪═══════════╪═══════════╪═══════════╡\n",
       "│ 1      ┆ -1.45995  ┆ -0.969715 ┆ -0.494001 ┆ … ┆ 2.563082  ┆ 0.144977  ┆ -1.577424 ┆ 1.743793  │\n",
       "│ 1      ┆ 1.476236  ┆ 0.935761  ┆ -1.121335 ┆ … ┆ 0.870463  ┆ 1.727277  ┆ 1.318132  ┆ -1.939887 │\n",
       "│ 0      ┆ -1.752199 ┆ 1.662673  ┆ 2.001634  ┆ … ┆ -4.867587 ┆ -0.219266 ┆ -0.571483 ┆ -1.412335 │\n",
       "│ 0      ┆ -2.474012 ┆ 0.039799  ┆ 1.474338  ┆ … ┆ -1.9125   ┆ 0.218773  ┆ -0.955522 ┆ 0.248039  │\n",
       "│ 1      ┆ 0.900821  ┆ -0.278962 ┆ 0.537015  ┆ … ┆ -0.698765 ┆ -1.101311 ┆ 0.814358  ┆ 1.652277  │\n",
       "└────────┴───────────┴───────────┴───────────┴───┴───────────┴───────────┴───────────┴───────────┘"
      ]
     },
     "execution_count": 3,
     "metadata": {},
     "output_type": "execute_result"
    }
   ],
   "source": [
    "df.head()"
   ]
  },
  {
   "attachments": {},
   "cell_type": "markdown",
   "metadata": {},
   "source": [
    "## Comparisons\n",
    "\n",
    "This notebook compares results and performance between the dsds package, sklearn and some other packages for feature selection and some other transformations common in the data science pipeline.\n",
    "\n",
    "### Methods Compared:\n",
    "1. Scaling and Imputation\n",
    "2. Fscore\n",
    "3. Mutual Information Score\n",
    "4. MRMR feature selection strategies\n",
    "5. Power Transform\n",
    "\n",
    "You may restart the kernel after each section. But remember to rerun the cells above. If you are concerned about memory usage when running this notebook, go to the end and run the gc cell."
   ]
  },
  {
   "attachments": {},
   "cell_type": "markdown",
   "metadata": {},
   "source": [
    "# Scaling and Imputation"
   ]
  },
  {
   "cell_type": "code",
   "execution_count": 4,
   "metadata": {},
   "outputs": [],
   "source": [
    "import dsds.transform as t"
   ]
  },
  {
   "cell_type": "code",
   "execution_count": 5,
   "metadata": {},
   "outputs": [],
   "source": [
    "features = df.columns\n",
    "features.remove(\"target\")"
   ]
  },
  {
   "cell_type": "code",
   "execution_count": 6,
   "metadata": {},
   "outputs": [
    {
     "data": {
      "text/html": [
       "<div><style>\n",
       ".dataframe > thead > tr > th,\n",
       ".dataframe > tbody > tr > td {\n",
       "  text-align: right;\n",
       "}\n",
       "</style>\n",
       "<small>shape: (5, 11)</small><table border=\"1\" class=\"dataframe\"><thead><tr><th>target</th><th>column_0</th><th>column_1</th><th>column_2</th><th>column_3</th><th>column_4</th><th>column_5</th><th>column_6</th><th>column_7</th><th>column_8</th><th>column_9</th></tr><tr><td>i64</td><td>f64</td><td>f64</td><td>f64</td><td>f64</td><td>f64</td><td>f64</td><td>f64</td><td>f64</td><td>f64</td><td>f64</td></tr></thead><tbody><tr><td>1</td><td>-0.606423</td><td>-0.571995</td><td>-0.602506</td><td>0.323383</td><td>0.23861</td><td>0.446446</td><td>1.520396</td><td>-0.22874</td><td>-0.702465</td><td>0.830077</td></tr><tr><td>1</td><td>1.246387</td><td>0.552232</td><td>-1.097964</td><td>1.01344</td><td>-0.959214</td><td>-0.183929</td><td>0.516765</td><td>0.780415</td><td>0.494686</td><td>-1.62206</td></tr><tr><td>0</td><td>-0.79084</td><td>0.981109</td><td>1.368508</td><td>-1.216887</td><td>0.873544</td><td>0.14984</td><td>-2.885586</td><td>-0.461045</td><td>-0.286565</td><td>-1.270881</td></tr><tr><td>0</td><td>-1.246323</td><td>0.023616</td><td>0.952057</td><td>-1.101001</td><td>0.608934</td><td>0.080541</td><td>-1.133381</td><td>-0.181674</td><td>-0.445344</td><td>-0.16561</td></tr><tr><td>1</td><td>0.883285</td><td>-0.164452</td><td>0.211774</td><td>0.701535</td><td>0.000181</td><td>-0.104197</td><td>-0.413702</td><td>-1.023593</td><td>0.286403</td><td>0.769158</td></tr></tbody></table></div>"
      ],
      "text/plain": [
       "shape: (5, 11)\n",
       "┌────────┬───────────┬───────────┬───────────┬───┬───────────┬───────────┬───────────┬───────────┐\n",
       "│ target ┆ column_0  ┆ column_1  ┆ column_2  ┆ … ┆ column_6  ┆ column_7  ┆ column_8  ┆ column_9  │\n",
       "│ ---    ┆ ---       ┆ ---       ┆ ---       ┆   ┆ ---       ┆ ---       ┆ ---       ┆ ---       │\n",
       "│ i64    ┆ f64       ┆ f64       ┆ f64       ┆   ┆ f64       ┆ f64       ┆ f64       ┆ f64       │\n",
       "╞════════╪═══════════╪═══════════╪═══════════╪═══╪═══════════╪═══════════╪═══════════╪═══════════╡\n",
       "│ 1      ┆ -0.606423 ┆ -0.571995 ┆ -0.602506 ┆ … ┆ 1.520396  ┆ -0.22874  ┆ -0.702465 ┆ 0.830077  │\n",
       "│ 1      ┆ 1.246387  ┆ 0.552232  ┆ -1.097964 ┆ … ┆ 0.516765  ┆ 0.780415  ┆ 0.494686  ┆ -1.62206  │\n",
       "│ 0      ┆ -0.79084  ┆ 0.981109  ┆ 1.368508  ┆ … ┆ -2.885586 ┆ -0.461045 ┆ -0.286565 ┆ -1.270881 │\n",
       "│ 0      ┆ -1.246323 ┆ 0.023616  ┆ 0.952057  ┆ … ┆ -1.133381 ┆ -0.181674 ┆ -0.445344 ┆ -0.16561  │\n",
       "│ 1      ┆ 0.883285  ┆ -0.164452 ┆ 0.211774  ┆ … ┆ -0.413702 ┆ -1.023593 ┆ 0.286403  ┆ 0.769158  │\n",
       "└────────┴───────────┴───────────┴───────────┴───┴───────────┴───────────┴───────────┴───────────┘"
      ]
     },
     "execution_count": 6,
     "metadata": {},
     "output_type": "execute_result"
    }
   ],
   "source": [
    "scaled = t.scale(df, cols=features, strategy=\"normal\")\n",
    "scaled.head()"
   ]
  },
  {
   "cell_type": "code",
   "execution_count": 7,
   "metadata": {},
   "outputs": [],
   "source": [
    "from sklearn.preprocessing import StandardScaler"
   ]
  },
  {
   "cell_type": "code",
   "execution_count": 8,
   "metadata": {},
   "outputs": [
    {
     "data": {
      "text/html": [
       "<div>\n",
       "<style scoped>\n",
       "    .dataframe tbody tr th:only-of-type {\n",
       "        vertical-align: middle;\n",
       "    }\n",
       "\n",
       "    .dataframe tbody tr th {\n",
       "        vertical-align: top;\n",
       "    }\n",
       "\n",
       "    .dataframe thead th {\n",
       "        text-align: right;\n",
       "    }\n",
       "</style>\n",
       "<table border=\"1\" class=\"dataframe\">\n",
       "  <thead>\n",
       "    <tr style=\"text-align: right;\">\n",
       "      <th></th>\n",
       "      <th>column_0</th>\n",
       "      <th>column_1</th>\n",
       "      <th>column_2</th>\n",
       "      <th>column_3</th>\n",
       "      <th>column_4</th>\n",
       "      <th>column_5</th>\n",
       "      <th>column_6</th>\n",
       "      <th>column_7</th>\n",
       "      <th>column_8</th>\n",
       "      <th>column_9</th>\n",
       "      <th>target</th>\n",
       "    </tr>\n",
       "  </thead>\n",
       "  <tbody>\n",
       "    <tr>\n",
       "      <th>0</th>\n",
       "      <td>-0.606426</td>\n",
       "      <td>-0.571998</td>\n",
       "      <td>-0.602510</td>\n",
       "      <td>0.323385</td>\n",
       "      <td>0.238612</td>\n",
       "      <td>0.446448</td>\n",
       "      <td>1.520403</td>\n",
       "      <td>-0.228741</td>\n",
       "      <td>-0.702469</td>\n",
       "      <td>0.830082</td>\n",
       "      <td>1</td>\n",
       "    </tr>\n",
       "    <tr>\n",
       "      <th>1</th>\n",
       "      <td>1.246393</td>\n",
       "      <td>0.552235</td>\n",
       "      <td>-1.097970</td>\n",
       "      <td>1.013445</td>\n",
       "      <td>-0.959219</td>\n",
       "      <td>-0.183929</td>\n",
       "      <td>0.516768</td>\n",
       "      <td>0.780419</td>\n",
       "      <td>0.494688</td>\n",
       "      <td>-1.622068</td>\n",
       "      <td>1</td>\n",
       "    </tr>\n",
       "    <tr>\n",
       "      <th>2</th>\n",
       "      <td>-0.790844</td>\n",
       "      <td>0.981114</td>\n",
       "      <td>1.368515</td>\n",
       "      <td>-1.216893</td>\n",
       "      <td>0.873548</td>\n",
       "      <td>0.149841</td>\n",
       "      <td>-2.885600</td>\n",
       "      <td>-0.461047</td>\n",
       "      <td>-0.286566</td>\n",
       "      <td>-1.270887</td>\n",
       "      <td>0</td>\n",
       "    </tr>\n",
       "    <tr>\n",
       "      <th>3</th>\n",
       "      <td>-1.246329</td>\n",
       "      <td>0.023616</td>\n",
       "      <td>0.952062</td>\n",
       "      <td>-1.101006</td>\n",
       "      <td>0.608937</td>\n",
       "      <td>0.080541</td>\n",
       "      <td>-1.133386</td>\n",
       "      <td>-0.181675</td>\n",
       "      <td>-0.445346</td>\n",
       "      <td>-0.165611</td>\n",
       "      <td>0</td>\n",
       "    </tr>\n",
       "    <tr>\n",
       "      <th>4</th>\n",
       "      <td>0.883290</td>\n",
       "      <td>-0.164453</td>\n",
       "      <td>0.211775</td>\n",
       "      <td>0.701538</td>\n",
       "      <td>0.000181</td>\n",
       "      <td>-0.104198</td>\n",
       "      <td>-0.413704</td>\n",
       "      <td>-1.023598</td>\n",
       "      <td>0.286405</td>\n",
       "      <td>0.769161</td>\n",
       "      <td>1</td>\n",
       "    </tr>\n",
       "  </tbody>\n",
       "</table>\n",
       "</div>"
      ],
      "text/plain": [
       "   column_0  column_1  column_2  column_3  column_4  column_5  column_6   \n",
       "0 -0.606426 -0.571998 -0.602510  0.323385  0.238612  0.446448  1.520403  \\\n",
       "1  1.246393  0.552235 -1.097970  1.013445 -0.959219 -0.183929  0.516768   \n",
       "2 -0.790844  0.981114  1.368515 -1.216893  0.873548  0.149841 -2.885600   \n",
       "3 -1.246329  0.023616  0.952062 -1.101006  0.608937  0.080541 -1.133386   \n",
       "4  0.883290 -0.164453  0.211775  0.701538  0.000181 -0.104198 -0.413704   \n",
       "\n",
       "   column_7  column_8  column_9  target  \n",
       "0 -0.228741 -0.702469  0.830082       1  \n",
       "1  0.780419  0.494688 -1.622068       1  \n",
       "2 -0.461047 -0.286566 -1.270887       0  \n",
       "3 -0.181675 -0.445346 -0.165611       0  \n",
       "4 -1.023598  0.286405  0.769161       1  "
      ]
     },
     "execution_count": 8,
     "metadata": {},
     "output_type": "execute_result"
    }
   ],
   "source": [
    "# The difference in result is caused by using ddof = 1 for sample variance in dsds\n",
    "# and using ddof = 0 in sklearn.\n",
    "\n",
    "# Long and convoluted code just to do some scaling...\n",
    "std = StandardScaler()\n",
    "scaled2 = std.fit_transform(df_pd[features], df_pd[target])\n",
    "# scaled2[:5, :] # scaled2 is a numpy matrix\n",
    "scaled2 = pd.DataFrame(scaled2, columns=features)\n",
    "scaled2[target] = df_pd[target]\n",
    "scaled2.head()"
   ]
  },
  {
   "cell_type": "code",
   "execution_count": 9,
   "metadata": {},
   "outputs": [
    {
     "name": "stdout",
     "output_type": "stream",
     "text": [
      "3.73 ms ± 193 µs per loop (mean ± std. dev. of 7 runs, 100 loops each)\n"
     ]
    }
   ],
   "source": [
    "%%timeit\n",
    "scaled = t.scale(df, cols=features, strategy=\"normal\")"
   ]
  },
  {
   "cell_type": "code",
   "execution_count": 10,
   "metadata": {},
   "outputs": [
    {
     "name": "stdout",
     "output_type": "stream",
     "text": [
      "12.3 ms ± 122 µs per loop (mean ± std. dev. of 7 runs, 100 loops each)\n"
     ]
    }
   ],
   "source": [
    "%%timeit\n",
    "std = StandardScaler()\n",
    "scaled2 = std.fit_transform(df_pd[features], df_pd[target])\n",
    "scaled2 = pd.DataFrame(scaled2, columns=features)\n",
    "scaled2[target] = df_pd[target]\n"
   ]
  },
  {
   "cell_type": "code",
   "execution_count": 11,
   "metadata": {},
   "outputs": [
    {
     "data": {
      "text/html": [
       "<div><style>\n",
       ".dataframe > thead > tr > th,\n",
       ".dataframe > tbody > tr > td {\n",
       "  text-align: right;\n",
       "}\n",
       "</style>\n",
       "<small>shape: (5, 11)</small><table border=\"1\" class=\"dataframe\"><thead><tr><th>target</th><th>column_0</th><th>column_1</th><th>column_2</th><th>column_3</th><th>column_4</th><th>column_5</th><th>column_6</th><th>column_7</th><th>column_8</th><th>column_9</th></tr><tr><td>i64</td><td>f64</td><td>f64</td><td>f64</td><td>f64</td><td>f64</td><td>f64</td><td>f64</td><td>f64</td><td>f64</td><td>f64</td></tr></thead><tbody><tr><td>1</td><td>-1.45995</td><td>-0.969715</td><td>-0.494001</td><td>-0.358022</td><td>0.438434</td><td>0.759413</td><td>2.563082</td><td>0.144977</td><td>-1.577424</td><td>1.743793</td></tr><tr><td>1</td><td>1.476236</td><td>0.935761</td><td>-1.121335</td><td>0.877504</td><td>-0.838653</td><td>-0.359677</td><td>0.870463</td><td>1.727277</td><td>1.318132</td><td>-1.939887</td></tr><tr><td>0</td><td>-1.752199</td><td>1.662673</td><td>2.001634</td><td>-3.115826</td><td>1.115382</td><td>0.232854</td><td>-4.867587</td><td>-0.219266</td><td>-0.571483</td><td>-1.412335</td></tr><tr><td>0</td><td>-2.474012</td><td>0.039799</td><td>1.474338</td><td>-2.908336</td><td>0.833263</td><td>0.10983</td><td>-1.9125</td><td>0.218773</td><td>-0.955522</td><td>0.248039</td></tr><tr><td>1</td><td>0.900821</td><td>-0.278962</td><td>0.537015</td><td>0.319047</td><td>0.184227</td><td>-0.218132</td><td>-0.698765</td><td>-1.101311</td><td>0.814358</td><td>1.652277</td></tr></tbody></table></div>"
      ],
      "text/plain": [
       "shape: (5, 11)\n",
       "┌────────┬───────────┬───────────┬───────────┬───┬───────────┬───────────┬───────────┬───────────┐\n",
       "│ target ┆ column_0  ┆ column_1  ┆ column_2  ┆ … ┆ column_6  ┆ column_7  ┆ column_8  ┆ column_9  │\n",
       "│ ---    ┆ ---       ┆ ---       ┆ ---       ┆   ┆ ---       ┆ ---       ┆ ---       ┆ ---       │\n",
       "│ i64    ┆ f64       ┆ f64       ┆ f64       ┆   ┆ f64       ┆ f64       ┆ f64       ┆ f64       │\n",
       "╞════════╪═══════════╪═══════════╪═══════════╪═══╪═══════════╪═══════════╪═══════════╪═══════════╡\n",
       "│ 1      ┆ -1.45995  ┆ -0.969715 ┆ -0.494001 ┆ … ┆ 2.563082  ┆ 0.144977  ┆ -1.577424 ┆ 1.743793  │\n",
       "│ 1      ┆ 1.476236  ┆ 0.935761  ┆ -1.121335 ┆ … ┆ 0.870463  ┆ 1.727277  ┆ 1.318132  ┆ -1.939887 │\n",
       "│ 0      ┆ -1.752199 ┆ 1.662673  ┆ 2.001634  ┆ … ┆ -4.867587 ┆ -0.219266 ┆ -0.571483 ┆ -1.412335 │\n",
       "│ 0      ┆ -2.474012 ┆ 0.039799  ┆ 1.474338  ┆ … ┆ -1.9125   ┆ 0.218773  ┆ -0.955522 ┆ 0.248039  │\n",
       "│ 1      ┆ 0.900821  ┆ -0.278962 ┆ 0.537015  ┆ … ┆ -0.698765 ┆ -1.101311 ┆ 0.814358  ┆ 1.652277  │\n",
       "└────────┴───────────┴───────────┴───────────┴───┴───────────┴───────────┴───────────┴───────────┘"
      ]
     },
     "execution_count": 11,
     "metadata": {},
     "output_type": "execute_result"
    }
   ],
   "source": [
    "t.impute(df, cols=features, strategy=\"median\").head() # 8.29 ms"
   ]
  },
  {
   "cell_type": "code",
   "execution_count": 12,
   "metadata": {},
   "outputs": [
    {
     "data": {
      "text/html": [
       "<div>\n",
       "<style scoped>\n",
       "    .dataframe tbody tr th:only-of-type {\n",
       "        vertical-align: middle;\n",
       "    }\n",
       "\n",
       "    .dataframe tbody tr th {\n",
       "        vertical-align: top;\n",
       "    }\n",
       "\n",
       "    .dataframe thead th {\n",
       "        text-align: right;\n",
       "    }\n",
       "</style>\n",
       "<table border=\"1\" class=\"dataframe\">\n",
       "  <thead>\n",
       "    <tr style=\"text-align: right;\">\n",
       "      <th></th>\n",
       "      <th>target</th>\n",
       "      <th>column_0</th>\n",
       "      <th>column_1</th>\n",
       "      <th>column_2</th>\n",
       "      <th>column_3</th>\n",
       "      <th>column_4</th>\n",
       "      <th>column_5</th>\n",
       "      <th>column_6</th>\n",
       "      <th>column_7</th>\n",
       "      <th>column_8</th>\n",
       "      <th>column_9</th>\n",
       "    </tr>\n",
       "  </thead>\n",
       "  <tbody>\n",
       "    <tr>\n",
       "      <th>0</th>\n",
       "      <td>1.0</td>\n",
       "      <td>-1.459950</td>\n",
       "      <td>-0.969715</td>\n",
       "      <td>-0.494001</td>\n",
       "      <td>-0.358022</td>\n",
       "      <td>0.438434</td>\n",
       "      <td>0.759413</td>\n",
       "      <td>2.563082</td>\n",
       "      <td>0.144977</td>\n",
       "      <td>-1.577424</td>\n",
       "      <td>1.743793</td>\n",
       "    </tr>\n",
       "    <tr>\n",
       "      <th>1</th>\n",
       "      <td>1.0</td>\n",
       "      <td>1.476236</td>\n",
       "      <td>0.935761</td>\n",
       "      <td>-1.121335</td>\n",
       "      <td>0.877504</td>\n",
       "      <td>-0.838653</td>\n",
       "      <td>-0.359677</td>\n",
       "      <td>0.870463</td>\n",
       "      <td>1.727277</td>\n",
       "      <td>1.318132</td>\n",
       "      <td>-1.939887</td>\n",
       "    </tr>\n",
       "    <tr>\n",
       "      <th>2</th>\n",
       "      <td>0.0</td>\n",
       "      <td>-1.752199</td>\n",
       "      <td>1.662673</td>\n",
       "      <td>2.001634</td>\n",
       "      <td>-3.115826</td>\n",
       "      <td>1.115382</td>\n",
       "      <td>0.232854</td>\n",
       "      <td>-4.867587</td>\n",
       "      <td>-0.219266</td>\n",
       "      <td>-0.571483</td>\n",
       "      <td>-1.412335</td>\n",
       "    </tr>\n",
       "    <tr>\n",
       "      <th>3</th>\n",
       "      <td>0.0</td>\n",
       "      <td>-2.474012</td>\n",
       "      <td>0.039799</td>\n",
       "      <td>1.474338</td>\n",
       "      <td>-2.908336</td>\n",
       "      <td>0.833263</td>\n",
       "      <td>0.109830</td>\n",
       "      <td>-1.912500</td>\n",
       "      <td>0.218773</td>\n",
       "      <td>-0.955522</td>\n",
       "      <td>0.248039</td>\n",
       "    </tr>\n",
       "    <tr>\n",
       "      <th>4</th>\n",
       "      <td>1.0</td>\n",
       "      <td>0.900821</td>\n",
       "      <td>-0.278962</td>\n",
       "      <td>0.537015</td>\n",
       "      <td>0.319047</td>\n",
       "      <td>0.184227</td>\n",
       "      <td>-0.218132</td>\n",
       "      <td>-0.698765</td>\n",
       "      <td>-1.101311</td>\n",
       "      <td>0.814358</td>\n",
       "      <td>1.652277</td>\n",
       "    </tr>\n",
       "  </tbody>\n",
       "</table>\n",
       "</div>"
      ],
      "text/plain": [
       "   target  column_0  column_1  column_2  column_3  column_4  column_5   \n",
       "0     1.0 -1.459950 -0.969715 -0.494001 -0.358022  0.438434  0.759413  \\\n",
       "1     1.0  1.476236  0.935761 -1.121335  0.877504 -0.838653 -0.359677   \n",
       "2     0.0 -1.752199  1.662673  2.001634 -3.115826  1.115382  0.232854   \n",
       "3     0.0 -2.474012  0.039799  1.474338 -2.908336  0.833263  0.109830   \n",
       "4     1.0  0.900821 -0.278962  0.537015  0.319047  0.184227 -0.218132   \n",
       "\n",
       "   column_6  column_7  column_8  column_9  \n",
       "0  2.563082  0.144977 -1.577424  1.743793  \n",
       "1  0.870463  1.727277  1.318132 -1.939887  \n",
       "2 -4.867587 -0.219266 -0.571483 -1.412335  \n",
       "3 -1.912500  0.218773 -0.955522  0.248039  \n",
       "4 -0.698765 -1.101311  0.814358  1.652277  "
      ]
     },
     "execution_count": 12,
     "metadata": {},
     "output_type": "execute_result"
    }
   ],
   "source": [
    "from sklearn.impute import SimpleImputer # 1.25s\n",
    "\n",
    "imputer = SimpleImputer(strategy = \"median\")\n",
    "imputed = pd.DataFrame(imputer.fit_transform(df_pd, df_pd[target]), columns=df.columns)\n",
    "imputed.head()"
   ]
  },
  {
   "cell_type": "code",
   "execution_count": 13,
   "metadata": {},
   "outputs": [
    {
     "name": "stdout",
     "output_type": "stream",
     "text": [
      "4.61 ms ± 983 µs per loop (mean ± std. dev. of 7 runs, 100 loops each)\n"
     ]
    }
   ],
   "source": [
    "%%timeit\n",
    "t.impute(df, cols=features, strategy=\"median\")"
   ]
  },
  {
   "cell_type": "code",
   "execution_count": 14,
   "metadata": {},
   "outputs": [
    {
     "name": "stdout",
     "output_type": "stream",
     "text": [
      "151 ms ± 7.91 ms per loop (mean ± std. dev. of 7 runs, 10 loops each)\n"
     ]
    }
   ],
   "source": [
    "%%timeit\n",
    "imputer = SimpleImputer(strategy = \"median\")\n",
    "imputed = pd.DataFrame(imputer.fit_transform(df_pd, df_pd[target]), columns=df.columns)"
   ]
  },
  {
   "attachments": {},
   "cell_type": "markdown",
   "metadata": {},
   "source": [
    "# Fscore"
   ]
  },
  {
   "cell_type": "code",
   "execution_count": 15,
   "metadata": {},
   "outputs": [],
   "source": [
    "import dsds.fs as fs # fs = feature_selection\n",
    "from sklearn.feature_selection import mutual_info_classif, f_classif, f_regression"
   ]
  },
  {
   "cell_type": "code",
   "execution_count": 16,
   "metadata": {},
   "outputs": [
    {
     "name": "stdout",
     "output_type": "stream",
     "text": [
      "Spent 0.01s in computing Fscore.\n"
     ]
    },
    {
     "data": {
      "text/html": [
       "<div><style>\n",
       ".dataframe > thead > tr > th,\n",
       ".dataframe > tbody > tr > td {\n",
       "  text-align: right;\n",
       "}\n",
       "</style>\n",
       "<small>shape: (10, 3)</small><table border=\"1\" class=\"dataframe\"><thead><tr><th>feature</th><th>f_value</th><th>p_value</th></tr><tr><td>str</td><td>f64</td><td>f64</td></tr></thead><tbody><tr><td>&quot;column_0&quot;</td><td>10570.97025</td><td>0.0</td></tr><tr><td>&quot;column_1&quot;</td><td>0.019707</td><td>0.888358</td></tr><tr><td>&quot;column_2&quot;</td><td>74561.483267</td><td>0.0</td></tr><tr><td>&quot;column_3&quot;</td><td>201460.783031</td><td>0.0</td></tr><tr><td>&quot;column_4&quot;</td><td>1990.353824</td><td>0.0</td></tr><tr><td>&quot;column_5&quot;</td><td>6548.386941</td><td>0.0</td></tr><tr><td>&quot;column_6&quot;</td><td>53363.521346</td><td>0.0</td></tr><tr><td>&quot;column_7&quot;</td><td>11172.433201</td><td>0.0</td></tr><tr><td>&quot;column_8&quot;</td><td>9094.343735</td><td>0.0</td></tr><tr><td>&quot;column_9&quot;</td><td>12143.982969</td><td>0.0</td></tr></tbody></table></div>"
      ],
      "text/plain": [
       "shape: (10, 3)\n",
       "┌──────────┬───────────────┬──────────┐\n",
       "│ feature  ┆ f_value       ┆ p_value  │\n",
       "│ ---      ┆ ---           ┆ ---      │\n",
       "│ str      ┆ f64           ┆ f64      │\n",
       "╞══════════╪═══════════════╪══════════╡\n",
       "│ column_0 ┆ 10570.97025   ┆ 0.0      │\n",
       "│ column_1 ┆ 0.019707      ┆ 0.888358 │\n",
       "│ column_2 ┆ 74561.483267  ┆ 0.0      │\n",
       "│ column_3 ┆ 201460.783031 ┆ 0.0      │\n",
       "│ …        ┆ …             ┆ …        │\n",
       "│ column_6 ┆ 53363.521346  ┆ 0.0      │\n",
       "│ column_7 ┆ 11172.433201  ┆ 0.0      │\n",
       "│ column_8 ┆ 9094.343735   ┆ 0.0      │\n",
       "│ column_9 ┆ 12143.982969  ┆ 0.0      │\n",
       "└──────────┴───────────────┴──────────┘"
      ]
     },
     "execution_count": 16,
     "metadata": {},
     "output_type": "execute_result"
    }
   ],
   "source": [
    "# The more core, the bigger the difference\n",
    "start = perf_counter()\n",
    "res = fs.f_classif(df, target=target)\n",
    "end = perf_counter()\n",
    "print(f\"Spent {end - start:.2f}s in computing Fscore.\")\n",
    "res.head(10)"
   ]
  },
  {
   "cell_type": "code",
   "execution_count": 17,
   "metadata": {},
   "outputs": [
    {
     "name": "stdout",
     "output_type": "stream",
     "text": [
      "Spent 0.02s in computing Fscore.\n"
     ]
    },
    {
     "data": {
      "text/html": [
       "<div>\n",
       "<style scoped>\n",
       "    .dataframe tbody tr th:only-of-type {\n",
       "        vertical-align: middle;\n",
       "    }\n",
       "\n",
       "    .dataframe tbody tr th {\n",
       "        vertical-align: top;\n",
       "    }\n",
       "\n",
       "    .dataframe thead th {\n",
       "        text-align: right;\n",
       "    }\n",
       "</style>\n",
       "<table border=\"1\" class=\"dataframe\">\n",
       "  <thead>\n",
       "    <tr style=\"text-align: right;\">\n",
       "      <th></th>\n",
       "      <th>feature</th>\n",
       "      <th>f_value</th>\n",
       "      <th>p_value</th>\n",
       "    </tr>\n",
       "  </thead>\n",
       "  <tbody>\n",
       "    <tr>\n",
       "      <th>0</th>\n",
       "      <td>column_0</td>\n",
       "      <td>10570.970250</td>\n",
       "      <td>0.000000</td>\n",
       "    </tr>\n",
       "    <tr>\n",
       "      <th>1</th>\n",
       "      <td>column_1</td>\n",
       "      <td>0.019707</td>\n",
       "      <td>0.888358</td>\n",
       "    </tr>\n",
       "    <tr>\n",
       "      <th>2</th>\n",
       "      <td>column_2</td>\n",
       "      <td>74561.483267</td>\n",
       "      <td>0.000000</td>\n",
       "    </tr>\n",
       "    <tr>\n",
       "      <th>3</th>\n",
       "      <td>column_3</td>\n",
       "      <td>201460.783031</td>\n",
       "      <td>0.000000</td>\n",
       "    </tr>\n",
       "    <tr>\n",
       "      <th>4</th>\n",
       "      <td>column_4</td>\n",
       "      <td>1990.353824</td>\n",
       "      <td>0.000000</td>\n",
       "    </tr>\n",
       "    <tr>\n",
       "      <th>5</th>\n",
       "      <td>column_5</td>\n",
       "      <td>6548.386941</td>\n",
       "      <td>0.000000</td>\n",
       "    </tr>\n",
       "    <tr>\n",
       "      <th>6</th>\n",
       "      <td>column_6</td>\n",
       "      <td>53363.521346</td>\n",
       "      <td>0.000000</td>\n",
       "    </tr>\n",
       "    <tr>\n",
       "      <th>7</th>\n",
       "      <td>column_7</td>\n",
       "      <td>11172.433201</td>\n",
       "      <td>0.000000</td>\n",
       "    </tr>\n",
       "    <tr>\n",
       "      <th>8</th>\n",
       "      <td>column_8</td>\n",
       "      <td>9094.343735</td>\n",
       "      <td>0.000000</td>\n",
       "    </tr>\n",
       "    <tr>\n",
       "      <th>9</th>\n",
       "      <td>column_9</td>\n",
       "      <td>12143.982969</td>\n",
       "      <td>0.000000</td>\n",
       "    </tr>\n",
       "  </tbody>\n",
       "</table>\n",
       "</div>"
      ],
      "text/plain": [
       "    feature        f_value   p_value\n",
       "0  column_0   10570.970250  0.000000\n",
       "1  column_1       0.019707  0.888358\n",
       "2  column_2   74561.483267  0.000000\n",
       "3  column_3  201460.783031  0.000000\n",
       "4  column_4    1990.353824  0.000000\n",
       "5  column_5    6548.386941  0.000000\n",
       "6  column_6   53363.521346  0.000000\n",
       "7  column_7   11172.433201  0.000000\n",
       "8  column_8    9094.343735  0.000000\n",
       "9  column_9   12143.982969  0.000000"
      ]
     },
     "execution_count": 17,
     "metadata": {},
     "output_type": "execute_result"
    }
   ],
   "source": [
    "start = perf_counter()\n",
    "f, pv = f_classif(df_pd[features], df_pd[target])\n",
    "res = pd.DataFrame({\"feature\":features, \"f_value\":f, \"p_value\":pv})\n",
    "end = perf_counter()\n",
    "print(f\"Spent {end - start:.2f}s in computing Fscore.\")\n",
    "res.head(10)"
   ]
  },
  {
   "cell_type": "code",
   "execution_count": 18,
   "metadata": {},
   "outputs": [
    {
     "name": "stdout",
     "output_type": "stream",
     "text": [
      "Spent  0.01s in computing Fscore.\n"
     ]
    },
    {
     "data": {
      "text/html": [
       "<div>\n",
       "<style scoped>\n",
       "    .dataframe tbody tr th:only-of-type {\n",
       "        vertical-align: middle;\n",
       "    }\n",
       "\n",
       "    .dataframe tbody tr th {\n",
       "        vertical-align: top;\n",
       "    }\n",
       "\n",
       "    .dataframe thead th {\n",
       "        text-align: right;\n",
       "    }\n",
       "</style>\n",
       "<table border=\"1\" class=\"dataframe\">\n",
       "  <thead>\n",
       "    <tr style=\"text-align: right;\">\n",
       "      <th></th>\n",
       "      <th>feature</th>\n",
       "      <th>f_value</th>\n",
       "      <th>p_value</th>\n",
       "    </tr>\n",
       "  </thead>\n",
       "  <tbody>\n",
       "    <tr>\n",
       "      <th>0</th>\n",
       "      <td>column_0</td>\n",
       "      <td>10570.970250</td>\n",
       "      <td>0.000000</td>\n",
       "    </tr>\n",
       "    <tr>\n",
       "      <th>1</th>\n",
       "      <td>column_1</td>\n",
       "      <td>0.019707</td>\n",
       "      <td>0.888358</td>\n",
       "    </tr>\n",
       "    <tr>\n",
       "      <th>2</th>\n",
       "      <td>column_2</td>\n",
       "      <td>74561.483267</td>\n",
       "      <td>0.000000</td>\n",
       "    </tr>\n",
       "    <tr>\n",
       "      <th>3</th>\n",
       "      <td>column_3</td>\n",
       "      <td>201460.783031</td>\n",
       "      <td>0.000000</td>\n",
       "    </tr>\n",
       "    <tr>\n",
       "      <th>4</th>\n",
       "      <td>column_4</td>\n",
       "      <td>1990.353824</td>\n",
       "      <td>0.000000</td>\n",
       "    </tr>\n",
       "    <tr>\n",
       "      <th>5</th>\n",
       "      <td>column_5</td>\n",
       "      <td>6548.386941</td>\n",
       "      <td>0.000000</td>\n",
       "    </tr>\n",
       "    <tr>\n",
       "      <th>6</th>\n",
       "      <td>column_6</td>\n",
       "      <td>53363.521346</td>\n",
       "      <td>0.000000</td>\n",
       "    </tr>\n",
       "    <tr>\n",
       "      <th>7</th>\n",
       "      <td>column_7</td>\n",
       "      <td>11172.433201</td>\n",
       "      <td>0.000000</td>\n",
       "    </tr>\n",
       "    <tr>\n",
       "      <th>8</th>\n",
       "      <td>column_8</td>\n",
       "      <td>9094.343735</td>\n",
       "      <td>0.000000</td>\n",
       "    </tr>\n",
       "    <tr>\n",
       "      <th>9</th>\n",
       "      <td>column_9</td>\n",
       "      <td>12143.982969</td>\n",
       "      <td>0.000000</td>\n",
       "    </tr>\n",
       "  </tbody>\n",
       "</table>\n",
       "</div>"
      ],
      "text/plain": [
       "    feature        f_value   p_value\n",
       "0  column_0   10570.970250  0.000000\n",
       "1  column_1       0.019707  0.888358\n",
       "2  column_2   74561.483267  0.000000\n",
       "3  column_3  201460.783031  0.000000\n",
       "4  column_4    1990.353824  0.000000\n",
       "5  column_5    6548.386941  0.000000\n",
       "6  column_6   53363.521346  0.000000\n",
       "7  column_7   11172.433201  0.000000\n",
       "8  column_8    9094.343735  0.000000\n",
       "9  column_9   12143.982969  0.000000"
      ]
     },
     "execution_count": 18,
     "metadata": {},
     "output_type": "execute_result"
    }
   ],
   "source": [
    "start = perf_counter()\n",
    "f, pv = f_regression(df_pd[features], df_pd[target])\n",
    "res = pd.DataFrame({\"feature\":features, \"f_value\":f, \"p_value\":pv})\n",
    "end = perf_counter()\n",
    "print(f\"Spent {end - start: .2f}s in computing Fscore.\")\n",
    "res.head(10)"
   ]
  },
  {
   "attachments": {},
   "cell_type": "markdown",
   "metadata": {},
   "source": [
    "# Mutual Information Score"
   ]
  },
  {
   "cell_type": "code",
   "execution_count": 19,
   "metadata": {},
   "outputs": [
    {
     "name": "stderr",
     "output_type": "stream",
     "text": [
      "Mutual Info: 100%|██████████| 10/10 [00:01<00:00,  9.85it/s]\n"
     ]
    },
    {
     "data": {
      "text/html": [
       "<div><style>\n",
       ".dataframe > thead > tr > th,\n",
       ".dataframe > tbody > tr > td {\n",
       "  text-align: right;\n",
       "}\n",
       "</style>\n",
       "<small>shape: (10, 2)</small><table border=\"1\" class=\"dataframe\"><thead><tr><th>feature</th><th>estimated_mi</th></tr><tr><td>str</td><td>f64</td></tr></thead><tbody><tr><td>&quot;column_3&quot;</td><td>0.494338</td></tr><tr><td>&quot;column_2&quot;</td><td>0.274444</td></tr><tr><td>&quot;column_6&quot;</td><td>0.218141</td></tr><tr><td>&quot;column_8&quot;</td><td>0.089253</td></tr><tr><td>&quot;column_0&quot;</td><td>0.087992</td></tr><tr><td>&quot;column_7&quot;</td><td>0.064688</td></tr><tr><td>&quot;column_9&quot;</td><td>0.063232</td></tr><tr><td>&quot;column_5&quot;</td><td>0.054517</td></tr><tr><td>&quot;column_4&quot;</td><td>0.027601</td></tr><tr><td>&quot;column_1&quot;</td><td>0.005256</td></tr></tbody></table></div>"
      ],
      "text/plain": [
       "shape: (10, 2)\n",
       "┌──────────┬──────────────┐\n",
       "│ feature  ┆ estimated_mi │\n",
       "│ ---      ┆ ---          │\n",
       "│ str      ┆ f64          │\n",
       "╞══════════╪══════════════╡\n",
       "│ column_3 ┆ 0.494338     │\n",
       "│ column_2 ┆ 0.274444     │\n",
       "│ column_6 ┆ 0.218141     │\n",
       "│ column_8 ┆ 0.089253     │\n",
       "│ …        ┆ …            │\n",
       "│ column_9 ┆ 0.063232     │\n",
       "│ column_5 ┆ 0.054517     │\n",
       "│ column_4 ┆ 0.027601     │\n",
       "│ column_1 ┆ 0.005256     │\n",
       "└──────────┴──────────────┘"
      ]
     },
     "execution_count": 19,
     "metadata": {},
     "output_type": "execute_result"
    }
   ],
   "source": [
    "# Vastly faster than sklearn\n",
    "fs.mutual_info(df, target=target, conti_cols=features).sort(by=\"estimated_mi\", descending=True).limit(10)"
   ]
  },
  {
   "cell_type": "code",
   "execution_count": 20,
   "metadata": {},
   "outputs": [],
   "source": [
    "def estimate_mi_sklearn(df:pd.DataFrame, cols:list[str], target:str, k=3, random_state:int=42):\n",
    "    mi_estimates = mutual_info_classif(df[cols], df[target]\n",
    "                        , n_neighbors=k, random_state=random_state, discrete_features=False)\n",
    "\n",
    "    return pl.from_records([cols, mi_estimates], schema=[\"feature\", \"estimated_mi\"]).sort(\"estimated_mi\", descending=True)"
   ]
  },
  {
   "cell_type": "code",
   "execution_count": 21,
   "metadata": {},
   "outputs": [
    {
     "data": {
      "text/html": [
       "<div><style>\n",
       ".dataframe > thead > tr > th,\n",
       ".dataframe > tbody > tr > td {\n",
       "  text-align: right;\n",
       "}\n",
       "</style>\n",
       "<small>shape: (10, 2)</small><table border=\"1\" class=\"dataframe\"><thead><tr><th>feature</th><th>estimated_mi</th></tr><tr><td>str</td><td>f64</td></tr></thead><tbody><tr><td>&quot;column_3&quot;</td><td>0.494338</td></tr><tr><td>&quot;column_2&quot;</td><td>0.274444</td></tr><tr><td>&quot;column_6&quot;</td><td>0.218141</td></tr><tr><td>&quot;column_8&quot;</td><td>0.089256</td></tr><tr><td>&quot;column_0&quot;</td><td>0.087992</td></tr><tr><td>&quot;column_7&quot;</td><td>0.064685</td></tr><tr><td>&quot;column_9&quot;</td><td>0.063232</td></tr><tr><td>&quot;column_5&quot;</td><td>0.054517</td></tr><tr><td>&quot;column_4&quot;</td><td>0.027601</td></tr><tr><td>&quot;column_1&quot;</td><td>0.005256</td></tr></tbody></table></div>"
      ],
      "text/plain": [
       "shape: (10, 2)\n",
       "┌──────────┬──────────────┐\n",
       "│ feature  ┆ estimated_mi │\n",
       "│ ---      ┆ ---          │\n",
       "│ str      ┆ f64          │\n",
       "╞══════════╪══════════════╡\n",
       "│ column_3 ┆ 0.494338     │\n",
       "│ column_2 ┆ 0.274444     │\n",
       "│ column_6 ┆ 0.218141     │\n",
       "│ column_8 ┆ 0.089256     │\n",
       "│ …        ┆ …            │\n",
       "│ column_9 ┆ 0.063232     │\n",
       "│ column_5 ┆ 0.054517     │\n",
       "│ column_4 ┆ 0.027601     │\n",
       "│ column_1 ┆ 0.005256     │\n",
       "└──────────┴──────────────┘"
      ]
     },
     "execution_count": 21,
     "metadata": {},
     "output_type": "execute_result"
    }
   ],
   "source": [
    "# The reason sklearn's impl is slow is that it did not turn on multithreading for KDtrees.\n",
    "# Sklearn also did not provide an option to turn it on, despite the fact that sklearn's KDtrees\n",
    "# does have this functionality.\n",
    "estimate_mi_sklearn(df_pd, cols=features, target=target).limit(10)"
   ]
  },
  {
   "attachments": {},
   "cell_type": "markdown",
   "metadata": {},
   "source": [
    "# MRMR Feature selection Strategy"
   ]
  },
  {
   "cell_type": "code",
   "execution_count": 22,
   "metadata": {},
   "outputs": [],
   "source": [
    "from mrmr import mrmr_classif # This is currently the most starred MRMR Python package on github"
   ]
  },
  {
   "cell_type": "code",
   "execution_count": 23,
   "metadata": {},
   "outputs": [],
   "source": [
    "# Need to wrap it so that we get apples to apples comparison\n",
    "def mrmr_package(df:pd.DataFrame, target:str, k:int) -> list[str]:\n",
    "    features = list(df.columns)\n",
    "    features.remove(target)\n",
    "    X = df[features]\n",
    "    y = df[target]\n",
    "    start = perf_counter()\n",
    "    output = mrmr_classif(X, y, K = k)\n",
    "    end = perf_counter()\n",
    "    print(f\"Spent {end - start:.2f}s to compute mrmr.\")\n",
    "    return output"
   ]
  },
  {
   "cell_type": "code",
   "execution_count": 24,
   "metadata": {},
   "outputs": [
    {
     "name": "stderr",
     "output_type": "stream",
     "text": [
      "100%|██████████| 10/10 [00:02<00:00,  3.61it/s]"
     ]
    },
    {
     "name": "stdout",
     "output_type": "stream",
     "text": [
      "Spent 4.59s to compute mrmr.\n"
     ]
    },
    {
     "name": "stderr",
     "output_type": "stream",
     "text": [
      "\n"
     ]
    },
    {
     "data": {
      "text/plain": [
       "['column_3',\n",
       " 'column_6',\n",
       " 'column_2',\n",
       " 'column_7',\n",
       " 'column_0',\n",
       " 'column_9',\n",
       " 'column_8',\n",
       " 'column_5',\n",
       " 'column_4',\n",
       " 'column_1']"
      ]
     },
     "execution_count": 24,
     "metadata": {},
     "output_type": "execute_result"
    }
   ],
   "source": [
    "mrmr_package(df_pd, \"target\", 50)"
   ]
  },
  {
   "cell_type": "code",
   "execution_count": 25,
   "metadata": {},
   "outputs": [
    {
     "name": "stdout",
     "output_type": "stream",
     "text": [
      "Running fscore to determine feature relevance...\n",
      "Found 10 total features to select from. Proceeding to select top 10 features.\n"
     ]
    },
    {
     "name": "stderr",
     "output_type": "stream",
     "text": [
      "MRMR, fscore: 100%|██████████| 10/10 [00:00<00:00, 1720.74it/s]"
     ]
    },
    {
     "name": "stdout",
     "output_type": "stream",
     "text": [
      "Output is sorted in order of selection (relevance).\n",
      "Spent 0.03s in computing.\n"
     ]
    },
    {
     "name": "stderr",
     "output_type": "stream",
     "text": [
      "\n"
     ]
    },
    {
     "data": {
      "text/plain": [
       "['column_3',\n",
       " 'column_6',\n",
       " 'column_2',\n",
       " 'column_7',\n",
       " 'column_0',\n",
       " 'column_9',\n",
       " 'column_8',\n",
       " 'column_5',\n",
       " 'column_4',\n",
       " 'column_1']"
      ]
     },
     "execution_count": 25,
     "metadata": {},
     "output_type": "execute_result"
    }
   ],
   "source": [
    "start = perf_counter()\n",
    "res = fs.mrmr(df, target=\"target\", k = 50, low_memory=False)\n",
    "end = perf_counter()\n",
    "print(f\"Spent {end - start:.2f}s in computing.\")\n",
    "res"
   ]
  },
  {
   "cell_type": "code",
   "execution_count": 26,
   "metadata": {},
   "outputs": [
    {
     "name": "stdout",
     "output_type": "stream",
     "text": [
      "Running fscore to determine feature relevance...\n",
      "Found 10 total features to select from. Proceeding to select top 10 features.\n"
     ]
    },
    {
     "name": "stderr",
     "output_type": "stream",
     "text": [
      "MRMR, fscore: 100%|██████████| 10/10 [00:00<00:00, 201.76it/s]"
     ]
    },
    {
     "name": "stdout",
     "output_type": "stream",
     "text": [
      "Output is sorted in order of selection (relevance).\n",
      "Spent 0.06s in computing.\n"
     ]
    },
    {
     "name": "stderr",
     "output_type": "stream",
     "text": [
      "\n"
     ]
    },
    {
     "data": {
      "text/plain": [
       "['column_3',\n",
       " 'column_6',\n",
       " 'column_2',\n",
       " 'column_7',\n",
       " 'column_0',\n",
       " 'column_9',\n",
       " 'column_8',\n",
       " 'column_5',\n",
       " 'column_4',\n",
       " 'column_1']"
      ]
     },
     "execution_count": 26,
     "metadata": {},
     "output_type": "execute_result"
    }
   ],
   "source": [
    "start = perf_counter()\n",
    "res = fs.mrmr(df, target=\"target\", k = 50, low_memory=True)\n",
    "end = perf_counter()\n",
    "print(f\"Spent {end - start:.2f}s in computing.\")\n",
    "res"
   ]
  },
  {
   "attachments": {},
   "cell_type": "markdown",
   "metadata": {},
   "source": [
    "# Power Transform"
   ]
  },
  {
   "cell_type": "code",
   "execution_count": 27,
   "metadata": {},
   "outputs": [
    {
     "name": "stderr",
     "output_type": "stream",
     "text": [
      "Inferring best paramters: 100%|██████████| 10/10 [00:00<00:00, 19.09it/s]"
     ]
    },
    {
     "name": "stdout",
     "output_type": "stream",
     "text": [
      "Spent 0.55s in computing.\n"
     ]
    },
    {
     "name": "stderr",
     "output_type": "stream",
     "text": [
      "\n"
     ]
    },
    {
     "data": {
      "text/html": [
       "<div><style>\n",
       ".dataframe > thead > tr > th,\n",
       ".dataframe > tbody > tr > td {\n",
       "  text-align: right;\n",
       "}\n",
       "</style>\n",
       "<small>shape: (5, 11)</small><table border=\"1\" class=\"dataframe\"><thead><tr><th>target</th><th>column_0</th><th>column_1</th><th>column_2</th><th>column_3</th><th>column_4</th><th>column_5</th><th>column_6</th><th>column_7</th><th>column_8</th><th>column_9</th></tr><tr><td>i64</td><td>f64</td><td>f64</td><td>f64</td><td>f64</td><td>f64</td><td>f64</td><td>f64</td><td>f64</td><td>f64</td><td>f64</td></tr></thead><tbody><tr><td>1</td><td>-1.522558</td><td>-0.9207</td><td>-0.466685</td><td>-0.355237</td><td>0.439938</td><td>0.733635</td><td>2.764655</td><td>0.146589</td><td>-1.418265</td><td>1.829884</td></tr><tr><td>1</td><td>1.415649</td><td>0.984821</td><td>-1.002934</td><td>0.8925</td><td>-0.833681</td><td>-0.366278</td><td>0.900587</td><td>1.89783</td><td>1.450042</td><td>-1.842743</td></tr><tr><td>0</td><td>-1.838329</td><td>1.800208</td><td>2.389305</td><td>-2.987505</td><td>1.123757</td><td>0.230044</td><td>-4.360761</td><td>-0.215723</td><td>-0.544952</td><td>-1.355781</td></tr><tr><td>0</td><td>-2.629427</td><td>0.039907</td><td>1.698894</td><td>-2.793563</td><td>0.838214</td><td>0.109178</td><td>-1.799121</td><td>0.222376</td><td>-0.888546</td><td>0.250375</td></tr><tr><td>1</td><td>0.875408</td><td>-0.274069</td><td>0.571497</td><td>0.321304</td><td>0.184512</td><td>-0.220648</td><td>-0.679376</td><td>-1.031075</td><td>0.869076</td><td>1.73066</td></tr></tbody></table></div>"
      ],
      "text/plain": [
       "shape: (5, 11)\n",
       "┌────────┬───────────┬───────────┬───────────┬───┬───────────┬───────────┬───────────┬───────────┐\n",
       "│ target ┆ column_0  ┆ column_1  ┆ column_2  ┆ … ┆ column_6  ┆ column_7  ┆ column_8  ┆ column_9  │\n",
       "│ ---    ┆ ---       ┆ ---       ┆ ---       ┆   ┆ ---       ┆ ---       ┆ ---       ┆ ---       │\n",
       "│ i64    ┆ f64       ┆ f64       ┆ f64       ┆   ┆ f64       ┆ f64       ┆ f64       ┆ f64       │\n",
       "╞════════╪═══════════╪═══════════╪═══════════╪═══╪═══════════╪═══════════╪═══════════╪═══════════╡\n",
       "│ 1      ┆ -1.522558 ┆ -0.9207   ┆ -0.466685 ┆ … ┆ 2.764655  ┆ 0.146589  ┆ -1.418265 ┆ 1.829884  │\n",
       "│ 1      ┆ 1.415649  ┆ 0.984821  ┆ -1.002934 ┆ … ┆ 0.900587  ┆ 1.89783   ┆ 1.450042  ┆ -1.842743 │\n",
       "│ 0      ┆ -1.838329 ┆ 1.800208  ┆ 2.389305  ┆ … ┆ -4.360761 ┆ -0.215723 ┆ -0.544952 ┆ -1.355781 │\n",
       "│ 0      ┆ -2.629427 ┆ 0.039907  ┆ 1.698894  ┆ … ┆ -1.799121 ┆ 0.222376  ┆ -0.888546 ┆ 0.250375  │\n",
       "│ 1      ┆ 0.875408  ┆ -0.274069 ┆ 0.571497  ┆ … ┆ -0.679376 ┆ -1.031075 ┆ 0.869076  ┆ 1.73066   │\n",
       "└────────┴───────────┴───────────┴───────────┴───┴───────────┴───────────┴───────────┴───────────┘"
      ]
     },
     "execution_count": 27,
     "metadata": {},
     "output_type": "execute_result"
    }
   ],
   "source": [
    "# Eager transform.\n",
    "start = perf_counter()\n",
    "res_eager = t.power_transform(df, cols=features, strategy=\"yeo_johnson\")\n",
    "end = perf_counter()\n",
    "print(f\"Spent {end - start:.2f}s in computing.\")\n",
    "res_eager.head() "
   ]
  },
  {
   "cell_type": "code",
   "execution_count": 28,
   "metadata": {},
   "outputs": [],
   "source": [
    "from sklearn.preprocessing import power_transform"
   ]
  },
  {
   "cell_type": "code",
   "execution_count": 29,
   "metadata": {},
   "outputs": [
    {
     "name": "stdout",
     "output_type": "stream",
     "text": [
      "Spent 0.89s in computing.\n"
     ]
    },
    {
     "data": {
      "text/html": [
       "<div>\n",
       "<style scoped>\n",
       "    .dataframe tbody tr th:only-of-type {\n",
       "        vertical-align: middle;\n",
       "    }\n",
       "\n",
       "    .dataframe tbody tr th {\n",
       "        vertical-align: top;\n",
       "    }\n",
       "\n",
       "    .dataframe thead th {\n",
       "        text-align: right;\n",
       "    }\n",
       "</style>\n",
       "<table border=\"1\" class=\"dataframe\">\n",
       "  <thead>\n",
       "    <tr style=\"text-align: right;\">\n",
       "      <th></th>\n",
       "      <th>target</th>\n",
       "      <th>column_0</th>\n",
       "      <th>column_1</th>\n",
       "      <th>column_2</th>\n",
       "      <th>column_3</th>\n",
       "      <th>column_4</th>\n",
       "      <th>column_5</th>\n",
       "      <th>column_6</th>\n",
       "      <th>column_7</th>\n",
       "      <th>column_8</th>\n",
       "      <th>column_9</th>\n",
       "    </tr>\n",
       "  </thead>\n",
       "  <tbody>\n",
       "    <tr>\n",
       "      <th>0</th>\n",
       "      <td>1</td>\n",
       "      <td>-1.522558</td>\n",
       "      <td>-0.920700</td>\n",
       "      <td>-0.466685</td>\n",
       "      <td>-0.355237</td>\n",
       "      <td>0.439938</td>\n",
       "      <td>0.733635</td>\n",
       "      <td>2.764655</td>\n",
       "      <td>0.146589</td>\n",
       "      <td>-1.418265</td>\n",
       "      <td>1.829884</td>\n",
       "    </tr>\n",
       "    <tr>\n",
       "      <th>1</th>\n",
       "      <td>1</td>\n",
       "      <td>1.415649</td>\n",
       "      <td>0.984821</td>\n",
       "      <td>-1.002934</td>\n",
       "      <td>0.892500</td>\n",
       "      <td>-0.833681</td>\n",
       "      <td>-0.366278</td>\n",
       "      <td>0.900587</td>\n",
       "      <td>1.897830</td>\n",
       "      <td>1.450042</td>\n",
       "      <td>-1.842743</td>\n",
       "    </tr>\n",
       "    <tr>\n",
       "      <th>2</th>\n",
       "      <td>0</td>\n",
       "      <td>-1.838329</td>\n",
       "      <td>1.800208</td>\n",
       "      <td>2.389305</td>\n",
       "      <td>-2.987505</td>\n",
       "      <td>1.123757</td>\n",
       "      <td>0.230044</td>\n",
       "      <td>-4.360761</td>\n",
       "      <td>-0.215723</td>\n",
       "      <td>-0.544952</td>\n",
       "      <td>-1.355781</td>\n",
       "    </tr>\n",
       "    <tr>\n",
       "      <th>3</th>\n",
       "      <td>0</td>\n",
       "      <td>-2.629427</td>\n",
       "      <td>0.039907</td>\n",
       "      <td>1.698894</td>\n",
       "      <td>-2.793563</td>\n",
       "      <td>0.838214</td>\n",
       "      <td>0.109178</td>\n",
       "      <td>-1.799121</td>\n",
       "      <td>0.222376</td>\n",
       "      <td>-0.888546</td>\n",
       "      <td>0.250375</td>\n",
       "    </tr>\n",
       "    <tr>\n",
       "      <th>4</th>\n",
       "      <td>1</td>\n",
       "      <td>0.875408</td>\n",
       "      <td>-0.274069</td>\n",
       "      <td>0.571497</td>\n",
       "      <td>0.321304</td>\n",
       "      <td>0.184512</td>\n",
       "      <td>-0.220648</td>\n",
       "      <td>-0.679376</td>\n",
       "      <td>-1.031075</td>\n",
       "      <td>0.869076</td>\n",
       "      <td>1.730660</td>\n",
       "    </tr>\n",
       "  </tbody>\n",
       "</table>\n",
       "</div>"
      ],
      "text/plain": [
       "   target  column_0  column_1  column_2  column_3  column_4  column_5   \n",
       "0       1 -1.522558 -0.920700 -0.466685 -0.355237  0.439938  0.733635  \\\n",
       "1       1  1.415649  0.984821 -1.002934  0.892500 -0.833681 -0.366278   \n",
       "2       0 -1.838329  1.800208  2.389305 -2.987505  1.123757  0.230044   \n",
       "3       0 -2.629427  0.039907  1.698894 -2.793563  0.838214  0.109178   \n",
       "4       1  0.875408 -0.274069  0.571497  0.321304  0.184512 -0.220648   \n",
       "\n",
       "   column_6  column_7  column_8  column_9  \n",
       "0  2.764655  0.146589 -1.418265  1.829884  \n",
       "1  0.900587  1.897830  1.450042 -1.842743  \n",
       "2 -4.360761 -0.215723 -0.544952 -1.355781  \n",
       "3 -1.799121  0.222376 -0.888546  0.250375  \n",
       "4 -0.679376 -1.031075  0.869076  1.730660  "
      ]
     },
     "execution_count": 29,
     "metadata": {},
     "output_type": "execute_result"
    }
   ],
   "source": [
    "# Sklearn with Pandas\n",
    "\n",
    "start = perf_counter()\n",
    "transformed = power_transform(df_pd[features], method = \"yeo-johnson\", standardize=False)\n",
    "end = perf_counter()\n",
    "df_pd[features] = transformed\n",
    "print(f\"Spent {end - start:.2f}s in computing.\")\n",
    "df_pd.head()\n"
   ]
  },
  {
   "attachments": {},
   "cell_type": "markdown",
   "metadata": {},
   "source": [
    "# GC"
   ]
  },
  {
   "cell_type": "code",
   "execution_count": 30,
   "metadata": {},
   "outputs": [
    {
     "data": {
      "text/plain": [
       "194"
      ]
     },
     "execution_count": 30,
     "metadata": {},
     "output_type": "execute_result"
    }
   ],
   "source": [
    "import gc \n",
    "gc.collect()"
   ]
  },
  {
   "cell_type": "code",
   "execution_count": null,
   "metadata": {},
   "outputs": [],
   "source": []
  }
 ],
 "metadata": {
  "kernelspec": {
   "display_name": "my_py11",
   "language": "python",
   "name": "python3"
  },
  "language_info": {
   "codemirror_mode": {
    "name": "ipython",
    "version": 3
   },
   "file_extension": ".py",
   "mimetype": "text/x-python",
   "name": "python",
   "nbconvert_exporter": "python",
   "pygments_lexer": "ipython3",
   "version": "3.11.3"
  },
  "orig_nbformat": 4
 },
 "nbformat": 4,
 "nbformat_minor": 2
}
