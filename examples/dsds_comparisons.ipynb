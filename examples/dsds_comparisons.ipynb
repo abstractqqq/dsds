{
 "cells": [
  {
   "cell_type": "code",
   "execution_count": 1,
   "metadata": {},
   "outputs": [],
   "source": [
    "import polars as pl\n",
    "import pandas as pd\n",
    "import numpy as np\n",
    "from sklearn.datasets import make_classification\n",
    "from time import perf_counter\n",
    "\n",
    "import dsds.transform as t\n",
    "import dsds.fs as fs\n",
    "\n",
    "from sklearn.preprocessing import power_transform\n",
    "from sklearn.feature_selection import mutual_info_classif, f_classif, f_regression"
   ]
  },
  {
   "cell_type": "code",
   "execution_count": 2,
   "metadata": {},
   "outputs": [],
   "source": [
    "orig_x, orig_y = make_classification(n_samples = 100_000, n_features = 100, n_informative = 60, n_redundant = 40)\n",
    "# This is a Polars dataframe. This is dsds package's favored dataframe. dsds relies on Polars heavily.\n",
    "# You must turn other dataframe formats into Polars for dsds to work.\n",
    "df = pl.from_numpy(orig_x).insert_at_idx(0, pl.Series(\"target\", orig_y)) \n",
    "# Turn it into Pandas.\n",
    "df_pd = df.to_pandas()\n",
    "target = \"target\"\n",
    "features = df.columns\n",
    "features.remove(target)"
   ]
  },
  {
   "cell_type": "code",
   "execution_count": 3,
   "metadata": {},
   "outputs": [
    {
     "data": {
      "text/html": [
       "<div><style>\n",
       ".dataframe > thead > tr > th,\n",
       ".dataframe > tbody > tr > td {\n",
       "  text-align: right;\n",
       "}\n",
       "</style>\n",
       "<small>shape: (5, 101)</small><table border=\"1\" class=\"dataframe\"><thead><tr><th>target</th><th>column_0</th><th>column_1</th><th>column_2</th><th>column_3</th><th>column_4</th><th>column_5</th><th>column_6</th><th>column_7</th><th>column_8</th><th>column_9</th><th>column_10</th><th>column_11</th><th>column_12</th><th>column_13</th><th>column_14</th><th>column_15</th><th>column_16</th><th>column_17</th><th>column_18</th><th>column_19</th><th>column_20</th><th>column_21</th><th>column_22</th><th>column_23</th><th>column_24</th><th>column_25</th><th>column_26</th><th>column_27</th><th>column_28</th><th>column_29</th><th>column_30</th><th>column_31</th><th>column_32</th><th>column_33</th><th>column_34</th><th>column_35</th><th>&hellip;</th><th>column_63</th><th>column_64</th><th>column_65</th><th>column_66</th><th>column_67</th><th>column_68</th><th>column_69</th><th>column_70</th><th>column_71</th><th>column_72</th><th>column_73</th><th>column_74</th><th>column_75</th><th>column_76</th><th>column_77</th><th>column_78</th><th>column_79</th><th>column_80</th><th>column_81</th><th>column_82</th><th>column_83</th><th>column_84</th><th>column_85</th><th>column_86</th><th>column_87</th><th>column_88</th><th>column_89</th><th>column_90</th><th>column_91</th><th>column_92</th><th>column_93</th><th>column_94</th><th>column_95</th><th>column_96</th><th>column_97</th><th>column_98</th><th>column_99</th></tr><tr><td>i32</td><td>f64</td><td>f64</td><td>f64</td><td>f64</td><td>f64</td><td>f64</td><td>f64</td><td>f64</td><td>f64</td><td>f64</td><td>f64</td><td>f64</td><td>f64</td><td>f64</td><td>f64</td><td>f64</td><td>f64</td><td>f64</td><td>f64</td><td>f64</td><td>f64</td><td>f64</td><td>f64</td><td>f64</td><td>f64</td><td>f64</td><td>f64</td><td>f64</td><td>f64</td><td>f64</td><td>f64</td><td>f64</td><td>f64</td><td>f64</td><td>f64</td><td>f64</td><td>&hellip;</td><td>f64</td><td>f64</td><td>f64</td><td>f64</td><td>f64</td><td>f64</td><td>f64</td><td>f64</td><td>f64</td><td>f64</td><td>f64</td><td>f64</td><td>f64</td><td>f64</td><td>f64</td><td>f64</td><td>f64</td><td>f64</td><td>f64</td><td>f64</td><td>f64</td><td>f64</td><td>f64</td><td>f64</td><td>f64</td><td>f64</td><td>f64</td><td>f64</td><td>f64</td><td>f64</td><td>f64</td><td>f64</td><td>f64</td><td>f64</td><td>f64</td><td>f64</td><td>f64</td></tr></thead><tbody><tr><td>0</td><td>-6.961292</td><td>-1.354354</td><td>-0.869323</td><td>-0.884865</td><td>5.121076</td><td>0.724037</td><td>7.336044</td><td>4.882869</td><td>-2.07427</td><td>7.31135</td><td>-1.341896</td><td>-1.005311</td><td>-3.350232</td><td>12.06997</td><td>-7.901832</td><td>-2.49579</td><td>0.722828</td><td>0.81133</td><td>8.002032</td><td>3.065417</td><td>-0.643361</td><td>0.17594</td><td>24.239391</td><td>-0.286594</td><td>1.723879</td><td>-1.670237</td><td>1.858778</td><td>-7.094129</td><td>5.976315</td><td>-8.272599</td><td>-14.875249</td><td>-4.569537</td><td>0.656853</td><td>1.971732</td><td>8.967511</td><td>2.029471</td><td>&hellip;</td><td>-8.850719</td><td>-0.459343</td><td>4.358428</td><td>-0.118502</td><td>2.755337</td><td>-1.9843</td><td>2.940229</td><td>-1.795241</td><td>5.494203</td><td>0.162606</td><td>7.492647</td><td>-32.460988</td><td>-0.716955</td><td>-2.083133</td><td>3.100216</td><td>12.844987</td><td>18.51868</td><td>6.837905</td><td>-11.028648</td><td>-1.896649</td><td>-2.084956</td><td>1.739713</td><td>1.764852</td><td>4.881562</td><td>5.619424</td><td>-2.563158</td><td>-8.602555</td><td>-11.079209</td><td>0.467076</td><td>3.097124</td><td>0.376822</td><td>2.517541</td><td>5.388037</td><td>-4.397354</td><td>-30.778848</td><td>-5.041965</td><td>-6.983435</td></tr><tr><td>0</td><td>20.632676</td><td>4.249556</td><td>-4.094372</td><td>-4.175684</td><td>2.170555</td><td>5.160355</td><td>-3.605906</td><td>11.846278</td><td>-0.472618</td><td>0.456665</td><td>2.517982</td><td>4.272224</td><td>-1.400248</td><td>17.086646</td><td>4.171059</td><td>-4.407619</td><td>0.310268</td><td>2.526467</td><td>-4.822629</td><td>5.412142</td><td>-3.983946</td><td>9.655712</td><td>-0.55033</td><td>0.720188</td><td>-1.786544</td><td>-14.436858</td><td>-3.144479</td><td>2.803706</td><td>-6.448455</td><td>-2.132567</td><td>46.874545</td><td>-3.608811</td><td>3.07202</td><td>-8.625982</td><td>5.132065</td><td>-0.346496</td><td>&hellip;</td><td>20.466732</td><td>-1.638719</td><td>-2.821152</td><td>2.597876</td><td>-6.913894</td><td>2.524518</td><td>15.869481</td><td>9.230095</td><td>22.172403</td><td>-4.718264</td><td>-11.17447</td><td>7.256363</td><td>2.586593</td><td>-10.483316</td><td>3.160471</td><td>3.211078</td><td>-1.746299</td><td>3.871675</td><td>-10.271884</td><td>-0.374647</td><td>8.436675</td><td>2.664681</td><td>-8.877909</td><td>-27.951752</td><td>-4.736805</td><td>6.800557</td><td>-28.660288</td><td>-30.310261</td><td>7.586333</td><td>-1.962256</td><td>21.580478</td><td>5.230979</td><td>1.473096</td><td>-4.431784</td><td>-3.254034</td><td>1.852028</td><td>-0.416061</td></tr><tr><td>0</td><td>0.760132</td><td>-4.347395</td><td>13.496234</td><td>-0.431562</td><td>2.138826</td><td>-5.571485</td><td>-8.481878</td><td>-17.562283</td><td>4.484584</td><td>0.926601</td><td>2.038731</td><td>-5.724222</td><td>8.243527</td><td>18.518476</td><td>-2.995804</td><td>-4.136955</td><td>4.245631</td><td>2.139901</td><td>7.773933</td><td>6.064747</td><td>-6.169005</td><td>1.091385</td><td>-16.920923</td><td>2.593477</td><td>-1.66853</td><td>13.341464</td><td>-1.038949</td><td>-4.342841</td><td>-0.539217</td><td>3.028989</td><td>-21.56884</td><td>0.617118</td><td>-2.592063</td><td>-2.183553</td><td>-1.545164</td><td>2.025243</td><td>&hellip;</td><td>16.880737</td><td>3.006935</td><td>3.264033</td><td>-0.17796</td><td>3.374395</td><td>4.586409</td><td>39.581319</td><td>0.582877</td><td>4.443706</td><td>-2.106167</td><td>-16.744476</td><td>-13.865333</td><td>-0.157971</td><td>-1.702791</td><td>-0.548618</td><td>-14.920604</td><td>15.676817</td><td>-4.339007</td><td>0.898013</td><td>6.473017</td><td>-11.858197</td><td>0.083215</td><td>16.842015</td><td>-23.145912</td><td>4.977613</td><td>1.380346</td><td>-1.854526</td><td>-19.415052</td><td>-2.12596</td><td>-2.555243</td><td>-13.063444</td><td>2.753809</td><td>5.378086</td><td>-3.71934</td><td>-14.239367</td><td>5.956584</td><td>1.086044</td></tr><tr><td>0</td><td>-15.607154</td><td>8.736904</td><td>-13.413893</td><td>-2.351322</td><td>0.91337</td><td>-3.232315</td><td>-0.149811</td><td>-4.529269</td><td>12.054057</td><td>11.146986</td><td>3.01012</td><td>2.995094</td><td>-0.89265</td><td>22.822297</td><td>0.035335</td><td>-7.34237</td><td>-0.737487</td><td>-3.250542</td><td>10.457545</td><td>-7.300357</td><td>-4.349097</td><td>5.08922</td><td>8.35002</td><td>-2.533354</td><td>3.86165</td><td>35.771758</td><td>2.672292</td><td>-6.899604</td><td>1.852812</td><td>-7.04754</td><td>-17.233301</td><td>1.23183</td><td>-4.376885</td><td>-0.357091</td><td>5.777176</td><td>1.215443</td><td>&hellip;</td><td>3.272181</td><td>1.180432</td><td>-4.457339</td><td>-0.617199</td><td>5.325624</td><td>-1.060831</td><td>-27.461943</td><td>-4.689634</td><td>43.039389</td><td>-2.997954</td><td>-19.442372</td><td>-11.82962</td><td>0.73711</td><td>0.3284</td><td>-3.131322</td><td>11.988391</td><td>-4.207496</td><td>-6.484493</td><td>-11.792607</td><td>1.890237</td><td>-16.094931</td><td>1.70052</td><td>31.931763</td><td>10.673168</td><td>-6.90798</td><td>-10.729616</td><td>-42.774313</td><td>6.895033</td><td>-0.036809</td><td>-1.488856</td><td>-28.929027</td><td>0.208436</td><td>-0.51967</td><td>-0.629804</td><td>28.637312</td><td>-1.935074</td><td>0.6843</td></tr><tr><td>0</td><td>51.113307</td><td>-1.698436</td><td>5.345558</td><td>-5.836382</td><td>-6.737174</td><td>-0.864245</td><td>7.334694</td><td>-12.092255</td><td>-6.189048</td><td>-1.692949</td><td>-1.790517</td><td>-10.122019</td><td>10.569299</td><td>-5.552243</td><td>-7.174021</td><td>-0.244619</td><td>-3.283322</td><td>-2.088435</td><td>3.013483</td><td>-6.975555</td><td>-7.254351</td><td>0.771886</td><td>7.524851</td><td>6.886622</td><td>1.521072</td><td>-17.172309</td><td>-5.004197</td><td>-0.701305</td><td>5.635577</td><td>-7.550588</td><td>-35.323688</td><td>3.419985</td><td>-1.68093</td><td>4.860182</td><td>1.814012</td><td>-4.619527</td><td>&hellip;</td><td>41.797645</td><td>-2.889154</td><td>1.906265</td><td>-4.046515</td><td>2.611496</td><td>4.096448</td><td>25.35227</td><td>0.956828</td><td>-22.97967</td><td>-9.522949</td><td>-19.038726</td><td>11.618604</td><td>0.66508</td><td>1.49805</td><td>4.409538</td><td>1.609314</td><td>13.50588</td><td>-0.584232</td><td>-0.580046</td><td>-3.812104</td><td>-14.262377</td><td>-1.640206</td><td>37.686212</td><td>23.702001</td><td>-7.359584</td><td>9.730108</td><td>7.737162</td><td>-2.506153</td><td>5.635304</td><td>-0.25188</td><td>11.416448</td><td>-3.344223</td><td>-2.035076</td><td>3.050872</td><td>13.048569</td><td>-8.769286</td><td>-2.064531</td></tr></tbody></table></div>"
      ],
      "text/plain": [
       "shape: (5, 101)\n",
       "┌────────┬────────────┬───────────┬────────────┬───┬───────────┬───────────┬───────────┬───────────┐\n",
       "│ target ┆ column_0   ┆ column_1  ┆ column_2   ┆ … ┆ column_96 ┆ column_97 ┆ column_98 ┆ column_99 │\n",
       "│ ---    ┆ ---        ┆ ---       ┆ ---        ┆   ┆ ---       ┆ ---       ┆ ---       ┆ ---       │\n",
       "│ i32    ┆ f64        ┆ f64       ┆ f64        ┆   ┆ f64       ┆ f64       ┆ f64       ┆ f64       │\n",
       "╞════════╪════════════╪═══════════╪════════════╪═══╪═══════════╪═══════════╪═══════════╪═══════════╡\n",
       "│ 0      ┆ -6.961292  ┆ -1.354354 ┆ -0.869323  ┆ … ┆ -4.397354 ┆ -30.77884 ┆ -5.041965 ┆ -6.983435 │\n",
       "│        ┆            ┆           ┆            ┆   ┆           ┆ 8         ┆           ┆           │\n",
       "│ 0      ┆ 20.632676  ┆ 4.249556  ┆ -4.094372  ┆ … ┆ -4.431784 ┆ -3.254034 ┆ 1.852028  ┆ -0.416061 │\n",
       "│ 0      ┆ 0.760132   ┆ -4.347395 ┆ 13.496234  ┆ … ┆ -3.71934  ┆ -14.23936 ┆ 5.956584  ┆ 1.086044  │\n",
       "│        ┆            ┆           ┆            ┆   ┆           ┆ 7         ┆           ┆           │\n",
       "│ 0      ┆ -15.607154 ┆ 8.736904  ┆ -13.413893 ┆ … ┆ -0.629804 ┆ 28.637312 ┆ -1.935074 ┆ 0.6843    │\n",
       "│ 0      ┆ 51.113307  ┆ -1.698436 ┆ 5.345558   ┆ … ┆ 3.050872  ┆ 13.048569 ┆ -8.769286 ┆ -2.064531 │\n",
       "└────────┴────────────┴───────────┴────────────┴───┴───────────┴───────────┴───────────┴───────────┘"
      ]
     },
     "execution_count": 3,
     "metadata": {},
     "output_type": "execute_result"
    }
   ],
   "source": [
    "df.head()"
   ]
  },
  {
   "attachments": {},
   "cell_type": "markdown",
   "metadata": {},
   "source": [
    "## Comparisons\n",
    "\n",
    "This notebook compares results and performance between the dsds package, sklearn and some other packages for feature selection and some other transformations common in the data science pipeline.\n",
    "\n",
    "### Methods Compared:\n",
    "1. Fscore\n",
    "2. Mutual Information Score\n",
    "3. MRMR feature selection strategies\n",
    "4. Power Transform\n",
    "\n",
    "You may restart the kernel after each section. But remember to rerun the cells above. If you are concerned about memory usage when running this notebook, go to the end and run the gc cell."
   ]
  },
  {
   "attachments": {},
   "cell_type": "markdown",
   "metadata": {},
   "source": [
    "# Fscore"
   ]
  },
  {
   "cell_type": "code",
   "execution_count": 4,
   "metadata": {},
   "outputs": [
    {
     "name": "stdout",
     "output_type": "stream",
     "text": [
      "Spent 0.02s in computing Fscore.\n"
     ]
    },
    {
     "data": {
      "text/html": [
       "<div><style>\n",
       ".dataframe > thead > tr > th,\n",
       ".dataframe > tbody > tr > td {\n",
       "  text-align: right;\n",
       "}\n",
       "</style>\n",
       "<small>shape: (10, 3)</small><table border=\"1\" class=\"dataframe\"><thead><tr><th>feature</th><th>f_value</th><th>p_value</th></tr><tr><td>str</td><td>f64</td><td>f64</td></tr></thead><tbody><tr><td>&quot;column_0&quot;</td><td>120.482724</td><td>5.1459e-28</td></tr><tr><td>&quot;column_1&quot;</td><td>0.148875</td><td>0.699613</td></tr><tr><td>&quot;column_2&quot;</td><td>13.568901</td><td>0.00023</td></tr><tr><td>&quot;column_3&quot;</td><td>4762.418313</td><td>0.0</td></tr><tr><td>&quot;column_4&quot;</td><td>1205.527117</td><td>1.4193e-262</td></tr><tr><td>&quot;column_5&quot;</td><td>0.330126</td><td>0.565586</td></tr><tr><td>&quot;column_6&quot;</td><td>0.18548</td><td>0.666707</td></tr><tr><td>&quot;column_7&quot;</td><td>215.540639</td><td>9.5491e-49</td></tr><tr><td>&quot;column_8&quot;</td><td>1501.147984</td><td>0.0</td></tr><tr><td>&quot;column_9&quot;</td><td>0.612286</td><td>0.43393</td></tr></tbody></table></div>"
      ],
      "text/plain": [
       "shape: (10, 3)\n",
       "┌──────────┬─────────────┬────────────┐\n",
       "│ feature  ┆ f_value     ┆ p_value    │\n",
       "│ ---      ┆ ---         ┆ ---        │\n",
       "│ str      ┆ f64         ┆ f64        │\n",
       "╞══════════╪═════════════╪════════════╡\n",
       "│ column_0 ┆ 120.482724  ┆ 5.1459e-28 │\n",
       "│ column_1 ┆ 0.148875    ┆ 0.699613   │\n",
       "│ column_2 ┆ 13.568901   ┆ 0.00023    │\n",
       "│ column_3 ┆ 4762.418313 ┆ 0.0        │\n",
       "│ …        ┆ …           ┆ …          │\n",
       "│ column_6 ┆ 0.18548     ┆ 0.666707   │\n",
       "│ column_7 ┆ 215.540639  ┆ 9.5491e-49 │\n",
       "│ column_8 ┆ 1501.147984 ┆ 0.0        │\n",
       "│ column_9 ┆ 0.612286    ┆ 0.43393    │\n",
       "└──────────┴─────────────┴────────────┘"
      ]
     },
     "execution_count": 4,
     "metadata": {},
     "output_type": "execute_result"
    }
   ],
   "source": [
    "start = perf_counter()\n",
    "res = fs.f_classif(df, target=target)\n",
    "end = perf_counter()\n",
    "print(f\"Spent {end - start:.2f}s in computing Fscore.\")\n",
    "res.head(10)"
   ]
  },
  {
   "cell_type": "code",
   "execution_count": 5,
   "metadata": {},
   "outputs": [
    {
     "name": "stdout",
     "output_type": "stream",
     "text": [
      "Spent 0.14s in computing Fscore.\n"
     ]
    },
    {
     "data": {
      "text/html": [
       "<div>\n",
       "<style scoped>\n",
       "    .dataframe tbody tr th:only-of-type {\n",
       "        vertical-align: middle;\n",
       "    }\n",
       "\n",
       "    .dataframe tbody tr th {\n",
       "        vertical-align: top;\n",
       "    }\n",
       "\n",
       "    .dataframe thead th {\n",
       "        text-align: right;\n",
       "    }\n",
       "</style>\n",
       "<table border=\"1\" class=\"dataframe\">\n",
       "  <thead>\n",
       "    <tr style=\"text-align: right;\">\n",
       "      <th></th>\n",
       "      <th>feature</th>\n",
       "      <th>f_value</th>\n",
       "      <th>p_value</th>\n",
       "    </tr>\n",
       "  </thead>\n",
       "  <tbody>\n",
       "    <tr>\n",
       "      <th>0</th>\n",
       "      <td>column_0</td>\n",
       "      <td>120.482724</td>\n",
       "      <td>5.145915e-28</td>\n",
       "    </tr>\n",
       "    <tr>\n",
       "      <th>1</th>\n",
       "      <td>column_1</td>\n",
       "      <td>0.148875</td>\n",
       "      <td>6.996134e-01</td>\n",
       "    </tr>\n",
       "    <tr>\n",
       "      <th>2</th>\n",
       "      <td>column_2</td>\n",
       "      <td>13.568901</td>\n",
       "      <td>2.300851e-04</td>\n",
       "    </tr>\n",
       "    <tr>\n",
       "      <th>3</th>\n",
       "      <td>column_3</td>\n",
       "      <td>4762.418313</td>\n",
       "      <td>0.000000e+00</td>\n",
       "    </tr>\n",
       "    <tr>\n",
       "      <th>4</th>\n",
       "      <td>column_4</td>\n",
       "      <td>1205.527117</td>\n",
       "      <td>1.419270e-262</td>\n",
       "    </tr>\n",
       "    <tr>\n",
       "      <th>5</th>\n",
       "      <td>column_5</td>\n",
       "      <td>0.330126</td>\n",
       "      <td>5.655862e-01</td>\n",
       "    </tr>\n",
       "    <tr>\n",
       "      <th>6</th>\n",
       "      <td>column_6</td>\n",
       "      <td>0.185480</td>\n",
       "      <td>6.667065e-01</td>\n",
       "    </tr>\n",
       "    <tr>\n",
       "      <th>7</th>\n",
       "      <td>column_7</td>\n",
       "      <td>215.540639</td>\n",
       "      <td>9.549144e-49</td>\n",
       "    </tr>\n",
       "    <tr>\n",
       "      <th>8</th>\n",
       "      <td>column_8</td>\n",
       "      <td>1501.147984</td>\n",
       "      <td>0.000000e+00</td>\n",
       "    </tr>\n",
       "    <tr>\n",
       "      <th>9</th>\n",
       "      <td>column_9</td>\n",
       "      <td>0.612286</td>\n",
       "      <td>4.339301e-01</td>\n",
       "    </tr>\n",
       "  </tbody>\n",
       "</table>\n",
       "</div>"
      ],
      "text/plain": [
       "    feature      f_value        p_value\n",
       "0  column_0   120.482724   5.145915e-28\n",
       "1  column_1     0.148875   6.996134e-01\n",
       "2  column_2    13.568901   2.300851e-04\n",
       "3  column_3  4762.418313   0.000000e+00\n",
       "4  column_4  1205.527117  1.419270e-262\n",
       "5  column_5     0.330126   5.655862e-01\n",
       "6  column_6     0.185480   6.667065e-01\n",
       "7  column_7   215.540639   9.549144e-49\n",
       "8  column_8  1501.147984   0.000000e+00\n",
       "9  column_9     0.612286   4.339301e-01"
      ]
     },
     "execution_count": 5,
     "metadata": {},
     "output_type": "execute_result"
    }
   ],
   "source": [
    "start = perf_counter()\n",
    "f, pv = f_classif(df_pd[features], df_pd[target])\n",
    "res = pd.DataFrame({\"feature\":features, \"f_value\":f, \"p_value\":pv})\n",
    "end = perf_counter()\n",
    "print(f\"Spent {end - start:.2f}s in computing Fscore.\")\n",
    "res.head(10)"
   ]
  },
  {
   "cell_type": "code",
   "execution_count": 6,
   "metadata": {},
   "outputs": [
    {
     "name": "stdout",
     "output_type": "stream",
     "text": [
      "Spent  0.06s in computing Fscore.\n"
     ]
    },
    {
     "data": {
      "text/html": [
       "<div>\n",
       "<style scoped>\n",
       "    .dataframe tbody tr th:only-of-type {\n",
       "        vertical-align: middle;\n",
       "    }\n",
       "\n",
       "    .dataframe tbody tr th {\n",
       "        vertical-align: top;\n",
       "    }\n",
       "\n",
       "    .dataframe thead th {\n",
       "        text-align: right;\n",
       "    }\n",
       "</style>\n",
       "<table border=\"1\" class=\"dataframe\">\n",
       "  <thead>\n",
       "    <tr style=\"text-align: right;\">\n",
       "      <th></th>\n",
       "      <th>feature</th>\n",
       "      <th>f_value</th>\n",
       "      <th>p_value</th>\n",
       "    </tr>\n",
       "  </thead>\n",
       "  <tbody>\n",
       "    <tr>\n",
       "      <th>0</th>\n",
       "      <td>column_0</td>\n",
       "      <td>120.482724</td>\n",
       "      <td>5.145915e-28</td>\n",
       "    </tr>\n",
       "    <tr>\n",
       "      <th>1</th>\n",
       "      <td>column_1</td>\n",
       "      <td>0.148875</td>\n",
       "      <td>6.996134e-01</td>\n",
       "    </tr>\n",
       "    <tr>\n",
       "      <th>2</th>\n",
       "      <td>column_2</td>\n",
       "      <td>13.568901</td>\n",
       "      <td>2.300851e-04</td>\n",
       "    </tr>\n",
       "    <tr>\n",
       "      <th>3</th>\n",
       "      <td>column_3</td>\n",
       "      <td>4762.418313</td>\n",
       "      <td>0.000000e+00</td>\n",
       "    </tr>\n",
       "    <tr>\n",
       "      <th>4</th>\n",
       "      <td>column_4</td>\n",
       "      <td>1205.527117</td>\n",
       "      <td>1.419270e-262</td>\n",
       "    </tr>\n",
       "    <tr>\n",
       "      <th>5</th>\n",
       "      <td>column_5</td>\n",
       "      <td>0.330126</td>\n",
       "      <td>5.655862e-01</td>\n",
       "    </tr>\n",
       "    <tr>\n",
       "      <th>6</th>\n",
       "      <td>column_6</td>\n",
       "      <td>0.185480</td>\n",
       "      <td>6.667065e-01</td>\n",
       "    </tr>\n",
       "    <tr>\n",
       "      <th>7</th>\n",
       "      <td>column_7</td>\n",
       "      <td>215.540639</td>\n",
       "      <td>9.549144e-49</td>\n",
       "    </tr>\n",
       "    <tr>\n",
       "      <th>8</th>\n",
       "      <td>column_8</td>\n",
       "      <td>1501.147984</td>\n",
       "      <td>0.000000e+00</td>\n",
       "    </tr>\n",
       "    <tr>\n",
       "      <th>9</th>\n",
       "      <td>column_9</td>\n",
       "      <td>0.612286</td>\n",
       "      <td>4.339301e-01</td>\n",
       "    </tr>\n",
       "  </tbody>\n",
       "</table>\n",
       "</div>"
      ],
      "text/plain": [
       "    feature      f_value        p_value\n",
       "0  column_0   120.482724   5.145915e-28\n",
       "1  column_1     0.148875   6.996134e-01\n",
       "2  column_2    13.568901   2.300851e-04\n",
       "3  column_3  4762.418313   0.000000e+00\n",
       "4  column_4  1205.527117  1.419270e-262\n",
       "5  column_5     0.330126   5.655862e-01\n",
       "6  column_6     0.185480   6.667065e-01\n",
       "7  column_7   215.540639   9.549144e-49\n",
       "8  column_8  1501.147984   0.000000e+00\n",
       "9  column_9     0.612286   4.339301e-01"
      ]
     },
     "execution_count": 6,
     "metadata": {},
     "output_type": "execute_result"
    }
   ],
   "source": [
    "start = perf_counter()\n",
    "f, pv = f_regression(df_pd[features], df_pd[target])\n",
    "res = pd.DataFrame({\"feature\":features, \"f_value\":f, \"p_value\":pv})\n",
    "end = perf_counter()\n",
    "print(f\"Spent {end - start: .2f}s in computing Fscore.\")\n",
    "res.head(10)"
   ]
  },
  {
   "attachments": {},
   "cell_type": "markdown",
   "metadata": {},
   "source": [
    "# Mutual Information Score"
   ]
  },
  {
   "cell_type": "code",
   "execution_count": 7,
   "metadata": {},
   "outputs": [
    {
     "name": "stderr",
     "output_type": "stream",
     "text": [
      "Mutual Info: 100%|██████████| 100/100 [00:07<00:00, 13.07it/s]\n"
     ]
    },
    {
     "data": {
      "text/html": [
       "<div><style>\n",
       ".dataframe > thead > tr > th,\n",
       ".dataframe > tbody > tr > td {\n",
       "  text-align: right;\n",
       "}\n",
       "</style>\n",
       "<small>shape: (10, 2)</small><table border=\"1\" class=\"dataframe\"><thead><tr><th>feature</th><th>estimated_mi</th></tr><tr><td>str</td><td>f64</td></tr></thead><tbody><tr><td>&quot;column_71&quot;</td><td>0.054561</td></tr><tr><td>&quot;column_45&quot;</td><td>0.038992</td></tr><tr><td>&quot;column_61&quot;</td><td>0.030293</td></tr><tr><td>&quot;column_70&quot;</td><td>0.027282</td></tr><tr><td>&quot;column_3&quot;</td><td>0.025794</td></tr><tr><td>&quot;column_27&quot;</td><td>0.024912</td></tr><tr><td>&quot;column_16&quot;</td><td>0.024655</td></tr><tr><td>&quot;column_17&quot;</td><td>0.024287</td></tr><tr><td>&quot;column_77&quot;</td><td>0.022761</td></tr><tr><td>&quot;column_35&quot;</td><td>0.02264</td></tr></tbody></table></div>"
      ],
      "text/plain": [
       "shape: (10, 2)\n",
       "┌───────────┬──────────────┐\n",
       "│ feature   ┆ estimated_mi │\n",
       "│ ---       ┆ ---          │\n",
       "│ str       ┆ f64          │\n",
       "╞═══════════╪══════════════╡\n",
       "│ column_71 ┆ 0.054561     │\n",
       "│ column_45 ┆ 0.038992     │\n",
       "│ column_61 ┆ 0.030293     │\n",
       "│ column_70 ┆ 0.027282     │\n",
       "│ …         ┆ …            │\n",
       "│ column_16 ┆ 0.024655     │\n",
       "│ column_17 ┆ 0.024287     │\n",
       "│ column_77 ┆ 0.022761     │\n",
       "│ column_35 ┆ 0.02264      │\n",
       "└───────────┴──────────────┘"
      ]
     },
     "execution_count": 7,
     "metadata": {},
     "output_type": "execute_result"
    }
   ],
   "source": [
    "# Took 16s\n",
    "fs.mutual_info(df, target=target, conti_cols=features).sort(by=\"estimated_mi\", descending=True).limit(10)"
   ]
  },
  {
   "cell_type": "code",
   "execution_count": 8,
   "metadata": {},
   "outputs": [],
   "source": [
    "def estimate_mi_sklearn(df:pd.DataFrame, cols:list[str], target:str, k=3, random_state:int=42):\n",
    "    mi_estimates = mutual_info_classif(df[cols], df[target]\n",
    "                        , n_neighbors=k, random_state=random_state, discrete_features=False)\n",
    "\n",
    "    return pl.from_records([cols, mi_estimates], schema=[\"feature\", \"estimated_mi\"]).sort(\"estimated_mi\", descending=True)"
   ]
  },
  {
   "cell_type": "code",
   "execution_count": 9,
   "metadata": {},
   "outputs": [
    {
     "data": {
      "text/html": [
       "<div><style>\n",
       ".dataframe > thead > tr > th,\n",
       ".dataframe > tbody > tr > td {\n",
       "  text-align: right;\n",
       "}\n",
       "</style>\n",
       "<small>shape: (10, 2)</small><table border=\"1\" class=\"dataframe\"><thead><tr><th>feature</th><th>estimated_mi</th></tr><tr><td>str</td><td>f64</td></tr></thead><tbody><tr><td>&quot;column_71&quot;</td><td>0.054561</td></tr><tr><td>&quot;column_45&quot;</td><td>0.038992</td></tr><tr><td>&quot;column_61&quot;</td><td>0.030293</td></tr><tr><td>&quot;column_70&quot;</td><td>0.027282</td></tr><tr><td>&quot;column_3&quot;</td><td>0.025794</td></tr><tr><td>&quot;column_27&quot;</td><td>0.024912</td></tr><tr><td>&quot;column_16&quot;</td><td>0.024653</td></tr><tr><td>&quot;column_17&quot;</td><td>0.024283</td></tr><tr><td>&quot;column_77&quot;</td><td>0.022761</td></tr><tr><td>&quot;column_35&quot;</td><td>0.02264</td></tr></tbody></table></div>"
      ],
      "text/plain": [
       "shape: (10, 2)\n",
       "┌───────────┬──────────────┐\n",
       "│ feature   ┆ estimated_mi │\n",
       "│ ---       ┆ ---          │\n",
       "│ str       ┆ f64          │\n",
       "╞═══════════╪══════════════╡\n",
       "│ column_71 ┆ 0.054561     │\n",
       "│ column_45 ┆ 0.038992     │\n",
       "│ column_61 ┆ 0.030293     │\n",
       "│ column_70 ┆ 0.027282     │\n",
       "│ …         ┆ …            │\n",
       "│ column_16 ┆ 0.024653     │\n",
       "│ column_17 ┆ 0.024283     │\n",
       "│ column_77 ┆ 0.022761     │\n",
       "│ column_35 ┆ 0.02264      │\n",
       "└───────────┴──────────────┘"
      ]
     },
     "execution_count": 9,
     "metadata": {},
     "output_type": "execute_result"
    }
   ],
   "source": [
    "# Took 1m38s seconds by using sklearn. The reason is that sklearn's implementation did not turn on multithreading for KDtrees.\n",
    "# Sklearn also did not provide an option to turn it on, despite the fact that sklearn's KDtrees\n",
    "# does have this functionality.\n",
    "estimate_mi_sklearn(df_pd, cols=features, target=target).limit(10)"
   ]
  },
  {
   "attachments": {},
   "cell_type": "markdown",
   "metadata": {},
   "source": [
    "# MRMR Feature selection Strategy"
   ]
  },
  {
   "cell_type": "code",
   "execution_count": 10,
   "metadata": {},
   "outputs": [],
   "source": [
    "from mrmr import mrmr_classif # This is currently the most starred MRMR Python package on github"
   ]
  },
  {
   "cell_type": "code",
   "execution_count": 11,
   "metadata": {},
   "outputs": [],
   "source": [
    "# Need to wrap it so that we get apples to apples comparison\n",
    "def mrmr_package(df:pd.DataFrame, target:str, k:int) -> list[str]:\n",
    "    features = list(df.columns)\n",
    "    features.remove(target)\n",
    "    X = df[features]\n",
    "    y = df[target]\n",
    "    start = perf_counter()\n",
    "    output = mrmr_classif(X, y, K = k)\n",
    "    end = perf_counter()\n",
    "    print(f\"Spent {end - start:.2f}s to compute mrmr.\")\n",
    "    return output"
   ]
  },
  {
   "cell_type": "code",
   "execution_count": 12,
   "metadata": {},
   "outputs": [
    {
     "name": "stderr",
     "output_type": "stream",
     "text": [
      "100%|██████████| 50/50 [00:11<00:00,  4.31it/s]"
     ]
    },
    {
     "name": "stdout",
     "output_type": "stream",
     "text": [
      "Spent 14.99s to compute mrmr.\n"
     ]
    },
    {
     "name": "stderr",
     "output_type": "stream",
     "text": [
      "\n"
     ]
    },
    {
     "data": {
      "text/plain": [
       "['column_71',\n",
       " 'column_45',\n",
       " 'column_61',\n",
       " 'column_73',\n",
       " 'column_35',\n",
       " 'column_17',\n",
       " 'column_27',\n",
       " 'column_70',\n",
       " 'column_16',\n",
       " 'column_3',\n",
       " 'column_77',\n",
       " 'column_4',\n",
       " 'column_48',\n",
       " 'column_22',\n",
       " 'column_24',\n",
       " 'column_65',\n",
       " 'column_11',\n",
       " 'column_41',\n",
       " 'column_94',\n",
       " 'column_50',\n",
       " 'column_8',\n",
       " 'column_26',\n",
       " 'column_49',\n",
       " 'column_40',\n",
       " 'column_66',\n",
       " 'column_87',\n",
       " 'column_76',\n",
       " 'column_14',\n",
       " 'column_75',\n",
       " 'column_34',\n",
       " 'column_54',\n",
       " 'column_84',\n",
       " 'column_72',\n",
       " 'column_82',\n",
       " 'column_28',\n",
       " 'column_68',\n",
       " 'column_21',\n",
       " 'column_32',\n",
       " 'column_67',\n",
       " 'column_19',\n",
       " 'column_12',\n",
       " 'column_10',\n",
       " 'column_55',\n",
       " 'column_58',\n",
       " 'column_38',\n",
       " 'column_18',\n",
       " 'column_81',\n",
       " 'column_60',\n",
       " 'column_85',\n",
       " 'column_43']"
      ]
     },
     "execution_count": 12,
     "metadata": {},
     "output_type": "execute_result"
    }
   ],
   "source": [
    "mrmr_package(df_pd, \"target\", 50)"
   ]
  },
  {
   "cell_type": "code",
   "execution_count": 13,
   "metadata": {},
   "outputs": [
    {
     "name": "stdout",
     "output_type": "stream",
     "text": [
      "Running fscore to determine feature relevance...\n",
      "Found 100 total features to select from. Proceeding to select top 50 features.\n"
     ]
    },
    {
     "name": "stderr",
     "output_type": "stream",
     "text": [
      "MRMR, fscore: 100%|██████████| 50/50 [00:00<00:00, 199.37it/s]"
     ]
    },
    {
     "name": "stdout",
     "output_type": "stream",
     "text": [
      "Output is sorted in order of selection (relevance).\n",
      "Spent 0.30s in computing.\n"
     ]
    },
    {
     "name": "stderr",
     "output_type": "stream",
     "text": [
      "\n"
     ]
    },
    {
     "data": {
      "text/plain": [
       "['column_71',\n",
       " 'column_45',\n",
       " 'column_61',\n",
       " 'column_73',\n",
       " 'column_35',\n",
       " 'column_17',\n",
       " 'column_27',\n",
       " 'column_70',\n",
       " 'column_16',\n",
       " 'column_3',\n",
       " 'column_77',\n",
       " 'column_4',\n",
       " 'column_48',\n",
       " 'column_22',\n",
       " 'column_24',\n",
       " 'column_65',\n",
       " 'column_11',\n",
       " 'column_41',\n",
       " 'column_94',\n",
       " 'column_50',\n",
       " 'column_8',\n",
       " 'column_26',\n",
       " 'column_49',\n",
       " 'column_40',\n",
       " 'column_66',\n",
       " 'column_87',\n",
       " 'column_76',\n",
       " 'column_14',\n",
       " 'column_75',\n",
       " 'column_34',\n",
       " 'column_54',\n",
       " 'column_84',\n",
       " 'column_72',\n",
       " 'column_82',\n",
       " 'column_28',\n",
       " 'column_68',\n",
       " 'column_21',\n",
       " 'column_32',\n",
       " 'column_67',\n",
       " 'column_19',\n",
       " 'column_12',\n",
       " 'column_10',\n",
       " 'column_55',\n",
       " 'column_58',\n",
       " 'column_38',\n",
       " 'column_18',\n",
       " 'column_81',\n",
       " 'column_60',\n",
       " 'column_85',\n",
       " 'column_43']"
      ]
     },
     "execution_count": 13,
     "metadata": {},
     "output_type": "execute_result"
    }
   ],
   "source": [
    "start = perf_counter()\n",
    "res = fs.mrmr(df, target=\"target\", k = 50, low_memory=False)\n",
    "end = perf_counter()\n",
    "print(f\"Spent {end - start:.2f}s in computing.\")\n",
    "res"
   ]
  },
  {
   "cell_type": "code",
   "execution_count": 14,
   "metadata": {},
   "outputs": [
    {
     "name": "stdout",
     "output_type": "stream",
     "text": [
      "Running fscore to determine feature relevance...\n",
      "Found 100 total features to select from. Proceeding to select top 50 features.\n"
     ]
    },
    {
     "name": "stderr",
     "output_type": "stream",
     "text": [
      "MRMR, fscore: 100%|██████████| 50/50 [00:01<00:00, 44.55it/s]"
     ]
    },
    {
     "name": "stdout",
     "output_type": "stream",
     "text": [
      "Output is sorted in order of selection (relevance).\n",
      "Spent 1.14s in computing.\n"
     ]
    },
    {
     "name": "stderr",
     "output_type": "stream",
     "text": [
      "\n"
     ]
    },
    {
     "data": {
      "text/plain": [
       "['column_71',\n",
       " 'column_45',\n",
       " 'column_61',\n",
       " 'column_73',\n",
       " 'column_35',\n",
       " 'column_17',\n",
       " 'column_27',\n",
       " 'column_70',\n",
       " 'column_16',\n",
       " 'column_3',\n",
       " 'column_77',\n",
       " 'column_4',\n",
       " 'column_48',\n",
       " 'column_22',\n",
       " 'column_24',\n",
       " 'column_65',\n",
       " 'column_11',\n",
       " 'column_41',\n",
       " 'column_94',\n",
       " 'column_50',\n",
       " 'column_8',\n",
       " 'column_26',\n",
       " 'column_49',\n",
       " 'column_40',\n",
       " 'column_66',\n",
       " 'column_87',\n",
       " 'column_76',\n",
       " 'column_14',\n",
       " 'column_75',\n",
       " 'column_34',\n",
       " 'column_54',\n",
       " 'column_84',\n",
       " 'column_72',\n",
       " 'column_82',\n",
       " 'column_28',\n",
       " 'column_68',\n",
       " 'column_21',\n",
       " 'column_32',\n",
       " 'column_67',\n",
       " 'column_19',\n",
       " 'column_12',\n",
       " 'column_10',\n",
       " 'column_55',\n",
       " 'column_58',\n",
       " 'column_38',\n",
       " 'column_18',\n",
       " 'column_81',\n",
       " 'column_60',\n",
       " 'column_85',\n",
       " 'column_43']"
      ]
     },
     "execution_count": 14,
     "metadata": {},
     "output_type": "execute_result"
    }
   ],
   "source": [
    "start = perf_counter()\n",
    "res = fs.mrmr(df, target=\"target\", k = 50, low_memory=True)\n",
    "end = perf_counter()\n",
    "print(f\"Spent {end - start:.2f}s in computing.\")\n",
    "res"
   ]
  },
  {
   "attachments": {},
   "cell_type": "markdown",
   "metadata": {},
   "source": [
    "# Power Transform"
   ]
  },
  {
   "cell_type": "code",
   "execution_count": 15,
   "metadata": {},
   "outputs": [
    {
     "name": "stderr",
     "output_type": "stream",
     "text": [
      "Inferring best paramters: 100%|██████████| 100/100 [00:01<00:00, 62.99it/s]\n"
     ]
    },
    {
     "name": "stdout",
     "output_type": "stream",
     "text": [
      "Spent 1.71s in computing.\n"
     ]
    },
    {
     "data": {
      "text/html": [
       "<div><style>\n",
       ".dataframe > thead > tr > th,\n",
       ".dataframe > tbody > tr > td {\n",
       "  text-align: right;\n",
       "}\n",
       "</style>\n",
       "<small>shape: (5, 101)</small><table border=\"1\" class=\"dataframe\"><thead><tr><th>target</th><th>column_0</th><th>column_1</th><th>column_2</th><th>column_3</th><th>column_4</th><th>column_5</th><th>column_6</th><th>column_7</th><th>column_8</th><th>column_9</th><th>column_10</th><th>column_11</th><th>column_12</th><th>column_13</th><th>column_14</th><th>column_15</th><th>column_16</th><th>column_17</th><th>column_18</th><th>column_19</th><th>column_20</th><th>column_21</th><th>column_22</th><th>column_23</th><th>column_24</th><th>column_25</th><th>column_26</th><th>column_27</th><th>column_28</th><th>column_29</th><th>column_30</th><th>column_31</th><th>column_32</th><th>column_33</th><th>column_34</th><th>column_35</th><th>&hellip;</th><th>column_63</th><th>column_64</th><th>column_65</th><th>column_66</th><th>column_67</th><th>column_68</th><th>column_69</th><th>column_70</th><th>column_71</th><th>column_72</th><th>column_73</th><th>column_74</th><th>column_75</th><th>column_76</th><th>column_77</th><th>column_78</th><th>column_79</th><th>column_80</th><th>column_81</th><th>column_82</th><th>column_83</th><th>column_84</th><th>column_85</th><th>column_86</th><th>column_87</th><th>column_88</th><th>column_89</th><th>column_90</th><th>column_91</th><th>column_92</th><th>column_93</th><th>column_94</th><th>column_95</th><th>column_96</th><th>column_97</th><th>column_98</th><th>column_99</th></tr><tr><td>i32</td><td>f64</td><td>f64</td><td>f64</td><td>f64</td><td>f64</td><td>f64</td><td>f64</td><td>f64</td><td>f64</td><td>f64</td><td>f64</td><td>f64</td><td>f64</td><td>f64</td><td>f64</td><td>f64</td><td>f64</td><td>f64</td><td>f64</td><td>f64</td><td>f64</td><td>f64</td><td>f64</td><td>f64</td><td>f64</td><td>f64</td><td>f64</td><td>f64</td><td>f64</td><td>f64</td><td>f64</td><td>f64</td><td>f64</td><td>f64</td><td>f64</td><td>f64</td><td>&hellip;</td><td>f64</td><td>f64</td><td>f64</td><td>f64</td><td>f64</td><td>f64</td><td>f64</td><td>f64</td><td>f64</td><td>f64</td><td>f64</td><td>f64</td><td>f64</td><td>f64</td><td>f64</td><td>f64</td><td>f64</td><td>f64</td><td>f64</td><td>f64</td><td>f64</td><td>f64</td><td>f64</td><td>f64</td><td>f64</td><td>f64</td><td>f64</td><td>f64</td><td>f64</td><td>f64</td><td>f64</td><td>f64</td><td>f64</td><td>f64</td><td>f64</td><td>f64</td><td>f64</td></tr></thead><tbody><tr><td>0</td><td>-6.910359</td><td>-1.351891</td><td>-0.869098</td><td>-0.88454</td><td>5.135647</td><td>0.723615</td><td>7.357852</td><td>4.835974</td><td>-2.074317</td><td>7.32964</td><td>-1.334915</td><td>-1.003968</td><td>-3.35045</td><td>11.73864</td><td>-7.92085</td><td>-2.467892</td><td>0.724629</td><td>0.810821</td><td>7.932222</td><td>3.060099</td><td>-0.643134</td><td>0.17591</td><td>23.820978</td><td>-0.286578</td><td>1.733228</td><td>-1.674336</td><td>1.864495</td><td>-7.143451</td><td>5.98582</td><td>-8.282941</td><td>-15.006336</td><td>-4.573764</td><td>0.655663</td><td>1.972301</td><td>9.010237</td><td>2.016192</td><td>&hellip;</td><td>-8.822073</td><td>-0.459457</td><td>4.369498</td><td>-0.118528</td><td>2.777947</td><td>-2.004875</td><td>2.947238</td><td>-1.801467</td><td>5.467058</td><td>0.162566</td><td>7.516031</td><td>-32.067935</td><td>-0.719408</td><td>-2.069728</td><td>3.095476</td><td>12.78998</td><td>18.268663</td><td>6.768092</td><td>-11.062769</td><td>-1.895492</td><td>-2.096334</td><td>1.737557</td><td>1.769492</td><td>4.905455</td><td>5.562916</td><td>-2.576577</td><td>-8.561843</td><td>-10.996363</td><td>0.466908</td><td>3.104547</td><td>0.37709</td><td>2.520685</td><td>5.417346</td><td>-4.436607</td><td>-30.506747</td><td>-5.027774</td><td>-6.944788</td></tr><tr><td>0</td><td>20.879844</td><td>4.266197</td><td>-4.091221</td><td>-4.171141</td><td>2.174185</td><td>5.14852</td><td>-3.598696</td><td>11.669488</td><td>-0.472622</td><td>0.456827</td><td>2.538602</td><td>4.287746</td><td>-1.400299</td><td>16.544806</td><td>4.16396</td><td>-4.337747</td><td>0.310635</td><td>2.522779</td><td>-4.855132</td><td>5.399028</td><td>-3.978666</td><td>9.624051</td><td>-0.551286</td><td>0.720281</td><td>-1.776671</td><td>-14.556925</td><td>-3.130809</td><td>2.792352</td><td>-6.437798</td><td>-2.133774</td><td>46.257082</td><td>-3.611716</td><td>3.054535</td><td>-8.620062</td><td>5.150394</td><td>-0.347039</td><td>&hellip;</td><td>20.562119</td><td>-1.639852</td><td>-2.815672</td><td>2.590166</td><td>-6.818545</td><td>2.494114</td><td>15.960135</td><td>9.146623</td><td>21.966272</td><td>-4.735319</td><td>-11.132459</td><td>7.303895</td><td>2.563607</td><td>-10.314787</td><td>3.155579</td><td>3.204426</td><td>-1.752875</td><td>3.842789</td><td>-10.302647</td><td>-0.374586</td><td>8.333455</td><td>2.660261</td><td>-8.817327</td><td>-27.65463</td><td>-4.780633</td><td>6.738083</td><td>-28.437554</td><td>-29.973153</td><td>7.567243</td><td>-1.958791</td><td>21.787447</td><td>5.241157</td><td>1.476567</td><td>-4.471524</td><td>-3.244015</td><td>1.854805</td><td>-0.415752</td></tr><tr><td>0</td><td>0.761391</td><td>-4.330224</td><td>13.51521</td><td>-0.431476</td><td>2.142367</td><td>-5.584848</td><td>-8.454881</td><td>-17.877371</td><td>4.48442</td><td>0.927199</td><td>2.053195</td><td>-5.699839</td><td>8.242646</td><td>17.912436</td><td>-2.999979</td><td>-4.073725</td><td>4.283131</td><td>2.137108</td><td>7.707072</td><td>6.049124</td><td>-6.158566</td><td>1.090464</td><td>-17.179901</td><td>2.594353</td><td>-1.659749</td><td>13.235143</td><td>-1.036888</td><td>-4.36595</td><td>-0.539061</td><td>3.026831</td><td>-21.789318</td><td>0.616983</td><td>-2.605376</td><td>-2.182878</td><td>-1.542624</td><td>2.01201</td><td>&hellip;</td><td>16.953656</td><td>3.003798</td><td>3.271003</td><td>-0.178017</td><td>3.405885</td><td>4.506896</td><td>39.89731</td><td>0.582048</td><td>4.424204</td><td>-2.110756</td><td>-16.669683</td><td>-13.743713</td><td>-0.158109</td><td>-1.693281</td><td>-0.548846</td><td>-14.989045</td><td>15.47881</td><td>-4.373939</td><td>0.897439</td><td>6.481384</td><td>-12.030726</td><td>0.083208</td><td>16.995756</td><td>-22.91606</td><td>4.930771</td><td>1.375698</td><td>-1.850984</td><td>-19.231549</td><td>-2.128488</td><td>-2.549847</td><td>-12.962162</td><td>2.757457</td><td>5.407312</td><td>-3.749409</td><td>-14.145495</td><td>5.975007</td><td>1.087854</td></tr><tr><td>0</td><td>-15.441895</td><td>8.787097</td><td>-13.395112</td><td>-2.349538</td><td>0.91417</td><td>-3.23796</td><td>-0.149789</td><td>-4.571421</td><td>12.053333</td><td>11.181101</td><td>3.037805</td><td>3.003861</td><td>-0.892673</td><td>22.014259</td><td>0.035334</td><td>-7.189477</td><td>-0.735625</td><td>-3.25613</td><td>10.353996</td><td>-7.321123</td><td>-4.343029</td><td>5.077184</td><td>8.257987</td><td>-2.532512</td><td>3.897299</td><td>35.358466</td><td>2.682814</td><td>-6.946895</td><td>1.854239</td><td>-7.055672</td><td>-17.39464</td><td>1.231357</td><td>-4.407969</td><td>-0.357065</td><td>5.799189</td><td>1.20997</td><td>&hellip;</td><td>3.278337</td><td>1.179794</td><td>-4.445905</td><td>-0.617815</td><td>5.390547</td><td>-1.067724</td><td>-27.269859</td><td>-4.719732</td><td>42.536831</td><td>-3.006205</td><td>-19.350241</td><td>-11.732743</td><td>0.734542</td><td>0.328873</td><td>-3.136149</td><td>11.938578</td><td>-4.235589</td><td>-6.549665</td><td>-11.830205</td><td>1.891388</td><td>-16.361907</td><td>1.698447</td><td>32.301978</td><td>10.750952</td><td>-6.986393</td><td>-10.854023</td><td>-42.394479</td><td>6.936381</td><td>-0.036811</td><td>-1.4867</td><td>-28.623719</td><td>0.208469</td><td>-0.519144</td><td>-0.631187</td><td>28.886574</td><td>-1.932087</td><td>0.685083</td></tr><tr><td>0</td><td>51.949831</td><td>-1.694788</td><td>5.350348</td><td>-5.828724</td><td>-6.715053</td><td>-0.864828</td><td>7.356496</td><td>-12.277498</td><td>-6.189317</td><td>-1.69122</td><td>-1.779017</td><td>-10.064732</td><td>10.568028</td><td>-5.659208</td><td>-7.190471</td><td>-0.244205</td><td>-3.258713</td><td>-2.091121</td><td>2.998258</td><td>-6.994943</td><td>-7.241003</td><td>0.771393</td><td>7.446045</td><td>6.890734</td><td>1.528602</td><td>-17.325735</td><td>-4.975575</td><td>-0.702319</td><td>5.644263</td><td>-7.55961</td><td>-35.754352</td><td>3.417322</td><td>-1.687331</td><td>4.862656</td><td>1.817368</td><td>-4.670861</td><td>&hellip;</td><td>42.047987</td><td>-2.892096</td><td>1.909115</td><td>-4.062404</td><td>2.632187</td><td>4.029885</td><td>25.525892</td><td>0.954775</td><td>-23.198436</td><td>-9.572486</td><td>-18.949241</td><td>11.713871</td><td>0.662953</td><td>1.505722</td><td>4.401203</td><td>1.607223</td><td>13.345579</td><td>-0.585326</td><td>-0.580304</td><td>-3.808444</td><td>-14.487278</td><td>-1.642157</td><td>38.148231</td><td>23.942088</td><td>-7.445872</td><td>9.62364</td><td>7.772109</td><td>-2.49789</td><td>5.623152</td><td>-0.251799</td><td>11.500579</td><td>-3.339222</td><td>-2.029049</td><td>3.029241</td><td>13.132047</td><td>-8.736423</td><td>-2.059018</td></tr></tbody></table></div>"
      ],
      "text/plain": [
       "shape: (5, 101)\n",
       "┌────────┬────────────┬───────────┬────────────┬───┬───────────┬───────────┬───────────┬───────────┐\n",
       "│ target ┆ column_0   ┆ column_1  ┆ column_2   ┆ … ┆ column_96 ┆ column_97 ┆ column_98 ┆ column_99 │\n",
       "│ ---    ┆ ---        ┆ ---       ┆ ---        ┆   ┆ ---       ┆ ---       ┆ ---       ┆ ---       │\n",
       "│ i32    ┆ f64        ┆ f64       ┆ f64        ┆   ┆ f64       ┆ f64       ┆ f64       ┆ f64       │\n",
       "╞════════╪════════════╪═══════════╪════════════╪═══╪═══════════╪═══════════╪═══════════╪═══════════╡\n",
       "│ 0      ┆ -6.910359  ┆ -1.351891 ┆ -0.869098  ┆ … ┆ -4.436607 ┆ -30.50674 ┆ -5.027774 ┆ -6.944788 │\n",
       "│        ┆            ┆           ┆            ┆   ┆           ┆ 7         ┆           ┆           │\n",
       "│ 0      ┆ 20.879844  ┆ 4.266197  ┆ -4.091221  ┆ … ┆ -4.471524 ┆ -3.244015 ┆ 1.854805  ┆ -0.415752 │\n",
       "│ 0      ┆ 0.761391   ┆ -4.330224 ┆ 13.51521   ┆ … ┆ -3.749409 ┆ -14.14549 ┆ 5.975007  ┆ 1.087854  │\n",
       "│        ┆            ┆           ┆            ┆   ┆           ┆ 5         ┆           ┆           │\n",
       "│ 0      ┆ -15.441895 ┆ 8.787097  ┆ -13.395112 ┆ … ┆ -0.631187 ┆ 28.886574 ┆ -1.932087 ┆ 0.685083  │\n",
       "│ 0      ┆ 51.949831  ┆ -1.694788 ┆ 5.350348   ┆ … ┆ 3.029241  ┆ 13.132047 ┆ -8.736423 ┆ -2.059018 │\n",
       "└────────┴────────────┴───────────┴────────────┴───┴───────────┴───────────┴───────────┴───────────┘"
      ]
     },
     "execution_count": 15,
     "metadata": {},
     "output_type": "execute_result"
    }
   ],
   "source": [
    "# Eager transform.\n",
    "start = perf_counter()\n",
    "res_eager = t.power_transform(df, target = target, strategy=\"yeo_johnson\")\n",
    "end = perf_counter()\n",
    "print(f\"Spent {end - start:.2f}s in computing.\")\n",
    "res_eager.head() "
   ]
  },
  {
   "cell_type": "code",
   "execution_count": 16,
   "metadata": {},
   "outputs": [
    {
     "name": "stderr",
     "output_type": "stream",
     "text": [
      "Inferring best paramters: 100%|██████████| 100/100 [00:01<00:00, 64.87it/s]\n"
     ]
    }
   ],
   "source": [
    "res_lazy = t.power_transform(df.lazy(), target = target, strategy=\"yeo_johnson\")"
   ]
  },
  {
   "cell_type": "code",
   "execution_count": 17,
   "metadata": {},
   "outputs": [
    {
     "name": "stdout",
     "output_type": "stream",
     "text": [
      "Spent 7.40s in computing.\n"
     ]
    },
    {
     "data": {
      "text/html": [
       "<div>\n",
       "<style scoped>\n",
       "    .dataframe tbody tr th:only-of-type {\n",
       "        vertical-align: middle;\n",
       "    }\n",
       "\n",
       "    .dataframe tbody tr th {\n",
       "        vertical-align: top;\n",
       "    }\n",
       "\n",
       "    .dataframe thead th {\n",
       "        text-align: right;\n",
       "    }\n",
       "</style>\n",
       "<table border=\"1\" class=\"dataframe\">\n",
       "  <thead>\n",
       "    <tr style=\"text-align: right;\">\n",
       "      <th></th>\n",
       "      <th>target</th>\n",
       "      <th>column_0</th>\n",
       "      <th>column_1</th>\n",
       "      <th>column_2</th>\n",
       "      <th>column_3</th>\n",
       "      <th>column_4</th>\n",
       "      <th>column_5</th>\n",
       "      <th>column_6</th>\n",
       "      <th>column_7</th>\n",
       "      <th>column_8</th>\n",
       "      <th>...</th>\n",
       "      <th>column_90</th>\n",
       "      <th>column_91</th>\n",
       "      <th>column_92</th>\n",
       "      <th>column_93</th>\n",
       "      <th>column_94</th>\n",
       "      <th>column_95</th>\n",
       "      <th>column_96</th>\n",
       "      <th>column_97</th>\n",
       "      <th>column_98</th>\n",
       "      <th>column_99</th>\n",
       "    </tr>\n",
       "  </thead>\n",
       "  <tbody>\n",
       "    <tr>\n",
       "      <th>0</th>\n",
       "      <td>0</td>\n",
       "      <td>-6.910359</td>\n",
       "      <td>-1.351891</td>\n",
       "      <td>-0.869098</td>\n",
       "      <td>-0.884540</td>\n",
       "      <td>5.135647</td>\n",
       "      <td>0.723615</td>\n",
       "      <td>7.357852</td>\n",
       "      <td>4.835974</td>\n",
       "      <td>-2.074317</td>\n",
       "      <td>...</td>\n",
       "      <td>-10.996363</td>\n",
       "      <td>0.466908</td>\n",
       "      <td>3.104547</td>\n",
       "      <td>0.377090</td>\n",
       "      <td>2.520685</td>\n",
       "      <td>5.417346</td>\n",
       "      <td>-4.436607</td>\n",
       "      <td>-30.506747</td>\n",
       "      <td>-5.027774</td>\n",
       "      <td>-6.944788</td>\n",
       "    </tr>\n",
       "    <tr>\n",
       "      <th>1</th>\n",
       "      <td>0</td>\n",
       "      <td>20.879844</td>\n",
       "      <td>4.266197</td>\n",
       "      <td>-4.091221</td>\n",
       "      <td>-4.171141</td>\n",
       "      <td>2.174185</td>\n",
       "      <td>5.148520</td>\n",
       "      <td>-3.598696</td>\n",
       "      <td>11.669488</td>\n",
       "      <td>-0.472622</td>\n",
       "      <td>...</td>\n",
       "      <td>-29.973153</td>\n",
       "      <td>7.567243</td>\n",
       "      <td>-1.958791</td>\n",
       "      <td>21.787447</td>\n",
       "      <td>5.241157</td>\n",
       "      <td>1.476567</td>\n",
       "      <td>-4.471524</td>\n",
       "      <td>-3.244015</td>\n",
       "      <td>1.854805</td>\n",
       "      <td>-0.415752</td>\n",
       "    </tr>\n",
       "    <tr>\n",
       "      <th>2</th>\n",
       "      <td>0</td>\n",
       "      <td>0.761391</td>\n",
       "      <td>-4.330224</td>\n",
       "      <td>13.515210</td>\n",
       "      <td>-0.431476</td>\n",
       "      <td>2.142367</td>\n",
       "      <td>-5.584848</td>\n",
       "      <td>-8.454881</td>\n",
       "      <td>-17.877371</td>\n",
       "      <td>4.484420</td>\n",
       "      <td>...</td>\n",
       "      <td>-19.231549</td>\n",
       "      <td>-2.128488</td>\n",
       "      <td>-2.549847</td>\n",
       "      <td>-12.962162</td>\n",
       "      <td>2.757457</td>\n",
       "      <td>5.407312</td>\n",
       "      <td>-3.749409</td>\n",
       "      <td>-14.145495</td>\n",
       "      <td>5.975007</td>\n",
       "      <td>1.087854</td>\n",
       "    </tr>\n",
       "    <tr>\n",
       "      <th>3</th>\n",
       "      <td>0</td>\n",
       "      <td>-15.441895</td>\n",
       "      <td>8.787097</td>\n",
       "      <td>-13.395112</td>\n",
       "      <td>-2.349538</td>\n",
       "      <td>0.914170</td>\n",
       "      <td>-3.237960</td>\n",
       "      <td>-0.149789</td>\n",
       "      <td>-4.571421</td>\n",
       "      <td>12.053333</td>\n",
       "      <td>...</td>\n",
       "      <td>6.936381</td>\n",
       "      <td>-0.036811</td>\n",
       "      <td>-1.486700</td>\n",
       "      <td>-28.623719</td>\n",
       "      <td>0.208469</td>\n",
       "      <td>-0.519144</td>\n",
       "      <td>-0.631187</td>\n",
       "      <td>28.886574</td>\n",
       "      <td>-1.932087</td>\n",
       "      <td>0.685083</td>\n",
       "    </tr>\n",
       "    <tr>\n",
       "      <th>4</th>\n",
       "      <td>0</td>\n",
       "      <td>51.949831</td>\n",
       "      <td>-1.694788</td>\n",
       "      <td>5.350348</td>\n",
       "      <td>-5.828724</td>\n",
       "      <td>-6.715053</td>\n",
       "      <td>-0.864828</td>\n",
       "      <td>7.356496</td>\n",
       "      <td>-12.277498</td>\n",
       "      <td>-6.189317</td>\n",
       "      <td>...</td>\n",
       "      <td>-2.497890</td>\n",
       "      <td>5.623152</td>\n",
       "      <td>-0.251799</td>\n",
       "      <td>11.500579</td>\n",
       "      <td>-3.339222</td>\n",
       "      <td>-2.029049</td>\n",
       "      <td>3.029241</td>\n",
       "      <td>13.132047</td>\n",
       "      <td>-8.736423</td>\n",
       "      <td>-2.059018</td>\n",
       "    </tr>\n",
       "  </tbody>\n",
       "</table>\n",
       "<p>5 rows × 101 columns</p>\n",
       "</div>"
      ],
      "text/plain": [
       "   target   column_0  column_1   column_2  column_3  column_4  column_5   \n",
       "0       0  -6.910359 -1.351891  -0.869098 -0.884540  5.135647  0.723615  \\\n",
       "1       0  20.879844  4.266197  -4.091221 -4.171141  2.174185  5.148520   \n",
       "2       0   0.761391 -4.330224  13.515210 -0.431476  2.142367 -5.584848   \n",
       "3       0 -15.441895  8.787097 -13.395112 -2.349538  0.914170 -3.237960   \n",
       "4       0  51.949831 -1.694788   5.350348 -5.828724 -6.715053 -0.864828   \n",
       "\n",
       "   column_6   column_7   column_8  ...  column_90  column_91  column_92   \n",
       "0  7.357852   4.835974  -2.074317  ... -10.996363   0.466908   3.104547  \\\n",
       "1 -3.598696  11.669488  -0.472622  ... -29.973153   7.567243  -1.958791   \n",
       "2 -8.454881 -17.877371   4.484420  ... -19.231549  -2.128488  -2.549847   \n",
       "3 -0.149789  -4.571421  12.053333  ...   6.936381  -0.036811  -1.486700   \n",
       "4  7.356496 -12.277498  -6.189317  ...  -2.497890   5.623152  -0.251799   \n",
       "\n",
       "   column_93  column_94  column_95  column_96  column_97  column_98  column_99  \n",
       "0   0.377090   2.520685   5.417346  -4.436607 -30.506747  -5.027774  -6.944788  \n",
       "1  21.787447   5.241157   1.476567  -4.471524  -3.244015   1.854805  -0.415752  \n",
       "2 -12.962162   2.757457   5.407312  -3.749409 -14.145495   5.975007   1.087854  \n",
       "3 -28.623719   0.208469  -0.519144  -0.631187  28.886574  -1.932087   0.685083  \n",
       "4  11.500579  -3.339222  -2.029049   3.029241  13.132047  -8.736423  -2.059018  \n",
       "\n",
       "[5 rows x 101 columns]"
      ]
     },
     "execution_count": 17,
     "metadata": {},
     "output_type": "execute_result"
    }
   ],
   "source": [
    "# Sklearn with Pandas\n",
    "\n",
    "# In this case, the benefits of using dsds are:\n",
    "# 1. Much better performance.\n",
    "# 2. Users need to do extra steps to put data back in dataframe format.\n",
    "\n",
    "start = perf_counter()\n",
    "transformed = power_transform(df_pd[features], method = \"yeo-johnson\", standardize=False)\n",
    "end = perf_counter()\n",
    "df_pd[features] = transformed\n",
    "print(f\"Spent {end - start:.2f}s in computing.\")\n",
    "df_pd.head()\n"
   ]
  },
  {
   "attachments": {},
   "cell_type": "markdown",
   "metadata": {},
   "source": [
    "# GC"
   ]
  },
  {
   "cell_type": "code",
   "execution_count": 18,
   "metadata": {},
   "outputs": [
    {
     "data": {
      "text/plain": [
       "899"
      ]
     },
     "execution_count": 18,
     "metadata": {},
     "output_type": "execute_result"
    }
   ],
   "source": [
    "import gc \n",
    "gc.collect()"
   ]
  },
  {
   "cell_type": "code",
   "execution_count": null,
   "metadata": {},
   "outputs": [],
   "source": []
  }
 ],
 "metadata": {
  "kernelspec": {
   "display_name": "my_py11",
   "language": "python",
   "name": "python3"
  },
  "language_info": {
   "codemirror_mode": {
    "name": "ipython",
    "version": 3
   },
   "file_extension": ".py",
   "mimetype": "text/x-python",
   "name": "python",
   "nbconvert_exporter": "python",
   "pygments_lexer": "ipython3",
   "version": "3.11.3"
  },
  "orig_nbformat": 4
 },
 "nbformat": 4,
 "nbformat_minor": 2
}
