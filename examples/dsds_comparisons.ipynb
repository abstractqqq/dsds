{
 "cells": [
  {
   "cell_type": "code",
   "execution_count": 1,
   "metadata": {},
   "outputs": [],
   "source": [
    "import polars as pl\n",
    "import pandas as pd\n",
    "import numpy as np\n",
    "from sklearn.datasets import make_classification\n",
    "from time import perf_counter\n"
   ]
  },
  {
   "cell_type": "code",
   "execution_count": 2,
   "metadata": {},
   "outputs": [],
   "source": [
    "orig_x, orig_y = make_classification(n_samples = 100_000, n_features = 10, n_informative = 5, n_redundant = 5)\n",
    "# This is a Polars dataframe. This is dsds package's favored dataframe. dsds relies on Polars heavily.\n",
    "# You must turn other dataframe formats into Polars for dsds to work.\n",
    "df = pl.from_numpy(orig_x).insert_at_idx(0, pl.Series(\"target\", orig_y)) \n",
    "# Turn it into Pandas.\n",
    "df_pd = df.to_pandas()\n",
    "target = \"target\"\n",
    "features = df.columns\n",
    "features.remove(target)"
   ]
  },
  {
   "cell_type": "code",
   "execution_count": 3,
   "metadata": {},
   "outputs": [
    {
     "data": {
      "text/html": [
       "<div><style>\n",
       ".dataframe > thead > tr > th,\n",
       ".dataframe > tbody > tr > td {\n",
       "  text-align: right;\n",
       "  white-space: pre-wrap;\n",
       "}\n",
       "</style>\n",
       "<small>shape: (5, 11)</small><table border=\"1\" class=\"dataframe\"><thead><tr><th>target</th><th>column_0</th><th>column_1</th><th>column_2</th><th>column_3</th><th>column_4</th><th>column_5</th><th>column_6</th><th>column_7</th><th>column_8</th><th>column_9</th></tr><tr><td>i32</td><td>f64</td><td>f64</td><td>f64</td><td>f64</td><td>f64</td><td>f64</td><td>f64</td><td>f64</td><td>f64</td><td>f64</td></tr></thead><tbody><tr><td>1</td><td>1.543355</td><td>-1.003174</td><td>2.56695</td><td>1.25707</td><td>-0.500615</td><td>0.882139</td><td>0.871338</td><td>1.979825</td><td>1.71022</td><td>-0.520621</td></tr><tr><td>1</td><td>-0.239005</td><td>0.039737</td><td>2.121197</td><td>0.443353</td><td>0.220981</td><td>0.576949</td><td>-0.225159</td><td>2.280511</td><td>3.164198</td><td>-1.077476</td></tr><tr><td>0</td><td>-1.383168</td><td>-1.225669</td><td>0.686294</td><td>-1.506217</td><td>1.091092</td><td>0.628869</td><td>-2.399749</td><td>1.015197</td><td>0.885706</td><td>1.469953</td></tr><tr><td>0</td><td>0.554796</td><td>-0.790668</td><td>2.332014</td><td>-0.628538</td><td>0.023144</td><td>0.476495</td><td>1.366467</td><td>1.095272</td><td>-0.722094</td><td>0.476656</td></tr><tr><td>1</td><td>0.743231</td><td>-1.149502</td><td>0.03855</td><td>0.236622</td><td>-0.184346</td><td>0.437714</td><td>-0.660908</td><td>0.054314</td><td>-0.357087</td><td>1.002649</td></tr></tbody></table></div>"
      ],
      "text/plain": [
       "shape: (5, 11)\n",
       "┌────────┬───────────┬───────────┬──────────┬───┬───────────┬──────────┬───────────┬───────────┐\n",
       "│ target ┆ column_0  ┆ column_1  ┆ column_2 ┆ … ┆ column_6  ┆ column_7 ┆ column_8  ┆ column_9  │\n",
       "│ ---    ┆ ---       ┆ ---       ┆ ---      ┆   ┆ ---       ┆ ---      ┆ ---       ┆ ---       │\n",
       "│ i32    ┆ f64       ┆ f64       ┆ f64      ┆   ┆ f64       ┆ f64      ┆ f64       ┆ f64       │\n",
       "╞════════╪═══════════╪═══════════╪══════════╪═══╪═══════════╪══════════╪═══════════╪═══════════╡\n",
       "│ 1      ┆ 1.543355  ┆ -1.003174 ┆ 2.56695  ┆ … ┆ 0.871338  ┆ 1.979825 ┆ 1.71022   ┆ -0.520621 │\n",
       "│ 1      ┆ -0.239005 ┆ 0.039737  ┆ 2.121197 ┆ … ┆ -0.225159 ┆ 2.280511 ┆ 3.164198  ┆ -1.077476 │\n",
       "│ 0      ┆ -1.383168 ┆ -1.225669 ┆ 0.686294 ┆ … ┆ -2.399749 ┆ 1.015197 ┆ 0.885706  ┆ 1.469953  │\n",
       "│ 0      ┆ 0.554796  ┆ -0.790668 ┆ 2.332014 ┆ … ┆ 1.366467  ┆ 1.095272 ┆ -0.722094 ┆ 0.476656  │\n",
       "│ 1      ┆ 0.743231  ┆ -1.149502 ┆ 0.03855  ┆ … ┆ -0.660908 ┆ 0.054314 ┆ -0.357087 ┆ 1.002649  │\n",
       "└────────┴───────────┴───────────┴──────────┴───┴───────────┴──────────┴───────────┴───────────┘"
      ]
     },
     "execution_count": 3,
     "metadata": {},
     "output_type": "execute_result"
    }
   ],
   "source": [
    "df.head()"
   ]
  },
  {
   "attachments": {},
   "cell_type": "markdown",
   "metadata": {},
   "source": [
    "## Comparisons\n",
    "\n",
    "This notebook compares results and performance between the dsds package, sklearn and some other packages for feature selection and some other transformations common in the data science pipeline.\n",
    "\n",
    "### Methods Compared:\n",
    "1. Scaling and Imputation\n",
    "2. Fscore\n",
    "3. Mutual Information Score\n",
    "4. MRMR feature selection strategies\n",
    "5. Power Transform\n",
    "\n",
    "You may restart the kernel after each section. But remember to rerun the cells above. If you are concerned about memory usage when running this notebook, go to the end and run the gc cell."
   ]
  },
  {
   "attachments": {},
   "cell_type": "markdown",
   "metadata": {},
   "source": [
    "# Scaling and Imputation"
   ]
  },
  {
   "cell_type": "code",
   "execution_count": 4,
   "metadata": {},
   "outputs": [],
   "source": [
    "import dsds.transform as t"
   ]
  },
  {
   "cell_type": "code",
   "execution_count": 5,
   "metadata": {},
   "outputs": [],
   "source": [
    "features = df.columns\n",
    "features.remove(\"target\")"
   ]
  },
  {
   "cell_type": "code",
   "execution_count": 6,
   "metadata": {},
   "outputs": [
    {
     "data": {
      "text/html": [
       "<div><style>\n",
       ".dataframe > thead > tr > th,\n",
       ".dataframe > tbody > tr > td {\n",
       "  text-align: right;\n",
       "  white-space: pre-wrap;\n",
       "}\n",
       "</style>\n",
       "<small>shape: (5, 11)</small><table border=\"1\" class=\"dataframe\"><thead><tr><th>target</th><th>column_0</th><th>column_1</th><th>column_2</th><th>column_3</th><th>column_4</th><th>column_5</th><th>column_6</th><th>column_7</th><th>column_8</th><th>column_9</th></tr><tr><td>i32</td><td>f64</td><td>f64</td><td>f64</td><td>f64</td><td>f64</td><td>f64</td><td>f64</td><td>f64</td><td>f64</td><td>f64</td></tr></thead><tbody><tr><td>1</td><td>0.957481</td><td>-0.660313</td><td>0.937454</td><td>0.757682</td><td>-0.233091</td><td>1.271435</td><td>0.885149</td><td>0.913611</td><td>0.380189</td><td>-0.617029</td></tr><tr><td>1</td><td>-0.149863</td><td>0.026282</td><td>0.730656</td><td>0.358838</td><td>0.262408</td><td>0.62985</td><td>0.180897</td><td>1.192673</td><td>1.034733</td><td>-0.950429</td></tr><tr><td>0</td><td>-0.860708</td><td>-0.806792</td><td>0.064962</td><td>-0.596745</td><td>0.859887</td><td>0.739</td><td>-1.215785</td><td>0.018355</td><td>0.009014</td><td>0.574766</td></tr><tr><td>0</td><td>0.343309</td><td>-0.520411</td><td>0.82846</td><td>-0.16655</td><td>0.126559</td><td>0.418672</td><td>1.203157</td><td>0.092671</td><td>-0.714776</td><td>-0.01994</td></tr><tr><td>1</td><td>0.46038</td><td>-0.756648</td><td>-0.235546</td><td>0.257509</td><td>-0.015919</td><td>0.337144</td><td>-0.098972</td><td>-0.873425</td><td>-0.55046</td><td>0.294983</td></tr></tbody></table></div>"
      ],
      "text/plain": [
       "shape: (5, 11)\n",
       "┌────────┬───────────┬───────────┬───────────┬───┬───────────┬───────────┬───────────┬───────────┐\n",
       "│ target ┆ column_0  ┆ column_1  ┆ column_2  ┆ … ┆ column_6  ┆ column_7  ┆ column_8  ┆ column_9  │\n",
       "│ ---    ┆ ---       ┆ ---       ┆ ---       ┆   ┆ ---       ┆ ---       ┆ ---       ┆ ---       │\n",
       "│ i32    ┆ f64       ┆ f64       ┆ f64       ┆   ┆ f64       ┆ f64       ┆ f64       ┆ f64       │\n",
       "╞════════╪═══════════╪═══════════╪═══════════╪═══╪═══════════╪═══════════╪═══════════╪═══════════╡\n",
       "│ 1      ┆ 0.957481  ┆ -0.660313 ┆ 0.937454  ┆ … ┆ 0.885149  ┆ 0.913611  ┆ 0.380189  ┆ -0.617029 │\n",
       "│ 1      ┆ -0.149863 ┆ 0.026282  ┆ 0.730656  ┆ … ┆ 0.180897  ┆ 1.192673  ┆ 1.034733  ┆ -0.950429 │\n",
       "│ 0      ┆ -0.860708 ┆ -0.806792 ┆ 0.064962  ┆ … ┆ -1.215785 ┆ 0.018355  ┆ 0.009014  ┆ 0.574766  │\n",
       "│ 0      ┆ 0.343309  ┆ -0.520411 ┆ 0.82846   ┆ … ┆ 1.203157  ┆ 0.092671  ┆ -0.714776 ┆ -0.01994  │\n",
       "│ 1      ┆ 0.46038   ┆ -0.756648 ┆ -0.235546 ┆ … ┆ -0.098972 ┆ -0.873425 ┆ -0.55046  ┆ 0.294983  │\n",
       "└────────┴───────────┴───────────┴───────────┴───┴───────────┴───────────┴───────────┴───────────┘"
      ]
     },
     "execution_count": 6,
     "metadata": {},
     "output_type": "execute_result"
    }
   ],
   "source": [
    "scaled = t.scale(df, cols=features, strategy=\"standard\")\n",
    "scaled.head()"
   ]
  },
  {
   "cell_type": "code",
   "execution_count": 7,
   "metadata": {},
   "outputs": [],
   "source": [
    "from sklearn.preprocessing import StandardScaler"
   ]
  },
  {
   "cell_type": "code",
   "execution_count": 8,
   "metadata": {},
   "outputs": [
    {
     "data": {
      "text/html": [
       "<div>\n",
       "<style scoped>\n",
       "    .dataframe tbody tr th:only-of-type {\n",
       "        vertical-align: middle;\n",
       "    }\n",
       "\n",
       "    .dataframe tbody tr th {\n",
       "        vertical-align: top;\n",
       "    }\n",
       "\n",
       "    .dataframe thead th {\n",
       "        text-align: right;\n",
       "    }\n",
       "</style>\n",
       "<table border=\"1\" class=\"dataframe\">\n",
       "  <thead>\n",
       "    <tr style=\"text-align: right;\">\n",
       "      <th></th>\n",
       "      <th>column_0</th>\n",
       "      <th>column_1</th>\n",
       "      <th>column_2</th>\n",
       "      <th>column_3</th>\n",
       "      <th>column_4</th>\n",
       "      <th>column_5</th>\n",
       "      <th>column_6</th>\n",
       "      <th>column_7</th>\n",
       "      <th>column_8</th>\n",
       "      <th>column_9</th>\n",
       "      <th>target</th>\n",
       "    </tr>\n",
       "  </thead>\n",
       "  <tbody>\n",
       "    <tr>\n",
       "      <th>0</th>\n",
       "      <td>0.957485</td>\n",
       "      <td>-0.660317</td>\n",
       "      <td>0.937459</td>\n",
       "      <td>0.757686</td>\n",
       "      <td>-0.233092</td>\n",
       "      <td>1.271441</td>\n",
       "      <td>0.885153</td>\n",
       "      <td>0.913616</td>\n",
       "      <td>0.380191</td>\n",
       "      <td>-0.617032</td>\n",
       "      <td>1</td>\n",
       "    </tr>\n",
       "    <tr>\n",
       "      <th>1</th>\n",
       "      <td>-0.149863</td>\n",
       "      <td>0.026283</td>\n",
       "      <td>0.730660</td>\n",
       "      <td>0.358840</td>\n",
       "      <td>0.262409</td>\n",
       "      <td>0.629853</td>\n",
       "      <td>0.180898</td>\n",
       "      <td>1.192679</td>\n",
       "      <td>1.034738</td>\n",
       "      <td>-0.950433</td>\n",
       "      <td>1</td>\n",
       "    </tr>\n",
       "    <tr>\n",
       "      <th>2</th>\n",
       "      <td>-0.860712</td>\n",
       "      <td>-0.806796</td>\n",
       "      <td>0.064962</td>\n",
       "      <td>-0.596748</td>\n",
       "      <td>0.859891</td>\n",
       "      <td>0.739004</td>\n",
       "      <td>-1.215791</td>\n",
       "      <td>0.018355</td>\n",
       "      <td>0.009014</td>\n",
       "      <td>0.574769</td>\n",
       "      <td>0</td>\n",
       "    </tr>\n",
       "    <tr>\n",
       "      <th>3</th>\n",
       "      <td>0.343311</td>\n",
       "      <td>-0.520414</td>\n",
       "      <td>0.828464</td>\n",
       "      <td>-0.166551</td>\n",
       "      <td>0.126559</td>\n",
       "      <td>0.418674</td>\n",
       "      <td>1.203163</td>\n",
       "      <td>0.092672</td>\n",
       "      <td>-0.714780</td>\n",
       "      <td>-0.019940</td>\n",
       "      <td>0</td>\n",
       "    </tr>\n",
       "    <tr>\n",
       "      <th>4</th>\n",
       "      <td>0.460382</td>\n",
       "      <td>-0.756652</td>\n",
       "      <td>-0.235547</td>\n",
       "      <td>0.257510</td>\n",
       "      <td>-0.015919</td>\n",
       "      <td>0.337146</td>\n",
       "      <td>-0.098973</td>\n",
       "      <td>-0.873430</td>\n",
       "      <td>-0.550462</td>\n",
       "      <td>0.294984</td>\n",
       "      <td>1</td>\n",
       "    </tr>\n",
       "  </tbody>\n",
       "</table>\n",
       "</div>"
      ],
      "text/plain": [
       "   column_0  column_1  column_2  column_3  column_4  column_5  column_6   \n",
       "0  0.957485 -0.660317  0.937459  0.757686 -0.233092  1.271441  0.885153  \\\n",
       "1 -0.149863  0.026283  0.730660  0.358840  0.262409  0.629853  0.180898   \n",
       "2 -0.860712 -0.806796  0.064962 -0.596748  0.859891  0.739004 -1.215791   \n",
       "3  0.343311 -0.520414  0.828464 -0.166551  0.126559  0.418674  1.203163   \n",
       "4  0.460382 -0.756652 -0.235547  0.257510 -0.015919  0.337146 -0.098973   \n",
       "\n",
       "   column_7  column_8  column_9  target  \n",
       "0  0.913616  0.380191 -0.617032       1  \n",
       "1  1.192679  1.034738 -0.950433       1  \n",
       "2  0.018355  0.009014  0.574769       0  \n",
       "3  0.092672 -0.714780 -0.019940       0  \n",
       "4 -0.873430 -0.550462  0.294984       1  "
      ]
     },
     "execution_count": 8,
     "metadata": {},
     "output_type": "execute_result"
    }
   ],
   "source": [
    "# The difference in result is caused by using ddof = 1 for sample variance in dsds\n",
    "# and using ddof = 0 in sklearn.\n",
    "\n",
    "# Long and convoluted code just to do some scaling...\n",
    "std = StandardScaler()\n",
    "scaled2 = std.fit_transform(df_pd[features], df_pd[target])\n",
    "# scaled2[:5, :] # scaled2 is a numpy matrix\n",
    "scaled2 = pd.DataFrame(scaled2, columns=features)\n",
    "scaled2[target] = df_pd[target]\n",
    "scaled2.head()"
   ]
  },
  {
   "cell_type": "code",
   "execution_count": 9,
   "metadata": {},
   "outputs": [
    {
     "name": "stdout",
     "output_type": "stream",
     "text": [
      "2.67 ms ± 128 µs per loop (mean ± std. dev. of 7 runs, 100 loops each)\n"
     ]
    }
   ],
   "source": [
    "%%timeit\n",
    "scaled = t.scale(df, cols=features, strategy=\"standard\")"
   ]
  },
  {
   "cell_type": "code",
   "execution_count": 10,
   "metadata": {},
   "outputs": [
    {
     "name": "stdout",
     "output_type": "stream",
     "text": [
      "15.3 ms ± 268 µs per loop (mean ± std. dev. of 7 runs, 100 loops each)\n"
     ]
    }
   ],
   "source": [
    "%%timeit\n",
    "std = StandardScaler()\n",
    "scaled2 = std.fit_transform(df_pd[features], df_pd[target])\n",
    "scaled2 = pd.DataFrame(scaled2, columns=features)\n",
    "scaled2[target] = df_pd[target]\n"
   ]
  },
  {
   "cell_type": "code",
   "execution_count": 11,
   "metadata": {},
   "outputs": [
    {
     "data": {
      "text/html": [
       "<div><style>\n",
       ".dataframe > thead > tr > th,\n",
       ".dataframe > tbody > tr > td {\n",
       "  text-align: right;\n",
       "  white-space: pre-wrap;\n",
       "}\n",
       "</style>\n",
       "<small>shape: (3, 11)</small><table border=\"1\" class=\"dataframe\"><thead><tr><th>target</th><th>column_0</th><th>column_1</th><th>column_2</th><th>column_3</th><th>column_4</th><th>column_5</th><th>column_6</th><th>column_7</th><th>column_8</th><th>column_9</th></tr><tr><td>i32</td><td>f64</td><td>f64</td><td>f64</td><td>f64</td><td>f64</td><td>f64</td><td>f64</td><td>f64</td><td>f64</td><td>f64</td></tr></thead><tbody><tr><td>1</td><td>1.543355</td><td>-1.003174</td><td>2.56695</td><td>1.25707</td><td>-0.500615</td><td>0.882139</td><td>0.871338</td><td>1.979825</td><td>1.71022</td><td>-0.520621</td></tr><tr><td>1</td><td>-0.239005</td><td>0.039737</td><td>2.121197</td><td>0.443353</td><td>0.220981</td><td>0.576949</td><td>-0.225159</td><td>2.280511</td><td>3.164198</td><td>-1.077476</td></tr><tr><td>0</td><td>-1.383168</td><td>-1.225669</td><td>0.686294</td><td>-1.506217</td><td>1.091092</td><td>0.628869</td><td>-2.399749</td><td>1.015197</td><td>0.885706</td><td>1.469953</td></tr></tbody></table></div>"
      ],
      "text/plain": [
       "shape: (3, 11)\n",
       "┌────────┬───────────┬───────────┬──────────┬───┬───────────┬──────────┬──────────┬───────────┐\n",
       "│ target ┆ column_0  ┆ column_1  ┆ column_2 ┆ … ┆ column_6  ┆ column_7 ┆ column_8 ┆ column_9  │\n",
       "│ ---    ┆ ---       ┆ ---       ┆ ---      ┆   ┆ ---       ┆ ---      ┆ ---      ┆ ---       │\n",
       "│ i32    ┆ f64       ┆ f64       ┆ f64      ┆   ┆ f64       ┆ f64      ┆ f64      ┆ f64       │\n",
       "╞════════╪═══════════╪═══════════╪══════════╪═══╪═══════════╪══════════╪══════════╪═══════════╡\n",
       "│ 1      ┆ 1.543355  ┆ -1.003174 ┆ 2.56695  ┆ … ┆ 0.871338  ┆ 1.979825 ┆ 1.71022  ┆ -0.520621 │\n",
       "│ 1      ┆ -0.239005 ┆ 0.039737  ┆ 2.121197 ┆ … ┆ -0.225159 ┆ 2.280511 ┆ 3.164198 ┆ -1.077476 │\n",
       "│ 0      ┆ -1.383168 ┆ -1.225669 ┆ 0.686294 ┆ … ┆ -2.399749 ┆ 1.015197 ┆ 0.885706 ┆ 1.469953  │\n",
       "└────────┴───────────┴───────────┴──────────┴───┴───────────┴──────────┴──────────┴───────────┘"
      ]
     },
     "execution_count": 11,
     "metadata": {},
     "output_type": "execute_result"
    }
   ],
   "source": [
    "import dsds.transform as t\n",
    "t.impute(df, cols=features, strategy=\"median\").head(3) "
   ]
  },
  {
   "cell_type": "code",
   "execution_count": 12,
   "metadata": {},
   "outputs": [
    {
     "data": {
      "text/html": [
       "<div>\n",
       "<style scoped>\n",
       "    .dataframe tbody tr th:only-of-type {\n",
       "        vertical-align: middle;\n",
       "    }\n",
       "\n",
       "    .dataframe tbody tr th {\n",
       "        vertical-align: top;\n",
       "    }\n",
       "\n",
       "    .dataframe thead th {\n",
       "        text-align: right;\n",
       "    }\n",
       "</style>\n",
       "<table border=\"1\" class=\"dataframe\">\n",
       "  <thead>\n",
       "    <tr style=\"text-align: right;\">\n",
       "      <th></th>\n",
       "      <th>target</th>\n",
       "      <th>column_0</th>\n",
       "      <th>column_1</th>\n",
       "      <th>column_2</th>\n",
       "      <th>column_3</th>\n",
       "      <th>column_4</th>\n",
       "      <th>column_5</th>\n",
       "      <th>column_6</th>\n",
       "      <th>column_7</th>\n",
       "      <th>column_8</th>\n",
       "      <th>column_9</th>\n",
       "    </tr>\n",
       "  </thead>\n",
       "  <tbody>\n",
       "    <tr>\n",
       "      <th>0</th>\n",
       "      <td>1.0</td>\n",
       "      <td>1.543355</td>\n",
       "      <td>-1.003174</td>\n",
       "      <td>2.566950</td>\n",
       "      <td>1.257070</td>\n",
       "      <td>-0.500615</td>\n",
       "      <td>0.882139</td>\n",
       "      <td>0.871338</td>\n",
       "      <td>1.979825</td>\n",
       "      <td>1.710220</td>\n",
       "      <td>-0.520621</td>\n",
       "    </tr>\n",
       "    <tr>\n",
       "      <th>1</th>\n",
       "      <td>1.0</td>\n",
       "      <td>-0.239005</td>\n",
       "      <td>0.039737</td>\n",
       "      <td>2.121197</td>\n",
       "      <td>0.443353</td>\n",
       "      <td>0.220981</td>\n",
       "      <td>0.576949</td>\n",
       "      <td>-0.225159</td>\n",
       "      <td>2.280511</td>\n",
       "      <td>3.164198</td>\n",
       "      <td>-1.077476</td>\n",
       "    </tr>\n",
       "    <tr>\n",
       "      <th>2</th>\n",
       "      <td>0.0</td>\n",
       "      <td>-1.383168</td>\n",
       "      <td>-1.225669</td>\n",
       "      <td>0.686294</td>\n",
       "      <td>-1.506217</td>\n",
       "      <td>1.091092</td>\n",
       "      <td>0.628869</td>\n",
       "      <td>-2.399749</td>\n",
       "      <td>1.015197</td>\n",
       "      <td>0.885706</td>\n",
       "      <td>1.469953</td>\n",
       "    </tr>\n",
       "  </tbody>\n",
       "</table>\n",
       "</div>"
      ],
      "text/plain": [
       "   target  column_0  column_1  column_2  column_3  column_4  column_5   \n",
       "0     1.0  1.543355 -1.003174  2.566950  1.257070 -0.500615  0.882139  \\\n",
       "1     1.0 -0.239005  0.039737  2.121197  0.443353  0.220981  0.576949   \n",
       "2     0.0 -1.383168 -1.225669  0.686294 -1.506217  1.091092  0.628869   \n",
       "\n",
       "   column_6  column_7  column_8  column_9  \n",
       "0  0.871338  1.979825  1.710220 -0.520621  \n",
       "1 -0.225159  2.280511  3.164198 -1.077476  \n",
       "2 -2.399749  1.015197  0.885706  1.469953  "
      ]
     },
     "execution_count": 12,
     "metadata": {},
     "output_type": "execute_result"
    }
   ],
   "source": [
    "from sklearn.impute import SimpleImputer \n",
    "imputer = SimpleImputer(strategy = \"median\")\n",
    "imputed = pd.DataFrame(imputer.fit_transform(df_pd, df_pd[target]), columns=df.columns)\n",
    "imputed.head(3)"
   ]
  },
  {
   "cell_type": "code",
   "execution_count": 31,
   "metadata": {},
   "outputs": [
    {
     "name": "stdout",
     "output_type": "stream",
     "text": [
      "120 ms ± 1.93 ms per loop (mean ± std. dev. of 7 runs, 10 loops each)\n"
     ]
    }
   ],
   "source": [
    "%%timeit\n",
    "imputer = SimpleImputer(strategy = \"median\")\n",
    "imputed = pd.DataFrame(imputer.fit_transform(df_pd, df_pd[target]), columns=df.columns)\n"
   ]
  },
  {
   "cell_type": "code",
   "execution_count": 13,
   "metadata": {},
   "outputs": [
    {
     "name": "stdout",
     "output_type": "stream",
     "text": [
      "1.19 ms ± 11.7 µs per loop (mean ± std. dev. of 7 runs, 1,000 loops each)\n"
     ]
    }
   ],
   "source": [
    "%%timeit\n",
    "t.impute(df, cols=features, strategy=\"median\")"
   ]
  },
  {
   "attachments": {},
   "cell_type": "markdown",
   "metadata": {},
   "source": [
    "# Fscore"
   ]
  },
  {
   "cell_type": "code",
   "execution_count": 14,
   "metadata": {},
   "outputs": [],
   "source": [
    "import dsds.fs as fs # fs = feature_selection\n",
    "from sklearn.feature_selection import mutual_info_classif, f_classif, f_regression"
   ]
  },
  {
   "cell_type": "code",
   "execution_count": 15,
   "metadata": {},
   "outputs": [
    {
     "data": {
      "text/plain": [
       "array([3.30628455e-01, 3.25840752e-01, 2.50950030e+03, 1.06995769e+04,\n",
       "       2.32917726e+01, 4.82412614e+02, 1.14142508e+04, 3.19484329e-01,\n",
       "       2.01306541e+04, 9.58264519e+03])"
      ]
     },
     "execution_count": 15,
     "metadata": {},
     "output_type": "execute_result"
    }
   ],
   "source": [
    "fs._f_score(df, target=target, num_list = features)"
   ]
  },
  {
   "cell_type": "code",
   "execution_count": 16,
   "metadata": {},
   "outputs": [
    {
     "name": "stdout",
     "output_type": "stream",
     "text": [
      "Spent 0.00s in computing Fscore.\n"
     ]
    },
    {
     "data": {
      "text/html": [
       "<div><style>\n",
       ".dataframe > thead > tr > th,\n",
       ".dataframe > tbody > tr > td {\n",
       "  text-align: right;\n",
       "  white-space: pre-wrap;\n",
       "}\n",
       "</style>\n",
       "<small>shape: (10, 3)</small><table border=\"1\" class=\"dataframe\"><thead><tr><th>feature</th><th>f_value</th><th>p_value</th></tr><tr><td>str</td><td>f64</td><td>f64</td></tr></thead><tbody><tr><td>&quot;column_0&quot;</td><td>0.330628</td><td>0.565291</td></tr><tr><td>&quot;column_1&quot;</td><td>0.325841</td><td>0.56812</td></tr><tr><td>&quot;column_2&quot;</td><td>2509.500296</td><td>0.0</td></tr><tr><td>&quot;column_3&quot;</td><td>10699.576897</td><td>0.0</td></tr><tr><td>&quot;column_4&quot;</td><td>23.291773</td><td>0.000001</td></tr><tr><td>&quot;column_5&quot;</td><td>482.412614</td><td>1.1420e-106</td></tr><tr><td>&quot;column_6&quot;</td><td>11414.250763</td><td>0.0</td></tr><tr><td>&quot;column_7&quot;</td><td>0.319484</td><td>0.571919</td></tr><tr><td>&quot;column_8&quot;</td><td>20130.654098</td><td>0.0</td></tr><tr><td>&quot;column_9&quot;</td><td>9582.645191</td><td>0.0</td></tr></tbody></table></div>"
      ],
      "text/plain": [
       "shape: (10, 3)\n",
       "┌──────────┬──────────────┬──────────┐\n",
       "│ feature  ┆ f_value      ┆ p_value  │\n",
       "│ ---      ┆ ---          ┆ ---      │\n",
       "│ str      ┆ f64          ┆ f64      │\n",
       "╞══════════╪══════════════╪══════════╡\n",
       "│ column_0 ┆ 0.330628     ┆ 0.565291 │\n",
       "│ column_1 ┆ 0.325841     ┆ 0.56812  │\n",
       "│ column_2 ┆ 2509.500296  ┆ 0.0      │\n",
       "│ column_3 ┆ 10699.576897 ┆ 0.0      │\n",
       "│ …        ┆ …            ┆ …        │\n",
       "│ column_6 ┆ 11414.250763 ┆ 0.0      │\n",
       "│ column_7 ┆ 0.319484     ┆ 0.571919 │\n",
       "│ column_8 ┆ 20130.654098 ┆ 0.0      │\n",
       "│ column_9 ┆ 9582.645191  ┆ 0.0      │\n",
       "└──────────┴──────────────┴──────────┘"
      ]
     },
     "execution_count": 16,
     "metadata": {},
     "output_type": "execute_result"
    }
   ],
   "source": [
    "# The more core, the bigger the difference. Data here is not big enough to show the difference\n",
    "start = perf_counter()\n",
    "res = fs.f_classif(df, target=target)\n",
    "end = perf_counter()\n",
    "print(f\"Spent {end - start:.2f}s in computing Fscore.\")\n",
    "res.head(10)"
   ]
  },
  {
   "cell_type": "code",
   "execution_count": 17,
   "metadata": {},
   "outputs": [
    {
     "name": "stdout",
     "output_type": "stream",
     "text": [
      "Spent 0.02s in computing Fscore.\n"
     ]
    },
    {
     "data": {
      "text/html": [
       "<div>\n",
       "<style scoped>\n",
       "    .dataframe tbody tr th:only-of-type {\n",
       "        vertical-align: middle;\n",
       "    }\n",
       "\n",
       "    .dataframe tbody tr th {\n",
       "        vertical-align: top;\n",
       "    }\n",
       "\n",
       "    .dataframe thead th {\n",
       "        text-align: right;\n",
       "    }\n",
       "</style>\n",
       "<table border=\"1\" class=\"dataframe\">\n",
       "  <thead>\n",
       "    <tr style=\"text-align: right;\">\n",
       "      <th></th>\n",
       "      <th>feature</th>\n",
       "      <th>f_value</th>\n",
       "      <th>p_value</th>\n",
       "    </tr>\n",
       "  </thead>\n",
       "  <tbody>\n",
       "    <tr>\n",
       "      <th>0</th>\n",
       "      <td>column_0</td>\n",
       "      <td>0.330628</td>\n",
       "      <td>5.652906e-01</td>\n",
       "    </tr>\n",
       "    <tr>\n",
       "      <th>1</th>\n",
       "      <td>column_1</td>\n",
       "      <td>0.325841</td>\n",
       "      <td>5.681198e-01</td>\n",
       "    </tr>\n",
       "    <tr>\n",
       "      <th>2</th>\n",
       "      <td>column_2</td>\n",
       "      <td>2509.500296</td>\n",
       "      <td>0.000000e+00</td>\n",
       "    </tr>\n",
       "    <tr>\n",
       "      <th>3</th>\n",
       "      <td>column_3</td>\n",
       "      <td>10699.576897</td>\n",
       "      <td>0.000000e+00</td>\n",
       "    </tr>\n",
       "    <tr>\n",
       "      <th>4</th>\n",
       "      <td>column_4</td>\n",
       "      <td>23.291773</td>\n",
       "      <td>1.393990e-06</td>\n",
       "    </tr>\n",
       "    <tr>\n",
       "      <th>5</th>\n",
       "      <td>column_5</td>\n",
       "      <td>482.412614</td>\n",
       "      <td>1.142039e-106</td>\n",
       "    </tr>\n",
       "    <tr>\n",
       "      <th>6</th>\n",
       "      <td>column_6</td>\n",
       "      <td>11414.250763</td>\n",
       "      <td>0.000000e+00</td>\n",
       "    </tr>\n",
       "    <tr>\n",
       "      <th>7</th>\n",
       "      <td>column_7</td>\n",
       "      <td>0.319484</td>\n",
       "      <td>5.719190e-01</td>\n",
       "    </tr>\n",
       "    <tr>\n",
       "      <th>8</th>\n",
       "      <td>column_8</td>\n",
       "      <td>20130.654098</td>\n",
       "      <td>0.000000e+00</td>\n",
       "    </tr>\n",
       "    <tr>\n",
       "      <th>9</th>\n",
       "      <td>column_9</td>\n",
       "      <td>9582.645191</td>\n",
       "      <td>0.000000e+00</td>\n",
       "    </tr>\n",
       "  </tbody>\n",
       "</table>\n",
       "</div>"
      ],
      "text/plain": [
       "    feature       f_value        p_value\n",
       "0  column_0      0.330628   5.652906e-01\n",
       "1  column_1      0.325841   5.681198e-01\n",
       "2  column_2   2509.500296   0.000000e+00\n",
       "3  column_3  10699.576897   0.000000e+00\n",
       "4  column_4     23.291773   1.393990e-06\n",
       "5  column_5    482.412614  1.142039e-106\n",
       "6  column_6  11414.250763   0.000000e+00\n",
       "7  column_7      0.319484   5.719190e-01\n",
       "8  column_8  20130.654098   0.000000e+00\n",
       "9  column_9   9582.645191   0.000000e+00"
      ]
     },
     "execution_count": 17,
     "metadata": {},
     "output_type": "execute_result"
    }
   ],
   "source": [
    "start = perf_counter()\n",
    "f, pv = f_classif(df_pd[features], df_pd[target])\n",
    "res = pd.DataFrame({\"feature\":features, \"f_value\":f, \"p_value\":pv})\n",
    "end = perf_counter()\n",
    "print(f\"Spent {end - start:.2f}s in computing Fscore.\")\n",
    "res.head(10)"
   ]
  },
  {
   "cell_type": "code",
   "execution_count": 18,
   "metadata": {},
   "outputs": [
    {
     "name": "stdout",
     "output_type": "stream",
     "text": [
      "Spent  0.01s in computing Fscore.\n"
     ]
    },
    {
     "data": {
      "text/html": [
       "<div>\n",
       "<style scoped>\n",
       "    .dataframe tbody tr th:only-of-type {\n",
       "        vertical-align: middle;\n",
       "    }\n",
       "\n",
       "    .dataframe tbody tr th {\n",
       "        vertical-align: top;\n",
       "    }\n",
       "\n",
       "    .dataframe thead th {\n",
       "        text-align: right;\n",
       "    }\n",
       "</style>\n",
       "<table border=\"1\" class=\"dataframe\">\n",
       "  <thead>\n",
       "    <tr style=\"text-align: right;\">\n",
       "      <th></th>\n",
       "      <th>feature</th>\n",
       "      <th>f_value</th>\n",
       "      <th>p_value</th>\n",
       "    </tr>\n",
       "  </thead>\n",
       "  <tbody>\n",
       "    <tr>\n",
       "      <th>0</th>\n",
       "      <td>column_0</td>\n",
       "      <td>0.330628</td>\n",
       "      <td>5.652906e-01</td>\n",
       "    </tr>\n",
       "    <tr>\n",
       "      <th>1</th>\n",
       "      <td>column_1</td>\n",
       "      <td>0.325841</td>\n",
       "      <td>5.681198e-01</td>\n",
       "    </tr>\n",
       "    <tr>\n",
       "      <th>2</th>\n",
       "      <td>column_2</td>\n",
       "      <td>2509.500296</td>\n",
       "      <td>0.000000e+00</td>\n",
       "    </tr>\n",
       "    <tr>\n",
       "      <th>3</th>\n",
       "      <td>column_3</td>\n",
       "      <td>10699.576897</td>\n",
       "      <td>0.000000e+00</td>\n",
       "    </tr>\n",
       "    <tr>\n",
       "      <th>4</th>\n",
       "      <td>column_4</td>\n",
       "      <td>23.291773</td>\n",
       "      <td>1.393990e-06</td>\n",
       "    </tr>\n",
       "    <tr>\n",
       "      <th>5</th>\n",
       "      <td>column_5</td>\n",
       "      <td>482.412614</td>\n",
       "      <td>1.142039e-106</td>\n",
       "    </tr>\n",
       "    <tr>\n",
       "      <th>6</th>\n",
       "      <td>column_6</td>\n",
       "      <td>11414.250763</td>\n",
       "      <td>0.000000e+00</td>\n",
       "    </tr>\n",
       "    <tr>\n",
       "      <th>7</th>\n",
       "      <td>column_7</td>\n",
       "      <td>0.319484</td>\n",
       "      <td>5.719190e-01</td>\n",
       "    </tr>\n",
       "    <tr>\n",
       "      <th>8</th>\n",
       "      <td>column_8</td>\n",
       "      <td>20130.654098</td>\n",
       "      <td>0.000000e+00</td>\n",
       "    </tr>\n",
       "    <tr>\n",
       "      <th>9</th>\n",
       "      <td>column_9</td>\n",
       "      <td>9582.645191</td>\n",
       "      <td>0.000000e+00</td>\n",
       "    </tr>\n",
       "  </tbody>\n",
       "</table>\n",
       "</div>"
      ],
      "text/plain": [
       "    feature       f_value        p_value\n",
       "0  column_0      0.330628   5.652906e-01\n",
       "1  column_1      0.325841   5.681198e-01\n",
       "2  column_2   2509.500296   0.000000e+00\n",
       "3  column_3  10699.576897   0.000000e+00\n",
       "4  column_4     23.291773   1.393990e-06\n",
       "5  column_5    482.412614  1.142039e-106\n",
       "6  column_6  11414.250763   0.000000e+00\n",
       "7  column_7      0.319484   5.719190e-01\n",
       "8  column_8  20130.654098   0.000000e+00\n",
       "9  column_9   9582.645191   0.000000e+00"
      ]
     },
     "execution_count": 18,
     "metadata": {},
     "output_type": "execute_result"
    }
   ],
   "source": [
    "start = perf_counter()\n",
    "f, pv = f_regression(df_pd[features], df_pd[target])\n",
    "res = pd.DataFrame({\"feature\":features, \"f_value\":f, \"p_value\":pv})\n",
    "end = perf_counter()\n",
    "print(f\"Spent {end - start: .2f}s in computing Fscore.\")\n",
    "res.head(10)"
   ]
  },
  {
   "attachments": {},
   "cell_type": "markdown",
   "metadata": {},
   "source": [
    "# Mutual Information Score"
   ]
  },
  {
   "cell_type": "code",
   "execution_count": 19,
   "metadata": {},
   "outputs": [
    {
     "name": "stderr",
     "output_type": "stream",
     "text": [
      "Mutual Info: 100%|██████████| 10/10 [00:00<00:00, 12.84it/s]\n"
     ]
    },
    {
     "data": {
      "text/html": [
       "<div><style>\n",
       ".dataframe > thead > tr > th,\n",
       ".dataframe > tbody > tr > td {\n",
       "  text-align: right;\n",
       "  white-space: pre-wrap;\n",
       "}\n",
       "</style>\n",
       "<small>shape: (10, 2)</small><table border=\"1\" class=\"dataframe\"><thead><tr><th>feature</th><th>estimated_mi</th></tr><tr><td>str</td><td>f64</td></tr></thead><tbody><tr><td>&quot;column_4&quot;</td><td>0.165045</td></tr><tr><td>&quot;column_8&quot;</td><td>0.110466</td></tr><tr><td>&quot;column_3&quot;</td><td>0.110329</td></tr><tr><td>&quot;column_0&quot;</td><td>0.063793</td></tr><tr><td>&quot;column_6&quot;</td><td>0.056662</td></tr><tr><td>&quot;column_9&quot;</td><td>0.049541</td></tr><tr><td>&quot;column_2&quot;</td><td>0.024717</td></tr><tr><td>&quot;column_5&quot;</td><td>0.013657</td></tr><tr><td>&quot;column_7&quot;</td><td>0.010428</td></tr><tr><td>&quot;column_1&quot;</td><td>0.009925</td></tr></tbody></table></div>"
      ],
      "text/plain": [
       "shape: (10, 2)\n",
       "┌──────────┬──────────────┐\n",
       "│ feature  ┆ estimated_mi │\n",
       "│ ---      ┆ ---          │\n",
       "│ str      ┆ f64          │\n",
       "╞══════════╪══════════════╡\n",
       "│ column_4 ┆ 0.165045     │\n",
       "│ column_8 ┆ 0.110466     │\n",
       "│ column_3 ┆ 0.110329     │\n",
       "│ column_0 ┆ 0.063793     │\n",
       "│ …        ┆ …            │\n",
       "│ column_2 ┆ 0.024717     │\n",
       "│ column_5 ┆ 0.013657     │\n",
       "│ column_7 ┆ 0.010428     │\n",
       "│ column_1 ┆ 0.009925     │\n",
       "└──────────┴──────────────┘"
      ]
     },
     "execution_count": 19,
     "metadata": {},
     "output_type": "execute_result"
    }
   ],
   "source": [
    "# Vastly faster than sklearn. Finished in 0.7s in this run\n",
    "fs.mutual_info(df, target=target, conti_cols=features).sort(by=\"estimated_mi\", descending=True).limit(10)"
   ]
  },
  {
   "cell_type": "code",
   "execution_count": 20,
   "metadata": {},
   "outputs": [],
   "source": [
    "# A wrapper for more apples to apples comparison\n",
    "def estimate_mi_sklearn(df:pd.DataFrame, cols:list[str], target:str, k=3, random_state:int=42):\n",
    "    mi_estimates = mutual_info_classif(df[cols], df[target]\n",
    "                        , n_neighbors=k, random_state=random_state, discrete_features=False)\n",
    "\n",
    "    return pl.from_records([cols, mi_estimates], schema=[\"feature\", \"estimated_mi\"]).sort(\"estimated_mi\", descending=True)"
   ]
  },
  {
   "cell_type": "code",
   "execution_count": 21,
   "metadata": {},
   "outputs": [
    {
     "data": {
      "text/html": [
       "<div><style>\n",
       ".dataframe > thead > tr > th,\n",
       ".dataframe > tbody > tr > td {\n",
       "  text-align: right;\n",
       "  white-space: pre-wrap;\n",
       "}\n",
       "</style>\n",
       "<small>shape: (10, 2)</small><table border=\"1\" class=\"dataframe\"><thead><tr><th>feature</th><th>estimated_mi</th></tr><tr><td>str</td><td>f64</td></tr></thead><tbody><tr><td>&quot;column_4&quot;</td><td>0.165051</td></tr><tr><td>&quot;column_8&quot;</td><td>0.110466</td></tr><tr><td>&quot;column_3&quot;</td><td>0.110329</td></tr><tr><td>&quot;column_0&quot;</td><td>0.063793</td></tr><tr><td>&quot;column_6&quot;</td><td>0.056662</td></tr><tr><td>&quot;column_9&quot;</td><td>0.049541</td></tr><tr><td>&quot;column_2&quot;</td><td>0.024717</td></tr><tr><td>&quot;column_5&quot;</td><td>0.013658</td></tr><tr><td>&quot;column_7&quot;</td><td>0.010428</td></tr><tr><td>&quot;column_1&quot;</td><td>0.009925</td></tr></tbody></table></div>"
      ],
      "text/plain": [
       "shape: (10, 2)\n",
       "┌──────────┬──────────────┐\n",
       "│ feature  ┆ estimated_mi │\n",
       "│ ---      ┆ ---          │\n",
       "│ str      ┆ f64          │\n",
       "╞══════════╪══════════════╡\n",
       "│ column_4 ┆ 0.165051     │\n",
       "│ column_8 ┆ 0.110466     │\n",
       "│ column_3 ┆ 0.110329     │\n",
       "│ column_0 ┆ 0.063793     │\n",
       "│ …        ┆ …            │\n",
       "│ column_2 ┆ 0.024717     │\n",
       "│ column_5 ┆ 0.013658     │\n",
       "│ column_7 ┆ 0.010428     │\n",
       "│ column_1 ┆ 0.009925     │\n",
       "└──────────┴──────────────┘"
      ]
     },
     "execution_count": 21,
     "metadata": {},
     "output_type": "execute_result"
    }
   ],
   "source": [
    "# The reason sklearn's impl is slow is that it did not turn on multithreading for KDtrees.\n",
    "# Sklearn also did not provide an option to turn it on, despite the fact that sklearn's KDtrees\n",
    "# does have this functionality. Finished in 4.4s in this run\n",
    "estimate_mi_sklearn(df_pd, cols=features, target=target).limit(10)"
   ]
  },
  {
   "attachments": {},
   "cell_type": "markdown",
   "metadata": {},
   "source": [
    "# MRMR Feature selection Strategy"
   ]
  },
  {
   "cell_type": "code",
   "execution_count": 22,
   "metadata": {},
   "outputs": [],
   "source": [
    "from mrmr import mrmr_classif # This is currently the most starred MRMR Python package on github"
   ]
  },
  {
   "cell_type": "code",
   "execution_count": 23,
   "metadata": {},
   "outputs": [],
   "source": [
    "# Need to wrap it so that we get apples to apples comparison\n",
    "def mrmr_package(df:pd.DataFrame, target:str, k:int) -> list[str]:\n",
    "    features = list(df.columns)\n",
    "    features.remove(target)\n",
    "    X = df[features]\n",
    "    y = df[target]\n",
    "    start = perf_counter()\n",
    "    output = mrmr_classif(X, y, K = k)\n",
    "    end = perf_counter()\n",
    "    print(f\"Spent {end - start:.2f}s to compute mrmr.\")\n",
    "    return output"
   ]
  },
  {
   "cell_type": "code",
   "execution_count": 24,
   "metadata": {},
   "outputs": [
    {
     "name": "stderr",
     "output_type": "stream",
     "text": [
      "100%|██████████| 10/10 [00:05<00:00,  1.67it/s]"
     ]
    },
    {
     "name": "stdout",
     "output_type": "stream",
     "text": [
      "Spent 8.75s to compute mrmr.\n"
     ]
    },
    {
     "name": "stderr",
     "output_type": "stream",
     "text": [
      "\n"
     ]
    },
    {
     "data": {
      "text/plain": [
       "['column_8',\n",
       " 'column_6',\n",
       " 'column_3',\n",
       " 'column_9',\n",
       " 'column_2',\n",
       " 'column_5',\n",
       " 'column_4',\n",
       " 'column_7',\n",
       " 'column_0',\n",
       " 'column_1']"
      ]
     },
     "execution_count": 24,
     "metadata": {},
     "output_type": "execute_result"
    }
   ],
   "source": [
    "mrmr_package(df_pd, \"target\", 50)"
   ]
  },
  {
   "cell_type": "code",
   "execution_count": 25,
   "metadata": {},
   "outputs": [
    {
     "name": "stderr",
     "output_type": "stream",
     "text": [
      "INFO:dsds.fs:Running fscore to determine feature relevance...\n"
     ]
    },
    {
     "name": "stdout",
     "output_type": "stream",
     "text": [
      "Found 10 total features to select from. Proceeding to select top 10 features.\n"
     ]
    },
    {
     "name": "stderr",
     "output_type": "stream",
     "text": [
      "MRMR, fscore: 100%|██████████| 10/10 [00:00<00:00, 2226.63it/s]"
     ]
    },
    {
     "name": "stdout",
     "output_type": "stream",
     "text": [
      "Output is sorted in order of selection (max relevance min redundancy).\n",
      "Spent 0.01s in computing.\n"
     ]
    },
    {
     "name": "stderr",
     "output_type": "stream",
     "text": [
      "\n"
     ]
    },
    {
     "data": {
      "text/plain": [
       "['column_8',\n",
       " 'column_6',\n",
       " 'column_3',\n",
       " 'column_9',\n",
       " 'column_2',\n",
       " 'column_5',\n",
       " 'column_4',\n",
       " 'column_7',\n",
       " 'column_0',\n",
       " 'column_1']"
      ]
     },
     "execution_count": 25,
     "metadata": {},
     "output_type": "execute_result"
    }
   ],
   "source": [
    "start = perf_counter()\n",
    "res = fs.mrmr(df, target=\"target\", k = 50, low_memory=False)\n",
    "end = perf_counter()\n",
    "print(f\"Spent {end - start:.2f}s in computing.\")\n",
    "res"
   ]
  },
  {
   "cell_type": "code",
   "execution_count": 26,
   "metadata": {},
   "outputs": [
    {
     "name": "stderr",
     "output_type": "stream",
     "text": [
      "INFO:dsds.fs:Running fscore to determine feature relevance...\n"
     ]
    },
    {
     "name": "stdout",
     "output_type": "stream",
     "text": [
      "Found 10 total features to select from. Proceeding to select top 10 features.\n"
     ]
    },
    {
     "name": "stderr",
     "output_type": "stream",
     "text": [
      "MRMR, fscore: 100%|██████████| 10/10 [00:00<00:00, 588.17it/s]"
     ]
    },
    {
     "name": "stdout",
     "output_type": "stream",
     "text": [
      "Output is sorted in order of selection (max relevance min redundancy).\n",
      "Spent 0.02s in computing.\n"
     ]
    },
    {
     "name": "stderr",
     "output_type": "stream",
     "text": [
      "\n"
     ]
    },
    {
     "data": {
      "text/plain": [
       "['column_8',\n",
       " 'column_6',\n",
       " 'column_3',\n",
       " 'column_9',\n",
       " 'column_2',\n",
       " 'column_5',\n",
       " 'column_4',\n",
       " 'column_7',\n",
       " 'column_0',\n",
       " 'column_1']"
      ]
     },
     "execution_count": 26,
     "metadata": {},
     "output_type": "execute_result"
    }
   ],
   "source": [
    "start = perf_counter()\n",
    "res = fs.mrmr(df, target=\"target\", k = 50, low_memory=True)\n",
    "end = perf_counter()\n",
    "print(f\"Spent {end - start:.2f}s in computing.\")\n",
    "res"
   ]
  },
  {
   "attachments": {},
   "cell_type": "markdown",
   "metadata": {},
   "source": [
    "# Power Transform"
   ]
  },
  {
   "cell_type": "code",
   "execution_count": 27,
   "metadata": {},
   "outputs": [
    {
     "name": "stdout",
     "output_type": "stream",
     "text": [
      "Spent 0.20s in computing.\n"
     ]
    },
    {
     "data": {
      "text/html": [
       "<div><style>\n",
       ".dataframe > thead > tr > th,\n",
       ".dataframe > tbody > tr > td {\n",
       "  text-align: right;\n",
       "  white-space: pre-wrap;\n",
       "}\n",
       "</style>\n",
       "<small>shape: (5, 11)</small><table border=\"1\" class=\"dataframe\"><thead><tr><th>target</th><th>column_0</th><th>column_1</th><th>column_2</th><th>column_3</th><th>column_4</th><th>column_5</th><th>column_6</th><th>column_7</th><th>column_8</th><th>column_9</th></tr><tr><td>i32</td><td>f64</td><td>f64</td><td>f64</td><td>f64</td><td>f64</td><td>f64</td><td>f64</td><td>f64</td><td>f64</td><td>f64</td></tr></thead><tbody><tr><td>1</td><td>1.528213</td><td>-1.11014</td><td>2.866121</td><td>1.250044</td><td>-0.490738</td><td>1.012572</td><td>0.851723</td><td>2.011809</td><td>1.584071</td><td>-0.509153</td></tr><tr><td>1</td><td>-0.239492</td><td>0.039536</td><td>2.337013</td><td>0.442306</td><td>0.223097</td><td>0.635259</td><td>-0.226727</td><td>2.321146</td><td>2.818786</td><td>-1.034578</td></tr><tr><td>0</td><td>-1.395827</td><td>-1.380078</td><td>0.714706</td><td>-1.515932</td><td>1.133764</td><td>0.697603</td><td>-2.519505</td><td>1.025126</td><td>0.845522</td><td>1.548555</td></tr><tr><td>0</td><td>0.552393</td><td>-0.859452</td><td>2.586001</td><td>-0.630555</td><td>0.023168</td><td>0.516899</td><td>1.322975</td><td>1.106648</td><td>-0.751349</td><td>0.486649</td></tr><tr><td>1</td><td>0.739109</td><td>-1.286846</td><td>0.038654</td><td>0.236306</td><td>-0.182875</td><td>0.472023</td><td>-0.673053</td><td>0.05435</td><td>-0.364832</td><td>1.042299</td></tr></tbody></table></div>"
      ],
      "text/plain": [
       "shape: (5, 11)\n",
       "┌────────┬───────────┬───────────┬──────────┬───┬───────────┬──────────┬───────────┬───────────┐\n",
       "│ target ┆ column_0  ┆ column_1  ┆ column_2 ┆ … ┆ column_6  ┆ column_7 ┆ column_8  ┆ column_9  │\n",
       "│ ---    ┆ ---       ┆ ---       ┆ ---      ┆   ┆ ---       ┆ ---      ┆ ---       ┆ ---       │\n",
       "│ i32    ┆ f64       ┆ f64       ┆ f64      ┆   ┆ f64       ┆ f64      ┆ f64       ┆ f64       │\n",
       "╞════════╪═══════════╪═══════════╪══════════╪═══╪═══════════╪══════════╪═══════════╪═══════════╡\n",
       "│ 1      ┆ 1.528213  ┆ -1.11014  ┆ 2.866121 ┆ … ┆ 0.851723  ┆ 2.011809 ┆ 1.584071  ┆ -0.509153 │\n",
       "│ 1      ┆ -0.239492 ┆ 0.039536  ┆ 2.337013 ┆ … ┆ -0.226727 ┆ 2.321146 ┆ 2.818786  ┆ -1.034578 │\n",
       "│ 0      ┆ -1.395827 ┆ -1.380078 ┆ 0.714706 ┆ … ┆ -2.519505 ┆ 1.025126 ┆ 0.845522  ┆ 1.548555  │\n",
       "│ 0      ┆ 0.552393  ┆ -0.859452 ┆ 2.586001 ┆ … ┆ 1.322975  ┆ 1.106648 ┆ -0.751349 ┆ 0.486649  │\n",
       "│ 1      ┆ 0.739109  ┆ -1.286846 ┆ 0.038654 ┆ … ┆ -0.673053 ┆ 0.05435  ┆ -0.364832 ┆ 1.042299  │\n",
       "└────────┴───────────┴───────────┴──────────┴───┴───────────┴──────────┴───────────┴───────────┘"
      ]
     },
     "execution_count": 27,
     "metadata": {},
     "output_type": "execute_result"
    }
   ],
   "source": [
    "start = perf_counter()\n",
    "res_eager = t.power_transform(df, cols=features, strategy=\"yeo_johnson\")\n",
    "end = perf_counter()\n",
    "print(f\"Spent {end - start:.2f}s in computing.\")\n",
    "res_eager.head() "
   ]
  },
  {
   "cell_type": "code",
   "execution_count": 28,
   "metadata": {},
   "outputs": [],
   "source": [
    "from sklearn.preprocessing import power_transform"
   ]
  },
  {
   "cell_type": "code",
   "execution_count": 29,
   "metadata": {},
   "outputs": [
    {
     "name": "stdout",
     "output_type": "stream",
     "text": [
      "Spent 0.69s in computing.\n"
     ]
    },
    {
     "data": {
      "text/html": [
       "<div>\n",
       "<style scoped>\n",
       "    .dataframe tbody tr th:only-of-type {\n",
       "        vertical-align: middle;\n",
       "    }\n",
       "\n",
       "    .dataframe tbody tr th {\n",
       "        vertical-align: top;\n",
       "    }\n",
       "\n",
       "    .dataframe thead th {\n",
       "        text-align: right;\n",
       "    }\n",
       "</style>\n",
       "<table border=\"1\" class=\"dataframe\">\n",
       "  <thead>\n",
       "    <tr style=\"text-align: right;\">\n",
       "      <th></th>\n",
       "      <th>target</th>\n",
       "      <th>column_0</th>\n",
       "      <th>column_1</th>\n",
       "      <th>column_2</th>\n",
       "      <th>column_3</th>\n",
       "      <th>column_4</th>\n",
       "      <th>column_5</th>\n",
       "      <th>column_6</th>\n",
       "      <th>column_7</th>\n",
       "      <th>column_8</th>\n",
       "      <th>column_9</th>\n",
       "    </tr>\n",
       "  </thead>\n",
       "  <tbody>\n",
       "    <tr>\n",
       "      <th>0</th>\n",
       "      <td>1</td>\n",
       "      <td>1.528213</td>\n",
       "      <td>-1.110140</td>\n",
       "      <td>2.866121</td>\n",
       "      <td>1.250044</td>\n",
       "      <td>-0.490738</td>\n",
       "      <td>1.012572</td>\n",
       "      <td>0.851723</td>\n",
       "      <td>2.011809</td>\n",
       "      <td>1.584071</td>\n",
       "      <td>-0.509153</td>\n",
       "    </tr>\n",
       "    <tr>\n",
       "      <th>1</th>\n",
       "      <td>1</td>\n",
       "      <td>-0.239492</td>\n",
       "      <td>0.039536</td>\n",
       "      <td>2.337013</td>\n",
       "      <td>0.442306</td>\n",
       "      <td>0.223097</td>\n",
       "      <td>0.635259</td>\n",
       "      <td>-0.226727</td>\n",
       "      <td>2.321146</td>\n",
       "      <td>2.818786</td>\n",
       "      <td>-1.034578</td>\n",
       "    </tr>\n",
       "    <tr>\n",
       "      <th>2</th>\n",
       "      <td>0</td>\n",
       "      <td>-1.395827</td>\n",
       "      <td>-1.380078</td>\n",
       "      <td>0.714706</td>\n",
       "      <td>-1.515932</td>\n",
       "      <td>1.133764</td>\n",
       "      <td>0.697603</td>\n",
       "      <td>-2.519505</td>\n",
       "      <td>1.025126</td>\n",
       "      <td>0.845522</td>\n",
       "      <td>1.548555</td>\n",
       "    </tr>\n",
       "    <tr>\n",
       "      <th>3</th>\n",
       "      <td>0</td>\n",
       "      <td>0.552393</td>\n",
       "      <td>-0.859452</td>\n",
       "      <td>2.586001</td>\n",
       "      <td>-0.630555</td>\n",
       "      <td>0.023168</td>\n",
       "      <td>0.516899</td>\n",
       "      <td>1.322975</td>\n",
       "      <td>1.106648</td>\n",
       "      <td>-0.751349</td>\n",
       "      <td>0.486649</td>\n",
       "    </tr>\n",
       "    <tr>\n",
       "      <th>4</th>\n",
       "      <td>1</td>\n",
       "      <td>0.739109</td>\n",
       "      <td>-1.286846</td>\n",
       "      <td>0.038654</td>\n",
       "      <td>0.236306</td>\n",
       "      <td>-0.182875</td>\n",
       "      <td>0.472023</td>\n",
       "      <td>-0.673053</td>\n",
       "      <td>0.054350</td>\n",
       "      <td>-0.364832</td>\n",
       "      <td>1.042299</td>\n",
       "    </tr>\n",
       "  </tbody>\n",
       "</table>\n",
       "</div>"
      ],
      "text/plain": [
       "   target  column_0  column_1  column_2  column_3  column_4  column_5   \n",
       "0       1  1.528213 -1.110140  2.866121  1.250044 -0.490738  1.012572  \\\n",
       "1       1 -0.239492  0.039536  2.337013  0.442306  0.223097  0.635259   \n",
       "2       0 -1.395827 -1.380078  0.714706 -1.515932  1.133764  0.697603   \n",
       "3       0  0.552393 -0.859452  2.586001 -0.630555  0.023168  0.516899   \n",
       "4       1  0.739109 -1.286846  0.038654  0.236306 -0.182875  0.472023   \n",
       "\n",
       "   column_6  column_7  column_8  column_9  \n",
       "0  0.851723  2.011809  1.584071 -0.509153  \n",
       "1 -0.226727  2.321146  2.818786 -1.034578  \n",
       "2 -2.519505  1.025126  0.845522  1.548555  \n",
       "3  1.322975  1.106648 -0.751349  0.486649  \n",
       "4 -0.673053  0.054350 -0.364832  1.042299  "
      ]
     },
     "execution_count": 29,
     "metadata": {},
     "output_type": "execute_result"
    }
   ],
   "source": [
    "# Sklearn with Pandas\n",
    "\n",
    "start = perf_counter()\n",
    "transformed = power_transform(df_pd[features], method = \"yeo-johnson\", standardize=False)\n",
    "end = perf_counter()\n",
    "df_pd[features] = transformed\n",
    "print(f\"Spent {end - start:.2f}s in computing.\")\n",
    "df_pd.head()\n"
   ]
  },
  {
   "attachments": {},
   "cell_type": "markdown",
   "metadata": {},
   "source": [
    "# GC"
   ]
  },
  {
   "cell_type": "code",
   "execution_count": 30,
   "metadata": {},
   "outputs": [
    {
     "data": {
      "text/plain": [
       "115"
      ]
     },
     "execution_count": 30,
     "metadata": {},
     "output_type": "execute_result"
    }
   ],
   "source": [
    "import gc \n",
    "gc.collect()"
   ]
  },
  {
   "cell_type": "code",
   "execution_count": null,
   "metadata": {},
   "outputs": [],
   "source": []
  }
 ],
 "metadata": {
  "kernelspec": {
   "display_name": "my_py11",
   "language": "python",
   "name": "python3"
  },
  "language_info": {
   "codemirror_mode": {
    "name": "ipython",
    "version": 3
   },
   "file_extension": ".py",
   "mimetype": "text/x-python",
   "name": "python",
   "nbconvert_exporter": "python",
   "pygments_lexer": "ipython3",
   "version": "3.11.3"
  },
  "orig_nbformat": 4
 },
 "nbformat": 4,
 "nbformat_minor": 2
}
