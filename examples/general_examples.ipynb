{
 "cells": [
  {
   "cell_type": "code",
   "execution_count": 1,
   "metadata": {},
   "outputs": [],
   "source": [
    "import polars as pl\n",
    "from typing import *\n",
    "import sys\n",
    "sys.path.append('../src')"
   ]
  },
  {
   "attachments": {},
   "cell_type": "markdown",
   "metadata": {},
   "source": [
    "# General Usage"
   ]
  },
  {
   "cell_type": "code",
   "execution_count": 2,
   "metadata": {},
   "outputs": [],
   "source": [
    "import polars as pl\n",
    "from dsds.utils import get_numpy\n",
    "from dsds.prescreen import *\n",
    "from dsds.transform import *\n",
    "from dsds.fs import discrete_ig, f_classification, mrmr"
   ]
  },
  {
   "cell_type": "code",
   "execution_count": 3,
   "metadata": {},
   "outputs": [
    {
     "data": {
      "text/html": [
       "<div><style>\n",
       ".dataframe > thead > tr > th,\n",
       ".dataframe > tbody > tr > td {\n",
       "  text-align: right;\n",
       "}\n",
       "</style>\n",
       "<small>shape: (5, 18)</small><table border=\"1\" class=\"dataframe\"><thead><tr><th>Daily Time Spent on Site</th><th>Age</th><th>Area Income</th><th>Daily Internet Usage</th><th>Ad Topic Line</th><th>City</th><th>Male</th><th>Country</th><th>Timestamp</th><th>Clicked on Ad</th><th>One_Hot_Test</th><th>Age Band</th><th>Daily Internet Usage Band</th><th>Area Income Band</th><th>Test_Constant</th><th>Test_Str_Constant</th><th>Test_BadColumn</th><th>Test_Binary</th></tr><tr><td>f64</td><td>i64</td><td>f64</td><td>f64</td><td>str</td><td>str</td><td>i64</td><td>str</td><td>str</td><td>i64</td><td>str</td><td>i64</td><td>f64</td><td>f64</td><td>i64</td><td>str</td><td>i64</td><td>str</td></tr></thead><tbody><tr><td>68.95</td><td>35</td><td>61833.9</td><td>256.09</td><td>&quot;Cloned 5thgene…</td><td>&quot;Wrightburgh&quot;</td><td>0</td><td>&quot;Tunisia&quot;</td><td>&quot;3/27/2016 0:53…</td><td>0</td><td>&quot;A&quot;</td><td>30</td><td>12.0</td><td>12.0</td><td>1</td><td>&quot;SSS&quot;</td><td>0</td><td>&quot;A&quot;</td></tr><tr><td>80.23</td><td>31</td><td>68441.85</td><td>193.77</td><td>&quot;Monitored nati…</td><td>&quot;West Jodi&quot;</td><td>1</td><td>&quot;Nauru&quot;</td><td>&quot;4/4/2016 1:39&quot;</td><td>0</td><td>&quot;B&quot;</td><td>30</td><td>9.0</td><td>13.0</td><td>1</td><td>&quot;SSS&quot;</td><td>null</td><td>&quot;B&quot;</td></tr><tr><td>69.47</td><td>26</td><td>59785.94</td><td>236.5</td><td>&quot;Organic bottom…</td><td>&quot;Davidton&quot;</td><td>0</td><td>&quot;San Marino&quot;</td><td>&quot;3/13/2016 20:3…</td><td>0</td><td>&quot;A&quot;</td><td>20</td><td>11.0</td><td>11.0</td><td>1</td><td>&quot;SSS&quot;</td><td>0</td><td>&quot;A&quot;</td></tr><tr><td>74.15</td><td>29</td><td>54806.18</td><td>245.89</td><td>&quot;Triple-buffere…</td><td>&quot;West Terrifurt…</td><td>1</td><td>&quot;Italy&quot;</td><td>&quot;1/10/2016 2:31…</td><td>0</td><td>&quot;B&quot;</td><td>20</td><td>12.0</td><td>10.0</td><td>1</td><td>&quot;SSS&quot;</td><td>null</td><td>&quot;B&quot;</td></tr><tr><td>68.37</td><td>35</td><td>73889.99</td><td>225.58</td><td>&quot;Robust logisti…</td><td>&quot;South Manuel&quot;</td><td>0</td><td>&quot;Iceland&quot;</td><td>&quot;6/3/2016 3:36&quot;</td><td>0</td><td>&quot;A&quot;</td><td>30</td><td>11.0</td><td>14.0</td><td>1</td><td>&quot;SSS&quot;</td><td>0</td><td>&quot;A&quot;</td></tr></tbody></table></div>"
      ],
      "text/plain": [
       "shape: (5, 18)\n",
       "┌────────────┬─────┬───────────┬────────────┬───┬────────────┬────────────┬────────────┬───────────┐\n",
       "│ Daily Time ┆ Age ┆ Area      ┆ Daily      ┆ … ┆ Test_Const ┆ Test_Str_C ┆ Test_BadCo ┆ Test_Bina │\n",
       "│ Spent on   ┆ --- ┆ Income    ┆ Internet   ┆   ┆ ant        ┆ onstant    ┆ lumn       ┆ ry        │\n",
       "│ Site       ┆ i64 ┆ ---       ┆ Usage      ┆   ┆ ---        ┆ ---        ┆ ---        ┆ ---       │\n",
       "│ ---        ┆     ┆ f64       ┆ ---        ┆   ┆ i64        ┆ str        ┆ i64        ┆ str       │\n",
       "│ f64        ┆     ┆           ┆ f64        ┆   ┆            ┆            ┆            ┆           │\n",
       "╞════════════╪═════╪═══════════╪════════════╪═══╪════════════╪════════════╪════════════╪═══════════╡\n",
       "│ 68.95      ┆ 35  ┆ 61833.9   ┆ 256.09     ┆ … ┆ 1          ┆ SSS        ┆ 0          ┆ A         │\n",
       "│ 80.23      ┆ 31  ┆ 68441.85  ┆ 193.77     ┆ … ┆ 1          ┆ SSS        ┆ null       ┆ B         │\n",
       "│ 69.47      ┆ 26  ┆ 59785.94  ┆ 236.5      ┆ … ┆ 1          ┆ SSS        ┆ 0          ┆ A         │\n",
       "│ 74.15      ┆ 29  ┆ 54806.18  ┆ 245.89     ┆ … ┆ 1          ┆ SSS        ┆ null       ┆ B         │\n",
       "│ 68.37      ┆ 35  ┆ 73889.99  ┆ 225.58     ┆ … ┆ 1          ┆ SSS        ┆ 0          ┆ A         │\n",
       "└────────────┴─────┴───────────┴────────────┴───┴────────────┴────────────┴────────────┴───────────┘"
      ]
     },
     "execution_count": 3,
     "metadata": {},
     "output_type": "execute_result"
    }
   ],
   "source": [
    "df = pl.read_csv(\"../data/advertising.csv\")\n",
    "target = \"Clicked on Ad\"\n",
    "df.head() "
   ]
  },
  {
   "cell_type": "code",
   "execution_count": 4,
   "metadata": {},
   "outputs": [
    {
     "data": {
      "text/html": [
       "<div><style>\n",
       ".dataframe > thead > tr > th,\n",
       ".dataframe > tbody > tr > td {\n",
       "  text-align: right;\n",
       "}\n",
       "</style>\n",
       "<small>shape: (18, 17)</small><table border=\"1\" class=\"dataframe\"><thead><tr><th>column</th><th>is_binary</th><th>count</th><th>null_count</th><th>null_pct</th><th>n_unique</th><th>unique_pct</th><th>mean</th><th>std</th><th>min</th><th>max</th><th>25%</th><th>median</th><th>75%</th><th>skew</th><th>kurtosis</th><th>dtype</th></tr><tr><td>str</td><td>i32</td><td>f64</td><td>f64</td><td>f64</td><td>u32</td><td>f64</td><td>f64</td><td>f64</td><td>str</td><td>str</td><td>f64</td><td>f64</td><td>f64</td><td>f64</td><td>f64</td><td>str</td></tr></thead><tbody><tr><td>&quot;Daily Time Spe…</td><td>0</td><td>1000.0</td><td>0.0</td><td>0.0</td><td>900</td><td>0.9</td><td>65.0002</td><td>15.853615</td><td>&quot;32.6&quot;</td><td>&quot;91.43&quot;</td><td>51.38</td><td>68.215</td><td>78.57</td><td>-0.371203</td><td>-1.096058</td><td>&quot;numeric&quot;</td></tr><tr><td>&quot;Age&quot;</td><td>0</td><td>1000.0</td><td>0.0</td><td>0.0</td><td>43</td><td>0.043</td><td>36.009</td><td>8.785562</td><td>&quot;19.0&quot;</td><td>&quot;61.0&quot;</td><td>29.0</td><td>35.0</td><td>42.0</td><td>0.478423</td><td>-0.404518</td><td>&quot;numeric&quot;</td></tr><tr><td>&quot;Area Income&quot;</td><td>0</td><td>1000.0</td><td>7.0</td><td>0.007</td><td>994</td><td>0.994</td><td>54980.756103</td><td>13434.996236</td><td>&quot;13996.5&quot;</td><td>&quot;79484.8&quot;</td><td>47051.02</td><td>57009.76</td><td>65461.92</td><td>-0.648682</td><td>-0.110118</td><td>&quot;numeric&quot;</td></tr><tr><td>&quot;Daily Internet…</td><td>0</td><td>1000.0</td><td>11.0</td><td>0.011</td><td>957</td><td>0.957</td><td>180.024985</td><td>43.903142</td><td>&quot;104.78&quot;</td><td>&quot;269.96&quot;</td><td>138.71</td><td>183.42</td><td>218.79</td><td>-0.04022</td><td>-1.277134</td><td>&quot;numeric&quot;</td></tr><tr><td>&quot;Ad Topic Line&quot;</td><td>0</td><td>1000.0</td><td>0.0</td><td>0.0</td><td>1000</td><td>1.0</td><td>null</td><td>null</td><td>&quot;Adaptive 24hou…</td><td>&quot;Visionary reci…</td><td>null</td><td>null</td><td>null</td><td>null</td><td>null</td><td>&quot;string&quot;</td></tr><tr><td>&quot;City&quot;</td><td>0</td><td>1000.0</td><td>0.0</td><td>0.0</td><td>969</td><td>0.969</td><td>null</td><td>null</td><td>&quot;Adamsbury&quot;</td><td>&quot;Zacharyton&quot;</td><td>null</td><td>null</td><td>null</td><td>null</td><td>null</td><td>&quot;string&quot;</td></tr><tr><td>&quot;Male&quot;</td><td>1</td><td>1000.0</td><td>0.0</td><td>0.0</td><td>2</td><td>0.002</td><td>0.481</td><td>0.499889</td><td>&quot;0.0&quot;</td><td>&quot;1.0&quot;</td><td>0.0</td><td>0.0</td><td>1.0</td><td>0.076055</td><td>-1.994216</td><td>&quot;numeric&quot;</td></tr><tr><td>&quot;Country&quot;</td><td>0</td><td>1000.0</td><td>0.0</td><td>0.0</td><td>237</td><td>0.237</td><td>null</td><td>null</td><td>&quot;Afghanistan&quot;</td><td>&quot;Zimbabwe&quot;</td><td>null</td><td>null</td><td>null</td><td>null</td><td>null</td><td>&quot;string&quot;</td></tr><tr><td>&quot;Timestamp&quot;</td><td>0</td><td>1000.0</td><td>0.0</td><td>0.0</td><td>997</td><td>0.997</td><td>null</td><td>null</td><td>&quot;1/1/2016 15:14…</td><td>&quot;7/9/2016 16:23…</td><td>null</td><td>null</td><td>null</td><td>null</td><td>null</td><td>&quot;string&quot;</td></tr><tr><td>&quot;Clicked on Ad&quot;</td><td>1</td><td>1000.0</td><td>0.0</td><td>0.0</td><td>2</td><td>0.002</td><td>0.5</td><td>0.50025</td><td>&quot;0.0&quot;</td><td>&quot;1.0&quot;</td><td>0.0</td><td>0.5</td><td>1.0</td><td>0.0</td><td>-2.0</td><td>&quot;numeric&quot;</td></tr><tr><td>&quot;One_Hot_Test&quot;</td><td>0</td><td>1000.0</td><td>0.0</td><td>0.0</td><td>3</td><td>0.003</td><td>null</td><td>null</td><td>&quot;A&quot;</td><td>&quot;C&quot;</td><td>null</td><td>null</td><td>null</td><td>null</td><td>null</td><td>&quot;string&quot;</td></tr><tr><td>&quot;Age Band&quot;</td><td>0</td><td>1000.0</td><td>0.0</td><td>0.0</td><td>6</td><td>0.006</td><td>31.52</td><td>9.411598</td><td>&quot;10.0&quot;</td><td>&quot;60.0&quot;</td><td>20.0</td><td>30.0</td><td>40.0</td><td>0.421637</td><td>-0.385315</td><td>&quot;numeric&quot;</td></tr><tr><td>&quot;Daily Internet…</td><td>0</td><td>1000.0</td><td>11.0</td><td>0.011</td><td>10</td><td>0.01</td><td>8.496461</td><td>2.195698</td><td>&quot;5.0&quot;</td><td>&quot;13.0&quot;</td><td>6.0</td><td>9.0</td><td>10.0</td><td>-0.044608</td><td>-1.251112</td><td>&quot;numeric&quot;</td></tr><tr><td>&quot;Area Income Ba…</td><td>0</td><td>1000.0</td><td>7.0</td><td>0.007</td><td>15</td><td>0.015</td><td>10.510574</td><td>2.713121</td><td>&quot;2.0&quot;</td><td>&quot;15.0&quot;</td><td>9.0</td><td>11.0</td><td>13.0</td><td>-0.654392</td><td>-0.085426</td><td>&quot;numeric&quot;</td></tr><tr><td>&quot;Test_Constant&quot;</td><td>0</td><td>1000.0</td><td>0.0</td><td>0.0</td><td>1</td><td>0.001</td><td>1.0</td><td>0.0</td><td>&quot;1.0&quot;</td><td>&quot;1.0&quot;</td><td>1.0</td><td>1.0</td><td>1.0</td><td>NaN</td><td>NaN</td><td>&quot;numeric&quot;</td></tr><tr><td>&quot;Test_Str_Const…</td><td>0</td><td>1000.0</td><td>0.0</td><td>0.0</td><td>1</td><td>0.001</td><td>null</td><td>null</td><td>&quot;SSS&quot;</td><td>&quot;SSS&quot;</td><td>null</td><td>null</td><td>null</td><td>null</td><td>null</td><td>&quot;string&quot;</td></tr><tr><td>&quot;Test_BadColumn…</td><td>1</td><td>1000.0</td><td>481.0</td><td>0.481</td><td>2</td><td>0.002</td><td>0.0</td><td>0.0</td><td>&quot;0.0&quot;</td><td>&quot;0.0&quot;</td><td>0.0</td><td>0.0</td><td>0.0</td><td>NaN</td><td>NaN</td><td>&quot;numeric&quot;</td></tr><tr><td>&quot;Test_Binary&quot;</td><td>1</td><td>1000.0</td><td>0.0</td><td>0.0</td><td>2</td><td>0.002</td><td>null</td><td>null</td><td>&quot;A&quot;</td><td>&quot;B&quot;</td><td>null</td><td>null</td><td>null</td><td>null</td><td>null</td><td>&quot;string&quot;</td></tr></tbody></table></div>"
      ],
      "text/plain": [
       "shape: (18, 17)\n",
       "┌───────────────┬───────────┬────────┬────────────┬───┬──────────┬───────────┬───────────┬─────────┐\n",
       "│ column        ┆ is_binary ┆ count  ┆ null_count ┆ … ┆ 75%      ┆ skew      ┆ kurtosis  ┆ dtype   │\n",
       "│ ---           ┆ ---       ┆ ---    ┆ ---        ┆   ┆ ---      ┆ ---       ┆ ---       ┆ ---     │\n",
       "│ str           ┆ i32       ┆ f64    ┆ f64        ┆   ┆ f64      ┆ f64       ┆ f64       ┆ str     │\n",
       "╞═══════════════╪═══════════╪════════╪════════════╪═══╪══════════╪═══════════╪═══════════╪═════════╡\n",
       "│ Daily Time    ┆ 0         ┆ 1000.0 ┆ 0.0        ┆ … ┆ 78.57    ┆ -0.371203 ┆ -1.096058 ┆ numeric │\n",
       "│ Spent on Site ┆           ┆        ┆            ┆   ┆          ┆           ┆           ┆         │\n",
       "│ Age           ┆ 0         ┆ 1000.0 ┆ 0.0        ┆ … ┆ 42.0     ┆ 0.478423  ┆ -0.404518 ┆ numeric │\n",
       "│ Area Income   ┆ 0         ┆ 1000.0 ┆ 7.0        ┆ … ┆ 65461.92 ┆ -0.648682 ┆ -0.110118 ┆ numeric │\n",
       "│ Daily         ┆ 0         ┆ 1000.0 ┆ 11.0       ┆ … ┆ 218.79   ┆ -0.04022  ┆ -1.277134 ┆ numeric │\n",
       "│ Internet      ┆           ┆        ┆            ┆   ┆          ┆           ┆           ┆         │\n",
       "│ Usage         ┆           ┆        ┆            ┆   ┆          ┆           ┆           ┆         │\n",
       "│ …             ┆ …         ┆ …      ┆ …          ┆ … ┆ …        ┆ …         ┆ …         ┆ …       │\n",
       "│ Test_Constant ┆ 0         ┆ 1000.0 ┆ 0.0        ┆ … ┆ 1.0      ┆ NaN       ┆ NaN       ┆ numeric │\n",
       "│ Test_Str_Cons ┆ 0         ┆ 1000.0 ┆ 0.0        ┆ … ┆ null     ┆ null      ┆ null      ┆ string  │\n",
       "│ tant          ┆           ┆        ┆            ┆   ┆          ┆           ┆           ┆         │\n",
       "│ Test_BadColum ┆ 1         ┆ 1000.0 ┆ 481.0      ┆ … ┆ 0.0      ┆ NaN       ┆ NaN       ┆ numeric │\n",
       "│ n             ┆           ┆        ┆            ┆   ┆          ┆           ┆           ┆         │\n",
       "│ Test_Binary   ┆ 1         ┆ 1000.0 ┆ 0.0        ┆ … ┆ null     ┆ null      ┆ null      ┆ string  │\n",
       "└───────────────┴───────────┴────────┴────────────┴───┴──────────┴───────────┴───────────┴─────────┘"
      ]
     },
     "execution_count": 4,
     "metadata": {},
     "output_type": "execute_result"
    }
   ],
   "source": [
    "describe(df)"
   ]
  },
  {
   "cell_type": "code",
   "execution_count": 5,
   "metadata": {},
   "outputs": [
    {
     "data": {
      "text/html": [
       "<div><style>\n",
       ".dataframe > thead > tr > th,\n",
       ".dataframe > tbody > tr > td {\n",
       "  text-align: right;\n",
       "}\n",
       "</style>\n",
       "<small>shape: (7, 16)</small><table border=\"1\" class=\"dataframe\"><thead><tr><th>features</th><th>null_count</th><th>null_pct</th><th>min</th><th>max</th><th>mode</th><th>min_byte_len</th><th>max_byte_len</th><th>avg_byte_len</th><th>median_byte_len</th><th>avg_space_cnt</th><th>avg_digit_cnt</th><th>avg_cap_cnt</th><th>avg_lower_cnt</th><th>total_A_count</th><th>total_Visionary_count</th></tr><tr><td>str</td><td>u32</td><td>f64</td><td>str</td><td>str</td><td>str</td><td>u32</td><td>u32</td><td>f64</td><td>f64</td><td>f64</td><td>f64</td><td>f64</td><td>f64</td><td>u32</td><td>u32</td></tr></thead><tbody><tr><td>&quot;Ad Topic Line&quot;</td><td>0</td><td>0.0</td><td>&quot;Adaptive 24hou…</td><td>&quot;Visionary reci…</td><td>&quot;Seamless impac…</td><td>17</td><td>55</td><td>33.394</td><td>33.0</td><td>2.219</td><td>0.087</td><td>1.108</td><td>29.221</td><td>60</td><td>7</td></tr><tr><td>&quot;City&quot;</td><td>0</td><td>0.0</td><td>&quot;Adamsbury&quot;</td><td>&quot;Zacharyton&quot;</td><td>&quot;Lisamouth&quot;</td><td>5</td><td>23</td><td>11.887</td><td>11.0</td><td>0.471</td><td>0.0</td><td>1.471</td><td>9.945</td><td>65</td><td>0</td></tr><tr><td>&quot;Country&quot;</td><td>0</td><td>0.0</td><td>&quot;Afghanistan&quot;</td><td>&quot;Zimbabwe&quot;</td><td>&quot;France&quot;</td><td>4</td><td>51</td><td>10.309</td><td>8.0</td><td>0.494</td><td>0.006</td><td>1.424</td><td>8.328</td><td>107</td><td>0</td></tr><tr><td>&quot;Timestamp&quot;</td><td>0</td><td>0.0</td><td>&quot;1/1/2016 15:14…</td><td>&quot;7/9/2016 16:23…</td><td>&quot;5/30/2016 8:02…</td><td>13</td><td>15</td><td>14.273</td><td>14.0</td><td>1.0</td><td>10.273</td><td>0.0</td><td>0.0</td><td>0</td><td>0</td></tr><tr><td>&quot;One_Hot_Test&quot;</td><td>0</td><td>0.0</td><td>&quot;A&quot;</td><td>&quot;C&quot;</td><td>&quot;A&quot;</td><td>1</td><td>1</td><td>1.0</td><td>1.0</td><td>0.0</td><td>0.0</td><td>1.0</td><td>0.0</td><td>783</td><td>0</td></tr><tr><td>&quot;Test_Str_Const…</td><td>0</td><td>0.0</td><td>&quot;SSS&quot;</td><td>&quot;SSS&quot;</td><td>&quot;SSS&quot;</td><td>3</td><td>3</td><td>3.0</td><td>3.0</td><td>0.0</td><td>0.0</td><td>3.0</td><td>0.0</td><td>0</td><td>0</td></tr><tr><td>&quot;Test_Binary&quot;</td><td>0</td><td>0.0</td><td>&quot;A&quot;</td><td>&quot;B&quot;</td><td>&quot;A&quot;</td><td>1</td><td>1</td><td>1.0</td><td>1.0</td><td>0.0</td><td>0.0</td><td>1.0</td><td>0.0</td><td>519</td><td>0</td></tr></tbody></table></div>"
      ],
      "text/plain": [
       "shape: (7, 16)\n",
       "┌──────────┬──────────┬──────────┬──────────┬───┬───────────┬────────────┬────────────┬────────────┐\n",
       "│ features ┆ null_cou ┆ null_pct ┆ min      ┆ … ┆ avg_cap_c ┆ avg_lower_ ┆ total_A_co ┆ total_Visi │\n",
       "│ ---      ┆ nt       ┆ ---      ┆ ---      ┆   ┆ nt        ┆ cnt        ┆ unt        ┆ onary_coun │\n",
       "│ str      ┆ ---      ┆ f64      ┆ str      ┆   ┆ ---       ┆ ---        ┆ ---        ┆ t          │\n",
       "│          ┆ u32      ┆          ┆          ┆   ┆ f64       ┆ f64        ┆ u32        ┆ ---        │\n",
       "│          ┆          ┆          ┆          ┆   ┆           ┆            ┆            ┆ u32        │\n",
       "╞══════════╪══════════╪══════════╪══════════╪═══╪═══════════╪════════════╪════════════╪════════════╡\n",
       "│ Ad Topic ┆ 0        ┆ 0.0      ┆ Adaptive ┆ … ┆ 1.108     ┆ 29.221     ┆ 60         ┆ 7          │\n",
       "│ Line     ┆          ┆          ┆ 24hour   ┆   ┆           ┆            ┆            ┆            │\n",
       "│          ┆          ┆          ┆ Graphic  ┆   ┆           ┆            ┆            ┆            │\n",
       "│          ┆          ┆          ┆ Interfac ┆   ┆           ┆            ┆            ┆            │\n",
       "│          ┆          ┆          ┆ …        ┆   ┆           ┆            ┆            ┆            │\n",
       "│ City     ┆ 0        ┆ 0.0      ┆ Adamsbur ┆ … ┆ 1.471     ┆ 9.945      ┆ 65         ┆ 0          │\n",
       "│          ┆          ┆          ┆ y        ┆   ┆           ┆            ┆            ┆            │\n",
       "│ Country  ┆ 0        ┆ 0.0      ┆ Afghanis ┆ … ┆ 1.424     ┆ 8.328      ┆ 107        ┆ 0          │\n",
       "│          ┆          ┆          ┆ tan      ┆   ┆           ┆            ┆            ┆            │\n",
       "│ Timestam ┆ 0        ┆ 0.0      ┆ 1/1/2016 ┆ … ┆ 0.0       ┆ 0.0        ┆ 0          ┆ 0          │\n",
       "│ p        ┆          ┆          ┆ 15:14    ┆   ┆           ┆            ┆            ┆            │\n",
       "│ One_Hot_ ┆ 0        ┆ 0.0      ┆ A        ┆ … ┆ 1.0       ┆ 0.0        ┆ 783        ┆ 0          │\n",
       "│ Test     ┆          ┆          ┆          ┆   ┆           ┆            ┆            ┆            │\n",
       "│ Test_Str ┆ 0        ┆ 0.0      ┆ SSS      ┆ … ┆ 3.0       ┆ 0.0        ┆ 0          ┆ 0          │\n",
       "│ _Constan ┆          ┆          ┆          ┆   ┆           ┆            ┆            ┆            │\n",
       "│ t        ┆          ┆          ┆          ┆   ┆           ┆            ┆            ┆            │\n",
       "│ Test_Bin ┆ 0        ┆ 0.0      ┆ A        ┆ … ┆ 1.0       ┆ 0.0        ┆ 519        ┆ 0          │\n",
       "│ ary      ┆          ┆          ┆          ┆   ┆           ┆            ┆            ┆            │\n",
       "└──────────┴──────────┴──────────┴──────────┴───┴───────────┴────────────┴────────────┴────────────┘"
      ]
     },
     "execution_count": 5,
     "metadata": {},
     "output_type": "execute_result"
    }
   ],
   "source": [
    "describe_str(df, words_to_count=[\"A\", \"Visionary\"])"
   ]
  },
  {
   "cell_type": "code",
   "execution_count": 6,
   "metadata": {},
   "outputs": [
    {
     "name": "stderr",
     "output_type": "stream",
     "text": [
      "INFO:dsds.prescreen:Date Inferral is error prone due to the huge variety of date formats. Please use with caution.\n",
      "INFO:dsds.prescreen:The following columns are dropped because they are dates. ['Timestamp'].\n",
      "Removed a total of 1 columns.\n"
     ]
    }
   ],
   "source": [
    "df = date_removal(df)"
   ]
  },
  {
   "cell_type": "code",
   "execution_count": 7,
   "metadata": {},
   "outputs": [
    {
     "data": {
      "text/html": [
       "<div><style>\n",
       ".dataframe > thead > tr > th,\n",
       ".dataframe > tbody > tr > td {\n",
       "  text-align: right;\n",
       "}\n",
       "</style>\n",
       "<small>shape: (5, 17)</small><table border=\"1\" class=\"dataframe\"><thead><tr><th>Daily Time Spent on Site</th><th>Age</th><th>Area Income</th><th>Daily Internet Usage</th><th>Ad Topic Line</th><th>City</th><th>Male</th><th>Country</th><th>Clicked on Ad</th><th>One_Hot_Test</th><th>Age Band</th><th>Daily Internet Usage Band</th><th>Area Income Band</th><th>Test_Constant</th><th>Test_Str_Constant</th><th>Test_BadColumn</th><th>Test_Binary</th></tr><tr><td>f64</td><td>i64</td><td>f64</td><td>f64</td><td>str</td><td>str</td><td>i64</td><td>str</td><td>i64</td><td>str</td><td>i64</td><td>f64</td><td>f64</td><td>i64</td><td>str</td><td>i64</td><td>str</td></tr></thead><tbody><tr><td>68.95</td><td>35</td><td>61833.9</td><td>256.09</td><td>&quot;Cloned 5thgene…</td><td>&quot;Wrightburgh&quot;</td><td>0</td><td>&quot;Tunisia&quot;</td><td>0</td><td>&quot;A&quot;</td><td>30</td><td>12.0</td><td>12.0</td><td>1</td><td>&quot;SSS&quot;</td><td>0</td><td>&quot;A&quot;</td></tr><tr><td>80.23</td><td>31</td><td>68441.85</td><td>193.77</td><td>&quot;Monitored nati…</td><td>&quot;West Jodi&quot;</td><td>1</td><td>&quot;Nauru&quot;</td><td>0</td><td>&quot;B&quot;</td><td>30</td><td>9.0</td><td>13.0</td><td>1</td><td>&quot;SSS&quot;</td><td>null</td><td>&quot;B&quot;</td></tr><tr><td>69.47</td><td>26</td><td>59785.94</td><td>236.5</td><td>&quot;Organic bottom…</td><td>&quot;Davidton&quot;</td><td>0</td><td>&quot;San Marino&quot;</td><td>0</td><td>&quot;A&quot;</td><td>20</td><td>11.0</td><td>11.0</td><td>1</td><td>&quot;SSS&quot;</td><td>0</td><td>&quot;A&quot;</td></tr><tr><td>74.15</td><td>29</td><td>54806.18</td><td>245.89</td><td>&quot;Triple-buffere…</td><td>&quot;West Terrifurt…</td><td>1</td><td>&quot;Italy&quot;</td><td>0</td><td>&quot;B&quot;</td><td>20</td><td>12.0</td><td>10.0</td><td>1</td><td>&quot;SSS&quot;</td><td>null</td><td>&quot;B&quot;</td></tr><tr><td>68.37</td><td>35</td><td>73889.99</td><td>225.58</td><td>&quot;Robust logisti…</td><td>&quot;South Manuel&quot;</td><td>0</td><td>&quot;Iceland&quot;</td><td>0</td><td>&quot;A&quot;</td><td>30</td><td>11.0</td><td>14.0</td><td>1</td><td>&quot;SSS&quot;</td><td>0</td><td>&quot;A&quot;</td></tr></tbody></table></div>"
      ],
      "text/plain": [
       "shape: (5, 17)\n",
       "┌────────────┬─────┬───────────┬────────────┬───┬────────────┬────────────┬────────────┬───────────┐\n",
       "│ Daily Time ┆ Age ┆ Area      ┆ Daily      ┆ … ┆ Test_Const ┆ Test_Str_C ┆ Test_BadCo ┆ Test_Bina │\n",
       "│ Spent on   ┆ --- ┆ Income    ┆ Internet   ┆   ┆ ant        ┆ onstant    ┆ lumn       ┆ ry        │\n",
       "│ Site       ┆ i64 ┆ ---       ┆ Usage      ┆   ┆ ---        ┆ ---        ┆ ---        ┆ ---       │\n",
       "│ ---        ┆     ┆ f64       ┆ ---        ┆   ┆ i64        ┆ str        ┆ i64        ┆ str       │\n",
       "│ f64        ┆     ┆           ┆ f64        ┆   ┆            ┆            ┆            ┆           │\n",
       "╞════════════╪═════╪═══════════╪════════════╪═══╪════════════╪════════════╪════════════╪═══════════╡\n",
       "│ 68.95      ┆ 35  ┆ 61833.9   ┆ 256.09     ┆ … ┆ 1          ┆ SSS        ┆ 0          ┆ A         │\n",
       "│ 80.23      ┆ 31  ┆ 68441.85  ┆ 193.77     ┆ … ┆ 1          ┆ SSS        ┆ null       ┆ B         │\n",
       "│ 69.47      ┆ 26  ┆ 59785.94  ┆ 236.5      ┆ … ┆ 1          ┆ SSS        ┆ 0          ┆ A         │\n",
       "│ 74.15      ┆ 29  ┆ 54806.18  ┆ 245.89     ┆ … ┆ 1          ┆ SSS        ┆ null       ┆ B         │\n",
       "│ 68.37      ┆ 35  ┆ 73889.99  ┆ 225.58     ┆ … ┆ 1          ┆ SSS        ┆ 0          ┆ A         │\n",
       "└────────────┴─────┴───────────┴────────────┴───┴────────────┴────────────┴────────────┴───────────┘"
      ]
     },
     "execution_count": 7,
     "metadata": {},
     "output_type": "execute_result"
    }
   ],
   "source": [
    "df.head()"
   ]
  },
  {
   "cell_type": "code",
   "execution_count": 8,
   "metadata": {},
   "outputs": [
    {
     "name": "stderr",
     "output_type": "stream",
     "text": [
      "INFO:dsds.prescreen:The following columns are dropped because they have lower than 0.5 variance. ['Male', 'Test_Constant', 'Test_BadColumn'].\n",
      "Removed a total of 3 columns.\n"
     ]
    }
   ],
   "source": [
    "df = var_removal(df, threshold=0.5, target=target)"
   ]
  },
  {
   "cell_type": "code",
   "execution_count": 9,
   "metadata": {},
   "outputs": [
    {
     "name": "stderr",
     "output_type": "stream",
     "text": [
      "INFO:dsds.prescreen:The following columns are dropped because they are constants. ['Test_Str_Constant'].\n",
      "Removed a total of 1 columns.\n"
     ]
    }
   ],
   "source": [
    "df = constant_removal(df)"
   ]
  },
  {
   "cell_type": "code",
   "execution_count": 10,
   "metadata": {},
   "outputs": [],
   "source": [
    "df = binary_encode(df, exclude = [target])"
   ]
  },
  {
   "cell_type": "code",
   "execution_count": 11,
   "metadata": {},
   "outputs": [
    {
     "data": {
      "text/html": [
       "<div><style>\n",
       ".dataframe > thead > tr > th,\n",
       ".dataframe > tbody > tr > td {\n",
       "  text-align: right;\n",
       "}\n",
       "</style>\n",
       "<small>shape: (5, 13)</small><table border=\"1\" class=\"dataframe\"><thead><tr><th>Daily Time Spent on Site</th><th>Age</th><th>Area Income</th><th>Daily Internet Usage</th><th>Ad Topic Line</th><th>City</th><th>Country</th><th>Clicked on Ad</th><th>One_Hot_Test</th><th>Age Band</th><th>Daily Internet Usage Band</th><th>Area Income Band</th><th>Test_Binary</th></tr><tr><td>f64</td><td>i64</td><td>f64</td><td>f64</td><td>str</td><td>str</td><td>str</td><td>i64</td><td>str</td><td>i64</td><td>f64</td><td>f64</td><td>u8</td></tr></thead><tbody><tr><td>68.95</td><td>35</td><td>61833.9</td><td>256.09</td><td>&quot;Cloned 5thgene…</td><td>&quot;Wrightburgh&quot;</td><td>&quot;Tunisia&quot;</td><td>0</td><td>&quot;A&quot;</td><td>30</td><td>12.0</td><td>12.0</td><td>0</td></tr><tr><td>80.23</td><td>31</td><td>68441.85</td><td>193.77</td><td>&quot;Monitored nati…</td><td>&quot;West Jodi&quot;</td><td>&quot;Nauru&quot;</td><td>0</td><td>&quot;B&quot;</td><td>30</td><td>9.0</td><td>13.0</td><td>1</td></tr><tr><td>69.47</td><td>26</td><td>59785.94</td><td>236.5</td><td>&quot;Organic bottom…</td><td>&quot;Davidton&quot;</td><td>&quot;San Marino&quot;</td><td>0</td><td>&quot;A&quot;</td><td>20</td><td>11.0</td><td>11.0</td><td>0</td></tr><tr><td>74.15</td><td>29</td><td>54806.18</td><td>245.89</td><td>&quot;Triple-buffere…</td><td>&quot;West Terrifurt…</td><td>&quot;Italy&quot;</td><td>0</td><td>&quot;B&quot;</td><td>20</td><td>12.0</td><td>10.0</td><td>1</td></tr><tr><td>68.37</td><td>35</td><td>73889.99</td><td>225.58</td><td>&quot;Robust logisti…</td><td>&quot;South Manuel&quot;</td><td>&quot;Iceland&quot;</td><td>0</td><td>&quot;A&quot;</td><td>30</td><td>11.0</td><td>14.0</td><td>0</td></tr></tbody></table></div>"
      ],
      "text/plain": [
       "shape: (5, 13)\n",
       "┌────────────┬─────┬───────────┬────────────┬───┬──────────┬────────────┬────────────┬─────────────┐\n",
       "│ Daily Time ┆ Age ┆ Area      ┆ Daily      ┆ … ┆ Age Band ┆ Daily      ┆ Area       ┆ Test_Binary │\n",
       "│ Spent on   ┆ --- ┆ Income    ┆ Internet   ┆   ┆ ---      ┆ Internet   ┆ Income     ┆ ---         │\n",
       "│ Site       ┆ i64 ┆ ---       ┆ Usage      ┆   ┆ i64      ┆ Usage Band ┆ Band       ┆ u8          │\n",
       "│ ---        ┆     ┆ f64       ┆ ---        ┆   ┆          ┆ ---        ┆ ---        ┆             │\n",
       "│ f64        ┆     ┆           ┆ f64        ┆   ┆          ┆ f64        ┆ f64        ┆             │\n",
       "╞════════════╪═════╪═══════════╪════════════╪═══╪══════════╪════════════╪════════════╪═════════════╡\n",
       "│ 68.95      ┆ 35  ┆ 61833.9   ┆ 256.09     ┆ … ┆ 30       ┆ 12.0       ┆ 12.0       ┆ 0           │\n",
       "│ 80.23      ┆ 31  ┆ 68441.85  ┆ 193.77     ┆ … ┆ 30       ┆ 9.0        ┆ 13.0       ┆ 1           │\n",
       "│ 69.47      ┆ 26  ┆ 59785.94  ┆ 236.5      ┆ … ┆ 20       ┆ 11.0       ┆ 11.0       ┆ 0           │\n",
       "│ 74.15      ┆ 29  ┆ 54806.18  ┆ 245.89     ┆ … ┆ 20       ┆ 12.0       ┆ 10.0       ┆ 1           │\n",
       "│ 68.37      ┆ 35  ┆ 73889.99  ┆ 225.58     ┆ … ┆ 30       ┆ 11.0       ┆ 14.0       ┆ 0           │\n",
       "└────────────┴─────┴───────────┴────────────┴───┴──────────┴────────────┴────────────┴─────────────┘"
      ]
     },
     "execution_count": 11,
     "metadata": {},
     "output_type": "execute_result"
    }
   ],
   "source": [
    "df.head()"
   ]
  },
  {
   "cell_type": "code",
   "execution_count": 12,
   "metadata": {},
   "outputs": [
    {
     "data": {
      "text/html": [
       "<div><style>\n",
       ".dataframe > thead > tr > th,\n",
       ".dataframe > tbody > tr > td {\n",
       "  text-align: right;\n",
       "}\n",
       "</style>\n",
       "<small>shape: (1_000, 13)</small><table border=\"1\" class=\"dataframe\"><thead><tr><th>Daily Time Spent on Site</th><th>Age</th><th>Area Income</th><th>Daily Internet Usage</th><th>Ad Topic Line</th><th>City</th><th>Country</th><th>Clicked on Ad</th><th>One_Hot_Test</th><th>Age Band</th><th>Daily Internet Usage Band</th><th>Area Income Band</th><th>Test_Binary</th></tr><tr><td>f64</td><td>i64</td><td>f64</td><td>f64</td><td>str</td><td>str</td><td>str</td><td>i64</td><td>str</td><td>i64</td><td>f64</td><td>f64</td><td>u8</td></tr></thead><tbody><tr><td>68.95</td><td>35</td><td>61833.9</td><td>256.09</td><td>&quot;Cloned 5thgene…</td><td>&quot;Wrightburgh&quot;</td><td>&quot;Tunisia&quot;</td><td>0</td><td>&quot;A&quot;</td><td>30</td><td>12.0</td><td>12.0</td><td>0</td></tr><tr><td>80.23</td><td>31</td><td>68441.85</td><td>193.77</td><td>&quot;Monitored nati…</td><td>&quot;West Jodi&quot;</td><td>&quot;Nauru&quot;</td><td>0</td><td>&quot;B&quot;</td><td>30</td><td>9.0</td><td>13.0</td><td>1</td></tr><tr><td>69.47</td><td>26</td><td>59785.94</td><td>236.5</td><td>&quot;Organic bottom…</td><td>&quot;Davidton&quot;</td><td>&quot;San Marino&quot;</td><td>0</td><td>&quot;A&quot;</td><td>20</td><td>11.0</td><td>11.0</td><td>0</td></tr><tr><td>74.15</td><td>29</td><td>54806.18</td><td>245.89</td><td>&quot;Triple-buffere…</td><td>&quot;West Terrifurt…</td><td>&quot;Italy&quot;</td><td>0</td><td>&quot;B&quot;</td><td>20</td><td>12.0</td><td>10.0</td><td>1</td></tr><tr><td>68.37</td><td>35</td><td>73889.99</td><td>225.58</td><td>&quot;Robust logisti…</td><td>&quot;South Manuel&quot;</td><td>&quot;Iceland&quot;</td><td>0</td><td>&quot;A&quot;</td><td>30</td><td>11.0</td><td>14.0</td><td>0</td></tr><tr><td>59.99</td><td>23</td><td>59761.56</td><td>226.74</td><td>&quot;Sharable clien…</td><td>&quot;Jamieberg&quot;</td><td>&quot;Norway&quot;</td><td>0</td><td>&quot;B&quot;</td><td>20</td><td>11.0</td><td>11.0</td><td>1</td></tr><tr><td>88.91</td><td>33</td><td>54980.756103</td><td>208.36</td><td>&quot;Enhanced dedic…</td><td>&quot;Brandonstad&quot;</td><td>&quot;Myanmar&quot;</td><td>0</td><td>&quot;A&quot;</td><td>30</td><td>10.0</td><td>11.0</td><td>0</td></tr><tr><td>66.0</td><td>48</td><td>24593.33</td><td>131.76</td><td>&quot;Reactive local…</td><td>&quot;Port Jefferybu…</td><td>&quot;Australia&quot;</td><td>1</td><td>&quot;A&quot;</td><td>40</td><td>6.0</td><td>4.0</td><td>1</td></tr><tr><td>74.53</td><td>30</td><td>68862.0</td><td>221.51</td><td>&quot;Configurable c…</td><td>&quot;West Colin&quot;</td><td>&quot;Grenada&quot;</td><td>0</td><td>&quot;A&quot;</td><td>30</td><td>11.0</td><td>13.0</td><td>1</td></tr><tr><td>69.88</td><td>20</td><td>55642.32</td><td>183.82</td><td>&quot;Mandatory homo…</td><td>&quot;Ramirezton&quot;</td><td>&quot;Ghana&quot;</td><td>0</td><td>&quot;A&quot;</td><td>20</td><td>9.0</td><td>11.0</td><td>1</td></tr><tr><td>47.64</td><td>49</td><td>45632.51</td><td>122.02</td><td>&quot;Centralized ne…</td><td>&quot;West Brandonto…</td><td>&quot;Qatar&quot;</td><td>1</td><td>&quot;C&quot;</td><td>40</td><td>6.0</td><td>9.0</td><td>0</td></tr><tr><td>83.07</td><td>37</td><td>54980.756103</td><td>230.87</td><td>&quot;Team-oriented …</td><td>&quot;East Theresash…</td><td>&quot;Burundi&quot;</td><td>0</td><td>&quot;A&quot;</td><td>30</td><td>11.0</td><td>11.0</td><td>1</td></tr><tr><td>&hellip;</td><td>&hellip;</td><td>&hellip;</td><td>&hellip;</td><td>&hellip;</td><td>&hellip;</td><td>&hellip;</td><td>&hellip;</td><td>&hellip;</td><td>&hellip;</td><td>&hellip;</td><td>&hellip;</td><td>&hellip;</td></tr><tr><td>89.71</td><td>48</td><td>51501.38</td><td>204.4</td><td>&quot;Versatile loca…</td><td>&quot;Sarafurt&quot;</td><td>&quot;Bahrain&quot;</td><td>0</td><td>&quot;A&quot;</td><td>40</td><td>10.0</td><td>10.0</td><td>1</td></tr><tr><td>70.96</td><td>31</td><td>55187.85</td><td>256.4</td><td>&quot;Ameliorated us…</td><td>&quot;South Denise&quot;</td><td>&quot;Saint Pierre a…</td><td>0</td><td>&quot;B&quot;</td><td>30</td><td>12.0</td><td>11.0</td><td>0</td></tr><tr><td>35.79</td><td>44</td><td>33813.08</td><td>165.62</td><td>&quot;Enterprise-wid…</td><td>&quot;North Katie&quot;</td><td>&quot;Tonga&quot;</td><td>1</td><td>&quot;A&quot;</td><td>40</td><td>8.0</td><td>6.0</td><td>1</td></tr><tr><td>38.96</td><td>38</td><td>36497.22</td><td>140.67</td><td>&quot;Versatile miss…</td><td>&quot;Mauricefurt&quot;</td><td>&quot;Comoros&quot;</td><td>1</td><td>&quot;A&quot;</td><td>30</td><td>7.0</td><td>7.0</td><td>1</td></tr><tr><td>69.17</td><td>40</td><td>66193.81</td><td>123.62</td><td>&quot;Extended leadi…</td><td>&quot;New Patrick&quot;</td><td>&quot;Montenegro&quot;</td><td>1</td><td>&quot;B&quot;</td><td>40</td><td>6.0</td><td>13.0</td><td>0</td></tr><tr><td>64.2</td><td>27</td><td>66200.96</td><td>227.63</td><td>&quot;Phased zero to…</td><td>&quot;Edwardsmouth&quot;</td><td>&quot;Isle of Man&quot;</td><td>0</td><td>&quot;A&quot;</td><td>20</td><td>11.0</td><td>13.0</td><td>1</td></tr><tr><td>43.7</td><td>28</td><td>63126.96</td><td>173.01</td><td>&quot;Front-line bif…</td><td>&quot;Nicholasland&quot;</td><td>&quot;Mayotte&quot;</td><td>1</td><td>&quot;A&quot;</td><td>20</td><td>8.0</td><td>12.0</td><td>0</td></tr><tr><td>72.97</td><td>30</td><td>71384.57</td><td>208.58</td><td>&quot;Fundamental mo…</td><td>&quot;Duffystad&quot;</td><td>&quot;Lebanon&quot;</td><td>1</td><td>&quot;A&quot;</td><td>30</td><td>10.0</td><td>14.0</td><td>1</td></tr><tr><td>51.3</td><td>45</td><td>67782.17</td><td>134.42</td><td>&quot;Grass-roots co…</td><td>&quot;New Darlene&quot;</td><td>&quot;Bosnia and Her…</td><td>1</td><td>&quot;B&quot;</td><td>40</td><td>6.0</td><td>13.0</td><td>1</td></tr><tr><td>51.63</td><td>51</td><td>42415.72</td><td>120.37</td><td>&quot;Expanded intan…</td><td>&quot;South Jessica&quot;</td><td>&quot;Mongolia&quot;</td><td>1</td><td>&quot;C&quot;</td><td>50</td><td>6.0</td><td>8.0</td><td>1</td></tr><tr><td>55.55</td><td>19</td><td>41920.79</td><td>187.95</td><td>&quot;Proactive band…</td><td>&quot;West Steven&quot;</td><td>&quot;Guatemala&quot;</td><td>0</td><td>&quot;A&quot;</td><td>10</td><td>9.0</td><td>8.0</td><td>0</td></tr><tr><td>45.01</td><td>26</td><td>29875.8</td><td>178.35</td><td>&quot;Virtual 5thgen…</td><td>&quot;Ronniemouth&quot;</td><td>&quot;Brazil&quot;</td><td>1</td><td>&quot;B&quot;</td><td>20</td><td>8.0</td><td>5.0</td><td>0</td></tr></tbody></table></div>"
      ],
      "text/plain": [
       "shape: (1_000, 13)\n",
       "┌────────────┬─────┬───────────┬────────────┬───┬──────────┬────────────┬────────────┬─────────────┐\n",
       "│ Daily Time ┆ Age ┆ Area      ┆ Daily      ┆ … ┆ Age Band ┆ Daily      ┆ Area       ┆ Test_Binary │\n",
       "│ Spent on   ┆ --- ┆ Income    ┆ Internet   ┆   ┆ ---      ┆ Internet   ┆ Income     ┆ ---         │\n",
       "│ Site       ┆ i64 ┆ ---       ┆ Usage      ┆   ┆ i64      ┆ Usage Band ┆ Band       ┆ u8          │\n",
       "│ ---        ┆     ┆ f64       ┆ ---        ┆   ┆          ┆ ---        ┆ ---        ┆             │\n",
       "│ f64        ┆     ┆           ┆ f64        ┆   ┆          ┆ f64        ┆ f64        ┆             │\n",
       "╞════════════╪═════╪═══════════╪════════════╪═══╪══════════╪════════════╪════════════╪═════════════╡\n",
       "│ 68.95      ┆ 35  ┆ 61833.9   ┆ 256.09     ┆ … ┆ 30       ┆ 12.0       ┆ 12.0       ┆ 0           │\n",
       "│ 80.23      ┆ 31  ┆ 68441.85  ┆ 193.77     ┆ … ┆ 30       ┆ 9.0        ┆ 13.0       ┆ 1           │\n",
       "│ 69.47      ┆ 26  ┆ 59785.94  ┆ 236.5      ┆ … ┆ 20       ┆ 11.0       ┆ 11.0       ┆ 0           │\n",
       "│ 74.15      ┆ 29  ┆ 54806.18  ┆ 245.89     ┆ … ┆ 20       ┆ 12.0       ┆ 10.0       ┆ 1           │\n",
       "│ …          ┆ …   ┆ …         ┆ …          ┆ … ┆ …        ┆ …          ┆ …          ┆ …           │\n",
       "│ 51.3       ┆ 45  ┆ 67782.17  ┆ 134.42     ┆ … ┆ 40       ┆ 6.0        ┆ 13.0       ┆ 1           │\n",
       "│ 51.63      ┆ 51  ┆ 42415.72  ┆ 120.37     ┆ … ┆ 50       ┆ 6.0        ┆ 8.0        ┆ 1           │\n",
       "│ 55.55      ┆ 19  ┆ 41920.79  ┆ 187.95     ┆ … ┆ 10       ┆ 9.0        ┆ 8.0        ┆ 0           │\n",
       "│ 45.01      ┆ 26  ┆ 29875.8   ┆ 178.35     ┆ … ┆ 20       ┆ 8.0        ┆ 5.0        ┆ 0           │\n",
       "└────────────┴─────┴───────────┴────────────┴───┴──────────┴────────────┴────────────┴─────────────┘"
      ]
     },
     "execution_count": 12,
     "metadata": {},
     "output_type": "execute_result"
    }
   ],
   "source": [
    "# Second way (imo, better) to interactive with TransformationResult objects\n",
    "df = impute(df, [\"Area Income\"], \"mean\")\n",
    "df = impute(df, [\"Daily Internet Usage\", \"Daily Internet Usage Band\", \"Area Income Band\"], \"median\")\n",
    "df "
   ]
  },
  {
   "cell_type": "code",
   "execution_count": 13,
   "metadata": {},
   "outputs": [
    {
     "data": {
      "text/html": [
       "<div><style>\n",
       ".dataframe > thead > tr > th,\n",
       ".dataframe > tbody > tr > td {\n",
       "  text-align: right;\n",
       "}\n",
       "</style>\n",
       "<small>shape: (1_000, 13)</small><table border=\"1\" class=\"dataframe\"><thead><tr><th>Daily Time Spent on Site</th><th>Age</th><th>Area Income</th><th>Daily Internet Usage</th><th>Ad Topic Line</th><th>City</th><th>Country</th><th>Clicked on Ad</th><th>One_Hot_Test</th><th>Age Band</th><th>Daily Internet Usage Band</th><th>Area Income Band</th><th>Test_Binary</th></tr><tr><td>f64</td><td>i64</td><td>f64</td><td>f64</td><td>str</td><td>str</td><td>str</td><td>i64</td><td>str</td><td>i64</td><td>f64</td><td>f64</td><td>u8</td></tr></thead><tbody><tr><td>68.95</td><td>35</td><td>0.511893</td><td>1.74127</td><td>&quot;Cloned 5thgene…</td><td>&quot;Wrightburgh&quot;</td><td>&quot;Tunisia&quot;</td><td>0</td><td>&quot;A&quot;</td><td>30</td><td>12.0</td><td>12.0</td><td>0</td></tr><tr><td>80.23</td><td>31</td><td>1.005471</td><td>0.313948</td><td>&quot;Monitored nati…</td><td>&quot;West Jodi&quot;</td><td>&quot;Nauru&quot;</td><td>0</td><td>&quot;B&quot;</td><td>30</td><td>9.0</td><td>13.0</td><td>1</td></tr><tr><td>69.47</td><td>26</td><td>0.358921</td><td>1.292598</td><td>&quot;Organic bottom…</td><td>&quot;Davidton&quot;</td><td>&quot;San Marino&quot;</td><td>0</td><td>&quot;A&quot;</td><td>20</td><td>11.0</td><td>11.0</td><td>0</td></tr><tr><td>74.15</td><td>29</td><td>-0.01304</td><td>1.507658</td><td>&quot;Triple-buffere…</td><td>&quot;West Terrifurt…</td><td>&quot;Italy&quot;</td><td>0</td><td>&quot;B&quot;</td><td>20</td><td>12.0</td><td>10.0</td><td>1</td></tr><tr><td>68.37</td><td>35</td><td>1.412418</td><td>1.042496</td><td>&quot;Robust logisti…</td><td>&quot;South Manuel&quot;</td><td>&quot;Iceland&quot;</td><td>0</td><td>&quot;A&quot;</td><td>30</td><td>11.0</td><td>14.0</td><td>0</td></tr><tr><td>59.99</td><td>23</td><td>0.3571</td><td>1.069064</td><td>&quot;Sharable clien…</td><td>&quot;Jamieberg&quot;</td><td>&quot;Norway&quot;</td><td>0</td><td>&quot;B&quot;</td><td>20</td><td>11.0</td><td>11.0</td><td>1</td></tr><tr><td>88.91</td><td>33</td><td>-1.0869e-15</td><td>0.648105</td><td>&quot;Enhanced dedic…</td><td>&quot;Brandonstad&quot;</td><td>&quot;Myanmar&quot;</td><td>0</td><td>&quot;A&quot;</td><td>30</td><td>10.0</td><td>11.0</td><td>0</td></tr><tr><td>66.0</td><td>48</td><td>-2.269777</td><td>-1.106273</td><td>&quot;Reactive local…</td><td>&quot;Port Jefferybu…</td><td>&quot;Australia&quot;</td><td>1</td><td>&quot;A&quot;</td><td>40</td><td>6.0</td><td>4.0</td><td>1</td></tr><tr><td>74.53</td><td>30</td><td>1.036854</td><td>0.94928</td><td>&quot;Configurable c…</td><td>&quot;West Colin&quot;</td><td>&quot;Grenada&quot;</td><td>0</td><td>&quot;A&quot;</td><td>30</td><td>11.0</td><td>13.0</td><td>1</td></tr><tr><td>69.88</td><td>20</td><td>0.049415</td><td>0.086062</td><td>&quot;Mandatory homo…</td><td>&quot;Ramirezton&quot;</td><td>&quot;Ghana&quot;</td><td>0</td><td>&quot;A&quot;</td><td>20</td><td>9.0</td><td>11.0</td><td>1</td></tr><tr><td>47.64</td><td>49</td><td>-0.698264</td><td>-1.32935</td><td>&quot;Centralized ne…</td><td>&quot;West Brandonto…</td><td>&quot;Qatar&quot;</td><td>1</td><td>&quot;C&quot;</td><td>40</td><td>6.0</td><td>9.0</td><td>0</td></tr><tr><td>83.07</td><td>37</td><td>-1.0869e-15</td><td>1.163653</td><td>&quot;Team-oriented …</td><td>&quot;East Theresash…</td><td>&quot;Burundi&quot;</td><td>0</td><td>&quot;A&quot;</td><td>30</td><td>11.0</td><td>11.0</td><td>1</td></tr><tr><td>&hellip;</td><td>&hellip;</td><td>&hellip;</td><td>&hellip;</td><td>&hellip;</td><td>&hellip;</td><td>&hellip;</td><td>&hellip;</td><td>&hellip;</td><td>&hellip;</td><td>&hellip;</td><td>&hellip;</td><td>&hellip;</td></tr><tr><td>89.71</td><td>48</td><td>-0.259891</td><td>0.557408</td><td>&quot;Versatile loca…</td><td>&quot;Sarafurt&quot;</td><td>&quot;Bahrain&quot;</td><td>0</td><td>&quot;A&quot;</td><td>40</td><td>10.0</td><td>10.0</td><td>1</td></tr><tr><td>70.96</td><td>31</td><td>0.015469</td><td>1.74837</td><td>&quot;Ameliorated us…</td><td>&quot;South Denise&quot;</td><td>&quot;Saint Pierre a…</td><td>0</td><td>&quot;B&quot;</td><td>30</td><td>12.0</td><td>11.0</td><td>0</td></tr><tr><td>35.79</td><td>44</td><td>-1.581112</td><td>-0.330774</td><td>&quot;Enterprise-wid…</td><td>&quot;North Katie&quot;</td><td>&quot;Tonga&quot;</td><td>1</td><td>&quot;A&quot;</td><td>40</td><td>8.0</td><td>6.0</td><td>1</td></tr><tr><td>38.96</td><td>38</td><td>-1.380621</td><td>-0.902207</td><td>&quot;Versatile miss…</td><td>&quot;Mauricefurt&quot;</td><td>&quot;Comoros&quot;</td><td>1</td><td>&quot;A&quot;</td><td>30</td><td>7.0</td><td>7.0</td><td>1</td></tr><tr><td>69.17</td><td>40</td><td>0.837555</td><td>-1.292705</td><td>&quot;Extended leadi…</td><td>&quot;New Patrick&quot;</td><td>&quot;Montenegro&quot;</td><td>1</td><td>&quot;B&quot;</td><td>40</td><td>6.0</td><td>13.0</td><td>0</td></tr><tr><td>64.2</td><td>27</td><td>0.838089</td><td>1.089447</td><td>&quot;Phased zero to…</td><td>&quot;Edwardsmouth&quot;</td><td>&quot;Isle of Man&quot;</td><td>0</td><td>&quot;A&quot;</td><td>20</td><td>11.0</td><td>13.0</td><td>1</td></tr><tr><td>43.7</td><td>28</td><td>0.608478</td><td>-0.16152</td><td>&quot;Front-line bif…</td><td>&quot;Nicholasland&quot;</td><td>&quot;Mayotte&quot;</td><td>1</td><td>&quot;A&quot;</td><td>20</td><td>8.0</td><td>12.0</td><td>0</td></tr><tr><td>72.97</td><td>30</td><td>1.225277</td><td>0.653143</td><td>&quot;Fundamental mo…</td><td>&quot;Duffystad&quot;</td><td>&quot;Lebanon&quot;</td><td>1</td><td>&quot;A&quot;</td><td>30</td><td>10.0</td><td>14.0</td><td>1</td></tr><tr><td>51.3</td><td>45</td><td>0.956197</td><td>-1.045351</td><td>&quot;Grass-roots co…</td><td>&quot;New Darlene&quot;</td><td>&quot;Bosnia and Her…</td><td>1</td><td>&quot;B&quot;</td><td>40</td><td>6.0</td><td>13.0</td><td>1</td></tr><tr><td>51.63</td><td>51</td><td>-0.938541</td><td>-1.36714</td><td>&quot;Expanded intan…</td><td>&quot;South Jessica&quot;</td><td>&quot;Mongolia&quot;</td><td>1</td><td>&quot;C&quot;</td><td>50</td><td>6.0</td><td>8.0</td><td>1</td></tr><tr><td>55.55</td><td>19</td><td>-0.975509</td><td>0.180652</td><td>&quot;Proactive band…</td><td>&quot;West Steven&quot;</td><td>&quot;Guatemala&quot;</td><td>0</td><td>&quot;A&quot;</td><td>10</td><td>9.0</td><td>8.0</td><td>0</td></tr><tr><td>45.01</td><td>26</td><td>-1.875205</td><td>-0.039218</td><td>&quot;Virtual 5thgen…</td><td>&quot;Ronniemouth&quot;</td><td>&quot;Brazil&quot;</td><td>1</td><td>&quot;B&quot;</td><td>20</td><td>8.0</td><td>5.0</td><td>0</td></tr></tbody></table></div>"
      ],
      "text/plain": [
       "shape: (1_000, 13)\n",
       "┌────────────┬─────┬───────────┬────────────┬───┬──────────┬────────────┬────────────┬─────────────┐\n",
       "│ Daily Time ┆ Age ┆ Area      ┆ Daily      ┆ … ┆ Age Band ┆ Daily      ┆ Area       ┆ Test_Binary │\n",
       "│ Spent on   ┆ --- ┆ Income    ┆ Internet   ┆   ┆ ---      ┆ Internet   ┆ Income     ┆ ---         │\n",
       "│ Site       ┆ i64 ┆ ---       ┆ Usage      ┆   ┆ i64      ┆ Usage Band ┆ Band       ┆ u8          │\n",
       "│ ---        ┆     ┆ f64       ┆ ---        ┆   ┆          ┆ ---        ┆ ---        ┆             │\n",
       "│ f64        ┆     ┆           ┆ f64        ┆   ┆          ┆ f64        ┆ f64        ┆             │\n",
       "╞════════════╪═════╪═══════════╪════════════╪═══╪══════════╪════════════╪════════════╪═════════════╡\n",
       "│ 68.95      ┆ 35  ┆ 0.511893  ┆ 1.74127    ┆ … ┆ 30       ┆ 12.0       ┆ 12.0       ┆ 0           │\n",
       "│ 80.23      ┆ 31  ┆ 1.005471  ┆ 0.313948   ┆ … ┆ 30       ┆ 9.0        ┆ 13.0       ┆ 1           │\n",
       "│ 69.47      ┆ 26  ┆ 0.358921  ┆ 1.292598   ┆ … ┆ 20       ┆ 11.0       ┆ 11.0       ┆ 0           │\n",
       "│ 74.15      ┆ 29  ┆ -0.01304  ┆ 1.507658   ┆ … ┆ 20       ┆ 12.0       ┆ 10.0       ┆ 1           │\n",
       "│ …          ┆ …   ┆ …         ┆ …          ┆ … ┆ …        ┆ …          ┆ …          ┆ …           │\n",
       "│ 51.3       ┆ 45  ┆ 0.956197  ┆ -1.045351  ┆ … ┆ 40       ┆ 6.0        ┆ 13.0       ┆ 1           │\n",
       "│ 51.63      ┆ 51  ┆ -0.938541 ┆ -1.36714   ┆ … ┆ 50       ┆ 6.0        ┆ 8.0        ┆ 1           │\n",
       "│ 55.55      ┆ 19  ┆ -0.975509 ┆ 0.180652   ┆ … ┆ 10       ┆ 9.0        ┆ 8.0        ┆ 0           │\n",
       "│ 45.01      ┆ 26  ┆ -1.875205 ┆ -0.039218  ┆ … ┆ 20       ┆ 8.0        ┆ 5.0        ┆ 0           │\n",
       "└────────────┴─────┴───────────┴────────────┴───┴──────────┴────────────┴────────────┴─────────────┘"
      ]
     },
     "execution_count": 13,
     "metadata": {},
     "output_type": "execute_result"
    }
   ],
   "source": [
    "df = scale(df, [\"Area Income\", \"Daily Internet Usage\"], \"standard\")\n",
    "df "
   ]
  },
  {
   "cell_type": "code",
   "execution_count": 14,
   "metadata": {},
   "outputs": [],
   "source": [
    "# Some of these are numerical columns, but we can still treat them as \"discrete\" columns\n",
    "# and feed them into the information gain algorithm.\n",
    "discrete = [\"Age Band\", \"Country\", \"Area Income Band\", \"Daily Internet Usage Band\", \"Test_Binary\", \"One_Hot_Test\"]\n",
    "target = \"Clicked on Ad\""
   ]
  },
  {
   "cell_type": "code",
   "execution_count": 15,
   "metadata": {},
   "outputs": [
    {
     "name": "stderr",
     "output_type": "stream",
     "text": [
      "100%|██████████| 6/6 [00:00<00:00, 272.67it/s]\n"
     ]
    },
    {
     "data": {
      "text/html": [
       "<div><style>\n",
       ".dataframe > thead > tr > th,\n",
       ".dataframe > tbody > tr > td {\n",
       "  text-align: right;\n",
       "}\n",
       "</style>\n",
       "<small>shape: (6, 6)</small><table border=\"1\" class=\"dataframe\"><thead><tr><th>feature</th><th>target_entropy</th><th>conditional_entropy</th><th>unique_pct</th><th>information_gain</th><th>weighted_information_gain</th></tr><tr><td>str</td><td>f64</td><td>f64</td><td>f64</td><td>f64</td><td>f64</td></tr></thead><tbody><tr><td>&quot;Age Band&quot;</td><td>0.693147</td><td>0.569156</td><td>0.006</td><td>0.123991</td><td>0.123247</td></tr><tr><td>&quot;Country&quot;</td><td>0.693147</td><td>0.558555</td><td>0.237</td><td>0.134592</td><td>0.102694</td></tr><tr><td>&quot;Area Income Ba…</td><td>0.693147</td><td>0.553505</td><td>0.014</td><td>0.139642</td><td>0.137687</td></tr><tr><td>&quot;Daily Internet…</td><td>0.693147</td><td>0.272341</td><td>0.009</td><td>0.420806</td><td>0.417019</td></tr><tr><td>&quot;Test_Binary&quot;</td><td>0.693147</td><td>0.692424</td><td>0.002</td><td>0.000723</td><td>0.000722</td></tr><tr><td>&quot;One_Hot_Test&quot;</td><td>0.693147</td><td>0.692173</td><td>0.003</td><td>0.000975</td><td>0.000972</td></tr></tbody></table></div>"
      ],
      "text/plain": [
       "shape: (6, 6)\n",
       "┌─────────────────┬────────────────┬────────────────┬────────────┬────────────────┬────────────────┐\n",
       "│ feature         ┆ target_entropy ┆ conditional_en ┆ unique_pct ┆ information_ga ┆ weighted_infor │\n",
       "│ ---             ┆ ---            ┆ tropy          ┆ ---        ┆ in             ┆ mation_gain    │\n",
       "│ str             ┆ f64            ┆ ---            ┆ f64        ┆ ---            ┆ ---            │\n",
       "│                 ┆                ┆ f64            ┆            ┆ f64            ┆ f64            │\n",
       "╞═════════════════╪════════════════╪════════════════╪════════════╪════════════════╪════════════════╡\n",
       "│ Age Band        ┆ 0.693147       ┆ 0.569156       ┆ 0.006      ┆ 0.123991       ┆ 0.123247       │\n",
       "│ Country         ┆ 0.693147       ┆ 0.558555       ┆ 0.237      ┆ 0.134592       ┆ 0.102694       │\n",
       "│ Area Income     ┆ 0.693147       ┆ 0.553505       ┆ 0.014      ┆ 0.139642       ┆ 0.137687       │\n",
       "│ Band            ┆                ┆                ┆            ┆                ┆                │\n",
       "│ Daily Internet  ┆ 0.693147       ┆ 0.272341       ┆ 0.009      ┆ 0.420806       ┆ 0.417019       │\n",
       "│ Usage Band      ┆                ┆                ┆            ┆                ┆                │\n",
       "│ Test_Binary     ┆ 0.693147       ┆ 0.692424       ┆ 0.002      ┆ 0.000723       ┆ 0.000722       │\n",
       "│ One_Hot_Test    ┆ 0.693147       ┆ 0.692173       ┆ 0.003      ┆ 0.000975       ┆ 0.000972       │\n",
       "└─────────────────┴────────────────┴────────────────┴────────────┴────────────────┴────────────────┘"
      ]
     },
     "execution_count": 15,
     "metadata": {},
     "output_type": "execute_result"
    }
   ],
   "source": [
    "discrete_ig(df, target, discrete_cols=discrete)"
   ]
  },
  {
   "cell_type": "code",
   "execution_count": 16,
   "metadata": {},
   "outputs": [
    {
     "name": "stderr",
     "output_type": "stream",
     "text": [
      "100%|██████████| 6/6 [00:00<00:00, 285.66it/s]\n"
     ]
    },
    {
     "data": {
      "text/html": [
       "<div><style>\n",
       ".dataframe > thead > tr > th,\n",
       ".dataframe > tbody > tr > td {\n",
       "  text-align: right;\n",
       "}\n",
       "</style>\n",
       "<small>shape: (6, 6)</small><table border=\"1\" class=\"dataframe\"><thead><tr><th>feature</th><th>target_entropy</th><th>conditional_entropy</th><th>unique_pct</th><th>information_gain</th><th>weighted_information_gain</th></tr><tr><td>str</td><td>f64</td><td>f64</td><td>f64</td><td>f64</td><td>f64</td></tr></thead><tbody><tr><td>&quot;Age&quot;</td><td>0.693147</td><td>0.532225</td><td>0.043</td><td>0.160922</td><td>0.154002</td></tr><tr><td>&quot;One_Hot_Test&quot;</td><td>0.693147</td><td>0.692173</td><td>0.003</td><td>0.000975</td><td>0.000972</td></tr><tr><td>&quot;Age Band&quot;</td><td>0.693147</td><td>0.569156</td><td>0.006</td><td>0.123991</td><td>0.123247</td></tr><tr><td>&quot;Daily Internet…</td><td>0.693147</td><td>0.272341</td><td>0.009</td><td>0.420806</td><td>0.417019</td></tr><tr><td>&quot;Area Income Ba…</td><td>0.693147</td><td>0.553505</td><td>0.014</td><td>0.139642</td><td>0.137687</td></tr><tr><td>&quot;Test_Binary&quot;</td><td>0.693147</td><td>0.692424</td><td>0.002</td><td>0.000723</td><td>0.000722</td></tr></tbody></table></div>"
      ],
      "text/plain": [
       "shape: (6, 6)\n",
       "┌─────────────────┬────────────────┬────────────────┬────────────┬────────────────┬────────────────┐\n",
       "│ feature         ┆ target_entropy ┆ conditional_en ┆ unique_pct ┆ information_ga ┆ weighted_infor │\n",
       "│ ---             ┆ ---            ┆ tropy          ┆ ---        ┆ in             ┆ mation_gain    │\n",
       "│ str             ┆ f64            ┆ ---            ┆ f64        ┆ ---            ┆ ---            │\n",
       "│                 ┆                ┆ f64            ┆            ┆ f64            ┆ f64            │\n",
       "╞═════════════════╪════════════════╪════════════════╪════════════╪════════════════╪════════════════╡\n",
       "│ Age             ┆ 0.693147       ┆ 0.532225       ┆ 0.043      ┆ 0.160922       ┆ 0.154002       │\n",
       "│ One_Hot_Test    ┆ 0.693147       ┆ 0.692173       ┆ 0.003      ┆ 0.000975       ┆ 0.000972       │\n",
       "│ Age Band        ┆ 0.693147       ┆ 0.569156       ┆ 0.006      ┆ 0.123991       ┆ 0.123247       │\n",
       "│ Daily Internet  ┆ 0.693147       ┆ 0.272341       ┆ 0.009      ┆ 0.420806       ┆ 0.417019       │\n",
       "│ Usage Band      ┆                ┆                ┆            ┆                ┆                │\n",
       "│ Area Income     ┆ 0.693147       ┆ 0.553505       ┆ 0.014      ┆ 0.139642       ┆ 0.137687       │\n",
       "│ Band            ┆                ┆                ┆            ┆                ┆                │\n",
       "│ Test_Binary     ┆ 0.693147       ┆ 0.692424       ┆ 0.002      ┆ 0.000723       ┆ 0.000722       │\n",
       "└─────────────────┴────────────────┴────────────────┴────────────┴────────────────┴────────────────┘"
      ]
     },
     "execution_count": 16,
     "metadata": {},
     "output_type": "execute_result"
    }
   ],
   "source": [
    "# If nothing is given, automatically infers discrete columns. (See the docstring of discrete_inferral)\n",
    "discrete_ig(df, target)"
   ]
  },
  {
   "cell_type": "code",
   "execution_count": 17,
   "metadata": {},
   "outputs": [],
   "source": [
    "# df[\"Ad Topic Line\"].unique() # has 1000 uniques. \n",
    "# There is no randomness at all because we can say that there are two distinct subsets that perfects differentiates 0s from 1s"
   ]
  },
  {
   "cell_type": "code",
   "execution_count": 18,
   "metadata": {},
   "outputs": [
    {
     "data": {
      "text/html": [
       "<div><style>\n",
       ".dataframe > thead > tr > th,\n",
       ".dataframe > tbody > tr > td {\n",
       "  text-align: right;\n",
       "}\n",
       "</style>\n",
       "<small>shape: (8, 3)</small><table border=\"1\" class=\"dataframe\"><thead><tr><th>feature</th><th>f_value</th><th>p_value</th></tr><tr><td>str</td><td>f64</td><td>f64</td></tr></thead><tbody><tr><td>&quot;Daily Time Spe…</td><td>1268.525161</td><td>5.8774e-180</td></tr><tr><td>&quot;Age&quot;</td><td>319.643165</td><td>3.1298e-62</td></tr><tr><td>&quot;Area Income&quot;</td><td>288.179499</td><td>5.6266e-57</td></tr><tr><td>&quot;Daily Internet…</td><td>1567.672992</td><td>7.6499e-207</td></tr><tr><td>&quot;Age Band&quot;</td><td>269.875798</td><td>7.3704e-54</td></tr><tr><td>&quot;Daily Internet…</td><td>1528.282249</td><td>1.7330e-203</td></tr><tr><td>&quot;Area Income Ba…</td><td>285.144765</td><td>1.8363e-56</td></tr><tr><td>&quot;Test_Binary&quot;</td><td>1.445286</td><td>0.229571</td></tr></tbody></table></div>"
      ],
      "text/plain": [
       "shape: (8, 3)\n",
       "┌───────────────────────────┬─────────────┬─────────────┐\n",
       "│ feature                   ┆ f_value     ┆ p_value     │\n",
       "│ ---                       ┆ ---         ┆ ---         │\n",
       "│ str                       ┆ f64         ┆ f64         │\n",
       "╞═══════════════════════════╪═════════════╪═════════════╡\n",
       "│ Daily Time Spent on Site  ┆ 1268.525161 ┆ 5.8774e-180 │\n",
       "│ Age                       ┆ 319.643165  ┆ 3.1298e-62  │\n",
       "│ Area Income               ┆ 288.179499  ┆ 5.6266e-57  │\n",
       "│ Daily Internet Usage      ┆ 1567.672992 ┆ 7.6499e-207 │\n",
       "│ Age Band                  ┆ 269.875798  ┆ 7.3704e-54  │\n",
       "│ Daily Internet Usage Band ┆ 1528.282249 ┆ 1.7330e-203 │\n",
       "│ Area Income Band          ┆ 285.144765  ┆ 1.8363e-56  │\n",
       "│ Test_Binary               ┆ 1.445286    ┆ 0.229571    │\n",
       "└───────────────────────────┴─────────────┴─────────────┘"
      ]
     },
     "execution_count": 18,
     "metadata": {},
     "output_type": "execute_result"
    }
   ],
   "source": [
    "f_classification(df, target=target)"
   ]
  },
  {
   "cell_type": "code",
   "execution_count": 19,
   "metadata": {},
   "outputs": [
    {
     "data": {
      "text/plain": [
       "['Daily Time Spent on Site',\n",
       " 'Age',\n",
       " 'Area Income',\n",
       " 'Daily Internet Usage',\n",
       " 'Age Band',\n",
       " 'Daily Internet Usage Band',\n",
       " 'Area Income Band',\n",
       " 'Test_Binary']"
      ]
     },
     "execution_count": 19,
     "metadata": {},
     "output_type": "execute_result"
    }
   ],
   "source": [
    "nums = get_numeric_cols(df, exclude=[target])\n",
    "nums "
   ]
  },
  {
   "cell_type": "code",
   "execution_count": 20,
   "metadata": {},
   "outputs": [
    {
     "data": {
      "text/html": [
       "<div><style>\n",
       ".dataframe > thead > tr > th,\n",
       ".dataframe > tbody > tr > td {\n",
       "  text-align: right;\n",
       "}\n",
       "</style>\n",
       "<small>shape: (8, 3)</small><table border=\"1\" class=\"dataframe\"><thead><tr><th>feature</th><th>f_value</th><th>p_value</th></tr><tr><td>str</td><td>f64</td><td>f64</td></tr></thead><tbody><tr><td>&quot;Daily Time Spe…</td><td>1268.525161</td><td>5.8774e-180</td></tr><tr><td>&quot;Age&quot;</td><td>319.643165</td><td>3.1298e-62</td></tr><tr><td>&quot;Area Income&quot;</td><td>288.179499</td><td>5.6266e-57</td></tr><tr><td>&quot;Daily Internet…</td><td>1567.672992</td><td>7.6499e-207</td></tr><tr><td>&quot;Age Band&quot;</td><td>269.875798</td><td>7.3704e-54</td></tr><tr><td>&quot;Daily Internet…</td><td>1528.282249</td><td>1.7330e-203</td></tr><tr><td>&quot;Area Income Ba…</td><td>285.144765</td><td>1.8363e-56</td></tr><tr><td>&quot;Test_Binary&quot;</td><td>1.445286</td><td>0.229571</td></tr></tbody></table></div>"
      ],
      "text/plain": [
       "shape: (8, 3)\n",
       "┌───────────────────────────┬─────────────┬─────────────┐\n",
       "│ feature                   ┆ f_value     ┆ p_value     │\n",
       "│ ---                       ┆ ---         ┆ ---         │\n",
       "│ str                       ┆ f64         ┆ f64         │\n",
       "╞═══════════════════════════╪═════════════╪═════════════╡\n",
       "│ Daily Time Spent on Site  ┆ 1268.525161 ┆ 5.8774e-180 │\n",
       "│ Age                       ┆ 319.643165  ┆ 3.1298e-62  │\n",
       "│ Area Income               ┆ 288.179499  ┆ 5.6266e-57  │\n",
       "│ Daily Internet Usage      ┆ 1567.672992 ┆ 7.6499e-207 │\n",
       "│ Age Band                  ┆ 269.875798  ┆ 7.3704e-54  │\n",
       "│ Daily Internet Usage Band ┆ 1528.282249 ┆ 1.7330e-203 │\n",
       "│ Area Income Band          ┆ 285.144765  ┆ 1.8363e-56  │\n",
       "│ Test_Binary               ┆ 1.445286    ┆ 0.229571    │\n",
       "└───────────────────────────┴─────────────┴─────────────┘"
      ]
     },
     "execution_count": 20,
     "metadata": {},
     "output_type": "execute_result"
    }
   ],
   "source": [
    "from sklearn.feature_selection import f_classif\n",
    " \n",
    "f, pv = f_classif(df.select(nums), df[target])\n",
    "pl.from_records([nums, f, pv], schema=[\"feature\", \"f_value\", \"p_value\"])"
   ]
  },
  {
   "cell_type": "code",
   "execution_count": 21,
   "metadata": {},
   "outputs": [
    {
     "data": {
      "text/html": [
       "<div><style>\n",
       ".dataframe > thead > tr > th,\n",
       ".dataframe > tbody > tr > td {\n",
       "  text-align: right;\n",
       "}\n",
       "</style>\n",
       "<small>shape: (8, 3)</small><table border=\"1\" class=\"dataframe\"><thead><tr><th>feature</th><th>f_value</th><th>p_value</th></tr><tr><td>str</td><td>f64</td><td>f64</td></tr></thead><tbody><tr><td>&quot;Daily Time Spe…</td><td>1268.525161</td><td>5.8774e-180</td></tr><tr><td>&quot;Age&quot;</td><td>319.643165</td><td>3.1298e-62</td></tr><tr><td>&quot;Area Income&quot;</td><td>288.179499</td><td>5.6266e-57</td></tr><tr><td>&quot;Daily Internet…</td><td>1567.672992</td><td>7.6499e-207</td></tr><tr><td>&quot;Age Band&quot;</td><td>269.875798</td><td>7.3704e-54</td></tr><tr><td>&quot;Daily Internet…</td><td>1528.282249</td><td>1.7330e-203</td></tr><tr><td>&quot;Area Income Ba…</td><td>285.144765</td><td>1.8363e-56</td></tr><tr><td>&quot;Test_Binary&quot;</td><td>1.445286</td><td>0.229571</td></tr></tbody></table></div>"
      ],
      "text/plain": [
       "shape: (8, 3)\n",
       "┌───────────────────────────┬─────────────┬─────────────┐\n",
       "│ feature                   ┆ f_value     ┆ p_value     │\n",
       "│ ---                       ┆ ---         ┆ ---         │\n",
       "│ str                       ┆ f64         ┆ f64         │\n",
       "╞═══════════════════════════╪═════════════╪═════════════╡\n",
       "│ Daily Time Spent on Site  ┆ 1268.525161 ┆ 5.8774e-180 │\n",
       "│ Age                       ┆ 319.643165  ┆ 3.1298e-62  │\n",
       "│ Area Income               ┆ 288.179499  ┆ 5.6266e-57  │\n",
       "│ Daily Internet Usage      ┆ 1567.672992 ┆ 7.6499e-207 │\n",
       "│ Age Band                  ┆ 269.875798  ┆ 7.3704e-54  │\n",
       "│ Daily Internet Usage Band ┆ 1528.282249 ┆ 1.7330e-203 │\n",
       "│ Area Income Band          ┆ 285.144765  ┆ 1.8363e-56  │\n",
       "│ Test_Binary               ┆ 1.445286    ┆ 0.229571    │\n",
       "└───────────────────────────┴─────────────┴─────────────┘"
      ]
     },
     "execution_count": 21,
     "metadata": {},
     "output_type": "execute_result"
    }
   ],
   "source": [
    "from sklearn.feature_selection import f_regression\n",
    "\n",
    "result = f_regression(df[nums].to_numpy(), df[target].to_numpy())\n",
    "pl.from_records([nums, result[0], result[1]], schema=[\"feature\", \"f_value\", \"p_value\"])"
   ]
  },
  {
   "cell_type": "code",
   "execution_count": 22,
   "metadata": {},
   "outputs": [
    {
     "data": {
      "text/plain": [
       "(500000, 13)"
      ]
     },
     "execution_count": 22,
     "metadata": {},
     "output_type": "execute_result"
    }
   ],
   "source": [
    "df_test = pl.concat([df.clone()] * 500)\n",
    "df_test.shape"
   ]
  },
  {
   "cell_type": "code",
   "execution_count": 23,
   "metadata": {},
   "outputs": [
    {
     "name": "stdout",
     "output_type": "stream",
     "text": [
      "6.3 ms ± 198 µs per loop (mean ± std. dev. of 7 runs, 100 loops each)\n"
     ]
    }
   ],
   "source": [
    "%%timeit \n",
    "f_classification(df_test, target=\"Clicked on Ad\", num_cols=nums)"
   ]
  },
  {
   "cell_type": "code",
   "execution_count": 24,
   "metadata": {},
   "outputs": [
    {
     "name": "stdout",
     "output_type": "stream",
     "text": [
      "59.6 ms ± 1.5 ms per loop (mean ± std. dev. of 7 runs, 10 loops each)\n"
     ]
    }
   ],
   "source": [
    "%%timeit \n",
    "f, pv = f_classif(df_test[nums].to_numpy(), df_test[target].to_numpy())\n",
    "pl.from_records([nums, f, pv], schema=[\"feature\", \"f_value\", \"p_value\"])"
   ]
  },
  {
   "cell_type": "code",
   "execution_count": 25,
   "metadata": {},
   "outputs": [
    {
     "name": "stdout",
     "output_type": "stream",
     "text": [
      "18.8 ms ± 506 µs per loop (mean ± std. dev. of 7 runs, 100 loops each)\n"
     ]
    }
   ],
   "source": [
    "%%timeit\n",
    "result = f_regression(df_test[nums].to_numpy(), df_test[target].to_numpy())\n",
    "pl.from_records([nums, result[0], result[1]], schema=[\"feature\", \"f_value\", \"p_value\"])"
   ]
  },
  {
   "cell_type": "code",
   "execution_count": 26,
   "metadata": {},
   "outputs": [],
   "source": [
    "del df_test "
   ]
  },
  {
   "cell_type": "code",
   "execution_count": 27,
   "metadata": {},
   "outputs": [
    {
     "ename": "AttributeError",
     "evalue": "'str' object has no attribute 'info'",
     "output_type": "error",
     "traceback": [
      "\u001b[1;31m---------------------------------------------------------------------------\u001b[0m",
      "\u001b[1;31mAttributeError\u001b[0m                            Traceback (most recent call last)",
      "Cell \u001b[1;32mIn[27], line 2\u001b[0m\n\u001b[0;32m      1\u001b[0m \u001b[39m# MRMR Method \u001b[39;00m\n\u001b[1;32m----> 2\u001b[0m mrmr(df, target, \u001b[39m5\u001b[39;49m)\n",
      "File \u001b[1;32m~\\Desktop\\MY\\PythonProjects\\eda_methods\\src\\dsds\\fs.py:432\u001b[0m, in \u001b[0;36mmrmr\u001b[1;34m(df, target, k, num_cols, strategy, params, low_memory)\u001b[0m\n\u001b[0;32m    429\u001b[0m     num_list\u001b[39m.\u001b[39mextend(get_numeric_cols(df, exclude\u001b[39m=\u001b[39m[target]))\n\u001b[0;32m    431\u001b[0m s \u001b[39m=\u001b[39m clean_strategy_str(strategy)\n\u001b[1;32m--> 432\u001b[0m scores \u001b[39m=\u001b[39m _mrmr_underlying_score(df\n\u001b[0;32m    433\u001b[0m                                 , target \u001b[39m=\u001b[39;49m target\n\u001b[0;32m    434\u001b[0m                                 , num_list \u001b[39m=\u001b[39;49m num_list\n\u001b[0;32m    435\u001b[0m                                 , strategy \u001b[39m=\u001b[39;49m s\n\u001b[0;32m    436\u001b[0m                                 , params \u001b[39m=\u001b[39;49m {} \u001b[39mif\u001b[39;49;00m params \u001b[39mis\u001b[39;49;00m \u001b[39mNone\u001b[39;49;00m \u001b[39melse\u001b[39;49;00m params\n\u001b[0;32m    437\u001b[0m                                 )\n\u001b[0;32m    439\u001b[0m \u001b[39mif\u001b[39;00m low_memory:\n\u001b[0;32m    440\u001b[0m     df_local \u001b[39m=\u001b[39m df\u001b[39m.\u001b[39mselect(num_list)\n",
      "File \u001b[1;32m~\\Desktop\\MY\\PythonProjects\\eda_methods\\src\\dsds\\fs.py:368\u001b[0m, in \u001b[0;36m_mrmr_underlying_score\u001b[1;34m(df, target, num_list, strategy, params)\u001b[0m\n\u001b[0;32m    360\u001b[0m \u001b[39mdef\u001b[39;00m \u001b[39m_mrmr_underlying_score\u001b[39m(\n\u001b[0;32m    361\u001b[0m     df:pl\u001b[39m.\u001b[39mDataFrame\n\u001b[0;32m    362\u001b[0m     , target:\u001b[39mstr\u001b[39m\n\u001b[1;32m   (...)\u001b[0m\n\u001b[0;32m    365\u001b[0m     , params:\u001b[39mdict\u001b[39m[\u001b[39mstr\u001b[39m,Any]\n\u001b[0;32m    366\u001b[0m ) \u001b[39m-\u001b[39m\u001b[39m>\u001b[39m np\u001b[39m.\u001b[39mndarray:\n\u001b[1;32m--> 368\u001b[0m     \u001b[39mprint\u001b[39m(\u001b[39mf\u001b[39m\u001b[39m\"\u001b[39m\u001b[39mRunning \u001b[39m\u001b[39m{\u001b[39;00mstrategy\u001b[39m.\u001b[39;49minfo()\u001b[39m}\u001b[39;00m\u001b[39m to determine feature relevance...\u001b[39m\u001b[39m\"\u001b[39m)\n\u001b[0;32m    369\u001b[0m     s \u001b[39m=\u001b[39m clean_strategy_str(strategy)\n\u001b[0;32m    370\u001b[0m     \u001b[39mif\u001b[39;00m s \u001b[39min\u001b[39;00m (\u001b[39m\"\u001b[39m\u001b[39mfscore\u001b[39m\u001b[39m\"\u001b[39m, \u001b[39m\"\u001b[39m\u001b[39mf\u001b[39m\u001b[39m\"\u001b[39m, \u001b[39m\"\u001b[39m\u001b[39mf_score\u001b[39m\u001b[39m\"\u001b[39m):\n",
      "\u001b[1;31mAttributeError\u001b[0m: 'str' object has no attribute 'info'"
     ]
    }
   ],
   "source": [
    "# MRMR Method \n",
    "mrmr(df, target, 5)"
   ]
  },
  {
   "cell_type": "code",
   "execution_count": null,
   "metadata": {},
   "outputs": [],
   "source": [
    "df = one_hot_encode(df, cols=[\"One_Hot_Test\"])"
   ]
  },
  {
   "cell_type": "code",
   "execution_count": null,
   "metadata": {},
   "outputs": [],
   "source": [
    "df.head()"
   ]
  },
  {
   "cell_type": "code",
   "execution_count": null,
   "metadata": {},
   "outputs": [],
   "source": [
    "df = ordinal_auto_encode(df, cols=[\"City\", \"Country\"])"
   ]
  },
  {
   "cell_type": "code",
   "execution_count": null,
   "metadata": {},
   "outputs": [],
   "source": [
    "df.head()"
   ]
  },
  {
   "cell_type": "code",
   "execution_count": null,
   "metadata": {},
   "outputs": [],
   "source": [
    "final_df = remove_if_exists(df, [\"Ad Topic Line\", \"Timestamp\"]) # Timestamp was removed at the beginning\n",
    "final_df.head() "
   ]
  },
  {
   "cell_type": "code",
   "execution_count": null,
   "metadata": {},
   "outputs": [],
   "source": [
    "np_data = get_numpy(final_df, target)\n",
    "X, y, features = np_data.X, np_data.y, np_data.features"
   ]
  },
  {
   "cell_type": "code",
   "execution_count": null,
   "metadata": {},
   "outputs": [],
   "source": [
    "X.shape "
   ]
  },
  {
   "cell_type": "code",
   "execution_count": null,
   "metadata": {},
   "outputs": [],
   "source": [
    "y.shape "
   ]
  },
  {
   "cell_type": "code",
   "execution_count": null,
   "metadata": {},
   "outputs": [],
   "source": [
    "features"
   ]
  },
  {
   "cell_type": "code",
   "execution_count": null,
   "metadata": {},
   "outputs": [],
   "source": []
  },
  {
   "cell_type": "code",
   "execution_count": null,
   "metadata": {},
   "outputs": [],
   "source": []
  }
 ],
 "metadata": {
  "kernelspec": {
   "display_name": "nodus",
   "language": "python",
   "name": "python3"
  },
  "language_info": {
   "codemirror_mode": {
    "name": "ipython",
    "version": 3
   },
   "file_extension": ".py",
   "mimetype": "text/x-python",
   "name": "python",
   "nbconvert_exporter": "python",
   "pygments_lexer": "ipython3",
   "version": "3.11.3"
  },
  "orig_nbformat": 4,
  "vscode": {
   "interpreter": {
    "hash": "74f1072b57173f378ab32b3582e04f0f79e785f166fd2fbdd636602a68526af8"
   }
  }
 },
 "nbformat": 4,
 "nbformat_minor": 2
}
