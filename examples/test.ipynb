{
 "cells": [
  {
   "cell_type": "code",
   "execution_count": 1,
   "metadata": {},
   "outputs": [],
   "source": [
    "from __future__ import annotations\n",
    "import polars as pl\n",
    "import inspect\n",
    "import numpy as np\n",
    "from typing import Tuple"
   ]
  },
  {
   "cell_type": "code",
   "execution_count": 2,
   "metadata": {},
   "outputs": [],
   "source": [
    "from dsds.metrics import roc_auc\n",
    "from dsds.transform import multicat_one_hot_encode\n",
    "import dsds.sample as sa"
   ]
  },
  {
   "cell_type": "code",
   "execution_count": null,
   "metadata": {},
   "outputs": [],
   "source": [
    "pred = np.random.random(size=1_000_000) # .reshape(-1, 1) # Predictions\n",
    "actual = np.random.random(size=1_000_000) # Actuals"
   ]
  },
  {
   "cell_type": "code",
   "execution_count": null,
   "metadata": {},
   "outputs": [],
   "source": [
    "pl.show_versions()"
   ]
  },
  {
   "cell_type": "code",
   "execution_count": null,
   "metadata": {},
   "outputs": [],
   "source": [
    "df = pl.DataFrame({\n",
    "    \"text1\":[\"abc|ggg\", \"abc|sss\", \"ccc|abc\"],\n",
    "    \"text2\":[\"aaa|bbb\", \"ccc|aaa\", \"bbb|ccc\"]\n",
    "})\n",
    "print(df)"
   ]
  },
  {
   "cell_type": "code",
   "execution_count": null,
   "metadata": {},
   "outputs": [],
   "source": [
    "print(multicat_one_hot_encode(df, cols=[\"text1\", \"text2\"], delimiter=\"|\"))"
   ]
  },
  {
   "cell_type": "code",
   "execution_count": null,
   "metadata": {},
   "outputs": [],
   "source": [
    "a = [\"a\", \"b\", \"c\"]\n",
    "list(enumerate(a, start=-1))"
   ]
  },
  {
   "cell_type": "code",
   "execution_count": null,
   "metadata": {},
   "outputs": [],
   "source": [
    "test = pl.DataFrame({\n",
    "    \"a\":[1,1,1,1]\n",
    "    , \"b\": [None, None , \"a\", \"a\"]\n",
    "})\n",
    "test"
   ]
  },
  {
   "cell_type": "code",
   "execution_count": null,
   "metadata": {},
   "outputs": [],
   "source": [
    "import polars as pl\n",
    "from sklearn.datasets import make_classification\n",
    "\n",
    "orig_x, orig_y = make_classification(n_samples = 500_000, n_features = 100, n_informative = 50, n_redundant = 50)\n",
    "df = pl.from_numpy(orig_x).insert_at_idx(0, pl.Series(\"idx1\", [1]*len(orig_x)))\\\n",
    "    .insert_at_idx(0, pl.Series(\"idx2\", [2]*len(orig_x)))\n",
    "#target = \"target\"\n",
    "features = df.columns\n",
    "features.remove(\"idx1\")\n",
    "features.remove(\"idx2\")\n",
    "df = df.with_columns(\n",
    "    pl.col(c).abs() + 1 for c in features\n",
    ")"
   ]
  },
  {
   "cell_type": "code",
   "execution_count": null,
   "metadata": {},
   "outputs": [],
   "source": []
  }
 ],
 "metadata": {
  "kernelspec": {
   "display_name": "my_py11",
   "language": "python",
   "name": "python3"
  },
  "language_info": {
   "codemirror_mode": {
    "name": "ipython",
    "version": 3
   },
   "file_extension": ".py",
   "mimetype": "text/x-python",
   "name": "python",
   "nbconvert_exporter": "python",
   "pygments_lexer": "ipython3",
   "version": "3.11.3"
  },
  "orig_nbformat": 4
 },
 "nbformat": 4,
 "nbformat_minor": 2
}
