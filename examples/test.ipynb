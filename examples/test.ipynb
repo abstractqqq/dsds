{
 "cells": [
  {
   "cell_type": "code",
   "execution_count": 1,
   "metadata": {},
   "outputs": [],
   "source": [
    "from __future__ import annotations\n",
    "import polars as pl\n",
    "import inspect\n",
    "import numpy as np\n",
    "from typing import Tuple\n",
    "import dsds.metrics as me\n",
    "import dsds.prescreen as ps\n",
    "import dsds.sample as sa\n",
    "import dsds.fs as fs\n",
    "import dsds.transform as t"
   ]
  },
  {
   "cell_type": "code",
   "execution_count": 2,
   "metadata": {},
   "outputs": [
    {
     "data": {
      "text/html": [
       "<div><style>\n",
       ".dataframe > thead > tr > th,\n",
       ".dataframe > tbody > tr > td {\n",
       "  text-align: right;\n",
       "}\n",
       "</style>\n",
       "<small>shape: (3, 19)</small><table border=\"1\" class=\"dataframe\"><thead><tr><th>id</th><th>Daily Time Spent on Site</th><th>Age</th><th>Area Income</th><th>Daily Internet Usage</th><th>Ad Topic Line</th><th>City</th><th>Male</th><th>Country</th><th>Timestamp</th><th>Clicked on Ad</th><th>One_Hot_Test</th><th>Age Band</th><th>Daily Internet Usage Band</th><th>Area Income Band</th><th>Test_Constant</th><th>Test_Str_Constant</th><th>Test_BadColumn</th><th>Test_Binary</th></tr><tr><td>i64</td><td>f64</td><td>i64</td><td>f64</td><td>f64</td><td>str</td><td>str</td><td>i64</td><td>str</td><td>str</td><td>i64</td><td>str</td><td>i64</td><td>i64</td><td>i64</td><td>i64</td><td>str</td><td>i64</td><td>str</td></tr></thead><tbody><tr><td>1</td><td>68.95</td><td>35</td><td>61833.9</td><td>256.09</td><td>&quot;Cloned 5thgene…</td><td>&quot;Wrightburgh&quot;</td><td>0</td><td>&quot;Tunisia&quot;</td><td>&quot;3/27/2016 0:53…</td><td>0</td><td>&quot;A&quot;</td><td>30</td><td>12</td><td>12</td><td>1</td><td>&quot;SSS&quot;</td><td>0</td><td>&quot;A&quot;</td></tr><tr><td>2</td><td>80.23</td><td>31</td><td>68441.85</td><td>193.77</td><td>&quot;Monitored nati…</td><td>&quot;West Jodi&quot;</td><td>1</td><td>&quot;Nauru&quot;</td><td>&quot;4/4/2016 1:39&quot;</td><td>0</td><td>&quot;B&quot;</td><td>30</td><td>9</td><td>13</td><td>1</td><td>&quot;SSS&quot;</td><td>null</td><td>&quot;B&quot;</td></tr><tr><td>3</td><td>69.47</td><td>26</td><td>59785.94</td><td>236.5</td><td>&quot;Organic bottom…</td><td>&quot;Davidton&quot;</td><td>0</td><td>&quot;San Marino&quot;</td><td>&quot;3/13/2016 20:3…</td><td>0</td><td>&quot;A&quot;</td><td>20</td><td>11</td><td>11</td><td>1</td><td>&quot;SSS&quot;</td><td>0</td><td>&quot;A&quot;</td></tr></tbody></table></div>"
      ],
      "text/plain": [
       "shape: (3, 19)\n",
       "┌─────┬─────────────┬─────┬─────────────┬───┬─────────────┬─────────────┬─────────────┬────────────┐\n",
       "│ id  ┆ Daily Time  ┆ Age ┆ Area Income ┆ … ┆ Test_Consta ┆ Test_Str_Co ┆ Test_BadCol ┆ Test_Binar │\n",
       "│ --- ┆ Spent on    ┆ --- ┆ ---         ┆   ┆ nt          ┆ nstant      ┆ umn         ┆ y          │\n",
       "│ i64 ┆ Site        ┆ i64 ┆ f64         ┆   ┆ ---         ┆ ---         ┆ ---         ┆ ---        │\n",
       "│     ┆ ---         ┆     ┆             ┆   ┆ i64         ┆ str         ┆ i64         ┆ str        │\n",
       "│     ┆ f64         ┆     ┆             ┆   ┆             ┆             ┆             ┆            │\n",
       "╞═════╪═════════════╪═════╪═════════════╪═══╪═════════════╪═════════════╪═════════════╪════════════╡\n",
       "│ 1   ┆ 68.95       ┆ 35  ┆ 61833.9     ┆ … ┆ 1           ┆ SSS         ┆ 0           ┆ A          │\n",
       "│ 2   ┆ 80.23       ┆ 31  ┆ 68441.85    ┆ … ┆ 1           ┆ SSS         ┆ null        ┆ B          │\n",
       "│ 3   ┆ 69.47       ┆ 26  ┆ 59785.94    ┆ … ┆ 1           ┆ SSS         ┆ 0           ┆ A          │\n",
       "└─────┴─────────────┴─────┴─────────────┴───┴─────────────┴─────────────┴─────────────┴────────────┘"
      ]
     },
     "execution_count": 2,
     "metadata": {},
     "output_type": "execute_result"
    }
   ],
   "source": [
    "df = pl.read_csv(\"../data/advertising.csv\")\n",
    "df.head(3)"
   ]
  },
  {
   "cell_type": "code",
   "execution_count": 3,
   "metadata": {},
   "outputs": [],
   "source": [
    "from dsds._rust import rs_cnt_vectorizer, rs_get_stem_table\n",
    "import dsds.test_text as tt\n",
    "c = \"Ad Topic Line\""
   ]
  },
  {
   "cell_type": "code",
   "execution_count": 4,
   "metadata": {},
   "outputs": [
    {
     "data": {
      "text/html": [
       "<div><style>\n",
       ".dataframe > thead > tr > th,\n",
       ".dataframe > tbody > tr > td {\n",
       "  text-align: right;\n",
       "}\n",
       "</style>\n",
       "<small>shape: (5, 35)</small><table border=\"1\" class=\"dataframe\"><thead><tr><th>id</th><th>Daily Time Spent on Site</th><th>Age</th><th>Area Income</th><th>Daily Internet Usage</th><th>City</th><th>Male</th><th>Country</th><th>Timestamp</th><th>Clicked on Ad</th><th>One_Hot_Test</th><th>Age Band</th><th>Daily Internet Usage Band</th><th>Area Income Band</th><th>Test_Constant</th><th>Test_Str_Constant</th><th>Test_BadColumn</th><th>Test_Binary</th><th>Ad Topic Line::cnt_analyz</th><th>Ad Topic Line::cnt_focus</th><th>Ad Topic Line::cnt_frontlin</th><th>Ad Topic Line::cnt_graphic</th><th>Ad Topic Line::cnt_implement</th><th>Ad Topic Line::cnt_interfac</th><th>Ad Topic Line::cnt_local</th><th>Ad Topic Line::cnt_manag</th><th>Ad Topic Line::cnt_monitor</th><th>Ad Topic Line::cnt_network</th><th>Ad Topic Line::cnt_optim</th><th>Ad Topic Line::cnt_secur</th><th>Ad Topic Line::cnt_solut</th><th>Ad Topic Line::cnt_structur</th><th>Ad Topic Line::cnt_system</th><th>Ad Topic Line::cnt_user</th><th>Ad Topic Line::cnt_zero</th></tr><tr><td>i64</td><td>f64</td><td>i64</td><td>f64</td><td>f64</td><td>str</td><td>i64</td><td>str</td><td>str</td><td>i64</td><td>str</td><td>i64</td><td>i64</td><td>i64</td><td>i64</td><td>str</td><td>i64</td><td>str</td><td>u32</td><td>u32</td><td>u32</td><td>u32</td><td>u32</td><td>u32</td><td>u32</td><td>u32</td><td>u32</td><td>u32</td><td>u32</td><td>u32</td><td>u32</td><td>u32</td><td>u32</td><td>u32</td><td>u32</td></tr></thead><tbody><tr><td>1</td><td>68.95</td><td>35</td><td>61833.9</td><td>256.09</td><td>&quot;Wrightburgh&quot;</td><td>0</td><td>&quot;Tunisia&quot;</td><td>&quot;3/27/2016 0:53…</td><td>0</td><td>&quot;A&quot;</td><td>30</td><td>12</td><td>12</td><td>1</td><td>&quot;SSS&quot;</td><td>0</td><td>&quot;A&quot;</td><td>0</td><td>0</td><td>0</td><td>0</td><td>0</td><td>0</td><td>0</td><td>0</td><td>0</td><td>0</td><td>0</td><td>0</td><td>0</td><td>0</td><td>0</td><td>0</td><td>0</td></tr><tr><td>2</td><td>80.23</td><td>31</td><td>68441.85</td><td>193.77</td><td>&quot;West Jodi&quot;</td><td>1</td><td>&quot;Nauru&quot;</td><td>&quot;4/4/2016 1:39&quot;</td><td>0</td><td>&quot;B&quot;</td><td>30</td><td>9</td><td>13</td><td>1</td><td>&quot;SSS&quot;</td><td>null</td><td>&quot;B&quot;</td><td>0</td><td>0</td><td>0</td><td>0</td><td>0</td><td>0</td><td>0</td><td>0</td><td>0</td><td>0</td><td>0</td><td>0</td><td>0</td><td>0</td><td>0</td><td>0</td><td>0</td></tr><tr><td>3</td><td>69.47</td><td>26</td><td>59785.94</td><td>236.5</td><td>&quot;Davidton&quot;</td><td>0</td><td>&quot;San Marino&quot;</td><td>&quot;3/13/2016 20:3…</td><td>0</td><td>&quot;A&quot;</td><td>20</td><td>11</td><td>11</td><td>1</td><td>&quot;SSS&quot;</td><td>0</td><td>&quot;A&quot;</td><td>0</td><td>0</td><td>0</td><td>0</td><td>0</td><td>0</td><td>0</td><td>0</td><td>0</td><td>0</td><td>0</td><td>0</td><td>0</td><td>0</td><td>0</td><td>0</td><td>0</td></tr><tr><td>4</td><td>74.15</td><td>29</td><td>54806.18</td><td>245.89</td><td>&quot;West Terrifurt…</td><td>1</td><td>&quot;Italy&quot;</td><td>&quot;1/10/2016 2:31…</td><td>0</td><td>&quot;B&quot;</td><td>20</td><td>12</td><td>10</td><td>1</td><td>&quot;SSS&quot;</td><td>null</td><td>&quot;B&quot;</td><td>0</td><td>0</td><td>0</td><td>0</td><td>0</td><td>0</td><td>0</td><td>0</td><td>0</td><td>0</td><td>0</td><td>0</td><td>0</td><td>0</td><td>0</td><td>0</td><td>0</td></tr><tr><td>5</td><td>68.37</td><td>35</td><td>73889.99</td><td>225.58</td><td>&quot;South Manuel&quot;</td><td>0</td><td>&quot;Iceland&quot;</td><td>&quot;6/3/2016 3:36&quot;</td><td>0</td><td>&quot;A&quot;</td><td>30</td><td>11</td><td>14</td><td>1</td><td>&quot;SSS&quot;</td><td>0</td><td>&quot;A&quot;</td><td>0</td><td>0</td><td>0</td><td>0</td><td>0</td><td>0</td><td>0</td><td>0</td><td>0</td><td>0</td><td>0</td><td>0</td><td>0</td><td>0</td><td>0</td><td>0</td><td>0</td></tr></tbody></table></div>"
      ],
      "text/plain": [
       "shape: (5, 35)\n",
       "┌─────┬─────────────┬─────┬─────────────┬───┬─────────────┬─────────────┬─────────────┬────────────┐\n",
       "│ id  ┆ Daily Time  ┆ Age ┆ Area Income ┆ … ┆ Ad Topic    ┆ Ad Topic    ┆ Ad Topic    ┆ Ad Topic   │\n",
       "│ --- ┆ Spent on    ┆ --- ┆ ---         ┆   ┆ Line::cnt_s ┆ Line::cnt_s ┆ Line::cnt_u ┆ Line::cnt_ │\n",
       "│ i64 ┆ Site        ┆ i64 ┆ f64         ┆   ┆ tructur     ┆ ystem       ┆ ser         ┆ zero       │\n",
       "│     ┆ ---         ┆     ┆             ┆   ┆ ---         ┆ ---         ┆ ---         ┆ ---        │\n",
       "│     ┆ f64         ┆     ┆             ┆   ┆ u32         ┆ u32         ┆ u32         ┆ u32        │\n",
       "╞═════╪═════════════╪═════╪═════════════╪═══╪═════════════╪═════════════╪═════════════╪════════════╡\n",
       "│ 1   ┆ 68.95       ┆ 35  ┆ 61833.9     ┆ … ┆ 0           ┆ 0           ┆ 0           ┆ 0          │\n",
       "│ 2   ┆ 80.23       ┆ 31  ┆ 68441.85    ┆ … ┆ 0           ┆ 0           ┆ 0           ┆ 0          │\n",
       "│ 3   ┆ 69.47       ┆ 26  ┆ 59785.94    ┆ … ┆ 0           ┆ 0           ┆ 0           ┆ 0          │\n",
       "│ 4   ┆ 74.15       ┆ 29  ┆ 54806.18    ┆ … ┆ 0           ┆ 0           ┆ 0           ┆ 0          │\n",
       "│ 5   ┆ 68.37       ┆ 35  ┆ 73889.99    ┆ … ┆ 0           ┆ 0           ┆ 0           ┆ 0          │\n",
       "└─────┴─────────────┴─────┴─────────────┴───┴─────────────┴─────────────┴─────────────┴────────────┘"
      ]
     },
     "execution_count": 4,
     "metadata": {},
     "output_type": "execute_result"
    }
   ],
   "source": [
    "df2 = rs_cnt_vectorizer(df, c, '[^\\s\\w\\d%]', 0.02, 0.95, 2000)\n",
    "df2.head()"
   ]
  },
  {
   "cell_type": "code",
   "execution_count": null,
   "metadata": {},
   "outputs": [],
   "source": [
    "%%timeit\n",
    "df3 = tt.count_vectorizer(df, c, tokenizer=\" \", min_dfreq=0.02, max_dfreq=0.95, max_tokens=2000)"
   ]
  },
  {
   "cell_type": "code",
   "execution_count": 5,
   "metadata": {},
   "outputs": [],
   "source": [
    "from sklearn.feature_extraction.text import CountVectorizer\n",
    "corpus = df[c].to_list()"
   ]
  },
  {
   "cell_type": "code",
   "execution_count": 6,
   "metadata": {},
   "outputs": [
    {
     "data": {
      "text/html": [
       "<div><style>\n",
       ".dataframe > thead > tr > th,\n",
       ".dataframe > tbody > tr > td {\n",
       "  text-align: right;\n",
       "}\n",
       "</style>\n",
       "<small>shape: (1_000, 43)</small><table border=\"1\" class=\"dataframe\"><thead><tr><th>id</th><th>Daily Time Spent on Site</th><th>Age</th><th>Area Income</th><th>Daily Internet Usage</th><th>Ad Topic Line</th><th>City</th><th>Male</th><th>Country</th><th>Timestamp</th><th>Clicked on Ad</th><th>One_Hot_Test</th><th>Age Band</th><th>Daily Internet Usage Band</th><th>Area Income Band</th><th>Test_Constant</th><th>Test_Str_Constant</th><th>Test_BadColumn</th><th>Test_Binary</th><th>attitude</th><th>based</th><th>client</th><th>configurable</th><th>customer</th><th>desk</th><th>driven</th><th>engineered</th><th>focused</th><th>front</th><th>interface</th><th>line</th><th>local</th><th>monitored</th><th>multi</th><th>open</th><th>oriented</th><th>secured</th><th>sized</th><th>solution</th><th>structure</th><th>system</th><th>user</th><th>zero</th></tr><tr><td>i64</td><td>f64</td><td>i64</td><td>f64</td><td>f64</td><td>str</td><td>str</td><td>i64</td><td>str</td><td>str</td><td>i64</td><td>str</td><td>i64</td><td>i64</td><td>i64</td><td>i64</td><td>str</td><td>i64</td><td>str</td><td>i64</td><td>i64</td><td>i64</td><td>i64</td><td>i64</td><td>i64</td><td>i64</td><td>i64</td><td>i64</td><td>i64</td><td>i64</td><td>i64</td><td>i64</td><td>i64</td><td>i64</td><td>i64</td><td>i64</td><td>i64</td><td>i64</td><td>i64</td><td>i64</td><td>i64</td><td>i64</td><td>i64</td></tr></thead><tbody><tr><td>1</td><td>68.95</td><td>35</td><td>61833.9</td><td>256.09</td><td>&quot;Cloned 5thgene…</td><td>&quot;Wrightburgh&quot;</td><td>0</td><td>&quot;Tunisia&quot;</td><td>&quot;3/27/2016 0:53…</td><td>0</td><td>&quot;A&quot;</td><td>30</td><td>12</td><td>12</td><td>1</td><td>&quot;SSS&quot;</td><td>0</td><td>&quot;A&quot;</td><td>0</td><td>0</td><td>0</td><td>0</td><td>0</td><td>0</td><td>0</td><td>0</td><td>0</td><td>0</td><td>0</td><td>0</td><td>0</td><td>0</td><td>0</td><td>0</td><td>0</td><td>0</td><td>0</td><td>0</td><td>0</td><td>0</td><td>0</td><td>0</td></tr><tr><td>2</td><td>80.23</td><td>31</td><td>68441.85</td><td>193.77</td><td>&quot;Monitored nati…</td><td>&quot;West Jodi&quot;</td><td>1</td><td>&quot;Nauru&quot;</td><td>&quot;4/4/2016 1:39&quot;</td><td>0</td><td>&quot;B&quot;</td><td>30</td><td>9</td><td>13</td><td>1</td><td>&quot;SSS&quot;</td><td>null</td><td>&quot;B&quot;</td><td>0</td><td>0</td><td>0</td><td>0</td><td>0</td><td>0</td><td>0</td><td>0</td><td>0</td><td>0</td><td>0</td><td>0</td><td>0</td><td>1</td><td>0</td><td>0</td><td>0</td><td>0</td><td>0</td><td>0</td><td>0</td><td>0</td><td>0</td><td>0</td></tr><tr><td>3</td><td>69.47</td><td>26</td><td>59785.94</td><td>236.5</td><td>&quot;Organic bottom…</td><td>&quot;Davidton&quot;</td><td>0</td><td>&quot;San Marino&quot;</td><td>&quot;3/13/2016 20:3…</td><td>0</td><td>&quot;A&quot;</td><td>20</td><td>11</td><td>11</td><td>1</td><td>&quot;SSS&quot;</td><td>0</td><td>&quot;A&quot;</td><td>0</td><td>0</td><td>0</td><td>0</td><td>0</td><td>1</td><td>0</td><td>0</td><td>0</td><td>0</td><td>0</td><td>1</td><td>0</td><td>0</td><td>0</td><td>0</td><td>0</td><td>0</td><td>0</td><td>0</td><td>0</td><td>0</td><td>0</td><td>0</td></tr><tr><td>4</td><td>74.15</td><td>29</td><td>54806.18</td><td>245.89</td><td>&quot;Triple-buffere…</td><td>&quot;West Terrifurt…</td><td>1</td><td>&quot;Italy&quot;</td><td>&quot;1/10/2016 2:31…</td><td>0</td><td>&quot;B&quot;</td><td>20</td><td>12</td><td>10</td><td>1</td><td>&quot;SSS&quot;</td><td>null</td><td>&quot;B&quot;</td><td>0</td><td>0</td><td>0</td><td>0</td><td>0</td><td>0</td><td>0</td><td>0</td><td>0</td><td>0</td><td>0</td><td>0</td><td>0</td><td>0</td><td>0</td><td>0</td><td>0</td><td>0</td><td>0</td><td>0</td><td>0</td><td>0</td><td>0</td><td>0</td></tr><tr><td>5</td><td>68.37</td><td>35</td><td>73889.99</td><td>225.58</td><td>&quot;Robust logisti…</td><td>&quot;South Manuel&quot;</td><td>0</td><td>&quot;Iceland&quot;</td><td>&quot;6/3/2016 3:36&quot;</td><td>0</td><td>&quot;A&quot;</td><td>30</td><td>11</td><td>14</td><td>1</td><td>&quot;SSS&quot;</td><td>0</td><td>&quot;A&quot;</td><td>0</td><td>0</td><td>0</td><td>0</td><td>0</td><td>0</td><td>0</td><td>0</td><td>0</td><td>0</td><td>0</td><td>0</td><td>0</td><td>0</td><td>0</td><td>0</td><td>0</td><td>0</td><td>0</td><td>0</td><td>0</td><td>0</td><td>0</td><td>0</td></tr><tr><td>6</td><td>59.99</td><td>23</td><td>59761.56</td><td>226.74</td><td>&quot;Sharable clien…</td><td>&quot;Jamieberg&quot;</td><td>1</td><td>&quot;Norway&quot;</td><td>&quot;5/19/2016 14:3…</td><td>0</td><td>&quot;B&quot;</td><td>20</td><td>11</td><td>11</td><td>1</td><td>&quot;SSS&quot;</td><td>null</td><td>&quot;B&quot;</td><td>0</td><td>0</td><td>1</td><td>0</td><td>0</td><td>0</td><td>1</td><td>0</td><td>0</td><td>0</td><td>0</td><td>0</td><td>0</td><td>0</td><td>0</td><td>0</td><td>0</td><td>0</td><td>0</td><td>0</td><td>0</td><td>0</td><td>0</td><td>0</td></tr><tr><td>7</td><td>88.91</td><td>33</td><td>null</td><td>208.36</td><td>&quot;Enhanced dedic…</td><td>&quot;Brandonstad&quot;</td><td>0</td><td>&quot;Myanmar&quot;</td><td>&quot;1/28/2016 20:5…</td><td>0</td><td>&quot;A&quot;</td><td>30</td><td>10</td><td>null</td><td>1</td><td>&quot;SSS&quot;</td><td>0</td><td>&quot;A&quot;</td><td>0</td><td>0</td><td>0</td><td>0</td><td>0</td><td>0</td><td>0</td><td>0</td><td>0</td><td>0</td><td>0</td><td>0</td><td>0</td><td>0</td><td>0</td><td>0</td><td>0</td><td>0</td><td>0</td><td>0</td><td>0</td><td>0</td><td>0</td><td>0</td></tr><tr><td>8</td><td>66.0</td><td>48</td><td>24593.33</td><td>131.76</td><td>&quot;Reactive local…</td><td>&quot;Port Jefferybu…</td><td>1</td><td>&quot;Australia&quot;</td><td>&quot;3/7/2016 1:40&quot;</td><td>1</td><td>&quot;A&quot;</td><td>40</td><td>6</td><td>4</td><td>1</td><td>&quot;SSS&quot;</td><td>null</td><td>&quot;B&quot;</td><td>0</td><td>0</td><td>0</td><td>0</td><td>0</td><td>0</td><td>0</td><td>0</td><td>0</td><td>0</td><td>0</td><td>0</td><td>1</td><td>0</td><td>0</td><td>0</td><td>0</td><td>0</td><td>0</td><td>0</td><td>0</td><td>0</td><td>0</td><td>0</td></tr><tr><td>9</td><td>74.53</td><td>30</td><td>68862.0</td><td>221.51</td><td>&quot;Configurable c…</td><td>&quot;West Colin&quot;</td><td>1</td><td>&quot;Grenada&quot;</td><td>&quot;4/18/2016 9:33…</td><td>0</td><td>&quot;A&quot;</td><td>30</td><td>11</td><td>13</td><td>1</td><td>&quot;SSS&quot;</td><td>null</td><td>&quot;B&quot;</td><td>0</td><td>0</td><td>0</td><td>1</td><td>0</td><td>0</td><td>0</td><td>0</td><td>0</td><td>0</td><td>0</td><td>0</td><td>0</td><td>0</td><td>0</td><td>0</td><td>0</td><td>0</td><td>0</td><td>0</td><td>0</td><td>0</td><td>0</td><td>0</td></tr><tr><td>10</td><td>69.88</td><td>20</td><td>55642.32</td><td>183.82</td><td>&quot;Mandatory homo…</td><td>&quot;Ramirezton&quot;</td><td>1</td><td>&quot;Ghana&quot;</td><td>&quot;7/11/2016 1:42…</td><td>0</td><td>&quot;A&quot;</td><td>20</td><td>9</td><td>11</td><td>1</td><td>&quot;SSS&quot;</td><td>null</td><td>&quot;B&quot;</td><td>0</td><td>0</td><td>0</td><td>0</td><td>0</td><td>0</td><td>0</td><td>0</td><td>0</td><td>0</td><td>0</td><td>0</td><td>0</td><td>0</td><td>0</td><td>0</td><td>0</td><td>0</td><td>0</td><td>0</td><td>0</td><td>0</td><td>0</td><td>0</td></tr><tr><td>11</td><td>47.64</td><td>49</td><td>45632.51</td><td>122.02</td><td>&quot;Centralized ne…</td><td>&quot;West Brandonto…</td><td>0</td><td>&quot;Qatar&quot;</td><td>&quot;3/16/2016 20:1…</td><td>1</td><td>&quot;C&quot;</td><td>40</td><td>6</td><td>9</td><td>1</td><td>&quot;SSS&quot;</td><td>0</td><td>&quot;A&quot;</td><td>0</td><td>0</td><td>0</td><td>0</td><td>0</td><td>0</td><td>0</td><td>0</td><td>0</td><td>0</td><td>0</td><td>0</td><td>0</td><td>0</td><td>0</td><td>0</td><td>0</td><td>0</td><td>0</td><td>0</td><td>0</td><td>0</td><td>0</td><td>0</td></tr><tr><td>12</td><td>83.07</td><td>37</td><td>null</td><td>230.87</td><td>&quot;Team-oriented …</td><td>&quot;East Theresash…</td><td>1</td><td>&quot;Burundi&quot;</td><td>&quot;5/8/2016 8:10&quot;</td><td>0</td><td>&quot;A&quot;</td><td>30</td><td>11</td><td>null</td><td>1</td><td>&quot;SSS&quot;</td><td>null</td><td>&quot;B&quot;</td><td>0</td><td>0</td><td>0</td><td>0</td><td>0</td><td>0</td><td>0</td><td>0</td><td>0</td><td>0</td><td>0</td><td>0</td><td>1</td><td>0</td><td>0</td><td>0</td><td>1</td><td>0</td><td>0</td><td>0</td><td>0</td><td>0</td><td>0</td><td>0</td></tr><tr><td>&hellip;</td><td>&hellip;</td><td>&hellip;</td><td>&hellip;</td><td>&hellip;</td><td>&hellip;</td><td>&hellip;</td><td>&hellip;</td><td>&hellip;</td><td>&hellip;</td><td>&hellip;</td><td>&hellip;</td><td>&hellip;</td><td>&hellip;</td><td>&hellip;</td><td>&hellip;</td><td>&hellip;</td><td>&hellip;</td><td>&hellip;</td><td>&hellip;</td><td>&hellip;</td><td>&hellip;</td><td>&hellip;</td><td>&hellip;</td><td>&hellip;</td><td>&hellip;</td><td>&hellip;</td><td>&hellip;</td><td>&hellip;</td><td>&hellip;</td><td>&hellip;</td><td>&hellip;</td><td>&hellip;</td><td>&hellip;</td><td>&hellip;</td><td>&hellip;</td><td>&hellip;</td><td>&hellip;</td><td>&hellip;</td><td>&hellip;</td><td>&hellip;</td><td>&hellip;</td><td>&hellip;</td></tr><tr><td>989</td><td>89.71</td><td>48</td><td>51501.38</td><td>204.4</td><td>&quot;Versatile loca…</td><td>&quot;Sarafurt&quot;</td><td>1</td><td>&quot;Bahrain&quot;</td><td>&quot;2/17/2016 7:00…</td><td>0</td><td>&quot;A&quot;</td><td>40</td><td>10</td><td>10</td><td>1</td><td>&quot;SSS&quot;</td><td>null</td><td>&quot;B&quot;</td><td>0</td><td>0</td><td>0</td><td>0</td><td>0</td><td>0</td><td>0</td><td>0</td><td>0</td><td>0</td><td>0</td><td>0</td><td>1</td><td>0</td><td>0</td><td>0</td><td>0</td><td>0</td><td>0</td><td>0</td><td>0</td><td>0</td><td>0</td><td>0</td></tr><tr><td>990</td><td>70.96</td><td>31</td><td>55187.85</td><td>256.4</td><td>&quot;Ameliorated us…</td><td>&quot;South Denise&quot;</td><td>0</td><td>&quot;Saint Pierre a…</td><td>&quot;6/26/2016 7:01…</td><td>0</td><td>&quot;B&quot;</td><td>30</td><td>12</td><td>11</td><td>1</td><td>&quot;SSS&quot;</td><td>0</td><td>&quot;A&quot;</td><td>0</td><td>0</td><td>0</td><td>0</td><td>0</td><td>1</td><td>0</td><td>0</td><td>0</td><td>0</td><td>0</td><td>0</td><td>0</td><td>0</td><td>0</td><td>0</td><td>0</td><td>0</td><td>0</td><td>0</td><td>0</td><td>0</td><td>1</td><td>0</td></tr><tr><td>991</td><td>35.79</td><td>44</td><td>33813.08</td><td>165.62</td><td>&quot;Enterprise-wid…</td><td>&quot;North Katie&quot;</td><td>1</td><td>&quot;Tonga&quot;</td><td>&quot;4/20/2016 13:3…</td><td>1</td><td>&quot;A&quot;</td><td>40</td><td>8</td><td>6</td><td>1</td><td>&quot;SSS&quot;</td><td>null</td><td>&quot;B&quot;</td><td>0</td><td>0</td><td>0</td><td>0</td><td>0</td><td>0</td><td>0</td><td>0</td><td>0</td><td>0</td><td>0</td><td>0</td><td>0</td><td>0</td><td>0</td><td>0</td><td>0</td><td>0</td><td>0</td><td>0</td><td>0</td><td>0</td><td>0</td><td>0</td></tr><tr><td>992</td><td>38.96</td><td>38</td><td>36497.22</td><td>140.67</td><td>&quot;Versatile miss…</td><td>&quot;Mauricefurt&quot;</td><td>1</td><td>&quot;Comoros&quot;</td><td>&quot;7/21/2016 16:0…</td><td>1</td><td>&quot;A&quot;</td><td>30</td><td>7</td><td>7</td><td>1</td><td>&quot;SSS&quot;</td><td>null</td><td>&quot;B&quot;</td><td>0</td><td>0</td><td>0</td><td>0</td><td>0</td><td>0</td><td>0</td><td>0</td><td>0</td><td>0</td><td>0</td><td>0</td><td>0</td><td>0</td><td>0</td><td>0</td><td>0</td><td>0</td><td>0</td><td>0</td><td>0</td><td>0</td><td>0</td><td>0</td></tr><tr><td>993</td><td>69.17</td><td>40</td><td>66193.81</td><td>123.62</td><td>&quot;Extended leadi…</td><td>&quot;New Patrick&quot;</td><td>0</td><td>&quot;Montenegro&quot;</td><td>&quot;3/6/2016 11:36…</td><td>1</td><td>&quot;B&quot;</td><td>40</td><td>6</td><td>13</td><td>1</td><td>&quot;SSS&quot;</td><td>0</td><td>&quot;A&quot;</td><td>0</td><td>0</td><td>0</td><td>0</td><td>0</td><td>0</td><td>0</td><td>0</td><td>0</td><td>0</td><td>0</td><td>0</td><td>0</td><td>0</td><td>0</td><td>0</td><td>0</td><td>0</td><td>0</td><td>1</td><td>0</td><td>0</td><td>0</td><td>0</td></tr><tr><td>994</td><td>64.2</td><td>27</td><td>66200.96</td><td>227.63</td><td>&quot;Phased zero to…</td><td>&quot;Edwardsmouth&quot;</td><td>1</td><td>&quot;Isle of Man&quot;</td><td>&quot;2/11/2016 23:4…</td><td>0</td><td>&quot;A&quot;</td><td>20</td><td>11</td><td>13</td><td>1</td><td>&quot;SSS&quot;</td><td>null</td><td>&quot;B&quot;</td><td>0</td><td>0</td><td>0</td><td>0</td><td>0</td><td>0</td><td>0</td><td>0</td><td>0</td><td>0</td><td>0</td><td>0</td><td>0</td><td>0</td><td>0</td><td>0</td><td>0</td><td>0</td><td>0</td><td>0</td><td>0</td><td>0</td><td>0</td><td>1</td></tr><tr><td>995</td><td>43.7</td><td>28</td><td>63126.96</td><td>173.01</td><td>&quot;Front-line bif…</td><td>&quot;Nicholasland&quot;</td><td>0</td><td>&quot;Mayotte&quot;</td><td>&quot;4/4/2016 3:57&quot;</td><td>1</td><td>&quot;A&quot;</td><td>20</td><td>8</td><td>12</td><td>1</td><td>&quot;SSS&quot;</td><td>0</td><td>&quot;A&quot;</td><td>0</td><td>0</td><td>0</td><td>0</td><td>0</td><td>0</td><td>0</td><td>0</td><td>0</td><td>1</td><td>0</td><td>1</td><td>0</td><td>0</td><td>0</td><td>0</td><td>0</td><td>0</td><td>0</td><td>0</td><td>0</td><td>0</td><td>0</td><td>0</td></tr><tr><td>996</td><td>72.97</td><td>30</td><td>71384.57</td><td>208.58</td><td>&quot;Fundamental mo…</td><td>&quot;Duffystad&quot;</td><td>1</td><td>&quot;Lebanon&quot;</td><td>&quot;2/11/2016 21:4…</td><td>1</td><td>&quot;A&quot;</td><td>30</td><td>10</td><td>14</td><td>1</td><td>&quot;SSS&quot;</td><td>null</td><td>&quot;B&quot;</td><td>0</td><td>0</td><td>0</td><td>0</td><td>0</td><td>0</td><td>0</td><td>0</td><td>0</td><td>0</td><td>0</td><td>0</td><td>0</td><td>0</td><td>0</td><td>0</td><td>0</td><td>0</td><td>0</td><td>0</td><td>0</td><td>0</td><td>0</td><td>0</td></tr><tr><td>997</td><td>51.3</td><td>45</td><td>67782.17</td><td>134.42</td><td>&quot;Grass-roots co…</td><td>&quot;New Darlene&quot;</td><td>1</td><td>&quot;Bosnia and Her…</td><td>&quot;4/22/2016 2:07…</td><td>1</td><td>&quot;B&quot;</td><td>40</td><td>6</td><td>13</td><td>1</td><td>&quot;SSS&quot;</td><td>null</td><td>&quot;B&quot;</td><td>0</td><td>0</td><td>0</td><td>0</td><td>0</td><td>0</td><td>0</td><td>0</td><td>0</td><td>0</td><td>0</td><td>0</td><td>0</td><td>0</td><td>0</td><td>0</td><td>0</td><td>0</td><td>0</td><td>0</td><td>0</td><td>0</td><td>0</td><td>0</td></tr><tr><td>998</td><td>51.63</td><td>51</td><td>42415.72</td><td>120.37</td><td>&quot;Expanded intan…</td><td>&quot;South Jessica&quot;</td><td>1</td><td>&quot;Mongolia&quot;</td><td>&quot;2/1/2016 17:24…</td><td>1</td><td>&quot;C&quot;</td><td>50</td><td>6</td><td>8</td><td>1</td><td>&quot;SSS&quot;</td><td>null</td><td>&quot;B&quot;</td><td>0</td><td>0</td><td>0</td><td>0</td><td>0</td><td>0</td><td>0</td><td>0</td><td>0</td><td>0</td><td>0</td><td>0</td><td>0</td><td>0</td><td>0</td><td>0</td><td>0</td><td>0</td><td>0</td><td>1</td><td>0</td><td>0</td><td>0</td><td>0</td></tr><tr><td>999</td><td>55.55</td><td>19</td><td>41920.79</td><td>187.95</td><td>&quot;Proactive band…</td><td>&quot;West Steven&quot;</td><td>0</td><td>&quot;Guatemala&quot;</td><td>&quot;3/24/2016 2:35…</td><td>0</td><td>&quot;A&quot;</td><td>10</td><td>9</td><td>8</td><td>1</td><td>&quot;SSS&quot;</td><td>0</td><td>&quot;A&quot;</td><td>0</td><td>0</td><td>0</td><td>0</td><td>0</td><td>0</td><td>0</td><td>0</td><td>0</td><td>0</td><td>0</td><td>0</td><td>0</td><td>1</td><td>0</td><td>0</td><td>0</td><td>0</td><td>0</td><td>0</td><td>0</td><td>0</td><td>0</td><td>0</td></tr><tr><td>1000</td><td>45.01</td><td>26</td><td>29875.8</td><td>178.35</td><td>&quot;Virtual 5thgen…</td><td>&quot;Ronniemouth&quot;</td><td>0</td><td>&quot;Brazil&quot;</td><td>&quot;6/3/2016 21:43…</td><td>1</td><td>&quot;B&quot;</td><td>20</td><td>8</td><td>5</td><td>1</td><td>&quot;SSS&quot;</td><td>0</td><td>&quot;A&quot;</td><td>0</td><td>0</td><td>0</td><td>0</td><td>0</td><td>0</td><td>0</td><td>0</td><td>0</td><td>0</td><td>0</td><td>0</td><td>0</td><td>0</td><td>0</td><td>0</td><td>0</td><td>0</td><td>0</td><td>0</td><td>0</td><td>0</td><td>0</td><td>0</td></tr></tbody></table></div>"
      ],
      "text/plain": [
       "shape: (1_000, 43)\n",
       "┌──────┬──────────────────────────┬─────┬─────────────┬───┬───────────┬────────┬──────┬──────┐\n",
       "│ id   ┆ Daily Time Spent on Site ┆ Age ┆ Area Income ┆ … ┆ structure ┆ system ┆ user ┆ zero │\n",
       "│ ---  ┆ ---                      ┆ --- ┆ ---         ┆   ┆ ---       ┆ ---    ┆ ---  ┆ ---  │\n",
       "│ i64  ┆ f64                      ┆ i64 ┆ f64         ┆   ┆ i64       ┆ i64    ┆ i64  ┆ i64  │\n",
       "╞══════╪══════════════════════════╪═════╪═════════════╪═══╪═══════════╪════════╪══════╪══════╡\n",
       "│ 1    ┆ 68.95                    ┆ 35  ┆ 61833.9     ┆ … ┆ 0         ┆ 0      ┆ 0    ┆ 0    │\n",
       "│ 2    ┆ 80.23                    ┆ 31  ┆ 68441.85    ┆ … ┆ 0         ┆ 0      ┆ 0    ┆ 0    │\n",
       "│ 3    ┆ 69.47                    ┆ 26  ┆ 59785.94    ┆ … ┆ 0         ┆ 0      ┆ 0    ┆ 0    │\n",
       "│ 4    ┆ 74.15                    ┆ 29  ┆ 54806.18    ┆ … ┆ 0         ┆ 0      ┆ 0    ┆ 0    │\n",
       "│ …    ┆ …                        ┆ …   ┆ …           ┆ … ┆ …         ┆ …      ┆ …    ┆ …    │\n",
       "│ 997  ┆ 51.3                     ┆ 45  ┆ 67782.17    ┆ … ┆ 0         ┆ 0      ┆ 0    ┆ 0    │\n",
       "│ 998  ┆ 51.63                    ┆ 51  ┆ 42415.72    ┆ … ┆ 0         ┆ 0      ┆ 0    ┆ 0    │\n",
       "│ 999  ┆ 55.55                    ┆ 19  ┆ 41920.79    ┆ … ┆ 0         ┆ 0      ┆ 0    ┆ 0    │\n",
       "│ 1000 ┆ 45.01                    ┆ 26  ┆ 29875.8     ┆ … ┆ 0         ┆ 0      ┆ 0    ┆ 0    │\n",
       "└──────┴──────────────────────────┴─────┴─────────────┴───┴───────────┴────────┴──────┴──────┘"
      ]
     },
     "execution_count": 6,
     "metadata": {},
     "output_type": "execute_result"
    }
   ],
   "source": [
    "\n",
    "vectorizer = CountVectorizer(max_df=0.95, min_df=0.02)\n",
    "X = np.array(vectorizer.fit_transform(corpus).todense())\n",
    "cols = vectorizer.get_feature_names_out().tolist()\n",
    "df_words = pl.from_numpy(X, schema=cols)\n",
    "df_combined = pl.concat([df, df_words], how=\"horizontal\")\n",
    "df_combined"
   ]
  },
  {
   "cell_type": "code",
   "execution_count": 7,
   "metadata": {},
   "outputs": [
    {
     "data": {
      "text/plain": [
       "35"
      ]
     },
     "execution_count": 7,
     "metadata": {},
     "output_type": "execute_result"
    }
   ],
   "source": [
    "df_combined[\"system\"].sum()"
   ]
  },
  {
   "cell_type": "code",
   "execution_count": 8,
   "metadata": {},
   "outputs": [
    {
     "data": {
      "text/html": [
       "<div><style>\n",
       ".dataframe > thead > tr > th,\n",
       ".dataframe > tbody > tr > td {\n",
       "  text-align: right;\n",
       "}\n",
       "</style>\n",
       "<small>shape: (17, 3)</small><table border=\"1\" class=\"dataframe\"><thead><tr><th>stemmed</th><th>Ad Topic Line</th><th>doc_freq</th></tr><tr><td>str</td><td>list[str]</td><td>f32</td></tr></thead><tbody><tr><td>&quot;monitor&quot;</td><td>[&quot;monitoring&quot;, &quot;monitored&quot;]</td><td>0.022</td></tr><tr><td>&quot;local&quot;</td><td>[&quot;local&quot;]</td><td>0.023</td></tr><tr><td>&quot;structur&quot;</td><td>[&quot;structure&quot;]</td><td>0.02</td></tr><tr><td>&quot;secur&quot;</td><td>[&quot;secured&quot;]</td><td>0.023</td></tr><tr><td>&quot;zero&quot;</td><td>[&quot;zero&quot;]</td><td>0.022</td></tr><tr><td>&quot;user&quot;</td><td>[&quot;user&quot;]</td><td>0.024</td></tr><tr><td>&quot;analyz&quot;</td><td>[&quot;analyzing&quot;, &quot;analyzer&quot;]</td><td>0.02</td></tr><tr><td>&quot;frontlin&quot;</td><td>[&quot;frontline&quot;]</td><td>0.02</td></tr><tr><td>&quot;manag&quot;</td><td>[&quot;management&quot;, &quot;managed&quot;]</td><td>0.029</td></tr><tr><td>&quot;optim&quot;</td><td>[&quot;optimizing&quot;, &quot;optimal&quot;, &quot;optimized&quot;]</td><td>0.025</td></tr><tr><td>&quot;solut&quot;</td><td>[&quot;solution&quot;]</td><td>0.029</td></tr><tr><td>&quot;interfac&quot;</td><td>[&quot;interface&quot;]</td><td>0.033</td></tr><tr><td>&quot;system&quot;</td><td>[&quot;system&quot;, &quot;systemic&quot;]</td><td>0.036</td></tr><tr><td>&quot;network&quot;</td><td>[&quot;networked&quot;, &quot;network&quot;]</td><td>0.023</td></tr><tr><td>&quot;implement&quot;</td><td>[&quot;implemented&quot;, &quot;implementation&quot;]</td><td>0.022</td></tr><tr><td>&quot;focus&quot;</td><td>[&quot;focused&quot;, &quot;focus&quot;]</td><td>0.023</td></tr><tr><td>&quot;graphic&quot;</td><td>[&quot;graphical&quot;, &quot;graphic&quot;]</td><td>0.026</td></tr></tbody></table></div>"
      ],
      "text/plain": [
       "shape: (17, 3)\n",
       "┌───────────┬───────────────────────────────────┬──────────┐\n",
       "│ stemmed   ┆ Ad Topic Line                     ┆ doc_freq │\n",
       "│ ---       ┆ ---                               ┆ ---      │\n",
       "│ str       ┆ list[str]                         ┆ f32      │\n",
       "╞═══════════╪═══════════════════════════════════╪══════════╡\n",
       "│ monitor   ┆ [\"monitoring\", \"monitored\"]       ┆ 0.022    │\n",
       "│ local     ┆ [\"local\"]                         ┆ 0.023    │\n",
       "│ structur  ┆ [\"structure\"]                     ┆ 0.02     │\n",
       "│ secur     ┆ [\"secured\"]                       ┆ 0.023    │\n",
       "│ …         ┆ …                                 ┆ …        │\n",
       "│ network   ┆ [\"networked\", \"network\"]          ┆ 0.023    │\n",
       "│ implement ┆ [\"implemented\", \"implementation\"… ┆ 0.022    │\n",
       "│ focus     ┆ [\"focused\", \"focus\"]              ┆ 0.023    │\n",
       "│ graphic   ┆ [\"graphical\", \"graphic\"]          ┆ 0.026    │\n",
       "└───────────┴───────────────────────────────────┴──────────┘"
      ]
     },
     "execution_count": 8,
     "metadata": {},
     "output_type": "execute_result"
    }
   ],
   "source": [
    "rs_get_stem_table(df, c, '[^\\s\\w\\d%]', 0.02, 0.95, 2000)"
   ]
  },
  {
   "cell_type": "code",
   "execution_count": 9,
   "metadata": {},
   "outputs": [
    {
     "data": {
      "text/plain": [
       "57"
      ]
     },
     "execution_count": 9,
     "metadata": {},
     "output_type": "execute_result"
    }
   ],
   "source": [
    "df2[\"Ad Topic Line::cnt_system\"].sum()"
   ]
  },
  {
   "cell_type": "code",
   "execution_count": 10,
   "metadata": {},
   "outputs": [
    {
     "data": {
      "text/plain": [
       "20"
      ]
     },
     "execution_count": 10,
     "metadata": {},
     "output_type": "execute_result"
    }
   ],
   "source": [
    "df2[\"Ad Topic Line::cnt_analyz\"].sum()"
   ]
  },
  {
   "cell_type": "code",
   "execution_count": null,
   "metadata": {},
   "outputs": [],
   "source": [
    "df_words = pl.from_numpy(X, schema=cols)\n",
    "df_words"
   ]
  },
  {
   "cell_type": "code",
   "execution_count": null,
   "metadata": {},
   "outputs": [],
   "source": []
  },
  {
   "cell_type": "code",
   "execution_count": null,
   "metadata": {},
   "outputs": [],
   "source": [
    "df = pl.read_csv(\"../data/advertising.csv\")\n",
    "df.head()"
   ]
  },
  {
   "cell_type": "code",
   "execution_count": null,
   "metadata": {},
   "outputs": [],
   "source": [
    "import dsds.metrics as me\n",
    "from sklearn.metrics import log_loss\n",
    "\n",
    "def pure_numpy_logloss(y_actual:np.ndarray, y_predict:np.ndarray):\n",
    "    return -np.mean(y_actual * np.log(y_predict) + (1 - y_actual) * np.log(1 - y_predict))\n",
    "\n",
    "pred = np.random.random(size=500_000) # Some random fake predictions\n",
    "actual = np.round(np.random.random(size=500_000)).astype(np.int8) # Some random fake actual labels\n",
    "# Yielding the same result up to 12 digits\n",
    "print(round(me.logloss(actual, pred), 12) == round(log_loss(actual, pred), 12))\n",
    "print(round(me.logloss(actual, pred), 12) == round(pure_numpy_logloss(actual, pred), 12))"
   ]
  },
  {
   "cell_type": "code",
   "execution_count": null,
   "metadata": {},
   "outputs": [],
   "source": [
    "%%timeit\n",
    "me.logloss(actual, pred) # dsds"
   ]
  },
  {
   "cell_type": "code",
   "execution_count": null,
   "metadata": {},
   "outputs": [],
   "source": [
    "%%timeit\n",
    "log_loss(actual, pred) # sklearn"
   ]
  },
  {
   "cell_type": "code",
   "execution_count": null,
   "metadata": {},
   "outputs": [],
   "source": [
    "%%timeit\n",
    "pure_numpy_logloss(actual, pred) # pure numpy"
   ]
  },
  {
   "cell_type": "code",
   "execution_count": null,
   "metadata": {},
   "outputs": [],
   "source": [
    "# from sklearn.datasets import make_classification\n",
    "# orig_x, orig_y = make_classification(n_samples = 100_000, n_features = 10, n_informative = 5, n_redundant = 5)\n",
    "# # This is a Polars dataframe. This is dsds package's favored dataframe. dsds relies on Polars heavily.\n",
    "# # You must turn other dataframe formats into Polars for dsds to work.\n",
    "# df = pl.from_numpy(orig_x).insert_at_idx(0, pl.Series(\"target\", orig_y)) \n",
    "# # Turn it into Pandas.\n",
    "# df_pd = df.to_pandas()\n",
    "# target = \"target\"\n",
    "# features = df.columns\n",
    "# features.remove(target)"
   ]
  },
  {
   "cell_type": "code",
   "execution_count": null,
   "metadata": {},
   "outputs": [],
   "source": [
    "df = pl.DataFrame({\n",
    "    \"a\": [1, np.nan, None],\n",
    "    \"b\": [1,2,3]\n",
    "})\n",
    "df"
   ]
  },
  {
   "cell_type": "code",
   "execution_count": null,
   "metadata": {},
   "outputs": [],
   "source": [
    "ps.invalid_inferral(df, threshold=0.5, include_null=True)"
   ]
  },
  {
   "cell_type": "code",
   "execution_count": null,
   "metadata": {},
   "outputs": [],
   "source": [
    "ps.discrete_inferral(df)"
   ]
  },
  {
   "cell_type": "code",
   "execution_count": null,
   "metadata": {},
   "outputs": [],
   "source": [
    "temp = ps.get_unique_count(df.with_row_count(offset=1).set_sorted(\"row_nr\"), include_null_count=True)\n",
    "len_df = temp.filter(pl.col(\"column\") == \"row_nr\").item(0,1)\n",
    "print(len_df)\n",
    "temp"
   ]
  },
  {
   "cell_type": "code",
   "execution_count": null,
   "metadata": {},
   "outputs": [],
   "source": [
    "from sklearn.datasets import make_classification\n",
    "orig_x, orig_y = make_classification(n_samples = 50_000, n_features = 50, n_informative = 20, n_redundant = 30)\n",
    "df_pl = pl.from_numpy(orig_x).insert_at_idx(0, pl.Series(\"target\", orig_y))\n",
    "features = df_pl.columns\n",
    "features.remove(\"target\")"
   ]
  },
  {
   "cell_type": "code",
   "execution_count": null,
   "metadata": {},
   "outputs": [],
   "source": [
    "for train, test in sa.time_series_split(df_pl, n_splits=5, offset = 1000):\n",
    "    print(train.shape)\n",
    "    print(test.shape)"
   ]
  },
  {
   "cell_type": "code",
   "execution_count": null,
   "metadata": {},
   "outputs": [],
   "source": [
    "%%timeit\n",
    "fs.discrete_ig(df_pl, target=\"target\", cols=features)"
   ]
  },
  {
   "cell_type": "code",
   "execution_count": null,
   "metadata": {},
   "outputs": [],
   "source": [
    "%%timeit\n",
    "fs.discrete_ig2(df_pl, target=\"target\", cols=features)"
   ]
  },
  {
   "cell_type": "code",
   "execution_count": null,
   "metadata": {},
   "outputs": [],
   "source": []
  },
  {
   "cell_type": "code",
   "execution_count": null,
   "metadata": {},
   "outputs": [],
   "source": [
    "\n",
    "me.logloss(actual, pred, check_binary=False)"
   ]
  },
  {
   "cell_type": "code",
   "execution_count": null,
   "metadata": {},
   "outputs": [],
   "source": []
  },
  {
   "cell_type": "code",
   "execution_count": null,
   "metadata": {},
   "outputs": [],
   "source": []
  },
  {
   "cell_type": "code",
   "execution_count": null,
   "metadata": {},
   "outputs": [],
   "source": [
    "import nltk\n",
    "from nltk.corpus import stopwords"
   ]
  },
  {
   "cell_type": "code",
   "execution_count": null,
   "metadata": {},
   "outputs": [],
   "source": []
  }
 ],
 "metadata": {
  "kernelspec": {
   "display_name": "my_py11",
   "language": "python",
   "name": "python3"
  },
  "language_info": {
   "codemirror_mode": {
    "name": "ipython",
    "version": 3
   },
   "file_extension": ".py",
   "mimetype": "text/x-python",
   "name": "python",
   "nbconvert_exporter": "python",
   "pygments_lexer": "ipython3",
   "version": "3.11.3"
  },
  "orig_nbformat": 4
 },
 "nbformat": 4,
 "nbformat_minor": 2
}
