{
 "cells": [
  {
   "cell_type": "code",
   "execution_count": 1,
   "metadata": {},
   "outputs": [],
   "source": [
    "from __future__ import annotations\n",
    "import polars as pl\n",
    "import inspect\n",
    "import numpy as np\n",
    "from typing import Tuple"
   ]
  },
  {
   "cell_type": "code",
   "execution_count": null,
   "metadata": {},
   "outputs": [],
   "source": [
    "from dsds.metrics import roc_auc\n",
    "from dsds.transform import multicat_one_hot_encode"
   ]
  },
  {
   "cell_type": "code",
   "execution_count": null,
   "metadata": {},
   "outputs": [],
   "source": [
    "pred = np.random.random(size=1_000_000) # .reshape(-1, 1) # Predictions\n",
    "actual = np.random.random(size=1_000_000) # Actuals"
   ]
  },
  {
   "cell_type": "code",
   "execution_count": null,
   "metadata": {},
   "outputs": [],
   "source": [
    "pl.show_versions()"
   ]
  },
  {
   "cell_type": "code",
   "execution_count": null,
   "metadata": {},
   "outputs": [],
   "source": [
    "df = pl.DataFrame({\n",
    "    \"text1\":[\"abc|ggg\", \"abc|sss\", \"ccc|abc\"],\n",
    "    \"text2\":[\"aaa|bbb\", \"ccc|aaa\", \"bbb|ccc\"]\n",
    "})\n",
    "print(df)"
   ]
  },
  {
   "cell_type": "code",
   "execution_count": null,
   "metadata": {},
   "outputs": [],
   "source": [
    "print(multicat_one_hot_encode(df, cols=[\"text1\", \"text2\"], delimiter=\"|\"))"
   ]
  },
  {
   "cell_type": "code",
   "execution_count": null,
   "metadata": {},
   "outputs": [],
   "source": []
  },
  {
   "cell_type": "code",
   "execution_count": null,
   "metadata": {},
   "outputs": [],
   "source": [
    "test = pl.DataFrame({\n",
    "    \"a\":[1,1,1,1]\n",
    "    , \"b\": [None, None , \"a\", \"a\"]\n",
    "})\n",
    "test"
   ]
  },
  {
   "cell_type": "code",
   "execution_count": 2,
   "metadata": {},
   "outputs": [],
   "source": [
    "import dsds.sample as sa\n",
    "import dsds.transform as t\n",
    "import polars as pl\n",
    "from sklearn.datasets import make_classification\n",
    "\n",
    "orig_x, orig_y = make_classification(n_samples = 300_000, n_features = 50, n_informative = 25, n_redundant = 25)\n",
    "df = pl.from_numpy(orig_x).insert_at_idx(0, pl.Series(\"target\", orig_y))\n",
    "target = \"target\"\n",
    "features = df.columns\n",
    "features.remove(target)"
   ]
  },
  {
   "cell_type": "code",
   "execution_count": null,
   "metadata": {},
   "outputs": [],
   "source": [
    "df.groupby(\"target\").count()"
   ]
  },
  {
   "cell_type": "code",
   "execution_count": 4,
   "metadata": {},
   "outputs": [
    {
     "name": "stdout",
     "output_type": "stream",
     "text": [
      "shape: (14, 2)\n",
      "┌─────┬─────┐\n",
      "│ a   ┆ b   │\n",
      "│ --- ┆ --- │\n",
      "│ str ┆ str │\n",
      "╞═════╪═════╡\n",
      "│ a   ┆ a   │\n",
      "│ b   ┆ b   │\n",
      "│ c   ┆ c   │\n",
      "│ c   ┆ d   │\n",
      "│ …   ┆ …   │\n",
      "│ c   ┆ d   │\n",
      "│ c   ┆ d   │\n",
      "│ c   ┆ d   │\n",
      "│ c   ┆ d   │\n",
      "└─────┴─────┘\n"
     ]
    }
   ],
   "source": [
    "df = pl.DataFrame({\n",
    "    \"a\":[\"a\", \"b\", \"c\", \"c\", \"c\", \"c\", \"c\", \"c\", \"c\", \"c\", \"c\", \"c\", \"c\", \"c\"],\n",
    "    \"b\":[\"a\", \"b\", \"c\", \"d\", \"d\", \"d\", \"d\", \"d\", \"d\", \"d\", \"d\", \"d\", \"d\", \"d\"]\n",
    "})\n",
    "print(df)"
   ]
  },
  {
   "cell_type": "code",
   "execution_count": 6,
   "metadata": {},
   "outputs": [
    {
     "name": "stdout",
     "output_type": "stream",
     "text": [
      "shape: (14, 2)\n",
      "┌─────┬───────┐\n",
      "│ a   ┆ b     │\n",
      "│ --- ┆ ---   │\n",
      "│ str ┆ str   │\n",
      "╞═════╪═══════╡\n",
      "│ a|b ┆ a|c|b │\n",
      "│ a|b ┆ a|c|b │\n",
      "│ c   ┆ a|c|b │\n",
      "│ c   ┆ d     │\n",
      "│ …   ┆ …     │\n",
      "│ c   ┆ d     │\n",
      "│ c   ┆ d     │\n",
      "│ c   ┆ d     │\n",
      "│ c   ┆ d     │\n",
      "└─────┴───────┘\n"
     ]
    }
   ],
   "source": [
    "print(t.merge_infreq_values(df, [\"a\", \"b\"], min_count=3))"
   ]
  },
  {
   "cell_type": "code",
   "execution_count": null,
   "metadata": {},
   "outputs": [],
   "source": [
    "df.groupby(1).agg(\n",
    "    pl.all().value_counts()\n",
    ")"
   ]
  },
  {
   "cell_type": "code",
   "execution_count": null,
   "metadata": {},
   "outputs": [],
   "source": [
    "for c in df.columns:\n",
    "    temp = df.lazy().groupby(c).count()"
   ]
  }
 ],
 "metadata": {
  "kernelspec": {
   "display_name": "my_py11",
   "language": "python",
   "name": "python3"
  },
  "language_info": {
   "codemirror_mode": {
    "name": "ipython",
    "version": 3
   },
   "file_extension": ".py",
   "mimetype": "text/x-python",
   "name": "python",
   "nbconvert_exporter": "python",
   "pygments_lexer": "ipython3",
   "version": "3.11.3"
  },
  "orig_nbformat": 4
 },
 "nbformat": 4,
 "nbformat_minor": 2
}
