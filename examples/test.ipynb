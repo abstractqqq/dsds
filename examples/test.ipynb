{
 "cells": [
  {
   "cell_type": "code",
   "execution_count": null,
   "metadata": {},
   "outputs": [],
   "source": [
    "def multiple_by_2(x:int) -> int:\n",
    "    return x * 2 "
   ]
  },
  {
   "cell_type": "code",
   "execution_count": null,
   "metadata": {},
   "outputs": [],
   "source": [
    "func = multiple_by_2"
   ]
  },
  {
   "cell_type": "code",
   "execution_count": null,
   "metadata": {},
   "outputs": [],
   "source": [
    "func.__module__"
   ]
  },
  {
   "cell_type": "code",
   "execution_count": null,
   "metadata": {},
   "outputs": [],
   "source": [
    "import sys\n",
    "sys.path.append('../src')"
   ]
  },
  {
   "cell_type": "code",
   "execution_count": null,
   "metadata": {},
   "outputs": [],
   "source": [
    "from eda.eda_selection import _f_score, mrmr, MRMR_STRATEGY"
   ]
  },
  {
   "cell_type": "code",
   "execution_count": null,
   "metadata": {},
   "outputs": [],
   "source": [
    "_f_score.__module__"
   ]
  },
  {
   "cell_type": "code",
   "execution_count": null,
   "metadata": {},
   "outputs": [],
   "source": [
    "func.__name__"
   ]
  },
  {
   "cell_type": "code",
   "execution_count": 1,
   "metadata": {},
   "outputs": [],
   "source": [
    "import polars as pl \n",
    "import json "
   ]
  },
  {
   "cell_type": "code",
   "execution_count": 2,
   "metadata": {},
   "outputs": [
    {
     "data": {
      "text/html": [
       "<div><style>\n",
       ".dataframe > thead > tr > th,\n",
       ".dataframe > tbody > tr > td {\n",
       "  text-align: right;\n",
       "}\n",
       "</style>\n",
       "<small>shape: (2, 1)</small><table border=\"1\" class=\"dataframe\"><thead><tr><th>a</th></tr><tr><td>struct[2]</td></tr></thead><tbody><tr><td>{1,2}</td></tr><tr><td>{null,null}</td></tr></tbody></table></div>"
      ],
      "text/plain": [
       "shape: (2, 1)\n",
       "┌─────────────┐\n",
       "│ a           │\n",
       "│ ---         │\n",
       "│ struct[2]   │\n",
       "╞═════════════╡\n",
       "│ {1,2}       │\n",
       "│ {null,null} │\n",
       "└─────────────┘"
      ]
     },
     "execution_count": 2,
     "metadata": {},
     "output_type": "execute_result"
    }
   ],
   "source": [
    "df = pl.DataFrame({\n",
    "    \"a\":[{\"test\":1, \"test2\":2}, {\"a\":1, \"df\":2}]\n",
    "})\n",
    "df "
   ]
  },
  {
   "cell_type": "code",
   "execution_count": 1,
   "metadata": {},
   "outputs": [
    {
     "ename": "TypeError",
     "evalue": "'dict_keys' object is not subscriptable",
     "output_type": "error",
     "traceback": [
      "\u001b[1;31m---------------------------------------------------------------------------\u001b[0m",
      "\u001b[1;31mTypeError\u001b[0m                                 Traceback (most recent call last)",
      "Cell \u001b[1;32mIn[1], line 2\u001b[0m\n\u001b[0;32m      1\u001b[0m a \u001b[39m=\u001b[39m {\u001b[39m\"\u001b[39m\u001b[39ma\u001b[39m\u001b[39m\"\u001b[39m:\u001b[39m1\u001b[39m,\u001b[39m\"\u001b[39m\u001b[39mb\u001b[39m\u001b[39m\"\u001b[39m:\u001b[39m2\u001b[39m}\n\u001b[1;32m----> 2\u001b[0m a\u001b[39m.\u001b[39;49mkeys()[\u001b[39m1\u001b[39;49m]\n",
      "\u001b[1;31mTypeError\u001b[0m: 'dict_keys' object is not subscriptable"
     ]
    }
   ],
   "source": [
    "a = {\"a\":1,\"b\":2}\n",
    "a.keys()[1]"
   ]
  },
  {
   "cell_type": "code",
   "execution_count": 3,
   "metadata": {},
   "outputs": [],
   "source": [
    "import polars as pl "
   ]
  },
  {
   "cell_type": "code",
   "execution_count": 7,
   "metadata": {},
   "outputs": [
    {
     "data": {
      "text/plain": [
       "'polars.io.csv.functions'"
      ]
     },
     "execution_count": 7,
     "metadata": {},
     "output_type": "execute_result"
    }
   ],
   "source": [
    "pl.read_csv.__module__"
   ]
  },
  {
   "cell_type": "code",
   "execution_count": 10,
   "metadata": {},
   "outputs": [],
   "source": [
    "read_csv = getattr(__import__('polars.io.csv.functions'), \"read_csv\")"
   ]
  },
  {
   "cell_type": "code",
   "execution_count": 11,
   "metadata": {},
   "outputs": [
    {
     "data": {
      "text/html": [
       "<div><style>\n",
       ".dataframe > thead > tr > th,\n",
       ".dataframe > tbody > tr > td {\n",
       "  text-align: right;\n",
       "}\n",
       "</style>\n",
       "<small>shape: (1_000, 11)</small><table border=\"1\" class=\"dataframe\"><thead><tr><th>Daily Time Spent on Site</th><th>Age</th><th>Area Income</th><th>Daily Internet Usage</th><th>Ad Topic Line</th><th>City</th><th>Male</th><th>Country</th><th>Timestamp</th><th>Clicked on Ad</th><th>One_Hot_Test</th></tr><tr><td>f64</td><td>i64</td><td>f64</td><td>f64</td><td>str</td><td>str</td><td>i64</td><td>str</td><td>str</td><td>i64</td><td>str</td></tr></thead><tbody><tr><td>68.95</td><td>35</td><td>61833.9</td><td>256.09</td><td>&quot;Cloned 5thgene…</td><td>&quot;Wrightburgh&quot;</td><td>0</td><td>&quot;Tunisia&quot;</td><td>&quot;3/27/2016 0:53…</td><td>0</td><td>&quot;A&quot;</td></tr><tr><td>80.23</td><td>31</td><td>68441.85</td><td>193.77</td><td>&quot;Monitored nati…</td><td>&quot;West Jodi&quot;</td><td>1</td><td>&quot;Nauru&quot;</td><td>&quot;4/4/2016 1:39&quot;</td><td>0</td><td>&quot;B&quot;</td></tr><tr><td>69.47</td><td>26</td><td>59785.94</td><td>236.5</td><td>&quot;Organic bottom…</td><td>&quot;Davidton&quot;</td><td>0</td><td>&quot;San Marino&quot;</td><td>&quot;3/13/2016 20:3…</td><td>0</td><td>&quot;A&quot;</td></tr><tr><td>74.15</td><td>29</td><td>54806.18</td><td>245.89</td><td>&quot;Triple-buffere…</td><td>&quot;West Terrifurt…</td><td>1</td><td>&quot;Italy&quot;</td><td>&quot;1/10/2016 2:31…</td><td>0</td><td>&quot;B&quot;</td></tr><tr><td>68.37</td><td>35</td><td>73889.99</td><td>225.58</td><td>&quot;Robust logisti…</td><td>&quot;South Manuel&quot;</td><td>0</td><td>&quot;Iceland&quot;</td><td>&quot;6/3/2016 3:36&quot;</td><td>0</td><td>&quot;A&quot;</td></tr><tr><td>59.99</td><td>23</td><td>59761.56</td><td>226.74</td><td>&quot;Sharable clien…</td><td>&quot;Jamieberg&quot;</td><td>1</td><td>&quot;Norway&quot;</td><td>&quot;5/19/2016 14:3…</td><td>0</td><td>&quot;B&quot;</td></tr><tr><td>88.91</td><td>33</td><td>null</td><td>208.36</td><td>&quot;Enhanced dedic…</td><td>&quot;Brandonstad&quot;</td><td>0</td><td>&quot;Myanmar&quot;</td><td>&quot;1/28/2016 20:5…</td><td>0</td><td>&quot;A&quot;</td></tr><tr><td>66.0</td><td>48</td><td>24593.33</td><td>131.76</td><td>&quot;Reactive local…</td><td>&quot;Port Jefferybu…</td><td>1</td><td>&quot;Australia&quot;</td><td>&quot;3/7/2016 1:40&quot;</td><td>1</td><td>&quot;A&quot;</td></tr><tr><td>74.53</td><td>30</td><td>68862.0</td><td>221.51</td><td>&quot;Configurable c…</td><td>&quot;West Colin&quot;</td><td>1</td><td>&quot;Grenada&quot;</td><td>&quot;4/18/2016 9:33…</td><td>0</td><td>&quot;A&quot;</td></tr><tr><td>69.88</td><td>20</td><td>55642.32</td><td>183.82</td><td>&quot;Mandatory homo…</td><td>&quot;Ramirezton&quot;</td><td>1</td><td>&quot;Ghana&quot;</td><td>&quot;7/11/2016 1:42…</td><td>0</td><td>&quot;A&quot;</td></tr><tr><td>47.64</td><td>49</td><td>45632.51</td><td>122.02</td><td>&quot;Centralized ne…</td><td>&quot;West Brandonto…</td><td>0</td><td>&quot;Qatar&quot;</td><td>&quot;3/16/2016 20:1…</td><td>1</td><td>&quot;C&quot;</td></tr><tr><td>83.07</td><td>37</td><td>null</td><td>230.87</td><td>&quot;Team-oriented …</td><td>&quot;East Theresash…</td><td>1</td><td>&quot;Burundi&quot;</td><td>&quot;5/8/2016 8:10&quot;</td><td>0</td><td>&quot;A&quot;</td></tr><tr><td>&hellip;</td><td>&hellip;</td><td>&hellip;</td><td>&hellip;</td><td>&hellip;</td><td>&hellip;</td><td>&hellip;</td><td>&hellip;</td><td>&hellip;</td><td>&hellip;</td><td>&hellip;</td></tr><tr><td>89.71</td><td>48</td><td>51501.38</td><td>204.4</td><td>&quot;Versatile loca…</td><td>&quot;Sarafurt&quot;</td><td>1</td><td>&quot;Bahrain&quot;</td><td>&quot;2/17/2016 7:00…</td><td>0</td><td>&quot;A&quot;</td></tr><tr><td>70.96</td><td>31</td><td>55187.85</td><td>256.4</td><td>&quot;Ameliorated us…</td><td>&quot;South Denise&quot;</td><td>0</td><td>&quot;Saint Pierre a…</td><td>&quot;6/26/2016 7:01…</td><td>0</td><td>&quot;B&quot;</td></tr><tr><td>35.79</td><td>44</td><td>33813.08</td><td>165.62</td><td>&quot;Enterprise-wid…</td><td>&quot;North Katie&quot;</td><td>1</td><td>&quot;Tonga&quot;</td><td>&quot;4/20/2016 13:3…</td><td>1</td><td>&quot;A&quot;</td></tr><tr><td>38.96</td><td>38</td><td>36497.22</td><td>140.67</td><td>&quot;Versatile miss…</td><td>&quot;Mauricefurt&quot;</td><td>1</td><td>&quot;Comoros&quot;</td><td>&quot;7/21/2016 16:0…</td><td>1</td><td>&quot;A&quot;</td></tr><tr><td>69.17</td><td>40</td><td>66193.81</td><td>123.62</td><td>&quot;Extended leadi…</td><td>&quot;New Patrick&quot;</td><td>0</td><td>&quot;Montenegro&quot;</td><td>&quot;3/6/2016 11:36…</td><td>1</td><td>&quot;B&quot;</td></tr><tr><td>64.2</td><td>27</td><td>66200.96</td><td>227.63</td><td>&quot;Phased zero to…</td><td>&quot;Edwardsmouth&quot;</td><td>1</td><td>&quot;Isle of Man&quot;</td><td>&quot;2/11/2016 23:4…</td><td>0</td><td>&quot;A&quot;</td></tr><tr><td>43.7</td><td>28</td><td>63126.96</td><td>173.01</td><td>&quot;Front-line bif…</td><td>&quot;Nicholasland&quot;</td><td>0</td><td>&quot;Mayotte&quot;</td><td>&quot;4/4/2016 3:57&quot;</td><td>1</td><td>&quot;A&quot;</td></tr><tr><td>72.97</td><td>30</td><td>71384.57</td><td>208.58</td><td>&quot;Fundamental mo…</td><td>&quot;Duffystad&quot;</td><td>1</td><td>&quot;Lebanon&quot;</td><td>&quot;2/11/2016 21:4…</td><td>1</td><td>&quot;A&quot;</td></tr><tr><td>51.3</td><td>45</td><td>67782.17</td><td>134.42</td><td>&quot;Grass-roots co…</td><td>&quot;New Darlene&quot;</td><td>1</td><td>&quot;Bosnia and Her…</td><td>&quot;4/22/2016 2:07…</td><td>1</td><td>&quot;B&quot;</td></tr><tr><td>51.63</td><td>51</td><td>42415.72</td><td>120.37</td><td>&quot;Expanded intan…</td><td>&quot;South Jessica&quot;</td><td>1</td><td>&quot;Mongolia&quot;</td><td>&quot;2/1/2016 17:24…</td><td>1</td><td>&quot;C&quot;</td></tr><tr><td>55.55</td><td>19</td><td>41920.79</td><td>187.95</td><td>&quot;Proactive band…</td><td>&quot;West Steven&quot;</td><td>0</td><td>&quot;Guatemala&quot;</td><td>&quot;3/24/2016 2:35…</td><td>0</td><td>&quot;A&quot;</td></tr><tr><td>45.01</td><td>26</td><td>29875.8</td><td>178.35</td><td>&quot;Virtual 5thgen…</td><td>&quot;Ronniemouth&quot;</td><td>0</td><td>&quot;Brazil&quot;</td><td>&quot;6/3/2016 21:43…</td><td>1</td><td>&quot;B&quot;</td></tr></tbody></table></div>"
      ],
      "text/plain": [
       "shape: (1_000, 11)\n",
       "┌────────────┬─────┬───────────┬────────────┬───┬────────────┬───────────┬────────────┬────────────┐\n",
       "│ Daily Time ┆ Age ┆ Area      ┆ Daily      ┆ … ┆ Country    ┆ Timestamp ┆ Clicked on ┆ One_Hot_Te │\n",
       "│ Spent on   ┆ --- ┆ Income    ┆ Internet   ┆   ┆ ---        ┆ ---       ┆ Ad         ┆ st         │\n",
       "│ Site       ┆ i64 ┆ ---       ┆ Usage      ┆   ┆ str        ┆ str       ┆ ---        ┆ ---        │\n",
       "│ ---        ┆     ┆ f64       ┆ ---        ┆   ┆            ┆           ┆ i64        ┆ str        │\n",
       "│ f64        ┆     ┆           ┆ f64        ┆   ┆            ┆           ┆            ┆            │\n",
       "╞════════════╪═════╪═══════════╪════════════╪═══╪════════════╪═══════════╪════════════╪════════════╡\n",
       "│ 68.95      ┆ 35  ┆ 61833.9   ┆ 256.09     ┆ … ┆ Tunisia    ┆ 3/27/2016 ┆ 0          ┆ A          │\n",
       "│            ┆     ┆           ┆            ┆   ┆            ┆ 0:53      ┆            ┆            │\n",
       "│ 80.23      ┆ 31  ┆ 68441.85  ┆ 193.77     ┆ … ┆ Nauru      ┆ 4/4/2016  ┆ 0          ┆ B          │\n",
       "│            ┆     ┆           ┆            ┆   ┆            ┆ 1:39      ┆            ┆            │\n",
       "│ 69.47      ┆ 26  ┆ 59785.94  ┆ 236.5      ┆ … ┆ San Marino ┆ 3/13/2016 ┆ 0          ┆ A          │\n",
       "│            ┆     ┆           ┆            ┆   ┆            ┆ 20:35     ┆            ┆            │\n",
       "│ 74.15      ┆ 29  ┆ 54806.18  ┆ 245.89     ┆ … ┆ Italy      ┆ 1/10/2016 ┆ 0          ┆ B          │\n",
       "│            ┆     ┆           ┆            ┆   ┆            ┆ 2:31      ┆            ┆            │\n",
       "│ …          ┆ …   ┆ …         ┆ …          ┆ … ┆ …          ┆ …         ┆ …          ┆ …          │\n",
       "│ 51.3       ┆ 45  ┆ 67782.17  ┆ 134.42     ┆ … ┆ Bosnia and ┆ 4/22/2016 ┆ 1          ┆ B          │\n",
       "│            ┆     ┆           ┆            ┆   ┆ Herzegovin ┆ 2:07      ┆            ┆            │\n",
       "│            ┆     ┆           ┆            ┆   ┆ a          ┆           ┆            ┆            │\n",
       "│ 51.63      ┆ 51  ┆ 42415.72  ┆ 120.37     ┆ … ┆ Mongolia   ┆ 2/1/2016  ┆ 1          ┆ C          │\n",
       "│            ┆     ┆           ┆            ┆   ┆            ┆ 17:24     ┆            ┆            │\n",
       "│ 55.55      ┆ 19  ┆ 41920.79  ┆ 187.95     ┆ … ┆ Guatemala  ┆ 3/24/2016 ┆ 0          ┆ A          │\n",
       "│            ┆     ┆           ┆            ┆   ┆            ┆ 2:35      ┆            ┆            │\n",
       "│ 45.01      ┆ 26  ┆ 29875.8   ┆ 178.35     ┆ … ┆ Brazil     ┆ 6/3/2016  ┆ 1          ┆ B          │\n",
       "│            ┆     ┆           ┆            ┆   ┆            ┆ 21:43     ┆            ┆            │\n",
       "└────────────┴─────┴───────────┴────────────┴───┴────────────┴───────────┴────────────┴────────────┘"
      ]
     },
     "execution_count": 11,
     "metadata": {},
     "output_type": "execute_result"
    }
   ],
   "source": [
    "read_csv(\"../data/advertising.csv\")"
   ]
  },
  {
   "cell_type": "code",
   "execution_count": 12,
   "metadata": {},
   "outputs": [],
   "source": [
    "import numpy as np"
   ]
  },
  {
   "cell_type": "code",
   "execution_count": null,
   "metadata": {},
   "outputs": [],
   "source": [
    "getattr(\"\")"
   ]
  },
  {
   "cell_type": "code",
   "execution_count": null,
   "metadata": {},
   "outputs": [],
   "source": [
    "df.pipe()"
   ]
  },
  {
   "cell_type": "code",
   "execution_count": 1,
   "metadata": {},
   "outputs": [
    {
     "data": {
      "text/plain": [
       "[('a', 1), ('b', 2)]"
      ]
     },
     "execution_count": 1,
     "metadata": {},
     "output_type": "execute_result"
    }
   ],
   "source": [
    "list({\"a\":1,\"b\":2}.items())"
   ]
  },
  {
   "cell_type": "code",
   "execution_count": 4,
   "metadata": {},
   "outputs": [],
   "source": [
    "a = pl.Series(\"a\", [10, None, 5])"
   ]
  },
  {
   "cell_type": "code",
   "execution_count": 5,
   "metadata": {},
   "outputs": [
    {
     "data": {
      "text/html": [
       "<div><style>\n",
       ".dataframe > thead > tr > th,\n",
       ".dataframe > tbody > tr > td {\n",
       "  text-align: right;\n",
       "}\n",
       "</style>\n",
       "<small>shape: (3,)</small><table border=\"1\" class=\"dataframe\"><thead><tr><th>a</th></tr><tr><td>bool</td></tr></thead><tbody><tr><td>false</td></tr><tr><td>null</td></tr><tr><td>true</td></tr></tbody></table></div>"
      ],
      "text/plain": [
       "shape: (3,)\n",
       "Series: 'a' [bool]\n",
       "[\n",
       "\tfalse\n",
       "\tnull\n",
       "\ttrue\n",
       "]"
      ]
     },
     "execution_count": 5,
     "metadata": {},
     "output_type": "execute_result"
    }
   ],
   "source": [
    "a < 6"
   ]
  },
  {
   "cell_type": "code",
   "execution_count": 2,
   "metadata": {},
   "outputs": [
    {
     "data": {
      "text/plain": [
       "True"
      ]
     },
     "execution_count": 2,
     "metadata": {},
     "output_type": "execute_result"
    }
   ],
   "source": [
    "import numpy as np \n",
    "\n",
    "np.isinf(np.inf)"
   ]
  },
  {
   "cell_type": "code",
   "execution_count": 5,
   "metadata": {},
   "outputs": [],
   "source": [
    "d= {None:1, \"b\":2}"
   ]
  },
  {
   "cell_type": "code",
   "execution_count": 6,
   "metadata": {},
   "outputs": [
    {
     "data": {
      "text/plain": [
       "1"
      ]
     },
     "execution_count": 6,
     "metadata": {},
     "output_type": "execute_result"
    }
   ],
   "source": [
    "d[None]"
   ]
  },
  {
   "cell_type": "code",
   "execution_count": 3,
   "metadata": {},
   "outputs": [],
   "source": [
    "class a:\n",
    "    def __init__(self, n):\n",
    "        self.val = n\n"
   ]
  },
  {
   "cell_type": "code",
   "execution_count": 4,
   "metadata": {},
   "outputs": [
    {
     "name": "stdout",
     "output_type": "stream",
     "text": [
      "-10\n"
     ]
    }
   ],
   "source": [
    "test = [a(1),a(2),a(3),a(4),a(5)]\n",
    "\n",
    "for item in iter(test):\n",
    "    item.val = -10\n",
    "\n",
    "print(test[0].val)"
   ]
  },
  {
   "cell_type": "code",
   "execution_count": null,
   "metadata": {},
   "outputs": [],
   "source": []
  }
 ],
 "metadata": {
  "kernelspec": {
   "display_name": "my_py11",
   "language": "python",
   "name": "python3"
  },
  "language_info": {
   "codemirror_mode": {
    "name": "ipython",
    "version": 3
   },
   "file_extension": ".py",
   "mimetype": "text/x-python",
   "name": "python",
   "nbconvert_exporter": "python",
   "pygments_lexer": "ipython3",
   "version": "3.11.3"
  },
  "orig_nbformat": 4
 },
 "nbformat": 4,
 "nbformat_minor": 2
}
