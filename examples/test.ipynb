{
 "cells": [
  {
   "cell_type": "code",
   "execution_count": null,
   "metadata": {},
   "outputs": [],
   "source": [
    "from __future__ import annotations\n",
    "import polars as pl \n",
    "import inspect"
   ]
  },
  {
   "cell_type": "code",
   "execution_count": null,
   "metadata": {},
   "outputs": [],
   "source": [
    "test = [\"a\",\"b\"]\n",
    "\n",
    "\"|\".join(test)"
   ]
  },
  {
   "cell_type": "code",
   "execution_count": null,
   "metadata": {},
   "outputs": [],
   "source": [
    "def test() -> list[str]:\n",
    "    return [\"a\"]\n",
    "\n",
    "test.__annotations__.get(\"return\", \"\") == list[str]"
   ]
  },
  {
   "cell_type": "code",
   "execution_count": null,
   "metadata": {},
   "outputs": [],
   "source": [
    "from typing import Callable, Concatenate\n",
    "\n",
    "tt:Callable[[], list]\n",
    "tt = test"
   ]
  },
  {
   "cell_type": "code",
   "execution_count": null,
   "metadata": {},
   "outputs": [],
   "source": [
    "inspect.signature(tt).return_annotation == \"list[str]\""
   ]
  },
  {
   "cell_type": "code",
   "execution_count": null,
   "metadata": {},
   "outputs": [],
   "source": [
    "df = pl.DataFrame({\n",
    "    \"a\":[1,1,1,1]\n",
    "    , \"b\":[2,2,2,2]\n",
    "    , \"c\":[3,3,3,3]\n",
    "})\n",
    "\n",
    "test = pl.Series(\"x\",[\"a\", \"b\"])\n",
    "\n",
    "\n",
    "df.select([\"a\", \"b\"])"
   ]
  },
  {
   "cell_type": "code",
   "execution_count": null,
   "metadata": {},
   "outputs": [],
   "source": [
    "df = pl.DataFrame(\n",
    "    {\n",
    "        \"a\": [\"a\", \"b\", \"a\", \"b\", \"c\"],\n",
    "        \"b\": [1, 2, 1, 3, 3],\n",
    "        \"c\": [5, 4, 3, 2, 1],\n",
    "    }\n",
    ")"
   ]
  },
  {
   "cell_type": "code",
   "execution_count": null,
   "metadata": {},
   "outputs": [],
   "source": [
    "for f in df.partition_by(\"a\"):\n",
    "    print(f.shape)"
   ]
  },
  {
   "cell_type": "code",
   "execution_count": null,
   "metadata": {},
   "outputs": [],
   "source": [
    "df.select(\n",
    "    pl.col(c).n_unique() for c in df.columns\n",
    ")"
   ]
  },
  {
   "cell_type": "code",
   "execution_count": null,
   "metadata": {},
   "outputs": [],
   "source": [
    "d = pl.DataFrame(\n",
    "    {\n",
    "        \"id\": [\"a\", \"b\", \"c\", \"d\"],\n",
    "        \"events\": [[\"e1\", \"e2\"], [\"e1\", \"e2\"], [\"e1\", \"e3\"], [None]],\n",
    "    }\n",
    ")"
   ]
  },
  {
   "cell_type": "code",
   "execution_count": null,
   "metadata": {},
   "outputs": [],
   "source": [
    "d.select(\n",
    "    pl.col(\"events\").list.unique().list.lengths()\n",
    ")"
   ]
  },
  {
   "cell_type": "code",
   "execution_count": null,
   "metadata": {},
   "outputs": [],
   "source": [
    "from sklearn.datasets import make_classification"
   ]
  },
  {
   "cell_type": "code",
   "execution_count": null,
   "metadata": {},
   "outputs": [],
   "source": [
    "orig_x, orig_y = make_classification(n_samples = 300_000, n_features = 50, n_informative = 25, n_redundant = 25)\n",
    "df = pl.from_numpy(orig_x).insert_at_idx(0, pl.Series(\"target\", orig_y))"
   ]
  },
  {
   "cell_type": "code",
   "execution_count": null,
   "metadata": {},
   "outputs": [],
   "source": [
    "features = df.columns\n",
    "features.remove(\"target\")"
   ]
  },
  {
   "cell_type": "code",
   "execution_count": null,
   "metadata": {},
   "outputs": [],
   "source": [
    "x = df.select(features)\n",
    "v = pl.Series([2]*len(features))\n",
    "\n",
    "print(x.shape)\n",
    "print(v.shape)"
   ]
  },
  {
   "cell_type": "code",
   "execution_count": null,
   "metadata": {},
   "outputs": [],
   "source": [
    "%%timeit\n",
    "x.select(\n",
    "    pl.col(c) * v[i] for i, c in enumerate(x.columns)\n",
    ").fold(lambda s1, s2: s1 + s2)"
   ]
  },
  {
   "cell_type": "code",
   "execution_count": null,
   "metadata": {},
   "outputs": [],
   "source": [
    "%%timeit\n",
    "x.select(\n",
    "    sum(pl.col(c) * v[i] for i, c in enumerate(x.columns))\n",
    ")"
   ]
  },
  {
   "cell_type": "code",
   "execution_count": null,
   "metadata": {},
   "outputs": [],
   "source": [
    "w = pl.Series([2]*200)\n"
   ]
  },
  {
   "cell_type": "code",
   "execution_count": null,
   "metadata": {},
   "outputs": [],
   "source": [
    "def gradient_descent(df:pl.DataFrame, features:list[str], target:str):\n",
    "    \n",
    "    x = df.select(features)\n",
    "    y = df.select(target)\n",
    "\n",
    "    weights = pl.Series([1]*len(features))\n",
    "    const = 0.\n",
    "\n",
    "    \n"
   ]
  },
  {
   "cell_type": "code",
   "execution_count": 1,
   "metadata": {},
   "outputs": [],
   "source": [
    "import polars as pl\n",
    "from dsds.prescreen import describe_str"
   ]
  },
  {
   "cell_type": "code",
   "execution_count": 2,
   "metadata": {},
   "outputs": [],
   "source": [
    "df = pl.read_csv(\"../data/advertising.csv\")"
   ]
  },
  {
   "cell_type": "code",
   "execution_count": 3,
   "metadata": {},
   "outputs": [
    {
     "data": {
      "text/html": [
       "<div><style>\n",
       ".dataframe > thead > tr > th,\n",
       ".dataframe > tbody > tr > td {\n",
       "  text-align: right;\n",
       "}\n",
       "</style>\n",
       "<small>shape: (5, 15)</small><table border=\"1\" class=\"dataframe\"><thead><tr><th>features</th><th>null_count</th><th>null_pct</th><th>min</th><th>max</th><th>mode</th><th>min_byte_len</th><th>max_byte_len</th><th>avg_byte_len</th><th>median_byte_len</th><th>avg_space_cnt</th><th>avg_digit_cnt</th><th>avg_cap_cnt</th><th>avg_lower_cnt</th><th>total_A_count</th></tr><tr><td>str</td><td>u32</td><td>f64</td><td>str</td><td>str</td><td>str</td><td>u32</td><td>u32</td><td>f64</td><td>f64</td><td>f64</td><td>f64</td><td>f64</td><td>f64</td><td>u32</td></tr></thead><tbody><tr><td>&quot;Ad Topic Line&quot;</td><td>0</td><td>0.0</td><td>&quot;Adaptive 24hou…</td><td>&quot;Visionary reci…</td><td>&quot;Exclusive clie…</td><td>17</td><td>55</td><td>33.394</td><td>33.0</td><td>2.219</td><td>0.087</td><td>1.108</td><td>29.221</td><td>60</td></tr><tr><td>&quot;City&quot;</td><td>0</td><td>0.0</td><td>&quot;Adamsbury&quot;</td><td>&quot;Zacharyton&quot;</td><td>&quot;Williamsport&quot;</td><td>5</td><td>23</td><td>11.887</td><td>11.0</td><td>0.471</td><td>0.0</td><td>1.471</td><td>9.945</td><td>65</td></tr><tr><td>&quot;Country&quot;</td><td>0</td><td>0.0</td><td>&quot;Afghanistan&quot;</td><td>&quot;Zimbabwe&quot;</td><td>&quot;France&quot;</td><td>4</td><td>51</td><td>10.309</td><td>8.0</td><td>0.494</td><td>0.006</td><td>1.424</td><td>8.328</td><td>107</td></tr><tr><td>&quot;Timestamp&quot;</td><td>0</td><td>0.0</td><td>&quot;1/1/2016 15:14…</td><td>&quot;7/9/2016 16:23…</td><td>&quot;5/20/2016 12:1…</td><td>13</td><td>15</td><td>14.273</td><td>14.0</td><td>1.0</td><td>10.273</td><td>0.0</td><td>0.0</td><td>0</td></tr><tr><td>&quot;One_Hot_Test&quot;</td><td>0</td><td>0.0</td><td>&quot;A&quot;</td><td>&quot;C&quot;</td><td>&quot;A&quot;</td><td>1</td><td>1</td><td>1.0</td><td>1.0</td><td>0.0</td><td>0.0</td><td>1.0</td><td>0.0</td><td>783</td></tr></tbody></table></div>"
      ],
      "text/plain": [
       "shape: (5, 15)\n",
       "┌──────────┬──────────┬──────────┬──────────┬───┬────────────┬───────────┬────────────┬────────────┐\n",
       "│ features ┆ null_cou ┆ null_pct ┆ min      ┆ … ┆ avg_digit_ ┆ avg_cap_c ┆ avg_lower_ ┆ total_A_co │\n",
       "│ ---      ┆ nt       ┆ ---      ┆ ---      ┆   ┆ cnt        ┆ nt        ┆ cnt        ┆ unt        │\n",
       "│ str      ┆ ---      ┆ f64      ┆ str      ┆   ┆ ---        ┆ ---       ┆ ---        ┆ ---        │\n",
       "│          ┆ u32      ┆          ┆          ┆   ┆ f64        ┆ f64       ┆ f64        ┆ u32        │\n",
       "╞══════════╪══════════╪══════════╪══════════╪═══╪════════════╪═══════════╪════════════╪════════════╡\n",
       "│ Ad Topic ┆ 0        ┆ 0.0      ┆ Adaptive ┆ … ┆ 0.087      ┆ 1.108     ┆ 29.221     ┆ 60         │\n",
       "│ Line     ┆          ┆          ┆ 24hour   ┆   ┆            ┆           ┆            ┆            │\n",
       "│          ┆          ┆          ┆ Graphic  ┆   ┆            ┆           ┆            ┆            │\n",
       "│          ┆          ┆          ┆ Interfac ┆   ┆            ┆           ┆            ┆            │\n",
       "│          ┆          ┆          ┆ …        ┆   ┆            ┆           ┆            ┆            │\n",
       "│ City     ┆ 0        ┆ 0.0      ┆ Adamsbur ┆ … ┆ 0.0        ┆ 1.471     ┆ 9.945      ┆ 65         │\n",
       "│          ┆          ┆          ┆ y        ┆   ┆            ┆           ┆            ┆            │\n",
       "│ Country  ┆ 0        ┆ 0.0      ┆ Afghanis ┆ … ┆ 0.006      ┆ 1.424     ┆ 8.328      ┆ 107        │\n",
       "│          ┆          ┆          ┆ tan      ┆   ┆            ┆           ┆            ┆            │\n",
       "│ Timestam ┆ 0        ┆ 0.0      ┆ 1/1/2016 ┆ … ┆ 10.273     ┆ 0.0       ┆ 0.0        ┆ 0          │\n",
       "│ p        ┆          ┆          ┆ 15:14    ┆   ┆            ┆           ┆            ┆            │\n",
       "│ One_Hot_ ┆ 0        ┆ 0.0      ┆ A        ┆ … ┆ 0.0        ┆ 1.0       ┆ 0.0        ┆ 783        │\n",
       "│ Test     ┆          ┆          ┆          ┆   ┆            ┆           ┆            ┆            │\n",
       "└──────────┴──────────┴──────────┴──────────┴───┴────────────┴───────────┴────────────┴────────────┘"
      ]
     },
     "execution_count": 3,
     "metadata": {},
     "output_type": "execute_result"
    }
   ],
   "source": [
    "describe_str(df, words_to_count=[\"A\"])"
   ]
  },
  {
   "cell_type": "code",
   "execution_count": null,
   "metadata": {},
   "outputs": [],
   "source": []
  }
 ],
 "metadata": {
  "kernelspec": {
   "display_name": "my_py11",
   "language": "python",
   "name": "python3"
  },
  "language_info": {
   "codemirror_mode": {
    "name": "ipython",
    "version": 3
   },
   "file_extension": ".py",
   "mimetype": "text/x-python",
   "name": "python",
   "nbconvert_exporter": "python",
   "pygments_lexer": "ipython3",
   "version": "3.11.3"
  },
  "orig_nbformat": 4
 },
 "nbformat": 4,
 "nbformat_minor": 2
}
