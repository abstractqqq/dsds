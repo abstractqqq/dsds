{
 "cells": [
  {
   "cell_type": "code",
   "execution_count": null,
   "metadata": {},
   "outputs": [],
   "source": [
    "import polars as pl\n",
    "import numpy as np\n",
    "import dsds.metrics as me\n",
    "import dsds.prescreen as ps\n",
    "import dsds.sample as sa\n",
    "import dsds.fs as fs\n",
    "import dsds.transform as t\n",
    "import numpy as np "
   ]
  },
  {
   "cell_type": "code",
   "execution_count": null,
   "metadata": {},
   "outputs": [],
   "source": [
    "df = pl.DataFrame({\n",
    "    \"a\": np.random.random(size=100_000),\n",
    "    \"b\": np.random.random(size=100_000),\n",
    "    \"test\": range(100_000)\n",
    "})\n",
    "\n"
   ]
  },
  {
   "cell_type": "code",
   "execution_count": null,
   "metadata": {},
   "outputs": [],
   "source": [
    "benford_dist_series = (1 + 1 / pl.int_range(1, 10, eager=True)).log10()\n",
    "def benford_correlation2(x: pl.Expr) -> pl.Expr:\n",
    "    \n",
    "    counts = (\n",
    "        pl.when(x.abs() == 1000).then(\n",
    "            pl.lit(1)\n",
    "        ).otherwise(\n",
    "            (x.abs()/(pl.lit(10).pow((x.abs().log10()).floor())))\n",
    "        ).drop_nans()\n",
    "        .drop_nulls()\n",
    "        .cast(pl.UInt8)\n",
    "        .append(pl.int_range(1, 10, eager=False))\n",
    "        .sort()\n",
    "        .value_counts()\n",
    "        .struct.field(\"counts\") - pl.lit(1)\n",
    "    )\n",
    "    # no need to divide because correlation is invariant under scaling\n",
    "    return pl.corr(counts, pl.lit(benford_dist_series))\n",
    "\n",
    "\n",
    "def benford_correlation(x: pl.Expr) -> pl.Expr:\n",
    "    \"\"\"Returns the correlation between the first digit distribution of the input time series and the Newcomb-Benford's Law distribution [1][2].\n",
    "\n",
    "    Parameters\n",
    "    ----------\n",
    "    x : pl.Expr | pl.Series\n",
    "        Input time-series.\n",
    "\n",
    "    Returns\n",
    "    -------\n",
    "    float\n",
    "\n",
    "    Notes\n",
    "    -----\n",
    "    The Newcomb-Benford distribution for d that is the leading digit of the number {1, 2, 3, 4, 5, 6, 7, 8, 9} is given by:\n",
    "\n",
    "    .. math::\n",
    "\n",
    "        P(d) = \\\\log_{10}\\\\left(1 + \\\\frac{1}{d}\\\\right)\n",
    "\n",
    "    References\n",
    "    ----------\n",
    "    [1] Hill, T. P. (1995). A Statistical Derivation of the Significant-Digit Law. Statistical Science.\n",
    "    [2] Hill, T. P. (1995). The significant-digit phenomenon. The American Mathematical Monthly.\n",
    "    [3] Benford, F. (1938). The law of anomalous numbers. Proceedings of the American philosophical society.\n",
    "    [4] Newcomb, S. (1881). Note on the frequency of use of the different digits in natural numbers. American Journal of\n",
    "        mathematics.\n",
    "    \"\"\"\n",
    "    x = x.cast(pl.Utf8).str.strip_chars_start(\"-0.\")\n",
    "    x = (\n",
    "        x.filter(x != \"\")\n",
    "        .str.slice(0, 1)\n",
    "        .cast(pl.UInt8)\n",
    "        .append(pl.int_range(1, 10, eager=False))\n",
    "        .sort()\n",
    "        .value_counts()\n",
    "    )\n",
    "    counts = x.struct[1] - 1\n",
    "    return pl.corr(\n",
    "        counts, pl.lit(benford_dist_series)\n",
    "    )"
   ]
  },
  {
   "cell_type": "code",
   "execution_count": null,
   "metadata": {},
   "outputs": [],
   "source": [
    "df.select(\n",
    "    benford_correlation(pl.col(\"a\")).alias(\"old\"),\n",
    "    benford_correlation2(pl.col(\"a\")).alias(\"rewrite\"),\n",
    ")"
   ]
  },
  {
   "cell_type": "code",
   "execution_count": null,
   "metadata": {},
   "outputs": [],
   "source": [
    "%%timeit\n",
    "df.select(\n",
    "    benford_correlation(pl.col(\"a\")).alias(\"old\"),\n",
    ")"
   ]
  },
  {
   "cell_type": "code",
   "execution_count": null,
   "metadata": {},
   "outputs": [],
   "source": [
    "%%timeit\n",
    "df.select(\n",
    "    benford_correlation2(pl.col(\"a\")).alias(\"rewrite\"),\n",
    ")"
   ]
  },
  {
   "cell_type": "code",
   "execution_count": null,
   "metadata": {},
   "outputs": [],
   "source": [
    "import tsfresh.feature_extraction.feature_calculators as fc\n",
    "\n",
    "fc.energy_ratio_by_chunks(df[\"a\"].to_numpy(), [{\"num_segments\":5, \"segment_focus\":0}, {\"num_segments\":5, \"segment_focus\":1}])"
   ]
  },
  {
   "cell_type": "code",
   "execution_count": null,
   "metadata": {},
   "outputs": [],
   "source": [
    "%%timeit\n",
    "df.select(\n",
    "    energy_ratio_rewrite(pl.col(\"a\"), num_segments=5)\n",
    ")"
   ]
  },
  {
   "cell_type": "code",
   "execution_count": null,
   "metadata": {},
   "outputs": [],
   "source": [
    "%%timeit\n",
    "energy_ratios = [{\"num_segments\":5, \"segment_focus\":i} for i in range(5)]\n",
    "fc.energy_ratio_by_chunks(df[\"a\"].to_numpy(), energy_ratios)"
   ]
  },
  {
   "cell_type": "code",
   "execution_count": null,
   "metadata": {},
   "outputs": [],
   "source": [
    "%%timeit\n",
    "df.select(\n",
    "    energy_ratio_rewrite(pl.col(\"a\"), num_segments=5, focus=[0,1])\n",
    ")"
   ]
  },
  {
   "cell_type": "code",
   "execution_count": null,
   "metadata": {},
   "outputs": [],
   "source": [
    "df.lazy().select(\n",
    "    pl.col(\"a\").len()\n",
    ").collect()"
   ]
  },
  {
   "cell_type": "code",
   "execution_count": null,
   "metadata": {},
   "outputs": [],
   "source": [
    "df.select(\n",
    "    pl.col(\"a\").rolling_sum(window_size=(pl.count()//5))\n",
    ")"
   ]
  },
  {
   "cell_type": "code",
   "execution_count": null,
   "metadata": {},
   "outputs": [],
   "source": [
    "df.select(\n",
    "    (pl.col(\"a\") * pl.col(\"a\").shift(3) * pl.col(\"a\").shift(6)).sum() / (pl.col(\"a\").count() - pl.lit(6))\n",
    ").item(0,0)"
   ]
  },
  {
   "cell_type": "code",
   "execution_count": null,
   "metadata": {},
   "outputs": [],
   "source": [
    "actual = np.random.random(size=100_000)\n",
    "predicted = np.random.random(size=100_000)\n"
   ]
  },
  {
   "cell_type": "code",
   "execution_count": null,
   "metadata": {},
   "outputs": [],
   "source": [
    "np.histogram(a, bins = 10)"
   ]
  },
  {
   "cell_type": "code",
   "execution_count": null,
   "metadata": {},
   "outputs": [],
   "source": [
    "import numpy as np\n",
    "df = pl.DataFrame({\n",
    "    \"a\": np.random.random(size=100_000)\n",
    "})\n",
    "\n",
    "# np.random.random(size=100_000)"
   ]
  },
  {
   "cell_type": "code",
   "execution_count": null,
   "metadata": {},
   "outputs": [],
   "source": []
  },
  {
   "cell_type": "code",
   "execution_count": null,
   "metadata": {},
   "outputs": [],
   "source": []
  },
  {
   "cell_type": "code",
   "execution_count": null,
   "metadata": {},
   "outputs": [],
   "source": [
    "df = pl.read_parquet(\"../data/dunnhumby.parquet\")\n",
    "df.head()"
   ]
  },
  {
   "cell_type": "code",
   "execution_count": null,
   "metadata": {},
   "outputs": [],
   "source": [
    "from sklearn.model_selection import train_test_split\n",
    "train, test = train_test_split(df, train_size=0.75)"
   ]
  },
  {
   "cell_type": "code",
   "execution_count": null,
   "metadata": {},
   "outputs": [],
   "source": [
    "train, test = train_test_split(df, train_size=0.75)"
   ]
  },
  {
   "cell_type": "code",
   "execution_count": null,
   "metadata": {},
   "outputs": [],
   "source": [
    "df = pl.DataFrame({\n",
    "    \"text1\":[\"abc,ggg\", \"abc,sss\", \"ccc,abc\"],\n",
    "    \"text2\":[\"aaa,bbb\", \"ccc,aaa\", \"bbb,ccc\"]\n",
    "})"
   ]
  },
  {
   "cell_type": "code",
   "execution_count": null,
   "metadata": {},
   "outputs": [],
   "source": [
    "ps.infer_multicategorical(df, separator=\",\")"
   ]
  },
  {
   "cell_type": "code",
   "execution_count": null,
   "metadata": {},
   "outputs": [],
   "source": [
    "df = pl.DataFrame({\n",
    "    \"time\": [\"2021-01-01\", \"2021-01-03\", \"2021-02-01\",\"2021-02-11\",\"2021-03-01\",\"2021-03-02\"],\n",
    "    \"a1\": [None, 1,2,3,4, None,],\n",
    "    \"a2\": [1,2, None,3,4, None,],\n",
    "})\n",
    "df = df.with_columns(pl.col(\"time\").str.to_date())\n",
    "ps.over_time_report(df, cols=[\"a1\", \"a2\"], time_col=\"time\", metrics=[\"null\", \"invalid\", \"min\", \"max\"])"
   ]
  },
  {
   "cell_type": "code",
   "execution_count": null,
   "metadata": {},
   "outputs": [],
   "source": [
    "df.select(\n",
    "    pl.when(pl.col(\"a1\")==1).then(\"a\").when(pl.col(\"a2\")==2).then(\"b\").otherwise(\"c\")\n",
    ")"
   ]
  },
  {
   "cell_type": "code",
   "execution_count": null,
   "metadata": {},
   "outputs": [],
   "source": [
    "df2 = pl.concat([df for _ in range(10000)])\n",
    "df2.shape"
   ]
  },
  {
   "cell_type": "code",
   "execution_count": null,
   "metadata": {},
   "outputs": [],
   "source": [
    "%%timeit\n",
    "for frames in sa.time_window_slide(df2, \"time\", interval=\"monthly\",length=3):\n",
    "    first, second, third = frames"
   ]
  },
  {
   "cell_type": "code",
   "execution_count": null,
   "metadata": {},
   "outputs": [],
   "source": [
    "int(3.5)"
   ]
  },
  {
   "cell_type": "code",
   "execution_count": null,
   "metadata": {},
   "outputs": [],
   "source": [
    "df = pl.concat([pl.read_csv(\"../data/advertising.csv\") for _ in range(10)])"
   ]
  },
  {
   "cell_type": "code",
   "execution_count": null,
   "metadata": {},
   "outputs": [],
   "source": [
    "from dsds.sklearn_compat_transfom import PolarsExprTransformer\n",
    "from sklearn.pipeline import Pipeline\n",
    "from sklearn.preprocessing import StandardScaler\n",
    "from sklearn.impute import SimpleImputer\n",
    "from sklearn import set_config\n",
    "set_config(transform_output = \"pandas\")"
   ]
  },
  {
   "cell_type": "code",
   "execution_count": null,
   "metadata": {},
   "outputs": [],
   "source": [
    "df = df.select(\"Daily Time Spent on Site\", \"Age\", \"Area Income\", \"Male\", \"Clicked on Ad\")"
   ]
  },
  {
   "cell_type": "code",
   "execution_count": null,
   "metadata": {},
   "outputs": [],
   "source": [
    "df"
   ]
  },
  {
   "cell_type": "code",
   "execution_count": null,
   "metadata": {},
   "outputs": [],
   "source": [
    "exprs = [pl.col(\"Age\").log(), (pl.col(\"Clicked on Ad\") + pl.lit(2)).alias(\"test_pl\")]\n",
    "pipe = Pipeline([\n",
    "    (\"StandardScaler\", StandardScaler()),\n",
    "    (\"exprs\", PolarsExprTransformer(exprs))\n",
    "])"
   ]
  },
  {
   "cell_type": "code",
   "execution_count": null,
   "metadata": {},
   "outputs": [],
   "source": [
    "pipe.fit(df.to_pandas())"
   ]
  },
  {
   "cell_type": "code",
   "execution_count": null,
   "metadata": {},
   "outputs": [],
   "source": [
    "pipe.transform(df.to_pandas())"
   ]
  },
  {
   "cell_type": "code",
   "execution_count": null,
   "metadata": {},
   "outputs": [],
   "source": [
    "df.group_by(\"One_Hot_Test\").count()"
   ]
  },
  {
   "cell_type": "code",
   "execution_count": null,
   "metadata": {},
   "outputs": [],
   "source": [
    "783 * 0.5"
   ]
  },
  {
   "cell_type": "code",
   "execution_count": null,
   "metadata": {},
   "outputs": [],
   "source": [
    "pl.show_versions()"
   ]
  },
  {
   "cell_type": "code",
   "execution_count": null,
   "metadata": {},
   "outputs": [],
   "source": [
    "t.scale(df, cols=[\"a\",\"b\"], strategy=\"robust\")"
   ]
  },
  {
   "cell_type": "code",
   "execution_count": null,
   "metadata": {},
   "outputs": [],
   "source": [
    "def test(value: lambda x: x+1):\n",
    "    return value "
   ]
  },
  {
   "cell_type": "code",
   "execution_count": null,
   "metadata": {},
   "outputs": [],
   "source": [
    "test(1)"
   ]
  },
  {
   "cell_type": "code",
   "execution_count": null,
   "metadata": {},
   "outputs": [],
   "source": [
    "test = pl.DataFrame(\n",
    "    {\n",
    "        \"a\":[[\"a\", None], [\"b\", None]]\n",
    "    }\n",
    ")\n",
    "\n",
    "test.select(\n",
    "    pl.col(\"a\").list.set_difference(pl.Series(\"test\", [None]))\n",
    ")"
   ]
  },
  {
   "cell_type": "code",
   "execution_count": null,
   "metadata": {},
   "outputs": [],
   "source": [
    "df = pl.read_csv(\"../data/advertising.csv\")\n",
    "df.head()"
   ]
  },
  {
   "cell_type": "code",
   "execution_count": null,
   "metadata": {},
   "outputs": [],
   "source": [
    "a = np.random.random(size=(5000,))\n",
    "b = np.random.random(size=(5000,))"
   ]
  },
  {
   "cell_type": "code",
   "execution_count": null,
   "metadata": {},
   "outputs": [],
   "source": [
    "me.psi(a,b)"
   ]
  },
  {
   "cell_type": "code",
   "execution_count": null,
   "metadata": {},
   "outputs": [],
   "source": [
    "predicted = np.random.random(size=(5000,3))\n",
    "actual = np.round(np.random.random(size=(5000,3))).astype(np.int8)"
   ]
  },
  {
   "cell_type": "code",
   "execution_count": null,
   "metadata": {},
   "outputs": [],
   "source": [
    "me.precision_recall(actual, predicted)"
   ]
  },
  {
   "cell_type": "code",
   "execution_count": null,
   "metadata": {},
   "outputs": [],
   "source": [
    "df = pl.DataFrame({\n",
    "    \"predicted\": predicted[:, 1],\n",
    "    \"actual\": actual[:, 1]\n",
    "})"
   ]
  },
  {
   "cell_type": "code",
   "execution_count": null,
   "metadata": {},
   "outputs": [],
   "source": [
    "from sklearn.metrics import roc_auc_score\n",
    "\n",
    "print(roc_auc_score(actual, predicted, average=\"weighted\"))\n",
    "print(me.roc_auc(actual, predicted, strategy=\"balanced\"))"
   ]
  },
  {
   "cell_type": "code",
   "execution_count": null,
   "metadata": {},
   "outputs": [],
   "source": [
    "%%timeit\n",
    "roc_auc_score(actual, predicted)"
   ]
  },
  {
   "cell_type": "code",
   "execution_count": null,
   "metadata": {},
   "outputs": [],
   "source": [
    "%%timeit\n",
    "me.roc_auc(actual, predicted, strategy=\"none\")"
   ]
  },
  {
   "cell_type": "code",
   "execution_count": null,
   "metadata": {},
   "outputs": [],
   "source": [
    "%%timeit\n",
    "roc_auc_score(actual, predicted)"
   ]
  },
  {
   "cell_type": "code",
   "execution_count": null,
   "metadata": {},
   "outputs": [],
   "source": [
    "%%timeit\n",
    "me.roc_auc(actual, predicted)"
   ]
  },
  {
   "cell_type": "code",
   "execution_count": null,
   "metadata": {},
   "outputs": [],
   "source": [
    "import dsds.prescreen as ps\n",
    "print(ps.corr_table(df, cols=[\"Age\", \"Daily Internet Usage\"], corr_with=[\"Clicked on Ad\", \"Age Band\"]))"
   ]
  },
  {
   "cell_type": "code",
   "execution_count": null,
   "metadata": {},
   "outputs": [],
   "source": []
  },
  {
   "cell_type": "code",
   "execution_count": null,
   "metadata": {},
   "outputs": [],
   "source": [
    "df2 = (\n",
    "    df.lazy().select([\"Area Income\", \"Ad Topic Line\", \"City\", \"Clicked on Ad\"])\n",
    "    .drop([\"Ad Topic Line\"])\n",
    ").collect()"
   ]
  },
  {
   "cell_type": "code",
   "execution_count": null,
   "metadata": {},
   "outputs": [],
   "source": [
    "df2.show_graph()"
   ]
  },
  {
   "cell_type": "code",
   "execution_count": null,
   "metadata": {},
   "outputs": [],
   "source": []
  },
  {
   "cell_type": "code",
   "execution_count": null,
   "metadata": {},
   "outputs": [],
   "source": []
  },
  {
   "cell_type": "code",
   "execution_count": null,
   "metadata": {},
   "outputs": [],
   "source": [
    "from scipy.fft import fft\n",
    "a = np.array([1,2,3,1,2,3,1,2,3])\n",
    "fft(a)"
   ]
  },
  {
   "cell_type": "code",
   "execution_count": null,
   "metadata": {},
   "outputs": [],
   "source": [
    "df = pl.read_csv(\"../data/train.csv\").with_columns(\n",
    "    pl.lit(1).alias(\"feature_1\"),\n",
    "    pl.lit(2).alias(\"feature_2\")\n",
    ")"
   ]
  },
  {
   "cell_type": "code",
   "execution_count": null,
   "metadata": {},
   "outputs": [],
   "source": [
    "from tsfresh.examples.robot_execution_failures import download_robot_execution_failures, load_robot_execution_failures"
   ]
  },
  {
   "cell_type": "code",
   "execution_count": null,
   "metadata": {},
   "outputs": [],
   "source": [
    "download_robot_execution_failures()\n",
    "timeseries, y = load_robot_execution_failures()"
   ]
  },
  {
   "cell_type": "code",
   "execution_count": null,
   "metadata": {},
   "outputs": [],
   "source": [
    "timeseries"
   ]
  },
  {
   "cell_type": "code",
   "execution_count": null,
   "metadata": {},
   "outputs": [],
   "source": [
    "from tsfresh import extract_features\n",
    "extracted_features = extract_features(timeseries, column_id=\"id\", column_sort=\"time\")"
   ]
  },
  {
   "cell_type": "code",
   "execution_count": null,
   "metadata": {},
   "outputs": [],
   "source": [
    "extracted_features"
   ]
  },
  {
   "cell_type": "code",
   "execution_count": null,
   "metadata": {},
   "outputs": [],
   "source": [
    "test = [\"a\", \"b\", \"c\"]\n",
    "\n",
    "\"a\" not in test "
   ]
  },
  {
   "cell_type": "code",
   "execution_count": null,
   "metadata": {},
   "outputs": [],
   "source": []
  }
 ],
 "metadata": {
  "kernelspec": {
   "display_name": "my_py11",
   "language": "python",
   "name": "python3"
  },
  "language_info": {
   "codemirror_mode": {
    "name": "ipython",
    "version": 3
   },
   "file_extension": ".py",
   "mimetype": "text/x-python",
   "name": "python",
   "nbconvert_exporter": "python",
   "pygments_lexer": "ipython3",
   "version": "3.11.3"
  },
  "orig_nbformat": 4
 },
 "nbformat": 4,
 "nbformat_minor": 2
}
