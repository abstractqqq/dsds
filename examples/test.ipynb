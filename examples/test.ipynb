{
 "cells": [
  {
   "cell_type": "code",
   "execution_count": 1,
   "metadata": {},
   "outputs": [],
   "source": [
    "from __future__ import annotations\n",
    "import polars as pl\n",
    "import inspect\n",
    "import numpy as np\n",
    "from typing import Tuple"
   ]
  },
  {
   "cell_type": "code",
   "execution_count": null,
   "metadata": {},
   "outputs": [],
   "source": [
    "from dsds.metrics import roc_auc\n",
    "from dsds.transform import multicat_one_hot_encode"
   ]
  },
  {
   "cell_type": "code",
   "execution_count": null,
   "metadata": {},
   "outputs": [],
   "source": [
    "pred = np.random.random(size=1_000_000) # .reshape(-1, 1) # Predictions\n",
    "actual = np.random.random(size=1_000_000) # Actuals"
   ]
  },
  {
   "cell_type": "code",
   "execution_count": null,
   "metadata": {},
   "outputs": [],
   "source": [
    "pl.show_versions()"
   ]
  },
  {
   "cell_type": "code",
   "execution_count": null,
   "metadata": {},
   "outputs": [],
   "source": [
    "df = pl.DataFrame({\n",
    "    \"text1\":[\"abc|ggg\", \"abc|sss\", \"ccc|abc\"],\n",
    "    \"text2\":[\"aaa|bbb\", \"ccc|aaa\", \"bbb|ccc\"]\n",
    "})\n",
    "print(df)"
   ]
  },
  {
   "cell_type": "code",
   "execution_count": null,
   "metadata": {},
   "outputs": [],
   "source": [
    "print(multicat_one_hot_encode(df, cols=[\"text1\", \"text2\"], delimiter=\"|\"))"
   ]
  },
  {
   "cell_type": "code",
   "execution_count": null,
   "metadata": {},
   "outputs": [],
   "source": []
  },
  {
   "cell_type": "code",
   "execution_count": null,
   "metadata": {},
   "outputs": [],
   "source": [
    "test = pl.DataFrame({\n",
    "    \"a\":[1,1,1,1]\n",
    "    , \"b\": [None, None , \"a\", \"a\"]\n",
    "})\n",
    "test"
   ]
  },
  {
   "cell_type": "code",
   "execution_count": 2,
   "metadata": {},
   "outputs": [],
   "source": [
    "import dsds.fs as fs\n",
    "import polars as pl\n",
    "from sklearn.datasets import make_classification\n",
    "\n",
    "orig_x, orig_y = make_classification(n_samples = 500_000, n_features = 30, n_informative = 15, n_redundant = 15)\n",
    "df = pl.from_numpy(orig_x).insert_at_idx(0, pl.Series(\"target\", orig_y))\n",
    "target = \"target\"\n",
    "features = df.columns\n",
    "features.remove(target)"
   ]
  },
  {
   "cell_type": "code",
   "execution_count": 6,
   "metadata": {},
   "outputs": [
    {
     "data": {
      "text/html": [
       "<div><style>\n",
       ".dataframe > thead > tr > th,\n",
       ".dataframe > tbody > tr > td {\n",
       "  text-align: right;\n",
       "}\n",
       "</style>\n",
       "<small>shape: (30, 2)</small><table border=\"1\" class=\"dataframe\"><thead><tr><th>column</th><th>abs_corr</th></tr><tr><td>str</td><td>f64</td></tr></thead><tbody><tr><td>&quot;column_0&quot;</td><td>0.025392</td></tr><tr><td>&quot;column_1&quot;</td><td>0.102072</td></tr><tr><td>&quot;column_2&quot;</td><td>0.148834</td></tr><tr><td>&quot;column_3&quot;</td><td>0.208234</td></tr><tr><td>&quot;column_4&quot;</td><td>0.201814</td></tr><tr><td>&quot;column_5&quot;</td><td>0.04244</td></tr><tr><td>&quot;column_6&quot;</td><td>0.103425</td></tr><tr><td>&quot;column_7&quot;</td><td>0.010236</td></tr><tr><td>&quot;column_8&quot;</td><td>0.000757</td></tr><tr><td>&quot;column_9&quot;</td><td>0.205883</td></tr><tr><td>&quot;column_10&quot;</td><td>0.262079</td></tr><tr><td>&quot;column_11&quot;</td><td>0.000558</td></tr><tr><td>&hellip;</td><td>&hellip;</td></tr><tr><td>&quot;column_18&quot;</td><td>0.232724</td></tr><tr><td>&quot;column_19&quot;</td><td>0.165493</td></tr><tr><td>&quot;column_20&quot;</td><td>0.064942</td></tr><tr><td>&quot;column_21&quot;</td><td>0.195761</td></tr><tr><td>&quot;column_22&quot;</td><td>0.204632</td></tr><tr><td>&quot;column_23&quot;</td><td>0.000291</td></tr><tr><td>&quot;column_24&quot;</td><td>0.199568</td></tr><tr><td>&quot;column_25&quot;</td><td>0.385066</td></tr><tr><td>&quot;column_26&quot;</td><td>0.399847</td></tr><tr><td>&quot;column_27&quot;</td><td>0.000385</td></tr><tr><td>&quot;column_28&quot;</td><td>0.214766</td></tr><tr><td>&quot;column_29&quot;</td><td>0.000324</td></tr></tbody></table></div>"
      ],
      "text/plain": [
       "shape: (30, 2)\n",
       "┌───────────┬──────────┐\n",
       "│ column    ┆ abs_corr │\n",
       "│ ---       ┆ ---      │\n",
       "│ str       ┆ f64      │\n",
       "╞═══════════╪══════════╡\n",
       "│ column_0  ┆ 0.025392 │\n",
       "│ column_1  ┆ 0.102072 │\n",
       "│ column_2  ┆ 0.148834 │\n",
       "│ column_3  ┆ 0.208234 │\n",
       "│ …         ┆ …        │\n",
       "│ column_26 ┆ 0.399847 │\n",
       "│ column_27 ┆ 0.000385 │\n",
       "│ column_28 ┆ 0.214766 │\n",
       "│ column_29 ┆ 0.000324 │\n",
       "└───────────┴──────────┘"
      ]
     },
     "execution_count": 6,
     "metadata": {},
     "output_type": "execute_result"
    }
   ],
   "source": [
    "df.select(\n",
    "    pl.corr(c, \"target\").abs() for c in features\n",
    ").transpose(include_header=True, column_names=[\"abs_corr\"])"
   ]
  },
  {
   "cell_type": "code",
   "execution_count": null,
   "metadata": {},
   "outputs": [],
   "source": [
    "fs.permutation_importance(df, target=\"target\", model_str=\"lgbm\", params={\"max_depth\":4})"
   ]
  },
  {
   "cell_type": "code",
   "execution_count": null,
   "metadata": {},
   "outputs": [],
   "source": [
    "fc, fi = fs.ebfs(df, \"target\", \"lgbm\", {\"max_depth\":4}, n_comb=2)"
   ]
  },
  {
   "cell_type": "code",
   "execution_count": null,
   "metadata": {},
   "outputs": [],
   "source": []
  }
 ],
 "metadata": {
  "kernelspec": {
   "display_name": "my_py11",
   "language": "python",
   "name": "python3"
  },
  "language_info": {
   "codemirror_mode": {
    "name": "ipython",
    "version": 3
   },
   "file_extension": ".py",
   "mimetype": "text/x-python",
   "name": "python",
   "nbconvert_exporter": "python",
   "pygments_lexer": "ipython3",
   "version": "3.11.3"
  },
  "orig_nbformat": 4
 },
 "nbformat": 4,
 "nbformat_minor": 2
}
