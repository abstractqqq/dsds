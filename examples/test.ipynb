{
 "cells": [
  {
   "cell_type": "code",
   "execution_count": null,
   "metadata": {},
   "outputs": [],
   "source": [
    "def multiple_by_2(x:int) -> int:\n",
    "    return x * 2 "
   ]
  },
  {
   "cell_type": "code",
   "execution_count": null,
   "metadata": {},
   "outputs": [],
   "source": [
    "func = multiple_by_2"
   ]
  },
  {
   "cell_type": "code",
   "execution_count": null,
   "metadata": {},
   "outputs": [],
   "source": [
    "func.__module__"
   ]
  },
  {
   "cell_type": "code",
   "execution_count": null,
   "metadata": {},
   "outputs": [],
   "source": [
    "import sys\n",
    "sys.path.append('../src')"
   ]
  },
  {
   "cell_type": "code",
   "execution_count": null,
   "metadata": {},
   "outputs": [],
   "source": [
    "from eda.eda_selection import _f_score, mrmr, MRMR_STRATEGY"
   ]
  },
  {
   "cell_type": "code",
   "execution_count": null,
   "metadata": {},
   "outputs": [],
   "source": [
    "_f_score.__module__"
   ]
  },
  {
   "cell_type": "code",
   "execution_count": null,
   "metadata": {},
   "outputs": [],
   "source": [
    "func.__name__"
   ]
  },
  {
   "cell_type": "code",
   "execution_count": 1,
   "metadata": {},
   "outputs": [],
   "source": [
    "import polars as pl \n",
    "import json "
   ]
  },
  {
   "cell_type": "code",
   "execution_count": 2,
   "metadata": {},
   "outputs": [
    {
     "data": {
      "text/html": [
       "<div><style>\n",
       ".dataframe > thead > tr > th,\n",
       ".dataframe > tbody > tr > td {\n",
       "  text-align: right;\n",
       "}\n",
       "</style>\n",
       "<small>shape: (2, 1)</small><table border=\"1\" class=\"dataframe\"><thead><tr><th>a</th></tr><tr><td>struct[2]</td></tr></thead><tbody><tr><td>{1,2}</td></tr><tr><td>{null,null}</td></tr></tbody></table></div>"
      ],
      "text/plain": [
       "shape: (2, 1)\n",
       "┌─────────────┐\n",
       "│ a           │\n",
       "│ ---         │\n",
       "│ struct[2]   │\n",
       "╞═════════════╡\n",
       "│ {1,2}       │\n",
       "│ {null,null} │\n",
       "└─────────────┘"
      ]
     },
     "execution_count": 2,
     "metadata": {},
     "output_type": "execute_result"
    }
   ],
   "source": [
    "df = pl.DataFrame({\n",
    "    \"a\":[{\"test\":1, \"test2\":2}, {\"a\":1, \"df\":2}]\n",
    "})\n",
    "df "
   ]
  },
  {
   "cell_type": "code",
   "execution_count": 3,
   "metadata": {},
   "outputs": [
    {
     "ename": "InvalidOperationError",
     "evalue": "`explode` operation not supported for dtype `struct[2]`",
     "output_type": "error",
     "traceback": [
      "\u001b[1;31m---------------------------------------------------------------------------\u001b[0m",
      "\u001b[1;31mInvalidOperationError\u001b[0m                     Traceback (most recent call last)",
      "Cell \u001b[1;32mIn[3], line 1\u001b[0m\n\u001b[1;32m----> 1\u001b[0m df\u001b[39m.\u001b[39;49mexplode(columns\u001b[39m=\u001b[39;49m[\u001b[39m\"\u001b[39;49m\u001b[39ma\u001b[39;49m\u001b[39m\"\u001b[39;49m])\n",
      "File \u001b[1;32mc:\\Users\\qtren\\miniconda3\\envs\\my_py11\\Lib\\site-packages\\polars\\dataframe\\frame.py:6069\u001b[0m, in \u001b[0;36mDataFrame.explode\u001b[1;34m(self, columns, *more_columns)\u001b[0m\n\u001b[0;32m   6008\u001b[0m \u001b[39mdef\u001b[39;00m \u001b[39mexplode\u001b[39m(\n\u001b[0;32m   6009\u001b[0m     \u001b[39mself\u001b[39m,\n\u001b[0;32m   6010\u001b[0m     columns: \u001b[39mstr\u001b[39m \u001b[39m|\u001b[39m Sequence[\u001b[39mstr\u001b[39m] \u001b[39m|\u001b[39m Expr \u001b[39m|\u001b[39m Sequence[Expr],\n\u001b[0;32m   6011\u001b[0m     \u001b[39m*\u001b[39mmore_columns: \u001b[39mstr\u001b[39m \u001b[39m|\u001b[39m Expr,\n\u001b[0;32m   6012\u001b[0m ) \u001b[39m-\u001b[39m\u001b[39m>\u001b[39m Self:\n\u001b[0;32m   6013\u001b[0m \u001b[39m    \u001b[39m\u001b[39m\"\"\"\u001b[39;00m\n\u001b[0;32m   6014\u001b[0m \u001b[39m    Explode the dataframe to long format by exploding the given columns.\u001b[39;00m\n\u001b[0;32m   6015\u001b[0m \n\u001b[1;32m   (...)\u001b[0m\n\u001b[0;32m   6064\u001b[0m \n\u001b[0;32m   6065\u001b[0m \u001b[39m    \"\"\"\u001b[39;00m\n\u001b[0;32m   6066\u001b[0m     \u001b[39mreturn\u001b[39;00m \u001b[39mself\u001b[39m\u001b[39m.\u001b[39m_from_pydf(\n\u001b[0;32m   6067\u001b[0m         \u001b[39mself\u001b[39;49m\u001b[39m.\u001b[39;49mlazy()\n\u001b[0;32m   6068\u001b[0m         \u001b[39m.\u001b[39;49mexplode(columns, \u001b[39m*\u001b[39;49mmore_columns)\n\u001b[1;32m-> 6069\u001b[0m         \u001b[39m.\u001b[39;49mcollect(no_optimization\u001b[39m=\u001b[39;49m\u001b[39mTrue\u001b[39;49;00m)\n\u001b[0;32m   6070\u001b[0m         \u001b[39m.\u001b[39m_df\n\u001b[0;32m   6071\u001b[0m     )\n",
      "File \u001b[1;32mc:\\Users\\qtren\\miniconda3\\envs\\my_py11\\Lib\\site-packages\\polars\\lazyframe\\frame.py:1606\u001b[0m, in \u001b[0;36mLazyFrame.collect\u001b[1;34m(self, type_coercion, predicate_pushdown, projection_pushdown, simplify_expression, no_optimization, slice_pushdown, common_subplan_elimination, streaming)\u001b[0m\n\u001b[0;32m   1595\u001b[0m     common_subplan_elimination \u001b[39m=\u001b[39m \u001b[39mFalse\u001b[39;00m\n\u001b[0;32m   1597\u001b[0m ldf \u001b[39m=\u001b[39m \u001b[39mself\u001b[39m\u001b[39m.\u001b[39m_ldf\u001b[39m.\u001b[39moptimization_toggle(\n\u001b[0;32m   1598\u001b[0m     type_coercion,\n\u001b[0;32m   1599\u001b[0m     predicate_pushdown,\n\u001b[1;32m   (...)\u001b[0m\n\u001b[0;32m   1604\u001b[0m     streaming,\n\u001b[0;32m   1605\u001b[0m )\n\u001b[1;32m-> 1606\u001b[0m \u001b[39mreturn\u001b[39;00m wrap_df(ldf\u001b[39m.\u001b[39;49mcollect())\n",
      "\u001b[1;31mInvalidOperationError\u001b[0m: `explode` operation not supported for dtype `struct[2]`"
     ]
    }
   ],
   "source": [
    "df.explode(columns=[\"a\"])"
   ]
  },
  {
   "cell_type": "code",
   "execution_count": null,
   "metadata": {},
   "outputs": [],
   "source": []
  }
 ],
 "metadata": {
  "kernelspec": {
   "display_name": "my_py11",
   "language": "python",
   "name": "python3"
  },
  "language_info": {
   "codemirror_mode": {
    "name": "ipython",
    "version": 3
   },
   "file_extension": ".py",
   "mimetype": "text/x-python",
   "name": "python",
   "nbconvert_exporter": "python",
   "pygments_lexer": "ipython3",
   "version": "3.11.3"
  },
  "orig_nbformat": 4
 },
 "nbformat": 4,
 "nbformat_minor": 2
}
