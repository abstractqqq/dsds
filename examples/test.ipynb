{
 "cells": [
  {
   "cell_type": "code",
   "execution_count": 1,
   "metadata": {},
   "outputs": [],
   "source": [
    "from __future__ import annotations\n",
    "import polars as pl \n",
    "import inspect\n",
    "import numpy as np"
   ]
  },
  {
   "cell_type": "code",
   "execution_count": null,
   "metadata": {},
   "outputs": [],
   "source": [
    "import polars as pl\n",
    "import random \n",
    "\n",
    "df = pl.scan_csv(\"../data/test.csv\")\n",
    "    \n",
    "# Define polars custom functions to apply\n",
    "def add_position_column(df:pl.LazyFrame):\n",
    "    df = df.with_columns( \n",
    "        pl.when(pl.col('defensive_skill') > 50).then('CB')\n",
    "        .when(pl.col('offensive_skill') > 50).then('FW')\n",
    "        .otherwise('bench').alias(\"position\")\n",
    "    )\n",
    "    return df\n",
    "\n",
    "def add_squad_number_column(df:pl.LazyFrame):\n",
    "    df = df.with_columns( \n",
    "        pl.when(pl.col('position') == 'CD').then(pl.lit(random.sample(range(2, 6), 1)[0], dtype=pl.Int8))\n",
    "        .when(pl.col('position') == 'FW').then(pl.lit(random.sample(range(7, 19), 1)[0], dtype=pl.Int8))\n",
    "        .otherwise('-').alias(\"squad_number\")\n",
    "    )\n",
    "    return df\n",
    "\n",
    "# Chain operations together using the pipe function\n",
    "\n",
    "\n",
    "df.pipe(add_position_column)\\\n",
    "    .pipe(add_squad_number_column)\\\n",
    "    .write_json(\"pipe.json\")\n"
   ]
  },
  {
   "cell_type": "code",
   "execution_count": null,
   "metadata": {},
   "outputs": [],
   "source": [
    "f = open(\"pipe.json\", \"r\")\n",
    "json_str = f.read()\n",
    "f.close()\n",
    "df3 = pl.read_csv(\"../data/test.csv\")\n",
    "df2 = df3.lazy().from_json(json_str)\n",
    "df2.collect()"
   ]
  },
  {
   "cell_type": "code",
   "execution_count": null,
   "metadata": {},
   "outputs": [],
   "source": [
    "plan = pl.LazyFrame().from_json(json_str)\n",
    "plan.write_json(\"pipe.json\")"
   ]
  },
  {
   "cell_type": "code",
   "execution_count": null,
   "metadata": {},
   "outputs": [],
   "source": [
    "df2.collect()"
   ]
  },
  {
   "cell_type": "code",
   "execution_count": null,
   "metadata": {},
   "outputs": [],
   "source": [
    "test = [\"a\",\"b\"]\n",
    "\n",
    "\"|\".join(test)"
   ]
  },
  {
   "cell_type": "code",
   "execution_count": null,
   "metadata": {},
   "outputs": [],
   "source": [
    "def test() -> list[str]:\n",
    "    return [\"a\"]\n",
    "\n",
    "test.__annotations__.get(\"return\", \"\") == list[str]"
   ]
  },
  {
   "cell_type": "code",
   "execution_count": null,
   "metadata": {},
   "outputs": [],
   "source": [
    "from typing import Callable, Concatenate\n",
    "\n",
    "tt:Callable[[], list]\n",
    "tt = test"
   ]
  },
  {
   "cell_type": "code",
   "execution_count": null,
   "metadata": {},
   "outputs": [],
   "source": [
    "inspect.signature(tt).return_annotation == \"list[str]\""
   ]
  },
  {
   "cell_type": "code",
   "execution_count": null,
   "metadata": {},
   "outputs": [],
   "source": [
    "df = pl.DataFrame({\n",
    "    \"g\": list(range(1000))\n",
    "}).lazy()\n",
    "\n",
    "# test = pl.Series(\"x\",[\"a\", \"b\"])\n"
   ]
  },
  {
   "cell_type": "code",
   "execution_count": null,
   "metadata": {},
   "outputs": [],
   "source": [
    "join_df = pl.LazyFrame((list(range(1000)), list(i*2 for i in range(1000))), schema=[\"g\", \"g_mapped\"])\n",
    "join_df.collect()"
   ]
  },
  {
   "cell_type": "code",
   "execution_count": null,
   "metadata": {},
   "outputs": [],
   "source": [
    "%%timeit \n",
    "df.with_columns(\n",
    "    pl.col(\"g\").map_dict({i:2*i for i in range(1000)})\n",
    ").collect()"
   ]
  },
  {
   "cell_type": "code",
   "execution_count": null,
   "metadata": {},
   "outputs": [],
   "source": [
    "%%timeit \n",
    "df.join(join_df, on = \"g\").with_columns(\n",
    "    pl.col(\"g_mapped\").alias(\"g\")\n",
    ").drop(columns=[\"g_mapped\"]).collect()"
   ]
  },
  {
   "cell_type": "code",
   "execution_count": null,
   "metadata": {},
   "outputs": [],
   "source": [
    "df.join(join_df, on = \"g\").with_columns(\n",
    "    pl.col(\"g_mapped\").alias(\"g\")\n",
    ").drop(columns=[\"g_mapped\"]).write_json(\"test.json\")"
   ]
  },
  {
   "cell_type": "code",
   "execution_count": null,
   "metadata": {},
   "outputs": [],
   "source": []
  },
  {
   "cell_type": "code",
   "execution_count": null,
   "metadata": {},
   "outputs": [],
   "source": [
    "df = pl.DataFrame(\n",
    "    {\n",
    "        \"a\": list(range(1000)),\n",
    "    }\n",
    ")"
   ]
  },
  {
   "cell_type": "code",
   "execution_count": null,
   "metadata": {},
   "outputs": [],
   "source": [
    "from typing import Generator, Tuple, Any\n",
    "\n",
    "mapping = {i:i for i in range(1000)}\n",
    "test = mapping.copy()\n",
    "cname = \"a\"\n",
    "def create_map_expr(\n",
    "        col_name:str\n",
    "        , gen:Generator[Tuple[str, Any], None, None]\n",
    "        , default:Any = None\n",
    ") -> pl.Expr:\n",
    "\n",
    "    '''\n",
    "        Suppose you have a dictionary like d = {\"a\":1, \"b\":2}. Instead of doing pl.col(\"column\").map_dict(d), you can \n",
    "        do pl.when(pl.col(\"column\") == \"a\").then(1).otherwise(pl.when(pl.col(\"column\") == \"b\").then(2).otherwise(default))\n",
    "        instead. This function generators this expression for you from a generator that yields a key value pair.\n",
    "    \n",
    "    '''\n",
    "\n",
    "    try:\n",
    "        k, v = next(gen)\n",
    "        return pl.when(pl.col(col_name) == k).then(v).otherwise(create_map_expr(col_name, gen))\n",
    "    except:\n",
    "        return pl.lit(default)"
   ]
  },
  {
   "cell_type": "code",
   "execution_count": null,
   "metadata": {},
   "outputs": [],
   "source": [
    "%%timeit \n",
    "df.select(\n",
    "    pl.col(\"a\").map_dict(mapping)\n",
    ")"
   ]
  },
  {
   "cell_type": "code",
   "execution_count": null,
   "metadata": {},
   "outputs": [],
   "source": [
    "m = list(range(1000))\n",
    "expr = create_map_expr(cname, zip(m, m))"
   ]
  },
  {
   "cell_type": "code",
   "execution_count": null,
   "metadata": {},
   "outputs": [],
   "source": [
    "%%timeit \n",
    "\n",
    "df.select(\n",
    "    expr\n",
    ")"
   ]
  },
  {
   "cell_type": "code",
   "execution_count": null,
   "metadata": {},
   "outputs": [],
   "source": [
    "df = pl.DataFrame({\"a\":[None, 1], \"b\":[1,2]})\n",
    "df2 = pl.DataFrame({\"a\":[None, 1], \"c\":[3,4]})\n",
    "\n",
    "df.join(df2, how=\"left\", on = \"a\")"
   ]
  },
  {
   "cell_type": "code",
   "execution_count": null,
   "metadata": {},
   "outputs": [],
   "source": [
    "# Compute error, because pl.col(c) returns columns of different len depending on unique values\n",
    "df.select(\n",
    "    pl.col(c).unique().sort() for c in df.columns\n",
    ")"
   ]
  },
  {
   "cell_type": "code",
   "execution_count": null,
   "metadata": {},
   "outputs": [],
   "source": [
    "cs = df.lazy().groupby(1).agg(\n",
    "    pl.col(c).unique().sort() for c in df.columns\n",
    ").select(\n",
    "    pl.col(c) for c in df.columns\n",
    ").collect().get_columns()\n",
    "\n",
    "for c in cs:\n",
    "    print(c[0])"
   ]
  },
  {
   "cell_type": "code",
   "execution_count": null,
   "metadata": {},
   "outputs": [],
   "source": [
    "for f in df.partition_by(\"a\"):\n",
    "    print(f.shape)"
   ]
  },
  {
   "cell_type": "code",
   "execution_count": null,
   "metadata": {},
   "outputs": [],
   "source": [
    "df.select(\n",
    "    pl.col(c).n_unique() for c in df.columns\n",
    ")"
   ]
  },
  {
   "cell_type": "code",
   "execution_count": 3,
   "metadata": {},
   "outputs": [],
   "source": [
    "d = pl.DataFrame(\n",
    "    {\n",
    "        \"id\": [\"a\", \"b\", \"c\", \"d\"],\n",
    "        'num': [1,2,3,4],\n",
    "        \"events\": [[\"e1\", \"e2\"], [\"e1\", \"e2\"], [\"e1\", \"e3\"], [None]],\n",
    "        \"bools\":[True, True, False, True]\n",
    "    }\n",
    ")"
   ]
  },
  {
   "cell_type": "code",
   "execution_count": 5,
   "metadata": {},
   "outputs": [
    {
     "data": {
      "text/html": [
       "<div><style>\n",
       ".dataframe > thead > tr > th,\n",
       ".dataframe > tbody > tr > td {\n",
       "  text-align: right;\n",
       "}\n",
       "</style>\n",
       "<small>shape: (1, 1)</small><table border=\"1\" class=\"dataframe\"><thead><tr><th>bools</th></tr><tr><td>f64</td></tr></thead><tbody><tr><td>1.5</td></tr></tbody></table></div>"
      ],
      "text/plain": [
       "shape: (1, 1)\n",
       "┌───────┐\n",
       "│ bools │\n",
       "│ ---   │\n",
       "│ f64   │\n",
       "╞═══════╡\n",
       "│ 1.5   │\n",
       "└───────┘"
      ]
     },
     "execution_count": 5,
     "metadata": {},
     "output_type": "execute_result"
    }
   ],
   "source": [
    "d.select(pl.col(\"bools\").sum() / 2)"
   ]
  },
  {
   "cell_type": "code",
   "execution_count": null,
   "metadata": {},
   "outputs": [],
   "source": [
    "d.lazy().select(pl.col(\"num\").mean()).collect().to_numpy()[0,0]"
   ]
  },
  {
   "cell_type": "code",
   "execution_count": null,
   "metadata": {},
   "outputs": [],
   "source": [
    "d.select(\n",
    "    pl.col(\"events\").list.unique().list.lengths()\n",
    ")"
   ]
  },
  {
   "cell_type": "code",
   "execution_count": null,
   "metadata": {},
   "outputs": [],
   "source": [
    "from sklearn.datasets import make_classification"
   ]
  },
  {
   "cell_type": "code",
   "execution_count": null,
   "metadata": {},
   "outputs": [],
   "source": [
    "orig_x, orig_y = make_classification(n_samples = 300_000, n_features = 50, n_informative = 25, n_redundant = 25)\n",
    "df = pl.from_numpy(orig_x).insert_at_idx(0, pl.Series(\"target\", orig_y))"
   ]
  },
  {
   "cell_type": "code",
   "execution_count": null,
   "metadata": {},
   "outputs": [],
   "source": [
    "features = df.columns\n",
    "features.remove(\"target\")"
   ]
  },
  {
   "cell_type": "code",
   "execution_count": null,
   "metadata": {},
   "outputs": [],
   "source": [
    "x = df.select(features)\n",
    "v = pl.Series([2]*len(features))\n",
    "\n",
    "print(x.shape)\n",
    "print(v.shape)"
   ]
  },
  {
   "cell_type": "code",
   "execution_count": null,
   "metadata": {},
   "outputs": [],
   "source": [
    "%%timeit\n",
    "x.select(\n",
    "    pl.col(c) * v[i] for i, c in enumerate(x.columns)\n",
    ").fold(lambda s1, s2: s1 + s2)"
   ]
  },
  {
   "cell_type": "code",
   "execution_count": null,
   "metadata": {},
   "outputs": [],
   "source": [
    "%%timeit\n",
    "x.select(\n",
    "    sum(pl.col(c) * v[i] for i, c in enumerate(x.columns))\n",
    ")"
   ]
  },
  {
   "cell_type": "code",
   "execution_count": null,
   "metadata": {},
   "outputs": [],
   "source": [
    "w = pl.Series([2]*200)\n"
   ]
  },
  {
   "cell_type": "code",
   "execution_count": null,
   "metadata": {},
   "outputs": [],
   "source": [
    "def gradient_descent(df:pl.DataFrame, features:list[str], target:str):\n",
    "    \n",
    "    x = df.select(features)\n",
    "    y = df.select(target)\n",
    "\n",
    "    weights = pl.Series([1]*len(features))\n",
    "    const = 0.\n",
    "\n",
    "    \n"
   ]
  },
  {
   "cell_type": "code",
   "execution_count": null,
   "metadata": {},
   "outputs": [],
   "source": [
    "import polars as pl\n",
    "from dsds.prescreen import describe_str\n",
    "from dsds.transform import ScalingStrategy"
   ]
  },
  {
   "cell_type": "code",
   "execution_count": null,
   "metadata": {},
   "outputs": [],
   "source": [
    "df = pl.read_csv(\"../data/advertising.csv\")"
   ]
  },
  {
   "cell_type": "code",
   "execution_count": null,
   "metadata": {},
   "outputs": [],
   "source": [
    "describe_str(df, words_to_count=[\"A\"])"
   ]
  },
  {
   "cell_type": "code",
   "execution_count": null,
   "metadata": {},
   "outputs": [],
   "source": []
  }
 ],
 "metadata": {
  "kernelspec": {
   "display_name": "my_py11",
   "language": "python",
   "name": "python3"
  },
  "language_info": {
   "codemirror_mode": {
    "name": "ipython",
    "version": 3
   },
   "file_extension": ".py",
   "mimetype": "text/x-python",
   "name": "python",
   "nbconvert_exporter": "python",
   "pygments_lexer": "ipython3",
   "version": "3.11.3"
  },
  "orig_nbformat": 4
 },
 "nbformat": 4,
 "nbformat_minor": 2
}
