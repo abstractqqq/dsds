{
 "cells": [
  {
   "cell_type": "code",
   "execution_count": 1,
   "metadata": {},
   "outputs": [],
   "source": [
    "import polars as pl\n",
    "import numpy as np\n",
    "import dsds.metrics as me\n",
    "import dsds.prescreen as ps\n",
    "import dsds.sample as sa\n",
    "import dsds.fs as fs\n",
    "import dsds.transform as t\n",
    "import numpy as np "
   ]
  },
  {
   "cell_type": "code",
   "execution_count": null,
   "metadata": {},
   "outputs": [],
   "source": [
    "df = pl.DataFrame({\n",
    "    \"time\": [\"2021-01-01\", \"2021-01-03\", \"2021-02-01\",\"2021-02-11\",\"2021-03-01\",\"2021-03-02\"],\n",
    "    \"a1\": [None, 1,2,3,4, None,],\n",
    "    \"a2\": [1,2, None,3,4, None,],\n",
    "})\n",
    "df = df.with_columns(pl.col(\"time\").str.to_date())\n",
    "ps.over_time_report(df, cols=[\"a1\", \"a2\"], time_col=\"time\", metrics=[\"null\", \"invalid\", \"min\", \"max\"])"
   ]
  },
  {
   "cell_type": "code",
   "execution_count": null,
   "metadata": {},
   "outputs": [],
   "source": [
    "int(3.5)"
   ]
  },
  {
   "cell_type": "code",
   "execution_count": 2,
   "metadata": {},
   "outputs": [
    {
     "data": {
      "text/html": [
       "<div><style>\n",
       ".dataframe > thead > tr > th,\n",
       ".dataframe > tbody > tr > td {\n",
       "  text-align: right;\n",
       "  white-space: pre-wrap;\n",
       "}\n",
       "</style>\n",
       "<small>shape: (1_000, 19)</small><table border=\"1\" class=\"dataframe\"><thead><tr><th>id</th><th>Daily Time Spent on Site</th><th>Age</th><th>Area Income</th><th>Daily Internet Usage</th><th>Ad Topic Line</th><th>City</th><th>Male</th><th>Country</th><th>Timestamp</th><th>Clicked on Ad</th><th>One_Hot_Test</th><th>Age Band</th><th>Daily Internet Usage Band</th><th>Area Income Band</th><th>Test_Constant</th><th>Test_Str_Constant</th><th>Test_BadColumn</th><th>Test_Binary</th></tr><tr><td>i64</td><td>f64</td><td>i64</td><td>f64</td><td>f64</td><td>str</td><td>str</td><td>i64</td><td>str</td><td>str</td><td>i64</td><td>str</td><td>i64</td><td>i64</td><td>i64</td><td>i64</td><td>str</td><td>i64</td><td>str</td></tr></thead><tbody><tr><td>1</td><td>68.95</td><td>35</td><td>61833.9</td><td>256.09</td><td>&quot;Cloned 5thgene…</td><td>&quot;Wrightburgh&quot;</td><td>0</td><td>&quot;Tunisia&quot;</td><td>&quot;3/27/2016 0:53…</td><td>0</td><td>&quot;A&quot;</td><td>30</td><td>12</td><td>12</td><td>1</td><td>&quot;SSS&quot;</td><td>0</td><td>&quot;A&quot;</td></tr><tr><td>2</td><td>80.23</td><td>31</td><td>68441.85</td><td>193.77</td><td>&quot;Monitored nati…</td><td>&quot;West Jodi&quot;</td><td>1</td><td>&quot;Nauru&quot;</td><td>&quot;4/4/2016 1:39&quot;</td><td>0</td><td>&quot;B&quot;</td><td>30</td><td>9</td><td>13</td><td>1</td><td>&quot;SSS&quot;</td><td>null</td><td>&quot;B&quot;</td></tr><tr><td>3</td><td>69.47</td><td>26</td><td>59785.94</td><td>236.5</td><td>&quot;Organic bottom…</td><td>&quot;Davidton&quot;</td><td>0</td><td>&quot;San Marino&quot;</td><td>&quot;3/13/2016 20:3…</td><td>0</td><td>&quot;A&quot;</td><td>20</td><td>11</td><td>11</td><td>1</td><td>&quot;SSS&quot;</td><td>0</td><td>&quot;A&quot;</td></tr><tr><td>4</td><td>74.15</td><td>29</td><td>54806.18</td><td>245.89</td><td>&quot;Triple-buffere…</td><td>&quot;West Terrifurt…</td><td>1</td><td>&quot;Italy&quot;</td><td>&quot;1/10/2016 2:31…</td><td>0</td><td>&quot;B&quot;</td><td>20</td><td>12</td><td>10</td><td>1</td><td>&quot;SSS&quot;</td><td>null</td><td>&quot;B&quot;</td></tr><tr><td>5</td><td>68.37</td><td>35</td><td>73889.99</td><td>225.58</td><td>&quot;Robust logisti…</td><td>&quot;South Manuel&quot;</td><td>0</td><td>&quot;Iceland&quot;</td><td>&quot;6/3/2016 3:36&quot;</td><td>0</td><td>&quot;A&quot;</td><td>30</td><td>11</td><td>14</td><td>1</td><td>&quot;SSS&quot;</td><td>0</td><td>&quot;A&quot;</td></tr><tr><td>6</td><td>59.99</td><td>23</td><td>59761.56</td><td>226.74</td><td>&quot;Sharable clien…</td><td>&quot;Jamieberg&quot;</td><td>1</td><td>&quot;Norway&quot;</td><td>&quot;5/19/2016 14:3…</td><td>0</td><td>&quot;B&quot;</td><td>20</td><td>11</td><td>11</td><td>1</td><td>&quot;SSS&quot;</td><td>null</td><td>&quot;B&quot;</td></tr><tr><td>7</td><td>88.91</td><td>33</td><td>null</td><td>208.36</td><td>&quot;Enhanced dedic…</td><td>&quot;Brandonstad&quot;</td><td>0</td><td>&quot;Myanmar&quot;</td><td>&quot;1/28/2016 20:5…</td><td>0</td><td>&quot;A&quot;</td><td>30</td><td>10</td><td>null</td><td>1</td><td>&quot;SSS&quot;</td><td>0</td><td>&quot;A&quot;</td></tr><tr><td>8</td><td>66.0</td><td>48</td><td>24593.33</td><td>131.76</td><td>&quot;Reactive local…</td><td>&quot;Port Jefferybu…</td><td>1</td><td>&quot;Australia&quot;</td><td>&quot;3/7/2016 1:40&quot;</td><td>1</td><td>&quot;A&quot;</td><td>40</td><td>6</td><td>4</td><td>1</td><td>&quot;SSS&quot;</td><td>null</td><td>&quot;B&quot;</td></tr><tr><td>9</td><td>74.53</td><td>30</td><td>68862.0</td><td>221.51</td><td>&quot;Configurable c…</td><td>&quot;West Colin&quot;</td><td>1</td><td>&quot;Grenada&quot;</td><td>&quot;4/18/2016 9:33…</td><td>0</td><td>&quot;A&quot;</td><td>30</td><td>11</td><td>13</td><td>1</td><td>&quot;SSS&quot;</td><td>null</td><td>&quot;B&quot;</td></tr><tr><td>10</td><td>69.88</td><td>20</td><td>55642.32</td><td>183.82</td><td>&quot;Mandatory homo…</td><td>&quot;Ramirezton&quot;</td><td>1</td><td>&quot;Ghana&quot;</td><td>&quot;7/11/2016 1:42…</td><td>0</td><td>&quot;A&quot;</td><td>20</td><td>9</td><td>11</td><td>1</td><td>&quot;SSS&quot;</td><td>null</td><td>&quot;B&quot;</td></tr><tr><td>11</td><td>47.64</td><td>49</td><td>45632.51</td><td>122.02</td><td>&quot;Centralized ne…</td><td>&quot;West Brandonto…</td><td>0</td><td>&quot;Qatar&quot;</td><td>&quot;3/16/2016 20:1…</td><td>1</td><td>&quot;C&quot;</td><td>40</td><td>6</td><td>9</td><td>1</td><td>&quot;SSS&quot;</td><td>0</td><td>&quot;A&quot;</td></tr><tr><td>12</td><td>83.07</td><td>37</td><td>null</td><td>230.87</td><td>&quot;Team-oriented …</td><td>&quot;East Theresash…</td><td>1</td><td>&quot;Burundi&quot;</td><td>&quot;5/8/2016 8:10&quot;</td><td>0</td><td>&quot;A&quot;</td><td>30</td><td>11</td><td>null</td><td>1</td><td>&quot;SSS&quot;</td><td>null</td><td>&quot;B&quot;</td></tr><tr><td>&hellip;</td><td>&hellip;</td><td>&hellip;</td><td>&hellip;</td><td>&hellip;</td><td>&hellip;</td><td>&hellip;</td><td>&hellip;</td><td>&hellip;</td><td>&hellip;</td><td>&hellip;</td><td>&hellip;</td><td>&hellip;</td><td>&hellip;</td><td>&hellip;</td><td>&hellip;</td><td>&hellip;</td><td>&hellip;</td><td>&hellip;</td></tr><tr><td>989</td><td>89.71</td><td>48</td><td>51501.38</td><td>204.4</td><td>&quot;Versatile loca…</td><td>&quot;Sarafurt&quot;</td><td>1</td><td>&quot;Bahrain&quot;</td><td>&quot;2/17/2016 7:00…</td><td>0</td><td>&quot;A&quot;</td><td>40</td><td>10</td><td>10</td><td>1</td><td>&quot;SSS&quot;</td><td>null</td><td>&quot;B&quot;</td></tr><tr><td>990</td><td>70.96</td><td>31</td><td>55187.85</td><td>256.4</td><td>&quot;Ameliorated us…</td><td>&quot;South Denise&quot;</td><td>0</td><td>&quot;Saint Pierre a…</td><td>&quot;6/26/2016 7:01…</td><td>0</td><td>&quot;B&quot;</td><td>30</td><td>12</td><td>11</td><td>1</td><td>&quot;SSS&quot;</td><td>0</td><td>&quot;A&quot;</td></tr><tr><td>991</td><td>35.79</td><td>44</td><td>33813.08</td><td>165.62</td><td>&quot;Enterprise-wid…</td><td>&quot;North Katie&quot;</td><td>1</td><td>&quot;Tonga&quot;</td><td>&quot;4/20/2016 13:3…</td><td>1</td><td>&quot;A&quot;</td><td>40</td><td>8</td><td>6</td><td>1</td><td>&quot;SSS&quot;</td><td>null</td><td>&quot;B&quot;</td></tr><tr><td>992</td><td>38.96</td><td>38</td><td>36497.22</td><td>140.67</td><td>&quot;Versatile miss…</td><td>&quot;Mauricefurt&quot;</td><td>1</td><td>&quot;Comoros&quot;</td><td>&quot;7/21/2016 16:0…</td><td>1</td><td>&quot;A&quot;</td><td>30</td><td>7</td><td>7</td><td>1</td><td>&quot;SSS&quot;</td><td>null</td><td>&quot;B&quot;</td></tr><tr><td>993</td><td>69.17</td><td>40</td><td>66193.81</td><td>123.62</td><td>&quot;Extended leadi…</td><td>&quot;New Patrick&quot;</td><td>0</td><td>&quot;Montenegro&quot;</td><td>&quot;3/6/2016 11:36…</td><td>1</td><td>&quot;B&quot;</td><td>40</td><td>6</td><td>13</td><td>1</td><td>&quot;SSS&quot;</td><td>0</td><td>&quot;A&quot;</td></tr><tr><td>994</td><td>64.2</td><td>27</td><td>66200.96</td><td>227.63</td><td>&quot;Phased zero to…</td><td>&quot;Edwardsmouth&quot;</td><td>1</td><td>&quot;Isle of Man&quot;</td><td>&quot;2/11/2016 23:4…</td><td>0</td><td>&quot;A&quot;</td><td>20</td><td>11</td><td>13</td><td>1</td><td>&quot;SSS&quot;</td><td>null</td><td>&quot;B&quot;</td></tr><tr><td>995</td><td>43.7</td><td>28</td><td>63126.96</td><td>173.01</td><td>&quot;Front-line bif…</td><td>&quot;Nicholasland&quot;</td><td>0</td><td>&quot;Mayotte&quot;</td><td>&quot;4/4/2016 3:57&quot;</td><td>1</td><td>&quot;A&quot;</td><td>20</td><td>8</td><td>12</td><td>1</td><td>&quot;SSS&quot;</td><td>0</td><td>&quot;A&quot;</td></tr><tr><td>996</td><td>72.97</td><td>30</td><td>71384.57</td><td>208.58</td><td>&quot;Fundamental mo…</td><td>&quot;Duffystad&quot;</td><td>1</td><td>&quot;Lebanon&quot;</td><td>&quot;2/11/2016 21:4…</td><td>1</td><td>&quot;A&quot;</td><td>30</td><td>10</td><td>14</td><td>1</td><td>&quot;SSS&quot;</td><td>null</td><td>&quot;B&quot;</td></tr><tr><td>997</td><td>51.3</td><td>45</td><td>67782.17</td><td>134.42</td><td>&quot;Grass-roots co…</td><td>&quot;New Darlene&quot;</td><td>1</td><td>&quot;Bosnia and Her…</td><td>&quot;4/22/2016 2:07…</td><td>1</td><td>&quot;B&quot;</td><td>40</td><td>6</td><td>13</td><td>1</td><td>&quot;SSS&quot;</td><td>null</td><td>&quot;B&quot;</td></tr><tr><td>998</td><td>51.63</td><td>51</td><td>42415.72</td><td>120.37</td><td>&quot;Expanded intan…</td><td>&quot;South Jessica&quot;</td><td>1</td><td>&quot;Mongolia&quot;</td><td>&quot;2/1/2016 17:24…</td><td>1</td><td>&quot;C&quot;</td><td>50</td><td>6</td><td>8</td><td>1</td><td>&quot;SSS&quot;</td><td>null</td><td>&quot;B&quot;</td></tr><tr><td>999</td><td>55.55</td><td>19</td><td>41920.79</td><td>187.95</td><td>&quot;Proactive band…</td><td>&quot;West Steven&quot;</td><td>0</td><td>&quot;Guatemala&quot;</td><td>&quot;3/24/2016 2:35…</td><td>0</td><td>&quot;A&quot;</td><td>10</td><td>9</td><td>8</td><td>1</td><td>&quot;SSS&quot;</td><td>0</td><td>&quot;A&quot;</td></tr><tr><td>1000</td><td>45.01</td><td>26</td><td>29875.8</td><td>178.35</td><td>&quot;Virtual 5thgen…</td><td>&quot;Ronniemouth&quot;</td><td>0</td><td>&quot;Brazil&quot;</td><td>&quot;6/3/2016 21:43…</td><td>1</td><td>&quot;B&quot;</td><td>20</td><td>8</td><td>5</td><td>1</td><td>&quot;SSS&quot;</td><td>0</td><td>&quot;A&quot;</td></tr></tbody></table></div>"
      ],
      "text/plain": [
       "shape: (1_000, 19)\n",
       "┌──────┬─────────────┬─────┬─────────────┬───┬─────────────┬─────────────┬────────────┬────────────┐\n",
       "│ id   ┆ Daily Time  ┆ Age ┆ Area Income ┆ … ┆ Test_Consta ┆ Test_Str_Co ┆ Test_BadCo ┆ Test_Binar │\n",
       "│ ---  ┆ Spent on    ┆ --- ┆ ---         ┆   ┆ nt          ┆ nstant      ┆ lumn       ┆ y          │\n",
       "│ i64  ┆ Site        ┆ i64 ┆ f64         ┆   ┆ ---         ┆ ---         ┆ ---        ┆ ---        │\n",
       "│      ┆ ---         ┆     ┆             ┆   ┆ i64         ┆ str         ┆ i64        ┆ str        │\n",
       "│      ┆ f64         ┆     ┆             ┆   ┆             ┆             ┆            ┆            │\n",
       "╞══════╪═════════════╪═════╪═════════════╪═══╪═════════════╪═════════════╪════════════╪════════════╡\n",
       "│ 1    ┆ 68.95       ┆ 35  ┆ 61833.9     ┆ … ┆ 1           ┆ SSS         ┆ 0          ┆ A          │\n",
       "│ 2    ┆ 80.23       ┆ 31  ┆ 68441.85    ┆ … ┆ 1           ┆ SSS         ┆ null       ┆ B          │\n",
       "│ 3    ┆ 69.47       ┆ 26  ┆ 59785.94    ┆ … ┆ 1           ┆ SSS         ┆ 0          ┆ A          │\n",
       "│ 4    ┆ 74.15       ┆ 29  ┆ 54806.18    ┆ … ┆ 1           ┆ SSS         ┆ null       ┆ B          │\n",
       "│ …    ┆ …           ┆ …   ┆ …           ┆ … ┆ …           ┆ …           ┆ …          ┆ …          │\n",
       "│ 997  ┆ 51.3        ┆ 45  ┆ 67782.17    ┆ … ┆ 1           ┆ SSS         ┆ null       ┆ B          │\n",
       "│ 998  ┆ 51.63       ┆ 51  ┆ 42415.72    ┆ … ┆ 1           ┆ SSS         ┆ null       ┆ B          │\n",
       "│ 999  ┆ 55.55       ┆ 19  ┆ 41920.79    ┆ … ┆ 1           ┆ SSS         ┆ 0          ┆ A          │\n",
       "│ 1000 ┆ 45.01       ┆ 26  ┆ 29875.8     ┆ … ┆ 1           ┆ SSS         ┆ 0          ┆ A          │\n",
       "└──────┴─────────────┴─────┴─────────────┴───┴─────────────┴─────────────┴────────────┴────────────┘"
      ]
     },
     "execution_count": 2,
     "metadata": {},
     "output_type": "execute_result"
    }
   ],
   "source": [
    "df = pl.scan_csv(\"../data/advertising.csv\")\n",
    "df.collect()"
   ]
  },
  {
   "cell_type": "code",
   "execution_count": 3,
   "metadata": {},
   "outputs": [
    {
     "data": {
      "text/html": [
       "<div><style>\n",
       ".dataframe > thead > tr > th,\n",
       ".dataframe > tbody > tr > td {\n",
       "  text-align: right;\n",
       "  white-space: pre-wrap;\n",
       "}\n",
       "</style>\n",
       "<small>shape: (3, 2)</small><table border=\"1\" class=\"dataframe\"><thead><tr><th>One_Hot_Test</th><th>count</th></tr><tr><td>str</td><td>u32</td></tr></thead><tbody><tr><td>&quot;C&quot;</td><td>103</td></tr><tr><td>&quot;B&quot;</td><td>114</td></tr><tr><td>&quot;A&quot;</td><td>783</td></tr></tbody></table></div>"
      ],
      "text/plain": [
       "shape: (3, 2)\n",
       "┌──────────────┬───────┐\n",
       "│ One_Hot_Test ┆ count │\n",
       "│ ---          ┆ ---   │\n",
       "│ str          ┆ u32   │\n",
       "╞══════════════╪═══════╡\n",
       "│ C            ┆ 103   │\n",
       "│ B            ┆ 114   │\n",
       "│ A            ┆ 783   │\n",
       "└──────────────┴───────┘"
      ]
     },
     "execution_count": 3,
     "metadata": {},
     "output_type": "execute_result"
    }
   ],
   "source": [
    "df.group_by(\"One_Hot_Test\").count().collect()"
   ]
  },
  {
   "cell_type": "code",
   "execution_count": 7,
   "metadata": {},
   "outputs": [
    {
     "data": {
      "text/plain": [
       "391.5"
      ]
     },
     "execution_count": 7,
     "metadata": {},
     "output_type": "execute_result"
    }
   ],
   "source": [
    "783 * 0.5"
   ]
  },
  {
   "cell_type": "code",
   "execution_count": 6,
   "metadata": {},
   "outputs": [
    {
     "data": {
      "text/html": [
       "<div><style>\n",
       ".dataframe > thead > tr > th,\n",
       ".dataframe > tbody > tr > td {\n",
       "  text-align: right;\n",
       "  white-space: pre-wrap;\n",
       "}\n",
       "</style>\n",
       "<small>shape: (3, 2)</small><table border=\"1\" class=\"dataframe\"><thead><tr><th>One_Hot_Test</th><th>count</th></tr><tr><td>str</td><td>u32</td></tr></thead><tbody><tr><td>&quot;B&quot;</td><td>114</td></tr><tr><td>&quot;A&quot;</td><td>391</td></tr><tr><td>&quot;C&quot;</td><td>103</td></tr></tbody></table></div>"
      ],
      "text/plain": [
       "shape: (3, 2)\n",
       "┌──────────────┬───────┐\n",
       "│ One_Hot_Test ┆ count │\n",
       "│ ---          ┆ ---   │\n",
       "│ str          ┆ u32   │\n",
       "╞══════════════╪═══════╡\n",
       "│ B            ┆ 114   │\n",
       "│ A            ┆ 391   │\n",
       "│ C            ┆ 103   │\n",
       "└──────────────┴───────┘"
      ]
     },
     "execution_count": 6,
     "metadata": {},
     "output_type": "execute_result"
    }
   ],
   "source": [
    "sa.simple_downsample(df, subgroup=pl.col(\"One_Hot_Test\") == \"A\", sample_frac=0.5).group_by(\"One_Hot_Test\").count().collect()"
   ]
  },
  {
   "cell_type": "code",
   "execution_count": null,
   "metadata": {},
   "outputs": [],
   "source": [
    "%%timeit\n",
    "df.select(\n",
    "    pl.max_horizontal(pl.col(\"a\"), pl.lit(0.1))\n",
    ")"
   ]
  },
  {
   "cell_type": "code",
   "execution_count": null,
   "metadata": {},
   "outputs": [],
   "source": [
    "%%timeit\n",
    "df.select(\n",
    "    pl.col(\"a\").clip_min(0.1)\n",
    ")"
   ]
  },
  {
   "cell_type": "code",
   "execution_count": null,
   "metadata": {},
   "outputs": [],
   "source": [
    "pl.show_versions()"
   ]
  },
  {
   "cell_type": "code",
   "execution_count": null,
   "metadata": {},
   "outputs": [],
   "source": [
    "t.scale(df, cols=[\"a\",\"b\"], strategy=\"robust\")"
   ]
  },
  {
   "cell_type": "code",
   "execution_count": null,
   "metadata": {},
   "outputs": [],
   "source": []
  },
  {
   "cell_type": "code",
   "execution_count": null,
   "metadata": {},
   "outputs": [],
   "source": []
  },
  {
   "cell_type": "code",
   "execution_count": null,
   "metadata": {},
   "outputs": [],
   "source": [
    "test = pl.DataFrame(\n",
    "    {\n",
    "        \"a\":[[\"a\", None], [\"b\", None]]\n",
    "    }\n",
    ")\n",
    "\n",
    "test.select(\n",
    "    pl.col(\"a\").list.set_difference(pl.Series(\"test\", [None]))\n",
    ")"
   ]
  },
  {
   "cell_type": "code",
   "execution_count": null,
   "metadata": {},
   "outputs": [],
   "source": [
    "df = pl.read_csv(\"../data/advertising.csv\")\n",
    "df.head()"
   ]
  },
  {
   "cell_type": "code",
   "execution_count": null,
   "metadata": {},
   "outputs": [],
   "source": [
    "predicted = np.random.random(size=(5000,3))\n",
    "actual = np.round(np.random.random(size=(5000,3))).astype(np.int8)"
   ]
  },
  {
   "cell_type": "code",
   "execution_count": null,
   "metadata": {},
   "outputs": [],
   "source": [
    "me.precision_recall(actual, predicted)"
   ]
  },
  {
   "cell_type": "code",
   "execution_count": null,
   "metadata": {},
   "outputs": [],
   "source": [
    "df = pl.DataFrame({\n",
    "    \"predicted\": predicted[:, 1],\n",
    "    \"actual\": actual[:, 1]\n",
    "})"
   ]
  },
  {
   "cell_type": "code",
   "execution_count": null,
   "metadata": {},
   "outputs": [],
   "source": [
    "from sklearn.metrics import roc_auc_score\n",
    "\n",
    "print(roc_auc_score(actual, predicted, average=\"weighted\"))\n",
    "print(me.roc_auc(actual, predicted, strategy=\"balanced\"))"
   ]
  },
  {
   "cell_type": "code",
   "execution_count": null,
   "metadata": {},
   "outputs": [],
   "source": [
    "%%timeit\n",
    "roc_auc_score(actual, predicted)"
   ]
  },
  {
   "cell_type": "code",
   "execution_count": null,
   "metadata": {},
   "outputs": [],
   "source": [
    "%%timeit\n",
    "me.roc_auc(actual, predicted, strategy=\"none\")"
   ]
  },
  {
   "cell_type": "code",
   "execution_count": null,
   "metadata": {},
   "outputs": [],
   "source": [
    "%%timeit\n",
    "roc_auc_score(actual, predicted)"
   ]
  },
  {
   "cell_type": "code",
   "execution_count": null,
   "metadata": {},
   "outputs": [],
   "source": [
    "%%timeit\n",
    "me.roc_auc(actual, predicted)"
   ]
  },
  {
   "cell_type": "code",
   "execution_count": null,
   "metadata": {},
   "outputs": [],
   "source": [
    "import dsds.prescreen as ps\n",
    "print(ps.corr_table(df, cols=[\"Age\", \"Daily Internet Usage\"], corr_with=[\"Clicked on Ad\", \"Age Band\"]))"
   ]
  },
  {
   "cell_type": "code",
   "execution_count": null,
   "metadata": {},
   "outputs": [],
   "source": []
  },
  {
   "cell_type": "code",
   "execution_count": null,
   "metadata": {},
   "outputs": [],
   "source": [
    "df2 = (\n",
    "    df.lazy().select([\"Area Income\", \"Ad Topic Line\", \"City\", \"Clicked on Ad\"])\n",
    "    .drop([\"Ad Topic Line\"])\n",
    ").collect()"
   ]
  },
  {
   "cell_type": "code",
   "execution_count": null,
   "metadata": {},
   "outputs": [],
   "source": [
    "df2.show_graph()"
   ]
  },
  {
   "cell_type": "code",
   "execution_count": null,
   "metadata": {},
   "outputs": [],
   "source": []
  },
  {
   "cell_type": "code",
   "execution_count": null,
   "metadata": {},
   "outputs": [],
   "source": []
  },
  {
   "cell_type": "code",
   "execution_count": null,
   "metadata": {},
   "outputs": [],
   "source": [
    "from scipy.fft import fft\n",
    "a = np.array([1,2,3,1,2,3,1,2,3])\n",
    "fft(a)"
   ]
  },
  {
   "cell_type": "code",
   "execution_count": null,
   "metadata": {},
   "outputs": [],
   "source": [
    "df = pl.read_csv(\"../data/train.csv\").with_columns(\n",
    "    pl.lit(1).alias(\"feature_1\"),\n",
    "    pl.lit(2).alias(\"feature_2\")\n",
    ")"
   ]
  },
  {
   "cell_type": "code",
   "execution_count": null,
   "metadata": {},
   "outputs": [],
   "source": [
    "from tsfresh.examples.robot_execution_failures import download_robot_execution_failures, load_robot_execution_failures"
   ]
  },
  {
   "cell_type": "code",
   "execution_count": null,
   "metadata": {},
   "outputs": [],
   "source": [
    "download_robot_execution_failures()\n",
    "timeseries, y = load_robot_execution_failures()"
   ]
  },
  {
   "cell_type": "code",
   "execution_count": null,
   "metadata": {},
   "outputs": [],
   "source": [
    "timeseries"
   ]
  },
  {
   "cell_type": "code",
   "execution_count": null,
   "metadata": {},
   "outputs": [],
   "source": [
    "from tsfresh import extract_features\n",
    "extracted_features = extract_features(timeseries, column_id=\"id\", column_sort=\"time\")"
   ]
  },
  {
   "cell_type": "code",
   "execution_count": null,
   "metadata": {},
   "outputs": [],
   "source": [
    "extracted_features"
   ]
  },
  {
   "cell_type": "code",
   "execution_count": null,
   "metadata": {},
   "outputs": [],
   "source": []
  }
 ],
 "metadata": {
  "kernelspec": {
   "display_name": "my_py11",
   "language": "python",
   "name": "python3"
  },
  "language_info": {
   "codemirror_mode": {
    "name": "ipython",
    "version": 3
   },
   "file_extension": ".py",
   "mimetype": "text/x-python",
   "name": "python",
   "nbconvert_exporter": "python",
   "pygments_lexer": "ipython3",
   "version": "3.11.3"
  },
  "orig_nbformat": 4
 },
 "nbformat": 4,
 "nbformat_minor": 2
}
