{
 "cells": [
  {
   "cell_type": "code",
   "execution_count": 1,
   "metadata": {},
   "outputs": [],
   "source": [
    "from __future__ import annotations\n",
    "import polars as pl\n",
    "import inspect\n",
    "import numpy as np\n",
    "from typing import Tuple"
   ]
  },
  {
   "cell_type": "code",
   "execution_count": null,
   "metadata": {},
   "outputs": [],
   "source": [
    "pred = np.random.random(size=300_000) # .reshape(-1, 1) # Predictions\n",
    "actual = np.round(np.random.random(size=300_000)).astype(np.int8)  # Actuals"
   ]
  },
  {
   "cell_type": "code",
   "execution_count": null,
   "metadata": {},
   "outputs": [],
   "source": [
    "from dsds.metrics import roc_auc"
   ]
  },
  {
   "cell_type": "code",
   "execution_count": null,
   "metadata": {},
   "outputs": [],
   "source": [
    "pred = np.random.random(size=100_000) # .reshape(-1, 1) # Predictions\n",
    "actual = np.random.random(size=100_000) # Actuals"
   ]
  },
  {
   "cell_type": "code",
   "execution_count": null,
   "metadata": {},
   "outputs": [],
   "source": [
    "np.array([[1,2], [3,4]]).ndim"
   ]
  },
  {
   "cell_type": "code",
   "execution_count": null,
   "metadata": {},
   "outputs": [],
   "source": [
    "from sklearn.metrics import roc_auc_score, roc_curve, log_loss"
   ]
  },
  {
   "cell_type": "code",
   "execution_count": null,
   "metadata": {},
   "outputs": [],
   "source": [
    "log_loss(actual, pred)"
   ]
  },
  {
   "cell_type": "code",
   "execution_count": null,
   "metadata": {},
   "outputs": [],
   "source": [
    "%%timeit\n",
    "logloss(actual, pred)"
   ]
  },
  {
   "cell_type": "code",
   "execution_count": null,
   "metadata": {},
   "outputs": [],
   "source": [
    "%%timeit\n",
    "log_loss(actual, pred)"
   ]
  },
  {
   "cell_type": "code",
   "execution_count": null,
   "metadata": {},
   "outputs": [],
   "source": []
  },
  {
   "cell_type": "code",
   "execution_count": null,
   "metadata": {},
   "outputs": [],
   "source": [
    "%%timeit\n",
    "roc_auc(actual, a)"
   ]
  },
  {
   "cell_type": "code",
   "execution_count": null,
   "metadata": {},
   "outputs": [],
   "source": [
    "tp1, _, thresholds = roc_curve(actual, a)"
   ]
  },
  {
   "cell_type": "code",
   "execution_count": null,
   "metadata": {},
   "outputs": [],
   "source": [
    "tp1"
   ]
  },
  {
   "cell_type": "code",
   "execution_count": null,
   "metadata": {},
   "outputs": [],
   "source": [
    "%%timeit\n",
    "roc_auc_score(actual, a)"
   ]
  },
  {
   "cell_type": "code",
   "execution_count": null,
   "metadata": {},
   "outputs": [],
   "source": [
    "roc_auc(actual, a)"
   ]
  },
  {
   "cell_type": "code",
   "execution_count": null,
   "metadata": {},
   "outputs": [],
   "source": [
    "roc_auc_score(actual, a)"
   ]
  },
  {
   "cell_type": "code",
   "execution_count": null,
   "metadata": {},
   "outputs": [],
   "source": [
    "grid = (np.arange(0,100,1)/100)\n",
    "base = np.full(shape=(50_000, 100), fill_value=False)"
   ]
  },
  {
   "cell_type": "code",
   "execution_count": null,
   "metadata": {},
   "outputs": [],
   "source": [
    "base1 = np.full(shape=(50_000, 100), fill_value=False)\n",
    "for i in range(50_000):\n",
    "    base1[i, :] = grid.ravel() < a[i]\n",
    "\n",
    "base1"
   ]
  },
  {
   "cell_type": "code",
   "execution_count": null,
   "metadata": {},
   "outputs": [],
   "source": [
    "base2 = grid < a\n",
    "base2"
   ]
  },
  {
   "cell_type": "code",
   "execution_count": null,
   "metadata": {},
   "outputs": [],
   "source": [
    "np.sum(base1 == base2)"
   ]
  },
  {
   "cell_type": "code",
   "execution_count": null,
   "metadata": {},
   "outputs": [],
   "source": [
    "dist"
   ]
  },
  {
   "cell_type": "code",
   "execution_count": null,
   "metadata": {},
   "outputs": [],
   "source": [
    "pred = np.random.random(size=100_000) # .reshape(-1, 1) # Predictions\n",
    "actual = np.random.random(size=100_000)  # Actuals"
   ]
  },
  {
   "cell_type": "code",
   "execution_count": null,
   "metadata": {},
   "outputs": [],
   "source": [
    "\n",
    "diff1 = actual - pred\n",
    "ss_res = diff1.dot(diff1)\n",
    "diff2 = actual - np.mean(actual)\n",
    "ss_tot = diff2.dot(diff2)\n",
    "ans = 1 - ss_res/ss_tot\n",
    "ans"
   ]
  },
  {
   "cell_type": "code",
   "execution_count": null,
   "metadata": {},
   "outputs": [],
   "source": [
    "%%timeit \n",
    "ss_res = np.sum(np.square(actual - pred))\n",
    "ss_tot = np.sum(np.square(actual - np.mean(actual)))\n",
    "ans = 1 - ss_res/ss_tot\n",
    "ans"
   ]
  },
  {
   "cell_type": "code",
   "execution_count": null,
   "metadata": {},
   "outputs": [],
   "source": [
    "import numpy as np\n",
    "from scipy import stats\n",
    "rng = np.random.default_rng()\n",
    "sample1 = stats.uniform.rvs(size=100, random_state=rng)\n",
    "sample2 = stats.norm.rvs(size=110, random_state=rng)\n",
    "res = stats.ks_2samp(sample1, sample2)"
   ]
  },
  {
   "cell_type": "code",
   "execution_count": null,
   "metadata": {},
   "outputs": [],
   "source": [
    "res.statistic"
   ]
  },
  {
   "cell_type": "code",
   "execution_count": null,
   "metadata": {},
   "outputs": [],
   "source": [
    "import pandas as pd\n",
    "df = pl.DataFrame({\"a\": range(20)}).lazy() # .to_pandas()"
   ]
  },
  {
   "cell_type": "code",
   "execution_count": null,
   "metadata": {},
   "outputs": [],
   "source": [
    "df.groupby((pl.col(\"a\") < 10).alias(\"is_smaller\")).agg(\n",
    "    pl.all().first()\n",
    ").collect()"
   ]
  },
  {
   "cell_type": "code",
   "execution_count": null,
   "metadata": {},
   "outputs": [],
   "source": []
  },
  {
   "cell_type": "code",
   "execution_count": null,
   "metadata": {},
   "outputs": [],
   "source": [
    "import polars as pl\n",
    "import random \n",
    "\n",
    "df = pl.scan_csv(\"../data/test.csv\")\n",
    "    \n",
    "# Define polars custom functions to apply\n",
    "def add_position_column(df:pl.LazyFrame):\n",
    "    df = df.with_columns( \n",
    "        pl.when(pl.col('defensive_skill') > 50).then('CB')\n",
    "        .when(pl.col('offensive_skill') > 50).then('FW')\n",
    "        .otherwise('bench').alias(\"position\")\n",
    "    )\n",
    "    return df\n",
    "\n",
    "def add_squad_number_column(df:pl.LazyFrame):\n",
    "    df = df.with_columns( \n",
    "        pl.when(pl.col('position') == 'CD').then(pl.lit(random.sample(range(2, 6), 1)[0], dtype=pl.Int8))\n",
    "        .when(pl.col('position') == 'FW').then(pl.lit(random.sample(range(7, 19), 1)[0], dtype=pl.Int8))\n",
    "        .otherwise('-').alias(\"squad_number\")\n",
    "    )\n",
    "    return df\n",
    "\n",
    "# Chain operations together using the pipe function\n",
    "\n",
    "\n",
    "df.pipe(add_position_column)\\\n",
    "    .pipe(add_squad_number_column)\\\n",
    "    .write_json(\"pipe.json\")\n"
   ]
  },
  {
   "cell_type": "code",
   "execution_count": null,
   "metadata": {},
   "outputs": [],
   "source": [
    "f = open(\"pipe.json\", \"r\")\n",
    "json_str = f.read()\n",
    "f.close()\n",
    "df3 = pl.read_csv(\"../data/test.csv\")\n",
    "df2 = df3.lazy().from_json(json_str)\n",
    "df2.collect()"
   ]
  },
  {
   "cell_type": "code",
   "execution_count": null,
   "metadata": {},
   "outputs": [],
   "source": [
    "plan = pl.LazyFrame().from_json(json_str)\n",
    "plan.write_json(\"pipe.json\")"
   ]
  },
  {
   "cell_type": "code",
   "execution_count": null,
   "metadata": {},
   "outputs": [],
   "source": [
    "df2.collect()"
   ]
  },
  {
   "cell_type": "code",
   "execution_count": null,
   "metadata": {},
   "outputs": [],
   "source": [
    "test = [\"a\",\"b\"]\n",
    "\n",
    "\"|\".join(test)"
   ]
  },
  {
   "cell_type": "code",
   "execution_count": null,
   "metadata": {},
   "outputs": [],
   "source": [
    "def test() -> list[str]:\n",
    "    return [\"a\"]\n",
    "\n",
    "test.__annotations__.get(\"return\", \"\") == list[str]"
   ]
  },
  {
   "cell_type": "code",
   "execution_count": null,
   "metadata": {},
   "outputs": [],
   "source": [
    "from typing import Callable, Concatenate\n",
    "\n",
    "tt:Callable[[], list]\n",
    "tt = test"
   ]
  },
  {
   "cell_type": "code",
   "execution_count": null,
   "metadata": {},
   "outputs": [],
   "source": [
    "inspect.signature(tt).return_annotation == \"list[str]\""
   ]
  },
  {
   "cell_type": "code",
   "execution_count": 6,
   "metadata": {},
   "outputs": [
    {
     "data": {
      "text/html": [
       "<div><style>\n",
       ".dataframe > thead > tr > th,\n",
       ".dataframe > tbody > tr > td {\n",
       "  text-align: right;\n",
       "}\n",
       "</style>\n",
       "<small>shape: (4,)</small><table border=\"1\" class=\"dataframe\"><thead><tr><th>a</th></tr><tr><td>f64</td></tr></thead><tbody><tr><td>1.0</td></tr><tr><td>2.0</td></tr><tr><td>3.0</td></tr><tr><td>null</td></tr></tbody></table></div>"
      ],
      "text/plain": [
       "shape: (4,)\n",
       "Series: 'a' [f64]\n",
       "[\n",
       "\t1.0\n",
       "\t2.0\n",
       "\t3.0\n",
       "\tnull\n",
       "]"
      ]
     },
     "execution_count": 6,
     "metadata": {},
     "output_type": "execute_result"
    }
   ],
   "source": [
    "s = pl.Series(\"a\", [1, 2, 3, float(\"nan\")])\n",
    "s.fill_nan(None)"
   ]
  },
  {
   "cell_type": "code",
   "execution_count": 2,
   "metadata": {},
   "outputs": [],
   "source": [
    "from dsds.sample import simple_upsample, stratified_downsample\n",
    "import pandas as pd"
   ]
  },
  {
   "cell_type": "code",
   "execution_count": 3,
   "metadata": {},
   "outputs": [
    {
     "name": "stdout",
     "output_type": "stream",
     "text": [
      "shape: (3, 2)\n",
      "┌──────────────┬───────┐\n",
      "│ One_Hot_Test ┆ count │\n",
      "│ ---          ┆ ---   │\n",
      "│ str          ┆ u32   │\n",
      "╞══════════════╪═══════╡\n",
      "│ B            ┆ 114   │\n",
      "│ A            ┆ 783   │\n",
      "│ C            ┆ 103   │\n",
      "└──────────────┴───────┘\n"
     ]
    }
   ],
   "source": [
    "df = pl.read_csv(\"../data/advertising.csv\")\n",
    "df.head()\n",
    "print(df.groupby(\"One_Hot_Test\").count())"
   ]
  },
  {
   "cell_type": "code",
   "execution_count": 6,
   "metadata": {},
   "outputs": [],
   "source": [
    "upsampled = simple_upsample(df, subgroup={\"One_Hot_Test\":[\"B\", \"C\"]}, count=200, exclude=[\"Clicked on Ad\"])"
   ]
  },
  {
   "cell_type": "code",
   "execution_count": 8,
   "metadata": {},
   "outputs": [
    {
     "data": {
      "text/html": [
       "<div><style>\n",
       ".dataframe > thead > tr > th,\n",
       ".dataframe > tbody > tr > td {\n",
       "  text-align: right;\n",
       "}\n",
       "</style>\n",
       "<small>shape: (1_200, 19)</small><table border=\"1\" class=\"dataframe\"><thead><tr><th>id</th><th>Daily Time Spent on Site</th><th>Age</th><th>Area Income</th><th>Daily Internet Usage</th><th>Ad Topic Line</th><th>City</th><th>Male</th><th>Country</th><th>Timestamp</th><th>Clicked on Ad</th><th>One_Hot_Test</th><th>Age Band</th><th>Daily Internet Usage Band</th><th>Area Income Band</th><th>Test_Constant</th><th>Test_Str_Constant</th><th>Test_BadColumn</th><th>Test_Binary</th></tr><tr><td>i64</td><td>f64</td><td>i64</td><td>f64</td><td>f64</td><td>str</td><td>str</td><td>i64</td><td>str</td><td>str</td><td>i64</td><td>str</td><td>i64</td><td>i64</td><td>i64</td><td>i64</td><td>str</td><td>i64</td><td>str</td></tr></thead><tbody><tr><td>1</td><td>68.95</td><td>35</td><td>61833.9</td><td>256.09</td><td>&quot;Cloned 5thgene…</td><td>&quot;Wrightburgh&quot;</td><td>0</td><td>&quot;Tunisia&quot;</td><td>&quot;3/27/2016 0:53…</td><td>0</td><td>&quot;A&quot;</td><td>30</td><td>12</td><td>12</td><td>1</td><td>&quot;SSS&quot;</td><td>0</td><td>&quot;A&quot;</td></tr><tr><td>2</td><td>80.23</td><td>31</td><td>68441.85</td><td>193.77</td><td>&quot;Monitored nati…</td><td>&quot;West Jodi&quot;</td><td>1</td><td>&quot;Nauru&quot;</td><td>&quot;4/4/2016 1:39&quot;</td><td>0</td><td>&quot;B&quot;</td><td>30</td><td>9</td><td>13</td><td>1</td><td>&quot;SSS&quot;</td><td>null</td><td>&quot;B&quot;</td></tr><tr><td>3</td><td>69.47</td><td>26</td><td>59785.94</td><td>236.5</td><td>&quot;Organic bottom…</td><td>&quot;Davidton&quot;</td><td>0</td><td>&quot;San Marino&quot;</td><td>&quot;3/13/2016 20:3…</td><td>0</td><td>&quot;A&quot;</td><td>20</td><td>11</td><td>11</td><td>1</td><td>&quot;SSS&quot;</td><td>0</td><td>&quot;A&quot;</td></tr><tr><td>4</td><td>74.15</td><td>29</td><td>54806.18</td><td>245.89</td><td>&quot;Triple-buffere…</td><td>&quot;West Terrifurt…</td><td>1</td><td>&quot;Italy&quot;</td><td>&quot;1/10/2016 2:31…</td><td>0</td><td>&quot;B&quot;</td><td>20</td><td>12</td><td>10</td><td>1</td><td>&quot;SSS&quot;</td><td>null</td><td>&quot;B&quot;</td></tr><tr><td>5</td><td>68.37</td><td>35</td><td>73889.99</td><td>225.58</td><td>&quot;Robust logisti…</td><td>&quot;South Manuel&quot;</td><td>0</td><td>&quot;Iceland&quot;</td><td>&quot;6/3/2016 3:36&quot;</td><td>0</td><td>&quot;A&quot;</td><td>30</td><td>11</td><td>14</td><td>1</td><td>&quot;SSS&quot;</td><td>0</td><td>&quot;A&quot;</td></tr><tr><td>6</td><td>59.99</td><td>23</td><td>59761.56</td><td>226.74</td><td>&quot;Sharable clien…</td><td>&quot;Jamieberg&quot;</td><td>1</td><td>&quot;Norway&quot;</td><td>&quot;5/19/2016 14:3…</td><td>0</td><td>&quot;B&quot;</td><td>20</td><td>11</td><td>11</td><td>1</td><td>&quot;SSS&quot;</td><td>null</td><td>&quot;B&quot;</td></tr><tr><td>7</td><td>88.91</td><td>33</td><td>null</td><td>208.36</td><td>&quot;Enhanced dedic…</td><td>&quot;Brandonstad&quot;</td><td>0</td><td>&quot;Myanmar&quot;</td><td>&quot;1/28/2016 20:5…</td><td>0</td><td>&quot;A&quot;</td><td>30</td><td>10</td><td>null</td><td>1</td><td>&quot;SSS&quot;</td><td>0</td><td>&quot;A&quot;</td></tr><tr><td>8</td><td>66.0</td><td>48</td><td>24593.33</td><td>131.76</td><td>&quot;Reactive local…</td><td>&quot;Port Jefferybu…</td><td>1</td><td>&quot;Australia&quot;</td><td>&quot;3/7/2016 1:40&quot;</td><td>1</td><td>&quot;A&quot;</td><td>40</td><td>6</td><td>4</td><td>1</td><td>&quot;SSS&quot;</td><td>null</td><td>&quot;B&quot;</td></tr><tr><td>9</td><td>74.53</td><td>30</td><td>68862.0</td><td>221.51</td><td>&quot;Configurable c…</td><td>&quot;West Colin&quot;</td><td>1</td><td>&quot;Grenada&quot;</td><td>&quot;4/18/2016 9:33…</td><td>0</td><td>&quot;A&quot;</td><td>30</td><td>11</td><td>13</td><td>1</td><td>&quot;SSS&quot;</td><td>null</td><td>&quot;B&quot;</td></tr><tr><td>10</td><td>69.88</td><td>20</td><td>55642.32</td><td>183.82</td><td>&quot;Mandatory homo…</td><td>&quot;Ramirezton&quot;</td><td>1</td><td>&quot;Ghana&quot;</td><td>&quot;7/11/2016 1:42…</td><td>0</td><td>&quot;A&quot;</td><td>20</td><td>9</td><td>11</td><td>1</td><td>&quot;SSS&quot;</td><td>null</td><td>&quot;B&quot;</td></tr><tr><td>11</td><td>47.64</td><td>49</td><td>45632.51</td><td>122.02</td><td>&quot;Centralized ne…</td><td>&quot;West Brandonto…</td><td>0</td><td>&quot;Qatar&quot;</td><td>&quot;3/16/2016 20:1…</td><td>1</td><td>&quot;C&quot;</td><td>40</td><td>6</td><td>9</td><td>1</td><td>&quot;SSS&quot;</td><td>0</td><td>&quot;A&quot;</td></tr><tr><td>12</td><td>83.07</td><td>37</td><td>null</td><td>230.87</td><td>&quot;Team-oriented …</td><td>&quot;East Theresash…</td><td>1</td><td>&quot;Burundi&quot;</td><td>&quot;5/8/2016 8:10&quot;</td><td>0</td><td>&quot;A&quot;</td><td>30</td><td>11</td><td>null</td><td>1</td><td>&quot;SSS&quot;</td><td>null</td><td>&quot;B&quot;</td></tr><tr><td>&hellip;</td><td>&hellip;</td><td>&hellip;</td><td>&hellip;</td><td>&hellip;</td><td>&hellip;</td><td>&hellip;</td><td>&hellip;</td><td>&hellip;</td><td>&hellip;</td><td>&hellip;</td><td>&hellip;</td><td>&hellip;</td><td>&hellip;</td><td>&hellip;</td><td>&hellip;</td><td>&hellip;</td><td>&hellip;</td><td>&hellip;</td></tr><tr><td>133</td><td>51.244936</td><td>36</td><td>76368.30237</td><td>176.723832</td><td>&quot;Versatile tran…</td><td>&quot;Timothyfurt&quot;</td><td>0</td><td>&quot;Cuba&quot;</td><td>&quot;1/3/2016 16:01…</td><td>1</td><td>&quot;B&quot;</td><td>30</td><td>8</td><td>15</td><td>1</td><td>&quot;SSS&quot;</td><td>0</td><td>&quot;A&quot;</td></tr><tr><td>489</td><td>35.485249</td><td>48</td><td>43974.497011</td><td>159.760496</td><td>&quot;Fully-configur…</td><td>&quot;Timothyport&quot;</td><td>0</td><td>&quot;American Samoa…</td><td>&quot;4/8/2016 14:35…</td><td>1</td><td>&quot;B&quot;</td><td>40</td><td>7</td><td>8</td><td>1</td><td>&quot;SSS&quot;</td><td>0</td><td>&quot;A&quot;</td></tr><tr><td>784</td><td>82.698736</td><td>29</td><td>61161.292741</td><td>167.418549</td><td>&quot;Fully-configur…</td><td>&quot;Rachelhaven&quot;</td><td>1</td><td>&quot;Georgia&quot;</td><td>&quot;5/24/2016 10:1…</td><td>0</td><td>&quot;B&quot;</td><td>20</td><td>8</td><td>12</td><td>1</td><td>&quot;SSS&quot;</td><td>null</td><td>&quot;B&quot;</td></tr><tr><td>217</td><td>61.564819</td><td>53</td><td>35253.972438</td><td>125.938964</td><td>&quot;Progressive 24…</td><td>&quot;Bradyfurt&quot;</td><td>1</td><td>&quot;Bulgaria&quot;</td><td>&quot;3/14/2016 14:1…</td><td>1</td><td>&quot;C&quot;</td><td>50</td><td>6</td><td>7</td><td>1</td><td>&quot;SSS&quot;</td><td>null</td><td>&quot;B&quot;</td></tr><tr><td>392</td><td>79.962455</td><td>44</td><td>70449.041765</td><td>215.996151</td><td>&quot;Programmable e…</td><td>&quot;Mariebury&quot;</td><td>0</td><td>&quot;China&quot;</td><td>&quot;7/13/2016 1:48…</td><td>0</td><td>&quot;B&quot;</td><td>40</td><td>10</td><td>14</td><td>1</td><td>&quot;SSS&quot;</td><td>0</td><td>&quot;A&quot;</td></tr><tr><td>885</td><td>70.926622</td><td>39</td><td>66522.793722</td><td>249.81197</td><td>&quot;Up-sized intan…</td><td>&quot;New Nathan&quot;</td><td>1</td><td>&quot;South Africa&quot;</td><td>&quot;7/21/2016 20:3…</td><td>0</td><td>&quot;C&quot;</td><td>30</td><td>12</td><td>13</td><td>1</td><td>&quot;SSS&quot;</td><td>null</td><td>&quot;B&quot;</td></tr><tr><td>36</td><td>84.363066</td><td>30</td><td>61389.490246</td><td>201.570146</td><td>&quot;Synchronized s…</td><td>&quot;Johnstad&quot;</td><td>0</td><td>&quot;Luxembourg&quot;</td><td>&quot;4/12/2016 3:26…</td><td>0</td><td>&quot;B&quot;</td><td>30</td><td>10</td><td>12</td><td>1</td><td>&quot;SSS&quot;</td><td>0</td><td>&quot;A&quot;</td></tr><tr><td>36</td><td>84.363585</td><td>30</td><td>61389.499086</td><td>201.57556</td><td>&quot;Synchronized s…</td><td>&quot;Johnstad&quot;</td><td>0</td><td>&quot;Luxembourg&quot;</td><td>&quot;4/12/2016 3:26…</td><td>0</td><td>&quot;B&quot;</td><td>30</td><td>10</td><td>12</td><td>1</td><td>&quot;SSS&quot;</td><td>0</td><td>&quot;A&quot;</td></tr><tr><td>212</td><td>41.891988</td><td>38</td><td>68519.966508</td><td>163.384061</td><td>&quot;Compatible sys…</td><td>&quot;Hartmanchester…</td><td>0</td><td>&quot;Cyprus&quot;</td><td>&quot;2/3/2016 4:21&quot;</td><td>1</td><td>&quot;C&quot;</td><td>30</td><td>8</td><td>13</td><td>1</td><td>&quot;SSS&quot;</td><td>0</td><td>&quot;A&quot;</td></tr><tr><td>998</td><td>51.637491</td><td>51</td><td>42415.715907</td><td>120.372675</td><td>&quot;Expanded intan…</td><td>&quot;South Jessica&quot;</td><td>1</td><td>&quot;Mongolia&quot;</td><td>&quot;2/1/2016 17:24…</td><td>1</td><td>&quot;C&quot;</td><td>50</td><td>6</td><td>8</td><td>1</td><td>&quot;SSS&quot;</td><td>null</td><td>&quot;B&quot;</td></tr><tr><td>384</td><td>74.623929</td><td>26</td><td>51975.409171</td><td>235.999636</td><td>&quot;Enhanced asymm…</td><td>&quot;New Traceystad…</td><td>1</td><td>&quot;Dominican Repu…</td><td>&quot;7/5/2016 20:16…</td><td>0</td><td>&quot;C&quot;</td><td>20</td><td>11</td><td>10</td><td>1</td><td>&quot;SSS&quot;</td><td>null</td><td>&quot;B&quot;</td></tr><tr><td>171</td><td>43.766206</td><td>52</td><td>49030.028846</td><td>138.552407</td><td>&quot;Synergized hyb…</td><td>&quot;Kyleborough&quot;</td><td>1</td><td>&quot;Portugal&quot;</td><td>&quot;1/25/2016 7:39…</td><td>1</td><td>&quot;B&quot;</td><td>50</td><td>6</td><td>9</td><td>1</td><td>&quot;SSS&quot;</td><td>null</td><td>&quot;B&quot;</td></tr></tbody></table></div>"
      ],
      "text/plain": [
       "shape: (1_200, 19)\n",
       "┌─────┬────────────┬─────┬───────────────┬───┬────────────┬────────────┬────────────┬──────────────┐\n",
       "│ id  ┆ Daily Time ┆ Age ┆ Area Income   ┆ … ┆ Test_Const ┆ Test_Str_C ┆ Test_BadCo ┆ Test_Binary  │\n",
       "│ --- ┆ Spent on   ┆ --- ┆ ---           ┆   ┆ ant        ┆ onstant    ┆ lumn       ┆ ---          │\n",
       "│ i64 ┆ Site       ┆ i64 ┆ f64           ┆   ┆ ---        ┆ ---        ┆ ---        ┆ str          │\n",
       "│     ┆ ---        ┆     ┆               ┆   ┆ i64        ┆ str        ┆ i64        ┆              │\n",
       "│     ┆ f64        ┆     ┆               ┆   ┆            ┆            ┆            ┆              │\n",
       "╞═════╪════════════╪═════╪═══════════════╪═══╪════════════╪════════════╪════════════╪══════════════╡\n",
       "│ 1   ┆ 68.95      ┆ 35  ┆ 61833.9       ┆ … ┆ 1          ┆ SSS        ┆ 0          ┆ A            │\n",
       "│ 2   ┆ 80.23      ┆ 31  ┆ 68441.85      ┆ … ┆ 1          ┆ SSS        ┆ null       ┆ B            │\n",
       "│ 3   ┆ 69.47      ┆ 26  ┆ 59785.94      ┆ … ┆ 1          ┆ SSS        ┆ 0          ┆ A            │\n",
       "│ 4   ┆ 74.15      ┆ 29  ┆ 54806.18      ┆ … ┆ 1          ┆ SSS        ┆ null       ┆ B            │\n",
       "│ …   ┆ …          ┆ …   ┆ …             ┆ … ┆ …          ┆ …          ┆ …          ┆ …            │\n",
       "│ 212 ┆ 41.891988  ┆ 38  ┆ 68519.966508  ┆ … ┆ 1          ┆ SSS        ┆ 0          ┆ A            │\n",
       "│ 998 ┆ 51.637491  ┆ 51  ┆ 42415.715907  ┆ … ┆ 1          ┆ SSS        ┆ null       ┆ B            │\n",
       "│ 384 ┆ 74.623929  ┆ 26  ┆ 51975.409171  ┆ … ┆ 1          ┆ SSS        ┆ null       ┆ B            │\n",
       "│ 171 ┆ 43.766206  ┆ 52  ┆ 49030.028846  ┆ … ┆ 1          ┆ SSS        ┆ null       ┆ B            │\n",
       "└─────┴────────────┴─────┴───────────────┴───┴────────────┴────────────┴────────────┴──────────────┘"
      ]
     },
     "execution_count": 8,
     "metadata": {},
     "output_type": "execute_result"
    }
   ],
   "source": [
    "upsampled"
   ]
  },
  {
   "cell_type": "code",
   "execution_count": 5,
   "metadata": {},
   "outputs": [
    {
     "name": "stdout",
     "output_type": "stream",
     "text": [
      "shape: (3, 2)\n",
      "┌──────────────┬───────┐\n",
      "│ One_Hot_Test ┆ count │\n",
      "│ ---          ┆ ---   │\n",
      "│ str          ┆ u32   │\n",
      "╞══════════════╪═══════╡\n",
      "│ C            ┆ 200   │\n",
      "│ B            ┆ 217   │\n",
      "│ A            ┆ 783   │\n",
      "└──────────────┴───────┘\n"
     ]
    }
   ],
   "source": [
    "print(upsampled.groupby(\"One_Hot_Test\").count())"
   ]
  },
  {
   "cell_type": "code",
   "execution_count": null,
   "metadata": {},
   "outputs": [],
   "source": [
    "def stratified_sample_pd(df:pd.DataFrame, groupby:list[str], keep:float):\n",
    "    return df.groupby(groupby, group_keys=False, as_index=False)\\\n",
    "        .apply(lambda x: x.sample(frac = keep))\\\n",
    "        .sample(frac=1)"
   ]
  },
  {
   "cell_type": "code",
   "execution_count": null,
   "metadata": {},
   "outputs": [],
   "source": [
    "df = pl.read_csv(\"../data/advertising.csv\")\n",
    "df_pd = df.to_pandas()\n",
    "df.head()"
   ]
  },
  {
   "cell_type": "code",
   "execution_count": null,
   "metadata": {},
   "outputs": [],
   "source": [
    "target = \"Clicked on Ad\"\n",
    "df.lazy().select(pl.col(target).unique()).collect().get_column(target) # [0]"
   ]
  },
  {
   "cell_type": "code",
   "execution_count": null,
   "metadata": {},
   "outputs": [],
   "source": [
    "test = stratified_downsample(df, groupby=[\"One_Hot_Test\"], keep=0.5)"
   ]
  },
  {
   "cell_type": "code",
   "execution_count": null,
   "metadata": {},
   "outputs": [],
   "source": [
    "test.groupby([\"One_Hot_Test\"]).count()"
   ]
  },
  {
   "cell_type": "code",
   "execution_count": null,
   "metadata": {},
   "outputs": [],
   "source": [
    "test_pd = stratified_sample_pd(df_pd, [\"One_Hot_Test\"], 0.5)\n",
    "test_pd.groupby([\"One_Hot_Test\"]).count()"
   ]
  },
  {
   "cell_type": "code",
   "execution_count": null,
   "metadata": {},
   "outputs": [],
   "source": [
    "%%timeit\n",
    "stratified_downsample(df, groupby=[\"One_Hot_Test\"], keep=0.5)"
   ]
  },
  {
   "cell_type": "code",
   "execution_count": null,
   "metadata": {},
   "outputs": [],
   "source": [
    "%%timeit\n",
    "stratified_sample_pd(df_pd, [\"One_Hot_Test\"], 0.5)"
   ]
  },
  {
   "cell_type": "code",
   "execution_count": 1,
   "metadata": {},
   "outputs": [],
   "source": [
    "import polars as pl\n",
    "\n",
    "df = pl.DataFrame({\n",
    "    \"a\":[1, None, 2, 3]\n",
    "})"
   ]
  },
  {
   "cell_type": "code",
   "execution_count": 4,
   "metadata": {},
   "outputs": [
    {
     "data": {
      "text/html": [
       "<div><style>\n",
       ".dataframe > thead > tr > th,\n",
       ".dataframe > tbody > tr > td {\n",
       "  text-align: right;\n",
       "}\n",
       "</style>\n",
       "<small>shape: (1, 1)</small><table border=\"1\" class=\"dataframe\"><thead><tr><th>a</th></tr><tr><td>f64</td></tr></thead><tbody><tr><td>2.0</td></tr></tbody></table></div>"
      ],
      "text/plain": [
       "shape: (1, 1)\n",
       "┌─────┐\n",
       "│ a   │\n",
       "│ --- │\n",
       "│ f64 │\n",
       "╞═════╡\n",
       "│ 2.0 │\n",
       "└─────┘"
      ]
     },
     "execution_count": 4,
     "metadata": {},
     "output_type": "execute_result"
    }
   ],
   "source": [
    "df.select(\n",
    "    pl.col(\"a\").mean()\n",
    ")"
   ]
  },
  {
   "cell_type": "code",
   "execution_count": null,
   "metadata": {},
   "outputs": [],
   "source": []
  }
 ],
 "metadata": {
  "kernelspec": {
   "display_name": "my_py11",
   "language": "python",
   "name": "python3"
  },
  "language_info": {
   "codemirror_mode": {
    "name": "ipython",
    "version": 3
   },
   "file_extension": ".py",
   "mimetype": "text/x-python",
   "name": "python",
   "nbconvert_exporter": "python",
   "pygments_lexer": "ipython3",
   "version": "3.11.3"
  },
  "orig_nbformat": 4
 },
 "nbformat": 4,
 "nbformat_minor": 2
}
