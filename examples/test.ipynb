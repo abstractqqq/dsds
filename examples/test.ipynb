{
 "cells": [
  {
   "cell_type": "code",
   "execution_count": 1,
   "metadata": {},
   "outputs": [],
   "source": [
    "import polars as pl\n",
    "import numpy as np\n",
    "import dsds.metrics as me\n",
    "import dsds.prescreen as ps\n",
    "import dsds.sample as sa\n",
    "import dsds.fs as fs\n",
    "import dsds.transform as t\n",
    "import numpy as np "
   ]
  },
  {
   "cell_type": "code",
   "execution_count": 2,
   "metadata": {},
   "outputs": [],
   "source": [
    "import dsds.compare as comp"
   ]
  },
  {
   "cell_type": "code",
   "execution_count": 10,
   "metadata": {},
   "outputs": [
    {
     "data": {
      "text/html": [
       "<div><style>\n",
       ".dataframe > thead > tr > th,\n",
       ".dataframe > tbody > tr > td {\n",
       "  text-align: right;\n",
       "  white-space: pre-wrap;\n",
       "}\n",
       "</style>\n",
       "<small>shape: (5, 12)</small><table border=\"1\" class=\"dataframe\"><thead><tr><th>Id</th><th>ORGANIZATION</th><th>NAME</th><th>GENDER</th><th>SPECIALITY</th><th>ADDRESS</th><th>CITY</th><th>STATE</th><th>ZIP</th><th>LAT</th><th>LON</th><th>UTILIZATION</th></tr><tr><td>str</td><td>str</td><td>str</td><td>str</td><td>str</td><td>str</td><td>str</td><td>str</td><td>str</td><td>f64</td><td>f64</td><td>i64</td></tr></thead><tbody><tr><td>&quot;3421aa75-dec7-…</td><td>&quot;ef58ea08-d883-…</td><td>&quot;Tomas436 Sauer…</td><td>&quot;M&quot;</td><td>&quot;GENERAL PRACTI…</td><td>&quot;60 HOSPITAL RO…</td><td>&quot;LEOMINSTER&quot;</td><td>&quot;MA&quot;</td><td>&quot;01453&quot;</td><td>42.520838</td><td>-71.770876</td><td>1557</td></tr><tr><td>&quot;c9b3c857-2e24-…</td><td>&quot;69176529-fd1f-…</td><td>&quot;Suzette512 Mon…</td><td>&quot;F&quot;</td><td>&quot;GENERAL PRACTI…</td><td>&quot;330 MOUNT AUBU…</td><td>&quot;CAMBRIDGE&quot;</td><td>&quot;MA&quot;</td><td>&quot;02138&quot;</td><td>42.375967</td><td>-71.118275</td><td>2296</td></tr><tr><td>&quot;0359f968-d1a6-…</td><td>&quot;5e765f2b-e908-…</td><td>&quot;Gaynell126 Str…</td><td>&quot;F&quot;</td><td>&quot;GENERAL PRACTI…</td><td>&quot;211 PARK STREE…</td><td>&quot;ATTLEBORO&quot;</td><td>&quot;MA&quot;</td><td>&quot;02703&quot;</td><td>41.931653</td><td>-71.294503</td><td>2287</td></tr><tr><td>&quot;446d1609-858f-…</td><td>&quot;f1fbcbfb-fcfa-…</td><td>&quot;Patricia625 Sa…</td><td>&quot;F&quot;</td><td>&quot;GENERAL PRACTI…</td><td>&quot;ONE GENERAL ST…</td><td>&quot;LAWRENCE&quot;</td><td>&quot;MA&quot;</td><td>&quot;01842&quot;</td><td>42.700273</td><td>-71.161357</td><td>1327</td></tr><tr><td>&quot;e6283e46-fd81-…</td><td>&quot;e002090d-4e92-…</td><td>&quot;Jeanmarie510 B…</td><td>&quot;F&quot;</td><td>&quot;GENERAL PRACTI…</td><td>&quot;1493 CAMBRIDGE…</td><td>&quot;CAMBRIDGE&quot;</td><td>&quot;MA&quot;</td><td>&quot;02138&quot;</td><td>42.375967</td><td>-71.118275</td><td>3199</td></tr></tbody></table></div>"
      ],
      "text/plain": [
       "shape: (5, 12)\n",
       "┌─────────────┬────────────┬────────────┬────────┬───┬───────┬───────────┬────────────┬────────────┐\n",
       "│ Id          ┆ ORGANIZATI ┆ NAME       ┆ GENDER ┆ … ┆ ZIP   ┆ LAT       ┆ LON        ┆ UTILIZATIO │\n",
       "│ ---         ┆ ON         ┆ ---        ┆ ---    ┆   ┆ ---   ┆ ---       ┆ ---        ┆ N          │\n",
       "│ str         ┆ ---        ┆ str        ┆ str    ┆   ┆ str   ┆ f64       ┆ f64        ┆ ---        │\n",
       "│             ┆ str        ┆            ┆        ┆   ┆       ┆           ┆            ┆ i64        │\n",
       "╞═════════════╪════════════╪════════════╪════════╪═══╪═══════╪═══════════╪════════════╪════════════╡\n",
       "│ 3421aa75-de ┆ ef58ea08-d ┆ Tomas436   ┆ M      ┆ … ┆ 01453 ┆ 42.520838 ┆ -71.770876 ┆ 1557       │\n",
       "│ c7-378d-a9e ┆ 883-3957-8 ┆ Sauer652   ┆        ┆   ┆       ┆           ┆            ┆            │\n",
       "│ 0-0bc764e4… ┆ 300-150554 ┆            ┆        ┆   ┆       ┆           ┆            ┆            │\n",
       "│             ┆ ed…        ┆            ┆        ┆   ┆       ┆           ┆            ┆            │\n",
       "│ c9b3c857-2e ┆ 69176529-f ┆ Suzette512 ┆ F      ┆ … ┆ 02138 ┆ 42.375967 ┆ -71.118275 ┆ 2296       │\n",
       "│ 24-320c-a79 ┆ d1f-3b3f-a ┆ Monahan736 ┆        ┆   ┆       ┆           ┆            ┆            │\n",
       "│ a-87b8a60d… ┆ bce-a0a362 ┆            ┆        ┆   ┆       ┆           ┆            ┆            │\n",
       "│             ┆ 67…        ┆            ┆        ┆   ┆       ┆           ┆            ┆            │\n",
       "│ 0359f968-d1 ┆ 5e765f2b-e ┆ Gaynell126 ┆ F      ┆ … ┆ 02703 ┆ 41.931653 ┆ -71.294503 ┆ 2287       │\n",
       "│ a6-30eb-b1c ┆ 908-3888-9 ┆ Streich926 ┆        ┆   ┆       ┆           ┆            ┆            │\n",
       "│ c-e6cc0b4d… ┆ fc7-df2cb8 ┆            ┆        ┆   ┆       ┆           ┆            ┆            │\n",
       "│             ┆ 7b…        ┆            ┆        ┆   ┆       ┆           ┆            ┆            │\n",
       "│ 446d1609-85 ┆ f1fbcbfb-f ┆ Patricia62 ┆ F      ┆ … ┆ 01842 ┆ 42.700273 ┆ -71.161357 ┆ 1327       │\n",
       "│ 8f-3a54-8a5 ┆ cfa-3bd2-b ┆ 5          ┆        ┆   ┆       ┆           ┆            ┆            │\n",
       "│ 2-0c4eaced… ┆ 7f4-df20f1 ┆ Salgado989 ┆        ┆   ┆       ┆           ┆            ┆            │\n",
       "│             ┆ b3…        ┆            ┆        ┆   ┆       ┆           ┆            ┆            │\n",
       "│ e6283e46-fd ┆ e002090d-4 ┆ Jeanmarie5 ┆ F      ┆ … ┆ 02138 ┆ 42.375967 ┆ -71.118275 ┆ 3199       │\n",
       "│ 81-3611-945 ┆ e92-300e-b ┆ 10         ┆        ┆   ┆       ┆           ┆            ┆            │\n",
       "│ 9-0edb1c3d… ┆ 41e-7d1f21 ┆ Beatty507  ┆        ┆   ┆       ┆           ┆            ┆            │\n",
       "│             ┆ de…        ┆            ┆        ┆   ┆       ┆           ┆            ┆            │\n",
       "└─────────────┴────────────┴────────────┴────────┴───┴───────┴───────────┴────────────┴────────────┘"
      ]
     },
     "execution_count": 10,
     "metadata": {},
     "output_type": "execute_result"
    }
   ],
   "source": [
    "df = pl.read_csv(\"../data/providers.csv\")\n",
    "df.head()"
   ]
  },
  {
   "cell_type": "code",
   "execution_count": 23,
   "metadata": {},
   "outputs": [
    {
     "name": "stderr",
     "output_type": "stream",
     "text": [
      "INFO:dsds.compare:The following columns are not considered because they are constants: ['STATE']\n"
     ]
    }
   ],
   "source": [
    "cols = [\"Id\", \"ORGANIZATION\", \"NAME\", \"GENDER\", \"ADDRESS\", \"CITY\", \"SPECIALITY\", \"STATE\", \"ZIP\", \"UTILIZATION\", \"LON\", \"LAT\"] # \"LAT\", \"LON\"]\n",
    "# cols = [\"Id\",\"STATE\", \"ZIP\", \"UTILIZATION\", \"LAT\", \"LON\"]\n",
    "entropy, tree = comp.dependency_detection(df, cols=cols, threshold=0.015)"
   ]
  },
  {
   "cell_type": "code",
   "execution_count": 24,
   "metadata": {},
   "outputs": [
    {
     "data": {
      "text/html": [
       "<div><style>\n",
       ".dataframe > thead > tr > th,\n",
       ".dataframe > tbody > tr > td {\n",
       "  text-align: right;\n",
       "  white-space: pre-wrap;\n",
       "}\n",
       "</style>\n",
       "<small>shape: (7, 3)</small><table border=\"1\" class=\"dataframe\"><thead><tr><th>x</th><th>y</th><th>H(x|y)</th></tr><tr><td>str</td><td>str</td><td>f64</td></tr></thead><tbody><tr><td>&quot;GENDER&quot;</td><td>&quot;ADDRESS&quot;</td><td>0.575461</td></tr><tr><td>&quot;SPECIALITY&quot;</td><td>&quot;ADDRESS&quot;</td><td>1.535774</td></tr><tr><td>&quot;UTILIZATION&quot;</td><td>&quot;ADDRESS&quot;</td><td>0.286909</td></tr><tr><td>&quot;CITY&quot;</td><td>&quot;ADDRESS&quot;</td><td>0.004831</td></tr><tr><td>&quot;LON&quot;</td><td>&quot;ADDRESS&quot;</td><td>0.003622</td></tr><tr><td>&quot;LAT&quot;</td><td>&quot;ADDRESS&quot;</td><td>0.00421</td></tr><tr><td>&quot;ZIP&quot;</td><td>&quot;ADDRESS&quot;</td><td>0.016661</td></tr></tbody></table></div>"
      ],
      "text/plain": [
       "shape: (7, 3)\n",
       "┌─────────────┬─────────┬──────────┐\n",
       "│ x           ┆ y       ┆ H(x|y)   │\n",
       "│ ---         ┆ ---     ┆ ---      │\n",
       "│ str         ┆ str     ┆ f64      │\n",
       "╞═════════════╪═════════╪══════════╡\n",
       "│ GENDER      ┆ ADDRESS ┆ 0.575461 │\n",
       "│ SPECIALITY  ┆ ADDRESS ┆ 1.535774 │\n",
       "│ UTILIZATION ┆ ADDRESS ┆ 0.286909 │\n",
       "│ CITY        ┆ ADDRESS ┆ 0.004831 │\n",
       "│ LON         ┆ ADDRESS ┆ 0.003622 │\n",
       "│ LAT         ┆ ADDRESS ┆ 0.00421  │\n",
       "│ ZIP         ┆ ADDRESS ┆ 0.016661 │\n",
       "└─────────────┴─────────┴──────────┘"
      ]
     },
     "execution_count": 24,
     "metadata": {},
     "output_type": "execute_result"
    }
   ],
   "source": [
    "entropy.filter(pl.col(\"y\") == \"ADDRESS\")"
   ]
  },
  {
   "cell_type": "code",
   "execution_count": 25,
   "metadata": {},
   "outputs": [
    {
     "data": {
      "image/svg+xml": [
       "<?xml version=\"1.0\" encoding=\"UTF-8\" standalone=\"no\"?>\n",
       "<!DOCTYPE svg PUBLIC \"-//W3C//DTD SVG 1.1//EN\"\n",
       " \"http://www.w3.org/Graphics/SVG/1.1/DTD/svg11.dtd\">\n",
       "<!-- Generated by graphviz version 2.50.0 (0)\n",
       " -->\n",
       "<!-- Title: Dependency Plot Pages: 1 -->\n",
       "<svg width=\"536pt\" height=\"332pt\"\n",
       " viewBox=\"0.00 0.00 535.79 332.00\" xmlns=\"http://www.w3.org/2000/svg\" xmlns:xlink=\"http://www.w3.org/1999/xlink\">\n",
       "<g id=\"graph0\" class=\"graph\" transform=\"scale(1 1) rotate(0) translate(4 328)\">\n",
       "<title>Dependency Plot</title>\n",
       "<polygon fill=\"white\" stroke=\"transparent\" points=\"-4,4 -4,-328 531.79,-328 531.79,4 -4,4\"/>\n",
       "<!-- GENDER -->\n",
       "<g id=\"node1\" class=\"node\">\n",
       "<title>GENDER</title>\n",
       "<ellipse fill=\"none\" stroke=\"black\" cx=\"46.15\" cy=\"-162\" rx=\"46.29\" ry=\"18\"/>\n",
       "<text text-anchor=\"middle\" x=\"46.15\" y=\"-158.3\" font-family=\"Times New Roman,serif\" font-size=\"14.00\">GENDER</text>\n",
       "</g>\n",
       "<!-- NAME -->\n",
       "<g id=\"node2\" class=\"node\">\n",
       "<title>NAME</title>\n",
       "<ellipse fill=\"none\" stroke=\"black\" cx=\"170.15\" cy=\"-234\" rx=\"37.09\" ry=\"18\"/>\n",
       "<text text-anchor=\"middle\" x=\"170.15\" y=\"-230.3\" font-family=\"Times New Roman,serif\" font-size=\"14.00\">NAME</text>\n",
       "</g>\n",
       "<!-- NAME&#45;&gt;GENDER -->\n",
       "<g id=\"edge1\" class=\"edge\">\n",
       "<title>NAME&#45;&gt;GENDER</title>\n",
       "<path fill=\"none\" stroke=\"black\" d=\"M146.82,-219.83C128.12,-209.28 101.61,-194.31 80.48,-182.38\"/>\n",
       "<polygon fill=\"black\" stroke=\"black\" points=\"81.93,-179.18 71.5,-177.31 78.49,-185.28 81.93,-179.18\"/>\n",
       "</g>\n",
       "<!-- SPECIALITY -->\n",
       "<g id=\"node6\" class=\"node\">\n",
       "<title>SPECIALITY</title>\n",
       "<ellipse fill=\"none\" stroke=\"black\" cx=\"171.15\" cy=\"-162\" rx=\"61.19\" ry=\"18\"/>\n",
       "<text text-anchor=\"middle\" x=\"171.15\" y=\"-158.3\" font-family=\"Times New Roman,serif\" font-size=\"14.00\">SPECIALITY</text>\n",
       "</g>\n",
       "<!-- NAME&#45;&gt;SPECIALITY -->\n",
       "<g id=\"edge5\" class=\"edge\">\n",
       "<title>NAME&#45;&gt;SPECIALITY</title>\n",
       "<path fill=\"none\" stroke=\"black\" d=\"M170.39,-215.7C170.5,-207.98 170.64,-198.71 170.76,-190.11\"/>\n",
       "<polygon fill=\"black\" stroke=\"black\" points=\"174.26,-190.15 170.9,-180.1 167.26,-190.05 174.26,-190.15\"/>\n",
       "</g>\n",
       "<!-- ORGANIZATION -->\n",
       "<g id=\"node3\" class=\"node\">\n",
       "<title>ORGANIZATION</title>\n",
       "<ellipse fill=\"none\" stroke=\"black\" cx=\"302.15\" cy=\"-234\" rx=\"76.89\" ry=\"18\"/>\n",
       "<text text-anchor=\"middle\" x=\"302.15\" y=\"-230.3\" font-family=\"Times New Roman,serif\" font-size=\"14.00\">ORGANIZATION</text>\n",
       "</g>\n",
       "<!-- ADDRESS -->\n",
       "<g id=\"node5\" class=\"node\">\n",
       "<title>ADDRESS</title>\n",
       "<ellipse fill=\"none\" stroke=\"black\" cx=\"302.15\" cy=\"-162\" rx=\"50.89\" ry=\"18\"/>\n",
       "<text text-anchor=\"middle\" x=\"302.15\" y=\"-158.3\" font-family=\"Times New Roman,serif\" font-size=\"14.00\">ADDRESS</text>\n",
       "</g>\n",
       "<!-- ORGANIZATION&#45;&gt;ADDRESS -->\n",
       "<g id=\"edge4\" class=\"edge\">\n",
       "<title>ORGANIZATION&#45;&gt;ADDRESS</title>\n",
       "<path fill=\"none\" stroke=\"black\" d=\"M302.15,-215.7C302.15,-207.98 302.15,-198.71 302.15,-190.11\"/>\n",
       "<polygon fill=\"black\" stroke=\"black\" points=\"305.65,-190.1 302.15,-180.1 298.65,-190.1 305.65,-190.1\"/>\n",
       "</g>\n",
       "<!-- ZIP -->\n",
       "<g id=\"node8\" class=\"node\">\n",
       "<title>ZIP</title>\n",
       "<ellipse fill=\"none\" stroke=\"black\" cx=\"398.15\" cy=\"-162\" rx=\"27\" ry=\"18\"/>\n",
       "<text text-anchor=\"middle\" x=\"398.15\" y=\"-158.3\" font-family=\"Times New Roman,serif\" font-size=\"14.00\">ZIP</text>\n",
       "</g>\n",
       "<!-- ORGANIZATION&#45;&gt;ZIP -->\n",
       "<g id=\"edge9\" class=\"edge\">\n",
       "<title>ORGANIZATION&#45;&gt;ZIP</title>\n",
       "<path fill=\"none\" stroke=\"black\" d=\"M324.41,-216.76C338.67,-206.37 357.24,-192.83 372.17,-181.94\"/>\n",
       "<polygon fill=\"black\" stroke=\"black\" points=\"374.46,-184.6 380.48,-175.88 370.34,-178.94 374.46,-184.6\"/>\n",
       "</g>\n",
       "<!-- Id -->\n",
       "<g id=\"node4\" class=\"node\">\n",
       "<title>Id</title>\n",
       "<ellipse fill=\"none\" stroke=\"black\" cx=\"302.15\" cy=\"-306\" rx=\"27\" ry=\"18\"/>\n",
       "<text text-anchor=\"middle\" x=\"302.15\" y=\"-302.3\" font-family=\"Times New Roman,serif\" font-size=\"14.00\">Id</text>\n",
       "</g>\n",
       "<!-- Id&#45;&gt;NAME -->\n",
       "<g id=\"edge3\" class=\"edge\">\n",
       "<title>Id&#45;&gt;NAME</title>\n",
       "<path fill=\"none\" stroke=\"black\" d=\"M281.52,-294.06C260.56,-282.95 227.77,-265.56 203.18,-252.52\"/>\n",
       "<polygon fill=\"black\" stroke=\"black\" points=\"204.68,-249.35 194.2,-247.76 201.4,-255.53 204.68,-249.35\"/>\n",
       "</g>\n",
       "<!-- Id&#45;&gt;ORGANIZATION -->\n",
       "<g id=\"edge2\" class=\"edge\">\n",
       "<title>Id&#45;&gt;ORGANIZATION</title>\n",
       "<path fill=\"none\" stroke=\"black\" d=\"M302.15,-287.7C302.15,-279.98 302.15,-270.71 302.15,-262.11\"/>\n",
       "<polygon fill=\"black\" stroke=\"black\" points=\"305.65,-262.1 302.15,-252.1 298.65,-262.1 305.65,-262.1\"/>\n",
       "</g>\n",
       "<!-- UTILIZATION -->\n",
       "<g id=\"node9\" class=\"node\">\n",
       "<title>UTILIZATION</title>\n",
       "<ellipse fill=\"none\" stroke=\"black\" cx=\"462.15\" cy=\"-234\" rx=\"65.79\" ry=\"18\"/>\n",
       "<text text-anchor=\"middle\" x=\"462.15\" y=\"-230.3\" font-family=\"Times New Roman,serif\" font-size=\"14.00\">UTILIZATION</text>\n",
       "</g>\n",
       "<!-- Id&#45;&gt;UTILIZATION -->\n",
       "<g id=\"edge8\" class=\"edge\">\n",
       "<title>Id&#45;&gt;UTILIZATION</title>\n",
       "<path fill=\"none\" stroke=\"black\" d=\"M324.06,-295.41C348.57,-284.69 388.86,-267.06 419.61,-253.61\"/>\n",
       "<polygon fill=\"black\" stroke=\"black\" points=\"421.06,-256.79 428.82,-249.58 418.26,-250.38 421.06,-256.79\"/>\n",
       "</g>\n",
       "<!-- CITY -->\n",
       "<g id=\"node7\" class=\"node\">\n",
       "<title>CITY</title>\n",
       "<ellipse fill=\"none\" stroke=\"black\" cx=\"312.15\" cy=\"-90\" rx=\"31.4\" ry=\"18\"/>\n",
       "<text text-anchor=\"middle\" x=\"312.15\" y=\"-86.3\" font-family=\"Times New Roman,serif\" font-size=\"14.00\">CITY</text>\n",
       "</g>\n",
       "<!-- ADDRESS&#45;&gt;CITY -->\n",
       "<g id=\"edge7\" class=\"edge\">\n",
       "<title>ADDRESS&#45;&gt;CITY</title>\n",
       "<path fill=\"none\" stroke=\"black\" d=\"M304.62,-143.7C305.72,-135.98 307.04,-126.71 308.27,-118.11\"/>\n",
       "<polygon fill=\"black\" stroke=\"black\" points=\"311.75,-118.5 309.7,-108.1 304.82,-117.51 311.75,-118.5\"/>\n",
       "</g>\n",
       "<!-- LAT -->\n",
       "<g id=\"node11\" class=\"node\">\n",
       "<title>LAT</title>\n",
       "<ellipse fill=\"none\" stroke=\"black\" cx=\"393.15\" cy=\"-90\" rx=\"27\" ry=\"18\"/>\n",
       "<text text-anchor=\"middle\" x=\"393.15\" y=\"-86.3\" font-family=\"Times New Roman,serif\" font-size=\"14.00\">LAT</text>\n",
       "</g>\n",
       "<!-- ADDRESS&#45;&gt;LAT -->\n",
       "<g id=\"edge12\" class=\"edge\">\n",
       "<title>ADDRESS&#45;&gt;LAT</title>\n",
       "<path fill=\"none\" stroke=\"black\" d=\"M322.34,-145.46C335.82,-135.09 353.65,-121.38 368.04,-110.31\"/>\n",
       "<polygon fill=\"black\" stroke=\"black\" points=\"370.27,-113.01 376.06,-104.14 366,-107.46 370.27,-113.01\"/>\n",
       "</g>\n",
       "<!-- ZIP&#45;&gt;CITY -->\n",
       "<g id=\"edge6\" class=\"edge\">\n",
       "<title>ZIP&#45;&gt;CITY</title>\n",
       "<path fill=\"none\" stroke=\"black\" d=\"M381.56,-147.5C369.08,-137.34 351.74,-123.23 337.52,-111.65\"/>\n",
       "<polygon fill=\"black\" stroke=\"black\" points=\"339.53,-108.77 329.56,-105.18 335.11,-114.2 339.53,-108.77\"/>\n",
       "</g>\n",
       "<!-- ZIP&#45;&gt;LAT -->\n",
       "<g id=\"edge11\" class=\"edge\">\n",
       "<title>ZIP&#45;&gt;LAT</title>\n",
       "<path fill=\"none\" stroke=\"black\" d=\"M396.91,-143.7C396.36,-135.98 395.7,-126.71 395.08,-118.11\"/>\n",
       "<polygon fill=\"black\" stroke=\"black\" points=\"398.57,-117.83 394.37,-108.1 391.59,-118.33 398.57,-117.83\"/>\n",
       "</g>\n",
       "<!-- LON -->\n",
       "<g id=\"node10\" class=\"node\">\n",
       "<title>LON</title>\n",
       "<ellipse fill=\"none\" stroke=\"black\" cx=\"393.15\" cy=\"-18\" rx=\"28.7\" ry=\"18\"/>\n",
       "<text text-anchor=\"middle\" x=\"393.15\" y=\"-14.3\" font-family=\"Times New Roman,serif\" font-size=\"14.00\">LON</text>\n",
       "</g>\n",
       "<!-- LAT&#45;&gt;LON -->\n",
       "<g id=\"edge10\" class=\"edge\">\n",
       "<title>LAT&#45;&gt;LON</title>\n",
       "<path fill=\"none\" stroke=\"black\" d=\"M393.15,-71.7C393.15,-63.98 393.15,-54.71 393.15,-46.11\"/>\n",
       "<polygon fill=\"black\" stroke=\"black\" points=\"396.65,-46.1 393.15,-36.1 389.65,-46.1 396.65,-46.1\"/>\n",
       "</g>\n",
       "</g>\n",
       "</svg>\n"
      ],
      "text/plain": [
       "<graphviz.graphs.Digraph at 0x1e794f52650>"
      ]
     },
     "execution_count": 25,
     "metadata": {},
     "output_type": "execute_result"
    }
   ],
   "source": [
    "tree"
   ]
  },
  {
   "cell_type": "code",
   "execution_count": null,
   "metadata": {},
   "outputs": [],
   "source": [
    "tree"
   ]
  },
  {
   "cell_type": "code",
   "execution_count": null,
   "metadata": {},
   "outputs": [],
   "source": [
    "entropy = entropy.filter(pl.col(\"H(x|y)\") < 0.05)"
   ]
  },
  {
   "cell_type": "code",
   "execution_count": null,
   "metadata": {},
   "outputs": [],
   "source": []
  },
  {
   "cell_type": "code",
   "execution_count": null,
   "metadata": {},
   "outputs": [],
   "source": [
    "actual = np.round(np.random.random(size=500_000)).astype(np.int8)\n",
    "predicted = np.random.random(size=500_000)\n"
   ]
  },
  {
   "cell_type": "code",
   "execution_count": null,
   "metadata": {},
   "outputs": [],
   "source": [
    "import numpy as np\n",
    "df = pl.DataFrame({\n",
    "    \"a\": np.random.random(size=100_000)\n",
    "})\n",
    "\n",
    "# np.random.random(size=100_000)"
   ]
  },
  {
   "cell_type": "code",
   "execution_count": null,
   "metadata": {},
   "outputs": [],
   "source": []
  },
  {
   "cell_type": "code",
   "execution_count": null,
   "metadata": {},
   "outputs": [],
   "source": []
  },
  {
   "cell_type": "code",
   "execution_count": null,
   "metadata": {},
   "outputs": [],
   "source": [
    "df = pl.read_parquet(\"../data/dunnhumby.parquet\")\n",
    "df.head()"
   ]
  },
  {
   "cell_type": "code",
   "execution_count": null,
   "metadata": {},
   "outputs": [],
   "source": [
    "from sklearn.model_selection import train_test_split\n",
    "train, test = train_test_split(df, train_size=0.75)"
   ]
  },
  {
   "cell_type": "code",
   "execution_count": null,
   "metadata": {},
   "outputs": [],
   "source": [
    "train, test = train_test_split(df, train_size=0.75)"
   ]
  },
  {
   "cell_type": "code",
   "execution_count": null,
   "metadata": {},
   "outputs": [],
   "source": [
    "df = pl.DataFrame({\n",
    "    \"text1\":[\"abc,ggg\", \"abc,sss\", \"ccc,abc\"],\n",
    "    \"text2\":[\"aaa,bbb\", \"ccc,aaa\", \"bbb,ccc\"]\n",
    "})"
   ]
  },
  {
   "cell_type": "code",
   "execution_count": null,
   "metadata": {},
   "outputs": [],
   "source": [
    "ps.infer_multicategorical(df, separator=\",\")"
   ]
  },
  {
   "cell_type": "code",
   "execution_count": null,
   "metadata": {},
   "outputs": [],
   "source": [
    "df = pl.DataFrame({\n",
    "    \"time\": [\"2021-01-01\", \"2021-01-03\", \"2021-02-01\",\"2021-02-11\",\"2021-03-01\",\"2021-03-02\"],\n",
    "    \"a1\": [None, 1,2,3,4, None,],\n",
    "    \"a2\": [1,2, None,3,4, None,],\n",
    "})\n",
    "df = df.with_columns(pl.col(\"time\").str.to_date())\n",
    "ps.over_time_report(df, cols=[\"a1\", \"a2\"], time_col=\"time\", metrics=[\"null\", \"invalid\", \"min\", \"max\"])"
   ]
  },
  {
   "cell_type": "code",
   "execution_count": null,
   "metadata": {},
   "outputs": [],
   "source": [
    "df.select(\n",
    "    pl.when(pl.col(\"a1\")==1).then(\"a\").when(pl.col(\"a2\")==2).then(\"b\").otherwise(\"c\")\n",
    ")"
   ]
  },
  {
   "cell_type": "code",
   "execution_count": null,
   "metadata": {},
   "outputs": [],
   "source": [
    "df2 = pl.concat([df for _ in range(10000)])\n",
    "df2.shape"
   ]
  },
  {
   "cell_type": "code",
   "execution_count": null,
   "metadata": {},
   "outputs": [],
   "source": [
    "%%timeit\n",
    "for frames in sa.time_window_slide(df2, \"time\", interval=\"monthly\",length=3):\n",
    "    first, second, third = frames"
   ]
  },
  {
   "cell_type": "code",
   "execution_count": null,
   "metadata": {},
   "outputs": [],
   "source": [
    "df = pl.concat([pl.read_csv(\"../data/advertising.csv\") for _ in range(10)])"
   ]
  },
  {
   "cell_type": "code",
   "execution_count": null,
   "metadata": {},
   "outputs": [],
   "source": [
    "fs.ks_statistic(df, target=\"Clicked on Ad\")"
   ]
  },
  {
   "cell_type": "code",
   "execution_count": null,
   "metadata": {},
   "outputs": [],
   "source": []
  },
  {
   "cell_type": "code",
   "execution_count": null,
   "metadata": {},
   "outputs": [],
   "source": [
    "from dsds.sklearn_compat_transfom import PolarsExprTransformer\n",
    "from sklearn.pipeline import Pipeline\n",
    "from sklearn.preprocessing import StandardScaler\n",
    "from sklearn.impute import SimpleImputer\n",
    "from sklearn import set_config\n",
    "set_config(transform_output = \"pandas\")"
   ]
  },
  {
   "cell_type": "code",
   "execution_count": null,
   "metadata": {},
   "outputs": [],
   "source": [
    "df = df.select(\"Daily Time Spent on Site\", \"Age\", \"Area Income\", \"Male\", \"Clicked on Ad\")"
   ]
  },
  {
   "cell_type": "code",
   "execution_count": null,
   "metadata": {},
   "outputs": [],
   "source": [
    "df"
   ]
  },
  {
   "cell_type": "code",
   "execution_count": null,
   "metadata": {},
   "outputs": [],
   "source": [
    "exprs = [pl.col(\"Age\").log(), (pl.col(\"Clicked on Ad\") + pl.lit(2)).alias(\"test_pl\")]\n",
    "pipe = Pipeline([\n",
    "    (\"StandardScaler\", StandardScaler()),\n",
    "    (\"exprs\", PolarsExprTransformer(exprs))\n",
    "])"
   ]
  },
  {
   "cell_type": "code",
   "execution_count": null,
   "metadata": {},
   "outputs": [],
   "source": [
    "pipe.fit(df.to_pandas())"
   ]
  },
  {
   "cell_type": "code",
   "execution_count": null,
   "metadata": {},
   "outputs": [],
   "source": [
    "pipe.transform(df.to_pandas())"
   ]
  },
  {
   "cell_type": "code",
   "execution_count": null,
   "metadata": {},
   "outputs": [],
   "source": [
    "df.group_by(\"One_Hot_Test\").count()"
   ]
  },
  {
   "cell_type": "code",
   "execution_count": null,
   "metadata": {},
   "outputs": [],
   "source": [
    "pl.show_versions()"
   ]
  },
  {
   "cell_type": "code",
   "execution_count": null,
   "metadata": {},
   "outputs": [],
   "source": [
    "def test(value: lambda x: x+1):\n",
    "    return value "
   ]
  },
  {
   "cell_type": "code",
   "execution_count": null,
   "metadata": {},
   "outputs": [],
   "source": [
    "test(1)"
   ]
  },
  {
   "cell_type": "code",
   "execution_count": null,
   "metadata": {},
   "outputs": [],
   "source": [
    "test = pl.DataFrame(\n",
    "    {\n",
    "        \"a\":[[\"a\", None], [\"b\", None]]\n",
    "    }\n",
    ")\n",
    "\n",
    "test.select(\n",
    "    pl.col(\"a\").list.set_difference(pl.Series(\"test\", [None]))\n",
    ")"
   ]
  },
  {
   "cell_type": "code",
   "execution_count": null,
   "metadata": {},
   "outputs": [],
   "source": [
    "df = pl.read_csv(\"../data/advertising.csv\")\n",
    "df.head()"
   ]
  },
  {
   "cell_type": "code",
   "execution_count": null,
   "metadata": {},
   "outputs": [],
   "source": [
    "a = np.random.random(size=(5000,))\n",
    "b = np.random.random(size=(5000,))"
   ]
  },
  {
   "cell_type": "code",
   "execution_count": null,
   "metadata": {},
   "outputs": [],
   "source": [
    "me.psi(a,b)"
   ]
  },
  {
   "cell_type": "code",
   "execution_count": null,
   "metadata": {},
   "outputs": [],
   "source": [
    "predicted = np.random.random(size=(5000,3))\n",
    "actual = np.round(np.random.random(size=(5000,3))).astype(np.int8)"
   ]
  },
  {
   "cell_type": "code",
   "execution_count": null,
   "metadata": {},
   "outputs": [],
   "source": [
    "me.precision_recall(actual, predicted)"
   ]
  },
  {
   "cell_type": "code",
   "execution_count": null,
   "metadata": {},
   "outputs": [],
   "source": [
    "df = pl.DataFrame({\n",
    "    \"predicted\": predicted[:, 1],\n",
    "    \"actual\": actual[:, 1]\n",
    "})"
   ]
  },
  {
   "cell_type": "code",
   "execution_count": null,
   "metadata": {},
   "outputs": [],
   "source": [
    "from sklearn.metrics import roc_auc_score\n",
    "\n",
    "print(roc_auc_score(actual, predicted, average=\"weighted\"))\n",
    "print(me.roc_auc(actual, predicted, strategy=\"balanced\"))"
   ]
  },
  {
   "cell_type": "code",
   "execution_count": null,
   "metadata": {},
   "outputs": [],
   "source": []
  },
  {
   "cell_type": "code",
   "execution_count": null,
   "metadata": {},
   "outputs": [],
   "source": [
    "df2 = (\n",
    "    df.lazy().select([\"Area Income\", \"Ad Topic Line\", \"City\", \"Clicked on Ad\"])\n",
    "    .drop([\"Ad Topic Line\"])\n",
    ").collect()"
   ]
  },
  {
   "cell_type": "code",
   "execution_count": null,
   "metadata": {},
   "outputs": [],
   "source": [
    "df2.show_graph()"
   ]
  },
  {
   "cell_type": "code",
   "execution_count": null,
   "metadata": {},
   "outputs": [],
   "source": []
  },
  {
   "cell_type": "code",
   "execution_count": null,
   "metadata": {},
   "outputs": [],
   "source": []
  },
  {
   "cell_type": "code",
   "execution_count": null,
   "metadata": {},
   "outputs": [],
   "source": [
    "from scipy.fft import fft\n",
    "a = np.array([1,2,3,1,2,3,1,2,3])\n",
    "fft(a)"
   ]
  },
  {
   "cell_type": "code",
   "execution_count": null,
   "metadata": {},
   "outputs": [],
   "source": [
    "df = pl.read_csv(\"../data/train.csv\").with_columns(\n",
    "    pl.lit(1).alias(\"feature_1\"),\n",
    "    pl.lit(2).alias(\"feature_2\")\n",
    ")"
   ]
  },
  {
   "cell_type": "code",
   "execution_count": null,
   "metadata": {},
   "outputs": [],
   "source": []
  }
 ],
 "metadata": {
  "kernelspec": {
   "display_name": "my_py11",
   "language": "python",
   "name": "python3"
  },
  "language_info": {
   "codemirror_mode": {
    "name": "ipython",
    "version": 3
   },
   "file_extension": ".py",
   "mimetype": "text/x-python",
   "name": "python",
   "nbconvert_exporter": "python",
   "pygments_lexer": "ipython3",
   "version": "3.11.3"
  },
  "orig_nbformat": 4
 },
 "nbformat": 4,
 "nbformat_minor": 2
}
