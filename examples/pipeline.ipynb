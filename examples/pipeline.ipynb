{
 "cells": [
  {
   "cell_type": "code",
   "execution_count": 1,
   "metadata": {},
   "outputs": [],
   "source": [
    "import dsds.prescreen as ps\n",
    "import dsds.utils as u\n",
    "import dsds.transform as t\n",
    "import dsds.encoders as enc\n",
    "import dsds.sample as sa\n",
    "import dsds.fs as fs\n",
    "import polars as pl"
   ]
  },
  {
   "attachments": {},
   "cell_type": "markdown",
   "metadata": {},
   "source": [
    "# More Complicated Pipelines that are Beyond Sklearn\n",
    "\n",
    "This is a more advanced pipeline. It contains filter, upsample steps, which are persisted which means they will be remembered by the pipeline and will be\n",
    "applied if the pipeline is applied to other dataframe. You can set persist = False so that these steps won't be remembered. You can also append a model score to the dataframe. That means this model score append can be an intermediate step, which enables pipelines in which the final model depends on previous model scores. Simple passthroughs like logistic passthrough is built in for you."
   ]
  },
  {
   "cell_type": "code",
   "execution_count": 2,
   "metadata": {},
   "outputs": [
    {
     "name": "stderr",
     "output_type": "stream",
     "text": [
      "INFO:dsds.prescreen:The following columns are dropped because they have lower than 0.5 variance. ['Male', 'Test_Constant', 'Test_BadColumn'].\n",
      "Removed a total of 3 columns.\n",
      "INFO:dsds.prescreen:The following columns are dropped because they are constants. ['Test_Str_Constant'].\n",
      "Removed a total of 1 columns.\n",
      "INFO:dsds.fs:Running fscore to determine feature relevance...\n"
     ]
    },
    {
     "name": "stdout",
     "output_type": "stream",
     "text": [
      "Found 13 total features to select from. Proceeding to select top 12 features.\n"
     ]
    },
    {
     "name": "stderr",
     "output_type": "stream",
     "text": [
      "MRMR, fscore: 100%|██████████| 12/12 [00:00<00:00, 12009.46it/s]\n",
      "INFO:dsds.fs:Selected 12 features. There are 6 columns the algorithm cannot process. They are also returned.\n"
     ]
    },
    {
     "name": "stdout",
     "output_type": "stream",
     "text": [
      "Output is sorted in order of selection (max relevance min redundancy).\n"
     ]
    },
    {
     "name": "stderr",
     "output_type": "stream",
     "text": [
      "Mutual Info:   0%|          | 0/12 [00:00<?, ?it/s]WARNING:dsds.fs:Found column Area Income Band has null values. It is filled with the mean of the column. It is highly recommended that you impute the column beforehand.\n",
      "Mutual Info: 100%|██████████| 12/12 [00:00<00:00, 115.36it/s]\n",
      "INFO:dsds.fs:Selected 3 features. There are 5 columns the algorithm cannot process. They are also returned.\n",
      "INFO:dsds.prescreen:The following columns are dropped. ['Timestamp', 'Ad Topic Line', 'City', 'Country'].\n",
      "Removed a total of 4 columns.\n"
     ]
    }
   ],
   "source": [
    "# `data` is Lazy because input is Lazy. All pipe functions work with LazyFrames\n",
    "data = (\n",
    "    pl.scan_csv(\"../data/advertising.csv\").sort(by=\"id\")\n",
    "    .pipe(ps.var_removal, threshold = 0.5, target = \"Clicked on Ad\")\n",
    "    .pipe(ps.filter, condition = pl.col(\"Age\") > 30, persist = True)\n",
    "    .pipe(ps.constant_removal)\n",
    "    .pipe(sa.simple_upsample, subgroup = pl.col(\"One_Hot_Test\") != 'A', count = 200, persist=True)\n",
    "    .pipe(enc.binary_encode, exclude = [\"Clicked on Ad\"])\n",
    "    .pipe(enc.one_hot_encode, cols= [\"One_Hot_Test\"])\n",
    "    .pipe(t.impute, cols=[\"Area Income\", \"Daily Internet Usage\", \"Daily Internet Usage Band\"], strategy=\"median\")\n",
    "    .pipe(t.impute, cols=[\"Daily Internet Usage\"], strategy = \"mean\")\n",
    "    .pipe(u.logistic_passthrough, col = \"Daily Internet Usage\", coeff=0.5, const=-100)\n",
    "    .pipe(fs.mrmr_selector, target = \"Clicked on Ad\", top_k = 12, strategy=\"fscore\")\n",
    "    .pipe(fs.mutual_info_selector, target = \"Clicked on Ad\", top_k = 3)\n",
    "    .pipe(ps.remove_if_exists, [\"Ad Topic Line\", \"City\", \"Country\", \"Timestamp\"])\n",
    "    .pipe(ps.rename, rename_dict={\"logistic_score\":\"Daily Internet Usage Logistic Score\"}, persist=True)\n",
    ")\n"
   ]
  },
  {
   "cell_type": "code",
   "execution_count": 3,
   "metadata": {},
   "outputs": [
    {
     "data": {
      "text/html": [
       "<div><style>\n",
       ".dataframe > thead > tr > th,\n",
       ".dataframe > tbody > tr > td {\n",
       "  text-align: right;\n",
       "}\n",
       "</style>\n",
       "<small>shape: (5, 4)</small><table border=\"1\" class=\"dataframe\"><thead><tr><th>Daily Internet Usage</th><th>Daily Internet Usage Logistic Score</th><th>Daily Time Spent on Site</th><th>Clicked on Ad</th></tr><tr><td>f64</td><td>f64</td><td>f64</td><td>i64</td></tr></thead><tbody><tr><td>256.09</td><td>1.0</td><td>68.95</td><td>0</td></tr><tr><td>193.77</td><td>0.042493</td><td>80.23</td><td>0</td></tr><tr><td>225.58</td><td>0.999997</td><td>68.37</td><td>0</td></tr><tr><td>208.36</td><td>0.984932</td><td>88.91</td><td>0</td></tr><tr><td>131.76</td><td>1.5201e-15</td><td>66.0</td><td>1</td></tr></tbody></table></div>"
      ],
      "text/plain": [
       "shape: (5, 4)\n",
       "┌──────────────────────┬────────────────────────────────┬──────────────────────────┬───────────────┐\n",
       "│ Daily Internet Usage ┆ Daily Internet Usage Logistic  ┆ Daily Time Spent on Site ┆ Clicked on Ad │\n",
       "│ ---                  ┆ Sc…                            ┆ ---                      ┆ ---           │\n",
       "│ f64                  ┆ ---                            ┆ f64                      ┆ i64           │\n",
       "│                      ┆ f64                            ┆                          ┆               │\n",
       "╞══════════════════════╪════════════════════════════════╪══════════════════════════╪═══════════════╡\n",
       "│ 256.09               ┆ 1.0                            ┆ 68.95                    ┆ 0             │\n",
       "│ 193.77               ┆ 0.042493                       ┆ 80.23                    ┆ 0             │\n",
       "│ 225.58               ┆ 0.999997                       ┆ 68.37                    ┆ 0             │\n",
       "│ 208.36               ┆ 0.984932                       ┆ 88.91                    ┆ 0             │\n",
       "│ 131.76               ┆ 1.5201e-15                     ┆ 66.0                     ┆ 1             │\n",
       "└──────────────────────┴────────────────────────────────┴──────────────────────────┴───────────────┘"
      ]
     },
     "execution_count": 3,
     "metadata": {},
     "output_type": "execute_result"
    }
   ],
   "source": [
    "data.limit(5).collect()"
   ]
  },
  {
   "cell_type": "code",
   "execution_count": 4,
   "metadata": {},
   "outputs": [
    {
     "name": "stdout",
     "output_type": "stream",
     "text": [
      "Step 0 | Action: drop\n",
      "['Male', 'Test_Constant', 'Test_BadColumn']\n",
      "\n",
      "Step 1 | Action: filter\n",
      "By condition: [(col(\"Age\")) > (30)]\n",
      "\n",
      "\n",
      "Step 2 | Action: drop\n",
      "['Test_Str_Constant']\n",
      "\n",
      "Step 3 | Action: add_func\n",
      "Function Module: dsds.sample, Function Name: simple_upsample\n",
      "Parameters:\n",
      "subgroup = [(col(\"One_Hot_Test\")) != (Utf8(A))],\n",
      "count = 200,\n",
      "epsilon = 0.01,\n",
      "include = None,\n",
      "exclude = None,\n",
      "positive = False,\n",
      "seed = 42,\n",
      "\n",
      "\n",
      "Step 4 | Action: with_columns\n",
      "Details: \n",
      "(1) .when([(col(\"Test_Binary\")) == (Utf8(B))]).then(1.strict_cast(UInt8)).otherwise(0.strict_cast(UInt8)).alias(\"Test_Binary_B\")\n",
      "\n",
      "\n",
      "Step 5 | Action: drop\n",
      "['Test_Binary']\n",
      "\n",
      "Step 6 | Action: with_columns\n",
      "Details: \n",
      "(1) .when([(col(\"One_Hot_Test\")) == (Utf8(A))]).then(1.strict_cast(UInt8)).otherwise(0.strict_cast(UInt8)).alias(\"One_Hot_Test_A\")\n",
      "(2) .when([(col(\"One_Hot_Test\")) == (Utf8(B))]).then(1.strict_cast(UInt8)).otherwise(0.strict_cast(UInt8)).alias(\"One_Hot_Test_B\")\n",
      "(3) .when([(col(\"One_Hot_Test\")) == (Utf8(C))]).then(1.strict_cast(UInt8)).otherwise(0.strict_cast(UInt8)).alias(\"One_Hot_Test_C\")\n",
      "\n",
      "\n",
      "Step 7 | Action: drop\n",
      "['One_Hot_Test']\n",
      "\n",
      "Step 8 | Action: with_columns\n",
      "Details: \n",
      "(1) col(\"Area Income\").fill_null([56682.485])\n",
      "(2) col(\"Daily Internet Usage\").fill_null([163.370847])\n",
      "(3) col(\"Daily Internet Usage Band\").fill_null([8.0])\n",
      "\n",
      "\n",
      "Step 9 | Action: with_columns\n",
      "Details: \n",
      "(1) col(\"Daily Internet Usage\").fill_null([172.436784])\n",
      "\n",
      "\n",
      "Step 10 | Action: classif\n",
      "Model: <class 'dsds.utils.Logistic'>\n",
      "Using the features ['Daily Internet Usage']\n",
      "Appends logistic_score to dataframe.\n",
      "\n",
      "Step 11 | Action: select\n",
      "['Daily Internet Usage', 'Daily Time Spent on Site', 'Daily Internet Usage Band', 'logistic_score', 'Area Income', 'Age', 'Area Income Band', 'Age Band', 'One_Hot_Test_C', 'One_Hot_Test_B', 'id', 'Test_Binary_B', 'Ad Topic Line', 'City', 'Country', 'Timestamp', 'Clicked on Ad']\n",
      "\n",
      "Step 12 | Action: select\n",
      "['Daily Internet Usage', 'logistic_score', 'Daily Time Spent on Site', 'Ad Topic Line', 'City', 'Country', 'Timestamp', 'Clicked on Ad']\n",
      "\n",
      "Step 13 | Action: drop\n",
      "['Timestamp', 'Ad Topic Line', 'City', 'Country']\n",
      "\n",
      "Step 14 | Action: add_func\n",
      "Function Module: dsds.prescreen, Function Name: rename\n",
      "Parameters:\n",
      "rename_dict = {'logistic_score': 'Daily Internet Usage Logistic Score'},\n",
      "\n",
      "\n",
      "\n"
     ]
    }
   ],
   "source": [
    "data.blueprint"
   ]
  },
  {
   "cell_type": "code",
   "execution_count": 5,
   "metadata": {},
   "outputs": [],
   "source": [
    "x = data.collect()\n",
    "y = x.drop_in_place(\"Clicked on Ad\")"
   ]
  },
  {
   "cell_type": "code",
   "execution_count": 6,
   "metadata": {},
   "outputs": [
    {
     "data": {
      "text/html": [
       "<style>#sk-container-id-1 {color: black;background-color: white;}#sk-container-id-1 pre{padding: 0;}#sk-container-id-1 div.sk-toggleable {background-color: white;}#sk-container-id-1 label.sk-toggleable__label {cursor: pointer;display: block;width: 100%;margin-bottom: 0;padding: 0.3em;box-sizing: border-box;text-align: center;}#sk-container-id-1 label.sk-toggleable__label-arrow:before {content: \"▸\";float: left;margin-right: 0.25em;color: #696969;}#sk-container-id-1 label.sk-toggleable__label-arrow:hover:before {color: black;}#sk-container-id-1 div.sk-estimator:hover label.sk-toggleable__label-arrow:before {color: black;}#sk-container-id-1 div.sk-toggleable__content {max-height: 0;max-width: 0;overflow: hidden;text-align: left;background-color: #f0f8ff;}#sk-container-id-1 div.sk-toggleable__content pre {margin: 0.2em;color: black;border-radius: 0.25em;background-color: #f0f8ff;}#sk-container-id-1 input.sk-toggleable__control:checked~div.sk-toggleable__content {max-height: 200px;max-width: 100%;overflow: auto;}#sk-container-id-1 input.sk-toggleable__control:checked~label.sk-toggleable__label-arrow:before {content: \"▾\";}#sk-container-id-1 div.sk-estimator input.sk-toggleable__control:checked~label.sk-toggleable__label {background-color: #d4ebff;}#sk-container-id-1 div.sk-label input.sk-toggleable__control:checked~label.sk-toggleable__label {background-color: #d4ebff;}#sk-container-id-1 input.sk-hidden--visually {border: 0;clip: rect(1px 1px 1px 1px);clip: rect(1px, 1px, 1px, 1px);height: 1px;margin: -1px;overflow: hidden;padding: 0;position: absolute;width: 1px;}#sk-container-id-1 div.sk-estimator {font-family: monospace;background-color: #f0f8ff;border: 1px dotted black;border-radius: 0.25em;box-sizing: border-box;margin-bottom: 0.5em;}#sk-container-id-1 div.sk-estimator:hover {background-color: #d4ebff;}#sk-container-id-1 div.sk-parallel-item::after {content: \"\";width: 100%;border-bottom: 1px solid gray;flex-grow: 1;}#sk-container-id-1 div.sk-label:hover label.sk-toggleable__label {background-color: #d4ebff;}#sk-container-id-1 div.sk-serial::before {content: \"\";position: absolute;border-left: 1px solid gray;box-sizing: border-box;top: 0;bottom: 0;left: 50%;z-index: 0;}#sk-container-id-1 div.sk-serial {display: flex;flex-direction: column;align-items: center;background-color: white;padding-right: 0.2em;padding-left: 0.2em;position: relative;}#sk-container-id-1 div.sk-item {position: relative;z-index: 1;}#sk-container-id-1 div.sk-parallel {display: flex;align-items: stretch;justify-content: center;background-color: white;position: relative;}#sk-container-id-1 div.sk-item::before, #sk-container-id-1 div.sk-parallel-item::before {content: \"\";position: absolute;border-left: 1px solid gray;box-sizing: border-box;top: 0;bottom: 0;left: 50%;z-index: -1;}#sk-container-id-1 div.sk-parallel-item {display: flex;flex-direction: column;z-index: 1;position: relative;background-color: white;}#sk-container-id-1 div.sk-parallel-item:first-child::after {align-self: flex-end;width: 50%;}#sk-container-id-1 div.sk-parallel-item:last-child::after {align-self: flex-start;width: 50%;}#sk-container-id-1 div.sk-parallel-item:only-child::after {width: 0;}#sk-container-id-1 div.sk-dashed-wrapped {border: 1px dashed gray;margin: 0 0.4em 0.5em 0.4em;box-sizing: border-box;padding-bottom: 0.4em;background-color: white;}#sk-container-id-1 div.sk-label label {font-family: monospace;font-weight: bold;display: inline-block;line-height: 1.2em;}#sk-container-id-1 div.sk-label-container {text-align: center;}#sk-container-id-1 div.sk-container {/* jupyter's `normalize.less` sets `[hidden] { display: none; }` but bootstrap.min.css set `[hidden] { display: none !important; }` so we also need the `!important` here to be able to override the default hidden behavior on the sphinx rendered scikit-learn.org. See: https://github.com/scikit-learn/scikit-learn/issues/21755 */display: inline-block !important;position: relative;}#sk-container-id-1 div.sk-text-repr-fallback {display: none;}</style><div id=\"sk-container-id-1\" class=\"sk-top-container\"><div class=\"sk-text-repr-fallback\"><pre>RandomForestClassifier(max_depth=4, n_estimators=30, n_jobs=-1)</pre><b>In a Jupyter environment, please rerun this cell to show the HTML representation or trust the notebook. <br />On GitHub, the HTML representation is unable to render, please try loading this page with nbviewer.org.</b></div><div class=\"sk-container\" hidden><div class=\"sk-item\"><div class=\"sk-estimator sk-toggleable\"><input class=\"sk-toggleable__control sk-hidden--visually\" id=\"sk-estimator-id-1\" type=\"checkbox\" checked><label for=\"sk-estimator-id-1\" class=\"sk-toggleable__label sk-toggleable__label-arrow\">RandomForestClassifier</label><div class=\"sk-toggleable__content\"><pre>RandomForestClassifier(max_depth=4, n_estimators=30, n_jobs=-1)</pre></div></div></div></div></div>"
      ],
      "text/plain": [
       "RandomForestClassifier(max_depth=4, n_estimators=30, n_jobs=-1)"
      ]
     },
     "execution_count": 6,
     "metadata": {},
     "output_type": "execute_result"
    }
   ],
   "source": [
    "# Train and tune a model outside the data pipeline\n",
    "from sklearn.ensemble import RandomForestClassifier\n",
    "rf = RandomForestClassifier(max_depth=4, n_estimators=30, n_jobs= -1)\n",
    "rf.fit(x.select(\"Daily Internet Usage\", \"Daily Internet Usage Logistic Score\", \"Daily Time Spent on Site\"), y)\n"
   ]
  },
  {
   "cell_type": "code",
   "execution_count": 7,
   "metadata": {},
   "outputs": [],
   "source": [
    "# add the TRAINED model to the end of the data pipeline\n",
    "\n",
    "final_df = data.pipe(\n",
    "    u.append_classif_score, \n",
    "    model = rf, \n",
    "    features = [\"Daily Internet Usage\", \"Daily Internet Usage Logistic Score\", \"Daily Time Spent on Site\"],\n",
    "    target = \"Clicked on Ad\", \n",
    ")"
   ]
  },
  {
   "cell_type": "code",
   "execution_count": 8,
   "metadata": {},
   "outputs": [
    {
     "name": "stdout",
     "output_type": "stream",
     "text": [
      "Step 13 | Action: drop\n",
      "['Timestamp', 'Ad Topic Line', 'City', 'Country']\n",
      "\n",
      "Step 14 | Action: add_func\n",
      "Function Module: dsds.prescreen, Function Name: rename\n",
      "Parameters:\n",
      "rename_dict = {'logistic_score': 'Daily Internet Usage Logistic Score'},\n",
      "\n",
      "\n",
      "Step 15 | Action: classif\n",
      "Model: <class 'sklearn.ensemble._forest.RandomForestClassifier'>\n",
      "Using the features ['Daily Internet Usage', 'Daily Internet Usage Logistic Score', 'Daily Time Spent on Site']\n",
      "Appends model_score to dataframe.\n",
      "\n",
      "\n"
     ]
    }
   ],
   "source": [
    "# Show last 3 steps.\n",
    "final_df.blueprint.show(-3)"
   ]
  },
  {
   "cell_type": "code",
   "execution_count": 9,
   "metadata": {},
   "outputs": [
    {
     "data": {
      "text/html": [
       "<div><style>\n",
       ".dataframe > thead > tr > th,\n",
       ".dataframe > tbody > tr > td {\n",
       "  text-align: right;\n",
       "}\n",
       "</style>\n",
       "<small>shape: (5, 5)</small><table border=\"1\" class=\"dataframe\"><thead><tr><th>Daily Internet Usage</th><th>Daily Internet Usage Logistic Score</th><th>Daily Time Spent on Site</th><th>Clicked on Ad</th><th>model_score</th></tr><tr><td>f64</td><td>f64</td><td>f64</td><td>i64</td><td>f64</td></tr></thead><tbody><tr><td>256.09</td><td>1.0</td><td>68.95</td><td>0</td><td>0.059794</td></tr><tr><td>193.77</td><td>0.042493</td><td>80.23</td><td>0</td><td>0.065887</td></tr><tr><td>225.58</td><td>0.999997</td><td>68.37</td><td>0</td><td>0.02252</td></tr><tr><td>208.36</td><td>0.984932</td><td>88.91</td><td>0</td><td>0.01284</td></tr><tr><td>131.76</td><td>1.5201e-15</td><td>66.0</td><td>1</td><td>0.987802</td></tr></tbody></table></div>"
      ],
      "text/plain": [
       "shape: (5, 5)\n",
       "┌──────────────────────┬──────────────────────┬──────────────────────┬───────────────┬─────────────┐\n",
       "│ Daily Internet Usage ┆ Daily Internet Usage ┆ Daily Time Spent on  ┆ Clicked on Ad ┆ model_score │\n",
       "│ ---                  ┆ Logistic Sc…         ┆ Site                 ┆ ---           ┆ ---         │\n",
       "│ f64                  ┆ ---                  ┆ ---                  ┆ i64           ┆ f64         │\n",
       "│                      ┆ f64                  ┆ f64                  ┆               ┆             │\n",
       "╞══════════════════════╪══════════════════════╪══════════════════════╪═══════════════╪═════════════╡\n",
       "│ 256.09               ┆ 1.0                  ┆ 68.95                ┆ 0             ┆ 0.059794    │\n",
       "│ 193.77               ┆ 0.042493             ┆ 80.23                ┆ 0             ┆ 0.065887    │\n",
       "│ 225.58               ┆ 0.999997             ┆ 68.37                ┆ 0             ┆ 0.02252     │\n",
       "│ 208.36               ┆ 0.984932             ┆ 88.91                ┆ 0             ┆ 0.01284     │\n",
       "│ 131.76               ┆ 1.5201e-15           ┆ 66.0                 ┆ 1             ┆ 0.987802    │\n",
       "└──────────────────────┴──────────────────────┴──────────────────────┴───────────────┴─────────────┘"
      ]
     },
     "execution_count": 9,
     "metadata": {},
     "output_type": "execute_result"
    }
   ],
   "source": [
    "final_df.limit(5).collect()"
   ]
  },
  {
   "cell_type": "code",
   "execution_count": 10,
   "metadata": {},
   "outputs": [],
   "source": [
    "# The modelled pipeline can be pickled as long as the \n",
    "# model can be pickled\n",
    "\n",
    "final_df.blueprint.preserve(\"modelled_pipe.pkl\")"
   ]
  },
  {
   "cell_type": "code",
   "execution_count": 11,
   "metadata": {},
   "outputs": [
    {
     "data": {
      "text/plain": [
       "dsds.blueprint.Blueprint"
      ]
     },
     "execution_count": 11,
     "metadata": {},
     "output_type": "execute_result"
    }
   ],
   "source": [
    "import dsds.blueprint as bp\n",
    "pipe = bp.from_pkl(\"modelled_pipe.pkl\")\n",
    "type(pipe)"
   ]
  },
  {
   "cell_type": "code",
   "execution_count": 12,
   "metadata": {},
   "outputs": [],
   "source": [
    "processed_df = pipe.apply(\n",
    "    pl.scan_csv(\"../data/advertising.csv\")\n",
    "    , collect = True\n",
    ")"
   ]
  },
  {
   "cell_type": "code",
   "execution_count": 13,
   "metadata": {},
   "outputs": [
    {
     "data": {
      "text/html": [
       "<div><style>\n",
       ".dataframe > thead > tr > th,\n",
       ".dataframe > tbody > tr > td {\n",
       "  text-align: right;\n",
       "}\n",
       "</style>\n",
       "<small>shape: (897, 5)</small><table border=\"1\" class=\"dataframe\"><thead><tr><th>Daily Internet Usage</th><th>Daily Internet Usage Logistic Score</th><th>Daily Time Spent on Site</th><th>Clicked on Ad</th><th>model_score</th></tr><tr><td>f64</td><td>f64</td><td>f64</td><td>i64</td><td>f64</td></tr></thead><tbody><tr><td>256.09</td><td>1.0</td><td>68.95</td><td>0</td><td>0.059794</td></tr><tr><td>193.77</td><td>0.042493</td><td>80.23</td><td>0</td><td>0.065887</td></tr><tr><td>225.58</td><td>0.999997</td><td>68.37</td><td>0</td><td>0.02252</td></tr><tr><td>208.36</td><td>0.984932</td><td>88.91</td><td>0</td><td>0.01284</td></tr><tr><td>131.76</td><td>1.5201e-15</td><td>66.0</td><td>1</td><td>0.987802</td></tr><tr><td>122.02</td><td>1.1664e-17</td><td>47.64</td><td>1</td><td>0.994074</td></tr><tr><td>230.87</td><td>1.0</td><td>83.07</td><td>0</td><td>0.016349</td></tr><tr><td>113.12</td><td>1.3622e-19</td><td>69.57</td><td>1</td><td>0.985252</td></tr><tr><td>143.56</td><td>5.5489e-13</td><td>42.95</td><td>1</td><td>0.994074</td></tr><tr><td>129.41</td><td>4.6944e-16</td><td>55.39</td><td>1</td><td>0.991251</td></tr><tr><td>163.370847</td><td>1.1119e-8</td><td>82.03</td><td>0</td><td>0.558698</td></tr><tr><td>118.39</td><td>1.8994e-18</td><td>54.7</td><td>1</td><td>0.991251</td></tr><tr><td>&hellip;</td><td>&hellip;</td><td>&hellip;</td><td>&hellip;</td><td>&hellip;</td></tr><tr><td>253.163832</td><td>1.0</td><td>79.814936</td><td>0</td><td>0.013613</td></tr><tr><td>163.370847</td><td>1.1119e-8</td><td>51.375249</td><td>1</td><td>0.910629</td></tr><tr><td>110.258549</td><td>3.2576e-20</td><td>57.648736</td><td>1</td><td>0.991251</td></tr><tr><td>229.218964</td><td>1.0</td><td>81.974819</td><td>0</td><td>0.015174</td></tr><tr><td>129.246151</td><td>4.3251e-16</td><td>41.172455</td><td>1</td><td>0.994074</td></tr><tr><td>115.91197</td><td>5.5019e-19</td><td>51.586622</td><td>1</td><td>0.994074</td></tr><tr><td>160.020146</td><td>2.0820e-9</td><td>49.883066</td><td>1</td><td>0.984231</td></tr><tr><td>150.78556</td><td>2.0569e-11</td><td>35.973585</td><td>1</td><td>0.986036</td></tr><tr><td>194.444061</td><td>0.058526</td><td>35.251988</td><td>1</td><td>0.962498</td></tr><tr><td>224.232675</td><td>0.999995</td><td>80.597491</td><td>0</td><td>0.015174</td></tr><tr><td>176.739636</td><td>0.000009</td><td>51.233929</td><td>1</td><td>0.952715</td></tr><tr><td>236.642407</td><td>1.0</td><td>77.046206</td><td>0</td><td>0.013613</td></tr></tbody></table></div>"
      ],
      "text/plain": [
       "shape: (897, 5)\n",
       "┌──────────────────────┬──────────────────────┬──────────────────────┬───────────────┬─────────────┐\n",
       "│ Daily Internet Usage ┆ Daily Internet Usage ┆ Daily Time Spent on  ┆ Clicked on Ad ┆ model_score │\n",
       "│ ---                  ┆ Logistic Sc…         ┆ Site                 ┆ ---           ┆ ---         │\n",
       "│ f64                  ┆ ---                  ┆ ---                  ┆ i64           ┆ f64         │\n",
       "│                      ┆ f64                  ┆ f64                  ┆               ┆             │\n",
       "╞══════════════════════╪══════════════════════╪══════════════════════╪═══════════════╪═════════════╡\n",
       "│ 256.09               ┆ 1.0                  ┆ 68.95                ┆ 0             ┆ 0.059794    │\n",
       "│ 193.77               ┆ 0.042493             ┆ 80.23                ┆ 0             ┆ 0.065887    │\n",
       "│ 225.58               ┆ 0.999997             ┆ 68.37                ┆ 0             ┆ 0.02252     │\n",
       "│ 208.36               ┆ 0.984932             ┆ 88.91                ┆ 0             ┆ 0.01284     │\n",
       "│ …                    ┆ …                    ┆ …                    ┆ …             ┆ …           │\n",
       "│ 194.444061           ┆ 0.058526             ┆ 35.251988            ┆ 1             ┆ 0.962498    │\n",
       "│ 224.232675           ┆ 0.999995             ┆ 80.597491            ┆ 0             ┆ 0.015174    │\n",
       "│ 176.739636           ┆ 0.000009             ┆ 51.233929            ┆ 1             ┆ 0.952715    │\n",
       "│ 236.642407           ┆ 1.0                  ┆ 77.046206            ┆ 0             ┆ 0.013613    │\n",
       "└──────────────────────┴──────────────────────┴──────────────────────┴───────────────┴─────────────┘"
      ]
     },
     "execution_count": 13,
     "metadata": {},
     "output_type": "execute_result"
    }
   ],
   "source": [
    "processed_df"
   ]
  }
 ],
 "metadata": {
  "kernelspec": {
   "display_name": "my_py11",
   "language": "python",
   "name": "python3"
  },
  "language_info": {
   "codemirror_mode": {
    "name": "ipython",
    "version": 3
   },
   "file_extension": ".py",
   "mimetype": "text/x-python",
   "name": "python",
   "nbconvert_exporter": "python",
   "pygments_lexer": "ipython3",
   "version": "3.11.3"
  },
  "orig_nbformat": 4
 },
 "nbformat": 4,
 "nbformat_minor": 2
}
