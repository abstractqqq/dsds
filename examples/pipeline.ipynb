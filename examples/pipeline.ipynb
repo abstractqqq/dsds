{
 "cells": [
  {
   "cell_type": "code",
   "execution_count": 1,
   "metadata": {},
   "outputs": [],
   "source": [
    "import dsds.prescreen as ps\n",
    "import dsds.utils as u\n",
    "import dsds.transform as t\n",
    "import dsds.encoders as enc\n",
    "import dsds.sample as sa\n",
    "import dsds.fs as fs\n",
    "import polars as pl"
   ]
  },
  {
   "attachments": {},
   "cell_type": "markdown",
   "metadata": {},
   "source": [
    "# More Complicated Pipelines that are Beyond Sklearn\n",
    "\n",
    "This is a more advanced pipeline. It contains filter, upsample steps, which are persisted which means they will be remembered by the pipeline and will be\n",
    "applied if the pipeline is applied to other dataframe. You can set persist = False so that these steps won't be remembered. You can also append a model score to the dataframe. That means this model score append can be an intermediate step, which enables pipelines in which the final model depends on previous model scores. Simple passthroughs like logistic passthrough is built in for you."
   ]
  },
  {
   "cell_type": "code",
   "execution_count": 2,
   "metadata": {},
   "outputs": [
    {
     "name": "stderr",
     "output_type": "stream",
     "text": [
      "INFO:dsds.prescreen:The following columns are dropped because they have lower than 0.5 variance. ['Male', 'Test_Constant', 'Test_BadColumn'].\n",
      "Removed a total of 3 columns.\n",
      "INFO:dsds.prescreen:The following columns are dropped because they are constants. ['Test_Str_Constant'].\n",
      "Removed a total of 1 columns.\n",
      "INFO:dsds.fs:Running fscore to determine feature relevance...\n"
     ]
    },
    {
     "name": "stdout",
     "output_type": "stream",
     "text": [
      "Found 13 total features to select from. Proceeding to select top 12 features.\n"
     ]
    },
    {
     "name": "stderr",
     "output_type": "stream",
     "text": [
      "MRMR, fscore: 100%|██████████| 12/12 [00:00<00:00, 11995.15it/s]\n",
      "INFO:dsds.fs:Selected 12 features. There are 6 columns the algorithm cannot process. They are also returned.\n"
     ]
    },
    {
     "name": "stdout",
     "output_type": "stream",
     "text": [
      "Output is sorted in order of selection (max relevance min redundancy).\n"
     ]
    },
    {
     "name": "stderr",
     "output_type": "stream",
     "text": [
      "Mutual Info:   0%|          | 0/12 [00:00<?, ?it/s]WARNING:dsds.fs:Found column Area Income Band has null values. It is filled with the mean of the column. It is highly recommended that you impute the column beforehand.\n",
      "Mutual Info: 100%|██████████| 12/12 [00:00<00:00, 144.27it/s]\n",
      "INFO:dsds.fs:Selected 3 features. There are 5 columns the algorithm cannot process. They are also returned.\n",
      "INFO:dsds.prescreen:The following columns are dropped. ['Country', 'Timestamp', 'Ad Topic Line', 'City'].\n",
      "Removed a total of 4 columns.\n"
     ]
    }
   ],
   "source": [
    "# `data` is Lazy because input is Lazy. All pipe functions work with LazyFrames\n",
    "data = (\n",
    "    pl.scan_csv(\"../data/advertising.csv\").sort(by=\"id\")\n",
    "    .pipe(ps.remove_by_var, threshold = 0.5, target = \"Clicked on Ad\")\n",
    "    .pipe(ps.filter, condition = pl.col(\"Age\") > 30, persist=True)\n",
    "    .pipe(ps.remove_constants)\n",
    "    .pipe(sa.simple_upsample, subgroup = pl.col(\"One_Hot_Test\") != 'A', count = 200, persist=True)\n",
    "    .pipe(enc.binary_encode, exclude = [\"Clicked on Ad\"])\n",
    "    .pipe(enc.one_hot_encode, cols= [\"One_Hot_Test\"])\n",
    "    .pipe(t.impute, cols=[\"Area Income\", \"Daily Internet Usage\", \"Daily Internet Usage Band\"], strategy=\"median\")\n",
    "    .pipe(t.impute, cols=[\"Daily Internet Usage\"], strategy = \"mean\")\n",
    "    .pipe(u.logistic_passthrough, col = \"Daily Internet Usage\", coeff=0.5, const=-100.)\n",
    "    .pipe(fs.mrmr_selector, target = \"Clicked on Ad\", top_k = 12, strategy=\"fscore\")\n",
    "    .pipe(fs.mutual_info_selector, target = \"Clicked on Ad\", top_k = 3)\n",
    "    .pipe(ps.remove_if_exists, [\"Ad Topic Line\", \"City\", \"Country\", \"Timestamp\"])\n",
    "    .pipe(ps.rename, rename_dict={\"_logistic\":\"Daily Internet Usage Logistic Score\"}, persist=True)\n",
    ")\n"
   ]
  },
  {
   "cell_type": "code",
   "execution_count": 3,
   "metadata": {},
   "outputs": [
    {
     "data": {
      "image/svg+xml": [
       "<svg xmlns=\"http://www.w3.org/2000/svg\" xmlns:xlink=\"http://www.w3.org/1999/xlink\" width=\"1458pt\" height=\"1086pt\" viewBox=\"0.00 0.00 1458.00 1086.00\">\n",
       "<g id=\"graph0\" class=\"graph\" transform=\"scale(1 1) rotate(0) translate(4 1082)\">\n",
       "<title>polars_query</title>\n",
       "<polygon fill=\"white\" stroke=\"transparent\" points=\"-4,4 -4,-1082 1454,-1082 1454,4 -4,4\"/>\n",
       "<!-- RENAME [(0, 0)] -->\n",
       "<g id=\"node1\" class=\"node\">\n",
       "<title>RENAME [(0, 0)]</title>\n",
       "<polygon fill=\"none\" stroke=\"black\" points=\"762,-1078 688,-1078 688,-1042 762,-1042 762,-1078\"/>\n",
       "<text text-anchor=\"middle\" x=\"725\" y=\"-1056.3\" font-family=\"Times New Roman,serif\" font-size=\"14.00\">RENAME</text>\n",
       "</g>\n",
       "<!-- DROP [(0, 1)] -->\n",
       "<g id=\"node2\" class=\"node\">\n",
       "<title>DROP [(0, 1)]</title>\n",
       "<polygon fill=\"none\" stroke=\"black\" points=\"752,-1006 698,-1006 698,-970 752,-970 752,-1006\"/>\n",
       "<text text-anchor=\"middle\" x=\"725\" y=\"-984.3\" font-family=\"Times New Roman,serif\" font-size=\"14.00\">DROP</text>\n",
       "</g>\n",
       "<!-- RENAME [(0, 0)]&#45;&#45;DROP [(0, 1)] -->\n",
       "<g id=\"edge1\" class=\"edge\">\n",
       "<title>RENAME [(0, 0)]--DROP [(0, 1)]</title>\n",
       "<path fill=\"none\" stroke=\"black\" d=\"M725,-1041.7C725,-1030.85 725,-1016.92 725,-1006.1\"/>\n",
       "</g>\n",
       "<!-- FAST_PROJECT: [Daily Internet Usage, _logistic, Daily Internet Usage Band, Ad Topic Line, City, Country, Timestamp, Clicked on Ad] [(0, 2)] -->\n",
       "<g id=\"node3\" class=\"node\">\n",
       "<title>FAST_PROJECT: [Daily Internet Usage, _logistic, Daily Internet Usage Band, Ad Topic Line, City, Country, Timestamp, Clicked on Ad] [(0, 2)]</title>\n",
       "<polygon fill=\"none\" stroke=\"black\" points=\"1110,-934 340,-934 340,-898 1110,-898 1110,-934\"/>\n",
       "<text text-anchor=\"middle\" x=\"725\" y=\"-912.3\" font-family=\"Times New Roman,serif\" font-size=\"14.00\">FAST_PROJECT: [Daily Internet Usage, _logistic, Daily Internet Usage Band, Ad Topic Line, City, Country, Timestamp, Clicked on Ad]</text>\n",
       "</g>\n",
       "<!-- DROP [(0, 1)]&#45;&#45;FAST_PROJECT: [Daily Internet Usage, _logistic, Daily Internet Usage Band, Ad Topic Line, City, Country, Timestamp, Clicked on Ad] [(0, 2)] -->\n",
       "<g id=\"edge2\" class=\"edge\">\n",
       "<title>DROP [(0, 1)]--FAST_PROJECT: [Daily Internet Usage, _logistic, Daily Internet Usage Band, Ad Topic Line, City, Country, Timestamp, Clicked on Ad] [(0, 2)]</title>\n",
       "<path fill=\"none\" stroke=\"black\" d=\"M725,-969.7C725,-958.85 725,-944.92 725,-934.1\"/>\n",
       "</g>\n",
       "<!-- WITH COLUMNS [&quot;_logistic&quot;] [(0, 3)] -->\n",
       "<g id=\"node4\" class=\"node\">\n",
       "<title>WITH COLUMNS [&quot;_logistic&quot;] [(0, 3)]</title>\n",
       "<polygon fill=\"none\" stroke=\"black\" points=\"822,-862 628,-862 628,-826 822,-826 822,-862\"/>\n",
       "<text text-anchor=\"middle\" x=\"725\" y=\"-840.3\" font-family=\"Times New Roman,serif\" font-size=\"14.00\">WITH COLUMNS [&quot;_logistic&quot;]</text>\n",
       "</g>\n",
       "<!-- FAST_PROJECT: [Daily Internet Usage, _logistic, Daily Internet Usage Band, Ad Topic Line, City, Country, Timestamp, Clicked on Ad] [(0, 2)]&#45;&#45;WITH COLUMNS [&quot;_logistic&quot;] [(0, 3)] -->\n",
       "<g id=\"edge3\" class=\"edge\">\n",
       "<title>FAST_PROJECT: [Daily Internet Usage, _logistic, Daily Internet Usage Band, Ad Topic Line, City, Country, Timestamp, Clicked on Ad] [(0, 2)]--WITH COLUMNS [&quot;_logistic&quot;] [(0, 3)]</title>\n",
       "<path fill=\"none\" stroke=\"black\" d=\"M725,-897.7C725,-886.85 725,-872.92 725,-862.1\"/>\n",
       "</g>\n",
       "<!-- WITH COLUMNS [&quot;Daily Internet Usage&quot;] [(0, 4)] -->\n",
       "<g id=\"node5\" class=\"node\">\n",
       "<title>WITH COLUMNS [&quot;Daily Internet Usage&quot;] [(0, 4)]</title>\n",
       "<polygon fill=\"none\" stroke=\"black\" points=\"855.5,-790 594.5,-790 594.5,-754 855.5,-754 855.5,-790\"/>\n",
       "<text text-anchor=\"middle\" x=\"725\" y=\"-768.3\" font-family=\"Times New Roman,serif\" font-size=\"14.00\">WITH COLUMNS [&quot;Daily Internet Usage&quot;]</text>\n",
       "</g>\n",
       "<!-- WITH COLUMNS [&quot;_logistic&quot;] [(0, 3)]&#45;&#45;WITH COLUMNS [&quot;Daily Internet Usage&quot;] [(0, 4)] -->\n",
       "<g id=\"edge4\" class=\"edge\">\n",
       "<title>WITH COLUMNS [&quot;_logistic&quot;] [(0, 3)]--WITH COLUMNS [&quot;Daily Internet Usage&quot;] [(0, 4)]</title>\n",
       "<path fill=\"none\" stroke=\"black\" d=\"M725,-825.7C725,-814.85 725,-800.92 725,-790.1\"/>\n",
       "</g>\n",
       "<!-- WITH COLUMNS [&quot;Daily Internet Usage&quot;,&quot;Daily Internet Usage Band&quot;] [(0, 5)] -->\n",
       "<g id=\"node6\" class=\"node\">\n",
       "<title>WITH COLUMNS [&quot;Daily Internet Usage&quot;,&quot;Daily Internet Usage Band&quot;] [(0, 5)]</title>\n",
       "<polygon fill=\"none\" stroke=\"black\" points=\"936,-718 514,-718 514,-682 936,-682 936,-718\"/>\n",
       "<text text-anchor=\"middle\" x=\"725\" y=\"-696.3\" font-family=\"Times New Roman,serif\" font-size=\"14.00\">WITH COLUMNS [&quot;Daily Internet Usage&quot;,&quot;Daily Internet Usage Band&quot;]</text>\n",
       "</g>\n",
       "<!-- WITH COLUMNS [&quot;Daily Internet Usage&quot;] [(0, 4)]&#45;&#45;WITH COLUMNS [&quot;Daily Internet Usage&quot;,&quot;Daily Internet Usage Band&quot;] [(0, 5)] -->\n",
       "<g id=\"edge5\" class=\"edge\">\n",
       "<title>WITH COLUMNS [&quot;Daily Internet Usage&quot;] [(0, 4)]--WITH COLUMNS [&quot;Daily Internet Usage&quot;,&quot;Daily Internet Usage Band&quot;] [(0, 5)]</title>\n",
       "<path fill=\"none\" stroke=\"black\" d=\"M725,-753.7C725,-742.85 725,-728.92 725,-718.1\"/>\n",
       "</g>\n",
       "<!-- DROP [(0, 6)] -->\n",
       "<g id=\"node7\" class=\"node\">\n",
       "<title>DROP [(0, 6)]</title>\n",
       "<polygon fill=\"none\" stroke=\"black\" points=\"752,-646 698,-646 698,-610 752,-610 752,-646\"/>\n",
       "<text text-anchor=\"middle\" x=\"725\" y=\"-624.3\" font-family=\"Times New Roman,serif\" font-size=\"14.00\">DROP</text>\n",
       "</g>\n",
       "<!-- WITH COLUMNS [&quot;Daily Internet Usage&quot;,&quot;Daily Internet Usage Band&quot;] [(0, 5)]&#45;&#45;DROP [(0, 6)] -->\n",
       "<g id=\"edge6\" class=\"edge\">\n",
       "<title>WITH COLUMNS [&quot;Daily Internet Usage&quot;,&quot;Daily Internet Usage Band&quot;] [(0, 5)]--DROP [(0, 6)]</title>\n",
       "<path fill=\"none\" stroke=\"black\" d=\"M725,-681.7C725,-670.85 725,-656.92 725,-646.1\"/>\n",
       "</g>\n",
       "<!-- DROP [(0, 7)] -->\n",
       "<g id=\"node8\" class=\"node\">\n",
       "<title>DROP [(0, 7)]</title>\n",
       "<polygon fill=\"none\" stroke=\"black\" points=\"752,-574 698,-574 698,-538 752,-538 752,-574\"/>\n",
       "<text text-anchor=\"middle\" x=\"725\" y=\"-552.3\" font-family=\"Times New Roman,serif\" font-size=\"14.00\">DROP</text>\n",
       "</g>\n",
       "<!-- DROP [(0, 6)]&#45;&#45;DROP [(0, 7)] -->\n",
       "<g id=\"edge7\" class=\"edge\">\n",
       "<title>DROP [(0, 6)]--DROP [(0, 7)]</title>\n",
       "<path fill=\"none\" stroke=\"black\" d=\"M725,-609.7C725,-598.85 725,-584.92 725,-574.1\"/>\n",
       "</g>\n",
       "<!-- UNION [(0, 8)] -->\n",
       "<g id=\"node9\" class=\"node\">\n",
       "<title>UNION [(0, 8)]</title>\n",
       "<polygon fill=\"none\" stroke=\"black\" points=\"755,-502 695,-502 695,-466 755,-466 755,-502\"/>\n",
       "<text text-anchor=\"middle\" x=\"725\" y=\"-480.3\" font-family=\"Times New Roman,serif\" font-size=\"14.00\">UNION</text>\n",
       "</g>\n",
       "<!-- DROP [(0, 7)]&#45;&#45;UNION [(0, 8)] -->\n",
       "<g id=\"edge8\" class=\"edge\">\n",
       "<title>DROP [(0, 7)]--UNION [(0, 8)]</title>\n",
       "<path fill=\"none\" stroke=\"black\" d=\"M725,-537.7C725,-526.85 725,-512.92 725,-502.1\"/>\n",
       "</g>\n",
       "<!-- FAST_PROJECT: [Daily Internet Usage, Daily Internet Usage Band, Ad Topic Line, City, Country, Timestamp, Clicked on Ad] [(0, 9)] -->\n",
       "<g id=\"node10\" class=\"node\">\n",
       "<title>FAST_PROJECT: [Daily Internet Usage, Daily Internet Usage Band, Ad Topic Line, City, Country, Timestamp, Clicked on Ad] [(0, 9)]</title>\n",
       "<polygon fill=\"none\" stroke=\"black\" points=\"716,-430 0,-430 0,-394 716,-394 716,-430\"/>\n",
       "<text text-anchor=\"middle\" x=\"358\" y=\"-408.3\" font-family=\"Times New Roman,serif\" font-size=\"14.00\">FAST_PROJECT: [Daily Internet Usage, Daily Internet Usage Band, Ad Topic Line, City, Country, Timestamp, Clicked on Ad]</text>\n",
       "</g>\n",
       "<!-- UNION [(0, 8)]&#45;&#45;FAST_PROJECT: [Daily Internet Usage, Daily Internet Usage Band, Ad Topic Line, City, Country, Timestamp, Clicked on Ad] [(0, 9)] -->\n",
       "<g id=\"edge9\" class=\"edge\">\n",
       "<title>UNION [(0, 8)]--FAST_PROJECT: [Daily Internet Usage, Daily Internet Usage Band, Ad Topic Line, City, Country, Timestamp, Clicked on Ad] [(0, 9)]</title>\n",
       "<path fill=\"none\" stroke=\"black\" d=\"M694.97,-477.27C641.47,-467.07 527.75,-445.38 447.24,-430.02\"/>\n",
       "</g>\n",
       "<!-- FAST_PROJECT: [Daily Internet Usage, Daily Internet Usage Band, Ad Topic Line, City, Country, Timestamp, Clicked on Ad] [(1, 9)] -->\n",
       "<g id=\"node16\" class=\"node\">\n",
       "<title>FAST_PROJECT: [Daily Internet Usage, Daily Internet Usage Band, Ad Topic Line, City, Country, Timestamp, Clicked on Ad] [(1, 9)]</title>\n",
       "<polygon fill=\"none\" stroke=\"black\" points=\"1450,-430 734,-430 734,-394 1450,-394 1450,-430\"/>\n",
       "<text text-anchor=\"middle\" x=\"1092\" y=\"-408.3\" font-family=\"Times New Roman,serif\" font-size=\"14.00\">FAST_PROJECT: [Daily Internet Usage, Daily Internet Usage Band, Ad Topic Line, City, Country, Timestamp, Clicked on Ad]</text>\n",
       "</g>\n",
       "<!-- UNION [(0, 8)]&#45;&#45;FAST_PROJECT: [Daily Internet Usage, Daily Internet Usage Band, Ad Topic Line, City, Country, Timestamp, Clicked on Ad] [(1, 9)] -->\n",
       "<g id=\"edge15\" class=\"edge\">\n",
       "<title>UNION [(0, 8)]--FAST_PROJECT: [Daily Internet Usage, Daily Internet Usage Band, Ad Topic Line, City, Country, Timestamp, Clicked on Ad] [(1, 9)]</title>\n",
       "<path fill=\"none\" stroke=\"black\" d=\"M755.03,-477.27C808.53,-467.07 922.25,-445.38 1002.76,-430.02\"/>\n",
       "</g>\n",
       "<!-- DROP [(0, 10)] -->\n",
       "<g id=\"node11\" class=\"node\">\n",
       "<title>DROP [(0, 10)]</title>\n",
       "<polygon fill=\"none\" stroke=\"black\" points=\"385,-349.5 331,-349.5 331,-313.5 385,-313.5 385,-349.5\"/>\n",
       "<text text-anchor=\"middle\" x=\"358\" y=\"-327.8\" font-family=\"Times New Roman,serif\" font-size=\"14.00\">DROP</text>\n",
       "</g>\n",
       "<!-- FAST_PROJECT: [Daily Internet Usage, Daily Internet Usage Band, Ad Topic Line, City, Country, Timestamp, Clicked on Ad] [(0, 9)]&#45;&#45;DROP [(0, 10)] -->\n",
       "<g id=\"edge10\" class=\"edge\">\n",
       "<title>FAST_PROJECT: [Daily Internet Usage, Daily Internet Usage Band, Ad Topic Line, City, Country, Timestamp, Clicked on Ad] [(0, 9)]--DROP [(0, 10)]</title>\n",
       "<path fill=\"none\" stroke=\"black\" d=\"M358,-393.97C358,-380.8 358,-362.66 358,-349.5\"/>\n",
       "</g>\n",
       "<!-- DROP [(0, 11)] -->\n",
       "<g id=\"node12\" class=\"node\">\n",
       "<title>DROP [(0, 11)]</title>\n",
       "<polygon fill=\"none\" stroke=\"black\" points=\"385,-269 331,-269 331,-233 385,-233 385,-269\"/>\n",
       "<text text-anchor=\"middle\" x=\"358\" y=\"-247.3\" font-family=\"Times New Roman,serif\" font-size=\"14.00\">DROP</text>\n",
       "</g>\n",
       "<!-- DROP [(0, 10)]&#45;&#45;DROP [(0, 11)] -->\n",
       "<g id=\"edge11\" class=\"edge\">\n",
       "<title>DROP [(0, 10)]--DROP [(0, 11)]</title>\n",
       "<path fill=\"none\" stroke=\"black\" d=\"M358,-313.47C358,-300.3 358,-282.16 358,-269\"/>\n",
       "</g>\n",
       "<!-- SORT BY [col(&quot;id&quot;)] [(0, 12)] -->\n",
       "<g id=\"node13\" class=\"node\">\n",
       "<title>SORT BY [col(&quot;id&quot;)] [(0, 12)]</title>\n",
       "<polygon fill=\"none\" stroke=\"black\" points=\"425,-197 291,-197 291,-161 425,-161 425,-197\"/>\n",
       "<text text-anchor=\"middle\" x=\"358\" y=\"-175.3\" font-family=\"Times New Roman,serif\" font-size=\"14.00\">SORT BY [col(&quot;id&quot;)]</text>\n",
       "</g>\n",
       "<!-- DROP [(0, 11)]&#45;&#45;SORT BY [col(&quot;id&quot;)] [(0, 12)] -->\n",
       "<g id=\"edge12\" class=\"edge\">\n",
       "<title>DROP [(0, 11)]--SORT BY [col(&quot;id&quot;)] [(0, 12)]</title>\n",
       "<path fill=\"none\" stroke=\"black\" d=\"M358,-232.7C358,-221.85 358,-207.92 358,-197.1\"/>\n",
       "</g>\n",
       "<!-- FILTER BY (col(&quot;Age&quot;)) &gt; (30) [(0, 13)] -->\n",
       "<g id=\"node14\" class=\"node\">\n",
       "<title>FILTER BY (col(&quot;Age&quot;)) &gt; (30) [(0, 13)]</title>\n",
       "<polygon fill=\"none\" stroke=\"black\" points=\"455.5,-125 260.5,-125 260.5,-89 455.5,-89 455.5,-125\"/>\n",
       "<text text-anchor=\"middle\" x=\"358\" y=\"-103.3\" font-family=\"Times New Roman,serif\" font-size=\"14.00\">FILTER BY (col(&quot;Age&quot;)) &gt; (30)</text>\n",
       "</g>\n",
       "<!-- SORT BY [col(&quot;id&quot;)] [(0, 12)]&#45;&#45;FILTER BY (col(&quot;Age&quot;)) &gt; (30) [(0, 13)] -->\n",
       "<g id=\"edge13\" class=\"edge\">\n",
       "<title>SORT BY [col(&quot;id&quot;)] [(0, 12)]--FILTER BY (col(&quot;Age&quot;)) &gt; (30) [(0, 13)]</title>\n",
       "<path fill=\"none\" stroke=\"black\" d=\"M358,-160.7C358,-149.85 358,-135.92 358,-125.1\"/>\n",
       "</g>\n",
       "<!-- Csv SCAN ../data/advertising.csv;\n",
       "π 9/19;\n",
       "σ &#45; [(0, 14)] -->\n",
       "<g id=\"node15\" class=\"node\">\n",
       "<title>Csv SCAN ../data/advertising.csv;\n",
       "π 9/19;\n",
       "σ - [(0, 14)]</title>\n",
       "<polygon fill=\"none\" stroke=\"black\" points=\"460,-53 256,-53 256,0 460,0 460,-53\"/>\n",
       "<text text-anchor=\"middle\" x=\"358\" y=\"-37.8\" font-family=\"Times New Roman,serif\" font-size=\"14.00\">Csv SCAN ../data/advertising.csv;</text>\n",
       "<text text-anchor=\"middle\" x=\"358\" y=\"-22.8\" font-family=\"Times New Roman,serif\" font-size=\"14.00\">π 9/19;</text>\n",
       "<text text-anchor=\"middle\" x=\"358\" y=\"-7.8\" font-family=\"Times New Roman,serif\" font-size=\"14.00\">σ -</text>\n",
       "</g>\n",
       "<!-- FILTER BY (col(&quot;Age&quot;)) &gt; (30) [(0, 13)]&#45;&#45;Csv SCAN ../data/advertising.csv;\n",
       "π 9/19;\n",
       "σ &#45; [(0, 14)] -->\n",
       "<g id=\"edge14\" class=\"edge\">\n",
       "<title>FILTER BY (col(&quot;Age&quot;)) &gt; (30) [(0, 13)]--Csv SCAN ../data/advertising.csv;\n",
       "π 9/19;\n",
       "σ - [(0, 14)]</title>\n",
       "<path fill=\"none\" stroke=\"black\" d=\"M358,-88.97C358,-78.51 358,-64.9 358,-53.16\"/>\n",
       "</g>\n",
       "<!-- TABLE\n",
       "π 7/15;\n",
       "σ &#45;; [(1, 10)] -->\n",
       "<g id=\"node17\" class=\"node\">\n",
       "<title>TABLE\n",
       "π 7/15;\n",
       "σ -; [(1, 10)]</title>\n",
       "<polygon fill=\"none\" stroke=\"black\" points=\"1121.5,-358 1062.5,-358 1062.5,-305 1121.5,-305 1121.5,-358\"/>\n",
       "<text text-anchor=\"middle\" x=\"1092\" y=\"-342.8\" font-family=\"Times New Roman,serif\" font-size=\"14.00\">TABLE</text>\n",
       "<text text-anchor=\"middle\" x=\"1092\" y=\"-327.8\" font-family=\"Times New Roman,serif\" font-size=\"14.00\">π 7/15;</text>\n",
       "<text text-anchor=\"middle\" x=\"1092\" y=\"-312.8\" font-family=\"Times New Roman,serif\" font-size=\"14.00\">σ -;</text>\n",
       "</g>\n",
       "<!-- FAST_PROJECT: [Daily Internet Usage, Daily Internet Usage Band, Ad Topic Line, City, Country, Timestamp, Clicked on Ad] [(1, 9)]&#45;&#45;TABLE\n",
       "π 7/15;\n",
       "σ &#45;; [(1, 10)] -->\n",
       "<g id=\"edge16\" class=\"edge\">\n",
       "<title>FAST_PROJECT: [Daily Internet Usage, Daily Internet Usage Band, Ad Topic Line, City, Country, Timestamp, Clicked on Ad] [(1, 9)]--TABLE\n",
       "π 7/15;\n",
       "σ -; [(1, 10)]</title>\n",
       "<path fill=\"none\" stroke=\"black\" d=\"M1092,-393.97C1092,-383.51 1092,-369.9 1092,-358.16\"/>\n",
       "</g>\n",
       "</g>\n",
       "</svg>"
      ],
      "text/plain": [
       "<IPython.core.display.SVG object>"
      ]
     },
     "metadata": {},
     "output_type": "display_data"
    }
   ],
   "source": [
    "data.show_graph() # Polars magic! Requires graphviz package to be installed"
   ]
  },
  {
   "cell_type": "code",
   "execution_count": 4,
   "metadata": {},
   "outputs": [
    {
     "data": {
      "text/html": [
       "<div><style>\n",
       ".dataframe > thead > tr > th,\n",
       ".dataframe > tbody > tr > td {\n",
       "  text-align: right;\n",
       "}\n",
       "</style>\n",
       "<small>shape: (5, 4)</small><table border=\"1\" class=\"dataframe\"><thead><tr><th>Daily Internet Usage</th><th>Daily Internet Usage Logistic Score</th><th>Daily Internet Usage Band</th><th>Clicked on Ad</th></tr><tr><td>f64</td><td>f64</td><td>f64</td><td>i64</td></tr></thead><tbody><tr><td>256.09</td><td>1.0</td><td>12.0</td><td>0</td></tr><tr><td>193.77</td><td>0.042493</td><td>9.0</td><td>0</td></tr><tr><td>225.58</td><td>0.999997</td><td>11.0</td><td>0</td></tr><tr><td>208.36</td><td>0.984932</td><td>10.0</td><td>0</td></tr><tr><td>131.76</td><td>1.5201e-15</td><td>6.0</td><td>1</td></tr></tbody></table></div>"
      ],
      "text/plain": [
       "shape: (5, 4)\n",
       "┌──────────────────────┬───────────────────────────────┬───────────────────────────┬───────────────┐\n",
       "│ Daily Internet Usage ┆ Daily Internet Usage Logistic ┆ Daily Internet Usage Band ┆ Clicked on Ad │\n",
       "│ ---                  ┆ Sc…                           ┆ ---                       ┆ ---           │\n",
       "│ f64                  ┆ ---                           ┆ f64                       ┆ i64           │\n",
       "│                      ┆ f64                           ┆                           ┆               │\n",
       "╞══════════════════════╪═══════════════════════════════╪═══════════════════════════╪═══════════════╡\n",
       "│ 256.09               ┆ 1.0                           ┆ 12.0                      ┆ 0             │\n",
       "│ 193.77               ┆ 0.042493                      ┆ 9.0                       ┆ 0             │\n",
       "│ 225.58               ┆ 0.999997                      ┆ 11.0                      ┆ 0             │\n",
       "│ 208.36               ┆ 0.984932                      ┆ 10.0                      ┆ 0             │\n",
       "│ 131.76               ┆ 1.5201e-15                    ┆ 6.0                       ┆ 1             │\n",
       "└──────────────────────┴───────────────────────────────┴───────────────────────────┴───────────────┘"
      ]
     },
     "execution_count": 4,
     "metadata": {},
     "output_type": "execute_result"
    }
   ],
   "source": [
    "data.limit(5).collect()"
   ]
  },
  {
   "cell_type": "code",
   "execution_count": 5,
   "metadata": {},
   "outputs": [],
   "source": [
    "features = [c for c in data.columns if c != \"Clicked on Ad\"]"
   ]
  },
  {
   "cell_type": "code",
   "execution_count": 6,
   "metadata": {},
   "outputs": [
    {
     "name": "stdout",
     "output_type": "stream",
     "text": [
      "Step 0 | Action: drop\n",
      "['Male', 'Test_Constant', 'Test_BadColumn']\n",
      "\n",
      "Step 1 | Action: filter\n",
      "By condition: [(col(\"Age\")) > (30)]\n",
      "\n",
      "\n",
      "Step 2 | Action: drop\n",
      "['Test_Str_Constant']\n",
      "\n",
      "Step 3 | Action: add_func\n",
      "Function Module: dsds.sample, Function Name: simple_upsample\n",
      "Parameters:\n",
      "subgroup = [(col(\"One_Hot_Test\")) != (Utf8(A))],\n",
      "count = 200,\n",
      "epsilon = 0.01,\n",
      "include = None,\n",
      "exclude = None,\n",
      "positive = False,\n",
      "seed = 42,\n",
      "\n",
      "\n",
      "Step 4 | Action: with_columns\n",
      "Details: \n",
      "(1) .when([(col(\"Test_Binary\")) == (Utf8(B))]).then(1.strict_cast(UInt8)).otherwise(0.strict_cast(UInt8)).alias(\"Test_Binary_B\")\n",
      "\n",
      "\n",
      "Step 5 | Action: drop\n",
      "['Test_Binary']\n",
      "\n",
      "Step 6 | Action: with_columns\n",
      "Details: \n",
      "(1) .when([(col(\"One_Hot_Test\")) == (Utf8(A))]).then(1.strict_cast(UInt8)).otherwise(0.strict_cast(UInt8)).alias(\"One_Hot_Test_A\")\n",
      "(2) .when([(col(\"One_Hot_Test\")) == (Utf8(B))]).then(1.strict_cast(UInt8)).otherwise(0.strict_cast(UInt8)).alias(\"One_Hot_Test_B\")\n",
      "(3) .when([(col(\"One_Hot_Test\")) == (Utf8(C))]).then(1.strict_cast(UInt8)).otherwise(0.strict_cast(UInt8)).alias(\"One_Hot_Test_C\")\n",
      "\n",
      "\n",
      "Step 7 | Action: drop\n",
      "['One_Hot_Test']\n",
      "\n",
      "Step 8 | Action: with_columns\n",
      "Details: \n",
      "(1) col(\"Area Income\").fill_null([56681.65])\n",
      "(2) col(\"Daily Internet Usage\").fill_null([162.43])\n",
      "(3) col(\"Daily Internet Usage Band\").fill_null([8.0])\n",
      "\n",
      "\n",
      "Step 9 | Action: with_columns\n",
      "Details: \n",
      "(1) col(\"Daily Internet Usage\").fill_null([171.173098])\n",
      "\n",
      "\n",
      "Step 10 | Action: with_columns\n",
      "Details: \n",
      "(1) [(1.0) / ([(1.0) + ([(-1.0) * ([([(col(\"Daily Internet Usage\")) * (0.5)]) + (-100.0)])].exp())])].alias(\"_logistic\")\n",
      "\n",
      "\n",
      "Step 11 | Action: select\n",
      "['Daily Internet Usage', 'Daily Time Spent on Site', 'Daily Internet Usage Band', '_logistic', 'Area Income', 'Age', 'Area Income Band', 'Age Band', 'One_Hot_Test_C', 'One_Hot_Test_B', 'Test_Binary_B', 'id', 'Ad Topic Line', 'City', 'Country', 'Timestamp', 'Clicked on Ad']\n",
      "\n",
      "Step 12 | Action: select\n",
      "['Daily Internet Usage', '_logistic', 'Daily Internet Usage Band', 'Ad Topic Line', 'City', 'Country', 'Timestamp', 'Clicked on Ad']\n",
      "\n",
      "Step 13 | Action: drop\n",
      "['Country', 'Timestamp', 'Ad Topic Line', 'City']\n",
      "\n",
      "Step 14 | Action: add_func\n",
      "Function Module: dsds.prescreen, Function Name: rename\n",
      "Parameters:\n",
      "rename_dict = {'_logistic': 'Daily Internet Usage Logistic Score'},\n",
      "\n",
      "\n",
      "\n"
     ]
    }
   ],
   "source": [
    "data.blueprint"
   ]
  },
  {
   "cell_type": "code",
   "execution_count": 7,
   "metadata": {},
   "outputs": [],
   "source": [
    "x = data.collect()\n",
    "y = x.drop_in_place(\"Clicked on Ad\")"
   ]
  },
  {
   "cell_type": "code",
   "execution_count": 8,
   "metadata": {},
   "outputs": [
    {
     "data": {
      "text/html": [
       "<style>#sk-container-id-1 {color: black;background-color: white;}#sk-container-id-1 pre{padding: 0;}#sk-container-id-1 div.sk-toggleable {background-color: white;}#sk-container-id-1 label.sk-toggleable__label {cursor: pointer;display: block;width: 100%;margin-bottom: 0;padding: 0.3em;box-sizing: border-box;text-align: center;}#sk-container-id-1 label.sk-toggleable__label-arrow:before {content: \"▸\";float: left;margin-right: 0.25em;color: #696969;}#sk-container-id-1 label.sk-toggleable__label-arrow:hover:before {color: black;}#sk-container-id-1 div.sk-estimator:hover label.sk-toggleable__label-arrow:before {color: black;}#sk-container-id-1 div.sk-toggleable__content {max-height: 0;max-width: 0;overflow: hidden;text-align: left;background-color: #f0f8ff;}#sk-container-id-1 div.sk-toggleable__content pre {margin: 0.2em;color: black;border-radius: 0.25em;background-color: #f0f8ff;}#sk-container-id-1 input.sk-toggleable__control:checked~div.sk-toggleable__content {max-height: 200px;max-width: 100%;overflow: auto;}#sk-container-id-1 input.sk-toggleable__control:checked~label.sk-toggleable__label-arrow:before {content: \"▾\";}#sk-container-id-1 div.sk-estimator input.sk-toggleable__control:checked~label.sk-toggleable__label {background-color: #d4ebff;}#sk-container-id-1 div.sk-label input.sk-toggleable__control:checked~label.sk-toggleable__label {background-color: #d4ebff;}#sk-container-id-1 input.sk-hidden--visually {border: 0;clip: rect(1px 1px 1px 1px);clip: rect(1px, 1px, 1px, 1px);height: 1px;margin: -1px;overflow: hidden;padding: 0;position: absolute;width: 1px;}#sk-container-id-1 div.sk-estimator {font-family: monospace;background-color: #f0f8ff;border: 1px dotted black;border-radius: 0.25em;box-sizing: border-box;margin-bottom: 0.5em;}#sk-container-id-1 div.sk-estimator:hover {background-color: #d4ebff;}#sk-container-id-1 div.sk-parallel-item::after {content: \"\";width: 100%;border-bottom: 1px solid gray;flex-grow: 1;}#sk-container-id-1 div.sk-label:hover label.sk-toggleable__label {background-color: #d4ebff;}#sk-container-id-1 div.sk-serial::before {content: \"\";position: absolute;border-left: 1px solid gray;box-sizing: border-box;top: 0;bottom: 0;left: 50%;z-index: 0;}#sk-container-id-1 div.sk-serial {display: flex;flex-direction: column;align-items: center;background-color: white;padding-right: 0.2em;padding-left: 0.2em;position: relative;}#sk-container-id-1 div.sk-item {position: relative;z-index: 1;}#sk-container-id-1 div.sk-parallel {display: flex;align-items: stretch;justify-content: center;background-color: white;position: relative;}#sk-container-id-1 div.sk-item::before, #sk-container-id-1 div.sk-parallel-item::before {content: \"\";position: absolute;border-left: 1px solid gray;box-sizing: border-box;top: 0;bottom: 0;left: 50%;z-index: -1;}#sk-container-id-1 div.sk-parallel-item {display: flex;flex-direction: column;z-index: 1;position: relative;background-color: white;}#sk-container-id-1 div.sk-parallel-item:first-child::after {align-self: flex-end;width: 50%;}#sk-container-id-1 div.sk-parallel-item:last-child::after {align-self: flex-start;width: 50%;}#sk-container-id-1 div.sk-parallel-item:only-child::after {width: 0;}#sk-container-id-1 div.sk-dashed-wrapped {border: 1px dashed gray;margin: 0 0.4em 0.5em 0.4em;box-sizing: border-box;padding-bottom: 0.4em;background-color: white;}#sk-container-id-1 div.sk-label label {font-family: monospace;font-weight: bold;display: inline-block;line-height: 1.2em;}#sk-container-id-1 div.sk-label-container {text-align: center;}#sk-container-id-1 div.sk-container {/* jupyter's `normalize.less` sets `[hidden] { display: none; }` but bootstrap.min.css set `[hidden] { display: none !important; }` so we also need the `!important` here to be able to override the default hidden behavior on the sphinx rendered scikit-learn.org. See: https://github.com/scikit-learn/scikit-learn/issues/21755 */display: inline-block !important;position: relative;}#sk-container-id-1 div.sk-text-repr-fallback {display: none;}</style><div id=\"sk-container-id-1\" class=\"sk-top-container\"><div class=\"sk-text-repr-fallback\"><pre>RandomForestClassifier(max_depth=4, n_estimators=30, n_jobs=-1)</pre><b>In a Jupyter environment, please rerun this cell to show the HTML representation or trust the notebook. <br />On GitHub, the HTML representation is unable to render, please try loading this page with nbviewer.org.</b></div><div class=\"sk-container\" hidden><div class=\"sk-item\"><div class=\"sk-estimator sk-toggleable\"><input class=\"sk-toggleable__control sk-hidden--visually\" id=\"sk-estimator-id-1\" type=\"checkbox\" checked><label for=\"sk-estimator-id-1\" class=\"sk-toggleable__label sk-toggleable__label-arrow\">RandomForestClassifier</label><div class=\"sk-toggleable__content\"><pre>RandomForestClassifier(max_depth=4, n_estimators=30, n_jobs=-1)</pre></div></div></div></div></div>"
      ],
      "text/plain": [
       "RandomForestClassifier(max_depth=4, n_estimators=30, n_jobs=-1)"
      ]
     },
     "execution_count": 8,
     "metadata": {},
     "output_type": "execute_result"
    }
   ],
   "source": [
    "# Train and tune a model outside the data pipeline\n",
    "from sklearn.ensemble import RandomForestClassifier\n",
    "rf = RandomForestClassifier(max_depth=4, n_estimators=30, n_jobs= -1)\n",
    "rf.fit(x.select(features), y)\n"
   ]
  },
  {
   "cell_type": "code",
   "execution_count": 9,
   "metadata": {},
   "outputs": [],
   "source": [
    "# add the TRAINED model to the end of the data pipeline\n",
    "\n",
    "final_df = data.pipe(\n",
    "    u.append_classif_score, \n",
    "    model = rf, \n",
    "    features = features,\n",
    "    target = \"Clicked on Ad\", \n",
    ")"
   ]
  },
  {
   "cell_type": "code",
   "execution_count": 10,
   "metadata": {},
   "outputs": [
    {
     "name": "stdout",
     "output_type": "stream",
     "text": [
      "Step 13 | Action: drop\n",
      "['Country', 'Timestamp', 'Ad Topic Line', 'City']\n",
      "\n",
      "Step 14 | Action: add_func\n",
      "Function Module: dsds.prescreen, Function Name: rename\n",
      "Parameters:\n",
      "rename_dict = {'_logistic': 'Daily Internet Usage Logistic Score'},\n",
      "\n",
      "\n",
      "Step 15 | Action: classif\n",
      "Model: <class 'sklearn.ensemble._forest.RandomForestClassifier'>\n",
      "Using the features ['Daily Internet Usage', 'Daily Internet Usage Logistic Score', 'Daily Internet Usage Band']\n",
      "Appends model_score to dataframe.\n",
      "\n",
      "\n"
     ]
    }
   ],
   "source": [
    "# Show last 3 steps.\n",
    "final_df.blueprint.show(-3)"
   ]
  },
  {
   "cell_type": "code",
   "execution_count": 11,
   "metadata": {},
   "outputs": [
    {
     "data": {
      "text/html": [
       "<div><style>\n",
       ".dataframe > thead > tr > th,\n",
       ".dataframe > tbody > tr > td {\n",
       "  text-align: right;\n",
       "}\n",
       "</style>\n",
       "<small>shape: (5, 5)</small><table border=\"1\" class=\"dataframe\"><thead><tr><th>Daily Internet Usage</th><th>Daily Internet Usage Logistic Score</th><th>Daily Internet Usage Band</th><th>Clicked on Ad</th><th>model_score</th></tr><tr><td>f64</td><td>f64</td><td>f64</td><td>i64</td><td>f64</td></tr></thead><tbody><tr><td>256.09</td><td>1.0</td><td>12.0</td><td>0</td><td>0.069359</td></tr><tr><td>193.77</td><td>0.042493</td><td>9.0</td><td>0</td><td>0.304376</td></tr><tr><td>225.58</td><td>0.999997</td><td>11.0</td><td>0</td><td>0.064493</td></tr><tr><td>208.36</td><td>0.984932</td><td>10.0</td><td>0</td><td>0.107543</td></tr><tr><td>131.76</td><td>1.5201e-15</td><td>6.0</td><td>1</td><td>0.998192</td></tr></tbody></table></div>"
      ],
      "text/plain": [
       "shape: (5, 5)\n",
       "┌──────────────────────┬──────────────────────┬──────────────────────┬───────────────┬─────────────┐\n",
       "│ Daily Internet Usage ┆ Daily Internet Usage ┆ Daily Internet Usage ┆ Clicked on Ad ┆ model_score │\n",
       "│ ---                  ┆ Logistic Sc…         ┆ Band                 ┆ ---           ┆ ---         │\n",
       "│ f64                  ┆ ---                  ┆ ---                  ┆ i64           ┆ f64         │\n",
       "│                      ┆ f64                  ┆ f64                  ┆               ┆             │\n",
       "╞══════════════════════╪══════════════════════╪══════════════════════╪═══════════════╪═════════════╡\n",
       "│ 256.09               ┆ 1.0                  ┆ 12.0                 ┆ 0             ┆ 0.069359    │\n",
       "│ 193.77               ┆ 0.042493             ┆ 9.0                  ┆ 0             ┆ 0.304376    │\n",
       "│ 225.58               ┆ 0.999997             ┆ 11.0                 ┆ 0             ┆ 0.064493    │\n",
       "│ 208.36               ┆ 0.984932             ┆ 10.0                 ┆ 0             ┆ 0.107543    │\n",
       "│ 131.76               ┆ 1.5201e-15           ┆ 6.0                  ┆ 1             ┆ 0.998192    │\n",
       "└──────────────────────┴──────────────────────┴──────────────────────┴───────────────┴─────────────┘"
      ]
     },
     "execution_count": 11,
     "metadata": {},
     "output_type": "execute_result"
    }
   ],
   "source": [
    "final_df.limit(5).collect()"
   ]
  },
  {
   "cell_type": "code",
   "execution_count": 12,
   "metadata": {},
   "outputs": [],
   "source": [
    "# The modelled pipeline can be pickled as long as the \n",
    "# model can be pickled\n",
    "\n",
    "final_df.blueprint.preserve(\"modelled_pipe.pkl\")"
   ]
  },
  {
   "cell_type": "code",
   "execution_count": 13,
   "metadata": {},
   "outputs": [
    {
     "data": {
      "text/plain": [
       "dsds.blueprint.Blueprint"
      ]
     },
     "execution_count": 13,
     "metadata": {},
     "output_type": "execute_result"
    }
   ],
   "source": [
    "import dsds.blueprint as bp\n",
    "pipe = bp.from_pkl(\"modelled_pipe.pkl\")\n",
    "type(pipe)"
   ]
  },
  {
   "cell_type": "code",
   "execution_count": 14,
   "metadata": {},
   "outputs": [],
   "source": [
    "processed_df = pipe.apply(\n",
    "    pl.scan_csv(\"../data/advertising.csv\")\n",
    "    , collect = True\n",
    ")"
   ]
  },
  {
   "cell_type": "code",
   "execution_count": 15,
   "metadata": {},
   "outputs": [
    {
     "data": {
      "text/html": [
       "<div><style>\n",
       ".dataframe > thead > tr > th,\n",
       ".dataframe > tbody > tr > td {\n",
       "  text-align: right;\n",
       "}\n",
       "</style>\n",
       "<small>shape: (897, 5)</small><table border=\"1\" class=\"dataframe\"><thead><tr><th>Daily Internet Usage</th><th>Daily Internet Usage Logistic Score</th><th>Daily Internet Usage Band</th><th>Clicked on Ad</th><th>model_score</th></tr><tr><td>f64</td><td>f64</td><td>f64</td><td>i64</td><td>f64</td></tr></thead><tbody><tr><td>256.09</td><td>1.0</td><td>12.0</td><td>0</td><td>0.069359</td></tr><tr><td>193.77</td><td>0.042493</td><td>9.0</td><td>0</td><td>0.304376</td></tr><tr><td>225.58</td><td>0.999997</td><td>11.0</td><td>0</td><td>0.064493</td></tr><tr><td>208.36</td><td>0.984932</td><td>10.0</td><td>0</td><td>0.107543</td></tr><tr><td>131.76</td><td>1.5201e-15</td><td>6.0</td><td>1</td><td>0.998192</td></tr><tr><td>122.02</td><td>1.1664e-17</td><td>6.0</td><td>1</td><td>0.998192</td></tr><tr><td>230.87</td><td>1.0</td><td>11.0</td><td>0</td><td>0.032974</td></tr><tr><td>113.12</td><td>1.3622e-19</td><td>5.0</td><td>1</td><td>0.998192</td></tr><tr><td>143.56</td><td>5.5489e-13</td><td>7.0</td><td>1</td><td>0.983747</td></tr><tr><td>129.41</td><td>4.6944e-16</td><td>6.0</td><td>1</td><td>0.998192</td></tr><tr><td>162.43</td><td>6.9467e-9</td><td>8.0</td><td>0</td><td>0.752756</td></tr><tr><td>118.39</td><td>1.8994e-18</td><td>5.0</td><td>1</td><td>0.998192</td></tr><tr><td>&hellip;</td><td>&hellip;</td><td>&hellip;</td><td>&hellip;</td><td>&hellip;</td></tr><tr><td>224.063832</td><td>0.999994</td><td>11.0</td><td>0</td><td>0.031701</td></tr><tr><td>195.680496</td><td>0.103423</td><td>9.0</td><td>1</td><td>0.36029</td></tr><tr><td>132.558549</td><td>2.2661e-15</td><td>6.0</td><td>1</td><td>0.998192</td></tr><tr><td>224.068964</td><td>0.999994</td><td>11.0</td><td>0</td><td>0.031701</td></tr><tr><td>234.636151</td><td>1.0</td><td>11.0</td><td>0</td><td>0.032974</td></tr><tr><td>153.98197</td><td>1.0170e-10</td><td>7.0</td><td>1</td><td>0.951094</td></tr><tr><td>115.340146</td><td>4.1338e-19</td><td>5.0</td><td>1</td><td>0.998192</td></tr><tr><td>188.26556</td><td>0.002823</td><td>9.0</td><td>0</td><td>0.245292</td></tr><tr><td>216.574061</td><td>0.999748</td><td>10.0</td><td>0</td><td>0.070962</td></tr><tr><td>123.132675</td><td>2.0346e-17</td><td>6.0</td><td>1</td><td>0.998192</td></tr><tr><td>184.989636</td><td>0.00055</td><td>9.0</td><td>0</td><td>0.245292</td></tr><tr><td>110.682407</td><td>4.0265e-20</td><td>5.0</td><td>1</td><td>0.998192</td></tr></tbody></table></div>"
      ],
      "text/plain": [
       "shape: (897, 5)\n",
       "┌──────────────────────┬──────────────────────┬──────────────────────┬───────────────┬─────────────┐\n",
       "│ Daily Internet Usage ┆ Daily Internet Usage ┆ Daily Internet Usage ┆ Clicked on Ad ┆ model_score │\n",
       "│ ---                  ┆ Logistic Sc…         ┆ Band                 ┆ ---           ┆ ---         │\n",
       "│ f64                  ┆ ---                  ┆ ---                  ┆ i64           ┆ f64         │\n",
       "│                      ┆ f64                  ┆ f64                  ┆               ┆             │\n",
       "╞══════════════════════╪══════════════════════╪══════════════════════╪═══════════════╪═════════════╡\n",
       "│ 256.09               ┆ 1.0                  ┆ 12.0                 ┆ 0             ┆ 0.069359    │\n",
       "│ 193.77               ┆ 0.042493             ┆ 9.0                  ┆ 0             ┆ 0.304376    │\n",
       "│ 225.58               ┆ 0.999997             ┆ 11.0                 ┆ 0             ┆ 0.064493    │\n",
       "│ 208.36               ┆ 0.984932             ┆ 10.0                 ┆ 0             ┆ 0.107543    │\n",
       "│ …                    ┆ …                    ┆ …                    ┆ …             ┆ …           │\n",
       "│ 216.574061           ┆ 0.999748             ┆ 10.0                 ┆ 0             ┆ 0.070962    │\n",
       "│ 123.132675           ┆ 2.0346e-17           ┆ 6.0                  ┆ 1             ┆ 0.998192    │\n",
       "│ 184.989636           ┆ 0.00055              ┆ 9.0                  ┆ 0             ┆ 0.245292    │\n",
       "│ 110.682407           ┆ 4.0265e-20           ┆ 5.0                  ┆ 1             ┆ 0.998192    │\n",
       "└──────────────────────┴──────────────────────┴──────────────────────┴───────────────┴─────────────┘"
      ]
     },
     "execution_count": 15,
     "metadata": {},
     "output_type": "execute_result"
    }
   ],
   "source": [
    "processed_df"
   ]
  }
 ],
 "metadata": {
  "kernelspec": {
   "display_name": "my_py11",
   "language": "python",
   "name": "python3"
  },
  "language_info": {
   "codemirror_mode": {
    "name": "ipython",
    "version": 3
   },
   "file_extension": ".py",
   "mimetype": "text/x-python",
   "name": "python",
   "nbconvert_exporter": "python",
   "pygments_lexer": "ipython3",
   "version": "3.11.3"
  },
  "orig_nbformat": 4
 },
 "nbformat": 4,
 "nbformat_minor": 2
}
