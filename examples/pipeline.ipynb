{
 "cells": [
  {
   "cell_type": "code",
   "execution_count": 1,
   "metadata": {},
   "outputs": [],
   "source": [
    "import dsds.prescreen as ps\n",
    "import dsds.transform as t\n",
    "import dsds.sample as sa\n",
    "import dsds.fs as fs \n",
    "import polars as pl"
   ]
  },
  {
   "cell_type": "code",
   "execution_count": 2,
   "metadata": {},
   "outputs": [],
   "source": [
    "df = pl.scan_csv(\"../data/advertising.csv\").sort(by=\"id\")"
   ]
  },
  {
   "cell_type": "code",
   "execution_count": 3,
   "metadata": {},
   "outputs": [
    {
     "data": {
      "text/html": [
       "<div><style>\n",
       ".dataframe > thead > tr > th,\n",
       ".dataframe > tbody > tr > td {\n",
       "  text-align: right;\n",
       "}\n",
       "</style>\n",
       "<small>shape: (10, 19)</small><table border=\"1\" class=\"dataframe\"><thead><tr><th>id</th><th>Daily Time Spent on Site</th><th>Age</th><th>Area Income</th><th>Daily Internet Usage</th><th>Ad Topic Line</th><th>City</th><th>Male</th><th>Country</th><th>Timestamp</th><th>Clicked on Ad</th><th>One_Hot_Test</th><th>Age Band</th><th>Daily Internet Usage Band</th><th>Area Income Band</th><th>Test_Constant</th><th>Test_Str_Constant</th><th>Test_BadColumn</th><th>Test_Binary</th></tr><tr><td>i64</td><td>f64</td><td>i64</td><td>f64</td><td>f64</td><td>str</td><td>str</td><td>i64</td><td>str</td><td>str</td><td>i64</td><td>str</td><td>i64</td><td>i64</td><td>i64</td><td>i64</td><td>str</td><td>i64</td><td>str</td></tr></thead><tbody><tr><td>1</td><td>68.95</td><td>35</td><td>61833.9</td><td>256.09</td><td>&quot;Cloned 5thgene…</td><td>&quot;Wrightburgh&quot;</td><td>0</td><td>&quot;Tunisia&quot;</td><td>&quot;3/27/2016 0:53…</td><td>0</td><td>&quot;A&quot;</td><td>30</td><td>12</td><td>12</td><td>1</td><td>&quot;SSS&quot;</td><td>0</td><td>&quot;A&quot;</td></tr><tr><td>2</td><td>80.23</td><td>31</td><td>68441.85</td><td>193.77</td><td>&quot;Monitored nati…</td><td>&quot;West Jodi&quot;</td><td>1</td><td>&quot;Nauru&quot;</td><td>&quot;4/4/2016 1:39&quot;</td><td>0</td><td>&quot;B&quot;</td><td>30</td><td>9</td><td>13</td><td>1</td><td>&quot;SSS&quot;</td><td>null</td><td>&quot;B&quot;</td></tr><tr><td>3</td><td>69.47</td><td>26</td><td>59785.94</td><td>236.5</td><td>&quot;Organic bottom…</td><td>&quot;Davidton&quot;</td><td>0</td><td>&quot;San Marino&quot;</td><td>&quot;3/13/2016 20:3…</td><td>0</td><td>&quot;A&quot;</td><td>20</td><td>11</td><td>11</td><td>1</td><td>&quot;SSS&quot;</td><td>0</td><td>&quot;A&quot;</td></tr><tr><td>4</td><td>74.15</td><td>29</td><td>54806.18</td><td>245.89</td><td>&quot;Triple-buffere…</td><td>&quot;West Terrifurt…</td><td>1</td><td>&quot;Italy&quot;</td><td>&quot;1/10/2016 2:31…</td><td>0</td><td>&quot;B&quot;</td><td>20</td><td>12</td><td>10</td><td>1</td><td>&quot;SSS&quot;</td><td>null</td><td>&quot;B&quot;</td></tr><tr><td>5</td><td>68.37</td><td>35</td><td>73889.99</td><td>225.58</td><td>&quot;Robust logisti…</td><td>&quot;South Manuel&quot;</td><td>0</td><td>&quot;Iceland&quot;</td><td>&quot;6/3/2016 3:36&quot;</td><td>0</td><td>&quot;A&quot;</td><td>30</td><td>11</td><td>14</td><td>1</td><td>&quot;SSS&quot;</td><td>0</td><td>&quot;A&quot;</td></tr><tr><td>6</td><td>59.99</td><td>23</td><td>59761.56</td><td>226.74</td><td>&quot;Sharable clien…</td><td>&quot;Jamieberg&quot;</td><td>1</td><td>&quot;Norway&quot;</td><td>&quot;5/19/2016 14:3…</td><td>0</td><td>&quot;B&quot;</td><td>20</td><td>11</td><td>11</td><td>1</td><td>&quot;SSS&quot;</td><td>null</td><td>&quot;B&quot;</td></tr><tr><td>7</td><td>88.91</td><td>33</td><td>null</td><td>208.36</td><td>&quot;Enhanced dedic…</td><td>&quot;Brandonstad&quot;</td><td>0</td><td>&quot;Myanmar&quot;</td><td>&quot;1/28/2016 20:5…</td><td>0</td><td>&quot;A&quot;</td><td>30</td><td>10</td><td>null</td><td>1</td><td>&quot;SSS&quot;</td><td>0</td><td>&quot;A&quot;</td></tr><tr><td>8</td><td>66.0</td><td>48</td><td>24593.33</td><td>131.76</td><td>&quot;Reactive local…</td><td>&quot;Port Jefferybu…</td><td>1</td><td>&quot;Australia&quot;</td><td>&quot;3/7/2016 1:40&quot;</td><td>1</td><td>&quot;A&quot;</td><td>40</td><td>6</td><td>4</td><td>1</td><td>&quot;SSS&quot;</td><td>null</td><td>&quot;B&quot;</td></tr><tr><td>9</td><td>74.53</td><td>30</td><td>68862.0</td><td>221.51</td><td>&quot;Configurable c…</td><td>&quot;West Colin&quot;</td><td>1</td><td>&quot;Grenada&quot;</td><td>&quot;4/18/2016 9:33…</td><td>0</td><td>&quot;A&quot;</td><td>30</td><td>11</td><td>13</td><td>1</td><td>&quot;SSS&quot;</td><td>null</td><td>&quot;B&quot;</td></tr><tr><td>10</td><td>69.88</td><td>20</td><td>55642.32</td><td>183.82</td><td>&quot;Mandatory homo…</td><td>&quot;Ramirezton&quot;</td><td>1</td><td>&quot;Ghana&quot;</td><td>&quot;7/11/2016 1:42…</td><td>0</td><td>&quot;A&quot;</td><td>20</td><td>9</td><td>11</td><td>1</td><td>&quot;SSS&quot;</td><td>null</td><td>&quot;B&quot;</td></tr></tbody></table></div>"
      ],
      "text/plain": [
       "shape: (10, 19)\n",
       "┌─────┬────────────┬─────┬───────────────┬───┬────────────┬────────────┬────────────┬──────────────┐\n",
       "│ id  ┆ Daily Time ┆ Age ┆ Area Income   ┆ … ┆ Test_Const ┆ Test_Str_C ┆ Test_BadCo ┆ Test_Binary  │\n",
       "│ --- ┆ Spent on   ┆ --- ┆ ---           ┆   ┆ ant        ┆ onstant    ┆ lumn       ┆ ---          │\n",
       "│ i64 ┆ Site       ┆ i64 ┆ f64           ┆   ┆ ---        ┆ ---        ┆ ---        ┆ str          │\n",
       "│     ┆ ---        ┆     ┆               ┆   ┆ i64        ┆ str        ┆ i64        ┆              │\n",
       "│     ┆ f64        ┆     ┆               ┆   ┆            ┆            ┆            ┆              │\n",
       "╞═════╪════════════╪═════╪═══════════════╪═══╪════════════╪════════════╪════════════╪══════════════╡\n",
       "│ 1   ┆ 68.95      ┆ 35  ┆ 61833.9       ┆ … ┆ 1          ┆ SSS        ┆ 0          ┆ A            │\n",
       "│ 2   ┆ 80.23      ┆ 31  ┆ 68441.85      ┆ … ┆ 1          ┆ SSS        ┆ null       ┆ B            │\n",
       "│ 3   ┆ 69.47      ┆ 26  ┆ 59785.94      ┆ … ┆ 1          ┆ SSS        ┆ 0          ┆ A            │\n",
       "│ 4   ┆ 74.15      ┆ 29  ┆ 54806.18      ┆ … ┆ 1          ┆ SSS        ┆ null       ┆ B            │\n",
       "│ …   ┆ …          ┆ …   ┆ …             ┆ … ┆ …          ┆ …          ┆ …          ┆ …            │\n",
       "│ 7   ┆ 88.91      ┆ 33  ┆ null          ┆ … ┆ 1          ┆ SSS        ┆ 0          ┆ A            │\n",
       "│ 8   ┆ 66.0       ┆ 48  ┆ 24593.33      ┆ … ┆ 1          ┆ SSS        ┆ null       ┆ B            │\n",
       "│ 9   ┆ 74.53      ┆ 30  ┆ 68862.0       ┆ … ┆ 1          ┆ SSS        ┆ null       ┆ B            │\n",
       "│ 10  ┆ 69.88      ┆ 20  ┆ 55642.32      ┆ … ┆ 1          ┆ SSS        ┆ null       ┆ B            │\n",
       "└─────┴────────────┴─────┴───────────────┴───┴────────────┴────────────┴────────────┴──────────────┘"
      ]
     },
     "execution_count": 3,
     "metadata": {},
     "output_type": "execute_result"
    }
   ],
   "source": [
    "df.limit(10).collect()"
   ]
  },
  {
   "cell_type": "code",
   "execution_count": 4,
   "metadata": {},
   "outputs": [
    {
     "name": "stderr",
     "output_type": "stream",
     "text": [
      "INFO:dsds.prescreen:The following columns are dropped because they have lower than 0.5 variance. ['Male', 'Test_Constant', 'Test_BadColumn'].\n",
      "Removed a total of 3 columns.\n",
      "INFO:dsds.prescreen:The following columns are dropped. ['Ad Topic Line', 'Timestamp'].\n",
      "Removed a total of 2 columns.\n",
      "Mutual Info: 100%|██████████| 14/14 [00:00<00:00, 152.05it/s]"
     ]
    },
    {
     "name": "stdout",
     "output_type": "stream",
     "text": [
      "Selected 12 features. There are 2 columns the algorithm cannot process. They are also returned.\n"
     ]
    },
    {
     "name": "stderr",
     "output_type": "stream",
     "text": [
      "\n"
     ]
    }
   ],
   "source": [
    "input_df = df.lazy()\n",
    "output = input_df.pipe(ps.var_removal, threshold = 0.5, target = \"Clicked on Ad\")\\\n",
    "    .pipe(t.binary_encode)\\\n",
    "    .pipe(t.ordinal_auto_encode, cols = [\"City\", \"Country\"])\\\n",
    "    .pipe(t.impute, cols=[\"Daily Internet Usage\", \"Daily Internet Usage Band\", \"Area Income Band\"], strategy=\"median\")\\\n",
    "    .pipe(t.impute, cols=[\"Area Income\"], strategy = \"mean\")\\\n",
    "    .pipe(t.scale, cols=[\"Area Income\", \"Daily Internet Usage\"])\\\n",
    "    .pipe(t.one_hot_encode, cols= [\"One_Hot_Test\"])\\\n",
    "    .pipe(ps.remove_if_exists, cols = [\"Ad Topic Line\", \"Timestamp\"])\\\n",
    "    .pipe(fs.mutual_info_selector, target = \"Clicked on Ad\", top_k = 12)\n"
   ]
  },
  {
   "cell_type": "code",
   "execution_count": 5,
   "metadata": {},
   "outputs": [
    {
     "data": {
      "text/html": [
       "<div><style>\n",
       ".dataframe > thead > tr > th,\n",
       ".dataframe > tbody > tr > td {\n",
       "  text-align: right;\n",
       "}\n",
       "</style>\n",
       "<small>shape: (100, 14)</small><table border=\"1\" class=\"dataframe\"><thead><tr><th>Daily Internet Usage</th><th>Daily Internet Usage Band</th><th>Daily Time Spent on Site</th><th>Age</th><th>Age Band</th><th>Area Income</th><th>Area Income Band</th><th>One_Hot_Test_A</th><th>id</th><th>City</th><th>Country</th><th>Test_Binary_B</th><th>Clicked on Ad</th><th>Test_Str_Constant</th></tr><tr><td>f64</td><td>f64</td><td>f64</td><td>i64</td><td>i64</td><td>f64</td><td>f64</td><td>u8</td><td>i64</td><td>i64</td><td>i64</td><td>u8</td><td>i64</td><td>str</td></tr></thead><tbody><tr><td>1.74127</td><td>12.0</td><td>68.95</td><td>35</td><td>30</td><td>0.511893</td><td>12.0</td><td>1</td><td>1</td><td>961</td><td>215</td><td>0</td><td>0</td><td>&quot;SSS&quot;</td></tr><tr><td>0.313948</td><td>9.0</td><td>80.23</td><td>31</td><td>30</td><td>1.005471</td><td>13.0</td><td>0</td><td>2</td><td>903</td><td>147</td><td>1</td><td>0</td><td>&quot;SSS&quot;</td></tr><tr><td>1.292598</td><td>11.0</td><td>69.47</td><td>26</td><td>20</td><td>0.358921</td><td>11.0</td><td>1</td><td>3</td><td>111</td><td>184</td><td>0</td><td>0</td><td>&quot;SSS&quot;</td></tr><tr><td>1.507658</td><td>12.0</td><td>74.15</td><td>29</td><td>20</td><td>-0.01304</td><td>10.0</td><td>0</td><td>4</td><td>939</td><td>103</td><td>1</td><td>0</td><td>&quot;SSS&quot;</td></tr><tr><td>1.042496</td><td>11.0</td><td>68.37</td><td>35</td><td>30</td><td>1.412418</td><td>14.0</td><td>1</td><td>5</td><td>805</td><td>96</td><td>0</td><td>0</td><td>&quot;SSS&quot;</td></tr><tr><td>1.069064</td><td>11.0</td><td>59.99</td><td>23</td><td>20</td><td>0.3571</td><td>11.0</td><td>0</td><td>6</td><td>282</td><td>158</td><td>1</td><td>0</td><td>&quot;SSS&quot;</td></tr><tr><td>0.648105</td><td>10.0</td><td>88.91</td><td>33</td><td>30</td><td>-1.0869e-15</td><td>11.0</td><td>1</td><td>7</td><td>46</td><td>145</td><td>0</td><td>0</td><td>&quot;SSS&quot;</td></tr><tr><td>-1.106273</td><td>6.0</td><td>66.0</td><td>48</td><td>40</td><td>-2.269777</td><td>4.0</td><td>1</td><td>8</td><td>671</td><td>12</td><td>1</td><td>1</td><td>&quot;SSS&quot;</td></tr><tr><td>0.94928</td><td>11.0</td><td>74.53</td><td>30</td><td>30</td><td>1.036854</td><td>13.0</td><td>1</td><td>9</td><td>884</td><td>82</td><td>1</td><td>0</td><td>&quot;SSS&quot;</td></tr><tr><td>0.086062</td><td>9.0</td><td>69.88</td><td>20</td><td>20</td><td>0.049415</td><td>11.0</td><td>1</td><td>10</td><td>712</td><td>78</td><td>1</td><td>0</td><td>&quot;SSS&quot;</td></tr><tr><td>-1.32935</td><td>6.0</td><td>47.64</td><td>49</td><td>40</td><td>-0.698264</td><td>9.0</td><td>0</td><td>11</td><td>878</td><td>171</td><td>0</td><td>1</td><td>&quot;SSS&quot;</td></tr><tr><td>1.163653</td><td>11.0</td><td>83.07</td><td>37</td><td>30</td><td>-1.0869e-15</td><td>11.0</td><td>1</td><td>12</td><td>180</td><td>34</td><td>1</td><td>0</td><td>&quot;SSS&quot;</td></tr><tr><td>&hellip;</td><td>&hellip;</td><td>&hellip;</td><td>&hellip;</td><td>&hellip;</td><td>&hellip;</td><td>&hellip;</td><td>&hellip;</td><td>&hellip;</td><td>&hellip;</td><td>&hellip;</td><td>&hellip;</td><td>&hellip;</td><td>&hellip;</td></tr><tr><td>-1.625945</td><td>5.0</td><td>57.7</td><td>34</td><td>30</td><td>-0.917555</td><td>8.0</td><td>1</td><td>89</td><td>537</td><td>12</td><td>0</td><td>1</td><td>&quot;SSS&quot;</td></tr><tr><td>-1.620906</td><td>5.0</td><td>56.89</td><td>37</td><td>30</td><td>-1.31806</td><td>7.0</td><td>1</td><td>90</td><td>479</td><td>232</td><td>1</td><td>1</td><td>&quot;SSS&quot;</td></tr><tr><td>-0.955342</td><td>6.0</td><td>69.9</td><td>43</td><td>40</td><td>1.225871</td><td>14.0</td><td>1</td><td>91</td><td>85</td><td>106</td><td>0</td><td>1</td><td>&quot;SSS&quot;</td></tr><tr><td>-0.696079</td><td>7.0</td><td>55.79</td><td>24</td><td>20</td><td>0.341302</td><td>11.0</td><td>1</td><td>92</td><td>697</td><td>170</td><td>0</td><td>1</td><td>&quot;SSS&quot;</td></tr><tr><td>1.091509</td><td>11.0</td><td>70.03</td><td>26</td><td>20</td><td>0.693427</td><td>12.0</td><td>1</td><td>93</td><td>39</td><td>183</td><td>1</td><td>0</td><td>&quot;SSS&quot;</td></tr><tr><td>-1.241631</td><td>6.0</td><td>50.08</td><td>40</td><td>40</td><td>0.684733</td><td>12.0</td><td>1</td><td>94</td><td>947</td><td>80</td><td>1</td><td>1</td><td>&quot;SSS&quot;</td></tr><tr><td>-0.315429</td><td>8.0</td><td>43.67</td><td>31</td><td>30</td><td>-2.188135</td><td>5.0</td><td>1</td><td>95</td><td>534</td><td>7</td><td>1</td><td>1</td><td>&quot;SSS&quot;</td></tr><tr><td>1.341382</td><td>11.0</td><td>72.84</td><td>26</td><td>20</td><td>-0.150326</td><td>10.0</td><td>1</td><td>96</td><td>960</td><td>1</td><td>0</td><td>0</td><td>&quot;SSS&quot;</td></tr><tr><td>-0.59645</td><td>7.0</td><td>45.72</td><td>36</td><td>30</td><td>-2.428149</td><td>4.0</td><td>1</td><td>97</td><td>950</td><td>94</td><td>1</td><td>1</td><td>&quot;SSS&quot;</td></tr><tr><td>-0.544231</td><td>7.0</td><td>39.94</td><td>41</td><td>40</td><td>0.742945</td><td>12.0</td><td>1</td><td>98</td><td>952</td><td>121</td><td>0</td><td>1</td><td>&quot;SSS&quot;</td></tr><tr><td>-0.500257</td><td>7.0</td><td>35.61</td><td>46</td><td>40</td><td>-0.232443</td><td>10.0</td><td>1</td><td>99</td><td>593</td><td>60</td><td>0</td><td>1</td><td>&quot;SSS&quot;</td></tr><tr><td>0.723456</td><td>10.0</td><td>79.71</td><td>34</td><td>30</td><td>1.081285</td><td>13.0</td><td>1</td><td>100</td><td>30</td><td>17</td><td>1</td><td>0</td><td>&quot;SSS&quot;</td></tr></tbody></table></div>"
      ],
      "text/plain": [
       "shape: (100, 14)\n",
       "┌────────────┬────────────┬────────────┬─────┬───┬─────────┬────────────┬────────────┬────────────┐\n",
       "│ Daily      ┆ Daily      ┆ Daily Time ┆ Age ┆ … ┆ Country ┆ Test_Binar ┆ Clicked on ┆ Test_Str_C │\n",
       "│ Internet   ┆ Internet   ┆ Spent on   ┆ --- ┆   ┆ ---     ┆ y_B        ┆ Ad         ┆ onstant    │\n",
       "│ Usage      ┆ Usage Band ┆ Site       ┆ i64 ┆   ┆ i64     ┆ ---        ┆ ---        ┆ ---        │\n",
       "│ ---        ┆ ---        ┆ ---        ┆     ┆   ┆         ┆ u8         ┆ i64        ┆ str        │\n",
       "│ f64        ┆ f64        ┆ f64        ┆     ┆   ┆         ┆            ┆            ┆            │\n",
       "╞════════════╪════════════╪════════════╪═════╪═══╪═════════╪════════════╪════════════╪════════════╡\n",
       "│ 1.74127    ┆ 12.0       ┆ 68.95      ┆ 35  ┆ … ┆ 215     ┆ 0          ┆ 0          ┆ SSS        │\n",
       "│ 0.313948   ┆ 9.0        ┆ 80.23      ┆ 31  ┆ … ┆ 147     ┆ 1          ┆ 0          ┆ SSS        │\n",
       "│ 1.292598   ┆ 11.0       ┆ 69.47      ┆ 26  ┆ … ┆ 184     ┆ 0          ┆ 0          ┆ SSS        │\n",
       "│ 1.507658   ┆ 12.0       ┆ 74.15      ┆ 29  ┆ … ┆ 103     ┆ 1          ┆ 0          ┆ SSS        │\n",
       "│ …          ┆ …          ┆ …          ┆ …   ┆ … ┆ …       ┆ …          ┆ …          ┆ …          │\n",
       "│ -0.59645   ┆ 7.0        ┆ 45.72      ┆ 36  ┆ … ┆ 94      ┆ 1          ┆ 1          ┆ SSS        │\n",
       "│ -0.544231  ┆ 7.0        ┆ 39.94      ┆ 41  ┆ … ┆ 121     ┆ 0          ┆ 1          ┆ SSS        │\n",
       "│ -0.500257  ┆ 7.0        ┆ 35.61      ┆ 46  ┆ … ┆ 60      ┆ 0          ┆ 1          ┆ SSS        │\n",
       "│ 0.723456   ┆ 10.0       ┆ 79.71      ┆ 34  ┆ … ┆ 17      ┆ 1          ┆ 0          ┆ SSS        │\n",
       "└────────────┴────────────┴────────────┴─────┴───┴─────────┴────────────┴────────────┴────────────┘"
      ]
     },
     "execution_count": 5,
     "metadata": {},
     "output_type": "execute_result"
    }
   ],
   "source": [
    "output.limit(100).collect()"
   ]
  },
  {
   "cell_type": "code",
   "execution_count": 6,
   "metadata": {},
   "outputs": [
    {
     "name": "stdout",
     "output_type": "stream",
     "text": [
      "Step 0 | Action: drop\n",
      "['Male', 'Test_Constant', 'Test_BadColumn']\n",
      "\n",
      "Step 1 | Action: with_columns\n",
      "Details: \n",
      "(1) .when([(col(\"Test_Binary\")) == (Utf8(B))]).then(1.strict_cast(UInt8)).otherwise(0.strict_cast(UInt8)).alias(\"Test_Binary_B\")\n",
      "\n",
      "\n",
      "Step 2 | Action: drop\n",
      "['Test_Binary']\n",
      "\n",
      "Step 3 | Action: map_dict\n",
      "MapDict(left_col='City', ref={'City': shape: (969,)\n",
      "Series: '' [str]\n",
      "[\n",
      "\t\"Adamsbury\"\n",
      "\t\"Adamside\"\n",
      "\t\"Adamsstad\"\n",
      "\t\"Alanview\"\n",
      "\t\"Alexanderfurt\"\n",
      "\t\"Alexanderview\"\n",
      "\t\"Alexandrafort\"\n",
      "\t\"Alexisland\"\n",
      "\t\"Aliciatown\"\n",
      "\t\"Alvaradoport\"\n",
      "\t\"Alvarezland\"\n",
      "\t\"Amandafort\"\n",
      "\t…\n",
      "\t\"Williamsside\"\n",
      "\t\"Williamstad\"\n",
      "\t\"Wilsonburgh\"\n",
      "\t\"Wintersfort\"\n",
      "\t\"Wongland\"\n",
      "\t\"Wrightburgh\"\n",
      "\t\"Wrightview\"\n",
      "\t\"Yangside\"\n",
      "\t\"Youngburgh\"\n",
      "\t\"Youngfort\"\n",
      "\t\"Yuton\"\n",
      "\t\"Zacharystad\"\n",
      "\t\"Zacharyton\"\n",
      "], 'to': [0, 1, 2, 3, 4, 5, 6, 7, 8, 9, 10, 11, 12, 13, 14, 15, 16, 17, 18, 19, 20, 21, 22, 23, 24, 25, 26, 27, 28, 29, 30, 31, 32, 33, 34, 35, 36, 37, 38, 39, 40, 41, 42, 43, 44, 45, 46, 47, 48, 49, 50, 51, 52, 53, 54, 55, 56, 57, 58, 59, 60, 61, 62, 63, 64, 65, 66, 67, 68, 69, 70, 71, 72, 73, 74, 75, 76, 77, 78, 79, 80, 81, 82, 83, 84, 85, 86, 87, 88, 89, 90, 91, 92, 93, 94, 95, 96, 97, 98, 99, 100, 101, 102, 103, 104, 105, 106, 107, 108, 109, 110, 111, 112, 113, 114, 115, 116, 117, 118, 119, 120, 121, 122, 123, 124, 125, 126, 127, 128, 129, 130, 131, 132, 133, 134, 135, 136, 137, 138, 139, 140, 141, 142, 143, 144, 145, 146, 147, 148, 149, 150, 151, 152, 153, 154, 155, 156, 157, 158, 159, 160, 161, 162, 163, 164, 165, 166, 167, 168, 169, 170, 171, 172, 173, 174, 175, 176, 177, 178, 179, 180, 181, 182, 183, 184, 185, 186, 187, 188, 189, 190, 191, 192, 193, 194, 195, 196, 197, 198, 199, 200, 201, 202, 203, 204, 205, 206, 207, 208, 209, 210, 211, 212, 213, 214, 215, 216, 217, 218, 219, 220, 221, 222, 223, 224, 225, 226, 227, 228, 229, 230, 231, 232, 233, 234, 235, 236, 237, 238, 239, 240, 241, 242, 243, 244, 245, 246, 247, 248, 249, 250, 251, 252, 253, 254, 255, 256, 257, 258, 259, 260, 261, 262, 263, 264, 265, 266, 267, 268, 269, 270, 271, 272, 273, 274, 275, 276, 277, 278, 279, 280, 281, 282, 283, 284, 285, 286, 287, 288, 289, 290, 291, 292, 293, 294, 295, 296, 297, 298, 299, 300, 301, 302, 303, 304, 305, 306, 307, 308, 309, 310, 311, 312, 313, 314, 315, 316, 317, 318, 319, 320, 321, 322, 323, 324, 325, 326, 327, 328, 329, 330, 331, 332, 333, 334, 335, 336, 337, 338, 339, 340, 341, 342, 343, 344, 345, 346, 347, 348, 349, 350, 351, 352, 353, 354, 355, 356, 357, 358, 359, 360, 361, 362, 363, 364, 365, 366, 367, 368, 369, 370, 371, 372, 373, 374, 375, 376, 377, 378, 379, 380, 381, 382, 383, 384, 385, 386, 387, 388, 389, 390, 391, 392, 393, 394, 395, 396, 397, 398, 399, 400, 401, 402, 403, 404, 405, 406, 407, 408, 409, 410, 411, 412, 413, 414, 415, 416, 417, 418, 419, 420, 421, 422, 423, 424, 425, 426, 427, 428, 429, 430, 431, 432, 433, 434, 435, 436, 437, 438, 439, 440, 441, 442, 443, 444, 445, 446, 447, 448, 449, 450, 451, 452, 453, 454, 455, 456, 457, 458, 459, 460, 461, 462, 463, 464, 465, 466, 467, 468, 469, 470, 471, 472, 473, 474, 475, 476, 477, 478, 479, 480, 481, 482, 483, 484, 485, 486, 487, 488, 489, 490, 491, 492, 493, 494, 495, 496, 497, 498, 499, 500, 501, 502, 503, 504, 505, 506, 507, 508, 509, 510, 511, 512, 513, 514, 515, 516, 517, 518, 519, 520, 521, 522, 523, 524, 525, 526, 527, 528, 529, 530, 531, 532, 533, 534, 535, 536, 537, 538, 539, 540, 541, 542, 543, 544, 545, 546, 547, 548, 549, 550, 551, 552, 553, 554, 555, 556, 557, 558, 559, 560, 561, 562, 563, 564, 565, 566, 567, 568, 569, 570, 571, 572, 573, 574, 575, 576, 577, 578, 579, 580, 581, 582, 583, 584, 585, 586, 587, 588, 589, 590, 591, 592, 593, 594, 595, 596, 597, 598, 599, 600, 601, 602, 603, 604, 605, 606, 607, 608, 609, 610, 611, 612, 613, 614, 615, 616, 617, 618, 619, 620, 621, 622, 623, 624, 625, 626, 627, 628, 629, 630, 631, 632, 633, 634, 635, 636, 637, 638, 639, 640, 641, 642, 643, 644, 645, 646, 647, 648, 649, 650, 651, 652, 653, 654, 655, 656, 657, 658, 659, 660, 661, 662, 663, 664, 665, 666, 667, 668, 669, 670, 671, 672, 673, 674, 675, 676, 677, 678, 679, 680, 681, 682, 683, 684, 685, 686, 687, 688, 689, 690, 691, 692, 693, 694, 695, 696, 697, 698, 699, 700, 701, 702, 703, 704, 705, 706, 707, 708, 709, 710, 711, 712, 713, 714, 715, 716, 717, 718, 719, 720, 721, 722, 723, 724, 725, 726, 727, 728, 729, 730, 731, 732, 733, 734, 735, 736, 737, 738, 739, 740, 741, 742, 743, 744, 745, 746, 747, 748, 749, 750, 751, 752, 753, 754, 755, 756, 757, 758, 759, 760, 761, 762, 763, 764, 765, 766, 767, 768, 769, 770, 771, 772, 773, 774, 775, 776, 777, 778, 779, 780, 781, 782, 783, 784, 785, 786, 787, 788, 789, 790, 791, 792, 793, 794, 795, 796, 797, 798, 799, 800, 801, 802, 803, 804, 805, 806, 807, 808, 809, 810, 811, 812, 813, 814, 815, 816, 817, 818, 819, 820, 821, 822, 823, 824, 825, 826, 827, 828, 829, 830, 831, 832, 833, 834, 835, 836, 837, 838, 839, 840, 841, 842, 843, 844, 845, 846, 847, 848, 849, 850, 851, 852, 853, 854, 855, 856, 857, 858, 859, 860, 861, 862, 863, 864, 865, 866, 867, 868, 869, 870, 871, 872, 873, 874, 875, 876, 877, 878, 879, 880, 881, 882, 883, 884, 885, 886, 887, 888, 889, 890, 891, 892, 893, 894, 895, 896, 897, 898, 899, 900, 901, 902, 903, 904, 905, 906, 907, 908, 909, 910, 911, 912, 913, 914, 915, 916, 917, 918, 919, 920, 921, 922, 923, 924, 925, 926, 927, 928, 929, 930, 931, 932, 933, 934, 935, 936, 937, 938, 939, 940, 941, 942, 943, 944, 945, 946, 947, 948, 949, 950, 951, 952, 953, 954, 955, 956, 957, 958, 959, 960, 961, 962, 963, 964, 965, 966, 967, 968]}, right_col='to', default=None)\n",
      "\n",
      "Step 4 | Action: map_dict\n",
      "MapDict(left_col='Country', ref={'Country': shape: (237,)\n",
      "Series: '' [str]\n",
      "[\n",
      "\t\"Afghanistan\"\n",
      "\t\"Albania\"\n",
      "\t\"Algeria\"\n",
      "\t\"American Samoa…\n",
      "\t\"Andorra\"\n",
      "\t\"Angola\"\n",
      "\t\"Anguilla\"\n",
      "\t\"Antarctica (th…\n",
      "\t\"Antigua and Ba…\n",
      "\t\"Argentina\"\n",
      "\t\"Armenia\"\n",
      "\t\"Aruba\"\n",
      "\t…\n",
      "\t\"United States …\n",
      "\t\"United States …\n",
      "\t\"United States …\n",
      "\t\"Uruguay\"\n",
      "\t\"Uzbekistan\"\n",
      "\t\"Vanuatu\"\n",
      "\t\"Venezuela\"\n",
      "\t\"Vietnam\"\n",
      "\t\"Wallis and Fut…\n",
      "\t\"Western Sahara…\n",
      "\t\"Yemen\"\n",
      "\t\"Zambia\"\n",
      "\t\"Zimbabwe\"\n",
      "], 'to': [0, 1, 2, 3, 4, 5, 6, 7, 8, 9, 10, 11, 12, 13, 14, 15, 16, 17, 18, 19, 20, 21, 22, 23, 24, 25, 26, 27, 28, 29, 30, 31, 32, 33, 34, 35, 36, 37, 38, 39, 40, 41, 42, 43, 44, 45, 46, 47, 48, 49, 50, 51, 52, 53, 54, 55, 56, 57, 58, 59, 60, 61, 62, 63, 64, 65, 66, 67, 68, 69, 70, 71, 72, 73, 74, 75, 76, 77, 78, 79, 80, 81, 82, 83, 84, 85, 86, 87, 88, 89, 90, 91, 92, 93, 94, 95, 96, 97, 98, 99, 100, 101, 102, 103, 104, 105, 106, 107, 108, 109, 110, 111, 112, 113, 114, 115, 116, 117, 118, 119, 120, 121, 122, 123, 124, 125, 126, 127, 128, 129, 130, 131, 132, 133, 134, 135, 136, 137, 138, 139, 140, 141, 142, 143, 144, 145, 146, 147, 148, 149, 150, 151, 152, 153, 154, 155, 156, 157, 158, 159, 160, 161, 162, 163, 164, 165, 166, 167, 168, 169, 170, 171, 172, 173, 174, 175, 176, 177, 178, 179, 180, 181, 182, 183, 184, 185, 186, 187, 188, 189, 190, 191, 192, 193, 194, 195, 196, 197, 198, 199, 200, 201, 202, 203, 204, 205, 206, 207, 208, 209, 210, 211, 212, 213, 214, 215, 216, 217, 218, 219, 220, 221, 222, 223, 224, 225, 226, 227, 228, 229, 230, 231, 232, 233, 234, 235, 236]}, right_col='to', default=None)\n",
      "\n",
      "Step 5 | Action: with_columns\n",
      "Details: \n",
      "(1) col(\"Daily Internet Usage\").fill_null([183.42])\n",
      "(2) col(\"Daily Internet Usage Band\").fill_null([9.0])\n",
      "(3) col(\"Area Income Band\").fill_null([11.0])\n",
      "\n",
      "\n",
      "Step 6 | Action: with_columns\n",
      "Details: \n",
      "(1) col(\"Area Income\").fill_null([54980.756103])\n",
      "\n",
      "\n",
      "Step 7 | Action: with_columns\n",
      "Details: \n",
      "(1) [([(col(\"Area Income\")) - (54980.756103)]) / (13387.843936)]\n",
      "(2) [([(col(\"Daily Internet Usage\")) - (180.06233)]) / (43.662201)]\n",
      "\n",
      "\n",
      "Step 8 | Action: with_columns\n",
      "Details: \n",
      "(1) .when([(col(\"One_Hot_Test\")) == (Utf8(A))]).then(1.strict_cast(UInt8)).otherwise(0.strict_cast(UInt8)).alias(\"One_Hot_Test_A\")\n",
      "(2) .when([(col(\"One_Hot_Test\")) == (Utf8(B))]).then(1.strict_cast(UInt8)).otherwise(0.strict_cast(UInt8)).alias(\"One_Hot_Test_B\")\n",
      "(3) .when([(col(\"One_Hot_Test\")) == (Utf8(C))]).then(1.strict_cast(UInt8)).otherwise(0.strict_cast(UInt8)).alias(\"One_Hot_Test_C\")\n",
      "\n",
      "\n",
      "Step 9 | Action: drop\n",
      "['One_Hot_Test']\n",
      "\n",
      "Step 10 | Action: drop\n",
      "['Ad Topic Line', 'Timestamp']\n",
      "\n",
      "Step 11 | Action: select\n",
      "['Daily Internet Usage', 'Daily Internet Usage Band', 'Daily Time Spent on Site', 'Age', 'Age Band', 'Area Income', 'Area Income Band', 'One_Hot_Test_A', 'id', 'City', 'Country', 'Test_Binary_B', 'Clicked on Ad', 'Test_Str_Constant']\n",
      "\n",
      "\n"
     ]
    }
   ],
   "source": [
    "output.blueprint"
   ]
  },
  {
   "cell_type": "code",
   "execution_count": 7,
   "metadata": {},
   "outputs": [],
   "source": [
    "output.blueprint.preserve(\"blueprint.pickle\")"
   ]
  },
  {
   "cell_type": "code",
   "execution_count": 8,
   "metadata": {},
   "outputs": [],
   "source": [
    "import pickle\n",
    "f = open(\"blueprint.pickle\", \"rb\")\n",
    "pipeline = pickle.loads(f.read())\n",
    "f.close()\n",
    "# \n",
    "new_lf = pl.scan_csv(\"../data/advertising.csv\").sort(by=\"id\")"
   ]
  },
  {
   "cell_type": "code",
   "execution_count": 9,
   "metadata": {},
   "outputs": [
    {
     "name": "stdout",
     "output_type": "stream",
     "text": [
      "Step 0 | Action: drop\n",
      "['Male', 'Test_Constant', 'Test_BadColumn']\n",
      "\n",
      "Step 1 | Action: with_columns\n",
      "Details: \n",
      "(1) .when([(col(\"Test_Binary\")) == (Utf8(B))]).then(1.strict_cast(UInt8)).otherwise(0.strict_cast(UInt8)).alias(\"Test_Binary_B\")\n",
      "\n",
      "\n",
      "Step 2 | Action: drop\n",
      "['Test_Binary']\n",
      "\n",
      "Step 3 | Action: map_dict\n",
      "MapDict(left_col='City', ref={'City': shape: (969,)\n",
      "Series: '' [str]\n",
      "[\n",
      "\t\"Adamsbury\"\n",
      "\t\"Adamside\"\n",
      "\t\"Adamsstad\"\n",
      "\t\"Alanview\"\n",
      "\t\"Alexanderfurt\"\n",
      "\t\"Alexanderview\"\n",
      "\t\"Alexandrafort\"\n",
      "\t\"Alexisland\"\n",
      "\t\"Aliciatown\"\n",
      "\t\"Alvaradoport\"\n",
      "\t\"Alvarezland\"\n",
      "\t\"Amandafort\"\n",
      "\t…\n",
      "\t\"Williamsside\"\n",
      "\t\"Williamstad\"\n",
      "\t\"Wilsonburgh\"\n",
      "\t\"Wintersfort\"\n",
      "\t\"Wongland\"\n",
      "\t\"Wrightburgh\"\n",
      "\t\"Wrightview\"\n",
      "\t\"Yangside\"\n",
      "\t\"Youngburgh\"\n",
      "\t\"Youngfort\"\n",
      "\t\"Yuton\"\n",
      "\t\"Zacharystad\"\n",
      "\t\"Zacharyton\"\n",
      "], 'to': [0, 1, 2, 3, 4, 5, 6, 7, 8, 9, 10, 11, 12, 13, 14, 15, 16, 17, 18, 19, 20, 21, 22, 23, 24, 25, 26, 27, 28, 29, 30, 31, 32, 33, 34, 35, 36, 37, 38, 39, 40, 41, 42, 43, 44, 45, 46, 47, 48, 49, 50, 51, 52, 53, 54, 55, 56, 57, 58, 59, 60, 61, 62, 63, 64, 65, 66, 67, 68, 69, 70, 71, 72, 73, 74, 75, 76, 77, 78, 79, 80, 81, 82, 83, 84, 85, 86, 87, 88, 89, 90, 91, 92, 93, 94, 95, 96, 97, 98, 99, 100, 101, 102, 103, 104, 105, 106, 107, 108, 109, 110, 111, 112, 113, 114, 115, 116, 117, 118, 119, 120, 121, 122, 123, 124, 125, 126, 127, 128, 129, 130, 131, 132, 133, 134, 135, 136, 137, 138, 139, 140, 141, 142, 143, 144, 145, 146, 147, 148, 149, 150, 151, 152, 153, 154, 155, 156, 157, 158, 159, 160, 161, 162, 163, 164, 165, 166, 167, 168, 169, 170, 171, 172, 173, 174, 175, 176, 177, 178, 179, 180, 181, 182, 183, 184, 185, 186, 187, 188, 189, 190, 191, 192, 193, 194, 195, 196, 197, 198, 199, 200, 201, 202, 203, 204, 205, 206, 207, 208, 209, 210, 211, 212, 213, 214, 215, 216, 217, 218, 219, 220, 221, 222, 223, 224, 225, 226, 227, 228, 229, 230, 231, 232, 233, 234, 235, 236, 237, 238, 239, 240, 241, 242, 243, 244, 245, 246, 247, 248, 249, 250, 251, 252, 253, 254, 255, 256, 257, 258, 259, 260, 261, 262, 263, 264, 265, 266, 267, 268, 269, 270, 271, 272, 273, 274, 275, 276, 277, 278, 279, 280, 281, 282, 283, 284, 285, 286, 287, 288, 289, 290, 291, 292, 293, 294, 295, 296, 297, 298, 299, 300, 301, 302, 303, 304, 305, 306, 307, 308, 309, 310, 311, 312, 313, 314, 315, 316, 317, 318, 319, 320, 321, 322, 323, 324, 325, 326, 327, 328, 329, 330, 331, 332, 333, 334, 335, 336, 337, 338, 339, 340, 341, 342, 343, 344, 345, 346, 347, 348, 349, 350, 351, 352, 353, 354, 355, 356, 357, 358, 359, 360, 361, 362, 363, 364, 365, 366, 367, 368, 369, 370, 371, 372, 373, 374, 375, 376, 377, 378, 379, 380, 381, 382, 383, 384, 385, 386, 387, 388, 389, 390, 391, 392, 393, 394, 395, 396, 397, 398, 399, 400, 401, 402, 403, 404, 405, 406, 407, 408, 409, 410, 411, 412, 413, 414, 415, 416, 417, 418, 419, 420, 421, 422, 423, 424, 425, 426, 427, 428, 429, 430, 431, 432, 433, 434, 435, 436, 437, 438, 439, 440, 441, 442, 443, 444, 445, 446, 447, 448, 449, 450, 451, 452, 453, 454, 455, 456, 457, 458, 459, 460, 461, 462, 463, 464, 465, 466, 467, 468, 469, 470, 471, 472, 473, 474, 475, 476, 477, 478, 479, 480, 481, 482, 483, 484, 485, 486, 487, 488, 489, 490, 491, 492, 493, 494, 495, 496, 497, 498, 499, 500, 501, 502, 503, 504, 505, 506, 507, 508, 509, 510, 511, 512, 513, 514, 515, 516, 517, 518, 519, 520, 521, 522, 523, 524, 525, 526, 527, 528, 529, 530, 531, 532, 533, 534, 535, 536, 537, 538, 539, 540, 541, 542, 543, 544, 545, 546, 547, 548, 549, 550, 551, 552, 553, 554, 555, 556, 557, 558, 559, 560, 561, 562, 563, 564, 565, 566, 567, 568, 569, 570, 571, 572, 573, 574, 575, 576, 577, 578, 579, 580, 581, 582, 583, 584, 585, 586, 587, 588, 589, 590, 591, 592, 593, 594, 595, 596, 597, 598, 599, 600, 601, 602, 603, 604, 605, 606, 607, 608, 609, 610, 611, 612, 613, 614, 615, 616, 617, 618, 619, 620, 621, 622, 623, 624, 625, 626, 627, 628, 629, 630, 631, 632, 633, 634, 635, 636, 637, 638, 639, 640, 641, 642, 643, 644, 645, 646, 647, 648, 649, 650, 651, 652, 653, 654, 655, 656, 657, 658, 659, 660, 661, 662, 663, 664, 665, 666, 667, 668, 669, 670, 671, 672, 673, 674, 675, 676, 677, 678, 679, 680, 681, 682, 683, 684, 685, 686, 687, 688, 689, 690, 691, 692, 693, 694, 695, 696, 697, 698, 699, 700, 701, 702, 703, 704, 705, 706, 707, 708, 709, 710, 711, 712, 713, 714, 715, 716, 717, 718, 719, 720, 721, 722, 723, 724, 725, 726, 727, 728, 729, 730, 731, 732, 733, 734, 735, 736, 737, 738, 739, 740, 741, 742, 743, 744, 745, 746, 747, 748, 749, 750, 751, 752, 753, 754, 755, 756, 757, 758, 759, 760, 761, 762, 763, 764, 765, 766, 767, 768, 769, 770, 771, 772, 773, 774, 775, 776, 777, 778, 779, 780, 781, 782, 783, 784, 785, 786, 787, 788, 789, 790, 791, 792, 793, 794, 795, 796, 797, 798, 799, 800, 801, 802, 803, 804, 805, 806, 807, 808, 809, 810, 811, 812, 813, 814, 815, 816, 817, 818, 819, 820, 821, 822, 823, 824, 825, 826, 827, 828, 829, 830, 831, 832, 833, 834, 835, 836, 837, 838, 839, 840, 841, 842, 843, 844, 845, 846, 847, 848, 849, 850, 851, 852, 853, 854, 855, 856, 857, 858, 859, 860, 861, 862, 863, 864, 865, 866, 867, 868, 869, 870, 871, 872, 873, 874, 875, 876, 877, 878, 879, 880, 881, 882, 883, 884, 885, 886, 887, 888, 889, 890, 891, 892, 893, 894, 895, 896, 897, 898, 899, 900, 901, 902, 903, 904, 905, 906, 907, 908, 909, 910, 911, 912, 913, 914, 915, 916, 917, 918, 919, 920, 921, 922, 923, 924, 925, 926, 927, 928, 929, 930, 931, 932, 933, 934, 935, 936, 937, 938, 939, 940, 941, 942, 943, 944, 945, 946, 947, 948, 949, 950, 951, 952, 953, 954, 955, 956, 957, 958, 959, 960, 961, 962, 963, 964, 965, 966, 967, 968]}, right_col='to', default=None)\n",
      "\n",
      "Step 4 | Action: map_dict\n",
      "MapDict(left_col='Country', ref={'Country': shape: (237,)\n",
      "Series: '' [str]\n",
      "[\n",
      "\t\"Afghanistan\"\n",
      "\t\"Albania\"\n",
      "\t\"Algeria\"\n",
      "\t\"American Samoa…\n",
      "\t\"Andorra\"\n",
      "\t\"Angola\"\n",
      "\t\"Anguilla\"\n",
      "\t\"Antarctica (th…\n",
      "\t\"Antigua and Ba…\n",
      "\t\"Argentina\"\n",
      "\t\"Armenia\"\n",
      "\t\"Aruba\"\n",
      "\t…\n",
      "\t\"United States …\n",
      "\t\"United States …\n",
      "\t\"United States …\n",
      "\t\"Uruguay\"\n",
      "\t\"Uzbekistan\"\n",
      "\t\"Vanuatu\"\n",
      "\t\"Venezuela\"\n",
      "\t\"Vietnam\"\n",
      "\t\"Wallis and Fut…\n",
      "\t\"Western Sahara…\n",
      "\t\"Yemen\"\n",
      "\t\"Zambia\"\n",
      "\t\"Zimbabwe\"\n",
      "], 'to': [0, 1, 2, 3, 4, 5, 6, 7, 8, 9, 10, 11, 12, 13, 14, 15, 16, 17, 18, 19, 20, 21, 22, 23, 24, 25, 26, 27, 28, 29, 30, 31, 32, 33, 34, 35, 36, 37, 38, 39, 40, 41, 42, 43, 44, 45, 46, 47, 48, 49, 50, 51, 52, 53, 54, 55, 56, 57, 58, 59, 60, 61, 62, 63, 64, 65, 66, 67, 68, 69, 70, 71, 72, 73, 74, 75, 76, 77, 78, 79, 80, 81, 82, 83, 84, 85, 86, 87, 88, 89, 90, 91, 92, 93, 94, 95, 96, 97, 98, 99, 100, 101, 102, 103, 104, 105, 106, 107, 108, 109, 110, 111, 112, 113, 114, 115, 116, 117, 118, 119, 120, 121, 122, 123, 124, 125, 126, 127, 128, 129, 130, 131, 132, 133, 134, 135, 136, 137, 138, 139, 140, 141, 142, 143, 144, 145, 146, 147, 148, 149, 150, 151, 152, 153, 154, 155, 156, 157, 158, 159, 160, 161, 162, 163, 164, 165, 166, 167, 168, 169, 170, 171, 172, 173, 174, 175, 176, 177, 178, 179, 180, 181, 182, 183, 184, 185, 186, 187, 188, 189, 190, 191, 192, 193, 194, 195, 196, 197, 198, 199, 200, 201, 202, 203, 204, 205, 206, 207, 208, 209, 210, 211, 212, 213, 214, 215, 216, 217, 218, 219, 220, 221, 222, 223, 224, 225, 226, 227, 228, 229, 230, 231, 232, 233, 234, 235, 236]}, right_col='to', default=None)\n",
      "\n",
      "Step 5 | Action: with_columns\n",
      "Details: \n",
      "(1) col(\"Daily Internet Usage\").fill_null([183.42])\n",
      "(2) col(\"Daily Internet Usage Band\").fill_null([9.0])\n",
      "(3) col(\"Area Income Band\").fill_null([11.0])\n",
      "\n",
      "\n",
      "Step 6 | Action: with_columns\n",
      "Details: \n",
      "(1) col(\"Area Income\").fill_null([54980.756103])\n",
      "\n",
      "\n",
      "Step 7 | Action: with_columns\n",
      "Details: \n",
      "(1) [([(col(\"Area Income\")) - (54980.756103)]) / (13387.843936)]\n",
      "(2) [([(col(\"Daily Internet Usage\")) - (180.06233)]) / (43.662201)]\n",
      "\n",
      "\n",
      "Step 8 | Action: with_columns\n",
      "Details: \n",
      "(1) .when([(col(\"One_Hot_Test\")) == (Utf8(A))]).then(1.strict_cast(UInt8)).otherwise(0.strict_cast(UInt8)).alias(\"One_Hot_Test_A\")\n",
      "(2) .when([(col(\"One_Hot_Test\")) == (Utf8(B))]).then(1.strict_cast(UInt8)).otherwise(0.strict_cast(UInt8)).alias(\"One_Hot_Test_B\")\n",
      "(3) .when([(col(\"One_Hot_Test\")) == (Utf8(C))]).then(1.strict_cast(UInt8)).otherwise(0.strict_cast(UInt8)).alias(\"One_Hot_Test_C\")\n",
      "\n",
      "\n",
      "Step 9 | Action: drop\n",
      "['One_Hot_Test']\n",
      "\n",
      "Step 10 | Action: drop\n",
      "['Ad Topic Line', 'Timestamp']\n",
      "\n",
      "Step 11 | Action: select\n",
      "['Daily Internet Usage', 'Daily Internet Usage Band', 'Daily Time Spent on Site', 'Age', 'Age Band', 'Area Income', 'Area Income Band', 'One_Hot_Test_A', 'id', 'City', 'Country', 'Test_Binary_B', 'Clicked on Ad', 'Test_Str_Constant']\n",
      "\n",
      "\n"
     ]
    }
   ],
   "source": [
    "pipeline"
   ]
  },
  {
   "cell_type": "code",
   "execution_count": 10,
   "metadata": {},
   "outputs": [
    {
     "data": {
      "text/html": [
       "<div><style>\n",
       ".dataframe > thead > tr > th,\n",
       ".dataframe > tbody > tr > td {\n",
       "  text-align: right;\n",
       "}\n",
       "</style>\n",
       "<small>shape: (1_000, 14)</small><table border=\"1\" class=\"dataframe\"><thead><tr><th>Daily Internet Usage</th><th>Daily Internet Usage Band</th><th>Daily Time Spent on Site</th><th>Age</th><th>Age Band</th><th>Area Income</th><th>Area Income Band</th><th>One_Hot_Test_A</th><th>id</th><th>City</th><th>Country</th><th>Test_Binary_B</th><th>Clicked on Ad</th><th>Test_Str_Constant</th></tr><tr><td>f64</td><td>f64</td><td>f64</td><td>i64</td><td>i64</td><td>f64</td><td>f64</td><td>u8</td><td>i64</td><td>i64</td><td>i64</td><td>u8</td><td>i64</td><td>str</td></tr></thead><tbody><tr><td>1.74127</td><td>12.0</td><td>68.95</td><td>35</td><td>30</td><td>0.511893</td><td>12.0</td><td>1</td><td>1</td><td>961</td><td>215</td><td>0</td><td>0</td><td>&quot;SSS&quot;</td></tr><tr><td>0.313948</td><td>9.0</td><td>80.23</td><td>31</td><td>30</td><td>1.005471</td><td>13.0</td><td>0</td><td>2</td><td>903</td><td>147</td><td>1</td><td>0</td><td>&quot;SSS&quot;</td></tr><tr><td>1.292598</td><td>11.0</td><td>69.47</td><td>26</td><td>20</td><td>0.358921</td><td>11.0</td><td>1</td><td>3</td><td>111</td><td>184</td><td>0</td><td>0</td><td>&quot;SSS&quot;</td></tr><tr><td>1.507658</td><td>12.0</td><td>74.15</td><td>29</td><td>20</td><td>-0.01304</td><td>10.0</td><td>0</td><td>4</td><td>939</td><td>103</td><td>1</td><td>0</td><td>&quot;SSS&quot;</td></tr><tr><td>1.042496</td><td>11.0</td><td>68.37</td><td>35</td><td>30</td><td>1.412418</td><td>14.0</td><td>1</td><td>5</td><td>805</td><td>96</td><td>0</td><td>0</td><td>&quot;SSS&quot;</td></tr><tr><td>1.069064</td><td>11.0</td><td>59.99</td><td>23</td><td>20</td><td>0.3571</td><td>11.0</td><td>0</td><td>6</td><td>282</td><td>158</td><td>1</td><td>0</td><td>&quot;SSS&quot;</td></tr><tr><td>0.648105</td><td>10.0</td><td>88.91</td><td>33</td><td>30</td><td>-1.0869e-15</td><td>11.0</td><td>1</td><td>7</td><td>46</td><td>145</td><td>0</td><td>0</td><td>&quot;SSS&quot;</td></tr><tr><td>-1.106273</td><td>6.0</td><td>66.0</td><td>48</td><td>40</td><td>-2.269777</td><td>4.0</td><td>1</td><td>8</td><td>671</td><td>12</td><td>1</td><td>1</td><td>&quot;SSS&quot;</td></tr><tr><td>0.94928</td><td>11.0</td><td>74.53</td><td>30</td><td>30</td><td>1.036854</td><td>13.0</td><td>1</td><td>9</td><td>884</td><td>82</td><td>1</td><td>0</td><td>&quot;SSS&quot;</td></tr><tr><td>0.086062</td><td>9.0</td><td>69.88</td><td>20</td><td>20</td><td>0.049415</td><td>11.0</td><td>1</td><td>10</td><td>712</td><td>78</td><td>1</td><td>0</td><td>&quot;SSS&quot;</td></tr><tr><td>-1.32935</td><td>6.0</td><td>47.64</td><td>49</td><td>40</td><td>-0.698264</td><td>9.0</td><td>0</td><td>11</td><td>878</td><td>171</td><td>0</td><td>1</td><td>&quot;SSS&quot;</td></tr><tr><td>1.163653</td><td>11.0</td><td>83.07</td><td>37</td><td>30</td><td>-1.0869e-15</td><td>11.0</td><td>1</td><td>12</td><td>180</td><td>34</td><td>1</td><td>0</td><td>&quot;SSS&quot;</td></tr><tr><td>&hellip;</td><td>&hellip;</td><td>&hellip;</td><td>&hellip;</td><td>&hellip;</td><td>&hellip;</td><td>&hellip;</td><td>&hellip;</td><td>&hellip;</td><td>&hellip;</td><td>&hellip;</td><td>&hellip;</td><td>&hellip;</td><td>&hellip;</td></tr><tr><td>0.557408</td><td>10.0</td><td>89.71</td><td>48</td><td>40</td><td>-0.259891</td><td>10.0</td><td>1</td><td>989</td><td>758</td><td>16</td><td>1</td><td>0</td><td>&quot;SSS&quot;</td></tr><tr><td>1.74837</td><td>12.0</td><td>70.96</td><td>31</td><td>30</td><td>0.015469</td><td>11.0</td><td>0</td><td>990</td><td>787</td><td>181</td><td>0</td><td>0</td><td>&quot;SSS&quot;</td></tr><tr><td>-0.330774</td><td>8.0</td><td>35.79</td><td>44</td><td>40</td><td>-1.581112</td><td>6.0</td><td>1</td><td>991</td><td>580</td><td>213</td><td>1</td><td>1</td><td>&quot;SSS&quot;</td></tr><tr><td>-0.902207</td><td>7.0</td><td>38.96</td><td>38</td><td>30</td><td>-1.380621</td><td>7.0</td><td>1</td><td>992</td><td>444</td><td>46</td><td>1</td><td>1</td><td>&quot;SSS&quot;</td></tr><tr><td>-1.292705</td><td>6.0</td><td>69.17</td><td>40</td><td>40</td><td>0.837555</td><td>13.0</td><td>0</td><td>993</td><td>520</td><td>141</td><td>0</td><td>1</td><td>&quot;SSS&quot;</td></tr><tr><td>1.089447</td><td>11.0</td><td>64.2</td><td>27</td><td>20</td><td>0.838089</td><td>13.0</td><td>1</td><td>994</td><td>191</td><td>101</td><td>1</td><td>0</td><td>&quot;SSS&quot;</td></tr><tr><td>-0.16152</td><td>8.0</td><td>43.7</td><td>28</td><td>20</td><td>0.608478</td><td>12.0</td><td>1</td><td>995</td><td>547</td><td>135</td><td>0</td><td>1</td><td>&quot;SSS&quot;</td></tr><tr><td>0.653143</td><td>10.0</td><td>72.97</td><td>30</td><td>30</td><td>1.225277</td><td>14.0</td><td>1</td><td>996</td><td>126</td><td>116</td><td>1</td><td>1</td><td>&quot;SSS&quot;</td></tr><tr><td>-1.045351</td><td>6.0</td><td>51.3</td><td>45</td><td>40</td><td>0.956197</td><td>13.0</td><td>0</td><td>997</td><td>488</td><td>26</td><td>1</td><td>1</td><td>&quot;SSS&quot;</td></tr><tr><td>-1.36714</td><td>6.0</td><td>51.63</td><td>51</td><td>50</td><td>-0.938541</td><td>8.0</td><td>0</td><td>998</td><td>798</td><td>140</td><td>1</td><td>1</td><td>&quot;SSS&quot;</td></tr><tr><td>0.180652</td><td>9.0</td><td>55.55</td><td>19</td><td>10</td><td>-0.975509</td><td>8.0</td><td>1</td><td>999</td><td>935</td><td>85</td><td>0</td><td>0</td><td>&quot;SSS&quot;</td></tr><tr><td>-0.039218</td><td>8.0</td><td>45.01</td><td>26</td><td>20</td><td>-1.875205</td><td>5.0</td><td>0</td><td>1000</td><td>744</td><td>28</td><td>0</td><td>1</td><td>&quot;SSS&quot;</td></tr></tbody></table></div>"
      ],
      "text/plain": [
       "shape: (1_000, 14)\n",
       "┌────────────┬────────────┬────────────┬─────┬───┬─────────┬────────────┬────────────┬────────────┐\n",
       "│ Daily      ┆ Daily      ┆ Daily Time ┆ Age ┆ … ┆ Country ┆ Test_Binar ┆ Clicked on ┆ Test_Str_C │\n",
       "│ Internet   ┆ Internet   ┆ Spent on   ┆ --- ┆   ┆ ---     ┆ y_B        ┆ Ad         ┆ onstant    │\n",
       "│ Usage      ┆ Usage Band ┆ Site       ┆ i64 ┆   ┆ i64     ┆ ---        ┆ ---        ┆ ---        │\n",
       "│ ---        ┆ ---        ┆ ---        ┆     ┆   ┆         ┆ u8         ┆ i64        ┆ str        │\n",
       "│ f64        ┆ f64        ┆ f64        ┆     ┆   ┆         ┆            ┆            ┆            │\n",
       "╞════════════╪════════════╪════════════╪═════╪═══╪═════════╪════════════╪════════════╪════════════╡\n",
       "│ 1.74127    ┆ 12.0       ┆ 68.95      ┆ 35  ┆ … ┆ 215     ┆ 0          ┆ 0          ┆ SSS        │\n",
       "│ 0.313948   ┆ 9.0        ┆ 80.23      ┆ 31  ┆ … ┆ 147     ┆ 1          ┆ 0          ┆ SSS        │\n",
       "│ 1.292598   ┆ 11.0       ┆ 69.47      ┆ 26  ┆ … ┆ 184     ┆ 0          ┆ 0          ┆ SSS        │\n",
       "│ 1.507658   ┆ 12.0       ┆ 74.15      ┆ 29  ┆ … ┆ 103     ┆ 1          ┆ 0          ┆ SSS        │\n",
       "│ …          ┆ …          ┆ …          ┆ …   ┆ … ┆ …       ┆ …          ┆ …          ┆ …          │\n",
       "│ -1.045351  ┆ 6.0        ┆ 51.3       ┆ 45  ┆ … ┆ 26      ┆ 1          ┆ 1          ┆ SSS        │\n",
       "│ -1.36714   ┆ 6.0        ┆ 51.63      ┆ 51  ┆ … ┆ 140     ┆ 1          ┆ 1          ┆ SSS        │\n",
       "│ 0.180652   ┆ 9.0        ┆ 55.55      ┆ 19  ┆ … ┆ 85      ┆ 0          ┆ 0          ┆ SSS        │\n",
       "│ -0.039218  ┆ 8.0        ┆ 45.01      ┆ 26  ┆ … ┆ 28      ┆ 0          ┆ 1          ┆ SSS        │\n",
       "└────────────┴────────────┴────────────┴─────┴───┴─────────┴────────────┴────────────┴────────────┘"
      ]
     },
     "execution_count": 10,
     "metadata": {},
     "output_type": "execute_result"
    }
   ],
   "source": [
    "res = pipeline.apply(new_lf).collect()\n",
    "res"
   ]
  },
  {
   "cell_type": "code",
   "execution_count": 11,
   "metadata": {},
   "outputs": [
    {
     "data": {
      "text/html": [
       "<div><style>\n",
       ".dataframe > thead > tr > th,\n",
       ".dataframe > tbody > tr > td {\n",
       "  text-align: right;\n",
       "}\n",
       "</style>\n",
       "<small>shape: (1, 14)</small><table border=\"1\" class=\"dataframe\"><thead><tr><th>Daily Internet Usage</th><th>Daily Internet Usage Band</th><th>Daily Time Spent on Site</th><th>Age</th><th>Age Band</th><th>Area Income</th><th>Area Income Band</th><th>One_Hot_Test_A</th><th>id</th><th>City</th><th>Country</th><th>Test_Binary_B</th><th>Clicked on Ad</th><th>Test_Str_Constant</th></tr><tr><td>u32</td><td>u32</td><td>u32</td><td>u32</td><td>u32</td><td>u32</td><td>u32</td><td>u32</td><td>u32</td><td>u32</td><td>u32</td><td>u32</td><td>u32</td><td>u32</td></tr></thead><tbody><tr><td>100</td><td>100</td><td>100</td><td>100</td><td>100</td><td>100</td><td>100</td><td>100</td><td>100</td><td>100</td><td>100</td><td>100</td><td>100</td><td>100</td></tr></tbody></table></div>"
      ],
      "text/plain": [
       "shape: (1, 14)\n",
       "┌────────────┬────────────┬────────────┬─────┬───┬─────────┬────────────┬────────────┬────────────┐\n",
       "│ Daily      ┆ Daily      ┆ Daily Time ┆ Age ┆ … ┆ Country ┆ Test_Binar ┆ Clicked on ┆ Test_Str_C │\n",
       "│ Internet   ┆ Internet   ┆ Spent on   ┆ --- ┆   ┆ ---     ┆ y_B        ┆ Ad         ┆ onstant    │\n",
       "│ Usage      ┆ Usage Band ┆ Site       ┆ u32 ┆   ┆ u32     ┆ ---        ┆ ---        ┆ ---        │\n",
       "│ ---        ┆ ---        ┆ ---        ┆     ┆   ┆         ┆ u32        ┆ u32        ┆ u32        │\n",
       "│ u32        ┆ u32        ┆ u32        ┆     ┆   ┆         ┆            ┆            ┆            │\n",
       "╞════════════╪════════════╪════════════╪═════╪═══╪═════════╪════════════╪════════════╪════════════╡\n",
       "│ 100        ┆ 100        ┆ 100        ┆ 100 ┆ … ┆ 100     ┆ 100        ┆ 100        ┆ 100        │\n",
       "└────────────┴────────────┴────────────┴─────┴───┴─────────┴────────────┴────────────┴────────────┘"
      ]
     },
     "execution_count": 11,
     "metadata": {},
     "output_type": "execute_result"
    }
   ],
   "source": [
    "# Perfect\n",
    "(res.limit(100) == output.limit(100).collect()).sum()"
   ]
  },
  {
   "cell_type": "code",
   "execution_count": null,
   "metadata": {},
   "outputs": [],
   "source": []
  },
  {
   "attachments": {},
   "cell_type": "markdown",
   "metadata": {},
   "source": [
    "# More Complicated Pipelines that are Beyond Sklearn"
   ]
  },
  {
   "cell_type": "code",
   "execution_count": 13,
   "metadata": {},
   "outputs": [
    {
     "name": "stderr",
     "output_type": "stream",
     "text": [
      "INFO:dsds.prescreen:The following columns are dropped because they have lower than 0.5 variance. ['Male', 'Test_Constant', 'Test_BadColumn'].\n",
      "Removed a total of 3 columns.\n",
      "INFO:dsds.prescreen:The following columns are dropped because they are constants. ['Test_Str_Constant'].\n",
      "Removed a total of 1 columns.\n"
     ]
    },
    {
     "name": "stdout",
     "output_type": "stream",
     "text": [
      "Running fscore to determine feature relevance...\n",
      "Found 12 total features to select from. Proceeding to select top 12 features.\n"
     ]
    },
    {
     "name": "stderr",
     "output_type": "stream",
     "text": [
      "MRMR, fscore: 100%|██████████| 12/12 [00:00<00:00, 11998.01it/s]\n"
     ]
    },
    {
     "name": "stdout",
     "output_type": "stream",
     "text": [
      "Output is sorted in order of selection (max relevance min redundancy).\n",
      "Selected 12 features. There are 5 columns the algorithm cannot process. They are also returned.\n"
     ]
    },
    {
     "name": "stderr",
     "output_type": "stream",
     "text": [
      "Mutual Info:   0%|          | 0/12 [00:00<?, ?it/s]WARNING:dsds.fs:Found column Daily Internet Usage Band has null values. It is filled with the mean of the column. It is highly recommended that you impute the column beforehand.\n",
      "WARNING:dsds.fs:Found column Area Income Band has null values. It is filled with the mean of the column. It is highly recommended that you impute the column beforehand.\n",
      "Mutual Info: 100%|██████████| 12/12 [00:00<00:00, 142.82it/s]"
     ]
    },
    {
     "name": "stdout",
     "output_type": "stream",
     "text": [
      "Selected 3 features. There are 5 columns the algorithm cannot process. They are also returned.\n"
     ]
    },
    {
     "name": "stderr",
     "output_type": "stream",
     "text": [
      "\n"
     ]
    }
   ],
   "source": [
    "# This is a more advanced pipeline\n",
    "# It contains filter, upsample steps, which are persisted\n",
    "# which means they will be remembered by the pipeline and will be\n",
    "# applied if the pipeline is applied to other dataframe.\n",
    "# You can set persist = False so that these steps won't be remembered.\n",
    "\n",
    "input_df = pl.scan_csv(\"../data/advertising.csv\").sort(by=\"id\")\n",
    "output = input_df.pipe(ps.var_removal, threshold = 0.5, target = \"Clicked on Ad\")\\\n",
    "    .pipe(ps.filter, condition = pl.col(\"Age\") > 30, persist = True)\\\n",
    "    .pipe(ps.constant_removal)\\\n",
    "    .pipe(sa.simple_upsample, subgroup = pl.col(\"One_Hot_Test\") != 'A', count = 200, persist=True)\\\n",
    "    .pipe(t.binary_encode)\\\n",
    "    .pipe(t.one_hot_encode, cols= [\"One_Hot_Test\"])\\\n",
    "    .pipe(t.impute, cols=[\"Area Income\", \"Daily Internet Usage\"], strategy=\"median\")\\\n",
    "    .pipe(t.scale, cols=[\"Area Income\", \"Daily Internet Usage\"])\\\n",
    "    .pipe(fs.mrmr_selector, target = \"Clicked on Ad\", top_k = 12, strategy=\"fscore\")\\\n",
    "    .pipe(fs.mutual_info_selector, target = \"Clicked on Ad\", top_k=3)\n"
   ]
  },
  {
   "cell_type": "code",
   "execution_count": 14,
   "metadata": {},
   "outputs": [
    {
     "name": "stdout",
     "output_type": "stream",
     "text": [
      "Step 0 | Action: drop\n",
      "['Male', 'Test_Constant', 'Test_BadColumn']\n",
      "\n",
      "Step 1 | Action: filter\n",
      "By condition: [(col(\"Age\")) > (30)]\n",
      "\n",
      "\n",
      "Step 2 | Action: drop\n",
      "['Test_Str_Constant']\n",
      "\n",
      "Step 3 | Action: apply_func\n",
      "Function Module: dsds.sample, Function Name: simple_upsample\n",
      "Parameters:\n",
      "subgroup = [(col(\"One_Hot_Test\")) != (Utf8(A))],\n",
      "count = 200,\n",
      "epsilon = 0.01,\n",
      "include = None,\n",
      "exclude = None,\n",
      "positive = False,\n",
      "seed = 42,\n",
      "\n",
      "\n",
      "Step 4 | Action: with_columns\n",
      "Details: \n",
      "(1) .when([(col(\"Test_Binary\")) == (Utf8(B))]).then(1.strict_cast(UInt8)).otherwise(0.strict_cast(UInt8)).alias(\"Test_Binary_B\")\n",
      "\n",
      "\n",
      "Step 5 | Action: drop\n",
      "['Test_Binary']\n",
      "\n",
      "Step 6 | Action: with_columns\n",
      "Details: \n",
      "(1) .when([(col(\"One_Hot_Test\")) == (Utf8(A))]).then(1.strict_cast(UInt8)).otherwise(0.strict_cast(UInt8)).alias(\"One_Hot_Test_A\")\n",
      "(2) .when([(col(\"One_Hot_Test\")) == (Utf8(B))]).then(1.strict_cast(UInt8)).otherwise(0.strict_cast(UInt8)).alias(\"One_Hot_Test_B\")\n",
      "(3) .when([(col(\"One_Hot_Test\")) == (Utf8(C))]).then(1.strict_cast(UInt8)).otherwise(0.strict_cast(UInt8)).alias(\"One_Hot_Test_C\")\n",
      "\n",
      "\n",
      "Step 7 | Action: drop\n",
      "['One_Hot_Test']\n",
      "\n",
      "Step 8 | Action: with_columns\n",
      "Details: \n",
      "(1) col(\"Area Income\").fill_null([56706.55])\n",
      "(2) col(\"Daily Internet Usage\").fill_null([164.83])\n",
      "\n",
      "\n",
      "Step 9 | Action: with_columns\n",
      "Details: \n",
      "(1) [([(col(\"Area Income\")) - (54538.995237)]) / (14132.298244)]\n",
      "(2) [([(col(\"Daily Internet Usage\")) - (172.620775)]) / (46.222847)]\n",
      "\n",
      "\n",
      "Step 10 | Action: select\n",
      "['Daily Internet Usage Band', 'Daily Time Spent on Site', 'Daily Internet Usage', 'Area Income Band', 'Age', 'Area Income', 'Age Band', 'One_Hot_Test_C', 'One_Hot_Test_A', 'id', 'One_Hot_Test_B', 'Test_Binary_B', 'Ad Topic Line', 'City', 'Country', 'Timestamp', 'Clicked on Ad']\n",
      "\n",
      "Step 11 | Action: select\n",
      "['Daily Internet Usage', 'Daily Internet Usage Band', 'Daily Time Spent on Site', 'Ad Topic Line', 'City', 'Country', 'Timestamp', 'Clicked on Ad']\n",
      "\n",
      "\n"
     ]
    }
   ],
   "source": [
    "output.blueprint"
   ]
  },
  {
   "cell_type": "code",
   "execution_count": 15,
   "metadata": {},
   "outputs": [
    {
     "data": {
      "text/html": [
       "<div><style>\n",
       ".dataframe > thead > tr > th,\n",
       ".dataframe > tbody > tr > td {\n",
       "  text-align: right;\n",
       "}\n",
       "</style>\n",
       "<small>shape: (897, 8)</small><table border=\"1\" class=\"dataframe\"><thead><tr><th>Daily Internet Usage</th><th>Daily Internet Usage Band</th><th>Daily Time Spent on Site</th><th>Ad Topic Line</th><th>City</th><th>Country</th><th>Timestamp</th><th>Clicked on Ad</th></tr><tr><td>f64</td><td>i64</td><td>f64</td><td>str</td><td>str</td><td>str</td><td>str</td><td>i64</td></tr></thead><tbody><tr><td>1.8058</td><td>12</td><td>68.95</td><td>&quot;Cloned 5thgene…</td><td>&quot;Wrightburgh&quot;</td><td>&quot;Tunisia&quot;</td><td>&quot;3/27/2016 0:53…</td><td>0</td></tr><tr><td>0.457549</td><td>9</td><td>80.23</td><td>&quot;Monitored nati…</td><td>&quot;West Jodi&quot;</td><td>&quot;Nauru&quot;</td><td>&quot;4/4/2016 1:39&quot;</td><td>0</td></tr><tr><td>1.145737</td><td>11</td><td>68.37</td><td>&quot;Robust logisti…</td><td>&quot;South Manuel&quot;</td><td>&quot;Iceland&quot;</td><td>&quot;6/3/2016 3:36&quot;</td><td>0</td></tr><tr><td>0.773194</td><td>10</td><td>88.91</td><td>&quot;Enhanced dedic…</td><td>&quot;Brandonstad&quot;</td><td>&quot;Myanmar&quot;</td><td>&quot;1/28/2016 20:5…</td><td>0</td></tr><tr><td>-0.883995</td><td>6</td><td>66.0</td><td>&quot;Reactive local…</td><td>&quot;Port Jefferybu…</td><td>&quot;Australia&quot;</td><td>&quot;3/7/2016 1:40&quot;</td><td>1</td></tr><tr><td>-1.094714</td><td>6</td><td>47.64</td><td>&quot;Centralized ne…</td><td>&quot;West Brandonto…</td><td>&quot;Qatar&quot;</td><td>&quot;3/16/2016 20:1…</td><td>1</td></tr><tr><td>1.260183</td><td>11</td><td>83.07</td><td>&quot;Team-oriented …</td><td>&quot;East Theresash…</td><td>&quot;Burundi&quot;</td><td>&quot;5/8/2016 8:10&quot;</td><td>0</td></tr><tr><td>-1.287259</td><td>5</td><td>69.57</td><td>&quot;Centralized co…</td><td>&quot;West Katiefurt…</td><td>&quot;Egypt&quot;</td><td>&quot;6/3/2016 1:14&quot;</td><td>1</td></tr><tr><td>-0.62871</td><td>7</td><td>42.95</td><td>&quot;Grass-roots co…</td><td>&quot;West William&quot;</td><td>&quot;Barbados&quot;</td><td>&quot;3/24/2016 9:31…</td><td>1</td></tr><tr><td>-0.934836</td><td>6</td><td>55.39</td><td>&quot;Customizable m…</td><td>&quot;West Dylanberg…</td><td>&quot;Palestinian Te…</td><td>&quot;1/30/2016 19:2…</td><td>1</td></tr><tr><td>-0.168548</td><td>null</td><td>82.03</td><td>&quot;Intuitive dyna…</td><td>&quot;Pruittmouth&quot;</td><td>&quot;Afghanistan&quot;</td><td>&quot;5/2/2016 7:00&quot;</td><td>0</td></tr><tr><td>-1.173246</td><td>5</td><td>54.7</td><td>&quot;Grass-roots so…</td><td>&quot;Jessicastad&quot;</td><td>&quot;British Indian…</td><td>&quot;2/13/2016 7:53…</td><td>1</td></tr><tr><td>&hellip;</td><td>&hellip;</td><td>&hellip;</td><td>&hellip;</td><td>&hellip;</td><td>&hellip;</td><td>&hellip;</td><td>&hellip;</td></tr><tr><td>1.773215</td><td>12</td><td>78.604936</td><td>&quot;Enhanced syste…</td><td>&quot;Lake Elizabeth…</td><td>&quot;Micronesia&quot;</td><td>&quot;7/20/2016 13:2…</td><td>0</td></tr><tr><td>-1.010113</td><td>6</td><td>61.565249</td><td>&quot;Progressive 24…</td><td>&quot;Bradyfurt&quot;</td><td>&quot;Bulgaria&quot;</td><td>&quot;3/14/2016 14:1…</td><td>1</td></tr><tr><td>0.472229</td><td>9</td><td>35.258736</td><td>&quot;Intuitive glob…</td><td>&quot;Waltertown&quot;</td><td>&quot;Iran&quot;</td><td>&quot;1/3/2016 4:39&quot;</td><td>1</td></tr><tr><td>0.297433</td><td>9</td><td>80.714819</td><td>&quot;Re-engineered …</td><td>&quot;Juliaport&quot;</td><td>&quot;Costa Rica&quot;</td><td>&quot;4/19/2016 5:15…</td><td>0</td></tr><tr><td>1.812424</td><td>12</td><td>70.952455</td><td>&quot;Ameliorated us…</td><td>&quot;South Denise&quot;</td><td>&quot;Saint Pierre a…</td><td>&quot;6/26/2016 7:01…</td><td>0</td></tr><tr><td>1.116573</td><td>11</td><td>80.596622</td><td>&quot;Robust respons…</td><td>&quot;Lake Courtney&quot;</td><td>&quot;Croatia&quot;</td><td>&quot;7/21/2016 23:1…</td><td>0</td></tr><tr><td>0.338347</td><td>9</td><td>86.373066</td><td>&quot;Cross-platform…</td><td>&quot;Rhondaborough&quot;</td><td>&quot;Singapore&quot;</td><td>&quot;3/19/2016 14:5…</td><td>0</td></tr><tr><td>-1.300336</td><td>5</td><td>55.703585</td><td>&quot;Upgradable 4th…</td><td>&quot;Lake James&quot;</td><td>&quot;Korea&quot;</td><td>&quot;3/6/2016 23:26…</td><td>1</td></tr><tr><td>0.05459</td><td>8</td><td>83.661988</td><td>&quot;Profound dynam…</td><td>&quot;East Debraboro…</td><td>&quot;Syrian Arab Re…</td><td>&quot;2/18/2016 3:58…</td><td>0</td></tr><tr><td>0.576163</td><td>9</td><td>37.327491</td><td>&quot;Versatile dedi…</td><td>&quot;New Nancy&quot;</td><td>&quot;Chad&quot;</td><td>&quot;3/30/2016 23:4…</td><td>1</td></tr><tr><td>1.773557</td><td>12</td><td>78.593929</td><td>&quot;Enhanced syste…</td><td>&quot;Lake Elizabeth…</td><td>&quot;Micronesia&quot;</td><td>&quot;7/20/2016 13:2…</td><td>0</td></tr><tr><td>-0.987572</td><td>6</td><td>74.866206</td><td>&quot;Public-key non…</td><td>&quot;Charlenetown&quot;</td><td>&quot;Saint Barthele…</td><td>&quot;5/31/2016 2:17…</td><td>1</td></tr></tbody></table></div>"
      ],
      "text/plain": [
       "shape: (897, 8)\n",
       "┌────────────┬────────────┬────────────┬────────────┬───────────┬───────────┬─────────┬────────────┐\n",
       "│ Daily      ┆ Daily      ┆ Daily Time ┆ Ad Topic   ┆ City      ┆ Country   ┆ Timesta ┆ Clicked on │\n",
       "│ Internet   ┆ Internet   ┆ Spent on   ┆ Line       ┆ ---       ┆ ---       ┆ mp      ┆ Ad         │\n",
       "│ Usage      ┆ Usage Band ┆ Site       ┆ ---        ┆ str       ┆ str       ┆ ---     ┆ ---        │\n",
       "│ ---        ┆ ---        ┆ ---        ┆ str        ┆           ┆           ┆ str     ┆ i64        │\n",
       "│ f64        ┆ i64        ┆ f64        ┆            ┆           ┆           ┆         ┆            │\n",
       "╞════════════╪════════════╪════════════╪════════════╪═══════════╪═══════════╪═════════╪════════════╡\n",
       "│ 1.8058     ┆ 12         ┆ 68.95      ┆ Cloned 5th ┆ Wrightbur ┆ Tunisia   ┆ 3/27/20 ┆ 0          │\n",
       "│            ┆            ┆            ┆ generation ┆ gh        ┆           ┆ 16 0:53 ┆            │\n",
       "│            ┆            ┆            ┆ orchestrat ┆           ┆           ┆         ┆            │\n",
       "│            ┆            ┆            ┆ i…         ┆           ┆           ┆         ┆            │\n",
       "│ 0.457549   ┆ 9          ┆ 80.23      ┆ Monitored  ┆ West Jodi ┆ Nauru     ┆ 4/4/201 ┆ 0          │\n",
       "│            ┆            ┆            ┆ national   ┆           ┆           ┆ 6 1:39  ┆            │\n",
       "│            ┆            ┆            ┆ standardiz ┆           ┆           ┆         ┆            │\n",
       "│            ┆            ┆            ┆ ati…       ┆           ┆           ┆         ┆            │\n",
       "│ 1.145737   ┆ 11         ┆ 68.37      ┆ Robust     ┆ South     ┆ Iceland   ┆ 6/3/201 ┆ 0          │\n",
       "│            ┆            ┆            ┆ logistical ┆ Manuel    ┆           ┆ 6 3:36  ┆            │\n",
       "│            ┆            ┆            ┆ utilizatio ┆           ┆           ┆         ┆            │\n",
       "│            ┆            ┆            ┆ n          ┆           ┆           ┆         ┆            │\n",
       "│ 0.773194   ┆ 10         ┆ 88.91      ┆ Enhanced   ┆ Brandonst ┆ Myanmar   ┆ 1/28/20 ┆ 0          │\n",
       "│            ┆            ┆            ┆ dedicated  ┆ ad        ┆           ┆ 16      ┆            │\n",
       "│            ┆            ┆            ┆ support    ┆           ┆           ┆ 20:59   ┆            │\n",
       "│ …          ┆ …          ┆ …          ┆ …          ┆ …         ┆ …         ┆ …       ┆ …          │\n",
       "│ 0.05459    ┆ 8          ┆ 83.661988  ┆ Profound   ┆ East Debr ┆ Syrian    ┆ 2/18/20 ┆ 0          │\n",
       "│            ┆            ┆            ┆ dynamic    ┆ aborough  ┆ Arab      ┆ 16 3:58 ┆            │\n",
       "│            ┆            ┆            ┆ attitude   ┆           ┆ Republic  ┆         ┆            │\n",
       "│ 0.576163   ┆ 9          ┆ 37.327491  ┆ Versatile  ┆ New Nancy ┆ Chad      ┆ 3/30/20 ┆ 1          │\n",
       "│            ┆            ┆            ┆ dedicated  ┆           ┆           ┆ 16      ┆            │\n",
       "│            ┆            ┆            ┆ software   ┆           ┆           ┆ 23:40   ┆            │\n",
       "│ 1.773557   ┆ 12         ┆ 78.593929  ┆ Enhanced   ┆ Lake Eliz ┆ Micronesi ┆ 7/20/20 ┆ 0          │\n",
       "│            ┆            ┆            ┆ systematic ┆ abethside ┆ a         ┆ 16      ┆            │\n",
       "│            ┆            ┆            ┆ adapter    ┆           ┆           ┆ 13:21   ┆            │\n",
       "│ -0.987572  ┆ 6          ┆ 74.866206  ┆ Public-key ┆ Charlenet ┆ Saint Bar ┆ 5/31/20 ┆ 1          │\n",
       "│            ┆            ┆            ┆ non-volati ┆ own       ┆ thelemy   ┆ 16 2:17 ┆            │\n",
       "│            ┆            ┆            ┆ le         ┆           ┆           ┆         ┆            │\n",
       "│            ┆            ┆            ┆ implemen…  ┆           ┆           ┆         ┆            │\n",
       "└────────────┴────────────┴────────────┴────────────┴───────────┴───────────┴─────────┴────────────┘"
      ]
     },
     "execution_count": 15,
     "metadata": {},
     "output_type": "execute_result"
    }
   ],
   "source": [
    "output.collect()"
   ]
  },
  {
   "cell_type": "code",
   "execution_count": null,
   "metadata": {},
   "outputs": [],
   "source": []
  }
 ],
 "metadata": {
  "kernelspec": {
   "display_name": "my_py11",
   "language": "python",
   "name": "python3"
  },
  "language_info": {
   "codemirror_mode": {
    "name": "ipython",
    "version": 3
   },
   "file_extension": ".py",
   "mimetype": "text/x-python",
   "name": "python",
   "nbconvert_exporter": "python",
   "pygments_lexer": "ipython3",
   "version": "3.11.3"
  },
  "orig_nbformat": 4
 },
 "nbformat": 4,
 "nbformat_minor": 2
}
