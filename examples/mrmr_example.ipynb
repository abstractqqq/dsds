{
 "cells": [
  {
   "cell_type": "code",
   "execution_count": 1,
   "metadata": {},
   "outputs": [],
   "source": [
    "import polars as pl \n",
    "import numpy as np\n",
    "from sklearn.datasets import make_classification\n",
    "from sklearn.feature_selection import f_regression\n",
    "import pandas as pd\n",
    "from time import perf_counter\n",
    "import sys\n",
    "sys.path.append('../src')\n",
    "from eda.eda_selection import _f_score, mrmr, MRMR_STRATEGY, knock_out_mrmr"
   ]
  },
  {
   "cell_type": "code",
   "execution_count": 2,
   "metadata": {},
   "outputs": [],
   "source": [
    "# create some data\n",
    "orig_x, orig_y = make_classification(n_samples = 600_000, n_features = 100, n_informative = 20, n_redundant = 80)"
   ]
  },
  {
   "cell_type": "code",
   "execution_count": 3,
   "metadata": {},
   "outputs": [],
   "source": [
    "df_pl = pl.from_numpy(orig_x).insert_at_idx(0, pl.Series(\"target\", orig_y))\n",
    "df_pd = df_pl.to_pandas()"
   ]
  },
  {
   "cell_type": "code",
   "execution_count": 4,
   "metadata": {},
   "outputs": [],
   "source": [
    "def mrmr_my_rewrite(df:pl.DataFrame, target:str, k:int) -> list[str]:\n",
    "\n",
    "    features = df.columns\n",
    "    features.remove(target)\n",
    "\n",
    "    start = perf_counter()\n",
    "    f_scores = _f_score(df, target, features)\n",
    "    end_1 = perf_counter()\n",
    "    print(f\"Spent {end_1 - start:.2f}s to compute f score.\")\n",
    "\n",
    "    df_scaled = df.select(features).with_columns(\n",
    "        (pl.col(f) - pl.col(f).mean())/pl.col(f).std() for f in features\n",
    "    )\n",
    "\n",
    "    cumulating_sum = np.zeros(len(features)) # For each feature at index i, we keep a cumulating sum\n",
    "    top_idx = np.argmax(f_scores)\n",
    "    selected_features = [features[top_idx]]\n",
    "    for j in range(1, k): \n",
    "        argmax = -1\n",
    "        current_max = -1\n",
    "        last_selected = selected_features[-1]\n",
    "        for i,f in enumerate(features):\n",
    "            if f not in selected_features:\n",
    "                # Left = cumulating sum of abs corr\n",
    "                # Right = abs correlation btw last_selected and f\n",
    "                cumulating_sum[i] += np.abs((df_scaled.get_column(last_selected)*df_scaled.get_column(f)).mean())\n",
    "                denominator = cumulating_sum[i] / j\n",
    "                new_score = f_scores[i] / denominator\n",
    "                if new_score > current_max:\n",
    "                    current_max = new_score\n",
    "                    argmax = i\n",
    "\n",
    "        selected_features.append(features[argmax])\n",
    "\n",
    "    end_2 = perf_counter()\n",
    "    print(f\"Took {end_2 - end_1:.2f}s to compute mrmr.\")\n",
    "    return selected_features\n",
    "    "
   ]
  },
  {
   "cell_type": "code",
   "execution_count": 5,
   "metadata": {},
   "outputs": [],
   "source": [
    "def mrmr_np_rewrite(df:pl.DataFrame, target:str, k:int) -> list[str]:\n",
    "\n",
    "    features = df.columns\n",
    "    features.remove(target)\n",
    "\n",
    "    start = perf_counter()\n",
    "    f_scores = _f_score(df, target, features)\n",
    "    end_1 = perf_counter()\n",
    "    print(f\"Spent {end_1 - start:.2f}s to compute f score.\")\n",
    "\n",
    "    x = df.select(features).to_numpy()\n",
    "    x_scaled = (x - x.mean(axis=0)) / x.std(axis=0)\n",
    "\n",
    "    cumulating_sum = np.zeros(len(features)) # For each feature at index i, we keep a cumulating sum\n",
    "    top_idx = np.argmax(f_scores)\n",
    "    selected_features = [features[top_idx]]\n",
    "    last_selected_idx = top_idx\n",
    "    for j in range(1, k): \n",
    "        argmax = -1\n",
    "        current_max = -1\n",
    "        for i,f in enumerate(features):\n",
    "            if f not in selected_features:\n",
    "                # Left = cumulating sum of abs corr\n",
    "                # Right = abs correlation btw last_selected and f\n",
    "                cumulating_sum[i] += np.abs(np.mean(x_scaled[:,last_selected_idx]*x_scaled[:,i]))\n",
    "                denominator = cumulating_sum[i] / j\n",
    "                new_score = f_scores[i] / denominator\n",
    "                if new_score > current_max:\n",
    "                    current_max = new_score\n",
    "                    argmax = i\n",
    "\n",
    "        selected_features.append(features[argmax])\n",
    "        last_selected_idx = argmax\n",
    "\n",
    "    end_2 = perf_counter()\n",
    "    print(f\"Took {end_2 - end_1:.2f}s to compute mrmr.\")\n",
    "    return selected_features"
   ]
  },
  {
   "cell_type": "code",
   "execution_count": 6,
   "metadata": {},
   "outputs": [],
   "source": [
    "def mrmr_medium(df:pd.DataFrame, target:str, k:int) -> list[str]:\n",
    "\n",
    "    features = list(df.columns)\n",
    "    features.remove(target)\n",
    "\n",
    "    X = df[features]\n",
    "    y = df[target]\n",
    "\n",
    "    # compute F-statistics and initialize correlation matrix\n",
    "    start = perf_counter()\n",
    "    F = pd.Series(f_regression(X, y)[0], index = X.columns)\n",
    "    end_1 = perf_counter()\n",
    "    print(f\"Spent {end_1 - start:.2f}s to compute f score.\")\n",
    "\n",
    "    corr = pd.DataFrame(.00001, index = X.columns, columns = X.columns)\n",
    "\n",
    "    # initialize list of selected features and list of excluded features\n",
    "    selected = []\n",
    "    not_selected = X.columns.to_list()\n",
    "\n",
    "    # repeat K times\n",
    "    for i in range(k):\n",
    "    \n",
    "        # compute (absolute) correlations between the last selected feature and all the (currently) excluded features\n",
    "        if i > 0:\n",
    "            last_selected = selected[-1]\n",
    "            corr.loc[not_selected, last_selected] = X[not_selected].corrwith(X[last_selected]).abs().clip(.00001)\n",
    "            \n",
    "        # compute FCQ score for all the (currently) excluded features (this is Formula 2)\n",
    "        score = F.loc[not_selected] / corr.loc[not_selected, selected].mean(axis = 1).fillna(.00001)\n",
    "        \n",
    "        # find best feature, add it to selected and remove it from not_selected\n",
    "        best = score.index[score.argmax()]\n",
    "        selected.append(best)\n",
    "        not_selected.remove(best)\n",
    "\n",
    "    # print(selected) \n",
    "    end_2 = perf_counter()\n",
    "    print(f\"Took {end_2 - end_1:.2f}s to compute mrmr.\")\n",
    "    return selected "
   ]
  },
  {
   "cell_type": "code",
   "execution_count": 7,
   "metadata": {},
   "outputs": [
    {
     "name": "stdout",
     "output_type": "stream",
     "text": [
      "Spent 0.07s to compute f score.\n",
      "Took 1.49s to compute mrmr.\n"
     ]
    },
    {
     "data": {
      "text/plain": [
       "['column_82',\n",
       " 'column_16',\n",
       " 'column_84',\n",
       " 'column_14',\n",
       " 'column_26',\n",
       " 'column_36',\n",
       " 'column_38',\n",
       " 'column_23',\n",
       " 'column_70',\n",
       " 'column_41',\n",
       " 'column_94',\n",
       " 'column_3',\n",
       " 'column_7',\n",
       " 'column_57',\n",
       " 'column_44',\n",
       " 'column_76',\n",
       " 'column_42',\n",
       " 'column_98',\n",
       " 'column_71',\n",
       " 'column_92',\n",
       " 'column_62',\n",
       " 'column_91',\n",
       " 'column_56',\n",
       " 'column_96',\n",
       " 'column_79',\n",
       " 'column_97',\n",
       " 'column_40',\n",
       " 'column_17',\n",
       " 'column_27',\n",
       " 'column_99',\n",
       " 'column_30',\n",
       " 'column_66',\n",
       " 'column_2',\n",
       " 'column_33',\n",
       " 'column_1',\n",
       " 'column_24',\n",
       " 'column_58',\n",
       " 'column_80',\n",
       " 'column_72',\n",
       " 'column_47',\n",
       " 'column_59',\n",
       " 'column_52',\n",
       " 'column_50',\n",
       " 'column_9',\n",
       " 'column_37',\n",
       " 'column_12',\n",
       " 'column_45',\n",
       " 'column_68',\n",
       " 'column_25',\n",
       " 'column_77']"
      ]
     },
     "execution_count": 7,
     "metadata": {},
     "output_type": "execute_result"
    }
   ],
   "source": [
    "mrmr_my_rewrite(df_pl, \"target\", 50)"
   ]
  },
  {
   "cell_type": "code",
   "execution_count": 8,
   "metadata": {},
   "outputs": [
    {
     "name": "stdout",
     "output_type": "stream",
     "text": [
      "Spent 0.07s to compute f score.\n",
      "Took 5.50s to compute mrmr.\n"
     ]
    },
    {
     "data": {
      "text/plain": [
       "['column_82',\n",
       " 'column_16',\n",
       " 'column_84',\n",
       " 'column_14',\n",
       " 'column_26',\n",
       " 'column_36',\n",
       " 'column_38',\n",
       " 'column_23',\n",
       " 'column_70',\n",
       " 'column_41',\n",
       " 'column_94',\n",
       " 'column_3',\n",
       " 'column_7',\n",
       " 'column_57',\n",
       " 'column_44',\n",
       " 'column_76',\n",
       " 'column_42',\n",
       " 'column_98',\n",
       " 'column_71',\n",
       " 'column_92',\n",
       " 'column_62',\n",
       " 'column_91',\n",
       " 'column_56',\n",
       " 'column_96',\n",
       " 'column_79',\n",
       " 'column_97',\n",
       " 'column_40',\n",
       " 'column_17',\n",
       " 'column_27',\n",
       " 'column_99',\n",
       " 'column_30',\n",
       " 'column_66',\n",
       " 'column_2',\n",
       " 'column_33',\n",
       " 'column_1',\n",
       " 'column_24',\n",
       " 'column_58',\n",
       " 'column_80',\n",
       " 'column_72',\n",
       " 'column_47',\n",
       " 'column_59',\n",
       " 'column_52',\n",
       " 'column_50',\n",
       " 'column_9',\n",
       " 'column_37',\n",
       " 'column_12',\n",
       " 'column_45',\n",
       " 'column_68',\n",
       " 'column_25',\n",
       " 'column_77']"
      ]
     },
     "execution_count": 8,
     "metadata": {},
     "output_type": "execute_result"
    }
   ],
   "source": [
    "# Use my version of f_score computation.\n",
    "# Use pure NumPy for the rest of the computation.\n",
    "# This shows that copying to NumPy, does not pay off. Stay in Polars is a better idea.\n",
    "mrmr_np_rewrite(df_pl, \"target\", 50)"
   ]
  },
  {
   "cell_type": "code",
   "execution_count": 9,
   "metadata": {},
   "outputs": [
    {
     "name": "stdout",
     "output_type": "stream",
     "text": [
      "Spent 0.17s to compute f score.\n",
      "Took 25.46s to compute mrmr.\n"
     ]
    },
    {
     "data": {
      "text/plain": [
       "['column_82',\n",
       " 'column_16',\n",
       " 'column_84',\n",
       " 'column_14',\n",
       " 'column_26',\n",
       " 'column_36',\n",
       " 'column_38',\n",
       " 'column_23',\n",
       " 'column_70',\n",
       " 'column_41',\n",
       " 'column_94',\n",
       " 'column_3',\n",
       " 'column_7',\n",
       " 'column_57',\n",
       " 'column_44',\n",
       " 'column_76',\n",
       " 'column_42',\n",
       " 'column_98',\n",
       " 'column_71',\n",
       " 'column_92',\n",
       " 'column_62',\n",
       " 'column_91',\n",
       " 'column_56',\n",
       " 'column_96',\n",
       " 'column_79',\n",
       " 'column_97',\n",
       " 'column_40',\n",
       " 'column_17',\n",
       " 'column_27',\n",
       " 'column_99',\n",
       " 'column_30',\n",
       " 'column_66',\n",
       " 'column_2',\n",
       " 'column_33',\n",
       " 'column_1',\n",
       " 'column_24',\n",
       " 'column_58',\n",
       " 'column_80',\n",
       " 'column_72',\n",
       " 'column_47',\n",
       " 'column_59',\n",
       " 'column_52',\n",
       " 'column_50',\n",
       " 'column_9',\n",
       " 'column_37',\n",
       " 'column_12',\n",
       " 'column_45',\n",
       " 'column_68',\n",
       " 'column_25',\n",
       " 'column_77']"
      ]
     },
     "execution_count": 9,
     "metadata": {},
     "output_type": "execute_result"
    }
   ],
   "source": [
    "mrmr_medium(df_pd, \"target\", 50)"
   ]
  },
  {
   "cell_type": "code",
   "execution_count": 10,
   "metadata": {},
   "outputs": [
    {
     "name": "stdout",
     "output_type": "stream",
     "text": [
      "Running F-score to determine feature relevance...\n",
      "Top 5 feature importance by MRMR_STRATEGY.F_SCORE is:\n",
      "shape: (5, 2)\n",
      "┌───────────┬───────────────────────┐\n",
      "│ feature   ┆ MRMR_STRATEGY.F_SCORE │\n",
      "│ ---       ┆ ---                   │\n",
      "│ str       ┆ f64                   │\n",
      "╞═══════════╪═══════════════════════╡\n",
      "│ column_82 ┆ 109313.720853         │\n",
      "│ column_14 ┆ 105998.288316         │\n",
      "│ column_84 ┆ 84413.59341           │\n",
      "│ column_26 ┆ 83190.662637          │\n",
      "│ column_70 ┆ 83042.301099          │\n",
      "└───────────┴───────────────────────┘\n",
      "Found 100 total features to select from. Proceeding to select top 50 features.\n"
     ]
    },
    {
     "name": "stderr",
     "output_type": "stream",
     "text": [
      "100%|██████████| 50/50 [00:01<00:00, 35.06it/s]\n"
     ]
    },
    {
     "data": {
      "text/html": [
       "<div><style>\n",
       ".dataframe > thead > tr > th,\n",
       ".dataframe > tbody > tr > td {\n",
       "  text-align: right;\n",
       "}\n",
       "</style>\n",
       "<small>shape: (50, 2)</small><table border=\"1\" class=\"dataframe\"><thead><tr><th>mrmr_rank</th><th>feature</th></tr><tr><td>i64</td><td>str</td></tr></thead><tbody><tr><td>1</td><td>&quot;column_82&quot;</td></tr><tr><td>2</td><td>&quot;column_16&quot;</td></tr><tr><td>3</td><td>&quot;column_84&quot;</td></tr><tr><td>4</td><td>&quot;column_14&quot;</td></tr><tr><td>5</td><td>&quot;column_26&quot;</td></tr><tr><td>6</td><td>&quot;column_36&quot;</td></tr><tr><td>7</td><td>&quot;column_38&quot;</td></tr><tr><td>8</td><td>&quot;column_23&quot;</td></tr><tr><td>9</td><td>&quot;column_70&quot;</td></tr><tr><td>10</td><td>&quot;column_41&quot;</td></tr><tr><td>11</td><td>&quot;column_94&quot;</td></tr><tr><td>12</td><td>&quot;column_3&quot;</td></tr><tr><td>&hellip;</td><td>&hellip;</td></tr><tr><td>39</td><td>&quot;column_72&quot;</td></tr><tr><td>40</td><td>&quot;column_47&quot;</td></tr><tr><td>41</td><td>&quot;column_59&quot;</td></tr><tr><td>42</td><td>&quot;column_52&quot;</td></tr><tr><td>43</td><td>&quot;column_50&quot;</td></tr><tr><td>44</td><td>&quot;column_9&quot;</td></tr><tr><td>45</td><td>&quot;column_37&quot;</td></tr><tr><td>46</td><td>&quot;column_12&quot;</td></tr><tr><td>47</td><td>&quot;column_45&quot;</td></tr><tr><td>48</td><td>&quot;column_68&quot;</td></tr><tr><td>49</td><td>&quot;column_25&quot;</td></tr><tr><td>50</td><td>&quot;column_77&quot;</td></tr></tbody></table></div>"
      ],
      "text/plain": [
       "shape: (50, 2)\n",
       "┌───────────┬───────────┐\n",
       "│ mrmr_rank ┆ feature   │\n",
       "│ ---       ┆ ---       │\n",
       "│ i64       ┆ str       │\n",
       "╞═══════════╪═══════════╡\n",
       "│ 1         ┆ column_82 │\n",
       "│ 2         ┆ column_16 │\n",
       "│ 3         ┆ column_84 │\n",
       "│ 4         ┆ column_14 │\n",
       "│ …         ┆ …         │\n",
       "│ 47        ┆ column_45 │\n",
       "│ 48        ┆ column_68 │\n",
       "│ 49        ┆ column_25 │\n",
       "│ 50        ┆ column_77 │\n",
       "└───────────┴───────────┘"
      ]
     },
     "execution_count": 10,
     "metadata": {},
     "output_type": "execute_result"
    }
   ],
   "source": [
    "# My yet to be published package. 9.2s\n",
    "mrmr(df_pl, target=\"target\", k = 50)"
   ]
  },
  {
   "cell_type": "code",
   "execution_count": 11,
   "metadata": {},
   "outputs": [
    {
     "name": "stdout",
     "output_type": "stream",
     "text": [
      "Running F-score to determine feature relevance...\n",
      "Top 5 feature importance by MRMR_STRATEGY.F_SCORE is:\n",
      "shape: (5, 2)\n",
      "┌───────────┬───────────────────────┐\n",
      "│ feature   ┆ MRMR_STRATEGY.F_SCORE │\n",
      "│ ---       ┆ ---                   │\n",
      "│ str       ┆ f64                   │\n",
      "╞═══════════╪═══════════════════════╡\n",
      "│ column_82 ┆ 109313.720853         │\n",
      "│ column_14 ┆ 105998.288316         │\n",
      "│ column_84 ┆ 84413.59341           │\n",
      "│ column_26 ┆ 83190.662637          │\n",
      "│ column_70 ┆ 83042.301099          │\n",
      "└───────────┴───────────────────────┘\n",
      "Found 100 total features to select from. Proceeding to select top 50 features.\n"
     ]
    },
    {
     "name": "stderr",
     "output_type": "stream",
     "text": [
      "100%|██████████| 50/50 [00:10<00:00,  4.55it/s]\n"
     ]
    },
    {
     "data": {
      "text/html": [
       "<div><style>\n",
       ".dataframe > thead > tr > th,\n",
       ".dataframe > tbody > tr > td {\n",
       "  text-align: right;\n",
       "}\n",
       "</style>\n",
       "<small>shape: (50, 2)</small><table border=\"1\" class=\"dataframe\"><thead><tr><th>mrmr_rank</th><th>feature</th></tr><tr><td>i64</td><td>str</td></tr></thead><tbody><tr><td>1</td><td>&quot;column_82&quot;</td></tr><tr><td>2</td><td>&quot;column_16&quot;</td></tr><tr><td>3</td><td>&quot;column_84&quot;</td></tr><tr><td>4</td><td>&quot;column_14&quot;</td></tr><tr><td>5</td><td>&quot;column_26&quot;</td></tr><tr><td>6</td><td>&quot;column_36&quot;</td></tr><tr><td>7</td><td>&quot;column_38&quot;</td></tr><tr><td>8</td><td>&quot;column_23&quot;</td></tr><tr><td>9</td><td>&quot;column_70&quot;</td></tr><tr><td>10</td><td>&quot;column_41&quot;</td></tr><tr><td>11</td><td>&quot;column_94&quot;</td></tr><tr><td>12</td><td>&quot;column_3&quot;</td></tr><tr><td>&hellip;</td><td>&hellip;</td></tr><tr><td>39</td><td>&quot;column_72&quot;</td></tr><tr><td>40</td><td>&quot;column_47&quot;</td></tr><tr><td>41</td><td>&quot;column_59&quot;</td></tr><tr><td>42</td><td>&quot;column_52&quot;</td></tr><tr><td>43</td><td>&quot;column_50&quot;</td></tr><tr><td>44</td><td>&quot;column_9&quot;</td></tr><tr><td>45</td><td>&quot;column_37&quot;</td></tr><tr><td>46</td><td>&quot;column_12&quot;</td></tr><tr><td>47</td><td>&quot;column_45&quot;</td></tr><tr><td>48</td><td>&quot;column_68&quot;</td></tr><tr><td>49</td><td>&quot;column_25&quot;</td></tr><tr><td>50</td><td>&quot;column_77&quot;</td></tr></tbody></table></div>"
      ],
      "text/plain": [
       "shape: (50, 2)\n",
       "┌───────────┬───────────┐\n",
       "│ mrmr_rank ┆ feature   │\n",
       "│ ---       ┆ ---       │\n",
       "│ i64       ┆ str       │\n",
       "╞═══════════╪═══════════╡\n",
       "│ 1         ┆ column_82 │\n",
       "│ 2         ┆ column_16 │\n",
       "│ 3         ┆ column_84 │\n",
       "│ 4         ┆ column_14 │\n",
       "│ …         ┆ …         │\n",
       "│ 47        ┆ column_45 │\n",
       "│ 48        ┆ column_68 │\n",
       "│ 49        ┆ column_25 │\n",
       "│ 50        ┆ column_77 │\n",
       "└───────────┴───────────┘"
      ]
     },
     "execution_count": 11,
     "metadata": {},
     "output_type": "execute_result"
    }
   ],
   "source": [
    "# Low memory mode will try to reduce memory usage in the selection process.\n",
    "# Even in low memory mode, this is faster than the packages out there.\n",
    "mrmr(df_pl, target=\"target\", k = 50, low_memory=True)"
   ]
  },
  {
   "cell_type": "code",
   "execution_count": 12,
   "metadata": {},
   "outputs": [],
   "source": [
    "from mrmr import mrmr_classif"
   ]
  },
  {
   "cell_type": "code",
   "execution_count": 13,
   "metadata": {},
   "outputs": [],
   "source": [
    "#\n",
    "def mrmr_package(df:pd.DataFrame, target:str, k:int) -> list[str]:\n",
    "    \n",
    "    features = list(df.columns)\n",
    "    features.remove(target)\n",
    "\n",
    "    X = df[features]\n",
    "    y = df[target]\n",
    "    start = perf_counter()\n",
    "    output = mrmr_classif(X, y, K = k)\n",
    "    end = perf_counter()\n",
    "    print(f\"Spent {end - start:.2f}s to compute mrmr.\")\n",
    "    return output"
   ]
  },
  {
   "cell_type": "code",
   "execution_count": 14,
   "metadata": {},
   "outputs": [
    {
     "name": "stderr",
     "output_type": "stream",
     "text": [
      "100%|██████████| 50/50 [00:34<00:00,  1.46it/s]"
     ]
    },
    {
     "name": "stdout",
     "output_type": "stream",
     "text": [
      "Spent 38.50s to compute mrmr.\n"
     ]
    },
    {
     "name": "stderr",
     "output_type": "stream",
     "text": [
      "\n"
     ]
    },
    {
     "data": {
      "text/plain": [
       "['column_82',\n",
       " 'column_16',\n",
       " 'column_84',\n",
       " 'column_14',\n",
       " 'column_26',\n",
       " 'column_36',\n",
       " 'column_38',\n",
       " 'column_23',\n",
       " 'column_70',\n",
       " 'column_41',\n",
       " 'column_94',\n",
       " 'column_3',\n",
       " 'column_7',\n",
       " 'column_57',\n",
       " 'column_44',\n",
       " 'column_76',\n",
       " 'column_42',\n",
       " 'column_98',\n",
       " 'column_71',\n",
       " 'column_92',\n",
       " 'column_62',\n",
       " 'column_91',\n",
       " 'column_56',\n",
       " 'column_96',\n",
       " 'column_79',\n",
       " 'column_97',\n",
       " 'column_40',\n",
       " 'column_17',\n",
       " 'column_27',\n",
       " 'column_99',\n",
       " 'column_30',\n",
       " 'column_66',\n",
       " 'column_2',\n",
       " 'column_33',\n",
       " 'column_1',\n",
       " 'column_24',\n",
       " 'column_58',\n",
       " 'column_80',\n",
       " 'column_72',\n",
       " 'column_47',\n",
       " 'column_59',\n",
       " 'column_52',\n",
       " 'column_50',\n",
       " 'column_9',\n",
       " 'column_37',\n",
       " 'column_12',\n",
       " 'column_45',\n",
       " 'column_68',\n",
       " 'column_25',\n",
       " 'column_77']"
      ]
     },
     "execution_count": 14,
     "metadata": {},
     "output_type": "execute_result"
    }
   ],
   "source": [
    "mrmr_package(df_pd, \"target\", 50)"
   ]
  },
  {
   "cell_type": "code",
   "execution_count": null,
   "metadata": {},
   "outputs": [],
   "source": []
  },
  {
   "attachments": {},
   "cell_type": "markdown",
   "metadata": {},
   "source": [
    "# Demo of MRMR from my Package."
   ]
  },
  {
   "cell_type": "code",
   "execution_count": 15,
   "metadata": {},
   "outputs": [
    {
     "name": "stdout",
     "output_type": "stream",
     "text": [
      "Running Random Forest to determine feature relevance...\n",
      "Random forest is not deterministic by default. Results may vary.\n",
      "Top 5 feature importance by MRMR_STRATEGY.RF is:\n",
      "shape: (5, 2)\n",
      "┌───────────┬──────────────────┐\n",
      "│ feature   ┆ MRMR_STRATEGY.RF │\n",
      "│ ---       ┆ ---              │\n",
      "│ str       ┆ f64              │\n",
      "╞═══════════╪══════════════════╡\n",
      "│ column_82 ┆ 0.146003         │\n",
      "│ column_14 ┆ 0.074457         │\n",
      "│ column_70 ┆ 0.063351         │\n",
      "│ column_84 ┆ 0.044327         │\n",
      "│ column_94 ┆ 0.043542         │\n",
      "└───────────┴──────────────────┘\n",
      "Found 100 total features to select from. Proceeding to select top 20 features.\n"
     ]
    },
    {
     "name": "stderr",
     "output_type": "stream",
     "text": [
      "100%|██████████| 20/20 [00:00<00:00, 28.88it/s]\n"
     ]
    },
    {
     "data": {
      "text/html": [
       "<div><style>\n",
       ".dataframe > thead > tr > th,\n",
       ".dataframe > tbody > tr > td {\n",
       "  text-align: right;\n",
       "}\n",
       "</style>\n",
       "<small>shape: (20, 2)</small><table border=\"1\" class=\"dataframe\"><thead><tr><th>mrmr_rank</th><th>feature</th></tr><tr><td>i64</td><td>str</td></tr></thead><tbody><tr><td>1</td><td>&quot;column_82&quot;</td></tr><tr><td>2</td><td>&quot;column_87&quot;</td></tr><tr><td>3</td><td>&quot;column_44&quot;</td></tr><tr><td>4</td><td>&quot;column_84&quot;</td></tr><tr><td>5</td><td>&quot;column_14&quot;</td></tr><tr><td>6</td><td>&quot;column_96&quot;</td></tr><tr><td>7</td><td>&quot;column_70&quot;</td></tr><tr><td>8</td><td>&quot;column_26&quot;</td></tr><tr><td>9</td><td>&quot;column_23&quot;</td></tr><tr><td>10</td><td>&quot;column_7&quot;</td></tr><tr><td>11</td><td>&quot;column_94&quot;</td></tr><tr><td>12</td><td>&quot;column_36&quot;</td></tr><tr><td>13</td><td>&quot;column_69&quot;</td></tr><tr><td>14</td><td>&quot;column_16&quot;</td></tr><tr><td>15</td><td>&quot;column_50&quot;</td></tr><tr><td>16</td><td>&quot;column_59&quot;</td></tr><tr><td>17</td><td>&quot;column_24&quot;</td></tr><tr><td>18</td><td>&quot;column_92&quot;</td></tr><tr><td>19</td><td>&quot;column_62&quot;</td></tr><tr><td>20</td><td>&quot;column_38&quot;</td></tr></tbody></table></div>"
      ],
      "text/plain": [
       "shape: (20, 2)\n",
       "┌───────────┬───────────┐\n",
       "│ mrmr_rank ┆ feature   │\n",
       "│ ---       ┆ ---       │\n",
       "│ i64       ┆ str       │\n",
       "╞═══════════╪═══════════╡\n",
       "│ 1         ┆ column_82 │\n",
       "│ 2         ┆ column_87 │\n",
       "│ 3         ┆ column_44 │\n",
       "│ 4         ┆ column_84 │\n",
       "│ …         ┆ …         │\n",
       "│ 17        ┆ column_24 │\n",
       "│ 18        ┆ column_92 │\n",
       "│ 19        ┆ column_62 │\n",
       "│ 20        ┆ column_38 │\n",
       "└───────────┴───────────┘"
      ]
     },
     "execution_count": 15,
     "metadata": {},
     "output_type": "execute_result"
    }
   ],
   "source": [
    "# No num_cols is provided. It will automatically detect and use numerical columns.\n",
    "mrmr(df_pl, target=\"target\", k=20, strategy=MRMR_STRATEGY.RF, params={\"n_estimators\":10, \"max_depth\":5, \"n_jobs\":-1})"
   ]
  },
  {
   "cell_type": "code",
   "execution_count": 16,
   "metadata": {},
   "outputs": [
    {
     "name": "stdout",
     "output_type": "stream",
     "text": [
      "Running XGBoost to determine feature relevance...\n",
      "XGB is not deterministic by default. Results may vary.\n",
      "Top 5 feature importance by MRMR_STRATEGY.XGB is:\n",
      "shape: (5, 2)\n",
      "┌───────────┬───────────────────┐\n",
      "│ feature   ┆ MRMR_STRATEGY.XGB │\n",
      "│ ---       ┆ ---               │\n",
      "│ str       ┆ f64               │\n",
      "╞═══════════╪═══════════════════╡\n",
      "│ column_84 ┆ 0.086082          │\n",
      "│ column_82 ┆ 0.082796          │\n",
      "│ column_50 ┆ 0.04561           │\n",
      "│ column_59 ┆ 0.043795          │\n",
      "│ column_35 ┆ 0.040338          │\n",
      "└───────────┴───────────────────┘\n",
      "Found 100 total features to select from. Proceeding to select top 20 features.\n"
     ]
    },
    {
     "name": "stderr",
     "output_type": "stream",
     "text": [
      "100%|██████████| 20/20 [00:00<00:00, 28.88it/s]\n"
     ]
    },
    {
     "data": {
      "text/html": [
       "<div><style>\n",
       ".dataframe > thead > tr > th,\n",
       ".dataframe > tbody > tr > td {\n",
       "  text-align: right;\n",
       "}\n",
       "</style>\n",
       "<small>shape: (20, 2)</small><table border=\"1\" class=\"dataframe\"><thead><tr><th>mrmr_rank</th><th>feature</th></tr><tr><td>i64</td><td>str</td></tr></thead><tbody><tr><td>1</td><td>&quot;column_84&quot;</td></tr><tr><td>2</td><td>&quot;column_35&quot;</td></tr><tr><td>3</td><td>&quot;column_0&quot;</td></tr><tr><td>4</td><td>&quot;column_44&quot;</td></tr><tr><td>5</td><td>&quot;column_82&quot;</td></tr><tr><td>6</td><td>&quot;column_50&quot;</td></tr><tr><td>7</td><td>&quot;column_21&quot;</td></tr><tr><td>8</td><td>&quot;column_87&quot;</td></tr><tr><td>9</td><td>&quot;column_59&quot;</td></tr><tr><td>10</td><td>&quot;column_16&quot;</td></tr><tr><td>11</td><td>&quot;column_94&quot;</td></tr><tr><td>12</td><td>&quot;column_67&quot;</td></tr><tr><td>13</td><td>&quot;column_26&quot;</td></tr><tr><td>14</td><td>&quot;column_96&quot;</td></tr><tr><td>15</td><td>&quot;column_14&quot;</td></tr><tr><td>16</td><td>&quot;column_27&quot;</td></tr><tr><td>17</td><td>&quot;column_56&quot;</td></tr><tr><td>18</td><td>&quot;column_68&quot;</td></tr><tr><td>19</td><td>&quot;column_11&quot;</td></tr><tr><td>20</td><td>&quot;column_37&quot;</td></tr></tbody></table></div>"
      ],
      "text/plain": [
       "shape: (20, 2)\n",
       "┌───────────┬───────────┐\n",
       "│ mrmr_rank ┆ feature   │\n",
       "│ ---       ┆ ---       │\n",
       "│ i64       ┆ str       │\n",
       "╞═══════════╪═══════════╡\n",
       "│ 1         ┆ column_84 │\n",
       "│ 2         ┆ column_35 │\n",
       "│ 3         ┆ column_0  │\n",
       "│ 4         ┆ column_44 │\n",
       "│ …         ┆ …         │\n",
       "│ 17        ┆ column_56 │\n",
       "│ 18        ┆ column_68 │\n",
       "│ 19        ┆ column_11 │\n",
       "│ 20        ┆ column_37 │\n",
       "└───────────┴───────────┘"
      ]
     },
     "execution_count": 16,
     "metadata": {},
     "output_type": "execute_result"
    }
   ],
   "source": [
    "mrmr(df_pl, target=\"target\", k=20, strategy=MRMR_STRATEGY.XGB, params={\"n_estimators\":10, \"max_depth\":5})"
   ]
  },
  {
   "cell_type": "code",
   "execution_count": 17,
   "metadata": {},
   "outputs": [
    {
     "name": "stdout",
     "output_type": "stream",
     "text": [
      "Running Mutual Information Score to determine feature relevance...\n"
     ]
    },
    {
     "name": "stderr",
     "output_type": "stream",
     "text": [
      "100%|██████████| 100/100 [00:48<00:00,  2.06it/s]\n"
     ]
    },
    {
     "name": "stdout",
     "output_type": "stream",
     "text": [
      "Top 5 feature importance by MRMR_STRATEGY.MIS is:\n",
      "shape: (5, 2)\n",
      "┌───────────┬───────────────────┐\n",
      "│ feature   ┆ MRMR_STRATEGY.MIS │\n",
      "│ ---       ┆ ---               │\n",
      "│ str       ┆ f64               │\n",
      "╞═══════════╪═══════════════════╡\n",
      "│ column_82 ┆ 0.091703          │\n",
      "│ column_14 ┆ 0.081395          │\n",
      "│ column_84 ┆ 0.07264           │\n",
      "│ column_70 ┆ 0.066328          │\n",
      "│ column_26 ┆ 0.065226          │\n",
      "└───────────┴───────────────────┘\n",
      "Found 100 total features to select from. Proceeding to select top 20 features.\n"
     ]
    },
    {
     "name": "stderr",
     "output_type": "stream",
     "text": [
      "100%|██████████| 20/20 [00:00<00:00, 29.72it/s]\n"
     ]
    },
    {
     "data": {
      "text/html": [
       "<div><style>\n",
       ".dataframe > thead > tr > th,\n",
       ".dataframe > tbody > tr > td {\n",
       "  text-align: right;\n",
       "}\n",
       "</style>\n",
       "<small>shape: (20, 2)</small><table border=\"1\" class=\"dataframe\"><thead><tr><th>mrmr_rank</th><th>feature</th></tr><tr><td>i64</td><td>str</td></tr></thead><tbody><tr><td>1</td><td>&quot;column_82&quot;</td></tr><tr><td>2</td><td>&quot;column_16&quot;</td></tr><tr><td>3</td><td>&quot;column_46&quot;</td></tr><tr><td>4</td><td>&quot;column_94&quot;</td></tr><tr><td>5</td><td>&quot;column_36&quot;</td></tr><tr><td>6</td><td>&quot;column_14&quot;</td></tr><tr><td>7</td><td>&quot;column_96&quot;</td></tr><tr><td>8</td><td>&quot;column_26&quot;</td></tr><tr><td>9</td><td>&quot;column_38&quot;</td></tr><tr><td>10</td><td>&quot;column_84&quot;</td></tr><tr><td>11</td><td>&quot;column_41&quot;</td></tr><tr><td>12</td><td>&quot;column_70&quot;</td></tr><tr><td>13</td><td>&quot;column_23&quot;</td></tr><tr><td>14</td><td>&quot;column_50&quot;</td></tr><tr><td>15</td><td>&quot;column_44&quot;</td></tr><tr><td>16</td><td>&quot;column_3&quot;</td></tr><tr><td>17</td><td>&quot;column_56&quot;</td></tr><tr><td>18</td><td>&quot;column_11&quot;</td></tr><tr><td>19</td><td>&quot;column_57&quot;</td></tr><tr><td>20</td><td>&quot;column_76&quot;</td></tr></tbody></table></div>"
      ],
      "text/plain": [
       "shape: (20, 2)\n",
       "┌───────────┬───────────┐\n",
       "│ mrmr_rank ┆ feature   │\n",
       "│ ---       ┆ ---       │\n",
       "│ i64       ┆ str       │\n",
       "╞═══════════╪═══════════╡\n",
       "│ 1         ┆ column_82 │\n",
       "│ 2         ┆ column_16 │\n",
       "│ 3         ┆ column_46 │\n",
       "│ 4         ┆ column_94 │\n",
       "│ …         ┆ …         │\n",
       "│ 17        ┆ column_56 │\n",
       "│ 18        ┆ column_11 │\n",
       "│ 19        ┆ column_57 │\n",
       "│ 20        ┆ column_76 │\n",
       "└───────────┴───────────┘"
      ]
     },
     "execution_count": 17,
     "metadata": {},
     "output_type": "execute_result"
    }
   ],
   "source": [
    "mrmr(df_pl, target=\"target\", k=20, strategy=MRMR_STRATEGY.MIS)"
   ]
  },
  {
   "cell_type": "code",
   "execution_count": 18,
   "metadata": {},
   "outputs": [
    {
     "name": "stdout",
     "output_type": "stream",
     "text": [
      "Running F-score to determine feature relevance...\n",
      "Top 5 feature importance by MRMR_STRATEGY.F_SCORE is:\n",
      "shape: (5, 2)\n",
      "┌───────────┬───────────────────────┐\n",
      "│ feature   ┆ MRMR_STRATEGY.F_SCORE │\n",
      "│ ---       ┆ ---                   │\n",
      "│ str       ┆ f64                   │\n",
      "╞═══════════╪═══════════════════════╡\n",
      "│ column_82 ┆ 109313.720853         │\n",
      "│ column_14 ┆ 105998.288316         │\n",
      "│ column_84 ┆ 84413.59341           │\n",
      "│ column_26 ┆ 83190.662637          │\n",
      "│ column_70 ┆ 83042.301099          │\n",
      "└───────────┴───────────────────────┘\n",
      "Found 100 total features to select from. Proceeding to select top 20 features.\n",
      "For knock out MRMR, it is possible for the process to end without finding enough variables. Try making the correlation threshold higher to make more variables qualify.\n"
     ]
    },
    {
     "name": "stderr",
     "output_type": "stream",
     "text": [
      "100%|██████████| 20/20 [00:00<?, ?it/s]\n"
     ]
    },
    {
     "data": {
      "text/html": [
       "<div><style>\n",
       ".dataframe > thead > tr > th,\n",
       ".dataframe > tbody > tr > td {\n",
       "  text-align: right;\n",
       "}\n",
       "</style>\n",
       "<small>shape: (20, 2)</small><table border=\"1\" class=\"dataframe\"><thead><tr><th>mrmr_rank</th><th>feature</th></tr><tr><td>i64</td><td>str</td></tr></thead><tbody><tr><td>1</td><td>&quot;column_82&quot;</td></tr><tr><td>2</td><td>&quot;column_14&quot;</td></tr><tr><td>3</td><td>&quot;column_84&quot;</td></tr><tr><td>4</td><td>&quot;column_26&quot;</td></tr><tr><td>5</td><td>&quot;column_70&quot;</td></tr><tr><td>6</td><td>&quot;column_36&quot;</td></tr><tr><td>7</td><td>&quot;column_38&quot;</td></tr><tr><td>8</td><td>&quot;column_23&quot;</td></tr><tr><td>9</td><td>&quot;column_94&quot;</td></tr><tr><td>10</td><td>&quot;column_57&quot;</td></tr><tr><td>11</td><td>&quot;column_3&quot;</td></tr><tr><td>12</td><td>&quot;column_42&quot;</td></tr><tr><td>13</td><td>&quot;column_62&quot;</td></tr><tr><td>14</td><td>&quot;column_7&quot;</td></tr><tr><td>15</td><td>&quot;column_71&quot;</td></tr><tr><td>16</td><td>&quot;column_76&quot;</td></tr><tr><td>17</td><td>&quot;column_41&quot;</td></tr><tr><td>18</td><td>&quot;column_92&quot;</td></tr><tr><td>19</td><td>&quot;column_17&quot;</td></tr><tr><td>20</td><td>&quot;column_30&quot;</td></tr></tbody></table></div>"
      ],
      "text/plain": [
       "shape: (20, 2)\n",
       "┌───────────┬───────────┐\n",
       "│ mrmr_rank ┆ feature   │\n",
       "│ ---       ┆ ---       │\n",
       "│ i64       ┆ str       │\n",
       "╞═══════════╪═══════════╡\n",
       "│ 1         ┆ column_82 │\n",
       "│ 2         ┆ column_14 │\n",
       "│ 3         ┆ column_84 │\n",
       "│ 4         ┆ column_26 │\n",
       "│ …         ┆ …         │\n",
       "│ 17        ┆ column_41 │\n",
       "│ 18        ┆ column_92 │\n",
       "│ 19        ┆ column_17 │\n",
       "│ 20        ┆ column_30 │\n",
       "└───────────┴───────────┘"
      ]
     },
     "execution_count": 18,
     "metadata": {},
     "output_type": "execute_result"
    }
   ],
   "source": [
    "# Inspired by Featurewiz's SULOV\n",
    "knock_out_mrmr(df_pl, target=\"target\", k=20, strategy=MRMR_STRATEGY.F_SCORE)"
   ]
  },
  {
   "cell_type": "code",
   "execution_count": null,
   "metadata": {},
   "outputs": [],
   "source": []
  }
 ],
 "metadata": {
  "kernelspec": {
   "display_name": "my_py11",
   "language": "python",
   "name": "python3"
  },
  "language_info": {
   "codemirror_mode": {
    "name": "ipython",
    "version": 3
   },
   "file_extension": ".py",
   "mimetype": "text/x-python",
   "name": "python",
   "nbconvert_exporter": "python",
   "pygments_lexer": "ipython3",
   "version": "3.11.3"
  },
  "orig_nbformat": 4
 },
 "nbformat": 4,
 "nbformat_minor": 2
}
