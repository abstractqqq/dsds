{
 "cells": [
  {
   "cell_type": "code",
   "execution_count": 2,
   "metadata": {},
   "outputs": [],
   "source": [
    "import polars as pl \n",
    "import numpy as np\n",
    "from sklearn.datasets import make_classification\n",
    "from sklearn.feature_selection import f_regression\n",
    "import pandas as pd\n",
    "from time import perf_counter\n",
    "import sys\n",
    "sys.path.append('../src')\n",
    "from dsds.fs import _f_score, mrmr, knock_out_mrmr"
   ]
  },
  {
   "attachments": {},
   "cell_type": "markdown",
   "metadata": {},
   "source": [
    "# Great Article and Introduction to MRMR Types of Feature Selection Algorithms\n",
    "\n",
    "https://towardsdatascience.com/mrmr-explained-exactly-how-you-wished-someone-explained-to-you-9cf4ed27458b"
   ]
  },
  {
   "cell_type": "code",
   "execution_count": 3,
   "metadata": {},
   "outputs": [],
   "source": [
    "# create some data\n",
    "orig_x, orig_y = make_classification(n_samples = 100_000, n_features = 50, n_informative = 20, n_redundant = 30)"
   ]
  },
  {
   "cell_type": "code",
   "execution_count": 4,
   "metadata": {},
   "outputs": [],
   "source": [
    "df_pl = pl.from_numpy(orig_x).insert_at_idx(0, pl.Series(\"target\", orig_y))\n",
    "df_pd = df_pl.to_pandas()"
   ]
  },
  {
   "cell_type": "code",
   "execution_count": 5,
   "metadata": {},
   "outputs": [],
   "source": [
    "del orig_x\n",
    "del orig_y"
   ]
  },
  {
   "cell_type": "code",
   "execution_count": 6,
   "metadata": {},
   "outputs": [],
   "source": [
    "def mrmr_my_rewrite(df:pl.DataFrame, target:str, k:int) -> list[str]:\n",
    "\n",
    "    features = df.columns\n",
    "    features.remove(target)\n",
    "\n",
    "    start = perf_counter()\n",
    "    f_scores = _f_score(df, target, features)\n",
    "    end_1 = perf_counter()\n",
    "    print(f\"Spent {end_1 - start:.2f}s to compute f score.\")\n",
    "\n",
    "    df_scaled = df.select(features).with_columns(\n",
    "        (pl.col(f) - pl.col(f).mean())/pl.col(f).std() for f in features\n",
    "    )\n",
    "\n",
    "    cumulating_sum = np.zeros(len(features)) # For each feature at index i, we keep a cumulating sum\n",
    "    top_idx = np.argmax(f_scores)\n",
    "    selected_features = [features[top_idx]]\n",
    "    for j in range(1, k): \n",
    "        argmax = -1\n",
    "        current_max = -1\n",
    "        last_selected = selected_features[-1]\n",
    "        for i,f in enumerate(features):\n",
    "            if f not in selected_features:\n",
    "                # Left = cumulating sum of abs corr\n",
    "                # Right = abs correlation btw last_selected and f\n",
    "                cumulating_sum[i] += np.abs((df_scaled.get_column(last_selected)*df_scaled.get_column(f)).mean())\n",
    "                denominator = cumulating_sum[i] / j\n",
    "                new_score = f_scores[i] / denominator\n",
    "                if new_score > current_max:\n",
    "                    current_max = new_score\n",
    "                    argmax = i\n",
    "\n",
    "        selected_features.append(features[argmax])\n",
    "\n",
    "    end_2 = perf_counter()\n",
    "    print(f\"Took {end_2 - end_1:.2f}s to compute mrmr.\")\n",
    "    return selected_features\n",
    "    "
   ]
  },
  {
   "cell_type": "code",
   "execution_count": 7,
   "metadata": {},
   "outputs": [],
   "source": [
    "def mrmr_np_rewrite(df:pl.DataFrame, target:str, k:int) -> list[str]:\n",
    "\n",
    "    features = df.columns\n",
    "    features.remove(target)\n",
    "\n",
    "    start = perf_counter()\n",
    "    f_scores = _f_score(df, target, features)\n",
    "    end_1 = perf_counter()\n",
    "    print(f\"Spent {end_1 - start:.2f}s to compute f score.\")\n",
    "\n",
    "    x = df.select(features).to_numpy()\n",
    "    x_scaled = (x - x.mean(axis=0)) / x.std(axis=0)\n",
    "\n",
    "    cumulating_sum = np.zeros(len(features)) # For each feature at index i, we keep a cumulating sum\n",
    "    top_idx = np.argmax(f_scores)\n",
    "    selected_features = [features[top_idx]]\n",
    "    last_selected_idx = top_idx\n",
    "    for j in range(1, k): \n",
    "        argmax = -1\n",
    "        current_max = -1\n",
    "        for i,f in enumerate(features):\n",
    "            if f not in selected_features:\n",
    "                # Left = cumulating sum of abs corr\n",
    "                # Right = abs correlation btw last_selected and f\n",
    "                cumulating_sum[i] += np.abs(np.mean(x_scaled[:,last_selected_idx]*x_scaled[:,i]))\n",
    "                denominator = cumulating_sum[i] / j\n",
    "                new_score = f_scores[i] / denominator\n",
    "                if new_score > current_max:\n",
    "                    current_max = new_score\n",
    "                    argmax = i\n",
    "\n",
    "        selected_features.append(features[argmax])\n",
    "        last_selected_idx = argmax\n",
    "\n",
    "    end_2 = perf_counter()\n",
    "    print(f\"Took {end_2 - end_1:.2f}s to compute mrmr.\")\n",
    "    return selected_features"
   ]
  },
  {
   "cell_type": "code",
   "execution_count": 8,
   "metadata": {},
   "outputs": [],
   "source": [
    "def mrmr_medium(df:pd.DataFrame, target:str, k:int) -> list[str]:\n",
    "\n",
    "    features = list(df.columns)\n",
    "    features.remove(target)\n",
    "\n",
    "    X = df[features]\n",
    "    y = df[target]\n",
    "\n",
    "    # compute F-statistics and initialize correlation matrix\n",
    "    start = perf_counter()\n",
    "    F = pd.Series(f_regression(X, y)[0], index = X.columns)\n",
    "    end_1 = perf_counter()\n",
    "    print(f\"Spent {end_1 - start:.2f}s to compute f score.\")\n",
    "\n",
    "    corr = pd.DataFrame(.00001, index = X.columns, columns = X.columns)\n",
    "\n",
    "    # initialize list of selected features and list of excluded features\n",
    "    selected = []\n",
    "    not_selected = X.columns.to_list()\n",
    "\n",
    "    # repeat K times\n",
    "    for i in range(k):\n",
    "    \n",
    "        # compute (absolute) correlations between the last selected feature and all the (currently) excluded features\n",
    "        if i > 0:\n",
    "            last_selected = selected[-1]\n",
    "            corr.loc[not_selected, last_selected] = X[not_selected].corrwith(X[last_selected]).abs().clip(.00001)\n",
    "            \n",
    "        # compute FCQ score for all the (currently) excluded features (this is Formula 2)\n",
    "        score = F.loc[not_selected] / corr.loc[not_selected, selected].mean(axis = 1).fillna(.00001)\n",
    "        \n",
    "        # find best feature, add it to selected and remove it from not_selected\n",
    "        best = score.index[score.argmax()]\n",
    "        selected.append(best)\n",
    "        not_selected.remove(best)\n",
    "\n",
    "    # print(selected) \n",
    "    end_2 = perf_counter()\n",
    "    print(f\"Took {end_2 - end_1:.2f}s to compute mrmr.\")\n",
    "    return selected "
   ]
  },
  {
   "cell_type": "code",
   "execution_count": 9,
   "metadata": {},
   "outputs": [
    {
     "name": "stdout",
     "output_type": "stream",
     "text": [
      "Spent 0.16s to compute f score.\n",
      "Took 0.11s to compute mrmr.\n"
     ]
    },
    {
     "data": {
      "text/plain": [
       "['column_10',\n",
       " 'column_20',\n",
       " 'column_36',\n",
       " 'column_17',\n",
       " 'column_3',\n",
       " 'column_47',\n",
       " 'column_49',\n",
       " 'column_12',\n",
       " 'column_43',\n",
       " 'column_19',\n",
       " 'column_22',\n",
       " 'column_44',\n",
       " 'column_7',\n",
       " 'column_6',\n",
       " 'column_46',\n",
       " 'column_2',\n",
       " 'column_14',\n",
       " 'column_37',\n",
       " 'column_4',\n",
       " 'column_8',\n",
       " 'column_26',\n",
       " 'column_21',\n",
       " 'column_13',\n",
       " 'column_33',\n",
       " 'column_48',\n",
       " 'column_0',\n",
       " 'column_5',\n",
       " 'column_18',\n",
       " 'column_45',\n",
       " 'column_32',\n",
       " 'column_1',\n",
       " 'column_29',\n",
       " 'column_31',\n",
       " 'column_9',\n",
       " 'column_16',\n",
       " 'column_24',\n",
       " 'column_39',\n",
       " 'column_25',\n",
       " 'column_42',\n",
       " 'column_23',\n",
       " 'column_34',\n",
       " 'column_27',\n",
       " 'column_28',\n",
       " 'column_40',\n",
       " 'column_15',\n",
       " 'column_30',\n",
       " 'column_35',\n",
       " 'column_11',\n",
       " 'column_41',\n",
       " 'column_38']"
      ]
     },
     "execution_count": 9,
     "metadata": {},
     "output_type": "execute_result"
    }
   ],
   "source": [
    "mrmr_my_rewrite(df_pl, \"target\", 50)"
   ]
  },
  {
   "cell_type": "code",
   "execution_count": 10,
   "metadata": {},
   "outputs": [
    {
     "name": "stdout",
     "output_type": "stream",
     "text": [
      "Spent 0.02s to compute f score.\n",
      "Took 0.16s to compute mrmr.\n"
     ]
    },
    {
     "data": {
      "text/plain": [
       "['column_10',\n",
       " 'column_20',\n",
       " 'column_36',\n",
       " 'column_17',\n",
       " 'column_3',\n",
       " 'column_47',\n",
       " 'column_49',\n",
       " 'column_12',\n",
       " 'column_43',\n",
       " 'column_19',\n",
       " 'column_22',\n",
       " 'column_44',\n",
       " 'column_7',\n",
       " 'column_6',\n",
       " 'column_46',\n",
       " 'column_2',\n",
       " 'column_14',\n",
       " 'column_37',\n",
       " 'column_4',\n",
       " 'column_8',\n",
       " 'column_26',\n",
       " 'column_21',\n",
       " 'column_13',\n",
       " 'column_33',\n",
       " 'column_48',\n",
       " 'column_0',\n",
       " 'column_5',\n",
       " 'column_18',\n",
       " 'column_45',\n",
       " 'column_32',\n",
       " 'column_1',\n",
       " 'column_29',\n",
       " 'column_31',\n",
       " 'column_9',\n",
       " 'column_16',\n",
       " 'column_24',\n",
       " 'column_39',\n",
       " 'column_25',\n",
       " 'column_42',\n",
       " 'column_23',\n",
       " 'column_34',\n",
       " 'column_27',\n",
       " 'column_28',\n",
       " 'column_40',\n",
       " 'column_15',\n",
       " 'column_30',\n",
       " 'column_35',\n",
       " 'column_11',\n",
       " 'column_41',\n",
       " 'column_38']"
      ]
     },
     "execution_count": 10,
     "metadata": {},
     "output_type": "execute_result"
    }
   ],
   "source": [
    "# Use my version of f_score computation.\n",
    "# Use pure NumPy for the rest of the computation.\n",
    "# This shows that copying to NumPy, does not pay off. Stay in Polars is a better idea.\n",
    "mrmr_np_rewrite(df_pl, \"target\", 50)"
   ]
  },
  {
   "cell_type": "code",
   "execution_count": 11,
   "metadata": {},
   "outputs": [
    {
     "name": "stdout",
     "output_type": "stream",
     "text": [
      "Spent 0.01s to compute f score.\n",
      "Took 1.65s to compute mrmr.\n"
     ]
    },
    {
     "data": {
      "text/plain": [
       "['column_10',\n",
       " 'column_20',\n",
       " 'column_36',\n",
       " 'column_17',\n",
       " 'column_3',\n",
       " 'column_47',\n",
       " 'column_49',\n",
       " 'column_12',\n",
       " 'column_43',\n",
       " 'column_19',\n",
       " 'column_22',\n",
       " 'column_44',\n",
       " 'column_7',\n",
       " 'column_6',\n",
       " 'column_46',\n",
       " 'column_2',\n",
       " 'column_14',\n",
       " 'column_37',\n",
       " 'column_4',\n",
       " 'column_8',\n",
       " 'column_26',\n",
       " 'column_21',\n",
       " 'column_13',\n",
       " 'column_33',\n",
       " 'column_48',\n",
       " 'column_0',\n",
       " 'column_5',\n",
       " 'column_18',\n",
       " 'column_45',\n",
       " 'column_32',\n",
       " 'column_1',\n",
       " 'column_29',\n",
       " 'column_31',\n",
       " 'column_9',\n",
       " 'column_16',\n",
       " 'column_24',\n",
       " 'column_39',\n",
       " 'column_25',\n",
       " 'column_42',\n",
       " 'column_23',\n",
       " 'column_34',\n",
       " 'column_27',\n",
       " 'column_28',\n",
       " 'column_40',\n",
       " 'column_15',\n",
       " 'column_30',\n",
       " 'column_35',\n",
       " 'column_11',\n",
       " 'column_41',\n",
       " 'column_38']"
      ]
     },
     "execution_count": 11,
     "metadata": {},
     "output_type": "execute_result"
    }
   ],
   "source": [
    "mrmr_medium(df_pd, \"target\", 50)"
   ]
  },
  {
   "cell_type": "code",
   "execution_count": 12,
   "metadata": {},
   "outputs": [
    {
     "name": "stdout",
     "output_type": "stream",
     "text": [
      "Running fscore to determine feature relevance...\n",
      "Found 50 total features to select from. Proceeding to select top 50 features.\n"
     ]
    },
    {
     "name": "stderr",
     "output_type": "stream",
     "text": [
      "MRMR, fscore: 100%|██████████| 50/50 [00:00<00:00, 462.73it/s]"
     ]
    },
    {
     "name": "stdout",
     "output_type": "stream",
     "text": [
      "Output is sorted in order of selection (max relevance min redundancy).\n"
     ]
    },
    {
     "name": "stderr",
     "output_type": "stream",
     "text": [
      "\n"
     ]
    },
    {
     "data": {
      "text/plain": [
       "['column_10',\n",
       " 'column_20',\n",
       " 'column_36',\n",
       " 'column_17',\n",
       " 'column_3',\n",
       " 'column_47',\n",
       " 'column_49',\n",
       " 'column_12',\n",
       " 'column_43',\n",
       " 'column_19',\n",
       " 'column_22',\n",
       " 'column_44',\n",
       " 'column_7',\n",
       " 'column_6',\n",
       " 'column_46',\n",
       " 'column_2',\n",
       " 'column_14',\n",
       " 'column_37',\n",
       " 'column_4',\n",
       " 'column_8',\n",
       " 'column_26',\n",
       " 'column_21',\n",
       " 'column_13',\n",
       " 'column_33',\n",
       " 'column_48',\n",
       " 'column_0',\n",
       " 'column_5',\n",
       " 'column_18',\n",
       " 'column_45',\n",
       " 'column_32',\n",
       " 'column_1',\n",
       " 'column_29',\n",
       " 'column_31',\n",
       " 'column_9',\n",
       " 'column_16',\n",
       " 'column_24',\n",
       " 'column_39',\n",
       " 'column_25',\n",
       " 'column_42',\n",
       " 'column_23',\n",
       " 'column_34',\n",
       " 'column_27',\n",
       " 'column_28',\n",
       " 'column_40',\n",
       " 'column_15',\n",
       " 'column_30',\n",
       " 'column_35',\n",
       " 'column_11',\n",
       " 'column_41',\n",
       " 'column_38']"
      ]
     },
     "execution_count": 12,
     "metadata": {},
     "output_type": "execute_result"
    }
   ],
   "source": [
    "# My yet to be published package.\n",
    "mrmr(df_pl, target=\"target\", k = 50)"
   ]
  },
  {
   "cell_type": "code",
   "execution_count": 13,
   "metadata": {},
   "outputs": [
    {
     "name": "stdout",
     "output_type": "stream",
     "text": [
      "Running fscore to determine feature relevance...\n",
      "Found 50 total features to select from. Proceeding to select top 50 features.\n"
     ]
    },
    {
     "name": "stderr",
     "output_type": "stream",
     "text": [
      "MRMR, fscore: 100%|██████████| 50/50 [00:00<00:00, 71.78it/s]"
     ]
    },
    {
     "name": "stdout",
     "output_type": "stream",
     "text": [
      "Output is sorted in order of selection (max relevance min redundancy).\n"
     ]
    },
    {
     "name": "stderr",
     "output_type": "stream",
     "text": [
      "\n"
     ]
    },
    {
     "data": {
      "text/plain": [
       "['column_10',\n",
       " 'column_20',\n",
       " 'column_36',\n",
       " 'column_17',\n",
       " 'column_3',\n",
       " 'column_47',\n",
       " 'column_49',\n",
       " 'column_12',\n",
       " 'column_43',\n",
       " 'column_19',\n",
       " 'column_22',\n",
       " 'column_44',\n",
       " 'column_7',\n",
       " 'column_6',\n",
       " 'column_46',\n",
       " 'column_2',\n",
       " 'column_14',\n",
       " 'column_37',\n",
       " 'column_4',\n",
       " 'column_8',\n",
       " 'column_26',\n",
       " 'column_21',\n",
       " 'column_13',\n",
       " 'column_33',\n",
       " 'column_48',\n",
       " 'column_0',\n",
       " 'column_5',\n",
       " 'column_18',\n",
       " 'column_45',\n",
       " 'column_32',\n",
       " 'column_1',\n",
       " 'column_29',\n",
       " 'column_31',\n",
       " 'column_9',\n",
       " 'column_16',\n",
       " 'column_24',\n",
       " 'column_39',\n",
       " 'column_25',\n",
       " 'column_42',\n",
       " 'column_23',\n",
       " 'column_34',\n",
       " 'column_27',\n",
       " 'column_28',\n",
       " 'column_40',\n",
       " 'column_15',\n",
       " 'column_30',\n",
       " 'column_35',\n",
       " 'column_11',\n",
       " 'column_41',\n",
       " 'column_38']"
      ]
     },
     "execution_count": 13,
     "metadata": {},
     "output_type": "execute_result"
    }
   ],
   "source": [
    "# Low memory mode will try to reduce memory usage in the selection process.\n",
    "# Even in low memory mode, this is faster than the packages out there.\n",
    "mrmr(df_pl, target=\"target\", k = 50, low_memory=True)"
   ]
  },
  {
   "cell_type": "code",
   "execution_count": 14,
   "metadata": {},
   "outputs": [],
   "source": [
    "from mrmr import mrmr_classif"
   ]
  },
  {
   "cell_type": "code",
   "execution_count": 15,
   "metadata": {},
   "outputs": [],
   "source": [
    "#\n",
    "def mrmr_package(df:pd.DataFrame, target:str, k:int) -> list[str]:\n",
    "    \n",
    "    features = list(df.columns)\n",
    "    features.remove(target)\n",
    "\n",
    "    X = df[features]\n",
    "    y = df[target]\n",
    "    start = perf_counter()\n",
    "    output = mrmr_classif(X, y, K = k)\n",
    "    end = perf_counter()\n",
    "    print(f\"Spent {end - start:.2f}s to compute mrmr.\")\n",
    "    return output"
   ]
  },
  {
   "cell_type": "code",
   "execution_count": 16,
   "metadata": {},
   "outputs": [
    {
     "name": "stderr",
     "output_type": "stream",
     "text": [
      "100%|██████████| 50/50 [00:09<00:00,  5.26it/s]"
     ]
    },
    {
     "name": "stdout",
     "output_type": "stream",
     "text": [
      "Spent 11.14s to compute mrmr.\n"
     ]
    },
    {
     "name": "stderr",
     "output_type": "stream",
     "text": [
      "\n"
     ]
    },
    {
     "data": {
      "text/plain": [
       "['column_10',\n",
       " 'column_20',\n",
       " 'column_36',\n",
       " 'column_17',\n",
       " 'column_3',\n",
       " 'column_47',\n",
       " 'column_49',\n",
       " 'column_12',\n",
       " 'column_43',\n",
       " 'column_19',\n",
       " 'column_22',\n",
       " 'column_44',\n",
       " 'column_7',\n",
       " 'column_6',\n",
       " 'column_46',\n",
       " 'column_2',\n",
       " 'column_14',\n",
       " 'column_37',\n",
       " 'column_4',\n",
       " 'column_8',\n",
       " 'column_26',\n",
       " 'column_21',\n",
       " 'column_13',\n",
       " 'column_33',\n",
       " 'column_48',\n",
       " 'column_0',\n",
       " 'column_5',\n",
       " 'column_18',\n",
       " 'column_45',\n",
       " 'column_32',\n",
       " 'column_1',\n",
       " 'column_29',\n",
       " 'column_31',\n",
       " 'column_9',\n",
       " 'column_16',\n",
       " 'column_24',\n",
       " 'column_39',\n",
       " 'column_25',\n",
       " 'column_42',\n",
       " 'column_23',\n",
       " 'column_34',\n",
       " 'column_27',\n",
       " 'column_28',\n",
       " 'column_40',\n",
       " 'column_15',\n",
       " 'column_30',\n",
       " 'column_35',\n",
       " 'column_11',\n",
       " 'column_41',\n",
       " 'column_38']"
      ]
     },
     "execution_count": 16,
     "metadata": {},
     "output_type": "execute_result"
    }
   ],
   "source": [
    "mrmr_package(df_pd, \"target\", 50)"
   ]
  },
  {
   "cell_type": "code",
   "execution_count": null,
   "metadata": {},
   "outputs": [],
   "source": []
  },
  {
   "attachments": {},
   "cell_type": "markdown",
   "metadata": {},
   "source": [
    "# Demo of MRMR from my Package."
   ]
  },
  {
   "cell_type": "code",
   "execution_count": 17,
   "metadata": {},
   "outputs": [
    {
     "name": "stdout",
     "output_type": "stream",
     "text": [
      "Running rf to determine feature relevance...\n",
      "Random forest is not deterministic by default. Results may vary.\n",
      "Found 50 total features to select from. Proceeding to select top 20 features.\n"
     ]
    },
    {
     "name": "stderr",
     "output_type": "stream",
     "text": [
      "MRMR, rf: 100%|██████████| 20/20 [00:00<00:00, 379.87it/s]"
     ]
    },
    {
     "name": "stdout",
     "output_type": "stream",
     "text": [
      "Output is sorted in order of selection (max relevance min redundancy).\n"
     ]
    },
    {
     "name": "stderr",
     "output_type": "stream",
     "text": [
      "\n"
     ]
    },
    {
     "data": {
      "text/plain": [
       "['column_10',\n",
       " 'column_21',\n",
       " 'column_12',\n",
       " 'column_47',\n",
       " 'column_3',\n",
       " 'column_17',\n",
       " 'column_43',\n",
       " 'column_14',\n",
       " 'column_33',\n",
       " 'column_18',\n",
       " 'column_49',\n",
       " 'column_26',\n",
       " 'column_6',\n",
       " 'column_44',\n",
       " 'column_4',\n",
       " 'column_45',\n",
       " 'column_25',\n",
       " 'column_36',\n",
       " 'column_13',\n",
       " 'column_27']"
      ]
     },
     "execution_count": 17,
     "metadata": {},
     "output_type": "execute_result"
    }
   ],
   "source": [
    "# No num_cols is provided. It will automatically detect and use numerical columns.\n",
    "mrmr(df_pl, target=\"target\", k=20, strategy=\"rf\"\n",
    "            , params={\"n_estimators\":10, \"max_depth\":5, \"n_jobs\":-1})"
   ]
  },
  {
   "cell_type": "code",
   "execution_count": 18,
   "metadata": {},
   "outputs": [
    {
     "name": "stdout",
     "output_type": "stream",
     "text": [
      "Running lgbm to determine feature relevance...\n",
      "LightGBM is not deterministic by default. Results may vary.\n",
      "Found 50 total features to select from. Proceeding to select top 20 features.\n"
     ]
    },
    {
     "name": "stderr",
     "output_type": "stream",
     "text": [
      "MRMR, lgbm: 100%|██████████| 20/20 [00:00<00:00, 353.16it/s]"
     ]
    },
    {
     "name": "stdout",
     "output_type": "stream",
     "text": [
      "Output is sorted in order of selection (max relevance min redundancy).\n"
     ]
    },
    {
     "name": "stderr",
     "output_type": "stream",
     "text": [
      "\n"
     ]
    },
    {
     "data": {
      "text/plain": [
       "['column_21',\n",
       " 'column_44',\n",
       " 'column_43',\n",
       " 'column_30',\n",
       " 'column_14',\n",
       " 'column_17',\n",
       " 'column_47',\n",
       " 'column_49',\n",
       " 'column_20',\n",
       " 'column_7',\n",
       " 'column_2',\n",
       " 'column_6',\n",
       " 'column_12',\n",
       " 'column_33',\n",
       " 'column_8',\n",
       " 'column_19',\n",
       " 'column_13',\n",
       " 'column_36',\n",
       " 'column_35',\n",
       " 'column_26']"
      ]
     },
     "execution_count": 18,
     "metadata": {},
     "output_type": "execute_result"
    }
   ],
   "source": [
    "mrmr(df_pl, target=\"target\", k=20, strategy=\"lgbm\"\n",
    "            , params={\"n_estimators\":10, \"max_depth\":5})"
   ]
  },
  {
   "cell_type": "code",
   "execution_count": 19,
   "metadata": {},
   "outputs": [
    {
     "name": "stdout",
     "output_type": "stream",
     "text": [
      "Running mis to determine feature relevance...\n"
     ]
    },
    {
     "name": "stderr",
     "output_type": "stream",
     "text": [
      "Mutual Info: 100%|██████████| 50/50 [00:05<00:00,  8.94it/s]\n"
     ]
    },
    {
     "name": "stdout",
     "output_type": "stream",
     "text": [
      "Found 50 total features to select from. Proceeding to select top 20 features.\n"
     ]
    },
    {
     "name": "stderr",
     "output_type": "stream",
     "text": [
      "MRMR, mis: 100%|██████████| 20/20 [00:00<00:00, 392.38it/s]"
     ]
    },
    {
     "name": "stdout",
     "output_type": "stream",
     "text": [
      "Output is sorted in order of selection (max relevance min redundancy).\n"
     ]
    },
    {
     "name": "stderr",
     "output_type": "stream",
     "text": [
      "\n"
     ]
    },
    {
     "data": {
      "text/plain": [
       "['column_10',\n",
       " 'column_29',\n",
       " 'column_33',\n",
       " 'column_3',\n",
       " 'column_49',\n",
       " 'column_47',\n",
       " 'column_12',\n",
       " 'column_43',\n",
       " 'column_14',\n",
       " 'column_26',\n",
       " 'column_21',\n",
       " 'column_22',\n",
       " 'column_23',\n",
       " 'column_6',\n",
       " 'column_4',\n",
       " 'column_45',\n",
       " 'column_42',\n",
       " 'column_1',\n",
       " 'column_48',\n",
       " 'column_20']"
      ]
     },
     "execution_count": 19,
     "metadata": {},
     "output_type": "execute_result"
    }
   ],
   "source": [
    "mrmr(df_pl, target=\"target\", k=20, strategy=\"mis\")"
   ]
  },
  {
   "cell_type": "code",
   "execution_count": 20,
   "metadata": {},
   "outputs": [
    {
     "name": "stdout",
     "output_type": "stream",
     "text": [
      "Running f to determine feature relevance...\n"
     ]
    },
    {
     "name": "stderr",
     "output_type": "stream",
     "text": [
      "100%|██████████| 20/20 [00:00<00:00, 121750.48it/s]"
     ]
    },
    {
     "name": "stdout",
     "output_type": "stream",
     "text": [
      "Output is sorted in order of selection (max relevance min redundancy).\n"
     ]
    },
    {
     "name": "stderr",
     "output_type": "stream",
     "text": [
      "\n"
     ]
    },
    {
     "data": {
      "text/plain": [
       "['column_10',\n",
       " 'column_12',\n",
       " 'column_47',\n",
       " 'column_3',\n",
       " 'column_22',\n",
       " 'column_49',\n",
       " 'column_14',\n",
       " 'column_26',\n",
       " 'column_33',\n",
       " 'column_20',\n",
       " 'column_4',\n",
       " 'column_37',\n",
       " 'column_6',\n",
       " 'column_43',\n",
       " 'column_5',\n",
       " 'column_36',\n",
       " 'column_48',\n",
       " 'column_2',\n",
       " 'column_44',\n",
       " 'column_7']"
      ]
     },
     "execution_count": 20,
     "metadata": {},
     "output_type": "execute_result"
    }
   ],
   "source": [
    "# Inspired by Featurewiz's SULOV\n",
    "knock_out_mrmr(df_pl, target=\"target\", k=20, strategy=\"f\")"
   ]
  },
  {
   "cell_type": "code",
   "execution_count": null,
   "metadata": {},
   "outputs": [],
   "source": []
  }
 ],
 "metadata": {
  "kernelspec": {
   "display_name": "my_py11",
   "language": "python",
   "name": "python3"
  },
  "language_info": {
   "codemirror_mode": {
    "name": "ipython",
    "version": 3
   },
   "file_extension": ".py",
   "mimetype": "text/x-python",
   "name": "python",
   "nbconvert_exporter": "python",
   "pygments_lexer": "ipython3",
   "version": "3.11.3"
  },
  "orig_nbformat": 4
 },
 "nbformat": 4,
 "nbformat_minor": 2
}
