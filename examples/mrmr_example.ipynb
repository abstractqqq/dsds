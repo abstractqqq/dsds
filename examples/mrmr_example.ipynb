{
 "cells": [
  {
   "cell_type": "code",
   "execution_count": 1,
   "metadata": {},
   "outputs": [],
   "source": [
    "import polars as pl \n",
    "import numpy as np\n",
    "from sklearn.datasets import make_classification\n",
    "from sklearn.feature_selection import f_regression\n",
    "import pandas as pd\n",
    "from time import perf_counter\n",
    "import sys\n",
    "sys.path.append('../src')\n",
    "from eda.eda_selection import _f_score, mrmr, MRMR_STRATEGY"
   ]
  },
  {
   "cell_type": "code",
   "execution_count": 2,
   "metadata": {},
   "outputs": [],
   "source": [
    "# create some data\n",
    "orig_x, orig_y = make_classification(n_samples = 500_000, n_features = 200, n_informative = 20, n_redundant = 180)"
   ]
  },
  {
   "cell_type": "code",
   "execution_count": 3,
   "metadata": {},
   "outputs": [],
   "source": [
    "df_pl = pl.from_numpy(orig_x).insert_at_idx(0, pl.Series(\"target\", orig_y))\n",
    "df_pd = df_pl.to_pandas()"
   ]
  },
  {
   "cell_type": "code",
   "execution_count": 4,
   "metadata": {},
   "outputs": [],
   "source": [
    "def mrmr_my_rewrite(df:pl.DataFrame, target:str, k:int) -> list[str]:\n",
    "\n",
    "    features = df.columns\n",
    "    features.remove(target)\n",
    "\n",
    "    start = perf_counter()\n",
    "    f_scores = _f_score(df, target, features)\n",
    "    end_1 = perf_counter()\n",
    "    print(f\"Spent {end_1 - start:.2f}s to compute f score.\")\n",
    "\n",
    "    df_scaled = df.select(features).with_columns(\n",
    "        (pl.col(f) - pl.col(f).mean())/pl.col(f).std() for f in features\n",
    "    )\n",
    "\n",
    "    cumulating_sum = np.zeros(len(features)) # For each feature at index i, we keep a cumulating sum\n",
    "    top_idx = np.argmax(f_scores)\n",
    "    selected_features = [features[top_idx]]\n",
    "    for j in range(1, k): \n",
    "        argmax = -1\n",
    "        current_max = -1\n",
    "        last_selected = selected_features[-1]\n",
    "        for i,f in enumerate(features):\n",
    "            if f not in selected_features:\n",
    "                # Left = cumulating sum of abs corr\n",
    "                # Right = abs correlation btw last_selected and f\n",
    "                cumulating_sum[i] += np.abs((df_scaled.get_column(last_selected)*df_scaled.get_column(f)).mean())\n",
    "                denominator = cumulating_sum[i] / j\n",
    "                new_score = f_scores[i] / denominator\n",
    "                if new_score > current_max:\n",
    "                    current_max = new_score\n",
    "                    argmax = i\n",
    "\n",
    "        selected_features.append(features[argmax])\n",
    "\n",
    "    end_2 = perf_counter()\n",
    "    print(f\"Took {end_2 - end_1:.2f}s to compute mrmr.\")\n",
    "    return selected_features\n",
    "    "
   ]
  },
  {
   "cell_type": "code",
   "execution_count": 5,
   "metadata": {},
   "outputs": [],
   "source": [
    "def mrmr_np_rewrite(df:pl.DataFrame, target:str, k:int) -> list[str]:\n",
    "\n",
    "    features = df.columns\n",
    "    features.remove(target)\n",
    "\n",
    "    start = perf_counter()\n",
    "    f_scores = _f_score(df, target, features)\n",
    "    end_1 = perf_counter()\n",
    "    print(f\"Spent {end_1 - start:.2f}s to compute f score.\")\n",
    "\n",
    "    x = df.select(features).to_numpy()\n",
    "    x_scaled = (x - x.mean(axis=0)) / x.std(axis=0)\n",
    "\n",
    "    cumulating_sum = np.zeros(len(features)) # For each feature at index i, we keep a cumulating sum\n",
    "    top_idx = np.argmax(f_scores)\n",
    "    selected_features = [features[top_idx]]\n",
    "    last_selected_idx = top_idx\n",
    "    for j in range(1, k): \n",
    "        argmax = -1\n",
    "        current_max = -1\n",
    "        for i,f in enumerate(features):\n",
    "            if f not in selected_features:\n",
    "                # Left = cumulating sum of abs corr\n",
    "                # Right = abs correlation btw last_selected and f\n",
    "                cumulating_sum[i] += np.abs(np.mean(x_scaled[:,last_selected_idx]*x_scaled[:,i]))\n",
    "                denominator = cumulating_sum[i] / j\n",
    "                new_score = f_scores[i] / denominator\n",
    "                if new_score > current_max:\n",
    "                    current_max = new_score\n",
    "                    argmax = i\n",
    "\n",
    "        selected_features.append(features[argmax])\n",
    "        last_selected_idx = argmax\n",
    "\n",
    "    end_2 = perf_counter()\n",
    "    print(f\"Took {end_2 - end_1:.2f}s to compute mrmr.\")\n",
    "    return selected_features"
   ]
  },
  {
   "cell_type": "code",
   "execution_count": 6,
   "metadata": {},
   "outputs": [],
   "source": [
    "def mrmr_medium(df:pd.DataFrame, target:str, k:int) -> list[str]:\n",
    "\n",
    "    features = list(df.columns)\n",
    "    features.remove(target)\n",
    "\n",
    "    X = df[features]\n",
    "    y = df[target]\n",
    "\n",
    "    # compute F-statistics and initialize correlation matrix\n",
    "    start = perf_counter()\n",
    "    F = pd.Series(f_regression(X, y)[0], index = X.columns)\n",
    "    end_1 = perf_counter()\n",
    "    print(f\"Spent {end_1 - start:.2f}s to compute f score.\")\n",
    "\n",
    "    corr = pd.DataFrame(.00001, index = X.columns, columns = X.columns)\n",
    "\n",
    "    # initialize list of selected features and list of excluded features\n",
    "    selected = []\n",
    "    not_selected = X.columns.to_list()\n",
    "\n",
    "    # repeat K times\n",
    "    for i in range(k):\n",
    "    \n",
    "        # compute (absolute) correlations between the last selected feature and all the (currently) excluded features\n",
    "        if i > 0:\n",
    "            last_selected = selected[-1]\n",
    "            corr.loc[not_selected, last_selected] = X[not_selected].corrwith(X[last_selected]).abs().clip(.00001)\n",
    "            \n",
    "        # compute FCQ score for all the (currently) excluded features (this is Formula 2)\n",
    "        score = F.loc[not_selected] / corr.loc[not_selected, selected].mean(axis = 1).fillna(.00001)\n",
    "        \n",
    "        # find best feature, add it to selected and remove it from not_selected\n",
    "        best = score.index[score.argmax()]\n",
    "        selected.append(best)\n",
    "        not_selected.remove(best)\n",
    "\n",
    "    # print(selected) \n",
    "    end_2 = perf_counter()\n",
    "    print(f\"Took {end_2 - end_1:.2f}s to compute mrmr.\")\n",
    "    return selected "
   ]
  },
  {
   "cell_type": "code",
   "execution_count": 7,
   "metadata": {},
   "outputs": [
    {
     "name": "stdout",
     "output_type": "stream",
     "text": [
      "Spent 0.11s to compute f score.\n",
      "Took 3.14s to compute mrmr.\n"
     ]
    },
    {
     "data": {
      "text/plain": [
       "['column_12',\n",
       " 'column_166',\n",
       " 'column_171',\n",
       " 'column_78',\n",
       " 'column_72',\n",
       " 'column_152',\n",
       " 'column_189',\n",
       " 'column_117',\n",
       " 'column_160',\n",
       " 'column_7',\n",
       " 'column_141',\n",
       " 'column_101',\n",
       " 'column_41',\n",
       " 'column_199',\n",
       " 'column_91',\n",
       " 'column_125',\n",
       " 'column_154',\n",
       " 'column_8',\n",
       " 'column_163',\n",
       " 'column_197',\n",
       " 'column_51',\n",
       " 'column_29',\n",
       " 'column_62',\n",
       " 'column_196',\n",
       " 'column_93',\n",
       " 'column_165',\n",
       " 'column_116',\n",
       " 'column_159',\n",
       " 'column_23',\n",
       " 'column_40',\n",
       " 'column_73',\n",
       " 'column_64',\n",
       " 'column_149',\n",
       " 'column_114',\n",
       " 'column_183',\n",
       " 'column_26',\n",
       " 'column_155',\n",
       " 'column_19',\n",
       " 'column_105',\n",
       " 'column_3',\n",
       " 'column_143',\n",
       " 'column_16',\n",
       " 'column_48',\n",
       " 'column_128',\n",
       " 'column_148',\n",
       " 'column_140',\n",
       " 'column_161',\n",
       " 'column_157',\n",
       " 'column_121',\n",
       " 'column_168']"
      ]
     },
     "execution_count": 7,
     "metadata": {},
     "output_type": "execute_result"
    }
   ],
   "source": [
    "mrmr_my_rewrite(df_pl, \"target\", 50)"
   ]
  },
  {
   "cell_type": "code",
   "execution_count": 8,
   "metadata": {},
   "outputs": [
    {
     "name": "stdout",
     "output_type": "stream",
     "text": [
      "Spent 0.12s to compute f score.\n",
      "Took 14.16s to compute mrmr.\n"
     ]
    },
    {
     "data": {
      "text/plain": [
       "['column_12',\n",
       " 'column_166',\n",
       " 'column_171',\n",
       " 'column_78',\n",
       " 'column_72',\n",
       " 'column_152',\n",
       " 'column_189',\n",
       " 'column_117',\n",
       " 'column_160',\n",
       " 'column_7',\n",
       " 'column_141',\n",
       " 'column_101',\n",
       " 'column_41',\n",
       " 'column_199',\n",
       " 'column_91',\n",
       " 'column_125',\n",
       " 'column_154',\n",
       " 'column_8',\n",
       " 'column_163',\n",
       " 'column_197',\n",
       " 'column_51',\n",
       " 'column_29',\n",
       " 'column_62',\n",
       " 'column_196',\n",
       " 'column_93',\n",
       " 'column_165',\n",
       " 'column_116',\n",
       " 'column_159',\n",
       " 'column_23',\n",
       " 'column_40',\n",
       " 'column_73',\n",
       " 'column_64',\n",
       " 'column_149',\n",
       " 'column_114',\n",
       " 'column_183',\n",
       " 'column_26',\n",
       " 'column_155',\n",
       " 'column_19',\n",
       " 'column_105',\n",
       " 'column_3',\n",
       " 'column_143',\n",
       " 'column_16',\n",
       " 'column_48',\n",
       " 'column_128',\n",
       " 'column_148',\n",
       " 'column_140',\n",
       " 'column_161',\n",
       " 'column_157',\n",
       " 'column_121',\n",
       " 'column_168']"
      ]
     },
     "execution_count": 8,
     "metadata": {},
     "output_type": "execute_result"
    }
   ],
   "source": [
    "# Use my version of f_score computation.\n",
    "# Use pure NumPy for the rest of the computation.\n",
    "# This shows that copying to NumPy, does not pay off. Stay in Polars is a better idea.\n",
    "mrmr_np_rewrite(df_pl, \"target\", 50)"
   ]
  },
  {
   "cell_type": "code",
   "execution_count": 9,
   "metadata": {},
   "outputs": [
    {
     "name": "stdout",
     "output_type": "stream",
     "text": [
      "Spent 0.28s to compute f score.\n",
      "Took 59.35s to compute mrmr.\n"
     ]
    },
    {
     "data": {
      "text/plain": [
       "['column_12',\n",
       " 'column_166',\n",
       " 'column_171',\n",
       " 'column_78',\n",
       " 'column_72',\n",
       " 'column_152',\n",
       " 'column_189',\n",
       " 'column_117',\n",
       " 'column_160',\n",
       " 'column_7',\n",
       " 'column_141',\n",
       " 'column_101',\n",
       " 'column_41',\n",
       " 'column_199',\n",
       " 'column_91',\n",
       " 'column_125',\n",
       " 'column_154',\n",
       " 'column_8',\n",
       " 'column_163',\n",
       " 'column_197',\n",
       " 'column_51',\n",
       " 'column_29',\n",
       " 'column_62',\n",
       " 'column_196',\n",
       " 'column_93',\n",
       " 'column_165',\n",
       " 'column_116',\n",
       " 'column_159',\n",
       " 'column_23',\n",
       " 'column_40',\n",
       " 'column_73',\n",
       " 'column_64',\n",
       " 'column_149',\n",
       " 'column_114',\n",
       " 'column_183',\n",
       " 'column_26',\n",
       " 'column_155',\n",
       " 'column_19',\n",
       " 'column_105',\n",
       " 'column_3',\n",
       " 'column_143',\n",
       " 'column_16',\n",
       " 'column_48',\n",
       " 'column_128',\n",
       " 'column_148',\n",
       " 'column_140',\n",
       " 'column_161',\n",
       " 'column_157',\n",
       " 'column_121',\n",
       " 'column_168']"
      ]
     },
     "execution_count": 9,
     "metadata": {},
     "output_type": "execute_result"
    }
   ],
   "source": [
    "mrmr_medium(df_pd, \"target\", 50)"
   ]
  },
  {
   "cell_type": "code",
   "execution_count": 10,
   "metadata": {},
   "outputs": [
    {
     "name": "stdout",
     "output_type": "stream",
     "text": [
      "Top 5 feature importance is (by MRMR_STRATEGY.F_SCORE):\n",
      "shape: (5, 2)\n",
      "┌────────────┬───────────────────────┐\n",
      "│ feature    ┆ MRMR_STRATEGY.F_SCORE │\n",
      "│ ---        ┆ ---                   │\n",
      "│ str        ┆ f64                   │\n",
      "╞════════════╪═══════════════════════╡\n",
      "│ column_12  ┆ 294005.656068         │\n",
      "│ column_171 ┆ 211587.59218          │\n",
      "│ column_78  ┆ 199253.929747         │\n",
      "│ column_189 ┆ 143336.684677         │\n",
      "│ column_117 ┆ 121793.034639         │\n",
      "└────────────┴───────────────────────┘\n",
      "Selected column_12 by MRMR. 1/50\n",
      "Selected column_166 by MRMR. 2/50\n",
      "Selected column_171 by MRMR. 3/50\n",
      "Selected column_78 by MRMR. 4/50\n",
      "Selected column_72 by MRMR. 5/50\n",
      "Selected column_152 by MRMR. 6/50\n",
      "Selected column_189 by MRMR. 7/50\n",
      "Selected column_117 by MRMR. 8/50\n",
      "Selected column_160 by MRMR. 9/50\n",
      "Selected column_7 by MRMR. 10/50\n",
      "Selected column_141 by MRMR. 11/50\n",
      "Selected column_101 by MRMR. 12/50\n",
      "Selected column_41 by MRMR. 13/50\n",
      "Selected column_199 by MRMR. 14/50\n",
      "Selected column_91 by MRMR. 15/50\n",
      "Selected column_125 by MRMR. 16/50\n",
      "Selected column_154 by MRMR. 17/50\n",
      "Selected column_8 by MRMR. 18/50\n",
      "Selected column_163 by MRMR. 19/50\n",
      "Selected column_197 by MRMR. 20/50\n",
      "Selected column_51 by MRMR. 21/50\n",
      "Selected column_29 by MRMR. 22/50\n",
      "Selected column_62 by MRMR. 23/50\n",
      "Selected column_196 by MRMR. 24/50\n",
      "Selected column_93 by MRMR. 25/50\n",
      "Selected column_165 by MRMR. 26/50\n",
      "Selected column_116 by MRMR. 27/50\n",
      "Selected column_159 by MRMR. 28/50\n",
      "Selected column_23 by MRMR. 29/50\n",
      "Selected column_40 by MRMR. 30/50\n",
      "Selected column_73 by MRMR. 31/50\n",
      "Selected column_64 by MRMR. 32/50\n",
      "Selected column_149 by MRMR. 33/50\n",
      "Selected column_114 by MRMR. 34/50\n",
      "Selected column_183 by MRMR. 35/50\n",
      "Selected column_26 by MRMR. 36/50\n",
      "Selected column_155 by MRMR. 37/50\n",
      "Selected column_19 by MRMR. 38/50\n",
      "Selected column_105 by MRMR. 39/50\n",
      "Selected column_3 by MRMR. 40/50\n",
      "Selected column_143 by MRMR. 41/50\n",
      "Selected column_16 by MRMR. 42/50\n",
      "Selected column_48 by MRMR. 43/50\n",
      "Selected column_128 by MRMR. 44/50\n",
      "Selected column_148 by MRMR. 45/50\n",
      "Selected column_140 by MRMR. 46/50\n",
      "Selected column_161 by MRMR. 47/50\n",
      "Selected column_157 by MRMR. 48/50\n",
      "Selected column_121 by MRMR. 49/50\n",
      "Selected column_168 by MRMR. 50/50\n"
     ]
    },
    {
     "data": {
      "text/html": [
       "<div><style>\n",
       ".dataframe > thead > tr > th,\n",
       ".dataframe > tbody > tr > td {\n",
       "  text-align: right;\n",
       "}\n",
       "</style>\n",
       "<small>shape: (50, 2)</small><table border=\"1\" class=\"dataframe\"><thead><tr><th>mrmr_rank</th><th>feature</th></tr><tr><td>i64</td><td>str</td></tr></thead><tbody><tr><td>1</td><td>&quot;column_12&quot;</td></tr><tr><td>2</td><td>&quot;column_166&quot;</td></tr><tr><td>3</td><td>&quot;column_171&quot;</td></tr><tr><td>4</td><td>&quot;column_78&quot;</td></tr><tr><td>5</td><td>&quot;column_72&quot;</td></tr><tr><td>6</td><td>&quot;column_152&quot;</td></tr><tr><td>7</td><td>&quot;column_189&quot;</td></tr><tr><td>8</td><td>&quot;column_117&quot;</td></tr><tr><td>9</td><td>&quot;column_160&quot;</td></tr><tr><td>10</td><td>&quot;column_7&quot;</td></tr><tr><td>11</td><td>&quot;column_141&quot;</td></tr><tr><td>12</td><td>&quot;column_101&quot;</td></tr><tr><td>&hellip;</td><td>&hellip;</td></tr><tr><td>39</td><td>&quot;column_105&quot;</td></tr><tr><td>40</td><td>&quot;column_3&quot;</td></tr><tr><td>41</td><td>&quot;column_143&quot;</td></tr><tr><td>42</td><td>&quot;column_16&quot;</td></tr><tr><td>43</td><td>&quot;column_48&quot;</td></tr><tr><td>44</td><td>&quot;column_128&quot;</td></tr><tr><td>45</td><td>&quot;column_148&quot;</td></tr><tr><td>46</td><td>&quot;column_140&quot;</td></tr><tr><td>47</td><td>&quot;column_161&quot;</td></tr><tr><td>48</td><td>&quot;column_157&quot;</td></tr><tr><td>49</td><td>&quot;column_121&quot;</td></tr><tr><td>50</td><td>&quot;column_168&quot;</td></tr></tbody></table></div>"
      ],
      "text/plain": [
       "shape: (50, 2)\n",
       "┌───────────┬────────────┐\n",
       "│ mrmr_rank ┆ feature    │\n",
       "│ ---       ┆ ---        │\n",
       "│ i64       ┆ str        │\n",
       "╞═══════════╪════════════╡\n",
       "│ 1         ┆ column_12  │\n",
       "│ 2         ┆ column_166 │\n",
       "│ 3         ┆ column_171 │\n",
       "│ 4         ┆ column_78  │\n",
       "│ …         ┆ …          │\n",
       "│ 47        ┆ column_161 │\n",
       "│ 48        ┆ column_157 │\n",
       "│ 49        ┆ column_121 │\n",
       "│ 50        ┆ column_168 │\n",
       "└───────────┴────────────┘"
      ]
     },
     "execution_count": 10,
     "metadata": {},
     "output_type": "execute_result"
    }
   ],
   "source": [
    "# My yet to be published package. 2.8s\n",
    "mrmr(df_pl, target=\"target\", k = 50)"
   ]
  },
  {
   "cell_type": "code",
   "execution_count": 11,
   "metadata": {},
   "outputs": [],
   "source": [
    "from mrmr import mrmr_classif"
   ]
  },
  {
   "cell_type": "code",
   "execution_count": 12,
   "metadata": {},
   "outputs": [],
   "source": [
    "#\n",
    "def mrmr_package(df:pd.DataFrame, target:str, k:int) -> list[str]:\n",
    "    \n",
    "    features = list(df.columns)\n",
    "    features.remove(target)\n",
    "\n",
    "    X = df[features]\n",
    "    y = df[target]\n",
    "    start = perf_counter()\n",
    "    output = mrmr_classif(X, y, K = k)\n",
    "    end = perf_counter()\n",
    "    print(f\"Spent {end - start:.2f}s to compute mrmr.\")\n",
    "    return output"
   ]
  },
  {
   "cell_type": "code",
   "execution_count": 13,
   "metadata": {},
   "outputs": [
    {
     "name": "stderr",
     "output_type": "stream",
     "text": [
      "100%|██████████| 50/50 [01:01<00:00,  1.22s/it]"
     ]
    },
    {
     "name": "stdout",
     "output_type": "stream",
     "text": [
      "Spent 65.82s to compute mrmr.\n"
     ]
    },
    {
     "name": "stderr",
     "output_type": "stream",
     "text": [
      "\n"
     ]
    },
    {
     "data": {
      "text/plain": [
       "['column_12',\n",
       " 'column_166',\n",
       " 'column_171',\n",
       " 'column_78',\n",
       " 'column_72',\n",
       " 'column_152',\n",
       " 'column_189',\n",
       " 'column_117',\n",
       " 'column_160',\n",
       " 'column_7',\n",
       " 'column_141',\n",
       " 'column_101',\n",
       " 'column_41',\n",
       " 'column_199',\n",
       " 'column_91',\n",
       " 'column_125',\n",
       " 'column_154',\n",
       " 'column_8',\n",
       " 'column_163',\n",
       " 'column_197',\n",
       " 'column_51',\n",
       " 'column_29',\n",
       " 'column_62',\n",
       " 'column_196',\n",
       " 'column_93',\n",
       " 'column_165',\n",
       " 'column_116',\n",
       " 'column_159',\n",
       " 'column_23',\n",
       " 'column_40',\n",
       " 'column_73',\n",
       " 'column_64',\n",
       " 'column_149',\n",
       " 'column_114',\n",
       " 'column_183',\n",
       " 'column_26',\n",
       " 'column_155',\n",
       " 'column_19',\n",
       " 'column_105',\n",
       " 'column_3',\n",
       " 'column_143',\n",
       " 'column_16',\n",
       " 'column_48',\n",
       " 'column_128',\n",
       " 'column_148',\n",
       " 'column_140',\n",
       " 'column_161',\n",
       " 'column_157',\n",
       " 'column_121',\n",
       " 'column_168']"
      ]
     },
     "execution_count": 13,
     "metadata": {},
     "output_type": "execute_result"
    }
   ],
   "source": [
    "mrmr_package(df_pd, \"target\", 50)"
   ]
  },
  {
   "cell_type": "code",
   "execution_count": null,
   "metadata": {},
   "outputs": [],
   "source": []
  },
  {
   "cell_type": "code",
   "execution_count": 15,
   "metadata": {},
   "outputs": [
    {
     "name": "stdout",
     "output_type": "stream",
     "text": [
      "Random forest is not deterministic by default. Results may vary.\n",
      "Top 5 feature importance is (by MRMR_STRATEGY.RF):\n",
      "shape: (5, 2)\n",
      "┌────────────┬──────────────────┐\n",
      "│ feature    ┆ MRMR_STRATEGY.RF │\n",
      "│ ---        ┆ ---              │\n",
      "│ str        ┆ f64              │\n",
      "╞════════════╪══════════════════╡\n",
      "│ column_12  ┆ 0.095529         │\n",
      "│ column_171 ┆ 0.067189         │\n",
      "│ column_189 ┆ 0.060785         │\n",
      "│ column_117 ┆ 0.058921         │\n",
      "│ column_197 ┆ 0.058851         │\n",
      "└────────────┴──────────────────┘\n",
      "Selected column_12 by MRMR. 1/20\n",
      "Selected column_6 by MRMR. 2/20\n",
      "Selected column_193 by MRMR. 3/20\n",
      "Selected column_117 by MRMR. 4/20\n",
      "Selected column_197 by MRMR. 5/20\n",
      "Selected column_7 by MRMR. 6/20\n",
      "Selected column_171 by MRMR. 7/20\n",
      "Selected column_141 by MRMR. 8/20\n",
      "Selected column_189 by MRMR. 9/20\n",
      "Selected column_154 by MRMR. 10/20\n",
      "Selected column_78 by MRMR. 11/20\n",
      "Selected column_114 by MRMR. 12/20\n",
      "Selected column_137 by MRMR. 13/20\n",
      "Selected column_101 by MRMR. 14/20\n",
      "Selected column_41 by MRMR. 15/20\n",
      "Selected column_199 by MRMR. 16/20\n",
      "Selected column_62 by MRMR. 17/20\n",
      "Selected column_29 by MRMR. 18/20\n",
      "Selected column_91 by MRMR. 19/20\n",
      "Selected column_159 by MRMR. 20/20\n"
     ]
    },
    {
     "data": {
      "text/html": [
       "<div><style>\n",
       ".dataframe > thead > tr > th,\n",
       ".dataframe > tbody > tr > td {\n",
       "  text-align: right;\n",
       "}\n",
       "</style>\n",
       "<small>shape: (20, 2)</small><table border=\"1\" class=\"dataframe\"><thead><tr><th>mrmr_rank</th><th>feature</th></tr><tr><td>i64</td><td>str</td></tr></thead><tbody><tr><td>1</td><td>&quot;column_12&quot;</td></tr><tr><td>2</td><td>&quot;column_6&quot;</td></tr><tr><td>3</td><td>&quot;column_193&quot;</td></tr><tr><td>4</td><td>&quot;column_117&quot;</td></tr><tr><td>5</td><td>&quot;column_197&quot;</td></tr><tr><td>6</td><td>&quot;column_7&quot;</td></tr><tr><td>7</td><td>&quot;column_171&quot;</td></tr><tr><td>8</td><td>&quot;column_141&quot;</td></tr><tr><td>9</td><td>&quot;column_189&quot;</td></tr><tr><td>10</td><td>&quot;column_154&quot;</td></tr><tr><td>11</td><td>&quot;column_78&quot;</td></tr><tr><td>12</td><td>&quot;column_114&quot;</td></tr><tr><td>13</td><td>&quot;column_137&quot;</td></tr><tr><td>14</td><td>&quot;column_101&quot;</td></tr><tr><td>15</td><td>&quot;column_41&quot;</td></tr><tr><td>16</td><td>&quot;column_199&quot;</td></tr><tr><td>17</td><td>&quot;column_62&quot;</td></tr><tr><td>18</td><td>&quot;column_29&quot;</td></tr><tr><td>19</td><td>&quot;column_91&quot;</td></tr><tr><td>20</td><td>&quot;column_159&quot;</td></tr></tbody></table></div>"
      ],
      "text/plain": [
       "shape: (20, 2)\n",
       "┌───────────┬────────────┐\n",
       "│ mrmr_rank ┆ feature    │\n",
       "│ ---       ┆ ---        │\n",
       "│ i64       ┆ str        │\n",
       "╞═══════════╪════════════╡\n",
       "│ 1         ┆ column_12  │\n",
       "│ 2         ┆ column_6   │\n",
       "│ 3         ┆ column_193 │\n",
       "│ 4         ┆ column_117 │\n",
       "│ …         ┆ …          │\n",
       "│ 17        ┆ column_62  │\n",
       "│ 18        ┆ column_29  │\n",
       "│ 19        ┆ column_91  │\n",
       "│ 20        ┆ column_159 │\n",
       "└───────────┴────────────┘"
      ]
     },
     "execution_count": 15,
     "metadata": {},
     "output_type": "execute_result"
    }
   ],
   "source": [
    "mrmr(df_pl, target=\"target\", k=20, strategy=MRMR_STRATEGY.RF, params={\"n_estimators\":20, \"max_depth\":5, \"n_jobs\":-1})"
   ]
  },
  {
   "cell_type": "code",
   "execution_count": 16,
   "metadata": {},
   "outputs": [
    {
     "name": "stdout",
     "output_type": "stream",
     "text": [
      "XGB is not deterministic by default. Results may vary.\n",
      "Top 5 feature importance is (by MRMR_STRATEGY.XGB):\n",
      "shape: (5, 2)\n",
      "┌────────────┬───────────────────┐\n",
      "│ feature    ┆ MRMR_STRATEGY.XGB │\n",
      "│ ---        ┆ ---               │\n",
      "│ str        ┆ f64               │\n",
      "╞════════════╪═══════════════════╡\n",
      "│ column_12  ┆ 0.172563          │\n",
      "│ column_101 ┆ 0.069675          │\n",
      "│ column_171 ┆ 0.030006          │\n",
      "│ column_117 ┆ 0.0298            │\n",
      "│ column_8   ┆ 0.024688          │\n",
      "└────────────┴───────────────────┘\n",
      "Selected column_12 by MRMR. 1/20\n",
      "Selected column_86 by MRMR. 2/20\n",
      "Selected column_6 by MRMR. 3/20\n",
      "Selected column_101 by MRMR. 4/20\n",
      "Selected column_184 by MRMR. 5/20\n",
      "Selected column_87 by MRMR. 6/20\n",
      "Selected column_93 by MRMR. 7/20\n",
      "Selected column_117 by MRMR. 8/20\n",
      "Selected column_7 by MRMR. 9/20\n",
      "Selected column_75 by MRMR. 10/20\n",
      "Selected column_8 by MRMR. 11/20\n",
      "Selected column_171 by MRMR. 12/20\n",
      "Selected column_154 by MRMR. 13/20\n",
      "Selected column_10 by MRMR. 14/20\n",
      "Selected column_83 by MRMR. 15/20\n",
      "Selected column_81 by MRMR. 16/20\n",
      "Selected column_174 by MRMR. 17/20\n",
      "Selected column_134 by MRMR. 18/20\n",
      "Selected column_22 by MRMR. 19/20\n",
      "Selected column_160 by MRMR. 20/20\n"
     ]
    },
    {
     "data": {
      "text/html": [
       "<div><style>\n",
       ".dataframe > thead > tr > th,\n",
       ".dataframe > tbody > tr > td {\n",
       "  text-align: right;\n",
       "}\n",
       "</style>\n",
       "<small>shape: (20, 2)</small><table border=\"1\" class=\"dataframe\"><thead><tr><th>mrmr_rank</th><th>feature</th></tr><tr><td>i64</td><td>str</td></tr></thead><tbody><tr><td>1</td><td>&quot;column_12&quot;</td></tr><tr><td>2</td><td>&quot;column_86&quot;</td></tr><tr><td>3</td><td>&quot;column_6&quot;</td></tr><tr><td>4</td><td>&quot;column_101&quot;</td></tr><tr><td>5</td><td>&quot;column_184&quot;</td></tr><tr><td>6</td><td>&quot;column_87&quot;</td></tr><tr><td>7</td><td>&quot;column_93&quot;</td></tr><tr><td>8</td><td>&quot;column_117&quot;</td></tr><tr><td>9</td><td>&quot;column_7&quot;</td></tr><tr><td>10</td><td>&quot;column_75&quot;</td></tr><tr><td>11</td><td>&quot;column_8&quot;</td></tr><tr><td>12</td><td>&quot;column_171&quot;</td></tr><tr><td>13</td><td>&quot;column_154&quot;</td></tr><tr><td>14</td><td>&quot;column_10&quot;</td></tr><tr><td>15</td><td>&quot;column_83&quot;</td></tr><tr><td>16</td><td>&quot;column_81&quot;</td></tr><tr><td>17</td><td>&quot;column_174&quot;</td></tr><tr><td>18</td><td>&quot;column_134&quot;</td></tr><tr><td>19</td><td>&quot;column_22&quot;</td></tr><tr><td>20</td><td>&quot;column_160&quot;</td></tr></tbody></table></div>"
      ],
      "text/plain": [
       "shape: (20, 2)\n",
       "┌───────────┬────────────┐\n",
       "│ mrmr_rank ┆ feature    │\n",
       "│ ---       ┆ ---        │\n",
       "│ i64       ┆ str        │\n",
       "╞═══════════╪════════════╡\n",
       "│ 1         ┆ column_12  │\n",
       "│ 2         ┆ column_86  │\n",
       "│ 3         ┆ column_6   │\n",
       "│ 4         ┆ column_101 │\n",
       "│ …         ┆ …          │\n",
       "│ 17        ┆ column_174 │\n",
       "│ 18        ┆ column_134 │\n",
       "│ 19        ┆ column_22  │\n",
       "│ 20        ┆ column_160 │\n",
       "└───────────┴────────────┘"
      ]
     },
     "execution_count": 16,
     "metadata": {},
     "output_type": "execute_result"
    }
   ],
   "source": [
    "mrmr(df_pl, target=\"target\", k=20, strategy=MRMR_STRATEGY.XGB, params={\"n_estimators\":20, \"max_depth\":5})"
   ]
  },
  {
   "cell_type": "code",
   "execution_count": null,
   "metadata": {},
   "outputs": [],
   "source": []
  }
 ],
 "metadata": {
  "kernelspec": {
   "display_name": "my_py11",
   "language": "python",
   "name": "python3"
  },
  "language_info": {
   "codemirror_mode": {
    "name": "ipython",
    "version": 3
   },
   "file_extension": ".py",
   "mimetype": "text/x-python",
   "name": "python",
   "nbconvert_exporter": "python",
   "pygments_lexer": "ipython3",
   "version": "3.11.3"
  },
  "orig_nbformat": 4
 },
 "nbformat": 4,
 "nbformat_minor": 2
}
