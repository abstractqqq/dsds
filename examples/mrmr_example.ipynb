{
 "cells": [
  {
   "cell_type": "code",
   "execution_count": 1,
   "metadata": {},
   "outputs": [],
   "source": [
    "import polars as pl \n",
    "import numpy as np\n",
    "from sklearn.datasets import make_classification\n",
    "from sklearn.feature_selection import f_regression\n",
    "import pandas as pd\n",
    "from time import perf_counter\n",
    "import sys\n",
    "sys.path.append('../src')\n",
    "from eda.eda_selection import _f_score, mrmr, MRMR_STRATEGY"
   ]
  },
  {
   "cell_type": "code",
   "execution_count": 2,
   "metadata": {},
   "outputs": [],
   "source": [
    "# create some data\n",
    "orig_x, orig_y = make_classification(n_samples = 500_000, n_features = 200, n_informative = 20, n_redundant = 180)"
   ]
  },
  {
   "cell_type": "code",
   "execution_count": 3,
   "metadata": {},
   "outputs": [],
   "source": [
    "df_pl = pl.from_numpy(orig_x).insert_at_idx(0, pl.Series(\"target\", orig_y))\n",
    "df_pd = df_pl.to_pandas()"
   ]
  },
  {
   "cell_type": "code",
   "execution_count": 4,
   "metadata": {},
   "outputs": [],
   "source": [
    "def mrmr_my_rewrite(df:pl.DataFrame, target:str, k:int) -> list[str]:\n",
    "\n",
    "    features = df.columns\n",
    "    features.remove(target)\n",
    "\n",
    "    start = perf_counter()\n",
    "    f_scores = _f_score(df, target, features)\n",
    "    end_1 = perf_counter()\n",
    "    print(f\"Spent {end_1 - start:.2f}s to compute f score.\")\n",
    "\n",
    "    df_scaled = df.select(features).with_columns(\n",
    "        (pl.col(f) - pl.col(f).mean())/pl.col(f).std() for f in features\n",
    "    )\n",
    "\n",
    "    cumulating_sum = np.zeros(len(features)) # For each feature at index i, we keep a cumulating sum\n",
    "    top_idx = np.argmax(f_scores)\n",
    "    selected_features = [features[top_idx]]\n",
    "    for j in range(1, k): \n",
    "        argmax = -1\n",
    "        current_max = -1\n",
    "        last_selected = selected_features[-1]\n",
    "        for i,f in enumerate(features):\n",
    "            if f not in selected_features:\n",
    "                # Left = cumulating sum of abs corr\n",
    "                # Right = abs correlation btw last_selected and f\n",
    "                cumulating_sum[i] += np.abs((df_scaled.get_column(last_selected)*df_scaled.get_column(f)).mean())\n",
    "                denominator = cumulating_sum[i] / j\n",
    "                new_score = f_scores[i] / denominator\n",
    "                if new_score > current_max:\n",
    "                    current_max = new_score\n",
    "                    argmax = i\n",
    "\n",
    "        selected_features.append(features[argmax])\n",
    "\n",
    "    end_2 = perf_counter()\n",
    "    print(f\"Took {end_2 - end_1:.2f}s to compute mrmr.\")\n",
    "    return selected_features\n",
    "    "
   ]
  },
  {
   "cell_type": "code",
   "execution_count": 5,
   "metadata": {},
   "outputs": [],
   "source": [
    "def mrmr_np_rewrite(df:pl.DataFrame, target:str, k:int) -> list[str]:\n",
    "\n",
    "    features = df.columns\n",
    "    features.remove(target)\n",
    "\n",
    "    start = perf_counter()\n",
    "    f_scores = _f_score(df, target, features)\n",
    "    end_1 = perf_counter()\n",
    "    print(f\"Spent {end_1 - start:.2f}s to compute f score.\")\n",
    "\n",
    "    x = df.select(features).to_numpy()\n",
    "    x_scaled = (x - x.mean(axis=0)) / x.std(axis=0)\n",
    "\n",
    "    cumulating_sum = np.zeros(len(features)) # For each feature at index i, we keep a cumulating sum\n",
    "    top_idx = np.argmax(f_scores)\n",
    "    selected_features = [features[top_idx]]\n",
    "    last_selected_idx = top_idx\n",
    "    for j in range(1, k): \n",
    "        argmax = -1\n",
    "        current_max = -1\n",
    "        for i,f in enumerate(features):\n",
    "            if f not in selected_features:\n",
    "                # Left = cumulating sum of abs corr\n",
    "                # Right = abs correlation btw last_selected and f\n",
    "                cumulating_sum[i] += np.abs(np.mean(x_scaled[:,last_selected_idx]*x_scaled[:,i]))\n",
    "                denominator = cumulating_sum[i] / j\n",
    "                new_score = f_scores[i] / denominator\n",
    "                if new_score > current_max:\n",
    "                    current_max = new_score\n",
    "                    argmax = i\n",
    "\n",
    "        selected_features.append(features[argmax])\n",
    "        last_selected_idx = argmax\n",
    "\n",
    "    end_2 = perf_counter()\n",
    "    print(f\"Took {end_2 - end_1:.2f}s to compute mrmr.\")\n",
    "    return selected_features"
   ]
  },
  {
   "cell_type": "code",
   "execution_count": 6,
   "metadata": {},
   "outputs": [],
   "source": [
    "def mrmr_medium(df:pd.DataFrame, target:str, k:int) -> list[str]:\n",
    "\n",
    "    features = list(df.columns)\n",
    "    features.remove(target)\n",
    "\n",
    "    X = df[features]\n",
    "    y = df[target]\n",
    "\n",
    "    # compute F-statistics and initialize correlation matrix\n",
    "    start = perf_counter()\n",
    "    F = pd.Series(f_regression(X, y)[0], index = X.columns)\n",
    "    end_1 = perf_counter()\n",
    "    print(f\"Spent {end_1 - start:.2f}s to compute f score.\")\n",
    "\n",
    "    corr = pd.DataFrame(.00001, index = X.columns, columns = X.columns)\n",
    "\n",
    "    # initialize list of selected features and list of excluded features\n",
    "    selected = []\n",
    "    not_selected = X.columns.to_list()\n",
    "\n",
    "    # repeat K times\n",
    "    for i in range(k):\n",
    "    \n",
    "        # compute (absolute) correlations between the last selected feature and all the (currently) excluded features\n",
    "        if i > 0:\n",
    "            last_selected = selected[-1]\n",
    "            corr.loc[not_selected, last_selected] = X[not_selected].corrwith(X[last_selected]).abs().clip(.00001)\n",
    "            \n",
    "        # compute FCQ score for all the (currently) excluded features (this is Formula 2)\n",
    "        score = F.loc[not_selected] / corr.loc[not_selected, selected].mean(axis = 1).fillna(.00001)\n",
    "        \n",
    "        # find best feature, add it to selected and remove it from not_selected\n",
    "        best = score.index[score.argmax()]\n",
    "        selected.append(best)\n",
    "        not_selected.remove(best)\n",
    "\n",
    "    # print(selected) \n",
    "    end_2 = perf_counter()\n",
    "    print(f\"Took {end_2 - end_1:.2f}s to compute mrmr.\")\n",
    "    return selected "
   ]
  },
  {
   "cell_type": "code",
   "execution_count": 7,
   "metadata": {},
   "outputs": [
    {
     "name": "stdout",
     "output_type": "stream",
     "text": [
      "Spent 0.11s to compute f score.\n",
      "Took 2.77s to compute mrmr.\n"
     ]
    },
    {
     "data": {
      "text/plain": [
       "['column_114',\n",
       " 'column_149',\n",
       " 'column_64',\n",
       " 'column_188',\n",
       " 'column_9',\n",
       " 'column_44',\n",
       " 'column_25',\n",
       " 'column_48',\n",
       " 'column_57',\n",
       " 'column_5',\n",
       " 'column_168',\n",
       " 'column_53',\n",
       " 'column_139',\n",
       " 'column_197',\n",
       " 'column_126',\n",
       " 'column_81',\n",
       " 'column_28',\n",
       " 'column_147',\n",
       " 'column_78',\n",
       " 'column_40',\n",
       " 'column_99',\n",
       " 'column_191',\n",
       " 'column_135',\n",
       " 'column_33',\n",
       " 'column_185',\n",
       " 'column_196',\n",
       " 'column_10',\n",
       " 'column_85',\n",
       " 'column_63',\n",
       " 'column_186',\n",
       " 'column_12',\n",
       " 'column_164',\n",
       " 'column_124',\n",
       " 'column_143',\n",
       " 'column_88',\n",
       " 'column_60',\n",
       " 'column_39',\n",
       " 'column_52',\n",
       " 'column_180',\n",
       " 'column_79',\n",
       " 'column_178',\n",
       " 'column_169',\n",
       " 'column_49',\n",
       " 'column_127',\n",
       " 'column_161',\n",
       " 'column_163',\n",
       " 'column_82',\n",
       " 'column_118',\n",
       " 'column_87',\n",
       " 'column_14']"
      ]
     },
     "execution_count": 7,
     "metadata": {},
     "output_type": "execute_result"
    }
   ],
   "source": [
    "mrmr_my_rewrite(df_pl, \"target\", 50)"
   ]
  },
  {
   "cell_type": "code",
   "execution_count": 8,
   "metadata": {},
   "outputs": [
    {
     "name": "stdout",
     "output_type": "stream",
     "text": [
      "Spent 0.12s to compute f score.\n",
      "Took 9.72s to compute mrmr.\n"
     ]
    },
    {
     "data": {
      "text/plain": [
       "['column_114',\n",
       " 'column_149',\n",
       " 'column_64',\n",
       " 'column_188',\n",
       " 'column_9',\n",
       " 'column_44',\n",
       " 'column_25',\n",
       " 'column_48',\n",
       " 'column_57',\n",
       " 'column_5',\n",
       " 'column_168',\n",
       " 'column_53',\n",
       " 'column_139',\n",
       " 'column_197',\n",
       " 'column_126',\n",
       " 'column_81',\n",
       " 'column_28',\n",
       " 'column_147',\n",
       " 'column_78',\n",
       " 'column_40',\n",
       " 'column_99',\n",
       " 'column_191',\n",
       " 'column_135',\n",
       " 'column_33',\n",
       " 'column_185',\n",
       " 'column_196',\n",
       " 'column_10',\n",
       " 'column_85',\n",
       " 'column_63',\n",
       " 'column_186',\n",
       " 'column_12',\n",
       " 'column_164',\n",
       " 'column_124',\n",
       " 'column_143',\n",
       " 'column_88',\n",
       " 'column_60',\n",
       " 'column_39',\n",
       " 'column_52',\n",
       " 'column_180',\n",
       " 'column_79',\n",
       " 'column_178',\n",
       " 'column_169',\n",
       " 'column_49',\n",
       " 'column_127',\n",
       " 'column_161',\n",
       " 'column_163',\n",
       " 'column_82',\n",
       " 'column_118',\n",
       " 'column_87',\n",
       " 'column_14']"
      ]
     },
     "execution_count": 8,
     "metadata": {},
     "output_type": "execute_result"
    }
   ],
   "source": [
    "# Use my version of f_score computation.\n",
    "# Use pure NumPy for the rest of the computation.\n",
    "# This shows that copying to NumPy, does not pay off. Stay in Polars is a better idea.\n",
    "mrmr_np_rewrite(df_pl, \"target\", 50)"
   ]
  },
  {
   "cell_type": "code",
   "execution_count": 9,
   "metadata": {},
   "outputs": [
    {
     "name": "stdout",
     "output_type": "stream",
     "text": [
      "Spent 0.27s to compute f score.\n",
      "Took 44.94s to compute mrmr.\n"
     ]
    },
    {
     "data": {
      "text/plain": [
       "['column_114',\n",
       " 'column_149',\n",
       " 'column_64',\n",
       " 'column_188',\n",
       " 'column_9',\n",
       " 'column_44',\n",
       " 'column_25',\n",
       " 'column_48',\n",
       " 'column_57',\n",
       " 'column_5',\n",
       " 'column_168',\n",
       " 'column_53',\n",
       " 'column_139',\n",
       " 'column_197',\n",
       " 'column_126',\n",
       " 'column_81',\n",
       " 'column_28',\n",
       " 'column_147',\n",
       " 'column_78',\n",
       " 'column_40',\n",
       " 'column_99',\n",
       " 'column_191',\n",
       " 'column_135',\n",
       " 'column_33',\n",
       " 'column_185',\n",
       " 'column_196',\n",
       " 'column_10',\n",
       " 'column_85',\n",
       " 'column_63',\n",
       " 'column_186',\n",
       " 'column_12',\n",
       " 'column_164',\n",
       " 'column_124',\n",
       " 'column_143',\n",
       " 'column_88',\n",
       " 'column_60',\n",
       " 'column_39',\n",
       " 'column_52',\n",
       " 'column_180',\n",
       " 'column_79',\n",
       " 'column_178',\n",
       " 'column_169',\n",
       " 'column_49',\n",
       " 'column_127',\n",
       " 'column_161',\n",
       " 'column_163',\n",
       " 'column_82',\n",
       " 'column_118',\n",
       " 'column_87',\n",
       " 'column_14']"
      ]
     },
     "execution_count": 9,
     "metadata": {},
     "output_type": "execute_result"
    }
   ],
   "source": [
    "mrmr_medium(df_pd, \"target\", 50)"
   ]
  },
  {
   "cell_type": "code",
   "execution_count": 10,
   "metadata": {},
   "outputs": [
    {
     "name": "stdout",
     "output_type": "stream",
     "text": [
      "Top 5 feature importance is (by MRMR_STRATEGY.F_SCORE):\n",
      "shape: (5, 2)\n",
      "┌────────────┬───────────────────────┐\n",
      "│ feature    ┆ MRMR_STRATEGY.F_SCORE │\n",
      "│ ---        ┆ ---                   │\n",
      "│ str        ┆ f64                   │\n",
      "╞════════════╪═══════════════════════╡\n",
      "│ column_114 ┆ 172456.754119         │\n",
      "│ column_25  ┆ 149138.929177         │\n",
      "│ column_9   ┆ 142909.371455         │\n",
      "│ column_57  ┆ 138151.830291         │\n",
      "│ column_5   ┆ 124816.909713         │\n",
      "└────────────┴───────────────────────┘\n",
      "Found 200 total features to select from. Proceeding to select top 50 features.\n"
     ]
    },
    {
     "name": "stderr",
     "output_type": "stream",
     "text": [
      "100%|██████████| 50/50 [00:02<00:00, 19.52it/s]\n"
     ]
    },
    {
     "data": {
      "text/html": [
       "<div><style>\n",
       ".dataframe > thead > tr > th,\n",
       ".dataframe > tbody > tr > td {\n",
       "  text-align: right;\n",
       "}\n",
       "</style>\n",
       "<small>shape: (50, 2)</small><table border=\"1\" class=\"dataframe\"><thead><tr><th>mrmr_rank</th><th>feature</th></tr><tr><td>i64</td><td>str</td></tr></thead><tbody><tr><td>1</td><td>&quot;column_114&quot;</td></tr><tr><td>2</td><td>&quot;column_149&quot;</td></tr><tr><td>3</td><td>&quot;column_64&quot;</td></tr><tr><td>4</td><td>&quot;column_188&quot;</td></tr><tr><td>5</td><td>&quot;column_9&quot;</td></tr><tr><td>6</td><td>&quot;column_44&quot;</td></tr><tr><td>7</td><td>&quot;column_25&quot;</td></tr><tr><td>8</td><td>&quot;column_48&quot;</td></tr><tr><td>9</td><td>&quot;column_57&quot;</td></tr><tr><td>10</td><td>&quot;column_5&quot;</td></tr><tr><td>11</td><td>&quot;column_168&quot;</td></tr><tr><td>12</td><td>&quot;column_53&quot;</td></tr><tr><td>&hellip;</td><td>&hellip;</td></tr><tr><td>39</td><td>&quot;column_180&quot;</td></tr><tr><td>40</td><td>&quot;column_79&quot;</td></tr><tr><td>41</td><td>&quot;column_178&quot;</td></tr><tr><td>42</td><td>&quot;column_169&quot;</td></tr><tr><td>43</td><td>&quot;column_49&quot;</td></tr><tr><td>44</td><td>&quot;column_127&quot;</td></tr><tr><td>45</td><td>&quot;column_161&quot;</td></tr><tr><td>46</td><td>&quot;column_163&quot;</td></tr><tr><td>47</td><td>&quot;column_82&quot;</td></tr><tr><td>48</td><td>&quot;column_118&quot;</td></tr><tr><td>49</td><td>&quot;column_87&quot;</td></tr><tr><td>50</td><td>&quot;column_14&quot;</td></tr></tbody></table></div>"
      ],
      "text/plain": [
       "shape: (50, 2)\n",
       "┌───────────┬────────────┐\n",
       "│ mrmr_rank ┆ feature    │\n",
       "│ ---       ┆ ---        │\n",
       "│ i64       ┆ str        │\n",
       "╞═══════════╪════════════╡\n",
       "│ 1         ┆ column_114 │\n",
       "│ 2         ┆ column_149 │\n",
       "│ 3         ┆ column_64  │\n",
       "│ 4         ┆ column_188 │\n",
       "│ …         ┆ …          │\n",
       "│ 47        ┆ column_82  │\n",
       "│ 48        ┆ column_118 │\n",
       "│ 49        ┆ column_87  │\n",
       "│ 50        ┆ column_14  │\n",
       "└───────────┴────────────┘"
      ]
     },
     "execution_count": 10,
     "metadata": {},
     "output_type": "execute_result"
    }
   ],
   "source": [
    "# My yet to be published package. 2.8s\n",
    "mrmr(df_pl, target=\"target\", k = 50)"
   ]
  },
  {
   "cell_type": "code",
   "execution_count": 11,
   "metadata": {},
   "outputs": [],
   "source": [
    "from mrmr import mrmr_classif"
   ]
  },
  {
   "cell_type": "code",
   "execution_count": 12,
   "metadata": {},
   "outputs": [],
   "source": [
    "#\n",
    "def mrmr_package(df:pd.DataFrame, target:str, k:int) -> list[str]:\n",
    "    \n",
    "    features = list(df.columns)\n",
    "    features.remove(target)\n",
    "\n",
    "    X = df[features]\n",
    "    y = df[target]\n",
    "    start = perf_counter()\n",
    "    output = mrmr_classif(X, y, K = k)\n",
    "    end = perf_counter()\n",
    "    print(f\"Spent {end - start:.2f}s to compute mrmr.\")\n",
    "    return output"
   ]
  },
  {
   "cell_type": "code",
   "execution_count": 13,
   "metadata": {},
   "outputs": [
    {
     "name": "stderr",
     "output_type": "stream",
     "text": [
      "100%|██████████| 50/50 [01:13<00:00,  1.46s/it]"
     ]
    },
    {
     "name": "stdout",
     "output_type": "stream",
     "text": [
      "Spent 78.13s to compute mrmr.\n"
     ]
    },
    {
     "name": "stderr",
     "output_type": "stream",
     "text": [
      "\n"
     ]
    },
    {
     "data": {
      "text/plain": [
       "['column_114',\n",
       " 'column_69',\n",
       " 'column_64',\n",
       " 'column_57',\n",
       " 'column_5',\n",
       " 'column_9',\n",
       " 'column_44',\n",
       " 'column_25',\n",
       " 'column_48',\n",
       " 'column_168',\n",
       " 'column_197',\n",
       " 'column_188',\n",
       " 'column_53',\n",
       " 'column_139',\n",
       " 'column_126',\n",
       " 'column_78',\n",
       " 'column_81',\n",
       " 'column_147',\n",
       " 'column_28',\n",
       " 'column_135',\n",
       " 'column_40',\n",
       " 'column_99',\n",
       " 'column_191',\n",
       " 'column_196',\n",
       " 'column_33',\n",
       " 'column_185',\n",
       " 'column_186',\n",
       " 'column_63',\n",
       " 'column_10',\n",
       " 'column_85',\n",
       " 'column_12',\n",
       " 'column_124',\n",
       " 'column_164',\n",
       " 'column_88',\n",
       " 'column_143',\n",
       " 'column_39',\n",
       " 'column_60',\n",
       " 'column_180',\n",
       " 'column_52',\n",
       " 'column_79',\n",
       " 'column_178',\n",
       " 'column_169',\n",
       " 'column_49',\n",
       " 'column_127',\n",
       " 'column_161',\n",
       " 'column_82',\n",
       " 'column_163',\n",
       " 'column_118',\n",
       " 'column_87',\n",
       " 'column_14']"
      ]
     },
     "execution_count": 13,
     "metadata": {},
     "output_type": "execute_result"
    }
   ],
   "source": [
    "mrmr_package(df_pd, \"target\", 50)"
   ]
  },
  {
   "cell_type": "code",
   "execution_count": null,
   "metadata": {},
   "outputs": [],
   "source": []
  },
  {
   "cell_type": "code",
   "execution_count": 14,
   "metadata": {},
   "outputs": [
    {
     "name": "stdout",
     "output_type": "stream",
     "text": [
      "Random forest is not deterministic by default. Results may vary.\n",
      "Top 5 feature importance is (by MRMR_STRATEGY.RF):\n",
      "shape: (5, 2)\n",
      "┌────────────┬──────────────────┐\n",
      "│ feature    ┆ MRMR_STRATEGY.RF │\n",
      "│ ---        ┆ ---              │\n",
      "│ str        ┆ f64              │\n",
      "╞════════════╪══════════════════╡\n",
      "│ column_114 ┆ 0.128501         │\n",
      "│ column_9   ┆ 0.063352         │\n",
      "│ column_57  ┆ 0.058116         │\n",
      "│ column_139 ┆ 0.042677         │\n",
      "│ column_188 ┆ 0.033205         │\n",
      "└────────────┴──────────────────┘\n",
      "Found 200 total features to select from. Proceeding to select top 20 features.\n"
     ]
    },
    {
     "name": "stderr",
     "output_type": "stream",
     "text": [
      "100%|██████████| 20/20 [00:00<00:00, 20.53it/s]\n"
     ]
    },
    {
     "data": {
      "text/html": [
       "<div><style>\n",
       ".dataframe > thead > tr > th,\n",
       ".dataframe > tbody > tr > td {\n",
       "  text-align: right;\n",
       "}\n",
       "</style>\n",
       "<small>shape: (20, 2)</small><table border=\"1\" class=\"dataframe\"><thead><tr><th>mrmr_rank</th><th>feature</th></tr><tr><td>i64</td><td>str</td></tr></thead><tbody><tr><td>1</td><td>&quot;column_114&quot;</td></tr><tr><td>2</td><td>&quot;column_149&quot;</td></tr><tr><td>3</td><td>&quot;column_125&quot;</td></tr><tr><td>4</td><td>&quot;column_139&quot;</td></tr><tr><td>5</td><td>&quot;column_57&quot;</td></tr><tr><td>6</td><td>&quot;column_9&quot;</td></tr><tr><td>7</td><td>&quot;column_188&quot;</td></tr><tr><td>8</td><td>&quot;column_63&quot;</td></tr><tr><td>9</td><td>&quot;column_60&quot;</td></tr><tr><td>10</td><td>&quot;column_48&quot;</td></tr><tr><td>11</td><td>&quot;column_25&quot;</td></tr><tr><td>12</td><td>&quot;column_44&quot;</td></tr><tr><td>13</td><td>&quot;column_96&quot;</td></tr><tr><td>14</td><td>&quot;column_147&quot;</td></tr><tr><td>15</td><td>&quot;column_40&quot;</td></tr><tr><td>16</td><td>&quot;column_180&quot;</td></tr><tr><td>17</td><td>&quot;column_5&quot;</td></tr><tr><td>18</td><td>&quot;column_196&quot;</td></tr><tr><td>19</td><td>&quot;column_126&quot;</td></tr><tr><td>20</td><td>&quot;column_137&quot;</td></tr></tbody></table></div>"
      ],
      "text/plain": [
       "shape: (20, 2)\n",
       "┌───────────┬────────────┐\n",
       "│ mrmr_rank ┆ feature    │\n",
       "│ ---       ┆ ---        │\n",
       "│ i64       ┆ str        │\n",
       "╞═══════════╪════════════╡\n",
       "│ 1         ┆ column_114 │\n",
       "│ 2         ┆ column_149 │\n",
       "│ 3         ┆ column_125 │\n",
       "│ 4         ┆ column_139 │\n",
       "│ …         ┆ …          │\n",
       "│ 17        ┆ column_5   │\n",
       "│ 18        ┆ column_196 │\n",
       "│ 19        ┆ column_126 │\n",
       "│ 20        ┆ column_137 │\n",
       "└───────────┴────────────┘"
      ]
     },
     "execution_count": 14,
     "metadata": {},
     "output_type": "execute_result"
    }
   ],
   "source": [
    "mrmr(df_pl, target=\"target\", k=20, strategy=MRMR_STRATEGY.RF, params={\"n_estimators\":20, \"max_depth\":5, \"n_jobs\":-1})"
   ]
  },
  {
   "cell_type": "code",
   "execution_count": 15,
   "metadata": {},
   "outputs": [
    {
     "name": "stdout",
     "output_type": "stream",
     "text": [
      "XGB is not deterministic by default. Results may vary.\n",
      "Top 5 feature importance is (by MRMR_STRATEGY.XGB):\n",
      "shape: (5, 2)\n",
      "┌────────────┬───────────────────┐\n",
      "│ feature    ┆ MRMR_STRATEGY.XGB │\n",
      "│ ---        ┆ ---               │\n",
      "│ str        ┆ f64               │\n",
      "╞════════════╪═══════════════════╡\n",
      "│ column_114 ┆ 0.080585          │\n",
      "│ column_9   ┆ 0.069619          │\n",
      "│ column_44  ┆ 0.051323          │\n",
      "│ column_57  ┆ 0.037718          │\n",
      "│ column_161 ┆ 0.03685           │\n",
      "└────────────┴───────────────────┘\n",
      "Found 200 total features to select from. Proceeding to select top 20 features.\n"
     ]
    },
    {
     "name": "stderr",
     "output_type": "stream",
     "text": [
      "100%|██████████| 20/20 [00:01<00:00, 19.04it/s]\n"
     ]
    },
    {
     "data": {
      "text/html": [
       "<div><style>\n",
       ".dataframe > thead > tr > th,\n",
       ".dataframe > tbody > tr > td {\n",
       "  text-align: right;\n",
       "}\n",
       "</style>\n",
       "<small>shape: (20, 2)</small><table border=\"1\" class=\"dataframe\"><thead><tr><th>mrmr_rank</th><th>feature</th></tr><tr><td>i64</td><td>str</td></tr></thead><tbody><tr><td>1</td><td>&quot;column_114&quot;</td></tr><tr><td>2</td><td>&quot;column_167&quot;</td></tr><tr><td>3</td><td>&quot;column_9&quot;</td></tr><tr><td>4</td><td>&quot;column_44&quot;</td></tr><tr><td>5</td><td>&quot;column_161&quot;</td></tr><tr><td>6</td><td>&quot;column_57&quot;</td></tr><tr><td>7</td><td>&quot;column_125&quot;</td></tr><tr><td>8</td><td>&quot;column_143&quot;</td></tr><tr><td>9</td><td>&quot;column_25&quot;</td></tr><tr><td>10</td><td>&quot;column_105&quot;</td></tr><tr><td>11</td><td>&quot;column_96&quot;</td></tr><tr><td>12</td><td>&quot;column_92&quot;</td></tr><tr><td>13</td><td>&quot;column_52&quot;</td></tr><tr><td>14</td><td>&quot;column_93&quot;</td></tr><tr><td>15</td><td>&quot;column_196&quot;</td></tr><tr><td>16</td><td>&quot;column_86&quot;</td></tr><tr><td>17</td><td>&quot;column_70&quot;</td></tr><tr><td>18</td><td>&quot;column_95&quot;</td></tr><tr><td>19</td><td>&quot;column_62&quot;</td></tr><tr><td>20</td><td>&quot;column_163&quot;</td></tr></tbody></table></div>"
      ],
      "text/plain": [
       "shape: (20, 2)\n",
       "┌───────────┬────────────┐\n",
       "│ mrmr_rank ┆ feature    │\n",
       "│ ---       ┆ ---        │\n",
       "│ i64       ┆ str        │\n",
       "╞═══════════╪════════════╡\n",
       "│ 1         ┆ column_114 │\n",
       "│ 2         ┆ column_167 │\n",
       "│ 3         ┆ column_9   │\n",
       "│ 4         ┆ column_44  │\n",
       "│ …         ┆ …          │\n",
       "│ 17        ┆ column_70  │\n",
       "│ 18        ┆ column_95  │\n",
       "│ 19        ┆ column_62  │\n",
       "│ 20        ┆ column_163 │\n",
       "└───────────┴────────────┘"
      ]
     },
     "execution_count": 15,
     "metadata": {},
     "output_type": "execute_result"
    }
   ],
   "source": [
    "mrmr(df_pl, target=\"target\", k=20, strategy=MRMR_STRATEGY.XGB, params={\"n_estimators\":20, \"max_depth\":5})"
   ]
  },
  {
   "cell_type": "code",
   "execution_count": null,
   "metadata": {},
   "outputs": [],
   "source": []
  }
 ],
 "metadata": {
  "kernelspec": {
   "display_name": "my_py11",
   "language": "python",
   "name": "python3"
  },
  "language_info": {
   "codemirror_mode": {
    "name": "ipython",
    "version": 3
   },
   "file_extension": ".py",
   "mimetype": "text/x-python",
   "name": "python",
   "nbconvert_exporter": "python",
   "pygments_lexer": "ipython3",
   "version": "3.11.3"
  },
  "orig_nbformat": 4
 },
 "nbformat": 4,
 "nbformat_minor": 2
}
