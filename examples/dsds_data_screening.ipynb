{
 "cells": [
  {
   "cell_type": "code",
   "execution_count": 1,
   "metadata": {},
   "outputs": [],
   "source": [
    "import polars as pl\n",
    "import numpy as np"
   ]
  },
  {
   "cell_type": "markdown",
   "metadata": {},
   "source": [
    "# Dependency Detection + Violations"
   ]
  },
  {
   "cell_type": "code",
   "execution_count": 2,
   "metadata": {},
   "outputs": [
    {
     "data": {
      "text/html": [
       "<div><style>\n",
       ".dataframe > thead > tr > th,\n",
       ".dataframe > tbody > tr > td {\n",
       "  text-align: right;\n",
       "  white-space: pre-wrap;\n",
       "}\n",
       "</style>\n",
       "<small>shape: (5, 12)</small><table border=\"1\" class=\"dataframe\"><thead><tr><th>household_key</th><th>BASKET_ID</th><th>DAY</th><th>PRODUCT_ID</th><th>QUANTITY</th><th>SALES_VALUE</th><th>STORE_ID</th><th>RETAIL_DISC</th><th>TRANS_TIME</th><th>WEEK_NO</th><th>COUPON_DISC</th><th>COUPON_MATCH_DISC</th></tr><tr><td>i16</td><td>i64</td><td>i16</td><td>i32</td><td>i32</td><td>f32</td><td>i32</td><td>f32</td><td>i16</td><td>i8</td><td>i8</td><td>i8</td></tr></thead><tbody><tr><td>2375</td><td>26984851472</td><td>1</td><td>1004906</td><td>1</td><td>1.39</td><td>364</td><td>-0.6</td><td>1631</td><td>1</td><td>0</td><td>0</td></tr><tr><td>2375</td><td>26984851472</td><td>1</td><td>1033142</td><td>1</td><td>0.82</td><td>364</td><td>0.0</td><td>1631</td><td>1</td><td>0</td><td>0</td></tr><tr><td>2375</td><td>26984851472</td><td>1</td><td>1036325</td><td>1</td><td>0.99</td><td>364</td><td>-0.3</td><td>1631</td><td>1</td><td>0</td><td>0</td></tr><tr><td>2375</td><td>26984851472</td><td>1</td><td>1082185</td><td>1</td><td>1.21</td><td>364</td><td>0.0</td><td>1631</td><td>1</td><td>0</td><td>0</td></tr><tr><td>2375</td><td>26984851472</td><td>1</td><td>8160430</td><td>1</td><td>1.5</td><td>364</td><td>-0.39</td><td>1631</td><td>1</td><td>0</td><td>0</td></tr></tbody></table></div>"
      ],
      "text/plain": [
       "shape: (5, 12)\n",
       "┌─────────────┬────────────┬─────┬────────────┬───┬────────────┬─────────┬────────────┬────────────┐\n",
       "│ household_k ┆ BASKET_ID  ┆ DAY ┆ PRODUCT_ID ┆ … ┆ TRANS_TIME ┆ WEEK_NO ┆ COUPON_DIS ┆ COUPON_MAT │\n",
       "│ ey          ┆ ---        ┆ --- ┆ ---        ┆   ┆ ---        ┆ ---     ┆ C          ┆ CH_DISC    │\n",
       "│ ---         ┆ i64        ┆ i16 ┆ i32        ┆   ┆ i16        ┆ i8      ┆ ---        ┆ ---        │\n",
       "│ i16         ┆            ┆     ┆            ┆   ┆            ┆         ┆ i8         ┆ i8         │\n",
       "╞═════════════╪════════════╪═════╪════════════╪═══╪════════════╪═════════╪════════════╪════════════╡\n",
       "│ 2375        ┆ 2698485147 ┆ 1   ┆ 1004906    ┆ … ┆ 1631       ┆ 1       ┆ 0          ┆ 0          │\n",
       "│             ┆ 2          ┆     ┆            ┆   ┆            ┆         ┆            ┆            │\n",
       "│ 2375        ┆ 2698485147 ┆ 1   ┆ 1033142    ┆ … ┆ 1631       ┆ 1       ┆ 0          ┆ 0          │\n",
       "│             ┆ 2          ┆     ┆            ┆   ┆            ┆         ┆            ┆            │\n",
       "│ 2375        ┆ 2698485147 ┆ 1   ┆ 1036325    ┆ … ┆ 1631       ┆ 1       ┆ 0          ┆ 0          │\n",
       "│             ┆ 2          ┆     ┆            ┆   ┆            ┆         ┆            ┆            │\n",
       "│ 2375        ┆ 2698485147 ┆ 1   ┆ 1082185    ┆ … ┆ 1631       ┆ 1       ┆ 0          ┆ 0          │\n",
       "│             ┆ 2          ┆     ┆            ┆   ┆            ┆         ┆            ┆            │\n",
       "│ 2375        ┆ 2698485147 ┆ 1   ┆ 8160430    ┆ … ┆ 1631       ┆ 1       ┆ 0          ┆ 0          │\n",
       "│             ┆ 2          ┆     ┆            ┆   ┆            ┆         ┆            ┆            │\n",
       "└─────────────┴────────────┴─────┴────────────┴───┴────────────┴─────────┴────────────┴────────────┘"
      ]
     },
     "execution_count": 2,
     "metadata": {},
     "output_type": "execute_result"
    }
   ],
   "source": [
    "# This is the same dataset as used in \n",
    "# the demo by Microsoft: https://learn.microsoft.com/en-us/fabric/data-science/semantic-link-validate-data\n",
    "# However, dsds will be an open source package based on Polars, not\n",
    "# FabricDataFrame, which is a Microsoft product.\n",
    "df = pl.read_parquet(\"../data/dunnhumby.parquet\")\n",
    "df.head()"
   ]
  },
  {
   "cell_type": "code",
   "execution_count": 3,
   "metadata": {},
   "outputs": [
    {
     "name": "stderr",
     "output_type": "stream",
     "text": [
      "INFO:dsds.diagnosis:Detecting dependency for all columns in dataframe. A total of 66 comparisons will be done.\n"
     ]
    },
    {
     "name": "stdout",
     "output_type": "stream",
     "text": [
      "(2595732, 12)\n"
     ]
    }
   ],
   "source": [
    "import dsds.diagnosis as dia\n",
    "print(df.shape)\n",
    "entropy, tree = dia.dependency_detection(df, threshold=0.015)"
   ]
  },
  {
   "cell_type": "code",
   "execution_count": 4,
   "metadata": {},
   "outputs": [
    {
     "data": {
      "image/svg+xml": [
       "<?xml version=\"1.0\" encoding=\"UTF-8\" standalone=\"no\"?>\n",
       "<!DOCTYPE svg PUBLIC \"-//W3C//DTD SVG 1.1//EN\"\n",
       " \"http://www.w3.org/Graphics/SVG/1.1/DTD/svg11.dtd\">\n",
       "<!-- Generated by graphviz version 2.50.0 (0)\n",
       " -->\n",
       "<!-- Title: Dependency Plot Pages: 1 -->\n",
       "<svg width=\"714pt\" height=\"188pt\"\n",
       " viewBox=\"0.00 0.00 714.23 188.00\" xmlns=\"http://www.w3.org/2000/svg\" xmlns:xlink=\"http://www.w3.org/1999/xlink\">\n",
       "<g id=\"graph0\" class=\"graph\" transform=\"scale(1 1) rotate(0) translate(4 184)\">\n",
       "<title>Dependency Plot</title>\n",
       "<polygon fill=\"white\" stroke=\"transparent\" points=\"-4,4 -4,-184 710.23,-184 710.23,4 -4,4\"/>\n",
       "<!-- TRANS_TIME -->\n",
       "<g id=\"node1\" class=\"node\">\n",
       "<title>TRANS_TIME</title>\n",
       "<ellipse fill=\"none\" stroke=\"black\" cx=\"65.64\" cy=\"-90\" rx=\"65.79\" ry=\"18\"/>\n",
       "<text text-anchor=\"middle\" x=\"65.64\" y=\"-86.3\" font-family=\"Times New Roman,serif\" font-size=\"14.00\">TRANS_TIME</text>\n",
       "</g>\n",
       "<!-- BASKET_ID -->\n",
       "<g id=\"node2\" class=\"node\">\n",
       "<title>BASKET_ID</title>\n",
       "<ellipse fill=\"none\" stroke=\"black\" cx=\"268.64\" cy=\"-162\" rx=\"58.49\" ry=\"18\"/>\n",
       "<text text-anchor=\"middle\" x=\"268.64\" y=\"-158.3\" font-family=\"Times New Roman,serif\" font-size=\"14.00\">BASKET_ID</text>\n",
       "</g>\n",
       "<!-- BASKET_ID&#45;&gt;TRANS_TIME -->\n",
       "<g id=\"edge1\" class=\"edge\">\n",
       "<title>BASKET_ID&#45;&gt;TRANS_TIME</title>\n",
       "<path fill=\"none\" stroke=\"black\" d=\"M230.94,-148C198.13,-136.69 150.38,-120.22 114.62,-107.89\"/>\n",
       "<polygon fill=\"black\" stroke=\"black\" points=\"115.47,-104.48 104.88,-104.53 113.19,-111.1 115.47,-104.48\"/>\n",
       "</g>\n",
       "<!-- household_key -->\n",
       "<g id=\"node3\" class=\"node\">\n",
       "<title>household_key</title>\n",
       "<ellipse fill=\"none\" stroke=\"black\" cx=\"212.64\" cy=\"-90\" rx=\"63.89\" ry=\"18\"/>\n",
       "<text text-anchor=\"middle\" x=\"212.64\" y=\"-86.3\" font-family=\"Times New Roman,serif\" font-size=\"14.00\">household_key</text>\n",
       "</g>\n",
       "<!-- BASKET_ID&#45;&gt;household_key -->\n",
       "<g id=\"edge2\" class=\"edge\">\n",
       "<title>BASKET_ID&#45;&gt;household_key</title>\n",
       "<path fill=\"none\" stroke=\"black\" d=\"M255.37,-144.41C248.57,-135.91 240.14,-125.37 232.58,-115.91\"/>\n",
       "<polygon fill=\"black\" stroke=\"black\" points=\"235.19,-113.58 226.21,-107.96 229.72,-117.95 235.19,-113.58\"/>\n",
       "</g>\n",
       "<!-- DAY -->\n",
       "<g id=\"node5\" class=\"node\">\n",
       "<title>DAY</title>\n",
       "<ellipse fill=\"none\" stroke=\"black\" cx=\"323.64\" cy=\"-90\" rx=\"29.5\" ry=\"18\"/>\n",
       "<text text-anchor=\"middle\" x=\"323.64\" y=\"-86.3\" font-family=\"Times New Roman,serif\" font-size=\"14.00\">DAY</text>\n",
       "</g>\n",
       "<!-- BASKET_ID&#45;&gt;DAY -->\n",
       "<g id=\"edge4\" class=\"edge\">\n",
       "<title>BASKET_ID&#45;&gt;DAY</title>\n",
       "<path fill=\"none\" stroke=\"black\" d=\"M281.68,-144.41C288.66,-135.53 297.37,-124.44 305.05,-114.67\"/>\n",
       "<polygon fill=\"black\" stroke=\"black\" points=\"308.03,-116.54 311.46,-106.51 302.53,-112.21 308.03,-116.54\"/>\n",
       "</g>\n",
       "<!-- STORE_ID -->\n",
       "<g id=\"node6\" class=\"node\">\n",
       "<title>STORE_ID</title>\n",
       "<ellipse fill=\"none\" stroke=\"black\" cx=\"422.64\" cy=\"-90\" rx=\"51.99\" ry=\"18\"/>\n",
       "<text text-anchor=\"middle\" x=\"422.64\" y=\"-86.3\" font-family=\"Times New Roman,serif\" font-size=\"14.00\">STORE_ID</text>\n",
       "</g>\n",
       "<!-- BASKET_ID&#45;&gt;STORE_ID -->\n",
       "<g id=\"edge5\" class=\"edge\">\n",
       "<title>BASKET_ID&#45;&gt;STORE_ID</title>\n",
       "<path fill=\"none\" stroke=\"black\" d=\"M300.18,-146.67C324.24,-135.73 357.53,-120.6 383.33,-108.87\"/>\n",
       "<polygon fill=\"black\" stroke=\"black\" points=\"384.81,-112.04 392.46,-104.72 381.91,-105.67 384.81,-112.04\"/>\n",
       "</g>\n",
       "<!-- WEEK_NO -->\n",
       "<g id=\"node4\" class=\"node\">\n",
       "<title>WEEK_NO</title>\n",
       "<ellipse fill=\"none\" stroke=\"black\" cx=\"323.64\" cy=\"-18\" rx=\"53.89\" ry=\"18\"/>\n",
       "<text text-anchor=\"middle\" x=\"323.64\" y=\"-14.3\" font-family=\"Times New Roman,serif\" font-size=\"14.00\">WEEK_NO</text>\n",
       "</g>\n",
       "<!-- DAY&#45;&gt;WEEK_NO -->\n",
       "<g id=\"edge3\" class=\"edge\">\n",
       "<title>DAY&#45;&gt;WEEK_NO</title>\n",
       "<path fill=\"none\" stroke=\"black\" d=\"M323.64,-71.7C323.64,-63.98 323.64,-54.71 323.64,-46.11\"/>\n",
       "<polygon fill=\"black\" stroke=\"black\" points=\"327.14,-46.1 323.64,-36.1 320.14,-46.1 327.14,-46.1\"/>\n",
       "</g>\n",
       "<!-- COUPON_MATCH_DISC -->\n",
       "<g id=\"node7\" class=\"node\">\n",
       "<title>COUPON_MATCH_DISC</title>\n",
       "<ellipse fill=\"none\" stroke=\"black\" cx=\"599.64\" cy=\"-90\" rx=\"106.68\" ry=\"18\"/>\n",
       "<text text-anchor=\"middle\" x=\"599.64\" y=\"-86.3\" font-family=\"Times New Roman,serif\" font-size=\"14.00\">COUPON_MATCH_DISC</text>\n",
       "</g>\n",
       "<!-- COUPON_DISC -->\n",
       "<g id=\"node8\" class=\"node\">\n",
       "<title>COUPON_DISC</title>\n",
       "<ellipse fill=\"none\" stroke=\"black\" cx=\"599.64\" cy=\"-162\" rx=\"71.49\" ry=\"18\"/>\n",
       "<text text-anchor=\"middle\" x=\"599.64\" y=\"-158.3\" font-family=\"Times New Roman,serif\" font-size=\"14.00\">COUPON_DISC</text>\n",
       "</g>\n",
       "<!-- COUPON_DISC&#45;&gt;COUPON_MATCH_DISC -->\n",
       "<g id=\"edge6\" class=\"edge\">\n",
       "<title>COUPON_DISC&#45;&gt;COUPON_MATCH_DISC</title>\n",
       "<path fill=\"none\" stroke=\"black\" d=\"M599.64,-143.7C599.64,-135.98 599.64,-126.71 599.64,-118.11\"/>\n",
       "<polygon fill=\"black\" stroke=\"black\" points=\"603.14,-118.1 599.64,-108.1 596.14,-118.1 603.14,-118.1\"/>\n",
       "</g>\n",
       "</g>\n",
       "</svg>\n"
      ],
      "text/plain": [
       "<graphviz.graphs.Digraph at 0x19c4a2fbd90>"
      ]
     },
     "execution_count": 4,
     "metadata": {},
     "output_type": "execute_result"
    }
   ],
   "source": [
    "tree"
   ]
  },
  {
   "cell_type": "code",
   "execution_count": 5,
   "metadata": {},
   "outputs": [],
   "source": [
    "violations = dia.dependency_violation(df, entropy, threshold=0.05)"
   ]
  },
  {
   "cell_type": "code",
   "execution_count": 6,
   "metadata": {},
   "outputs": [
    {
     "name": "stdout",
     "output_type": "stream",
     "text": [
      "COUPON_MATCH_DISC-COUPON_DISC\n",
      "shape: (6, 4)\n",
      "┌──────────────────────────┬───────┬───────────────────────────────┬───────────────────────────────┐\n",
      "│ Column Name: COUPON_DISC ┆ count ┆ Col COUPON_MATCH_DISC: Value  ┆ Reason                        │\n",
      "│ ---                      ┆ ---   ┆ & Count                       ┆ ---                           │\n",
      "│ i8                       ┆ u32   ┆ ---                           ┆ str                           │\n",
      "│                          ┆       ┆ list[struct[2]]               ┆                               │\n",
      "╞══════════════════════════╪═══════╪═══════════════════════════════╪═══════════════════════════════╡\n",
      "│ -5                       ┆ 180   ┆ [{0,179}, {-5,1}]             ┆ `COUPON_DISC` should uniquely │\n",
      "│                          ┆       ┆                               ┆ determine `COUPON_MA…         │\n",
      "│ -4                       ┆ 332   ┆ [{0,331}, {-2,1}]             ┆ `COUPON_DISC` should uniquely │\n",
      "│                          ┆       ┆                               ┆ determine `COUPON_MA…         │\n",
      "│ -3                       ┆ 679   ┆ [{-1,4}, {0,673}, … {-2,1}]   ┆ `COUPON_DISC` should uniquely │\n",
      "│                          ┆       ┆                               ┆ determine `COUPON_MA…         │\n",
      "│ -2                       ┆ 1868  ┆ [{0,1851}, {-1,3}, {-2,14}]   ┆ `COUPON_DISC` should uniquely │\n",
      "│                          ┆       ┆                               ┆ determine `COUPON_MA…         │\n",
      "│ null                     ┆ 22566 ┆ [{-1,2}, {0,5412},            ┆ `COUPON_DISC` should uniquely │\n",
      "│                          ┆       ┆ {null,17152}]                 ┆ determine `COUPON_MA…         │\n",
      "│ -1                       ┆ 10602 ┆ [{-1,263}, {0,10332},         ┆ `COUPON_DISC` should uniquely │\n",
      "│                          ┆       ┆ {null,7}]                     ┆ determine `COUPON_MA…         │\n",
      "└──────────────────────────┴───────┴───────────────────────────────┴───────────────────────────────┘\n"
     ]
    }
   ],
   "source": [
    "with pl.Config(fmt_str_lengths=50):\n",
    "    for k, v in violations.items():\n",
    "        print(k)\n",
    "        print(v)"
   ]
  },
  {
   "cell_type": "markdown",
   "metadata": {},
   "source": [
    "# String Outliers"
   ]
  },
  {
   "cell_type": "code",
   "execution_count": 7,
   "metadata": {},
   "outputs": [],
   "source": [
    "import dsds.diagnosis as dia\n",
    "df = pl.read_csv(\"../data/providers.csv\")\n",
    "outliers = dia.str_len_outliers(df, (0.01, 0.99))"
   ]
  },
  {
   "cell_type": "code",
   "execution_count": 8,
   "metadata": {},
   "outputs": [
    {
     "data": {
      "text/html": [
       "<div><style>\n",
       ".dataframe > thead > tr > th,\n",
       ".dataframe > tbody > tr > td {\n",
       "  text-align: right;\n",
       "  white-space: pre-wrap;\n",
       "}\n",
       "</style>\n",
       "<small>shape: (5, 9)</small><table border=\"1\" class=\"dataframe\"><thead><tr><th>Feature</th><th>Total Unique Values</th><th>Has Null</th><th>1.0-Percentile Length</th><th>99.0-Percentile Length</th><th>Avg Length</th><th>Median Length</th><th>Outliers</th><th>Outlier Count</th></tr><tr><td>str</td><td>u32</td><td>bool</td><td>u32</td><td>u32</td><td>f64</td><td>u32</td><td>list[str]</td><td>u32</td></tr></thead><tbody><tr><td>&quot;NAME&quot;</td><td>5766</td><td>false</td><td>14</td><td>26</td><td>19.292741</td><td>19</td><td>[&quot;Del587 Kub800&quot;, &quot;María Soledad68 Carrera906&quot;, … &quot;María Soledad68 Dávila115&quot;]</td><td>30</td></tr><tr><td>&quot;SPECIALITY&quot;</td><td>69</td><td>false</td><td>8</td><td>38</td><td>17.27959</td><td>16</td><td>[&quot;UROLOGY&quot;, &quot;REGISTERED DIETITIAN OR NUTRITION PROFESSIONAL&quot;]</td><td>2</td></tr><tr><td>&quot;ADDRESS&quot;</td><td>1006</td><td>false</td><td>9</td><td>36</td><td>14.635525</td><td>14</td><td>[&quot;425 N RD&quot;, &quot;660 E ST&quot;, … &quot;40 E ST&quot;]</td><td>22</td></tr><tr><td>&quot;CITY&quot;</td><td>317</td><td>false</td><td>5</td><td>16</td><td>8.380871</td><td>8</td><td>[&quot;WARE&quot;, &quot;STOW&quot;, … &quot;LEE&quot;]</td><td>7</td></tr><tr><td>&quot;ZIP&quot;</td><td>1003</td><td>false</td><td>5</td><td>10</td><td>9.832109</td><td>10</td><td>[&quot;1104&quot;, &quot;2726&quot;, … &quot;1060&quot;]</td><td>38</td></tr></tbody></table></div>"
      ],
      "text/plain": [
       "shape: (5, 9)\n",
       "┌─────────────┬────────┬──────────┬─────────────┬───┬─────────────┬────────┬─────────────┬─────────┐\n",
       "│ Feature     ┆ Total  ┆ Has Null ┆ 1.0-Percent ┆ … ┆ Avg Length  ┆ Median ┆ Outliers    ┆ Outlier │\n",
       "│ ---         ┆ Unique ┆ ---      ┆ ile Length  ┆   ┆ ---         ┆ Length ┆ ---         ┆ Count   │\n",
       "│ str         ┆ Values ┆ bool     ┆ ---         ┆   ┆ f64         ┆ ---    ┆ list[str]   ┆ ---     │\n",
       "│             ┆ ---    ┆          ┆ u32         ┆   ┆             ┆ u32    ┆             ┆ u32     │\n",
       "│             ┆ u32    ┆          ┆             ┆   ┆             ┆        ┆             ┆         │\n",
       "╞═════════════╪════════╪══════════╪═════════════╪═══╪═════════════╪════════╪═════════════╪═════════╡\n",
       "│ NAME        ┆ 5766   ┆ false    ┆ 14          ┆ … ┆ 19.292741   ┆ 19     ┆ [\"Del587    ┆ 30      │\n",
       "│             ┆        ┆          ┆             ┆   ┆             ┆        ┆ Kub800\",    ┆         │\n",
       "│             ┆        ┆          ┆             ┆   ┆             ┆        ┆ \"María      ┆         │\n",
       "│             ┆        ┆          ┆             ┆   ┆             ┆        ┆ Soledad…    ┆         │\n",
       "│ SPECIALITY  ┆ 69     ┆ false    ┆ 8           ┆ … ┆ 17.27959    ┆ 16     ┆ [\"UROLOGY\", ┆ 2       │\n",
       "│             ┆        ┆          ┆             ┆   ┆             ┆        ┆ \"REGISTERED ┆         │\n",
       "│             ┆        ┆          ┆             ┆   ┆             ┆        ┆ DIETITIA…   ┆         │\n",
       "│ ADDRESS     ┆ 1006   ┆ false    ┆ 9           ┆ … ┆ 14.635525   ┆ 14     ┆ [\"425 N     ┆ 22      │\n",
       "│             ┆        ┆          ┆             ┆   ┆             ┆        ┆ RD\", \"660 E ┆         │\n",
       "│             ┆        ┆          ┆             ┆   ┆             ┆        ┆ ST\", … \"40  ┆         │\n",
       "│             ┆        ┆          ┆             ┆   ┆             ┆        ┆ E…          ┆         │\n",
       "│ CITY        ┆ 317    ┆ false    ┆ 5           ┆ … ┆ 8.380871    ┆ 8      ┆ [\"WARE\",    ┆ 7       │\n",
       "│             ┆        ┆          ┆             ┆   ┆             ┆        ┆ \"STOW\", …   ┆         │\n",
       "│             ┆        ┆          ┆             ┆   ┆             ┆        ┆ \"LEE\"]      ┆         │\n",
       "│ ZIP         ┆ 1003   ┆ false    ┆ 5           ┆ … ┆ 9.832109    ┆ 10     ┆ [\"1104\",    ┆ 38      │\n",
       "│             ┆        ┆          ┆             ┆   ┆             ┆        ┆ \"2726\", …   ┆         │\n",
       "│             ┆        ┆          ┆             ┆   ┆             ┆        ┆ \"1060\"]     ┆         │\n",
       "└─────────────┴────────┴──────────┴─────────────┴───┴─────────────┴────────┴─────────────┴─────────┘"
      ]
     },
     "execution_count": 8,
     "metadata": {},
     "output_type": "execute_result"
    }
   ],
   "source": [
    "# We found the 4 digit zip codes, Addresses that are too short, rare city names, etc., \n",
    "# which could be potential problems\n",
    "# by just string length statistics\n",
    "outliers"
   ]
  },
  {
   "cell_type": "code",
   "execution_count": 9,
   "metadata": {},
   "outputs": [
    {
     "data": {
      "text/plain": [
       "['2649',\n",
       " '2721',\n",
       " '2746',\n",
       " '2721',\n",
       " '2740',\n",
       " '1850',\n",
       " '2301',\n",
       " '2719',\n",
       " '2771',\n",
       " '2339',\n",
       " '2451',\n",
       " '1824',\n",
       " '2150',\n",
       " '2184',\n",
       " '1028',\n",
       " '1118',\n",
       " '1610',\n",
       " '1887',\n",
       " '2601',\n",
       " '2124',\n",
       " '1887',\n",
       " '2116',\n",
       " '2780',\n",
       " '1605',\n",
       " '1960',\n",
       " '2721',\n",
       " '2532',\n",
       " '2453',\n",
       " '2128',\n",
       " '2645',\n",
       " '1301',\n",
       " '1104',\n",
       " '2760',\n",
       " '1020',\n",
       " '1907',\n",
       " '1060',\n",
       " '2747',\n",
       " '2128',\n",
       " '2767',\n",
       " '1605',\n",
       " '2536',\n",
       " '2155',\n",
       " '2726']"
      ]
     },
     "execution_count": 9,
     "metadata": {},
     "output_type": "execute_result"
    }
   ],
   "source": [
    "dia.str_pattern_outliers(df, \"ZIP\", \"^\\d\\d\\d\\d\\d.*$\")"
   ]
  },
  {
   "cell_type": "code",
   "execution_count": 10,
   "metadata": {},
   "outputs": [
    {
     "data": {
      "text/html": [
       "<div><style>\n",
       ".dataframe > thead > tr > th,\n",
       ".dataframe > tbody > tr > td {\n",
       "  text-align: right;\n",
       "  white-space: pre-wrap;\n",
       "}\n",
       "</style>\n",
       "<small>shape: (9, 13)</small><table border=\"1\" class=\"dataframe\"><thead><tr><th>features</th><th>null_count</th><th>min</th><th>max</th><th>mode</th><th>min_byte_len</th><th>max_byte_len</th><th>avg_byte_len</th><th>median_byte_len</th><th>avg_space_cnt</th><th>avg_digit_cnt</th><th>avg_cap_cnt</th><th>avg_lower_cnt</th></tr><tr><td>str</td><td>i64</td><td>str</td><td>str</td><td>str</td><td>i64</td><td>i64</td><td>f64</td><td>f64</td><td>f64</td><td>f64</td><td>f64</td><td>f64</td></tr></thead><tbody><tr><td>&quot;Id&quot;</td><td>0</td><td>&quot;fff8a88f-5da7-…</td><td>&quot;00068887-1b36-…</td><td>&quot;7e3d3033-467e-…</td><td>36</td><td>36</td><td>36.0</td><td>36.0</td><td>0.0</td><td>20.302647</td><td>0.0</td><td>11.697353</td></tr><tr><td>&quot;ORGANIZATION&quot;</td><td>0</td><td>&quot;ffd4ace5-d9ad-…</td><td>&quot;00065b1c-5e71-…</td><td>&quot;7e79cf8f-66ff-…</td><td>36</td><td>36</td><td>36.0</td><td>36.0</td><td>0.0</td><td>20.094108</td><td>0.0</td><td>11.905892</td></tr><tr><td>&quot;NAME&quot;</td><td>0</td><td>&quot;Óscar156 Saldi…</td><td>&quot;Aaron697 Lakin…</td><td>&quot;Mari763 Reynol…</td><td>13</td><td>31</td><td>19.292741</td><td>19.0</td><td>1.00854</td><td>5.804099</td><td>2.035013</td><td>10.371477</td></tr><tr><td>&quot;GENDER&quot;</td><td>0</td><td>&quot;M&quot;</td><td>&quot;F&quot;</td><td>&quot;F&quot;</td><td>1</td><td>1</td><td>1.0</td><td>1.0</td><td>0.0</td><td>0.0</td><td>1.0</td><td>0.0</td></tr><tr><td>&quot;SPECIALITY&quot;</td><td>0</td><td>&quot;VASCULAR SURGE…</td><td>&quot;ADDICTION MEDI…</td><td>&quot;GENERAL PRACTI…</td><td>7</td><td>46</td><td>17.27959</td><td>16.0</td><td>0.922801</td><td>0.0</td><td>16.293254</td><td>0.0</td></tr><tr><td>&quot;ADDRESS&quot;</td><td>0</td><td>&quot;WILLIAM R NOLA…</td><td>&quot;1 ARCH PL&quot;</td><td>&quot;40 HOLLAND ST&quot;</td><td>5</td><td>49</td><td>14.635525</td><td>14.0</td><td>2.274808</td><td>2.554569</td><td>9.737319</td><td>0.040649</td></tr><tr><td>&quot;CITY&quot;</td><td>0</td><td>&quot;YARMOUTH PORT&quot;</td><td>&quot;ABINGTON&quot;</td><td>&quot;SOMERVILLE&quot;</td><td>3</td><td>16</td><td>8.380871</td><td>8.0</td><td>0.052605</td><td>0.0</td><td>8.300256</td><td>0.02801</td></tr><tr><td>&quot;STATE&quot;</td><td>0</td><td>&quot;MA&quot;</td><td>&quot;MA&quot;</td><td>&quot;MA&quot;</td><td>2</td><td>2</td><td>2.0</td><td>2.0</td><td>0.0</td><td>0.0</td><td>2.0</td><td>0.0</td></tr><tr><td>&quot;ZIP&quot;</td><td>0</td><td>&quot;2780&quot;</td><td>&quot;01001&quot;</td><td>&quot;02144-2705&quot;</td><td>4</td><td>10</td><td>9.832109</td><td>10.0</td><td>0.0</td><td>8.864219</td><td>0.0</td><td>0.0</td></tr></tbody></table></div>"
      ],
      "text/plain": [
       "shape: (9, 13)\n",
       "┌───────────┬───────────┬───────────┬───────────┬───┬───────────┬───────────┬───────────┬──────────┐\n",
       "│ features  ┆ null_coun ┆ min       ┆ max       ┆ … ┆ avg_space ┆ avg_digit ┆ avg_cap_c ┆ avg_lowe │\n",
       "│ ---       ┆ t         ┆ ---       ┆ ---       ┆   ┆ _cnt      ┆ _cnt      ┆ nt        ┆ r_cnt    │\n",
       "│ str       ┆ ---       ┆ str       ┆ str       ┆   ┆ ---       ┆ ---       ┆ ---       ┆ ---      │\n",
       "│           ┆ i64       ┆           ┆           ┆   ┆ f64       ┆ f64       ┆ f64       ┆ f64      │\n",
       "╞═══════════╪═══════════╪═══════════╪═══════════╪═══╪═══════════╪═══════════╪═══════════╪══════════╡\n",
       "│ Id        ┆ 0         ┆ fff8a88f- ┆ 00068887- ┆ … ┆ 0.0       ┆ 20.302647 ┆ 0.0       ┆ 11.69735 │\n",
       "│           ┆           ┆ 5da7-3589 ┆ 1b36-3c56 ┆   ┆           ┆           ┆           ┆ 3        │\n",
       "│           ┆           ┆ -9781-f13 ┆ -b9c6-d33 ┆   ┆           ┆           ┆           ┆          │\n",
       "│           ┆           ┆ dfa63…    ┆ ce9a6…    ┆   ┆           ┆           ┆           ┆          │\n",
       "│ ORGANIZAT ┆ 0         ┆ ffd4ace5- ┆ 00065b1c- ┆ … ┆ 0.0       ┆ 20.094108 ┆ 0.0       ┆ 11.90589 │\n",
       "│ ION       ┆           ┆ d9ad-30ca ┆ 5e71-3da5 ┆   ┆           ┆           ┆           ┆ 2        │\n",
       "│           ┆           ┆ -9f1e-904 ┆ -907f-e9f ┆   ┆           ┆           ┆           ┆          │\n",
       "│           ┆           ┆ 2930d…    ┆ c33ed…    ┆   ┆           ┆           ┆           ┆          │\n",
       "│ NAME      ┆ 0         ┆ Óscar156  ┆ Aaron697  ┆ … ┆ 1.00854   ┆ 5.804099  ┆ 2.035013  ┆ 10.37147 │\n",
       "│           ┆           ┆ Saldivar8 ┆ Lakin515  ┆   ┆           ┆           ┆           ┆ 7        │\n",
       "│           ┆           ┆ 60        ┆           ┆   ┆           ┆           ┆           ┆          │\n",
       "│ GENDER    ┆ 0         ┆ M         ┆ F         ┆ … ┆ 0.0       ┆ 0.0       ┆ 1.0       ┆ 0.0      │\n",
       "│ SPECIALIT ┆ 0         ┆ VASCULAR  ┆ ADDICTION ┆ … ┆ 0.922801  ┆ 0.0       ┆ 16.293254 ┆ 0.0      │\n",
       "│ Y         ┆           ┆ SURGERY   ┆ MEDICINE  ┆   ┆           ┆           ┆           ┆          │\n",
       "│ ADDRESS   ┆ 0         ┆ WILLIAM R ┆ 1 ARCH PL ┆ … ┆ 2.274808  ┆ 2.554569  ┆ 9.737319  ┆ 0.040649 │\n",
       "│           ┆           ┆ NOLAN JR  ┆           ┆   ┆           ┆           ┆           ┆          │\n",
       "│           ┆           ┆ DC        ┆           ┆   ┆           ┆           ┆           ┆          │\n",
       "│ CITY      ┆ 0         ┆ YARMOUTH  ┆ ABINGTON  ┆ … ┆ 0.052605  ┆ 0.0       ┆ 8.300256  ┆ 0.02801  │\n",
       "│           ┆           ┆ PORT      ┆           ┆   ┆           ┆           ┆           ┆          │\n",
       "│ STATE     ┆ 0         ┆ MA        ┆ MA        ┆ … ┆ 0.0       ┆ 0.0       ┆ 2.0       ┆ 0.0      │\n",
       "│ ZIP       ┆ 0         ┆ 2780      ┆ 01001     ┆ … ┆ 0.0       ┆ 8.864219  ┆ 0.0       ┆ 0.0      │\n",
       "└───────────┴───────────┴───────────┴───────────┴───┴───────────┴───────────┴───────────┴──────────┘"
      ]
     },
     "execution_count": 10,
     "metadata": {},
     "output_type": "execute_result"
    }
   ],
   "source": [
    "import dsds.prescreen as ps\n",
    "\n",
    "ps.str_meta_report(df)"
   ]
  },
  {
   "cell_type": "markdown",
   "metadata": {},
   "source": [
    "# General Data Prescreen"
   ]
  },
  {
   "cell_type": "code",
   "execution_count": 10,
   "metadata": {},
   "outputs": [],
   "source": [
    "import dsds.prescreen as ps"
   ]
  },
  {
   "cell_type": "code",
   "execution_count": 11,
   "metadata": {},
   "outputs": [
    {
     "data": {
      "text/html": [
       "<div><style>\n",
       ".dataframe > thead > tr > th,\n",
       ".dataframe > tbody > tr > td {\n",
       "  text-align: right;\n",
       "  white-space: pre-wrap;\n",
       "}\n",
       "</style>\n",
       "<small>shape: (5, 22)</small><table border=\"1\" class=\"dataframe\"><thead><tr><th>ID</th><th>Gender</th><th>DOB</th><th>Lead_Creation_Date</th><th>City_Code</th><th>City_Category</th><th>Employer_Code</th><th>Employer_Category1</th><th>Employer_Category2</th><th>Monthly_Income</th><th>Customer_Existing_Primary_Bank_Code</th><th>Primary_Bank_Type</th><th>Contacted</th><th>Source</th><th>Source_Category</th><th>Existing_EMI</th><th>Loan_Amount</th><th>Loan_Period</th><th>Interest_Rate</th><th>EMI</th><th>Var1</th><th>Approved</th></tr><tr><td>str</td><td>str</td><td>str</td><td>date</td><td>str</td><td>str</td><td>str</td><td>str</td><td>i64</td><td>f64</td><td>str</td><td>str</td><td>str</td><td>str</td><td>str</td><td>f64</td><td>i64</td><td>i64</td><td>f64</td><td>i64</td><td>i64</td><td>i64</td></tr></thead><tbody><tr><td>&quot;APPC9049317122…</td><td>&quot;Female&quot;</td><td>&quot;23/07/79&quot;</td><td>2016-07-15</td><td>&quot;C10001&quot;</td><td>&quot;A&quot;</td><td>&quot;COM0044082&quot;</td><td>&quot;A&quot;</td><td>4</td><td>2000.0</td><td>&quot;B001&quot;</td><td>&quot;P&quot;</td><td>&quot;N&quot;</td><td>&quot;S122&quot;</td><td>&quot;G&quot;</td><td>0.0</td><td>null</td><td>null</td><td>null</td><td>null</td><td>0</td><td>0</td></tr><tr><td>&quot;APPD4061126334…</td><td>&quot;Male&quot;</td><td>&quot;07/12/86&quot;</td><td>2016-07-04</td><td>&quot;C10003&quot;</td><td>&quot;A&quot;</td><td>&quot;COM0000002&quot;</td><td>&quot;C&quot;</td><td>1</td><td>3500.0</td><td>&quot;B002&quot;</td><td>&quot;P&quot;</td><td>&quot;Y&quot;</td><td>&quot;S122&quot;</td><td>&quot;G&quot;</td><td>0.0</td><td>20000</td><td>2</td><td>13.25</td><td>953</td><td>10</td><td>0</td></tr><tr><td>&quot;APPE7028924942…</td><td>&quot;Male&quot;</td><td>&quot;10/12/82&quot;</td><td>2016-07-19</td><td>&quot;C10125&quot;</td><td>&quot;C&quot;</td><td>&quot;COM0005267&quot;</td><td>&quot;C&quot;</td><td>4</td><td>2250.0</td><td>&quot;B003&quot;</td><td>&quot;G&quot;</td><td>&quot;Y&quot;</td><td>&quot;S143&quot;</td><td>&quot;B&quot;</td><td>0.0</td><td>45000</td><td>4</td><td>null</td><td>null</td><td>0</td><td>0</td></tr><tr><td>&quot;APPF8027386553…</td><td>&quot;Male&quot;</td><td>&quot;30/01/89&quot;</td><td>2016-07-09</td><td>&quot;C10477&quot;</td><td>&quot;C&quot;</td><td>&quot;COM0004143&quot;</td><td>&quot;A&quot;</td><td>4</td><td>3500.0</td><td>&quot;B003&quot;</td><td>&quot;G&quot;</td><td>&quot;Y&quot;</td><td>&quot;S143&quot;</td><td>&quot;B&quot;</td><td>0.0</td><td>92000</td><td>5</td><td>null</td><td>null</td><td>7</td><td>0</td></tr><tr><td>&quot;APPG6099443664…</td><td>&quot;Male&quot;</td><td>&quot;19/04/85&quot;</td><td>2016-07-20</td><td>&quot;C10002&quot;</td><td>&quot;A&quot;</td><td>&quot;COM0001781&quot;</td><td>&quot;A&quot;</td><td>4</td><td>10000.0</td><td>&quot;B001&quot;</td><td>&quot;P&quot;</td><td>&quot;Y&quot;</td><td>&quot;S134&quot;</td><td>&quot;B&quot;</td><td>2500.0</td><td>50000</td><td>2</td><td>null</td><td>null</td><td>10</td><td>0</td></tr></tbody></table></div>"
      ],
      "text/plain": [
       "shape: (5, 22)\n",
       "┌────────────────┬────────┬──────────┬────────────────┬───┬───────────────┬──────┬──────┬──────────┐\n",
       "│ ID             ┆ Gender ┆ DOB      ┆ Lead_Creation_ ┆ … ┆ Interest_Rate ┆ EMI  ┆ Var1 ┆ Approved │\n",
       "│ ---            ┆ ---    ┆ ---      ┆ Date           ┆   ┆ ---           ┆ ---  ┆ ---  ┆ ---      │\n",
       "│ str            ┆ str    ┆ str      ┆ ---            ┆   ┆ f64           ┆ i64  ┆ i64  ┆ i64      │\n",
       "│                ┆        ┆          ┆ date           ┆   ┆               ┆      ┆      ┆          │\n",
       "╞════════════════╪════════╪══════════╪════════════════╪═══╪═══════════════╪══════╪══════╪══════════╡\n",
       "│ APPC9049317122 ┆ Female ┆ 23/07/79 ┆ 2016-07-15     ┆ … ┆ null          ┆ null ┆ 0    ┆ 0        │\n",
       "│ 5              ┆        ┆          ┆                ┆   ┆               ┆      ┆      ┆          │\n",
       "│ APPD4061126334 ┆ Male   ┆ 07/12/86 ┆ 2016-07-04     ┆ … ┆ 13.25         ┆ 953  ┆ 10   ┆ 0        │\n",
       "│ 4              ┆        ┆          ┆                ┆   ┆               ┆      ┆      ┆          │\n",
       "│ APPE7028924942 ┆ Male   ┆ 10/12/82 ┆ 2016-07-19     ┆ … ┆ null          ┆ null ┆ 0    ┆ 0        │\n",
       "│ 3              ┆        ┆          ┆                ┆   ┆               ┆      ┆      ┆          │\n",
       "│ APPF8027386553 ┆ Male   ┆ 30/01/89 ┆ 2016-07-09     ┆ … ┆ null          ┆ null ┆ 7    ┆ 0        │\n",
       "│ 7              ┆        ┆          ┆                ┆   ┆               ┆      ┆      ┆          │\n",
       "│ APPG6099443664 ┆ Male   ┆ 19/04/85 ┆ 2016-07-20     ┆ … ┆ null          ┆ null ┆ 10   ┆ 0        │\n",
       "│ 1              ┆        ┆          ┆                ┆   ┆               ┆      ┆      ┆          │\n",
       "└────────────────┴────────┴──────────┴────────────────┴───┴───────────────┴──────┴──────┴──────────┘"
      ]
     },
     "execution_count": 11,
     "metadata": {},
     "output_type": "execute_result"
    }
   ],
   "source": [
    "df = pl.read_csv(\"../data/train2.csv\").with_columns(\n",
    "    pl.col(\"Lead_Creation_Date\").str.to_date(format=r\"%d/%m/%y\")\n",
    ")\n",
    "df.head()"
   ]
  },
  {
   "cell_type": "code",
   "execution_count": 12,
   "metadata": {},
   "outputs": [
    {
     "data": {
      "text/html": [
       "<div><style>\n",
       ".dataframe > thead > tr > th,\n",
       ".dataframe > tbody > tr > td {\n",
       "  text-align: right;\n",
       "  white-space: pre-wrap;\n",
       "}\n",
       "</style>\n",
       "<small>shape: (21, 12)</small><table border=\"1\" class=\"dataframe\"><thead><tr><th>feature</th><th>year</th><th>month</th><th>count</th><th>5%_quantile</th><th>95%_quantile</th><th>null%</th><th>mean</th><th>null_PoP_%chg</th><th>mean_PoP_%diff</th><th>null_%chg_overall</th><th>mean_%diff_overall</th></tr><tr><td>str</td><td>i32</td><td>u32</td><td>u32</td><td>f64</td><td>f64</td><td>f64</td><td>f64</td><td>f64</td><td>f64</td><td>f64</td><td>f64</td></tr></thead><tbody><tr><td>&quot;Approved&quot;</td><td>2016</td><td>7</td><td>21576</td><td>0.0</td><td>0.0</td><td>0.0</td><td>0.014368</td><td>NaN</td><td>null</td><td>0.0</td><td>-0.018016</td></tr><tr><td>&quot;Approved&quot;</td><td>2016</td><td>8</td><td>22404</td><td>0.0</td><td>0.0</td><td>0.0</td><td>0.016247</td><td>0.0</td><td>0.130798</td><td>0.0</td><td>0.110425</td></tr><tr><td>&quot;Approved&quot;</td><td>2016</td><td>9</td><td>25733</td><td>0.0</td><td>0.0</td><td>0.0</td><td>0.013446</td><td>0.0</td><td>-0.17242</td><td>0.0</td><td>-0.081034</td></tr><tr><td>&quot;EMI&quot;</td><td>2016</td><td>7</td><td>21576</td><td>349.0</td><td>2457.0</td><td>0.645578</td><td>1072.715706</td><td>null</td><td>null</td><td>-0.051264</td><td>-0.026102</td></tr><tr><td>&quot;EMI&quot;</td><td>2016</td><td>8</td><td>22404</td><td>318.0</td><td>2594.0</td><td>0.666756</td><td>1101.787168</td><td>0.032804</td><td>0.027101</td><td>-0.020141</td><td>0.000291</td></tr><tr><td>&quot;EMI&quot;</td><td>2016</td><td>9</td><td>25733</td><td>346.0</td><td>2693.0</td><td>0.721641</td><td>1131.824934</td><td>0.082317</td><td>0.027263</td><td>0.060518</td><td>0.027562</td></tr><tr><td>&quot;Existing_EMI&quot;</td><td>2016</td><td>7</td><td>21576</td><td>0.0</td><td>1940.0</td><td>0.0</td><td>399.605358</td><td>NaN</td><td>null</td><td>-1.0</td><td>0.107159</td></tr><tr><td>&quot;Existing_EMI&quot;</td><td>2016</td><td>8</td><td>22404</td><td>0.0</td><td>1830.0</td><td>0.000089</td><td>376.982564</td><td>inf</td><td>-0.056613</td><td>-0.877975</td><td>0.044479</td></tr><tr><td>&quot;Existing_EMI&quot;</td><td>2016</td><td>9</td><td>25733</td><td>0.0</td><td>1650.0</td><td>0.001904</td><td>314.435838</td><td>20.330509</td><td>-0.165914</td><td>1.602851</td><td>-0.128815</td></tr><tr><td>&quot;Interest_Rate&quot;</td><td>2016</td><td>7</td><td>21576</td><td>13.49</td><td>24.0</td><td>0.645578</td><td>17.934755</td><td>null</td><td>null</td><td>-0.051264</td><td>-0.066558</td></tr><tr><td>&quot;Interest_Rate&quot;</td><td>2016</td><td>8</td><td>22404</td><td>13.5</td><td>31.5</td><td>0.666756</td><td>19.258886</td><td>0.032804</td><td>0.07383</td><td>-0.020141</td><td>0.002359</td></tr><tr><td>&quot;Interest_Rate&quot;</td><td>2016</td><td>9</td><td>25733</td><td>13.5</td><td>35.5</td><td>0.721641</td><td>20.531561</td><td>0.082317</td><td>0.066082</td><td>0.060518</td><td>0.068597</td></tr><tr><td>&quot;Loan_Amount&quot;</td><td>2016</td><td>7</td><td>21576</td><td>10000.0</td><td>100000.0</td><td>0.360632</td><td>39891.772381</td><td>null</td><td>null</td><td>-0.092686</td><td>0.011712</td></tr><tr><td>&quot;Loan_Amount&quot;</td><td>2016</td><td>8</td><td>22404</td><td>10000.0</td><td>100000.0</td><td>0.355115</td><td>39695.736434</td><td>-0.015298</td><td>-0.004914</td><td>-0.106567</td><td>0.00674</td></tr><tr><td>&quot;Loan_Amount&quot;</td><td>2016</td><td>9</td><td>25733</td><td>10000.0</td><td>100000.0</td><td>0.465239</td><td>38688.031393</td><td>0.310108</td><td>-0.025386</td><td>0.170494</td><td>-0.018817</td></tr><tr><td>&quot;Loan_Period&quot;</td><td>2016</td><td>7</td><td>21576</td><td>2.0</td><td>5.0</td><td>0.360632</td><td>4.073505</td><td>null</td><td>null</td><td>-0.092686</td><td>0.047004</td></tr><tr><td>&quot;Loan_Period&quot;</td><td>2016</td><td>8</td><td>22404</td><td>2.0</td><td>5.0</td><td>0.355115</td><td>3.893549</td><td>-0.015298</td><td>-0.044177</td><td>-0.106567</td><td>0.00075</td></tr><tr><td>&quot;Loan_Period&quot;</td><td>2016</td><td>9</td><td>25733</td><td>2.0</td><td>5.0</td><td>0.465239</td><td>3.704237</td><td>0.310108</td><td>-0.048622</td><td>0.170494</td><td>-0.047908</td></tr><tr><td>&quot;Var1&quot;</td><td>2016</td><td>7</td><td>21576</td><td>0.0</td><td>10.0</td><td>0.0</td><td>4.526187</td><td>NaN</td><td>null</td><td>0.0</td><td>0.146321</td></tr><tr><td>&quot;Var1&quot;</td><td>2016</td><td>8</td><td>22404</td><td>0.0</td><td>10.0</td><td>0.0</td><td>4.153767</td><td>0.0</td><td>-0.082281</td><td>0.0</td><td>0.052001</td></tr><tr><td>&quot;Var1&quot;</td><td>2016</td><td>9</td><td>25733</td><td>0.0</td><td>10.0</td><td>0.0</td><td>3.285276</td><td>0.0</td><td>-0.209085</td><td>0.0</td><td>-0.167957</td></tr></tbody></table></div>"
      ],
      "text/plain": [
       "shape: (21, 12)\n",
       "┌─────────────┬──────┬───────┬───────┬───┬──────────────┬──────────────┬─────────────┬─────────────┐\n",
       "│ feature     ┆ year ┆ month ┆ count ┆ … ┆ null_PoP_%ch ┆ mean_PoP_%di ┆ null_%chg_o ┆ mean_%diff_ │\n",
       "│ ---         ┆ ---  ┆ ---   ┆ ---   ┆   ┆ g            ┆ ff           ┆ verall      ┆ overall     │\n",
       "│ str         ┆ i32  ┆ u32   ┆ u32   ┆   ┆ ---          ┆ ---          ┆ ---         ┆ ---         │\n",
       "│             ┆      ┆       ┆       ┆   ┆ f64          ┆ f64          ┆ f64         ┆ f64         │\n",
       "╞═════════════╪══════╪═══════╪═══════╪═══╪══════════════╪══════════════╪═════════════╪═════════════╡\n",
       "│ Approved    ┆ 2016 ┆ 7     ┆ 21576 ┆ … ┆ NaN          ┆ null         ┆ 0.0         ┆ -0.018016   │\n",
       "│ Approved    ┆ 2016 ┆ 8     ┆ 22404 ┆ … ┆ 0.0          ┆ 0.130798     ┆ 0.0         ┆ 0.110425    │\n",
       "│ Approved    ┆ 2016 ┆ 9     ┆ 25733 ┆ … ┆ 0.0          ┆ -0.17242     ┆ 0.0         ┆ -0.081034   │\n",
       "│ EMI         ┆ 2016 ┆ 7     ┆ 21576 ┆ … ┆ null         ┆ null         ┆ -0.051264   ┆ -0.026102   │\n",
       "│ …           ┆ …    ┆ …     ┆ …     ┆ … ┆ …            ┆ …            ┆ …           ┆ …           │\n",
       "│ Loan_Period ┆ 2016 ┆ 9     ┆ 25733 ┆ … ┆ 0.310108     ┆ -0.048622    ┆ 0.170494    ┆ -0.047908   │\n",
       "│ Var1        ┆ 2016 ┆ 7     ┆ 21576 ┆ … ┆ NaN          ┆ null         ┆ 0.0         ┆ 0.146321    │\n",
       "│ Var1        ┆ 2016 ┆ 8     ┆ 22404 ┆ … ┆ 0.0          ┆ -0.082281    ┆ 0.0         ┆ 0.052001    │\n",
       "│ Var1        ┆ 2016 ┆ 9     ┆ 25733 ┆ … ┆ 0.0          ┆ -0.209085    ┆ 0.0         ┆ -0.167957   │\n",
       "└─────────────┴──────┴───────┴───────┴───┴──────────────┴──────────────┴─────────────┴─────────────┘"
      ]
     },
     "execution_count": 12,
     "metadata": {},
     "output_type": "execute_result"
    }
   ],
   "source": [
    "ps.over_time_report_num(\n",
    "    df,\n",
    "    time_col = \"Lead_Creation_Date\",\n",
    "    cols = [\"Interest_Rate\", \"Loan_Period\", \"Loan_Amount\", \"Existing_EMI\", \"EMI\", \"Var1\", \"Approved\"],\n",
    "    interval = \"monthly\"\n",
    ")"
   ]
  },
  {
   "cell_type": "code",
   "execution_count": 13,
   "metadata": {},
   "outputs": [
    {
     "data": {
      "text/html": [
       "<div><style>\n",
       ".dataframe > thead > tr > th,\n",
       ".dataframe > tbody > tr > td {\n",
       "  text-align: right;\n",
       "  white-space: pre-wrap;\n",
       "}\n",
       "</style>\n",
       "<small>shape: (6, 3)</small><table border=\"1\" class=\"dataframe\"><thead><tr><th>features</th><th>Approved</th><th>Var1</th></tr><tr><td>str</td><td>f64</td><td>f64</td></tr></thead><tbody><tr><td>&quot;Interest_Rate&quot;</td><td>-0.094387</td><td>-0.554138</td></tr><tr><td>&quot;Loan_Period&quot;</td><td>-0.000375</td><td>-0.065702</td></tr><tr><td>&quot;Loan_Amount&quot;</td><td>0.046502</td><td>0.307945</td></tr><tr><td>&quot;Existing_EMI&quot;</td><td>0.027821</td><td>0.00662</td></tr><tr><td>&quot;EMI&quot;</td><td>0.050129</td><td>0.293474</td></tr><tr><td>&quot;Approved&quot;</td><td>1.0</td><td>0.11244</td></tr></tbody></table></div>"
      ],
      "text/plain": [
       "shape: (6, 3)\n",
       "┌───────────────┬───────────┬───────────┐\n",
       "│ features      ┆ Approved  ┆ Var1      │\n",
       "│ ---           ┆ ---       ┆ ---       │\n",
       "│ str           ┆ f64       ┆ f64       │\n",
       "╞═══════════════╪═══════════╪═══════════╡\n",
       "│ Interest_Rate ┆ -0.094387 ┆ -0.554138 │\n",
       "│ Loan_Period   ┆ -0.000375 ┆ -0.065702 │\n",
       "│ Loan_Amount   ┆ 0.046502  ┆ 0.307945  │\n",
       "│ Existing_EMI  ┆ 0.027821  ┆ 0.00662   │\n",
       "│ EMI           ┆ 0.050129  ┆ 0.293474  │\n",
       "│ Approved      ┆ 1.0       ┆ 0.11244   │\n",
       "└───────────────┴───────────┴───────────┘"
      ]
     },
     "execution_count": 13,
     "metadata": {},
     "output_type": "execute_result"
    }
   ],
   "source": [
    "ps.corr_report(\n",
    "    df\n",
    "    , features = [\"Interest_Rate\", \"Loan_Period\", \"Loan_Amount\", \"Existing_EMI\", \"EMI\", \"Approved\"]\n",
    "    , targets = [\"Approved\", \"Var1\"]\n",
    ")"
   ]
  },
  {
   "cell_type": "code",
   "execution_count": 14,
   "metadata": {},
   "outputs": [
    {
     "data": {
      "text/html": [
       "<div><style>\n",
       ".dataframe > thead > tr > th,\n",
       ".dataframe > tbody > tr > td {\n",
       "  text-align: right;\n",
       "  white-space: pre-wrap;\n",
       "}\n",
       "</style>\n",
       "<small>shape: (0, 3)</small><table border=\"1\" class=\"dataframe\"><thead><tr><th>features</th><th>corr &gt; 0.50</th><th>corr &lt; -0.50</th></tr><tr><td>str</td><td>list[null]</td><td>list[null]</td></tr></thead><tbody></tbody></table></div>"
      ],
      "text/plain": [
       "shape: (0, 3)\n",
       "┌──────────┬─────────────┬──────────────┐\n",
       "│ features ┆ corr > 0.50 ┆ corr < -0.50 │\n",
       "│ ---      ┆ ---         ┆ ---          │\n",
       "│ str      ┆ list[null]  ┆ list[null]   │\n",
       "╞══════════╪═════════════╪══════════════╡\n",
       "└──────────┴─────────────┴──────────────┘"
      ]
     },
     "execution_count": 14,
     "metadata": {},
     "output_type": "execute_result"
    }
   ],
   "source": [
    "ps.infer_highly_correlated(\n",
    "    df, threshold=0.5\n",
    ")"
   ]
  },
  {
   "cell_type": "code",
   "execution_count": 15,
   "metadata": {},
   "outputs": [
    {
     "data": {
      "text/html": [
       "<div><style>\n",
       ".dataframe > thead > tr > th,\n",
       ".dataframe > tbody > tr > td {\n",
       "  text-align: right;\n",
       "  white-space: pre-wrap;\n",
       "}\n",
       "</style>\n",
       "<small>shape: (12, 11)</small><table border=\"1\" class=\"dataframe\"><thead><tr><th>feature</th><th>n_unique</th><th>has_null</th><th>category_w_min_count</th><th>min_count</th><th>category_w_max_count</th><th>max_count</th><th>avg_count</th><th>min_successive_diff</th><th>avg_successive_diff</th><th>max_successive_diff</th></tr><tr><td>str</td><td>u32</td><td>bool</td><td>str</td><td>u32</td><td>str</td><td>u32</td><td>f64</td><td>i64</td><td>f64</td><td>i64</td></tr></thead><tbody><tr><td>&quot;ID&quot;</td><td>69713</td><td>false</td><td>&quot;APPA1000090502…</td><td>1</td><td>&quot;APPZ9099717294…</td><td>1</td><td>1.0</td><td>0</td><td>0.0</td><td>0</td></tr><tr><td>&quot;Gender&quot;</td><td>2</td><td>false</td><td>&quot;Female&quot;</td><td>29764</td><td>&quot;Male&quot;</td><td>39949</td><td>34856.5</td><td>10185</td><td>10185.0</td><td>10185</td></tr><tr><td>&quot;DOB&quot;</td><td>10760</td><td>true</td><td>&quot;01/01/53&quot;</td><td>1</td><td>&quot;11/01/82&quot;</td><td>253</td><td>6.478903</td><td>0</td><td>0.023422</td><td>70</td></tr><tr><td>&quot;City_Code&quot;</td><td>679</td><td>true</td><td>&quot;C10435&quot;</td><td>1</td><td>&quot;C10001&quot;</td><td>10007</td><td>102.670103</td><td>0</td><td>14.758112</td><td>2823</td></tr><tr><td>&quot;City_Category&quot;</td><td>4</td><td>true</td><td>null</td><td>814</td><td>&quot;A&quot;</td><td>49885</td><td>17428.25</td><td>4374</td><td>16357.0</td><td>38191</td></tr><tr><td>&quot;Employer_Code&quot;</td><td>36618</td><td>true</td><td>&quot;COM0001195&quot;</td><td>1</td><td>null</td><td>4018</td><td>1.90379</td><td>0</td><td>0.109703</td><td>3561</td></tr><tr><td>&quot;Employer_Categ…</td><td>4</td><td>true</td><td>null</td><td>4018</td><td>&quot;A&quot;</td><td>33336</td><td>17428.25</td><td>3753</td><td>9772.666667</td><td>15280</td></tr><tr><td>&quot;Customer_Exist…</td><td>58</td><td>true</td><td>&quot;B057&quot;</td><td>1</td><td>&quot;B001&quot;</td><td>14197</td><td>1201.948276</td><td>0</td><td>249.052632</td><td>5150</td></tr><tr><td>&quot;Primary_Bank_T…</td><td>3</td><td>true</td><td>null</td><td>9391</td><td>&quot;P&quot;</td><td>39619</td><td>23237.666667</td><td>11312</td><td>15114.0</td><td>18916</td></tr><tr><td>&quot;Contacted&quot;</td><td>2</td><td>false</td><td>&quot;N&quot;</td><td>24438</td><td>&quot;Y&quot;</td><td>45275</td><td>34856.5</td><td>20837</td><td>20837.0</td><td>20837</td></tr><tr><td>&quot;Source&quot;</td><td>29</td><td>false</td><td>&quot;S130&quot;</td><td>1</td><td>&quot;S122&quot;</td><td>30941</td><td>2403.896552</td><td>0</td><td>1105.0</td><td>19403</td></tr><tr><td>&quot;Source_Categor…</td><td>7</td><td>false</td><td>&quot;A&quot;</td><td>3</td><td>&quot;B&quot;</td><td>29812</td><td>9959.0</td><td>38</td><td>4968.166667</td><td>15144</td></tr></tbody></table></div>"
      ],
      "text/plain": [
       "shape: (12, 11)\n",
       "┌────────────┬──────────┬──────────┬───────────┬───┬───────────┬───────────┬───────────┬───────────┐\n",
       "│ feature    ┆ n_unique ┆ has_null ┆ category_ ┆ … ┆ avg_count ┆ min_succe ┆ avg_succe ┆ max_succe │\n",
       "│ ---        ┆ ---      ┆ ---      ┆ w_min_cou ┆   ┆ ---       ┆ ssive_dif ┆ ssive_dif ┆ ssive_dif │\n",
       "│ str        ┆ u32      ┆ bool     ┆ nt        ┆   ┆ f64       ┆ f         ┆ f         ┆ f         │\n",
       "│            ┆          ┆          ┆ ---       ┆   ┆           ┆ ---       ┆ ---       ┆ ---       │\n",
       "│            ┆          ┆          ┆ str       ┆   ┆           ┆ i64       ┆ f64       ┆ i64       │\n",
       "╞════════════╪══════════╪══════════╪═══════════╪═══╪═══════════╪═══════════╪═══════════╪═══════════╡\n",
       "│ ID         ┆ 69713    ┆ false    ┆ APPA10000 ┆ … ┆ 1.0       ┆ 0         ┆ 0.0       ┆ 0         │\n",
       "│            ┆          ┆          ┆ 905029    ┆   ┆           ┆           ┆           ┆           │\n",
       "│ Gender     ┆ 2        ┆ false    ┆ Female    ┆ … ┆ 34856.5   ┆ 10185     ┆ 10185.0   ┆ 10185     │\n",
       "│ DOB        ┆ 10760    ┆ true     ┆ 01/01/53  ┆ … ┆ 6.478903  ┆ 0         ┆ 0.023422  ┆ 70        │\n",
       "│ City_Code  ┆ 679      ┆ true     ┆ C10435    ┆ … ┆ 102.67010 ┆ 0         ┆ 14.758112 ┆ 2823      │\n",
       "│            ┆          ┆          ┆           ┆   ┆ 3         ┆           ┆           ┆           │\n",
       "│ …          ┆ …        ┆ …        ┆ …         ┆ … ┆ …         ┆ …         ┆ …         ┆ …         │\n",
       "│ Primary_Ba ┆ 3        ┆ true     ┆ null      ┆ … ┆ 23237.666 ┆ 11312     ┆ 15114.0   ┆ 18916     │\n",
       "│ nk_Type    ┆          ┆          ┆           ┆   ┆ 667       ┆           ┆           ┆           │\n",
       "│ Contacted  ┆ 2        ┆ false    ┆ N         ┆ … ┆ 34856.5   ┆ 20837     ┆ 20837.0   ┆ 20837     │\n",
       "│ Source     ┆ 29       ┆ false    ┆ S130      ┆ … ┆ 2403.8965 ┆ 0         ┆ 1105.0    ┆ 19403     │\n",
       "│            ┆          ┆          ┆           ┆   ┆ 52        ┆           ┆           ┆           │\n",
       "│ Source_Cat ┆ 7        ┆ false    ┆ A         ┆ … ┆ 9959.0    ┆ 38        ┆ 4968.1666 ┆ 15144     │\n",
       "│ egory      ┆          ┆          ┆           ┆   ┆           ┆           ┆ 67        ┆           │\n",
       "└────────────┴──────────┴──────────┴───────────┴───┴───────────┴───────────┴───────────┴───────────┘"
      ]
     },
     "execution_count": 15,
     "metadata": {},
     "output_type": "execute_result"
    }
   ],
   "source": [
    "ps.str_cats_report(df)"
   ]
  },
  {
   "cell_type": "code",
   "execution_count": 16,
   "metadata": {},
   "outputs": [
    {
     "data": {
      "text/plain": [
       "['Lead_Creation_Date']"
      ]
     },
     "execution_count": 16,
     "metadata": {},
     "output_type": "execute_result"
    }
   ],
   "source": [
    "ps.get_datetime_cols(df)"
   ]
  },
  {
   "cell_type": "code",
   "execution_count": 17,
   "metadata": {},
   "outputs": [
    {
     "data": {
      "text/plain": [
       "True"
      ]
     },
     "execution_count": 17,
     "metadata": {},
     "output_type": "execute_result"
    }
   ],
   "source": [
    "ps.check_binary_target(df, \"Approved\")"
   ]
  },
  {
   "cell_type": "code",
   "execution_count": 18,
   "metadata": {},
   "outputs": [
    {
     "data": {
      "text/plain": [
       "['Interest_Rate', 'EMI']"
      ]
     },
     "execution_count": 18,
     "metadata": {},
     "output_type": "execute_result"
    }
   ],
   "source": [
    "ps.infer_nulls(df, threshold=0.5)"
   ]
  },
  {
   "cell_type": "code",
   "execution_count": 19,
   "metadata": {},
   "outputs": [
    {
     "data": {
      "text/plain": [
       "['ID']"
      ]
     },
     "execution_count": 19,
     "metadata": {},
     "output_type": "execute_result"
    }
   ],
   "source": [
    "ps.infer_highly_unique(df)"
   ]
  },
  {
   "cell_type": "code",
   "execution_count": 20,
   "metadata": {},
   "outputs": [
    {
     "data": {
      "text/plain": [
       "[]"
      ]
     },
     "execution_count": 20,
     "metadata": {},
     "output_type": "execute_result"
    }
   ],
   "source": [
    "ps.infer_constants(df)"
   ]
  },
  {
   "cell_type": "markdown",
   "metadata": {},
   "source": [
    "# Suggest Distribution of Data\n",
    "\n",
    "via KS test."
   ]
  },
  {
   "cell_type": "code",
   "execution_count": 21,
   "metadata": {},
   "outputs": [],
   "source": [
    "df = pl.DataFrame({\n",
    "    \"a\": np.random.normal(25, 2, size = (100_000)),\n",
    "    \"b\": np.random.uniform(low = 1.1, high = 22, size = (100_000))\n",
    "})"
   ]
  },
  {
   "cell_type": "code",
   "execution_count": 22,
   "metadata": {},
   "outputs": [
    {
     "name": "stderr",
     "output_type": "stream",
     "text": [
      "Comparisons: 100%|██████████| 2/2 [00:00<00:00,  2.99it/s]\n"
     ]
    },
    {
     "data": {
      "text/plain": [
       "['a']"
      ]
     },
     "execution_count": 22,
     "metadata": {},
     "output_type": "execute_result"
    }
   ],
   "source": [
    "ps.suggest_normal(df, threshold=0.1)"
   ]
  },
  {
   "cell_type": "code",
   "execution_count": 23,
   "metadata": {},
   "outputs": [
    {
     "name": "stderr",
     "output_type": "stream",
     "text": [
      "Comparisons: 100%|██████████| 2/2 [00:00<00:00, 133.30it/s]\n"
     ]
    },
    {
     "data": {
      "text/plain": [
       "['b']"
      ]
     },
     "execution_count": 23,
     "metadata": {},
     "output_type": "execute_result"
    }
   ],
   "source": [
    "ps.suggest_uniform(df, threshold=0.1)"
   ]
  },
  {
   "cell_type": "code",
   "execution_count": null,
   "metadata": {},
   "outputs": [],
   "source": []
  }
 ],
 "metadata": {
  "kernelspec": {
   "display_name": ".venv",
   "language": "python",
   "name": "python3"
  },
  "language_info": {
   "codemirror_mode": {
    "name": "ipython",
    "version": 3
   },
   "file_extension": ".py",
   "mimetype": "text/x-python",
   "name": "python",
   "nbconvert_exporter": "python",
   "pygments_lexer": "ipython3",
   "version": "3.11.3"
  }
 },
 "nbformat": 4,
 "nbformat_minor": 2
}
