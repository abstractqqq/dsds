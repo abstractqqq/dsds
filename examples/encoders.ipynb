{
 "cells": [
  {
   "cell_type": "code",
   "execution_count": 1,
   "metadata": {},
   "outputs": [],
   "source": [
    "import pandas as pd \n",
    "import polars as pl\n",
    "from sklearn.datasets import fetch_openml\n",
    "from category_encoders import TargetEncoder\n",
    "\n",
    "display_cols = [\"Id\", \"MSSubClass\", \"MSZoning\", \"LotFrontage\", \"YearBuilt\", \"Heating\", \"CentralAir\"]"
   ]
  },
  {
   "cell_type": "code",
   "execution_count": 2,
   "metadata": {},
   "outputs": [],
   "source": [
    "data = fetch_openml(name=\"house_prices\", as_frame=True, parser=\"auto\")\n",
    "df_pd = data.data[display_cols].copy()\n",
    "df_pd[\"target\"] = [1 if x > 200000 else 0 for x in data.target]\n",
    "del data"
   ]
  },
  {
   "cell_type": "code",
   "execution_count": 3,
   "metadata": {},
   "outputs": [],
   "source": [
    "to_be_encoded = [\"MSZoning\", 'CentralAir', 'Heating']"
   ]
  },
  {
   "cell_type": "code",
   "execution_count": 4,
   "metadata": {},
   "outputs": [
    {
     "data": {
      "text/html": [
       "<div>\n",
       "<style scoped>\n",
       "    .dataframe tbody tr th:only-of-type {\n",
       "        vertical-align: middle;\n",
       "    }\n",
       "\n",
       "    .dataframe tbody tr th {\n",
       "        vertical-align: top;\n",
       "    }\n",
       "\n",
       "    .dataframe thead th {\n",
       "        text-align: right;\n",
       "    }\n",
       "</style>\n",
       "<table border=\"1\" class=\"dataframe\">\n",
       "  <thead>\n",
       "    <tr style=\"text-align: right;\">\n",
       "      <th></th>\n",
       "      <th>Id</th>\n",
       "      <th>MSSubClass</th>\n",
       "      <th>MSZoning</th>\n",
       "      <th>LotFrontage</th>\n",
       "      <th>YearBuilt</th>\n",
       "      <th>Heating</th>\n",
       "      <th>CentralAir</th>\n",
       "      <th>target</th>\n",
       "    </tr>\n",
       "  </thead>\n",
       "  <tbody>\n",
       "    <tr>\n",
       "      <th>0</th>\n",
       "      <td>1</td>\n",
       "      <td>60</td>\n",
       "      <td>RL</td>\n",
       "      <td>65.0</td>\n",
       "      <td>2003</td>\n",
       "      <td>GasA</td>\n",
       "      <td>Y</td>\n",
       "      <td>1</td>\n",
       "    </tr>\n",
       "    <tr>\n",
       "      <th>1</th>\n",
       "      <td>2</td>\n",
       "      <td>20</td>\n",
       "      <td>RL</td>\n",
       "      <td>80.0</td>\n",
       "      <td>1976</td>\n",
       "      <td>GasA</td>\n",
       "      <td>Y</td>\n",
       "      <td>0</td>\n",
       "    </tr>\n",
       "    <tr>\n",
       "      <th>2</th>\n",
       "      <td>3</td>\n",
       "      <td>60</td>\n",
       "      <td>RL</td>\n",
       "      <td>68.0</td>\n",
       "      <td>2001</td>\n",
       "      <td>GasA</td>\n",
       "      <td>Y</td>\n",
       "      <td>1</td>\n",
       "    </tr>\n",
       "    <tr>\n",
       "      <th>3</th>\n",
       "      <td>4</td>\n",
       "      <td>70</td>\n",
       "      <td>RL</td>\n",
       "      <td>60.0</td>\n",
       "      <td>1915</td>\n",
       "      <td>GasA</td>\n",
       "      <td>Y</td>\n",
       "      <td>0</td>\n",
       "    </tr>\n",
       "    <tr>\n",
       "      <th>4</th>\n",
       "      <td>5</td>\n",
       "      <td>60</td>\n",
       "      <td>RL</td>\n",
       "      <td>84.0</td>\n",
       "      <td>2000</td>\n",
       "      <td>GasA</td>\n",
       "      <td>Y</td>\n",
       "      <td>1</td>\n",
       "    </tr>\n",
       "    <tr>\n",
       "      <th>...</th>\n",
       "      <td>...</td>\n",
       "      <td>...</td>\n",
       "      <td>...</td>\n",
       "      <td>...</td>\n",
       "      <td>...</td>\n",
       "      <td>...</td>\n",
       "      <td>...</td>\n",
       "      <td>...</td>\n",
       "    </tr>\n",
       "    <tr>\n",
       "      <th>1455</th>\n",
       "      <td>1456</td>\n",
       "      <td>60</td>\n",
       "      <td>RL</td>\n",
       "      <td>62.0</td>\n",
       "      <td>1999</td>\n",
       "      <td>GasA</td>\n",
       "      <td>Y</td>\n",
       "      <td>0</td>\n",
       "    </tr>\n",
       "    <tr>\n",
       "      <th>1456</th>\n",
       "      <td>1457</td>\n",
       "      <td>20</td>\n",
       "      <td>RL</td>\n",
       "      <td>85.0</td>\n",
       "      <td>1978</td>\n",
       "      <td>GasA</td>\n",
       "      <td>Y</td>\n",
       "      <td>1</td>\n",
       "    </tr>\n",
       "    <tr>\n",
       "      <th>1457</th>\n",
       "      <td>1458</td>\n",
       "      <td>70</td>\n",
       "      <td>RL</td>\n",
       "      <td>66.0</td>\n",
       "      <td>1941</td>\n",
       "      <td>GasA</td>\n",
       "      <td>Y</td>\n",
       "      <td>1</td>\n",
       "    </tr>\n",
       "    <tr>\n",
       "      <th>1458</th>\n",
       "      <td>1459</td>\n",
       "      <td>20</td>\n",
       "      <td>RL</td>\n",
       "      <td>68.0</td>\n",
       "      <td>1950</td>\n",
       "      <td>GasA</td>\n",
       "      <td>Y</td>\n",
       "      <td>0</td>\n",
       "    </tr>\n",
       "    <tr>\n",
       "      <th>1459</th>\n",
       "      <td>1460</td>\n",
       "      <td>20</td>\n",
       "      <td>RL</td>\n",
       "      <td>75.0</td>\n",
       "      <td>1965</td>\n",
       "      <td>GasA</td>\n",
       "      <td>Y</td>\n",
       "      <td>0</td>\n",
       "    </tr>\n",
       "  </tbody>\n",
       "</table>\n",
       "<p>1460 rows × 8 columns</p>\n",
       "</div>"
      ],
      "text/plain": [
       "        Id  MSSubClass MSZoning  LotFrontage  YearBuilt Heating CentralAir   \n",
       "0        1          60       RL         65.0       2003    GasA          Y  \\\n",
       "1        2          20       RL         80.0       1976    GasA          Y   \n",
       "2        3          60       RL         68.0       2001    GasA          Y   \n",
       "3        4          70       RL         60.0       1915    GasA          Y   \n",
       "4        5          60       RL         84.0       2000    GasA          Y   \n",
       "...    ...         ...      ...          ...        ...     ...        ...   \n",
       "1455  1456          60       RL         62.0       1999    GasA          Y   \n",
       "1456  1457          20       RL         85.0       1978    GasA          Y   \n",
       "1457  1458          70       RL         66.0       1941    GasA          Y   \n",
       "1458  1459          20       RL         68.0       1950    GasA          Y   \n",
       "1459  1460          20       RL         75.0       1965    GasA          Y   \n",
       "\n",
       "      target  \n",
       "0          1  \n",
       "1          0  \n",
       "2          1  \n",
       "3          0  \n",
       "4          1  \n",
       "...      ...  \n",
       "1455       0  \n",
       "1456       1  \n",
       "1457       1  \n",
       "1458       0  \n",
       "1459       0  \n",
       "\n",
       "[1460 rows x 8 columns]"
      ]
     },
     "execution_count": 4,
     "metadata": {},
     "output_type": "execute_result"
    }
   ],
   "source": [
    "df_pd "
   ]
  },
  {
   "cell_type": "code",
   "execution_count": 5,
   "metadata": {},
   "outputs": [
    {
     "data": {
      "text/html": [
       "<div>\n",
       "<style scoped>\n",
       "    .dataframe tbody tr th:only-of-type {\n",
       "        vertical-align: middle;\n",
       "    }\n",
       "\n",
       "    .dataframe tbody tr th {\n",
       "        vertical-align: top;\n",
       "    }\n",
       "\n",
       "    .dataframe thead th {\n",
       "        text-align: right;\n",
       "    }\n",
       "</style>\n",
       "<table border=\"1\" class=\"dataframe\">\n",
       "  <thead>\n",
       "    <tr style=\"text-align: right;\">\n",
       "      <th></th>\n",
       "      <th>MSZoning</th>\n",
       "      <th>CentralAir</th>\n",
       "      <th>Heating</th>\n",
       "    </tr>\n",
       "  </thead>\n",
       "  <tbody>\n",
       "    <tr>\n",
       "      <th>0</th>\n",
       "      <td>0.333623</td>\n",
       "      <td>0.30989</td>\n",
       "      <td>0.294818</td>\n",
       "    </tr>\n",
       "    <tr>\n",
       "      <th>1</th>\n",
       "      <td>0.333623</td>\n",
       "      <td>0.30989</td>\n",
       "      <td>0.294818</td>\n",
       "    </tr>\n",
       "    <tr>\n",
       "      <th>2</th>\n",
       "      <td>0.333623</td>\n",
       "      <td>0.30989</td>\n",
       "      <td>0.294818</td>\n",
       "    </tr>\n",
       "    <tr>\n",
       "      <th>3</th>\n",
       "      <td>0.333623</td>\n",
       "      <td>0.30989</td>\n",
       "      <td>0.294818</td>\n",
       "    </tr>\n",
       "    <tr>\n",
       "      <th>4</th>\n",
       "      <td>0.333623</td>\n",
       "      <td>0.30989</td>\n",
       "      <td>0.294818</td>\n",
       "    </tr>\n",
       "    <tr>\n",
       "      <th>...</th>\n",
       "      <td>...</td>\n",
       "      <td>...</td>\n",
       "      <td>...</td>\n",
       "    </tr>\n",
       "    <tr>\n",
       "      <th>1455</th>\n",
       "      <td>0.333623</td>\n",
       "      <td>0.30989</td>\n",
       "      <td>0.294818</td>\n",
       "    </tr>\n",
       "    <tr>\n",
       "      <th>1456</th>\n",
       "      <td>0.333623</td>\n",
       "      <td>0.30989</td>\n",
       "      <td>0.294818</td>\n",
       "    </tr>\n",
       "    <tr>\n",
       "      <th>1457</th>\n",
       "      <td>0.333623</td>\n",
       "      <td>0.30989</td>\n",
       "      <td>0.294818</td>\n",
       "    </tr>\n",
       "    <tr>\n",
       "      <th>1458</th>\n",
       "      <td>0.333623</td>\n",
       "      <td>0.30989</td>\n",
       "      <td>0.294818</td>\n",
       "    </tr>\n",
       "    <tr>\n",
       "      <th>1459</th>\n",
       "      <td>0.333623</td>\n",
       "      <td>0.30989</td>\n",
       "      <td>0.294818</td>\n",
       "    </tr>\n",
       "  </tbody>\n",
       "</table>\n",
       "<p>1460 rows × 3 columns</p>\n",
       "</div>"
      ],
      "text/plain": [
       "      MSZoning  CentralAir   Heating\n",
       "0     0.333623     0.30989  0.294818\n",
       "1     0.333623     0.30989  0.294818\n",
       "2     0.333623     0.30989  0.294818\n",
       "3     0.333623     0.30989  0.294818\n",
       "4     0.333623     0.30989  0.294818\n",
       "...        ...         ...       ...\n",
       "1455  0.333623     0.30989  0.294818\n",
       "1456  0.333623     0.30989  0.294818\n",
       "1457  0.333623     0.30989  0.294818\n",
       "1458  0.333623     0.30989  0.294818\n",
       "1459  0.333623     0.30989  0.294818\n",
       "\n",
       "[1460 rows x 3 columns]"
      ]
     },
     "execution_count": 5,
     "metadata": {},
     "output_type": "execute_result"
    }
   ],
   "source": [
    "enc = TargetEncoder(cols=to_be_encoded, min_samples_leaf=20, smoothing=10)\\\n",
    "    .fit(df_pd[display_cols], df_pd[\"target\"])\n",
    "\n",
    "enc.transform(df_pd[display_cols])[to_be_encoded]"
   ]
  },
  {
   "cell_type": "code",
   "execution_count": 6,
   "metadata": {},
   "outputs": [],
   "source": [
    "import sys\n",
    "sys.path.append('../src')\n",
    "from eda.eda_transformations import smooth_target_encode"
   ]
  },
  {
   "cell_type": "code",
   "execution_count": 7,
   "metadata": {},
   "outputs": [
    {
     "data": {
      "text/html": [
       "<div><style>\n",
       ".dataframe > thead > tr > th,\n",
       ".dataframe > tbody > tr > td {\n",
       "  text-align: right;\n",
       "}\n",
       "</style>\n",
       "<small>shape: (5, 8)</small><table border=\"1\" class=\"dataframe\"><thead><tr><th>Id</th><th>MSSubClass</th><th>MSZoning</th><th>LotFrontage</th><th>YearBuilt</th><th>Heating</th><th>CentralAir</th><th>target</th></tr><tr><td>i64</td><td>i64</td><td>str</td><td>f64</td><td>i64</td><td>str</td><td>str</td><td>i64</td></tr></thead><tbody><tr><td>1</td><td>60</td><td>&quot;RL&quot;</td><td>65.0</td><td>2003</td><td>&quot;GasA&quot;</td><td>&quot;Y&quot;</td><td>1</td></tr><tr><td>2</td><td>20</td><td>&quot;RL&quot;</td><td>80.0</td><td>1976</td><td>&quot;GasA&quot;</td><td>&quot;Y&quot;</td><td>0</td></tr><tr><td>3</td><td>60</td><td>&quot;RL&quot;</td><td>68.0</td><td>2001</td><td>&quot;GasA&quot;</td><td>&quot;Y&quot;</td><td>1</td></tr><tr><td>4</td><td>70</td><td>&quot;RL&quot;</td><td>60.0</td><td>1915</td><td>&quot;GasA&quot;</td><td>&quot;Y&quot;</td><td>0</td></tr><tr><td>5</td><td>60</td><td>&quot;RL&quot;</td><td>84.0</td><td>2000</td><td>&quot;GasA&quot;</td><td>&quot;Y&quot;</td><td>1</td></tr></tbody></table></div>"
      ],
      "text/plain": [
       "shape: (5, 8)\n",
       "┌─────┬────────────┬──────────┬─────────────┬───────────┬─────────┬────────────┬────────┐\n",
       "│ Id  ┆ MSSubClass ┆ MSZoning ┆ LotFrontage ┆ YearBuilt ┆ Heating ┆ CentralAir ┆ target │\n",
       "│ --- ┆ ---        ┆ ---      ┆ ---         ┆ ---       ┆ ---     ┆ ---        ┆ ---    │\n",
       "│ i64 ┆ i64        ┆ str      ┆ f64         ┆ i64       ┆ str     ┆ str        ┆ i64    │\n",
       "╞═════╪════════════╪══════════╪═════════════╪═══════════╪═════════╪════════════╪════════╡\n",
       "│ 1   ┆ 60         ┆ RL       ┆ 65.0        ┆ 2003      ┆ GasA    ┆ Y          ┆ 1      │\n",
       "│ 2   ┆ 20         ┆ RL       ┆ 80.0        ┆ 1976      ┆ GasA    ┆ Y          ┆ 0      │\n",
       "│ 3   ┆ 60         ┆ RL       ┆ 68.0        ┆ 2001      ┆ GasA    ┆ Y          ┆ 1      │\n",
       "│ 4   ┆ 70         ┆ RL       ┆ 60.0        ┆ 1915      ┆ GasA    ┆ Y          ┆ 0      │\n",
       "│ 5   ┆ 60         ┆ RL       ┆ 84.0        ┆ 2000      ┆ GasA    ┆ Y          ┆ 1      │\n",
       "└─────┴────────────┴──────────┴─────────────┴───────────┴─────────┴────────────┴────────┘"
      ]
     },
     "execution_count": 7,
     "metadata": {},
     "output_type": "execute_result"
    }
   ],
   "source": [
    "df = pl.from_pandas(df_pd)\n",
    "df.head()"
   ]
  },
  {
   "cell_type": "code",
   "execution_count": 8,
   "metadata": {},
   "outputs": [],
   "source": [
    "df_transf, mapping = smooth_target_encode(df, cat_cols=to_be_encoded\n",
    "                     , target=\"target\"\n",
    "                     , smoothing=10\n",
    "                     , min_samples_leaf=20 )"
   ]
  },
  {
   "cell_type": "code",
   "execution_count": 9,
   "metadata": {},
   "outputs": [
    {
     "data": {
      "text/html": [
       "<div><style>\n",
       ".dataframe > thead > tr > th,\n",
       ".dataframe > tbody > tr > td {\n",
       "  text-align: right;\n",
       "}\n",
       "</style>\n",
       "<small>shape: (1_460, 3)</small><table border=\"1\" class=\"dataframe\"><thead><tr><th>MSZoning</th><th>CentralAir</th><th>Heating</th></tr><tr><td>f64</td><td>f64</td><td>f64</td></tr></thead><tbody><tr><td>0.333623</td><td>0.30989</td><td>0.294818</td></tr><tr><td>0.333623</td><td>0.30989</td><td>0.294818</td></tr><tr><td>0.333623</td><td>0.30989</td><td>0.294818</td></tr><tr><td>0.333623</td><td>0.30989</td><td>0.294818</td></tr><tr><td>0.333623</td><td>0.30989</td><td>0.294818</td></tr><tr><td>0.333623</td><td>0.30989</td><td>0.294818</td></tr><tr><td>0.333623</td><td>0.30989</td><td>0.294818</td></tr><tr><td>0.333623</td><td>0.30989</td><td>0.294818</td></tr><tr><td>0.226146</td><td>0.30989</td><td>0.294818</td></tr><tr><td>0.333623</td><td>0.30989</td><td>0.294818</td></tr><tr><td>0.333623</td><td>0.30989</td><td>0.294818</td></tr><tr><td>0.333623</td><td>0.30989</td><td>0.294818</td></tr><tr><td>&hellip;</td><td>&hellip;</td><td>&hellip;</td></tr><tr><td>0.333623</td><td>0.25041</td><td>0.294818</td></tr><tr><td>0.226146</td><td>0.30989</td><td>0.294818</td></tr><tr><td>0.333623</td><td>0.30989</td><td>0.294818</td></tr><tr><td>0.333623</td><td>0.30989</td><td>0.294818</td></tr><tr><td>0.226146</td><td>0.30989</td><td>0.294818</td></tr><tr><td>0.333623</td><td>0.30989</td><td>0.294818</td></tr><tr><td>0.461598</td><td>0.30989</td><td>0.294818</td></tr><tr><td>0.333623</td><td>0.30989</td><td>0.294818</td></tr><tr><td>0.333623</td><td>0.30989</td><td>0.294818</td></tr><tr><td>0.333623</td><td>0.30989</td><td>0.294818</td></tr><tr><td>0.333623</td><td>0.30989</td><td>0.294818</td></tr><tr><td>0.333623</td><td>0.30989</td><td>0.294818</td></tr></tbody></table></div>"
      ],
      "text/plain": [
       "shape: (1_460, 3)\n",
       "┌──────────┬────────────┬──────────┐\n",
       "│ MSZoning ┆ CentralAir ┆ Heating  │\n",
       "│ ---      ┆ ---        ┆ ---      │\n",
       "│ f64      ┆ f64        ┆ f64      │\n",
       "╞══════════╪════════════╪══════════╡\n",
       "│ 0.333623 ┆ 0.30989    ┆ 0.294818 │\n",
       "│ 0.333623 ┆ 0.30989    ┆ 0.294818 │\n",
       "│ 0.333623 ┆ 0.30989    ┆ 0.294818 │\n",
       "│ 0.333623 ┆ 0.30989    ┆ 0.294818 │\n",
       "│ …        ┆ …          ┆ …        │\n",
       "│ 0.333623 ┆ 0.30989    ┆ 0.294818 │\n",
       "│ 0.333623 ┆ 0.30989    ┆ 0.294818 │\n",
       "│ 0.333623 ┆ 0.30989    ┆ 0.294818 │\n",
       "│ 0.333623 ┆ 0.30989    ┆ 0.294818 │\n",
       "└──────────┴────────────┴──────────┘"
      ]
     },
     "execution_count": 9,
     "metadata": {},
     "output_type": "execute_result"
    }
   ],
   "source": [
    "df_transf[to_be_encoded]"
   ]
  },
  {
   "attachments": {},
   "cell_type": "markdown",
   "metadata": {},
   "source": [
    "# Time Comparison"
   ]
  },
  {
   "cell_type": "code",
   "execution_count": 10,
   "metadata": {},
   "outputs": [
    {
     "name": "stdout",
     "output_type": "stream",
     "text": [
      "18.6 ms ± 175 µs per loop (mean ± std. dev. of 7 runs, 100 loops each)\n"
     ]
    }
   ],
   "source": [
    "%%timeit \n",
    "\n",
    "enc = TargetEncoder(cols=to_be_encoded, min_samples_leaf=20, smoothing=10)\\\n",
    "    .fit(df_pd[display_cols], df_pd[\"target\"])\n",
    "\n",
    "enc.transform(df_pd[display_cols])[to_be_encoded]"
   ]
  },
  {
   "cell_type": "code",
   "execution_count": 11,
   "metadata": {},
   "outputs": [
    {
     "name": "stdout",
     "output_type": "stream",
     "text": [
      "56 ms ± 429 µs per loop (mean ± std. dev. of 7 runs, 10 loops each)\n"
     ]
    }
   ],
   "source": [
    "%%timeit \n",
    "smooth_target_encode(df, cat_cols=to_be_encoded\n",
    "                     , target=\"target\"\n",
    "                     , smoothing=10\n",
    "                     , min_samples_leaf=20 )"
   ]
  },
  {
   "cell_type": "code",
   "execution_count": 12,
   "metadata": {},
   "outputs": [],
   "source": [
    "# On small datasets, the smooth_target_encode is losing in speed.\n",
    "# But let's test it on bigger, more realistic data set size"
   ]
  },
  {
   "cell_type": "code",
   "execution_count": 13,
   "metadata": {},
   "outputs": [
    {
     "data": {
      "text/plain": [
       "(73000, 8)"
      ]
     },
     "execution_count": 13,
     "metadata": {},
     "output_type": "execute_result"
    }
   ],
   "source": [
    "df_pd_bigger = pd.concat([df_pd.copy()]*50)\n",
    "df_pd_bigger.shape"
   ]
  },
  {
   "cell_type": "code",
   "execution_count": 14,
   "metadata": {},
   "outputs": [
    {
     "data": {
      "text/plain": [
       "(73000, 8)"
      ]
     },
     "execution_count": 14,
     "metadata": {},
     "output_type": "execute_result"
    }
   ],
   "source": [
    "df_pl = pl.from_pandas(df_pd_bigger)\n",
    "df_pl.shape "
   ]
  },
  {
   "cell_type": "code",
   "execution_count": 15,
   "metadata": {},
   "outputs": [
    {
     "name": "stdout",
     "output_type": "stream",
     "text": [
      "173 ms ± 3.31 ms per loop (mean ± std. dev. of 7 runs, 10 loops each)\n"
     ]
    }
   ],
   "source": [
    "%%timeit \n",
    "\n",
    "enc = TargetEncoder(cols=to_be_encoded, min_samples_leaf=20, smoothing=10)\\\n",
    "    .fit(df_pd_bigger[display_cols], df_pd_bigger[\"target\"])\n",
    "\n",
    "enc.transform(df_pd_bigger[display_cols])[to_be_encoded]"
   ]
  },
  {
   "cell_type": "code",
   "execution_count": 16,
   "metadata": {},
   "outputs": [
    {
     "name": "stdout",
     "output_type": "stream",
     "text": [
      "53 ms ± 138 µs per loop (mean ± std. dev. of 7 runs, 10 loops each)\n"
     ]
    }
   ],
   "source": [
    "%%timeit \n",
    "smooth_target_encode(df_pl, cat_cols=to_be_encoded\n",
    "                     , target=\"target\"\n",
    "                     , smoothing=10\n",
    "                     , min_samples_leaf=20 )"
   ]
  },
  {
   "cell_type": "code",
   "execution_count": null,
   "metadata": {},
   "outputs": [],
   "source": []
  },
  {
   "cell_type": "code",
   "execution_count": null,
   "metadata": {},
   "outputs": [],
   "source": [
    "pl.when()"
   ]
  }
 ],
 "metadata": {
  "kernelspec": {
   "display_name": "my_py11",
   "language": "python",
   "name": "python3"
  },
  "language_info": {
   "codemirror_mode": {
    "name": "ipython",
    "version": 3
   },
   "file_extension": ".py",
   "mimetype": "text/x-python",
   "name": "python",
   "nbconvert_exporter": "python",
   "pygments_lexer": "ipython3",
   "version": "3.11.3"
  },
  "orig_nbformat": 4
 },
 "nbformat": 4,
 "nbformat_minor": 2
}
