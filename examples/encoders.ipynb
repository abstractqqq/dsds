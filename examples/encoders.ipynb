{
 "cells": [
  {
   "cell_type": "code",
   "execution_count": 1,
   "metadata": {},
   "outputs": [],
   "source": [
    "import pandas as pd \n",
    "import polars as pl\n",
    "import numpy as np\n",
    "from sklearn.datasets import fetch_openml\n",
    "from category_encoders import TargetEncoder\n",
    "\n",
    "display_cols = [\"Id\", \"MSSubClass\", \"MSZoning\", \"LotFrontage\", \"YearBuilt\", \"Heating\", \"CentralAir\"]"
   ]
  },
  {
   "cell_type": "code",
   "execution_count": 2,
   "metadata": {},
   "outputs": [],
   "source": [
    "data = fetch_openml(name=\"house_prices\", as_frame=True, parser=\"auto\")\n",
    "df_pd = data.data[display_cols].copy()\n",
    "df_pd[\"MSZoning2\"] = df_pd[\"MSZoning\"]\n",
    "df_pd[\"target\"] = [1 if x > 200000 else 0 for x in data.target]\n",
    "del data"
   ]
  },
  {
   "cell_type": "code",
   "execution_count": 3,
   "metadata": {},
   "outputs": [],
   "source": [
    "to_be_encoded = [\"MSZoning\", 'CentralAir', 'Heating', \"MSZoning2\"]"
   ]
  },
  {
   "cell_type": "code",
   "execution_count": 4,
   "metadata": {},
   "outputs": [
    {
     "data": {
      "text/html": [
       "<div>\n",
       "<style scoped>\n",
       "    .dataframe tbody tr th:only-of-type {\n",
       "        vertical-align: middle;\n",
       "    }\n",
       "\n",
       "    .dataframe tbody tr th {\n",
       "        vertical-align: top;\n",
       "    }\n",
       "\n",
       "    .dataframe thead th {\n",
       "        text-align: right;\n",
       "    }\n",
       "</style>\n",
       "<table border=\"1\" class=\"dataframe\">\n",
       "  <thead>\n",
       "    <tr style=\"text-align: right;\">\n",
       "      <th></th>\n",
       "      <th>Id</th>\n",
       "      <th>MSSubClass</th>\n",
       "      <th>MSZoning</th>\n",
       "      <th>LotFrontage</th>\n",
       "      <th>YearBuilt</th>\n",
       "      <th>Heating</th>\n",
       "      <th>CentralAir</th>\n",
       "      <th>MSZoning2</th>\n",
       "      <th>target</th>\n",
       "    </tr>\n",
       "  </thead>\n",
       "  <tbody>\n",
       "    <tr>\n",
       "      <th>0</th>\n",
       "      <td>1</td>\n",
       "      <td>60</td>\n",
       "      <td>RL</td>\n",
       "      <td>65.0</td>\n",
       "      <td>2003</td>\n",
       "      <td>GasA</td>\n",
       "      <td>Y</td>\n",
       "      <td>RL</td>\n",
       "      <td>1</td>\n",
       "    </tr>\n",
       "    <tr>\n",
       "      <th>1</th>\n",
       "      <td>2</td>\n",
       "      <td>20</td>\n",
       "      <td>RL</td>\n",
       "      <td>80.0</td>\n",
       "      <td>1976</td>\n",
       "      <td>GasA</td>\n",
       "      <td>Y</td>\n",
       "      <td>RL</td>\n",
       "      <td>0</td>\n",
       "    </tr>\n",
       "    <tr>\n",
       "      <th>2</th>\n",
       "      <td>3</td>\n",
       "      <td>60</td>\n",
       "      <td>RL</td>\n",
       "      <td>68.0</td>\n",
       "      <td>2001</td>\n",
       "      <td>GasA</td>\n",
       "      <td>Y</td>\n",
       "      <td>RL</td>\n",
       "      <td>1</td>\n",
       "    </tr>\n",
       "    <tr>\n",
       "      <th>3</th>\n",
       "      <td>4</td>\n",
       "      <td>70</td>\n",
       "      <td>RL</td>\n",
       "      <td>60.0</td>\n",
       "      <td>1915</td>\n",
       "      <td>GasA</td>\n",
       "      <td>Y</td>\n",
       "      <td>RL</td>\n",
       "      <td>0</td>\n",
       "    </tr>\n",
       "    <tr>\n",
       "      <th>4</th>\n",
       "      <td>5</td>\n",
       "      <td>60</td>\n",
       "      <td>RL</td>\n",
       "      <td>84.0</td>\n",
       "      <td>2000</td>\n",
       "      <td>GasA</td>\n",
       "      <td>Y</td>\n",
       "      <td>RL</td>\n",
       "      <td>1</td>\n",
       "    </tr>\n",
       "    <tr>\n",
       "      <th>...</th>\n",
       "      <td>...</td>\n",
       "      <td>...</td>\n",
       "      <td>...</td>\n",
       "      <td>...</td>\n",
       "      <td>...</td>\n",
       "      <td>...</td>\n",
       "      <td>...</td>\n",
       "      <td>...</td>\n",
       "      <td>...</td>\n",
       "    </tr>\n",
       "    <tr>\n",
       "      <th>1455</th>\n",
       "      <td>1456</td>\n",
       "      <td>60</td>\n",
       "      <td>RL</td>\n",
       "      <td>62.0</td>\n",
       "      <td>1999</td>\n",
       "      <td>GasA</td>\n",
       "      <td>Y</td>\n",
       "      <td>RL</td>\n",
       "      <td>0</td>\n",
       "    </tr>\n",
       "    <tr>\n",
       "      <th>1456</th>\n",
       "      <td>1457</td>\n",
       "      <td>20</td>\n",
       "      <td>RL</td>\n",
       "      <td>85.0</td>\n",
       "      <td>1978</td>\n",
       "      <td>GasA</td>\n",
       "      <td>Y</td>\n",
       "      <td>RL</td>\n",
       "      <td>1</td>\n",
       "    </tr>\n",
       "    <tr>\n",
       "      <th>1457</th>\n",
       "      <td>1458</td>\n",
       "      <td>70</td>\n",
       "      <td>RL</td>\n",
       "      <td>66.0</td>\n",
       "      <td>1941</td>\n",
       "      <td>GasA</td>\n",
       "      <td>Y</td>\n",
       "      <td>RL</td>\n",
       "      <td>1</td>\n",
       "    </tr>\n",
       "    <tr>\n",
       "      <th>1458</th>\n",
       "      <td>1459</td>\n",
       "      <td>20</td>\n",
       "      <td>RL</td>\n",
       "      <td>68.0</td>\n",
       "      <td>1950</td>\n",
       "      <td>GasA</td>\n",
       "      <td>Y</td>\n",
       "      <td>RL</td>\n",
       "      <td>0</td>\n",
       "    </tr>\n",
       "    <tr>\n",
       "      <th>1459</th>\n",
       "      <td>1460</td>\n",
       "      <td>20</td>\n",
       "      <td>RL</td>\n",
       "      <td>75.0</td>\n",
       "      <td>1965</td>\n",
       "      <td>GasA</td>\n",
       "      <td>Y</td>\n",
       "      <td>RL</td>\n",
       "      <td>0</td>\n",
       "    </tr>\n",
       "  </tbody>\n",
       "</table>\n",
       "<p>1460 rows × 9 columns</p>\n",
       "</div>"
      ],
      "text/plain": [
       "        Id  MSSubClass MSZoning  LotFrontage  YearBuilt Heating CentralAir   \n",
       "0        1          60       RL         65.0       2003    GasA          Y  \\\n",
       "1        2          20       RL         80.0       1976    GasA          Y   \n",
       "2        3          60       RL         68.0       2001    GasA          Y   \n",
       "3        4          70       RL         60.0       1915    GasA          Y   \n",
       "4        5          60       RL         84.0       2000    GasA          Y   \n",
       "...    ...         ...      ...          ...        ...     ...        ...   \n",
       "1455  1456          60       RL         62.0       1999    GasA          Y   \n",
       "1456  1457          20       RL         85.0       1978    GasA          Y   \n",
       "1457  1458          70       RL         66.0       1941    GasA          Y   \n",
       "1458  1459          20       RL         68.0       1950    GasA          Y   \n",
       "1459  1460          20       RL         75.0       1965    GasA          Y   \n",
       "\n",
       "     MSZoning2  target  \n",
       "0           RL       1  \n",
       "1           RL       0  \n",
       "2           RL       1  \n",
       "3           RL       0  \n",
       "4           RL       1  \n",
       "...        ...     ...  \n",
       "1455        RL       0  \n",
       "1456        RL       1  \n",
       "1457        RL       1  \n",
       "1458        RL       0  \n",
       "1459        RL       0  \n",
       "\n",
       "[1460 rows x 9 columns]"
      ]
     },
     "execution_count": 4,
     "metadata": {},
     "output_type": "execute_result"
    }
   ],
   "source": [
    "df_pd "
   ]
  },
  {
   "cell_type": "code",
   "execution_count": 5,
   "metadata": {},
   "outputs": [
    {
     "data": {
      "text/html": [
       "<div>\n",
       "<style scoped>\n",
       "    .dataframe tbody tr th:only-of-type {\n",
       "        vertical-align: middle;\n",
       "    }\n",
       "\n",
       "    .dataframe tbody tr th {\n",
       "        vertical-align: top;\n",
       "    }\n",
       "\n",
       "    .dataframe thead th {\n",
       "        text-align: right;\n",
       "    }\n",
       "</style>\n",
       "<table border=\"1\" class=\"dataframe\">\n",
       "  <thead>\n",
       "    <tr style=\"text-align: right;\">\n",
       "      <th></th>\n",
       "      <th>MSZoning</th>\n",
       "      <th>CentralAir</th>\n",
       "      <th>Heating</th>\n",
       "      <th>MSZoning2</th>\n",
       "    </tr>\n",
       "  </thead>\n",
       "  <tbody>\n",
       "    <tr>\n",
       "      <th>1450</th>\n",
       "      <td>0.333623</td>\n",
       "      <td>0.30989</td>\n",
       "      <td>0.294818</td>\n",
       "      <td>0.333623</td>\n",
       "    </tr>\n",
       "    <tr>\n",
       "      <th>1451</th>\n",
       "      <td>0.333623</td>\n",
       "      <td>0.30989</td>\n",
       "      <td>0.294818</td>\n",
       "      <td>0.333623</td>\n",
       "    </tr>\n",
       "    <tr>\n",
       "      <th>1452</th>\n",
       "      <td>0.045872</td>\n",
       "      <td>0.30989</td>\n",
       "      <td>0.294818</td>\n",
       "      <td>0.045872</td>\n",
       "    </tr>\n",
       "    <tr>\n",
       "      <th>1453</th>\n",
       "      <td>0.333623</td>\n",
       "      <td>0.30989</td>\n",
       "      <td>0.294818</td>\n",
       "      <td>0.333623</td>\n",
       "    </tr>\n",
       "    <tr>\n",
       "      <th>1454</th>\n",
       "      <td>0.505328</td>\n",
       "      <td>0.30989</td>\n",
       "      <td>0.294818</td>\n",
       "      <td>0.505328</td>\n",
       "    </tr>\n",
       "    <tr>\n",
       "      <th>1455</th>\n",
       "      <td>0.333623</td>\n",
       "      <td>0.30989</td>\n",
       "      <td>0.294818</td>\n",
       "      <td>0.333623</td>\n",
       "    </tr>\n",
       "    <tr>\n",
       "      <th>1456</th>\n",
       "      <td>0.333623</td>\n",
       "      <td>0.30989</td>\n",
       "      <td>0.294818</td>\n",
       "      <td>0.333623</td>\n",
       "    </tr>\n",
       "    <tr>\n",
       "      <th>1457</th>\n",
       "      <td>0.333623</td>\n",
       "      <td>0.30989</td>\n",
       "      <td>0.294818</td>\n",
       "      <td>0.333623</td>\n",
       "    </tr>\n",
       "    <tr>\n",
       "      <th>1458</th>\n",
       "      <td>0.333623</td>\n",
       "      <td>0.30989</td>\n",
       "      <td>0.294818</td>\n",
       "      <td>0.333623</td>\n",
       "    </tr>\n",
       "    <tr>\n",
       "      <th>1459</th>\n",
       "      <td>0.333623</td>\n",
       "      <td>0.30989</td>\n",
       "      <td>0.294818</td>\n",
       "      <td>0.333623</td>\n",
       "    </tr>\n",
       "  </tbody>\n",
       "</table>\n",
       "</div>"
      ],
      "text/plain": [
       "      MSZoning  CentralAir   Heating  MSZoning2\n",
       "1450  0.333623     0.30989  0.294818   0.333623\n",
       "1451  0.333623     0.30989  0.294818   0.333623\n",
       "1452  0.045872     0.30989  0.294818   0.045872\n",
       "1453  0.333623     0.30989  0.294818   0.333623\n",
       "1454  0.505328     0.30989  0.294818   0.505328\n",
       "1455  0.333623     0.30989  0.294818   0.333623\n",
       "1456  0.333623     0.30989  0.294818   0.333623\n",
       "1457  0.333623     0.30989  0.294818   0.333623\n",
       "1458  0.333623     0.30989  0.294818   0.333623\n",
       "1459  0.333623     0.30989  0.294818   0.333623"
      ]
     },
     "execution_count": 5,
     "metadata": {},
     "output_type": "execute_result"
    }
   ],
   "source": [
    "enc = TargetEncoder(cols=to_be_encoded, min_samples_leaf=20, smoothing=10)\\\n",
    "    .fit(df_pd[to_be_encoded], df_pd[\"target\"])\n",
    "\n",
    "enc.transform(df_pd[to_be_encoded]).tail(10)"
   ]
  },
  {
   "cell_type": "code",
   "execution_count": 6,
   "metadata": {},
   "outputs": [],
   "source": [
    "import sys\n",
    "sys.path.append('../src')\n",
    "from dsds.transform import smooth_target_encode # Currently this only works for binary target"
   ]
  },
  {
   "cell_type": "code",
   "execution_count": 7,
   "metadata": {},
   "outputs": [
    {
     "data": {
      "text/html": [
       "<div><style>\n",
       ".dataframe > thead > tr > th,\n",
       ".dataframe > tbody > tr > td {\n",
       "  text-align: right;\n",
       "}\n",
       "</style>\n",
       "<small>shape: (10, 9)</small><table border=\"1\" class=\"dataframe\"><thead><tr><th>Id</th><th>MSSubClass</th><th>MSZoning</th><th>LotFrontage</th><th>YearBuilt</th><th>Heating</th><th>CentralAir</th><th>MSZoning2</th><th>target</th></tr><tr><td>i64</td><td>i64</td><td>str</td><td>f64</td><td>i64</td><td>str</td><td>str</td><td>str</td><td>i64</td></tr></thead><tbody><tr><td>1451</td><td>90</td><td>&quot;RL&quot;</td><td>60.0</td><td>1974</td><td>&quot;GasA&quot;</td><td>&quot;Y&quot;</td><td>&quot;RL&quot;</td><td>0</td></tr><tr><td>1452</td><td>20</td><td>&quot;RL&quot;</td><td>78.0</td><td>2008</td><td>&quot;GasA&quot;</td><td>&quot;Y&quot;</td><td>&quot;RL&quot;</td><td>1</td></tr><tr><td>1453</td><td>180</td><td>&quot;RM&quot;</td><td>35.0</td><td>2005</td><td>&quot;GasA&quot;</td><td>&quot;Y&quot;</td><td>&quot;RM&quot;</td><td>0</td></tr><tr><td>1454</td><td>20</td><td>&quot;RL&quot;</td><td>90.0</td><td>2006</td><td>&quot;GasA&quot;</td><td>&quot;Y&quot;</td><td>&quot;RL&quot;</td><td>0</td></tr><tr><td>1455</td><td>20</td><td>&quot;FV&quot;</td><td>62.0</td><td>2004</td><td>&quot;GasA&quot;</td><td>&quot;Y&quot;</td><td>&quot;FV&quot;</td><td>0</td></tr><tr><td>1456</td><td>60</td><td>&quot;RL&quot;</td><td>62.0</td><td>1999</td><td>&quot;GasA&quot;</td><td>&quot;Y&quot;</td><td>&quot;RL&quot;</td><td>0</td></tr><tr><td>1457</td><td>20</td><td>&quot;RL&quot;</td><td>85.0</td><td>1978</td><td>&quot;GasA&quot;</td><td>&quot;Y&quot;</td><td>&quot;RL&quot;</td><td>1</td></tr><tr><td>1458</td><td>70</td><td>&quot;RL&quot;</td><td>66.0</td><td>1941</td><td>&quot;GasA&quot;</td><td>&quot;Y&quot;</td><td>&quot;RL&quot;</td><td>1</td></tr><tr><td>1459</td><td>20</td><td>&quot;RL&quot;</td><td>68.0</td><td>1950</td><td>&quot;GasA&quot;</td><td>&quot;Y&quot;</td><td>&quot;RL&quot;</td><td>0</td></tr><tr><td>1460</td><td>20</td><td>&quot;RL&quot;</td><td>75.0</td><td>1965</td><td>&quot;GasA&quot;</td><td>&quot;Y&quot;</td><td>&quot;RL&quot;</td><td>0</td></tr></tbody></table></div>"
      ],
      "text/plain": [
       "shape: (10, 9)\n",
       "┌──────┬────────────┬──────────┬─────────────┬───┬─────────┬────────────┬───────────┬────────┐\n",
       "│ Id   ┆ MSSubClass ┆ MSZoning ┆ LotFrontage ┆ … ┆ Heating ┆ CentralAir ┆ MSZoning2 ┆ target │\n",
       "│ ---  ┆ ---        ┆ ---      ┆ ---         ┆   ┆ ---     ┆ ---        ┆ ---       ┆ ---    │\n",
       "│ i64  ┆ i64        ┆ str      ┆ f64         ┆   ┆ str     ┆ str        ┆ str       ┆ i64    │\n",
       "╞══════╪════════════╪══════════╪═════════════╪═══╪═════════╪════════════╪═══════════╪════════╡\n",
       "│ 1451 ┆ 90         ┆ RL       ┆ 60.0        ┆ … ┆ GasA    ┆ Y          ┆ RL        ┆ 0      │\n",
       "│ 1452 ┆ 20         ┆ RL       ┆ 78.0        ┆ … ┆ GasA    ┆ Y          ┆ RL        ┆ 1      │\n",
       "│ 1453 ┆ 180        ┆ RM       ┆ 35.0        ┆ … ┆ GasA    ┆ Y          ┆ RM        ┆ 0      │\n",
       "│ 1454 ┆ 20         ┆ RL       ┆ 90.0        ┆ … ┆ GasA    ┆ Y          ┆ RL        ┆ 0      │\n",
       "│ …    ┆ …          ┆ …        ┆ …           ┆ … ┆ …       ┆ …          ┆ …         ┆ …      │\n",
       "│ 1457 ┆ 20         ┆ RL       ┆ 85.0        ┆ … ┆ GasA    ┆ Y          ┆ RL        ┆ 1      │\n",
       "│ 1458 ┆ 70         ┆ RL       ┆ 66.0        ┆ … ┆ GasA    ┆ Y          ┆ RL        ┆ 1      │\n",
       "│ 1459 ┆ 20         ┆ RL       ┆ 68.0        ┆ … ┆ GasA    ┆ Y          ┆ RL        ┆ 0      │\n",
       "│ 1460 ┆ 20         ┆ RL       ┆ 75.0        ┆ … ┆ GasA    ┆ Y          ┆ RL        ┆ 0      │\n",
       "└──────┴────────────┴──────────┴─────────────┴───┴─────────┴────────────┴───────────┴────────┘"
      ]
     },
     "execution_count": 7,
     "metadata": {},
     "output_type": "execute_result"
    }
   ],
   "source": [
    "df:pl.DataFrame = pl.from_pandas(df_pd)\n",
    "df.tail(10)"
   ]
  },
  {
   "cell_type": "code",
   "execution_count": 8,
   "metadata": {},
   "outputs": [],
   "source": [
    "df_transf = smooth_target_encode(df, cols=to_be_encoded\n",
    "            , target=\"target\"\n",
    "            , smoothing=10\n",
    "            , min_samples_leaf=20)"
   ]
  },
  {
   "cell_type": "code",
   "execution_count": 9,
   "metadata": {},
   "outputs": [
    {
     "data": {
      "text/plain": [
       "True"
      ]
     },
     "execution_count": 9,
     "metadata": {},
     "output_type": "execute_result"
    }
   ],
   "source": [
    "df_transf[to_be_encoded].frame_equal(pl.from_pandas(enc.transform(df_pd[to_be_encoded])))"
   ]
  },
  {
   "attachments": {},
   "cell_type": "markdown",
   "metadata": {},
   "source": [
    "# Time Comparison"
   ]
  },
  {
   "cell_type": "code",
   "execution_count": 10,
   "metadata": {},
   "outputs": [
    {
     "name": "stdout",
     "output_type": "stream",
     "text": [
      "23.9 ms ± 115 µs per loop (mean ± std. dev. of 7 runs, 10 loops each)\n"
     ]
    }
   ],
   "source": [
    "%%timeit \n",
    "\n",
    "enc = TargetEncoder(cols=to_be_encoded, min_samples_leaf=20, smoothing=10)\\\n",
    "    .fit(df_pd[to_be_encoded], df_pd[\"target\"])\n",
    "\n",
    "enc.transform(df_pd[to_be_encoded])"
   ]
  },
  {
   "cell_type": "code",
   "execution_count": 11,
   "metadata": {},
   "outputs": [
    {
     "name": "stdout",
     "output_type": "stream",
     "text": [
      "76.9 ms ± 13.2 ms per loop (mean ± std. dev. of 7 runs, 10 loops each)\n"
     ]
    }
   ],
   "source": [
    "%%timeit \n",
    "smooth_target_encode(df, cols=to_be_encoded\n",
    "                     , target=\"target\"\n",
    "                     , smoothing=10\n",
    "                     , min_samples_leaf=20\n",
    "                     , check_binary = False)"
   ]
  },
  {
   "cell_type": "code",
   "execution_count": 12,
   "metadata": {},
   "outputs": [],
   "source": [
    "# On small datasets, the smooth_target_encode is losing in speed.\n",
    "# But let's test it on bigger, more realistic data set size"
   ]
  },
  {
   "cell_type": "code",
   "execution_count": 13,
   "metadata": {},
   "outputs": [
    {
     "data": {
      "text/plain": [
       "(73000, 9)"
      ]
     },
     "execution_count": 13,
     "metadata": {},
     "output_type": "execute_result"
    }
   ],
   "source": [
    "df_pd_bigger = pd.concat([df_pd.copy()]*50)\n",
    "df_pd_bigger.shape"
   ]
  },
  {
   "cell_type": "code",
   "execution_count": 14,
   "metadata": {},
   "outputs": [
    {
     "data": {
      "text/plain": [
       "(73000, 9)"
      ]
     },
     "execution_count": 14,
     "metadata": {},
     "output_type": "execute_result"
    }
   ],
   "source": [
    "df_pl = pl.from_pandas(df_pd_bigger)\n",
    "df_pl.shape "
   ]
  },
  {
   "cell_type": "code",
   "execution_count": 15,
   "metadata": {},
   "outputs": [
    {
     "name": "stdout",
     "output_type": "stream",
     "text": [
      "215 ms ± 1.67 ms per loop (mean ± std. dev. of 7 runs, 1 loop each)\n"
     ]
    }
   ],
   "source": [
    "%%timeit \n",
    "\n",
    "enc = TargetEncoder(cols=to_be_encoded, min_samples_leaf=20, smoothing=10)\\\n",
    "    .fit(df_pd_bigger[to_be_encoded], df_pd_bigger[\"target\"])\n",
    "\n",
    "enc.transform(df_pd_bigger[to_be_encoded])[to_be_encoded]"
   ]
  },
  {
   "cell_type": "code",
   "execution_count": 18,
   "metadata": {},
   "outputs": [
    {
     "name": "stdout",
     "output_type": "stream",
     "text": [
      "78.6 ms ± 1.76 ms per loop (mean ± std. dev. of 7 runs, 10 loops each)\n"
     ]
    }
   ],
   "source": [
    "%%timeit \n",
    "smooth_target_encode(df_pl, cols=to_be_encoded\n",
    "                     , target=\"target\"\n",
    "                     , smoothing=10\n",
    "                     , min_samples_leaf=20\n",
    "                     , check_binary = False)"
   ]
  },
  {
   "cell_type": "code",
   "execution_count": 17,
   "metadata": {},
   "outputs": [],
   "source": [
    "# On bigger datasets, this is much faster"
   ]
  },
  {
   "cell_type": "code",
   "execution_count": null,
   "metadata": {},
   "outputs": [],
   "source": []
  }
 ],
 "metadata": {
  "kernelspec": {
   "display_name": "my_py11",
   "language": "python",
   "name": "python3"
  },
  "language_info": {
   "codemirror_mode": {
    "name": "ipython",
    "version": 3
   },
   "file_extension": ".py",
   "mimetype": "text/x-python",
   "name": "python",
   "nbconvert_exporter": "python",
   "pygments_lexer": "ipython3",
   "version": "3.11.3"
  },
  "orig_nbformat": 4
 },
 "nbformat": 4,
 "nbformat_minor": 2
}
