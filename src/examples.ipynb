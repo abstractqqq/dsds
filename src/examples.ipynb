{
 "cells": [
  {
   "cell_type": "code",
   "execution_count": 1,
   "metadata": {},
   "outputs": [],
   "source": [
    "import polars as pl\n",
    "import numpy as np \n",
    "from typing import * "
   ]
  },
  {
   "attachments": {},
   "cell_type": "markdown",
   "metadata": {},
   "source": [
    "# Testing text_data.py"
   ]
  },
  {
   "cell_type": "code",
   "execution_count": null,
   "metadata": {},
   "outputs": [],
   "source": [
    "from text_data import transform_text_data"
   ]
  },
  {
   "cell_type": "code",
   "execution_count": null,
   "metadata": {},
   "outputs": [],
   "source": [
    "line1 = \"She told me that she likes hiking.\"\n",
    "line2 = \"He told me that he doesn't like me.\"\n",
    "line3 = \"Hello World!\""
   ]
  },
  {
   "cell_type": "code",
   "execution_count": null,
   "metadata": {},
   "outputs": [],
   "source": [
    "df = pl.from_records([[line1, line2, line3], [\"A\", \"B\", \"C\"]], schema=[\"text_col\", \"category\"]).with_columns([\n",
    "    pl.lit(1).alias(\"Whatever Value\")\n",
    "])\n",
    "df "
   ]
  },
  {
   "cell_type": "code",
   "execution_count": null,
   "metadata": {},
   "outputs": [],
   "source": [
    "df_transformed, reverse_memo = transform_text_data(df, text_cols=[\"text_col\"], min_df=0, max_df=1)"
   ]
  },
  {
   "cell_type": "code",
   "execution_count": null,
   "metadata": {},
   "outputs": [],
   "source": [
    "df_transformed"
   ]
  },
  {
   "cell_type": "code",
   "execution_count": null,
   "metadata": {},
   "outputs": [],
   "source": [
    "reverse_memo"
   ]
  },
  {
   "cell_type": "code",
   "execution_count": null,
   "metadata": {},
   "outputs": [],
   "source": []
  },
  {
   "attachments": {},
   "cell_type": "markdown",
   "metadata": {},
   "source": [
    "# Test Other EDA Methods (eda.py) "
   ]
  },
  {
   "cell_type": "code",
   "execution_count": 2,
   "metadata": {},
   "outputs": [],
   "source": [
    "import polars as pl\n",
    "from eda_utils import *"
   ]
  },
  {
   "cell_type": "code",
   "execution_count": 3,
   "metadata": {},
   "outputs": [
    {
     "data": {
      "text/html": [
       "<div><style>\n",
       ".dataframe > thead > tr > th,\n",
       ".dataframe > tbody > tr > td {\n",
       "  text-align: right;\n",
       "}\n",
       "</style>\n",
       "<small>shape: (5, 18)</small><table border=\"1\" class=\"dataframe\"><thead><tr><th>Daily Time Spent on Site</th><th>Age</th><th>Area Income</th><th>Daily Internet Usage</th><th>Ad Topic Line</th><th>City</th><th>Male</th><th>Country</th><th>Timestamp</th><th>Clicked on Ad</th><th>One_Hot_Test</th><th>Age Band</th><th>Daily Internet Usage Band</th><th>Area Income Band</th><th>Test_Constant</th><th>Test_Str_Constant</th><th>Test_BadColumn</th><th>Test_Binary</th></tr><tr><td>f64</td><td>i64</td><td>f64</td><td>f64</td><td>str</td><td>str</td><td>i64</td><td>str</td><td>str</td><td>i64</td><td>str</td><td>i64</td><td>f64</td><td>f64</td><td>i32</td><td>str</td><td>i32</td><td>str</td></tr></thead><tbody><tr><td>68.95</td><td>35</td><td>61833.9</td><td>256.09</td><td>&quot;Cloned 5thgene…</td><td>&quot;Wrightburgh&quot;</td><td>0</td><td>&quot;Tunisia&quot;</td><td>&quot;3/27/2016 0:53…</td><td>0</td><td>&quot;A&quot;</td><td>30</td><td>12.0</td><td>12.0</td><td>1</td><td>&quot;SSS&quot;</td><td>0</td><td>&quot;A&quot;</td></tr><tr><td>80.23</td><td>31</td><td>68441.85</td><td>193.77</td><td>&quot;Monitored nati…</td><td>&quot;West Jodi&quot;</td><td>1</td><td>&quot;Nauru&quot;</td><td>&quot;4/4/2016 1:39&quot;</td><td>0</td><td>&quot;B&quot;</td><td>30</td><td>9.0</td><td>13.0</td><td>1</td><td>&quot;SSS&quot;</td><td>null</td><td>&quot;B&quot;</td></tr><tr><td>69.47</td><td>26</td><td>59785.94</td><td>236.5</td><td>&quot;Organic bottom…</td><td>&quot;Davidton&quot;</td><td>0</td><td>&quot;San Marino&quot;</td><td>&quot;3/13/2016 20:3…</td><td>0</td><td>&quot;A&quot;</td><td>20</td><td>11.0</td><td>11.0</td><td>1</td><td>&quot;SSS&quot;</td><td>0</td><td>&quot;A&quot;</td></tr><tr><td>74.15</td><td>29</td><td>54806.18</td><td>245.89</td><td>&quot;Triple-buffere…</td><td>&quot;West Terrifurt…</td><td>1</td><td>&quot;Italy&quot;</td><td>&quot;1/10/2016 2:31…</td><td>0</td><td>&quot;B&quot;</td><td>20</td><td>12.0</td><td>10.0</td><td>1</td><td>&quot;SSS&quot;</td><td>null</td><td>&quot;B&quot;</td></tr><tr><td>68.37</td><td>35</td><td>73889.99</td><td>225.58</td><td>&quot;Robust logisti…</td><td>&quot;South Manuel&quot;</td><td>0</td><td>&quot;Iceland&quot;</td><td>&quot;6/3/2016 3:36&quot;</td><td>0</td><td>&quot;A&quot;</td><td>30</td><td>11.0</td><td>14.0</td><td>1</td><td>&quot;SSS&quot;</td><td>0</td><td>&quot;A&quot;</td></tr></tbody></table></div>"
      ],
      "text/plain": [
       "shape: (5, 18)\n",
       "┌────────────┬─────┬───────────┬────────────┬───┬────────────┬────────────┬────────────┬───────────┐\n",
       "│ Daily Time ┆ Age ┆ Area      ┆ Daily      ┆ … ┆ Test_Const ┆ Test_Str_C ┆ Test_BadCo ┆ Test_Bina │\n",
       "│ Spent on   ┆ --- ┆ Income    ┆ Internet   ┆   ┆ ant        ┆ onstant    ┆ lumn       ┆ ry        │\n",
       "│ Site       ┆ i64 ┆ ---       ┆ Usage      ┆   ┆ ---        ┆ ---        ┆ ---        ┆ ---       │\n",
       "│ ---        ┆     ┆ f64       ┆ ---        ┆   ┆ i32        ┆ str        ┆ i32        ┆ str       │\n",
       "│ f64        ┆     ┆           ┆ f64        ┆   ┆            ┆            ┆            ┆           │\n",
       "╞════════════╪═════╪═══════════╪════════════╪═══╪════════════╪════════════╪════════════╪═══════════╡\n",
       "│ 68.95      ┆ 35  ┆ 61833.9   ┆ 256.09     ┆ … ┆ 1          ┆ SSS        ┆ 0          ┆ A         │\n",
       "│ 80.23      ┆ 31  ┆ 68441.85  ┆ 193.77     ┆ … ┆ 1          ┆ SSS        ┆ null       ┆ B         │\n",
       "│ 69.47      ┆ 26  ┆ 59785.94  ┆ 236.5      ┆ … ┆ 1          ┆ SSS        ┆ 0          ┆ A         │\n",
       "│ 74.15      ┆ 29  ┆ 54806.18  ┆ 245.89     ┆ … ┆ 1          ┆ SSS        ┆ null       ┆ B         │\n",
       "│ 68.37      ┆ 35  ┆ 73889.99  ┆ 225.58     ┆ … ┆ 1          ┆ SSS        ┆ 0          ┆ A         │\n",
       "└────────────┴─────┴───────────┴────────────┴───┴────────────┴────────────┴────────────┴───────────┘"
      ]
     },
     "execution_count": 3,
     "metadata": {},
     "output_type": "execute_result"
    }
   ],
   "source": [
    "df = pl.read_csv(\"../data/advertising.csv\").with_columns([\n",
    "    ((pl.col(\"Age\") // 10) * 10).alias(\"Age Band\"),\n",
    "    (pl.col(\"Daily Internet Usage\") // 20).alias(\"Daily Internet Usage Band\"),\n",
    "    (pl.col(\"Area Income\") // 5000).alias(\"Area Income Band\"),\n",
    "    pl.lit(1).alias(\"Test_Constant\"),\n",
    "    pl.lit(\"SSS\").alias(\"Test_Str_Constant\"),\n",
    "    pl.when(pl.col(\"Male\") == 0).then(0).otherwise(None).alias(\"Test_BadColumn\"),\n",
    "    pl.when(pl.col(\"Male\") == 0).then(\"A\").otherwise(\"B\").alias(\"Test_Binary\"),\n",
    "])\n",
    "target = \"Clicked on Ad\"\n",
    "df.head() "
   ]
  },
  {
   "cell_type": "code",
   "execution_count": 4,
   "metadata": {},
   "outputs": [
    {
     "data": {
      "text/html": [
       "<div><style>\n",
       ".dataframe > thead > tr > th,\n",
       ".dataframe > tbody > tr > td {\n",
       "  text-align: right;\n",
       "}\n",
       "</style>\n",
       "<small>shape: (18, 13)</small><table border=\"1\" class=\"dataframe\"><thead><tr><th>column</th><th>count</th><th>null_count</th><th>null_pct</th><th>n_unique</th><th>unique_pct</th><th>mean</th><th>std</th><th>min</th><th>max</th><th>median</th><th>25%</th><th>75%</th></tr><tr><td>str</td><td>f64</td><td>f64</td><td>f64</td><td>u32</td><td>f64</td><td>f64</td><td>f64</td><td>str</td><td>str</td><td>f64</td><td>f64</td><td>f64</td></tr></thead><tbody><tr><td>&quot;Daily Time Spe…</td><td>1000.0</td><td>0.0</td><td>0.0</td><td>900</td><td>0.9</td><td>65.0002</td><td>15.853615</td><td>&quot;32.6&quot;</td><td>&quot;91.43&quot;</td><td>68.215</td><td>51.38</td><td>78.57</td></tr><tr><td>&quot;Age&quot;</td><td>1000.0</td><td>0.0</td><td>0.0</td><td>43</td><td>0.043</td><td>36.009</td><td>8.785562</td><td>&quot;19.0&quot;</td><td>&quot;61.0&quot;</td><td>35.0</td><td>29.0</td><td>42.0</td></tr><tr><td>&quot;Area Income&quot;</td><td>1000.0</td><td>0.0</td><td>0.0</td><td>1000</td><td>1.0</td><td>55000.00008</td><td>13414.634022</td><td>&quot;13996.5&quot;</td><td>&quot;79484.8&quot;</td><td>57012.3</td><td>47051.02</td><td>65496.78</td></tr><tr><td>&quot;Daily Internet…</td><td>1000.0</td><td>0.0</td><td>0.0</td><td>966</td><td>0.966</td><td>180.0001</td><td>43.902339</td><td>&quot;104.78&quot;</td><td>&quot;269.96&quot;</td><td>183.13</td><td>138.87</td><td>218.8</td></tr><tr><td>&quot;Ad Topic Line&quot;</td><td>1000.0</td><td>0.0</td><td>0.0</td><td>1000</td><td>1.0</td><td>null</td><td>null</td><td>&quot;Adaptive 24hou…</td><td>&quot;Visionary reci…</td><td>null</td><td>null</td><td>null</td></tr><tr><td>&quot;City&quot;</td><td>1000.0</td><td>0.0</td><td>0.0</td><td>969</td><td>0.969</td><td>null</td><td>null</td><td>&quot;Adamsbury&quot;</td><td>&quot;Zacharyton&quot;</td><td>null</td><td>null</td><td>null</td></tr><tr><td>&quot;Male&quot;</td><td>1000.0</td><td>0.0</td><td>0.0</td><td>2</td><td>0.002</td><td>0.481</td><td>0.499889</td><td>&quot;0.0&quot;</td><td>&quot;1.0&quot;</td><td>0.0</td><td>0.0</td><td>1.0</td></tr><tr><td>&quot;Country&quot;</td><td>1000.0</td><td>0.0</td><td>0.0</td><td>237</td><td>0.237</td><td>null</td><td>null</td><td>&quot;Afghanistan&quot;</td><td>&quot;Zimbabwe&quot;</td><td>null</td><td>null</td><td>null</td></tr><tr><td>&quot;Timestamp&quot;</td><td>1000.0</td><td>0.0</td><td>0.0</td><td>997</td><td>0.997</td><td>null</td><td>null</td><td>&quot;1/1/2016 15:14…</td><td>&quot;7/9/2016 16:23…</td><td>null</td><td>null</td><td>null</td></tr><tr><td>&quot;Clicked on Ad&quot;</td><td>1000.0</td><td>0.0</td><td>0.0</td><td>2</td><td>0.002</td><td>0.5</td><td>0.50025</td><td>&quot;0.0&quot;</td><td>&quot;1.0&quot;</td><td>0.5</td><td>0.0</td><td>1.0</td></tr><tr><td>&quot;One_Hot_Test&quot;</td><td>1000.0</td><td>0.0</td><td>0.0</td><td>3</td><td>0.003</td><td>null</td><td>null</td><td>&quot;A&quot;</td><td>&quot;C&quot;</td><td>null</td><td>null</td><td>null</td></tr><tr><td>&quot;Age Band&quot;</td><td>1000.0</td><td>0.0</td><td>0.0</td><td>6</td><td>0.006</td><td>31.52</td><td>9.411598</td><td>&quot;10.0&quot;</td><td>&quot;60.0&quot;</td><td>30.0</td><td>20.0</td><td>40.0</td></tr><tr><td>&quot;Daily Internet…</td><td>1000.0</td><td>0.0</td><td>0.0</td><td>9</td><td>0.009</td><td>8.495</td><td>2.197454</td><td>&quot;5.0&quot;</td><td>&quot;13.0&quot;</td><td>9.0</td><td>6.0</td><td>10.0</td></tr><tr><td>&quot;Area Income Ba…</td><td>1000.0</td><td>0.0</td><td>0.0</td><td>14</td><td>0.014</td><td>10.514</td><td>2.709085</td><td>&quot;2.0&quot;</td><td>&quot;15.0&quot;</td><td>11.0</td><td>9.0</td><td>13.0</td></tr><tr><td>&quot;Test_Constant&quot;</td><td>1000.0</td><td>0.0</td><td>0.0</td><td>1</td><td>0.001</td><td>1.0</td><td>0.0</td><td>&quot;1.0&quot;</td><td>&quot;1.0&quot;</td><td>1.0</td><td>1.0</td><td>1.0</td></tr><tr><td>&quot;Test_Str_Const…</td><td>1000.0</td><td>0.0</td><td>0.0</td><td>1</td><td>0.001</td><td>null</td><td>null</td><td>&quot;SSS&quot;</td><td>&quot;SSS&quot;</td><td>null</td><td>null</td><td>null</td></tr><tr><td>&quot;Test_BadColumn…</td><td>1000.0</td><td>481.0</td><td>0.481</td><td>2</td><td>0.002</td><td>0.0</td><td>0.0</td><td>&quot;0.0&quot;</td><td>&quot;0.0&quot;</td><td>0.0</td><td>0.0</td><td>0.0</td></tr><tr><td>&quot;Test_Binary&quot;</td><td>1000.0</td><td>0.0</td><td>0.0</td><td>2</td><td>0.002</td><td>null</td><td>null</td><td>&quot;A&quot;</td><td>&quot;B&quot;</td><td>null</td><td>null</td><td>null</td></tr></tbody></table></div>"
      ],
      "text/plain": [
       "shape: (18, 13)\n",
       "┌───────────────────┬────────┬────────────┬──────────┬───┬─────────┬─────────┬──────────┬──────────┐\n",
       "│ column            ┆ count  ┆ null_count ┆ null_pct ┆ … ┆ max     ┆ median  ┆ 25%      ┆ 75%      │\n",
       "│ ---               ┆ ---    ┆ ---        ┆ ---      ┆   ┆ ---     ┆ ---     ┆ ---      ┆ ---      │\n",
       "│ str               ┆ f64    ┆ f64        ┆ f64      ┆   ┆ str     ┆ f64     ┆ f64      ┆ f64      │\n",
       "╞═══════════════════╪════════╪════════════╪══════════╪═══╪═════════╪═════════╪══════════╪══════════╡\n",
       "│ Daily Time Spent  ┆ 1000.0 ┆ 0.0        ┆ 0.0      ┆ … ┆ 91.43   ┆ 68.215  ┆ 51.38    ┆ 78.57    │\n",
       "│ on Site           ┆        ┆            ┆          ┆   ┆         ┆         ┆          ┆          │\n",
       "│ Age               ┆ 1000.0 ┆ 0.0        ┆ 0.0      ┆ … ┆ 61.0    ┆ 35.0    ┆ 29.0     ┆ 42.0     │\n",
       "│ Area Income       ┆ 1000.0 ┆ 0.0        ┆ 0.0      ┆ … ┆ 79484.8 ┆ 57012.3 ┆ 47051.02 ┆ 65496.78 │\n",
       "│ Daily Internet    ┆ 1000.0 ┆ 0.0        ┆ 0.0      ┆ … ┆ 269.96  ┆ 183.13  ┆ 138.87   ┆ 218.8    │\n",
       "│ Usage             ┆        ┆            ┆          ┆   ┆         ┆         ┆          ┆          │\n",
       "│ …                 ┆ …      ┆ …          ┆ …        ┆ … ┆ …       ┆ …       ┆ …        ┆ …        │\n",
       "│ Test_Constant     ┆ 1000.0 ┆ 0.0        ┆ 0.0      ┆ … ┆ 1.0     ┆ 1.0     ┆ 1.0      ┆ 1.0      │\n",
       "│ Test_Str_Constant ┆ 1000.0 ┆ 0.0        ┆ 0.0      ┆ … ┆ SSS     ┆ null    ┆ null     ┆ null     │\n",
       "│ Test_BadColumn    ┆ 1000.0 ┆ 481.0      ┆ 0.481    ┆ … ┆ 0.0     ┆ 0.0     ┆ 0.0      ┆ 0.0      │\n",
       "│ Test_Binary       ┆ 1000.0 ┆ 0.0        ┆ 0.0      ┆ … ┆ B       ┆ null    ┆ null     ┆ null     │\n",
       "└───────────────────┴────────┴────────────┴──────────┴───┴─────────┴─────────┴──────────┴──────────┘"
      ]
     },
     "execution_count": 4,
     "metadata": {},
     "output_type": "execute_result"
    }
   ],
   "source": [
    "describe(df)"
   ]
  },
  {
   "cell_type": "code",
   "execution_count": null,
   "metadata": {},
   "outputs": [],
   "source": [
    "df = var_removal(df, threshold=0.5, target=target)"
   ]
  },
  {
   "cell_type": "code",
   "execution_count": null,
   "metadata": {},
   "outputs": [],
   "source": [
    "df = constant_removal(df)"
   ]
  },
  {
   "cell_type": "code",
   "execution_count": null,
   "metadata": {},
   "outputs": [],
   "source": [
    "bin_result = binary_encode(df, exclude = [target])"
   ]
  },
  {
   "cell_type": "code",
   "execution_count": null,
   "metadata": {},
   "outputs": [],
   "source": [
    "bin_result.transformed.head() "
   ]
  },
  {
   "cell_type": "code",
   "execution_count": null,
   "metadata": {},
   "outputs": [],
   "source": [
    "df = bin_result.transformed\n",
    "bin_result.mapping "
   ]
  },
  {
   "cell_type": "code",
   "execution_count": null,
   "metadata": {},
   "outputs": [],
   "source": [
    "# Some of these are numerical columns, but we can still treat them as categorical columns\n",
    "# and feed them into the information gain algorithm.\n",
    "cats = [\"Age Band\", \"Country\", \"Area Income Band\", \"Daily Internet Usage Band\", \"Test_Binary\", \"One_Hot_Test\"]\n",
    "target = \"Clicked on Ad\""
   ]
  },
  {
   "cell_type": "code",
   "execution_count": null,
   "metadata": {},
   "outputs": [],
   "source": [
    "information_gain(df, target, cat_cols=cats)"
   ]
  },
  {
   "cell_type": "code",
   "execution_count": null,
   "metadata": {},
   "outputs": [],
   "source": [
    "# If nothing is given, automatically infers string columns as categorical columns.\n",
    "information_gain(df, target)"
   ]
  },
  {
   "cell_type": "code",
   "execution_count": null,
   "metadata": {},
   "outputs": [],
   "source": [
    "# df[\"Ad Topic Line\"].unique() # has 1000 uniques. \n",
    "# There is no randomness at all because we can say that there are two distinct subsets that perfects differentiates 0s from 1s"
   ]
  },
  {
   "cell_type": "code",
   "execution_count": null,
   "metadata": {},
   "outputs": [],
   "source": [
    "f_test(df, target=target)"
   ]
  },
  {
   "cell_type": "code",
   "execution_count": null,
   "metadata": {},
   "outputs": [],
   "source": [
    "nums = get_numeric_cols(df, exclude=[target])\n",
    "nums  "
   ]
  },
  {
   "cell_type": "code",
   "execution_count": null,
   "metadata": {},
   "outputs": [],
   "source": [
    "from sklearn.feature_selection import f_classif\n",
    " \n",
    "f, pv = f_classif(df[nums], df[target])\n",
    "pl.from_records([nums, f, pv], schema=[\"feature\", \"f_value\", \"p_value\"])"
   ]
  },
  {
   "cell_type": "code",
   "execution_count": null,
   "metadata": {},
   "outputs": [],
   "source": [
    "df_test = pl.concat([df.clone()] * 100)\n",
    "df_test.shape"
   ]
  },
  {
   "cell_type": "code",
   "execution_count": null,
   "metadata": {},
   "outputs": [],
   "source": [
    "%%timeit \n",
    "f_test(df_test, target=\"Clicked on Ad\", num_cols=nums)"
   ]
  },
  {
   "cell_type": "code",
   "execution_count": null,
   "metadata": {},
   "outputs": [],
   "source": [
    "%%timeit \n",
    "f, pv = f_classif(df_test[nums], df_test[target])\n",
    "pl.from_records([nums, f, pv], schema=[\"feature\", \"f_value\", \"p_value\"])"
   ]
  },
  {
   "cell_type": "code",
   "execution_count": null,
   "metadata": {},
   "outputs": [],
   "source": [
    "pct_result = percentile_binning(df, num_cols=nums, exclude=[target])"
   ]
  },
  {
   "cell_type": "code",
   "execution_count": null,
   "metadata": {},
   "outputs": [],
   "source": [
    "pct_result.transformed.head() "
   ]
  },
  {
   "cell_type": "code",
   "execution_count": null,
   "metadata": {},
   "outputs": [],
   "source": [
    "df = pct_result.transformed\n",
    "pct_result.mapping.filter(pl.col(\"feature\") == \"Age\")"
   ]
  },
  {
   "cell_type": "code",
   "execution_count": null,
   "metadata": {},
   "outputs": [],
   "source": [
    "one_hot_res = one_hot_encode(df, one_hot_columns=[\"One_Hot_Test\"])"
   ]
  },
  {
   "cell_type": "code",
   "execution_count": null,
   "metadata": {},
   "outputs": [],
   "source": [
    "one_hot_res.transformed.head() "
   ]
  },
  {
   "cell_type": "code",
   "execution_count": null,
   "metadata": {},
   "outputs": [],
   "source": [
    "df = one_hot_res.transformed\n",
    "one_hot_res.mapping"
   ]
  },
  {
   "cell_type": "code",
   "execution_count": null,
   "metadata": {},
   "outputs": [],
   "source": [
    "ordinal_res = ordinal_auto_encode(df, ordinal_cols=[\"City\", \"Country\"])"
   ]
  },
  {
   "cell_type": "code",
   "execution_count": null,
   "metadata": {},
   "outputs": [],
   "source": [
    "ordinal_res.transformed.head() "
   ]
  },
  {
   "cell_type": "code",
   "execution_count": null,
   "metadata": {},
   "outputs": [],
   "source": [
    "ordinal_res.mapping.head() "
   ]
  },
  {
   "cell_type": "code",
   "execution_count": null,
   "metadata": {},
   "outputs": [],
   "source": [
    "df = ordinal_res.transformed\n",
    "final_df = df.drop([\"Ad Topic Line\", \"Timestamp\"])\n",
    "final_df.head() "
   ]
  },
  {
   "cell_type": "code",
   "execution_count": null,
   "metadata": {},
   "outputs": [],
   "source": [
    "np_data = get_numpy(final_df, target)\n",
    "X, y, features = np_data.X, np_data.y, np_data.features"
   ]
  },
  {
   "cell_type": "code",
   "execution_count": null,
   "metadata": {},
   "outputs": [],
   "source": [
    "X.shape "
   ]
  },
  {
   "cell_type": "code",
   "execution_count": null,
   "metadata": {},
   "outputs": [],
   "source": [
    "y.shape "
   ]
  },
  {
   "cell_type": "code",
   "execution_count": null,
   "metadata": {},
   "outputs": [],
   "source": [
    "features"
   ]
  },
  {
   "cell_type": "code",
   "execution_count": null,
   "metadata": {},
   "outputs": [],
   "source": []
  }
 ],
 "metadata": {
  "kernelspec": {
   "display_name": "nodus",
   "language": "python",
   "name": "python3"
  },
  "language_info": {
   "codemirror_mode": {
    "name": "ipython",
    "version": 3
   },
   "file_extension": ".py",
   "mimetype": "text/x-python",
   "name": "python",
   "nbconvert_exporter": "python",
   "pygments_lexer": "ipython3",
   "version": "3.11.3"
  },
  "orig_nbformat": 4,
  "vscode": {
   "interpreter": {
    "hash": "74f1072b57173f378ab32b3582e04f0f79e785f166fd2fbdd636602a68526af8"
   }
  }
 },
 "nbformat": 4,
 "nbformat_minor": 2
}
