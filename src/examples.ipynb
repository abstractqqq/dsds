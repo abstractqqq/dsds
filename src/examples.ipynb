{
 "cells": [
  {
   "cell_type": "code",
   "execution_count": 1,
   "metadata": {},
   "outputs": [],
   "source": [
    "import polars as pl\n",
    "import numpy as np \n",
    "from typing import * "
   ]
  },
  {
   "attachments": {},
   "cell_type": "markdown",
   "metadata": {},
   "source": [
    "# Testing text_data.py"
   ]
  },
  {
   "cell_type": "code",
   "execution_count": 2,
   "metadata": {},
   "outputs": [],
   "source": [
    "from text_data import transform_text_data"
   ]
  },
  {
   "cell_type": "code",
   "execution_count": 3,
   "metadata": {},
   "outputs": [],
   "source": [
    "line1 = \"She told me that she likes hiking.\"\n",
    "line2 = \"He told me that he doesn't like me.\"\n",
    "line3 = \"Hello World!\""
   ]
  },
  {
   "cell_type": "code",
   "execution_count": 4,
   "metadata": {},
   "outputs": [
    {
     "data": {
      "text/html": [
       "<div><style>\n",
       ".dataframe > thead > tr > th,\n",
       ".dataframe > tbody > tr > td {\n",
       "  text-align: right;\n",
       "}\n",
       "</style>\n",
       "<small>shape: (3, 3)</small><table border=\"1\" class=\"dataframe\"><thead><tr><th>text_col</th><th>category</th><th>Whatever Value</th></tr><tr><td>str</td><td>str</td><td>i32</td></tr></thead><tbody><tr><td>&quot;She told me th…</td><td>&quot;A&quot;</td><td>1</td></tr><tr><td>&quot;He told me tha…</td><td>&quot;B&quot;</td><td>1</td></tr><tr><td>&quot;Hello World!&quot;</td><td>&quot;C&quot;</td><td>1</td></tr></tbody></table></div>"
      ],
      "text/plain": [
       "shape: (3, 3)\n",
       "┌───────────────────────────────────┬──────────┬────────────────┐\n",
       "│ text_col                          ┆ category ┆ Whatever Value │\n",
       "│ ---                               ┆ ---      ┆ ---            │\n",
       "│ str                               ┆ str      ┆ i32            │\n",
       "╞═══════════════════════════════════╪══════════╪════════════════╡\n",
       "│ She told me that she likes hikin… ┆ A        ┆ 1              │\n",
       "│ He told me that he doesn't like … ┆ B        ┆ 1              │\n",
       "│ Hello World!                      ┆ C        ┆ 1              │\n",
       "└───────────────────────────────────┴──────────┴────────────────┘"
      ]
     },
     "execution_count": 4,
     "metadata": {},
     "output_type": "execute_result"
    }
   ],
   "source": [
    "df = pl.from_records([[line1, line2, line3], [\"A\", \"B\", \"C\"]], schema=[\"text_col\", \"category\"]).with_columns([\n",
    "    pl.lit(1).alias(\"Whatever Value\")\n",
    "])\n",
    "df "
   ]
  },
  {
   "cell_type": "code",
   "execution_count": 5,
   "metadata": {},
   "outputs": [
    {
     "name": "stdout",
     "output_type": "stream",
     "text": [
      "Perfoming stemming...\n",
      "Performing Count vectorization for text_col...\n"
     ]
    }
   ],
   "source": [
    "df_transformed, reverse_memo = transform_text_data(df, text_cols=[\"text_col\"], min_df=0, max_df=1)"
   ]
  },
  {
   "cell_type": "code",
   "execution_count": 6,
   "metadata": {},
   "outputs": [
    {
     "data": {
      "text/html": [
       "<div><style>\n",
       ".dataframe > thead > tr > th,\n",
       ".dataframe > tbody > tr > td {\n",
       "  text-align: right;\n",
       "}\n",
       "</style>\n",
       "<small>shape: (3, 6)</small><table border=\"1\" class=\"dataframe\"><thead><tr><th>category</th><th>Whatever Value</th><th>text_col::word::doesnt</th><th>text_col::word::hello</th><th>text_col::word::hike</th><th>text_col::word::world</th></tr><tr><td>str</td><td>i32</td><td>i64</td><td>i64</td><td>i64</td><td>i64</td></tr></thead><tbody><tr><td>&quot;A&quot;</td><td>1</td><td>0</td><td>0</td><td>1</td><td>0</td></tr><tr><td>&quot;B&quot;</td><td>1</td><td>1</td><td>0</td><td>0</td><td>0</td></tr><tr><td>&quot;C&quot;</td><td>1</td><td>0</td><td>1</td><td>0</td><td>1</td></tr></tbody></table></div>"
      ],
      "text/plain": [
       "shape: (3, 6)\n",
       "┌──────────┬────────────────┬─────────────────┬─────────────────┬─────────────────┬────────────────┐\n",
       "│ category ┆ Whatever Value ┆ text_col::word: ┆ text_col::word: ┆ text_col::word: ┆ text_col::word │\n",
       "│ ---      ┆ ---            ┆ :doesnt         ┆ :hello          ┆ :hike           ┆ ::world        │\n",
       "│ str      ┆ i32            ┆ ---             ┆ ---             ┆ ---             ┆ ---            │\n",
       "│          ┆                ┆ i64             ┆ i64             ┆ i64             ┆ i64            │\n",
       "╞══════════╪════════════════╪═════════════════╪═════════════════╪═════════════════╪════════════════╡\n",
       "│ A        ┆ 1              ┆ 0               ┆ 0               ┆ 1               ┆ 0              │\n",
       "│ B        ┆ 1              ┆ 1               ┆ 0               ┆ 0               ┆ 0              │\n",
       "│ C        ┆ 1              ┆ 0               ┆ 1               ┆ 0               ┆ 1              │\n",
       "└──────────┴────────────────┴─────────────────┴─────────────────┴─────────────────┴────────────────┘"
      ]
     },
     "execution_count": 6,
     "metadata": {},
     "output_type": "execute_result"
    }
   ],
   "source": [
    "df_transformed"
   ]
  },
  {
   "cell_type": "code",
   "execution_count": 7,
   "metadata": {},
   "outputs": [
    {
     "data": {
      "text/plain": [
       "{'she': ['she'],\n",
       " 'told': ['told'],\n",
       " 'me': ['me'],\n",
       " 'that': ['that'],\n",
       " 'like': ['likes', 'like'],\n",
       " 'hike': ['hiking'],\n",
       " 'he': ['he'],\n",
       " 'doesnt': ['doesnt'],\n",
       " 'hello': ['hello'],\n",
       " 'world': ['world']}"
      ]
     },
     "execution_count": 7,
     "metadata": {},
     "output_type": "execute_result"
    }
   ],
   "source": [
    "reverse_memo"
   ]
  },
  {
   "cell_type": "code",
   "execution_count": null,
   "metadata": {},
   "outputs": [],
   "source": []
  },
  {
   "attachments": {},
   "cell_type": "markdown",
   "metadata": {},
   "source": [
    "# Test Other EDA Methods (eda.py) "
   ]
  },
  {
   "cell_type": "code",
   "execution_count": 8,
   "metadata": {},
   "outputs": [],
   "source": [
    "import polars as pl\n",
    "from eda_utils import *"
   ]
  },
  {
   "cell_type": "code",
   "execution_count": 9,
   "metadata": {},
   "outputs": [
    {
     "data": {
      "text/html": [
       "<div><style>\n",
       ".dataframe > thead > tr > th,\n",
       ".dataframe > tbody > tr > td {\n",
       "  text-align: right;\n",
       "}\n",
       "</style>\n",
       "<small>shape: (5, 18)</small><table border=\"1\" class=\"dataframe\"><thead><tr><th>Daily Time Spent on Site</th><th>Age</th><th>Area Income</th><th>Daily Internet Usage</th><th>Ad Topic Line</th><th>City</th><th>Male</th><th>Country</th><th>Timestamp</th><th>Clicked on Ad</th><th>One_Hot_Test</th><th>Age Band</th><th>Daily Internet Usage Band</th><th>Area Income Band</th><th>Test_Constant</th><th>Test_Str_Constant</th><th>Test_BadColumn</th><th>Test_Binary</th></tr><tr><td>f64</td><td>i64</td><td>f64</td><td>f64</td><td>str</td><td>str</td><td>i64</td><td>str</td><td>str</td><td>i64</td><td>str</td><td>i64</td><td>f64</td><td>f64</td><td>i32</td><td>str</td><td>i32</td><td>str</td></tr></thead><tbody><tr><td>68.95</td><td>35</td><td>61833.9</td><td>256.09</td><td>&quot;Cloned 5thgene…</td><td>&quot;Wrightburgh&quot;</td><td>0</td><td>&quot;Tunisia&quot;</td><td>&quot;3/27/2016 0:53…</td><td>0</td><td>&quot;A&quot;</td><td>30</td><td>12.0</td><td>12.0</td><td>1</td><td>&quot;SSS&quot;</td><td>0</td><td>&quot;A&quot;</td></tr><tr><td>80.23</td><td>31</td><td>68441.85</td><td>193.77</td><td>&quot;Monitored nati…</td><td>&quot;West Jodi&quot;</td><td>1</td><td>&quot;Nauru&quot;</td><td>&quot;4/4/2016 1:39&quot;</td><td>0</td><td>&quot;B&quot;</td><td>30</td><td>9.0</td><td>13.0</td><td>1</td><td>&quot;SSS&quot;</td><td>null</td><td>&quot;B&quot;</td></tr><tr><td>69.47</td><td>26</td><td>59785.94</td><td>236.5</td><td>&quot;Organic bottom…</td><td>&quot;Davidton&quot;</td><td>0</td><td>&quot;San Marino&quot;</td><td>&quot;3/13/2016 20:3…</td><td>0</td><td>&quot;A&quot;</td><td>20</td><td>11.0</td><td>11.0</td><td>1</td><td>&quot;SSS&quot;</td><td>0</td><td>&quot;A&quot;</td></tr><tr><td>74.15</td><td>29</td><td>54806.18</td><td>245.89</td><td>&quot;Triple-buffere…</td><td>&quot;West Terrifurt…</td><td>1</td><td>&quot;Italy&quot;</td><td>&quot;1/10/2016 2:31…</td><td>0</td><td>&quot;B&quot;</td><td>20</td><td>12.0</td><td>10.0</td><td>1</td><td>&quot;SSS&quot;</td><td>null</td><td>&quot;B&quot;</td></tr><tr><td>68.37</td><td>35</td><td>73889.99</td><td>225.58</td><td>&quot;Robust logisti…</td><td>&quot;South Manuel&quot;</td><td>0</td><td>&quot;Iceland&quot;</td><td>&quot;6/3/2016 3:36&quot;</td><td>0</td><td>&quot;A&quot;</td><td>30</td><td>11.0</td><td>14.0</td><td>1</td><td>&quot;SSS&quot;</td><td>0</td><td>&quot;A&quot;</td></tr></tbody></table></div>"
      ],
      "text/plain": [
       "shape: (5, 18)\n",
       "┌────────────┬─────┬───────────┬────────────┬───┬────────────┬────────────┬────────────┬───────────┐\n",
       "│ Daily Time ┆ Age ┆ Area      ┆ Daily      ┆ … ┆ Test_Const ┆ Test_Str_C ┆ Test_BadCo ┆ Test_Bina │\n",
       "│ Spent on   ┆ --- ┆ Income    ┆ Internet   ┆   ┆ ant        ┆ onstant    ┆ lumn       ┆ ry        │\n",
       "│ Site       ┆ i64 ┆ ---       ┆ Usage      ┆   ┆ ---        ┆ ---        ┆ ---        ┆ ---       │\n",
       "│ ---        ┆     ┆ f64       ┆ ---        ┆   ┆ i32        ┆ str        ┆ i32        ┆ str       │\n",
       "│ f64        ┆     ┆           ┆ f64        ┆   ┆            ┆            ┆            ┆           │\n",
       "╞════════════╪═════╪═══════════╪════════════╪═══╪════════════╪════════════╪════════════╪═══════════╡\n",
       "│ 68.95      ┆ 35  ┆ 61833.9   ┆ 256.09     ┆ … ┆ 1          ┆ SSS        ┆ 0          ┆ A         │\n",
       "│ 80.23      ┆ 31  ┆ 68441.85  ┆ 193.77     ┆ … ┆ 1          ┆ SSS        ┆ null       ┆ B         │\n",
       "│ 69.47      ┆ 26  ┆ 59785.94  ┆ 236.5      ┆ … ┆ 1          ┆ SSS        ┆ 0          ┆ A         │\n",
       "│ 74.15      ┆ 29  ┆ 54806.18  ┆ 245.89     ┆ … ┆ 1          ┆ SSS        ┆ null       ┆ B         │\n",
       "│ 68.37      ┆ 35  ┆ 73889.99  ┆ 225.58     ┆ … ┆ 1          ┆ SSS        ┆ 0          ┆ A         │\n",
       "└────────────┴─────┴───────────┴────────────┴───┴────────────┴────────────┴────────────┴───────────┘"
      ]
     },
     "execution_count": 9,
     "metadata": {},
     "output_type": "execute_result"
    }
   ],
   "source": [
    "df = pl.read_csv(\"../data/advertising.csv\").with_columns([\n",
    "    ((pl.col(\"Age\") // 10) * 10).alias(\"Age Band\"),\n",
    "    (pl.col(\"Daily Internet Usage\") // 20).alias(\"Daily Internet Usage Band\"),\n",
    "    (pl.col(\"Area Income\") // 5000).alias(\"Area Income Band\"),\n",
    "    pl.lit(1).alias(\"Test_Constant\"),\n",
    "    pl.lit(\"SSS\").alias(\"Test_Str_Constant\"),\n",
    "    pl.when(pl.col(\"Male\") == 0).then(0).otherwise(None).alias(\"Test_BadColumn\"),\n",
    "    pl.when(pl.col(\"Male\") == 0).then(\"A\").otherwise(\"B\").alias(\"Test_Binary\"),\n",
    "])\n",
    "target = \"Clicked on Ad\"\n",
    "df.head() "
   ]
  },
  {
   "cell_type": "code",
   "execution_count": 10,
   "metadata": {},
   "outputs": [
    {
     "data": {
      "text/html": [
       "<div><style>\n",
       ".dataframe > thead > tr > th,\n",
       ".dataframe > tbody > tr > td {\n",
       "  text-align: right;\n",
       "}\n",
       "</style>\n",
       "<small>shape: (18, 13)</small><table border=\"1\" class=\"dataframe\"><thead><tr><th>column</th><th>count</th><th>null_count</th><th>null_pct</th><th>n_unique</th><th>unique_pct</th><th>mean</th><th>std</th><th>min</th><th>max</th><th>median</th><th>25%</th><th>75%</th></tr><tr><td>str</td><td>f64</td><td>f64</td><td>f64</td><td>u32</td><td>f64</td><td>f64</td><td>f64</td><td>str</td><td>str</td><td>f64</td><td>f64</td><td>f64</td></tr></thead><tbody><tr><td>&quot;Daily Time Spe…</td><td>1000.0</td><td>0.0</td><td>0.0</td><td>900</td><td>0.9</td><td>65.0002</td><td>15.853615</td><td>&quot;32.6&quot;</td><td>&quot;91.43&quot;</td><td>68.215</td><td>51.38</td><td>78.57</td></tr><tr><td>&quot;Age&quot;</td><td>1000.0</td><td>0.0</td><td>0.0</td><td>43</td><td>0.043</td><td>36.009</td><td>8.785562</td><td>&quot;19.0&quot;</td><td>&quot;61.0&quot;</td><td>35.0</td><td>29.0</td><td>42.0</td></tr><tr><td>&quot;Area Income&quot;</td><td>1000.0</td><td>0.0</td><td>0.0</td><td>1000</td><td>1.0</td><td>55000.00008</td><td>13414.634022</td><td>&quot;13996.5&quot;</td><td>&quot;79484.8&quot;</td><td>57012.3</td><td>47051.02</td><td>65496.78</td></tr><tr><td>&quot;Daily Internet…</td><td>1000.0</td><td>0.0</td><td>0.0</td><td>966</td><td>0.966</td><td>180.0001</td><td>43.902339</td><td>&quot;104.78&quot;</td><td>&quot;269.96&quot;</td><td>183.13</td><td>138.87</td><td>218.8</td></tr><tr><td>&quot;Ad Topic Line&quot;</td><td>1000.0</td><td>0.0</td><td>0.0</td><td>1000</td><td>1.0</td><td>null</td><td>null</td><td>&quot;Adaptive 24hou…</td><td>&quot;Visionary reci…</td><td>null</td><td>null</td><td>null</td></tr><tr><td>&quot;City&quot;</td><td>1000.0</td><td>0.0</td><td>0.0</td><td>969</td><td>0.969</td><td>null</td><td>null</td><td>&quot;Adamsbury&quot;</td><td>&quot;Zacharyton&quot;</td><td>null</td><td>null</td><td>null</td></tr><tr><td>&quot;Male&quot;</td><td>1000.0</td><td>0.0</td><td>0.0</td><td>2</td><td>0.002</td><td>0.481</td><td>0.499889</td><td>&quot;0.0&quot;</td><td>&quot;1.0&quot;</td><td>0.0</td><td>0.0</td><td>1.0</td></tr><tr><td>&quot;Country&quot;</td><td>1000.0</td><td>0.0</td><td>0.0</td><td>237</td><td>0.237</td><td>null</td><td>null</td><td>&quot;Afghanistan&quot;</td><td>&quot;Zimbabwe&quot;</td><td>null</td><td>null</td><td>null</td></tr><tr><td>&quot;Timestamp&quot;</td><td>1000.0</td><td>0.0</td><td>0.0</td><td>997</td><td>0.997</td><td>null</td><td>null</td><td>&quot;1/1/2016 15:14…</td><td>&quot;7/9/2016 16:23…</td><td>null</td><td>null</td><td>null</td></tr><tr><td>&quot;Clicked on Ad&quot;</td><td>1000.0</td><td>0.0</td><td>0.0</td><td>2</td><td>0.002</td><td>0.5</td><td>0.50025</td><td>&quot;0.0&quot;</td><td>&quot;1.0&quot;</td><td>0.5</td><td>0.0</td><td>1.0</td></tr><tr><td>&quot;One_Hot_Test&quot;</td><td>1000.0</td><td>0.0</td><td>0.0</td><td>3</td><td>0.003</td><td>null</td><td>null</td><td>&quot;A&quot;</td><td>&quot;C&quot;</td><td>null</td><td>null</td><td>null</td></tr><tr><td>&quot;Age Band&quot;</td><td>1000.0</td><td>0.0</td><td>0.0</td><td>6</td><td>0.006</td><td>31.52</td><td>9.411598</td><td>&quot;10.0&quot;</td><td>&quot;60.0&quot;</td><td>30.0</td><td>20.0</td><td>40.0</td></tr><tr><td>&quot;Daily Internet…</td><td>1000.0</td><td>0.0</td><td>0.0</td><td>9</td><td>0.009</td><td>8.495</td><td>2.197454</td><td>&quot;5.0&quot;</td><td>&quot;13.0&quot;</td><td>9.0</td><td>6.0</td><td>10.0</td></tr><tr><td>&quot;Area Income Ba…</td><td>1000.0</td><td>0.0</td><td>0.0</td><td>14</td><td>0.014</td><td>10.514</td><td>2.709085</td><td>&quot;2.0&quot;</td><td>&quot;15.0&quot;</td><td>11.0</td><td>9.0</td><td>13.0</td></tr><tr><td>&quot;Test_Constant&quot;</td><td>1000.0</td><td>0.0</td><td>0.0</td><td>1</td><td>0.001</td><td>1.0</td><td>0.0</td><td>&quot;1.0&quot;</td><td>&quot;1.0&quot;</td><td>1.0</td><td>1.0</td><td>1.0</td></tr><tr><td>&quot;Test_Str_Const…</td><td>1000.0</td><td>0.0</td><td>0.0</td><td>1</td><td>0.001</td><td>null</td><td>null</td><td>&quot;SSS&quot;</td><td>&quot;SSS&quot;</td><td>null</td><td>null</td><td>null</td></tr><tr><td>&quot;Test_BadColumn…</td><td>1000.0</td><td>481.0</td><td>0.481</td><td>2</td><td>0.002</td><td>0.0</td><td>0.0</td><td>&quot;0.0&quot;</td><td>&quot;0.0&quot;</td><td>0.0</td><td>0.0</td><td>0.0</td></tr><tr><td>&quot;Test_Binary&quot;</td><td>1000.0</td><td>0.0</td><td>0.0</td><td>2</td><td>0.002</td><td>null</td><td>null</td><td>&quot;A&quot;</td><td>&quot;B&quot;</td><td>null</td><td>null</td><td>null</td></tr></tbody></table></div>"
      ],
      "text/plain": [
       "shape: (18, 13)\n",
       "┌───────────────────┬────────┬────────────┬──────────┬───┬─────────┬─────────┬──────────┬──────────┐\n",
       "│ column            ┆ count  ┆ null_count ┆ null_pct ┆ … ┆ max     ┆ median  ┆ 25%      ┆ 75%      │\n",
       "│ ---               ┆ ---    ┆ ---        ┆ ---      ┆   ┆ ---     ┆ ---     ┆ ---      ┆ ---      │\n",
       "│ str               ┆ f64    ┆ f64        ┆ f64      ┆   ┆ str     ┆ f64     ┆ f64      ┆ f64      │\n",
       "╞═══════════════════╪════════╪════════════╪══════════╪═══╪═════════╪═════════╪══════════╪══════════╡\n",
       "│ Daily Time Spent  ┆ 1000.0 ┆ 0.0        ┆ 0.0      ┆ … ┆ 91.43   ┆ 68.215  ┆ 51.38    ┆ 78.57    │\n",
       "│ on Site           ┆        ┆            ┆          ┆   ┆         ┆         ┆          ┆          │\n",
       "│ Age               ┆ 1000.0 ┆ 0.0        ┆ 0.0      ┆ … ┆ 61.0    ┆ 35.0    ┆ 29.0     ┆ 42.0     │\n",
       "│ Area Income       ┆ 1000.0 ┆ 0.0        ┆ 0.0      ┆ … ┆ 79484.8 ┆ 57012.3 ┆ 47051.02 ┆ 65496.78 │\n",
       "│ Daily Internet    ┆ 1000.0 ┆ 0.0        ┆ 0.0      ┆ … ┆ 269.96  ┆ 183.13  ┆ 138.87   ┆ 218.8    │\n",
       "│ Usage             ┆        ┆            ┆          ┆   ┆         ┆         ┆          ┆          │\n",
       "│ …                 ┆ …      ┆ …          ┆ …        ┆ … ┆ …       ┆ …       ┆ …        ┆ …        │\n",
       "│ Test_Constant     ┆ 1000.0 ┆ 0.0        ┆ 0.0      ┆ … ┆ 1.0     ┆ 1.0     ┆ 1.0      ┆ 1.0      │\n",
       "│ Test_Str_Constant ┆ 1000.0 ┆ 0.0        ┆ 0.0      ┆ … ┆ SSS     ┆ null    ┆ null     ┆ null     │\n",
       "│ Test_BadColumn    ┆ 1000.0 ┆ 481.0      ┆ 0.481    ┆ … ┆ 0.0     ┆ 0.0     ┆ 0.0      ┆ 0.0      │\n",
       "│ Test_Binary       ┆ 1000.0 ┆ 0.0        ┆ 0.0      ┆ … ┆ B       ┆ null    ┆ null     ┆ null     │\n",
       "└───────────────────┴────────┴────────────┴──────────┴───┴─────────┴─────────┴──────────┴──────────┘"
      ]
     },
     "execution_count": 10,
     "metadata": {},
     "output_type": "execute_result"
    }
   ],
   "source": [
    "describe(df)"
   ]
  },
  {
   "cell_type": "code",
   "execution_count": 11,
   "metadata": {},
   "outputs": [
    {
     "name": "stdout",
     "output_type": "stream",
     "text": [
      "The following numeric columns are dropped because they have lower than 0.5 variance. ['Male', 'Test_Constant', 'Test_BadColumn']\n",
      "Removed a total of 3 columns.\n"
     ]
    }
   ],
   "source": [
    "df = var_removal(df, threshold=0.5, target=target)"
   ]
  },
  {
   "cell_type": "code",
   "execution_count": 12,
   "metadata": {},
   "outputs": [
    {
     "name": "stdout",
     "output_type": "stream",
     "text": [
      "The following columns are dropped because they are constants. ['Test_Str_Constant'].\n",
      "Removed a total of 1 columns.\n"
     ]
    }
   ],
   "source": [
    "df = constant_removal(df)"
   ]
  },
  {
   "cell_type": "code",
   "execution_count": 13,
   "metadata": {},
   "outputs": [
    {
     "name": "stdout",
     "output_type": "stream",
     "text": [
      "Transforming Test_Binary into a binary column with [0, 1] ...\n"
     ]
    }
   ],
   "source": [
    "bin_result = binary_encode(df, exclude = [target])"
   ]
  },
  {
   "cell_type": "code",
   "execution_count": 14,
   "metadata": {},
   "outputs": [
    {
     "data": {
      "text/html": [
       "<div><style>\n",
       ".dataframe > thead > tr > th,\n",
       ".dataframe > tbody > tr > td {\n",
       "  text-align: right;\n",
       "}\n",
       "</style>\n",
       "<small>shape: (5, 14)</small><table border=\"1\" class=\"dataframe\"><thead><tr><th>Daily Time Spent on Site</th><th>Age</th><th>Area Income</th><th>Daily Internet Usage</th><th>Ad Topic Line</th><th>City</th><th>Country</th><th>Timestamp</th><th>Clicked on Ad</th><th>One_Hot_Test</th><th>Age Band</th><th>Daily Internet Usage Band</th><th>Area Income Band</th><th>Test_Binary</th></tr><tr><td>f64</td><td>i64</td><td>f64</td><td>f64</td><td>str</td><td>str</td><td>str</td><td>str</td><td>i64</td><td>str</td><td>i64</td><td>f64</td><td>f64</td><td>u8</td></tr></thead><tbody><tr><td>68.95</td><td>35</td><td>61833.9</td><td>256.09</td><td>&quot;Cloned 5thgene…</td><td>&quot;Wrightburgh&quot;</td><td>&quot;Tunisia&quot;</td><td>&quot;3/27/2016 0:53…</td><td>0</td><td>&quot;A&quot;</td><td>30</td><td>12.0</td><td>12.0</td><td>0</td></tr><tr><td>80.23</td><td>31</td><td>68441.85</td><td>193.77</td><td>&quot;Monitored nati…</td><td>&quot;West Jodi&quot;</td><td>&quot;Nauru&quot;</td><td>&quot;4/4/2016 1:39&quot;</td><td>0</td><td>&quot;B&quot;</td><td>30</td><td>9.0</td><td>13.0</td><td>1</td></tr><tr><td>69.47</td><td>26</td><td>59785.94</td><td>236.5</td><td>&quot;Organic bottom…</td><td>&quot;Davidton&quot;</td><td>&quot;San Marino&quot;</td><td>&quot;3/13/2016 20:3…</td><td>0</td><td>&quot;A&quot;</td><td>20</td><td>11.0</td><td>11.0</td><td>0</td></tr><tr><td>74.15</td><td>29</td><td>54806.18</td><td>245.89</td><td>&quot;Triple-buffere…</td><td>&quot;West Terrifurt…</td><td>&quot;Italy&quot;</td><td>&quot;1/10/2016 2:31…</td><td>0</td><td>&quot;B&quot;</td><td>20</td><td>12.0</td><td>10.0</td><td>1</td></tr><tr><td>68.37</td><td>35</td><td>73889.99</td><td>225.58</td><td>&quot;Robust logisti…</td><td>&quot;South Manuel&quot;</td><td>&quot;Iceland&quot;</td><td>&quot;6/3/2016 3:36&quot;</td><td>0</td><td>&quot;A&quot;</td><td>30</td><td>11.0</td><td>14.0</td><td>0</td></tr></tbody></table></div>"
      ],
      "text/plain": [
       "shape: (5, 14)\n",
       "┌────────────┬─────┬───────────┬────────────┬───┬──────────┬────────────┬────────────┬─────────────┐\n",
       "│ Daily Time ┆ Age ┆ Area      ┆ Daily      ┆ … ┆ Age Band ┆ Daily      ┆ Area       ┆ Test_Binary │\n",
       "│ Spent on   ┆ --- ┆ Income    ┆ Internet   ┆   ┆ ---      ┆ Internet   ┆ Income     ┆ ---         │\n",
       "│ Site       ┆ i64 ┆ ---       ┆ Usage      ┆   ┆ i64      ┆ Usage Band ┆ Band       ┆ u8          │\n",
       "│ ---        ┆     ┆ f64       ┆ ---        ┆   ┆          ┆ ---        ┆ ---        ┆             │\n",
       "│ f64        ┆     ┆           ┆ f64        ┆   ┆          ┆ f64        ┆ f64        ┆             │\n",
       "╞════════════╪═════╪═══════════╪════════════╪═══╪══════════╪════════════╪════════════╪═════════════╡\n",
       "│ 68.95      ┆ 35  ┆ 61833.9   ┆ 256.09     ┆ … ┆ 30       ┆ 12.0       ┆ 12.0       ┆ 0           │\n",
       "│ 80.23      ┆ 31  ┆ 68441.85  ┆ 193.77     ┆ … ┆ 30       ┆ 9.0        ┆ 13.0       ┆ 1           │\n",
       "│ 69.47      ┆ 26  ┆ 59785.94  ┆ 236.5      ┆ … ┆ 20       ┆ 11.0       ┆ 11.0       ┆ 0           │\n",
       "│ 74.15      ┆ 29  ┆ 54806.18  ┆ 245.89     ┆ … ┆ 20       ┆ 12.0       ┆ 10.0       ┆ 1           │\n",
       "│ 68.37      ┆ 35  ┆ 73889.99  ┆ 225.58     ┆ … ┆ 30       ┆ 11.0       ┆ 14.0       ┆ 0           │\n",
       "└────────────┴─────┴───────────┴────────────┴───┴──────────┴────────────┴────────────┴─────────────┘"
      ]
     },
     "execution_count": 14,
     "metadata": {},
     "output_type": "execute_result"
    }
   ],
   "source": [
    "bin_result.transformed.head() "
   ]
  },
  {
   "cell_type": "code",
   "execution_count": 15,
   "metadata": {},
   "outputs": [
    {
     "data": {
      "text/html": [
       "<div><style>\n",
       ".dataframe > thead > tr > th,\n",
       ".dataframe > tbody > tr > td {\n",
       "  text-align: right;\n",
       "}\n",
       "</style>\n",
       "<small>shape: (1, 4)</small><table border=\"1\" class=\"dataframe\"><thead><tr><th>feature</th><th>to_0</th><th>to_1</th><th>dtype</th></tr><tr><td>str</td><td>str</td><td>str</td><td>str</td></tr></thead><tbody><tr><td>&quot;Test_Binary&quot;</td><td>&quot;A&quot;</td><td>&quot;B&quot;</td><td>&quot;string&quot;</td></tr></tbody></table></div>"
      ],
      "text/plain": [
       "shape: (1, 4)\n",
       "┌─────────────┬──────┬──────┬────────┐\n",
       "│ feature     ┆ to_0 ┆ to_1 ┆ dtype  │\n",
       "│ ---         ┆ ---  ┆ ---  ┆ ---    │\n",
       "│ str         ┆ str  ┆ str  ┆ str    │\n",
       "╞═════════════╪══════╪══════╪════════╡\n",
       "│ Test_Binary ┆ A    ┆ B    ┆ string │\n",
       "└─────────────┴──────┴──────┴────────┘"
      ]
     },
     "execution_count": 15,
     "metadata": {},
     "output_type": "execute_result"
    }
   ],
   "source": [
    "df = bin_result.transformed\n",
    "bin_result.mapping "
   ]
  },
  {
   "cell_type": "code",
   "execution_count": 16,
   "metadata": {},
   "outputs": [],
   "source": [
    "# Some of these are numerical columns, but we can still treat them as categorical columns\n",
    "# and feed them into the information gain algorithm.\n",
    "cats = [\"Age Band\", \"Country\", \"Area Income Band\", \"Daily Internet Usage Band\", \"Test_Binary\", \"One_Hot_Test\"]\n",
    "target = \"Clicked on Ad\""
   ]
  },
  {
   "cell_type": "code",
   "execution_count": 17,
   "metadata": {},
   "outputs": [
    {
     "name": "stdout",
     "output_type": "stream",
     "text": [
      "Finished processing for Age Band. Progress: 1/6\n",
      "Finished processing for Country. Progress: 2/6\n",
      "Finished processing for Area Income Band. Progress: 3/6\n",
      "Finished processing for Daily Internet Usage Band. Progress: 4/6\n",
      "Finished processing for Test_Binary. Progress: 5/6\n",
      "Finished processing for One_Hot_Test. Progress: 6/6\n"
     ]
    },
    {
     "data": {
      "text/html": [
       "<div><style>\n",
       ".dataframe > thead > tr > th,\n",
       ".dataframe > tbody > tr > td {\n",
       "  text-align: right;\n",
       "}\n",
       "</style>\n",
       "<small>shape: (6, 6)</small><table border=\"1\" class=\"dataframe\"><thead><tr><th>feature</th><th>target_entropy</th><th>conditional_entropy</th><th>unique_pct</th><th>information_gain</th><th>weighted_information_gain</th></tr><tr><td>str</td><td>f64</td><td>f64</td><td>f64</td><td>f64</td><td>f64</td></tr></thead><tbody><tr><td>&quot;Daily Internet…</td><td>0.693147</td><td>0.263754</td><td>0.009</td><td>0.429394</td><td>0.425529</td></tr><tr><td>&quot;Area Income Ba…</td><td>0.693147</td><td>0.551848</td><td>0.014</td><td>0.141299</td><td>0.139321</td></tr><tr><td>&quot;Country&quot;</td><td>0.693147</td><td>0.558555</td><td>0.237</td><td>0.134592</td><td>0.102694</td></tr><tr><td>&quot;Age Band&quot;</td><td>0.693147</td><td>0.569156</td><td>0.006</td><td>0.123991</td><td>0.123247</td></tr><tr><td>&quot;One_Hot_Test&quot;</td><td>0.693147</td><td>0.692173</td><td>0.003</td><td>0.000975</td><td>0.000972</td></tr><tr><td>&quot;Test_Binary&quot;</td><td>0.693147</td><td>0.692424</td><td>0.002</td><td>0.000723</td><td>0.000722</td></tr></tbody></table></div>"
      ],
      "text/plain": [
       "shape: (6, 6)\n",
       "┌─────────────────┬────────────────┬────────────────┬────────────┬────────────────┬────────────────┐\n",
       "│ feature         ┆ target_entropy ┆ conditional_en ┆ unique_pct ┆ information_ga ┆ weighted_infor │\n",
       "│ ---             ┆ ---            ┆ tropy          ┆ ---        ┆ in             ┆ mation_gain    │\n",
       "│ str             ┆ f64            ┆ ---            ┆ f64        ┆ ---            ┆ ---            │\n",
       "│                 ┆                ┆ f64            ┆            ┆ f64            ┆ f64            │\n",
       "╞═════════════════╪════════════════╪════════════════╪════════════╪════════════════╪════════════════╡\n",
       "│ Daily Internet  ┆ 0.693147       ┆ 0.263754       ┆ 0.009      ┆ 0.429394       ┆ 0.425529       │\n",
       "│ Usage Band      ┆                ┆                ┆            ┆                ┆                │\n",
       "│ Area Income     ┆ 0.693147       ┆ 0.551848       ┆ 0.014      ┆ 0.141299       ┆ 0.139321       │\n",
       "│ Band            ┆                ┆                ┆            ┆                ┆                │\n",
       "│ Country         ┆ 0.693147       ┆ 0.558555       ┆ 0.237      ┆ 0.134592       ┆ 0.102694       │\n",
       "│ Age Band        ┆ 0.693147       ┆ 0.569156       ┆ 0.006      ┆ 0.123991       ┆ 0.123247       │\n",
       "│ One_Hot_Test    ┆ 0.693147       ┆ 0.692173       ┆ 0.003      ┆ 0.000975       ┆ 0.000972       │\n",
       "│ Test_Binary     ┆ 0.693147       ┆ 0.692424       ┆ 0.002      ┆ 0.000723       ┆ 0.000722       │\n",
       "└─────────────────┴────────────────┴────────────────┴────────────┴────────────────┴────────────────┘"
      ]
     },
     "execution_count": 17,
     "metadata": {},
     "output_type": "execute_result"
    }
   ],
   "source": [
    "information_gain(df, target, cat_cols=cats)"
   ]
  },
  {
   "cell_type": "code",
   "execution_count": 18,
   "metadata": {},
   "outputs": [
    {
     "name": "stdout",
     "output_type": "stream",
     "text": [
      "Finished processing for Ad Topic Line. Progress: 1/5\n",
      "Finished processing for City. Progress: 2/5\n",
      "Finished processing for Country. Progress: 3/5\n",
      "Finished processing for Timestamp. Progress: 4/5\n",
      "Finished processing for One_Hot_Test. Progress: 5/5\n"
     ]
    },
    {
     "data": {
      "text/html": [
       "<div><style>\n",
       ".dataframe > thead > tr > th,\n",
       ".dataframe > tbody > tr > td {\n",
       "  text-align: right;\n",
       "}\n",
       "</style>\n",
       "<small>shape: (5, 6)</small><table border=\"1\" class=\"dataframe\"><thead><tr><th>feature</th><th>target_entropy</th><th>conditional_entropy</th><th>unique_pct</th><th>information_gain</th><th>weighted_information_gain</th></tr><tr><td>str</td><td>f64</td><td>f64</td><td>f64</td><td>f64</td><td>f64</td></tr></thead><tbody><tr><td>&quot;Ad Topic Line&quot;</td><td>0.693147</td><td>0.0</td><td>1.0</td><td>0.693147</td><td>0.0</td></tr><tr><td>&quot;Timestamp&quot;</td><td>0.693147</td><td>0.001386</td><td>0.997</td><td>0.691761</td><td>0.002075</td></tr><tr><td>&quot;City&quot;</td><td>0.693147</td><td>0.017682</td><td>0.969</td><td>0.675465</td><td>0.020939</td></tr><tr><td>&quot;Country&quot;</td><td>0.693147</td><td>0.558555</td><td>0.237</td><td>0.134592</td><td>0.102694</td></tr><tr><td>&quot;One_Hot_Test&quot;</td><td>0.693147</td><td>0.692173</td><td>0.003</td><td>0.000975</td><td>0.000972</td></tr></tbody></table></div>"
      ],
      "text/plain": [
       "shape: (5, 6)\n",
       "┌───────────────┬────────────────┬─────────────────┬────────────┬─────────────────┬────────────────┐\n",
       "│ feature       ┆ target_entropy ┆ conditional_ent ┆ unique_pct ┆ information_gai ┆ weighted_infor │\n",
       "│ ---           ┆ ---            ┆ ropy            ┆ ---        ┆ n               ┆ mation_gain    │\n",
       "│ str           ┆ f64            ┆ ---             ┆ f64        ┆ ---             ┆ ---            │\n",
       "│               ┆                ┆ f64             ┆            ┆ f64             ┆ f64            │\n",
       "╞═══════════════╪════════════════╪═════════════════╪════════════╪═════════════════╪════════════════╡\n",
       "│ Ad Topic Line ┆ 0.693147       ┆ 0.0             ┆ 1.0        ┆ 0.693147        ┆ 0.0            │\n",
       "│ Timestamp     ┆ 0.693147       ┆ 0.001386        ┆ 0.997      ┆ 0.691761        ┆ 0.002075       │\n",
       "│ City          ┆ 0.693147       ┆ 0.017682        ┆ 0.969      ┆ 0.675465        ┆ 0.020939       │\n",
       "│ Country       ┆ 0.693147       ┆ 0.558555        ┆ 0.237      ┆ 0.134592        ┆ 0.102694       │\n",
       "│ One_Hot_Test  ┆ 0.693147       ┆ 0.692173        ┆ 0.003      ┆ 0.000975        ┆ 0.000972       │\n",
       "└───────────────┴────────────────┴─────────────────┴────────────┴─────────────────┴────────────────┘"
      ]
     },
     "execution_count": 18,
     "metadata": {},
     "output_type": "execute_result"
    }
   ],
   "source": [
    "# If nothing is given, automatically infers string columns as categorical columns.\n",
    "information_gain(df, target)"
   ]
  },
  {
   "cell_type": "code",
   "execution_count": 19,
   "metadata": {},
   "outputs": [],
   "source": [
    "# df[\"Ad Topic Line\"].unique() # has 1000 uniques. \n",
    "# There is no randomness at all because we can say that there are two distinct subsets that perfects differentiates 0s from 1s"
   ]
  },
  {
   "cell_type": "code",
   "execution_count": 20,
   "metadata": {},
   "outputs": [
    {
     "data": {
      "text/html": [
       "<div><style>\n",
       ".dataframe > thead > tr > th,\n",
       ".dataframe > tbody > tr > td {\n",
       "  text-align: right;\n",
       "}\n",
       "</style>\n",
       "<small>shape: (8, 3)</small><table border=\"1\" class=\"dataframe\"><thead><tr><th>feature</th><th>f_value</th><th>p_value</th></tr><tr><td>str</td><td>f64</td><td>f64</td></tr></thead><tbody><tr><td>&quot;Daily Time Spe…</td><td>1268.525161</td><td>5.8774e-180</td></tr><tr><td>&quot;Age&quot;</td><td>319.643165</td><td>3.1298e-62</td></tr><tr><td>&quot;Area Income&quot;</td><td>292.770617</td><td>9.4496e-58</td></tr><tr><td>&quot;Daily Internet…</td><td>1618.976456</td><td>3.8932e-211</td></tr><tr><td>&quot;Age Band&quot;</td><td>269.875798</td><td>7.3704e-54</td></tr><tr><td>&quot;Daily Internet…</td><td>1587.381637</td><td>1.6759e-208</td></tr><tr><td>&quot;Area Income Ba…</td><td>289.515369</td><td>3.3458e-57</td></tr><tr><td>&quot;Test_Binary&quot;</td><td>1.445286</td><td>0.229571</td></tr></tbody></table></div>"
      ],
      "text/plain": [
       "shape: (8, 3)\n",
       "┌───────────────────────────┬─────────────┬─────────────┐\n",
       "│ feature                   ┆ f_value     ┆ p_value     │\n",
       "│ ---                       ┆ ---         ┆ ---         │\n",
       "│ str                       ┆ f64         ┆ f64         │\n",
       "╞═══════════════════════════╪═════════════╪═════════════╡\n",
       "│ Daily Time Spent on Site  ┆ 1268.525161 ┆ 5.8774e-180 │\n",
       "│ Age                       ┆ 319.643165  ┆ 3.1298e-62  │\n",
       "│ Area Income               ┆ 292.770617  ┆ 9.4496e-58  │\n",
       "│ Daily Internet Usage      ┆ 1618.976456 ┆ 3.8932e-211 │\n",
       "│ Age Band                  ┆ 269.875798  ┆ 7.3704e-54  │\n",
       "│ Daily Internet Usage Band ┆ 1587.381637 ┆ 1.6759e-208 │\n",
       "│ Area Income Band          ┆ 289.515369  ┆ 3.3458e-57  │\n",
       "│ Test_Binary               ┆ 1.445286    ┆ 0.229571    │\n",
       "└───────────────────────────┴─────────────┴─────────────┘"
      ]
     },
     "execution_count": 20,
     "metadata": {},
     "output_type": "execute_result"
    }
   ],
   "source": [
    "f_classification(df, target=target)"
   ]
  },
  {
   "cell_type": "code",
   "execution_count": 21,
   "metadata": {},
   "outputs": [
    {
     "data": {
      "text/plain": [
       "['Daily Time Spent on Site',\n",
       " 'Age',\n",
       " 'Area Income',\n",
       " 'Daily Internet Usage',\n",
       " 'Age Band',\n",
       " 'Daily Internet Usage Band',\n",
       " 'Area Income Band',\n",
       " 'Test_Binary']"
      ]
     },
     "execution_count": 21,
     "metadata": {},
     "output_type": "execute_result"
    }
   ],
   "source": [
    "nums = get_numeric_cols(df, exclude=[target])\n",
    "nums  "
   ]
  },
  {
   "cell_type": "code",
   "execution_count": 22,
   "metadata": {},
   "outputs": [
    {
     "data": {
      "text/html": [
       "<div><style>\n",
       ".dataframe > thead > tr > th,\n",
       ".dataframe > tbody > tr > td {\n",
       "  text-align: right;\n",
       "}\n",
       "</style>\n",
       "<small>shape: (8, 3)</small><table border=\"1\" class=\"dataframe\"><thead><tr><th>feature</th><th>f_value</th><th>p_value</th></tr><tr><td>str</td><td>f64</td><td>f64</td></tr></thead><tbody><tr><td>&quot;Daily Time Spe…</td><td>1268.525161</td><td>5.8774e-180</td></tr><tr><td>&quot;Age&quot;</td><td>319.643165</td><td>3.1298e-62</td></tr><tr><td>&quot;Area Income&quot;</td><td>292.770617</td><td>9.4496e-58</td></tr><tr><td>&quot;Daily Internet…</td><td>1618.976456</td><td>3.8932e-211</td></tr><tr><td>&quot;Age Band&quot;</td><td>269.875798</td><td>7.3704e-54</td></tr><tr><td>&quot;Daily Internet…</td><td>1587.381637</td><td>1.6759e-208</td></tr><tr><td>&quot;Area Income Ba…</td><td>289.515369</td><td>3.3458e-57</td></tr><tr><td>&quot;Test_Binary&quot;</td><td>1.445286</td><td>0.229571</td></tr></tbody></table></div>"
      ],
      "text/plain": [
       "shape: (8, 3)\n",
       "┌───────────────────────────┬─────────────┬─────────────┐\n",
       "│ feature                   ┆ f_value     ┆ p_value     │\n",
       "│ ---                       ┆ ---         ┆ ---         │\n",
       "│ str                       ┆ f64         ┆ f64         │\n",
       "╞═══════════════════════════╪═════════════╪═════════════╡\n",
       "│ Daily Time Spent on Site  ┆ 1268.525161 ┆ 5.8774e-180 │\n",
       "│ Age                       ┆ 319.643165  ┆ 3.1298e-62  │\n",
       "│ Area Income               ┆ 292.770617  ┆ 9.4496e-58  │\n",
       "│ Daily Internet Usage      ┆ 1618.976456 ┆ 3.8932e-211 │\n",
       "│ Age Band                  ┆ 269.875798  ┆ 7.3704e-54  │\n",
       "│ Daily Internet Usage Band ┆ 1587.381637 ┆ 1.6759e-208 │\n",
       "│ Area Income Band          ┆ 289.515369  ┆ 3.3458e-57  │\n",
       "│ Test_Binary               ┆ 1.445286    ┆ 0.229571    │\n",
       "└───────────────────────────┴─────────────┴─────────────┘"
      ]
     },
     "execution_count": 22,
     "metadata": {},
     "output_type": "execute_result"
    }
   ],
   "source": [
    "from sklearn.feature_selection import f_classif\n",
    " \n",
    "f, pv = f_classif(df[nums], df[target])\n",
    "pl.from_records([nums, f, pv], schema=[\"feature\", \"f_value\", \"p_value\"])"
   ]
  },
  {
   "cell_type": "code",
   "execution_count": 23,
   "metadata": {},
   "outputs": [
    {
     "data": {
      "text/html": [
       "<div><style>\n",
       ".dataframe > thead > tr > th,\n",
       ".dataframe > tbody > tr > td {\n",
       "  text-align: right;\n",
       "}\n",
       "</style>\n",
       "<small>shape: (8, 3)</small><table border=\"1\" class=\"dataframe\"><thead><tr><th>feature</th><th>f_value</th><th>p_value</th></tr><tr><td>str</td><td>f64</td><td>f64</td></tr></thead><tbody><tr><td>&quot;Daily Time Spe…</td><td>1268.525161</td><td>5.8774e-180</td></tr><tr><td>&quot;Age&quot;</td><td>319.643165</td><td>3.1298e-62</td></tr><tr><td>&quot;Area Income&quot;</td><td>292.770617</td><td>9.4496e-58</td></tr><tr><td>&quot;Daily Internet…</td><td>1618.976456</td><td>3.8932e-211</td></tr><tr><td>&quot;Age Band&quot;</td><td>269.875798</td><td>7.3704e-54</td></tr><tr><td>&quot;Daily Internet…</td><td>1587.381637</td><td>1.6759e-208</td></tr><tr><td>&quot;Area Income Ba…</td><td>289.515369</td><td>3.3458e-57</td></tr><tr><td>&quot;Test_Binary&quot;</td><td>1.445286</td><td>0.229571</td></tr></tbody></table></div>"
      ],
      "text/plain": [
       "shape: (8, 3)\n",
       "┌───────────────────────────┬─────────────┬─────────────┐\n",
       "│ feature                   ┆ f_value     ┆ p_value     │\n",
       "│ ---                       ┆ ---         ┆ ---         │\n",
       "│ str                       ┆ f64         ┆ f64         │\n",
       "╞═══════════════════════════╪═════════════╪═════════════╡\n",
       "│ Daily Time Spent on Site  ┆ 1268.525161 ┆ 5.8774e-180 │\n",
       "│ Age                       ┆ 319.643165  ┆ 3.1298e-62  │\n",
       "│ Area Income               ┆ 292.770617  ┆ 9.4496e-58  │\n",
       "│ Daily Internet Usage      ┆ 1618.976456 ┆ 3.8932e-211 │\n",
       "│ Age Band                  ┆ 269.875798  ┆ 7.3704e-54  │\n",
       "│ Daily Internet Usage Band ┆ 1587.381637 ┆ 1.6759e-208 │\n",
       "│ Area Income Band          ┆ 289.515369  ┆ 3.3458e-57  │\n",
       "│ Test_Binary               ┆ 1.445286    ┆ 0.229571    │\n",
       "└───────────────────────────┴─────────────┴─────────────┘"
      ]
     },
     "execution_count": 23,
     "metadata": {},
     "output_type": "execute_result"
    }
   ],
   "source": [
    "from sklearn.feature_selection import f_regression\n",
    "\n",
    "result = f_regression(df[nums].to_numpy(), df[target].to_numpy())\n",
    "pl.from_records([nums, result[0], result[1]], schema=[\"feature\", \"f_value\", \"p_value\"])"
   ]
  },
  {
   "cell_type": "code",
   "execution_count": 24,
   "metadata": {},
   "outputs": [
    {
     "data": {
      "text/plain": [
       "(500000, 14)"
      ]
     },
     "execution_count": 24,
     "metadata": {},
     "output_type": "execute_result"
    }
   ],
   "source": [
    "df_test = pl.concat([df.clone()] * 500)\n",
    "df_test.shape"
   ]
  },
  {
   "cell_type": "code",
   "execution_count": 25,
   "metadata": {},
   "outputs": [
    {
     "name": "stdout",
     "output_type": "stream",
     "text": [
      "6.55 ms ± 260 µs per loop (mean ± std. dev. of 7 runs, 100 loops each)\n"
     ]
    }
   ],
   "source": [
    "%%timeit \n",
    "f_classification(df_test, target=\"Clicked on Ad\", num_cols=nums)"
   ]
  },
  {
   "cell_type": "code",
   "execution_count": 26,
   "metadata": {},
   "outputs": [
    {
     "name": "stdout",
     "output_type": "stream",
     "text": [
      "57.6 ms ± 962 µs per loop (mean ± std. dev. of 7 runs, 10 loops each)\n"
     ]
    }
   ],
   "source": [
    "%%timeit \n",
    "f, pv = f_classif(df_test[nums].to_numpy(), df_test[target].to_numpy())\n",
    "pl.from_records([nums, f, pv], schema=[\"feature\", \"f_value\", \"p_value\"])"
   ]
  },
  {
   "cell_type": "code",
   "execution_count": 27,
   "metadata": {},
   "outputs": [
    {
     "name": "stdout",
     "output_type": "stream",
     "text": [
      "19 ms ± 1.02 ms per loop (mean ± std. dev. of 7 runs, 100 loops each)\n"
     ]
    }
   ],
   "source": [
    "%%timeit\n",
    "result = f_regression(df_test[nums].to_numpy(), df_test[target].to_numpy())\n",
    "pl.from_records([nums, result[0], result[1]], schema=[\"feature\", \"f_value\", \"p_value\"])"
   ]
  },
  {
   "cell_type": "code",
   "execution_count": 28,
   "metadata": {},
   "outputs": [],
   "source": [
    "del df_test "
   ]
  },
  {
   "cell_type": "code",
   "execution_count": 29,
   "metadata": {},
   "outputs": [
    {
     "name": "stdout",
     "output_type": "stream",
     "text": [
      "Feature importance (by strategy MRMR_STRATEGY.F_SCORE) for each feature is:\n",
      "[('Daily Time Spent on Site', 1268.525160906559), ('Age', 319.6431651611977), ('Area Income', 292.7706167234066), ('Daily Internet Usage', 1618.9764559901303), ('Age Band', 269.8757975134233), ('Daily Internet Usage Band', 1587.3816374117), ('Area Income Band', 289.5153685950107), ('Test_Binary', 1.4452859859273572)]\n",
      "Found 1st feature: Daily Internet Usage. 1/5\n",
      "Found 2th feature: Daily Time Spent on Site. 2/5\n",
      "Found 3th feature: Daily Internet Usage Band. 3/5\n",
      "Found 4th feature: Area Income. 4/5\n",
      "Found 5th feature: Age. 5/5\n"
     ]
    },
    {
     "data": {
      "text/html": [
       "<div><style>\n",
       ".dataframe > thead > tr > th,\n",
       ".dataframe > tbody > tr > td {\n",
       "  text-align: right;\n",
       "}\n",
       "</style>\n",
       "<small>shape: (5, 2)</small><table border=\"1\" class=\"dataframe\"><thead><tr><th>mrmr_rank</th><th>feature</th></tr><tr><td>i64</td><td>str</td></tr></thead><tbody><tr><td>1</td><td>&quot;Daily Internet…</td></tr><tr><td>2</td><td>&quot;Daily Time Spe…</td></tr><tr><td>3</td><td>&quot;Daily Internet…</td></tr><tr><td>4</td><td>&quot;Area Income&quot;</td></tr><tr><td>5</td><td>&quot;Age&quot;</td></tr></tbody></table></div>"
      ],
      "text/plain": [
       "shape: (5, 2)\n",
       "┌───────────┬───────────────────────────┐\n",
       "│ mrmr_rank ┆ feature                   │\n",
       "│ ---       ┆ ---                       │\n",
       "│ i64       ┆ str                       │\n",
       "╞═══════════╪═══════════════════════════╡\n",
       "│ 1         ┆ Daily Internet Usage      │\n",
       "│ 2         ┆ Daily Time Spent on Site  │\n",
       "│ 3         ┆ Daily Internet Usage Band │\n",
       "│ 4         ┆ Area Income               │\n",
       "│ 5         ┆ Age                       │\n",
       "└───────────┴───────────────────────────┘"
      ]
     },
     "execution_count": 29,
     "metadata": {},
     "output_type": "execute_result"
    }
   ],
   "source": [
    "mrmr(df, target, 5)"
   ]
  },
  {
   "cell_type": "code",
   "execution_count": 30,
   "metadata": {},
   "outputs": [],
   "source": [
    "pct_result = percentile_binning(df, num_cols=nums, exclude=[target])"
   ]
  },
  {
   "cell_type": "code",
   "execution_count": 31,
   "metadata": {},
   "outputs": [
    {
     "data": {
      "text/html": [
       "<div><style>\n",
       ".dataframe > thead > tr > th,\n",
       ".dataframe > tbody > tr > td {\n",
       "  text-align: right;\n",
       "}\n",
       "</style>\n",
       "<small>shape: (5, 14)</small><table border=\"1\" class=\"dataframe\"><thead><tr><th>Daily Time Spent on Site_percentile</th><th>Age_percentile</th><th>Area Income_percentile</th><th>Daily Internet Usage_percentile</th><th>Ad Topic Line</th><th>City</th><th>Country</th><th>Timestamp</th><th>Clicked on Ad</th><th>One_Hot_Test</th><th>Age Band_percentile</th><th>Daily Internet Usage Band_percentile</th><th>Area Income Band_percentile</th><th>Test_Binary_percentile</th></tr><tr><td>u8</td><td>u8</td><td>u8</td><td>u8</td><td>str</td><td>str</td><td>str</td><td>str</td><td>i64</td><td>str</td><td>u8</td><td>u8</td><td>u8</td><td>u8</td></tr></thead><tbody><tr><td>52</td><td>53</td><td>65</td><td>99</td><td>&quot;Cloned 5thgene…</td><td>&quot;Wrightburgh&quot;</td><td>&quot;Tunisia&quot;</td><td>&quot;3/27/2016 0:53…</td><td>0</td><td>&quot;A&quot;</td><td>68</td><td>100</td><td>74</td><td>52</td></tr><tr><td>81</td><td>37</td><td>86</td><td>56</td><td>&quot;Monitored nati…</td><td>&quot;West Jodi&quot;</td><td>&quot;Nauru&quot;</td><td>&quot;4/4/2016 1:39&quot;</td><td>0</td><td>&quot;B&quot;</td><td>68</td><td>61</td><td>89</td><td>100</td></tr><tr><td>53</td><td>14</td><td>58</td><td>91</td><td>&quot;Organic bottom…</td><td>&quot;Davidton&quot;</td><td>&quot;San Marino&quot;</td><td>&quot;3/13/2016 20:3…</td><td>0</td><td>&quot;A&quot;</td><td>27</td><td>93</td><td>58</td><td>52</td></tr><tr><td>63</td><td>27</td><td>44</td><td>95</td><td>&quot;Triple-buffere…</td><td>&quot;West Terrifurt…</td><td>&quot;Italy&quot;</td><td>&quot;1/10/2016 2:31…</td><td>0</td><td>&quot;B&quot;</td><td>27</td><td>100</td><td>45</td><td>100</td></tr><tr><td>51</td><td>53</td><td>96</td><td>82</td><td>&quot;Robust logisti…</td><td>&quot;South Manuel&quot;</td><td>&quot;Iceland&quot;</td><td>&quot;6/3/2016 3:36&quot;</td><td>0</td><td>&quot;A&quot;</td><td>68</td><td>93</td><td>97</td><td>52</td></tr></tbody></table></div>"
      ],
      "text/plain": [
       "shape: (5, 14)\n",
       "┌────────────┬────────────┬────────────┬────────────┬───┬────────────┬────────────┬────────────┬────────────┐\n",
       "│ Daily Time ┆ Age_percen ┆ Area Incom ┆ Daily      ┆ … ┆ Age Band_p ┆ Daily      ┆ Area       ┆ Test_Binar │\n",
       "│ Spent on   ┆ tile       ┆ e_percenti ┆ Internet   ┆   ┆ ercentile  ┆ Internet   ┆ Income Ban ┆ y_percenti │\n",
       "│ Site_perce ┆ ---        ┆ le         ┆ Usage_perc ┆   ┆ ---        ┆ Usage Band ┆ d_percenti ┆ le         │\n",
       "│ nt…        ┆ u8         ┆ ---        ┆ entile     ┆   ┆ u8         ┆ _percen…   ┆ le         ┆ ---        │\n",
       "│ ---        ┆            ┆ u8         ┆ ---        ┆   ┆            ┆ ---        ┆ ---        ┆ u8         │\n",
       "│ u8         ┆            ┆            ┆ u8         ┆   ┆            ┆ u8         ┆ u8         ┆            │\n",
       "╞════════════╪════════════╪════════════╪════════════╪═══╪════════════╪════════════╪════════════╪════════════╡\n",
       "│ 52         ┆ 53         ┆ 65         ┆ 99         ┆ … ┆ 68         ┆ 100        ┆ 74         ┆ 52         │\n",
       "│ 81         ┆ 37         ┆ 86         ┆ 56         ┆ … ┆ 68         ┆ 61         ┆ 89         ┆ 100        │\n",
       "│ 53         ┆ 14         ┆ 58         ┆ 91         ┆ … ┆ 27         ┆ 93         ┆ 58         ┆ 52         │\n",
       "│ 63         ┆ 27         ┆ 44         ┆ 95         ┆ … ┆ 27         ┆ 100        ┆ 45         ┆ 100        │\n",
       "│ 51         ┆ 53         ┆ 96         ┆ 82         ┆ … ┆ 68         ┆ 93         ┆ 97         ┆ 52         │\n",
       "└────────────┴────────────┴────────────┴────────────┴───┴────────────┴────────────┴────────────┴────────────┘"
      ]
     },
     "execution_count": 31,
     "metadata": {},
     "output_type": "execute_result"
    }
   ],
   "source": [
    "pct_result.transformed.head() "
   ]
  },
  {
   "cell_type": "code",
   "execution_count": 32,
   "metadata": {},
   "outputs": [
    {
     "data": {
      "text/html": [
       "<div><style>\n",
       ".dataframe > thead > tr > th,\n",
       ".dataframe > tbody > tr > td {\n",
       "  text-align: right;\n",
       "}\n",
       "</style>\n",
       "<small>shape: (37, 5)</small><table border=\"1\" class=\"dataframe\"><thead><tr><th>feature</th><th>percentile</th><th>min</th><th>max</th><th>cnt</th></tr><tr><td>str</td><td>u8</td><td>f32</td><td>f32</td><td>u32</td></tr></thead><tbody><tr><td>&quot;Age&quot;</td><td>1</td><td>19.0</td><td>19.0</td><td>6</td></tr><tr><td>&quot;Age&quot;</td><td>2</td><td>20.0</td><td>21.0</td><td>12</td></tr><tr><td>&quot;Age&quot;</td><td>4</td><td>22.0</td><td>22.0</td><td>13</td></tr><tr><td>&quot;Age&quot;</td><td>5</td><td>23.0</td><td>23.0</td><td>19</td></tr><tr><td>&quot;Age&quot;</td><td>8</td><td>24.0</td><td>24.0</td><td>21</td></tr><tr><td>&quot;Age&quot;</td><td>10</td><td>25.0</td><td>25.0</td><td>27</td></tr><tr><td>&quot;Age&quot;</td><td>14</td><td>26.0</td><td>26.0</td><td>37</td></tr><tr><td>&quot;Age&quot;</td><td>17</td><td>27.0</td><td>27.0</td><td>33</td></tr><tr><td>&quot;Age&quot;</td><td>22</td><td>28.0</td><td>28.0</td><td>48</td></tr><tr><td>&quot;Age&quot;</td><td>27</td><td>29.0</td><td>29.0</td><td>48</td></tr><tr><td>&quot;Age&quot;</td><td>31</td><td>30.0</td><td>30.0</td><td>39</td></tr><tr><td>&quot;Age&quot;</td><td>37</td><td>31.0</td><td>31.0</td><td>60</td></tr><tr><td>&hellip;</td><td>&hellip;</td><td>&hellip;</td><td>&hellip;</td><td>&hellip;</td></tr><tr><td>&quot;Age&quot;</td><td>85</td><td>45.0</td><td>45.0</td><td>30</td></tr><tr><td>&quot;Age&quot;</td><td>87</td><td>46.0</td><td>46.0</td><td>18</td></tr><tr><td>&quot;Age&quot;</td><td>88</td><td>47.0</td><td>47.0</td><td>13</td></tr><tr><td>&quot;Age&quot;</td><td>89</td><td>48.0</td><td>48.0</td><td>16</td></tr><tr><td>&quot;Age&quot;</td><td>91</td><td>49.0</td><td>49.0</td><td>18</td></tr><tr><td>&quot;Age&quot;</td><td>93</td><td>50.0</td><td>50.0</td><td>20</td></tr><tr><td>&quot;Age&quot;</td><td>94</td><td>51.0</td><td>51.0</td><td>12</td></tr><tr><td>&quot;Age&quot;</td><td>96</td><td>52.0</td><td>52.0</td><td>15</td></tr><tr><td>&quot;Age&quot;</td><td>97</td><td>53.0</td><td>53.0</td><td>10</td></tr><tr><td>&quot;Age&quot;</td><td>98</td><td>54.0</td><td>54.0</td><td>9</td></tr><tr><td>&quot;Age&quot;</td><td>99</td><td>55.0</td><td>57.0</td><td>15</td></tr><tr><td>&quot;Age&quot;</td><td>100</td><td>58.0</td><td>61.0</td><td>11</td></tr></tbody></table></div>"
      ],
      "text/plain": [
       "shape: (37, 5)\n",
       "┌─────────┬────────────┬──────┬──────┬─────┐\n",
       "│ feature ┆ percentile ┆ min  ┆ max  ┆ cnt │\n",
       "│ ---     ┆ ---        ┆ ---  ┆ ---  ┆ --- │\n",
       "│ str     ┆ u8         ┆ f32  ┆ f32  ┆ u32 │\n",
       "╞═════════╪════════════╪══════╪══════╪═════╡\n",
       "│ Age     ┆ 1          ┆ 19.0 ┆ 19.0 ┆ 6   │\n",
       "│ Age     ┆ 2          ┆ 20.0 ┆ 21.0 ┆ 12  │\n",
       "│ Age     ┆ 4          ┆ 22.0 ┆ 22.0 ┆ 13  │\n",
       "│ Age     ┆ 5          ┆ 23.0 ┆ 23.0 ┆ 19  │\n",
       "│ …       ┆ …          ┆ …    ┆ …    ┆ …   │\n",
       "│ Age     ┆ 97         ┆ 53.0 ┆ 53.0 ┆ 10  │\n",
       "│ Age     ┆ 98         ┆ 54.0 ┆ 54.0 ┆ 9   │\n",
       "│ Age     ┆ 99         ┆ 55.0 ┆ 57.0 ┆ 15  │\n",
       "│ Age     ┆ 100        ┆ 58.0 ┆ 61.0 ┆ 11  │\n",
       "└─────────┴────────────┴──────┴──────┴─────┘"
      ]
     },
     "execution_count": 32,
     "metadata": {},
     "output_type": "execute_result"
    }
   ],
   "source": [
    "df = pct_result.transformed\n",
    "pct_result.mapping.filter(pl.col(\"feature\") == \"Age\")"
   ]
  },
  {
   "cell_type": "code",
   "execution_count": 33,
   "metadata": {},
   "outputs": [],
   "source": [
    "one_hot_res = one_hot_encode(df, one_hot_columns=[\"One_Hot_Test\"])"
   ]
  },
  {
   "cell_type": "code",
   "execution_count": 34,
   "metadata": {},
   "outputs": [
    {
     "data": {
      "text/html": [
       "<div><style>\n",
       ".dataframe > thead > tr > th,\n",
       ".dataframe > tbody > tr > td {\n",
       "  text-align: right;\n",
       "}\n",
       "</style>\n",
       "<small>shape: (5, 16)</small><table border=\"1\" class=\"dataframe\"><thead><tr><th>Daily Time Spent on Site_percentile</th><th>Age_percentile</th><th>Area Income_percentile</th><th>Daily Internet Usage_percentile</th><th>Ad Topic Line</th><th>City</th><th>Country</th><th>Timestamp</th><th>Clicked on Ad</th><th>One_Hot_Test_A</th><th>One_Hot_Test_B</th><th>One_Hot_Test_C</th><th>Age Band_percentile</th><th>Daily Internet Usage Band_percentile</th><th>Area Income Band_percentile</th><th>Test_Binary_percentile</th></tr><tr><td>u8</td><td>u8</td><td>u8</td><td>u8</td><td>str</td><td>str</td><td>str</td><td>str</td><td>i64</td><td>u8</td><td>u8</td><td>u8</td><td>u8</td><td>u8</td><td>u8</td><td>u8</td></tr></thead><tbody><tr><td>52</td><td>53</td><td>65</td><td>99</td><td>&quot;Cloned 5thgene…</td><td>&quot;Wrightburgh&quot;</td><td>&quot;Tunisia&quot;</td><td>&quot;3/27/2016 0:53…</td><td>0</td><td>1</td><td>0</td><td>0</td><td>68</td><td>100</td><td>74</td><td>52</td></tr><tr><td>81</td><td>37</td><td>86</td><td>56</td><td>&quot;Monitored nati…</td><td>&quot;West Jodi&quot;</td><td>&quot;Nauru&quot;</td><td>&quot;4/4/2016 1:39&quot;</td><td>0</td><td>0</td><td>1</td><td>0</td><td>68</td><td>61</td><td>89</td><td>100</td></tr><tr><td>53</td><td>14</td><td>58</td><td>91</td><td>&quot;Organic bottom…</td><td>&quot;Davidton&quot;</td><td>&quot;San Marino&quot;</td><td>&quot;3/13/2016 20:3…</td><td>0</td><td>1</td><td>0</td><td>0</td><td>27</td><td>93</td><td>58</td><td>52</td></tr><tr><td>63</td><td>27</td><td>44</td><td>95</td><td>&quot;Triple-buffere…</td><td>&quot;West Terrifurt…</td><td>&quot;Italy&quot;</td><td>&quot;1/10/2016 2:31…</td><td>0</td><td>0</td><td>1</td><td>0</td><td>27</td><td>100</td><td>45</td><td>100</td></tr><tr><td>51</td><td>53</td><td>96</td><td>82</td><td>&quot;Robust logisti…</td><td>&quot;South Manuel&quot;</td><td>&quot;Iceland&quot;</td><td>&quot;6/3/2016 3:36&quot;</td><td>0</td><td>1</td><td>0</td><td>0</td><td>68</td><td>93</td><td>97</td><td>52</td></tr></tbody></table></div>"
      ],
      "text/plain": [
       "shape: (5, 16)\n",
       "┌────────────┬────────────┬────────────┬────────────┬───┬────────────┬────────────┬────────────┬────────────┐\n",
       "│ Daily Time ┆ Age_percen ┆ Area Incom ┆ Daily      ┆ … ┆ Age Band_p ┆ Daily      ┆ Area       ┆ Test_Binar │\n",
       "│ Spent on   ┆ tile       ┆ e_percenti ┆ Internet   ┆   ┆ ercentile  ┆ Internet   ┆ Income Ban ┆ y_percenti │\n",
       "│ Site_perce ┆ ---        ┆ le         ┆ Usage_perc ┆   ┆ ---        ┆ Usage Band ┆ d_percenti ┆ le         │\n",
       "│ nt…        ┆ u8         ┆ ---        ┆ entile     ┆   ┆ u8         ┆ _percen…   ┆ le         ┆ ---        │\n",
       "│ ---        ┆            ┆ u8         ┆ ---        ┆   ┆            ┆ ---        ┆ ---        ┆ u8         │\n",
       "│ u8         ┆            ┆            ┆ u8         ┆   ┆            ┆ u8         ┆ u8         ┆            │\n",
       "╞════════════╪════════════╪════════════╪════════════╪═══╪════════════╪════════════╪════════════╪════════════╡\n",
       "│ 52         ┆ 53         ┆ 65         ┆ 99         ┆ … ┆ 68         ┆ 100        ┆ 74         ┆ 52         │\n",
       "│ 81         ┆ 37         ┆ 86         ┆ 56         ┆ … ┆ 68         ┆ 61         ┆ 89         ┆ 100        │\n",
       "│ 53         ┆ 14         ┆ 58         ┆ 91         ┆ … ┆ 27         ┆ 93         ┆ 58         ┆ 52         │\n",
       "│ 63         ┆ 27         ┆ 44         ┆ 95         ┆ … ┆ 27         ┆ 100        ┆ 45         ┆ 100        │\n",
       "│ 51         ┆ 53         ┆ 96         ┆ 82         ┆ … ┆ 68         ┆ 93         ┆ 97         ┆ 52         │\n",
       "└────────────┴────────────┴────────────┴────────────┴───┴────────────┴────────────┴────────────┴────────────┘"
      ]
     },
     "execution_count": 34,
     "metadata": {},
     "output_type": "execute_result"
    }
   ],
   "source": [
    "one_hot_res.transformed.head() "
   ]
  },
  {
   "cell_type": "code",
   "execution_count": 35,
   "metadata": {},
   "outputs": [
    {
     "data": {
      "text/html": [
       "<div><style>\n",
       ".dataframe > thead > tr > th,\n",
       ".dataframe > tbody > tr > td {\n",
       "  text-align: right;\n",
       "}\n",
       "</style>\n",
       "<small>shape: (3, 2)</small><table border=\"1\" class=\"dataframe\"><thead><tr><th>feature</th><th>one_hot_derived</th></tr><tr><td>str</td><td>str</td></tr></thead><tbody><tr><td>&quot;One_Hot_Test&quot;</td><td>&quot;One_Hot_Test_A…</td></tr><tr><td>&quot;One_Hot_Test&quot;</td><td>&quot;One_Hot_Test_B…</td></tr><tr><td>&quot;One_Hot_Test&quot;</td><td>&quot;One_Hot_Test_C…</td></tr></tbody></table></div>"
      ],
      "text/plain": [
       "shape: (3, 2)\n",
       "┌──────────────┬─────────────────┐\n",
       "│ feature      ┆ one_hot_derived │\n",
       "│ ---          ┆ ---             │\n",
       "│ str          ┆ str             │\n",
       "╞══════════════╪═════════════════╡\n",
       "│ One_Hot_Test ┆ One_Hot_Test_A  │\n",
       "│ One_Hot_Test ┆ One_Hot_Test_B  │\n",
       "│ One_Hot_Test ┆ One_Hot_Test_C  │\n",
       "└──────────────┴─────────────────┘"
      ]
     },
     "execution_count": 35,
     "metadata": {},
     "output_type": "execute_result"
    }
   ],
   "source": [
    "df = one_hot_res.transformed\n",
    "one_hot_res.mapping"
   ]
  },
  {
   "cell_type": "code",
   "execution_count": 36,
   "metadata": {},
   "outputs": [],
   "source": [
    "ordinal_res = ordinal_auto_encode(df, ordinal_cols=[\"City\", \"Country\"])"
   ]
  },
  {
   "cell_type": "code",
   "execution_count": 37,
   "metadata": {},
   "outputs": [
    {
     "data": {
      "text/html": [
       "<div><style>\n",
       ".dataframe > thead > tr > th,\n",
       ".dataframe > tbody > tr > td {\n",
       "  text-align: right;\n",
       "}\n",
       "</style>\n",
       "<small>shape: (5, 16)</small><table border=\"1\" class=\"dataframe\"><thead><tr><th>Daily Time Spent on Site_percentile</th><th>Age_percentile</th><th>Area Income_percentile</th><th>Daily Internet Usage_percentile</th><th>Ad Topic Line</th><th>City_ordinal</th><th>Country_ordinal</th><th>Timestamp</th><th>Clicked on Ad</th><th>One_Hot_Test_A</th><th>One_Hot_Test_B</th><th>One_Hot_Test_C</th><th>Age Band_percentile</th><th>Daily Internet Usage Band_percentile</th><th>Area Income Band_percentile</th><th>Test_Binary_percentile</th></tr><tr><td>u8</td><td>u8</td><td>u8</td><td>u8</td><td>str</td><td>u32</td><td>u32</td><td>str</td><td>i64</td><td>u8</td><td>u8</td><td>u8</td><td>u8</td><td>u8</td><td>u8</td><td>u8</td></tr></thead><tbody><tr><td>52</td><td>53</td><td>65</td><td>99</td><td>&quot;Cloned 5thgene…</td><td>961</td><td>215</td><td>&quot;3/27/2016 0:53…</td><td>0</td><td>1</td><td>0</td><td>0</td><td>68</td><td>100</td><td>74</td><td>52</td></tr><tr><td>81</td><td>37</td><td>86</td><td>56</td><td>&quot;Monitored nati…</td><td>903</td><td>147</td><td>&quot;4/4/2016 1:39&quot;</td><td>0</td><td>0</td><td>1</td><td>0</td><td>68</td><td>61</td><td>89</td><td>100</td></tr><tr><td>53</td><td>14</td><td>58</td><td>91</td><td>&quot;Organic bottom…</td><td>111</td><td>184</td><td>&quot;3/13/2016 20:3…</td><td>0</td><td>1</td><td>0</td><td>0</td><td>27</td><td>93</td><td>58</td><td>52</td></tr><tr><td>63</td><td>27</td><td>44</td><td>95</td><td>&quot;Triple-buffere…</td><td>939</td><td>103</td><td>&quot;1/10/2016 2:31…</td><td>0</td><td>0</td><td>1</td><td>0</td><td>27</td><td>100</td><td>45</td><td>100</td></tr><tr><td>51</td><td>53</td><td>96</td><td>82</td><td>&quot;Robust logisti…</td><td>805</td><td>96</td><td>&quot;6/3/2016 3:36&quot;</td><td>0</td><td>1</td><td>0</td><td>0</td><td>68</td><td>93</td><td>97</td><td>52</td></tr></tbody></table></div>"
      ],
      "text/plain": [
       "shape: (5, 16)\n",
       "┌────────────┬────────────┬────────────┬────────────┬───┬────────────┬────────────┬────────────┬────────────┐\n",
       "│ Daily Time ┆ Age_percen ┆ Area Incom ┆ Daily      ┆ … ┆ Age Band_p ┆ Daily      ┆ Area       ┆ Test_Binar │\n",
       "│ Spent on   ┆ tile       ┆ e_percenti ┆ Internet   ┆   ┆ ercentile  ┆ Internet   ┆ Income Ban ┆ y_percenti │\n",
       "│ Site_perce ┆ ---        ┆ le         ┆ Usage_perc ┆   ┆ ---        ┆ Usage Band ┆ d_percenti ┆ le         │\n",
       "│ nt…        ┆ u8         ┆ ---        ┆ entile     ┆   ┆ u8         ┆ _percen…   ┆ le         ┆ ---        │\n",
       "│ ---        ┆            ┆ u8         ┆ ---        ┆   ┆            ┆ ---        ┆ ---        ┆ u8         │\n",
       "│ u8         ┆            ┆            ┆ u8         ┆   ┆            ┆ u8         ┆ u8         ┆            │\n",
       "╞════════════╪════════════╪════════════╪════════════╪═══╪════════════╪════════════╪════════════╪════════════╡\n",
       "│ 52         ┆ 53         ┆ 65         ┆ 99         ┆ … ┆ 68         ┆ 100        ┆ 74         ┆ 52         │\n",
       "│ 81         ┆ 37         ┆ 86         ┆ 56         ┆ … ┆ 68         ┆ 61         ┆ 89         ┆ 100        │\n",
       "│ 53         ┆ 14         ┆ 58         ┆ 91         ┆ … ┆ 27         ┆ 93         ┆ 58         ┆ 52         │\n",
       "│ 63         ┆ 27         ┆ 44         ┆ 95         ┆ … ┆ 27         ┆ 100        ┆ 45         ┆ 100        │\n",
       "│ 51         ┆ 53         ┆ 96         ┆ 82         ┆ … ┆ 68         ┆ 93         ┆ 97         ┆ 52         │\n",
       "└────────────┴────────────┴────────────┴────────────┴───┴────────────┴────────────┴────────────┴────────────┘"
      ]
     },
     "execution_count": 37,
     "metadata": {},
     "output_type": "execute_result"
    }
   ],
   "source": [
    "ordinal_res.transformed.head() "
   ]
  },
  {
   "cell_type": "code",
   "execution_count": 38,
   "metadata": {},
   "outputs": [
    {
     "data": {
      "text/html": [
       "<div><style>\n",
       ".dataframe > thead > tr > th,\n",
       ".dataframe > tbody > tr > td {\n",
       "  text-align: right;\n",
       "}\n",
       "</style>\n",
       "<small>shape: (5, 3)</small><table border=\"1\" class=\"dataframe\"><thead><tr><th>feature</th><th>value</th><th>mapped_to</th></tr><tr><td>str</td><td>str</td><td>i64</td></tr></thead><tbody><tr><td>&quot;City&quot;</td><td>&quot;Adamsbury&quot;</td><td>0</td></tr><tr><td>&quot;City&quot;</td><td>&quot;Adamside&quot;</td><td>1</td></tr><tr><td>&quot;City&quot;</td><td>&quot;Adamsstad&quot;</td><td>2</td></tr><tr><td>&quot;City&quot;</td><td>&quot;Alanview&quot;</td><td>3</td></tr><tr><td>&quot;City&quot;</td><td>&quot;Alexanderfurt&quot;</td><td>4</td></tr></tbody></table></div>"
      ],
      "text/plain": [
       "shape: (5, 3)\n",
       "┌─────────┬───────────────┬───────────┐\n",
       "│ feature ┆ value         ┆ mapped_to │\n",
       "│ ---     ┆ ---           ┆ ---       │\n",
       "│ str     ┆ str           ┆ i64       │\n",
       "╞═════════╪═══════════════╪═══════════╡\n",
       "│ City    ┆ Adamsbury     ┆ 0         │\n",
       "│ City    ┆ Adamside      ┆ 1         │\n",
       "│ City    ┆ Adamsstad     ┆ 2         │\n",
       "│ City    ┆ Alanview      ┆ 3         │\n",
       "│ City    ┆ Alexanderfurt ┆ 4         │\n",
       "└─────────┴───────────────┴───────────┘"
      ]
     },
     "execution_count": 38,
     "metadata": {},
     "output_type": "execute_result"
    }
   ],
   "source": [
    "ordinal_res.mapping.head() "
   ]
  },
  {
   "cell_type": "code",
   "execution_count": 39,
   "metadata": {},
   "outputs": [
    {
     "data": {
      "text/html": [
       "<div><style>\n",
       ".dataframe > thead > tr > th,\n",
       ".dataframe > tbody > tr > td {\n",
       "  text-align: right;\n",
       "}\n",
       "</style>\n",
       "<small>shape: (5, 14)</small><table border=\"1\" class=\"dataframe\"><thead><tr><th>Daily Time Spent on Site_percentile</th><th>Age_percentile</th><th>Area Income_percentile</th><th>Daily Internet Usage_percentile</th><th>City_ordinal</th><th>Country_ordinal</th><th>Clicked on Ad</th><th>One_Hot_Test_A</th><th>One_Hot_Test_B</th><th>One_Hot_Test_C</th><th>Age Band_percentile</th><th>Daily Internet Usage Band_percentile</th><th>Area Income Band_percentile</th><th>Test_Binary_percentile</th></tr><tr><td>u8</td><td>u8</td><td>u8</td><td>u8</td><td>u32</td><td>u32</td><td>i64</td><td>u8</td><td>u8</td><td>u8</td><td>u8</td><td>u8</td><td>u8</td><td>u8</td></tr></thead><tbody><tr><td>52</td><td>53</td><td>65</td><td>99</td><td>961</td><td>215</td><td>0</td><td>1</td><td>0</td><td>0</td><td>68</td><td>100</td><td>74</td><td>52</td></tr><tr><td>81</td><td>37</td><td>86</td><td>56</td><td>903</td><td>147</td><td>0</td><td>0</td><td>1</td><td>0</td><td>68</td><td>61</td><td>89</td><td>100</td></tr><tr><td>53</td><td>14</td><td>58</td><td>91</td><td>111</td><td>184</td><td>0</td><td>1</td><td>0</td><td>0</td><td>27</td><td>93</td><td>58</td><td>52</td></tr><tr><td>63</td><td>27</td><td>44</td><td>95</td><td>939</td><td>103</td><td>0</td><td>0</td><td>1</td><td>0</td><td>27</td><td>100</td><td>45</td><td>100</td></tr><tr><td>51</td><td>53</td><td>96</td><td>82</td><td>805</td><td>96</td><td>0</td><td>1</td><td>0</td><td>0</td><td>68</td><td>93</td><td>97</td><td>52</td></tr></tbody></table></div>"
      ],
      "text/plain": [
       "shape: (5, 14)\n",
       "┌────────────┬────────────┬────────────┬────────────┬───┬────────────┬────────────┬────────────┬────────────┐\n",
       "│ Daily Time ┆ Age_percen ┆ Area Incom ┆ Daily      ┆ … ┆ Age Band_p ┆ Daily      ┆ Area       ┆ Test_Binar │\n",
       "│ Spent on   ┆ tile       ┆ e_percenti ┆ Internet   ┆   ┆ ercentile  ┆ Internet   ┆ Income Ban ┆ y_percenti │\n",
       "│ Site_perce ┆ ---        ┆ le         ┆ Usage_perc ┆   ┆ ---        ┆ Usage Band ┆ d_percenti ┆ le         │\n",
       "│ nt…        ┆ u8         ┆ ---        ┆ entile     ┆   ┆ u8         ┆ _percen…   ┆ le         ┆ ---        │\n",
       "│ ---        ┆            ┆ u8         ┆ ---        ┆   ┆            ┆ ---        ┆ ---        ┆ u8         │\n",
       "│ u8         ┆            ┆            ┆ u8         ┆   ┆            ┆ u8         ┆ u8         ┆            │\n",
       "╞════════════╪════════════╪════════════╪════════════╪═══╪════════════╪════════════╪════════════╪════════════╡\n",
       "│ 52         ┆ 53         ┆ 65         ┆ 99         ┆ … ┆ 68         ┆ 100        ┆ 74         ┆ 52         │\n",
       "│ 81         ┆ 37         ┆ 86         ┆ 56         ┆ … ┆ 68         ┆ 61         ┆ 89         ┆ 100        │\n",
       "│ 53         ┆ 14         ┆ 58         ┆ 91         ┆ … ┆ 27         ┆ 93         ┆ 58         ┆ 52         │\n",
       "│ 63         ┆ 27         ┆ 44         ┆ 95         ┆ … ┆ 27         ┆ 100        ┆ 45         ┆ 100        │\n",
       "│ 51         ┆ 53         ┆ 96         ┆ 82         ┆ … ┆ 68         ┆ 93         ┆ 97         ┆ 52         │\n",
       "└────────────┴────────────┴────────────┴────────────┴───┴────────────┴────────────┴────────────┴────────────┘"
      ]
     },
     "execution_count": 39,
     "metadata": {},
     "output_type": "execute_result"
    }
   ],
   "source": [
    "df = ordinal_res.transformed\n",
    "final_df = df.drop([\"Ad Topic Line\", \"Timestamp\"])\n",
    "final_df.head() "
   ]
  },
  {
   "cell_type": "code",
   "execution_count": 40,
   "metadata": {},
   "outputs": [],
   "source": [
    "np_data = get_numpy(final_df, target)\n",
    "X, y, features = np_data.X, np_data.y, np_data.features"
   ]
  },
  {
   "cell_type": "code",
   "execution_count": 41,
   "metadata": {},
   "outputs": [
    {
     "data": {
      "text/plain": [
       "(1000, 13)"
      ]
     },
     "execution_count": 41,
     "metadata": {},
     "output_type": "execute_result"
    }
   ],
   "source": [
    "X.shape "
   ]
  },
  {
   "cell_type": "code",
   "execution_count": 42,
   "metadata": {},
   "outputs": [
    {
     "data": {
      "text/plain": [
       "(1000,)"
      ]
     },
     "execution_count": 42,
     "metadata": {},
     "output_type": "execute_result"
    }
   ],
   "source": [
    "y.shape "
   ]
  },
  {
   "cell_type": "code",
   "execution_count": 43,
   "metadata": {},
   "outputs": [
    {
     "data": {
      "text/plain": [
       "['Daily Time Spent on Site_percentile',\n",
       " 'Age_percentile',\n",
       " 'Area Income_percentile',\n",
       " 'Daily Internet Usage_percentile',\n",
       " 'City_ordinal',\n",
       " 'Country_ordinal',\n",
       " 'One_Hot_Test_A',\n",
       " 'One_Hot_Test_B',\n",
       " 'One_Hot_Test_C',\n",
       " 'Age Band_percentile',\n",
       " 'Daily Internet Usage Band_percentile',\n",
       " 'Area Income Band_percentile',\n",
       " 'Test_Binary_percentile']"
      ]
     },
     "execution_count": 43,
     "metadata": {},
     "output_type": "execute_result"
    }
   ],
   "source": [
    "features"
   ]
  },
  {
   "cell_type": "code",
   "execution_count": null,
   "metadata": {},
   "outputs": [],
   "source": []
  },
  {
   "cell_type": "code",
   "execution_count": null,
   "metadata": {},
   "outputs": [],
   "source": []
  }
 ],
 "metadata": {
  "kernelspec": {
   "display_name": "nodus",
   "language": "python",
   "name": "python3"
  },
  "language_info": {
   "codemirror_mode": {
    "name": "ipython",
    "version": 3
   },
   "file_extension": ".py",
   "mimetype": "text/x-python",
   "name": "python",
   "nbconvert_exporter": "python",
   "pygments_lexer": "ipython3",
   "version": "3.11.3"
  },
  "orig_nbformat": 4,
  "vscode": {
   "interpreter": {
    "hash": "74f1072b57173f378ab32b3582e04f0f79e785f166fd2fbdd636602a68526af8"
   }
  }
 },
 "nbformat": 4,
 "nbformat_minor": 2
}
