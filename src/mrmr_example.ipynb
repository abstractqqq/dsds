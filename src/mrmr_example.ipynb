{
 "cells": [
  {
   "cell_type": "code",
   "execution_count": 1,
   "metadata": {},
   "outputs": [],
   "source": [
    "import polars as pl \n",
    "import numpy as np\n",
    "from eda_utils import _f_score, mrmr, MRMR_STRATEGY\n",
    "from sklearn.datasets import make_classification\n",
    "from sklearn.feature_selection import f_regression\n",
    "import pandas as pd\n",
    "from time import perf_counter\n",
    "import os "
   ]
  },
  {
   "cell_type": "code",
   "execution_count": 2,
   "metadata": {},
   "outputs": [],
   "source": [
    "# create some data\n",
    "orig_x, orig_y = make_classification(n_samples = 1_000_000, n_features = 50, n_informative = 20, n_redundant = 30)"
   ]
  },
  {
   "cell_type": "code",
   "execution_count": 3,
   "metadata": {},
   "outputs": [],
   "source": [
    "df_pl = pl.from_numpy(orig_x).insert_at_idx(0, pl.Series(\"target\", orig_y))\n",
    "df_pd = df_pl.to_pandas()"
   ]
  },
  {
   "cell_type": "code",
   "execution_count": 4,
   "metadata": {},
   "outputs": [],
   "source": [
    "def mrmr_my_rewrite(df:pl.DataFrame, target:str, k:int) -> list[str]:\n",
    "\n",
    "    features = df.columns\n",
    "    features.remove(target)\n",
    "\n",
    "    start = perf_counter()\n",
    "    f_scores = _f_score(df, target, features)\n",
    "    end_1 = perf_counter()\n",
    "    print(f\"Spent {end_1 - start:.2f}s to compute f score.\")\n",
    "\n",
    "    df_scaled = df.select(features).with_columns(\n",
    "        (pl.col(f) - pl.col(f).mean())/pl.col(f).std() for f in features\n",
    "    )\n",
    "\n",
    "    cumulating_sum = np.zeros(len(features)) # For each feature at index i, we keep a cumulating sum\n",
    "    top_idx = np.argmax(f_scores)\n",
    "    selected_features = [features[top_idx]]\n",
    "    for j in range(1, k): \n",
    "        argmax = -1\n",
    "        current_max = -1\n",
    "        last_selected = selected_features[-1]\n",
    "        for i,f in enumerate(features):\n",
    "            if f not in selected_features:\n",
    "                # Left = cumulating sum of abs corr\n",
    "                # Right = abs correlation btw last_selected and f\n",
    "                cumulating_sum[i] += np.abs((df_scaled.get_column(last_selected)*df_scaled.get_column(f)).mean())\n",
    "                denominator = cumulating_sum[i] / j\n",
    "                new_score = f_scores[i] / denominator\n",
    "                if new_score > current_max:\n",
    "                    current_max = new_score\n",
    "                    argmax = i\n",
    "\n",
    "        selected_features.append(features[argmax])\n",
    "\n",
    "    end_2 = perf_counter()\n",
    "    print(f\"Spent {end_2 - end_1:.2f}s to compute mrmr.\")\n",
    "    return selected_features\n",
    "    "
   ]
  },
  {
   "cell_type": "code",
   "execution_count": 5,
   "metadata": {},
   "outputs": [],
   "source": [
    "def mrmr_medium(df:pd.DataFrame, target:str, k:int) -> list[str]:\n",
    "\n",
    "    features = list(df.columns)\n",
    "    features.remove(target)\n",
    "\n",
    "    X = df[features]\n",
    "    y = df[target]\n",
    "\n",
    "    # compute F-statistics and initialize correlation matrix\n",
    "    start = perf_counter()\n",
    "    F = pd.Series(f_regression(X, y)[0], index = X.columns)\n",
    "    end_1 = perf_counter()\n",
    "    print(f\"Spent {end_1 - start:.2f}s to compute f score.\")\n",
    "\n",
    "    corr = pd.DataFrame(.00001, index = X.columns, columns = X.columns)\n",
    "\n",
    "    # initialize list of selected features and list of excluded features\n",
    "    selected = []\n",
    "    not_selected = X.columns.to_list()\n",
    "\n",
    "    # repeat K times\n",
    "    for i in range(k):\n",
    "    \n",
    "        # compute (absolute) correlations between the last selected feature and all the (currently) excluded features\n",
    "        if i > 0:\n",
    "            last_selected = selected[-1]\n",
    "            corr.loc[not_selected, last_selected] = X[not_selected].corrwith(X[last_selected]).abs().clip(.00001)\n",
    "            \n",
    "        # compute FCQ score for all the (currently) excluded features (this is Formula 2)\n",
    "        score = F.loc[not_selected] / corr.loc[not_selected, selected].mean(axis = 1).fillna(.00001)\n",
    "        \n",
    "        # find best feature, add it to selected and remove it from not_selected\n",
    "        best = score.index[score.argmax()]\n",
    "        selected.append(best)\n",
    "        not_selected.remove(best)\n",
    "\n",
    "    # print(selected) \n",
    "    end_2 = perf_counter()\n",
    "    print(f\"Spent {end_2 - end_1:.2f}s to compute mrmr.\")\n",
    "    return selected "
   ]
  },
  {
   "cell_type": "code",
   "execution_count": 6,
   "metadata": {},
   "outputs": [
    {
     "name": "stdout",
     "output_type": "stream",
     "text": [
      "Spent 0.06s to compute f score.\n",
      "Spent 0.88s to compute mrmr.\n"
     ]
    },
    {
     "data": {
      "text/plain": [
       "['column_29',\n",
       " 'column_37',\n",
       " 'column_21',\n",
       " 'column_44',\n",
       " 'column_23',\n",
       " 'column_41',\n",
       " 'column_33',\n",
       " 'column_2',\n",
       " 'column_26',\n",
       " 'column_22',\n",
       " 'column_27',\n",
       " 'column_8',\n",
       " 'column_28',\n",
       " 'column_48',\n",
       " 'column_5',\n",
       " 'column_25',\n",
       " 'column_20',\n",
       " 'column_1',\n",
       " 'column_31',\n",
       " 'column_42']"
      ]
     },
     "execution_count": 6,
     "metadata": {},
     "output_type": "execute_result"
    }
   ],
   "source": [
    "mrmr_my_rewrite(df_pl, \"target\", 20)"
   ]
  },
  {
   "cell_type": "code",
   "execution_count": 7,
   "metadata": {},
   "outputs": [
    {
     "name": "stdout",
     "output_type": "stream",
     "text": [
      "Spent 0.14s to compute f score.\n",
      "Spent 11.63s to compute mrmr.\n"
     ]
    },
    {
     "data": {
      "text/plain": [
       "['column_29',\n",
       " 'column_37',\n",
       " 'column_21',\n",
       " 'column_44',\n",
       " 'column_23',\n",
       " 'column_41',\n",
       " 'column_33',\n",
       " 'column_2',\n",
       " 'column_26',\n",
       " 'column_22',\n",
       " 'column_27',\n",
       " 'column_8',\n",
       " 'column_28',\n",
       " 'column_48',\n",
       " 'column_5',\n",
       " 'column_25',\n",
       " 'column_20',\n",
       " 'column_1',\n",
       " 'column_31',\n",
       " 'column_42']"
      ]
     },
     "execution_count": 7,
     "metadata": {},
     "output_type": "execute_result"
    }
   ],
   "source": [
    "mrmr_medium(df_pd, \"target\", 20)"
   ]
  },
  {
   "cell_type": "code",
   "execution_count": 8,
   "metadata": {},
   "outputs": [],
   "source": [
    "from mrmr import mrmr_classif"
   ]
  },
  {
   "cell_type": "code",
   "execution_count": 9,
   "metadata": {},
   "outputs": [],
   "source": [
    "def mrmr_package(df:pd.DataFrame, target:str, k:int) -> list[str]:\n",
    "    \n",
    "    features = list(df.columns)\n",
    "    features.remove(target)\n",
    "\n",
    "    X = df[features]\n",
    "    y = df[target]\n",
    "\n",
    "    # use mrmr classification\n",
    "    return mrmr_classif(X, y, K = k)"
   ]
  },
  {
   "cell_type": "code",
   "execution_count": 10,
   "metadata": {},
   "outputs": [
    {
     "name": "stderr",
     "output_type": "stream",
     "text": [
      "100%|██████████| 20/20 [00:12<00:00,  1.61it/s]\n"
     ]
    },
    {
     "data": {
      "text/plain": [
       "['column_29',\n",
       " 'column_37',\n",
       " 'column_21',\n",
       " 'column_44',\n",
       " 'column_23',\n",
       " 'column_41',\n",
       " 'column_33',\n",
       " 'column_2',\n",
       " 'column_26',\n",
       " 'column_22',\n",
       " 'column_27',\n",
       " 'column_8',\n",
       " 'column_28',\n",
       " 'column_48',\n",
       " 'column_5',\n",
       " 'column_25',\n",
       " 'column_20',\n",
       " 'column_1',\n",
       " 'column_31',\n",
       " 'column_42']"
      ]
     },
     "execution_count": 10,
     "metadata": {},
     "output_type": "execute_result"
    }
   ],
   "source": [
    "mrmr_package(df_pd, \"target\", 20)"
   ]
  },
  {
   "cell_type": "code",
   "execution_count": null,
   "metadata": {},
   "outputs": [],
   "source": []
  },
  {
   "cell_type": "code",
   "execution_count": 11,
   "metadata": {},
   "outputs": [
    {
     "name": "stdout",
     "output_type": "stream",
     "text": [
      "Top 5 feature importance is (by MRMR_STRATEGY.F_SCORE):\n",
      "shape: (5, 2)\n",
      "┌───────────┬───────────────────────┐\n",
      "│ feature   ┆ MRMR_STRATEGY.F_SCORE │\n",
      "│ ---       ┆ ---                   │\n",
      "│ str       ┆ f64                   │\n",
      "╞═══════════╪═══════════════════════╡\n",
      "│ column_29 ┆ 234355.115447         │\n",
      "│ column_44 ┆ 198995.289158         │\n",
      "│ column_23 ┆ 162807.990072         │\n",
      "│ column_41 ┆ 142515.000045         │\n",
      "│ column_33 ┆ 132316.891188         │\n",
      "└───────────┴───────────────────────┘\n",
      "Found 1st feature by MRMR: column_29. 1/20\n",
      "Found 2th feature by MRMR: column_37. 2/20\n",
      "Found 3th feature by MRMR: column_21. 3/20\n",
      "Found 4th feature by MRMR: column_44. 4/20\n",
      "Found 5th feature by MRMR: column_23. 5/20\n",
      "Found 6th feature by MRMR: column_41. 6/20\n",
      "Found 7th feature by MRMR: column_33. 7/20\n",
      "Found 8th feature by MRMR: column_2. 8/20\n",
      "Found 9th feature by MRMR: column_26. 9/20\n",
      "Found 10th feature by MRMR: column_22. 10/20\n",
      "Found 11th feature by MRMR: column_27. 11/20\n",
      "Found 12th feature by MRMR: column_8. 12/20\n",
      "Found 13th feature by MRMR: column_28. 13/20\n",
      "Found 14th feature by MRMR: column_48. 14/20\n",
      "Found 15th feature by MRMR: column_5. 15/20\n",
      "Found 16th feature by MRMR: column_25. 16/20\n",
      "Found 17th feature by MRMR: column_20. 17/20\n",
      "Found 18th feature by MRMR: column_1. 18/20\n",
      "Found 19th feature by MRMR: column_31. 19/20\n",
      "Found 20th feature by MRMR: column_42. 20/20\n"
     ]
    },
    {
     "data": {
      "text/html": [
       "<div><style>\n",
       ".dataframe > thead > tr > th,\n",
       ".dataframe > tbody > tr > td {\n",
       "  text-align: right;\n",
       "}\n",
       "</style>\n",
       "<small>shape: (20, 2)</small><table border=\"1\" class=\"dataframe\"><thead><tr><th>mrmr_rank</th><th>feature</th></tr><tr><td>i64</td><td>str</td></tr></thead><tbody><tr><td>1</td><td>&quot;column_29&quot;</td></tr><tr><td>2</td><td>&quot;column_37&quot;</td></tr><tr><td>3</td><td>&quot;column_21&quot;</td></tr><tr><td>4</td><td>&quot;column_44&quot;</td></tr><tr><td>5</td><td>&quot;column_23&quot;</td></tr><tr><td>6</td><td>&quot;column_41&quot;</td></tr><tr><td>7</td><td>&quot;column_33&quot;</td></tr><tr><td>8</td><td>&quot;column_2&quot;</td></tr><tr><td>9</td><td>&quot;column_26&quot;</td></tr><tr><td>10</td><td>&quot;column_22&quot;</td></tr><tr><td>11</td><td>&quot;column_27&quot;</td></tr><tr><td>12</td><td>&quot;column_8&quot;</td></tr><tr><td>13</td><td>&quot;column_28&quot;</td></tr><tr><td>14</td><td>&quot;column_48&quot;</td></tr><tr><td>15</td><td>&quot;column_5&quot;</td></tr><tr><td>16</td><td>&quot;column_25&quot;</td></tr><tr><td>17</td><td>&quot;column_20&quot;</td></tr><tr><td>18</td><td>&quot;column_1&quot;</td></tr><tr><td>19</td><td>&quot;column_31&quot;</td></tr><tr><td>20</td><td>&quot;column_42&quot;</td></tr></tbody></table></div>"
      ],
      "text/plain": [
       "shape: (20, 2)\n",
       "┌───────────┬───────────┐\n",
       "│ mrmr_rank ┆ feature   │\n",
       "│ ---       ┆ ---       │\n",
       "│ i64       ┆ str       │\n",
       "╞═══════════╪═══════════╡\n",
       "│ 1         ┆ column_29 │\n",
       "│ 2         ┆ column_37 │\n",
       "│ 3         ┆ column_21 │\n",
       "│ 4         ┆ column_44 │\n",
       "│ …         ┆ …         │\n",
       "│ 17        ┆ column_20 │\n",
       "│ 18        ┆ column_1  │\n",
       "│ 19        ┆ column_31 │\n",
       "│ 20        ┆ column_42 │\n",
       "└───────────┴───────────┘"
      ]
     },
     "execution_count": 11,
     "metadata": {},
     "output_type": "execute_result"
    }
   ],
   "source": [
    "# MRMR from my repo \n",
    "\n",
    "mrmr(df_pl, target=\"target\", k=20)"
   ]
  },
  {
   "cell_type": "code",
   "execution_count": 12,
   "metadata": {},
   "outputs": [
    {
     "name": "stdout",
     "output_type": "stream",
     "text": [
      "Random forest is not deterministic by default. Results may vary.\n",
      "Top 5 feature importance is (by MRMR_STRATEGY.RF):\n",
      "shape: (5, 2)\n",
      "┌───────────┬──────────────────┐\n",
      "│ feature   ┆ MRMR_STRATEGY.RF │\n",
      "│ ---       ┆ ---              │\n",
      "│ str       ┆ f64              │\n",
      "╞═══════════╪══════════════════╡\n",
      "│ column_29 ┆ 0.1335           │\n",
      "│ column_44 ┆ 0.116226         │\n",
      "│ column_33 ┆ 0.09626          │\n",
      "│ column_23 ┆ 0.080251         │\n",
      "│ column_41 ┆ 0.058192         │\n",
      "└───────────┴──────────────────┘\n",
      "Found 1st feature by MRMR: column_29. 1/20\n",
      "Found 2th feature by MRMR: column_31. 2/20\n",
      "Found 3th feature by MRMR: column_33. 3/20\n",
      "Found 4th feature by MRMR: column_23. 4/20\n",
      "Found 5th feature by MRMR: column_44. 5/20\n",
      "Found 6th feature by MRMR: column_41. 6/20\n",
      "Found 7th feature by MRMR: column_32. 7/20\n",
      "Found 8th feature by MRMR: column_2. 8/20\n",
      "Found 9th feature by MRMR: column_48. 9/20\n",
      "Found 10th feature by MRMR: column_22. 10/20\n",
      "Found 11th feature by MRMR: column_21. 11/20\n",
      "Found 12th feature by MRMR: column_37. 12/20\n",
      "Found 13th feature by MRMR: column_17. 13/20\n",
      "Found 14th feature by MRMR: column_27. 14/20\n",
      "Found 15th feature by MRMR: column_40. 15/20\n",
      "Found 16th feature by MRMR: column_8. 16/20\n",
      "Found 17th feature by MRMR: column_28. 17/20\n",
      "Found 18th feature by MRMR: column_34. 18/20\n",
      "Found 19th feature by MRMR: column_26. 19/20\n",
      "Found 20th feature by MRMR: column_1. 20/20\n"
     ]
    },
    {
     "data": {
      "text/html": [
       "<div><style>\n",
       ".dataframe > thead > tr > th,\n",
       ".dataframe > tbody > tr > td {\n",
       "  text-align: right;\n",
       "}\n",
       "</style>\n",
       "<small>shape: (20, 2)</small><table border=\"1\" class=\"dataframe\"><thead><tr><th>mrmr_rank</th><th>feature</th></tr><tr><td>i64</td><td>str</td></tr></thead><tbody><tr><td>1</td><td>&quot;column_29&quot;</td></tr><tr><td>2</td><td>&quot;column_31&quot;</td></tr><tr><td>3</td><td>&quot;column_33&quot;</td></tr><tr><td>4</td><td>&quot;column_23&quot;</td></tr><tr><td>5</td><td>&quot;column_44&quot;</td></tr><tr><td>6</td><td>&quot;column_41&quot;</td></tr><tr><td>7</td><td>&quot;column_32&quot;</td></tr><tr><td>8</td><td>&quot;column_2&quot;</td></tr><tr><td>9</td><td>&quot;column_48&quot;</td></tr><tr><td>10</td><td>&quot;column_22&quot;</td></tr><tr><td>11</td><td>&quot;column_21&quot;</td></tr><tr><td>12</td><td>&quot;column_37&quot;</td></tr><tr><td>13</td><td>&quot;column_17&quot;</td></tr><tr><td>14</td><td>&quot;column_27&quot;</td></tr><tr><td>15</td><td>&quot;column_40&quot;</td></tr><tr><td>16</td><td>&quot;column_8&quot;</td></tr><tr><td>17</td><td>&quot;column_28&quot;</td></tr><tr><td>18</td><td>&quot;column_34&quot;</td></tr><tr><td>19</td><td>&quot;column_26&quot;</td></tr><tr><td>20</td><td>&quot;column_1&quot;</td></tr></tbody></table></div>"
      ],
      "text/plain": [
       "shape: (20, 2)\n",
       "┌───────────┬───────────┐\n",
       "│ mrmr_rank ┆ feature   │\n",
       "│ ---       ┆ ---       │\n",
       "│ i64       ┆ str       │\n",
       "╞═══════════╪═══════════╡\n",
       "│ 1         ┆ column_29 │\n",
       "│ 2         ┆ column_31 │\n",
       "│ 3         ┆ column_33 │\n",
       "│ 4         ┆ column_23 │\n",
       "│ …         ┆ …         │\n",
       "│ 17        ┆ column_28 │\n",
       "│ 18        ┆ column_34 │\n",
       "│ 19        ┆ column_26 │\n",
       "│ 20        ┆ column_1  │\n",
       "└───────────┴───────────┘"
      ]
     },
     "execution_count": 12,
     "metadata": {},
     "output_type": "execute_result"
    }
   ],
   "source": [
    "mrmr(df_pl, target=\"target\", k=20, strategy=MRMR_STRATEGY.RF, params={\"n_estimators\":20, \"max_depth\":5, \"n_jobs\":-1})"
   ]
  },
  {
   "cell_type": "code",
   "execution_count": 13,
   "metadata": {},
   "outputs": [
    {
     "name": "stdout",
     "output_type": "stream",
     "text": [
      "XGB is not deterministic by default. Results may vary.\n",
      "Top 5 feature importance is (by MRMR_STRATEGY.XGB):\n",
      "shape: (5, 2)\n",
      "┌───────────┬───────────────────┐\n",
      "│ feature   ┆ MRMR_STRATEGY.XGB │\n",
      "│ ---       ┆ ---               │\n",
      "│ str       ┆ f64               │\n",
      "╞═══════════╪═══════════════════╡\n",
      "│ column_44 ┆ 0.222649          │\n",
      "│ column_23 ┆ 0.052148          │\n",
      "│ column_1  ┆ 0.04954           │\n",
      "│ column_2  ┆ 0.046469          │\n",
      "│ column_29 ┆ 0.042617          │\n",
      "└───────────┴───────────────────┘\n",
      "Found 1st feature by MRMR: column_44. 1/20\n",
      "Found 2th feature by MRMR: column_13. 2/20\n",
      "Found 3th feature by MRMR: column_2. 3/20\n",
      "Found 4th feature by MRMR: column_23. 4/20\n",
      "Found 5th feature by MRMR: column_25. 5/20\n",
      "Found 6th feature by MRMR: column_1. 6/20\n",
      "Found 7th feature by MRMR: column_33. 7/20\n",
      "Found 8th feature by MRMR: column_48. 8/20\n",
      "Found 9th feature by MRMR: column_45. 9/20\n",
      "Found 10th feature by MRMR: column_41. 10/20\n",
      "Found 11th feature by MRMR: column_29. 11/20\n",
      "Found 12th feature by MRMR: column_46. 12/20\n",
      "Found 13th feature by MRMR: column_32. 13/20\n",
      "Found 14th feature by MRMR: column_47. 14/20\n",
      "Found 15th feature by MRMR: column_26. 15/20\n",
      "Found 16th feature by MRMR: column_37. 16/20\n",
      "Found 17th feature by MRMR: column_14. 17/20\n",
      "Found 18th feature by MRMR: column_22. 18/20\n",
      "Found 19th feature by MRMR: column_21. 19/20\n",
      "Found 20th feature by MRMR: column_20. 20/20\n"
     ]
    },
    {
     "data": {
      "text/html": [
       "<div><style>\n",
       ".dataframe > thead > tr > th,\n",
       ".dataframe > tbody > tr > td {\n",
       "  text-align: right;\n",
       "}\n",
       "</style>\n",
       "<small>shape: (20, 2)</small><table border=\"1\" class=\"dataframe\"><thead><tr><th>mrmr_rank</th><th>feature</th></tr><tr><td>i64</td><td>str</td></tr></thead><tbody><tr><td>1</td><td>&quot;column_44&quot;</td></tr><tr><td>2</td><td>&quot;column_13&quot;</td></tr><tr><td>3</td><td>&quot;column_2&quot;</td></tr><tr><td>4</td><td>&quot;column_23&quot;</td></tr><tr><td>5</td><td>&quot;column_25&quot;</td></tr><tr><td>6</td><td>&quot;column_1&quot;</td></tr><tr><td>7</td><td>&quot;column_33&quot;</td></tr><tr><td>8</td><td>&quot;column_48&quot;</td></tr><tr><td>9</td><td>&quot;column_45&quot;</td></tr><tr><td>10</td><td>&quot;column_41&quot;</td></tr><tr><td>11</td><td>&quot;column_29&quot;</td></tr><tr><td>12</td><td>&quot;column_46&quot;</td></tr><tr><td>13</td><td>&quot;column_32&quot;</td></tr><tr><td>14</td><td>&quot;column_47&quot;</td></tr><tr><td>15</td><td>&quot;column_26&quot;</td></tr><tr><td>16</td><td>&quot;column_37&quot;</td></tr><tr><td>17</td><td>&quot;column_14&quot;</td></tr><tr><td>18</td><td>&quot;column_22&quot;</td></tr><tr><td>19</td><td>&quot;column_21&quot;</td></tr><tr><td>20</td><td>&quot;column_20&quot;</td></tr></tbody></table></div>"
      ],
      "text/plain": [
       "shape: (20, 2)\n",
       "┌───────────┬───────────┐\n",
       "│ mrmr_rank ┆ feature   │\n",
       "│ ---       ┆ ---       │\n",
       "│ i64       ┆ str       │\n",
       "╞═══════════╪═══════════╡\n",
       "│ 1         ┆ column_44 │\n",
       "│ 2         ┆ column_13 │\n",
       "│ 3         ┆ column_2  │\n",
       "│ 4         ┆ column_23 │\n",
       "│ …         ┆ …         │\n",
       "│ 17        ┆ column_14 │\n",
       "│ 18        ┆ column_22 │\n",
       "│ 19        ┆ column_21 │\n",
       "│ 20        ┆ column_20 │\n",
       "└───────────┴───────────┘"
      ]
     },
     "execution_count": 13,
     "metadata": {},
     "output_type": "execute_result"
    }
   ],
   "source": [
    "mrmr(df_pl, target=\"target\", k=20, strategy=MRMR_STRATEGY.XGB, params={\"n_estimators\":20, \"max_depth\":5})"
   ]
  },
  {
   "cell_type": "code",
   "execution_count": null,
   "metadata": {},
   "outputs": [],
   "source": []
  }
 ],
 "metadata": {
  "kernelspec": {
   "display_name": "my_py11",
   "language": "python",
   "name": "python3"
  },
  "language_info": {
   "codemirror_mode": {
    "name": "ipython",
    "version": 3
   },
   "file_extension": ".py",
   "mimetype": "text/x-python",
   "name": "python",
   "nbconvert_exporter": "python",
   "pygments_lexer": "ipython3",
   "version": "3.11.3"
  },
  "orig_nbformat": 4
 },
 "nbformat": 4,
 "nbformat_minor": 2
}
