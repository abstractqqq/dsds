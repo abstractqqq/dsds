{
 "cells": [
  {
   "cell_type": "code",
   "execution_count": 1,
   "metadata": {},
   "outputs": [],
   "source": [
    "import polars as pl \n",
    "import numpy as np\n",
    "from eda_utils import _f_score\n",
    "from sklearn.datasets import make_classification\n",
    "from sklearn.feature_selection import f_regression\n",
    "import pandas as pd\n",
    "from time import perf_counter\n",
    "import os "
   ]
  },
  {
   "cell_type": "code",
   "execution_count": 2,
   "metadata": {},
   "outputs": [],
   "source": [
    "# create some data\n",
    "orig_x, orig_y = make_classification(n_samples = 1_000_000, n_features = 50, n_informative = 20, n_redundant = 30)"
   ]
  },
  {
   "cell_type": "code",
   "execution_count": 3,
   "metadata": {},
   "outputs": [],
   "source": [
    "df_pl = pl.from_numpy(orig_x).insert_at_idx(0, pl.Series(\"target\", orig_y))\n",
    "df_pd = df_pl.to_pandas()"
   ]
  },
  {
   "cell_type": "code",
   "execution_count": 4,
   "metadata": {},
   "outputs": [],
   "source": [
    "def mrmr(df:pl.DataFrame, target:str, k:int) -> list[str]:\n",
    "\n",
    "    features = df.columns\n",
    "    features.remove(target)\n",
    "\n",
    "    start = perf_counter()\n",
    "    f_scores = _f_score(df, target, features)\n",
    "    end_1 = perf_counter()\n",
    "    print(f\"Spent {end_1 - start:.2f}s to compute f score.\")\n",
    "\n",
    "    df_scaled = df.select(features).with_columns(\n",
    "        (pl.col(f) - pl.col(f).mean())/pl.col(f).std() for f in features\n",
    "    )\n",
    "\n",
    "    cumulating_sum = np.zeros(len(features)) # For each feature at index i, we keep a cumulating sum\n",
    "    top_idx = np.argmax(f_scores)\n",
    "    selected_features = [features[top_idx]]\n",
    "    for j in range(1, k): \n",
    "        argmax = -1\n",
    "        current_max = -1\n",
    "        last_selected = selected_features[-1]\n",
    "        for i,f in enumerate(features):\n",
    "            if f not in selected_features:\n",
    "                # Left = cumulating sum of abs corr\n",
    "                # Right = abs correlation btw last_selected and f\n",
    "                cumulating_sum[i] += np.abs((df_scaled.get_column(last_selected)*df_scaled.get_column(f)).mean())\n",
    "                denominator = cumulating_sum[i] / j\n",
    "                new_score = f_scores[i] / denominator\n",
    "                if new_score > current_max:\n",
    "                    current_max = new_score\n",
    "                    argmax = i\n",
    "\n",
    "        selected_features.append(features[argmax])\n",
    "\n",
    "    end_2 = perf_counter()\n",
    "    print(f\"Spent {end_2 - end_1:.2f}s to compute mrmr.\")\n",
    "    return selected_features\n",
    "    "
   ]
  },
  {
   "cell_type": "code",
   "execution_count": 5,
   "metadata": {},
   "outputs": [],
   "source": [
    "def mrmr_medium(df:pd.DataFrame, target:str, k:int) -> list[str]:\n",
    "\n",
    "    features = list(df.columns)\n",
    "    features.remove(target)\n",
    "\n",
    "    X = df[features]\n",
    "    y = df[target]\n",
    "\n",
    "    # compute F-statistics and initialize correlation matrix\n",
    "    start = perf_counter()\n",
    "    F = pd.Series(f_regression(X, y)[0], index = X.columns)\n",
    "    end_1 = perf_counter()\n",
    "    print(f\"Spent {end_1 - start:.2f}s to compute f score.\")\n",
    "\n",
    "    corr = pd.DataFrame(.00001, index = X.columns, columns = X.columns)\n",
    "\n",
    "    # initialize list of selected features and list of excluded features\n",
    "    selected = []\n",
    "    not_selected = X.columns.to_list()\n",
    "\n",
    "    # repeat K times\n",
    "    for i in range(k):\n",
    "    \n",
    "        # compute (absolute) correlations between the last selected feature and all the (currently) excluded features\n",
    "        if i > 0:\n",
    "            last_selected = selected[-1]\n",
    "            corr.loc[not_selected, last_selected] = X[not_selected].corrwith(X[last_selected]).abs().clip(.00001)\n",
    "            \n",
    "        # compute FCQ score for all the (currently) excluded features (this is Formula 2)\n",
    "        score = F.loc[not_selected] / corr.loc[not_selected, selected].mean(axis = 1).fillna(.00001)\n",
    "        \n",
    "        # find best feature, add it to selected and remove it from not_selected\n",
    "        best = score.index[score.argmax()]\n",
    "        selected.append(best)\n",
    "        not_selected.remove(best)\n",
    "\n",
    "    # print(selected) \n",
    "    end_2 = perf_counter()\n",
    "    print(f\"Spent {end_2 - end_1:.2f}s to compute mrmr.\")\n",
    "    return selected "
   ]
  },
  {
   "cell_type": "code",
   "execution_count": 6,
   "metadata": {},
   "outputs": [
    {
     "name": "stdout",
     "output_type": "stream",
     "text": [
      "Spent 0.07s to compute f score.\n",
      "Spent 1.05s to compute mrmr.\n"
     ]
    },
    {
     "data": {
      "text/plain": [
       "['column_5',\n",
       " 'column_20',\n",
       " 'column_23',\n",
       " 'column_3',\n",
       " 'column_44',\n",
       " 'column_16',\n",
       " 'column_48',\n",
       " 'column_8',\n",
       " 'column_6',\n",
       " 'column_27',\n",
       " 'column_12',\n",
       " 'column_2',\n",
       " 'column_47',\n",
       " 'column_24',\n",
       " 'column_29',\n",
       " 'column_4',\n",
       " 'column_49',\n",
       " 'column_37',\n",
       " 'column_33',\n",
       " 'column_14']"
      ]
     },
     "execution_count": 6,
     "metadata": {},
     "output_type": "execute_result"
    }
   ],
   "source": [
    "mrmr(df_pl, \"target\", 20)"
   ]
  },
  {
   "cell_type": "code",
   "execution_count": 7,
   "metadata": {},
   "outputs": [
    {
     "name": "stdout",
     "output_type": "stream",
     "text": [
      "Spent 0.15s to compute f score.\n",
      "Spent 9.91s to compute mrmr.\n"
     ]
    },
    {
     "data": {
      "text/plain": [
       "['column_5',\n",
       " 'column_20',\n",
       " 'column_23',\n",
       " 'column_3',\n",
       " 'column_44',\n",
       " 'column_16',\n",
       " 'column_48',\n",
       " 'column_8',\n",
       " 'column_6',\n",
       " 'column_27',\n",
       " 'column_12',\n",
       " 'column_2',\n",
       " 'column_47',\n",
       " 'column_24',\n",
       " 'column_29',\n",
       " 'column_4',\n",
       " 'column_49',\n",
       " 'column_37',\n",
       " 'column_33',\n",
       " 'column_14']"
      ]
     },
     "execution_count": 7,
     "metadata": {},
     "output_type": "execute_result"
    }
   ],
   "source": [
    "mrmr_medium(df_pd, \"target\", 20)"
   ]
  },
  {
   "cell_type": "code",
   "execution_count": 8,
   "metadata": {},
   "outputs": [],
   "source": [
    "from mrmr import mrmr_classif"
   ]
  },
  {
   "cell_type": "code",
   "execution_count": 9,
   "metadata": {},
   "outputs": [],
   "source": [
    "def mrmr_package(df:pd.DataFrame, target:str, k:int) -> list[str]:\n",
    "    \n",
    "    features = list(df.columns)\n",
    "    features.remove(target)\n",
    "\n",
    "    X = df[features]\n",
    "    y = df[target]\n",
    "\n",
    "    # use mrmr classification\n",
    "    return mrmr_classif(X, y, K = k)"
   ]
  },
  {
   "cell_type": "code",
   "execution_count": 10,
   "metadata": {},
   "outputs": [
    {
     "name": "stderr",
     "output_type": "stream",
     "text": [
      "100%|██████████| 20/20 [00:12<00:00,  1.67it/s]\n"
     ]
    },
    {
     "data": {
      "text/plain": [
       "['column_5',\n",
       " 'column_20',\n",
       " 'column_23',\n",
       " 'column_3',\n",
       " 'column_44',\n",
       " 'column_16',\n",
       " 'column_48',\n",
       " 'column_8',\n",
       " 'column_6',\n",
       " 'column_27',\n",
       " 'column_12',\n",
       " 'column_2',\n",
       " 'column_47',\n",
       " 'column_24',\n",
       " 'column_29',\n",
       " 'column_4',\n",
       " 'column_49',\n",
       " 'column_37',\n",
       " 'column_33',\n",
       " 'column_14']"
      ]
     },
     "execution_count": 10,
     "metadata": {},
     "output_type": "execute_result"
    }
   ],
   "source": [
    "mrmr_package(df_pd, \"target\", 20)"
   ]
  }
 ],
 "metadata": {
  "kernelspec": {
   "display_name": "my_py11",
   "language": "python",
   "name": "python3"
  },
  "language_info": {
   "codemirror_mode": {
    "name": "ipython",
    "version": 3
   },
   "file_extension": ".py",
   "mimetype": "text/x-python",
   "name": "python",
   "nbconvert_exporter": "python",
   "pygments_lexer": "ipython3",
   "version": "3.11.3"
  },
  "orig_nbformat": 4
 },
 "nbformat": 4,
 "nbformat_minor": 2
}
