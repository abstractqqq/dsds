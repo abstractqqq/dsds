{
 "cells": [
  {
   "cell_type": "code",
   "execution_count": 1,
   "metadata": {},
   "outputs": [],
   "source": [
    "import polars as pl\n",
    "import numpy as np \n",
    "# import pandas as pd \n",
    "from scipy.special import fdtrc\n",
    "from typing import * "
   ]
  },
  {
   "attachments": {},
   "cell_type": "markdown",
   "metadata": {},
   "source": [
    "# Testing text_data.py"
   ]
  },
  {
   "cell_type": "code",
   "execution_count": null,
   "metadata": {},
   "outputs": [],
   "source": [
    "from text_data import transform_text_data"
   ]
  },
  {
   "cell_type": "code",
   "execution_count": null,
   "metadata": {},
   "outputs": [],
   "source": [
    "line1 = \"She told me that she likes hiking.\"\n",
    "line2 = \"He told me that he doesn't like me.\"\n",
    "line3 = \"Hello World!\""
   ]
  },
  {
   "cell_type": "code",
   "execution_count": null,
   "metadata": {},
   "outputs": [],
   "source": [
    "df = pl.from_records([[line1, line2, line3], [\"A\", \"B\", \"C\"]], schema=[\"text_col\", \"category\"]).with_columns([\n",
    "    pl.lit(1).alias(\"Whatever Value\")\n",
    "])\n",
    "df "
   ]
  },
  {
   "cell_type": "code",
   "execution_count": null,
   "metadata": {},
   "outputs": [],
   "source": [
    "df_transformed, reverse_memo = transform_text_data(df, text_cols=[\"text_col\"], min_df=0, max_df=1)"
   ]
  },
  {
   "cell_type": "code",
   "execution_count": null,
   "metadata": {},
   "outputs": [],
   "source": [
    "df_transformed"
   ]
  },
  {
   "cell_type": "code",
   "execution_count": null,
   "metadata": {},
   "outputs": [],
   "source": [
    "reverse_memo"
   ]
  },
  {
   "cell_type": "code",
   "execution_count": null,
   "metadata": {},
   "outputs": [],
   "source": []
  },
  {
   "attachments": {},
   "cell_type": "markdown",
   "metadata": {},
   "source": [
    "# Test Other EDA Methods (eda.py) "
   ]
  },
  {
   "cell_type": "code",
   "execution_count": 2,
   "metadata": {},
   "outputs": [],
   "source": [
    "import polars as pl\n",
    "from eda import information_gain, constant_removal, binary_transform, f_score, var_removal"
   ]
  },
  {
   "cell_type": "code",
   "execution_count": 3,
   "metadata": {},
   "outputs": [
    {
     "data": {
      "text/html": [
       "<div><style>\n",
       ".dataframe > thead > tr > th,\n",
       ".dataframe > tbody > tr > td {\n",
       "  text-align: right;\n",
       "}\n",
       "</style>\n",
       "<small>shape: (5, 14)</small><table border=\"1\" class=\"dataframe\"><thead><tr><th>Daily Time Spent on Site</th><th>Age</th><th>Area Income</th><th>Daily Internet Usage</th><th>Ad Topic Line</th><th>City</th><th>Male</th><th>Country</th><th>Timestamp</th><th>Clicked on Ad</th><th>Age Band</th><th>Daily Internet Usage Band</th><th>Area Income Band</th><th>Test</th></tr><tr><td>f64</td><td>i64</td><td>f64</td><td>f64</td><td>str</td><td>str</td><td>i64</td><td>str</td><td>str</td><td>i64</td><td>i64</td><td>f64</td><td>f64</td><td>i32</td></tr></thead><tbody><tr><td>68.95</td><td>35</td><td>61833.9</td><td>256.09</td><td>&quot;Cloned 5thgene…</td><td>&quot;Wrightburgh&quot;</td><td>0</td><td>&quot;Tunisia&quot;</td><td>&quot;2016-03-27 00:…</td><td>0</td><td>30</td><td>12.0</td><td>12.0</td><td>0</td></tr><tr><td>80.23</td><td>31</td><td>68441.85</td><td>193.77</td><td>&quot;Monitored nati…</td><td>&quot;West Jodi&quot;</td><td>1</td><td>&quot;Nauru&quot;</td><td>&quot;2016-04-04 01:…</td><td>0</td><td>30</td><td>9.0</td><td>13.0</td><td>null</td></tr><tr><td>69.47</td><td>26</td><td>59785.94</td><td>236.5</td><td>&quot;Organic bottom…</td><td>&quot;Davidton&quot;</td><td>0</td><td>&quot;San Marino&quot;</td><td>&quot;2016-03-13 20:…</td><td>0</td><td>20</td><td>11.0</td><td>11.0</td><td>0</td></tr><tr><td>74.15</td><td>29</td><td>54806.18</td><td>245.89</td><td>&quot;Triple-buffere…</td><td>&quot;West Terrifurt…</td><td>1</td><td>&quot;Italy&quot;</td><td>&quot;2016-01-10 02:…</td><td>0</td><td>20</td><td>12.0</td><td>10.0</td><td>null</td></tr><tr><td>68.37</td><td>35</td><td>73889.99</td><td>225.58</td><td>&quot;Robust logisti…</td><td>&quot;South Manuel&quot;</td><td>0</td><td>&quot;Iceland&quot;</td><td>&quot;2016-06-03 03:…</td><td>0</td><td>30</td><td>11.0</td><td>14.0</td><td>0</td></tr></tbody></table></div>"
      ],
      "text/plain": [
       "shape: (5, 14)\n",
       "┌────────────┬─────┬─────────────┬────────────┬───┬──────────┬───────────────┬──────────────┬──────┐\n",
       "│ Daily Time ┆ Age ┆ Area Income ┆ Daily      ┆ … ┆ Age Band ┆ Daily         ┆ Area Income  ┆ Test │\n",
       "│ Spent on   ┆ --- ┆ ---         ┆ Internet   ┆   ┆ ---      ┆ Internet      ┆ Band         ┆ ---  │\n",
       "│ Site       ┆ i64 ┆ f64         ┆ Usage      ┆   ┆ i64      ┆ Usage Band    ┆ ---          ┆ i32  │\n",
       "│ ---        ┆     ┆             ┆ ---        ┆   ┆          ┆ ---           ┆ f64          ┆      │\n",
       "│ f64        ┆     ┆             ┆ f64        ┆   ┆          ┆ f64           ┆              ┆      │\n",
       "╞════════════╪═════╪═════════════╪════════════╪═══╪══════════╪═══════════════╪══════════════╪══════╡\n",
       "│ 68.95      ┆ 35  ┆ 61833.9     ┆ 256.09     ┆ … ┆ 30       ┆ 12.0          ┆ 12.0         ┆ 0    │\n",
       "│ 80.23      ┆ 31  ┆ 68441.85    ┆ 193.77     ┆ … ┆ 30       ┆ 9.0           ┆ 13.0         ┆ null │\n",
       "│ 69.47      ┆ 26  ┆ 59785.94    ┆ 236.5      ┆ … ┆ 20       ┆ 11.0          ┆ 11.0         ┆ 0    │\n",
       "│ 74.15      ┆ 29  ┆ 54806.18    ┆ 245.89     ┆ … ┆ 20       ┆ 12.0          ┆ 10.0         ┆ null │\n",
       "│ 68.37      ┆ 35  ┆ 73889.99    ┆ 225.58     ┆ … ┆ 30       ┆ 11.0          ┆ 14.0         ┆ 0    │\n",
       "└────────────┴─────┴─────────────┴────────────┴───┴──────────┴───────────────┴──────────────┴──────┘"
      ]
     },
     "execution_count": 3,
     "metadata": {},
     "output_type": "execute_result"
    }
   ],
   "source": [
    "df = pl.read_csv(\"./data/advertising.csv\").with_columns([\n",
    "    ((pl.col(\"Age\") // 10) * 10).alias(\"Age Band\"),\n",
    "    (pl.col(\"Daily Internet Usage\") // 20).alias(\"Daily Internet Usage Band\"),\n",
    "    (pl.col(\"Area Income\") // 5000).alias(\"Area Income Band\"),\n",
    "    pl.when(pl.col(\"Male\") == 0).then(0).otherwise(None).alias(\"Test\")\n",
    "])\n",
    "df.head() "
   ]
  },
  {
   "cell_type": "code",
   "execution_count": 4,
   "metadata": {},
   "outputs": [
    {
     "name": "stdout",
     "output_type": "stream",
     "text": [
      "The following columns are dropped because they have lower than 0.5 variance. ['Male', 'Test']\n",
      "Removed a total of 2 columns.\n"
     ]
    },
    {
     "data": {
      "text/html": [
       "<div><style>\n",
       ".dataframe > thead > tr > th,\n",
       ".dataframe > tbody > tr > td {\n",
       "  text-align: right;\n",
       "}\n",
       "</style>\n",
       "<small>shape: (1_000, 12)</small><table border=\"1\" class=\"dataframe\"><thead><tr><th>Daily Time Spent on Site</th><th>Age</th><th>Area Income</th><th>Daily Internet Usage</th><th>Ad Topic Line</th><th>City</th><th>Country</th><th>Timestamp</th><th>Clicked on Ad</th><th>Age Band</th><th>Daily Internet Usage Band</th><th>Area Income Band</th></tr><tr><td>f64</td><td>i64</td><td>f64</td><td>f64</td><td>str</td><td>str</td><td>str</td><td>str</td><td>i64</td><td>i64</td><td>f64</td><td>f64</td></tr></thead><tbody><tr><td>68.95</td><td>35</td><td>61833.9</td><td>256.09</td><td>&quot;Cloned 5thgene…</td><td>&quot;Wrightburgh&quot;</td><td>&quot;Tunisia&quot;</td><td>&quot;2016-03-27 00:…</td><td>0</td><td>30</td><td>12.0</td><td>12.0</td></tr><tr><td>80.23</td><td>31</td><td>68441.85</td><td>193.77</td><td>&quot;Monitored nati…</td><td>&quot;West Jodi&quot;</td><td>&quot;Nauru&quot;</td><td>&quot;2016-04-04 01:…</td><td>0</td><td>30</td><td>9.0</td><td>13.0</td></tr><tr><td>69.47</td><td>26</td><td>59785.94</td><td>236.5</td><td>&quot;Organic bottom…</td><td>&quot;Davidton&quot;</td><td>&quot;San Marino&quot;</td><td>&quot;2016-03-13 20:…</td><td>0</td><td>20</td><td>11.0</td><td>11.0</td></tr><tr><td>74.15</td><td>29</td><td>54806.18</td><td>245.89</td><td>&quot;Triple-buffere…</td><td>&quot;West Terrifurt…</td><td>&quot;Italy&quot;</td><td>&quot;2016-01-10 02:…</td><td>0</td><td>20</td><td>12.0</td><td>10.0</td></tr><tr><td>68.37</td><td>35</td><td>73889.99</td><td>225.58</td><td>&quot;Robust logisti…</td><td>&quot;South Manuel&quot;</td><td>&quot;Iceland&quot;</td><td>&quot;2016-06-03 03:…</td><td>0</td><td>30</td><td>11.0</td><td>14.0</td></tr><tr><td>59.99</td><td>23</td><td>59761.56</td><td>226.74</td><td>&quot;Sharable clien…</td><td>&quot;Jamieberg&quot;</td><td>&quot;Norway&quot;</td><td>&quot;2016-05-19 14:…</td><td>0</td><td>20</td><td>11.0</td><td>11.0</td></tr><tr><td>88.91</td><td>33</td><td>53852.85</td><td>208.36</td><td>&quot;Enhanced dedic…</td><td>&quot;Brandonstad&quot;</td><td>&quot;Myanmar&quot;</td><td>&quot;2016-01-28 20:…</td><td>0</td><td>30</td><td>10.0</td><td>10.0</td></tr><tr><td>66.0</td><td>48</td><td>24593.33</td><td>131.76</td><td>&quot;Reactive local…</td><td>&quot;Port Jefferybu…</td><td>&quot;Australia&quot;</td><td>&quot;2016-03-07 01:…</td><td>1</td><td>40</td><td>6.0</td><td>4.0</td></tr><tr><td>74.53</td><td>30</td><td>68862.0</td><td>221.51</td><td>&quot;Configurable c…</td><td>&quot;West Colin&quot;</td><td>&quot;Grenada&quot;</td><td>&quot;2016-04-18 09:…</td><td>0</td><td>30</td><td>11.0</td><td>13.0</td></tr><tr><td>69.88</td><td>20</td><td>55642.32</td><td>183.82</td><td>&quot;Mandatory homo…</td><td>&quot;Ramirezton&quot;</td><td>&quot;Ghana&quot;</td><td>&quot;2016-07-11 01:…</td><td>0</td><td>20</td><td>9.0</td><td>11.0</td></tr><tr><td>47.64</td><td>49</td><td>45632.51</td><td>122.02</td><td>&quot;Centralized ne…</td><td>&quot;West Brandonto…</td><td>&quot;Qatar&quot;</td><td>&quot;2016-03-16 20:…</td><td>1</td><td>40</td><td>6.0</td><td>9.0</td></tr><tr><td>83.07</td><td>37</td><td>62491.01</td><td>230.87</td><td>&quot;Team-oriented …</td><td>&quot;East Theresash…</td><td>&quot;Burundi&quot;</td><td>&quot;2016-05-08 08:…</td><td>0</td><td>30</td><td>11.0</td><td>12.0</td></tr><tr><td>&hellip;</td><td>&hellip;</td><td>&hellip;</td><td>&hellip;</td><td>&hellip;</td><td>&hellip;</td><td>&hellip;</td><td>&hellip;</td><td>&hellip;</td><td>&hellip;</td><td>&hellip;</td><td>&hellip;</td></tr><tr><td>89.71</td><td>48</td><td>51501.38</td><td>204.4</td><td>&quot;Versatile loca…</td><td>&quot;Sarafurt&quot;</td><td>&quot;Bahrain&quot;</td><td>&quot;2016-02-17 07:…</td><td>0</td><td>40</td><td>10.0</td><td>10.0</td></tr><tr><td>70.96</td><td>31</td><td>55187.85</td><td>256.4</td><td>&quot;Ameliorated us…</td><td>&quot;South Denise&quot;</td><td>&quot;Saint Pierre a…</td><td>&quot;2016-06-26 07:…</td><td>0</td><td>30</td><td>12.0</td><td>11.0</td></tr><tr><td>35.79</td><td>44</td><td>33813.08</td><td>165.62</td><td>&quot;Enterprise-wid…</td><td>&quot;North Katie&quot;</td><td>&quot;Tonga&quot;</td><td>&quot;2016-04-20 13:…</td><td>1</td><td>40</td><td>8.0</td><td>6.0</td></tr><tr><td>38.96</td><td>38</td><td>36497.22</td><td>140.67</td><td>&quot;Versatile miss…</td><td>&quot;Mauricefurt&quot;</td><td>&quot;Comoros&quot;</td><td>&quot;2016-07-21 16:…</td><td>1</td><td>30</td><td>7.0</td><td>7.0</td></tr><tr><td>69.17</td><td>40</td><td>66193.81</td><td>123.62</td><td>&quot;Extended leadi…</td><td>&quot;New Patrick&quot;</td><td>&quot;Montenegro&quot;</td><td>&quot;2016-03-06 11:…</td><td>1</td><td>40</td><td>6.0</td><td>13.0</td></tr><tr><td>64.2</td><td>27</td><td>66200.96</td><td>227.63</td><td>&quot;Phased zero to…</td><td>&quot;Edwardsmouth&quot;</td><td>&quot;Isle of Man&quot;</td><td>&quot;2016-02-11 23:…</td><td>0</td><td>20</td><td>11.0</td><td>13.0</td></tr><tr><td>43.7</td><td>28</td><td>63126.96</td><td>173.01</td><td>&quot;Front-line bif…</td><td>&quot;Nicholasland&quot;</td><td>&quot;Mayotte&quot;</td><td>&quot;2016-04-04 03:…</td><td>1</td><td>20</td><td>8.0</td><td>12.0</td></tr><tr><td>72.97</td><td>30</td><td>71384.57</td><td>208.58</td><td>&quot;Fundamental mo…</td><td>&quot;Duffystad&quot;</td><td>&quot;Lebanon&quot;</td><td>&quot;2016-02-11 21:…</td><td>1</td><td>30</td><td>10.0</td><td>14.0</td></tr><tr><td>51.3</td><td>45</td><td>67782.17</td><td>134.42</td><td>&quot;Grass-roots co…</td><td>&quot;New Darlene&quot;</td><td>&quot;Bosnia and Her…</td><td>&quot;2016-04-22 02:…</td><td>1</td><td>40</td><td>6.0</td><td>13.0</td></tr><tr><td>51.63</td><td>51</td><td>42415.72</td><td>120.37</td><td>&quot;Expanded intan…</td><td>&quot;South Jessica&quot;</td><td>&quot;Mongolia&quot;</td><td>&quot;2016-02-01 17:…</td><td>1</td><td>50</td><td>6.0</td><td>8.0</td></tr><tr><td>55.55</td><td>19</td><td>41920.79</td><td>187.95</td><td>&quot;Proactive band…</td><td>&quot;West Steven&quot;</td><td>&quot;Guatemala&quot;</td><td>&quot;2016-03-24 02:…</td><td>0</td><td>10</td><td>9.0</td><td>8.0</td></tr><tr><td>45.01</td><td>26</td><td>29875.8</td><td>178.35</td><td>&quot;Virtual 5thgen…</td><td>&quot;Ronniemouth&quot;</td><td>&quot;Brazil&quot;</td><td>&quot;2016-06-03 21:…</td><td>1</td><td>20</td><td>8.0</td><td>5.0</td></tr></tbody></table></div>"
      ],
      "text/plain": [
       "shape: (1_000, 12)\n",
       "┌────────────┬─────┬───────────┬────────────┬───┬────────────┬──────────┬────────────┬────────────┐\n",
       "│ Daily Time ┆ Age ┆ Area      ┆ Daily      ┆ … ┆ Clicked on ┆ Age Band ┆ Daily      ┆ Area       │\n",
       "│ Spent on   ┆ --- ┆ Income    ┆ Internet   ┆   ┆ Ad         ┆ ---      ┆ Internet   ┆ Income     │\n",
       "│ Site       ┆ i64 ┆ ---       ┆ Usage      ┆   ┆ ---        ┆ i64      ┆ Usage Band ┆ Band       │\n",
       "│ ---        ┆     ┆ f64       ┆ ---        ┆   ┆ i64        ┆          ┆ ---        ┆ ---        │\n",
       "│ f64        ┆     ┆           ┆ f64        ┆   ┆            ┆          ┆ f64        ┆ f64        │\n",
       "╞════════════╪═════╪═══════════╪════════════╪═══╪════════════╪══════════╪════════════╪════════════╡\n",
       "│ 68.95      ┆ 35  ┆ 61833.9   ┆ 256.09     ┆ … ┆ 0          ┆ 30       ┆ 12.0       ┆ 12.0       │\n",
       "│ 80.23      ┆ 31  ┆ 68441.85  ┆ 193.77     ┆ … ┆ 0          ┆ 30       ┆ 9.0        ┆ 13.0       │\n",
       "│ 69.47      ┆ 26  ┆ 59785.94  ┆ 236.5      ┆ … ┆ 0          ┆ 20       ┆ 11.0       ┆ 11.0       │\n",
       "│ 74.15      ┆ 29  ┆ 54806.18  ┆ 245.89     ┆ … ┆ 0          ┆ 20       ┆ 12.0       ┆ 10.0       │\n",
       "│ …          ┆ …   ┆ …         ┆ …          ┆ … ┆ …          ┆ …        ┆ …          ┆ …          │\n",
       "│ 51.3       ┆ 45  ┆ 67782.17  ┆ 134.42     ┆ … ┆ 1          ┆ 40       ┆ 6.0        ┆ 13.0       │\n",
       "│ 51.63      ┆ 51  ┆ 42415.72  ┆ 120.37     ┆ … ┆ 1          ┆ 50       ┆ 6.0        ┆ 8.0        │\n",
       "│ 55.55      ┆ 19  ┆ 41920.79  ┆ 187.95     ┆ … ┆ 0          ┆ 10       ┆ 9.0        ┆ 8.0        │\n",
       "│ 45.01      ┆ 26  ┆ 29875.8   ┆ 178.35     ┆ … ┆ 1          ┆ 20       ┆ 8.0        ┆ 5.0        │\n",
       "└────────────┴─────┴───────────┴────────────┴───┴────────────┴──────────┴────────────┴────────────┘"
      ]
     },
     "execution_count": 4,
     "metadata": {},
     "output_type": "execute_result"
    }
   ],
   "source": [
    "df = var_removal(df, threshold=0.5, target=\"Clicked on Ad\")"
   ]
  },
  {
   "cell_type": "code",
   "execution_count": null,
   "metadata": {},
   "outputs": [],
   "source": [
    "df = constant_removal(df)"
   ]
  },
  {
   "cell_type": "code",
   "execution_count": null,
   "metadata": {},
   "outputs": [],
   "source": [
    "df, table = binary_transform(df)\n",
    "df "
   ]
  },
  {
   "cell_type": "code",
   "execution_count": null,
   "metadata": {},
   "outputs": [],
   "source": [
    "# This is obviously redundant transformation\n",
    "# So we may set exclude = [\"Male\", \"Clicked on Ad\"]\n",
    "table "
   ]
  },
  {
   "cell_type": "code",
   "execution_count": null,
   "metadata": {},
   "outputs": [],
   "source": [
    "cats = [\"Age Band\", \"Male\", \"Country\", \"Area Income Band\", \"Daily Internet Usage Band\"]\n",
    "target = \"Clicked on Ad\""
   ]
  },
  {
   "cell_type": "code",
   "execution_count": null,
   "metadata": {},
   "outputs": [],
   "source": [
    "information_gain(df, target, cat_cols=cats)"
   ]
  },
  {
   "cell_type": "code",
   "execution_count": null,
   "metadata": {},
   "outputs": [],
   "source": [
    "f_score(df, target=target)"
   ]
  },
  {
   "cell_type": "code",
   "execution_count": null,
   "metadata": {},
   "outputs": [],
   "source": [
    "# target = \"Clicked on Ad\"\n",
    "nums = []\n",
    "for c,t in zip(df.columns, df.dtypes):\n",
    "    if t != pl.Utf8 and t != pl.Struct and c != target:\n",
    "        nums.append(c)\n",
    "\n",
    "nums "
   ]
  },
  {
   "cell_type": "code",
   "execution_count": null,
   "metadata": {},
   "outputs": [],
   "source": [
    "from sklearn.feature_selection import f_classif\n",
    " \n",
    "f, pv = f_classif(df[nums], df[target])\n",
    "pl.from_records([nums, f, pv], schema=[\"feature\", \"f_score\", \"p_value\"])"
   ]
  },
  {
   "cell_type": "code",
   "execution_count": null,
   "metadata": {},
   "outputs": [],
   "source": [
    "df_test = pl.concat([df.clone()] * 100)\n",
    "df_test.shape"
   ]
  },
  {
   "cell_type": "code",
   "execution_count": null,
   "metadata": {},
   "outputs": [],
   "source": [
    "%%timeit \n",
    "f_score(df_test, target=\"Clicked on Ad\", num_cols=nums)"
   ]
  },
  {
   "cell_type": "code",
   "execution_count": null,
   "metadata": {},
   "outputs": [],
   "source": [
    "%%timeit \n",
    "f, pv = f_classif(df_test[nums], df_test[target])\n",
    "pl.from_records([nums, f, pv], schema=[\"feature\", \"f_score\", \"p_value\"])"
   ]
  },
  {
   "cell_type": "code",
   "execution_count": null,
   "metadata": {},
   "outputs": [],
   "source": []
  }
 ],
 "metadata": {
  "kernelspec": {
   "display_name": "nodus",
   "language": "python",
   "name": "python3"
  },
  "language_info": {
   "codemirror_mode": {
    "name": "ipython",
    "version": 3
   },
   "file_extension": ".py",
   "mimetype": "text/x-python",
   "name": "python",
   "nbconvert_exporter": "python",
   "pygments_lexer": "ipython3",
   "version": "3.11.3"
  },
  "orig_nbformat": 4,
  "vscode": {
   "interpreter": {
    "hash": "74f1072b57173f378ab32b3582e04f0f79e785f166fd2fbdd636602a68526af8"
   }
  }
 },
 "nbformat": 4,
 "nbformat_minor": 2
}
