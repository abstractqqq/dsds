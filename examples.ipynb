{
 "cells": [
  {
   "cell_type": "code",
   "execution_count": 14,
   "metadata": {},
   "outputs": [],
   "source": [
    "import polars as pl\n",
    "import pandas as pd "
   ]
  },
  {
   "attachments": {},
   "cell_type": "markdown",
   "metadata": {},
   "source": [
    "# Testing text_data.py"
   ]
  },
  {
   "cell_type": "code",
   "execution_count": 2,
   "metadata": {},
   "outputs": [],
   "source": [
    "from text_data import transform_text_data"
   ]
  },
  {
   "cell_type": "code",
   "execution_count": 3,
   "metadata": {},
   "outputs": [],
   "source": [
    "line1 = \"She told me that she likes hiking.\"\n",
    "line2 = \"He told me that he doesn't like me.\"\n",
    "line3 = \"Hello World!\""
   ]
  },
  {
   "cell_type": "code",
   "execution_count": 4,
   "metadata": {},
   "outputs": [
    {
     "data": {
      "text/html": [
       "<div><style>\n",
       ".dataframe > thead > tr > th,\n",
       ".dataframe > tbody > tr > td {\n",
       "  text-align: right;\n",
       "}\n",
       "</style>\n",
       "<small>shape: (3, 3)</small><table border=\"1\" class=\"dataframe\"><thead><tr><th>text_col</th><th>category</th><th>Whatever Value</th></tr><tr><td>str</td><td>str</td><td>i32</td></tr></thead><tbody><tr><td>&quot;She told me th…</td><td>&quot;A&quot;</td><td>1</td></tr><tr><td>&quot;He told me tha…</td><td>&quot;B&quot;</td><td>1</td></tr><tr><td>&quot;Hello World!&quot;</td><td>&quot;C&quot;</td><td>1</td></tr></tbody></table></div>"
      ],
      "text/plain": [
       "shape: (3, 3)\n",
       "┌───────────────────────────────────┬──────────┬────────────────┐\n",
       "│ text_col                          ┆ category ┆ Whatever Value │\n",
       "│ ---                               ┆ ---      ┆ ---            │\n",
       "│ str                               ┆ str      ┆ i32            │\n",
       "╞═══════════════════════════════════╪══════════╪════════════════╡\n",
       "│ She told me that she likes hikin… ┆ A        ┆ 1              │\n",
       "│ He told me that he doesn't like … ┆ B        ┆ 1              │\n",
       "│ Hello World!                      ┆ C        ┆ 1              │\n",
       "└───────────────────────────────────┴──────────┴────────────────┘"
      ]
     },
     "execution_count": 4,
     "metadata": {},
     "output_type": "execute_result"
    }
   ],
   "source": [
    "df = pl.from_records([[line1, line2, line3], [\"A\", \"B\", \"C\"]], schema=[\"text_col\", \"category\"]).with_columns([\n",
    "    pl.lit(1).alias(\"Whatever Value\")\n",
    "])\n",
    "df "
   ]
  },
  {
   "cell_type": "code",
   "execution_count": 5,
   "metadata": {},
   "outputs": [
    {
     "name": "stdout",
     "output_type": "stream",
     "text": [
      "Perfoming stemming...\n",
      "Performing Count vectorization for text_col...\n"
     ]
    }
   ],
   "source": [
    "df_transformed, reverse_memo = transform_text_data(df, text_cols=[\"text_col\"], min_df=0, max_df=1)"
   ]
  },
  {
   "cell_type": "code",
   "execution_count": 6,
   "metadata": {},
   "outputs": [
    {
     "data": {
      "text/html": [
       "<div><style>\n",
       ".dataframe > thead > tr > th,\n",
       ".dataframe > tbody > tr > td {\n",
       "  text-align: right;\n",
       "}\n",
       "</style>\n",
       "<small>shape: (3, 6)</small><table border=\"1\" class=\"dataframe\"><thead><tr><th>category</th><th>Whatever Value</th><th>text_col::word::doesnt</th><th>text_col::word::hello</th><th>text_col::word::hike</th><th>text_col::word::world</th></tr><tr><td>str</td><td>i32</td><td>i64</td><td>i64</td><td>i64</td><td>i64</td></tr></thead><tbody><tr><td>&quot;A&quot;</td><td>1</td><td>0</td><td>0</td><td>1</td><td>0</td></tr><tr><td>&quot;B&quot;</td><td>1</td><td>1</td><td>0</td><td>0</td><td>0</td></tr><tr><td>&quot;C&quot;</td><td>1</td><td>0</td><td>1</td><td>0</td><td>1</td></tr></tbody></table></div>"
      ],
      "text/plain": [
       "shape: (3, 6)\n",
       "┌──────────┬────────────────┬─────────────────┬─────────────────┬─────────────────┬────────────────┐\n",
       "│ category ┆ Whatever Value ┆ text_col::word: ┆ text_col::word: ┆ text_col::word: ┆ text_col::word │\n",
       "│ ---      ┆ ---            ┆ :doesnt         ┆ :hello          ┆ :hike           ┆ ::world        │\n",
       "│ str      ┆ i32            ┆ ---             ┆ ---             ┆ ---             ┆ ---            │\n",
       "│          ┆                ┆ i64             ┆ i64             ┆ i64             ┆ i64            │\n",
       "╞══════════╪════════════════╪═════════════════╪═════════════════╪═════════════════╪════════════════╡\n",
       "│ A        ┆ 1              ┆ 0               ┆ 0               ┆ 1               ┆ 0              │\n",
       "│ B        ┆ 1              ┆ 1               ┆ 0               ┆ 0               ┆ 0              │\n",
       "│ C        ┆ 1              ┆ 0               ┆ 1               ┆ 0               ┆ 1              │\n",
       "└──────────┴────────────────┴─────────────────┴─────────────────┴─────────────────┴────────────────┘"
      ]
     },
     "execution_count": 6,
     "metadata": {},
     "output_type": "execute_result"
    }
   ],
   "source": [
    "df_transformed"
   ]
  },
  {
   "cell_type": "code",
   "execution_count": 7,
   "metadata": {},
   "outputs": [
    {
     "data": {
      "text/plain": [
       "{'she': ['she'],\n",
       " 'told': ['told'],\n",
       " 'me': ['me'],\n",
       " 'that': ['that'],\n",
       " 'like': ['likes', 'like'],\n",
       " 'hike': ['hiking'],\n",
       " 'he': ['he'],\n",
       " 'doesnt': ['doesnt'],\n",
       " 'hello': ['hello'],\n",
       " 'world': ['world']}"
      ]
     },
     "execution_count": 7,
     "metadata": {},
     "output_type": "execute_result"
    }
   ],
   "source": [
    "reverse_memo"
   ]
  },
  {
   "cell_type": "code",
   "execution_count": null,
   "metadata": {},
   "outputs": [],
   "source": []
  },
  {
   "attachments": {},
   "cell_type": "markdown",
   "metadata": {},
   "source": [
    "# Test eda.py "
   ]
  },
  {
   "cell_type": "code",
   "execution_count": 8,
   "metadata": {},
   "outputs": [],
   "source": [
    "from eda import information_gain, constant_removal, binary_transform"
   ]
  },
  {
   "cell_type": "code",
   "execution_count": 15,
   "metadata": {},
   "outputs": [
    {
     "data": {
      "text/html": [
       "<div><style>\n",
       ".dataframe > thead > tr > th,\n",
       ".dataframe > tbody > tr > td {\n",
       "  text-align: right;\n",
       "}\n",
       "</style>\n",
       "<small>shape: (5, 11)</small><table border=\"1\" class=\"dataframe\"><thead><tr><th>Daily Time Spent on Site</th><th>Age</th><th>Area Income</th><th>Daily Internet Usage</th><th>Ad Topic Line</th><th>City</th><th>Male</th><th>Country</th><th>Timestamp</th><th>Clicked on Ad</th><th>Test</th></tr><tr><td>f64</td><td>i64</td><td>f64</td><td>f64</td><td>str</td><td>str</td><td>i64</td><td>str</td><td>str</td><td>i64</td><td>i32</td></tr></thead><tbody><tr><td>68.95</td><td>35</td><td>61833.9</td><td>256.09</td><td>&quot;Cloned 5thgene…</td><td>&quot;Wrightburgh&quot;</td><td>0</td><td>&quot;Tunisia&quot;</td><td>&quot;2016-03-27 00:…</td><td>0</td><td>0</td></tr><tr><td>80.23</td><td>31</td><td>68441.85</td><td>193.77</td><td>&quot;Monitored nati…</td><td>&quot;West Jodi&quot;</td><td>1</td><td>&quot;Nauru&quot;</td><td>&quot;2016-04-04 01:…</td><td>0</td><td>null</td></tr><tr><td>69.47</td><td>26</td><td>59785.94</td><td>236.5</td><td>&quot;Organic bottom…</td><td>&quot;Davidton&quot;</td><td>0</td><td>&quot;San Marino&quot;</td><td>&quot;2016-03-13 20:…</td><td>0</td><td>0</td></tr><tr><td>74.15</td><td>29</td><td>54806.18</td><td>245.89</td><td>&quot;Triple-buffere…</td><td>&quot;West Terrifurt…</td><td>1</td><td>&quot;Italy&quot;</td><td>&quot;2016-01-10 02:…</td><td>0</td><td>null</td></tr><tr><td>68.37</td><td>35</td><td>73889.99</td><td>225.58</td><td>&quot;Robust logisti…</td><td>&quot;South Manuel&quot;</td><td>0</td><td>&quot;Iceland&quot;</td><td>&quot;2016-06-03 03:…</td><td>0</td><td>0</td></tr></tbody></table></div>"
      ],
      "text/plain": [
       "shape: (5, 11)\n",
       "┌────────────┬─────┬──────────────┬────────────┬───┬────────────┬──────────────┬────────────┬──────┐\n",
       "│ Daily Time ┆ Age ┆ Area Income  ┆ Daily      ┆ … ┆ Country    ┆ Timestamp    ┆ Clicked on ┆ Test │\n",
       "│ Spent on   ┆ --- ┆ ---          ┆ Internet   ┆   ┆ ---        ┆ ---          ┆ Ad         ┆ ---  │\n",
       "│ Site       ┆ i64 ┆ f64          ┆ Usage      ┆   ┆ str        ┆ str          ┆ ---        ┆ i32  │\n",
       "│ ---        ┆     ┆              ┆ ---        ┆   ┆            ┆              ┆ i64        ┆      │\n",
       "│ f64        ┆     ┆              ┆ f64        ┆   ┆            ┆              ┆            ┆      │\n",
       "╞════════════╪═════╪══════════════╪════════════╪═══╪════════════╪══════════════╪════════════╪══════╡\n",
       "│ 68.95      ┆ 35  ┆ 61833.9      ┆ 256.09     ┆ … ┆ Tunisia    ┆ 2016-03-27   ┆ 0          ┆ 0    │\n",
       "│            ┆     ┆              ┆            ┆   ┆            ┆ 00:53:11     ┆            ┆      │\n",
       "│ 80.23      ┆ 31  ┆ 68441.85     ┆ 193.77     ┆ … ┆ Nauru      ┆ 2016-04-04   ┆ 0          ┆ null │\n",
       "│            ┆     ┆              ┆            ┆   ┆            ┆ 01:39:02     ┆            ┆      │\n",
       "│ 69.47      ┆ 26  ┆ 59785.94     ┆ 236.5      ┆ … ┆ San Marino ┆ 2016-03-13   ┆ 0          ┆ 0    │\n",
       "│            ┆     ┆              ┆            ┆   ┆            ┆ 20:35:42     ┆            ┆      │\n",
       "│ 74.15      ┆ 29  ┆ 54806.18     ┆ 245.89     ┆ … ┆ Italy      ┆ 2016-01-10   ┆ 0          ┆ null │\n",
       "│            ┆     ┆              ┆            ┆   ┆            ┆ 02:31:19     ┆            ┆      │\n",
       "│ 68.37      ┆ 35  ┆ 73889.99     ┆ 225.58     ┆ … ┆ Iceland    ┆ 2016-06-03   ┆ 0          ┆ 0    │\n",
       "│            ┆     ┆              ┆            ┆   ┆            ┆ 03:36:18     ┆            ┆      │\n",
       "└────────────┴─────┴──────────────┴────────────┴───┴────────────┴──────────────┴────────────┴──────┘"
      ]
     },
     "execution_count": 15,
     "metadata": {},
     "output_type": "execute_result"
    }
   ],
   "source": [
    "df = pl.read_csv(\"./data/advertising.csv\").with_columns([\n",
    "    pl.when(pl.col(\"Male\") == 0).then(0).otherwise(None).alias(\"Test\")\n",
    "])\n",
    "df.head() "
   ]
  },
  {
   "cell_type": "code",
   "execution_count": 10,
   "metadata": {},
   "outputs": [
    {
     "name": "stdout",
     "output_type": "stream",
     "text": [
      "The following columns are dropped because they are constants. ['Test'].\n",
      "Removed a total of 1 columns.\n"
     ]
    }
   ],
   "source": [
    "df = constant_removal(df)"
   ]
  },
  {
   "cell_type": "code",
   "execution_count": 12,
   "metadata": {},
   "outputs": [
    {
     "data": {
      "text/html": [
       "<div><style>\n",
       ".dataframe > thead > tr > th,\n",
       ".dataframe > tbody > tr > td {\n",
       "  text-align: right;\n",
       "}\n",
       "</style>\n",
       "<small>shape: (1_000, 10)</small><table border=\"1\" class=\"dataframe\"><thead><tr><th>Daily Time Spent on Site</th><th>Age</th><th>Area Income</th><th>Daily Internet Usage</th><th>Ad Topic Line</th><th>City</th><th>Male</th><th>Country</th><th>Timestamp</th><th>Clicked on Ad</th></tr><tr><td>f64</td><td>i64</td><td>f64</td><td>f64</td><td>str</td><td>str</td><td>i32</td><td>str</td><td>str</td><td>i32</td></tr></thead><tbody><tr><td>68.95</td><td>35</td><td>61833.9</td><td>256.09</td><td>&quot;Cloned 5thgene…</td><td>&quot;Wrightburgh&quot;</td><td>0</td><td>&quot;Tunisia&quot;</td><td>&quot;2016-03-27 00:…</td><td>0</td></tr><tr><td>80.23</td><td>31</td><td>68441.85</td><td>193.77</td><td>&quot;Monitored nati…</td><td>&quot;West Jodi&quot;</td><td>1</td><td>&quot;Nauru&quot;</td><td>&quot;2016-04-04 01:…</td><td>0</td></tr><tr><td>69.47</td><td>26</td><td>59785.94</td><td>236.5</td><td>&quot;Organic bottom…</td><td>&quot;Davidton&quot;</td><td>0</td><td>&quot;San Marino&quot;</td><td>&quot;2016-03-13 20:…</td><td>0</td></tr><tr><td>74.15</td><td>29</td><td>54806.18</td><td>245.89</td><td>&quot;Triple-buffere…</td><td>&quot;West Terrifurt…</td><td>1</td><td>&quot;Italy&quot;</td><td>&quot;2016-01-10 02:…</td><td>0</td></tr><tr><td>68.37</td><td>35</td><td>73889.99</td><td>225.58</td><td>&quot;Robust logisti…</td><td>&quot;South Manuel&quot;</td><td>0</td><td>&quot;Iceland&quot;</td><td>&quot;2016-06-03 03:…</td><td>0</td></tr><tr><td>59.99</td><td>23</td><td>59761.56</td><td>226.74</td><td>&quot;Sharable clien…</td><td>&quot;Jamieberg&quot;</td><td>1</td><td>&quot;Norway&quot;</td><td>&quot;2016-05-19 14:…</td><td>0</td></tr><tr><td>88.91</td><td>33</td><td>53852.85</td><td>208.36</td><td>&quot;Enhanced dedic…</td><td>&quot;Brandonstad&quot;</td><td>0</td><td>&quot;Myanmar&quot;</td><td>&quot;2016-01-28 20:…</td><td>0</td></tr><tr><td>66.0</td><td>48</td><td>24593.33</td><td>131.76</td><td>&quot;Reactive local…</td><td>&quot;Port Jefferybu…</td><td>1</td><td>&quot;Australia&quot;</td><td>&quot;2016-03-07 01:…</td><td>1</td></tr><tr><td>74.53</td><td>30</td><td>68862.0</td><td>221.51</td><td>&quot;Configurable c…</td><td>&quot;West Colin&quot;</td><td>1</td><td>&quot;Grenada&quot;</td><td>&quot;2016-04-18 09:…</td><td>0</td></tr><tr><td>69.88</td><td>20</td><td>55642.32</td><td>183.82</td><td>&quot;Mandatory homo…</td><td>&quot;Ramirezton&quot;</td><td>1</td><td>&quot;Ghana&quot;</td><td>&quot;2016-07-11 01:…</td><td>0</td></tr><tr><td>47.64</td><td>49</td><td>45632.51</td><td>122.02</td><td>&quot;Centralized ne…</td><td>&quot;West Brandonto…</td><td>0</td><td>&quot;Qatar&quot;</td><td>&quot;2016-03-16 20:…</td><td>1</td></tr><tr><td>83.07</td><td>37</td><td>62491.01</td><td>230.87</td><td>&quot;Team-oriented …</td><td>&quot;East Theresash…</td><td>1</td><td>&quot;Burundi&quot;</td><td>&quot;2016-05-08 08:…</td><td>0</td></tr><tr><td>&hellip;</td><td>&hellip;</td><td>&hellip;</td><td>&hellip;</td><td>&hellip;</td><td>&hellip;</td><td>&hellip;</td><td>&hellip;</td><td>&hellip;</td><td>&hellip;</td></tr><tr><td>89.71</td><td>48</td><td>51501.38</td><td>204.4</td><td>&quot;Versatile loca…</td><td>&quot;Sarafurt&quot;</td><td>1</td><td>&quot;Bahrain&quot;</td><td>&quot;2016-02-17 07:…</td><td>0</td></tr><tr><td>70.96</td><td>31</td><td>55187.85</td><td>256.4</td><td>&quot;Ameliorated us…</td><td>&quot;South Denise&quot;</td><td>0</td><td>&quot;Saint Pierre a…</td><td>&quot;2016-06-26 07:…</td><td>0</td></tr><tr><td>35.79</td><td>44</td><td>33813.08</td><td>165.62</td><td>&quot;Enterprise-wid…</td><td>&quot;North Katie&quot;</td><td>1</td><td>&quot;Tonga&quot;</td><td>&quot;2016-04-20 13:…</td><td>1</td></tr><tr><td>38.96</td><td>38</td><td>36497.22</td><td>140.67</td><td>&quot;Versatile miss…</td><td>&quot;Mauricefurt&quot;</td><td>1</td><td>&quot;Comoros&quot;</td><td>&quot;2016-07-21 16:…</td><td>1</td></tr><tr><td>69.17</td><td>40</td><td>66193.81</td><td>123.62</td><td>&quot;Extended leadi…</td><td>&quot;New Patrick&quot;</td><td>0</td><td>&quot;Montenegro&quot;</td><td>&quot;2016-03-06 11:…</td><td>1</td></tr><tr><td>64.2</td><td>27</td><td>66200.96</td><td>227.63</td><td>&quot;Phased zero to…</td><td>&quot;Edwardsmouth&quot;</td><td>1</td><td>&quot;Isle of Man&quot;</td><td>&quot;2016-02-11 23:…</td><td>0</td></tr><tr><td>43.7</td><td>28</td><td>63126.96</td><td>173.01</td><td>&quot;Front-line bif…</td><td>&quot;Nicholasland&quot;</td><td>0</td><td>&quot;Mayotte&quot;</td><td>&quot;2016-04-04 03:…</td><td>1</td></tr><tr><td>72.97</td><td>30</td><td>71384.57</td><td>208.58</td><td>&quot;Fundamental mo…</td><td>&quot;Duffystad&quot;</td><td>1</td><td>&quot;Lebanon&quot;</td><td>&quot;2016-02-11 21:…</td><td>1</td></tr><tr><td>51.3</td><td>45</td><td>67782.17</td><td>134.42</td><td>&quot;Grass-roots co…</td><td>&quot;New Darlene&quot;</td><td>1</td><td>&quot;Bosnia and Her…</td><td>&quot;2016-04-22 02:…</td><td>1</td></tr><tr><td>51.63</td><td>51</td><td>42415.72</td><td>120.37</td><td>&quot;Expanded intan…</td><td>&quot;South Jessica&quot;</td><td>1</td><td>&quot;Mongolia&quot;</td><td>&quot;2016-02-01 17:…</td><td>1</td></tr><tr><td>55.55</td><td>19</td><td>41920.79</td><td>187.95</td><td>&quot;Proactive band…</td><td>&quot;West Steven&quot;</td><td>0</td><td>&quot;Guatemala&quot;</td><td>&quot;2016-03-24 02:…</td><td>0</td></tr><tr><td>45.01</td><td>26</td><td>29875.8</td><td>178.35</td><td>&quot;Virtual 5thgen…</td><td>&quot;Ronniemouth&quot;</td><td>0</td><td>&quot;Brazil&quot;</td><td>&quot;2016-06-03 21:…</td><td>1</td></tr></tbody></table></div>"
      ],
      "text/plain": [
       "shape: (1_000, 10)\n",
       "┌────────────┬─────┬───────────┬────────────┬───┬──────┬───────────────┬──────────────┬────────────┐\n",
       "│ Daily Time ┆ Age ┆ Area      ┆ Daily      ┆ … ┆ Male ┆ Country       ┆ Timestamp    ┆ Clicked on │\n",
       "│ Spent on   ┆ --- ┆ Income    ┆ Internet   ┆   ┆ ---  ┆ ---           ┆ ---          ┆ Ad         │\n",
       "│ Site       ┆ i64 ┆ ---       ┆ Usage      ┆   ┆ i32  ┆ str           ┆ str          ┆ ---        │\n",
       "│ ---        ┆     ┆ f64       ┆ ---        ┆   ┆      ┆               ┆              ┆ i32        │\n",
       "│ f64        ┆     ┆           ┆ f64        ┆   ┆      ┆               ┆              ┆            │\n",
       "╞════════════╪═════╪═══════════╪════════════╪═══╪══════╪═══════════════╪══════════════╪════════════╡\n",
       "│ 68.95      ┆ 35  ┆ 61833.9   ┆ 256.09     ┆ … ┆ 0    ┆ Tunisia       ┆ 2016-03-27   ┆ 0          │\n",
       "│            ┆     ┆           ┆            ┆   ┆      ┆               ┆ 00:53:11     ┆            │\n",
       "│ 80.23      ┆ 31  ┆ 68441.85  ┆ 193.77     ┆ … ┆ 1    ┆ Nauru         ┆ 2016-04-04   ┆ 0          │\n",
       "│            ┆     ┆           ┆            ┆   ┆      ┆               ┆ 01:39:02     ┆            │\n",
       "│ 69.47      ┆ 26  ┆ 59785.94  ┆ 236.5      ┆ … ┆ 0    ┆ San Marino    ┆ 2016-03-13   ┆ 0          │\n",
       "│            ┆     ┆           ┆            ┆   ┆      ┆               ┆ 20:35:42     ┆            │\n",
       "│ 74.15      ┆ 29  ┆ 54806.18  ┆ 245.89     ┆ … ┆ 1    ┆ Italy         ┆ 2016-01-10   ┆ 0          │\n",
       "│            ┆     ┆           ┆            ┆   ┆      ┆               ┆ 02:31:19     ┆            │\n",
       "│ …          ┆ …   ┆ …         ┆ …          ┆ … ┆ …    ┆ …             ┆ …            ┆ …          │\n",
       "│ 51.3       ┆ 45  ┆ 67782.17  ┆ 134.42     ┆ … ┆ 1    ┆ Bosnia and    ┆ 2016-04-22   ┆ 1          │\n",
       "│            ┆     ┆           ┆            ┆   ┆      ┆ Herzegovina   ┆ 02:07:01     ┆            │\n",
       "│ 51.63      ┆ 51  ┆ 42415.72  ┆ 120.37     ┆ … ┆ 1    ┆ Mongolia      ┆ 2016-02-01   ┆ 1          │\n",
       "│            ┆     ┆           ┆            ┆   ┆      ┆               ┆ 17:24:57     ┆            │\n",
       "│ 55.55      ┆ 19  ┆ 41920.79  ┆ 187.95     ┆ … ┆ 0    ┆ Guatemala     ┆ 2016-03-24   ┆ 0          │\n",
       "│            ┆     ┆           ┆            ┆   ┆      ┆               ┆ 02:35:54     ┆            │\n",
       "│ 45.01      ┆ 26  ┆ 29875.8   ┆ 178.35     ┆ … ┆ 0    ┆ Brazil        ┆ 2016-06-03   ┆ 1          │\n",
       "│            ┆     ┆           ┆            ┆   ┆      ┆               ┆ 21:43:21     ┆            │\n",
       "└────────────┴─────┴───────────┴────────────┴───┴──────┴───────────────┴──────────────┴────────────┘"
      ]
     },
     "execution_count": 12,
     "metadata": {},
     "output_type": "execute_result"
    }
   ],
   "source": [
    "df, table = binary_transform(df)\n",
    "df "
   ]
  },
  {
   "cell_type": "code",
   "execution_count": 13,
   "metadata": {},
   "outputs": [
    {
     "data": {
      "text/html": [
       "<div><style>\n",
       ".dataframe > thead > tr > th,\n",
       ".dataframe > tbody > tr > td {\n",
       "  text-align: right;\n",
       "}\n",
       "</style>\n",
       "<small>shape: (2, 4)</small><table border=\"1\" class=\"dataframe\"><thead><tr><th>feature</th><th>to_0</th><th>to_1</th><th>dtype</th></tr><tr><td>str</td><td>str</td><td>str</td><td>str</td></tr></thead><tbody><tr><td>&quot;Male&quot;</td><td>&quot;0&quot;</td><td>&quot;1&quot;</td><td>&quot;numeric&quot;</td></tr><tr><td>&quot;Clicked on Ad&quot;</td><td>&quot;0&quot;</td><td>&quot;1&quot;</td><td>&quot;numeric&quot;</td></tr></tbody></table></div>"
      ],
      "text/plain": [
       "shape: (2, 4)\n",
       "┌───────────────┬──────┬──────┬─────────┐\n",
       "│ feature       ┆ to_0 ┆ to_1 ┆ dtype   │\n",
       "│ ---           ┆ ---  ┆ ---  ┆ ---     │\n",
       "│ str           ┆ str  ┆ str  ┆ str     │\n",
       "╞═══════════════╪══════╪══════╪═════════╡\n",
       "│ Male          ┆ 0    ┆ 1    ┆ numeric │\n",
       "│ Clicked on Ad ┆ 0    ┆ 1    ┆ numeric │\n",
       "└───────────────┴──────┴──────┴─────────┘"
      ]
     },
     "execution_count": 13,
     "metadata": {},
     "output_type": "execute_result"
    }
   ],
   "source": [
    "# This is obviously redundant transformation\n",
    "# So we may put set exclude = [\"Male\", \"Clicked on Ad\"]\n",
    "table "
   ]
  },
  {
   "cell_type": "code",
   "execution_count": null,
   "metadata": {},
   "outputs": [],
   "source": [
    "df = pl.read_csv(\"./data/advertising.csv\").with_columns([\n",
    "    ((pl.col(\"Age\") // 10) * 10).alias(\"Age Band\"),\n",
    "    (pl.col(\"Daily Internet Usage\") // 20).alias(\"Daily Internet Usage Band\"),\n",
    "    (pl.col(\"Area Income\") // 5000).alias(\"Area Income Band\")\n",
    "])\n",
    "df.head() \n"
   ]
  },
  {
   "cell_type": "code",
   "execution_count": null,
   "metadata": {},
   "outputs": [],
   "source": [
    "df.select([\n",
    "    pl.col(x).n_unique() for x in df.columns\n",
    "])"
   ]
  },
  {
   "cell_type": "code",
   "execution_count": null,
   "metadata": {},
   "outputs": [],
   "source": [
    "cats = [\"Age Band\", \"Male\", \"Country\", \"Area Income Band\", \"Daily Internet Usage Band\"]\n",
    "target = \"Clicked on Ad\""
   ]
  },
  {
   "cell_type": "code",
   "execution_count": null,
   "metadata": {},
   "outputs": [],
   "source": [
    "information_gain(df, target, cat_cols=cats)"
   ]
  },
  {
   "cell_type": "code",
   "execution_count": null,
   "metadata": {},
   "outputs": [],
   "source": []
  }
 ],
 "metadata": {
  "kernelspec": {
   "display_name": "nodus",
   "language": "python",
   "name": "python3"
  },
  "language_info": {
   "codemirror_mode": {
    "name": "ipython",
    "version": 3
   },
   "file_extension": ".py",
   "mimetype": "text/x-python",
   "name": "python",
   "nbconvert_exporter": "python",
   "pygments_lexer": "ipython3",
   "version": "3.11.3"
  },
  "orig_nbformat": 4,
  "vscode": {
   "interpreter": {
    "hash": "74f1072b57173f378ab32b3582e04f0f79e785f166fd2fbdd636602a68526af8"
   }
  }
 },
 "nbformat": 4,
 "nbformat_minor": 2
}
