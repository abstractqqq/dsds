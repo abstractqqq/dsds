{
 "cells": [
  {
   "cell_type": "code",
   "execution_count": 1,
   "metadata": {},
   "outputs": [],
   "source": [
    "import polars as pl "
   ]
  },
  {
   "cell_type": "code",
   "execution_count": 2,
   "metadata": {},
   "outputs": [],
   "source": [
    "line1 = \"She told me that she likes hiking.\"\n",
    "line2 = \"He told me that he doesn't like me.\""
   ]
  },
  {
   "cell_type": "code",
   "execution_count": 3,
   "metadata": {},
   "outputs": [
    {
     "data": {
      "text/html": [
       "<div>\n",
       "<style scoped>\n",
       "    .dataframe tbody tr th:only-of-type {\n",
       "        vertical-align: middle;\n",
       "    }\n",
       "\n",
       "    .dataframe tbody tr th {\n",
       "        vertical-align: top;\n",
       "    }\n",
       "\n",
       "    .dataframe thead th {\n",
       "        text-align: right;\n",
       "    }\n",
       "\n",
       "    .dataframe td {\n",
       "        white-space: pre;\n",
       "    }\n",
       "\n",
       "    .dataframe td {\n",
       "        padding-top: 0;\n",
       "    }\n",
       "\n",
       "    .dataframe td {\n",
       "        padding-bottom: 0;\n",
       "    }\n",
       "</style>\n",
       "<table border=\"1\" class=\"dataframe\">\n",
       "<small>shape: (2, 3)</small>\n",
       "<thead>\n",
       "<tr>\n",
       "<th>\n",
       "text_col\n",
       "</th>\n",
       "<th>\n",
       "category\n",
       "</th>\n",
       "<th>\n",
       "Whatever Value\n",
       "</th>\n",
       "</tr>\n",
       "<tr>\n",
       "<td>\n",
       "str\n",
       "</td>\n",
       "<td>\n",
       "str\n",
       "</td>\n",
       "<td>\n",
       "i32\n",
       "</td>\n",
       "</tr>\n",
       "</thead>\n",
       "<tbody>\n",
       "<tr>\n",
       "<td>\n",
       "&quot;She told me th...\n",
       "</td>\n",
       "<td>\n",
       "&quot;A&quot;\n",
       "</td>\n",
       "<td>\n",
       "1\n",
       "</td>\n",
       "</tr>\n",
       "<tr>\n",
       "<td>\n",
       "&quot;He told me tha...\n",
       "</td>\n",
       "<td>\n",
       "&quot;B&quot;\n",
       "</td>\n",
       "<td>\n",
       "1\n",
       "</td>\n",
       "</tr>\n",
       "</tbody>\n",
       "</table>\n",
       "</div>"
      ],
      "text/plain": [
       "shape: (2, 3)\n",
       "┌─────────────────────────────────────┬──────────┬────────────────┐\n",
       "│ text_col                            ┆ category ┆ Whatever Value │\n",
       "│ ---                                 ┆ ---      ┆ ---            │\n",
       "│ str                                 ┆ str      ┆ i32            │\n",
       "╞═════════════════════════════════════╪══════════╪════════════════╡\n",
       "│ She told me that she likes hikin... ┆ A        ┆ 1              │\n",
       "│ He told me that he doesn't like ... ┆ B        ┆ 1              │\n",
       "└─────────────────────────────────────┴──────────┴────────────────┘"
      ]
     },
     "execution_count": 3,
     "metadata": {},
     "output_type": "execute_result"
    }
   ],
   "source": [
    "df = pl.from_records([[line1, line2], [\"A\", \"B\"]], schema=[\"text_col\", \"category\"]).with_columns([\n",
    "    pl.lit(1).alias(\"Whatever Value\")\n",
    "])\n",
    "df "
   ]
  },
  {
   "cell_type": "code",
   "execution_count": 4,
   "metadata": {},
   "outputs": [],
   "source": [
    "from text_data import transform_text_data"
   ]
  },
  {
   "cell_type": "code",
   "execution_count": 5,
   "metadata": {},
   "outputs": [
    {
     "name": "stdout",
     "output_type": "stream",
     "text": [
      "Performing one-hot encoding and basic cleaning...\n",
      "Perfoming stemming...\n",
      "Performing Count vectorization for text_col...\n"
     ]
    }
   ],
   "source": [
    "df_transformed, reverse_memo = transform_text_data(df, one_hot_cols=[\"category\"], text_cols=[\"text_col\"])"
   ]
  },
  {
   "cell_type": "code",
   "execution_count": 6,
   "metadata": {},
   "outputs": [
    {
     "data": {
      "text/html": [
       "<div>\n",
       "<style scoped>\n",
       "    .dataframe tbody tr th:only-of-type {\n",
       "        vertical-align: middle;\n",
       "    }\n",
       "\n",
       "    .dataframe tbody tr th {\n",
       "        vertical-align: top;\n",
       "    }\n",
       "\n",
       "    .dataframe thead th {\n",
       "        text-align: right;\n",
       "    }\n",
       "\n",
       "    .dataframe td {\n",
       "        white-space: pre;\n",
       "    }\n",
       "\n",
       "    .dataframe td {\n",
       "        padding-top: 0;\n",
       "    }\n",
       "\n",
       "    .dataframe td {\n",
       "        padding-bottom: 0;\n",
       "    }\n",
       "</style>\n",
       "<table border=\"1\" class=\"dataframe\">\n",
       "<small>shape: (2, 5)</small>\n",
       "<thead>\n",
       "<tr>\n",
       "<th>\n",
       "Whatever Value\n",
       "</th>\n",
       "<th>\n",
       "category::A\n",
       "</th>\n",
       "<th>\n",
       "category::B\n",
       "</th>\n",
       "<th>\n",
       "text_col::word::doesnt\n",
       "</th>\n",
       "<th>\n",
       "text_col::word::hike\n",
       "</th>\n",
       "</tr>\n",
       "<tr>\n",
       "<td>\n",
       "i32\n",
       "</td>\n",
       "<td>\n",
       "u8\n",
       "</td>\n",
       "<td>\n",
       "u8\n",
       "</td>\n",
       "<td>\n",
       "i64\n",
       "</td>\n",
       "<td>\n",
       "i64\n",
       "</td>\n",
       "</tr>\n",
       "</thead>\n",
       "<tbody>\n",
       "<tr>\n",
       "<td>\n",
       "1\n",
       "</td>\n",
       "<td>\n",
       "1\n",
       "</td>\n",
       "<td>\n",
       "0\n",
       "</td>\n",
       "<td>\n",
       "0\n",
       "</td>\n",
       "<td>\n",
       "1\n",
       "</td>\n",
       "</tr>\n",
       "<tr>\n",
       "<td>\n",
       "1\n",
       "</td>\n",
       "<td>\n",
       "0\n",
       "</td>\n",
       "<td>\n",
       "1\n",
       "</td>\n",
       "<td>\n",
       "1\n",
       "</td>\n",
       "<td>\n",
       "0\n",
       "</td>\n",
       "</tr>\n",
       "</tbody>\n",
       "</table>\n",
       "</div>"
      ],
      "text/plain": [
       "shape: (2, 5)\n",
       "┌────────────────┬─────────────┬─────────────┬────────────────────────┬──────────────────────┐\n",
       "│ Whatever Value ┆ category::A ┆ category::B ┆ text_col::word::doesnt ┆ text_col::word::hike │\n",
       "│ ---            ┆ ---         ┆ ---         ┆ ---                    ┆ ---                  │\n",
       "│ i32            ┆ u8          ┆ u8          ┆ i64                    ┆ i64                  │\n",
       "╞════════════════╪═════════════╪═════════════╪════════════════════════╪══════════════════════╡\n",
       "│ 1              ┆ 1           ┆ 0           ┆ 0                      ┆ 1                    │\n",
       "│ 1              ┆ 0           ┆ 1           ┆ 1                      ┆ 0                    │\n",
       "└────────────────┴─────────────┴─────────────┴────────────────────────┴──────────────────────┘"
      ]
     },
     "execution_count": 6,
     "metadata": {},
     "output_type": "execute_result"
    }
   ],
   "source": [
    "df_transformed"
   ]
  },
  {
   "cell_type": "code",
   "execution_count": 7,
   "metadata": {},
   "outputs": [
    {
     "data": {
      "text/plain": [
       "{'she': ['she'],\n",
       " 'told': ['told'],\n",
       " 'me': ['me'],\n",
       " 'that': ['that'],\n",
       " 'like': ['likes', 'like'],\n",
       " 'hike': ['hiking'],\n",
       " 'he': ['he'],\n",
       " 'doesnt': ['doesnt']}"
      ]
     },
     "execution_count": 7,
     "metadata": {},
     "output_type": "execute_result"
    }
   ],
   "source": [
    "reverse_memo"
   ]
  },
  {
   "cell_type": "code",
   "execution_count": null,
   "metadata": {},
   "outputs": [],
   "source": []
  },
  {
   "cell_type": "code",
   "execution_count": null,
   "metadata": {},
   "outputs": [],
   "source": []
  },
  {
   "attachments": {},
   "cell_type": "markdown",
   "metadata": {},
   "source": [
    "# More to come..."
   ]
  },
  {
   "cell_type": "code",
   "execution_count": null,
   "metadata": {},
   "outputs": [],
   "source": [
    "# "
   ]
  }
 ],
 "metadata": {
  "kernelspec": {
   "display_name": "nodus",
   "language": "python",
   "name": "python3"
  },
  "language_info": {
   "codemirror_mode": {
    "name": "ipython",
    "version": 3
   },
   "file_extension": ".py",
   "mimetype": "text/x-python",
   "name": "python",
   "nbconvert_exporter": "python",
   "pygments_lexer": "ipython3",
   "version": "3.10.8"
  },
  "orig_nbformat": 4,
  "vscode": {
   "interpreter": {
    "hash": "74f1072b57173f378ab32b3582e04f0f79e785f166fd2fbdd636602a68526af8"
   }
  }
 },
 "nbformat": 4,
 "nbformat_minor": 2
}
