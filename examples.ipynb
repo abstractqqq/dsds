{
 "cells": [
  {
   "cell_type": "code",
   "execution_count": 1,
   "metadata": {},
   "outputs": [],
   "source": [
    "import polars as pl\n",
    "import numpy as np \n",
    "# import pandas as pd \n",
    "# from scipy.special import fdtrc\n",
    "from typing import * "
   ]
  },
  {
   "attachments": {},
   "cell_type": "markdown",
   "metadata": {},
   "source": [
    "# Testing text_data.py"
   ]
  },
  {
   "cell_type": "code",
   "execution_count": 2,
   "metadata": {},
   "outputs": [],
   "source": [
    "from text_data import transform_text_data"
   ]
  },
  {
   "cell_type": "code",
   "execution_count": 3,
   "metadata": {},
   "outputs": [],
   "source": [
    "line1 = \"She told me that she likes hiking.\"\n",
    "line2 = \"He told me that he doesn't like me.\"\n",
    "line3 = \"Hello World!\""
   ]
  },
  {
   "cell_type": "code",
   "execution_count": 4,
   "metadata": {},
   "outputs": [
    {
     "data": {
      "text/html": [
       "<div><style>\n",
       ".dataframe > thead > tr > th,\n",
       ".dataframe > tbody > tr > td {\n",
       "  text-align: right;\n",
       "}\n",
       "</style>\n",
       "<small>shape: (3, 3)</small><table border=\"1\" class=\"dataframe\"><thead><tr><th>text_col</th><th>category</th><th>Whatever Value</th></tr><tr><td>str</td><td>str</td><td>i32</td></tr></thead><tbody><tr><td>&quot;She told me th…</td><td>&quot;A&quot;</td><td>1</td></tr><tr><td>&quot;He told me tha…</td><td>&quot;B&quot;</td><td>1</td></tr><tr><td>&quot;Hello World!&quot;</td><td>&quot;C&quot;</td><td>1</td></tr></tbody></table></div>"
      ],
      "text/plain": [
       "shape: (3, 3)\n",
       "┌───────────────────────────────────┬──────────┬────────────────┐\n",
       "│ text_col                          ┆ category ┆ Whatever Value │\n",
       "│ ---                               ┆ ---      ┆ ---            │\n",
       "│ str                               ┆ str      ┆ i32            │\n",
       "╞═══════════════════════════════════╪══════════╪════════════════╡\n",
       "│ She told me that she likes hikin… ┆ A        ┆ 1              │\n",
       "│ He told me that he doesn't like … ┆ B        ┆ 1              │\n",
       "│ Hello World!                      ┆ C        ┆ 1              │\n",
       "└───────────────────────────────────┴──────────┴────────────────┘"
      ]
     },
     "execution_count": 4,
     "metadata": {},
     "output_type": "execute_result"
    }
   ],
   "source": [
    "df = pl.from_records([[line1, line2, line3], [\"A\", \"B\", \"C\"]], schema=[\"text_col\", \"category\"]).with_columns([\n",
    "    pl.lit(1).alias(\"Whatever Value\")\n",
    "])\n",
    "df "
   ]
  },
  {
   "cell_type": "code",
   "execution_count": 5,
   "metadata": {},
   "outputs": [
    {
     "name": "stdout",
     "output_type": "stream",
     "text": [
      "Perfoming stemming...\n",
      "Performing Count vectorization for text_col...\n"
     ]
    }
   ],
   "source": [
    "df_transformed, reverse_memo = transform_text_data(df, text_cols=[\"text_col\"], min_df=0, max_df=1)"
   ]
  },
  {
   "cell_type": "code",
   "execution_count": 6,
   "metadata": {},
   "outputs": [
    {
     "data": {
      "text/html": [
       "<div><style>\n",
       ".dataframe > thead > tr > th,\n",
       ".dataframe > tbody > tr > td {\n",
       "  text-align: right;\n",
       "}\n",
       "</style>\n",
       "<small>shape: (3, 6)</small><table border=\"1\" class=\"dataframe\"><thead><tr><th>category</th><th>Whatever Value</th><th>text_col::word::doesnt</th><th>text_col::word::hello</th><th>text_col::word::hike</th><th>text_col::word::world</th></tr><tr><td>str</td><td>i32</td><td>i64</td><td>i64</td><td>i64</td><td>i64</td></tr></thead><tbody><tr><td>&quot;A&quot;</td><td>1</td><td>0</td><td>0</td><td>1</td><td>0</td></tr><tr><td>&quot;B&quot;</td><td>1</td><td>1</td><td>0</td><td>0</td><td>0</td></tr><tr><td>&quot;C&quot;</td><td>1</td><td>0</td><td>1</td><td>0</td><td>1</td></tr></tbody></table></div>"
      ],
      "text/plain": [
       "shape: (3, 6)\n",
       "┌──────────┬────────────────┬─────────────────┬─────────────────┬─────────────────┬────────────────┐\n",
       "│ category ┆ Whatever Value ┆ text_col::word: ┆ text_col::word: ┆ text_col::word: ┆ text_col::word │\n",
       "│ ---      ┆ ---            ┆ :doesnt         ┆ :hello          ┆ :hike           ┆ ::world        │\n",
       "│ str      ┆ i32            ┆ ---             ┆ ---             ┆ ---             ┆ ---            │\n",
       "│          ┆                ┆ i64             ┆ i64             ┆ i64             ┆ i64            │\n",
       "╞══════════╪════════════════╪═════════════════╪═════════════════╪═════════════════╪════════════════╡\n",
       "│ A        ┆ 1              ┆ 0               ┆ 0               ┆ 1               ┆ 0              │\n",
       "│ B        ┆ 1              ┆ 1               ┆ 0               ┆ 0               ┆ 0              │\n",
       "│ C        ┆ 1              ┆ 0               ┆ 1               ┆ 0               ┆ 1              │\n",
       "└──────────┴────────────────┴─────────────────┴─────────────────┴─────────────────┴────────────────┘"
      ]
     },
     "execution_count": 6,
     "metadata": {},
     "output_type": "execute_result"
    }
   ],
   "source": [
    "df_transformed"
   ]
  },
  {
   "cell_type": "code",
   "execution_count": 7,
   "metadata": {},
   "outputs": [
    {
     "data": {
      "text/plain": [
       "{'she': ['she'],\n",
       " 'told': ['told'],\n",
       " 'me': ['me'],\n",
       " 'that': ['that'],\n",
       " 'like': ['likes', 'like'],\n",
       " 'hike': ['hiking'],\n",
       " 'he': ['he'],\n",
       " 'doesnt': ['doesnt'],\n",
       " 'hello': ['hello'],\n",
       " 'world': ['world']}"
      ]
     },
     "execution_count": 7,
     "metadata": {},
     "output_type": "execute_result"
    }
   ],
   "source": [
    "reverse_memo"
   ]
  },
  {
   "cell_type": "code",
   "execution_count": null,
   "metadata": {},
   "outputs": [],
   "source": []
  },
  {
   "attachments": {},
   "cell_type": "markdown",
   "metadata": {},
   "source": [
    "# Test Other EDA Methods (eda.py) "
   ]
  },
  {
   "cell_type": "code",
   "execution_count": 8,
   "metadata": {},
   "outputs": [],
   "source": [
    "import polars as pl\n",
    "from eda import describe, information_gain, constant_removal, binary_transform, f_score, var_removal, get_numeric_cols, percentile_binning"
   ]
  },
  {
   "cell_type": "code",
   "execution_count": 9,
   "metadata": {},
   "outputs": [
    {
     "data": {
      "text/html": [
       "<div><style>\n",
       ".dataframe > thead > tr > th,\n",
       ".dataframe > tbody > tr > td {\n",
       "  text-align: right;\n",
       "}\n",
       "</style>\n",
       "<small>shape: (5, 16)</small><table border=\"1\" class=\"dataframe\"><thead><tr><th>Daily Time Spent on Site</th><th>Age</th><th>Area Income</th><th>Daily Internet Usage</th><th>Ad Topic Line</th><th>City</th><th>Male</th><th>Country</th><th>Timestamp</th><th>Clicked on Ad</th><th>Age Band</th><th>Daily Internet Usage Band</th><th>Area Income Band</th><th>Test_Constant</th><th>Test_BadColumn</th><th>Test_Binary</th></tr><tr><td>f64</td><td>i64</td><td>f64</td><td>f64</td><td>str</td><td>str</td><td>i64</td><td>str</td><td>str</td><td>i64</td><td>i64</td><td>f64</td><td>f64</td><td>i32</td><td>i32</td><td>str</td></tr></thead><tbody><tr><td>68.95</td><td>35</td><td>61833.9</td><td>256.09</td><td>&quot;Cloned 5thgene…</td><td>&quot;Wrightburgh&quot;</td><td>0</td><td>&quot;Tunisia&quot;</td><td>&quot;2016-03-27 00:…</td><td>0</td><td>30</td><td>12.0</td><td>12.0</td><td>1</td><td>0</td><td>&quot;A&quot;</td></tr><tr><td>80.23</td><td>31</td><td>68441.85</td><td>193.77</td><td>&quot;Monitored nati…</td><td>&quot;West Jodi&quot;</td><td>1</td><td>&quot;Nauru&quot;</td><td>&quot;2016-04-04 01:…</td><td>0</td><td>30</td><td>9.0</td><td>13.0</td><td>1</td><td>null</td><td>&quot;B&quot;</td></tr><tr><td>69.47</td><td>26</td><td>59785.94</td><td>236.5</td><td>&quot;Organic bottom…</td><td>&quot;Davidton&quot;</td><td>0</td><td>&quot;San Marino&quot;</td><td>&quot;2016-03-13 20:…</td><td>0</td><td>20</td><td>11.0</td><td>11.0</td><td>1</td><td>0</td><td>&quot;A&quot;</td></tr><tr><td>74.15</td><td>29</td><td>54806.18</td><td>245.89</td><td>&quot;Triple-buffere…</td><td>&quot;West Terrifurt…</td><td>1</td><td>&quot;Italy&quot;</td><td>&quot;2016-01-10 02:…</td><td>0</td><td>20</td><td>12.0</td><td>10.0</td><td>1</td><td>null</td><td>&quot;B&quot;</td></tr><tr><td>68.37</td><td>35</td><td>73889.99</td><td>225.58</td><td>&quot;Robust logisti…</td><td>&quot;South Manuel&quot;</td><td>0</td><td>&quot;Iceland&quot;</td><td>&quot;2016-06-03 03:…</td><td>0</td><td>30</td><td>11.0</td><td>14.0</td><td>1</td><td>0</td><td>&quot;A&quot;</td></tr></tbody></table></div>"
      ],
      "text/plain": [
       "shape: (5, 16)\n",
       "┌────────────┬─────┬───────────┬────────────┬───┬────────────┬────────────┬────────────┬───────────┐\n",
       "│ Daily Time ┆ Age ┆ Area      ┆ Daily      ┆ … ┆ Area       ┆ Test_Const ┆ Test_BadCo ┆ Test_Bina │\n",
       "│ Spent on   ┆ --- ┆ Income    ┆ Internet   ┆   ┆ Income     ┆ ant        ┆ lumn       ┆ ry        │\n",
       "│ Site       ┆ i64 ┆ ---       ┆ Usage      ┆   ┆ Band       ┆ ---        ┆ ---        ┆ ---       │\n",
       "│ ---        ┆     ┆ f64       ┆ ---        ┆   ┆ ---        ┆ i32        ┆ i32        ┆ str       │\n",
       "│ f64        ┆     ┆           ┆ f64        ┆   ┆ f64        ┆            ┆            ┆           │\n",
       "╞════════════╪═════╪═══════════╪════════════╪═══╪════════════╪════════════╪════════════╪═══════════╡\n",
       "│ 68.95      ┆ 35  ┆ 61833.9   ┆ 256.09     ┆ … ┆ 12.0       ┆ 1          ┆ 0          ┆ A         │\n",
       "│ 80.23      ┆ 31  ┆ 68441.85  ┆ 193.77     ┆ … ┆ 13.0       ┆ 1          ┆ null       ┆ B         │\n",
       "│ 69.47      ┆ 26  ┆ 59785.94  ┆ 236.5      ┆ … ┆ 11.0       ┆ 1          ┆ 0          ┆ A         │\n",
       "│ 74.15      ┆ 29  ┆ 54806.18  ┆ 245.89     ┆ … ┆ 10.0       ┆ 1          ┆ null       ┆ B         │\n",
       "│ 68.37      ┆ 35  ┆ 73889.99  ┆ 225.58     ┆ … ┆ 14.0       ┆ 1          ┆ 0          ┆ A         │\n",
       "└────────────┴─────┴───────────┴────────────┴───┴────────────┴────────────┴────────────┴───────────┘"
      ]
     },
     "execution_count": 9,
     "metadata": {},
     "output_type": "execute_result"
    }
   ],
   "source": [
    "df = pl.read_csv(\"./data/advertising.csv\").with_columns([\n",
    "    ((pl.col(\"Age\") // 10) * 10).alias(\"Age Band\"),\n",
    "    (pl.col(\"Daily Internet Usage\") // 20).alias(\"Daily Internet Usage Band\"),\n",
    "    (pl.col(\"Area Income\") // 5000).alias(\"Area Income Band\"),\n",
    "    pl.lit(1).alias(\"Test_Constant\"),\n",
    "    pl.when(pl.col(\"Male\") == 0).then(0).otherwise(None).alias(\"Test_BadColumn\"),\n",
    "    pl.when(pl.col(\"Male\") == 0).then(\"A\").otherwise(\"B\").alias(\"Test_Binary\"),\n",
    "])\n",
    "target = \"Clicked on Ad\"\n",
    "df.head() "
   ]
  },
  {
   "cell_type": "code",
   "execution_count": 10,
   "metadata": {},
   "outputs": [
    {
     "data": {
      "text/html": [
       "<div><style>\n",
       ".dataframe > thead > tr > th,\n",
       ".dataframe > tbody > tr > td {\n",
       "  text-align: right;\n",
       "}\n",
       "</style>\n",
       "<small>shape: (16, 11)</small><table border=\"1\" class=\"dataframe\"><thead><tr><th>column</th><th>count</th><th>null_count</th><th>mean</th><th>std</th><th>min</th><th>max</th><th>median</th><th>25%</th><th>75%</th><th>null_pct</th></tr><tr><td>str</td><td>f64</td><td>f64</td><td>f64</td><td>f64</td><td>str</td><td>str</td><td>f64</td><td>f64</td><td>f64</td><td>f64</td></tr></thead><tbody><tr><td>&quot;Daily Time Spe…</td><td>1000.0</td><td>0.0</td><td>65.0002</td><td>15.853615</td><td>&quot;32.6&quot;</td><td>&quot;91.43&quot;</td><td>68.215</td><td>51.38</td><td>78.57</td><td>0.0</td></tr><tr><td>&quot;Age&quot;</td><td>1000.0</td><td>0.0</td><td>36.009</td><td>8.785562</td><td>&quot;19.0&quot;</td><td>&quot;61.0&quot;</td><td>35.0</td><td>29.0</td><td>42.0</td><td>0.0</td></tr><tr><td>&quot;Area Income&quot;</td><td>1000.0</td><td>0.0</td><td>55000.00008</td><td>13414.634022</td><td>&quot;13996.5&quot;</td><td>&quot;79484.8&quot;</td><td>57012.3</td><td>47051.02</td><td>65496.78</td><td>0.0</td></tr><tr><td>&quot;Daily Internet…</td><td>1000.0</td><td>0.0</td><td>180.0001</td><td>43.902339</td><td>&quot;104.78&quot;</td><td>&quot;269.96&quot;</td><td>183.13</td><td>138.87</td><td>218.8</td><td>0.0</td></tr><tr><td>&quot;Ad Topic Line&quot;</td><td>1000.0</td><td>0.0</td><td>null</td><td>null</td><td>&quot;Adaptive 24hou…</td><td>&quot;Visionary reci…</td><td>null</td><td>null</td><td>null</td><td>0.0</td></tr><tr><td>&quot;City&quot;</td><td>1000.0</td><td>0.0</td><td>null</td><td>null</td><td>&quot;Adamsbury&quot;</td><td>&quot;Zacharyton&quot;</td><td>null</td><td>null</td><td>null</td><td>0.0</td></tr><tr><td>&quot;Male&quot;</td><td>1000.0</td><td>0.0</td><td>0.481</td><td>0.499889</td><td>&quot;0.0&quot;</td><td>&quot;1.0&quot;</td><td>0.0</td><td>0.0</td><td>1.0</td><td>0.0</td></tr><tr><td>&quot;Country&quot;</td><td>1000.0</td><td>0.0</td><td>null</td><td>null</td><td>&quot;Afghanistan&quot;</td><td>&quot;Zimbabwe&quot;</td><td>null</td><td>null</td><td>null</td><td>0.0</td></tr><tr><td>&quot;Timestamp&quot;</td><td>1000.0</td><td>0.0</td><td>null</td><td>null</td><td>&quot;2016-01-01 02:…</td><td>&quot;2016-07-24 00:…</td><td>null</td><td>null</td><td>null</td><td>0.0</td></tr><tr><td>&quot;Clicked on Ad&quot;</td><td>1000.0</td><td>0.0</td><td>0.5</td><td>0.50025</td><td>&quot;0.0&quot;</td><td>&quot;1.0&quot;</td><td>0.5</td><td>0.0</td><td>1.0</td><td>0.0</td></tr><tr><td>&quot;Age Band&quot;</td><td>1000.0</td><td>0.0</td><td>31.52</td><td>9.411598</td><td>&quot;10.0&quot;</td><td>&quot;60.0&quot;</td><td>30.0</td><td>20.0</td><td>40.0</td><td>0.0</td></tr><tr><td>&quot;Daily Internet…</td><td>1000.0</td><td>0.0</td><td>8.495</td><td>2.197454</td><td>&quot;5.0&quot;</td><td>&quot;13.0&quot;</td><td>9.0</td><td>6.0</td><td>10.0</td><td>0.0</td></tr><tr><td>&quot;Area Income Ba…</td><td>1000.0</td><td>0.0</td><td>10.514</td><td>2.709085</td><td>&quot;2.0&quot;</td><td>&quot;15.0&quot;</td><td>11.0</td><td>9.0</td><td>13.0</td><td>0.0</td></tr><tr><td>&quot;Test_Constant&quot;</td><td>1000.0</td><td>0.0</td><td>1.0</td><td>0.0</td><td>&quot;1.0&quot;</td><td>&quot;1.0&quot;</td><td>1.0</td><td>1.0</td><td>1.0</td><td>0.0</td></tr><tr><td>&quot;Test_BadColumn…</td><td>1000.0</td><td>481.0</td><td>0.0</td><td>0.0</td><td>&quot;0.0&quot;</td><td>&quot;0.0&quot;</td><td>0.0</td><td>0.0</td><td>0.0</td><td>0.481</td></tr><tr><td>&quot;Test_Binary&quot;</td><td>1000.0</td><td>0.0</td><td>null</td><td>null</td><td>&quot;A&quot;</td><td>&quot;B&quot;</td><td>null</td><td>null</td><td>null</td><td>0.0</td></tr></tbody></table></div>"
      ],
      "text/plain": [
       "shape: (16, 11)\n",
       "┌───────────────┬────────┬────────────┬─────────────┬───┬─────────┬──────────┬──────────┬──────────┐\n",
       "│ column        ┆ count  ┆ null_count ┆ mean        ┆ … ┆ median  ┆ 25%      ┆ 75%      ┆ null_pct │\n",
       "│ ---           ┆ ---    ┆ ---        ┆ ---         ┆   ┆ ---     ┆ ---      ┆ ---      ┆ ---      │\n",
       "│ str           ┆ f64    ┆ f64        ┆ f64         ┆   ┆ f64     ┆ f64      ┆ f64      ┆ f64      │\n",
       "╞═══════════════╪════════╪════════════╪═════════════╪═══╪═════════╪══════════╪══════════╪══════════╡\n",
       "│ Daily Time    ┆ 1000.0 ┆ 0.0        ┆ 65.0002     ┆ … ┆ 68.215  ┆ 51.38    ┆ 78.57    ┆ 0.0      │\n",
       "│ Spent on Site ┆        ┆            ┆             ┆   ┆         ┆          ┆          ┆          │\n",
       "│ Age           ┆ 1000.0 ┆ 0.0        ┆ 36.009      ┆ … ┆ 35.0    ┆ 29.0     ┆ 42.0     ┆ 0.0      │\n",
       "│ Area Income   ┆ 1000.0 ┆ 0.0        ┆ 55000.00008 ┆ … ┆ 57012.3 ┆ 47051.02 ┆ 65496.78 ┆ 0.0      │\n",
       "│ Daily         ┆ 1000.0 ┆ 0.0        ┆ 180.0001    ┆ … ┆ 183.13  ┆ 138.87   ┆ 218.8    ┆ 0.0      │\n",
       "│ Internet      ┆        ┆            ┆             ┆   ┆         ┆          ┆          ┆          │\n",
       "│ Usage         ┆        ┆            ┆             ┆   ┆         ┆          ┆          ┆          │\n",
       "│ …             ┆ …      ┆ …          ┆ …           ┆ … ┆ …       ┆ …        ┆ …        ┆ …        │\n",
       "│ Area Income   ┆ 1000.0 ┆ 0.0        ┆ 10.514      ┆ … ┆ 11.0    ┆ 9.0      ┆ 13.0     ┆ 0.0      │\n",
       "│ Band          ┆        ┆            ┆             ┆   ┆         ┆          ┆          ┆          │\n",
       "│ Test_Constant ┆ 1000.0 ┆ 0.0        ┆ 1.0         ┆ … ┆ 1.0     ┆ 1.0      ┆ 1.0      ┆ 0.0      │\n",
       "│ Test_BadColum ┆ 1000.0 ┆ 481.0      ┆ 0.0         ┆ … ┆ 0.0     ┆ 0.0      ┆ 0.0      ┆ 0.481    │\n",
       "│ n             ┆        ┆            ┆             ┆   ┆         ┆          ┆          ┆          │\n",
       "│ Test_Binary   ┆ 1000.0 ┆ 0.0        ┆ null        ┆ … ┆ null    ┆ null     ┆ null     ┆ 0.0      │\n",
       "└───────────────┴────────┴────────────┴─────────────┴───┴─────────┴──────────┴──────────┴──────────┘"
      ]
     },
     "execution_count": 10,
     "metadata": {},
     "output_type": "execute_result"
    }
   ],
   "source": [
    "describe(df)"
   ]
  },
  {
   "cell_type": "code",
   "execution_count": 11,
   "metadata": {},
   "outputs": [
    {
     "name": "stdout",
     "output_type": "stream",
     "text": [
      "The following numeric columns are dropped because they have lower than 0.5 variance. ['Male', 'Test_Constant', 'Test_BadColumn']\n",
      "Removed a total of 3 columns.\n"
     ]
    }
   ],
   "source": [
    "df = var_removal(df, threshold=0.5, target=target)"
   ]
  },
  {
   "cell_type": "code",
   "execution_count": 12,
   "metadata": {},
   "outputs": [
    {
     "name": "stdout",
     "output_type": "stream",
     "text": [
      "The following columns are dropped because they are constants. [].\n",
      "Removed a total of 0 columns.\n"
     ]
    }
   ],
   "source": [
    "df = constant_removal(df)"
   ]
  },
  {
   "cell_type": "code",
   "execution_count": 13,
   "metadata": {},
   "outputs": [
    {
     "name": "stdout",
     "output_type": "stream",
     "text": [
      "Transforming Test_Binary...\n"
     ]
    },
    {
     "data": {
      "text/html": [
       "<div><style>\n",
       ".dataframe > thead > tr > th,\n",
       ".dataframe > tbody > tr > td {\n",
       "  text-align: right;\n",
       "}\n",
       "</style>\n",
       "<small>shape: (1_000, 13)</small><table border=\"1\" class=\"dataframe\"><thead><tr><th>Daily Time Spent on Site</th><th>Age</th><th>Area Income</th><th>Daily Internet Usage</th><th>Ad Topic Line</th><th>City</th><th>Country</th><th>Timestamp</th><th>Clicked on Ad</th><th>Age Band</th><th>Daily Internet Usage Band</th><th>Area Income Band</th><th>Test_Binary</th></tr><tr><td>f64</td><td>i64</td><td>f64</td><td>f64</td><td>str</td><td>str</td><td>str</td><td>str</td><td>i64</td><td>i64</td><td>f64</td><td>f64</td><td>u8</td></tr></thead><tbody><tr><td>68.95</td><td>35</td><td>61833.9</td><td>256.09</td><td>&quot;Cloned 5thgene…</td><td>&quot;Wrightburgh&quot;</td><td>&quot;Tunisia&quot;</td><td>&quot;2016-03-27 00:…</td><td>0</td><td>30</td><td>12.0</td><td>12.0</td><td>0</td></tr><tr><td>80.23</td><td>31</td><td>68441.85</td><td>193.77</td><td>&quot;Monitored nati…</td><td>&quot;West Jodi&quot;</td><td>&quot;Nauru&quot;</td><td>&quot;2016-04-04 01:…</td><td>0</td><td>30</td><td>9.0</td><td>13.0</td><td>1</td></tr><tr><td>69.47</td><td>26</td><td>59785.94</td><td>236.5</td><td>&quot;Organic bottom…</td><td>&quot;Davidton&quot;</td><td>&quot;San Marino&quot;</td><td>&quot;2016-03-13 20:…</td><td>0</td><td>20</td><td>11.0</td><td>11.0</td><td>0</td></tr><tr><td>74.15</td><td>29</td><td>54806.18</td><td>245.89</td><td>&quot;Triple-buffere…</td><td>&quot;West Terrifurt…</td><td>&quot;Italy&quot;</td><td>&quot;2016-01-10 02:…</td><td>0</td><td>20</td><td>12.0</td><td>10.0</td><td>1</td></tr><tr><td>68.37</td><td>35</td><td>73889.99</td><td>225.58</td><td>&quot;Robust logisti…</td><td>&quot;South Manuel&quot;</td><td>&quot;Iceland&quot;</td><td>&quot;2016-06-03 03:…</td><td>0</td><td>30</td><td>11.0</td><td>14.0</td><td>0</td></tr><tr><td>59.99</td><td>23</td><td>59761.56</td><td>226.74</td><td>&quot;Sharable clien…</td><td>&quot;Jamieberg&quot;</td><td>&quot;Norway&quot;</td><td>&quot;2016-05-19 14:…</td><td>0</td><td>20</td><td>11.0</td><td>11.0</td><td>1</td></tr><tr><td>88.91</td><td>33</td><td>53852.85</td><td>208.36</td><td>&quot;Enhanced dedic…</td><td>&quot;Brandonstad&quot;</td><td>&quot;Myanmar&quot;</td><td>&quot;2016-01-28 20:…</td><td>0</td><td>30</td><td>10.0</td><td>10.0</td><td>0</td></tr><tr><td>66.0</td><td>48</td><td>24593.33</td><td>131.76</td><td>&quot;Reactive local…</td><td>&quot;Port Jefferybu…</td><td>&quot;Australia&quot;</td><td>&quot;2016-03-07 01:…</td><td>1</td><td>40</td><td>6.0</td><td>4.0</td><td>1</td></tr><tr><td>74.53</td><td>30</td><td>68862.0</td><td>221.51</td><td>&quot;Configurable c…</td><td>&quot;West Colin&quot;</td><td>&quot;Grenada&quot;</td><td>&quot;2016-04-18 09:…</td><td>0</td><td>30</td><td>11.0</td><td>13.0</td><td>1</td></tr><tr><td>69.88</td><td>20</td><td>55642.32</td><td>183.82</td><td>&quot;Mandatory homo…</td><td>&quot;Ramirezton&quot;</td><td>&quot;Ghana&quot;</td><td>&quot;2016-07-11 01:…</td><td>0</td><td>20</td><td>9.0</td><td>11.0</td><td>1</td></tr><tr><td>47.64</td><td>49</td><td>45632.51</td><td>122.02</td><td>&quot;Centralized ne…</td><td>&quot;West Brandonto…</td><td>&quot;Qatar&quot;</td><td>&quot;2016-03-16 20:…</td><td>1</td><td>40</td><td>6.0</td><td>9.0</td><td>0</td></tr><tr><td>83.07</td><td>37</td><td>62491.01</td><td>230.87</td><td>&quot;Team-oriented …</td><td>&quot;East Theresash…</td><td>&quot;Burundi&quot;</td><td>&quot;2016-05-08 08:…</td><td>0</td><td>30</td><td>11.0</td><td>12.0</td><td>1</td></tr><tr><td>&hellip;</td><td>&hellip;</td><td>&hellip;</td><td>&hellip;</td><td>&hellip;</td><td>&hellip;</td><td>&hellip;</td><td>&hellip;</td><td>&hellip;</td><td>&hellip;</td><td>&hellip;</td><td>&hellip;</td><td>&hellip;</td></tr><tr><td>89.71</td><td>48</td><td>51501.38</td><td>204.4</td><td>&quot;Versatile loca…</td><td>&quot;Sarafurt&quot;</td><td>&quot;Bahrain&quot;</td><td>&quot;2016-02-17 07:…</td><td>0</td><td>40</td><td>10.0</td><td>10.0</td><td>1</td></tr><tr><td>70.96</td><td>31</td><td>55187.85</td><td>256.4</td><td>&quot;Ameliorated us…</td><td>&quot;South Denise&quot;</td><td>&quot;Saint Pierre a…</td><td>&quot;2016-06-26 07:…</td><td>0</td><td>30</td><td>12.0</td><td>11.0</td><td>0</td></tr><tr><td>35.79</td><td>44</td><td>33813.08</td><td>165.62</td><td>&quot;Enterprise-wid…</td><td>&quot;North Katie&quot;</td><td>&quot;Tonga&quot;</td><td>&quot;2016-04-20 13:…</td><td>1</td><td>40</td><td>8.0</td><td>6.0</td><td>1</td></tr><tr><td>38.96</td><td>38</td><td>36497.22</td><td>140.67</td><td>&quot;Versatile miss…</td><td>&quot;Mauricefurt&quot;</td><td>&quot;Comoros&quot;</td><td>&quot;2016-07-21 16:…</td><td>1</td><td>30</td><td>7.0</td><td>7.0</td><td>1</td></tr><tr><td>69.17</td><td>40</td><td>66193.81</td><td>123.62</td><td>&quot;Extended leadi…</td><td>&quot;New Patrick&quot;</td><td>&quot;Montenegro&quot;</td><td>&quot;2016-03-06 11:…</td><td>1</td><td>40</td><td>6.0</td><td>13.0</td><td>0</td></tr><tr><td>64.2</td><td>27</td><td>66200.96</td><td>227.63</td><td>&quot;Phased zero to…</td><td>&quot;Edwardsmouth&quot;</td><td>&quot;Isle of Man&quot;</td><td>&quot;2016-02-11 23:…</td><td>0</td><td>20</td><td>11.0</td><td>13.0</td><td>1</td></tr><tr><td>43.7</td><td>28</td><td>63126.96</td><td>173.01</td><td>&quot;Front-line bif…</td><td>&quot;Nicholasland&quot;</td><td>&quot;Mayotte&quot;</td><td>&quot;2016-04-04 03:…</td><td>1</td><td>20</td><td>8.0</td><td>12.0</td><td>0</td></tr><tr><td>72.97</td><td>30</td><td>71384.57</td><td>208.58</td><td>&quot;Fundamental mo…</td><td>&quot;Duffystad&quot;</td><td>&quot;Lebanon&quot;</td><td>&quot;2016-02-11 21:…</td><td>1</td><td>30</td><td>10.0</td><td>14.0</td><td>1</td></tr><tr><td>51.3</td><td>45</td><td>67782.17</td><td>134.42</td><td>&quot;Grass-roots co…</td><td>&quot;New Darlene&quot;</td><td>&quot;Bosnia and Her…</td><td>&quot;2016-04-22 02:…</td><td>1</td><td>40</td><td>6.0</td><td>13.0</td><td>1</td></tr><tr><td>51.63</td><td>51</td><td>42415.72</td><td>120.37</td><td>&quot;Expanded intan…</td><td>&quot;South Jessica&quot;</td><td>&quot;Mongolia&quot;</td><td>&quot;2016-02-01 17:…</td><td>1</td><td>50</td><td>6.0</td><td>8.0</td><td>1</td></tr><tr><td>55.55</td><td>19</td><td>41920.79</td><td>187.95</td><td>&quot;Proactive band…</td><td>&quot;West Steven&quot;</td><td>&quot;Guatemala&quot;</td><td>&quot;2016-03-24 02:…</td><td>0</td><td>10</td><td>9.0</td><td>8.0</td><td>0</td></tr><tr><td>45.01</td><td>26</td><td>29875.8</td><td>178.35</td><td>&quot;Virtual 5thgen…</td><td>&quot;Ronniemouth&quot;</td><td>&quot;Brazil&quot;</td><td>&quot;2016-06-03 21:…</td><td>1</td><td>20</td><td>8.0</td><td>5.0</td><td>0</td></tr></tbody></table></div>"
      ],
      "text/plain": [
       "shape: (1_000, 13)\n",
       "┌────────────┬─────┬───────────┬────────────┬───┬──────────┬────────────┬────────────┬─────────────┐\n",
       "│ Daily Time ┆ Age ┆ Area      ┆ Daily      ┆ … ┆ Age Band ┆ Daily      ┆ Area       ┆ Test_Binary │\n",
       "│ Spent on   ┆ --- ┆ Income    ┆ Internet   ┆   ┆ ---      ┆ Internet   ┆ Income     ┆ ---         │\n",
       "│ Site       ┆ i64 ┆ ---       ┆ Usage      ┆   ┆ i64      ┆ Usage Band ┆ Band       ┆ u8          │\n",
       "│ ---        ┆     ┆ f64       ┆ ---        ┆   ┆          ┆ ---        ┆ ---        ┆             │\n",
       "│ f64        ┆     ┆           ┆ f64        ┆   ┆          ┆ f64        ┆ f64        ┆             │\n",
       "╞════════════╪═════╪═══════════╪════════════╪═══╪══════════╪════════════╪════════════╪═════════════╡\n",
       "│ 68.95      ┆ 35  ┆ 61833.9   ┆ 256.09     ┆ … ┆ 30       ┆ 12.0       ┆ 12.0       ┆ 0           │\n",
       "│ 80.23      ┆ 31  ┆ 68441.85  ┆ 193.77     ┆ … ┆ 30       ┆ 9.0        ┆ 13.0       ┆ 1           │\n",
       "│ 69.47      ┆ 26  ┆ 59785.94  ┆ 236.5      ┆ … ┆ 20       ┆ 11.0       ┆ 11.0       ┆ 0           │\n",
       "│ 74.15      ┆ 29  ┆ 54806.18  ┆ 245.89     ┆ … ┆ 20       ┆ 12.0       ┆ 10.0       ┆ 1           │\n",
       "│ …          ┆ …   ┆ …         ┆ …          ┆ … ┆ …        ┆ …          ┆ …          ┆ …           │\n",
       "│ 51.3       ┆ 45  ┆ 67782.17  ┆ 134.42     ┆ … ┆ 40       ┆ 6.0        ┆ 13.0       ┆ 1           │\n",
       "│ 51.63      ┆ 51  ┆ 42415.72  ┆ 120.37     ┆ … ┆ 50       ┆ 6.0        ┆ 8.0        ┆ 1           │\n",
       "│ 55.55      ┆ 19  ┆ 41920.79  ┆ 187.95     ┆ … ┆ 10       ┆ 9.0        ┆ 8.0        ┆ 0           │\n",
       "│ 45.01      ┆ 26  ┆ 29875.8   ┆ 178.35     ┆ … ┆ 20       ┆ 8.0        ┆ 5.0        ┆ 0           │\n",
       "└────────────┴─────┴───────────┴────────────┴───┴──────────┴────────────┴────────────┴─────────────┘"
      ]
     },
     "execution_count": 13,
     "metadata": {},
     "output_type": "execute_result"
    }
   ],
   "source": [
    "df, table = binary_transform(df, exclude = [target])\n",
    "df "
   ]
  },
  {
   "cell_type": "code",
   "execution_count": 14,
   "metadata": {},
   "outputs": [],
   "source": [
    "# Some of these are numerical columns, but we can still treat them as categorical columns\n",
    "# and feed them into the information gain algorithm.\n",
    "cats = [\"Age Band\", \"Country\", \"Area Income Band\", \"Daily Internet Usage Band\", \"Test_Binary\"]\n",
    "target = \"Clicked on Ad\""
   ]
  },
  {
   "cell_type": "code",
   "execution_count": 15,
   "metadata": {},
   "outputs": [
    {
     "name": "stdout",
     "output_type": "stream",
     "text": [
      "Finished processing for Age Band. Progress: 1/5\n",
      "Finished processing for Country. Progress: 2/5\n",
      "Finished processing for Area Income Band. Progress: 3/5\n",
      "Finished processing for Daily Internet Usage Band. Progress: 4/5\n",
      "Finished processing for Test_Binary. Progress: 5/5\n"
     ]
    },
    {
     "data": {
      "text/html": [
       "<div><style>\n",
       ".dataframe > thead > tr > th,\n",
       ".dataframe > tbody > tr > td {\n",
       "  text-align: right;\n",
       "}\n",
       "</style>\n",
       "<small>shape: (5, 4)</small><table border=\"1\" class=\"dataframe\"><thead><tr><th>Predictive Variable</th><th>Conditional Entropy</th><th>Target Entropy</th><th>Information Gain</th></tr><tr><td>str</td><td>f64</td><td>f64</td><td>f64</td></tr></thead><tbody><tr><td>&quot;Daily Internet…</td><td>0.263754</td><td>0.693147</td><td>0.429394</td></tr><tr><td>&quot;Area Income Ba…</td><td>0.551848</td><td>0.693147</td><td>0.141299</td></tr><tr><td>&quot;Country&quot;</td><td>0.558555</td><td>0.693147</td><td>0.134592</td></tr><tr><td>&quot;Age Band&quot;</td><td>0.569156</td><td>0.693147</td><td>0.123991</td></tr><tr><td>&quot;Test_Binary&quot;</td><td>0.692424</td><td>0.693147</td><td>0.000723</td></tr></tbody></table></div>"
      ],
      "text/plain": [
       "shape: (5, 4)\n",
       "┌───────────────────────────┬─────────────────────┬────────────────┬──────────────────┐\n",
       "│ Predictive Variable       ┆ Conditional Entropy ┆ Target Entropy ┆ Information Gain │\n",
       "│ ---                       ┆ ---                 ┆ ---            ┆ ---              │\n",
       "│ str                       ┆ f64                 ┆ f64            ┆ f64              │\n",
       "╞═══════════════════════════╪═════════════════════╪════════════════╪══════════════════╡\n",
       "│ Daily Internet Usage Band ┆ 0.263754            ┆ 0.693147       ┆ 0.429394         │\n",
       "│ Area Income Band          ┆ 0.551848            ┆ 0.693147       ┆ 0.141299         │\n",
       "│ Country                   ┆ 0.558555            ┆ 0.693147       ┆ 0.134592         │\n",
       "│ Age Band                  ┆ 0.569156            ┆ 0.693147       ┆ 0.123991         │\n",
       "│ Test_Binary               ┆ 0.692424            ┆ 0.693147       ┆ 0.000723         │\n",
       "└───────────────────────────┴─────────────────────┴────────────────┴──────────────────┘"
      ]
     },
     "execution_count": 15,
     "metadata": {},
     "output_type": "execute_result"
    }
   ],
   "source": [
    "information_gain(df, target, cat_cols=cats)"
   ]
  },
  {
   "cell_type": "code",
   "execution_count": 16,
   "metadata": {},
   "outputs": [
    {
     "name": "stdout",
     "output_type": "stream",
     "text": [
      "Finished processing for Ad Topic Line. Progress: 1/4\n",
      "Finished processing for City. Progress: 2/4\n",
      "Finished processing for Country. Progress: 3/4\n",
      "Finished processing for Timestamp. Progress: 4/4\n"
     ]
    },
    {
     "data": {
      "text/html": [
       "<div><style>\n",
       ".dataframe > thead > tr > th,\n",
       ".dataframe > tbody > tr > td {\n",
       "  text-align: right;\n",
       "}\n",
       "</style>\n",
       "<small>shape: (4, 4)</small><table border=\"1\" class=\"dataframe\"><thead><tr><th>Predictive Variable</th><th>Conditional Entropy</th><th>Target Entropy</th><th>Information Gain</th></tr><tr><td>str</td><td>f64</td><td>f64</td><td>f64</td></tr></thead><tbody><tr><td>&quot;Ad Topic Line&quot;</td><td>0.0</td><td>0.693147</td><td>0.693147</td></tr><tr><td>&quot;Timestamp&quot;</td><td>0.0</td><td>0.693147</td><td>0.693147</td></tr><tr><td>&quot;City&quot;</td><td>0.017682</td><td>0.693147</td><td>0.675465</td></tr><tr><td>&quot;Country&quot;</td><td>0.558555</td><td>0.693147</td><td>0.134592</td></tr></tbody></table></div>"
      ],
      "text/plain": [
       "shape: (4, 4)\n",
       "┌─────────────────────┬─────────────────────┬────────────────┬──────────────────┐\n",
       "│ Predictive Variable ┆ Conditional Entropy ┆ Target Entropy ┆ Information Gain │\n",
       "│ ---                 ┆ ---                 ┆ ---            ┆ ---              │\n",
       "│ str                 ┆ f64                 ┆ f64            ┆ f64              │\n",
       "╞═════════════════════╪═════════════════════╪════════════════╪══════════════════╡\n",
       "│ Ad Topic Line       ┆ 0.0                 ┆ 0.693147       ┆ 0.693147         │\n",
       "│ Timestamp           ┆ 0.0                 ┆ 0.693147       ┆ 0.693147         │\n",
       "│ City                ┆ 0.017682            ┆ 0.693147       ┆ 0.675465         │\n",
       "│ Country             ┆ 0.558555            ┆ 0.693147       ┆ 0.134592         │\n",
       "└─────────────────────┴─────────────────────┴────────────────┴──────────────────┘"
      ]
     },
     "execution_count": 16,
     "metadata": {},
     "output_type": "execute_result"
    }
   ],
   "source": [
    "# If nothing is given, automatically infers string columns as categorical columns.\n",
    "information_gain(df, target)"
   ]
  },
  {
   "cell_type": "code",
   "execution_count": 17,
   "metadata": {},
   "outputs": [
    {
     "data": {
      "text/html": [
       "<div><style>\n",
       ".dataframe > thead > tr > th,\n",
       ".dataframe > tbody > tr > td {\n",
       "  text-align: right;\n",
       "}\n",
       "</style>\n",
       "<small>shape: (1_000,)</small><table border=\"1\" class=\"dataframe\"><thead><tr><th>Ad Topic Line</th></tr><tr><td>str</td></tr></thead><tbody><tr><td>&quot;Down-sized wel…</td></tr><tr><td>&quot;Optional multi…</td></tr><tr><td>&quot;Future-proofed…</td></tr><tr><td>&quot;Synergistic re…</td></tr><tr><td>&quot;Profound maxim…</td></tr><tr><td>&quot;Managed 6thgen…</td></tr><tr><td>&quot;Fundamental ze…</td></tr><tr><td>&quot;Seamless intan…</td></tr><tr><td>&quot;Exclusive disi…</td></tr><tr><td>&quot;Adaptive unifo…</td></tr><tr><td>&quot;Synergistic as…</td></tr><tr><td>&quot;Vision-oriente…</td></tr><tr><td>&hellip;</td></tr><tr><td>&quot;Front-line non…</td></tr><tr><td>&quot;Open-source op…</td></tr><tr><td>&quot;Down-sized exp…</td></tr><tr><td>&quot;Multi-tiered m…</td></tr><tr><td>&quot;Switchable wel…</td></tr><tr><td>&quot;Up-sized asymm…</td></tr><tr><td>&quot;Fully-configur…</td></tr><tr><td>&quot;Cross-group gl…</td></tr><tr><td>&quot;Object-based o…</td></tr><tr><td>&quot;Versatile tran…</td></tr><tr><td>&quot;Progressive 24…</td></tr><tr><td>&quot;Organic asynch…</td></tr></tbody></table></div>"
      ],
      "text/plain": [
       "shape: (1_000,)\n",
       "Series: 'Ad Topic Line' [str]\n",
       "[\n",
       "\t\"Down-sized wel…\n",
       "\t\"Optional multi…\n",
       "\t\"Future-proofed…\n",
       "\t\"Synergistic re…\n",
       "\t\"Profound maxim…\n",
       "\t\"Managed 6thgen…\n",
       "\t\"Fundamental ze…\n",
       "\t\"Seamless intan…\n",
       "\t\"Exclusive disi…\n",
       "\t\"Adaptive unifo…\n",
       "\t\"Synergistic as…\n",
       "\t\"Vision-oriente…\n",
       "\t…\n",
       "\t\"Secured second…\n",
       "\t\"Front-line non…\n",
       "\t\"Open-source op…\n",
       "\t\"Down-sized exp…\n",
       "\t\"Multi-tiered m…\n",
       "\t\"Switchable wel…\n",
       "\t\"Up-sized asymm…\n",
       "\t\"Fully-configur…\n",
       "\t\"Cross-group gl…\n",
       "\t\"Object-based o…\n",
       "\t\"Versatile tran…\n",
       "\t\"Progressive 24…\n",
       "\t\"Organic asynch…\n",
       "]"
      ]
     },
     "execution_count": 17,
     "metadata": {},
     "output_type": "execute_result"
    }
   ],
   "source": [
    "df[\"Ad Topic Line\"].unique() "
   ]
  },
  {
   "cell_type": "code",
   "execution_count": 18,
   "metadata": {},
   "outputs": [
    {
     "data": {
      "text/html": [
       "<div><style>\n",
       ".dataframe > thead > tr > th,\n",
       ".dataframe > tbody > tr > td {\n",
       "  text-align: right;\n",
       "}\n",
       "</style>\n",
       "<small>shape: (8, 3)</small><table border=\"1\" class=\"dataframe\"><thead><tr><th>feature</th><th>f_score</th><th>p_value</th></tr><tr><td>str</td><td>f64</td><td>f64</td></tr></thead><tbody><tr><td>&quot;Daily Time Spe…</td><td>1268.525161</td><td>5.8774e-180</td></tr><tr><td>&quot;Age&quot;</td><td>319.643165</td><td>3.1298e-62</td></tr><tr><td>&quot;Area Income&quot;</td><td>292.770617</td><td>9.4496e-58</td></tr><tr><td>&quot;Daily Internet…</td><td>1618.976456</td><td>3.8932e-211</td></tr><tr><td>&quot;Age Band&quot;</td><td>269.875798</td><td>7.3704e-54</td></tr><tr><td>&quot;Daily Internet…</td><td>1587.381637</td><td>1.6759e-208</td></tr><tr><td>&quot;Area Income Ba…</td><td>289.515369</td><td>3.3458e-57</td></tr><tr><td>&quot;Test_Binary&quot;</td><td>1.445286</td><td>0.229571</td></tr></tbody></table></div>"
      ],
      "text/plain": [
       "shape: (8, 3)\n",
       "┌───────────────────────────┬─────────────┬─────────────┐\n",
       "│ feature                   ┆ f_score     ┆ p_value     │\n",
       "│ ---                       ┆ ---         ┆ ---         │\n",
       "│ str                       ┆ f64         ┆ f64         │\n",
       "╞═══════════════════════════╪═════════════╪═════════════╡\n",
       "│ Daily Time Spent on Site  ┆ 1268.525161 ┆ 5.8774e-180 │\n",
       "│ Age                       ┆ 319.643165  ┆ 3.1298e-62  │\n",
       "│ Area Income               ┆ 292.770617  ┆ 9.4496e-58  │\n",
       "│ Daily Internet Usage      ┆ 1618.976456 ┆ 3.8932e-211 │\n",
       "│ Age Band                  ┆ 269.875798  ┆ 7.3704e-54  │\n",
       "│ Daily Internet Usage Band ┆ 1587.381637 ┆ 1.6759e-208 │\n",
       "│ Area Income Band          ┆ 289.515369  ┆ 3.3458e-57  │\n",
       "│ Test_Binary               ┆ 1.445286    ┆ 0.229571    │\n",
       "└───────────────────────────┴─────────────┴─────────────┘"
      ]
     },
     "execution_count": 18,
     "metadata": {},
     "output_type": "execute_result"
    }
   ],
   "source": [
    "f_score(df, target=target)"
   ]
  },
  {
   "cell_type": "code",
   "execution_count": 19,
   "metadata": {},
   "outputs": [
    {
     "data": {
      "text/plain": [
       "['Daily Time Spent on Site',\n",
       " 'Age',\n",
       " 'Area Income',\n",
       " 'Daily Internet Usage',\n",
       " 'Age Band',\n",
       " 'Daily Internet Usage Band',\n",
       " 'Area Income Band',\n",
       " 'Test_Binary']"
      ]
     },
     "execution_count": 19,
     "metadata": {},
     "output_type": "execute_result"
    }
   ],
   "source": [
    "nums = get_numeric_cols(df, exclude=[target])\n",
    "nums  "
   ]
  },
  {
   "cell_type": "code",
   "execution_count": 20,
   "metadata": {},
   "outputs": [
    {
     "data": {
      "text/html": [
       "<div><style>\n",
       ".dataframe > thead > tr > th,\n",
       ".dataframe > tbody > tr > td {\n",
       "  text-align: right;\n",
       "}\n",
       "</style>\n",
       "<small>shape: (8, 3)</small><table border=\"1\" class=\"dataframe\"><thead><tr><th>feature</th><th>f_score</th><th>p_value</th></tr><tr><td>str</td><td>f64</td><td>f64</td></tr></thead><tbody><tr><td>&quot;Daily Time Spe…</td><td>1268.525161</td><td>5.8774e-180</td></tr><tr><td>&quot;Age&quot;</td><td>319.643165</td><td>3.1298e-62</td></tr><tr><td>&quot;Area Income&quot;</td><td>292.770617</td><td>9.4496e-58</td></tr><tr><td>&quot;Daily Internet…</td><td>1618.976456</td><td>3.8932e-211</td></tr><tr><td>&quot;Age Band&quot;</td><td>269.875798</td><td>7.3704e-54</td></tr><tr><td>&quot;Daily Internet…</td><td>1587.381637</td><td>1.6759e-208</td></tr><tr><td>&quot;Area Income Ba…</td><td>289.515369</td><td>3.3458e-57</td></tr><tr><td>&quot;Test_Binary&quot;</td><td>1.445286</td><td>0.229571</td></tr></tbody></table></div>"
      ],
      "text/plain": [
       "shape: (8, 3)\n",
       "┌───────────────────────────┬─────────────┬─────────────┐\n",
       "│ feature                   ┆ f_score     ┆ p_value     │\n",
       "│ ---                       ┆ ---         ┆ ---         │\n",
       "│ str                       ┆ f64         ┆ f64         │\n",
       "╞═══════════════════════════╪═════════════╪═════════════╡\n",
       "│ Daily Time Spent on Site  ┆ 1268.525161 ┆ 5.8774e-180 │\n",
       "│ Age                       ┆ 319.643165  ┆ 3.1298e-62  │\n",
       "│ Area Income               ┆ 292.770617  ┆ 9.4496e-58  │\n",
       "│ Daily Internet Usage      ┆ 1618.976456 ┆ 3.8932e-211 │\n",
       "│ Age Band                  ┆ 269.875798  ┆ 7.3704e-54  │\n",
       "│ Daily Internet Usage Band ┆ 1587.381637 ┆ 1.6759e-208 │\n",
       "│ Area Income Band          ┆ 289.515369  ┆ 3.3458e-57  │\n",
       "│ Test_Binary               ┆ 1.445286    ┆ 0.229571    │\n",
       "└───────────────────────────┴─────────────┴─────────────┘"
      ]
     },
     "execution_count": 20,
     "metadata": {},
     "output_type": "execute_result"
    }
   ],
   "source": [
    "from sklearn.feature_selection import f_classif\n",
    " \n",
    "f, pv = f_classif(df[nums], df[target])\n",
    "pl.from_records([nums, f, pv], schema=[\"feature\", \"f_score\", \"p_value\"])"
   ]
  },
  {
   "cell_type": "code",
   "execution_count": 21,
   "metadata": {},
   "outputs": [
    {
     "data": {
      "text/plain": [
       "(100000, 13)"
      ]
     },
     "execution_count": 21,
     "metadata": {},
     "output_type": "execute_result"
    }
   ],
   "source": [
    "df_test = pl.concat([df.clone()] * 100)\n",
    "df_test.shape"
   ]
  },
  {
   "cell_type": "code",
   "execution_count": 22,
   "metadata": {},
   "outputs": [
    {
     "name": "stdout",
     "output_type": "stream",
     "text": [
      "1.79 ms ± 38.5 µs per loop (mean ± std. dev. of 7 runs, 1,000 loops each)\n"
     ]
    }
   ],
   "source": [
    "%%timeit \n",
    "f_score(df_test, target=\"Clicked on Ad\", num_cols=nums)"
   ]
  },
  {
   "cell_type": "code",
   "execution_count": 23,
   "metadata": {},
   "outputs": [
    {
     "name": "stdout",
     "output_type": "stream",
     "text": [
      "11.4 ms ± 93.2 µs per loop (mean ± std. dev. of 7 runs, 100 loops each)\n"
     ]
    }
   ],
   "source": [
    "%%timeit \n",
    "f, pv = f_classif(df_test[nums], df_test[target])\n",
    "pl.from_records([nums, f, pv], schema=[\"feature\", \"f_score\", \"p_value\"])"
   ]
  },
  {
   "cell_type": "code",
   "execution_count": 24,
   "metadata": {},
   "outputs": [],
   "source": [
    "transformed_df, ref = percentile_binning(df, num_cols=nums, exclude=[target])"
   ]
  },
  {
   "cell_type": "code",
   "execution_count": 25,
   "metadata": {},
   "outputs": [
    {
     "data": {
      "text/html": [
       "<div><style>\n",
       ".dataframe > thead > tr > th,\n",
       ".dataframe > tbody > tr > td {\n",
       "  text-align: right;\n",
       "}\n",
       "</style>\n",
       "<small>shape: (1_000, 13)</small><table border=\"1\" class=\"dataframe\"><thead><tr><th>Daily Time Spent on Site_percentile</th><th>Age_percentile</th><th>Area Income_percentile</th><th>Daily Internet Usage_percentile</th><th>Ad Topic Line</th><th>City</th><th>Country</th><th>Timestamp</th><th>Clicked on Ad</th><th>Age Band_percentile</th><th>Daily Internet Usage Band_percentile</th><th>Area Income Band_percentile</th><th>Test_Binary_percentile</th></tr><tr><td>u8</td><td>u8</td><td>u8</td><td>u8</td><td>str</td><td>str</td><td>str</td><td>str</td><td>i64</td><td>u8</td><td>u8</td><td>u8</td><td>u8</td></tr></thead><tbody><tr><td>52</td><td>53</td><td>65</td><td>99</td><td>&quot;Cloned 5thgene…</td><td>&quot;Wrightburgh&quot;</td><td>&quot;Tunisia&quot;</td><td>&quot;2016-03-27 00:…</td><td>0</td><td>68</td><td>100</td><td>74</td><td>52</td></tr><tr><td>81</td><td>37</td><td>86</td><td>56</td><td>&quot;Monitored nati…</td><td>&quot;West Jodi&quot;</td><td>&quot;Nauru&quot;</td><td>&quot;2016-04-04 01:…</td><td>0</td><td>68</td><td>61</td><td>89</td><td>100</td></tr><tr><td>53</td><td>14</td><td>58</td><td>91</td><td>&quot;Organic bottom…</td><td>&quot;Davidton&quot;</td><td>&quot;San Marino&quot;</td><td>&quot;2016-03-13 20:…</td><td>0</td><td>27</td><td>93</td><td>58</td><td>52</td></tr><tr><td>63</td><td>27</td><td>44</td><td>95</td><td>&quot;Triple-buffere…</td><td>&quot;West Terrifurt…</td><td>&quot;Italy&quot;</td><td>&quot;2016-01-10 02:…</td><td>0</td><td>27</td><td>100</td><td>45</td><td>100</td></tr><tr><td>51</td><td>53</td><td>96</td><td>82</td><td>&quot;Robust logisti…</td><td>&quot;South Manuel&quot;</td><td>&quot;Iceland&quot;</td><td>&quot;2016-06-03 03:…</td><td>0</td><td>68</td><td>93</td><td>97</td><td>52</td></tr><tr><td>37</td><td>5</td><td>58</td><td>83</td><td>&quot;Sharable clien…</td><td>&quot;Jamieberg&quot;</td><td>&quot;Norway&quot;</td><td>&quot;2016-05-19 14:…</td><td>0</td><td>27</td><td>93</td><td>58</td><td>100</td></tr><tr><td>99</td><td>45</td><td>43</td><td>68</td><td>&quot;Enhanced dedic…</td><td>&quot;Brandonstad&quot;</td><td>&quot;Myanmar&quot;</td><td>&quot;2016-01-28 20:…</td><td>0</td><td>68</td><td>77</td><td>45</td><td>52</td></tr><tr><td>46</td><td>89</td><td>3</td><td>20</td><td>&quot;Reactive local…</td><td>&quot;Port Jefferybu…</td><td>&quot;Australia&quot;</td><td>&quot;2016-03-07 01:…</td><td>1</td><td>91</td><td>26</td><td>3</td><td>100</td></tr><tr><td>64</td><td>31</td><td>87</td><td>77</td><td>&quot;Configurable c…</td><td>&quot;West Colin&quot;</td><td>&quot;Grenada&quot;</td><td>&quot;2016-04-18 09:…</td><td>0</td><td>68</td><td>93</td><td>89</td><td>100</td></tr><tr><td>54</td><td>2</td><td>46</td><td>51</td><td>&quot;Mandatory homo…</td><td>&quot;Ramirezton&quot;</td><td>&quot;Ghana&quot;</td><td>&quot;2016-07-11 01:…</td><td>0</td><td>27</td><td>61</td><td>58</td><td>100</td></tr><tr><td>21</td><td>91</td><td>23</td><td>12</td><td>&quot;Centralized ne…</td><td>&quot;West Brandonto…</td><td>&quot;Qatar&quot;</td><td>&quot;2016-03-16 20:…</td><td>1</td><td>91</td><td>26</td><td>31</td><td>52</td></tr><tr><td>89</td><td>61</td><td>67</td><td>85</td><td>&quot;Team-oriented …</td><td>&quot;East Theresash…</td><td>&quot;Burundi&quot;</td><td>&quot;2016-05-08 08:…</td><td>0</td><td>68</td><td>93</td><td>74</td><td>100</td></tr><tr><td>&hellip;</td><td>&hellip;</td><td>&hellip;</td><td>&hellip;</td><td>&hellip;</td><td>&hellip;</td><td>&hellip;</td><td>&hellip;</td><td>&hellip;</td><td>&hellip;</td><td>&hellip;</td><td>&hellip;</td><td>&hellip;</td></tr><tr><td>100</td><td>89</td><td>36</td><td>65</td><td>&quot;Versatile loca…</td><td>&quot;Sarafurt&quot;</td><td>&quot;Bahrain&quot;</td><td>&quot;2016-02-17 07:…</td><td>0</td><td>91</td><td>77</td><td>45</td><td>100</td></tr><tr><td>56</td><td>37</td><td>45</td><td>100</td><td>&quot;Ameliorated us…</td><td>&quot;South Denise&quot;</td><td>&quot;Saint Pierre a…</td><td>&quot;2016-06-26 07:…</td><td>0</td><td>68</td><td>100</td><td>58</td><td>52</td></tr><tr><td>3</td><td>82</td><td>9</td><td>42</td><td>&quot;Enterprise-wid…</td><td>&quot;North Katie&quot;</td><td>&quot;Tonga&quot;</td><td>&quot;2016-04-20 13:…</td><td>1</td><td>91</td><td>49</td><td>10</td><td>100</td></tr><tr><td>7</td><td>65</td><td>11</td><td>27</td><td>&quot;Versatile miss…</td><td>&quot;Mauricefurt&quot;</td><td>&quot;Comoros&quot;</td><td>&quot;2016-07-21 16:…</td><td>1</td><td>68</td><td>38</td><td>15</td><td>100</td></tr><tr><td>53</td><td>72</td><td>78</td><td>13</td><td>&quot;Extended leadi…</td><td>&quot;New Patrick&quot;</td><td>&quot;Montenegro&quot;</td><td>&quot;2016-03-06 11:…</td><td>1</td><td>91</td><td>26</td><td>89</td><td>52</td></tr><tr><td>43</td><td>17</td><td>78</td><td>83</td><td>&quot;Phased zero to…</td><td>&quot;Edwardsmouth&quot;</td><td>&quot;Isle of Man&quot;</td><td>&quot;2016-02-11 23:…</td><td>0</td><td>27</td><td>93</td><td>89</td><td>100</td></tr><tr><td>15</td><td>22</td><td>69</td><td>46</td><td>&quot;Front-line bif…</td><td>&quot;Nicholasland&quot;</td><td>&quot;Mayotte&quot;</td><td>&quot;2016-04-04 03:…</td><td>1</td><td>27</td><td>49</td><td>74</td><td>52</td></tr><tr><td>61</td><td>31</td><td>92</td><td>68</td><td>&quot;Fundamental mo…</td><td>&quot;Duffystad&quot;</td><td>&quot;Lebanon&quot;</td><td>&quot;2016-02-11 21:…</td><td>1</td><td>68</td><td>77</td><td>97</td><td>100</td></tr><tr><td>25</td><td>85</td><td>84</td><td>22</td><td>&quot;Grass-roots co…</td><td>&quot;New Darlene&quot;</td><td>&quot;Bosnia and Her…</td><td>&quot;2016-04-22 02:…</td><td>1</td><td>91</td><td>26</td><td>89</td><td>100</td></tr><tr><td>26</td><td>94</td><td>18</td><td>10</td><td>&quot;Expanded intan…</td><td>&quot;South Jessica&quot;</td><td>&quot;Mongolia&quot;</td><td>&quot;2016-02-01 17:…</td><td>1</td><td>100</td><td>26</td><td>22</td><td>100</td></tr><tr><td>30</td><td>1</td><td>18</td><td>53</td><td>&quot;Proactive band…</td><td>&quot;West Steven&quot;</td><td>&quot;Guatemala&quot;</td><td>&quot;2016-03-24 02:…</td><td>0</td><td>1</td><td>61</td><td>22</td><td>52</td></tr><tr><td>17</td><td>14</td><td>6</td><td>48</td><td>&quot;Virtual 5thgen…</td><td>&quot;Ronniemouth&quot;</td><td>&quot;Brazil&quot;</td><td>&quot;2016-06-03 21:…</td><td>1</td><td>27</td><td>49</td><td>6</td><td>52</td></tr></tbody></table></div>"
      ],
      "text/plain": [
       "shape: (1_000, 13)\n",
       "┌────────────┬────────────┬────────────┬────────────┬───┬────────────┬────────────┬────────────┬────────────┐\n",
       "│ Daily Time ┆ Age_percen ┆ Area Incom ┆ Daily      ┆ … ┆ Age Band_p ┆ Daily      ┆ Area       ┆ Test_Binar │\n",
       "│ Spent on   ┆ tile       ┆ e_percenti ┆ Internet   ┆   ┆ ercentile  ┆ Internet   ┆ Income Ban ┆ y_percenti │\n",
       "│ Site_perce ┆ ---        ┆ le         ┆ Usage_perc ┆   ┆ ---        ┆ Usage Band ┆ d_percenti ┆ le         │\n",
       "│ nt…        ┆ u8         ┆ ---        ┆ entile     ┆   ┆ u8         ┆ _percen…   ┆ le         ┆ ---        │\n",
       "│ ---        ┆            ┆ u8         ┆ ---        ┆   ┆            ┆ ---        ┆ ---        ┆ u8         │\n",
       "│ u8         ┆            ┆            ┆ u8         ┆   ┆            ┆ u8         ┆ u8         ┆            │\n",
       "╞════════════╪════════════╪════════════╪════════════╪═══╪════════════╪════════════╪════════════╪════════════╡\n",
       "│ 52         ┆ 53         ┆ 65         ┆ 99         ┆ … ┆ 68         ┆ 100        ┆ 74         ┆ 52         │\n",
       "│ 81         ┆ 37         ┆ 86         ┆ 56         ┆ … ┆ 68         ┆ 61         ┆ 89         ┆ 100        │\n",
       "│ 53         ┆ 14         ┆ 58         ┆ 91         ┆ … ┆ 27         ┆ 93         ┆ 58         ┆ 52         │\n",
       "│ 63         ┆ 27         ┆ 44         ┆ 95         ┆ … ┆ 27         ┆ 100        ┆ 45         ┆ 100        │\n",
       "│ …          ┆ …          ┆ …          ┆ …          ┆ … ┆ …          ┆ …          ┆ …          ┆ …          │\n",
       "│ 25         ┆ 85         ┆ 84         ┆ 22         ┆ … ┆ 91         ┆ 26         ┆ 89         ┆ 100        │\n",
       "│ 26         ┆ 94         ┆ 18         ┆ 10         ┆ … ┆ 100        ┆ 26         ┆ 22         ┆ 100        │\n",
       "│ 30         ┆ 1          ┆ 18         ┆ 53         ┆ … ┆ 1          ┆ 61         ┆ 22         ┆ 52         │\n",
       "│ 17         ┆ 14         ┆ 6          ┆ 48         ┆ … ┆ 27         ┆ 49         ┆ 6          ┆ 52         │\n",
       "└────────────┴────────────┴────────────┴────────────┴───┴────────────┴────────────┴────────────┴────────────┘"
      ]
     },
     "execution_count": 25,
     "metadata": {},
     "output_type": "execute_result"
    }
   ],
   "source": [
    "transformed_df "
   ]
  },
  {
   "cell_type": "code",
   "execution_count": 26,
   "metadata": {},
   "outputs": [
    {
     "data": {
      "text/html": [
       "<div><style>\n",
       ".dataframe > thead > tr > th,\n",
       ".dataframe > tbody > tr > td {\n",
       "  text-align: right;\n",
       "}\n",
       "</style>\n",
       "<small>shape: (37, 5)</small><table border=\"1\" class=\"dataframe\"><thead><tr><th>feature</th><th>percentile</th><th>min</th><th>max</th><th>cnt</th></tr><tr><td>str</td><td>u8</td><td>f64</td><td>f64</td><td>f64</td></tr></thead><tbody><tr><td>&quot;Age&quot;</td><td>1</td><td>19.0</td><td>19.0</td><td>19.0</td></tr><tr><td>&quot;Age&quot;</td><td>2</td><td>20.0</td><td>21.0</td><td>41.0</td></tr><tr><td>&quot;Age&quot;</td><td>4</td><td>22.0</td><td>22.0</td><td>22.0</td></tr><tr><td>&quot;Age&quot;</td><td>5</td><td>23.0</td><td>23.0</td><td>23.0</td></tr><tr><td>&quot;Age&quot;</td><td>8</td><td>24.0</td><td>24.0</td><td>24.0</td></tr><tr><td>&quot;Age&quot;</td><td>10</td><td>25.0</td><td>25.0</td><td>25.0</td></tr><tr><td>&quot;Age&quot;</td><td>14</td><td>26.0</td><td>26.0</td><td>26.0</td></tr><tr><td>&quot;Age&quot;</td><td>17</td><td>27.0</td><td>27.0</td><td>27.0</td></tr><tr><td>&quot;Age&quot;</td><td>22</td><td>28.0</td><td>28.0</td><td>28.0</td></tr><tr><td>&quot;Age&quot;</td><td>27</td><td>29.0</td><td>29.0</td><td>29.0</td></tr><tr><td>&quot;Age&quot;</td><td>31</td><td>30.0</td><td>30.0</td><td>30.0</td></tr><tr><td>&quot;Age&quot;</td><td>37</td><td>31.0</td><td>31.0</td><td>31.0</td></tr><tr><td>&hellip;</td><td>&hellip;</td><td>&hellip;</td><td>&hellip;</td><td>&hellip;</td></tr><tr><td>&quot;Age&quot;</td><td>85</td><td>45.0</td><td>45.0</td><td>45.0</td></tr><tr><td>&quot;Age&quot;</td><td>87</td><td>46.0</td><td>46.0</td><td>46.0</td></tr><tr><td>&quot;Age&quot;</td><td>88</td><td>47.0</td><td>47.0</td><td>47.0</td></tr><tr><td>&quot;Age&quot;</td><td>89</td><td>48.0</td><td>48.0</td><td>48.0</td></tr><tr><td>&quot;Age&quot;</td><td>91</td><td>49.0</td><td>49.0</td><td>49.0</td></tr><tr><td>&quot;Age&quot;</td><td>93</td><td>50.0</td><td>50.0</td><td>50.0</td></tr><tr><td>&quot;Age&quot;</td><td>94</td><td>51.0</td><td>51.0</td><td>51.0</td></tr><tr><td>&quot;Age&quot;</td><td>96</td><td>52.0</td><td>52.0</td><td>52.0</td></tr><tr><td>&quot;Age&quot;</td><td>97</td><td>53.0</td><td>53.0</td><td>53.0</td></tr><tr><td>&quot;Age&quot;</td><td>98</td><td>54.0</td><td>54.0</td><td>54.0</td></tr><tr><td>&quot;Age&quot;</td><td>99</td><td>55.0</td><td>57.0</td><td>168.0</td></tr><tr><td>&quot;Age&quot;</td><td>100</td><td>58.0</td><td>61.0</td><td>238.0</td></tr></tbody></table></div>"
      ],
      "text/plain": [
       "shape: (37, 5)\n",
       "┌─────────┬────────────┬──────┬──────┬───────┐\n",
       "│ feature ┆ percentile ┆ min  ┆ max  ┆ cnt   │\n",
       "│ ---     ┆ ---        ┆ ---  ┆ ---  ┆ ---   │\n",
       "│ str     ┆ u8         ┆ f64  ┆ f64  ┆ f64   │\n",
       "╞═════════╪════════════╪══════╪══════╪═══════╡\n",
       "│ Age     ┆ 1          ┆ 19.0 ┆ 19.0 ┆ 19.0  │\n",
       "│ Age     ┆ 2          ┆ 20.0 ┆ 21.0 ┆ 41.0  │\n",
       "│ Age     ┆ 4          ┆ 22.0 ┆ 22.0 ┆ 22.0  │\n",
       "│ Age     ┆ 5          ┆ 23.0 ┆ 23.0 ┆ 23.0  │\n",
       "│ …       ┆ …          ┆ …    ┆ …    ┆ …     │\n",
       "│ Age     ┆ 97         ┆ 53.0 ┆ 53.0 ┆ 53.0  │\n",
       "│ Age     ┆ 98         ┆ 54.0 ┆ 54.0 ┆ 54.0  │\n",
       "│ Age     ┆ 99         ┆ 55.0 ┆ 57.0 ┆ 168.0 │\n",
       "│ Age     ┆ 100        ┆ 58.0 ┆ 61.0 ┆ 238.0 │\n",
       "└─────────┴────────────┴──────┴──────┴───────┘"
      ]
     },
     "execution_count": 26,
     "metadata": {},
     "output_type": "execute_result"
    }
   ],
   "source": [
    "ref.filter(pl.col(\"feature\") == \"Age\")"
   ]
  }
 ],
 "metadata": {
  "kernelspec": {
   "display_name": "nodus",
   "language": "python",
   "name": "python3"
  },
  "language_info": {
   "codemirror_mode": {
    "name": "ipython",
    "version": 3
   },
   "file_extension": ".py",
   "mimetype": "text/x-python",
   "name": "python",
   "nbconvert_exporter": "python",
   "pygments_lexer": "ipython3",
   "version": "3.11.3"
  },
  "orig_nbformat": 4,
  "vscode": {
   "interpreter": {
    "hash": "74f1072b57173f378ab32b3582e04f0f79e785f166fd2fbdd636602a68526af8"
   }
  }
 },
 "nbformat": 4,
 "nbformat_minor": 2
}
